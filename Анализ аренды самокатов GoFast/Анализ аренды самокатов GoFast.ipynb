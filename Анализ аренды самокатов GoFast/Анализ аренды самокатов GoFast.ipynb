{
 "cells": [
  {
   "cell_type": "markdown",
   "id": "cd65a4de",
   "metadata": {},
   "source": [
    "# Анализ аренды самокатов GoFast"
   ]
  },
  {
   "cell_type": "markdown",
   "id": "0277056a",
   "metadata": {},
   "source": [
    "Продакт-менеджеры сервиса хотят увеличить количество пользователей с подпиской. Для этого они будут проводить различные акции, но сначала нужно выяснить несколько важных моментов.\n",
    "\n",
    "Вам передали данные о некоторых пользователях из нескольких городов, а также об их поездках. Проанализируйте данные и проверьте некоторые гипотезы, которые могут помочь бизнесу вырасти. \n",
    "\n",
    "Чтобы совершать поездки по городу, пользователи сервиса GoFast пользуются мобильным приложением. \n",
    "\n",
    "Сервисом можно пользоваться:\n",
    "- без подписки\n",
    " - абонентская плата отсутствует;\n",
    " - стоимость одной минуты поездки — 8 рублей;\n",
    " - стоимость старта (начала поездки) — 50 рублей;\n",
    "- с подпиской Ultra\n",
    " - абонентская плата — 199 рублей в месяц;\n",
    " - стоимость одной минуты поездки — 6 рублей;\n",
    " - стоимость старта — бесплатно.\n",
    "\n",
    "В основных данных есть информация о пользователях, их поездках и подписках.\n",
    "Описание данных:\n",
    "\n",
    "Пользователи — users_go.csv\n",
    "- `user_id` -\tуникальный идентификатор пользователя\n",
    "- `name` -\tимя пользователя\n",
    "- `age` - возраст\n",
    "- `city` -\tгород\n",
    "- `subscription_type` -\tтип подписки (free, ultra)\n",
    "\n",
    "Поездки — rides_go.csv\n",
    "- `user_id` -\tуникальный идентификатор пользователя\n",
    "- `distance` -\tрасстояние, которое пользователь проехал в текущей сессии (в метрах)\n",
    "- `duration` -\tпродолжительность сессии (в минутах) — время с того момента, как пользователь нажал кнопку «Начать поездку» до момента, как он нажал кнопку «Завершить поездку»\n",
    "- `date` -\tдата совершения поездки\n",
    "\n",
    "Подписки — subscriptions_go.csv\n",
    "- `subscription_type` -\tтип подписки\n",
    "- `minute_price` -\tстоимость одной минуты поездки по данной подписке\n",
    "- `start_ride_price` -\tстоимость начала поездки\n",
    "- `subscription_fee` -\tстоимость ежемесячного платежа"
   ]
  },
  {
   "cell_type": "markdown",
   "id": "3508d5ae",
   "metadata": {},
   "source": [
    "#### Шаг 1. Загрузка данных"
   ]
  },
  {
   "cell_type": "code",
   "execution_count": 1,
   "id": "0d55cea4",
   "metadata": {},
   "outputs": [],
   "source": [
    "import pandas as pd\n",
    "import matplotlib.pyplot as plt\n",
    "import seaborn as sns\n",
    "import numpy as np\n",
    "from scipy import stats as st\n",
    "from scipy.stats import binom"
   ]
  },
  {
   "cell_type": "code",
   "execution_count": 2,
   "id": "df940ffc",
   "metadata": {},
   "outputs": [],
   "source": [
    "users_go = pd.read_csv ('/datasets/users_go.csv')\n",
    "rides_go = pd.read_csv ('/datasets/rides_go.csv')\n",
    "subscriptions_go = pd.read_csv ('/datasets/subscriptions_go.csv')"
   ]
  },
  {
   "cell_type": "markdown",
   "id": "dc11dc68",
   "metadata": {},
   "source": [
    "##### 1.1 Информация о датафрейме users_go"
   ]
  },
  {
   "cell_type": "code",
   "execution_count": 3,
   "id": "0f8efec7",
   "metadata": {},
   "outputs": [
    {
     "data": {
      "text/html": [
       "<div>\n",
       "<style scoped>\n",
       "    .dataframe tbody tr th:only-of-type {\n",
       "        vertical-align: middle;\n",
       "    }\n",
       "\n",
       "    .dataframe tbody tr th {\n",
       "        vertical-align: top;\n",
       "    }\n",
       "\n",
       "    .dataframe thead th {\n",
       "        text-align: right;\n",
       "    }\n",
       "</style>\n",
       "<table border=\"1\" class=\"dataframe\">\n",
       "  <thead>\n",
       "    <tr style=\"text-align: right;\">\n",
       "      <th></th>\n",
       "      <th>user_id</th>\n",
       "      <th>name</th>\n",
       "      <th>age</th>\n",
       "      <th>city</th>\n",
       "      <th>subscription_type</th>\n",
       "    </tr>\n",
       "  </thead>\n",
       "  <tbody>\n",
       "    <tr>\n",
       "      <th>0</th>\n",
       "      <td>1</td>\n",
       "      <td>Кира</td>\n",
       "      <td>22</td>\n",
       "      <td>Тюмень</td>\n",
       "      <td>ultra</td>\n",
       "    </tr>\n",
       "    <tr>\n",
       "      <th>1</th>\n",
       "      <td>2</td>\n",
       "      <td>Станислав</td>\n",
       "      <td>31</td>\n",
       "      <td>Омск</td>\n",
       "      <td>ultra</td>\n",
       "    </tr>\n",
       "    <tr>\n",
       "      <th>2</th>\n",
       "      <td>3</td>\n",
       "      <td>Алексей</td>\n",
       "      <td>20</td>\n",
       "      <td>Москва</td>\n",
       "      <td>ultra</td>\n",
       "    </tr>\n",
       "    <tr>\n",
       "      <th>3</th>\n",
       "      <td>4</td>\n",
       "      <td>Константин</td>\n",
       "      <td>26</td>\n",
       "      <td>Ростов-на-Дону</td>\n",
       "      <td>ultra</td>\n",
       "    </tr>\n",
       "    <tr>\n",
       "      <th>4</th>\n",
       "      <td>5</td>\n",
       "      <td>Адель</td>\n",
       "      <td>28</td>\n",
       "      <td>Омск</td>\n",
       "      <td>ultra</td>\n",
       "    </tr>\n",
       "  </tbody>\n",
       "</table>\n",
       "</div>"
      ],
      "text/plain": [
       "   user_id        name  age            city subscription_type\n",
       "0        1        Кира   22          Тюмень             ultra\n",
       "1        2   Станислав   31            Омск             ultra\n",
       "2        3     Алексей   20          Москва             ultra\n",
       "3        4  Константин   26  Ростов-на-Дону             ultra\n",
       "4        5       Адель   28            Омск             ultra"
      ]
     },
     "execution_count": 3,
     "metadata": {},
     "output_type": "execute_result"
    }
   ],
   "source": [
    "users_go.head()"
   ]
  },
  {
   "cell_type": "code",
   "execution_count": 4,
   "id": "908cb9e5",
   "metadata": {},
   "outputs": [
    {
     "name": "stdout",
     "output_type": "stream",
     "text": [
      "<class 'pandas.core.frame.DataFrame'>\n",
      "RangeIndex: 1565 entries, 0 to 1564\n",
      "Data columns (total 5 columns):\n",
      " #   Column             Non-Null Count  Dtype \n",
      "---  ------             --------------  ----- \n",
      " 0   user_id            1565 non-null   int64 \n",
      " 1   name               1565 non-null   object\n",
      " 2   age                1565 non-null   int64 \n",
      " 3   city               1565 non-null   object\n",
      " 4   subscription_type  1565 non-null   object\n",
      "dtypes: int64(2), object(3)\n",
      "memory usage: 61.3+ KB\n"
     ]
    }
   ],
   "source": [
    "users_go.info()"
   ]
  },
  {
   "cell_type": "markdown",
   "id": "593eb060",
   "metadata": {},
   "source": [
    " Датафрейм users_go содержит данные о 1565 клиентах, их возрасте, городе аренды и тип подписки."
   ]
  },
  {
   "cell_type": "markdown",
   "id": "66a44782",
   "metadata": {},
   "source": [
    "##### 1.2 Информация о датафрейме rides_go"
   ]
  },
  {
   "cell_type": "code",
   "execution_count": 5,
   "id": "4d97cf9e",
   "metadata": {},
   "outputs": [
    {
     "data": {
      "text/html": [
       "<div>\n",
       "<style scoped>\n",
       "    .dataframe tbody tr th:only-of-type {\n",
       "        vertical-align: middle;\n",
       "    }\n",
       "\n",
       "    .dataframe tbody tr th {\n",
       "        vertical-align: top;\n",
       "    }\n",
       "\n",
       "    .dataframe thead th {\n",
       "        text-align: right;\n",
       "    }\n",
       "</style>\n",
       "<table border=\"1\" class=\"dataframe\">\n",
       "  <thead>\n",
       "    <tr style=\"text-align: right;\">\n",
       "      <th></th>\n",
       "      <th>user_id</th>\n",
       "      <th>distance</th>\n",
       "      <th>duration</th>\n",
       "      <th>date</th>\n",
       "    </tr>\n",
       "  </thead>\n",
       "  <tbody>\n",
       "    <tr>\n",
       "      <th>0</th>\n",
       "      <td>1</td>\n",
       "      <td>4409.919140</td>\n",
       "      <td>25.599769</td>\n",
       "      <td>2021-01-01</td>\n",
       "    </tr>\n",
       "    <tr>\n",
       "      <th>1</th>\n",
       "      <td>1</td>\n",
       "      <td>2617.592153</td>\n",
       "      <td>15.816871</td>\n",
       "      <td>2021-01-18</td>\n",
       "    </tr>\n",
       "    <tr>\n",
       "      <th>2</th>\n",
       "      <td>1</td>\n",
       "      <td>754.159807</td>\n",
       "      <td>6.232113</td>\n",
       "      <td>2021-04-20</td>\n",
       "    </tr>\n",
       "    <tr>\n",
       "      <th>3</th>\n",
       "      <td>1</td>\n",
       "      <td>2694.783254</td>\n",
       "      <td>18.511000</td>\n",
       "      <td>2021-08-11</td>\n",
       "    </tr>\n",
       "    <tr>\n",
       "      <th>4</th>\n",
       "      <td>1</td>\n",
       "      <td>4028.687306</td>\n",
       "      <td>26.265803</td>\n",
       "      <td>2021-08-28</td>\n",
       "    </tr>\n",
       "  </tbody>\n",
       "</table>\n",
       "</div>"
      ],
      "text/plain": [
       "   user_id     distance   duration        date\n",
       "0        1  4409.919140  25.599769  2021-01-01\n",
       "1        1  2617.592153  15.816871  2021-01-18\n",
       "2        1   754.159807   6.232113  2021-04-20\n",
       "3        1  2694.783254  18.511000  2021-08-11\n",
       "4        1  4028.687306  26.265803  2021-08-28"
      ]
     },
     "execution_count": 5,
     "metadata": {},
     "output_type": "execute_result"
    }
   ],
   "source": [
    "rides_go.head()"
   ]
  },
  {
   "cell_type": "code",
   "execution_count": 6,
   "id": "3e704ddf",
   "metadata": {},
   "outputs": [
    {
     "name": "stdout",
     "output_type": "stream",
     "text": [
      "<class 'pandas.core.frame.DataFrame'>\n",
      "RangeIndex: 18068 entries, 0 to 18067\n",
      "Data columns (total 4 columns):\n",
      " #   Column    Non-Null Count  Dtype  \n",
      "---  ------    --------------  -----  \n",
      " 0   user_id   18068 non-null  int64  \n",
      " 1   distance  18068 non-null  float64\n",
      " 2   duration  18068 non-null  float64\n",
      " 3   date      18068 non-null  object \n",
      "dtypes: float64(2), int64(1), object(1)\n",
      "memory usage: 564.8+ KB\n"
     ]
    }
   ],
   "source": [
    "rides_go.info()"
   ]
  },
  {
   "cell_type": "markdown",
   "id": "c25193ff",
   "metadata": {},
   "source": [
    "Датафрейм rides_go содержит данные о 18068 сессиях использования самокатов."
   ]
  },
  {
   "cell_type": "markdown",
   "id": "9380b8b8",
   "metadata": {},
   "source": [
    "##### 1.3 Информация о датафрейме subscriptions_go"
   ]
  },
  {
   "cell_type": "code",
   "execution_count": 7,
   "id": "93872e49",
   "metadata": {},
   "outputs": [
    {
     "data": {
      "text/html": [
       "<div>\n",
       "<style scoped>\n",
       "    .dataframe tbody tr th:only-of-type {\n",
       "        vertical-align: middle;\n",
       "    }\n",
       "\n",
       "    .dataframe tbody tr th {\n",
       "        vertical-align: top;\n",
       "    }\n",
       "\n",
       "    .dataframe thead th {\n",
       "        text-align: right;\n",
       "    }\n",
       "</style>\n",
       "<table border=\"1\" class=\"dataframe\">\n",
       "  <thead>\n",
       "    <tr style=\"text-align: right;\">\n",
       "      <th></th>\n",
       "      <th>subscription_type</th>\n",
       "      <th>minute_price</th>\n",
       "      <th>start_ride_price</th>\n",
       "      <th>subscription_fee</th>\n",
       "    </tr>\n",
       "  </thead>\n",
       "  <tbody>\n",
       "    <tr>\n",
       "      <th>0</th>\n",
       "      <td>free</td>\n",
       "      <td>8</td>\n",
       "      <td>50</td>\n",
       "      <td>0</td>\n",
       "    </tr>\n",
       "    <tr>\n",
       "      <th>1</th>\n",
       "      <td>ultra</td>\n",
       "      <td>6</td>\n",
       "      <td>0</td>\n",
       "      <td>199</td>\n",
       "    </tr>\n",
       "  </tbody>\n",
       "</table>\n",
       "</div>"
      ],
      "text/plain": [
       "  subscription_type  minute_price  start_ride_price  subscription_fee\n",
       "0              free             8                50                 0\n",
       "1             ultra             6                 0               199"
      ]
     },
     "execution_count": 7,
     "metadata": {},
     "output_type": "execute_result"
    }
   ],
   "source": [
    "subscriptions_go.head()"
   ]
  },
  {
   "cell_type": "code",
   "execution_count": 8,
   "id": "d48e49a6",
   "metadata": {},
   "outputs": [
    {
     "name": "stdout",
     "output_type": "stream",
     "text": [
      "<class 'pandas.core.frame.DataFrame'>\n",
      "RangeIndex: 2 entries, 0 to 1\n",
      "Data columns (total 4 columns):\n",
      " #   Column             Non-Null Count  Dtype \n",
      "---  ------             --------------  ----- \n",
      " 0   subscription_type  2 non-null      object\n",
      " 1   minute_price       2 non-null      int64 \n",
      " 2   start_ride_price   2 non-null      int64 \n",
      " 3   subscription_fee   2 non-null      int64 \n",
      "dtypes: int64(3), object(1)\n",
      "memory usage: 192.0+ bytes\n"
     ]
    }
   ],
   "source": [
    "subscriptions_go.info()"
   ]
  },
  {
   "cell_type": "markdown",
   "id": "9dde2d96",
   "metadata": {},
   "source": [
    "Датафрейм rides_go содержит данные о видах подписки и ее условиях."
   ]
  },
  {
   "cell_type": "markdown",
   "id": "43f462bd",
   "metadata": {},
   "source": [
    "#### Шаг 2. Предобработка данных"
   ]
  },
  {
   "cell_type": "markdown",
   "id": "6f3cbead",
   "metadata": {},
   "source": [
    "##### 2.1 Приведение столбца date к типу даты pandas"
   ]
  },
  {
   "cell_type": "code",
   "execution_count": 9,
   "id": "9f99ef5e",
   "metadata": {},
   "outputs": [],
   "source": [
    "rides_go['date'] = pd.to_datetime(rides_go['date'], format='%Y-%m-%d')"
   ]
  },
  {
   "cell_type": "markdown",
   "id": "438aa6aa",
   "metadata": {},
   "source": [
    "##### 2.2 Создание нового столбца с номером месяца на основе столбца date"
   ]
  },
  {
   "cell_type": "code",
   "execution_count": 10,
   "id": "aa47f4e1",
   "metadata": {},
   "outputs": [
    {
     "data": {
      "text/plain": [
       "Timestamp('2021-01-01 00:00:00')"
      ]
     },
     "execution_count": 10,
     "metadata": {},
     "output_type": "execute_result"
    }
   ],
   "source": [
    "rides_go['date'].min()"
   ]
  },
  {
   "cell_type": "code",
   "execution_count": 11,
   "id": "6a1d6481",
   "metadata": {},
   "outputs": [
    {
     "data": {
      "text/plain": [
       "Timestamp('2021-12-30 00:00:00')"
      ]
     },
     "execution_count": 11,
     "metadata": {},
     "output_type": "execute_result"
    }
   ],
   "source": [
    "rides_go['date'].max()"
   ]
  },
  {
   "cell_type": "code",
   "execution_count": 12,
   "id": "02149ad8",
   "metadata": {},
   "outputs": [],
   "source": [
    "rides_go['month'] = rides_go['date'].dt.month"
   ]
  },
  {
   "cell_type": "markdown",
   "id": "a92fbcca",
   "metadata": {},
   "source": [
    "Имеются данные за 2021 год "
   ]
  },
  {
   "cell_type": "markdown",
   "id": "e2c18fe6",
   "metadata": {},
   "source": [
    "##### 2.3 Проверка наличия пропущенных значений в датафреймах"
   ]
  },
  {
   "cell_type": "code",
   "execution_count": 13,
   "id": "34332fa7",
   "metadata": {},
   "outputs": [
    {
     "data": {
      "text/plain": [
       "user_id              0\n",
       "name                 0\n",
       "age                  0\n",
       "city                 0\n",
       "subscription_type    0\n",
       "dtype: int64"
      ]
     },
     "execution_count": 13,
     "metadata": {},
     "output_type": "execute_result"
    }
   ],
   "source": [
    "users_go.isna().sum()"
   ]
  },
  {
   "cell_type": "code",
   "execution_count": 14,
   "id": "c5fa384d",
   "metadata": {},
   "outputs": [
    {
     "data": {
      "text/plain": [
       "user_id     0\n",
       "distance    0\n",
       "duration    0\n",
       "date        0\n",
       "month       0\n",
       "dtype: int64"
      ]
     },
     "execution_count": 14,
     "metadata": {},
     "output_type": "execute_result"
    }
   ],
   "source": [
    "rides_go.isna().sum()"
   ]
  },
  {
   "cell_type": "code",
   "execution_count": 15,
   "id": "b221de59",
   "metadata": {},
   "outputs": [
    {
     "data": {
      "text/plain": [
       "subscription_type    0\n",
       "minute_price         0\n",
       "start_ride_price     0\n",
       "subscription_fee     0\n",
       "dtype: int64"
      ]
     },
     "execution_count": 15,
     "metadata": {},
     "output_type": "execute_result"
    }
   ],
   "source": [
    "subscriptions_go.isna().sum()"
   ]
  },
  {
   "cell_type": "markdown",
   "id": "9309af46",
   "metadata": {},
   "source": [
    "Прупущенных значений не обнаружено. "
   ]
  },
  {
   "cell_type": "markdown",
   "id": "855e1160",
   "metadata": {},
   "source": [
    "##### 2.4 Проверка наличия дубликатов  в датафреймах"
   ]
  },
  {
   "cell_type": "code",
   "execution_count": 16,
   "id": "1359e18b",
   "metadata": {},
   "outputs": [
    {
     "data": {
      "text/plain": [
       "31"
      ]
     },
     "execution_count": 16,
     "metadata": {},
     "output_type": "execute_result"
    }
   ],
   "source": [
    "users_go.duplicated().sum()"
   ]
  },
  {
   "cell_type": "code",
   "execution_count": 17,
   "id": "a49fa94f",
   "metadata": {},
   "outputs": [
    {
     "data": {
      "text/plain": [
       "0"
      ]
     },
     "execution_count": 17,
     "metadata": {},
     "output_type": "execute_result"
    }
   ],
   "source": [
    "rides_go.duplicated().sum()"
   ]
  },
  {
   "cell_type": "code",
   "execution_count": 18,
   "id": "d171a879",
   "metadata": {},
   "outputs": [
    {
     "data": {
      "text/plain": [
       "0"
      ]
     },
     "execution_count": 18,
     "metadata": {},
     "output_type": "execute_result"
    }
   ],
   "source": [
    "subscriptions_go.duplicated().sum()"
   ]
  },
  {
   "cell_type": "markdown",
   "id": "a20b4e3c",
   "metadata": {},
   "source": [
    "Найден 31 дубликат в датафрейме users_go."
   ]
  },
  {
   "cell_type": "markdown",
   "id": "ad80b4f5",
   "metadata": {},
   "source": [
    "##### 2.5 Удаление дубликатов "
   ]
  },
  {
   "cell_type": "code",
   "execution_count": 19,
   "id": "74e063ef",
   "metadata": {},
   "outputs": [],
   "source": [
    "users_go = users_go.drop_duplicates()"
   ]
  },
  {
   "cell_type": "markdown",
   "id": "724ae1bd",
   "metadata": {},
   "source": [
    "**Вывод предобработки данных:**\n",
    "\n",
    "Прупущенных значений не обнаружено.\n",
    "\n",
    "Обработан 31 дубликат в датафрейме users_go."
   ]
  },
  {
   "cell_type": "markdown",
   "id": "1367e711",
   "metadata": {},
   "source": [
    "#### Шаг 3. Исследовательский анализ данных"
   ]
  },
  {
   "cell_type": "markdown",
   "id": "c1af637a",
   "metadata": {},
   "source": [
    "##### 3.1 Частота встречаемости городов"
   ]
  },
  {
   "cell_type": "code",
   "execution_count": 20,
   "id": "e430daab",
   "metadata": {},
   "outputs": [
    {
     "data": {
      "image/png": "[encoded data removed]",
      "text/plain": [
       "<Figure size 432x288 with 1 Axes>"
      ]
     },
     "metadata": {
      "needs_background": "light"
     },
     "output_type": "display_data"
    }
   ],
   "source": [
    "ax = users_go['city'].value_counts().plot.bar()\n",
    "\n",
    "plt.title('Частота встречаемости городов')\n",
    "plt.xlabel('Город')\n",
    "plt.ylabel('Количество')\n",
    "plt.show()"
   ]
  },
  {
   "cell_type": "code",
   "execution_count": 21,
   "id": "22160a4d",
   "metadata": {},
   "outputs": [
    {
     "data": {
      "text/plain": [
       "Пятигорск         219\n",
       "Екатеринбург      204\n",
       "Ростов-на-Дону    198\n",
       "Краснодар         193\n",
       "Сочи              189\n",
       "Омск              183\n",
       "Тюмень            180\n",
       "Москва            168\n",
       "Name: city, dtype: int64"
      ]
     },
     "execution_count": 21,
     "metadata": {},
     "output_type": "execute_result"
    }
   ],
   "source": [
    "users_go['city'].value_counts()"
   ]
  },
  {
   "cell_type": "markdown",
   "id": "9e37be2a",
   "metadata": {},
   "source": [
    "Пятигорск, Екатеринбург и Ростов-на-Дону - лиды по количеству пользоватей, меньше всего пользователей в Москве."
   ]
  },
  {
   "cell_type": "markdown",
   "id": "f189aa35",
   "metadata": {},
   "source": [
    "##### 3.2 Cоотношение пользователей с подпиской и без подписки"
   ]
  },
  {
   "cell_type": "code",
   "execution_count": 22,
   "id": "125a0bbf",
   "metadata": {},
   "outputs": [
    {
     "data": {
      "image/png": "[encoded data removed]",
      "text/plain": [
       "<Figure size 432x288 with 1 Axes>"
      ]
     },
     "metadata": {},
     "output_type": "display_data"
    }
   ],
   "source": [
    "ax = users_go['subscription_type'].value_counts().plot(kind = 'pie',autopct = '%1.0f%%')\n",
    "\n",
    "plt.title('Количество пользователей с подпиской и без подписки')\n",
    "plt.show()"
   ]
  },
  {
   "cell_type": "markdown",
   "id": "03166109",
   "metadata": {},
   "source": [
    "Большая часть пользователей (54%) использует сервис без подписки."
   ]
  },
  {
   "cell_type": "markdown",
   "id": "b2df4c06",
   "metadata": {},
   "source": [
    "##### 3.3 Возраст пользователей"
   ]
  },
  {
   "cell_type": "code",
   "execution_count": 23,
   "id": "5cb5f508",
   "metadata": {},
   "outputs": [
    {
     "data": {
      "text/plain": [
       "count    1534.000000\n",
       "mean       24.903520\n",
       "std         4.572367\n",
       "min        12.000000\n",
       "25%        22.000000\n",
       "50%        25.000000\n",
       "75%        28.000000\n",
       "max        43.000000\n",
       "Name: age, dtype: float64"
      ]
     },
     "execution_count": 23,
     "metadata": {},
     "output_type": "execute_result"
    }
   ],
   "source": [
    "users_go['age'].describe()"
   ]
  },
  {
   "cell_type": "code",
   "execution_count": 24,
   "id": "a26893af",
   "metadata": {},
   "outputs": [
    {
     "data": {
      "image/png": "[encoded data removed]",
      "text/plain": [
       "<Figure size 432x288 with 1 Axes>"
      ]
     },
     "metadata": {
      "needs_background": "light"
     },
     "output_type": "display_data"
    }
   ],
   "source": [
    "plt.hist(users_go['age'], bins = 10)\n",
    "plt.title('Возраст пользователей')\n",
    "plt.xlabel('Возраст')\n",
    "plt.ylabel('Количество пользователей')\n",
    "plt.grid()\n",
    "plt.show()"
   ]
  },
  {
   "cell_type": "markdown",
   "id": "f21b9e93",
   "metadata": {},
   "source": [
    "Возраст пользователей самокатов от 12 до 43 лет. Средний возраст потребителя услуги 25 лет."
   ]
  },
  {
   "cell_type": "markdown",
   "id": "6913d08d",
   "metadata": {},
   "source": [
    "##### 3.4 Расстояние, которое пользователь преодолел за одну поездку"
   ]
  },
  {
   "cell_type": "code",
   "execution_count": 25,
   "id": "155617db",
   "metadata": {},
   "outputs": [
    {
     "data": {
      "text/plain": [
       "count    18068.000000\n",
       "mean      3070.659976\n",
       "std       1116.831209\n",
       "min          0.855683\n",
       "25%       2543.226360\n",
       "50%       3133.609994\n",
       "75%       3776.222735\n",
       "max       7211.007745\n",
       "Name: distance, dtype: float64"
      ]
     },
     "execution_count": 25,
     "metadata": {},
     "output_type": "execute_result"
    }
   ],
   "source": [
    "rides_go['distance'].describe()"
   ]
  },
  {
   "cell_type": "code",
   "execution_count": 26,
   "id": "90dcb2d8",
   "metadata": {},
   "outputs": [
    {
     "data": {
      "image/png": "[encoded data removed]",
      "text/plain": [
       "<Figure size 432x288 with 1 Axes>"
      ]
     },
     "metadata": {
      "needs_background": "light"
     },
     "output_type": "display_data"
    }
   ],
   "source": [
    "plt.hist(rides_go['distance'], bins = 30)\n",
    "plt.title('Расстояние, преодоленное за поездки')\n",
    "plt.xlabel('Растояние, м')\n",
    "plt.ylabel('Количество поездок')\n",
    "plt.grid()\n",
    "plt.show()"
   ]
  },
  {
   "cell_type": "code",
   "execution_count": 27,
   "id": "a3f31f34",
   "metadata": {},
   "outputs": [
    {
     "data": {
      "image/png": "[encoded data removed]",
      "text/plain": [
       "<Figure size 432x288 with 1 Axes>"
      ]
     },
     "metadata": {
      "needs_background": "light"
     },
     "output_type": "display_data"
    }
   ],
   "source": [
    "sns.boxplot(x=rides_go['distance'], color='blue')\n",
    "plt.title('Расстояние, преодоленное за одну поездку')\n",
    "plt.xlabel('Расстояние, м')\n",
    "_ = plt.xlim(0, 7500)"
   ]
  },
  {
   "cell_type": "markdown",
   "id": "8cf9c8be",
   "metadata": {},
   "source": [
    "За одну поездку пользователь преодолевает от 0,00086 (возможно часть пользователей начинают поедку и сразу заканчивают) до 7,2 км, чаще пользователи проезжают от 2,5 до 3,9 км."
   ]
  },
  {
   "cell_type": "markdown",
   "id": "6c1c23d1",
   "metadata": {},
   "source": [
    "##### 3.5 Продолжительность поездок"
   ]
  },
  {
   "cell_type": "code",
   "execution_count": 28,
   "id": "c9239ecc",
   "metadata": {},
   "outputs": [
    {
     "data": {
      "text/plain": [
       "count    18068.000000\n",
       "mean        17.805011\n",
       "std          6.091051\n",
       "min          0.500000\n",
       "25%         13.597563\n",
       "50%         17.678395\n",
       "75%         21.724800\n",
       "max         40.823963\n",
       "Name: duration, dtype: float64"
      ]
     },
     "execution_count": 28,
     "metadata": {},
     "output_type": "execute_result"
    }
   ],
   "source": [
    "rides_go['duration'].describe()"
   ]
  },
  {
   "cell_type": "code",
   "execution_count": 29,
   "id": "a3631e88",
   "metadata": {},
   "outputs": [
    {
     "data": {
      "image/png": "[encoded data removed]",
      "text/plain": [
       "<Figure size 432x288 with 1 Axes>"
      ]
     },
     "metadata": {
      "needs_background": "light"
     },
     "output_type": "display_data"
    }
   ],
   "source": [
    "plt.hist(rides_go['duration'], bins = 30)\n",
    "plt.title('Время, проведенное в поездках')\n",
    "plt.xlabel('Время, мин.')\n",
    "plt.ylabel('Количество поездок')\n",
    "plt.grid()\n",
    "plt.show()"
   ]
  },
  {
   "cell_type": "code",
   "execution_count": 30,
   "id": "52d60cc3",
   "metadata": {},
   "outputs": [
    {
     "data": {
      "image/png": "[encoded data removed]",
      "text/plain": [
       "<Figure size 432x288 with 1 Axes>"
      ]
     },
     "metadata": {
      "needs_background": "light"
     },
     "output_type": "display_data"
    }
   ],
   "source": [
    "sns.boxplot(x = rides_go['duration'], color='blue')\n",
    "plt.title('Время, проведенное в поездке')\n",
    "plt.xlabel('Время, мин.')\n",
    "_ = plt.xlim(0, 42)"
   ]
  },
  {
   "cell_type": "markdown",
   "id": "66a0e3c5",
   "metadata": {},
   "source": [
    "Пользователи используют самокат от 0,5 до 40,8 мин. Большинство поездок составляет от 14 до 22 мин."
   ]
  },
  {
   "cell_type": "markdown",
   "id": "21b5735c",
   "metadata": {},
   "source": [
    "**Вывод анализа даннных:**\n",
    "\n",
    "Пятигорск (219), Екатеринбург (204) и Ростов-на-Дону (198) - лиды по количеству пользоватей, меньше всего пользователей самокатов в Москве (168).\n",
    "\n",
    "Большая часть пользователей (54%) использует сервис без подписки.\n",
    "\n",
    "Возраст пользователей самокатов от 12 до 43 лет. Средний возраст потребителя услуги 25 лет.\n",
    "\n",
    "За одну поездку пользователь преодолевает от 0,00086 (возможно часть пользователей начинают поедку и сразу заканчивают) до 7,2 км, в основном пользователи проезжают от 2,5 до 3,9 км.\n",
    "\n",
    "Пользователи используют самокат от 0,5 до 40,8 мин. В основном продолжительность поездки составляет от 14 до 22 мин."
   ]
  },
  {
   "cell_type": "markdown",
   "id": "1002313e",
   "metadata": {},
   "source": [
    "#### Шаг 4. Объединение данных"
   ]
  },
  {
   "cell_type": "markdown",
   "id": "1cbe9934",
   "metadata": {},
   "source": [
    "##### 4.1 Объединение данных о пользователях, поездках и подписках в один датафрейм"
   ]
  },
  {
   "cell_type": "code",
   "execution_count": 31,
   "id": "4067c1ca",
   "metadata": {},
   "outputs": [],
   "source": [
    "all_go = users_go.merge(rides_go, on='user_id')"
   ]
  },
  {
   "cell_type": "code",
   "execution_count": 32,
   "id": "b988e874",
   "metadata": {},
   "outputs": [
    {
     "data": {
      "text/html": [
       "<div>\n",
       "<style scoped>\n",
       "    .dataframe tbody tr th:only-of-type {\n",
       "        vertical-align: middle;\n",
       "    }\n",
       "\n",
       "    .dataframe tbody tr th {\n",
       "        vertical-align: top;\n",
       "    }\n",
       "\n",
       "    .dataframe thead th {\n",
       "        text-align: right;\n",
       "    }\n",
       "</style>\n",
       "<table border=\"1\" class=\"dataframe\">\n",
       "  <thead>\n",
       "    <tr style=\"text-align: right;\">\n",
       "      <th></th>\n",
       "      <th>user_id</th>\n",
       "      <th>name</th>\n",
       "      <th>age</th>\n",
       "      <th>city</th>\n",
       "      <th>subscription_type</th>\n",
       "      <th>distance</th>\n",
       "      <th>duration</th>\n",
       "      <th>date</th>\n",
       "      <th>month</th>\n",
       "      <th>minute_price</th>\n",
       "      <th>start_ride_price</th>\n",
       "      <th>subscription_fee</th>\n",
       "    </tr>\n",
       "  </thead>\n",
       "  <tbody>\n",
       "    <tr>\n",
       "      <th>0</th>\n",
       "      <td>1</td>\n",
       "      <td>Кира</td>\n",
       "      <td>22</td>\n",
       "      <td>Тюмень</td>\n",
       "      <td>ultra</td>\n",
       "      <td>4409.919140</td>\n",
       "      <td>25.599769</td>\n",
       "      <td>2021-01-01</td>\n",
       "      <td>1</td>\n",
       "      <td>6</td>\n",
       "      <td>0</td>\n",
       "      <td>199</td>\n",
       "    </tr>\n",
       "    <tr>\n",
       "      <th>1</th>\n",
       "      <td>1</td>\n",
       "      <td>Кира</td>\n",
       "      <td>22</td>\n",
       "      <td>Тюмень</td>\n",
       "      <td>ultra</td>\n",
       "      <td>2617.592153</td>\n",
       "      <td>15.816871</td>\n",
       "      <td>2021-01-18</td>\n",
       "      <td>1</td>\n",
       "      <td>6</td>\n",
       "      <td>0</td>\n",
       "      <td>199</td>\n",
       "    </tr>\n",
       "    <tr>\n",
       "      <th>2</th>\n",
       "      <td>1</td>\n",
       "      <td>Кира</td>\n",
       "      <td>22</td>\n",
       "      <td>Тюмень</td>\n",
       "      <td>ultra</td>\n",
       "      <td>754.159807</td>\n",
       "      <td>6.232113</td>\n",
       "      <td>2021-04-20</td>\n",
       "      <td>4</td>\n",
       "      <td>6</td>\n",
       "      <td>0</td>\n",
       "      <td>199</td>\n",
       "    </tr>\n",
       "    <tr>\n",
       "      <th>3</th>\n",
       "      <td>1</td>\n",
       "      <td>Кира</td>\n",
       "      <td>22</td>\n",
       "      <td>Тюмень</td>\n",
       "      <td>ultra</td>\n",
       "      <td>2694.783254</td>\n",
       "      <td>18.511000</td>\n",
       "      <td>2021-08-11</td>\n",
       "      <td>8</td>\n",
       "      <td>6</td>\n",
       "      <td>0</td>\n",
       "      <td>199</td>\n",
       "    </tr>\n",
       "    <tr>\n",
       "      <th>4</th>\n",
       "      <td>1</td>\n",
       "      <td>Кира</td>\n",
       "      <td>22</td>\n",
       "      <td>Тюмень</td>\n",
       "      <td>ultra</td>\n",
       "      <td>4028.687306</td>\n",
       "      <td>26.265803</td>\n",
       "      <td>2021-08-28</td>\n",
       "      <td>8</td>\n",
       "      <td>6</td>\n",
       "      <td>0</td>\n",
       "      <td>199</td>\n",
       "    </tr>\n",
       "    <tr>\n",
       "      <th>5</th>\n",
       "      <td>1</td>\n",
       "      <td>Кира</td>\n",
       "      <td>22</td>\n",
       "      <td>Тюмень</td>\n",
       "      <td>ultra</td>\n",
       "      <td>2770.890808</td>\n",
       "      <td>16.650138</td>\n",
       "      <td>2021-10-09</td>\n",
       "      <td>10</td>\n",
       "      <td>6</td>\n",
       "      <td>0</td>\n",
       "      <td>199</td>\n",
       "    </tr>\n",
       "    <tr>\n",
       "      <th>6</th>\n",
       "      <td>1</td>\n",
       "      <td>Кира</td>\n",
       "      <td>22</td>\n",
       "      <td>Тюмень</td>\n",
       "      <td>ultra</td>\n",
       "      <td>3039.020292</td>\n",
       "      <td>14.927879</td>\n",
       "      <td>2021-10-19</td>\n",
       "      <td>10</td>\n",
       "      <td>6</td>\n",
       "      <td>0</td>\n",
       "      <td>199</td>\n",
       "    </tr>\n",
       "    <tr>\n",
       "      <th>7</th>\n",
       "      <td>1</td>\n",
       "      <td>Кира</td>\n",
       "      <td>22</td>\n",
       "      <td>Тюмень</td>\n",
       "      <td>ultra</td>\n",
       "      <td>2842.118050</td>\n",
       "      <td>23.117468</td>\n",
       "      <td>2021-11-06</td>\n",
       "      <td>11</td>\n",
       "      <td>6</td>\n",
       "      <td>0</td>\n",
       "      <td>199</td>\n",
       "    </tr>\n",
       "    <tr>\n",
       "      <th>8</th>\n",
       "      <td>1</td>\n",
       "      <td>Кира</td>\n",
       "      <td>22</td>\n",
       "      <td>Тюмень</td>\n",
       "      <td>ultra</td>\n",
       "      <td>3412.690668</td>\n",
       "      <td>15.238072</td>\n",
       "      <td>2021-11-14</td>\n",
       "      <td>11</td>\n",
       "      <td>6</td>\n",
       "      <td>0</td>\n",
       "      <td>199</td>\n",
       "    </tr>\n",
       "    <tr>\n",
       "      <th>9</th>\n",
       "      <td>1</td>\n",
       "      <td>Кира</td>\n",
       "      <td>22</td>\n",
       "      <td>Тюмень</td>\n",
       "      <td>ultra</td>\n",
       "      <td>748.690645</td>\n",
       "      <td>15.041884</td>\n",
       "      <td>2021-11-22</td>\n",
       "      <td>11</td>\n",
       "      <td>6</td>\n",
       "      <td>0</td>\n",
       "      <td>199</td>\n",
       "    </tr>\n",
       "    <tr>\n",
       "      <th>10</th>\n",
       "      <td>1</td>\n",
       "      <td>Кира</td>\n",
       "      <td>22</td>\n",
       "      <td>Тюмень</td>\n",
       "      <td>ultra</td>\n",
       "      <td>4031.020195</td>\n",
       "      <td>17.674448</td>\n",
       "      <td>2021-12-14</td>\n",
       "      <td>12</td>\n",
       "      <td>6</td>\n",
       "      <td>0</td>\n",
       "      <td>199</td>\n",
       "    </tr>\n",
       "    <tr>\n",
       "      <th>11</th>\n",
       "      <td>1</td>\n",
       "      <td>Кира</td>\n",
       "      <td>22</td>\n",
       "      <td>Тюмень</td>\n",
       "      <td>ultra</td>\n",
       "      <td>2720.609748</td>\n",
       "      <td>9.529463</td>\n",
       "      <td>2021-12-22</td>\n",
       "      <td>12</td>\n",
       "      <td>6</td>\n",
       "      <td>0</td>\n",
       "      <td>199</td>\n",
       "    </tr>\n",
       "    <tr>\n",
       "      <th>12</th>\n",
       "      <td>2</td>\n",
       "      <td>Станислав</td>\n",
       "      <td>31</td>\n",
       "      <td>Омск</td>\n",
       "      <td>ultra</td>\n",
       "      <td>3105.086678</td>\n",
       "      <td>24.307514</td>\n",
       "      <td>2021-03-15</td>\n",
       "      <td>3</td>\n",
       "      <td>6</td>\n",
       "      <td>0</td>\n",
       "      <td>199</td>\n",
       "    </tr>\n",
       "    <tr>\n",
       "      <th>13</th>\n",
       "      <td>2</td>\n",
       "      <td>Станислав</td>\n",
       "      <td>31</td>\n",
       "      <td>Омск</td>\n",
       "      <td>ultra</td>\n",
       "      <td>3053.519401</td>\n",
       "      <td>11.543256</td>\n",
       "      <td>2021-03-18</td>\n",
       "      <td>3</td>\n",
       "      <td>6</td>\n",
       "      <td>0</td>\n",
       "      <td>199</td>\n",
       "    </tr>\n",
       "    <tr>\n",
       "      <th>14</th>\n",
       "      <td>2</td>\n",
       "      <td>Станислав</td>\n",
       "      <td>31</td>\n",
       "      <td>Омск</td>\n",
       "      <td>ultra</td>\n",
       "      <td>4029.116927</td>\n",
       "      <td>25.109188</td>\n",
       "      <td>2021-03-23</td>\n",
       "      <td>3</td>\n",
       "      <td>6</td>\n",
       "      <td>0</td>\n",
       "      <td>199</td>\n",
       "    </tr>\n",
       "  </tbody>\n",
       "</table>\n",
       "</div>"
      ],
      "text/plain": [
       "    user_id       name  age    city subscription_type     distance   duration  \\\n",
       "0         1       Кира   22  Тюмень             ultra  4409.919140  25.599769   \n",
       "1         1       Кира   22  Тюмень             ultra  2617.592153  15.816871   \n",
       "2         1       Кира   22  Тюмень             ultra   754.159807   6.232113   \n",
       "3         1       Кира   22  Тюмень             ultra  2694.783254  18.511000   \n",
       "4         1       Кира   22  Тюмень             ultra  4028.687306  26.265803   \n",
       "5         1       Кира   22  Тюмень             ultra  2770.890808  16.650138   \n",
       "6         1       Кира   22  Тюмень             ultra  3039.020292  14.927879   \n",
       "7         1       Кира   22  Тюмень             ultra  2842.118050  23.117468   \n",
       "8         1       Кира   22  Тюмень             ultra  3412.690668  15.238072   \n",
       "9         1       Кира   22  Тюмень             ultra   748.690645  15.041884   \n",
       "10        1       Кира   22  Тюмень             ultra  4031.020195  17.674448   \n",
       "11        1       Кира   22  Тюмень             ultra  2720.609748   9.529463   \n",
       "12        2  Станислав   31    Омск             ultra  3105.086678  24.307514   \n",
       "13        2  Станислав   31    Омск             ultra  3053.519401  11.543256   \n",
       "14        2  Станислав   31    Омск             ultra  4029.116927  25.109188   \n",
       "\n",
       "         date  month  minute_price  start_ride_price  subscription_fee  \n",
       "0  2021-01-01      1             6                 0               199  \n",
       "1  2021-01-18      1             6                 0               199  \n",
       "2  2021-04-20      4             6                 0               199  \n",
       "3  2021-08-11      8             6                 0               199  \n",
       "4  2021-08-28      8             6                 0               199  \n",
       "5  2021-10-09     10             6                 0               199  \n",
       "6  2021-10-19     10             6                 0               199  \n",
       "7  2021-11-06     11             6                 0               199  \n",
       "8  2021-11-14     11             6                 0               199  \n",
       "9  2021-11-22     11             6                 0               199  \n",
       "10 2021-12-14     12             6                 0               199  \n",
       "11 2021-12-22     12             6                 0               199  \n",
       "12 2021-03-15      3             6                 0               199  \n",
       "13 2021-03-18      3             6                 0               199  \n",
       "14 2021-03-23      3             6                 0               199  "
      ]
     },
     "execution_count": 32,
     "metadata": {},
     "output_type": "execute_result"
    }
   ],
   "source": [
    "all_go = all_go.merge(subscriptions_go, on='subscription_type')\n",
    "all_go.head(15)"
   ]
  },
  {
   "cell_type": "code",
   "execution_count": 33,
   "id": "be5786e1",
   "metadata": {},
   "outputs": [
    {
     "name": "stdout",
     "output_type": "stream",
     "text": [
      "<class 'pandas.core.frame.DataFrame'>\n",
      "Int64Index: 18068 entries, 0 to 18067\n",
      "Data columns (total 12 columns):\n",
      " #   Column             Non-Null Count  Dtype         \n",
      "---  ------             --------------  -----         \n",
      " 0   user_id            18068 non-null  int64         \n",
      " 1   name               18068 non-null  object        \n",
      " 2   age                18068 non-null  int64         \n",
      " 3   city               18068 non-null  object        \n",
      " 4   subscription_type  18068 non-null  object        \n",
      " 5   distance           18068 non-null  float64       \n",
      " 6   duration           18068 non-null  float64       \n",
      " 7   date               18068 non-null  datetime64[ns]\n",
      " 8   month              18068 non-null  int64         \n",
      " 9   minute_price       18068 non-null  int64         \n",
      " 10  start_ride_price   18068 non-null  int64         \n",
      " 11  subscription_fee   18068 non-null  int64         \n",
      "dtypes: datetime64[ns](1), float64(2), int64(6), object(3)\n",
      "memory usage: 1.8+ MB\n"
     ]
    }
   ],
   "source": [
    "all_go.info()"
   ]
  },
  {
   "cell_type": "code",
   "execution_count": 34,
   "id": "52ad8872",
   "metadata": {},
   "outputs": [
    {
     "data": {
      "text/plain": [
       "0"
      ]
     },
     "execution_count": 34,
     "metadata": {},
     "output_type": "execute_result"
    }
   ],
   "source": [
    "all_go.duplicated().sum()"
   ]
  },
  {
   "cell_type": "code",
   "execution_count": 35,
   "id": "60e9362d",
   "metadata": {},
   "outputs": [
    {
     "data": {
      "text/plain": [
       "user_id              0\n",
       "name                 0\n",
       "age                  0\n",
       "city                 0\n",
       "subscription_type    0\n",
       "distance             0\n",
       "duration             0\n",
       "date                 0\n",
       "month                0\n",
       "minute_price         0\n",
       "start_ride_price     0\n",
       "subscription_fee     0\n",
       "dtype: int64"
      ]
     },
     "execution_count": 35,
     "metadata": {},
     "output_type": "execute_result"
    }
   ],
   "source": [
    "all_go.isna().sum()"
   ]
  },
  {
   "cell_type": "markdown",
   "id": "2997cd7a",
   "metadata": {},
   "source": [
    "Кол-во строк совпадает с количеством строк датафрейма rides_go, пропусков и дубликатов не обнаружено. "
   ]
  },
  {
   "cell_type": "markdown",
   "id": "3b70d86d",
   "metadata": {},
   "source": [
    "##### 4.2 Создание датафрейма c данными о пользователях БЕЗ подписки и визуализация информации о расстоянии и времени поездок для пользователей "
   ]
  },
  {
   "cell_type": "code",
   "execution_count": 36,
   "id": "3c2f94a2",
   "metadata": {},
   "outputs": [
    {
     "data": {
      "text/html": [
       "<div>\n",
       "<style scoped>\n",
       "    .dataframe tbody tr th:only-of-type {\n",
       "        vertical-align: middle;\n",
       "    }\n",
       "\n",
       "    .dataframe tbody tr th {\n",
       "        vertical-align: top;\n",
       "    }\n",
       "\n",
       "    .dataframe thead th {\n",
       "        text-align: right;\n",
       "    }\n",
       "</style>\n",
       "<table border=\"1\" class=\"dataframe\">\n",
       "  <thead>\n",
       "    <tr style=\"text-align: right;\">\n",
       "      <th></th>\n",
       "      <th>user_id</th>\n",
       "      <th>name</th>\n",
       "      <th>age</th>\n",
       "      <th>city</th>\n",
       "      <th>subscription_type</th>\n",
       "      <th>distance</th>\n",
       "      <th>duration</th>\n",
       "      <th>date</th>\n",
       "      <th>month</th>\n",
       "      <th>minute_price</th>\n",
       "      <th>start_ride_price</th>\n",
       "      <th>subscription_fee</th>\n",
       "    </tr>\n",
       "  </thead>\n",
       "  <tbody>\n",
       "    <tr>\n",
       "      <th>6500</th>\n",
       "      <td>700</td>\n",
       "      <td>Айдар</td>\n",
       "      <td>22</td>\n",
       "      <td>Омск</td>\n",
       "      <td>free</td>\n",
       "      <td>2515.690719</td>\n",
       "      <td>14.944286</td>\n",
       "      <td>2021-01-02</td>\n",
       "      <td>1</td>\n",
       "      <td>8</td>\n",
       "      <td>50</td>\n",
       "      <td>0</td>\n",
       "    </tr>\n",
       "    <tr>\n",
       "      <th>6501</th>\n",
       "      <td>700</td>\n",
       "      <td>Айдар</td>\n",
       "      <td>22</td>\n",
       "      <td>Омск</td>\n",
       "      <td>free</td>\n",
       "      <td>846.932642</td>\n",
       "      <td>16.234663</td>\n",
       "      <td>2021-02-01</td>\n",
       "      <td>2</td>\n",
       "      <td>8</td>\n",
       "      <td>50</td>\n",
       "      <td>0</td>\n",
       "    </tr>\n",
       "    <tr>\n",
       "      <th>6502</th>\n",
       "      <td>700</td>\n",
       "      <td>Айдар</td>\n",
       "      <td>22</td>\n",
       "      <td>Омск</td>\n",
       "      <td>free</td>\n",
       "      <td>4004.434142</td>\n",
       "      <td>20.016628</td>\n",
       "      <td>2021-02-04</td>\n",
       "      <td>2</td>\n",
       "      <td>8</td>\n",
       "      <td>50</td>\n",
       "      <td>0</td>\n",
       "    </tr>\n",
       "    <tr>\n",
       "      <th>6503</th>\n",
       "      <td>700</td>\n",
       "      <td>Айдар</td>\n",
       "      <td>22</td>\n",
       "      <td>Омск</td>\n",
       "      <td>free</td>\n",
       "      <td>1205.911290</td>\n",
       "      <td>9.782872</td>\n",
       "      <td>2021-02-10</td>\n",
       "      <td>2</td>\n",
       "      <td>8</td>\n",
       "      <td>50</td>\n",
       "      <td>0</td>\n",
       "    </tr>\n",
       "    <tr>\n",
       "      <th>6504</th>\n",
       "      <td>700</td>\n",
       "      <td>Айдар</td>\n",
       "      <td>22</td>\n",
       "      <td>Омск</td>\n",
       "      <td>free</td>\n",
       "      <td>3047.379435</td>\n",
       "      <td>17.427673</td>\n",
       "      <td>2021-02-14</td>\n",
       "      <td>2</td>\n",
       "      <td>8</td>\n",
       "      <td>50</td>\n",
       "      <td>0</td>\n",
       "    </tr>\n",
       "  </tbody>\n",
       "</table>\n",
       "</div>"
      ],
      "text/plain": [
       "      user_id   name  age  city subscription_type     distance   duration  \\\n",
       "6500      700  Айдар   22  Омск              free  2515.690719  14.944286   \n",
       "6501      700  Айдар   22  Омск              free   846.932642  16.234663   \n",
       "6502      700  Айдар   22  Омск              free  4004.434142  20.016628   \n",
       "6503      700  Айдар   22  Омск              free  1205.911290   9.782872   \n",
       "6504      700  Айдар   22  Омск              free  3047.379435  17.427673   \n",
       "\n",
       "           date  month  minute_price  start_ride_price  subscription_fee  \n",
       "6500 2021-01-02      1             8                50                 0  \n",
       "6501 2021-02-01      2             8                50                 0  \n",
       "6502 2021-02-04      2             8                50                 0  \n",
       "6503 2021-02-10      2             8                50                 0  \n",
       "6504 2021-02-14      2             8                50                 0  "
      ]
     },
     "execution_count": 36,
     "metadata": {},
     "output_type": "execute_result"
    }
   ],
   "source": [
    "sub_free  = all_go[all_go['subscription_type'] == 'free']\n",
    "sub_free.head()"
   ]
  },
  {
   "cell_type": "code",
   "execution_count": 37,
   "id": "71bce372",
   "metadata": {},
   "outputs": [
    {
     "data": {
      "text/html": [
       "<div>\n",
       "<style scoped>\n",
       "    .dataframe tbody tr th:only-of-type {\n",
       "        vertical-align: middle;\n",
       "    }\n",
       "\n",
       "    .dataframe tbody tr th {\n",
       "        vertical-align: top;\n",
       "    }\n",
       "\n",
       "    .dataframe thead th {\n",
       "        text-align: right;\n",
       "    }\n",
       "</style>\n",
       "<table border=\"1\" class=\"dataframe\">\n",
       "  <thead>\n",
       "    <tr style=\"text-align: right;\">\n",
       "      <th></th>\n",
       "      <th>user_id</th>\n",
       "      <th>age</th>\n",
       "      <th>distance</th>\n",
       "      <th>duration</th>\n",
       "      <th>month</th>\n",
       "      <th>minute_price</th>\n",
       "      <th>start_ride_price</th>\n",
       "      <th>subscription_fee</th>\n",
       "    </tr>\n",
       "  </thead>\n",
       "  <tbody>\n",
       "    <tr>\n",
       "      <th>count</th>\n",
       "      <td>11568.000000</td>\n",
       "      <td>11568.000000</td>\n",
       "      <td>11568.000000</td>\n",
       "      <td>11568.000000</td>\n",
       "      <td>11568.000000</td>\n",
       "      <td>11568.0</td>\n",
       "      <td>11568.0</td>\n",
       "      <td>11568.0</td>\n",
       "    </tr>\n",
       "    <tr>\n",
       "      <th>mean</th>\n",
       "      <td>1120.527230</td>\n",
       "      <td>24.893326</td>\n",
       "      <td>3045.495282</td>\n",
       "      <td>17.390909</td>\n",
       "      <td>6.522994</td>\n",
       "      <td>8.0</td>\n",
       "      <td>50.0</td>\n",
       "      <td>0.0</td>\n",
       "    </tr>\n",
       "    <tr>\n",
       "      <th>std</th>\n",
       "      <td>241.165628</td>\n",
       "      <td>4.481100</td>\n",
       "      <td>1246.173806</td>\n",
       "      <td>6.326803</td>\n",
       "      <td>3.449770</td>\n",
       "      <td>0.0</td>\n",
       "      <td>0.0</td>\n",
       "      <td>0.0</td>\n",
       "    </tr>\n",
       "    <tr>\n",
       "      <th>min</th>\n",
       "      <td>700.000000</td>\n",
       "      <td>12.000000</td>\n",
       "      <td>0.855683</td>\n",
       "      <td>0.500000</td>\n",
       "      <td>1.000000</td>\n",
       "      <td>8.0</td>\n",
       "      <td>50.0</td>\n",
       "      <td>0.0</td>\n",
       "    </tr>\n",
       "    <tr>\n",
       "      <th>25%</th>\n",
       "      <td>915.000000</td>\n",
       "      <td>22.000000</td>\n",
       "      <td>2366.562689</td>\n",
       "      <td>12.958437</td>\n",
       "      <td>4.000000</td>\n",
       "      <td>8.0</td>\n",
       "      <td>50.0</td>\n",
       "      <td>0.0</td>\n",
       "    </tr>\n",
       "    <tr>\n",
       "      <th>50%</th>\n",
       "      <td>1123.000000</td>\n",
       "      <td>25.000000</td>\n",
       "      <td>3114.648465</td>\n",
       "      <td>17.326890</td>\n",
       "      <td>7.000000</td>\n",
       "      <td>8.0</td>\n",
       "      <td>50.0</td>\n",
       "      <td>0.0</td>\n",
       "    </tr>\n",
       "    <tr>\n",
       "      <th>75%</th>\n",
       "      <td>1328.000000</td>\n",
       "      <td>28.000000</td>\n",
       "      <td>3905.697894</td>\n",
       "      <td>21.594071</td>\n",
       "      <td>9.000000</td>\n",
       "      <td>8.0</td>\n",
       "      <td>50.0</td>\n",
       "      <td>0.0</td>\n",
       "    </tr>\n",
       "    <tr>\n",
       "      <th>max</th>\n",
       "      <td>1534.000000</td>\n",
       "      <td>43.000000</td>\n",
       "      <td>7211.007745</td>\n",
       "      <td>34.948498</td>\n",
       "      <td>12.000000</td>\n",
       "      <td>8.0</td>\n",
       "      <td>50.0</td>\n",
       "      <td>0.0</td>\n",
       "    </tr>\n",
       "  </tbody>\n",
       "</table>\n",
       "</div>"
      ],
      "text/plain": [
       "            user_id           age      distance      duration         month  \\\n",
       "count  11568.000000  11568.000000  11568.000000  11568.000000  11568.000000   \n",
       "mean    1120.527230     24.893326   3045.495282     17.390909      6.522994   \n",
       "std      241.165628      4.481100   1246.173806      6.326803      3.449770   \n",
       "min      700.000000     12.000000      0.855683      0.500000      1.000000   \n",
       "25%      915.000000     22.000000   2366.562689     12.958437      4.000000   \n",
       "50%     1123.000000     25.000000   3114.648465     17.326890      7.000000   \n",
       "75%     1328.000000     28.000000   3905.697894     21.594071      9.000000   \n",
       "max     1534.000000     43.000000   7211.007745     34.948498     12.000000   \n",
       "\n",
       "       minute_price  start_ride_price  subscription_fee  \n",
       "count       11568.0           11568.0           11568.0  \n",
       "mean            8.0              50.0               0.0  \n",
       "std             0.0               0.0               0.0  \n",
       "min             8.0              50.0               0.0  \n",
       "25%             8.0              50.0               0.0  \n",
       "50%             8.0              50.0               0.0  \n",
       "75%             8.0              50.0               0.0  \n",
       "max             8.0              50.0               0.0  "
      ]
     },
     "execution_count": 37,
     "metadata": {},
     "output_type": "execute_result"
    }
   ],
   "source": [
    "sub_free.describe()"
   ]
  },
  {
   "cell_type": "code",
   "execution_count": 38,
   "id": "aececfcf",
   "metadata": {},
   "outputs": [
    {
     "data": {
      "image/png": "[encoded data removed]",
      "text/plain": [
       "<Figure size 432x288 with 1 Axes>"
      ]
     },
     "metadata": {
      "needs_background": "light"
     },
     "output_type": "display_data"
    },
    {
     "data": {
      "text/plain": [
       "<Figure size 1440x1440 with 0 Axes>"
      ]
     },
     "metadata": {},
     "output_type": "display_data"
    }
   ],
   "source": [
    "plt.hist(sub_free['distance'], bins=30, range = (0, 7300))\n",
    "plt.title('Расстояние поездок пользователей без подписки')\n",
    "plt.xlabel('Расстояние, м')\n",
    "plt.ylabel('Количество поездок')\n",
    "plt.figure(figsize=(20,20))\n",
    "plt.show()"
   ]
  },
  {
   "cell_type": "markdown",
   "id": "6d545f26",
   "metadata": {},
   "source": [
    "Пользователи без подписки могли часто использовать самокаты для поездок на короткие расстояния, поэтому возник пик "
   ]
  },
  {
   "cell_type": "code",
   "execution_count": 39,
   "id": "2e27a0b3",
   "metadata": {},
   "outputs": [
    {
     "data": {
      "image/png": "[encoded data removed]",
      "text/plain": [
       "<Figure size 432x288 with 1 Axes>"
      ]
     },
     "metadata": {
      "needs_background": "light"
     },
     "output_type": "display_data"
    },
    {
     "data": {
      "text/plain": [
       "<Figure size 1440x1440 with 0 Axes>"
      ]
     },
     "metadata": {},
     "output_type": "display_data"
    }
   ],
   "source": [
    "plt.hist(sub_free['duration'], bins=40, range = (0, 35))\n",
    "plt.title('Время поездок пользователей без подписки')\n",
    "plt.xlabel('Время поездки, мин.')\n",
    "plt.ylabel('Количество поездок')\n",
    "plt.figure(figsize=(20,20))\n",
    "plt.show()"
   ]
  },
  {
   "cell_type": "code",
   "execution_count": 40,
   "id": "6c8cabe6",
   "metadata": {},
   "outputs": [
    {
     "data": {
      "image/png": "[encoded data removed]",
      "text/plain": [
       "<Figure size 432x288 with 1 Axes>"
      ]
     },
     "metadata": {
      "needs_background": "light"
     },
     "output_type": "display_data"
    },
    {
     "data": {
      "text/plain": [
       "<Figure size 1440x1440 with 0 Axes>"
      ]
     },
     "metadata": {},
     "output_type": "display_data"
    }
   ],
   "source": [
    "plt.hist(sub_free['duration'], bins=30, range = (0, 5))\n",
    "plt.title('Время поездок пользователей без подписки')\n",
    "plt.xlabel('Время поездки, мин.')\n",
    "plt.ylabel('Количество поездок')\n",
    "plt.figure(figsize=(20,20))\n",
    "plt.show()"
   ]
  },
  {
   "cell_type": "markdown",
   "id": "3b0dd747",
   "metadata": {},
   "source": [
    "Есть более 100 поездок с продолжительностью меньше минуты, не стоит включать эти данные в анализ"
   ]
  },
  {
   "cell_type": "markdown",
   "id": "4abd9977",
   "metadata": {},
   "source": [
    "Пользователи без подписки в основном проезжают от 2 до 5 км и тратят от 10 до 30 мин."
   ]
  },
  {
   "cell_type": "markdown",
   "id": "2a056543",
   "metadata": {},
   "source": [
    "##### 4.3 Создание датафрейма с данными о пользователях С подпиской и визуализация информации о расстоянии и времени поездок для пользователей "
   ]
  },
  {
   "cell_type": "code",
   "execution_count": 41,
   "id": "123604b1",
   "metadata": {},
   "outputs": [
    {
     "data": {
      "text/html": [
       "<div>\n",
       "<style scoped>\n",
       "    .dataframe tbody tr th:only-of-type {\n",
       "        vertical-align: middle;\n",
       "    }\n",
       "\n",
       "    .dataframe tbody tr th {\n",
       "        vertical-align: top;\n",
       "    }\n",
       "\n",
       "    .dataframe thead th {\n",
       "        text-align: right;\n",
       "    }\n",
       "</style>\n",
       "<table border=\"1\" class=\"dataframe\">\n",
       "  <thead>\n",
       "    <tr style=\"text-align: right;\">\n",
       "      <th></th>\n",
       "      <th>user_id</th>\n",
       "      <th>name</th>\n",
       "      <th>age</th>\n",
       "      <th>city</th>\n",
       "      <th>subscription_type</th>\n",
       "      <th>distance</th>\n",
       "      <th>duration</th>\n",
       "      <th>date</th>\n",
       "      <th>month</th>\n",
       "      <th>minute_price</th>\n",
       "      <th>start_ride_price</th>\n",
       "      <th>subscription_fee</th>\n",
       "    </tr>\n",
       "  </thead>\n",
       "  <tbody>\n",
       "    <tr>\n",
       "      <th>0</th>\n",
       "      <td>1</td>\n",
       "      <td>Кира</td>\n",
       "      <td>22</td>\n",
       "      <td>Тюмень</td>\n",
       "      <td>ultra</td>\n",
       "      <td>4409.919140</td>\n",
       "      <td>25.599769</td>\n",
       "      <td>2021-01-01</td>\n",
       "      <td>1</td>\n",
       "      <td>6</td>\n",
       "      <td>0</td>\n",
       "      <td>199</td>\n",
       "    </tr>\n",
       "    <tr>\n",
       "      <th>1</th>\n",
       "      <td>1</td>\n",
       "      <td>Кира</td>\n",
       "      <td>22</td>\n",
       "      <td>Тюмень</td>\n",
       "      <td>ultra</td>\n",
       "      <td>2617.592153</td>\n",
       "      <td>15.816871</td>\n",
       "      <td>2021-01-18</td>\n",
       "      <td>1</td>\n",
       "      <td>6</td>\n",
       "      <td>0</td>\n",
       "      <td>199</td>\n",
       "    </tr>\n",
       "    <tr>\n",
       "      <th>2</th>\n",
       "      <td>1</td>\n",
       "      <td>Кира</td>\n",
       "      <td>22</td>\n",
       "      <td>Тюмень</td>\n",
       "      <td>ultra</td>\n",
       "      <td>754.159807</td>\n",
       "      <td>6.232113</td>\n",
       "      <td>2021-04-20</td>\n",
       "      <td>4</td>\n",
       "      <td>6</td>\n",
       "      <td>0</td>\n",
       "      <td>199</td>\n",
       "    </tr>\n",
       "    <tr>\n",
       "      <th>3</th>\n",
       "      <td>1</td>\n",
       "      <td>Кира</td>\n",
       "      <td>22</td>\n",
       "      <td>Тюмень</td>\n",
       "      <td>ultra</td>\n",
       "      <td>2694.783254</td>\n",
       "      <td>18.511000</td>\n",
       "      <td>2021-08-11</td>\n",
       "      <td>8</td>\n",
       "      <td>6</td>\n",
       "      <td>0</td>\n",
       "      <td>199</td>\n",
       "    </tr>\n",
       "    <tr>\n",
       "      <th>4</th>\n",
       "      <td>1</td>\n",
       "      <td>Кира</td>\n",
       "      <td>22</td>\n",
       "      <td>Тюмень</td>\n",
       "      <td>ultra</td>\n",
       "      <td>4028.687306</td>\n",
       "      <td>26.265803</td>\n",
       "      <td>2021-08-28</td>\n",
       "      <td>8</td>\n",
       "      <td>6</td>\n",
       "      <td>0</td>\n",
       "      <td>199</td>\n",
       "    </tr>\n",
       "  </tbody>\n",
       "</table>\n",
       "</div>"
      ],
      "text/plain": [
       "   user_id  name  age    city subscription_type     distance   duration  \\\n",
       "0        1  Кира   22  Тюмень             ultra  4409.919140  25.599769   \n",
       "1        1  Кира   22  Тюмень             ultra  2617.592153  15.816871   \n",
       "2        1  Кира   22  Тюмень             ultra   754.159807   6.232113   \n",
       "3        1  Кира   22  Тюмень             ultra  2694.783254  18.511000   \n",
       "4        1  Кира   22  Тюмень             ultra  4028.687306  26.265803   \n",
       "\n",
       "        date  month  minute_price  start_ride_price  subscription_fee  \n",
       "0 2021-01-01      1             6                 0               199  \n",
       "1 2021-01-18      1             6                 0               199  \n",
       "2 2021-04-20      4             6                 0               199  \n",
       "3 2021-08-11      8             6                 0               199  \n",
       "4 2021-08-28      8             6                 0               199  "
      ]
     },
     "execution_count": 41,
     "metadata": {},
     "output_type": "execute_result"
    }
   ],
   "source": [
    "sub_ultra  = all_go[all_go['subscription_type'] == 'ultra']\n",
    "sub_ultra.head()"
   ]
  },
  {
   "cell_type": "code",
   "execution_count": 42,
   "id": "ace21c80",
   "metadata": {},
   "outputs": [
    {
     "data": {
      "text/html": [
       "<div>\n",
       "<style scoped>\n",
       "    .dataframe tbody tr th:only-of-type {\n",
       "        vertical-align: middle;\n",
       "    }\n",
       "\n",
       "    .dataframe tbody tr th {\n",
       "        vertical-align: top;\n",
       "    }\n",
       "\n",
       "    .dataframe thead th {\n",
       "        text-align: right;\n",
       "    }\n",
       "</style>\n",
       "<table border=\"1\" class=\"dataframe\">\n",
       "  <thead>\n",
       "    <tr style=\"text-align: right;\">\n",
       "      <th></th>\n",
       "      <th>user_id</th>\n",
       "      <th>age</th>\n",
       "      <th>distance</th>\n",
       "      <th>duration</th>\n",
       "      <th>month</th>\n",
       "      <th>minute_price</th>\n",
       "      <th>start_ride_price</th>\n",
       "      <th>subscription_fee</th>\n",
       "    </tr>\n",
       "  </thead>\n",
       "  <tbody>\n",
       "    <tr>\n",
       "      <th>count</th>\n",
       "      <td>6500.000000</td>\n",
       "      <td>6500.000000</td>\n",
       "      <td>6500.000000</td>\n",
       "      <td>6500.000000</td>\n",
       "      <td>6500.000000</td>\n",
       "      <td>6500.0</td>\n",
       "      <td>6500.0</td>\n",
       "      <td>6500.0</td>\n",
       "    </tr>\n",
       "    <tr>\n",
       "      <th>mean</th>\n",
       "      <td>348.725385</td>\n",
       "      <td>24.892615</td>\n",
       "      <td>3115.445388</td>\n",
       "      <td>18.541985</td>\n",
       "      <td>6.422308</td>\n",
       "      <td>6.0</td>\n",
       "      <td>0.0</td>\n",
       "      <td>199.0</td>\n",
       "    </tr>\n",
       "    <tr>\n",
       "      <th>std</th>\n",
       "      <td>201.099339</td>\n",
       "      <td>4.757208</td>\n",
       "      <td>836.895330</td>\n",
       "      <td>5.572048</td>\n",
       "      <td>3.414616</td>\n",
       "      <td>0.0</td>\n",
       "      <td>0.0</td>\n",
       "      <td>0.0</td>\n",
       "    </tr>\n",
       "    <tr>\n",
       "      <th>min</th>\n",
       "      <td>1.000000</td>\n",
       "      <td>12.000000</td>\n",
       "      <td>244.210438</td>\n",
       "      <td>3.760353</td>\n",
       "      <td>1.000000</td>\n",
       "      <td>6.0</td>\n",
       "      <td>0.0</td>\n",
       "      <td>199.0</td>\n",
       "    </tr>\n",
       "    <tr>\n",
       "      <th>25%</th>\n",
       "      <td>175.000000</td>\n",
       "      <td>22.000000</td>\n",
       "      <td>2785.444017</td>\n",
       "      <td>14.524654</td>\n",
       "      <td>4.000000</td>\n",
       "      <td>6.0</td>\n",
       "      <td>0.0</td>\n",
       "      <td>199.0</td>\n",
       "    </tr>\n",
       "    <tr>\n",
       "      <th>50%</th>\n",
       "      <td>351.000000</td>\n",
       "      <td>25.000000</td>\n",
       "      <td>3148.637229</td>\n",
       "      <td>18.178153</td>\n",
       "      <td>6.000000</td>\n",
       "      <td>6.0</td>\n",
       "      <td>0.0</td>\n",
       "      <td>199.0</td>\n",
       "    </tr>\n",
       "    <tr>\n",
       "      <th>75%</th>\n",
       "      <td>525.000000</td>\n",
       "      <td>28.000000</td>\n",
       "      <td>3560.574425</td>\n",
       "      <td>21.884129</td>\n",
       "      <td>9.000000</td>\n",
       "      <td>6.0</td>\n",
       "      <td>0.0</td>\n",
       "      <td>199.0</td>\n",
       "    </tr>\n",
       "    <tr>\n",
       "      <th>max</th>\n",
       "      <td>699.000000</td>\n",
       "      <td>38.000000</td>\n",
       "      <td>5699.769662</td>\n",
       "      <td>40.823963</td>\n",
       "      <td>12.000000</td>\n",
       "      <td>6.0</td>\n",
       "      <td>0.0</td>\n",
       "      <td>199.0</td>\n",
       "    </tr>\n",
       "  </tbody>\n",
       "</table>\n",
       "</div>"
      ],
      "text/plain": [
       "           user_id          age     distance     duration        month  \\\n",
       "count  6500.000000  6500.000000  6500.000000  6500.000000  6500.000000   \n",
       "mean    348.725385    24.892615  3115.445388    18.541985     6.422308   \n",
       "std     201.099339     4.757208   836.895330     5.572048     3.414616   \n",
       "min       1.000000    12.000000   244.210438     3.760353     1.000000   \n",
       "25%     175.000000    22.000000  2785.444017    14.524654     4.000000   \n",
       "50%     351.000000    25.000000  3148.637229    18.178153     6.000000   \n",
       "75%     525.000000    28.000000  3560.574425    21.884129     9.000000   \n",
       "max     699.000000    38.000000  5699.769662    40.823963    12.000000   \n",
       "\n",
       "       minute_price  start_ride_price  subscription_fee  \n",
       "count        6500.0            6500.0            6500.0  \n",
       "mean            6.0               0.0             199.0  \n",
       "std             0.0               0.0               0.0  \n",
       "min             6.0               0.0             199.0  \n",
       "25%             6.0               0.0             199.0  \n",
       "50%             6.0               0.0             199.0  \n",
       "75%             6.0               0.0             199.0  \n",
       "max             6.0               0.0             199.0  "
      ]
     },
     "execution_count": 42,
     "metadata": {},
     "output_type": "execute_result"
    }
   ],
   "source": [
    "sub_ultra.describe()"
   ]
  },
  {
   "cell_type": "code",
   "execution_count": 43,
   "id": "3726f59a",
   "metadata": {},
   "outputs": [
    {
     "data": {
      "image/png": "[encoded data removed]",
      "text/plain": [
       "<Figure size 432x288 with 1 Axes>"
      ]
     },
     "metadata": {
      "needs_background": "light"
     },
     "output_type": "display_data"
    },
    {
     "data": {
      "text/plain": [
       "<Figure size 1440x1440 with 0 Axes>"
      ]
     },
     "metadata": {},
     "output_type": "display_data"
    }
   ],
   "source": [
    "plt.hist(sub_ultra['distance'], bins=50, range = (200, 5800))\n",
    "plt.title('Расстояние поездок пользователей с подпиской')\n",
    "plt.xlabel('Расстояние, м')\n",
    "plt.ylabel('Количество поездок')\n",
    "plt.figure(figsize=(20,20))\n",
    "plt.show()"
   ]
  },
  {
   "cell_type": "code",
   "execution_count": 44,
   "id": "b80648f0",
   "metadata": {},
   "outputs": [
    {
     "data": {
      "image/png": "[encoded data removed]",
      "text/plain": [
       "<Figure size 432x288 with 1 Axes>"
      ]
     },
     "metadata": {
      "needs_background": "light"
     },
     "output_type": "display_data"
    },
    {
     "data": {
      "text/plain": [
       "<Figure size 1440x1440 with 0 Axes>"
      ]
     },
     "metadata": {},
     "output_type": "display_data"
    }
   ],
   "source": [
    "plt.hist(sub_ultra['duration'], bins=30, range = (3.5, 41))\n",
    "plt.title('Время поездок пользователей с подпиской')\n",
    "plt.xlabel('Время поездки, мин.')\n",
    "plt.ylabel('Количество поездок')\n",
    "plt.figure(figsize=(20,20))\n",
    "plt.show()"
   ]
  },
  {
   "cell_type": "markdown",
   "id": "7e3a685f",
   "metadata": {},
   "source": [
    "Пользователи с подпиской в основном проезжают от 2,7 до 4 км и тратят от 14 до 25 мин."
   ]
  },
  {
   "cell_type": "markdown",
   "id": "04d6a1c6",
   "metadata": {},
   "source": [
    "**Вывод:**\n",
    "Медианное расстояние без подписки и с подпиской почти одиноково. Однако, пользователи без подписки проезжают большее расстояние, чем пользователи с подпиской.\n",
    "\n",
    "Медианное значение продолжительности поездки больше у пользователей с подпиской."
   ]
  },
  {
   "cell_type": "markdown",
   "id": "dd7e65ef",
   "metadata": {},
   "source": [
    "#### Шаг 5. Подсчёт выручки"
   ]
  },
  {
   "cell_type": "markdown",
   "id": "fd1c50b9",
   "metadata": {},
   "source": [
    "##### 5.1 Создание датафрейма с агрегированными данными о поездках на основе датафрейма с объединёнными данными из шага 4 с суммарным расстоянием, количеством поездок и суммарным временем для каждого пользователя за каждый месяц"
   ]
  },
  {
   "cell_type": "code",
   "execution_count": 45,
   "id": "41ed10e4",
   "metadata": {},
   "outputs": [],
   "source": [
    "# каждое значение из столбца duration округляется с помощью «потолка»: \n",
    "all_go['duration'] = np.ceil(all_go['duration']) "
   ]
  },
  {
   "cell_type": "code",
   "execution_count": 46,
   "id": "b34cbef4",
   "metadata": {},
   "outputs": [],
   "source": [
    "#каждое значение из столбца duration округляется с помощью «потолка»\n",
    "total_go = pd.pivot_table(all_go,\n",
    "                           index=['user_id', 'month'],\n",
    "                           values = ['distance', 'duration', 'name', 'subscription_type', 'minute_price', 'start_ride_price', 'subscription_fee'],\n",
    "                           aggfunc = {'distance': sum, \n",
    "                                      'duration' : sum, \n",
    "                                      'name' : 'count', \n",
    "                                      'subscription_type' : min,\n",
    "                                      'minute_price' : min,\n",
    "                                      'start_ride_price' : min,\n",
    "                                      'subscription_fee' : min\n",
    "                                     })"
   ]
  },
  {
   "cell_type": "code",
   "execution_count": 47,
   "id": "bf032864",
   "metadata": {},
   "outputs": [
    {
     "data": {
      "text/html": [
       "<div>\n",
       "<style scoped>\n",
       "    .dataframe tbody tr th:only-of-type {\n",
       "        vertical-align: middle;\n",
       "    }\n",
       "\n",
       "    .dataframe tbody tr th {\n",
       "        vertical-align: top;\n",
       "    }\n",
       "\n",
       "    .dataframe thead th {\n",
       "        text-align: right;\n",
       "    }\n",
       "</style>\n",
       "<table border=\"1\" class=\"dataframe\">\n",
       "  <thead>\n",
       "    <tr style=\"text-align: right;\">\n",
       "      <th></th>\n",
       "      <th></th>\n",
       "      <th>distance</th>\n",
       "      <th>duration</th>\n",
       "      <th>minute_price</th>\n",
       "      <th>count_tips</th>\n",
       "      <th>start_ride_price</th>\n",
       "      <th>subscription_fee</th>\n",
       "      <th>subscription_type</th>\n",
       "    </tr>\n",
       "    <tr>\n",
       "      <th>user_id</th>\n",
       "      <th>month</th>\n",
       "      <th></th>\n",
       "      <th></th>\n",
       "      <th></th>\n",
       "      <th></th>\n",
       "      <th></th>\n",
       "      <th></th>\n",
       "      <th></th>\n",
       "    </tr>\n",
       "  </thead>\n",
       "  <tbody>\n",
       "    <tr>\n",
       "      <th rowspan=\"5\" valign=\"top\">1</th>\n",
       "      <th>1</th>\n",
       "      <td>7027.511294</td>\n",
       "      <td>42.0</td>\n",
       "      <td>6</td>\n",
       "      <td>2</td>\n",
       "      <td>0</td>\n",
       "      <td>199</td>\n",
       "      <td>ultra</td>\n",
       "    </tr>\n",
       "    <tr>\n",
       "      <th>4</th>\n",
       "      <td>754.159807</td>\n",
       "      <td>7.0</td>\n",
       "      <td>6</td>\n",
       "      <td>1</td>\n",
       "      <td>0</td>\n",
       "      <td>199</td>\n",
       "      <td>ultra</td>\n",
       "    </tr>\n",
       "    <tr>\n",
       "      <th>8</th>\n",
       "      <td>6723.470560</td>\n",
       "      <td>46.0</td>\n",
       "      <td>6</td>\n",
       "      <td>2</td>\n",
       "      <td>0</td>\n",
       "      <td>199</td>\n",
       "      <td>ultra</td>\n",
       "    </tr>\n",
       "    <tr>\n",
       "      <th>10</th>\n",
       "      <td>5809.911100</td>\n",
       "      <td>32.0</td>\n",
       "      <td>6</td>\n",
       "      <td>2</td>\n",
       "      <td>0</td>\n",
       "      <td>199</td>\n",
       "      <td>ultra</td>\n",
       "    </tr>\n",
       "    <tr>\n",
       "      <th>11</th>\n",
       "      <td>7003.499363</td>\n",
       "      <td>56.0</td>\n",
       "      <td>6</td>\n",
       "      <td>3</td>\n",
       "      <td>0</td>\n",
       "      <td>199</td>\n",
       "      <td>ultra</td>\n",
       "    </tr>\n",
       "  </tbody>\n",
       "</table>\n",
       "</div>"
      ],
      "text/plain": [
       "                  distance  duration  minute_price  count_tips  \\\n",
       "user_id month                                                    \n",
       "1       1      7027.511294      42.0             6           2   \n",
       "        4       754.159807       7.0             6           1   \n",
       "        8      6723.470560      46.0             6           2   \n",
       "        10     5809.911100      32.0             6           2   \n",
       "        11     7003.499363      56.0             6           3   \n",
       "\n",
       "               start_ride_price  subscription_fee subscription_type  \n",
       "user_id month                                                        \n",
       "1       1                     0               199             ultra  \n",
       "        4                     0               199             ultra  \n",
       "        8                     0               199             ultra  \n",
       "        10                    0               199             ultra  \n",
       "        11                    0               199             ultra  "
      ]
     },
     "execution_count": 47,
     "metadata": {},
     "output_type": "execute_result"
    }
   ],
   "source": [
    "total_go.rename(columns = {'name' : 'count_tips'}, inplace = True)\n",
    "total_go.head()"
   ]
  },
  {
   "cell_type": "markdown",
   "id": "dbc42d5f",
   "metadata": {},
   "source": [
    "##### 5.2 Определение помесячной выручки, которую принёс каждый пользователь\n",
    "\n",
    "Помесячная выручка = стоимость старта поездки × количество поездок + стоимость одной минуты поездки × общая продолжительность всех поездок в минутах + стоимость подписки."
   ]
  },
  {
   "cell_type": "code",
   "execution_count": 48,
   "id": "4a09b8c9",
   "metadata": {},
   "outputs": [
    {
     "data": {
      "text/html": [
       "<div>\n",
       "<style scoped>\n",
       "    .dataframe tbody tr th:only-of-type {\n",
       "        vertical-align: middle;\n",
       "    }\n",
       "\n",
       "    .dataframe tbody tr th {\n",
       "        vertical-align: top;\n",
       "    }\n",
       "\n",
       "    .dataframe thead th {\n",
       "        text-align: right;\n",
       "    }\n",
       "</style>\n",
       "<table border=\"1\" class=\"dataframe\">\n",
       "  <thead>\n",
       "    <tr style=\"text-align: right;\">\n",
       "      <th></th>\n",
       "      <th></th>\n",
       "      <th>distance</th>\n",
       "      <th>duration</th>\n",
       "      <th>minute_price</th>\n",
       "      <th>count_tips</th>\n",
       "      <th>start_ride_price</th>\n",
       "      <th>subscription_fee</th>\n",
       "      <th>subscription_type</th>\n",
       "      <th>revenue</th>\n",
       "    </tr>\n",
       "    <tr>\n",
       "      <th>user_id</th>\n",
       "      <th>month</th>\n",
       "      <th></th>\n",
       "      <th></th>\n",
       "      <th></th>\n",
       "      <th></th>\n",
       "      <th></th>\n",
       "      <th></th>\n",
       "      <th></th>\n",
       "      <th></th>\n",
       "    </tr>\n",
       "  </thead>\n",
       "  <tbody>\n",
       "    <tr>\n",
       "      <th rowspan=\"5\" valign=\"top\">1</th>\n",
       "      <th>1</th>\n",
       "      <td>7027.511294</td>\n",
       "      <td>42.0</td>\n",
       "      <td>6</td>\n",
       "      <td>2</td>\n",
       "      <td>0</td>\n",
       "      <td>199</td>\n",
       "      <td>ultra</td>\n",
       "      <td>451.0</td>\n",
       "    </tr>\n",
       "    <tr>\n",
       "      <th>4</th>\n",
       "      <td>754.159807</td>\n",
       "      <td>7.0</td>\n",
       "      <td>6</td>\n",
       "      <td>1</td>\n",
       "      <td>0</td>\n",
       "      <td>199</td>\n",
       "      <td>ultra</td>\n",
       "      <td>241.0</td>\n",
       "    </tr>\n",
       "    <tr>\n",
       "      <th>8</th>\n",
       "      <td>6723.470560</td>\n",
       "      <td>46.0</td>\n",
       "      <td>6</td>\n",
       "      <td>2</td>\n",
       "      <td>0</td>\n",
       "      <td>199</td>\n",
       "      <td>ultra</td>\n",
       "      <td>475.0</td>\n",
       "    </tr>\n",
       "    <tr>\n",
       "      <th>10</th>\n",
       "      <td>5809.911100</td>\n",
       "      <td>32.0</td>\n",
       "      <td>6</td>\n",
       "      <td>2</td>\n",
       "      <td>0</td>\n",
       "      <td>199</td>\n",
       "      <td>ultra</td>\n",
       "      <td>391.0</td>\n",
       "    </tr>\n",
       "    <tr>\n",
       "      <th>11</th>\n",
       "      <td>7003.499363</td>\n",
       "      <td>56.0</td>\n",
       "      <td>6</td>\n",
       "      <td>3</td>\n",
       "      <td>0</td>\n",
       "      <td>199</td>\n",
       "      <td>ultra</td>\n",
       "      <td>535.0</td>\n",
       "    </tr>\n",
       "  </tbody>\n",
       "</table>\n",
       "</div>"
      ],
      "text/plain": [
       "                  distance  duration  minute_price  count_tips  \\\n",
       "user_id month                                                    \n",
       "1       1      7027.511294      42.0             6           2   \n",
       "        4       754.159807       7.0             6           1   \n",
       "        8      6723.470560      46.0             6           2   \n",
       "        10     5809.911100      32.0             6           2   \n",
       "        11     7003.499363      56.0             6           3   \n",
       "\n",
       "               start_ride_price  subscription_fee subscription_type  revenue  \n",
       "user_id month                                                                 \n",
       "1       1                     0               199             ultra    451.0  \n",
       "        4                     0               199             ultra    241.0  \n",
       "        8                     0               199             ultra    475.0  \n",
       "        10                    0               199             ultra    391.0  \n",
       "        11                    0               199             ultra    535.0  "
      ]
     },
     "execution_count": 48,
     "metadata": {},
     "output_type": "execute_result"
    }
   ],
   "source": [
    "# Расчет выручки\n",
    "total_go['revenue'] = ((total_go['start_ride_price'] * total_go['count_tips']) \n",
    "    + (total_go['minute_price'] * total_go['duration']) \n",
    "    + total_go['subscription_fee']\n",
    ")\n",
    "\n",
    "total_go.head()"
   ]
  },
  {
   "cell_type": "code",
   "execution_count": 49,
   "id": "576fcbbe",
   "metadata": {},
   "outputs": [
    {
     "data": {
      "text/plain": [
       "3878641.0"
      ]
     },
     "execution_count": 49,
     "metadata": {},
     "output_type": "execute_result"
    }
   ],
   "source": [
    "total_go['revenue'].sum()"
   ]
  },
  {
   "cell_type": "markdown",
   "id": "bca10173",
   "metadata": {},
   "source": [
    "**Вывод:**\n",
    "Общая выручка составила 3,88 млн"
   ]
  },
  {
   "cell_type": "markdown",
   "id": "53525bf5",
   "metadata": {},
   "source": [
    "#### Шаг 6. Проверка гипотез"
   ]
  },
  {
   "cell_type": "markdown",
   "id": "2629c850",
   "metadata": {},
   "source": [
    "##### 6.1 Гипотеза 1: пользователи с подпиской тратят больше времени на поездки, чем пользователи на бесплатном тарифе.\n",
    "\n",
    "H_0: Средняя продолжительность поездок ultra и free равна\n",
    "\n",
    "H_1: Средняя продолжительность поездок ultra больше, чем с free"
   ]
  },
  {
   "cell_type": "code",
   "execution_count": 50,
   "id": "71c5336f",
   "metadata": {},
   "outputs": [
    {
     "name": "stdout",
     "output_type": "stream",
     "text": [
      "p-значение: 1.2804098316645618e-34\n",
      "Отвергаем нулевую гипотезу\n"
     ]
    }
   ],
   "source": [
    "ultra = sub_ultra['duration'] \n",
    "free = sub_free['duration']\n",
    "\n",
    "results = st.ttest_ind(ultra, \n",
    "                       free,\n",
    "                       alternative = 'greater')\n",
    "\n",
    "alpha = 0.05\n",
    "\n",
    "print('p-значение:', results.pvalue)\n",
    "\n",
    "if results.pvalue < alpha:\n",
    "    print('Отвергаем нулевую гипотезу')\n",
    "else:\n",
    "    print('Не удалось отвергнуть нулевую гипотезу')"
   ]
  },
  {
   "cell_type": "markdown",
   "id": "1e3e3821",
   "metadata": {},
   "source": [
    "Пользователи с подпиской тратят больше времени на поездки, чем пользователи на бесплатном тарифе. Пользователи с подпиской «выгоднее» для компании."
   ]
  },
  {
   "cell_type": "markdown",
   "id": "86b2cd86",
   "metadata": {},
   "source": [
    "##### 6.2 Гипотеза 2: среднее расстояние, которое проезжают пользователи с подпиской за одну поездку, не превышает 3 130 метров\n",
    "\n",
    "H_0: Среднее расстояние поездок с использованием подписки ‘ultra’ равно оптимальному расстоянию в 3130 метров\n",
    "\n",
    "H_1: Среднее расстояние поездок с использованием подписки ‘ultra’ больше оптимального расстояния в 3130 метров"
   ]
  },
  {
   "cell_type": "code",
   "execution_count": 51,
   "id": "0b4945fd",
   "metadata": {},
   "outputs": [
    {
     "name": "stdout",
     "output_type": "stream",
     "text": [
      "p-значение: 0.9195368847849785\n",
      "Не удалось отвергнуть нулевую гипотезу\n"
     ]
    }
   ],
   "source": [
    "ultra_dist = sub_ultra['distance']\n",
    "optimal_dist = 3130.0\n",
    "\n",
    "alpha = 0.05\n",
    "\n",
    "results = st.ttest_1samp(\n",
    "    ultra_dist, \n",
    "    optimal_dist,\n",
    "    alternative='greater')\n",
    "    \n",
    "print('p-значение:', results.pvalue)\n",
    "\n",
    "if (results.pvalue < alpha):\n",
    "    print('Отвергаем нулевую гипотезу')\n",
    "else:\n",
    "    print('Не удалось отвергнуть нулевую гипотезу')"
   ]
  },
  {
   "cell_type": "markdown",
   "id": "33042375",
   "metadata": {},
   "source": [
    "Среднее расстояние, которое проезжают пользователи с подпиской за одну поездку равно оптимальному расстоянию в 3130 метров. Расстояние одной поездки в 3 130 метров — оптимальное с точки зрения износа самоката."
   ]
  },
  {
   "cell_type": "markdown",
   "id": "a5f50d8f",
   "metadata": {},
   "source": [
    "Среднее расстояние, которое проезжают пользователи с подпиской за одну поездку, не превышает 3130 метров "
   ]
  },
  {
   "cell_type": "markdown",
   "id": "8bfd03d4",
   "metadata": {},
   "source": [
    "##### 6.3 Гипотеза 3: помесячная выручка от пользователей с подпиской по месяцам выше, чем выручка от пользователей без подписки\n",
    "\n",
    "H_0: Выручка от поездок с подпиской и без подписки равны\n",
    "\n",
    "H_1: Выручка от поездок с подпиской больше, чем выручка от поездок без подписки"
   ]
  },
  {
   "cell_type": "code",
   "execution_count": 52,
   "id": "96fa2443",
   "metadata": {},
   "outputs": [
    {
     "name": "stdout",
     "output_type": "stream",
     "text": [
      "p-значение: 1.8850394384715216e-31\n",
      "Отвергаем нулевую гипотезу\n"
     ]
    }
   ],
   "source": [
    "ultra_revenue = total_go.loc[total_go.subscription_type == 'ultra', 'revenue'] \n",
    "free_revenue = total_go.loc[total_go.subscription_type == 'free', 'revenue'] \n",
    "\n",
    "results = st.ttest_ind(ultra_revenue, \n",
    "                       free_revenue,\n",
    "                       alternative = 'greater')\n",
    "\n",
    "alpha = 0.05\n",
    "\n",
    "print('p-значение:', results.pvalue)\n",
    "\n",
    "if results.pvalue < alpha:\n",
    "    print('Отвергаем нулевую гипотезу')\n",
    "else:\n",
    "    print('Не удалось отвергнуть нулевую гипотезу')"
   ]
  },
  {
   "cell_type": "markdown",
   "id": "3c357eae",
   "metadata": {},
   "source": [
    "Помесячная выручка от пользователей с подпиской по месяцам выше, чем выручка от пользователей без подписки."
   ]
  },
  {
   "cell_type": "markdown",
   "id": "1715a1ac",
   "metadata": {},
   "source": [
    "##### 6.4 Представьте такую ситуацию: техническая команда сервиса обновила сервера, с которыми взаимодействует мобильное приложение. Она надеется, что из-за этого количество обращений в техподдержку значимо снизилось. Некоторый файл содержит для каждого пользователя данные о количестве обращений до обновления и после него. Какой тест вам понадобился бы для проверки этой гипотезы?"
   ]
  },
  {
   "cell_type": "markdown",
   "id": "7fc8f962",
   "metadata": {},
   "source": [
    "Чтобы проверить гипотезу о равенстве среднего генеральной совокупности для зависимых (парных) выборок в Python, применяется метод scipy.stats.ttest_rel().\n",
    "\n",
    "Гипотезы будут сформулированы так:\n",
    "\n",
    "H0 : μ1 = μ2\n",
    "\n",
    "H1 : μ1 > μ2\n",
    "\n",
    "где μ1 и μ2 - средние значения количество обращений в техподдержку до и после изменения"
   ]
  },
  {
   "cell_type": "markdown",
   "id": "c464e2f0",
   "metadata": {},
   "source": [
    "**Вывод:**\n",
    "\n",
    "Пользователи с подпиской тратят больше времени на поездки, чем пользователи на бесплатном тарифе. Пользователи с подпиской «выгоднее» для компании, так как активее используют сервис.\n",
    "\n",
    "Среднее расстояние, которое проезжают пользователи с подпиской за одну поездку равно оптимальному расстоянию в 3130 метров. Расстояние одной поездки в 3 130 метров — оптимальное с точки зрения износа самоката.\n",
    "\n",
    "Помесячная выручка от пользователей с подпиской по месяцам выше, чем выручка от пользователей без подписки.\n",
    "\n",
    "Таким образом, результаты анализа данных позволяют сделать вывод о том, что пользователи с подпиской более выгодны для компании."
   ]
  },
  {
   "cell_type": "markdown",
   "id": "f413a8fa",
   "metadata": {},
   "source": [
    "#### Шаг 7. Общий вывод"
   ]
  },
  {
   "cell_type": "markdown",
   "id": "dfc15469",
   "metadata": {},
   "source": [
    "В ходе исследования проанализированы данные  популярного сервиса аренды самокатов GoFast о пользователях из нескольких городов, а также об их поездках и проверены некоторые гипотезы, которые могут помочь бизнесу вырасти.\n",
    "\n",
    "В результате предобработки данных был обработан 31 дубликат, изменен тип данных в столбце date. Пропущенных значений не выявлено.\n",
    "\n",
    "В ходе исследовательского анализа данных выявлено: \n",
    "- Пятигорск (219), Екатеринбург (204) и Ростов-на-Дону (198) - лиды по количеству пользоватей, меньше всего пользователей самокатов в Москве (168). \n",
    "- Большая часть пользователей (54%) использует сервис без подписки. \n",
    "- Возраст пользователей самокатов от 12 до 43 лет. Средний возраст потребителя услуги 25 лет. \n",
    "- За одну поездку пользователь преодолевает от 0,00086 (возможно часть пользователей начинают поедку и сразу заканчивают) до 7,2 км, в основном пользователи проезжают от 2,5 до 3,9 км. \n",
    "- Пользователи используют самокат от 0,5 до 40,8 мин. В основном продолжительность поездки составляет от 14 до 22 мин.\n",
    "\n",
    "Сравнение пользователей без подписки и с подпиской показало, что пользователи без подписки проезжают большее расстояние, чем пользователи с подпиской, а медианное значение продолжительности поездки больше у пользователей с подпиской.\n",
    "\n",
    "Общая выручка составила 3,88 млн.\n",
    "\n",
    "Результате проверки гипотез показал:\n",
    "- Пользователи с подпиской тратят больше времени на поездки, чем пользователи на бесплатном тарифе. Пользователи с подпиской «выгоднее» для компании, так как активее используют сервис. \n",
    "- Среднее расстояние, которое проезжают пользователи с подпиской за одну поездку равно оптимальному расстоянию в 3130 метров. Расстояние одной поездки в 3 130 метров — оптимальное с точки зрения износа самоката. \n",
    "- Помесячная выручка от пользователей с подпиской по месяцам выше, чем выручка от пользователей без подписки.\n",
    "\n",
    "Таким образом, результаты анализа данных позволяют сделать вывод о том, что пользователи с подпиской более выгодны для компании."
   ]
  }
 ],
 "metadata": {
  "ExecuteTimeLog": [
   {
    "duration": 100,
    "start_time": "2024-12-02T10:49:10.920Z"
   },
   {
    "duration": 329,
    "start_time": "2024-12-02T10:54:58.409Z"
   },
   {
    "duration": 278,
    "start_time": "2024-12-02T10:54:58.798Z"
   },
   {
    "duration": 20,
    "start_time": "2024-12-02T10:55:54.280Z"
   },
   {
    "duration": 7,
    "start_time": "2024-12-02T10:56:00.245Z"
   },
   {
    "duration": 9,
    "start_time": "2024-12-02T10:56:05.354Z"
   },
   {
    "duration": 7,
    "start_time": "2024-12-02T10:56:53.585Z"
   },
   {
    "duration": 10,
    "start_time": "2024-12-02T10:56:54.709Z"
   },
   {
    "duration": 6,
    "start_time": "2024-12-02T10:56:55.229Z"
   },
   {
    "duration": 9,
    "start_time": "2024-12-02T10:56:55.584Z"
   },
   {
    "duration": 7,
    "start_time": "2024-12-02T11:03:00.123Z"
   },
   {
    "duration": 7,
    "start_time": "2024-12-02T11:03:10.144Z"
   },
   {
    "duration": 9,
    "start_time": "2024-12-02T11:03:16.613Z"
   },
   {
    "duration": 2,
    "start_time": "2024-12-02T11:08:01.410Z"
   },
   {
    "duration": 4,
    "start_time": "2024-12-02T11:08:43.976Z"
   },
   {
    "duration": 5,
    "start_time": "2024-12-02T11:09:21.624Z"
   },
   {
    "duration": 6,
    "start_time": "2024-12-02T11:09:47.942Z"
   },
   {
    "duration": 4,
    "start_time": "2024-12-02T11:09:58.563Z"
   },
   {
    "duration": 5,
    "start_time": "2024-12-02T11:10:33.286Z"
   },
   {
    "duration": 6,
    "start_time": "2024-12-02T11:13:57.115Z"
   },
   {
    "duration": 5,
    "start_time": "2024-12-02T11:14:10.973Z"
   },
   {
    "duration": 7,
    "start_time": "2024-12-02T11:14:24.159Z"
   },
   {
    "duration": 5,
    "start_time": "2024-12-02T11:14:27.965Z"
   },
   {
    "duration": 5,
    "start_time": "2024-12-02T11:24:43.821Z"
   },
   {
    "duration": 5,
    "start_time": "2024-12-02T11:24:50.404Z"
   },
   {
    "duration": 5,
    "start_time": "2024-12-02T11:24:55.705Z"
   },
   {
    "duration": 8,
    "start_time": "2024-12-02T11:25:11.320Z"
   },
   {
    "duration": 5,
    "start_time": "2024-12-02T11:25:17.028Z"
   },
   {
    "duration": 5,
    "start_time": "2024-12-02T11:25:22.373Z"
   },
   {
    "duration": 4,
    "start_time": "2024-12-02T11:26:55.139Z"
   },
   {
    "duration": 11,
    "start_time": "2024-12-02T11:27:04.540Z"
   },
   {
    "duration": 4,
    "start_time": "2024-12-02T11:27:53.780Z"
   },
   {
    "duration": 5,
    "start_time": "2024-12-02T11:28:00.879Z"
   },
   {
    "duration": 5,
    "start_time": "2024-12-02T11:28:02.932Z"
   },
   {
    "duration": 4,
    "start_time": "2024-12-02T11:28:12.245Z"
   },
   {
    "duration": 5,
    "start_time": "2024-12-02T11:28:12.766Z"
   },
   {
    "duration": 4,
    "start_time": "2024-12-02T11:30:40.230Z"
   },
   {
    "duration": 114,
    "start_time": "2024-12-02T11:57:59.304Z"
   },
   {
    "duration": 70,
    "start_time": "2024-12-05T09:34:48.643Z"
   },
   {
    "duration": 1484,
    "start_time": "2024-12-05T09:35:12.274Z"
   },
   {
    "duration": 376,
    "start_time": "2024-12-05T09:35:13.770Z"
   },
   {
    "duration": 26,
    "start_time": "2024-12-05T09:35:14.148Z"
   },
   {
    "duration": 13,
    "start_time": "2024-12-05T09:35:14.178Z"
   },
   {
    "duration": 13,
    "start_time": "2024-12-05T09:35:14.193Z"
   },
   {
    "duration": 34,
    "start_time": "2024-12-05T09:35:14.208Z"
   },
   {
    "duration": 26,
    "start_time": "2024-12-05T09:35:14.243Z"
   },
   {
    "duration": 23,
    "start_time": "2024-12-05T09:35:14.272Z"
   },
   {
    "duration": 8,
    "start_time": "2024-12-05T09:35:15.317Z"
   },
   {
    "duration": 8,
    "start_time": "2024-12-05T09:35:17.360Z"
   },
   {
    "duration": 11,
    "start_time": "2024-12-05T09:35:17.571Z"
   },
   {
    "duration": 5,
    "start_time": "2024-12-05T09:35:17.738Z"
   },
   {
    "duration": 5,
    "start_time": "2024-12-05T09:35:17.883Z"
   },
   {
    "duration": 2,
    "start_time": "2024-12-05T09:35:20.104Z"
   },
   {
    "duration": 274,
    "start_time": "2024-12-05T09:35:20.625Z"
   },
   {
    "duration": 62,
    "start_time": "2024-12-05T09:35:57.780Z"
   },
   {
    "duration": 7,
    "start_time": "2024-12-05T09:36:29.670Z"
   },
   {
    "duration": 149,
    "start_time": "2024-12-05T09:40:38.595Z"
   },
   {
    "duration": 167,
    "start_time": "2024-12-05T09:42:36.148Z"
   },
   {
    "duration": 177,
    "start_time": "2024-12-05T09:43:32.725Z"
   },
   {
    "duration": 17,
    "start_time": "2024-12-05T09:46:54.471Z"
   },
   {
    "duration": 179,
    "start_time": "2024-12-05T09:47:02.464Z"
   },
   {
    "duration": 3,
    "start_time": "2024-12-05T09:48:15.038Z"
   },
   {
    "duration": 2,
    "start_time": "2024-12-05T09:48:26.424Z"
   },
   {
    "duration": 145,
    "start_time": "2024-12-05T09:55:35.888Z"
   },
   {
    "duration": 83,
    "start_time": "2024-12-05T09:55:59.562Z"
   },
   {
    "duration": 131,
    "start_time": "2024-12-05T09:56:09.421Z"
   },
   {
    "duration": 151,
    "start_time": "2024-12-05T09:56:21.670Z"
   },
   {
    "duration": 68,
    "start_time": "2024-12-05T09:56:54.857Z"
   },
   {
    "duration": 154,
    "start_time": "2024-12-05T09:57:00.576Z"
   },
   {
    "duration": 80,
    "start_time": "2024-12-05T09:57:18.702Z"
   },
   {
    "duration": 10,
    "start_time": "2024-12-05T09:59:11.201Z"
   },
   {
    "duration": 142,
    "start_time": "2024-12-05T09:59:19.702Z"
   },
   {
    "duration": 19,
    "start_time": "2024-12-05T09:59:34.486Z"
   },
   {
    "duration": 210,
    "start_time": "2024-12-05T09:59:46.475Z"
   },
   {
    "duration": 83,
    "start_time": "2024-12-05T10:00:14.316Z"
   },
   {
    "duration": 82,
    "start_time": "2024-12-05T10:00:17.594Z"
   },
   {
    "duration": 2,
    "start_time": "2024-12-05T10:03:54.036Z"
   },
   {
    "duration": 8,
    "start_time": "2024-12-05T10:04:47.455Z"
   },
   {
    "duration": 803,
    "start_time": "2024-12-05T10:04:48.490Z"
   },
   {
    "duration": 723,
    "start_time": "2024-12-05T10:06:32.196Z"
   },
   {
    "duration": 874,
    "start_time": "2024-12-05T10:06:38.797Z"
   },
   {
    "duration": 747,
    "start_time": "2024-12-05T10:06:45.697Z"
   },
   {
    "duration": 856,
    "start_time": "2024-12-05T10:07:11.353Z"
   },
   {
    "duration": 768,
    "start_time": "2024-12-05T10:07:22.794Z"
   },
   {
    "duration": 862,
    "start_time": "2024-12-05T10:07:29.190Z"
   },
   {
    "duration": 11,
    "start_time": "2024-12-05T10:13:21.100Z"
   },
   {
    "duration": 9,
    "start_time": "2024-12-05T10:14:03.766Z"
   },
   {
    "duration": 205,
    "start_time": "2024-12-05T10:14:15.781Z"
   },
   {
    "duration": 724,
    "start_time": "2024-12-05T10:14:27.580Z"
   },
   {
    "duration": 326,
    "start_time": "2024-12-05T10:15:23.326Z"
   },
   {
    "duration": 265,
    "start_time": "2024-12-05T10:15:31.153Z"
   },
   {
    "duration": 146,
    "start_time": "2024-12-05T10:15:34.828Z"
   },
   {
    "duration": 198,
    "start_time": "2024-12-05T10:15:40.871Z"
   },
   {
    "duration": 187,
    "start_time": "2024-12-05T10:23:17.277Z"
   },
   {
    "duration": 325,
    "start_time": "2024-12-05T10:23:23.741Z"
   },
   {
    "duration": 231,
    "start_time": "2024-12-05T10:23:31.308Z"
   },
   {
    "duration": 188,
    "start_time": "2024-12-05T10:23:34.418Z"
   },
   {
    "duration": 211,
    "start_time": "2024-12-05T10:44:22.045Z"
   },
   {
    "duration": 20,
    "start_time": "2024-12-05T10:46:39.948Z"
   },
   {
    "duration": 11,
    "start_time": "2024-12-05T10:46:44.675Z"
   },
   {
    "duration": 11,
    "start_time": "2024-12-05T10:46:48.578Z"
   },
   {
    "duration": 72,
    "start_time": "2024-12-05T10:47:21.154Z"
   },
   {
    "duration": 120,
    "start_time": "2024-12-05T10:47:29.003Z"
   },
   {
    "duration": 116,
    "start_time": "2024-12-05T10:48:40.890Z"
   },
   {
    "duration": 121,
    "start_time": "2024-12-05T10:48:49.920Z"
   },
   {
    "duration": 105,
    "start_time": "2024-12-05T10:48:59.269Z"
   },
   {
    "duration": 120,
    "start_time": "2024-12-05T10:49:07.582Z"
   },
   {
    "duration": 162,
    "start_time": "2024-12-05T10:49:13.895Z"
   },
   {
    "duration": 126,
    "start_time": "2024-12-05T10:49:16.863Z"
   },
   {
    "duration": 127,
    "start_time": "2024-12-05T10:49:31.903Z"
   },
   {
    "duration": 140,
    "start_time": "2024-12-05T10:49:36.142Z"
   },
   {
    "duration": 126,
    "start_time": "2024-12-05T10:49:38.540Z"
   },
   {
    "duration": 228,
    "start_time": "2024-12-05T10:51:42.293Z"
   },
   {
    "duration": 12,
    "start_time": "2024-12-05T10:51:45.756Z"
   },
   {
    "duration": 152,
    "start_time": "2024-12-05T10:51:49.989Z"
   },
   {
    "duration": 197,
    "start_time": "2024-12-05T10:52:46.738Z"
   },
   {
    "duration": 9,
    "start_time": "2024-12-05T10:53:14.531Z"
   },
   {
    "duration": 5,
    "start_time": "2024-12-05T10:53:29.718Z"
   },
   {
    "duration": 4,
    "start_time": "2024-12-05T10:53:35.312Z"
   },
   {
    "duration": 6,
    "start_time": "2024-12-05T10:53:40.420Z"
   },
   {
    "duration": 9,
    "start_time": "2024-12-05T10:58:18.127Z"
   },
   {
    "duration": 12,
    "start_time": "2024-12-05T11:00:13.365Z"
   },
   {
    "duration": 9,
    "start_time": "2024-12-05T11:00:30.660Z"
   },
   {
    "duration": 3,
    "start_time": "2024-12-05T11:13:24.986Z"
   },
   {
    "duration": 10,
    "start_time": "2024-12-05T11:14:46.893Z"
   },
   {
    "duration": 17,
    "start_time": "2024-12-05T11:14:53.765Z"
   },
   {
    "duration": 12,
    "start_time": "2024-12-05T11:15:13.594Z"
   },
   {
    "duration": 10,
    "start_time": "2024-12-05T11:15:36.036Z"
   },
   {
    "duration": 27,
    "start_time": "2024-12-05T11:17:52.503Z"
   },
   {
    "duration": 10,
    "start_time": "2024-12-05T11:19:57.087Z"
   },
   {
    "duration": 34,
    "start_time": "2024-12-05T11:19:58.934Z"
   },
   {
    "duration": 25,
    "start_time": "2024-12-05T11:20:00.985Z"
   },
   {
    "duration": 11,
    "start_time": "2024-12-05T11:20:02.616Z"
   },
   {
    "duration": 25,
    "start_time": "2024-12-05T11:20:02.915Z"
   },
   {
    "duration": 9,
    "start_time": "2024-12-05T11:20:37.420Z"
   },
   {
    "duration": 28,
    "start_time": "2024-12-05T11:21:20.950Z"
   },
   {
    "duration": 19,
    "start_time": "2024-12-05T11:21:36.428Z"
   },
   {
    "duration": 21,
    "start_time": "2024-12-05T11:21:45.572Z"
   },
   {
    "duration": 19,
    "start_time": "2024-12-05T11:21:56.977Z"
   },
   {
    "duration": 18,
    "start_time": "2024-12-05T11:21:57.622Z"
   },
   {
    "duration": 17,
    "start_time": "2024-12-05T11:22:09.637Z"
   },
   {
    "duration": 15,
    "start_time": "2024-12-05T11:22:12.427Z"
   },
   {
    "duration": 19,
    "start_time": "2024-12-05T11:23:20.763Z"
   },
   {
    "duration": 15,
    "start_time": "2024-12-05T11:24:04.807Z"
   },
   {
    "duration": 15,
    "start_time": "2024-12-05T11:25:47.920Z"
   },
   {
    "duration": 10,
    "start_time": "2024-12-05T11:27:22.542Z"
   },
   {
    "duration": 10,
    "start_time": "2024-12-05T11:27:32.283Z"
   },
   {
    "duration": 317,
    "start_time": "2024-12-05T11:27:36.945Z"
   },
   {
    "duration": 79,
    "start_time": "2024-12-05T11:29:06.170Z"
   },
   {
    "duration": 49,
    "start_time": "2024-12-05T11:29:09.435Z"
   },
   {
    "duration": 33,
    "start_time": "2024-12-05T11:29:21.687Z"
   },
   {
    "duration": 10,
    "start_time": "2024-12-05T11:29:31.103Z"
   },
   {
    "duration": 193,
    "start_time": "2024-12-05T11:29:38.204Z"
   },
   {
    "duration": 206,
    "start_time": "2024-12-05T11:29:46.899Z"
   },
   {
    "duration": 10,
    "start_time": "2024-12-05T11:30:02.902Z"
   },
   {
    "duration": 200,
    "start_time": "2024-12-05T11:30:09.611Z"
   },
   {
    "duration": 229,
    "start_time": "2024-12-05T11:31:01.300Z"
   },
   {
    "duration": 205,
    "start_time": "2024-12-05T11:31:17.181Z"
   },
   {
    "duration": 228,
    "start_time": "2024-12-05T11:36:11.235Z"
   },
   {
    "duration": 230,
    "start_time": "2024-12-05T11:36:14.055Z"
   },
   {
    "duration": 193,
    "start_time": "2024-12-05T11:36:38.559Z"
   },
   {
    "duration": 212,
    "start_time": "2024-12-05T11:36:43.078Z"
   },
   {
    "duration": 217,
    "start_time": "2024-12-05T11:36:48.353Z"
   },
   {
    "duration": 192,
    "start_time": "2024-12-05T11:37:01.534Z"
   },
   {
    "duration": 382,
    "start_time": "2024-12-05T11:37:09.984Z"
   },
   {
    "duration": 228,
    "start_time": "2024-12-05T11:37:14.295Z"
   },
   {
    "duration": 178,
    "start_time": "2024-12-05T11:37:17.133Z"
   },
   {
    "duration": 222,
    "start_time": "2024-12-05T11:37:21.994Z"
   },
   {
    "duration": 195,
    "start_time": "2024-12-05T11:37:29.494Z"
   },
   {
    "duration": 179,
    "start_time": "2024-12-05T11:37:41.468Z"
   },
   {
    "duration": 203,
    "start_time": "2024-12-05T11:38:04.806Z"
   },
   {
    "duration": 200,
    "start_time": "2024-12-05T11:38:07.258Z"
   },
   {
    "duration": 217,
    "start_time": "2024-12-05T11:38:47.146Z"
   },
   {
    "duration": 193,
    "start_time": "2024-12-05T11:39:14.228Z"
   },
   {
    "duration": 236,
    "start_time": "2024-12-05T11:39:19.450Z"
   },
   {
    "duration": 250,
    "start_time": "2024-12-05T11:39:33.790Z"
   },
   {
    "duration": 286,
    "start_time": "2024-12-05T11:39:37.599Z"
   },
   {
    "duration": 199,
    "start_time": "2024-12-05T11:39:40.307Z"
   },
   {
    "duration": 209,
    "start_time": "2024-12-05T11:39:45.324Z"
   },
   {
    "duration": 213,
    "start_time": "2024-12-05T11:39:47.805Z"
   },
   {
    "duration": 203,
    "start_time": "2024-12-05T11:39:50.082Z"
   },
   {
    "duration": 84,
    "start_time": "2024-12-05T11:44:10.543Z"
   },
   {
    "duration": 11,
    "start_time": "2024-12-05T11:54:31.825Z"
   },
   {
    "duration": 974,
    "start_time": "2024-12-05T12:06:00.710Z"
   },
   {
    "duration": 1072,
    "start_time": "2024-12-05T12:06:05.247Z"
   },
   {
    "duration": 901,
    "start_time": "2024-12-05T12:06:15.522Z"
   },
   {
    "duration": 3,
    "start_time": "2024-12-05T12:06:48.093Z"
   },
   {
    "duration": 1034,
    "start_time": "2024-12-05T12:06:51.567Z"
   },
   {
    "duration": 4,
    "start_time": "2024-12-05T12:06:52.602Z"
   },
   {
    "duration": 11,
    "start_time": "2024-12-05T12:06:54.515Z"
   },
   {
    "duration": 1015,
    "start_time": "2024-12-05T12:07:02.611Z"
   },
   {
    "duration": 1064,
    "start_time": "2024-12-05T12:08:08.919Z"
   },
   {
    "duration": 953,
    "start_time": "2024-12-05T12:09:19.359Z"
   },
   {
    "duration": 4,
    "start_time": "2024-12-05T12:10:29.149Z"
   },
   {
    "duration": 15,
    "start_time": "2024-12-05T13:13:39.711Z"
   },
   {
    "duration": 15,
    "start_time": "2024-12-05T13:13:43.870Z"
   },
   {
    "duration": 33,
    "start_time": "2024-12-05T13:13:54.527Z"
   },
   {
    "duration": 976,
    "start_time": "2024-12-05T13:14:03.149Z"
   },
   {
    "duration": 4,
    "start_time": "2024-12-05T13:14:05.693Z"
   },
   {
    "duration": 924,
    "start_time": "2024-12-05T13:14:09.980Z"
   },
   {
    "duration": 932,
    "start_time": "2024-12-05T13:14:19.265Z"
   },
   {
    "duration": 27,
    "start_time": "2024-12-05T13:14:43.136Z"
   },
   {
    "duration": 20,
    "start_time": "2024-12-05T13:14:52.728Z"
   },
   {
    "duration": 15,
    "start_time": "2024-12-05T13:15:33.896Z"
   },
   {
    "duration": 56,
    "start_time": "2024-12-05T13:15:44.605Z"
   },
   {
    "duration": 5,
    "start_time": "2024-12-05T13:16:44.487Z"
   },
   {
    "duration": 4,
    "start_time": "2024-12-05T13:16:53.137Z"
   },
   {
    "duration": 4,
    "start_time": "2024-12-05T13:16:55.050Z"
   },
   {
    "duration": 95,
    "start_time": "2024-12-05T13:17:02.843Z"
   },
   {
    "duration": 78,
    "start_time": "2024-12-05T13:19:10.832Z"
   },
   {
    "duration": 37,
    "start_time": "2024-12-05T13:19:16.523Z"
   },
   {
    "duration": 51,
    "start_time": "2024-12-05T13:19:21.559Z"
   },
   {
    "duration": 45,
    "start_time": "2024-12-05T13:19:31.098Z"
   },
   {
    "duration": 47,
    "start_time": "2024-12-05T13:19:44.009Z"
   },
   {
    "duration": 25,
    "start_time": "2024-12-05T13:21:12.529Z"
   },
   {
    "duration": 20,
    "start_time": "2024-12-05T13:21:23.701Z"
   },
   {
    "duration": 904,
    "start_time": "2024-12-05T13:22:00.921Z"
   },
   {
    "duration": 10,
    "start_time": "2024-12-05T13:22:42.471Z"
   },
   {
    "duration": 947,
    "start_time": "2024-12-05T13:22:52.910Z"
   },
   {
    "duration": 838,
    "start_time": "2024-12-05T13:22:56.967Z"
   },
   {
    "duration": 3,
    "start_time": "2024-12-05T13:22:58.537Z"
   },
   {
    "duration": 4,
    "start_time": "2024-12-05T13:23:00.631Z"
   },
   {
    "duration": 13,
    "start_time": "2024-12-05T13:23:31.371Z"
   },
   {
    "duration": 24,
    "start_time": "2024-12-05T13:23:40.270Z"
   },
   {
    "duration": 19,
    "start_time": "2024-12-05T13:23:49.615Z"
   },
   {
    "duration": 2,
    "start_time": "2024-12-05T13:24:36.714Z"
   },
   {
    "duration": 4,
    "start_time": "2024-12-05T13:26:47.334Z"
   },
   {
    "duration": 4,
    "start_time": "2024-12-05T13:26:51.498Z"
   },
   {
    "duration": 5,
    "start_time": "2024-12-05T13:27:37.125Z"
   },
   {
    "duration": 64,
    "start_time": "2024-12-05T13:43:17.653Z"
   },
   {
    "duration": 4,
    "start_time": "2024-12-05T13:43:23.223Z"
   },
   {
    "duration": 56,
    "start_time": "2024-12-05T13:43:26.662Z"
   },
   {
    "duration": 868,
    "start_time": "2024-12-05T13:46:28.576Z"
   },
   {
    "duration": 979,
    "start_time": "2024-12-05T13:49:39.686Z"
   },
   {
    "duration": 23,
    "start_time": "2024-12-05T13:49:52.404Z"
   },
   {
    "duration": 22,
    "start_time": "2024-12-05T13:50:02.781Z"
   },
   {
    "duration": 21,
    "start_time": "2024-12-05T13:50:05.470Z"
   },
   {
    "duration": 34,
    "start_time": "2024-12-05T13:50:12.005Z"
   },
   {
    "duration": 891,
    "start_time": "2024-12-05T13:51:15.398Z"
   },
   {
    "duration": 3,
    "start_time": "2024-12-05T13:51:16.292Z"
   },
   {
    "duration": 12,
    "start_time": "2024-12-05T13:51:27.425Z"
   },
   {
    "duration": 859,
    "start_time": "2024-12-05T13:51:29.240Z"
   },
   {
    "duration": 12,
    "start_time": "2024-12-05T13:51:30.101Z"
   },
   {
    "duration": 4,
    "start_time": "2024-12-05T13:52:00.216Z"
   },
   {
    "duration": 17,
    "start_time": "2024-12-05T13:54:07.596Z"
   },
   {
    "duration": 18,
    "start_time": "2024-12-05T13:54:11.990Z"
   },
   {
    "duration": 5,
    "start_time": "2024-12-05T13:55:29.284Z"
   },
   {
    "duration": 93,
    "start_time": "2024-12-05T13:57:52.531Z"
   },
   {
    "duration": 1544,
    "start_time": "2024-12-05T13:57:57.308Z"
   },
   {
    "duration": 6,
    "start_time": "2024-12-05T14:09:12.192Z"
   },
   {
    "duration": 8,
    "start_time": "2024-12-05T14:12:36.945Z"
   },
   {
    "duration": 6,
    "start_time": "2024-12-05T14:13:10.224Z"
   },
   {
    "duration": 16,
    "start_time": "2024-12-05T14:13:48.313Z"
   },
   {
    "duration": 14,
    "start_time": "2024-12-05T14:13:58.362Z"
   },
   {
    "duration": 14,
    "start_time": "2024-12-05T14:14:00.270Z"
   },
   {
    "duration": 7,
    "start_time": "2024-12-05T14:14:42.276Z"
   },
   {
    "duration": 6,
    "start_time": "2024-12-05T14:14:47.217Z"
   },
   {
    "duration": 7,
    "start_time": "2024-12-05T14:14:50.339Z"
   },
   {
    "duration": 6,
    "start_time": "2024-12-05T14:23:21.919Z"
   },
   {
    "duration": 6,
    "start_time": "2024-12-05T14:23:34.199Z"
   },
   {
    "duration": 5,
    "start_time": "2024-12-05T14:25:34.411Z"
   },
   {
    "duration": 130,
    "start_time": "2024-12-05T14:30:58.785Z"
   },
   {
    "duration": 70,
    "start_time": "2024-12-05T14:31:23.286Z"
   },
   {
    "duration": 10,
    "start_time": "2024-12-05T14:31:32.649Z"
   },
   {
    "duration": 873,
    "start_time": "2024-12-05T14:36:44.359Z"
   },
   {
    "duration": 11,
    "start_time": "2024-12-05T14:36:45.254Z"
   },
   {
    "duration": 2,
    "start_time": "2024-12-05T14:36:55.090Z"
   },
   {
    "duration": 16,
    "start_time": "2024-12-05T14:36:55.939Z"
   },
   {
    "duration": 16,
    "start_time": "2024-12-05T14:36:56.813Z"
   },
   {
    "duration": 2,
    "start_time": "2024-12-05T14:40:16.334Z"
   },
   {
    "duration": 14,
    "start_time": "2024-12-05T14:40:16.658Z"
   },
   {
    "duration": 959,
    "start_time": "2024-12-05T14:40:23.693Z"
   },
   {
    "duration": 15,
    "start_time": "2024-12-05T14:40:25.214Z"
   },
   {
    "duration": 13,
    "start_time": "2024-12-05T14:40:29.698Z"
   },
   {
    "duration": 13,
    "start_time": "2024-12-05T14:40:37.778Z"
   },
   {
    "duration": 3,
    "start_time": "2024-12-05T14:40:42.563Z"
   },
   {
    "duration": 3,
    "start_time": "2024-12-05T14:40:43.993Z"
   },
   {
    "duration": 14,
    "start_time": "2024-12-05T14:40:44.770Z"
   },
   {
    "duration": 14,
    "start_time": "2024-12-05T14:40:57.535Z"
   },
   {
    "duration": 5,
    "start_time": "2024-12-05T14:40:58.158Z"
   },
   {
    "duration": 19,
    "start_time": "2024-12-05T14:41:10.940Z"
   },
   {
    "duration": 840,
    "start_time": "2024-12-05T14:41:22.612Z"
   },
   {
    "duration": 11,
    "start_time": "2024-12-05T14:41:24.865Z"
   },
   {
    "duration": 100,
    "start_time": "2024-12-05T14:41:39.569Z"
   },
   {
    "duration": 14,
    "start_time": "2024-12-05T14:41:42.743Z"
   },
   {
    "duration": 11,
    "start_time": "2024-12-05T14:42:20.767Z"
   },
   {
    "duration": 19,
    "start_time": "2024-12-05T14:42:31.031Z"
   },
   {
    "duration": 872,
    "start_time": "2024-12-05T14:43:00.873Z"
   },
   {
    "duration": 13,
    "start_time": "2024-12-05T14:43:01.746Z"
   },
   {
    "duration": 10,
    "start_time": "2024-12-05T14:43:28.572Z"
   },
   {
    "duration": 5,
    "start_time": "2024-12-05T14:43:36.665Z"
   },
   {
    "duration": 12,
    "start_time": "2024-12-05T14:43:41.866Z"
   },
   {
    "duration": 4,
    "start_time": "2024-12-05T14:43:46.474Z"
   },
   {
    "duration": 15,
    "start_time": "2024-12-05T14:43:49.482Z"
   },
   {
    "duration": 4,
    "start_time": "2024-12-05T14:44:04.137Z"
   },
   {
    "duration": 1223,
    "start_time": "2024-12-05T15:11:00.357Z"
   },
   {
    "duration": 75,
    "start_time": "2024-12-05T15:11:01.582Z"
   },
   {
    "duration": 12,
    "start_time": "2024-12-05T15:11:01.658Z"
   },
   {
    "duration": 17,
    "start_time": "2024-12-05T15:11:01.672Z"
   },
   {
    "duration": 32,
    "start_time": "2024-12-05T15:11:01.691Z"
   },
   {
    "duration": 19,
    "start_time": "2024-12-05T15:11:01.724Z"
   },
   {
    "duration": 30,
    "start_time": "2024-12-05T15:11:01.744Z"
   },
   {
    "duration": 37,
    "start_time": "2024-12-05T15:11:01.776Z"
   },
   {
    "duration": 22,
    "start_time": "2024-12-05T15:11:01.814Z"
   },
   {
    "duration": 6,
    "start_time": "2024-12-05T15:11:01.838Z"
   },
   {
    "duration": 26,
    "start_time": "2024-12-05T15:11:01.845Z"
   },
   {
    "duration": 14,
    "start_time": "2024-12-05T15:11:01.873Z"
   },
   {
    "duration": 23,
    "start_time": "2024-12-05T15:11:01.889Z"
   },
   {
    "duration": 183,
    "start_time": "2024-12-05T15:11:01.915Z"
   },
   {
    "duration": 89,
    "start_time": "2024-12-05T15:11:02.100Z"
   },
   {
    "duration": 8,
    "start_time": "2024-12-05T15:11:02.191Z"
   },
   {
    "duration": 201,
    "start_time": "2024-12-05T15:11:02.201Z"
   },
   {
    "duration": 8,
    "start_time": "2024-12-05T15:11:02.404Z"
   },
   {
    "duration": 112,
    "start_time": "2024-12-05T15:11:02.414Z"
   },
   {
    "duration": 8,
    "start_time": "2024-12-05T15:11:02.528Z"
   },
   {
    "duration": 125,
    "start_time": "2024-12-05T15:11:02.537Z"
   },
   {
    "duration": 12,
    "start_time": "2024-12-05T15:11:02.664Z"
   },
   {
    "duration": 31,
    "start_time": "2024-12-05T15:11:02.677Z"
   },
   {
    "duration": 16,
    "start_time": "2024-12-05T15:11:02.709Z"
   },
   {
    "duration": 48,
    "start_time": "2024-12-05T15:11:02.727Z"
   },
   {
    "duration": 181,
    "start_time": "2024-12-05T15:11:02.777Z"
   },
   {
    "duration": 194,
    "start_time": "2024-12-05T15:11:02.960Z"
   },
   {
    "duration": 14,
    "start_time": "2024-12-05T15:11:03.156Z"
   },
   {
    "duration": 40,
    "start_time": "2024-12-05T15:11:03.172Z"
   },
   {
    "duration": 200,
    "start_time": "2024-12-05T15:11:03.214Z"
   },
   {
    "duration": 246,
    "start_time": "2024-12-05T15:11:03.416Z"
   },
   {
    "duration": 923,
    "start_time": "2024-12-05T15:11:03.664Z"
   },
   {
    "duration": 10,
    "start_time": "2024-12-05T15:11:04.588Z"
   },
   {
    "duration": 46,
    "start_time": "2024-12-05T15:11:04.600Z"
   },
   {
    "duration": 35,
    "start_time": "2024-12-05T15:11:04.647Z"
   },
   {
    "duration": 50,
    "start_time": "2024-12-05T15:11:04.684Z"
   },
   {
    "duration": 41,
    "start_time": "2024-12-05T15:11:04.736Z"
   },
   {
    "duration": 6,
    "start_time": "2024-12-05T15:11:04.778Z"
   },
   {
    "duration": 40,
    "start_time": "2024-12-05T15:11:04.785Z"
   },
   {
    "duration": 2,
    "start_time": "2024-12-05T15:13:21.424Z"
   },
   {
    "duration": 1389,
    "start_time": "2024-12-07T12:30:29.651Z"
   },
   {
    "duration": 372,
    "start_time": "2024-12-07T12:30:31.042Z"
   },
   {
    "duration": 11,
    "start_time": "2024-12-07T12:30:31.415Z"
   },
   {
    "duration": 24,
    "start_time": "2024-12-07T12:30:31.428Z"
   },
   {
    "duration": 48,
    "start_time": "2024-12-07T12:30:31.454Z"
   },
   {
    "duration": 73,
    "start_time": "2024-12-07T12:30:31.504Z"
   },
   {
    "duration": 8,
    "start_time": "2024-12-07T12:30:31.578Z"
   },
   {
    "duration": 57,
    "start_time": "2024-12-07T12:30:31.588Z"
   },
   {
    "duration": 78,
    "start_time": "2024-12-07T12:30:31.646Z"
   },
   {
    "duration": 16,
    "start_time": "2024-12-07T12:30:31.726Z"
   },
   {
    "duration": 11,
    "start_time": "2024-12-07T12:30:31.744Z"
   },
   {
    "duration": 12,
    "start_time": "2024-12-07T12:30:31.757Z"
   },
   {
    "duration": 11,
    "start_time": "2024-12-07T12:30:31.771Z"
   },
   {
    "duration": 192,
    "start_time": "2024-12-07T12:30:31.784Z"
   },
   {
    "duration": 93,
    "start_time": "2024-12-07T12:30:31.977Z"
   },
   {
    "duration": 7,
    "start_time": "2024-12-07T12:30:32.072Z"
   },
   {
    "duration": 178,
    "start_time": "2024-12-07T12:30:32.080Z"
   },
   {
    "duration": 8,
    "start_time": "2024-12-07T12:30:32.260Z"
   },
   {
    "duration": 114,
    "start_time": "2024-12-07T12:30:32.270Z"
   },
   {
    "duration": 12,
    "start_time": "2024-12-07T12:30:32.386Z"
   },
   {
    "duration": 127,
    "start_time": "2024-12-07T12:30:32.400Z"
   },
   {
    "duration": 11,
    "start_time": "2024-12-07T12:30:32.529Z"
   },
   {
    "duration": 39,
    "start_time": "2024-12-07T12:30:32.542Z"
   },
   {
    "duration": 18,
    "start_time": "2024-12-07T12:30:32.583Z"
   },
   {
    "duration": 60,
    "start_time": "2024-12-07T12:30:32.602Z"
   },
   {
    "duration": 176,
    "start_time": "2024-12-07T12:30:32.663Z"
   },
   {
    "duration": 204,
    "start_time": "2024-12-07T12:30:32.841Z"
   },
   {
    "duration": 16,
    "start_time": "2024-12-07T12:30:33.046Z"
   },
   {
    "duration": 60,
    "start_time": "2024-12-07T12:30:33.063Z"
   },
   {
    "duration": 199,
    "start_time": "2024-12-07T12:30:33.124Z"
   },
   {
    "duration": 239,
    "start_time": "2024-12-07T12:30:33.324Z"
   },
   {
    "duration": 918,
    "start_time": "2024-12-07T12:30:33.565Z"
   },
   {
    "duration": 17,
    "start_time": "2024-12-07T12:30:34.484Z"
   },
   {
    "duration": 26,
    "start_time": "2024-12-07T12:30:34.502Z"
   },
   {
    "duration": 21,
    "start_time": "2024-12-07T12:30:34.529Z"
   },
   {
    "duration": 12,
    "start_time": "2024-12-07T12:30:34.552Z"
   },
   {
    "duration": 8,
    "start_time": "2024-12-07T12:30:34.565Z"
   },
   {
    "duration": 5,
    "start_time": "2024-12-07T12:30:34.574Z"
   },
   {
    "duration": 33,
    "start_time": "2024-12-07T12:30:34.580Z"
   },
   {
    "duration": 1464,
    "start_time": "2024-12-07T15:18:13.738Z"
   },
   {
    "duration": 224,
    "start_time": "2024-12-07T15:18:15.205Z"
   },
   {
    "duration": 14,
    "start_time": "2024-12-07T15:18:15.430Z"
   },
   {
    "duration": 14,
    "start_time": "2024-12-07T15:18:15.446Z"
   },
   {
    "duration": 104,
    "start_time": "2024-12-07T15:18:15.462Z"
   },
   {
    "duration": 11,
    "start_time": "2024-12-07T15:18:15.568Z"
   },
   {
    "duration": 6,
    "start_time": "2024-12-07T15:18:15.581Z"
   },
   {
    "duration": 13,
    "start_time": "2024-12-07T15:18:15.589Z"
   },
   {
    "duration": 9,
    "start_time": "2024-12-07T15:18:15.603Z"
   },
   {
    "duration": 5,
    "start_time": "2024-12-07T15:18:15.615Z"
   },
   {
    "duration": 28,
    "start_time": "2024-12-07T15:18:15.622Z"
   },
   {
    "duration": 6,
    "start_time": "2024-12-07T15:18:15.652Z"
   },
   {
    "duration": 9,
    "start_time": "2024-12-07T15:18:15.660Z"
   },
   {
    "duration": 176,
    "start_time": "2024-12-07T15:18:15.670Z"
   },
   {
    "duration": 86,
    "start_time": "2024-12-07T15:18:15.849Z"
   },
   {
    "duration": 9,
    "start_time": "2024-12-07T15:18:15.952Z"
   },
   {
    "duration": 161,
    "start_time": "2024-12-07T15:18:15.962Z"
   },
   {
    "duration": 10,
    "start_time": "2024-12-07T15:18:16.125Z"
   },
   {
    "duration": 121,
    "start_time": "2024-12-07T15:18:16.136Z"
   },
   {
    "duration": 9,
    "start_time": "2024-12-07T15:18:16.258Z"
   },
   {
    "duration": 150,
    "start_time": "2024-12-07T15:18:16.269Z"
   },
   {
    "duration": 11,
    "start_time": "2024-12-07T15:18:16.421Z"
   },
   {
    "duration": 108,
    "start_time": "2024-12-07T15:18:16.434Z"
   },
   {
    "duration": 16,
    "start_time": "2024-12-07T15:18:16.544Z"
   },
   {
    "duration": 32,
    "start_time": "2024-12-07T15:18:16.562Z"
   },
   {
    "duration": 187,
    "start_time": "2024-12-07T15:18:16.596Z"
   },
   {
    "duration": 203,
    "start_time": "2024-12-07T15:18:16.785Z"
   },
   {
    "duration": 14,
    "start_time": "2024-12-07T15:18:16.991Z"
   },
   {
    "duration": 54,
    "start_time": "2024-12-07T15:18:17.006Z"
   },
   {
    "duration": 208,
    "start_time": "2024-12-07T15:18:17.062Z"
   },
   {
    "duration": 278,
    "start_time": "2024-12-07T15:18:17.272Z"
   },
   {
    "duration": 815,
    "start_time": "2024-12-07T15:18:17.552Z"
   },
   {
    "duration": 11,
    "start_time": "2024-12-07T15:18:18.369Z"
   },
   {
    "duration": 41,
    "start_time": "2024-12-07T15:18:18.381Z"
   },
   {
    "duration": 89,
    "start_time": "2024-12-07T15:18:18.423Z"
   },
   {
    "duration": 5,
    "start_time": "2024-12-07T15:18:18.513Z"
   },
   {
    "duration": 6,
    "start_time": "2024-12-07T15:18:18.520Z"
   },
   {
    "duration": 5,
    "start_time": "2024-12-07T15:18:18.528Z"
   },
   {
    "duration": 26,
    "start_time": "2024-12-07T15:18:18.534Z"
   },
   {
    "duration": 6,
    "start_time": "2024-12-07T15:22:49.139Z"
   },
   {
    "duration": 1239,
    "start_time": "2024-12-07T15:25:59.448Z"
   },
   {
    "duration": 71,
    "start_time": "2024-12-07T15:26:00.689Z"
   },
   {
    "duration": 12,
    "start_time": "2024-12-07T15:26:00.762Z"
   },
   {
    "duration": 87,
    "start_time": "2024-12-07T15:26:00.776Z"
   },
   {
    "duration": 36,
    "start_time": "2024-12-07T15:26:00.866Z"
   },
   {
    "duration": 31,
    "start_time": "2024-12-07T15:26:00.903Z"
   },
   {
    "duration": 7,
    "start_time": "2024-12-07T15:26:00.936Z"
   },
   {
    "duration": 12,
    "start_time": "2024-12-07T15:26:00.945Z"
   },
   {
    "duration": 12,
    "start_time": "2024-12-07T15:26:00.959Z"
   },
   {
    "duration": 4,
    "start_time": "2024-12-07T15:26:00.974Z"
   },
   {
    "duration": 9,
    "start_time": "2024-12-07T15:26:00.980Z"
   },
   {
    "duration": 44,
    "start_time": "2024-12-07T15:26:00.990Z"
   },
   {
    "duration": 15,
    "start_time": "2024-12-07T15:26:01.036Z"
   },
   {
    "duration": 188,
    "start_time": "2024-12-07T15:26:01.053Z"
   },
   {
    "duration": 100,
    "start_time": "2024-12-07T15:26:01.243Z"
   },
   {
    "duration": 10,
    "start_time": "2024-12-07T15:26:01.350Z"
   },
   {
    "duration": 181,
    "start_time": "2024-12-07T15:26:01.362Z"
   },
   {
    "duration": 11,
    "start_time": "2024-12-07T15:26:01.545Z"
   },
   {
    "duration": 104,
    "start_time": "2024-12-07T15:26:01.557Z"
   },
   {
    "duration": 11,
    "start_time": "2024-12-07T15:26:01.662Z"
   },
   {
    "duration": 179,
    "start_time": "2024-12-07T15:26:01.674Z"
   },
   {
    "duration": 12,
    "start_time": "2024-12-07T15:26:01.854Z"
   },
   {
    "duration": 22,
    "start_time": "2024-12-07T15:26:01.868Z"
   },
   {
    "duration": 34,
    "start_time": "2024-12-07T15:26:01.892Z"
   },
   {
    "duration": 52,
    "start_time": "2024-12-07T15:26:01.928Z"
   },
   {
    "duration": 323,
    "start_time": "2024-12-07T15:26:01.983Z"
   },
   {
    "duration": 220,
    "start_time": "2024-12-07T15:26:02.308Z"
   },
   {
    "duration": 27,
    "start_time": "2024-12-07T15:26:02.532Z"
   },
   {
    "duration": 40,
    "start_time": "2024-12-07T15:26:02.560Z"
   },
   {
    "duration": 203,
    "start_time": "2024-12-07T15:26:02.602Z"
   },
   {
    "duration": 256,
    "start_time": "2024-12-07T15:26:02.807Z"
   },
   {
    "duration": 828,
    "start_time": "2024-12-07T15:26:03.065Z"
   },
   {
    "duration": 11,
    "start_time": "2024-12-07T15:26:03.895Z"
   },
   {
    "duration": 21,
    "start_time": "2024-12-07T15:26:03.907Z"
   },
   {
    "duration": 30,
    "start_time": "2024-12-07T15:26:03.929Z"
   },
   {
    "duration": 5,
    "start_time": "2024-12-07T15:26:03.960Z"
   },
   {
    "duration": 8,
    "start_time": "2024-12-07T15:26:03.966Z"
   },
   {
    "duration": 6,
    "start_time": "2024-12-07T15:26:03.975Z"
   },
   {
    "duration": 22,
    "start_time": "2024-12-07T15:26:03.982Z"
   },
   {
    "duration": 129,
    "start_time": "2024-12-07T17:30:06.565Z"
   },
   {
    "duration": 94,
    "start_time": "2024-12-07T17:30:11.153Z"
   },
   {
    "duration": 75,
    "start_time": "2024-12-07T17:30:22.709Z"
   },
   {
    "duration": 75,
    "start_time": "2024-12-07T17:30:26.541Z"
   },
   {
    "duration": 67,
    "start_time": "2024-12-07T17:31:06.357Z"
   },
   {
    "duration": 81,
    "start_time": "2024-12-07T17:31:16.585Z"
   },
   {
    "duration": 80,
    "start_time": "2024-12-07T17:31:24.229Z"
   },
   {
    "duration": 1248,
    "start_time": "2024-12-08T16:37:41.617Z"
   },
   {
    "duration": 77,
    "start_time": "2024-12-08T16:37:42.867Z"
   },
   {
    "duration": 12,
    "start_time": "2024-12-08T16:37:42.946Z"
   },
   {
    "duration": 20,
    "start_time": "2024-12-08T16:37:42.960Z"
   },
   {
    "duration": 25,
    "start_time": "2024-12-08T16:37:42.981Z"
   },
   {
    "duration": 13,
    "start_time": "2024-12-08T16:37:43.008Z"
   },
   {
    "duration": 8,
    "start_time": "2024-12-08T16:37:43.023Z"
   },
   {
    "duration": 11,
    "start_time": "2024-12-08T16:37:43.033Z"
   },
   {
    "duration": 13,
    "start_time": "2024-12-08T16:37:43.046Z"
   },
   {
    "duration": 5,
    "start_time": "2024-12-08T16:37:43.063Z"
   },
   {
    "duration": 118,
    "start_time": "2024-12-08T16:37:43.089Z"
   },
   {
    "duration": 6,
    "start_time": "2024-12-08T16:37:43.209Z"
   },
   {
    "duration": 8,
    "start_time": "2024-12-08T16:37:43.216Z"
   },
   {
    "duration": 10,
    "start_time": "2024-12-08T16:37:43.226Z"
   },
   {
    "duration": 6,
    "start_time": "2024-12-08T16:37:43.238Z"
   },
   {
    "duration": 7,
    "start_time": "2024-12-08T16:37:43.246Z"
   },
   {
    "duration": 30,
    "start_time": "2024-12-08T16:37:43.255Z"
   },
   {
    "duration": 24,
    "start_time": "2024-12-08T16:37:43.286Z"
   },
   {
    "duration": 31,
    "start_time": "2024-12-08T16:37:43.312Z"
   },
   {
    "duration": 195,
    "start_time": "2024-12-08T16:37:43.345Z"
   },
   {
    "duration": 7,
    "start_time": "2024-12-08T16:37:43.543Z"
   },
   {
    "duration": 210,
    "start_time": "2024-12-08T16:37:43.552Z"
   },
   {
    "duration": 10,
    "start_time": "2024-12-08T16:37:43.764Z"
   },
   {
    "duration": 182,
    "start_time": "2024-12-08T16:37:43.776Z"
   },
   {
    "duration": 8,
    "start_time": "2024-12-08T16:37:43.960Z"
   },
   {
    "duration": 226,
    "start_time": "2024-12-08T16:37:43.969Z"
   },
   {
    "duration": 120,
    "start_time": "2024-12-08T16:37:44.197Z"
   },
   {
    "duration": 9,
    "start_time": "2024-12-08T16:37:44.320Z"
   },
   {
    "duration": 213,
    "start_time": "2024-12-08T16:37:44.331Z"
   },
   {
    "duration": 145,
    "start_time": "2024-12-08T16:37:44.546Z"
   },
   {
    "duration": 15,
    "start_time": "2024-12-08T16:37:44.693Z"
   },
   {
    "duration": 21,
    "start_time": "2024-12-08T16:37:44.710Z"
   },
   {
    "duration": 14,
    "start_time": "2024-12-08T16:37:44.733Z"
   },
   {
    "duration": 47,
    "start_time": "2024-12-08T16:37:44.749Z"
   },
   {
    "duration": 12,
    "start_time": "2024-12-08T16:37:44.799Z"
   },
   {
    "duration": 51,
    "start_time": "2024-12-08T16:37:44.813Z"
   },
   {
    "duration": 63,
    "start_time": "2024-12-08T16:37:44.866Z"
   },
   {
    "duration": 195,
    "start_time": "2024-12-08T16:37:44.931Z"
   },
   {
    "duration": 287,
    "start_time": "2024-12-08T16:37:45.128Z"
   },
   {
    "duration": 165,
    "start_time": "2024-12-08T16:37:45.416Z"
   },
   {
    "duration": 26,
    "start_time": "2024-12-08T16:37:45.582Z"
   },
   {
    "duration": 106,
    "start_time": "2024-12-08T16:37:45.609Z"
   },
   {
    "duration": 202,
    "start_time": "2024-12-08T16:37:45.716Z"
   },
   {
    "duration": 196,
    "start_time": "2024-12-08T16:37:45.920Z"
   },
   {
    "duration": 3,
    "start_time": "2024-12-08T16:37:46.118Z"
   },
   {
    "duration": 918,
    "start_time": "2024-12-08T16:37:46.122Z"
   },
   {
    "duration": 11,
    "start_time": "2024-12-08T16:37:47.041Z"
   },
   {
    "duration": 23,
    "start_time": "2024-12-08T16:37:47.053Z"
   },
   {
    "duration": 96,
    "start_time": "2024-12-08T16:37:47.077Z"
   },
   {
    "duration": 23,
    "start_time": "2024-12-08T16:37:47.174Z"
   },
   {
    "duration": 31,
    "start_time": "2024-12-08T16:37:47.199Z"
   },
   {
    "duration": 14,
    "start_time": "2024-12-08T16:37:47.232Z"
   },
   {
    "duration": 1225,
    "start_time": "2024-12-23T09:52:47.974Z"
   },
   {
    "duration": 201,
    "start_time": "2024-12-23T09:52:49.201Z"
   },
   {
    "duration": 12,
    "start_time": "2024-12-23T09:52:49.404Z"
   },
   {
    "duration": 15,
    "start_time": "2024-12-23T09:52:49.418Z"
   },
   {
    "duration": 42,
    "start_time": "2024-12-23T09:52:49.435Z"
   },
   {
    "duration": 19,
    "start_time": "2024-12-23T09:52:49.479Z"
   },
   {
    "duration": 8,
    "start_time": "2024-12-23T09:52:49.500Z"
   },
   {
    "duration": 13,
    "start_time": "2024-12-23T09:52:49.510Z"
   },
   {
    "duration": 16,
    "start_time": "2024-12-23T09:52:49.524Z"
   },
   {
    "duration": 8,
    "start_time": "2024-12-23T09:52:49.543Z"
   },
   {
    "duration": 19,
    "start_time": "2024-12-23T09:52:49.552Z"
   },
   {
    "duration": 5,
    "start_time": "2024-12-23T09:52:49.572Z"
   },
   {
    "duration": 9,
    "start_time": "2024-12-23T09:52:49.578Z"
   },
   {
    "duration": 15,
    "start_time": "2024-12-23T09:52:49.588Z"
   },
   {
    "duration": 5,
    "start_time": "2024-12-23T09:52:49.605Z"
   },
   {
    "duration": 21,
    "start_time": "2024-12-23T09:52:49.611Z"
   },
   {
    "duration": 9,
    "start_time": "2024-12-23T09:52:49.633Z"
   },
   {
    "duration": 5,
    "start_time": "2024-12-23T09:52:49.644Z"
   },
   {
    "duration": 23,
    "start_time": "2024-12-23T09:52:49.650Z"
   },
   {
    "duration": 262,
    "start_time": "2024-12-23T09:52:49.675Z"
   },
   {
    "duration": 5,
    "start_time": "2024-12-23T09:52:49.939Z"
   },
   {
    "duration": 98,
    "start_time": "2024-12-23T09:52:49.946Z"
   },
   {
    "duration": 11,
    "start_time": "2024-12-23T09:52:50.046Z"
   },
   {
    "duration": 166,
    "start_time": "2024-12-23T09:52:50.059Z"
   },
   {
    "duration": 8,
    "start_time": "2024-12-23T09:52:50.227Z"
   },
   {
    "duration": 207,
    "start_time": "2024-12-23T09:52:50.236Z"
   },
   {
    "duration": 118,
    "start_time": "2024-12-23T09:52:50.445Z"
   },
   {
    "duration": 9,
    "start_time": "2024-12-23T09:52:50.571Z"
   },
   {
    "duration": 227,
    "start_time": "2024-12-23T09:52:50.581Z"
   },
   {
    "duration": 117,
    "start_time": "2024-12-23T09:52:50.809Z"
   },
   {
    "duration": 63,
    "start_time": "2024-12-23T09:52:50.928Z"
   },
   {
    "duration": 99,
    "start_time": "2024-12-23T09:52:50.992Z"
   },
   {
    "duration": 37,
    "start_time": "2024-12-23T09:52:51.092Z"
   },
   {
    "duration": 30,
    "start_time": "2024-12-23T09:52:51.131Z"
   },
   {
    "duration": 49,
    "start_time": "2024-12-23T09:52:51.162Z"
   },
   {
    "duration": 36,
    "start_time": "2024-12-23T09:52:51.212Z"
   },
   {
    "duration": 72,
    "start_time": "2024-12-23T09:52:51.249Z"
   },
   {
    "duration": 180,
    "start_time": "2024-12-23T09:52:51.323Z"
   },
   {
    "duration": 277,
    "start_time": "2024-12-23T09:52:51.505Z"
   },
   {
    "duration": 167,
    "start_time": "2024-12-23T09:52:51.783Z"
   },
   {
    "duration": 23,
    "start_time": "2024-12-23T09:52:51.951Z"
   },
   {
    "duration": 176,
    "start_time": "2024-12-23T09:52:51.975Z"
   },
   {
    "duration": 197,
    "start_time": "2024-12-23T09:52:52.153Z"
   },
   {
    "duration": 180,
    "start_time": "2024-12-23T09:52:52.352Z"
   },
   {
    "duration": 3,
    "start_time": "2024-12-23T09:52:52.534Z"
   },
   {
    "duration": 938,
    "start_time": "2024-12-23T09:52:52.539Z"
   },
   {
    "duration": 12,
    "start_time": "2024-12-23T09:52:53.478Z"
   },
   {
    "duration": 25,
    "start_time": "2024-12-23T09:52:53.491Z"
   },
   {
    "duration": 15,
    "start_time": "2024-12-23T09:52:53.517Z"
   },
   {
    "duration": 16,
    "start_time": "2024-12-23T09:52:53.534Z"
   },
   {
    "duration": 10,
    "start_time": "2024-12-23T09:52:53.552Z"
   },
   {
    "duration": 33,
    "start_time": "2024-12-23T09:52:53.563Z"
   },
   {
    "duration": 50,
    "start_time": "2025-04-09T18:22:50.880Z"
   },
   {
    "duration": 1147,
    "start_time": "2025-04-09T18:22:58.765Z"
   },
   {
    "duration": 67,
    "start_time": "2025-04-09T18:22:59.914Z"
   },
   {
    "duration": 10,
    "start_time": "2025-04-09T18:22:59.983Z"
   },
   {
    "duration": 10,
    "start_time": "2025-04-09T18:22:59.995Z"
   },
   {
    "duration": 135,
    "start_time": "2025-04-09T18:23:00.007Z"
   },
   {
    "duration": 43,
    "start_time": "2025-04-09T18:23:00.143Z"
   },
   {
    "duration": 17,
    "start_time": "2025-04-09T18:23:00.188Z"
   },
   {
    "duration": 39,
    "start_time": "2025-04-09T18:23:00.207Z"
   },
   {
    "duration": 35,
    "start_time": "2025-04-09T18:23:00.248Z"
   },
   {
    "duration": 48,
    "start_time": "2025-04-09T18:23:00.286Z"
   },
   {
    "duration": 30,
    "start_time": "2025-04-09T18:23:00.336Z"
   },
   {
    "duration": 42,
    "start_time": "2025-04-09T18:23:00.368Z"
   },
   {
    "duration": 18,
    "start_time": "2025-04-09T18:23:00.412Z"
   },
   {
    "duration": 9,
    "start_time": "2025-04-09T18:23:00.431Z"
   },
   {
    "duration": 65,
    "start_time": "2025-04-09T18:23:00.442Z"
   },
   {
    "duration": 30,
    "start_time": "2025-04-09T18:23:00.509Z"
   },
   {
    "duration": 45,
    "start_time": "2025-04-09T18:23:00.541Z"
   },
   {
    "duration": 36,
    "start_time": "2025-04-09T18:23:00.588Z"
   },
   {
    "duration": 80,
    "start_time": "2025-04-09T18:23:00.626Z"
   },
   {
    "duration": 181,
    "start_time": "2025-04-09T18:23:00.708Z"
   },
   {
    "duration": 7,
    "start_time": "2025-04-09T18:23:00.891Z"
   },
   {
    "duration": 168,
    "start_time": "2025-04-09T18:23:00.899Z"
   },
   {
    "duration": 22,
    "start_time": "2025-04-09T18:23:01.069Z"
   },
   {
    "duration": 178,
    "start_time": "2025-04-09T18:23:01.093Z"
   },
   {
    "duration": 10,
    "start_time": "2025-04-09T18:23:01.272Z"
   },
   {
    "duration": 202,
    "start_time": "2025-04-09T18:23:01.283Z"
   },
   {
    "duration": 110,
    "start_time": "2025-04-09T18:23:01.487Z"
   },
   {
    "duration": 8,
    "start_time": "2025-04-09T18:23:01.600Z"
   },
   {
    "duration": 398,
    "start_time": "2025-04-09T18:23:01.610Z"
   },
   {
    "duration": 119,
    "start_time": "2025-04-09T18:23:02.010Z"
   },
   {
    "duration": 59,
    "start_time": "2025-04-09T18:23:02.131Z"
   },
   {
    "duration": 55,
    "start_time": "2025-04-09T18:23:02.191Z"
   },
   {
    "duration": 34,
    "start_time": "2025-04-09T18:23:02.248Z"
   },
   {
    "duration": 37,
    "start_time": "2025-04-09T18:23:02.283Z"
   },
   {
    "duration": 9,
    "start_time": "2025-04-09T18:23:02.321Z"
   },
   {
    "duration": 16,
    "start_time": "2025-04-09T18:23:02.332Z"
   },
   {
    "duration": 31,
    "start_time": "2025-04-09T18:23:02.349Z"
   },
   {
    "duration": 173,
    "start_time": "2025-04-09T18:23:02.381Z"
   },
   {
    "duration": 261,
    "start_time": "2025-04-09T18:23:02.556Z"
   },
   {
    "duration": 183,
    "start_time": "2025-04-09T18:23:02.818Z"
   },
   {
    "duration": 14,
    "start_time": "2025-04-09T18:23:03.002Z"
   },
   {
    "duration": 131,
    "start_time": "2025-04-09T18:23:03.017Z"
   },
   {
    "duration": 176,
    "start_time": "2025-04-09T18:23:03.149Z"
   },
   {
    "duration": 170,
    "start_time": "2025-04-09T18:23:03.327Z"
   },
   {
    "duration": 3,
    "start_time": "2025-04-09T18:23:03.499Z"
   },
   {
    "duration": 877,
    "start_time": "2025-04-09T18:23:03.503Z"
   },
   {
    "duration": 10,
    "start_time": "2025-04-09T18:23:04.381Z"
   },
   {
    "duration": 29,
    "start_time": "2025-04-09T18:23:04.393Z"
   },
   {
    "duration": 9,
    "start_time": "2025-04-09T18:23:04.424Z"
   },
   {
    "duration": 8,
    "start_time": "2025-04-09T18:23:04.434Z"
   },
   {
    "duration": 26,
    "start_time": "2025-04-09T18:23:04.443Z"
   },
   {
    "duration": 11,
    "start_time": "2025-04-09T18:23:04.470Z"
   }
  ],
  "kernelspec": {
   "display_name": "Python 3 (ipykernel)",
   "language": "python",
   "name": "python3"
  },
  "language_info": {
   "codemirror_mode": {
    "name": "ipython",
    "version": 3
   },
   "file_extension": ".py",
   "mimetype": "text/x-python",
   "name": "python",
   "nbconvert_exporter": "python",
   "pygments_lexer": "ipython3",
   "version": "3.9.5"
  },
  "toc": {
   "base_numbering": 1,
   "nav_menu": {},
   "number_sections": true,
   "sideBar": true,
   "skip_h1_title": true,
   "title_cell": "Table of Contents",
   "title_sidebar": "Contents",
   "toc_cell": false,
   "toc_position": {},
   "toc_section_display": true,
   "toc_window_display": false
  }
 },
 "nbformat": 4,
 "nbformat_minor": 5
}
