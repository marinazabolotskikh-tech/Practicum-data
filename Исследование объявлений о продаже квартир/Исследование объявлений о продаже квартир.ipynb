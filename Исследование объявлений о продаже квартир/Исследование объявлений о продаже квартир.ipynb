{
 "cells": [
  {
   "cell_type": "markdown",
   "metadata": {
    "id": "-VFbjcb3Awb7"
   },
   "source": [
    "# Исследование объявлений о продаже квартир\n",
    "\n",
    "В вашем распоряжении данные сервиса Яндекс Недвижимость — архив объявлений о продаже квартир в Санкт-Петербурге и соседних населённых пунктах за несколько лет. Вам нужно научиться определять рыночную стоимость объектов недвижимости. Для этого проведите исследовательский анализ данных и установите параметры, влияющие на цену объектов. Это позволит построить автоматизированную систему: она отследит аномалии и мошенническую деятельность.\n",
    "\n",
    "По каждой квартире на продажу доступны два вида данных. Первые вписаны пользователем, вторые — получены автоматически на основе картографических данных. Например, расстояние до центра, аэропорта и других объектов — эти данные автоматически получены из геосервисов. Количество парков и водоёмов также заполняется без участия пользователя."
   ]
  },
  {
   "cell_type": "markdown",
   "metadata": {
    "id": "aeFLH07FAwb9"
   },
   "source": [
    "### Чтение файла с данными и вывод общей информации"
   ]
  },
  {
   "cell_type": "markdown",
   "metadata": {},
   "source": [
    "#### Импорт библиотеки pandas"
   ]
  },
  {
   "cell_type": "code",
   "execution_count": 1,
   "metadata": {
    "id": "7MZxY65pAwb9"
   },
   "outputs": [],
   "source": [
    "import pandas as pd"
   ]
  },
  {
   "cell_type": "code",
   "execution_count": 2,
   "metadata": {},
   "outputs": [],
   "source": [
    "data = pd.read_csv ('/datasets/real_estate_data.csv', sep='\\t')"
   ]
  },
  {
   "cell_type": "markdown",
   "metadata": {},
   "source": [
    "#### Вывод первых 10 строчек датафрейма data на экран"
   ]
  },
  {
   "cell_type": "code",
   "execution_count": 3,
   "metadata": {},
   "outputs": [
    {
     "data": {
      "text/html": [
       "<div>\n",
       "<style scoped>\n",
       "    .dataframe tbody tr th:only-of-type {\n",
       "        vertical-align: middle;\n",
       "    }\n",
       "\n",
       "    .dataframe tbody tr th {\n",
       "        vertical-align: top;\n",
       "    }\n",
       "\n",
       "    .dataframe thead th {\n",
       "        text-align: right;\n",
       "    }\n",
       "</style>\n",
       "<table border=\"1\" class=\"dataframe\">\n",
       "  <thead>\n",
       "    <tr style=\"text-align: right;\">\n",
       "      <th></th>\n",
       "      <th>total_images</th>\n",
       "      <th>last_price</th>\n",
       "      <th>total_area</th>\n",
       "      <th>first_day_exposition</th>\n",
       "      <th>rooms</th>\n",
       "      <th>ceiling_height</th>\n",
       "      <th>floors_total</th>\n",
       "      <th>living_area</th>\n",
       "      <th>floor</th>\n",
       "      <th>is_apartment</th>\n",
       "      <th>studio</th>\n",
       "      <th>open_plan</th>\n",
       "      <th>kitchen_area</th>\n",
       "      <th>balcony</th>\n",
       "      <th>locality_name</th>\n",
       "      <th>airports_nearest</th>\n",
       "      <th>cityCenters_nearest</th>\n",
       "      <th>parks_around3000</th>\n",
       "      <th>parks_nearest</th>\n",
       "      <th>ponds_around3000</th>\n",
       "      <th>ponds_nearest</th>\n",
       "      <th>days_exposition</th>\n",
       "    </tr>\n",
       "  </thead>\n",
       "  <tbody>\n",
       "    <tr>\n",
       "      <th>0</th>\n",
       "      <td>20</td>\n",
       "      <td>13000000.0</td>\n",
       "      <td>108.00</td>\n",
       "      <td>2019-03-07T00:00:00</td>\n",
       "      <td>3</td>\n",
       "      <td>2.70</td>\n",
       "      <td>16.0</td>\n",
       "      <td>51.0</td>\n",
       "      <td>8</td>\n",
       "      <td>NaN</td>\n",
       "      <td>False</td>\n",
       "      <td>False</td>\n",
       "      <td>25.00</td>\n",
       "      <td>NaN</td>\n",
       "      <td>Санкт-Петербург</td>\n",
       "      <td>18863.0</td>\n",
       "      <td>16028.0</td>\n",
       "      <td>1.0</td>\n",
       "      <td>482.0</td>\n",
       "      <td>2.0</td>\n",
       "      <td>755.0</td>\n",
       "      <td>NaN</td>\n",
       "    </tr>\n",
       "    <tr>\n",
       "      <th>1</th>\n",
       "      <td>7</td>\n",
       "      <td>3350000.0</td>\n",
       "      <td>40.40</td>\n",
       "      <td>2018-12-04T00:00:00</td>\n",
       "      <td>1</td>\n",
       "      <td>NaN</td>\n",
       "      <td>11.0</td>\n",
       "      <td>18.6</td>\n",
       "      <td>1</td>\n",
       "      <td>NaN</td>\n",
       "      <td>False</td>\n",
       "      <td>False</td>\n",
       "      <td>11.00</td>\n",
       "      <td>2.0</td>\n",
       "      <td>посёлок Шушары</td>\n",
       "      <td>12817.0</td>\n",
       "      <td>18603.0</td>\n",
       "      <td>0.0</td>\n",
       "      <td>NaN</td>\n",
       "      <td>0.0</td>\n",
       "      <td>NaN</td>\n",
       "      <td>81.0</td>\n",
       "    </tr>\n",
       "    <tr>\n",
       "      <th>2</th>\n",
       "      <td>10</td>\n",
       "      <td>5196000.0</td>\n",
       "      <td>56.00</td>\n",
       "      <td>2015-08-20T00:00:00</td>\n",
       "      <td>2</td>\n",
       "      <td>NaN</td>\n",
       "      <td>5.0</td>\n",
       "      <td>34.3</td>\n",
       "      <td>4</td>\n",
       "      <td>NaN</td>\n",
       "      <td>False</td>\n",
       "      <td>False</td>\n",
       "      <td>8.30</td>\n",
       "      <td>0.0</td>\n",
       "      <td>Санкт-Петербург</td>\n",
       "      <td>21741.0</td>\n",
       "      <td>13933.0</td>\n",
       "      <td>1.0</td>\n",
       "      <td>90.0</td>\n",
       "      <td>2.0</td>\n",
       "      <td>574.0</td>\n",
       "      <td>558.0</td>\n",
       "    </tr>\n",
       "    <tr>\n",
       "      <th>3</th>\n",
       "      <td>0</td>\n",
       "      <td>64900000.0</td>\n",
       "      <td>159.00</td>\n",
       "      <td>2015-07-24T00:00:00</td>\n",
       "      <td>3</td>\n",
       "      <td>NaN</td>\n",
       "      <td>14.0</td>\n",
       "      <td>NaN</td>\n",
       "      <td>9</td>\n",
       "      <td>NaN</td>\n",
       "      <td>False</td>\n",
       "      <td>False</td>\n",
       "      <td>NaN</td>\n",
       "      <td>0.0</td>\n",
       "      <td>Санкт-Петербург</td>\n",
       "      <td>28098.0</td>\n",
       "      <td>6800.0</td>\n",
       "      <td>2.0</td>\n",
       "      <td>84.0</td>\n",
       "      <td>3.0</td>\n",
       "      <td>234.0</td>\n",
       "      <td>424.0</td>\n",
       "    </tr>\n",
       "    <tr>\n",
       "      <th>4</th>\n",
       "      <td>2</td>\n",
       "      <td>10000000.0</td>\n",
       "      <td>100.00</td>\n",
       "      <td>2018-06-19T00:00:00</td>\n",
       "      <td>2</td>\n",
       "      <td>3.03</td>\n",
       "      <td>14.0</td>\n",
       "      <td>32.0</td>\n",
       "      <td>13</td>\n",
       "      <td>NaN</td>\n",
       "      <td>False</td>\n",
       "      <td>False</td>\n",
       "      <td>41.00</td>\n",
       "      <td>NaN</td>\n",
       "      <td>Санкт-Петербург</td>\n",
       "      <td>31856.0</td>\n",
       "      <td>8098.0</td>\n",
       "      <td>2.0</td>\n",
       "      <td>112.0</td>\n",
       "      <td>1.0</td>\n",
       "      <td>48.0</td>\n",
       "      <td>121.0</td>\n",
       "    </tr>\n",
       "    <tr>\n",
       "      <th>...</th>\n",
       "      <td>...</td>\n",
       "      <td>...</td>\n",
       "      <td>...</td>\n",
       "      <td>...</td>\n",
       "      <td>...</td>\n",
       "      <td>...</td>\n",
       "      <td>...</td>\n",
       "      <td>...</td>\n",
       "      <td>...</td>\n",
       "      <td>...</td>\n",
       "      <td>...</td>\n",
       "      <td>...</td>\n",
       "      <td>...</td>\n",
       "      <td>...</td>\n",
       "      <td>...</td>\n",
       "      <td>...</td>\n",
       "      <td>...</td>\n",
       "      <td>...</td>\n",
       "      <td>...</td>\n",
       "      <td>...</td>\n",
       "      <td>...</td>\n",
       "      <td>...</td>\n",
       "    </tr>\n",
       "    <tr>\n",
       "      <th>23694</th>\n",
       "      <td>9</td>\n",
       "      <td>9700000.0</td>\n",
       "      <td>133.81</td>\n",
       "      <td>2017-03-21T00:00:00</td>\n",
       "      <td>3</td>\n",
       "      <td>3.70</td>\n",
       "      <td>5.0</td>\n",
       "      <td>73.3</td>\n",
       "      <td>3</td>\n",
       "      <td>NaN</td>\n",
       "      <td>False</td>\n",
       "      <td>False</td>\n",
       "      <td>13.83</td>\n",
       "      <td>NaN</td>\n",
       "      <td>Санкт-Петербург</td>\n",
       "      <td>24665.0</td>\n",
       "      <td>4232.0</td>\n",
       "      <td>1.0</td>\n",
       "      <td>796.0</td>\n",
       "      <td>3.0</td>\n",
       "      <td>381.0</td>\n",
       "      <td>NaN</td>\n",
       "    </tr>\n",
       "    <tr>\n",
       "      <th>23695</th>\n",
       "      <td>14</td>\n",
       "      <td>3100000.0</td>\n",
       "      <td>59.00</td>\n",
       "      <td>2018-01-15T00:00:00</td>\n",
       "      <td>3</td>\n",
       "      <td>NaN</td>\n",
       "      <td>5.0</td>\n",
       "      <td>38.0</td>\n",
       "      <td>4</td>\n",
       "      <td>NaN</td>\n",
       "      <td>False</td>\n",
       "      <td>False</td>\n",
       "      <td>8.50</td>\n",
       "      <td>NaN</td>\n",
       "      <td>Тосно</td>\n",
       "      <td>NaN</td>\n",
       "      <td>NaN</td>\n",
       "      <td>NaN</td>\n",
       "      <td>NaN</td>\n",
       "      <td>NaN</td>\n",
       "      <td>NaN</td>\n",
       "      <td>45.0</td>\n",
       "    </tr>\n",
       "    <tr>\n",
       "      <th>23696</th>\n",
       "      <td>18</td>\n",
       "      <td>2500000.0</td>\n",
       "      <td>56.70</td>\n",
       "      <td>2018-02-11T00:00:00</td>\n",
       "      <td>2</td>\n",
       "      <td>NaN</td>\n",
       "      <td>3.0</td>\n",
       "      <td>29.7</td>\n",
       "      <td>1</td>\n",
       "      <td>NaN</td>\n",
       "      <td>False</td>\n",
       "      <td>False</td>\n",
       "      <td>NaN</td>\n",
       "      <td>NaN</td>\n",
       "      <td>село Рождествено</td>\n",
       "      <td>NaN</td>\n",
       "      <td>NaN</td>\n",
       "      <td>NaN</td>\n",
       "      <td>NaN</td>\n",
       "      <td>NaN</td>\n",
       "      <td>NaN</td>\n",
       "      <td>NaN</td>\n",
       "    </tr>\n",
       "    <tr>\n",
       "      <th>23697</th>\n",
       "      <td>13</td>\n",
       "      <td>11475000.0</td>\n",
       "      <td>76.75</td>\n",
       "      <td>2017-03-28T00:00:00</td>\n",
       "      <td>2</td>\n",
       "      <td>3.00</td>\n",
       "      <td>17.0</td>\n",
       "      <td>NaN</td>\n",
       "      <td>12</td>\n",
       "      <td>NaN</td>\n",
       "      <td>False</td>\n",
       "      <td>False</td>\n",
       "      <td>23.30</td>\n",
       "      <td>2.0</td>\n",
       "      <td>Санкт-Петербург</td>\n",
       "      <td>39140.0</td>\n",
       "      <td>10364.0</td>\n",
       "      <td>2.0</td>\n",
       "      <td>173.0</td>\n",
       "      <td>3.0</td>\n",
       "      <td>196.0</td>\n",
       "      <td>602.0</td>\n",
       "    </tr>\n",
       "    <tr>\n",
       "      <th>23698</th>\n",
       "      <td>4</td>\n",
       "      <td>1350000.0</td>\n",
       "      <td>32.30</td>\n",
       "      <td>2017-07-21T00:00:00</td>\n",
       "      <td>1</td>\n",
       "      <td>2.50</td>\n",
       "      <td>5.0</td>\n",
       "      <td>12.3</td>\n",
       "      <td>1</td>\n",
       "      <td>NaN</td>\n",
       "      <td>False</td>\n",
       "      <td>False</td>\n",
       "      <td>9.00</td>\n",
       "      <td>NaN</td>\n",
       "      <td>поселок Новый Учхоз</td>\n",
       "      <td>NaN</td>\n",
       "      <td>NaN</td>\n",
       "      <td>NaN</td>\n",
       "      <td>NaN</td>\n",
       "      <td>NaN</td>\n",
       "      <td>NaN</td>\n",
       "      <td>NaN</td>\n",
       "    </tr>\n",
       "  </tbody>\n",
       "</table>\n",
       "<p>23699 rows × 22 columns</p>\n",
       "</div>"
      ],
      "text/plain": [
       "       total_images  last_price  total_area first_day_exposition  rooms  \\\n",
       "0                20  13000000.0      108.00  2019-03-07T00:00:00      3   \n",
       "1                 7   3350000.0       40.40  2018-12-04T00:00:00      1   \n",
       "2                10   5196000.0       56.00  2015-08-20T00:00:00      2   \n",
       "3                 0  64900000.0      159.00  2015-07-24T00:00:00      3   \n",
       "4                 2  10000000.0      100.00  2018-06-19T00:00:00      2   \n",
       "...             ...         ...         ...                  ...    ...   \n",
       "23694             9   9700000.0      133.81  2017-03-21T00:00:00      3   \n",
       "23695            14   3100000.0       59.00  2018-01-15T00:00:00      3   \n",
       "23696            18   2500000.0       56.70  2018-02-11T00:00:00      2   \n",
       "23697            13  11475000.0       76.75  2017-03-28T00:00:00      2   \n",
       "23698             4   1350000.0       32.30  2017-07-21T00:00:00      1   \n",
       "\n",
       "       ceiling_height  floors_total  living_area  floor is_apartment  studio  \\\n",
       "0                2.70          16.0         51.0      8          NaN   False   \n",
       "1                 NaN          11.0         18.6      1          NaN   False   \n",
       "2                 NaN           5.0         34.3      4          NaN   False   \n",
       "3                 NaN          14.0          NaN      9          NaN   False   \n",
       "4                3.03          14.0         32.0     13          NaN   False   \n",
       "...               ...           ...          ...    ...          ...     ...   \n",
       "23694            3.70           5.0         73.3      3          NaN   False   \n",
       "23695             NaN           5.0         38.0      4          NaN   False   \n",
       "23696             NaN           3.0         29.7      1          NaN   False   \n",
       "23697            3.00          17.0          NaN     12          NaN   False   \n",
       "23698            2.50           5.0         12.3      1          NaN   False   \n",
       "\n",
       "       open_plan  kitchen_area  balcony        locality_name  \\\n",
       "0          False         25.00      NaN      Санкт-Петербург   \n",
       "1          False         11.00      2.0       посёлок Шушары   \n",
       "2          False          8.30      0.0      Санкт-Петербург   \n",
       "3          False           NaN      0.0      Санкт-Петербург   \n",
       "4          False         41.00      NaN      Санкт-Петербург   \n",
       "...          ...           ...      ...                  ...   \n",
       "23694      False         13.83      NaN      Санкт-Петербург   \n",
       "23695      False          8.50      NaN                Тосно   \n",
       "23696      False           NaN      NaN     село Рождествено   \n",
       "23697      False         23.30      2.0      Санкт-Петербург   \n",
       "23698      False          9.00      NaN  поселок Новый Учхоз   \n",
       "\n",
       "       airports_nearest  cityCenters_nearest  parks_around3000  parks_nearest  \\\n",
       "0               18863.0              16028.0               1.0          482.0   \n",
       "1               12817.0              18603.0               0.0            NaN   \n",
       "2               21741.0              13933.0               1.0           90.0   \n",
       "3               28098.0               6800.0               2.0           84.0   \n",
       "4               31856.0               8098.0               2.0          112.0   \n",
       "...                 ...                  ...               ...            ...   \n",
       "23694           24665.0               4232.0               1.0          796.0   \n",
       "23695               NaN                  NaN               NaN            NaN   \n",
       "23696               NaN                  NaN               NaN            NaN   \n",
       "23697           39140.0              10364.0               2.0          173.0   \n",
       "23698               NaN                  NaN               NaN            NaN   \n",
       "\n",
       "       ponds_around3000  ponds_nearest  days_exposition  \n",
       "0                   2.0          755.0              NaN  \n",
       "1                   0.0            NaN             81.0  \n",
       "2                   2.0          574.0            558.0  \n",
       "3                   3.0          234.0            424.0  \n",
       "4                   1.0           48.0            121.0  \n",
       "...                 ...            ...              ...  \n",
       "23694               3.0          381.0              NaN  \n",
       "23695               NaN            NaN             45.0  \n",
       "23696               NaN            NaN              NaN  \n",
       "23697               3.0          196.0            602.0  \n",
       "23698               NaN            NaN              NaN  \n",
       "\n",
       "[23699 rows x 22 columns]"
      ]
     },
     "execution_count": 3,
     "metadata": {},
     "output_type": "execute_result"
    }
   ],
   "source": [
    "data.head(pd.set_option('display.max_columns', None))"
   ]
  },
  {
   "cell_type": "markdown",
   "metadata": {},
   "source": [
    "#### Вывод основной информации о датафрейме"
   ]
  },
  {
   "cell_type": "code",
   "execution_count": 4,
   "metadata": {},
   "outputs": [
    {
     "name": "stdout",
     "output_type": "stream",
     "text": [
      "<class 'pandas.core.frame.DataFrame'>\n",
      "RangeIndex: 23699 entries, 0 to 23698\n",
      "Data columns (total 22 columns):\n",
      " #   Column                Non-Null Count  Dtype  \n",
      "---  ------                --------------  -----  \n",
      " 0   total_images          23699 non-null  int64  \n",
      " 1   last_price            23699 non-null  float64\n",
      " 2   total_area            23699 non-null  float64\n",
      " 3   first_day_exposition  23699 non-null  object \n",
      " 4   rooms                 23699 non-null  int64  \n",
      " 5   ceiling_height        14504 non-null  float64\n",
      " 6   floors_total          23613 non-null  float64\n",
      " 7   living_area           21796 non-null  float64\n",
      " 8   floor                 23699 non-null  int64  \n",
      " 9   is_apartment          2775 non-null   object \n",
      " 10  studio                23699 non-null  bool   \n",
      " 11  open_plan             23699 non-null  bool   \n",
      " 12  kitchen_area          21421 non-null  float64\n",
      " 13  balcony               12180 non-null  float64\n",
      " 14  locality_name         23650 non-null  object \n",
      " 15  airports_nearest      18157 non-null  float64\n",
      " 16  cityCenters_nearest   18180 non-null  float64\n",
      " 17  parks_around3000      18181 non-null  float64\n",
      " 18  parks_nearest         8079 non-null   float64\n",
      " 19  ponds_around3000      18181 non-null  float64\n",
      " 20  ponds_nearest         9110 non-null   float64\n",
      " 21  days_exposition       20518 non-null  float64\n",
      "dtypes: bool(2), float64(14), int64(3), object(3)\n",
      "memory usage: 3.7+ MB\n"
     ]
    }
   ],
   "source": [
    "data.info()"
   ]
  },
  {
   "cell_type": "markdown",
   "metadata": {},
   "source": [
    "#### Описание данных"
   ]
  },
  {
   "cell_type": "code",
   "execution_count": 5,
   "metadata": {
    "scrolled": true
   },
   "outputs": [
    {
     "data": {
      "text/html": [
       "<div>\n",
       "<style scoped>\n",
       "    .dataframe tbody tr th:only-of-type {\n",
       "        vertical-align: middle;\n",
       "    }\n",
       "\n",
       "    .dataframe tbody tr th {\n",
       "        vertical-align: top;\n",
       "    }\n",
       "\n",
       "    .dataframe thead th {\n",
       "        text-align: right;\n",
       "    }\n",
       "</style>\n",
       "<table border=\"1\" class=\"dataframe\">\n",
       "  <thead>\n",
       "    <tr style=\"text-align: right;\">\n",
       "      <th></th>\n",
       "      <th>total_images</th>\n",
       "      <th>last_price</th>\n",
       "      <th>total_area</th>\n",
       "      <th>rooms</th>\n",
       "      <th>ceiling_height</th>\n",
       "      <th>floors_total</th>\n",
       "      <th>living_area</th>\n",
       "      <th>floor</th>\n",
       "      <th>kitchen_area</th>\n",
       "      <th>balcony</th>\n",
       "      <th>airports_nearest</th>\n",
       "      <th>cityCenters_nearest</th>\n",
       "      <th>parks_around3000</th>\n",
       "      <th>parks_nearest</th>\n",
       "      <th>ponds_around3000</th>\n",
       "      <th>ponds_nearest</th>\n",
       "      <th>days_exposition</th>\n",
       "    </tr>\n",
       "  </thead>\n",
       "  <tbody>\n",
       "    <tr>\n",
       "      <th>count</th>\n",
       "      <td>23699.000000</td>\n",
       "      <td>2.369900e+04</td>\n",
       "      <td>23699.000000</td>\n",
       "      <td>23699.000000</td>\n",
       "      <td>14504.000000</td>\n",
       "      <td>23613.000000</td>\n",
       "      <td>21796.000000</td>\n",
       "      <td>23699.000000</td>\n",
       "      <td>21421.000000</td>\n",
       "      <td>12180.000000</td>\n",
       "      <td>18157.000000</td>\n",
       "      <td>18180.000000</td>\n",
       "      <td>18181.000000</td>\n",
       "      <td>8079.000000</td>\n",
       "      <td>18181.000000</td>\n",
       "      <td>9110.000000</td>\n",
       "      <td>20518.000000</td>\n",
       "    </tr>\n",
       "    <tr>\n",
       "      <th>mean</th>\n",
       "      <td>9.858475</td>\n",
       "      <td>6.541549e+06</td>\n",
       "      <td>60.348651</td>\n",
       "      <td>2.070636</td>\n",
       "      <td>2.771499</td>\n",
       "      <td>10.673824</td>\n",
       "      <td>34.457852</td>\n",
       "      <td>5.892358</td>\n",
       "      <td>10.569807</td>\n",
       "      <td>1.150082</td>\n",
       "      <td>28793.672193</td>\n",
       "      <td>14191.277833</td>\n",
       "      <td>0.611408</td>\n",
       "      <td>490.804555</td>\n",
       "      <td>0.770255</td>\n",
       "      <td>517.980900</td>\n",
       "      <td>180.888634</td>\n",
       "    </tr>\n",
       "    <tr>\n",
       "      <th>std</th>\n",
       "      <td>5.682529</td>\n",
       "      <td>1.088701e+07</td>\n",
       "      <td>35.654083</td>\n",
       "      <td>1.078405</td>\n",
       "      <td>1.261056</td>\n",
       "      <td>6.597173</td>\n",
       "      <td>22.030445</td>\n",
       "      <td>4.885249</td>\n",
       "      <td>5.905438</td>\n",
       "      <td>1.071300</td>\n",
       "      <td>12630.880622</td>\n",
       "      <td>8608.386210</td>\n",
       "      <td>0.802074</td>\n",
       "      <td>342.317995</td>\n",
       "      <td>0.938346</td>\n",
       "      <td>277.720643</td>\n",
       "      <td>219.727988</td>\n",
       "    </tr>\n",
       "    <tr>\n",
       "      <th>min</th>\n",
       "      <td>0.000000</td>\n",
       "      <td>1.219000e+04</td>\n",
       "      <td>12.000000</td>\n",
       "      <td>0.000000</td>\n",
       "      <td>1.000000</td>\n",
       "      <td>1.000000</td>\n",
       "      <td>2.000000</td>\n",
       "      <td>1.000000</td>\n",
       "      <td>1.300000</td>\n",
       "      <td>0.000000</td>\n",
       "      <td>0.000000</td>\n",
       "      <td>181.000000</td>\n",
       "      <td>0.000000</td>\n",
       "      <td>1.000000</td>\n",
       "      <td>0.000000</td>\n",
       "      <td>13.000000</td>\n",
       "      <td>1.000000</td>\n",
       "    </tr>\n",
       "    <tr>\n",
       "      <th>25%</th>\n",
       "      <td>6.000000</td>\n",
       "      <td>3.400000e+06</td>\n",
       "      <td>40.000000</td>\n",
       "      <td>1.000000</td>\n",
       "      <td>2.520000</td>\n",
       "      <td>5.000000</td>\n",
       "      <td>18.600000</td>\n",
       "      <td>2.000000</td>\n",
       "      <td>7.000000</td>\n",
       "      <td>0.000000</td>\n",
       "      <td>18585.000000</td>\n",
       "      <td>9238.000000</td>\n",
       "      <td>0.000000</td>\n",
       "      <td>288.000000</td>\n",
       "      <td>0.000000</td>\n",
       "      <td>294.000000</td>\n",
       "      <td>45.000000</td>\n",
       "    </tr>\n",
       "    <tr>\n",
       "      <th>50%</th>\n",
       "      <td>9.000000</td>\n",
       "      <td>4.650000e+06</td>\n",
       "      <td>52.000000</td>\n",
       "      <td>2.000000</td>\n",
       "      <td>2.650000</td>\n",
       "      <td>9.000000</td>\n",
       "      <td>30.000000</td>\n",
       "      <td>4.000000</td>\n",
       "      <td>9.100000</td>\n",
       "      <td>1.000000</td>\n",
       "      <td>26726.000000</td>\n",
       "      <td>13098.500000</td>\n",
       "      <td>0.000000</td>\n",
       "      <td>455.000000</td>\n",
       "      <td>1.000000</td>\n",
       "      <td>502.000000</td>\n",
       "      <td>95.000000</td>\n",
       "    </tr>\n",
       "    <tr>\n",
       "      <th>75%</th>\n",
       "      <td>14.000000</td>\n",
       "      <td>6.800000e+06</td>\n",
       "      <td>69.900000</td>\n",
       "      <td>3.000000</td>\n",
       "      <td>2.800000</td>\n",
       "      <td>16.000000</td>\n",
       "      <td>42.300000</td>\n",
       "      <td>8.000000</td>\n",
       "      <td>12.000000</td>\n",
       "      <td>2.000000</td>\n",
       "      <td>37273.000000</td>\n",
       "      <td>16293.000000</td>\n",
       "      <td>1.000000</td>\n",
       "      <td>612.000000</td>\n",
       "      <td>1.000000</td>\n",
       "      <td>729.000000</td>\n",
       "      <td>232.000000</td>\n",
       "    </tr>\n",
       "    <tr>\n",
       "      <th>max</th>\n",
       "      <td>50.000000</td>\n",
       "      <td>7.630000e+08</td>\n",
       "      <td>900.000000</td>\n",
       "      <td>19.000000</td>\n",
       "      <td>100.000000</td>\n",
       "      <td>60.000000</td>\n",
       "      <td>409.700000</td>\n",
       "      <td>33.000000</td>\n",
       "      <td>112.000000</td>\n",
       "      <td>5.000000</td>\n",
       "      <td>84869.000000</td>\n",
       "      <td>65968.000000</td>\n",
       "      <td>3.000000</td>\n",
       "      <td>3190.000000</td>\n",
       "      <td>3.000000</td>\n",
       "      <td>1344.000000</td>\n",
       "      <td>1580.000000</td>\n",
       "    </tr>\n",
       "  </tbody>\n",
       "</table>\n",
       "</div>"
      ],
      "text/plain": [
       "       total_images    last_price    total_area         rooms  ceiling_height  \\\n",
       "count  23699.000000  2.369900e+04  23699.000000  23699.000000    14504.000000   \n",
       "mean       9.858475  6.541549e+06     60.348651      2.070636        2.771499   \n",
       "std        5.682529  1.088701e+07     35.654083      1.078405        1.261056   \n",
       "min        0.000000  1.219000e+04     12.000000      0.000000        1.000000   \n",
       "25%        6.000000  3.400000e+06     40.000000      1.000000        2.520000   \n",
       "50%        9.000000  4.650000e+06     52.000000      2.000000        2.650000   \n",
       "75%       14.000000  6.800000e+06     69.900000      3.000000        2.800000   \n",
       "max       50.000000  7.630000e+08    900.000000     19.000000      100.000000   \n",
       "\n",
       "       floors_total   living_area         floor  kitchen_area       balcony  \\\n",
       "count  23613.000000  21796.000000  23699.000000  21421.000000  12180.000000   \n",
       "mean      10.673824     34.457852      5.892358     10.569807      1.150082   \n",
       "std        6.597173     22.030445      4.885249      5.905438      1.071300   \n",
       "min        1.000000      2.000000      1.000000      1.300000      0.000000   \n",
       "25%        5.000000     18.600000      2.000000      7.000000      0.000000   \n",
       "50%        9.000000     30.000000      4.000000      9.100000      1.000000   \n",
       "75%       16.000000     42.300000      8.000000     12.000000      2.000000   \n",
       "max       60.000000    409.700000     33.000000    112.000000      5.000000   \n",
       "\n",
       "       airports_nearest  cityCenters_nearest  parks_around3000  parks_nearest  \\\n",
       "count      18157.000000         18180.000000      18181.000000    8079.000000   \n",
       "mean       28793.672193         14191.277833          0.611408     490.804555   \n",
       "std        12630.880622          8608.386210          0.802074     342.317995   \n",
       "min            0.000000           181.000000          0.000000       1.000000   \n",
       "25%        18585.000000          9238.000000          0.000000     288.000000   \n",
       "50%        26726.000000         13098.500000          0.000000     455.000000   \n",
       "75%        37273.000000         16293.000000          1.000000     612.000000   \n",
       "max        84869.000000         65968.000000          3.000000    3190.000000   \n",
       "\n",
       "       ponds_around3000  ponds_nearest  days_exposition  \n",
       "count      18181.000000    9110.000000     20518.000000  \n",
       "mean           0.770255     517.980900       180.888634  \n",
       "std            0.938346     277.720643       219.727988  \n",
       "min            0.000000      13.000000         1.000000  \n",
       "25%            0.000000     294.000000        45.000000  \n",
       "50%            1.000000     502.000000        95.000000  \n",
       "75%            1.000000     729.000000       232.000000  \n",
       "max            3.000000    1344.000000      1580.000000  "
      ]
     },
     "execution_count": 5,
     "metadata": {},
     "output_type": "execute_result"
    }
   ],
   "source": [
    "data.describe()"
   ]
  },
  {
   "cell_type": "markdown",
   "metadata": {},
   "source": [
    "#### Определение наличия дубликатов"
   ]
  },
  {
   "cell_type": "code",
   "execution_count": 6,
   "metadata": {},
   "outputs": [
    {
     "data": {
      "text/plain": [
       "0"
      ]
     },
     "execution_count": 6,
     "metadata": {},
     "output_type": "execute_result"
    }
   ],
   "source": [
    "data.duplicated().sum() "
   ]
  },
  {
   "cell_type": "markdown",
   "metadata": {},
   "source": [
    "#### Построение гистограмм для всех числовых столбцов таблицы"
   ]
  },
  {
   "cell_type": "code",
   "execution_count": 7,
   "metadata": {},
   "outputs": [
    {
     "data": {
      "image/png": "[encoded data removed]",
      "text/plain": [
       "<Figure size 1080x1440 with 20 Axes>"
      ]
     },
     "metadata": {
      "needs_background": "light"
     },
     "output_type": "display_data"
    }
   ],
   "source": [
    "data.hist(figsize=(15, 20));"
   ]
  },
  {
   "cell_type": "markdown",
   "metadata": {
    "id": "-O5NtivEAwb9"
   },
   "source": [
    "### Предобработка данных"
   ]
  },
  {
   "cell_type": "markdown",
   "metadata": {},
   "source": [
    "#### Определение кол-ва пропусков в столбцах"
   ]
  },
  {
   "cell_type": "code",
   "execution_count": 8,
   "metadata": {},
   "outputs": [
    {
     "data": {
      "text/plain": [
       "total_images                0\n",
       "last_price                  0\n",
       "total_area                  0\n",
       "first_day_exposition        0\n",
       "rooms                       0\n",
       "ceiling_height           9195\n",
       "floors_total               86\n",
       "living_area              1903\n",
       "floor                       0\n",
       "is_apartment            20924\n",
       "studio                      0\n",
       "open_plan                   0\n",
       "kitchen_area             2278\n",
       "balcony                 11519\n",
       "locality_name              49\n",
       "airports_nearest         5542\n",
       "cityCenters_nearest      5519\n",
       "parks_around3000         5518\n",
       "parks_nearest           15620\n",
       "ponds_around3000         5518\n",
       "ponds_nearest           14589\n",
       "days_exposition          3181\n",
       "dtype: int64"
      ]
     },
     "execution_count": 8,
     "metadata": {},
     "output_type": "execute_result"
    }
   ],
   "source": [
    "data.isna().sum()"
   ]
  },
  {
   "cell_type": "markdown",
   "metadata": {},
   "source": [
    "Пропуски могли возникнуть из-за человеческого фактора (данные были удалены случайно или намерено, сотрудник не внес данные) или в результате сбоя в базе данных при выгрузке"
   ]
  },
  {
   "cell_type": "markdown",
   "metadata": {},
   "source": [
    "#### Обработка пропусков"
   ]
  },
  {
   "cell_type": "code",
   "execution_count": 9,
   "metadata": {},
   "outputs": [],
   "source": [
    "data['ceiling_height'] = data['ceiling_height'].fillna(data['ceiling_height'].median())"
   ]
  },
  {
   "cell_type": "code",
   "execution_count": 10,
   "metadata": {},
   "outputs": [],
   "source": [
    "data.dropna(subset=['floors_total'], inplace=True)"
   ]
  },
  {
   "cell_type": "code",
   "execution_count": 11,
   "metadata": {},
   "outputs": [],
   "source": [
    "data['living_area'].fillna(data['living_area'].mean(), inplace=True)"
   ]
  },
  {
   "cell_type": "code",
   "execution_count": 12,
   "metadata": {},
   "outputs": [],
   "source": [
    "data['is_apartment'] = data['is_apartment'].fillna(False)"
   ]
  },
  {
   "cell_type": "code",
   "execution_count": 13,
   "metadata": {},
   "outputs": [],
   "source": [
    "#data['kitchen_area'].fillna(data['kitchen_area'].mean(), inplace=True)"
   ]
  },
  {
   "cell_type": "code",
   "execution_count": 14,
   "metadata": {},
   "outputs": [],
   "source": [
    "data['balcony'] = data['balcony'].fillna(value=0)"
   ]
  },
  {
   "cell_type": "code",
   "execution_count": 15,
   "metadata": {},
   "outputs": [],
   "source": [
    "data.dropna(subset=['locality_name'], inplace=True)"
   ]
  },
  {
   "cell_type": "code",
   "execution_count": 16,
   "metadata": {},
   "outputs": [],
   "source": [
    "data['parks_around3000'] = data['parks_around3000'].fillna(value=0)"
   ]
  },
  {
   "cell_type": "code",
   "execution_count": 17,
   "metadata": {},
   "outputs": [],
   "source": [
    "data['ponds_around3000'] = data['ponds_around3000'].fillna(value=0)"
   ]
  },
  {
   "cell_type": "code",
   "execution_count": 18,
   "metadata": {},
   "outputs": [],
   "source": [
    "import numpy as np\n",
    "data['days_exposition'] = np.floor(pd.to_numeric(data['days_exposition'], errors='coerce')).astype('Int64')"
   ]
  },
  {
   "cell_type": "code",
   "execution_count": 19,
   "metadata": {},
   "outputs": [
    {
     "data": {
      "text/plain": [
       "total_images                0\n",
       "last_price                  0\n",
       "total_area                  0\n",
       "first_day_exposition        0\n",
       "rooms                       0\n",
       "ceiling_height              0\n",
       "floors_total                0\n",
       "living_area                 0\n",
       "floor                       0\n",
       "is_apartment                0\n",
       "studio                      0\n",
       "open_plan                   0\n",
       "kitchen_area             2222\n",
       "balcony                     0\n",
       "locality_name               0\n",
       "airports_nearest         5524\n",
       "cityCenters_nearest      5501\n",
       "parks_around3000            0\n",
       "parks_nearest           15535\n",
       "ponds_around3000            0\n",
       "ponds_nearest           14529\n",
       "days_exposition          3171\n",
       "dtype: int64"
      ]
     },
     "execution_count": 19,
     "metadata": {},
     "output_type": "execute_result"
    }
   ],
   "source": [
    "data.isna().sum()"
   ]
  },
  {
   "cell_type": "markdown",
   "metadata": {},
   "source": [
    "#### Изменение типов данных"
   ]
  },
  {
   "cell_type": "markdown",
   "metadata": {},
   "source": [
    "В столбцах floors_total,balcony, parks_around3000, ponds_around3000, days_exposition должен быть тип int, т.к. значения целые. \n",
    "В столбце first_day_exposition - object - должен быть тип datetime. \n",
    "В столбце is_apartment - должен быть тип bool. "
   ]
  },
  {
   "cell_type": "code",
   "execution_count": 20,
   "metadata": {},
   "outputs": [],
   "source": [
    "data['floors_total'] = data['floors_total'].astype('int')"
   ]
  },
  {
   "cell_type": "code",
   "execution_count": 21,
   "metadata": {},
   "outputs": [],
   "source": [
    "data['balcony'] = data['balcony'].astype('int')"
   ]
  },
  {
   "cell_type": "code",
   "execution_count": 22,
   "metadata": {},
   "outputs": [],
   "source": [
    "data['parks_around3000'] = data['parks_around3000'].astype('int')"
   ]
  },
  {
   "cell_type": "code",
   "execution_count": 23,
   "metadata": {},
   "outputs": [],
   "source": [
    "data['ponds_around3000'] = data['ponds_around3000'].astype('int')"
   ]
  },
  {
   "cell_type": "code",
   "execution_count": 24,
   "metadata": {},
   "outputs": [],
   "source": [
    "data['first_day_exposition'] = pd.to_datetime(data['first_day_exposition'], format='%Y-%m-%dT%H:%M:%S')"
   ]
  },
  {
   "cell_type": "code",
   "execution_count": 25,
   "metadata": {},
   "outputs": [],
   "source": [
    "data['is_apartment'] = data['is_apartment'].astype('bool')"
   ]
  },
  {
   "cell_type": "code",
   "execution_count": 26,
   "metadata": {},
   "outputs": [
    {
     "name": "stdout",
     "output_type": "stream",
     "text": [
      "<class 'pandas.core.frame.DataFrame'>\n",
      "Int64Index: 23565 entries, 0 to 23698\n",
      "Data columns (total 22 columns):\n",
      " #   Column                Non-Null Count  Dtype         \n",
      "---  ------                --------------  -----         \n",
      " 0   total_images          23565 non-null  int64         \n",
      " 1   last_price            23565 non-null  float64       \n",
      " 2   total_area            23565 non-null  float64       \n",
      " 3   first_day_exposition  23565 non-null  datetime64[ns]\n",
      " 4   rooms                 23565 non-null  int64         \n",
      " 5   ceiling_height        23565 non-null  float64       \n",
      " 6   floors_total          23565 non-null  int64         \n",
      " 7   living_area           23565 non-null  float64       \n",
      " 8   floor                 23565 non-null  int64         \n",
      " 9   is_apartment          23565 non-null  bool          \n",
      " 10  studio                23565 non-null  bool          \n",
      " 11  open_plan             23565 non-null  bool          \n",
      " 12  kitchen_area          21343 non-null  float64       \n",
      " 13  balcony               23565 non-null  int64         \n",
      " 14  locality_name         23565 non-null  object        \n",
      " 15  airports_nearest      18041 non-null  float64       \n",
      " 16  cityCenters_nearest   18064 non-null  float64       \n",
      " 17  parks_around3000      23565 non-null  int64         \n",
      " 18  parks_nearest         8030 non-null   float64       \n",
      " 19  ponds_around3000      23565 non-null  int64         \n",
      " 20  ponds_nearest         9036 non-null   float64       \n",
      " 21  days_exposition       20394 non-null  Int64         \n",
      "dtypes: Int64(1), bool(3), datetime64[ns](1), float64(9), int64(7), object(1)\n",
      "memory usage: 3.7+ MB\n"
     ]
    }
   ],
   "source": [
    "data.info()"
   ]
  },
  {
   "cell_type": "markdown",
   "metadata": {},
   "source": [
    "#### Обработка уникальных значений в столбце locality_name и устранение неявных дубликатов"
   ]
  },
  {
   "cell_type": "code",
   "execution_count": 27,
   "metadata": {},
   "outputs": [
    {
     "data": {
      "text/plain": [
       "array(['Санкт-Петербург', 'посёлок Шушары', 'городской посёлок Янино-1',\n",
       "       'посёлок Парголово', 'посёлок Мурино', 'Ломоносов', 'Сертолово',\n",
       "       'Петергоф', 'Пушкин', 'деревня Кудрово', 'Коммунар', 'Колпино',\n",
       "       'поселок городского типа Красный Бор', 'Гатчина', 'поселок Мурино',\n",
       "       'деревня Фёдоровское', 'Выборг', 'Кронштадт', 'Кировск',\n",
       "       'деревня Новое Девяткино', 'посёлок Металлострой',\n",
       "       'посёлок городского типа Лебяжье',\n",
       "       'посёлок городского типа Сиверский', 'поселок Молодцово',\n",
       "       'поселок городского типа Кузьмоловский',\n",
       "       'садовое товарищество Новая Ропша', 'Павловск',\n",
       "       'деревня Пикколово', 'Всеволожск', 'Волхов', 'Кингисепп',\n",
       "       'Приозерск', 'Сестрорецк', 'деревня Куттузи', 'посёлок Аннино',\n",
       "       'поселок городского типа Ефимовский', 'посёлок Плодовое',\n",
       "       'деревня Заклинье', 'поселок Торковичи', 'поселок Первомайское',\n",
       "       'Красное Село', 'посёлок Понтонный', 'Сясьстрой', 'деревня Старая',\n",
       "       'деревня Лесколово', 'посёлок Новый Свет', 'Сланцы',\n",
       "       'село Путилово', 'Ивангород', 'Мурино', 'Шлиссельбург',\n",
       "       'Никольское', 'Зеленогорск', 'Сосновый Бор', 'поселок Новый Свет',\n",
       "       'деревня Оржицы', 'деревня Кальтино', 'Кудрово',\n",
       "       'поселок Романовка', 'посёлок Бугры', 'поселок Бугры',\n",
       "       'поселок городского типа Рощино', 'Кириши', 'Луга', 'Волосово',\n",
       "       'Отрадное', 'село Павлово', 'поселок Оредеж', 'село Копорье',\n",
       "       'посёлок городского типа Красный Бор', 'посёлок Молодёжное',\n",
       "       'Тихвин', 'посёлок Победа', 'деревня Нурма',\n",
       "       'поселок городского типа Синявино', 'Тосно',\n",
       "       'посёлок городского типа Кузьмоловский', 'посёлок Стрельна',\n",
       "       'Бокситогорск', 'посёлок Александровская', 'деревня Лопухинка',\n",
       "       'Пикалёво', 'поселок Терволово',\n",
       "       'поселок городского типа Советский', 'Подпорожье',\n",
       "       'посёлок Петровское', 'посёлок городского типа Токсово',\n",
       "       'поселок Сельцо', 'посёлок городского типа Вырица',\n",
       "       'деревня Кипень', 'деревня Келози', 'деревня Вартемяги',\n",
       "       'посёлок Тельмана', 'поселок Севастьяново',\n",
       "       'городской поселок Большая Ижора', 'городской посёлок Павлово',\n",
       "       'деревня Агалатово', 'посёлок Новогорелово',\n",
       "       'городской посёлок Лесогорский', 'деревня Лаголово',\n",
       "       'поселок Цвелодубово', 'поселок городского типа Рахья',\n",
       "       'поселок городского типа Вырица', 'деревня Белогорка',\n",
       "       'поселок Заводской', 'городской посёлок Новоселье',\n",
       "       'деревня Большие Колпаны', 'деревня Горбунки', 'деревня Батово',\n",
       "       'деревня Заневка', 'деревня Иссад', 'Приморск',\n",
       "       'городской посёлок Фёдоровское', 'деревня Мистолово',\n",
       "       'Новая Ладога', 'поселок Зимитицы', 'поселок Барышево',\n",
       "       'деревня Разметелево', 'поселок городского типа имени Свердлова',\n",
       "       'деревня Пеники', 'поселок Рябово', 'деревня Пудомяги',\n",
       "       'поселок станции Корнево', 'деревня Низино', 'деревня Бегуницы',\n",
       "       'посёлок Поляны', 'городской посёлок Мга', 'поселок Елизаветино',\n",
       "       'посёлок городского типа Кузнечное', 'деревня Колтуши',\n",
       "       'поселок Запорожское', 'посёлок городского типа Рощино',\n",
       "       'деревня Гостилицы', 'деревня Малое Карлино',\n",
       "       'посёлок Мичуринское', 'посёлок городского типа имени Морозова',\n",
       "       'посёлок Песочный', 'посёлок Сосново', 'деревня Аро',\n",
       "       'поселок Ильичёво', 'посёлок городского типа Тайцы',\n",
       "       'деревня Малое Верево', 'деревня Извара', 'поселок станции Вещево',\n",
       "       'село Паша', 'деревня Калитино',\n",
       "       'посёлок городского типа Ульяновка', 'деревня Чудской Бор',\n",
       "       'поселок городского типа Дубровка', 'деревня Мины',\n",
       "       'поселок Войсковицы', 'посёлок городского типа имени Свердлова',\n",
       "       'деревня Коркино', 'посёлок Ропша',\n",
       "       'поселок городского типа Приладожский', 'посёлок Щеглово',\n",
       "       'посёлок Гаврилово', 'Лодейное Поле', 'деревня Рабитицы',\n",
       "       'поселок городского типа Никольский', 'деревня Кузьмолово',\n",
       "       'деревня Малые Колпаны', 'поселок Тельмана',\n",
       "       'посёлок Петро-Славянка', 'городской посёлок Назия',\n",
       "       'посёлок Репино', 'посёлок Ильичёво', 'поселок Углово',\n",
       "       'поселок Старая Малукса', 'садовое товарищество Рахья',\n",
       "       'поселок Аннино', 'поселок Победа', 'деревня Меньково',\n",
       "       'деревня Старые Бегуницы', 'посёлок Сапёрный', 'поселок Семрино',\n",
       "       'поселок Гаврилово', 'поселок Глажево', 'поселок Кобринское',\n",
       "       'деревня Гарболово', 'деревня Юкки',\n",
       "       'поселок станции Приветнинское', 'деревня Мануйлово',\n",
       "       'деревня Пчева', 'поселок Поляны', 'поселок Цвылёво',\n",
       "       'поселок Мельниково', 'посёлок Пудость', 'посёлок Усть-Луга',\n",
       "       'Светогорск', 'Любань', 'поселок Селезнёво',\n",
       "       'поселок городского типа Рябово', 'Каменногорск', 'деревня Кривко',\n",
       "       'поселок Глебычево', 'деревня Парицы', 'поселок Жилпосёлок',\n",
       "       'посёлок городского типа Мга', 'городской поселок Янино-1',\n",
       "       'посёлок Войскорово', 'село Никольское', 'посёлок Терволово',\n",
       "       'поселок Стеклянный', 'посёлок городского типа Важины',\n",
       "       'посёлок Мыза-Ивановка', 'село Русско-Высоцкое',\n",
       "       'поселок городского типа Лебяжье',\n",
       "       'поселок городского типа Форносово', 'село Старая Ладога',\n",
       "       'поселок Житково', 'городской посёлок Виллози', 'деревня Лампово',\n",
       "       'деревня Шпаньково', 'деревня Лаврики', 'посёлок Сумино',\n",
       "       'посёлок Возрождение', 'деревня Старосиверская',\n",
       "       'посёлок Кикерино', 'поселок Возрождение',\n",
       "       'деревня Старое Хинколово', 'посёлок Пригородный',\n",
       "       'посёлок Торфяное', 'городской посёлок Будогощь',\n",
       "       'поселок Суходолье', 'поселок Красная Долина', 'деревня Хапо-Ое',\n",
       "       'поселок городского типа Дружная Горка', 'поселок Лисий Нос',\n",
       "       'деревня Яльгелево', 'посёлок Стеклянный', 'село Рождествено',\n",
       "       'деревня Старополье', 'посёлок Левашово', 'деревня Сяськелево',\n",
       "       'деревня Камышовка',\n",
       "       'садоводческое некоммерческое товарищество Лесная Поляна',\n",
       "       'деревня Хязельки', 'поселок Жилгородок',\n",
       "       'посёлок городского типа Павлово', 'деревня Ялгино',\n",
       "       'поселок Новый Учхоз', 'городской посёлок Рощино',\n",
       "       'поселок Гончарово', 'поселок Почап', 'посёлок Сапёрное',\n",
       "       'посёлок Платформа 69-й километр', 'поселок Каложицы',\n",
       "       'деревня Фалилеево', 'деревня Пельгора',\n",
       "       'поселок городского типа Лесогорский', 'деревня Торошковичи',\n",
       "       'посёлок Белоостров', 'посёлок Алексеевка', 'поселок Серебрянский',\n",
       "       'поселок Лукаши', 'поселок Петровское', 'деревня Щеглово',\n",
       "       'поселок Мичуринское', 'деревня Тарасово', 'поселок Кингисеппский',\n",
       "       'посёлок при железнодорожной станции Вещево', 'поселок Ушаки',\n",
       "       'деревня Котлы', 'деревня Сижно', 'деревня Торосово',\n",
       "       'посёлок Форт Красная Горка', 'деревня Новолисино',\n",
       "       'посёлок станции Громово', 'деревня Глинка', 'посёлок Мельниково',\n",
       "       'поселок городского типа Назия', 'деревня Старая Пустошь',\n",
       "       'поселок Коммунары', 'поселок Починок',\n",
       "       'посёлок городского типа Вознесенье', 'деревня Разбегаево',\n",
       "       'посёлок городского типа Рябово', 'поселок Гладкое',\n",
       "       'посёлок при железнодорожной станции Приветнинское',\n",
       "       'поселок Тёсово-4', 'посёлок Жилгородок', 'деревня Бор',\n",
       "       'посёлок Коробицыно', 'деревня Большая Вруда', 'деревня Курковицы',\n",
       "       'посёлок Лисий Нос', 'городской посёлок Советский',\n",
       "       'посёлок Кобралово', 'деревня Суоранда', 'поселок Кобралово',\n",
       "       'поселок городского типа Кондратьево',\n",
       "       'коттеджный поселок Счастье', 'поселок Любань', 'деревня Реброво',\n",
       "       'деревня Зимитицы', 'деревня Тойворово', 'поселок Семиозерье',\n",
       "       'поселок Лесное', 'поселок Совхозный', 'поселок Усть-Луга',\n",
       "       'посёлок Ленинское', 'посёлок Суйда',\n",
       "       'посёлок городского типа Форносово', 'деревня Нижние Осельки',\n",
       "       'посёлок станции Свирь', 'поселок Перово', 'Высоцк',\n",
       "       'поселок Гарболово', 'село Шум', 'поселок Котельский',\n",
       "       'поселок станции Лужайка', 'деревня Большая Пустомержа',\n",
       "       'поселок Красносельское', 'деревня Вахнова Кара', 'деревня Пижма',\n",
       "       'коттеджный поселок Кивеннапа Север', 'поселок Коробицыно',\n",
       "       'поселок Ромашки', 'посёлок Перово', 'деревня Каськово',\n",
       "       'деревня Куровицы', 'посёлок Плоское', 'поселок Сумино',\n",
       "       'поселок городского типа Большая Ижора', 'поселок Кирпичное',\n",
       "       'деревня Ям-Тесово', 'деревня Раздолье', 'деревня Терпилицы',\n",
       "       'поселок городского типа Токсово', 'посёлок Шугозеро',\n",
       "       'деревня Ваганово', 'поселок Пушное', 'садовое товарищество Садко',\n",
       "       'посёлок Усть-Ижора', 'деревня Выскатка',\n",
       "       'городской посёлок Свирьстрой', 'поселок Громово',\n",
       "       'деревня Кисельня', 'посёлок Старая Малукса',\n",
       "       'деревня Трубников Бор', 'поселок Калитино',\n",
       "       'посёлок Высокоключевой', 'садовое товарищество Приладожский',\n",
       "       'посёлок Пансионат Зелёный Бор', 'деревня Ненимяки',\n",
       "       'поселок Пансионат Зелёный Бор', 'деревня Снегирёвка',\n",
       "       'деревня Рапполово', 'деревня Пустынка', 'поселок Рабитицы',\n",
       "       'деревня Большой Сабск', 'деревня Русско', 'деревня Лупполово',\n",
       "       'деревня Большое Рейзино', 'деревня Малая Романовка',\n",
       "       'поселок Дружноселье', 'поселок Пчевжа', 'поселок Володарское',\n",
       "       'деревня Нижняя', 'коттеджный посёлок Лесное', 'деревня Тихковицы',\n",
       "       'деревня Борисова Грива', 'посёлок Дзержинского'], dtype=object)"
      ]
     },
     "execution_count": 27,
     "metadata": {},
     "output_type": "execute_result"
    }
   ],
   "source": [
    "data['locality_name'].unique()"
   ]
  },
  {
   "cell_type": "code",
   "execution_count": 28,
   "metadata": {},
   "outputs": [],
   "source": [
    "data['locality_name'] = (data['locality_name'].str.replace('ё', 'е').replace(['поселок городского типа'], 'поселок', regex=True)\n",
    ") "
   ]
  },
  {
   "cell_type": "code",
   "execution_count": 29,
   "metadata": {},
   "outputs": [
    {
     "data": {
      "text/plain": [
       "array(['Санкт-Петербург', 'поселок Шушары', 'городской поселок Янино-1',\n",
       "       'поселок Парголово', 'поселок Мурино', 'Ломоносов', 'Сертолово',\n",
       "       'Петергоф', 'Пушкин', 'деревня Кудрово', 'Коммунар', 'Колпино',\n",
       "       'поселок Красный Бор', 'Гатчина', 'деревня Федоровское', 'Выборг',\n",
       "       'Кронштадт', 'Кировск', 'деревня Новое Девяткино',\n",
       "       'поселок Металлострой', 'поселок Лебяжье', 'поселок Сиверский',\n",
       "       'поселок Молодцово', 'поселок Кузьмоловский',\n",
       "       'садовое товарищество Новая Ропша', 'Павловск',\n",
       "       'деревня Пикколово', 'Всеволожск', 'Волхов', 'Кингисепп',\n",
       "       'Приозерск', 'Сестрорецк', 'деревня Куттузи', 'поселок Аннино',\n",
       "       'поселок Ефимовский', 'поселок Плодовое', 'деревня Заклинье',\n",
       "       'поселок Торковичи', 'поселок Первомайское', 'Красное Село',\n",
       "       'поселок Понтонный', 'Сясьстрой', 'деревня Старая',\n",
       "       'деревня Лесколово', 'поселок Новый Свет', 'Сланцы',\n",
       "       'село Путилово', 'Ивангород', 'Мурино', 'Шлиссельбург',\n",
       "       'Никольское', 'Зеленогорск', 'Сосновый Бор', 'деревня Оржицы',\n",
       "       'деревня Кальтино', 'Кудрово', 'поселок Романовка',\n",
       "       'поселок Бугры', 'поселок Рощино', 'Кириши', 'Луга', 'Волосово',\n",
       "       'Отрадное', 'село Павлово', 'поселок Оредеж', 'село Копорье',\n",
       "       'поселок Молодежное', 'Тихвин', 'поселок Победа', 'деревня Нурма',\n",
       "       'поселок Синявино', 'Тосно', 'поселок Стрельна', 'Бокситогорск',\n",
       "       'поселок Александровская', 'деревня Лопухинка', 'Пикалево',\n",
       "       'поселок Терволово', 'поселок Советский', 'Подпорожье',\n",
       "       'поселок Петровское', 'поселок Токсово', 'поселок Сельцо',\n",
       "       'поселок Вырица', 'деревня Кипень', 'деревня Келози',\n",
       "       'деревня Вартемяги', 'поселок Тельмана', 'поселок Севастьяново',\n",
       "       'городской поселок Большая Ижора', 'городской поселок Павлово',\n",
       "       'деревня Агалатово', 'поселок Новогорелово',\n",
       "       'городской поселок Лесогорский', 'деревня Лаголово',\n",
       "       'поселок Цвелодубово', 'поселок Рахья', 'деревня Белогорка',\n",
       "       'поселок Заводской', 'городской поселок Новоселье',\n",
       "       'деревня Большие Колпаны', 'деревня Горбунки', 'деревня Батово',\n",
       "       'деревня Заневка', 'деревня Иссад', 'Приморск',\n",
       "       'городской поселок Федоровское', 'деревня Мистолово',\n",
       "       'Новая Ладога', 'поселок Зимитицы', 'поселок Барышево',\n",
       "       'деревня Разметелево', 'поселок имени Свердлова', 'деревня Пеники',\n",
       "       'поселок Рябово', 'деревня Пудомяги', 'поселок станции Корнево',\n",
       "       'деревня Низино', 'деревня Бегуницы', 'поселок Поляны',\n",
       "       'городской поселок Мга', 'поселок Елизаветино',\n",
       "       'поселок Кузнечное', 'деревня Колтуши', 'поселок Запорожское',\n",
       "       'деревня Гостилицы', 'деревня Малое Карлино',\n",
       "       'поселок Мичуринское', 'поселок имени Морозова',\n",
       "       'поселок Песочный', 'поселок Сосново', 'деревня Аро',\n",
       "       'поселок Ильичево', 'поселок Тайцы', 'деревня Малое Верево',\n",
       "       'деревня Извара', 'поселок станции Вещево', 'село Паша',\n",
       "       'деревня Калитино', 'поселок Ульяновка', 'деревня Чудской Бор',\n",
       "       'поселок Дубровка', 'деревня Мины', 'поселок Войсковицы',\n",
       "       'деревня Коркино', 'поселок Ропша', 'поселок Приладожский',\n",
       "       'поселок Щеглово', 'поселок Гаврилово', 'Лодейное Поле',\n",
       "       'деревня Рабитицы', 'поселок Никольский', 'деревня Кузьмолово',\n",
       "       'деревня Малые Колпаны', 'поселок Петро-Славянка',\n",
       "       'городской поселок Назия', 'поселок Репино', 'поселок Углово',\n",
       "       'поселок Старая Малукса', 'садовое товарищество Рахья',\n",
       "       'деревня Меньково', 'деревня Старые Бегуницы', 'поселок Саперный',\n",
       "       'поселок Семрино', 'поселок Глажево', 'поселок Кобринское',\n",
       "       'деревня Гарболово', 'деревня Юкки',\n",
       "       'поселок станции Приветнинское', 'деревня Мануйлово',\n",
       "       'деревня Пчева', 'поселок Цвылево', 'поселок Мельниково',\n",
       "       'поселок Пудость', 'поселок Усть-Луга', 'Светогорск', 'Любань',\n",
       "       'поселок Селезнево', 'Каменногорск', 'деревня Кривко',\n",
       "       'поселок Глебычево', 'деревня Парицы', 'поселок Жилпоселок',\n",
       "       'поселок Мга', 'поселок Войскорово', 'село Никольское',\n",
       "       'поселок Стеклянный', 'поселок Важины', 'поселок Мыза-Ивановка',\n",
       "       'село Русско-Высоцкое', 'поселок Форносово', 'село Старая Ладога',\n",
       "       'поселок Житково', 'городской поселок Виллози', 'деревня Лампово',\n",
       "       'деревня Шпаньково', 'деревня Лаврики', 'поселок Сумино',\n",
       "       'поселок Возрождение', 'деревня Старосиверская',\n",
       "       'поселок Кикерино', 'деревня Старое Хинколово',\n",
       "       'поселок Пригородный', 'поселок Торфяное',\n",
       "       'городской поселок Будогощь', 'поселок Суходолье',\n",
       "       'поселок Красная Долина', 'деревня Хапо-Ое',\n",
       "       'поселок Дружная Горка', 'поселок Лисий Нос', 'деревня Яльгелево',\n",
       "       'село Рождествено', 'деревня Старополье', 'поселок Левашово',\n",
       "       'деревня Сяськелево', 'деревня Камышовка',\n",
       "       'садоводческое некоммерческое товарищество Лесная Поляна',\n",
       "       'деревня Хязельки', 'поселок Жилгородок', 'поселок Павлово',\n",
       "       'деревня Ялгино', 'поселок Новый Учхоз',\n",
       "       'городской поселок Рощино', 'поселок Гончарово', 'поселок Почап',\n",
       "       'поселок Саперное', 'поселок Платформа 69-й километр',\n",
       "       'поселок Каложицы', 'деревня Фалилеево', 'деревня Пельгора',\n",
       "       'поселок Лесогорский', 'деревня Торошковичи', 'поселок Белоостров',\n",
       "       'поселок Алексеевка', 'поселок Серебрянский', 'поселок Лукаши',\n",
       "       'деревня Щеглово', 'деревня Тарасово', 'поселок Кингисеппский',\n",
       "       'поселок при железнодорожной станции Вещево', 'поселок Ушаки',\n",
       "       'деревня Котлы', 'деревня Сижно', 'деревня Торосово',\n",
       "       'поселок Форт Красная Горка', 'деревня Новолисино',\n",
       "       'поселок станции Громово', 'деревня Глинка', 'поселок Назия',\n",
       "       'деревня Старая Пустошь', 'поселок Коммунары', 'поселок Починок',\n",
       "       'поселок Вознесенье', 'деревня Разбегаево', 'поселок Гладкое',\n",
       "       'поселок при железнодорожной станции Приветнинское',\n",
       "       'поселок Тесово-4', 'деревня Бор', 'поселок Коробицыно',\n",
       "       'деревня Большая Вруда', 'деревня Курковицы',\n",
       "       'городской поселок Советский', 'поселок Кобралово',\n",
       "       'деревня Суоранда', 'поселок Кондратьево',\n",
       "       'коттеджный поселок Счастье', 'поселок Любань', 'деревня Реброво',\n",
       "       'деревня Зимитицы', 'деревня Тойворово', 'поселок Семиозерье',\n",
       "       'поселок Лесное', 'поселок Совхозный', 'поселок Ленинское',\n",
       "       'поселок Суйда', 'деревня Нижние Осельки', 'поселок станции Свирь',\n",
       "       'поселок Перово', 'Высоцк', 'поселок Гарболово', 'село Шум',\n",
       "       'поселок Котельский', 'поселок станции Лужайка',\n",
       "       'деревня Большая Пустомержа', 'поселок Красносельское',\n",
       "       'деревня Вахнова Кара', 'деревня Пижма',\n",
       "       'коттеджный поселок Кивеннапа Север', 'поселок Ромашки',\n",
       "       'деревня Каськово', 'деревня Куровицы', 'поселок Плоское',\n",
       "       'поселок Большая Ижора', 'поселок Кирпичное', 'деревня Ям-Тесово',\n",
       "       'деревня Раздолье', 'деревня Терпилицы', 'поселок Шугозеро',\n",
       "       'деревня Ваганово', 'поселок Пушное', 'садовое товарищество Садко',\n",
       "       'поселок Усть-Ижора', 'деревня Выскатка',\n",
       "       'городской поселок Свирьстрой', 'поселок Громово',\n",
       "       'деревня Кисельня', 'деревня Трубников Бор', 'поселок Калитино',\n",
       "       'поселок Высокоключевой', 'садовое товарищество Приладожский',\n",
       "       'поселок Пансионат Зеленый Бор', 'деревня Ненимяки',\n",
       "       'деревня Снегиревка', 'деревня Рапполово', 'деревня Пустынка',\n",
       "       'поселок Рабитицы', 'деревня Большой Сабск', 'деревня Русско',\n",
       "       'деревня Лупполово', 'деревня Большое Рейзино',\n",
       "       'деревня Малая Романовка', 'поселок Дружноселье', 'поселок Пчевжа',\n",
       "       'поселок Володарское', 'деревня Нижняя',\n",
       "       'коттеджный поселок Лесное', 'деревня Тихковицы',\n",
       "       'деревня Борисова Грива', 'поселок Дзержинского'], dtype=object)"
      ]
     },
     "execution_count": 29,
     "metadata": {},
     "output_type": "execute_result"
    }
   ],
   "source": [
    "data['locality_name'].unique()"
   ]
  },
  {
   "cell_type": "markdown",
   "metadata": {
    "id": "QCcvyY6YAwb-"
   },
   "source": [
    "### Добавление в таблицу новых столбцов"
   ]
  },
  {
   "cell_type": "code",
   "execution_count": 30,
   "metadata": {
    "id": "Z8eJek3IAwb-"
   },
   "outputs": [],
   "source": [
    "data['sm_price'] = (data['last_price']/data['total_area']).round(2)"
   ]
  },
  {
   "cell_type": "code",
   "execution_count": 31,
   "metadata": {},
   "outputs": [],
   "source": [
    "data['weekday'] = data['first_day_exposition'].dt.weekday"
   ]
  },
  {
   "cell_type": "code",
   "execution_count": 32,
   "metadata": {},
   "outputs": [],
   "source": [
    "data['month'] = data['first_day_exposition'].dt.month"
   ]
  },
  {
   "cell_type": "code",
   "execution_count": 33,
   "metadata": {},
   "outputs": [],
   "source": [
    "data['year'] = data['first_day_exposition'].dt.year"
   ]
  },
  {
   "cell_type": "code",
   "execution_count": 34,
   "metadata": {},
   "outputs": [],
   "source": [
    "def categorize_floor(row):\n",
    "    if row['floor'] == 1:\n",
    "        return 'первый'\n",
    "    if row['floor'] == row['floors_total']:\n",
    "        return 'последний'\n",
    "    else:\n",
    "        return 'другой'"
   ]
  },
  {
   "cell_type": "code",
   "execution_count": 35,
   "metadata": {},
   "outputs": [],
   "source": [
    "data['categorize_floor'] = data.apply(categorize_floor, axis=1)"
   ]
  },
  {
   "cell_type": "code",
   "execution_count": 36,
   "metadata": {},
   "outputs": [],
   "source": [
    "data['cityCenters_nearest_km'] = (data['cityCenters_nearest'] / 1000).round(0)"
   ]
  },
  {
   "cell_type": "code",
   "execution_count": 37,
   "metadata": {},
   "outputs": [
    {
     "data": {
      "text/html": [
       "<div>\n",
       "<style scoped>\n",
       "    .dataframe tbody tr th:only-of-type {\n",
       "        vertical-align: middle;\n",
       "    }\n",
       "\n",
       "    .dataframe tbody tr th {\n",
       "        vertical-align: top;\n",
       "    }\n",
       "\n",
       "    .dataframe thead th {\n",
       "        text-align: right;\n",
       "    }\n",
       "</style>\n",
       "<table border=\"1\" class=\"dataframe\">\n",
       "  <thead>\n",
       "    <tr style=\"text-align: right;\">\n",
       "      <th></th>\n",
       "      <th>total_images</th>\n",
       "      <th>last_price</th>\n",
       "      <th>total_area</th>\n",
       "      <th>first_day_exposition</th>\n",
       "      <th>rooms</th>\n",
       "      <th>ceiling_height</th>\n",
       "      <th>floors_total</th>\n",
       "      <th>living_area</th>\n",
       "      <th>floor</th>\n",
       "      <th>is_apartment</th>\n",
       "      <th>studio</th>\n",
       "      <th>open_plan</th>\n",
       "      <th>kitchen_area</th>\n",
       "      <th>balcony</th>\n",
       "      <th>locality_name</th>\n",
       "      <th>airports_nearest</th>\n",
       "      <th>cityCenters_nearest</th>\n",
       "      <th>parks_around3000</th>\n",
       "      <th>parks_nearest</th>\n",
       "      <th>ponds_around3000</th>\n",
       "      <th>ponds_nearest</th>\n",
       "      <th>days_exposition</th>\n",
       "      <th>sm_price</th>\n",
       "      <th>weekday</th>\n",
       "      <th>month</th>\n",
       "      <th>year</th>\n",
       "      <th>categorize_floor</th>\n",
       "      <th>cityCenters_nearest_km</th>\n",
       "    </tr>\n",
       "  </thead>\n",
       "  <tbody>\n",
       "    <tr>\n",
       "      <th>0</th>\n",
       "      <td>20</td>\n",
       "      <td>13000000.0</td>\n",
       "      <td>108.00</td>\n",
       "      <td>2019-03-07</td>\n",
       "      <td>3</td>\n",
       "      <td>2.70</td>\n",
       "      <td>16</td>\n",
       "      <td>51.000000</td>\n",
       "      <td>8</td>\n",
       "      <td>False</td>\n",
       "      <td>False</td>\n",
       "      <td>False</td>\n",
       "      <td>25.00</td>\n",
       "      <td>0</td>\n",
       "      <td>Санкт-Петербург</td>\n",
       "      <td>18863.0</td>\n",
       "      <td>16028.0</td>\n",
       "      <td>1</td>\n",
       "      <td>482.0</td>\n",
       "      <td>2</td>\n",
       "      <td>755.0</td>\n",
       "      <td>&lt;NA&gt;</td>\n",
       "      <td>120370.37</td>\n",
       "      <td>3</td>\n",
       "      <td>3</td>\n",
       "      <td>2019</td>\n",
       "      <td>другой</td>\n",
       "      <td>16.0</td>\n",
       "    </tr>\n",
       "    <tr>\n",
       "      <th>1</th>\n",
       "      <td>7</td>\n",
       "      <td>3350000.0</td>\n",
       "      <td>40.40</td>\n",
       "      <td>2018-12-04</td>\n",
       "      <td>1</td>\n",
       "      <td>2.65</td>\n",
       "      <td>11</td>\n",
       "      <td>18.600000</td>\n",
       "      <td>1</td>\n",
       "      <td>False</td>\n",
       "      <td>False</td>\n",
       "      <td>False</td>\n",
       "      <td>11.00</td>\n",
       "      <td>2</td>\n",
       "      <td>поселок Шушары</td>\n",
       "      <td>12817.0</td>\n",
       "      <td>18603.0</td>\n",
       "      <td>0</td>\n",
       "      <td>NaN</td>\n",
       "      <td>0</td>\n",
       "      <td>NaN</td>\n",
       "      <td>81</td>\n",
       "      <td>82920.79</td>\n",
       "      <td>1</td>\n",
       "      <td>12</td>\n",
       "      <td>2018</td>\n",
       "      <td>первый</td>\n",
       "      <td>19.0</td>\n",
       "    </tr>\n",
       "    <tr>\n",
       "      <th>2</th>\n",
       "      <td>10</td>\n",
       "      <td>5196000.0</td>\n",
       "      <td>56.00</td>\n",
       "      <td>2015-08-20</td>\n",
       "      <td>2</td>\n",
       "      <td>2.65</td>\n",
       "      <td>5</td>\n",
       "      <td>34.300000</td>\n",
       "      <td>4</td>\n",
       "      <td>False</td>\n",
       "      <td>False</td>\n",
       "      <td>False</td>\n",
       "      <td>8.30</td>\n",
       "      <td>0</td>\n",
       "      <td>Санкт-Петербург</td>\n",
       "      <td>21741.0</td>\n",
       "      <td>13933.0</td>\n",
       "      <td>1</td>\n",
       "      <td>90.0</td>\n",
       "      <td>2</td>\n",
       "      <td>574.0</td>\n",
       "      <td>558</td>\n",
       "      <td>92785.71</td>\n",
       "      <td>3</td>\n",
       "      <td>8</td>\n",
       "      <td>2015</td>\n",
       "      <td>другой</td>\n",
       "      <td>14.0</td>\n",
       "    </tr>\n",
       "    <tr>\n",
       "      <th>3</th>\n",
       "      <td>0</td>\n",
       "      <td>64900000.0</td>\n",
       "      <td>159.00</td>\n",
       "      <td>2015-07-24</td>\n",
       "      <td>3</td>\n",
       "      <td>2.65</td>\n",
       "      <td>14</td>\n",
       "      <td>34.462781</td>\n",
       "      <td>9</td>\n",
       "      <td>False</td>\n",
       "      <td>False</td>\n",
       "      <td>False</td>\n",
       "      <td>NaN</td>\n",
       "      <td>0</td>\n",
       "      <td>Санкт-Петербург</td>\n",
       "      <td>28098.0</td>\n",
       "      <td>6800.0</td>\n",
       "      <td>2</td>\n",
       "      <td>84.0</td>\n",
       "      <td>3</td>\n",
       "      <td>234.0</td>\n",
       "      <td>424</td>\n",
       "      <td>408176.10</td>\n",
       "      <td>4</td>\n",
       "      <td>7</td>\n",
       "      <td>2015</td>\n",
       "      <td>другой</td>\n",
       "      <td>7.0</td>\n",
       "    </tr>\n",
       "    <tr>\n",
       "      <th>4</th>\n",
       "      <td>2</td>\n",
       "      <td>10000000.0</td>\n",
       "      <td>100.00</td>\n",
       "      <td>2018-06-19</td>\n",
       "      <td>2</td>\n",
       "      <td>3.03</td>\n",
       "      <td>14</td>\n",
       "      <td>32.000000</td>\n",
       "      <td>13</td>\n",
       "      <td>False</td>\n",
       "      <td>False</td>\n",
       "      <td>False</td>\n",
       "      <td>41.00</td>\n",
       "      <td>0</td>\n",
       "      <td>Санкт-Петербург</td>\n",
       "      <td>31856.0</td>\n",
       "      <td>8098.0</td>\n",
       "      <td>2</td>\n",
       "      <td>112.0</td>\n",
       "      <td>1</td>\n",
       "      <td>48.0</td>\n",
       "      <td>121</td>\n",
       "      <td>100000.00</td>\n",
       "      <td>1</td>\n",
       "      <td>6</td>\n",
       "      <td>2018</td>\n",
       "      <td>другой</td>\n",
       "      <td>8.0</td>\n",
       "    </tr>\n",
       "    <tr>\n",
       "      <th>5</th>\n",
       "      <td>10</td>\n",
       "      <td>2890000.0</td>\n",
       "      <td>30.40</td>\n",
       "      <td>2018-09-10</td>\n",
       "      <td>1</td>\n",
       "      <td>2.65</td>\n",
       "      <td>12</td>\n",
       "      <td>14.400000</td>\n",
       "      <td>5</td>\n",
       "      <td>False</td>\n",
       "      <td>False</td>\n",
       "      <td>False</td>\n",
       "      <td>9.10</td>\n",
       "      <td>0</td>\n",
       "      <td>городской поселок Янино-1</td>\n",
       "      <td>NaN</td>\n",
       "      <td>NaN</td>\n",
       "      <td>0</td>\n",
       "      <td>NaN</td>\n",
       "      <td>0</td>\n",
       "      <td>NaN</td>\n",
       "      <td>55</td>\n",
       "      <td>95065.79</td>\n",
       "      <td>0</td>\n",
       "      <td>9</td>\n",
       "      <td>2018</td>\n",
       "      <td>другой</td>\n",
       "      <td>NaN</td>\n",
       "    </tr>\n",
       "    <tr>\n",
       "      <th>6</th>\n",
       "      <td>6</td>\n",
       "      <td>3700000.0</td>\n",
       "      <td>37.30</td>\n",
       "      <td>2017-11-02</td>\n",
       "      <td>1</td>\n",
       "      <td>2.65</td>\n",
       "      <td>26</td>\n",
       "      <td>10.600000</td>\n",
       "      <td>6</td>\n",
       "      <td>False</td>\n",
       "      <td>False</td>\n",
       "      <td>False</td>\n",
       "      <td>14.40</td>\n",
       "      <td>1</td>\n",
       "      <td>поселок Парголово</td>\n",
       "      <td>52996.0</td>\n",
       "      <td>19143.0</td>\n",
       "      <td>0</td>\n",
       "      <td>NaN</td>\n",
       "      <td>0</td>\n",
       "      <td>NaN</td>\n",
       "      <td>155</td>\n",
       "      <td>99195.71</td>\n",
       "      <td>3</td>\n",
       "      <td>11</td>\n",
       "      <td>2017</td>\n",
       "      <td>другой</td>\n",
       "      <td>19.0</td>\n",
       "    </tr>\n",
       "    <tr>\n",
       "      <th>7</th>\n",
       "      <td>5</td>\n",
       "      <td>7915000.0</td>\n",
       "      <td>71.60</td>\n",
       "      <td>2019-04-18</td>\n",
       "      <td>2</td>\n",
       "      <td>2.65</td>\n",
       "      <td>24</td>\n",
       "      <td>34.462781</td>\n",
       "      <td>22</td>\n",
       "      <td>False</td>\n",
       "      <td>False</td>\n",
       "      <td>False</td>\n",
       "      <td>18.90</td>\n",
       "      <td>2</td>\n",
       "      <td>Санкт-Петербург</td>\n",
       "      <td>23982.0</td>\n",
       "      <td>11634.0</td>\n",
       "      <td>0</td>\n",
       "      <td>NaN</td>\n",
       "      <td>0</td>\n",
       "      <td>NaN</td>\n",
       "      <td>&lt;NA&gt;</td>\n",
       "      <td>110544.69</td>\n",
       "      <td>3</td>\n",
       "      <td>4</td>\n",
       "      <td>2019</td>\n",
       "      <td>другой</td>\n",
       "      <td>12.0</td>\n",
       "    </tr>\n",
       "    <tr>\n",
       "      <th>8</th>\n",
       "      <td>20</td>\n",
       "      <td>2900000.0</td>\n",
       "      <td>33.16</td>\n",
       "      <td>2018-05-23</td>\n",
       "      <td>1</td>\n",
       "      <td>2.65</td>\n",
       "      <td>27</td>\n",
       "      <td>15.430000</td>\n",
       "      <td>26</td>\n",
       "      <td>False</td>\n",
       "      <td>False</td>\n",
       "      <td>False</td>\n",
       "      <td>8.81</td>\n",
       "      <td>0</td>\n",
       "      <td>поселок Мурино</td>\n",
       "      <td>NaN</td>\n",
       "      <td>NaN</td>\n",
       "      <td>0</td>\n",
       "      <td>NaN</td>\n",
       "      <td>0</td>\n",
       "      <td>NaN</td>\n",
       "      <td>189</td>\n",
       "      <td>87454.76</td>\n",
       "      <td>2</td>\n",
       "      <td>5</td>\n",
       "      <td>2018</td>\n",
       "      <td>другой</td>\n",
       "      <td>NaN</td>\n",
       "    </tr>\n",
       "    <tr>\n",
       "      <th>9</th>\n",
       "      <td>18</td>\n",
       "      <td>5400000.0</td>\n",
       "      <td>61.00</td>\n",
       "      <td>2017-02-26</td>\n",
       "      <td>3</td>\n",
       "      <td>2.50</td>\n",
       "      <td>9</td>\n",
       "      <td>43.600000</td>\n",
       "      <td>7</td>\n",
       "      <td>False</td>\n",
       "      <td>False</td>\n",
       "      <td>False</td>\n",
       "      <td>6.50</td>\n",
       "      <td>2</td>\n",
       "      <td>Санкт-Петербург</td>\n",
       "      <td>50898.0</td>\n",
       "      <td>15008.0</td>\n",
       "      <td>0</td>\n",
       "      <td>NaN</td>\n",
       "      <td>0</td>\n",
       "      <td>NaN</td>\n",
       "      <td>289</td>\n",
       "      <td>88524.59</td>\n",
       "      <td>6</td>\n",
       "      <td>2</td>\n",
       "      <td>2017</td>\n",
       "      <td>другой</td>\n",
       "      <td>15.0</td>\n",
       "    </tr>\n",
       "  </tbody>\n",
       "</table>\n",
       "</div>"
      ],
      "text/plain": [
       "   total_images  last_price  total_area first_day_exposition  rooms  \\\n",
       "0            20  13000000.0      108.00           2019-03-07      3   \n",
       "1             7   3350000.0       40.40           2018-12-04      1   \n",
       "2            10   5196000.0       56.00           2015-08-20      2   \n",
       "3             0  64900000.0      159.00           2015-07-24      3   \n",
       "4             2  10000000.0      100.00           2018-06-19      2   \n",
       "5            10   2890000.0       30.40           2018-09-10      1   \n",
       "6             6   3700000.0       37.30           2017-11-02      1   \n",
       "7             5   7915000.0       71.60           2019-04-18      2   \n",
       "8            20   2900000.0       33.16           2018-05-23      1   \n",
       "9            18   5400000.0       61.00           2017-02-26      3   \n",
       "\n",
       "   ceiling_height  floors_total  living_area  floor  is_apartment  studio  \\\n",
       "0            2.70            16    51.000000      8         False   False   \n",
       "1            2.65            11    18.600000      1         False   False   \n",
       "2            2.65             5    34.300000      4         False   False   \n",
       "3            2.65            14    34.462781      9         False   False   \n",
       "4            3.03            14    32.000000     13         False   False   \n",
       "5            2.65            12    14.400000      5         False   False   \n",
       "6            2.65            26    10.600000      6         False   False   \n",
       "7            2.65            24    34.462781     22         False   False   \n",
       "8            2.65            27    15.430000     26         False   False   \n",
       "9            2.50             9    43.600000      7         False   False   \n",
       "\n",
       "   open_plan  kitchen_area  balcony              locality_name  \\\n",
       "0      False         25.00        0            Санкт-Петербург   \n",
       "1      False         11.00        2             поселок Шушары   \n",
       "2      False          8.30        0            Санкт-Петербург   \n",
       "3      False           NaN        0            Санкт-Петербург   \n",
       "4      False         41.00        0            Санкт-Петербург   \n",
       "5      False          9.10        0  городской поселок Янино-1   \n",
       "6      False         14.40        1          поселок Парголово   \n",
       "7      False         18.90        2            Санкт-Петербург   \n",
       "8      False          8.81        0             поселок Мурино   \n",
       "9      False          6.50        2            Санкт-Петербург   \n",
       "\n",
       "   airports_nearest  cityCenters_nearest  parks_around3000  parks_nearest  \\\n",
       "0           18863.0              16028.0                 1          482.0   \n",
       "1           12817.0              18603.0                 0            NaN   \n",
       "2           21741.0              13933.0                 1           90.0   \n",
       "3           28098.0               6800.0                 2           84.0   \n",
       "4           31856.0               8098.0                 2          112.0   \n",
       "5               NaN                  NaN                 0            NaN   \n",
       "6           52996.0              19143.0                 0            NaN   \n",
       "7           23982.0              11634.0                 0            NaN   \n",
       "8               NaN                  NaN                 0            NaN   \n",
       "9           50898.0              15008.0                 0            NaN   \n",
       "\n",
       "   ponds_around3000  ponds_nearest  days_exposition   sm_price  weekday  \\\n",
       "0                 2          755.0             <NA>  120370.37        3   \n",
       "1                 0            NaN               81   82920.79        1   \n",
       "2                 2          574.0              558   92785.71        3   \n",
       "3                 3          234.0              424  408176.10        4   \n",
       "4                 1           48.0              121  100000.00        1   \n",
       "5                 0            NaN               55   95065.79        0   \n",
       "6                 0            NaN              155   99195.71        3   \n",
       "7                 0            NaN             <NA>  110544.69        3   \n",
       "8                 0            NaN              189   87454.76        2   \n",
       "9                 0            NaN              289   88524.59        6   \n",
       "\n",
       "   month  year categorize_floor  cityCenters_nearest_km  \n",
       "0      3  2019           другой                    16.0  \n",
       "1     12  2018           первый                    19.0  \n",
       "2      8  2015           другой                    14.0  \n",
       "3      7  2015           другой                     7.0  \n",
       "4      6  2018           другой                     8.0  \n",
       "5      9  2018           другой                     NaN  \n",
       "6     11  2017           другой                    19.0  \n",
       "7      4  2019           другой                    12.0  \n",
       "8      5  2018           другой                     NaN  \n",
       "9      2  2017           другой                    15.0  "
      ]
     },
     "execution_count": 37,
     "metadata": {},
     "output_type": "execute_result"
    }
   ],
   "source": [
    "data.head(10)"
   ]
  },
  {
   "cell_type": "markdown",
   "metadata": {
    "id": "pPyxrKWTAwb-"
   },
   "source": [
    "### Исследовательский анализ данных"
   ]
  },
  {
   "cell_type": "markdown",
   "metadata": {},
   "source": [
    "#### Изучение параметров объектов и построение гистограмм:"
   ]
  },
  {
   "cell_type": "code",
   "execution_count": 38,
   "metadata": {
    "id": "V2f0D3kLAwb-",
    "scrolled": true
   },
   "outputs": [
    {
     "data": {
      "text/plain": [
       "count    23565.000000\n",
       "mean        60.322824\n",
       "std         35.657060\n",
       "min         12.000000\n",
       "25%         40.000000\n",
       "50%         52.000000\n",
       "75%         69.700000\n",
       "max        900.000000\n",
       "Name: total_area, dtype: float64"
      ]
     },
     "execution_count": 38,
     "metadata": {},
     "output_type": "execute_result"
    },
    {
     "data": {
      "image/png": "[encoded data removed]",
      "text/plain": [
       "<Figure size 360x216 with 1 Axes>"
      ]
     },
     "metadata": {
      "needs_background": "light"
     },
     "output_type": "display_data"
    }
   ],
   "source": [
    "data.plot(y = 'total_area', kind = 'hist', bins = 100, grid=True, figsize = (5,3), range = (12,100))\n",
    "data['total_area'].describe()"
   ]
  },
  {
   "cell_type": "markdown",
   "metadata": {},
   "source": [
    "Большинство квартир имет площадь от 30 до 70 кв.м."
   ]
  },
  {
   "cell_type": "code",
   "execution_count": 39,
   "metadata": {},
   "outputs": [
    {
     "data": {
      "text/plain": [
       "count    23565.000000\n",
       "mean        34.455452\n",
       "std         21.154976\n",
       "min          2.000000\n",
       "25%         19.000000\n",
       "50%         31.000000\n",
       "75%         41.100000\n",
       "max        409.700000\n",
       "Name: living_area, dtype: float64"
      ]
     },
     "execution_count": 39,
     "metadata": {},
     "output_type": "execute_result"
    },
    {
     "data": {
      "image/png": "[encoded data removed]",
      "text/plain": [
       "<Figure size 360x216 with 1 Axes>"
      ]
     },
     "metadata": {
      "needs_background": "light"
     },
     "output_type": "display_data"
    }
   ],
   "source": [
    "data.plot(y = 'living_area', kind = 'hist', bins = 100, grid=True, range = (10,42), figsize = (5,3))\n",
    "data['living_area'].describe()"
   ]
  },
  {
   "cell_type": "markdown",
   "metadata": {},
   "source": [
    "Распространена жилая площадь в пределах 14 и 21 м, а также 26 и 36 м, заметно два выделяющихся пика: квартиры с площадью примерно 18 и 34 кв.м."
   ]
  },
  {
   "cell_type": "code",
   "execution_count": 40,
   "metadata": {},
   "outputs": [
    {
     "data": {
      "text/plain": [
       "count    21343.000000\n",
       "mean        10.560994\n",
       "std          5.900630\n",
       "min          1.300000\n",
       "25%          7.000000\n",
       "50%          9.100000\n",
       "75%         12.000000\n",
       "max        112.000000\n",
       "Name: kitchen_area, dtype: float64"
      ]
     },
     "execution_count": 40,
     "metadata": {},
     "output_type": "execute_result"
    },
    {
     "data": {
      "image/png": "[encoded data removed]",
      "text/plain": [
       "<Figure size 360x216 with 1 Axes>"
      ]
     },
     "metadata": {
      "needs_background": "light"
     },
     "output_type": "display_data"
    }
   ],
   "source": [
    "data.plot(y = 'kitchen_area', kind = 'hist', bins = 100, grid=True, range = (5,15), figsize = (5,3))\n",
    "data['kitchen_area'].describe()"
   ]
  },
  {
   "cell_type": "markdown",
   "metadata": {},
   "source": [
    "Площадь большинства кухонь варьируется от 5 до 15 м. Большинство предложений имеет площадь кухни равную 10,5 кв. м., также выделяются предложения с размером кухни равные 6, 7, 8, 9 и 10 кв. м."
   ]
  },
  {
   "cell_type": "code",
   "execution_count": 41,
   "metadata": {
    "scrolled": true
   },
   "outputs": [
    {
     "data": {
      "text/plain": [
       "count    2.356500e+04\n",
       "mean     6.540058e+06\n",
       "std      1.091093e+07\n",
       "min      1.219000e+04\n",
       "25%      3.400000e+06\n",
       "50%      4.646000e+06\n",
       "75%      6.790000e+06\n",
       "max      7.630000e+08\n",
       "Name: last_price, dtype: float64"
      ]
     },
     "execution_count": 41,
     "metadata": {},
     "output_type": "execute_result"
    },
    {
     "data": {
      "image/png": "[encoded data removed]",
      "text/plain": [
       "<Figure size 360x216 with 1 Axes>"
      ]
     },
     "metadata": {
      "needs_background": "light"
     },
     "output_type": "display_data"
    }
   ],
   "source": [
    "data.plot(y = 'last_price', kind = 'hist', bins = 100, grid=True, range = (1.219000e+04,6.790000e+06), figsize = (5,3))\n",
    "data['last_price'].describe()"
   ]
  },
  {
   "cell_type": "markdown",
   "metadata": {},
   "source": [
    "Цена большинства квартир варьируется от 2 до 6 млн., 4 млн. руб. - самая распространенная цена."
   ]
  },
  {
   "cell_type": "code",
   "execution_count": 42,
   "metadata": {},
   "outputs": [
    {
     "data": {
      "text/plain": [
       "count    23565.000000\n",
       "mean         2.070656\n",
       "std          1.078591\n",
       "min          0.000000\n",
       "25%          1.000000\n",
       "50%          2.000000\n",
       "75%          3.000000\n",
       "max         19.000000\n",
       "Name: rooms, dtype: float64"
      ]
     },
     "execution_count": 42,
     "metadata": {},
     "output_type": "execute_result"
    },
    {
     "data": {
      "image/png": "[encoded data removed]",
      "text/plain": [
       "<Figure size 360x216 with 1 Axes>"
      ]
     },
     "metadata": {
      "needs_background": "light"
     },
     "output_type": "display_data"
    }
   ],
   "source": [
    "data.plot(y = 'rooms', kind = 'hist', bins = 6, grid=True, range = (0,7), figsize = (5,3))\n",
    "data['rooms'].describe()"
   ]
  },
  {
   "cell_type": "markdown",
   "metadata": {},
   "source": [
    "Большую часть предложений составляют одно- и двухкомнатные квартиры,с ростом кол-ва комнат предложений становится меньше."
   ]
  },
  {
   "cell_type": "code",
   "execution_count": 43,
   "metadata": {},
   "outputs": [],
   "source": [
    "data.loc[data['ceiling_height'] >= 20.0, 'ceiling_height'] = data['ceiling_height']/10"
   ]
  },
  {
   "cell_type": "code",
   "execution_count": 44,
   "metadata": {},
   "outputs": [
    {
     "data": {
      "text/plain": [
       "count    23565.000000\n",
       "mean         2.698746\n",
       "std          0.253630\n",
       "min          1.000000\n",
       "25%          2.600000\n",
       "50%          2.650000\n",
       "75%          2.700000\n",
       "max         14.000000\n",
       "Name: ceiling_height, dtype: float64"
      ]
     },
     "execution_count": 44,
     "metadata": {},
     "output_type": "execute_result"
    },
    {
     "data": {
      "image/png": "[encoded data removed]",
      "text/plain": [
       "<Figure size 360x216 with 1 Axes>"
      ]
     },
     "metadata": {
      "needs_background": "light"
     },
     "output_type": "display_data"
    }
   ],
   "source": [
    "data.plot(y = 'ceiling_height', kind = 'hist', bins = 50, grid=True, range = (2.5,3), figsize = (5,3))\n",
    "data['ceiling_height'].describe()"
   ]
  },
  {
   "cell_type": "markdown",
   "metadata": {},
   "source": [
    "Большинство вариантов имеют высоту потолков от 2,5 до 3 метров, самое распространенное - 2,65 м."
   ]
  },
  {
   "cell_type": "code",
   "execution_count": 45,
   "metadata": {},
   "outputs": [
    {
     "data": {
      "text/plain": [
       "<AxesSubplot:xlabel='categorize_floor'>"
      ]
     },
     "execution_count": 45,
     "metadata": {},
     "output_type": "execute_result"
    },
    {
     "data": {
      "image/png": "[encoded data removed]",
      "text/plain": [
       "<Figure size 360x216 with 1 Axes>"
      ]
     },
     "metadata": {
      "needs_background": "light"
     },
     "output_type": "display_data"
    }
   ],
   "source": [
    "data.pivot_table(index='categorize_floor', values='last_price', aggfunc='median').sort_values(by='last_price', ascending=False).plot(grid=True, style='o-', figsize=(5, 3))"
   ]
  },
  {
   "cell_type": "code",
   "execution_count": 46,
   "metadata": {},
   "outputs": [
    {
     "data": {
      "text/plain": [
       "<AxesSubplot:xlabel='categorize_floor', ylabel='count'>"
      ]
     },
     "execution_count": 46,
     "metadata": {},
     "output_type": "execute_result"
    },
    {
     "data": {
      "image/png": "[encoded data removed]",
      "text/plain": [
       "<Figure size 432x288 with 1 Axes>"
      ]
     },
     "metadata": {
      "needs_background": "light"
     },
     "output_type": "display_data"
    }
   ],
   "source": [
    "data.groupby(by='categorize_floor')['categorize_floor'].count().plot(kind='bar', ylabel = 'count')"
   ]
  },
  {
   "cell_type": "markdown",
   "metadata": {},
   "source": [
    "Большинство предложений квартир расположены между 2 и предпоследним этажом, меньше всего вариантов на 1 этаже."
   ]
  },
  {
   "cell_type": "code",
   "execution_count": 47,
   "metadata": {},
   "outputs": [
    {
     "data": {
      "text/plain": [
       "count    23565.000000\n",
       "mean        10.675875\n",
       "std          6.594823\n",
       "min          1.000000\n",
       "25%          5.000000\n",
       "50%          9.000000\n",
       "75%         16.000000\n",
       "max         60.000000\n",
       "Name: floors_total, dtype: float64"
      ]
     },
     "execution_count": 47,
     "metadata": {},
     "output_type": "execute_result"
    },
    {
     "data": {
      "image/png": "[encoded data removed]",
      "text/plain": [
       "<Figure size 360x216 with 1 Axes>"
      ]
     },
     "metadata": {
      "needs_background": "light"
     },
     "output_type": "display_data"
    }
   ],
   "source": [
    "data.plot(y = 'floors_total', kind = 'hist', bins = 100, grid=True, range = (1,30), figsize = (5,3))\n",
    "data['floors_total'].describe()"
   ]
  },
  {
   "cell_type": "markdown",
   "metadata": {},
   "source": [
    "Больше всего квартир продается в 5-этажных домах, также много предложений в 9-этажках."
   ]
  },
  {
   "cell_type": "code",
   "execution_count": 48,
   "metadata": {},
   "outputs": [
    {
     "data": {
      "text/plain": [
       "count    18064.000000\n",
       "mean        14.186504\n",
       "std          8.621131\n",
       "min          0.000000\n",
       "25%          9.000000\n",
       "50%         13.000000\n",
       "75%         16.000000\n",
       "max         66.000000\n",
       "Name: cityCenters_nearest_km, dtype: float64"
      ]
     },
     "execution_count": 48,
     "metadata": {},
     "output_type": "execute_result"
    },
    {
     "data": {
      "image/png": "[encoded data removed]",
      "text/plain": [
       "<Figure size 360x216 with 1 Axes>"
      ]
     },
     "metadata": {
      "needs_background": "light"
     },
     "output_type": "display_data"
    }
   ],
   "source": [
    "data.plot(y = 'cityCenters_nearest_km', kind = 'hist', bins = 100, grid=True, range = (0,60), figsize = (5,3))\n",
    "data['cityCenters_nearest_km'].describe() "
   ]
  },
  {
   "cell_type": "markdown",
   "metadata": {},
   "source": [
    "Максимальное расстояние до центра 65 км, большинство квартир расположено в пределах 5-20 км от центра, есть 3 выделающиеся значения в пределах 5, 12 и 15 км."
   ]
  },
  {
   "cell_type": "code",
   "execution_count": 49,
   "metadata": {},
   "outputs": [
    {
     "data": {
      "text/plain": [
       "count    8030.000000\n",
       "mean      490.580448\n",
       "std       341.572956\n",
       "min         1.000000\n",
       "25%       288.000000\n",
       "50%       455.000000\n",
       "75%       612.000000\n",
       "max      3190.000000\n",
       "Name: parks_nearest, dtype: float64"
      ]
     },
     "execution_count": 49,
     "metadata": {},
     "output_type": "execute_result"
    },
    {
     "data": {
      "image/png": "[encoded data removed]",
      "text/plain": [
       "<Figure size 360x216 with 1 Axes>"
      ]
     },
     "metadata": {
      "needs_background": "light"
     },
     "output_type": "display_data"
    }
   ],
   "source": [
    "data.plot(y = 'parks_nearest', kind = 'hist', bins = 100, grid=True, range = (100,1000), figsize = (5,3))\n",
    "data['parks_nearest'].describe()"
   ]
  },
  {
   "cell_type": "markdown",
   "metadata": {},
   "source": [
    "В основном расстояние до парка варьируется от 200 до 750 м"
   ]
  },
  {
   "cell_type": "markdown",
   "metadata": {},
   "source": [
    "Вывод:\n",
    "\n",
    "Площадь большинства предлагаемых квартир варьируется от 30 до 70 кв.м.\n",
    "Жилая площадь большинства квартир в пределах 14 и 21 м, а также 26 и 36 м, а площадь кухонь варьируется от 5 до 15 м. Большинство предложений имеет площадь кухни равную 10,5 кв. м.\n",
    "Цена на большинство квартир варьируется от 2 до 6 млн., 4 млн. руб. - самая распространенная цена.\n",
    "Большую часть предложений составляют одно- и двухкомнатные квартиры,с ростом кол-ва комнат предложений становится меньше.\n",
    "Большинство вариантов имеют высоту потолков от 2,5 до 3 метров, самое распространенное - 2,65 м.\n",
    "Большинство предложений квартир расположены между 2 и предпоследним этажом, меньше всего вариантов на 1 этаже.\n",
    "Больше всего квартир продается в 5-этажных домах, также много предложений в 9-этажках.\n",
    "Максимальное расстояние до центра 65 км, большинство квартир расположено в пределах 5-20 км от центра, есть 3 выделающиеся значения в пределах 5, 12 и 15 км.\n",
    "В основном расстояние до парка варьируется от 200 до 750 м."
   ]
  },
  {
   "cell_type": "markdown",
   "metadata": {},
   "source": [
    "#### Изучение скорости продажи квартир (столбец days_exposition)"
   ]
  },
  {
   "cell_type": "code",
   "execution_count": 50,
   "metadata": {},
   "outputs": [
    {
     "data": {
      "text/plain": [
       "count    20394.000000\n",
       "mean       180.741395\n",
       "std        219.732782\n",
       "min          1.000000\n",
       "25%         45.000000\n",
       "50%         95.000000\n",
       "75%        231.000000\n",
       "max       1580.000000\n",
       "Name: days_exposition, dtype: float64"
      ]
     },
     "execution_count": 50,
     "metadata": {},
     "output_type": "execute_result"
    },
    {
     "data": {
      "image/png": "[encoded data removed]",
      "text/plain": [
       "<Figure size 360x216 with 1 Axes>"
      ]
     },
     "metadata": {
      "needs_background": "light"
     },
     "output_type": "display_data"
    }
   ],
   "source": [
    "data.plot(y = 'days_exposition', kind = 'hist', bins = 100, grid=True, range = (0,500), figsize = (5,3))\n",
    "data['days_exposition'].describe()"
   ]
  },
  {
   "cell_type": "markdown",
   "metadata": {},
   "source": [
    "Среднее время продажи квартир 156 дня, а медианное 73 дней (более точное). \n",
    "Быстрыми продажами можно считать до 150 дней.\n",
    "Некоторые квартиры продаются больше 230 дней, максимальное кол-во дней обьявления 1580."
   ]
  },
  {
   "cell_type": "markdown",
   "metadata": {},
   "source": [
    "#### Определение факторов, которые больше всего влияют на общую стоимость объекта"
   ]
  },
  {
   "cell_type": "code",
   "execution_count": 51,
   "metadata": {
    "scrolled": true
   },
   "outputs": [
    {
     "data": {
      "text/html": [
       "<div>\n",
       "<style scoped>\n",
       "    .dataframe tbody tr th:only-of-type {\n",
       "        vertical-align: middle;\n",
       "    }\n",
       "\n",
       "    .dataframe tbody tr th {\n",
       "        vertical-align: top;\n",
       "    }\n",
       "\n",
       "    .dataframe thead th {\n",
       "        text-align: right;\n",
       "    }\n",
       "</style>\n",
       "<table border=\"1\" class=\"dataframe\">\n",
       "  <thead>\n",
       "    <tr style=\"text-align: right;\">\n",
       "      <th></th>\n",
       "      <th>kitchen_area</th>\n",
       "      <th>last_price</th>\n",
       "      <th>living_area</th>\n",
       "      <th>rooms</th>\n",
       "      <th>total_area</th>\n",
       "    </tr>\n",
       "  </thead>\n",
       "  <tbody>\n",
       "    <tr>\n",
       "      <th>kitchen_area</th>\n",
       "      <td>1.000000</td>\n",
       "      <td>0.361234</td>\n",
       "      <td>0.100305</td>\n",
       "      <td>0.092024</td>\n",
       "      <td>0.409956</td>\n",
       "    </tr>\n",
       "    <tr>\n",
       "      <th>last_price</th>\n",
       "      <td>0.361234</td>\n",
       "      <td>1.000000</td>\n",
       "      <td>0.635939</td>\n",
       "      <td>0.442934</td>\n",
       "      <td>0.739123</td>\n",
       "    </tr>\n",
       "    <tr>\n",
       "      <th>living_area</th>\n",
       "      <td>0.100305</td>\n",
       "      <td>0.635939</td>\n",
       "      <td>1.000000</td>\n",
       "      <td>0.898936</td>\n",
       "      <td>0.922847</td>\n",
       "    </tr>\n",
       "    <tr>\n",
       "      <th>rooms</th>\n",
       "      <td>0.092024</td>\n",
       "      <td>0.442934</td>\n",
       "      <td>0.898936</td>\n",
       "      <td>1.000000</td>\n",
       "      <td>0.811611</td>\n",
       "    </tr>\n",
       "    <tr>\n",
       "      <th>total_area</th>\n",
       "      <td>0.409956</td>\n",
       "      <td>0.739123</td>\n",
       "      <td>0.922847</td>\n",
       "      <td>0.811611</td>\n",
       "      <td>1.000000</td>\n",
       "    </tr>\n",
       "  </tbody>\n",
       "</table>\n",
       "</div>"
      ],
      "text/plain": [
       "              kitchen_area  last_price  living_area     rooms  total_area\n",
       "kitchen_area      1.000000    0.361234     0.100305  0.092024    0.409956\n",
       "last_price        0.361234    1.000000     0.635939  0.442934    0.739123\n",
       "living_area       0.100305    0.635939     1.000000  0.898936    0.922847\n",
       "rooms             0.092024    0.442934     0.898936  1.000000    0.811611\n",
       "total_area        0.409956    0.739123     0.922847  0.811611    1.000000"
      ]
     },
     "execution_count": 51,
     "metadata": {},
     "output_type": "execute_result"
    }
   ],
   "source": [
    "#корреляция\n",
    "data.pivot_table(index='floor', values=['last_price','total_area','living_area','kitchen_area','rooms']).corr()"
   ]
  },
  {
   "cell_type": "code",
   "execution_count": 52,
   "metadata": {},
   "outputs": [],
   "source": [
    "def quartile_range(data, column):\n",
    "    q1 = data[column].quantile(0.25)\n",
    "    q3 = data[column].quantile(0.75)\n",
    "    qr = q3 - q1\n",
    "    dataqr = data.loc[(data[column] < q3 + 1.5*qr) & (data[column] > q1 - 1.5*qr), column]\n",
    "    return dataqr\n",
    "\n",
    "list_features = ['last_price', 'total_area', 'kitchen_area', 'living_area', 'days_exposition', 'ceiling_height','floor', 'parks_nearest', 'cityCenters_nearest_km', 'rooms']\n",
    "for col in list_features:\n",
    "    data[col] = quartile_range(data, col)"
   ]
  },
  {
   "cell_type": "code",
   "execution_count": 53,
   "metadata": {},
   "outputs": [
    {
     "data": {
      "text/html": [
       "<div>\n",
       "<style scoped>\n",
       "    .dataframe tbody tr th:only-of-type {\n",
       "        vertical-align: middle;\n",
       "    }\n",
       "\n",
       "    .dataframe tbody tr th {\n",
       "        vertical-align: top;\n",
       "    }\n",
       "\n",
       "    .dataframe thead th {\n",
       "        text-align: right;\n",
       "    }\n",
       "</style>\n",
       "<table border=\"1\" class=\"dataframe\">\n",
       "  <thead>\n",
       "    <tr style=\"text-align: right;\">\n",
       "      <th></th>\n",
       "      <th>kitchen_area</th>\n",
       "      <th>last_price</th>\n",
       "      <th>living_area</th>\n",
       "      <th>rooms</th>\n",
       "      <th>total_area</th>\n",
       "    </tr>\n",
       "  </thead>\n",
       "  <tbody>\n",
       "    <tr>\n",
       "      <th>kitchen_area</th>\n",
       "      <td>1.000000</td>\n",
       "      <td>0.910083</td>\n",
       "      <td>-0.922535</td>\n",
       "      <td>-0.961218</td>\n",
       "      <td>-0.315919</td>\n",
       "    </tr>\n",
       "    <tr>\n",
       "      <th>last_price</th>\n",
       "      <td>0.910083</td>\n",
       "      <td>1.000000</td>\n",
       "      <td>-0.749238</td>\n",
       "      <td>-0.809036</td>\n",
       "      <td>-0.016091</td>\n",
       "    </tr>\n",
       "    <tr>\n",
       "      <th>living_area</th>\n",
       "      <td>-0.922535</td>\n",
       "      <td>-0.749238</td>\n",
       "      <td>1.000000</td>\n",
       "      <td>0.986872</td>\n",
       "      <td>0.638675</td>\n",
       "    </tr>\n",
       "    <tr>\n",
       "      <th>rooms</th>\n",
       "      <td>-0.961218</td>\n",
       "      <td>-0.809036</td>\n",
       "      <td>0.986872</td>\n",
       "      <td>1.000000</td>\n",
       "      <td>0.550674</td>\n",
       "    </tr>\n",
       "    <tr>\n",
       "      <th>total_area</th>\n",
       "      <td>-0.315919</td>\n",
       "      <td>-0.016091</td>\n",
       "      <td>0.638675</td>\n",
       "      <td>0.550674</td>\n",
       "      <td>1.000000</td>\n",
       "    </tr>\n",
       "  </tbody>\n",
       "</table>\n",
       "</div>"
      ],
      "text/plain": [
       "              kitchen_area  last_price  living_area     rooms  total_area\n",
       "kitchen_area      1.000000    0.910083    -0.922535 -0.961218   -0.315919\n",
       "last_price        0.910083    1.000000    -0.749238 -0.809036   -0.016091\n",
       "living_area      -0.922535   -0.749238     1.000000  0.986872    0.638675\n",
       "rooms            -0.961218   -0.809036     0.986872  1.000000    0.550674\n",
       "total_area       -0.315919   -0.016091     0.638675  0.550674    1.000000"
      ]
     },
     "execution_count": 53,
     "metadata": {},
     "output_type": "execute_result"
    }
   ],
   "source": [
    "data.pivot_table(index='floor', values=['last_price','total_area','living_area','kitchen_area','rooms']).corr()"
   ]
  },
  {
   "cell_type": "code",
   "execution_count": 54,
   "metadata": {},
   "outputs": [
    {
     "data": {
      "text/plain": [
       "<AxesSubplot:xlabel='total_area'>"
      ]
     },
     "execution_count": 54,
     "metadata": {},
     "output_type": "execute_result"
    },
    {
     "data": {
      "image/png": "[encoded data removed]",
      "text/plain": [
       "<Figure size 360x360 with 1 Axes>"
      ]
     },
     "metadata": {
      "needs_background": "light"
     },
     "output_type": "display_data"
    }
   ],
   "source": [
    "data.pivot_table(index='total_area', values='last_price').plot(grid=True, style='o', figsize=(5, 5))"
   ]
  },
  {
   "cell_type": "code",
   "execution_count": 55,
   "metadata": {},
   "outputs": [
    {
     "data": {
      "text/plain": [
       "<AxesSubplot:xlabel='living_area'>"
      ]
     },
     "execution_count": 55,
     "metadata": {},
     "output_type": "execute_result"
    },
    {
     "data": {
      "image/png": "[encoded data removed]",
      "text/plain": [
       "<Figure size 360x360 with 1 Axes>"
      ]
     },
     "metadata": {
      "needs_background": "light"
     },
     "output_type": "display_data"
    }
   ],
   "source": [
    "data.pivot_table(index='living_area', values='last_price').plot(grid=True, style='o', figsize=(5, 5))"
   ]
  },
  {
   "cell_type": "code",
   "execution_count": 56,
   "metadata": {},
   "outputs": [
    {
     "data": {
      "text/plain": [
       "<AxesSubplot:xlabel='kitchen_area'>"
      ]
     },
     "execution_count": 56,
     "metadata": {},
     "output_type": "execute_result"
    },
    {
     "data": {
      "image/png": "[encoded data removed]",
      "text/plain": [
       "<Figure size 360x360 with 1 Axes>"
      ]
     },
     "metadata": {
      "needs_background": "light"
     },
     "output_type": "display_data"
    }
   ],
   "source": [
    "data.pivot_table(index='kitchen_area', values='last_price').plot(grid=True, style='o', figsize=(5, 5))"
   ]
  },
  {
   "cell_type": "code",
   "execution_count": 57,
   "metadata": {},
   "outputs": [
    {
     "data": {
      "text/plain": [
       "<AxesSubplot:xlabel='rooms'>"
      ]
     },
     "execution_count": 57,
     "metadata": {},
     "output_type": "execute_result"
    },
    {
     "data": {
      "image/png": "[encoded data removed]",
      "text/plain": [
       "<Figure size 360x360 with 1 Axes>"
      ]
     },
     "metadata": {
      "needs_background": "light"
     },
     "output_type": "display_data"
    }
   ],
   "source": [
    "data.pivot_table(index='rooms', values='last_price').plot(grid=True, style='o-', figsize=(5, 5))"
   ]
  },
  {
   "cell_type": "code",
   "execution_count": 58,
   "metadata": {},
   "outputs": [
    {
     "data": {
      "text/plain": [
       "<AxesSubplot:xlabel='categorize_floor'>"
      ]
     },
     "execution_count": 58,
     "metadata": {},
     "output_type": "execute_result"
    },
    {
     "data": {
      "image/png": "[encoded data removed]",
      "text/plain": [
       "<Figure size 360x360 with 1 Axes>"
      ]
     },
     "metadata": {
      "needs_background": "light"
     },
     "output_type": "display_data"
    }
   ],
   "source": [
    "data.pivot_table(index='categorize_floor', values='last_price').plot(grid=True, style='o-', figsize=(5, 5))"
   ]
  },
  {
   "cell_type": "code",
   "execution_count": 59,
   "metadata": {},
   "outputs": [
    {
     "data": {
      "text/plain": [
       "<AxesSubplot:xlabel='weekday'>"
      ]
     },
     "execution_count": 59,
     "metadata": {},
     "output_type": "execute_result"
    },
    {
     "data": {
      "image/png": "[encoded data removed]",
      "text/plain": [
       "<Figure size 360x360 with 1 Axes>"
      ]
     },
     "metadata": {
      "needs_background": "light"
     },
     "output_type": "display_data"
    }
   ],
   "source": [
    "data.pivot_table(index='weekday', values='last_price').plot(grid=True, style='o-', figsize=(5, 5))"
   ]
  },
  {
   "cell_type": "code",
   "execution_count": 60,
   "metadata": {},
   "outputs": [
    {
     "data": {
      "text/plain": [
       "<AxesSubplot:xlabel='month'>"
      ]
     },
     "execution_count": 60,
     "metadata": {},
     "output_type": "execute_result"
    },
    {
     "data": {
      "image/png": "[encoded data removed]",
      "text/plain": [
       "<Figure size 360x360 with 1 Axes>"
      ]
     },
     "metadata": {
      "needs_background": "light"
     },
     "output_type": "display_data"
    }
   ],
   "source": [
    "data.pivot_table(index='month', values='last_price').plot(grid=True, style='o-', xlim=(1,12), figsize=(5, 5))"
   ]
  },
  {
   "cell_type": "code",
   "execution_count": 61,
   "metadata": {},
   "outputs": [
    {
     "data": {
      "text/plain": [
       "<AxesSubplot:xlabel='year'>"
      ]
     },
     "execution_count": 61,
     "metadata": {},
     "output_type": "execute_result"
    },
    {
     "data": {
      "image/png": "[encoded data removed]",
      "text/plain": [
       "<Figure size 360x360 with 1 Axes>"
      ]
     },
     "metadata": {
      "needs_background": "light"
     },
     "output_type": "display_data"
    }
   ],
   "source": [
    "data.pivot_table(index='year', values='last_price').plot(grid=True, style='o-', figsize=(5, 5))"
   ]
  },
  {
   "cell_type": "markdown",
   "metadata": {},
   "source": [
    "Почти прямая зависимость между ценой и общей площадью, количеством комнат. \n",
    "Слабая у цены и дня публикации, площади кухни. \n",
    "У остальных параметров слабая зависимость. \n",
    "\n",
    "Цена снижалась с 2014 до 2017 года до мин значения, но затем стала расти. \n",
    "Самая высокая стоимость в апреле, а низкая в июне. \n",
    "Во вторник самая высокая цена на квартиры, а в субботу минимальная. \n",
    "\n",
    "Стоимость квартиры зависит от ее площади: чем выше стоимость, тем дороже стоимость. \n",
    "Кол-во комнат также влияет на стоимость: чем больше комнат, тем выше цена. \n",
    "Этаж тоже влияет на цену: квартиры на 1 этаже дешевле остальных."
   ]
  },
  {
   "cell_type": "markdown",
   "metadata": {},
   "source": [
    "#### Расчет средней цены одного квадратного метра в 10 населённых пунктах с наибольшим числом объявлений"
   ]
  },
  {
   "cell_type": "code",
   "execution_count": 62,
   "metadata": {},
   "outputs": [
    {
     "data": {
      "text/html": [
       "<div>\n",
       "<style scoped>\n",
       "    .dataframe tbody tr th:only-of-type {\n",
       "        vertical-align: middle;\n",
       "    }\n",
       "\n",
       "    .dataframe tbody tr th {\n",
       "        vertical-align: top;\n",
       "    }\n",
       "\n",
       "    .dataframe thead th {\n",
       "        text-align: right;\n",
       "    }\n",
       "</style>\n",
       "<table border=\"1\" class=\"dataframe\">\n",
       "  <thead>\n",
       "    <tr style=\"text-align: right;\">\n",
       "      <th></th>\n",
       "      <th>count</th>\n",
       "      <th>mean</th>\n",
       "    </tr>\n",
       "    <tr>\n",
       "      <th>locality_name</th>\n",
       "      <th></th>\n",
       "      <th></th>\n",
       "    </tr>\n",
       "  </thead>\n",
       "  <tbody>\n",
       "    <tr>\n",
       "      <th>Санкт-Петербург</th>\n",
       "      <td>15651</td>\n",
       "      <td>114868.877339</td>\n",
       "    </tr>\n",
       "    <tr>\n",
       "      <th>поселок Мурино</th>\n",
       "      <td>552</td>\n",
       "      <td>85629.568641</td>\n",
       "    </tr>\n",
       "    <tr>\n",
       "      <th>поселок Шушары</th>\n",
       "      <td>439</td>\n",
       "      <td>78551.344647</td>\n",
       "    </tr>\n",
       "    <tr>\n",
       "      <th>Всеволожск</th>\n",
       "      <td>398</td>\n",
       "      <td>68654.473970</td>\n",
       "    </tr>\n",
       "    <tr>\n",
       "      <th>Пушкин</th>\n",
       "      <td>369</td>\n",
       "      <td>103125.819377</td>\n",
       "    </tr>\n",
       "    <tr>\n",
       "      <th>Колпино</th>\n",
       "      <td>338</td>\n",
       "      <td>75424.579112</td>\n",
       "    </tr>\n",
       "    <tr>\n",
       "      <th>поселок Парголово</th>\n",
       "      <td>327</td>\n",
       "      <td>90175.913089</td>\n",
       "    </tr>\n",
       "    <tr>\n",
       "      <th>Гатчина</th>\n",
       "      <td>307</td>\n",
       "      <td>68746.146515</td>\n",
       "    </tr>\n",
       "    <tr>\n",
       "      <th>деревня Кудрово</th>\n",
       "      <td>299</td>\n",
       "      <td>92473.547559</td>\n",
       "    </tr>\n",
       "    <tr>\n",
       "      <th>Выборг</th>\n",
       "      <td>237</td>\n",
       "      <td>58141.909325</td>\n",
       "    </tr>\n",
       "  </tbody>\n",
       "</table>\n",
       "</div>"
      ],
      "text/plain": [
       "                   count           mean\n",
       "locality_name                          \n",
       "Санкт-Петербург    15651  114868.877339\n",
       "поселок Мурино       552   85629.568641\n",
       "поселок Шушары       439   78551.344647\n",
       "Всеволожск           398   68654.473970\n",
       "Пушкин               369  103125.819377\n",
       "Колпино              338   75424.579112\n",
       "поселок Парголово    327   90175.913089\n",
       "Гатчина              307   68746.146515\n",
       "деревня Кудрово      299   92473.547559\n",
       "Выборг               237   58141.909325"
      ]
     },
     "execution_count": 62,
     "metadata": {},
     "output_type": "execute_result"
    }
   ],
   "source": [
    "average_price_per_meter = data.pivot_table(index = 'locality_name', values = 'sm_price', aggfunc=['count', 'mean'])\n",
    "average_price_per_meter.columns = ['count', 'mean']\n",
    "average_price_per_meter = average_price_per_meter.sort_values('count', ascending = False).head(10)\n",
    "average_price_per_meter"
   ]
  },
  {
   "cell_type": "markdown",
   "metadata": {},
   "source": [
    "Cамая высокая стоимость жилья в Санкт-Петербурге. Из списка топ-10 городов по средней стоимости с нб кол-вом обьявлений у Выборга цена меньше остальных вариантов.\n"
   ]
  },
  {
   "cell_type": "markdown",
   "metadata": {},
   "source": [
    "#### Изменение стоимости квартир в Санкт-Петербурге от расстояния до центра города:"
   ]
  },
  {
   "cell_type": "code",
   "execution_count": 63,
   "metadata": {},
   "outputs": [
    {
     "data": {
      "text/plain": [
       "count    15576.000000\n",
       "mean        11.567347\n",
       "std          4.828655\n",
       "min          0.000000\n",
       "25%          8.000000\n",
       "50%         12.000000\n",
       "75%         15.000000\n",
       "max         26.000000\n",
       "Name: cityCenters_nearest_km, dtype: float64"
      ]
     },
     "execution_count": 63,
     "metadata": {},
     "output_type": "execute_result"
    }
   ],
   "source": [
    "data.query('locality_name == \"Санкт-Петербург\"')['cityCenters_nearest_km'].describe()"
   ]
  },
  {
   "cell_type": "code",
   "execution_count": 64,
   "metadata": {},
   "outputs": [
    {
     "data": {
      "text/html": [
       "<div>\n",
       "<style scoped>\n",
       "    .dataframe tbody tr th:only-of-type {\n",
       "        vertical-align: middle;\n",
       "    }\n",
       "\n",
       "    .dataframe tbody tr th {\n",
       "        vertical-align: top;\n",
       "    }\n",
       "\n",
       "    .dataframe thead th {\n",
       "        text-align: right;\n",
       "    }\n",
       "</style>\n",
       "<table border=\"1\" class=\"dataframe\">\n",
       "  <thead>\n",
       "    <tr style=\"text-align: right;\">\n",
       "      <th></th>\n",
       "      <th>last_price</th>\n",
       "    </tr>\n",
       "    <tr>\n",
       "      <th>cityCenters_nearest_km</th>\n",
       "      <th></th>\n",
       "    </tr>\n",
       "  </thead>\n",
       "  <tbody>\n",
       "    <tr>\n",
       "      <th>0.0</th>\n",
       "      <td>8.398000e+06</td>\n",
       "    </tr>\n",
       "    <tr>\n",
       "      <th>1.0</th>\n",
       "      <td>8.145277e+06</td>\n",
       "    </tr>\n",
       "    <tr>\n",
       "      <th>2.0</th>\n",
       "      <td>7.970519e+06</td>\n",
       "    </tr>\n",
       "    <tr>\n",
       "      <th>3.0</th>\n",
       "      <td>7.350003e+06</td>\n",
       "    </tr>\n",
       "    <tr>\n",
       "      <th>4.0</th>\n",
       "      <td>7.606618e+06</td>\n",
       "    </tr>\n",
       "    <tr>\n",
       "      <th>5.0</th>\n",
       "      <td>7.661225e+06</td>\n",
       "    </tr>\n",
       "    <tr>\n",
       "      <th>6.0</th>\n",
       "      <td>7.096569e+06</td>\n",
       "    </tr>\n",
       "    <tr>\n",
       "      <th>7.0</th>\n",
       "      <td>6.635321e+06</td>\n",
       "    </tr>\n",
       "    <tr>\n",
       "      <th>8.0</th>\n",
       "      <td>6.591220e+06</td>\n",
       "    </tr>\n",
       "    <tr>\n",
       "      <th>9.0</th>\n",
       "      <td>5.517239e+06</td>\n",
       "    </tr>\n",
       "  </tbody>\n",
       "</table>\n",
       "</div>"
      ],
      "text/plain": [
       "                          last_price\n",
       "cityCenters_nearest_km              \n",
       "0.0                     8.398000e+06\n",
       "1.0                     8.145277e+06\n",
       "2.0                     7.970519e+06\n",
       "3.0                     7.350003e+06\n",
       "4.0                     7.606618e+06\n",
       "5.0                     7.661225e+06\n",
       "6.0                     7.096569e+06\n",
       "7.0                     6.635321e+06\n",
       "8.0                     6.591220e+06\n",
       "9.0                     5.517239e+06"
      ]
     },
     "execution_count": 64,
     "metadata": {},
     "output_type": "execute_result"
    },
    {
     "data": {
      "image/png": "[encoded data removed]",
      "text/plain": [
       "<Figure size 720x360 with 1 Axes>"
      ]
     },
     "metadata": {
      "needs_background": "light"
     },
     "output_type": "display_data"
    }
   ],
   "source": [
    "data.query('locality_name == \"Санкт-Петербург\"').pivot_table(index='cityCenters_nearest_km', values='last_price').plot(grid=True, style='o-', xlim=(0,10), figsize=(10, 5))\n",
    "data.query('locality_name == \"Санкт-Петербург\" and cityCenters_nearest_km<10').pivot_table(values='last_price', index='cityCenters_nearest_km')"
   ]
  },
  {
   "cell_type": "markdown",
   "metadata": {},
   "source": [
    "В центре Санкт-Петербурга самые дороги квартиры. При удалении от центра цены на квартиры снижаются\n"
   ]
  },
  {
   "cell_type": "markdown",
   "metadata": {
    "id": "h7VpzkIDAwb-"
   },
   "source": [
    "### Общий вывод"
   ]
  },
  {
   "cell_type": "markdown",
   "metadata": {
    "id": "3H4lnp_KAwb-"
   },
   "source": [
    "В ходе исследования объявлений о продаже квартир в Санкт-Петербурге и соседних населённых пунктах была выполнена следующая предобработка данных:\n",
    "- изучена общая информация о данных\n",
    "- найдены и обработаны пропущенные значения (пропуски могли возникнуть из-за человеческого фактора (данные были удалены случайно или намерено, сотрудник не внес данные) или в результате сбоя в базе данных при выгрузке)\n",
    "- изменены некорректные типы данных в столбцах (в столбцах floors_total,balcony, parks_around3000, ponds_around3000, days_exposition должен быть тип int, т.к. значения целые; в столбце first_day_exposition - object - должен быть тип datetime; в столбце is_apartment - должен быть тип bool)\n",
    "- обработаны аномальные значения, округлены значения до значащих величин\n",
    "- изучены уникальные значения и устранены неявные дубликаты\n",
    "- добавлены столбцы с параметрами: цена одного квадратного метра; день недели публикации объявления; месяц публикации объявления; год публикации объявления; тип этажа квартиры; расстояние до центра города в километрах.\n",
    "\n",
    "В ходе исследовательского анализа данных были изучены и описаны параметры объектов и сделаны следующие выводы:\n",
    "\n",
    "Площадь большинства предлагаемых квартир варьируется от 30 до 70 кв.м. \n",
    "Жилая площадь большинства квартир в пределах 14 и 21 м, а также 26 и 36 м, а площадь кухонь варьируется от 5 до 15 м. \n",
    "Большинство предложений имеет площадь кухни равную 10,5 кв. м. \n",
    "Цена на большинство квартир варьируется от 2 до 6 млн., 4 млн. руб. - самая распространенная цена. \n",
    "Большую часть предложений составляют одно- и двухкомнатные квартиры,с ростом кол-ва комнат предложений становится меньше. \n",
    "Большинство вариантов имеют высоту потолков от 2,5 до 3 метров, самое распространенное - 2,65 м. \n",
    "Большинство предложенных квартир расположены между 2 и предпоследним этажом, меньше всего вариантов на 1 этаже. Больше всего квартир продается в 5-этажных домах, также много предложений в 9-этажках. \n",
    "Максимальное расстояние до центра 65 км, большинство квартир расположено в пределах 5-20 км от центра, есть 3 выделающиеся значения в пределах 5, 12 и 15 км. \n",
    "В основном расстояние до парка варьируется от 200 до 750 м.\n",
    "\n",
    "Изучено, как быстро продавались квартиры:\n",
    "Среднее время продажи квартир 156 дня, а медианное 73 дней. \n",
    "Быстрыми продажами можно считать до 150 дней. Некоторые квартиры продаются больше 230 дней, максимальное кол-во дней обьявления 1580.\n",
    "\n",
    "Определены факторы, которые больше всего влияют на общую (полную) стоимость объекта:\n",
    "Чем выше стоимость, тем дороже стоимость. Чем больше комнат, тем выше цена. \n",
    "Этаж тоже влияет на цену: квартиры на 1 этаже дешевле остальных.\n",
    "Цена снижалась с 2014 до 2017 года до мин значения, но затем стала расти. Самая высокая стоимость в апреле, а низкая в июне. Во вторник самая высокая цена на квартиры, а в субботу минимальная.\n",
    "\n",
    "\n",
    "Расчет средней цены одного квадратного метра в 10 населённых пунктах с наибольшим числом объявлений показал, что самая высокая стоимость жилья в Санкт-Петербурге. Из списка топ-10 городов по средней стоимости с нб кол-вом обьявлений у Выборга цена меньше остальных вариантов. \n",
    "\n",
    "Расчет средней стоимости на разном удалении от центра Санкт-Петербурга показал, что самые дорогие квартиры в центре города. При удалении от центра цены на квартиры снижаются. \n",
    "\n"
   ]
  },
  {
   "cell_type": "code",
   "execution_count": null,
   "metadata": {},
   "outputs": [],
   "source": []
  }
 ],
 "metadata": {
  "ExecuteTimeLog": [
   {
    "duration": 3362,
    "start_time": "2024-05-28T20:03:48.980Z"
   },
   {
    "duration": 2292,
    "start_time": "2024-05-28T20:06:00.042Z"
   },
   {
    "duration": 2922,
    "start_time": "2024-05-28T20:09:05.600Z"
   },
   {
    "duration": 1656,
    "start_time": "2024-05-29T13:02:29.442Z"
   },
   {
    "duration": 1092,
    "start_time": "2024-05-29T13:02:47.022Z"
   },
   {
    "duration": 1740,
    "start_time": "2024-05-29T13:02:54.872Z"
   },
   {
    "duration": 110,
    "start_time": "2024-05-29T13:03:18.274Z"
   },
   {
    "duration": 1857,
    "start_time": "2024-05-29T13:04:35.092Z"
   },
   {
    "duration": 10,
    "start_time": "2024-05-29T13:07:00.839Z"
   },
   {
    "duration": 15,
    "start_time": "2024-05-29T13:15:36.639Z"
   },
   {
    "duration": 19,
    "start_time": "2024-05-29T13:16:29.708Z"
   },
   {
    "duration": 358,
    "start_time": "2024-05-29T13:18:20.474Z"
   },
   {
    "duration": 101,
    "start_time": "2024-05-29T13:42:45.148Z"
   },
   {
    "duration": 84,
    "start_time": "2024-05-29T13:43:11.858Z"
   },
   {
    "duration": 103,
    "start_time": "2024-05-29T13:43:21.963Z"
   },
   {
    "duration": 95,
    "start_time": "2024-05-29T13:43:28.063Z"
   },
   {
    "duration": 347,
    "start_time": "2024-05-29T13:46:18.332Z"
   },
   {
    "duration": 95,
    "start_time": "2024-05-29T13:46:55.426Z"
   },
   {
    "duration": 11,
    "start_time": "2024-05-29T13:47:03.529Z"
   },
   {
    "duration": 1526,
    "start_time": "2024-05-29T13:47:09.979Z"
   },
   {
    "duration": 80,
    "start_time": "2024-05-29T13:48:33.093Z"
   },
   {
    "duration": 25,
    "start_time": "2024-05-29T13:48:39.261Z"
   },
   {
    "duration": 7,
    "start_time": "2024-05-29T13:49:25.998Z"
   },
   {
    "duration": 18,
    "start_time": "2024-05-29T14:04:13.322Z"
   },
   {
    "duration": 429,
    "start_time": "2024-05-29T14:04:58.806Z"
   },
   {
    "duration": 27,
    "start_time": "2024-05-29T14:04:59.237Z"
   },
   {
    "duration": 24,
    "start_time": "2024-05-29T14:04:59.265Z"
   },
   {
    "duration": 1717,
    "start_time": "2024-05-29T14:04:59.290Z"
   },
   {
    "duration": 9,
    "start_time": "2024-05-29T14:05:01.009Z"
   },
   {
    "duration": 201,
    "start_time": "2024-05-29T14:05:01.020Z"
   },
   {
    "duration": 114,
    "start_time": "2024-05-29T14:05:01.223Z"
   },
   {
    "duration": 2,
    "start_time": "2024-05-29T14:06:33.436Z"
   },
   {
    "duration": 3,
    "start_time": "2024-05-29T14:06:34.436Z"
   },
   {
    "duration": 5,
    "start_time": "2024-05-29T14:06:34.955Z"
   },
   {
    "duration": 67,
    "start_time": "2024-05-29T14:20:29.357Z"
   },
   {
    "duration": 11,
    "start_time": "2024-05-29T14:22:43.789Z"
   },
   {
    "duration": 400,
    "start_time": "2024-05-29T14:23:08.606Z"
   },
   {
    "duration": 27,
    "start_time": "2024-05-29T14:23:09.007Z"
   },
   {
    "duration": 12,
    "start_time": "2024-05-29T14:23:09.036Z"
   },
   {
    "duration": 1762,
    "start_time": "2024-05-29T14:23:09.049Z"
   },
   {
    "duration": 70,
    "start_time": "2024-05-29T14:23:10.813Z"
   },
   {
    "duration": 8,
    "start_time": "2024-05-29T14:26:05.661Z"
   },
   {
    "duration": 15,
    "start_time": "2024-05-29T14:31:07.848Z"
   },
   {
    "duration": 5,
    "start_time": "2024-05-29T14:31:19.832Z"
   },
   {
    "duration": 3,
    "start_time": "2024-05-29T14:33:39.353Z"
   },
   {
    "duration": 8,
    "start_time": "2024-05-29T14:33:47.868Z"
   },
   {
    "duration": 4,
    "start_time": "2024-05-29T14:34:15.669Z"
   },
   {
    "duration": 8,
    "start_time": "2024-05-29T14:34:38.118Z"
   },
   {
    "duration": 8,
    "start_time": "2024-05-29T14:35:39.502Z"
   },
   {
    "duration": 10,
    "start_time": "2024-05-29T14:35:41.102Z"
   },
   {
    "duration": 21,
    "start_time": "2024-05-29T14:42:42.825Z"
   },
   {
    "duration": 11,
    "start_time": "2024-05-29T14:51:21.280Z"
   },
   {
    "duration": 12,
    "start_time": "2024-05-29T14:51:27.241Z"
   },
   {
    "duration": 12,
    "start_time": "2024-05-29T14:51:41.560Z"
   },
   {
    "duration": 418,
    "start_time": "2024-05-29T14:51:52.591Z"
   },
   {
    "duration": 27,
    "start_time": "2024-05-29T14:51:53.010Z"
   },
   {
    "duration": 10,
    "start_time": "2024-05-29T14:51:53.038Z"
   },
   {
    "duration": 1697,
    "start_time": "2024-05-29T14:51:53.050Z"
   },
   {
    "duration": 68,
    "start_time": "2024-05-29T14:51:54.749Z"
   },
   {
    "duration": 0,
    "start_time": "2024-05-29T14:51:54.818Z"
   },
   {
    "duration": 0,
    "start_time": "2024-05-29T14:51:54.819Z"
   },
   {
    "duration": 0,
    "start_time": "2024-05-29T14:51:54.820Z"
   },
   {
    "duration": 0,
    "start_time": "2024-05-29T14:51:54.820Z"
   },
   {
    "duration": 12,
    "start_time": "2024-05-29T14:52:05.323Z"
   },
   {
    "duration": 11,
    "start_time": "2024-05-29T14:52:36.691Z"
   },
   {
    "duration": 12,
    "start_time": "2024-05-29T14:52:39.155Z"
   },
   {
    "duration": 8,
    "start_time": "2024-05-29T14:54:00.538Z"
   },
   {
    "duration": 7,
    "start_time": "2024-05-29T14:55:27.492Z"
   },
   {
    "duration": 69,
    "start_time": "2024-05-29T15:05:05.043Z"
   },
   {
    "duration": 7,
    "start_time": "2024-05-29T15:12:19.971Z"
   },
   {
    "duration": 5,
    "start_time": "2024-05-29T15:13:56.217Z"
   },
   {
    "duration": 8,
    "start_time": "2024-05-29T15:14:58.099Z"
   },
   {
    "duration": 31,
    "start_time": "2024-05-29T15:15:25.402Z"
   },
   {
    "duration": 10,
    "start_time": "2024-05-29T15:17:33.585Z"
   },
   {
    "duration": 16,
    "start_time": "2024-05-29T15:17:52.866Z"
   },
   {
    "duration": 8,
    "start_time": "2024-05-29T15:17:54.067Z"
   },
   {
    "duration": 317,
    "start_time": "2024-05-29T15:18:58.318Z"
   },
   {
    "duration": 8,
    "start_time": "2024-05-29T15:18:58.917Z"
   },
   {
    "duration": 47,
    "start_time": "2024-06-03T10:06:09.225Z"
   },
   {
    "duration": 615,
    "start_time": "2024-06-03T10:06:14.995Z"
   },
   {
    "duration": 31,
    "start_time": "2024-06-03T10:06:15.612Z"
   },
   {
    "duration": 13,
    "start_time": "2024-06-03T10:06:15.644Z"
   },
   {
    "duration": 78,
    "start_time": "2024-06-03T10:06:15.659Z"
   },
   {
    "duration": 2163,
    "start_time": "2024-06-03T10:06:15.739Z"
   },
   {
    "duration": 9,
    "start_time": "2024-06-03T10:06:17.904Z"
   },
   {
    "duration": 6,
    "start_time": "2024-06-03T10:06:17.914Z"
   },
   {
    "duration": 74,
    "start_time": "2024-06-03T10:06:17.922Z"
   },
   {
    "duration": 0,
    "start_time": "2024-06-03T10:06:17.998Z"
   },
   {
    "duration": 0,
    "start_time": "2024-06-03T10:06:18.012Z"
   },
   {
    "duration": 0,
    "start_time": "2024-06-03T10:06:18.013Z"
   },
   {
    "duration": 175,
    "start_time": "2024-06-03T10:09:04.956Z"
   },
   {
    "duration": 360,
    "start_time": "2024-06-03T10:10:31.171Z"
   },
   {
    "duration": 315,
    "start_time": "2024-06-03T10:10:36.371Z"
   },
   {
    "duration": 500,
    "start_time": "2024-06-03T10:10:44.072Z"
   },
   {
    "duration": 40,
    "start_time": "2024-06-03T10:10:44.574Z"
   },
   {
    "duration": 14,
    "start_time": "2024-06-03T10:10:44.616Z"
   },
   {
    "duration": 79,
    "start_time": "2024-06-03T10:10:44.633Z"
   },
   {
    "duration": 1961,
    "start_time": "2024-06-03T10:10:44.713Z"
   },
   {
    "duration": 8,
    "start_time": "2024-06-03T10:10:46.675Z"
   },
   {
    "duration": 355,
    "start_time": "2024-06-03T10:10:46.685Z"
   },
   {
    "duration": 80,
    "start_time": "2024-06-03T10:10:47.042Z"
   },
   {
    "duration": 0,
    "start_time": "2024-06-03T10:10:47.124Z"
   },
   {
    "duration": 0,
    "start_time": "2024-06-03T10:10:47.125Z"
   },
   {
    "duration": 0,
    "start_time": "2024-06-03T10:10:47.126Z"
   },
   {
    "duration": 0,
    "start_time": "2024-06-03T10:10:47.127Z"
   },
   {
    "duration": 353,
    "start_time": "2024-06-03T10:14:18.623Z"
   },
   {
    "duration": 335,
    "start_time": "2024-06-03T10:18:31.274Z"
   },
   {
    "duration": 11,
    "start_time": "2024-06-03T10:18:33.922Z"
   },
   {
    "duration": 15,
    "start_time": "2024-06-03T10:23:46.607Z"
   },
   {
    "duration": 13,
    "start_time": "2024-06-03T10:24:17.605Z"
   },
   {
    "duration": 5,
    "start_time": "2024-06-03T10:24:36.257Z"
   },
   {
    "duration": 13,
    "start_time": "2024-06-03T10:25:06.923Z"
   },
   {
    "duration": 10,
    "start_time": "2024-06-03T10:25:31.757Z"
   },
   {
    "duration": 9,
    "start_time": "2024-06-03T10:25:42.056Z"
   },
   {
    "duration": 8,
    "start_time": "2024-06-03T10:38:07.454Z"
   },
   {
    "duration": 11,
    "start_time": "2024-06-03T10:41:24.322Z"
   },
   {
    "duration": 7,
    "start_time": "2024-06-03T11:00:13.336Z"
   },
   {
    "duration": 5,
    "start_time": "2024-06-03T11:48:21.310Z"
   },
   {
    "duration": 7,
    "start_time": "2024-06-03T11:51:01.842Z"
   },
   {
    "duration": 30,
    "start_time": "2024-06-03T11:54:12.593Z"
   },
   {
    "duration": 7,
    "start_time": "2024-06-03T11:54:22.858Z"
   },
   {
    "duration": 5,
    "start_time": "2024-06-03T11:57:46.491Z"
   },
   {
    "duration": 24,
    "start_time": "2024-06-03T11:57:58.441Z"
   },
   {
    "duration": 11,
    "start_time": "2024-06-03T12:03:55.706Z"
   },
   {
    "duration": 7,
    "start_time": "2024-06-03T12:12:54.793Z"
   },
   {
    "duration": 7,
    "start_time": "2024-06-03T12:14:06.593Z"
   },
   {
    "duration": 58,
    "start_time": "2024-06-03T12:14:08.109Z"
   },
   {
    "duration": 3,
    "start_time": "2024-06-03T12:14:13.709Z"
   },
   {
    "duration": 8,
    "start_time": "2024-06-03T12:14:15.277Z"
   },
   {
    "duration": 3,
    "start_time": "2024-06-03T12:14:17.842Z"
   },
   {
    "duration": 7,
    "start_time": "2024-06-03T12:14:18.276Z"
   },
   {
    "duration": 219,
    "start_time": "2024-06-03T12:14:33.822Z"
   },
   {
    "duration": 2,
    "start_time": "2024-06-03T12:15:18.327Z"
   },
   {
    "duration": 264,
    "start_time": "2024-06-03T12:15:19.127Z"
   },
   {
    "duration": 631,
    "start_time": "2024-06-03T12:23:12.778Z"
   },
   {
    "duration": 3,
    "start_time": "2024-06-03T12:25:42.428Z"
   },
   {
    "duration": 278,
    "start_time": "2024-06-03T12:25:42.878Z"
   },
   {
    "duration": 24,
    "start_time": "2024-06-03T12:26:29.743Z"
   },
   {
    "duration": 9,
    "start_time": "2024-06-03T12:42:32.025Z"
   },
   {
    "duration": 8,
    "start_time": "2024-06-03T12:42:38.858Z"
   },
   {
    "duration": 8,
    "start_time": "2024-06-03T12:42:40.692Z"
   },
   {
    "duration": 14,
    "start_time": "2024-06-03T12:43:29.626Z"
   },
   {
    "duration": 13,
    "start_time": "2024-06-03T12:43:31.608Z"
   },
   {
    "duration": 11,
    "start_time": "2024-06-03T12:44:28.742Z"
   },
   {
    "duration": 27,
    "start_time": "2024-06-03T12:44:34.227Z"
   },
   {
    "duration": 11,
    "start_time": "2024-06-03T12:45:32.443Z"
   },
   {
    "duration": 27,
    "start_time": "2024-06-03T12:45:36.207Z"
   },
   {
    "duration": 450,
    "start_time": "2024-06-03T12:45:46.066Z"
   },
   {
    "duration": 33,
    "start_time": "2024-06-03T12:45:46.517Z"
   },
   {
    "duration": 12,
    "start_time": "2024-06-03T12:45:46.554Z"
   },
   {
    "duration": 81,
    "start_time": "2024-06-03T12:45:46.568Z"
   },
   {
    "duration": 1987,
    "start_time": "2024-06-03T12:45:46.651Z"
   },
   {
    "duration": 8,
    "start_time": "2024-06-03T12:45:48.640Z"
   },
   {
    "duration": 372,
    "start_time": "2024-06-03T12:45:48.649Z"
   },
   {
    "duration": 7,
    "start_time": "2024-06-03T12:45:49.023Z"
   },
   {
    "duration": 22,
    "start_time": "2024-06-03T12:45:49.032Z"
   },
   {
    "duration": 12,
    "start_time": "2024-06-03T12:45:49.056Z"
   },
   {
    "duration": 17,
    "start_time": "2024-06-03T12:45:49.070Z"
   },
   {
    "duration": 41,
    "start_time": "2024-06-03T12:45:49.088Z"
   },
   {
    "duration": 9,
    "start_time": "2024-06-03T12:45:49.131Z"
   },
   {
    "duration": 4,
    "start_time": "2024-06-03T12:45:49.142Z"
   },
   {
    "duration": 9,
    "start_time": "2024-06-03T12:45:49.148Z"
   },
   {
    "duration": 4,
    "start_time": "2024-06-03T12:45:49.158Z"
   },
   {
    "duration": 347,
    "start_time": "2024-06-03T12:45:49.163Z"
   },
   {
    "duration": 76,
    "start_time": "2024-06-03T12:45:49.512Z"
   },
   {
    "duration": 0,
    "start_time": "2024-06-03T12:45:49.590Z"
   },
   {
    "duration": 24,
    "start_time": "2024-06-03T12:45:54.742Z"
   },
   {
    "duration": 4,
    "start_time": "2024-06-03T12:46:28.209Z"
   },
   {
    "duration": 8,
    "start_time": "2024-06-03T12:46:28.762Z"
   },
   {
    "duration": 3,
    "start_time": "2024-06-03T12:46:29.010Z"
   },
   {
    "duration": 368,
    "start_time": "2024-06-03T12:46:29.195Z"
   },
   {
    "duration": 11,
    "start_time": "2024-06-03T12:46:29.565Z"
   },
   {
    "duration": 35,
    "start_time": "2024-06-03T12:46:29.578Z"
   },
   {
    "duration": 440,
    "start_time": "2024-06-03T12:46:39.158Z"
   },
   {
    "duration": 31,
    "start_time": "2024-06-03T12:46:39.600Z"
   },
   {
    "duration": 13,
    "start_time": "2024-06-03T12:46:39.633Z"
   },
   {
    "duration": 74,
    "start_time": "2024-06-03T12:46:39.647Z"
   },
   {
    "duration": 1936,
    "start_time": "2024-06-03T12:46:39.722Z"
   },
   {
    "duration": 8,
    "start_time": "2024-06-03T12:46:41.660Z"
   },
   {
    "duration": 378,
    "start_time": "2024-06-03T12:46:41.669Z"
   },
   {
    "duration": 7,
    "start_time": "2024-06-03T12:46:42.049Z"
   },
   {
    "duration": 20,
    "start_time": "2024-06-03T12:46:42.057Z"
   },
   {
    "duration": 13,
    "start_time": "2024-06-03T12:46:42.079Z"
   },
   {
    "duration": 18,
    "start_time": "2024-06-03T12:46:42.094Z"
   },
   {
    "duration": 30,
    "start_time": "2024-06-03T12:46:42.113Z"
   },
   {
    "duration": 16,
    "start_time": "2024-06-03T12:46:42.145Z"
   },
   {
    "duration": 7,
    "start_time": "2024-06-03T12:46:42.162Z"
   },
   {
    "duration": 15,
    "start_time": "2024-06-03T12:46:42.170Z"
   },
   {
    "duration": 3,
    "start_time": "2024-06-03T12:46:42.186Z"
   },
   {
    "duration": 336,
    "start_time": "2024-06-03T12:46:42.191Z"
   },
   {
    "duration": 84,
    "start_time": "2024-06-03T12:46:42.529Z"
   },
   {
    "duration": 0,
    "start_time": "2024-06-03T12:46:42.614Z"
   },
   {
    "duration": 24,
    "start_time": "2024-06-03T12:46:46.160Z"
   },
   {
    "duration": 294,
    "start_time": "2024-06-03T12:58:26.633Z"
   },
   {
    "duration": 182,
    "start_time": "2024-06-03T12:58:39.149Z"
   },
   {
    "duration": 126,
    "start_time": "2024-06-03T12:58:44.883Z"
   },
   {
    "duration": 126,
    "start_time": "2024-06-03T12:58:57.947Z"
   },
   {
    "duration": 366,
    "start_time": "2024-06-03T12:59:08.986Z"
   },
   {
    "duration": 242,
    "start_time": "2024-06-03T13:00:05.134Z"
   },
   {
    "duration": 323,
    "start_time": "2024-06-03T13:00:12.950Z"
   },
   {
    "duration": 259,
    "start_time": "2024-06-03T13:00:18.450Z"
   },
   {
    "duration": 249,
    "start_time": "2024-06-03T13:00:22.002Z"
   },
   {
    "duration": 245,
    "start_time": "2024-06-03T13:02:24.735Z"
   },
   {
    "duration": 363,
    "start_time": "2024-06-03T13:03:14.751Z"
   },
   {
    "duration": 309,
    "start_time": "2024-06-03T13:03:33.719Z"
   },
   {
    "duration": 241,
    "start_time": "2024-06-03T13:03:47.553Z"
   },
   {
    "duration": 236,
    "start_time": "2024-06-03T13:03:56.335Z"
   },
   {
    "duration": 241,
    "start_time": "2024-06-03T13:13:41.320Z"
   },
   {
    "duration": 173,
    "start_time": "2024-06-03T13:14:56.287Z"
   },
   {
    "duration": 177,
    "start_time": "2024-06-03T13:17:18.870Z"
   },
   {
    "duration": 180,
    "start_time": "2024-06-03T13:17:42.873Z"
   },
   {
    "duration": 166,
    "start_time": "2024-06-03T13:17:58.152Z"
   },
   {
    "duration": 303,
    "start_time": "2024-06-03T13:19:11.253Z"
   },
   {
    "duration": 246,
    "start_time": "2024-06-03T13:19:18.837Z"
   },
   {
    "duration": 169,
    "start_time": "2024-06-03T13:19:31.985Z"
   },
   {
    "duration": 251,
    "start_time": "2024-06-03T13:20:05.705Z"
   },
   {
    "duration": 182,
    "start_time": "2024-06-03T13:20:10.352Z"
   },
   {
    "duration": 172,
    "start_time": "2024-06-03T13:20:18.387Z"
   },
   {
    "duration": 170,
    "start_time": "2024-06-03T13:21:28.488Z"
   },
   {
    "duration": 164,
    "start_time": "2024-06-03T13:21:50.819Z"
   },
   {
    "duration": 256,
    "start_time": "2024-06-03T13:21:59.487Z"
   },
   {
    "duration": 210,
    "start_time": "2024-06-03T13:22:06.671Z"
   },
   {
    "duration": 165,
    "start_time": "2024-06-03T13:22:11.669Z"
   },
   {
    "duration": 174,
    "start_time": "2024-06-03T13:23:18.737Z"
   },
   {
    "duration": 168,
    "start_time": "2024-06-03T13:23:57.588Z"
   },
   {
    "duration": 156,
    "start_time": "2024-06-03T13:24:03.288Z"
   },
   {
    "duration": 242,
    "start_time": "2024-06-03T13:24:21.701Z"
   },
   {
    "duration": 142,
    "start_time": "2024-06-03T13:24:26.287Z"
   },
   {
    "duration": 206,
    "start_time": "2024-06-03T13:24:40.004Z"
   },
   {
    "duration": 222,
    "start_time": "2024-06-03T13:24:45.276Z"
   },
   {
    "duration": 173,
    "start_time": "2024-06-03T13:24:57.754Z"
   },
   {
    "duration": 181,
    "start_time": "2024-06-03T13:25:27.588Z"
   },
   {
    "duration": 134,
    "start_time": "2024-06-03T13:25:28.837Z"
   },
   {
    "duration": 125,
    "start_time": "2024-06-03T13:25:46.104Z"
   },
   {
    "duration": 141,
    "start_time": "2024-06-03T13:26:17.670Z"
   },
   {
    "duration": 144,
    "start_time": "2024-06-03T13:26:23.186Z"
   },
   {
    "duration": 136,
    "start_time": "2024-06-03T13:26:29.519Z"
   },
   {
    "duration": 142,
    "start_time": "2024-06-03T13:26:37.652Z"
   },
   {
    "duration": 127,
    "start_time": "2024-06-03T13:26:58.404Z"
   },
   {
    "duration": 185,
    "start_time": "2024-06-03T13:29:27.321Z"
   },
   {
    "duration": 240,
    "start_time": "2024-06-03T13:29:39.821Z"
   },
   {
    "duration": 135,
    "start_time": "2024-06-03T13:29:46.121Z"
   },
   {
    "duration": 132,
    "start_time": "2024-06-03T13:29:54.155Z"
   },
   {
    "duration": 144,
    "start_time": "2024-06-03T13:30:07.102Z"
   },
   {
    "duration": 252,
    "start_time": "2024-06-03T13:30:16.775Z"
   },
   {
    "duration": 135,
    "start_time": "2024-06-03T13:30:24.187Z"
   },
   {
    "duration": 133,
    "start_time": "2024-06-03T13:31:30.955Z"
   },
   {
    "duration": 262,
    "start_time": "2024-06-03T13:31:55.069Z"
   },
   {
    "duration": 308,
    "start_time": "2024-06-03T13:32:36.754Z"
   },
   {
    "duration": 251,
    "start_time": "2024-06-03T13:32:52.337Z"
   },
   {
    "duration": 15,
    "start_time": "2024-06-03T13:42:17.790Z"
   },
   {
    "duration": 159,
    "start_time": "2024-06-03T13:49:50.473Z"
   },
   {
    "duration": 191,
    "start_time": "2024-06-03T13:50:03.489Z"
   },
   {
    "duration": 154,
    "start_time": "2024-06-03T13:51:35.373Z"
   },
   {
    "duration": 180,
    "start_time": "2024-06-03T13:53:06.987Z"
   },
   {
    "duration": 210,
    "start_time": "2024-06-03T13:53:15.906Z"
   },
   {
    "duration": 160,
    "start_time": "2024-06-03T13:53:22.723Z"
   },
   {
    "duration": 325,
    "start_time": "2024-06-03T13:53:27.490Z"
   },
   {
    "duration": 1440,
    "start_time": "2024-06-03T13:54:15.776Z"
   },
   {
    "duration": 143,
    "start_time": "2024-06-03T13:54:25.956Z"
   },
   {
    "duration": 169,
    "start_time": "2024-06-03T13:58:27.058Z"
   },
   {
    "duration": 177,
    "start_time": "2024-06-03T13:58:55.008Z"
   },
   {
    "duration": 189,
    "start_time": "2024-06-03T13:59:08.976Z"
   },
   {
    "duration": 252,
    "start_time": "2024-06-03T13:59:18.940Z"
   },
   {
    "duration": 179,
    "start_time": "2024-06-03T13:59:23.274Z"
   },
   {
    "duration": 277,
    "start_time": "2024-06-03T13:59:49.272Z"
   },
   {
    "duration": 178,
    "start_time": "2024-06-03T14:01:00.908Z"
   },
   {
    "duration": 165,
    "start_time": "2024-06-03T14:01:22.590Z"
   },
   {
    "duration": 166,
    "start_time": "2024-06-03T14:03:27.844Z"
   },
   {
    "duration": 175,
    "start_time": "2024-06-03T14:03:37.842Z"
   },
   {
    "duration": 182,
    "start_time": "2024-06-03T14:03:41.536Z"
   },
   {
    "duration": 174,
    "start_time": "2024-06-03T14:03:52.558Z"
   },
   {
    "duration": 167,
    "start_time": "2024-06-03T14:04:14.338Z"
   },
   {
    "duration": 180,
    "start_time": "2024-06-03T14:04:30.158Z"
   },
   {
    "duration": 145,
    "start_time": "2024-06-03T14:27:36.130Z"
   },
   {
    "duration": 133,
    "start_time": "2024-06-03T14:27:53.712Z"
   },
   {
    "duration": 261,
    "start_time": "2024-06-03T14:29:22.563Z"
   },
   {
    "duration": 246,
    "start_time": "2024-06-03T14:33:50.748Z"
   },
   {
    "duration": 247,
    "start_time": "2024-06-03T14:34:03.029Z"
   },
   {
    "duration": 165,
    "start_time": "2024-06-03T14:34:08.084Z"
   },
   {
    "duration": 163,
    "start_time": "2024-06-03T14:34:15.683Z"
   },
   {
    "duration": 242,
    "start_time": "2024-06-03T14:34:30.132Z"
   },
   {
    "duration": 12,
    "start_time": "2024-06-03T14:36:51.383Z"
   },
   {
    "duration": 449,
    "start_time": "2024-06-03T14:36:59.359Z"
   },
   {
    "duration": 33,
    "start_time": "2024-06-03T14:36:59.809Z"
   },
   {
    "duration": 13,
    "start_time": "2024-06-03T14:36:59.843Z"
   },
   {
    "duration": 79,
    "start_time": "2024-06-03T14:36:59.858Z"
   },
   {
    "duration": 1939,
    "start_time": "2024-06-03T14:36:59.939Z"
   },
   {
    "duration": 10,
    "start_time": "2024-06-03T14:37:01.880Z"
   },
   {
    "duration": 384,
    "start_time": "2024-06-03T14:37:01.892Z"
   },
   {
    "duration": 9,
    "start_time": "2024-06-03T14:37:02.278Z"
   },
   {
    "duration": 28,
    "start_time": "2024-06-03T14:37:02.289Z"
   },
   {
    "duration": 13,
    "start_time": "2024-06-03T14:37:02.320Z"
   },
   {
    "duration": 9,
    "start_time": "2024-06-03T14:37:02.335Z"
   },
   {
    "duration": 41,
    "start_time": "2024-06-03T14:37:02.345Z"
   },
   {
    "duration": 25,
    "start_time": "2024-06-03T14:37:02.388Z"
   },
   {
    "duration": 5,
    "start_time": "2024-06-03T14:37:02.415Z"
   },
   {
    "duration": 25,
    "start_time": "2024-06-03T14:37:02.422Z"
   },
   {
    "duration": 2,
    "start_time": "2024-06-03T14:37:02.449Z"
   },
   {
    "duration": 329,
    "start_time": "2024-06-03T14:37:02.453Z"
   },
   {
    "duration": 80,
    "start_time": "2024-06-03T14:37:02.783Z"
   },
   {
    "duration": 0,
    "start_time": "2024-06-03T14:37:02.864Z"
   },
   {
    "duration": 0,
    "start_time": "2024-06-03T14:37:02.865Z"
   },
   {
    "duration": 0,
    "start_time": "2024-06-03T14:37:02.866Z"
   },
   {
    "duration": 0,
    "start_time": "2024-06-03T14:37:02.867Z"
   },
   {
    "duration": 0,
    "start_time": "2024-06-03T14:37:02.868Z"
   },
   {
    "duration": 0,
    "start_time": "2024-06-03T14:37:02.869Z"
   },
   {
    "duration": 0,
    "start_time": "2024-06-03T14:37:02.870Z"
   },
   {
    "duration": 0,
    "start_time": "2024-06-03T14:37:02.870Z"
   },
   {
    "duration": 0,
    "start_time": "2024-06-03T14:37:02.871Z"
   },
   {
    "duration": 0,
    "start_time": "2024-06-03T14:37:02.872Z"
   },
   {
    "duration": 0,
    "start_time": "2024-06-03T14:37:02.873Z"
   },
   {
    "duration": 0,
    "start_time": "2024-06-03T14:37:02.873Z"
   },
   {
    "duration": 923,
    "start_time": "2024-06-03T14:37:20.847Z"
   },
   {
    "duration": 286,
    "start_time": "2024-06-03T14:37:26.381Z"
   },
   {
    "duration": 11,
    "start_time": "2024-06-03T14:38:01.283Z"
   },
   {
    "duration": 22,
    "start_time": "2024-06-03T14:38:04.114Z"
   },
   {
    "duration": 22,
    "start_time": "2024-06-03T14:38:16.647Z"
   },
   {
    "duration": 479,
    "start_time": "2024-06-03T14:38:26.827Z"
   },
   {
    "duration": 33,
    "start_time": "2024-06-03T14:38:27.308Z"
   },
   {
    "duration": 15,
    "start_time": "2024-06-03T14:38:27.343Z"
   },
   {
    "duration": 89,
    "start_time": "2024-06-03T14:38:27.359Z"
   },
   {
    "duration": 1963,
    "start_time": "2024-06-03T14:38:27.451Z"
   },
   {
    "duration": 9,
    "start_time": "2024-06-03T14:38:29.415Z"
   },
   {
    "duration": 378,
    "start_time": "2024-06-03T14:38:29.425Z"
   },
   {
    "duration": 12,
    "start_time": "2024-06-03T14:38:29.805Z"
   },
   {
    "duration": 12,
    "start_time": "2024-06-03T14:38:29.819Z"
   },
   {
    "duration": 11,
    "start_time": "2024-06-03T14:38:29.832Z"
   },
   {
    "duration": 13,
    "start_time": "2024-06-03T14:38:29.845Z"
   },
   {
    "duration": 34,
    "start_time": "2024-06-03T14:38:29.859Z"
   },
   {
    "duration": 21,
    "start_time": "2024-06-03T14:38:29.894Z"
   },
   {
    "duration": 4,
    "start_time": "2024-06-03T14:38:29.918Z"
   },
   {
    "duration": 20,
    "start_time": "2024-06-03T14:38:29.924Z"
   },
   {
    "duration": 2,
    "start_time": "2024-06-03T14:38:29.946Z"
   },
   {
    "duration": 352,
    "start_time": "2024-06-03T14:38:29.950Z"
   },
   {
    "duration": 80,
    "start_time": "2024-06-03T14:38:30.303Z"
   },
   {
    "duration": 0,
    "start_time": "2024-06-03T14:38:30.385Z"
   },
   {
    "duration": 0,
    "start_time": "2024-06-03T14:38:30.386Z"
   },
   {
    "duration": 0,
    "start_time": "2024-06-03T14:38:30.387Z"
   },
   {
    "duration": 0,
    "start_time": "2024-06-03T14:38:30.388Z"
   },
   {
    "duration": 0,
    "start_time": "2024-06-03T14:38:30.389Z"
   },
   {
    "duration": 0,
    "start_time": "2024-06-03T14:38:30.390Z"
   },
   {
    "duration": 0,
    "start_time": "2024-06-03T14:38:30.391Z"
   },
   {
    "duration": 0,
    "start_time": "2024-06-03T14:38:30.392Z"
   },
   {
    "duration": 0,
    "start_time": "2024-06-03T14:38:30.392Z"
   },
   {
    "duration": 0,
    "start_time": "2024-06-03T14:38:30.412Z"
   },
   {
    "duration": 0,
    "start_time": "2024-06-03T14:38:30.413Z"
   },
   {
    "duration": 306,
    "start_time": "2024-06-03T14:38:40.348Z"
   },
   {
    "duration": 236,
    "start_time": "2024-06-03T14:39:34.184Z"
   },
   {
    "duration": 7,
    "start_time": "2024-06-03T14:42:27.565Z"
   },
   {
    "duration": 240,
    "start_time": "2024-06-03T14:43:01.381Z"
   },
   {
    "duration": 246,
    "start_time": "2024-06-03T14:43:10.500Z"
   },
   {
    "duration": 247,
    "start_time": "2024-06-03T14:43:17.996Z"
   },
   {
    "duration": 301,
    "start_time": "2024-06-03T14:43:28.817Z"
   },
   {
    "duration": 155,
    "start_time": "2024-06-03T14:43:34.782Z"
   },
   {
    "duration": 235,
    "start_time": "2024-06-03T14:43:45.202Z"
   },
   {
    "duration": 252,
    "start_time": "2024-06-03T14:45:46.982Z"
   },
   {
    "duration": 278,
    "start_time": "2024-06-03T14:47:00.985Z"
   },
   {
    "duration": 242,
    "start_time": "2024-06-03T14:47:21.699Z"
   },
   {
    "duration": 711,
    "start_time": "2024-06-03T14:47:38.932Z"
   },
   {
    "duration": 241,
    "start_time": "2024-06-03T14:47:58.051Z"
   },
   {
    "duration": 249,
    "start_time": "2024-06-03T14:48:04.033Z"
   },
   {
    "duration": 131,
    "start_time": "2024-06-03T15:17:56.075Z"
   },
   {
    "duration": 101,
    "start_time": "2024-06-03T15:19:51.227Z"
   },
   {
    "duration": 111,
    "start_time": "2024-06-03T15:22:02.675Z"
   },
   {
    "duration": 109,
    "start_time": "2024-06-03T15:22:24.460Z"
   },
   {
    "duration": 1522,
    "start_time": "2024-06-03T15:27:42.811Z"
   },
   {
    "duration": 128,
    "start_time": "2024-06-03T15:27:57.702Z"
   },
   {
    "duration": 117,
    "start_time": "2024-06-03T15:45:32.380Z"
   },
   {
    "duration": 117,
    "start_time": "2024-06-03T15:52:52.322Z"
   },
   {
    "duration": 59,
    "start_time": "2024-06-03T15:54:02.420Z"
   },
   {
    "duration": 118,
    "start_time": "2024-06-03T15:54:06.717Z"
   },
   {
    "duration": 14,
    "start_time": "2024-06-03T15:54:28.100Z"
   },
   {
    "duration": 198,
    "start_time": "2024-06-03T15:54:59.804Z"
   },
   {
    "duration": 143,
    "start_time": "2024-06-03T15:55:20.818Z"
   },
   {
    "duration": 135,
    "start_time": "2024-06-03T15:56:12.969Z"
   },
   {
    "duration": 27,
    "start_time": "2024-06-03T15:57:22.937Z"
   },
   {
    "duration": 142,
    "start_time": "2024-06-03T15:58:24.191Z"
   },
   {
    "duration": 144,
    "start_time": "2024-06-03T15:58:31.701Z"
   },
   {
    "duration": 12,
    "start_time": "2024-06-03T15:59:21.520Z"
   },
   {
    "duration": 144,
    "start_time": "2024-06-03T15:59:46.786Z"
   },
   {
    "duration": 143,
    "start_time": "2024-06-03T16:01:47.688Z"
   },
   {
    "duration": 133,
    "start_time": "2024-06-03T16:02:27.804Z"
   },
   {
    "duration": 134,
    "start_time": "2024-06-03T16:02:30.638Z"
   },
   {
    "duration": 133,
    "start_time": "2024-06-03T16:05:43.375Z"
   },
   {
    "duration": 133,
    "start_time": "2024-06-03T16:05:49.953Z"
   },
   {
    "duration": 22,
    "start_time": "2024-06-03T16:25:29.725Z"
   },
   {
    "duration": 22,
    "start_time": "2024-06-03T16:25:50.735Z"
   },
   {
    "duration": 23,
    "start_time": "2024-06-03T16:25:55.483Z"
   },
   {
    "duration": 26,
    "start_time": "2024-06-03T16:26:03.804Z"
   },
   {
    "duration": 19,
    "start_time": "2024-06-03T16:26:38.083Z"
   },
   {
    "duration": 22,
    "start_time": "2024-06-03T16:26:54.549Z"
   },
   {
    "duration": 24,
    "start_time": "2024-06-03T16:27:11.979Z"
   },
   {
    "duration": 22,
    "start_time": "2024-06-03T16:27:15.327Z"
   },
   {
    "duration": 24,
    "start_time": "2024-06-03T16:27:53.009Z"
   },
   {
    "duration": 22,
    "start_time": "2024-06-03T16:28:00.369Z"
   },
   {
    "duration": 22,
    "start_time": "2024-06-03T16:28:03.895Z"
   },
   {
    "duration": 7,
    "start_time": "2024-06-03T16:38:55.453Z"
   },
   {
    "duration": 17,
    "start_time": "2024-06-03T16:39:03.802Z"
   },
   {
    "duration": 143,
    "start_time": "2024-06-03T16:40:20.566Z"
   },
   {
    "duration": 192,
    "start_time": "2024-06-03T16:40:36.638Z"
   },
   {
    "duration": 16,
    "start_time": "2024-06-03T16:45:56.567Z"
   },
   {
    "duration": 15,
    "start_time": "2024-06-03T16:49:02.298Z"
   },
   {
    "duration": 136,
    "start_time": "2024-06-03T16:49:09.447Z"
   },
   {
    "duration": 7,
    "start_time": "2024-06-03T16:50:19.597Z"
   },
   {
    "duration": 12,
    "start_time": "2024-06-03T16:50:35.441Z"
   },
   {
    "duration": 11,
    "start_time": "2024-06-03T16:52:46.563Z"
   },
   {
    "duration": 12,
    "start_time": "2024-06-03T16:52:51.089Z"
   },
   {
    "duration": 12,
    "start_time": "2024-06-03T16:53:38.081Z"
   },
   {
    "duration": 260,
    "start_time": "2024-06-03T16:53:40.450Z"
   },
   {
    "duration": 204,
    "start_time": "2024-06-03T16:55:04.981Z"
   },
   {
    "duration": 195,
    "start_time": "2024-06-03T16:55:16.459Z"
   },
   {
    "duration": 224,
    "start_time": "2024-06-03T16:55:29.931Z"
   },
   {
    "duration": 207,
    "start_time": "2024-06-03T16:55:45.448Z"
   },
   {
    "duration": 211,
    "start_time": "2024-06-03T16:56:07.239Z"
   },
   {
    "duration": 17,
    "start_time": "2024-06-03T16:56:52.167Z"
   },
   {
    "duration": 204,
    "start_time": "2024-06-03T16:57:05.524Z"
   },
   {
    "duration": 211,
    "start_time": "2024-06-03T16:57:10.314Z"
   },
   {
    "duration": 203,
    "start_time": "2024-06-03T16:57:26.300Z"
   },
   {
    "duration": 682,
    "start_time": "2024-06-04T13:23:47.802Z"
   },
   {
    "duration": 35,
    "start_time": "2024-06-04T13:23:48.498Z"
   },
   {
    "duration": 25,
    "start_time": "2024-06-04T13:23:54.952Z"
   },
   {
    "duration": 28,
    "start_time": "2024-06-04T13:24:38.316Z"
   },
   {
    "duration": 59,
    "start_time": "2024-06-04T13:32:34.078Z"
   },
   {
    "duration": 5,
    "start_time": "2024-06-04T13:32:44.215Z"
   },
   {
    "duration": 26,
    "start_time": "2024-06-04T13:34:31.694Z"
   },
   {
    "duration": 3,
    "start_time": "2024-06-04T13:34:42.436Z"
   },
   {
    "duration": 5,
    "start_time": "2024-06-04T13:34:47.297Z"
   },
   {
    "duration": 5,
    "start_time": "2024-06-04T13:34:52.546Z"
   },
   {
    "duration": 3,
    "start_time": "2024-06-04T13:34:56.490Z"
   },
   {
    "duration": 4,
    "start_time": "2024-06-04T13:35:17.754Z"
   },
   {
    "duration": 3,
    "start_time": "2024-06-04T13:35:18.265Z"
   },
   {
    "duration": 9,
    "start_time": "2024-06-04T13:35:18.734Z"
   },
   {
    "duration": 3,
    "start_time": "2024-06-04T13:35:19.218Z"
   },
   {
    "duration": 3,
    "start_time": "2024-06-04T13:35:24.842Z"
   },
   {
    "duration": 3,
    "start_time": "2024-06-04T13:35:29.337Z"
   },
   {
    "duration": 8,
    "start_time": "2024-06-04T13:42:06.433Z"
   },
   {
    "duration": 30,
    "start_time": "2024-06-04T13:50:57.430Z"
   },
   {
    "duration": 8,
    "start_time": "2024-06-04T13:51:02.501Z"
   },
   {
    "duration": 3,
    "start_time": "2024-06-04T13:51:03.813Z"
   },
   {
    "duration": 5,
    "start_time": "2024-06-04T13:51:04.071Z"
   },
   {
    "duration": 3,
    "start_time": "2024-06-04T13:51:04.251Z"
   },
   {
    "duration": 3,
    "start_time": "2024-06-04T13:51:04.430Z"
   },
   {
    "duration": 3,
    "start_time": "2024-06-04T13:51:04.580Z"
   },
   {
    "duration": 3,
    "start_time": "2024-06-04T13:51:04.725Z"
   },
   {
    "duration": 9,
    "start_time": "2024-06-04T13:51:04.892Z"
   },
   {
    "duration": 3,
    "start_time": "2024-06-04T13:51:05.070Z"
   },
   {
    "duration": 2,
    "start_time": "2024-06-04T13:51:05.188Z"
   },
   {
    "duration": 3,
    "start_time": "2024-06-04T13:51:05.359Z"
   },
   {
    "duration": 9,
    "start_time": "2024-06-04T13:51:05.541Z"
   },
   {
    "duration": 13,
    "start_time": "2024-06-04T13:51:07.058Z"
   },
   {
    "duration": 3,
    "start_time": "2024-06-04T13:51:51.508Z"
   },
   {
    "duration": 4,
    "start_time": "2024-06-04T13:51:52.107Z"
   },
   {
    "duration": 4,
    "start_time": "2024-06-04T13:51:52.636Z"
   },
   {
    "duration": 3,
    "start_time": "2024-06-04T13:51:53.127Z"
   },
   {
    "duration": 4,
    "start_time": "2024-06-04T13:51:53.644Z"
   },
   {
    "duration": 41,
    "start_time": "2024-06-04T13:51:54.196Z"
   },
   {
    "duration": 3,
    "start_time": "2024-06-04T13:51:54.780Z"
   },
   {
    "duration": 12,
    "start_time": "2024-06-04T13:51:56.157Z"
   },
   {
    "duration": 7,
    "start_time": "2024-06-04T13:52:04.348Z"
   },
   {
    "duration": 29,
    "start_time": "2024-06-04T13:52:08.740Z"
   },
   {
    "duration": 6,
    "start_time": "2024-06-04T13:52:10.061Z"
   },
   {
    "duration": 4,
    "start_time": "2024-06-04T13:54:06.017Z"
   },
   {
    "duration": 4,
    "start_time": "2024-06-04T13:54:06.768Z"
   },
   {
    "duration": 5,
    "start_time": "2024-06-04T13:54:07.679Z"
   },
   {
    "duration": 4,
    "start_time": "2024-06-04T13:54:08.155Z"
   },
   {
    "duration": 4,
    "start_time": "2024-06-04T13:54:09.013Z"
   },
   {
    "duration": 322,
    "start_time": "2024-06-04T13:54:40.118Z"
   },
   {
    "duration": 3,
    "start_time": "2024-06-04T13:55:57.034Z"
   },
   {
    "duration": 3,
    "start_time": "2024-06-04T13:56:12.631Z"
   },
   {
    "duration": 4,
    "start_time": "2024-06-04T13:56:26.873Z"
   },
   {
    "duration": 23,
    "start_time": "2024-06-04T13:56:31.312Z"
   },
   {
    "duration": 5,
    "start_time": "2024-06-04T13:56:36.619Z"
   },
   {
    "duration": 5,
    "start_time": "2024-06-04T13:56:44.650Z"
   },
   {
    "duration": 14,
    "start_time": "2024-06-04T13:57:08.240Z"
   },
   {
    "duration": 12,
    "start_time": "2024-06-04T13:57:26.779Z"
   },
   {
    "duration": 5,
    "start_time": "2024-06-04T13:57:31.384Z"
   },
   {
    "duration": 5,
    "start_time": "2024-06-04T13:57:52.391Z"
   },
   {
    "duration": 4,
    "start_time": "2024-06-04T13:58:02.769Z"
   },
   {
    "duration": 20,
    "start_time": "2024-06-04T13:58:04.033Z"
   },
   {
    "duration": 4,
    "start_time": "2024-06-04T13:59:15.145Z"
   },
   {
    "duration": 4,
    "start_time": "2024-06-04T13:59:15.847Z"
   },
   {
    "duration": 4,
    "start_time": "2024-06-04T13:59:16.690Z"
   },
   {
    "duration": 5,
    "start_time": "2024-06-04T13:59:16.720Z"
   },
   {
    "duration": 2,
    "start_time": "2024-06-04T13:59:17.172Z"
   },
   {
    "duration": 326,
    "start_time": "2024-06-04T13:59:17.602Z"
   },
   {
    "duration": 3,
    "start_time": "2024-06-04T13:59:18.085Z"
   },
   {
    "duration": 23,
    "start_time": "2024-06-04T13:59:19.138Z"
   },
   {
    "duration": 471,
    "start_time": "2024-06-04T14:01:18.145Z"
   },
   {
    "duration": 30,
    "start_time": "2024-06-04T14:01:18.618Z"
   },
   {
    "duration": 12,
    "start_time": "2024-06-04T14:01:18.649Z"
   },
   {
    "duration": 74,
    "start_time": "2024-06-04T14:01:18.663Z"
   },
   {
    "duration": 22,
    "start_time": "2024-06-04T14:01:18.738Z"
   },
   {
    "duration": 2046,
    "start_time": "2024-06-04T14:01:18.761Z"
   },
   {
    "duration": 8,
    "start_time": "2024-06-04T14:01:20.809Z"
   },
   {
    "duration": 5,
    "start_time": "2024-06-04T14:01:20.819Z"
   },
   {
    "duration": 12,
    "start_time": "2024-06-04T14:01:20.825Z"
   },
   {
    "duration": 3,
    "start_time": "2024-06-04T14:01:20.839Z"
   },
   {
    "duration": 25,
    "start_time": "2024-06-04T14:01:20.843Z"
   },
   {
    "duration": 8,
    "start_time": "2024-06-04T14:01:20.869Z"
   },
   {
    "duration": 4,
    "start_time": "2024-06-04T14:01:20.878Z"
   },
   {
    "duration": 12,
    "start_time": "2024-06-04T14:01:20.883Z"
   },
   {
    "duration": 3,
    "start_time": "2024-06-04T14:01:20.896Z"
   },
   {
    "duration": 6,
    "start_time": "2024-06-04T14:01:20.900Z"
   },
   {
    "duration": 3,
    "start_time": "2024-06-04T14:01:20.907Z"
   },
   {
    "duration": 15,
    "start_time": "2024-06-04T14:01:20.912Z"
   },
   {
    "duration": 9,
    "start_time": "2024-06-04T14:01:20.928Z"
   },
   {
    "duration": 4,
    "start_time": "2024-06-04T14:01:20.938Z"
   },
   {
    "duration": 6,
    "start_time": "2024-06-04T14:01:20.943Z"
   },
   {
    "duration": 8,
    "start_time": "2024-06-04T14:01:20.950Z"
   },
   {
    "duration": 10,
    "start_time": "2024-06-04T14:01:20.959Z"
   },
   {
    "duration": 10,
    "start_time": "2024-06-04T14:01:20.970Z"
   },
   {
    "duration": 6,
    "start_time": "2024-06-04T14:01:20.981Z"
   },
   {
    "duration": 21,
    "start_time": "2024-06-04T14:01:20.988Z"
   },
   {
    "duration": 5,
    "start_time": "2024-06-04T14:01:21.010Z"
   },
   {
    "duration": 43,
    "start_time": "2024-06-04T14:01:21.019Z"
   },
   {
    "duration": 7,
    "start_time": "2024-06-04T14:01:21.064Z"
   },
   {
    "duration": 4,
    "start_time": "2024-06-04T14:01:21.072Z"
   },
   {
    "duration": 6,
    "start_time": "2024-06-04T14:01:21.077Z"
   },
   {
    "duration": 14,
    "start_time": "2024-06-04T14:01:21.084Z"
   },
   {
    "duration": 6,
    "start_time": "2024-06-04T14:01:21.100Z"
   },
   {
    "duration": 12,
    "start_time": "2024-06-04T14:01:21.107Z"
   },
   {
    "duration": 336,
    "start_time": "2024-06-04T14:01:21.120Z"
   },
   {
    "duration": 4,
    "start_time": "2024-06-04T14:01:21.457Z"
   },
   {
    "duration": 58,
    "start_time": "2024-06-04T14:01:21.462Z"
   },
   {
    "duration": 153,
    "start_time": "2024-06-04T14:01:21.521Z"
   },
   {
    "duration": 165,
    "start_time": "2024-06-04T14:01:21.676Z"
   },
   {
    "duration": 219,
    "start_time": "2024-06-04T14:01:21.842Z"
   },
   {
    "duration": 204,
    "start_time": "2024-06-04T14:01:22.062Z"
   },
   {
    "duration": 124,
    "start_time": "2024-06-04T14:01:22.267Z"
   },
   {
    "duration": 136,
    "start_time": "2024-06-04T14:01:22.392Z"
   },
   {
    "duration": 128,
    "start_time": "2024-06-04T14:01:22.530Z"
   },
   {
    "duration": 76,
    "start_time": "2024-06-04T14:01:22.660Z"
   },
   {
    "duration": 0,
    "start_time": "2024-06-04T14:01:22.737Z"
   },
   {
    "duration": 0,
    "start_time": "2024-06-04T14:01:22.738Z"
   },
   {
    "duration": 0,
    "start_time": "2024-06-04T14:01:22.738Z"
   },
   {
    "duration": 0,
    "start_time": "2024-06-04T14:01:22.739Z"
   },
   {
    "duration": 0,
    "start_time": "2024-06-04T14:01:22.740Z"
   },
   {
    "duration": 0,
    "start_time": "2024-06-04T14:01:22.741Z"
   },
   {
    "duration": 0,
    "start_time": "2024-06-04T14:01:22.742Z"
   },
   {
    "duration": 0,
    "start_time": "2024-06-04T14:01:22.743Z"
   },
   {
    "duration": 0,
    "start_time": "2024-06-04T14:01:22.744Z"
   },
   {
    "duration": 0,
    "start_time": "2024-06-04T14:01:22.744Z"
   },
   {
    "duration": 0,
    "start_time": "2024-06-04T14:01:22.745Z"
   },
   {
    "duration": 0,
    "start_time": "2024-06-04T14:01:22.746Z"
   },
   {
    "duration": 0,
    "start_time": "2024-06-04T14:01:22.747Z"
   },
   {
    "duration": 0,
    "start_time": "2024-06-04T14:01:22.747Z"
   },
   {
    "duration": 0,
    "start_time": "2024-06-04T14:01:22.748Z"
   },
   {
    "duration": 0,
    "start_time": "2024-06-04T14:01:22.749Z"
   },
   {
    "duration": 0,
    "start_time": "2024-06-04T14:01:22.750Z"
   },
   {
    "duration": 146,
    "start_time": "2024-06-04T14:05:40.951Z"
   },
   {
    "duration": 234,
    "start_time": "2024-06-04T14:05:49.083Z"
   },
   {
    "duration": 227,
    "start_time": "2024-06-04T14:06:33.252Z"
   },
   {
    "duration": 305,
    "start_time": "2024-06-04T14:09:12.173Z"
   },
   {
    "duration": 224,
    "start_time": "2024-06-04T14:09:20.542Z"
   },
   {
    "duration": 235,
    "start_time": "2024-06-04T14:09:28.036Z"
   },
   {
    "duration": 238,
    "start_time": "2024-06-04T14:09:37.694Z"
   },
   {
    "duration": 219,
    "start_time": "2024-06-04T14:13:51.330Z"
   },
   {
    "duration": 265,
    "start_time": "2024-06-04T14:14:11.856Z"
   },
   {
    "duration": 298,
    "start_time": "2024-06-04T14:15:18.833Z"
   },
   {
    "duration": 239,
    "start_time": "2024-06-04T14:18:24.034Z"
   },
   {
    "duration": 128,
    "start_time": "2024-06-04T14:21:01.941Z"
   },
   {
    "duration": 123,
    "start_time": "2024-06-04T14:21:07.949Z"
   },
   {
    "duration": 119,
    "start_time": "2024-06-04T14:21:13.021Z"
   },
   {
    "duration": 118,
    "start_time": "2024-06-04T14:21:17.065Z"
   },
   {
    "duration": 116,
    "start_time": "2024-06-04T14:22:37.206Z"
   },
   {
    "duration": 118,
    "start_time": "2024-06-04T14:22:41.766Z"
   },
   {
    "duration": 115,
    "start_time": "2024-06-04T14:22:47.293Z"
   },
   {
    "duration": 294,
    "start_time": "2024-06-04T14:23:25.391Z"
   },
   {
    "duration": 141,
    "start_time": "2024-06-04T14:23:32.304Z"
   },
   {
    "duration": 178,
    "start_time": "2024-06-04T14:23:36.877Z"
   },
   {
    "duration": 6,
    "start_time": "2024-06-04T14:24:31.041Z"
   },
   {
    "duration": 170,
    "start_time": "2024-06-04T14:24:32.647Z"
   },
   {
    "duration": 3,
    "start_time": "2024-06-04T14:25:44.064Z"
   },
   {
    "duration": 179,
    "start_time": "2024-06-04T14:25:44.624Z"
   },
   {
    "duration": 178,
    "start_time": "2024-06-04T14:26:10.310Z"
   },
   {
    "duration": 184,
    "start_time": "2024-06-04T14:26:18.774Z"
   },
   {
    "duration": 179,
    "start_time": "2024-06-04T14:26:24.343Z"
   },
   {
    "duration": 133,
    "start_time": "2024-06-04T14:31:25.418Z"
   },
   {
    "duration": 316,
    "start_time": "2024-06-04T14:31:34.484Z"
   },
   {
    "duration": 237,
    "start_time": "2024-06-04T14:33:56.518Z"
   },
   {
    "duration": 232,
    "start_time": "2024-06-04T14:34:04.077Z"
   },
   {
    "duration": 239,
    "start_time": "2024-06-04T14:35:51.020Z"
   },
   {
    "duration": 253,
    "start_time": "2024-06-04T14:36:00.925Z"
   },
   {
    "duration": 310,
    "start_time": "2024-06-04T14:36:12.196Z"
   },
   {
    "duration": 227,
    "start_time": "2024-06-04T14:47:59.428Z"
   },
   {
    "duration": 274,
    "start_time": "2024-06-04T14:48:39.759Z"
   },
   {
    "duration": 258,
    "start_time": "2024-06-04T14:48:50.889Z"
   },
   {
    "duration": 242,
    "start_time": "2024-06-04T14:50:10.629Z"
   },
   {
    "duration": 230,
    "start_time": "2024-06-04T14:58:48.522Z"
   },
   {
    "duration": 310,
    "start_time": "2024-06-04T15:00:09.987Z"
   },
   {
    "duration": 240,
    "start_time": "2024-06-04T15:02:00.342Z"
   },
   {
    "duration": 16,
    "start_time": "2024-06-04T16:32:17.245Z"
   },
   {
    "duration": 16,
    "start_time": "2024-06-04T16:32:33.221Z"
   },
   {
    "duration": 19,
    "start_time": "2024-06-04T16:33:22.391Z"
   },
   {
    "duration": 16,
    "start_time": "2024-06-04T16:34:59.537Z"
   },
   {
    "duration": 21,
    "start_time": "2024-06-04T16:35:22.539Z"
   },
   {
    "duration": 115,
    "start_time": "2024-06-04T16:37:51.796Z"
   },
   {
    "duration": 121,
    "start_time": "2024-06-04T16:39:36.195Z"
   },
   {
    "duration": 34,
    "start_time": "2024-06-04T16:39:38.643Z"
   },
   {
    "duration": 34,
    "start_time": "2024-06-04T16:39:41.457Z"
   },
   {
    "duration": 8,
    "start_time": "2024-06-04T16:40:13.081Z"
   },
   {
    "duration": 34,
    "start_time": "2024-06-04T16:42:18.453Z"
   },
   {
    "duration": 7,
    "start_time": "2024-06-04T16:42:19.397Z"
   },
   {
    "duration": 10,
    "start_time": "2024-06-04T16:42:36.719Z"
   },
   {
    "duration": 19,
    "start_time": "2024-06-04T16:43:09.833Z"
   },
   {
    "duration": 15,
    "start_time": "2024-06-04T16:43:45.798Z"
   },
   {
    "duration": 33,
    "start_time": "2024-06-04T16:43:46.400Z"
   },
   {
    "duration": 15,
    "start_time": "2024-06-04T16:43:47.225Z"
   },
   {
    "duration": 119,
    "start_time": "2024-06-04T16:45:30.232Z"
   },
   {
    "duration": 125,
    "start_time": "2024-06-04T16:45:38.495Z"
   },
   {
    "duration": 139,
    "start_time": "2024-06-04T16:45:46.723Z"
   },
   {
    "duration": 132,
    "start_time": "2024-06-04T16:45:54.741Z"
   },
   {
    "duration": 79,
    "start_time": "2024-06-04T16:46:32.297Z"
   },
   {
    "duration": 133,
    "start_time": "2024-06-04T16:47:20.246Z"
   },
   {
    "duration": 146,
    "start_time": "2024-06-04T16:47:44.618Z"
   },
   {
    "duration": 184,
    "start_time": "2024-06-04T16:48:16.626Z"
   },
   {
    "duration": 129,
    "start_time": "2024-06-04T16:48:17.024Z"
   },
   {
    "duration": 123,
    "start_time": "2024-06-04T16:48:17.467Z"
   },
   {
    "duration": 120,
    "start_time": "2024-06-04T16:49:01.646Z"
   },
   {
    "duration": 127,
    "start_time": "2024-06-04T16:50:07.565Z"
   },
   {
    "duration": 22,
    "start_time": "2024-06-04T16:58:08.031Z"
   },
   {
    "duration": 708,
    "start_time": "2024-06-05T06:48:12.069Z"
   },
   {
    "duration": 38,
    "start_time": "2024-06-05T06:48:12.780Z"
   },
   {
    "duration": 14,
    "start_time": "2024-06-05T06:48:12.819Z"
   },
   {
    "duration": 88,
    "start_time": "2024-06-05T06:48:12.835Z"
   },
   {
    "duration": 23,
    "start_time": "2024-06-05T06:48:12.925Z"
   },
   {
    "duration": 2721,
    "start_time": "2024-06-05T06:48:12.949Z"
   },
   {
    "duration": 15,
    "start_time": "2024-06-05T06:48:15.673Z"
   },
   {
    "duration": 5,
    "start_time": "2024-06-05T06:48:15.689Z"
   },
   {
    "duration": 16,
    "start_time": "2024-06-05T06:48:15.696Z"
   },
   {
    "duration": 78,
    "start_time": "2024-06-05T06:48:15.714Z"
   },
   {
    "duration": 9,
    "start_time": "2024-06-05T06:48:15.794Z"
   },
   {
    "duration": 7,
    "start_time": "2024-06-05T06:48:15.805Z"
   },
   {
    "duration": 18,
    "start_time": "2024-06-05T06:48:15.814Z"
   },
   {
    "duration": 21,
    "start_time": "2024-06-05T06:48:15.834Z"
   },
   {
    "duration": 14,
    "start_time": "2024-06-05T06:48:15.857Z"
   },
   {
    "duration": 4,
    "start_time": "2024-06-05T06:48:15.880Z"
   },
   {
    "duration": 9,
    "start_time": "2024-06-05T06:48:15.886Z"
   },
   {
    "duration": 13,
    "start_time": "2024-06-05T06:48:15.897Z"
   },
   {
    "duration": 5,
    "start_time": "2024-06-05T06:48:15.917Z"
   },
   {
    "duration": 17,
    "start_time": "2024-06-05T06:48:15.925Z"
   },
   {
    "duration": 5,
    "start_time": "2024-06-05T06:48:15.944Z"
   },
   {
    "duration": 14,
    "start_time": "2024-06-05T06:48:15.950Z"
   },
   {
    "duration": 5,
    "start_time": "2024-06-05T06:48:15.966Z"
   },
   {
    "duration": 19,
    "start_time": "2024-06-05T06:48:15.973Z"
   },
   {
    "duration": 4,
    "start_time": "2024-06-05T06:48:15.995Z"
   },
   {
    "duration": 18,
    "start_time": "2024-06-05T06:48:16.001Z"
   },
   {
    "duration": 8,
    "start_time": "2024-06-05T06:48:16.021Z"
   },
   {
    "duration": 35,
    "start_time": "2024-06-05T06:48:16.062Z"
   },
   {
    "duration": 7,
    "start_time": "2024-06-05T06:48:16.099Z"
   },
   {
    "duration": 5,
    "start_time": "2024-06-05T06:48:16.107Z"
   },
   {
    "duration": 11,
    "start_time": "2024-06-05T06:48:16.113Z"
   },
   {
    "duration": 6,
    "start_time": "2024-06-05T06:48:16.125Z"
   },
   {
    "duration": 30,
    "start_time": "2024-06-05T06:48:16.133Z"
   },
   {
    "duration": 5,
    "start_time": "2024-06-05T06:48:16.164Z"
   },
   {
    "duration": 413,
    "start_time": "2024-06-05T06:48:16.171Z"
   },
   {
    "duration": 8,
    "start_time": "2024-06-05T06:48:16.586Z"
   },
   {
    "duration": 43,
    "start_time": "2024-06-05T06:48:16.595Z"
   },
   {
    "duration": 330,
    "start_time": "2024-06-05T06:48:16.639Z"
   },
   {
    "duration": 471,
    "start_time": "2024-06-05T06:48:16.971Z"
   },
   {
    "duration": 340,
    "start_time": "2024-06-05T06:48:17.444Z"
   },
   {
    "duration": 355,
    "start_time": "2024-06-05T06:48:17.787Z"
   },
   {
    "duration": 172,
    "start_time": "2024-06-05T06:48:18.144Z"
   },
   {
    "duration": 6,
    "start_time": "2024-06-05T06:48:18.318Z"
   },
   {
    "duration": 241,
    "start_time": "2024-06-05T06:48:18.326Z"
   },
   {
    "duration": 155,
    "start_time": "2024-06-05T06:48:18.569Z"
   },
   {
    "duration": 333,
    "start_time": "2024-06-05T06:48:18.725Z"
   },
   {
    "duration": 447,
    "start_time": "2024-06-05T06:48:19.060Z"
   },
   {
    "duration": 355,
    "start_time": "2024-06-05T06:48:19.509Z"
   },
   {
    "duration": 337,
    "start_time": "2024-06-05T06:48:19.866Z"
   },
   {
    "duration": 18,
    "start_time": "2024-06-05T06:48:20.205Z"
   },
   {
    "duration": 67,
    "start_time": "2024-06-05T06:48:20.224Z"
   },
   {
    "duration": 19,
    "start_time": "2024-06-05T06:48:20.293Z"
   },
   {
    "duration": 171,
    "start_time": "2024-06-05T06:48:20.314Z"
   },
   {
    "duration": 179,
    "start_time": "2024-06-05T06:48:20.486Z"
   },
   {
    "duration": 197,
    "start_time": "2024-06-05T06:48:20.668Z"
   },
   {
    "duration": 182,
    "start_time": "2024-06-05T06:48:20.867Z"
   },
   {
    "duration": 214,
    "start_time": "2024-06-05T06:48:21.050Z"
   },
   {
    "duration": 318,
    "start_time": "2024-06-05T06:48:21.265Z"
   },
   {
    "duration": 187,
    "start_time": "2024-06-05T06:48:21.586Z"
   },
   {
    "duration": 176,
    "start_time": "2024-06-05T06:48:21.775Z"
   },
   {
    "duration": 45,
    "start_time": "2024-06-05T06:48:21.953Z"
   },
   {
    "duration": 17,
    "start_time": "2024-06-05T06:48:21.999Z"
   },
   {
    "duration": 228,
    "start_time": "2024-06-05T06:48:22.018Z"
   },
   {
    "duration": 29,
    "start_time": "2024-06-05T06:58:08.466Z"
   },
   {
    "duration": 26,
    "start_time": "2024-06-05T07:00:12.046Z"
   },
   {
    "duration": 190,
    "start_time": "2024-06-05T07:05:33.576Z"
   },
   {
    "duration": 64,
    "start_time": "2024-06-05T07:06:06.303Z"
   },
   {
    "duration": 176,
    "start_time": "2024-06-05T07:06:15.445Z"
   },
   {
    "duration": 75,
    "start_time": "2024-06-05T07:06:41.011Z"
   },
   {
    "duration": 240,
    "start_time": "2024-06-05T07:35:55.776Z"
   },
   {
    "duration": 23,
    "start_time": "2024-06-05T07:37:49.212Z"
   },
   {
    "duration": 20,
    "start_time": "2024-06-05T07:38:51.543Z"
   },
   {
    "duration": 196,
    "start_time": "2024-06-05T07:39:50.164Z"
   },
   {
    "duration": 27,
    "start_time": "2024-06-05T07:58:00.904Z"
   },
   {
    "duration": 232,
    "start_time": "2024-06-05T07:58:21.088Z"
   },
   {
    "duration": 104,
    "start_time": "2024-06-05T07:59:23.303Z"
   },
   {
    "duration": 25,
    "start_time": "2024-06-05T07:59:30.488Z"
   },
   {
    "duration": 1117,
    "start_time": "2024-06-05T07:59:42.856Z"
   },
   {
    "duration": 36,
    "start_time": "2024-06-05T07:59:43.975Z"
   },
   {
    "duration": 17,
    "start_time": "2024-06-05T07:59:44.012Z"
   },
   {
    "duration": 105,
    "start_time": "2024-06-05T07:59:44.032Z"
   },
   {
    "duration": 35,
    "start_time": "2024-06-05T07:59:44.139Z"
   },
   {
    "duration": 2226,
    "start_time": "2024-06-05T07:59:44.176Z"
   },
   {
    "duration": 15,
    "start_time": "2024-06-05T07:59:46.405Z"
   },
   {
    "duration": 22,
    "start_time": "2024-06-05T07:59:46.422Z"
   },
   {
    "duration": 11,
    "start_time": "2024-06-05T07:59:46.446Z"
   },
   {
    "duration": 4,
    "start_time": "2024-06-05T07:59:46.460Z"
   },
   {
    "duration": 9,
    "start_time": "2024-06-05T07:59:46.467Z"
   },
   {
    "duration": 33,
    "start_time": "2024-06-05T07:59:46.478Z"
   },
   {
    "duration": 8,
    "start_time": "2024-06-05T07:59:46.512Z"
   },
   {
    "duration": 12,
    "start_time": "2024-06-05T07:59:46.522Z"
   },
   {
    "duration": 4,
    "start_time": "2024-06-05T07:59:46.536Z"
   },
   {
    "duration": 12,
    "start_time": "2024-06-05T07:59:46.542Z"
   },
   {
    "duration": 13,
    "start_time": "2024-06-05T07:59:46.561Z"
   },
   {
    "duration": 28,
    "start_time": "2024-06-05T07:59:46.576Z"
   },
   {
    "duration": 13,
    "start_time": "2024-06-05T07:59:46.606Z"
   },
   {
    "duration": 29,
    "start_time": "2024-06-05T07:59:46.620Z"
   },
   {
    "duration": 5,
    "start_time": "2024-06-05T07:59:46.651Z"
   },
   {
    "duration": 9,
    "start_time": "2024-06-05T07:59:46.658Z"
   },
   {
    "duration": 13,
    "start_time": "2024-06-05T07:59:46.669Z"
   },
   {
    "duration": 15,
    "start_time": "2024-06-05T07:59:46.683Z"
   },
   {
    "duration": 13,
    "start_time": "2024-06-05T07:59:46.700Z"
   },
   {
    "duration": 19,
    "start_time": "2024-06-05T07:59:46.714Z"
   },
   {
    "duration": 7,
    "start_time": "2024-06-05T07:59:46.735Z"
   },
   {
    "duration": 36,
    "start_time": "2024-06-05T07:59:46.762Z"
   },
   {
    "duration": 9,
    "start_time": "2024-06-05T07:59:46.800Z"
   },
   {
    "duration": 13,
    "start_time": "2024-06-05T07:59:46.811Z"
   },
   {
    "duration": 9,
    "start_time": "2024-06-05T07:59:46.826Z"
   },
   {
    "duration": 7,
    "start_time": "2024-06-05T07:59:46.862Z"
   },
   {
    "duration": 17,
    "start_time": "2024-06-05T07:59:46.870Z"
   },
   {
    "duration": 4,
    "start_time": "2024-06-05T07:59:46.889Z"
   },
   {
    "duration": 385,
    "start_time": "2024-06-05T07:59:46.894Z"
   },
   {
    "duration": 5,
    "start_time": "2024-06-05T07:59:47.281Z"
   },
   {
    "duration": 41,
    "start_time": "2024-06-05T07:59:47.288Z"
   },
   {
    "duration": 332,
    "start_time": "2024-06-05T07:59:47.331Z"
   },
   {
    "duration": 445,
    "start_time": "2024-06-05T07:59:47.665Z"
   },
   {
    "duration": 325,
    "start_time": "2024-06-05T07:59:48.112Z"
   },
   {
    "duration": 341,
    "start_time": "2024-06-05T07:59:48.438Z"
   },
   {
    "duration": 172,
    "start_time": "2024-06-05T07:59:48.781Z"
   },
   {
    "duration": 9,
    "start_time": "2024-06-05T07:59:48.955Z"
   },
   {
    "duration": 236,
    "start_time": "2024-06-05T07:59:48.966Z"
   },
   {
    "duration": 160,
    "start_time": "2024-06-05T07:59:49.204Z"
   },
   {
    "duration": 330,
    "start_time": "2024-06-05T07:59:49.367Z"
   },
   {
    "duration": 477,
    "start_time": "2024-06-05T07:59:49.699Z"
   },
   {
    "duration": 312,
    "start_time": "2024-06-05T07:59:50.178Z"
   },
   {
    "duration": 333,
    "start_time": "2024-06-05T07:59:50.492Z"
   },
   {
    "duration": 20,
    "start_time": "2024-06-05T07:59:50.827Z"
   },
   {
    "duration": 50,
    "start_time": "2024-06-05T07:59:50.860Z"
   },
   {
    "duration": 21,
    "start_time": "2024-06-05T07:59:50.912Z"
   },
   {
    "duration": 181,
    "start_time": "2024-06-05T07:59:50.935Z"
   },
   {
    "duration": 175,
    "start_time": "2024-06-05T07:59:51.118Z"
   },
   {
    "duration": 175,
    "start_time": "2024-06-05T07:59:51.294Z"
   },
   {
    "duration": 180,
    "start_time": "2024-06-05T07:59:51.471Z"
   },
   {
    "duration": 182,
    "start_time": "2024-06-05T07:59:51.653Z"
   },
   {
    "duration": 199,
    "start_time": "2024-06-05T07:59:51.837Z"
   },
   {
    "duration": 284,
    "start_time": "2024-06-05T07:59:52.038Z"
   },
   {
    "duration": 171,
    "start_time": "2024-06-05T07:59:52.323Z"
   },
   {
    "duration": 38,
    "start_time": "2024-06-05T07:59:52.496Z"
   },
   {
    "duration": 33,
    "start_time": "2024-06-05T07:59:52.536Z"
   },
   {
    "duration": 204,
    "start_time": "2024-06-05T07:59:52.571Z"
   },
   {
    "duration": 257,
    "start_time": "2024-06-05T07:59:52.776Z"
   },
   {
    "duration": 210,
    "start_time": "2024-06-05T07:59:53.035Z"
   },
   {
    "duration": 219,
    "start_time": "2024-06-05T08:00:56.673Z"
   },
   {
    "duration": 207,
    "start_time": "2024-06-05T08:01:09.522Z"
   },
   {
    "duration": 288,
    "start_time": "2024-06-05T08:02:00.472Z"
   },
   {
    "duration": 5108,
    "start_time": "2024-06-05T08:02:06.888Z"
   },
   {
    "duration": 485,
    "start_time": "2024-06-05T08:02:16.921Z"
   },
   {
    "duration": 259,
    "start_time": "2024-06-05T08:02:27.573Z"
   },
   {
    "duration": 229,
    "start_time": "2024-06-05T08:02:35.155Z"
   },
   {
    "duration": 228,
    "start_time": "2024-06-05T08:02:48.605Z"
   },
   {
    "duration": 216,
    "start_time": "2024-06-05T08:03:00.337Z"
   },
   {
    "duration": 210,
    "start_time": "2024-06-05T08:04:35.390Z"
   },
   {
    "duration": 5,
    "start_time": "2024-06-05T08:06:13.021Z"
   },
   {
    "duration": 32,
    "start_time": "2024-06-05T08:06:13.641Z"
   },
   {
    "duration": 788,
    "start_time": "2024-06-05T08:06:25.539Z"
   },
   {
    "duration": 44,
    "start_time": "2024-06-05T08:06:26.329Z"
   },
   {
    "duration": 17,
    "start_time": "2024-06-05T08:06:26.374Z"
   },
   {
    "duration": 97,
    "start_time": "2024-06-05T08:06:26.393Z"
   },
   {
    "duration": 27,
    "start_time": "2024-06-05T08:06:26.491Z"
   },
   {
    "duration": 2115,
    "start_time": "2024-06-05T08:06:26.519Z"
   },
   {
    "duration": 10,
    "start_time": "2024-06-05T08:06:28.636Z"
   },
   {
    "duration": 14,
    "start_time": "2024-06-05T08:06:28.647Z"
   },
   {
    "duration": 37,
    "start_time": "2024-06-05T08:06:28.662Z"
   },
   {
    "duration": 8,
    "start_time": "2024-06-05T08:06:28.702Z"
   },
   {
    "duration": 23,
    "start_time": "2024-06-05T08:06:28.712Z"
   },
   {
    "duration": 25,
    "start_time": "2024-06-05T08:06:28.737Z"
   },
   {
    "duration": 34,
    "start_time": "2024-06-05T08:06:28.763Z"
   },
   {
    "duration": 32,
    "start_time": "2024-06-05T08:06:28.799Z"
   },
   {
    "duration": 7,
    "start_time": "2024-06-05T08:06:28.833Z"
   },
   {
    "duration": 11,
    "start_time": "2024-06-05T08:06:28.841Z"
   },
   {
    "duration": 13,
    "start_time": "2024-06-05T08:06:28.854Z"
   },
   {
    "duration": 21,
    "start_time": "2024-06-05T08:06:28.869Z"
   },
   {
    "duration": 25,
    "start_time": "2024-06-05T08:06:28.892Z"
   },
   {
    "duration": 29,
    "start_time": "2024-06-05T08:06:28.919Z"
   },
   {
    "duration": 16,
    "start_time": "2024-06-05T08:06:28.950Z"
   },
   {
    "duration": 21,
    "start_time": "2024-06-05T08:06:28.968Z"
   },
   {
    "duration": 27,
    "start_time": "2024-06-05T08:06:28.991Z"
   },
   {
    "duration": 17,
    "start_time": "2024-06-05T08:06:29.020Z"
   },
   {
    "duration": 30,
    "start_time": "2024-06-05T08:06:29.038Z"
   },
   {
    "duration": 34,
    "start_time": "2024-06-05T08:06:29.070Z"
   },
   {
    "duration": 14,
    "start_time": "2024-06-05T08:06:29.106Z"
   },
   {
    "duration": 51,
    "start_time": "2024-06-05T08:06:29.124Z"
   },
   {
    "duration": 7,
    "start_time": "2024-06-05T08:06:29.176Z"
   },
   {
    "duration": 27,
    "start_time": "2024-06-05T08:06:29.184Z"
   },
   {
    "duration": 30,
    "start_time": "2024-06-05T08:06:29.212Z"
   },
   {
    "duration": 17,
    "start_time": "2024-06-05T08:06:29.243Z"
   },
   {
    "duration": 19,
    "start_time": "2024-06-05T08:06:29.262Z"
   },
   {
    "duration": 11,
    "start_time": "2024-06-05T08:06:29.283Z"
   },
   {
    "duration": 333,
    "start_time": "2024-06-05T08:06:29.295Z"
   },
   {
    "duration": 4,
    "start_time": "2024-06-05T08:06:29.630Z"
   },
   {
    "duration": 38,
    "start_time": "2024-06-05T08:06:29.635Z"
   },
   {
    "duration": 341,
    "start_time": "2024-06-05T08:06:29.674Z"
   },
   {
    "duration": 419,
    "start_time": "2024-06-05T08:06:30.017Z"
   },
   {
    "duration": 303,
    "start_time": "2024-06-05T08:06:30.438Z"
   },
   {
    "duration": 313,
    "start_time": "2024-06-05T08:06:30.742Z"
   },
   {
    "duration": 153,
    "start_time": "2024-06-05T08:06:31.060Z"
   },
   {
    "duration": 5,
    "start_time": "2024-06-05T08:06:31.215Z"
   },
   {
    "duration": 252,
    "start_time": "2024-06-05T08:06:31.222Z"
   },
   {
    "duration": 155,
    "start_time": "2024-06-05T08:06:31.476Z"
   },
   {
    "duration": 334,
    "start_time": "2024-06-05T08:06:31.633Z"
   },
   {
    "duration": 424,
    "start_time": "2024-06-05T08:06:31.969Z"
   },
   {
    "duration": 299,
    "start_time": "2024-06-05T08:06:32.395Z"
   },
   {
    "duration": 311,
    "start_time": "2024-06-05T08:06:32.696Z"
   },
   {
    "duration": 20,
    "start_time": "2024-06-05T08:06:33.009Z"
   },
   {
    "duration": 63,
    "start_time": "2024-06-05T08:06:33.030Z"
   },
   {
    "duration": 21,
    "start_time": "2024-06-05T08:06:33.094Z"
   },
   {
    "duration": 163,
    "start_time": "2024-06-05T08:06:33.116Z"
   },
   {
    "duration": 181,
    "start_time": "2024-06-05T08:06:33.280Z"
   },
   {
    "duration": 183,
    "start_time": "2024-06-05T08:06:33.462Z"
   },
   {
    "duration": 160,
    "start_time": "2024-06-05T08:06:33.646Z"
   },
   {
    "duration": 160,
    "start_time": "2024-06-05T08:06:33.808Z"
   },
   {
    "duration": 163,
    "start_time": "2024-06-05T08:06:33.970Z"
   },
   {
    "duration": 259,
    "start_time": "2024-06-05T08:06:34.135Z"
   },
   {
    "duration": 157,
    "start_time": "2024-06-05T08:06:34.396Z"
   },
   {
    "duration": 27,
    "start_time": "2024-06-05T08:06:34.555Z"
   },
   {
    "duration": 14,
    "start_time": "2024-06-05T08:06:34.583Z"
   },
   {
    "duration": 195,
    "start_time": "2024-06-05T08:06:34.599Z"
   },
   {
    "duration": 194,
    "start_time": "2024-06-05T08:06:34.796Z"
   },
   {
    "duration": 181,
    "start_time": "2024-06-05T08:07:14.122Z"
   },
   {
    "duration": 155,
    "start_time": "2024-06-05T08:12:18.522Z"
   },
   {
    "duration": 206,
    "start_time": "2024-06-05T08:12:45.956Z"
   },
   {
    "duration": 174,
    "start_time": "2024-06-05T08:13:02.787Z"
   },
   {
    "duration": 45,
    "start_time": "2024-06-05T09:17:42.270Z"
   },
   {
    "duration": 26,
    "start_time": "2024-06-05T09:18:41.116Z"
   },
   {
    "duration": 31,
    "start_time": "2024-06-05T09:18:48.367Z"
   },
   {
    "duration": 77,
    "start_time": "2024-06-05T09:22:18.083Z"
   },
   {
    "duration": 114,
    "start_time": "2024-06-05T09:24:35.168Z"
   },
   {
    "duration": 31,
    "start_time": "2024-06-05T09:25:06.920Z"
   },
   {
    "duration": 24,
    "start_time": "2024-06-05T09:25:08.652Z"
   },
   {
    "duration": 15,
    "start_time": "2024-06-05T09:26:02.518Z"
   },
   {
    "duration": 82,
    "start_time": "2024-06-05T09:26:44.350Z"
   },
   {
    "duration": 30,
    "start_time": "2024-06-05T09:28:03.951Z"
   },
   {
    "duration": 2500,
    "start_time": "2024-06-05T09:28:26.668Z"
   },
   {
    "duration": 2,
    "start_time": "2024-06-05T09:28:53.354Z"
   },
   {
    "duration": 11,
    "start_time": "2024-06-05T09:29:41.017Z"
   },
   {
    "duration": 540,
    "start_time": "2024-06-05T09:37:20.233Z"
   },
   {
    "duration": 40,
    "start_time": "2024-06-05T09:37:20.778Z"
   },
   {
    "duration": 17,
    "start_time": "2024-06-05T09:37:20.819Z"
   },
   {
    "duration": 94,
    "start_time": "2024-06-05T09:37:20.838Z"
   },
   {
    "duration": 38,
    "start_time": "2024-06-05T09:37:20.934Z"
   },
   {
    "duration": 2580,
    "start_time": "2024-06-05T09:37:20.974Z"
   },
   {
    "duration": 15,
    "start_time": "2024-06-05T09:37:23.556Z"
   },
   {
    "duration": 16,
    "start_time": "2024-06-05T09:37:23.574Z"
   },
   {
    "duration": 28,
    "start_time": "2024-06-05T09:37:23.592Z"
   },
   {
    "duration": 7,
    "start_time": "2024-06-05T09:37:23.623Z"
   },
   {
    "duration": 18,
    "start_time": "2024-06-05T09:37:23.632Z"
   },
   {
    "duration": 17,
    "start_time": "2024-06-05T09:37:23.652Z"
   },
   {
    "duration": 30,
    "start_time": "2024-06-05T09:37:23.670Z"
   },
   {
    "duration": 13,
    "start_time": "2024-06-05T09:37:23.702Z"
   },
   {
    "duration": 10,
    "start_time": "2024-06-05T09:37:23.717Z"
   },
   {
    "duration": 15,
    "start_time": "2024-06-05T09:37:23.729Z"
   },
   {
    "duration": 29,
    "start_time": "2024-06-05T09:37:23.746Z"
   },
   {
    "duration": 29,
    "start_time": "2024-06-05T09:37:23.777Z"
   },
   {
    "duration": 5,
    "start_time": "2024-06-05T09:37:23.808Z"
   },
   {
    "duration": 11,
    "start_time": "2024-06-05T09:37:23.817Z"
   },
   {
    "duration": 8,
    "start_time": "2024-06-05T09:37:23.830Z"
   },
   {
    "duration": 8,
    "start_time": "2024-06-05T09:37:23.840Z"
   },
   {
    "duration": 33,
    "start_time": "2024-06-05T09:37:23.850Z"
   },
   {
    "duration": 10,
    "start_time": "2024-06-05T09:37:23.885Z"
   },
   {
    "duration": 32,
    "start_time": "2024-06-05T09:37:23.896Z"
   },
   {
    "duration": 29,
    "start_time": "2024-06-05T09:37:23.930Z"
   },
   {
    "duration": 17,
    "start_time": "2024-06-05T09:37:23.964Z"
   },
   {
    "duration": 37,
    "start_time": "2024-06-05T09:37:23.985Z"
   },
   {
    "duration": 7,
    "start_time": "2024-06-05T09:37:24.024Z"
   },
   {
    "duration": 28,
    "start_time": "2024-06-05T09:37:24.034Z"
   },
   {
    "duration": 72,
    "start_time": "2024-06-05T09:37:24.064Z"
   },
   {
    "duration": 28,
    "start_time": "2024-06-05T09:37:24.138Z"
   },
   {
    "duration": 8,
    "start_time": "2024-06-05T09:37:24.168Z"
   },
   {
    "duration": 19,
    "start_time": "2024-06-05T09:37:24.178Z"
   },
   {
    "duration": 381,
    "start_time": "2024-06-05T09:37:24.198Z"
   },
   {
    "duration": 5,
    "start_time": "2024-06-05T09:37:24.581Z"
   },
   {
    "duration": 31,
    "start_time": "2024-06-05T09:37:24.588Z"
   },
   {
    "duration": 350,
    "start_time": "2024-06-05T09:37:24.621Z"
   },
   {
    "duration": 411,
    "start_time": "2024-06-05T09:37:24.974Z"
   },
   {
    "duration": 305,
    "start_time": "2024-06-05T09:37:25.386Z"
   },
   {
    "duration": 359,
    "start_time": "2024-06-05T09:37:25.693Z"
   },
   {
    "duration": 185,
    "start_time": "2024-06-05T09:37:26.053Z"
   },
   {
    "duration": 6,
    "start_time": "2024-06-05T09:37:26.240Z"
   },
   {
    "duration": 265,
    "start_time": "2024-06-05T09:37:26.248Z"
   },
   {
    "duration": 175,
    "start_time": "2024-06-05T09:37:26.515Z"
   },
   {
    "duration": 328,
    "start_time": "2024-06-05T09:37:26.692Z"
   },
   {
    "duration": 476,
    "start_time": "2024-06-05T09:37:27.022Z"
   },
   {
    "duration": 372,
    "start_time": "2024-06-05T09:37:27.500Z"
   },
   {
    "duration": 342,
    "start_time": "2024-06-05T09:37:27.875Z"
   },
   {
    "duration": 23,
    "start_time": "2024-06-05T09:37:28.219Z"
   },
   {
    "duration": 64,
    "start_time": "2024-06-05T09:37:28.243Z"
   },
   {
    "duration": 19,
    "start_time": "2024-06-05T09:37:28.309Z"
   },
   {
    "duration": 201,
    "start_time": "2024-06-05T09:37:28.329Z"
   },
   {
    "duration": 191,
    "start_time": "2024-06-05T09:37:28.532Z"
   },
   {
    "duration": 193,
    "start_time": "2024-06-05T09:37:28.725Z"
   },
   {
    "duration": 166,
    "start_time": "2024-06-05T09:37:28.920Z"
   },
   {
    "duration": 157,
    "start_time": "2024-06-05T09:37:29.087Z"
   },
   {
    "duration": 192,
    "start_time": "2024-06-05T09:37:29.246Z"
   },
   {
    "duration": 283,
    "start_time": "2024-06-05T09:37:29.440Z"
   },
   {
    "duration": 188,
    "start_time": "2024-06-05T09:37:29.724Z"
   },
   {
    "duration": 26,
    "start_time": "2024-06-05T09:37:29.914Z"
   },
   {
    "duration": 36,
    "start_time": "2024-06-05T09:37:29.942Z"
   },
   {
    "duration": 233,
    "start_time": "2024-06-05T09:37:29.981Z"
   },
   {
    "duration": 193,
    "start_time": "2024-06-05T09:44:01.352Z"
   },
   {
    "duration": 440,
    "start_time": "2024-06-05T10:52:04.159Z"
   },
   {
    "duration": 34,
    "start_time": "2024-06-05T10:52:04.600Z"
   },
   {
    "duration": 13,
    "start_time": "2024-06-05T10:52:04.635Z"
   },
   {
    "duration": 75,
    "start_time": "2024-06-05T10:52:04.650Z"
   },
   {
    "duration": 22,
    "start_time": "2024-06-05T10:52:04.727Z"
   },
   {
    "duration": 1971,
    "start_time": "2024-06-05T10:52:04.751Z"
   },
   {
    "duration": 8,
    "start_time": "2024-06-05T10:52:06.724Z"
   },
   {
    "duration": 4,
    "start_time": "2024-06-05T10:52:06.733Z"
   },
   {
    "duration": 8,
    "start_time": "2024-06-05T10:52:06.739Z"
   },
   {
    "duration": 3,
    "start_time": "2024-06-05T10:52:06.749Z"
   },
   {
    "duration": 6,
    "start_time": "2024-06-05T10:52:06.753Z"
   },
   {
    "duration": 11,
    "start_time": "2024-06-05T10:52:06.760Z"
   },
   {
    "duration": 9,
    "start_time": "2024-06-05T10:52:06.772Z"
   },
   {
    "duration": 8,
    "start_time": "2024-06-05T10:52:06.784Z"
   },
   {
    "duration": 20,
    "start_time": "2024-06-05T10:52:06.793Z"
   },
   {
    "duration": 17,
    "start_time": "2024-06-05T10:52:06.814Z"
   },
   {
    "duration": 5,
    "start_time": "2024-06-05T10:52:06.833Z"
   },
   {
    "duration": 8,
    "start_time": "2024-06-05T10:52:06.839Z"
   },
   {
    "duration": 3,
    "start_time": "2024-06-05T10:52:06.848Z"
   },
   {
    "duration": 4,
    "start_time": "2024-06-05T10:52:06.853Z"
   },
   {
    "duration": 3,
    "start_time": "2024-06-05T10:52:06.858Z"
   },
   {
    "duration": 3,
    "start_time": "2024-06-05T10:52:06.862Z"
   },
   {
    "duration": 3,
    "start_time": "2024-06-05T10:52:06.867Z"
   },
   {
    "duration": 7,
    "start_time": "2024-06-05T10:52:06.871Z"
   },
   {
    "duration": 4,
    "start_time": "2024-06-05T10:52:06.879Z"
   },
   {
    "duration": 12,
    "start_time": "2024-06-05T10:52:06.912Z"
   },
   {
    "duration": 6,
    "start_time": "2024-06-05T10:52:06.925Z"
   },
   {
    "duration": 35,
    "start_time": "2024-06-05T10:52:06.932Z"
   },
   {
    "duration": 7,
    "start_time": "2024-06-05T10:52:06.968Z"
   },
   {
    "duration": 4,
    "start_time": "2024-06-05T10:52:06.976Z"
   },
   {
    "duration": 5,
    "start_time": "2024-06-05T10:52:06.981Z"
   },
   {
    "duration": 28,
    "start_time": "2024-06-05T10:52:06.987Z"
   },
   {
    "duration": 7,
    "start_time": "2024-06-05T10:52:07.016Z"
   },
   {
    "duration": 3,
    "start_time": "2024-06-05T10:52:07.025Z"
   },
   {
    "duration": 344,
    "start_time": "2024-06-05T10:52:07.029Z"
   },
   {
    "duration": 4,
    "start_time": "2024-06-05T10:52:07.375Z"
   },
   {
    "duration": 32,
    "start_time": "2024-06-05T10:52:07.381Z"
   },
   {
    "duration": 266,
    "start_time": "2024-06-05T10:52:07.414Z"
   },
   {
    "duration": 297,
    "start_time": "2024-06-05T10:52:07.681Z"
   },
   {
    "duration": 243,
    "start_time": "2024-06-05T10:52:07.979Z"
   },
   {
    "duration": 261,
    "start_time": "2024-06-05T10:52:08.226Z"
   },
   {
    "duration": 131,
    "start_time": "2024-06-05T10:52:08.489Z"
   },
   {
    "duration": 4,
    "start_time": "2024-06-05T10:52:08.621Z"
   },
   {
    "duration": 204,
    "start_time": "2024-06-05T10:52:08.627Z"
   },
   {
    "duration": 130,
    "start_time": "2024-06-05T10:52:08.833Z"
   },
   {
    "duration": 256,
    "start_time": "2024-06-05T10:52:08.965Z"
   },
   {
    "duration": 321,
    "start_time": "2024-06-05T10:52:09.222Z"
   },
   {
    "duration": 263,
    "start_time": "2024-06-05T10:52:09.545Z"
   },
   {
    "duration": 257,
    "start_time": "2024-06-05T10:52:09.812Z"
   },
   {
    "duration": 16,
    "start_time": "2024-06-05T10:52:10.071Z"
   },
   {
    "duration": 51,
    "start_time": "2024-06-05T10:52:10.088Z"
   },
   {
    "duration": 15,
    "start_time": "2024-06-05T10:52:10.140Z"
   },
   {
    "duration": 139,
    "start_time": "2024-06-05T10:52:10.156Z"
   },
   {
    "duration": 147,
    "start_time": "2024-06-05T10:52:10.296Z"
   },
   {
    "duration": 148,
    "start_time": "2024-06-05T10:52:10.444Z"
   },
   {
    "duration": 130,
    "start_time": "2024-06-05T10:52:10.593Z"
   },
   {
    "duration": 130,
    "start_time": "2024-06-05T10:52:10.724Z"
   },
   {
    "duration": 144,
    "start_time": "2024-06-05T10:52:10.855Z"
   },
   {
    "duration": 215,
    "start_time": "2024-06-05T10:52:11.001Z"
   },
   {
    "duration": 137,
    "start_time": "2024-06-05T10:52:11.218Z"
   },
   {
    "duration": 22,
    "start_time": "2024-06-05T10:52:11.357Z"
   },
   {
    "duration": 32,
    "start_time": "2024-06-05T10:52:11.381Z"
   },
   {
    "duration": 162,
    "start_time": "2024-06-05T10:52:11.415Z"
   },
   {
    "duration": 612,
    "start_time": "2024-06-05T19:02:52.735Z"
   },
   {
    "duration": 37,
    "start_time": "2024-06-05T19:02:53.349Z"
   },
   {
    "duration": 17,
    "start_time": "2024-06-05T19:02:53.388Z"
   },
   {
    "duration": 94,
    "start_time": "2024-06-05T19:02:53.407Z"
   },
   {
    "duration": 26,
    "start_time": "2024-06-05T19:02:53.504Z"
   },
   {
    "duration": 3980,
    "start_time": "2024-06-05T19:02:53.532Z"
   },
   {
    "duration": 9,
    "start_time": "2024-06-05T19:02:57.514Z"
   },
   {
    "duration": 8,
    "start_time": "2024-06-05T19:02:57.525Z"
   },
   {
    "duration": 14,
    "start_time": "2024-06-05T19:02:57.534Z"
   },
   {
    "duration": 4,
    "start_time": "2024-06-05T19:02:57.550Z"
   },
   {
    "duration": 10,
    "start_time": "2024-06-05T19:02:57.555Z"
   },
   {
    "duration": 4,
    "start_time": "2024-06-05T19:02:57.566Z"
   },
   {
    "duration": 11,
    "start_time": "2024-06-05T19:02:57.571Z"
   },
   {
    "duration": 16,
    "start_time": "2024-06-05T19:02:57.585Z"
   },
   {
    "duration": 3,
    "start_time": "2024-06-05T19:02:57.603Z"
   },
   {
    "duration": 5,
    "start_time": "2024-06-05T19:02:57.607Z"
   },
   {
    "duration": 3,
    "start_time": "2024-06-05T19:02:57.613Z"
   },
   {
    "duration": 8,
    "start_time": "2024-06-05T19:02:57.618Z"
   },
   {
    "duration": 4,
    "start_time": "2024-06-05T19:02:57.627Z"
   },
   {
    "duration": 6,
    "start_time": "2024-06-05T19:02:57.632Z"
   },
   {
    "duration": 5,
    "start_time": "2024-06-05T19:02:57.681Z"
   },
   {
    "duration": 17,
    "start_time": "2024-06-05T19:02:57.687Z"
   },
   {
    "duration": 4,
    "start_time": "2024-06-05T19:02:57.705Z"
   },
   {
    "duration": 9,
    "start_time": "2024-06-05T19:02:57.710Z"
   },
   {
    "duration": 10,
    "start_time": "2024-06-05T19:02:57.720Z"
   },
   {
    "duration": 29,
    "start_time": "2024-06-05T19:02:57.732Z"
   },
   {
    "duration": 21,
    "start_time": "2024-06-05T19:02:57.763Z"
   },
   {
    "duration": 45,
    "start_time": "2024-06-05T19:02:57.786Z"
   },
   {
    "duration": 58,
    "start_time": "2024-06-05T19:02:57.833Z"
   },
   {
    "duration": 5,
    "start_time": "2024-06-05T19:02:57.893Z"
   },
   {
    "duration": 18,
    "start_time": "2024-06-05T19:02:57.900Z"
   },
   {
    "duration": 7,
    "start_time": "2024-06-05T19:02:57.919Z"
   },
   {
    "duration": 54,
    "start_time": "2024-06-05T19:02:57.928Z"
   },
   {
    "duration": 3,
    "start_time": "2024-06-05T19:02:57.984Z"
   },
   {
    "duration": 840,
    "start_time": "2024-06-05T19:02:57.988Z"
   },
   {
    "duration": 4,
    "start_time": "2024-06-05T19:02:58.829Z"
   },
   {
    "duration": 60,
    "start_time": "2024-06-05T19:02:58.835Z"
   },
   {
    "duration": 804,
    "start_time": "2024-06-05T19:02:58.897Z"
   },
   {
    "duration": 907,
    "start_time": "2024-06-05T19:02:59.703Z"
   },
   {
    "duration": 611,
    "start_time": "2024-06-05T19:03:00.611Z"
   },
   {
    "duration": 556,
    "start_time": "2024-06-05T19:03:01.227Z"
   },
   {
    "duration": 400,
    "start_time": "2024-06-05T19:03:01.785Z"
   },
   {
    "duration": 5,
    "start_time": "2024-06-05T19:03:02.186Z"
   },
   {
    "duration": 811,
    "start_time": "2024-06-05T19:03:02.193Z"
   },
   {
    "duration": 518,
    "start_time": "2024-06-05T19:03:03.006Z"
   },
   {
    "duration": 979,
    "start_time": "2024-06-05T19:03:03.525Z"
   },
   {
    "duration": 1005,
    "start_time": "2024-06-05T19:03:04.506Z"
   },
   {
    "duration": 1093,
    "start_time": "2024-06-05T19:03:05.512Z"
   },
   {
    "duration": 879,
    "start_time": "2024-06-05T19:03:06.607Z"
   },
   {
    "duration": 23,
    "start_time": "2024-06-05T19:03:07.488Z"
   },
   {
    "duration": 113,
    "start_time": "2024-06-05T19:03:07.513Z"
   },
   {
    "duration": 67,
    "start_time": "2024-06-05T19:03:07.627Z"
   },
   {
    "duration": 525,
    "start_time": "2024-06-05T19:03:07.695Z"
   },
   {
    "duration": 668,
    "start_time": "2024-06-05T19:03:08.222Z"
   },
   {
    "duration": 497,
    "start_time": "2024-06-05T19:03:08.891Z"
   },
   {
    "duration": 454,
    "start_time": "2024-06-05T19:03:09.389Z"
   },
   {
    "duration": 347,
    "start_time": "2024-06-05T19:03:09.844Z"
   },
   {
    "duration": 306,
    "start_time": "2024-06-05T19:03:10.192Z"
   },
   {
    "duration": 289,
    "start_time": "2024-06-05T19:03:10.499Z"
   },
   {
    "duration": 271,
    "start_time": "2024-06-05T19:03:10.790Z"
   },
   {
    "duration": 34,
    "start_time": "2024-06-05T19:03:11.063Z"
   },
   {
    "duration": 14,
    "start_time": "2024-06-05T19:03:11.099Z"
   },
   {
    "duration": 271,
    "start_time": "2024-06-05T19:03:11.115Z"
   },
   {
    "duration": 8,
    "start_time": "2024-06-05T19:07:24.410Z"
   },
   {
    "duration": 107,
    "start_time": "2024-06-05T19:08:04.924Z"
   },
   {
    "duration": 57,
    "start_time": "2024-06-06T07:23:45.641Z"
   },
   {
    "duration": 8,
    "start_time": "2024-06-06T07:23:53.827Z"
   },
   {
    "duration": 8,
    "start_time": "2024-06-06T07:25:02.679Z"
   },
   {
    "duration": 366,
    "start_time": "2024-06-06T07:25:17.225Z"
   },
   {
    "duration": 253,
    "start_time": "2024-06-06T07:25:17.868Z"
   },
   {
    "duration": 42,
    "start_time": "2024-06-06T07:25:20.195Z"
   },
   {
    "duration": 2727,
    "start_time": "2024-06-06T07:25:56.479Z"
   },
   {
    "duration": 2221,
    "start_time": "2024-06-06T07:26:03.826Z"
   },
   {
    "duration": 2147,
    "start_time": "2024-06-06T07:26:09.245Z"
   },
   {
    "duration": 92,
    "start_time": "2024-06-06T07:27:48.027Z"
   },
   {
    "duration": 55,
    "start_time": "2024-06-06T07:27:53.161Z"
   },
   {
    "duration": 67,
    "start_time": "2024-06-06T08:27:36.470Z"
   },
   {
    "duration": 77,
    "start_time": "2024-06-06T08:27:41.984Z"
   },
   {
    "duration": 121,
    "start_time": "2024-06-06T08:29:52.582Z"
   },
   {
    "duration": 57,
    "start_time": "2024-06-06T08:29:55.341Z"
   },
   {
    "duration": 64,
    "start_time": "2024-06-06T08:29:57.831Z"
   },
   {
    "duration": 40,
    "start_time": "2024-06-06T08:33:32.519Z"
   },
   {
    "duration": 1013,
    "start_time": "2024-06-06T08:33:45.802Z"
   },
   {
    "duration": 8,
    "start_time": "2024-06-06T08:34:09.870Z"
   },
   {
    "duration": 5,
    "start_time": "2024-06-06T08:34:13.219Z"
   },
   {
    "duration": 4,
    "start_time": "2024-06-06T08:37:29.977Z"
   },
   {
    "duration": 5,
    "start_time": "2024-06-06T08:37:30.888Z"
   },
   {
    "duration": 1666,
    "start_time": "2024-06-06T09:14:47.999Z"
   },
   {
    "duration": 918,
    "start_time": "2024-06-06T09:14:53.614Z"
   },
   {
    "duration": 24,
    "start_time": "2024-06-06T09:22:02.766Z"
   },
   {
    "duration": 21,
    "start_time": "2024-06-06T09:22:11.253Z"
   },
   {
    "duration": 21,
    "start_time": "2024-06-06T09:22:29.614Z"
   },
   {
    "duration": 20,
    "start_time": "2024-06-06T09:23:05.334Z"
   },
   {
    "duration": 418,
    "start_time": "2024-06-06T09:23:33.885Z"
   },
   {
    "duration": 108,
    "start_time": "2024-06-06T09:23:34.305Z"
   },
   {
    "duration": 47,
    "start_time": "2024-06-06T09:23:34.414Z"
   },
   {
    "duration": 15,
    "start_time": "2024-06-06T09:23:34.463Z"
   },
   {
    "duration": 125,
    "start_time": "2024-06-06T09:23:34.481Z"
   },
   {
    "duration": 25,
    "start_time": "2024-06-06T09:23:34.608Z"
   },
   {
    "duration": 2339,
    "start_time": "2024-06-06T09:23:34.635Z"
   },
   {
    "duration": 11,
    "start_time": "2024-06-06T09:23:36.976Z"
   },
   {
    "duration": 7,
    "start_time": "2024-06-06T09:23:36.988Z"
   },
   {
    "duration": 10,
    "start_time": "2024-06-06T09:23:36.998Z"
   },
   {
    "duration": 9,
    "start_time": "2024-06-06T09:23:37.011Z"
   },
   {
    "duration": 7,
    "start_time": "2024-06-06T09:23:37.021Z"
   },
   {
    "duration": 32,
    "start_time": "2024-06-06T09:23:37.030Z"
   },
   {
    "duration": 4,
    "start_time": "2024-06-06T09:23:37.066Z"
   },
   {
    "duration": 17,
    "start_time": "2024-06-06T09:23:37.072Z"
   },
   {
    "duration": 6,
    "start_time": "2024-06-06T09:23:37.091Z"
   },
   {
    "duration": 10,
    "start_time": "2024-06-06T09:23:37.099Z"
   },
   {
    "duration": 7,
    "start_time": "2024-06-06T09:23:37.111Z"
   },
   {
    "duration": 42,
    "start_time": "2024-06-06T09:23:37.121Z"
   },
   {
    "duration": 7,
    "start_time": "2024-06-06T09:23:37.164Z"
   },
   {
    "duration": 42,
    "start_time": "2024-06-06T09:23:37.173Z"
   },
   {
    "duration": 7,
    "start_time": "2024-06-06T09:23:37.217Z"
   },
   {
    "duration": 8,
    "start_time": "2024-06-06T09:23:37.225Z"
   },
   {
    "duration": 95,
    "start_time": "2024-06-06T09:23:37.235Z"
   },
   {
    "duration": 0,
    "start_time": "2024-06-06T09:23:37.333Z"
   },
   {
    "duration": 0,
    "start_time": "2024-06-06T09:23:37.334Z"
   },
   {
    "duration": 0,
    "start_time": "2024-06-06T09:23:37.336Z"
   },
   {
    "duration": 0,
    "start_time": "2024-06-06T09:23:37.337Z"
   },
   {
    "duration": 0,
    "start_time": "2024-06-06T09:23:37.339Z"
   },
   {
    "duration": 0,
    "start_time": "2024-06-06T09:23:37.340Z"
   },
   {
    "duration": 0,
    "start_time": "2024-06-06T09:23:37.342Z"
   },
   {
    "duration": 0,
    "start_time": "2024-06-06T09:23:37.344Z"
   },
   {
    "duration": 0,
    "start_time": "2024-06-06T09:23:37.361Z"
   },
   {
    "duration": 0,
    "start_time": "2024-06-06T09:23:37.363Z"
   },
   {
    "duration": 0,
    "start_time": "2024-06-06T09:23:37.364Z"
   },
   {
    "duration": 0,
    "start_time": "2024-06-06T09:23:37.367Z"
   },
   {
    "duration": 0,
    "start_time": "2024-06-06T09:23:37.368Z"
   },
   {
    "duration": 0,
    "start_time": "2024-06-06T09:23:37.370Z"
   },
   {
    "duration": 0,
    "start_time": "2024-06-06T09:23:37.371Z"
   },
   {
    "duration": 0,
    "start_time": "2024-06-06T09:23:37.372Z"
   },
   {
    "duration": 0,
    "start_time": "2024-06-06T09:23:37.373Z"
   },
   {
    "duration": 0,
    "start_time": "2024-06-06T09:23:37.375Z"
   },
   {
    "duration": 0,
    "start_time": "2024-06-06T09:23:37.376Z"
   },
   {
    "duration": 0,
    "start_time": "2024-06-06T09:23:37.377Z"
   },
   {
    "duration": 0,
    "start_time": "2024-06-06T09:23:37.379Z"
   },
   {
    "duration": 0,
    "start_time": "2024-06-06T09:23:37.380Z"
   },
   {
    "duration": 0,
    "start_time": "2024-06-06T09:23:37.381Z"
   },
   {
    "duration": 1,
    "start_time": "2024-06-06T09:23:37.382Z"
   },
   {
    "duration": 0,
    "start_time": "2024-06-06T09:23:37.383Z"
   },
   {
    "duration": 0,
    "start_time": "2024-06-06T09:23:37.385Z"
   },
   {
    "duration": 0,
    "start_time": "2024-06-06T09:23:37.386Z"
   },
   {
    "duration": 0,
    "start_time": "2024-06-06T09:23:37.387Z"
   },
   {
    "duration": 0,
    "start_time": "2024-06-06T09:23:37.389Z"
   },
   {
    "duration": 0,
    "start_time": "2024-06-06T09:23:37.390Z"
   },
   {
    "duration": 0,
    "start_time": "2024-06-06T09:23:37.391Z"
   },
   {
    "duration": 0,
    "start_time": "2024-06-06T09:23:37.393Z"
   },
   {
    "duration": 0,
    "start_time": "2024-06-06T09:23:37.393Z"
   },
   {
    "duration": 0,
    "start_time": "2024-06-06T09:23:37.395Z"
   },
   {
    "duration": 0,
    "start_time": "2024-06-06T09:23:37.396Z"
   },
   {
    "duration": 0,
    "start_time": "2024-06-06T09:23:37.397Z"
   },
   {
    "duration": 0,
    "start_time": "2024-06-06T09:23:37.398Z"
   },
   {
    "duration": 1,
    "start_time": "2024-06-06T09:23:37.461Z"
   },
   {
    "duration": 0,
    "start_time": "2024-06-06T09:23:37.463Z"
   },
   {
    "duration": 0,
    "start_time": "2024-06-06T09:23:37.464Z"
   },
   {
    "duration": 981,
    "start_time": "2024-06-06T09:23:49.203Z"
   },
   {
    "duration": 21,
    "start_time": "2024-06-06T09:23:55.915Z"
   },
   {
    "duration": 11,
    "start_time": "2024-06-06T09:24:00.015Z"
   },
   {
    "duration": 2,
    "start_time": "2024-06-06T09:24:14.931Z"
   },
   {
    "duration": 103,
    "start_time": "2024-06-06T09:24:15.435Z"
   },
   {
    "duration": 39,
    "start_time": "2024-06-06T09:24:17.051Z"
   },
   {
    "duration": 15,
    "start_time": "2024-06-06T09:24:19.251Z"
   },
   {
    "duration": 79,
    "start_time": "2024-06-06T09:24:20.298Z"
   },
   {
    "duration": 24,
    "start_time": "2024-06-06T09:24:21.433Z"
   },
   {
    "duration": 2060,
    "start_time": "2024-06-06T09:24:22.516Z"
   },
   {
    "duration": 11,
    "start_time": "2024-06-06T09:24:29.950Z"
   },
   {
    "duration": 4,
    "start_time": "2024-06-06T09:24:32.615Z"
   },
   {
    "duration": 7,
    "start_time": "2024-06-06T09:24:33.448Z"
   },
   {
    "duration": 5,
    "start_time": "2024-06-06T09:24:33.943Z"
   },
   {
    "duration": 7,
    "start_time": "2024-06-06T09:24:34.112Z"
   },
   {
    "duration": 4,
    "start_time": "2024-06-06T09:24:34.464Z"
   },
   {
    "duration": 6,
    "start_time": "2024-06-06T09:24:36.110Z"
   },
   {
    "duration": 10,
    "start_time": "2024-06-06T09:24:36.426Z"
   },
   {
    "duration": 4,
    "start_time": "2024-06-06T09:24:36.745Z"
   },
   {
    "duration": 3,
    "start_time": "2024-06-06T09:24:37.050Z"
   },
   {
    "duration": 5,
    "start_time": "2024-06-06T09:24:37.249Z"
   },
   {
    "duration": 10,
    "start_time": "2024-06-06T09:24:42.365Z"
   },
   {
    "duration": 4,
    "start_time": "2024-06-06T09:24:43.866Z"
   },
   {
    "duration": 4,
    "start_time": "2024-06-06T09:24:45.449Z"
   },
   {
    "duration": 5,
    "start_time": "2024-06-06T09:24:45.599Z"
   },
   {
    "duration": 5,
    "start_time": "2024-06-06T09:24:45.804Z"
   },
   {
    "duration": 4,
    "start_time": "2024-06-06T09:25:06.677Z"
   },
   {
    "duration": 4,
    "start_time": "2024-06-06T09:25:07.016Z"
   },
   {
    "duration": 8,
    "start_time": "2024-06-06T09:25:07.181Z"
   },
   {
    "duration": 4,
    "start_time": "2024-06-06T09:25:07.363Z"
   },
   {
    "duration": 15,
    "start_time": "2024-06-06T09:25:07.734Z"
   },
   {
    "duration": 7,
    "start_time": "2024-06-06T09:25:19.300Z"
   },
   {
    "duration": 34,
    "start_time": "2024-06-06T09:25:21.699Z"
   },
   {
    "duration": 7,
    "start_time": "2024-06-06T09:25:21.880Z"
   },
   {
    "duration": 5,
    "start_time": "2024-06-06T09:25:22.378Z"
   },
   {
    "duration": 6,
    "start_time": "2024-06-06T09:25:23.983Z"
   },
   {
    "duration": 6,
    "start_time": "2024-06-06T09:25:24.146Z"
   },
   {
    "duration": 6,
    "start_time": "2024-06-06T09:25:24.296Z"
   },
   {
    "duration": 3,
    "start_time": "2024-06-06T09:25:24.463Z"
   },
   {
    "duration": 350,
    "start_time": "2024-06-06T09:25:24.614Z"
   },
   {
    "duration": 6,
    "start_time": "2024-06-06T09:25:24.967Z"
   },
   {
    "duration": 37,
    "start_time": "2024-06-06T09:25:24.975Z"
   },
   {
    "duration": 325,
    "start_time": "2024-06-06T09:25:26.962Z"
   },
   {
    "duration": 304,
    "start_time": "2024-06-06T09:25:27.289Z"
   },
   {
    "duration": 410,
    "start_time": "2024-06-06T09:25:27.595Z"
   },
   {
    "duration": 308,
    "start_time": "2024-06-06T09:25:30.897Z"
   },
   {
    "duration": 154,
    "start_time": "2024-06-06T09:25:31.229Z"
   },
   {
    "duration": 6,
    "start_time": "2024-06-06T09:25:31.546Z"
   },
   {
    "duration": 226,
    "start_time": "2024-06-06T09:25:31.695Z"
   },
   {
    "duration": 145,
    "start_time": "2024-06-06T09:25:34.248Z"
   },
   {
    "duration": 297,
    "start_time": "2024-06-06T09:25:41.628Z"
   },
   {
    "duration": 319,
    "start_time": "2024-06-06T09:25:41.982Z"
   },
   {
    "duration": 389,
    "start_time": "2024-06-06T09:25:44.268Z"
   },
   {
    "duration": 315,
    "start_time": "2024-06-06T09:25:49.294Z"
   },
   {
    "duration": 21,
    "start_time": "2024-06-06T09:25:51.532Z"
   },
   {
    "duration": 62,
    "start_time": "2024-06-06T09:25:51.711Z"
   },
   {
    "duration": 18,
    "start_time": "2024-06-06T09:25:52.045Z"
   },
   {
    "duration": 154,
    "start_time": "2024-06-06T09:25:52.264Z"
   },
   {
    "duration": 158,
    "start_time": "2024-06-06T09:25:54.182Z"
   },
   {
    "duration": 170,
    "start_time": "2024-06-06T09:25:54.344Z"
   },
   {
    "duration": 155,
    "start_time": "2024-06-06T09:25:54.516Z"
   },
   {
    "duration": 158,
    "start_time": "2024-06-06T09:25:54.673Z"
   },
   {
    "duration": 179,
    "start_time": "2024-06-06T09:25:54.833Z"
   },
   {
    "duration": 161,
    "start_time": "2024-06-06T09:25:55.014Z"
   },
   {
    "duration": 239,
    "start_time": "2024-06-06T09:25:55.177Z"
   },
   {
    "duration": 27,
    "start_time": "2024-06-06T09:26:14.749Z"
   },
   {
    "duration": 15,
    "start_time": "2024-06-06T09:26:20.666Z"
   },
   {
    "duration": 177,
    "start_time": "2024-06-06T09:26:22.901Z"
   },
   {
    "duration": 2,
    "start_time": "2024-06-06T09:27:16.282Z"
   },
   {
    "duration": 4,
    "start_time": "2024-06-06T09:27:17.028Z"
   },
   {
    "duration": 10,
    "start_time": "2024-06-06T09:27:17.929Z"
   },
   {
    "duration": 4,
    "start_time": "2024-06-06T09:27:19.202Z"
   },
   {
    "duration": 4,
    "start_time": "2024-06-06T09:27:19.383Z"
   },
   {
    "duration": 5,
    "start_time": "2024-06-06T09:27:19.582Z"
   },
   {
    "duration": 9,
    "start_time": "2024-06-06T09:27:20.964Z"
   },
   {
    "duration": 4,
    "start_time": "2024-06-06T09:27:21.595Z"
   },
   {
    "duration": 4,
    "start_time": "2024-06-06T09:27:25.899Z"
   },
   {
    "duration": 4,
    "start_time": "2024-06-06T09:27:26.435Z"
   },
   {
    "duration": 4,
    "start_time": "2024-06-06T09:27:26.665Z"
   },
   {
    "duration": 12,
    "start_time": "2024-06-06T09:27:26.848Z"
   },
   {
    "duration": 4,
    "start_time": "2024-06-06T09:27:27.015Z"
   },
   {
    "duration": 15,
    "start_time": "2024-06-06T09:27:27.353Z"
   },
   {
    "duration": 6,
    "start_time": "2024-06-06T09:27:29.015Z"
   },
   {
    "duration": 34,
    "start_time": "2024-06-06T09:27:29.779Z"
   },
   {
    "duration": 8,
    "start_time": "2024-06-06T09:27:29.962Z"
   },
   {
    "duration": 5,
    "start_time": "2024-06-06T09:27:30.546Z"
   },
   {
    "duration": 7,
    "start_time": "2024-06-06T09:27:30.783Z"
   },
   {
    "duration": 7,
    "start_time": "2024-06-06T09:27:31.183Z"
   },
   {
    "duration": 6,
    "start_time": "2024-06-06T09:27:31.366Z"
   },
   {
    "duration": 5,
    "start_time": "2024-06-06T09:27:31.531Z"
   },
   {
    "duration": 337,
    "start_time": "2024-06-06T09:27:31.734Z"
   },
   {
    "duration": 5,
    "start_time": "2024-06-06T09:27:32.073Z"
   },
   {
    "duration": 31,
    "start_time": "2024-06-06T09:27:32.278Z"
   },
   {
    "duration": 319,
    "start_time": "2024-06-06T09:27:33.850Z"
   },
   {
    "duration": 295,
    "start_time": "2024-06-06T09:27:35.002Z"
   },
   {
    "duration": 407,
    "start_time": "2024-06-06T09:27:35.634Z"
   },
   {
    "duration": 309,
    "start_time": "2024-06-06T09:27:58.766Z"
   },
   {
    "duration": 157,
    "start_time": "2024-06-06T09:27:59.934Z"
   },
   {
    "duration": 6,
    "start_time": "2024-06-06T09:28:01.301Z"
   },
   {
    "duration": 218,
    "start_time": "2024-06-06T09:28:01.882Z"
   },
   {
    "duration": 140,
    "start_time": "2024-06-06T09:28:02.999Z"
   },
   {
    "duration": 301,
    "start_time": "2024-06-06T09:28:12.562Z"
   },
   {
    "duration": 313,
    "start_time": "2024-06-06T09:28:12.980Z"
   },
   {
    "duration": 407,
    "start_time": "2024-06-06T09:28:13.397Z"
   },
   {
    "duration": 337,
    "start_time": "2024-06-06T09:28:16.649Z"
   },
   {
    "duration": 25,
    "start_time": "2024-06-06T09:28:19.429Z"
   },
   {
    "duration": 66,
    "start_time": "2024-06-06T09:28:19.598Z"
   },
   {
    "duration": 17,
    "start_time": "2024-06-06T09:28:21.879Z"
   },
   {
    "duration": 147,
    "start_time": "2024-06-06T09:28:22.045Z"
   },
   {
    "duration": 158,
    "start_time": "2024-06-06T09:28:23.635Z"
   },
   {
    "duration": 162,
    "start_time": "2024-06-06T09:28:23.797Z"
   },
   {
    "duration": 134,
    "start_time": "2024-06-06T09:28:23.982Z"
   },
   {
    "duration": 146,
    "start_time": "2024-06-06T09:28:24.197Z"
   },
   {
    "duration": 154,
    "start_time": "2024-06-06T09:28:24.700Z"
   },
   {
    "duration": 144,
    "start_time": "2024-06-06T09:28:25.184Z"
   },
   {
    "duration": 156,
    "start_time": "2024-06-06T09:28:25.600Z"
   },
   {
    "duration": 24,
    "start_time": "2024-06-06T09:28:28.099Z"
   },
   {
    "duration": 14,
    "start_time": "2024-06-06T09:28:29.231Z"
   },
   {
    "duration": 288,
    "start_time": "2024-06-06T09:28:29.432Z"
   },
   {
    "duration": 210,
    "start_time": "2024-06-06T09:28:50.384Z"
   },
   {
    "duration": 206,
    "start_time": "2024-06-06T09:28:59.734Z"
   },
   {
    "duration": 179,
    "start_time": "2024-06-06T09:29:42.317Z"
   },
   {
    "duration": 139,
    "start_time": "2024-06-06T09:44:01.970Z"
   },
   {
    "duration": 151,
    "start_time": "2024-06-06T09:44:19.369Z"
   },
   {
    "duration": 57,
    "start_time": "2024-06-06T09:44:48.606Z"
   },
   {
    "duration": 170,
    "start_time": "2024-06-06T09:44:55.221Z"
   },
   {
    "duration": 1187,
    "start_time": "2024-06-06T09:45:12.536Z"
   },
   {
    "duration": 162,
    "start_time": "2024-06-06T09:45:26.471Z"
   },
   {
    "duration": 186,
    "start_time": "2024-06-06T09:45:39.734Z"
   },
   {
    "duration": 177,
    "start_time": "2024-06-06T09:45:44.584Z"
   },
   {
    "duration": 20,
    "start_time": "2024-06-06T09:47:38.922Z"
   },
   {
    "duration": 126,
    "start_time": "2024-06-06T09:50:57.553Z"
   },
   {
    "duration": 64,
    "start_time": "2024-06-06T09:56:48.760Z"
   },
   {
    "duration": 404,
    "start_time": "2024-06-06T09:58:51.075Z"
   },
   {
    "duration": 108,
    "start_time": "2024-06-06T09:58:51.481Z"
   },
   {
    "duration": 42,
    "start_time": "2024-06-06T09:58:51.591Z"
   },
   {
    "duration": 32,
    "start_time": "2024-06-06T09:58:51.635Z"
   },
   {
    "duration": 79,
    "start_time": "2024-06-06T09:58:51.669Z"
   },
   {
    "duration": 33,
    "start_time": "2024-06-06T09:58:51.749Z"
   },
   {
    "duration": 2422,
    "start_time": "2024-06-06T09:58:51.784Z"
   },
   {
    "duration": 15,
    "start_time": "2024-06-06T09:58:54.209Z"
   },
   {
    "duration": 18,
    "start_time": "2024-06-06T09:58:54.226Z"
   },
   {
    "duration": 22,
    "start_time": "2024-06-06T09:58:54.245Z"
   },
   {
    "duration": 71,
    "start_time": "2024-06-06T09:58:54.269Z"
   },
   {
    "duration": 62,
    "start_time": "2024-06-06T09:58:54.341Z"
   },
   {
    "duration": 3,
    "start_time": "2024-06-06T09:58:54.405Z"
   },
   {
    "duration": 8,
    "start_time": "2024-06-06T09:58:54.412Z"
   },
   {
    "duration": 10,
    "start_time": "2024-06-06T09:58:54.421Z"
   },
   {
    "duration": 4,
    "start_time": "2024-06-06T09:58:54.433Z"
   },
   {
    "duration": 16,
    "start_time": "2024-06-06T09:58:54.438Z"
   },
   {
    "duration": 11,
    "start_time": "2024-06-06T09:58:54.456Z"
   },
   {
    "duration": 21,
    "start_time": "2024-06-06T09:58:54.468Z"
   },
   {
    "duration": 17,
    "start_time": "2024-06-06T09:58:54.490Z"
   },
   {
    "duration": 13,
    "start_time": "2024-06-06T09:58:54.508Z"
   },
   {
    "duration": 5,
    "start_time": "2024-06-06T09:58:54.522Z"
   },
   {
    "duration": 5,
    "start_time": "2024-06-06T09:58:54.529Z"
   },
   {
    "duration": 20,
    "start_time": "2024-06-06T09:58:54.541Z"
   },
   {
    "duration": 5,
    "start_time": "2024-06-06T09:58:54.566Z"
   },
   {
    "duration": 96,
    "start_time": "2024-06-06T09:58:54.573Z"
   },
   {
    "duration": 13,
    "start_time": "2024-06-06T09:58:54.671Z"
   },
   {
    "duration": 34,
    "start_time": "2024-06-06T09:58:54.686Z"
   },
   {
    "duration": 7,
    "start_time": "2024-06-06T09:58:54.722Z"
   },
   {
    "duration": 28,
    "start_time": "2024-06-06T09:58:54.731Z"
   },
   {
    "duration": 11,
    "start_time": "2024-06-06T09:58:54.760Z"
   },
   {
    "duration": 11,
    "start_time": "2024-06-06T09:58:54.773Z"
   },
   {
    "duration": 8,
    "start_time": "2024-06-06T09:58:54.785Z"
   },
   {
    "duration": 3,
    "start_time": "2024-06-06T09:58:54.795Z"
   },
   {
    "duration": 400,
    "start_time": "2024-06-06T09:58:54.801Z"
   },
   {
    "duration": 5,
    "start_time": "2024-06-06T09:58:55.203Z"
   },
   {
    "duration": 38,
    "start_time": "2024-06-06T09:58:55.210Z"
   },
   {
    "duration": 343,
    "start_time": "2024-06-06T09:58:55.260Z"
   },
   {
    "duration": 410,
    "start_time": "2024-06-06T09:58:55.605Z"
   },
   {
    "duration": 333,
    "start_time": "2024-06-06T09:58:56.017Z"
   },
   {
    "duration": 318,
    "start_time": "2024-06-06T09:58:56.354Z"
   },
   {
    "duration": 160,
    "start_time": "2024-06-06T09:58:56.674Z"
   },
   {
    "duration": 6,
    "start_time": "2024-06-06T09:58:56.835Z"
   },
   {
    "duration": 245,
    "start_time": "2024-06-06T09:58:56.843Z"
   },
   {
    "duration": 163,
    "start_time": "2024-06-06T09:58:57.090Z"
   },
   {
    "duration": 128,
    "start_time": "2024-06-06T09:58:57.260Z"
   },
   {
    "duration": 308,
    "start_time": "2024-06-06T09:58:57.390Z"
   },
   {
    "duration": 455,
    "start_time": "2024-06-06T09:58:57.700Z"
   },
   {
    "duration": 306,
    "start_time": "2024-06-06T09:58:58.157Z"
   },
   {
    "duration": 328,
    "start_time": "2024-06-06T09:58:58.465Z"
   },
   {
    "duration": 21,
    "start_time": "2024-06-06T09:58:58.795Z"
   },
   {
    "duration": 86,
    "start_time": "2024-06-06T09:58:58.819Z"
   },
   {
    "duration": 22,
    "start_time": "2024-06-06T09:58:58.906Z"
   },
   {
    "duration": 167,
    "start_time": "2024-06-06T09:58:58.930Z"
   },
   {
    "duration": 172,
    "start_time": "2024-06-06T09:58:59.099Z"
   },
   {
    "duration": 171,
    "start_time": "2024-06-06T09:58:59.273Z"
   },
   {
    "duration": 165,
    "start_time": "2024-06-06T09:58:59.446Z"
   },
   {
    "duration": 176,
    "start_time": "2024-06-06T09:58:59.613Z"
   },
   {
    "duration": 253,
    "start_time": "2024-06-06T09:58:59.790Z"
   },
   {
    "duration": 150,
    "start_time": "2024-06-06T09:59:00.045Z"
   },
   {
    "duration": 153,
    "start_time": "2024-06-06T09:59:00.197Z"
   },
   {
    "duration": 29,
    "start_time": "2024-06-06T09:59:00.352Z"
   },
   {
    "duration": 75,
    "start_time": "2024-06-06T09:59:00.383Z"
   },
   {
    "duration": 181,
    "start_time": "2024-06-06T09:59:00.459Z"
   },
   {
    "duration": 75,
    "start_time": "2024-06-06T10:00:24.423Z"
   },
   {
    "duration": 390,
    "start_time": "2024-06-06T12:14:19.164Z"
   },
   {
    "duration": 278,
    "start_time": "2024-06-06T12:14:19.555Z"
   },
   {
    "duration": 43,
    "start_time": "2024-06-06T12:14:19.834Z"
   },
   {
    "duration": 11,
    "start_time": "2024-06-06T12:14:19.879Z"
   },
   {
    "duration": 59,
    "start_time": "2024-06-06T12:14:19.892Z"
   },
   {
    "duration": 19,
    "start_time": "2024-06-06T12:14:19.953Z"
   },
   {
    "duration": 1952,
    "start_time": "2024-06-06T12:14:19.974Z"
   },
   {
    "duration": 9,
    "start_time": "2024-06-06T12:14:21.927Z"
   },
   {
    "duration": 11,
    "start_time": "2024-06-06T12:14:21.937Z"
   },
   {
    "duration": 9,
    "start_time": "2024-06-06T12:14:21.950Z"
   },
   {
    "duration": 10,
    "start_time": "2024-06-06T12:14:21.960Z"
   },
   {
    "duration": 5,
    "start_time": "2024-06-06T12:14:21.971Z"
   },
   {
    "duration": 3,
    "start_time": "2024-06-06T12:14:21.977Z"
   },
   {
    "duration": 5,
    "start_time": "2024-06-06T12:14:21.981Z"
   },
   {
    "duration": 13,
    "start_time": "2024-06-06T12:14:21.987Z"
   },
   {
    "duration": 4,
    "start_time": "2024-06-06T12:14:22.001Z"
   },
   {
    "duration": 12,
    "start_time": "2024-06-06T12:14:22.006Z"
   },
   {
    "duration": 16,
    "start_time": "2024-06-06T12:14:22.019Z"
   },
   {
    "duration": 8,
    "start_time": "2024-06-06T12:14:22.036Z"
   },
   {
    "duration": 3,
    "start_time": "2024-06-06T12:14:22.045Z"
   },
   {
    "duration": 6,
    "start_time": "2024-06-06T12:14:22.049Z"
   },
   {
    "duration": 3,
    "start_time": "2024-06-06T12:14:22.057Z"
   },
   {
    "duration": 4,
    "start_time": "2024-06-06T12:14:22.061Z"
   },
   {
    "duration": 7,
    "start_time": "2024-06-06T12:14:22.066Z"
   },
   {
    "duration": 14,
    "start_time": "2024-06-06T12:14:22.074Z"
   },
   {
    "duration": 43,
    "start_time": "2024-06-06T12:14:22.089Z"
   },
   {
    "duration": 6,
    "start_time": "2024-06-06T12:14:22.134Z"
   },
   {
    "duration": 39,
    "start_time": "2024-06-06T12:14:22.144Z"
   },
   {
    "duration": 8,
    "start_time": "2024-06-06T12:14:22.184Z"
   },
   {
    "duration": 26,
    "start_time": "2024-06-06T12:14:22.194Z"
   },
   {
    "duration": 8,
    "start_time": "2024-06-06T12:14:22.223Z"
   },
   {
    "duration": 15,
    "start_time": "2024-06-06T12:14:22.232Z"
   },
   {
    "duration": 8,
    "start_time": "2024-06-06T12:14:22.248Z"
   },
   {
    "duration": 5,
    "start_time": "2024-06-06T12:14:22.257Z"
   },
   {
    "duration": 337,
    "start_time": "2024-06-06T12:14:22.263Z"
   },
   {
    "duration": 4,
    "start_time": "2024-06-06T12:14:22.601Z"
   },
   {
    "duration": 54,
    "start_time": "2024-06-06T12:14:22.606Z"
   },
   {
    "duration": 215,
    "start_time": "2024-06-06T12:14:22.661Z"
   },
   {
    "duration": 279,
    "start_time": "2024-06-06T12:14:22.877Z"
   },
   {
    "duration": 235,
    "start_time": "2024-06-06T12:14:23.158Z"
   },
   {
    "duration": 238,
    "start_time": "2024-06-06T12:14:23.394Z"
   },
   {
    "duration": 118,
    "start_time": "2024-06-06T12:14:23.633Z"
   },
   {
    "duration": 4,
    "start_time": "2024-06-06T12:14:23.752Z"
   },
   {
    "duration": 174,
    "start_time": "2024-06-06T12:14:23.757Z"
   },
   {
    "duration": 121,
    "start_time": "2024-06-06T12:14:23.933Z"
   },
   {
    "duration": 106,
    "start_time": "2024-06-06T12:14:24.056Z"
   },
   {
    "duration": 276,
    "start_time": "2024-06-06T12:14:24.164Z"
   },
   {
    "duration": 236,
    "start_time": "2024-06-06T12:14:24.442Z"
   },
   {
    "duration": 235,
    "start_time": "2024-06-06T12:14:24.680Z"
   },
   {
    "duration": 237,
    "start_time": "2024-06-06T12:14:24.917Z"
   },
   {
    "duration": 15,
    "start_time": "2024-06-06T12:14:25.155Z"
   },
   {
    "duration": 66,
    "start_time": "2024-06-06T12:14:25.171Z"
   },
   {
    "duration": 15,
    "start_time": "2024-06-06T12:14:25.238Z"
   },
   {
    "duration": 125,
    "start_time": "2024-06-06T12:14:25.255Z"
   },
   {
    "duration": 134,
    "start_time": "2024-06-06T12:14:25.389Z"
   },
   {
    "duration": 131,
    "start_time": "2024-06-06T12:14:25.525Z"
   },
   {
    "duration": 112,
    "start_time": "2024-06-06T12:14:25.658Z"
   },
   {
    "duration": 163,
    "start_time": "2024-06-06T12:14:25.772Z"
   },
   {
    "duration": 135,
    "start_time": "2024-06-06T12:14:25.937Z"
   },
   {
    "duration": 120,
    "start_time": "2024-06-06T12:14:26.073Z"
   },
   {
    "duration": 136,
    "start_time": "2024-06-06T12:14:26.195Z"
   },
   {
    "duration": 20,
    "start_time": "2024-06-06T12:14:26.333Z"
   },
   {
    "duration": 11,
    "start_time": "2024-06-06T12:14:26.354Z"
   },
   {
    "duration": 165,
    "start_time": "2024-06-06T12:14:26.367Z"
   },
   {
    "duration": 347,
    "start_time": "2024-06-06T12:14:52.017Z"
   },
   {
    "duration": 98,
    "start_time": "2024-06-06T12:14:52.365Z"
   },
   {
    "duration": 43,
    "start_time": "2024-06-06T12:14:52.464Z"
   },
   {
    "duration": 13,
    "start_time": "2024-06-06T12:14:52.509Z"
   },
   {
    "duration": 72,
    "start_time": "2024-06-06T12:14:52.523Z"
   },
   {
    "duration": 23,
    "start_time": "2024-06-06T12:14:52.597Z"
   },
   {
    "duration": 1772,
    "start_time": "2024-06-06T12:14:52.622Z"
   },
   {
    "duration": 8,
    "start_time": "2024-06-06T12:14:54.395Z"
   },
   {
    "duration": 20,
    "start_time": "2024-06-06T12:14:54.405Z"
   },
   {
    "duration": 38,
    "start_time": "2024-06-06T12:14:54.428Z"
   },
   {
    "duration": 3,
    "start_time": "2024-06-06T12:14:54.467Z"
   },
   {
    "duration": 7,
    "start_time": "2024-06-06T12:14:54.471Z"
   },
   {
    "duration": 14,
    "start_time": "2024-06-06T12:14:54.479Z"
   },
   {
    "duration": 19,
    "start_time": "2024-06-06T12:14:54.494Z"
   },
   {
    "duration": 10,
    "start_time": "2024-06-06T12:14:54.514Z"
   },
   {
    "duration": 17,
    "start_time": "2024-06-06T12:14:54.526Z"
   },
   {
    "duration": 34,
    "start_time": "2024-06-06T12:14:54.544Z"
   },
   {
    "duration": 25,
    "start_time": "2024-06-06T12:14:54.579Z"
   },
   {
    "duration": 11,
    "start_time": "2024-06-06T12:14:54.605Z"
   },
   {
    "duration": 8,
    "start_time": "2024-06-06T12:14:54.617Z"
   },
   {
    "duration": 17,
    "start_time": "2024-06-06T12:14:54.626Z"
   },
   {
    "duration": 7,
    "start_time": "2024-06-06T12:14:54.644Z"
   },
   {
    "duration": 15,
    "start_time": "2024-06-06T12:14:54.652Z"
   },
   {
    "duration": 52,
    "start_time": "2024-06-06T12:14:54.668Z"
   },
   {
    "duration": 4,
    "start_time": "2024-06-06T12:14:54.722Z"
   },
   {
    "duration": 12,
    "start_time": "2024-06-06T12:14:54.727Z"
   },
   {
    "duration": 6,
    "start_time": "2024-06-06T12:14:54.740Z"
   },
   {
    "duration": 28,
    "start_time": "2024-06-06T12:14:54.749Z"
   },
   {
    "duration": 6,
    "start_time": "2024-06-06T12:14:54.778Z"
   },
   {
    "duration": 6,
    "start_time": "2024-06-06T12:14:54.785Z"
   },
   {
    "duration": 5,
    "start_time": "2024-06-06T12:14:54.792Z"
   },
   {
    "duration": 5,
    "start_time": "2024-06-06T12:14:54.798Z"
   },
   {
    "duration": 38,
    "start_time": "2024-06-06T12:14:54.804Z"
   },
   {
    "duration": 6,
    "start_time": "2024-06-06T12:14:54.843Z"
   },
   {
    "duration": 294,
    "start_time": "2024-06-06T12:14:54.850Z"
   },
   {
    "duration": 4,
    "start_time": "2024-06-06T12:14:55.145Z"
   },
   {
    "duration": 101,
    "start_time": "2024-06-06T12:14:55.150Z"
   },
   {
    "duration": 290,
    "start_time": "2024-06-06T12:14:55.252Z"
   },
   {
    "duration": 284,
    "start_time": "2024-06-06T12:14:55.543Z"
   },
   {
    "duration": 235,
    "start_time": "2024-06-06T12:14:55.828Z"
   },
   {
    "duration": 230,
    "start_time": "2024-06-06T12:14:56.065Z"
   },
   {
    "duration": 117,
    "start_time": "2024-06-06T12:14:56.296Z"
   },
   {
    "duration": 5,
    "start_time": "2024-06-06T12:14:56.414Z"
   },
   {
    "duration": 188,
    "start_time": "2024-06-06T12:14:56.421Z"
   },
   {
    "duration": 120,
    "start_time": "2024-06-06T12:14:56.611Z"
   },
   {
    "duration": 111,
    "start_time": "2024-06-06T12:14:56.733Z"
   },
   {
    "duration": 251,
    "start_time": "2024-06-06T12:14:56.846Z"
   },
   {
    "duration": 272,
    "start_time": "2024-06-06T12:14:57.098Z"
   },
   {
    "duration": 236,
    "start_time": "2024-06-06T12:14:57.372Z"
   },
   {
    "duration": 241,
    "start_time": "2024-06-06T12:14:57.610Z"
   },
   {
    "duration": 15,
    "start_time": "2024-06-06T12:14:57.853Z"
   },
   {
    "duration": 64,
    "start_time": "2024-06-06T12:14:57.869Z"
   },
   {
    "duration": 16,
    "start_time": "2024-06-06T12:14:57.934Z"
   },
   {
    "duration": 132,
    "start_time": "2024-06-06T12:14:57.952Z"
   },
   {
    "duration": 138,
    "start_time": "2024-06-06T12:14:58.089Z"
   },
   {
    "duration": 134,
    "start_time": "2024-06-06T12:14:58.229Z"
   },
   {
    "duration": 143,
    "start_time": "2024-06-06T12:14:58.364Z"
   },
   {
    "duration": 141,
    "start_time": "2024-06-06T12:14:58.509Z"
   },
   {
    "duration": 183,
    "start_time": "2024-06-06T12:14:58.651Z"
   },
   {
    "duration": 127,
    "start_time": "2024-06-06T12:14:58.836Z"
   },
   {
    "duration": 115,
    "start_time": "2024-06-06T12:14:58.965Z"
   },
   {
    "duration": 25,
    "start_time": "2024-06-06T12:14:59.081Z"
   },
   {
    "duration": 11,
    "start_time": "2024-06-06T12:14:59.107Z"
   },
   {
    "duration": 145,
    "start_time": "2024-06-06T12:14:59.119Z"
   },
   {
    "duration": 430,
    "start_time": "2024-07-24T13:50:59.406Z"
   },
   {
    "duration": 327,
    "start_time": "2024-07-24T13:50:59.838Z"
   },
   {
    "duration": 43,
    "start_time": "2024-07-24T13:51:01.345Z"
   },
   {
    "duration": 403,
    "start_time": "2024-10-28T14:08:37.397Z"
   },
   {
    "duration": 331,
    "start_time": "2024-10-28T14:08:37.802Z"
   },
   {
    "duration": 58,
    "start_time": "2024-10-28T14:08:38.135Z"
   },
   {
    "duration": 17,
    "start_time": "2024-10-28T14:08:38.194Z"
   },
   {
    "duration": 98,
    "start_time": "2024-10-28T14:08:38.213Z"
   },
   {
    "duration": 25,
    "start_time": "2024-10-28T14:08:38.313Z"
   },
   {
    "duration": 2565,
    "start_time": "2024-10-28T14:08:38.340Z"
   },
   {
    "duration": 10,
    "start_time": "2024-10-28T14:08:40.907Z"
   },
   {
    "duration": 8,
    "start_time": "2024-10-28T14:08:40.919Z"
   },
   {
    "duration": 23,
    "start_time": "2024-10-28T14:08:40.929Z"
   },
   {
    "duration": 4,
    "start_time": "2024-10-28T14:08:40.954Z"
   },
   {
    "duration": 13,
    "start_time": "2024-10-28T14:08:40.960Z"
   },
   {
    "duration": 4,
    "start_time": "2024-10-28T14:08:40.974Z"
   },
   {
    "duration": 52,
    "start_time": "2024-10-28T14:08:40.980Z"
   },
   {
    "duration": 40,
    "start_time": "2024-10-28T14:08:41.034Z"
   },
   {
    "duration": 4,
    "start_time": "2024-10-28T14:08:41.076Z"
   },
   {
    "duration": 7,
    "start_time": "2024-10-28T14:08:41.082Z"
   },
   {
    "duration": 6,
    "start_time": "2024-10-28T14:08:41.091Z"
   },
   {
    "duration": 13,
    "start_time": "2024-10-28T14:08:41.098Z"
   },
   {
    "duration": 4,
    "start_time": "2024-10-28T14:08:41.113Z"
   },
   {
    "duration": 13,
    "start_time": "2024-10-28T14:08:41.119Z"
   },
   {
    "duration": 4,
    "start_time": "2024-10-28T14:08:41.134Z"
   },
   {
    "duration": 14,
    "start_time": "2024-10-28T14:08:41.140Z"
   },
   {
    "duration": 9,
    "start_time": "2024-10-28T14:08:41.155Z"
   },
   {
    "duration": 5,
    "start_time": "2024-10-28T14:08:41.166Z"
   },
   {
    "duration": 20,
    "start_time": "2024-10-28T14:08:41.173Z"
   },
   {
    "duration": 7,
    "start_time": "2024-10-28T14:08:41.195Z"
   },
   {
    "duration": 58,
    "start_time": "2024-10-28T14:08:41.207Z"
   },
   {
    "duration": 7,
    "start_time": "2024-10-28T14:08:41.267Z"
   },
   {
    "duration": 40,
    "start_time": "2024-10-28T14:08:41.276Z"
   },
   {
    "duration": 8,
    "start_time": "2024-10-28T14:08:41.317Z"
   },
   {
    "duration": 6,
    "start_time": "2024-10-28T14:08:41.327Z"
   },
   {
    "duration": 6,
    "start_time": "2024-10-28T14:08:41.335Z"
   },
   {
    "duration": 72,
    "start_time": "2024-10-28T14:08:41.343Z"
   },
   {
    "duration": 364,
    "start_time": "2024-10-28T14:08:41.417Z"
   },
   {
    "duration": 5,
    "start_time": "2024-10-28T14:08:41.783Z"
   },
   {
    "duration": 38,
    "start_time": "2024-10-28T14:08:41.789Z"
   },
   {
    "duration": 311,
    "start_time": "2024-10-28T14:08:41.829Z"
   },
   {
    "duration": 400,
    "start_time": "2024-10-28T14:08:42.141Z"
   },
   {
    "duration": 309,
    "start_time": "2024-10-28T14:08:42.543Z"
   },
   {
    "duration": 327,
    "start_time": "2024-10-28T14:08:42.853Z"
   },
   {
    "duration": 162,
    "start_time": "2024-10-28T14:08:43.182Z"
   },
   {
    "duration": 7,
    "start_time": "2024-10-28T14:08:43.351Z"
   },
   {
    "duration": 275,
    "start_time": "2024-10-28T14:08:43.360Z"
   },
   {
    "duration": 155,
    "start_time": "2024-10-28T14:08:43.636Z"
   },
   {
    "duration": 165,
    "start_time": "2024-10-28T14:08:43.793Z"
   },
   {
    "duration": 406,
    "start_time": "2024-10-28T14:08:43.961Z"
   },
   {
    "duration": 318,
    "start_time": "2024-10-28T14:08:44.368Z"
   },
   {
    "duration": 309,
    "start_time": "2024-10-28T14:08:44.688Z"
   },
   {
    "duration": 330,
    "start_time": "2024-10-28T14:08:44.998Z"
   },
   {
    "duration": 28,
    "start_time": "2024-10-28T14:08:45.330Z"
   },
   {
    "duration": 128,
    "start_time": "2024-10-28T14:08:45.360Z"
   },
   {
    "duration": 20,
    "start_time": "2024-10-28T14:08:45.490Z"
   },
   {
    "duration": 173,
    "start_time": "2024-10-28T14:08:45.512Z"
   },
   {
    "duration": 188,
    "start_time": "2024-10-28T14:08:45.686Z"
   },
   {
    "duration": 190,
    "start_time": "2024-10-28T14:08:45.875Z"
   },
   {
    "duration": 159,
    "start_time": "2024-10-28T14:08:46.067Z"
   },
   {
    "duration": 239,
    "start_time": "2024-10-28T14:08:46.227Z"
   },
   {
    "duration": 176,
    "start_time": "2024-10-28T14:08:46.468Z"
   },
   {
    "duration": 159,
    "start_time": "2024-10-28T14:08:46.646Z"
   },
   {
    "duration": 168,
    "start_time": "2024-10-28T14:08:46.807Z"
   },
   {
    "duration": 24,
    "start_time": "2024-10-28T14:08:46.976Z"
   },
   {
    "duration": 79,
    "start_time": "2024-10-28T14:08:47.001Z"
   },
   {
    "duration": 167,
    "start_time": "2024-10-28T14:08:47.081Z"
   },
   {
    "duration": 447,
    "start_time": "2024-10-28T14:08:54.652Z"
   },
   {
    "duration": 118,
    "start_time": "2024-10-28T14:08:55.101Z"
   },
   {
    "duration": 51,
    "start_time": "2024-10-28T14:08:55.222Z"
   },
   {
    "duration": 59,
    "start_time": "2024-10-28T14:08:55.275Z"
   },
   {
    "duration": 78,
    "start_time": "2024-10-28T14:08:55.335Z"
   },
   {
    "duration": 38,
    "start_time": "2024-10-28T14:08:55.415Z"
   },
   {
    "duration": 2370,
    "start_time": "2024-10-28T14:08:55.455Z"
   },
   {
    "duration": 10,
    "start_time": "2024-10-28T14:08:57.827Z"
   },
   {
    "duration": 21,
    "start_time": "2024-10-28T14:08:57.839Z"
   },
   {
    "duration": 16,
    "start_time": "2024-10-28T14:08:57.861Z"
   },
   {
    "duration": 11,
    "start_time": "2024-10-28T14:08:57.878Z"
   },
   {
    "duration": 6,
    "start_time": "2024-10-28T14:08:57.891Z"
   },
   {
    "duration": 7,
    "start_time": "2024-10-28T14:08:57.900Z"
   },
   {
    "duration": 7,
    "start_time": "2024-10-28T14:08:57.909Z"
   },
   {
    "duration": 15,
    "start_time": "2024-10-28T14:08:57.917Z"
   },
   {
    "duration": 4,
    "start_time": "2024-10-28T14:08:57.933Z"
   },
   {
    "duration": 16,
    "start_time": "2024-10-28T14:08:57.938Z"
   },
   {
    "duration": 6,
    "start_time": "2024-10-28T14:08:57.955Z"
   },
   {
    "duration": 150,
    "start_time": "2024-10-28T14:08:57.962Z"
   },
   {
    "duration": 27,
    "start_time": "2024-10-28T14:08:58.113Z"
   },
   {
    "duration": 4,
    "start_time": "2024-10-28T14:08:58.142Z"
   },
   {
    "duration": 15,
    "start_time": "2024-10-28T14:08:58.148Z"
   },
   {
    "duration": 6,
    "start_time": "2024-10-28T14:08:58.164Z"
   },
   {
    "duration": 9,
    "start_time": "2024-10-28T14:08:58.172Z"
   },
   {
    "duration": 6,
    "start_time": "2024-10-28T14:08:58.182Z"
   },
   {
    "duration": 15,
    "start_time": "2024-10-28T14:08:58.190Z"
   },
   {
    "duration": 7,
    "start_time": "2024-10-28T14:08:58.207Z"
   },
   {
    "duration": 50,
    "start_time": "2024-10-28T14:08:58.215Z"
   },
   {
    "duration": 7,
    "start_time": "2024-10-28T14:08:58.266Z"
   },
   {
    "duration": 5,
    "start_time": "2024-10-28T14:08:58.274Z"
   },
   {
    "duration": 7,
    "start_time": "2024-10-28T14:08:58.280Z"
   },
   {
    "duration": 5,
    "start_time": "2024-10-28T14:08:58.288Z"
   },
   {
    "duration": 5,
    "start_time": "2024-10-28T14:08:58.295Z"
   },
   {
    "duration": 4,
    "start_time": "2024-10-28T14:08:58.301Z"
   },
   {
    "duration": 400,
    "start_time": "2024-10-28T14:08:58.306Z"
   },
   {
    "duration": 4,
    "start_time": "2024-10-28T14:08:58.708Z"
   },
   {
    "duration": 39,
    "start_time": "2024-10-28T14:08:58.713Z"
   },
   {
    "duration": 309,
    "start_time": "2024-10-28T14:08:58.753Z"
   },
   {
    "duration": 403,
    "start_time": "2024-10-28T14:08:59.063Z"
   },
   {
    "duration": 322,
    "start_time": "2024-10-28T14:08:59.471Z"
   },
   {
    "duration": 329,
    "start_time": "2024-10-28T14:08:59.795Z"
   },
   {
    "duration": 165,
    "start_time": "2024-10-28T14:09:00.126Z"
   },
   {
    "duration": 6,
    "start_time": "2024-10-28T14:09:00.293Z"
   },
   {
    "duration": 277,
    "start_time": "2024-10-28T14:09:00.300Z"
   },
   {
    "duration": 154,
    "start_time": "2024-10-28T14:09:00.578Z"
   },
   {
    "duration": 140,
    "start_time": "2024-10-28T14:09:00.734Z"
   },
   {
    "duration": 311,
    "start_time": "2024-10-28T14:09:00.875Z"
   },
   {
    "duration": 406,
    "start_time": "2024-10-28T14:09:01.187Z"
   },
   {
    "duration": 320,
    "start_time": "2024-10-28T14:09:01.595Z"
   },
   {
    "duration": 345,
    "start_time": "2024-10-28T14:09:01.917Z"
   },
   {
    "duration": 21,
    "start_time": "2024-10-28T14:09:02.263Z"
   },
   {
    "duration": 85,
    "start_time": "2024-10-28T14:09:02.286Z"
   },
   {
    "duration": 27,
    "start_time": "2024-10-28T14:09:02.373Z"
   },
   {
    "duration": 178,
    "start_time": "2024-10-28T14:09:02.402Z"
   },
   {
    "duration": 181,
    "start_time": "2024-10-28T14:09:02.583Z"
   },
   {
    "duration": 176,
    "start_time": "2024-10-28T14:09:02.766Z"
   },
   {
    "duration": 160,
    "start_time": "2024-10-28T14:09:02.944Z"
   },
   {
    "duration": 152,
    "start_time": "2024-10-28T14:09:03.106Z"
   },
   {
    "duration": 260,
    "start_time": "2024-10-28T14:09:03.259Z"
   },
   {
    "duration": 167,
    "start_time": "2024-10-28T14:09:03.521Z"
   },
   {
    "duration": 165,
    "start_time": "2024-10-28T14:09:03.690Z"
   },
   {
    "duration": 26,
    "start_time": "2024-10-28T14:09:03.857Z"
   },
   {
    "duration": 21,
    "start_time": "2024-10-28T14:09:03.885Z"
   },
   {
    "duration": 219,
    "start_time": "2024-10-28T14:09:03.908Z"
   }
  ],
  "colab": {
   "provenance": []
  },
  "kernelspec": {
   "display_name": "Python 3 (ipykernel)",
   "language": "python",
   "name": "python3"
  },
  "language_info": {
   "codemirror_mode": {
    "name": "ipython",
    "version": 3
   },
   "file_extension": ".py",
   "mimetype": "text/x-python",
   "name": "python",
   "nbconvert_exporter": "python",
   "pygments_lexer": "ipython3",
   "version": "3.9.5"
  },
  "toc": {
   "base_numbering": 1,
   "nav_menu": {},
   "number_sections": true,
   "sideBar": true,
   "skip_h1_title": true,
   "title_cell": "Table of Contents",
   "title_sidebar": "Contents",
   "toc_cell": false,
   "toc_position": {},
   "toc_section_display": true,
   "toc_window_display": false
  }
 },
 "nbformat": 4,
 "nbformat_minor": 1
}
