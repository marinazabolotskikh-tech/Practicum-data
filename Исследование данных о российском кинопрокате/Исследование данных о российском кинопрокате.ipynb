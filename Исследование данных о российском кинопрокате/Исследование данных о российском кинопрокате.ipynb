{
 "cells": [
  {
   "cell_type": "markdown",
   "metadata": {
    "id": "sIfNaMOxgFyK"
   },
   "source": [
    "# Исследование данных о российском кинопрокате\n",
    "\n"
   ]
  },
  {
   "cell_type": "markdown",
   "metadata": {},
   "source": [
    "Заказчик этого исследования — Министерство культуры Российской Федерации.\n",
    "\n",
    "Необходимо изучить рынок российского кинопроката и выявить текущие тренды. \n",
    "В исследовании особое внимание уделено фильмам, которые получили государственную поддержку. Насколько такие фильмы интересны зрителю и окупаются ли они в прокате.\n",
    "    \n",
    "В проекте используются данные, опубликованные на портале открытых данных Министерства культуры. Набор данных содержит информацию о прокатных удостоверениях, сборах и государственной поддержке фильмов, а также информацию с сайта КиноПоиск. Данные представлены в двух таблицах, В ходе проекта будет произведено обьединение датасетов, проведена предобработка данных, исследовательский анализ и проанализированы фильмы, которые получили государственную поддержку.\n",
    "\n",
    "Описание данных: \n",
    "    \n",
    "Таблица mkrf_movies содержит информацию из реестра прокатных удостоверений. У одного фильма может быть несколько прокатных удостоверений.\n",
    "- `title` — название фильма;\n",
    "- `puNumber` — номер прокатного удостоверения;\n",
    "-`show_start_date` — дата премьеры фильма;\n",
    "- `type` — тип фильма;\n",
    "- `film_studio` — студия-производитель;\n",
    "- `production_country` — страна-производитель;\n",
    "- `director` — режиссёр;\n",
    "- `producer` — продюсер;\n",
    "- `age_restriction` — возрастная категория;\n",
    "- `refundable_support` — объём возвратных средств государственной поддержки;\n",
    "- `nonrefundable_support` — объём невозвратных средств государственной поддержки;\n",
    "- `financing_source` — источник государственного финансирования;\n",
    "- `budget` — общий бюджет фильма;\n",
    "- `ratings` — рейтинг фильма на КиноПоиске;\n",
    "- `genres` — жанр фильма.\n",
    "    \n",
    "Таблица mkrf_shows содержит сведения о показах фильмов в российских кинотеатрах.\n",
    "- `puNumber` — номер прокатного удостоверения;\n",
    "- `box_office` — сборы в рублях.\n"
   ]
  },
  {
   "cell_type": "markdown",
   "metadata": {
    "id": "3bSlkCsbgFyL"
   },
   "source": [
    "### Шаг 1. Откройте файлы с данными и объедините их в один датафрейм. \n",
    "\n",
    "Объедините данные таким образом, чтобы все объекты из датасета `mkrf_movies` обязательно вошли в получившийся датафрейм. \n",
    "\n",
    "<div id=\"accordion\">\n",
    "    <div class=\"card\">\n",
    "        <div class=\"card-header\" id=\"headingThree\">\n",
    "            <button class=\"btn btn-link collapsed\" data-toggle=\"collapse\" data-target=\"#collapseHint_0\" aria-expanded=\"false\" aria-controls=\"collapseHint_0\">Подсказка</button>\n",
    "        </div>\n",
    "        <div id=\"collapseHint_0\" class=\"collapse\" aria-labelledby=\"headingThree\" data-parent=\"#accordion\">\n",
    "            <div class=\"card-body\">\n",
    "Обратите внимание на тип данных столбца, по которому будете соединять датафреймы. Тип данных этих столбцов должен быть одинаковым в обоих датафреймах.\n",
    "            </div>\n",
    "        </div>\n",
    "    </div>\n",
    "</div>"
   ]
  },
  {
   "cell_type": "markdown",
   "metadata": {},
   "source": [
    "#### Шаг 1.1. Просмотр данных датасетов"
   ]
  },
  {
   "cell_type": "code",
   "execution_count": 1,
   "metadata": {
    "id": "dw87FlzMgFyM"
   },
   "outputs": [],
   "source": [
    "import pandas as pd\n",
    "import matplotlib.pyplot as plt\n",
    "pd.options.display.float_format = '{:,.1f}'.format # избавимся от экспоненты"
   ]
  },
  {
   "cell_type": "code",
   "execution_count": 2,
   "metadata": {},
   "outputs": [],
   "source": [
    "data_movies = pd.read_csv ('/datasets/mkrf_movies.csv')"
   ]
  },
  {
   "cell_type": "code",
   "execution_count": 3,
   "metadata": {},
   "outputs": [],
   "source": [
    "data_shows = pd.read_csv ('/datasets/mkrf_shows.csv')"
   ]
  },
  {
   "cell_type": "code",
   "execution_count": 4,
   "metadata": {
    "scrolled": true
   },
   "outputs": [
    {
     "data": {
      "text/html": [
       "<div>\n",
       "<style scoped>\n",
       "    .dataframe tbody tr th:only-of-type {\n",
       "        vertical-align: middle;\n",
       "    }\n",
       "\n",
       "    .dataframe tbody tr th {\n",
       "        vertical-align: top;\n",
       "    }\n",
       "\n",
       "    .dataframe thead th {\n",
       "        text-align: right;\n",
       "    }\n",
       "</style>\n",
       "<table border=\"1\" class=\"dataframe\">\n",
       "  <thead>\n",
       "    <tr style=\"text-align: right;\">\n",
       "      <th></th>\n",
       "      <th>title</th>\n",
       "      <th>puNumber</th>\n",
       "      <th>show_start_date</th>\n",
       "      <th>type</th>\n",
       "      <th>film_studio</th>\n",
       "      <th>production_country</th>\n",
       "      <th>director</th>\n",
       "      <th>producer</th>\n",
       "      <th>age_restriction</th>\n",
       "      <th>refundable_support</th>\n",
       "      <th>nonrefundable_support</th>\n",
       "      <th>budget</th>\n",
       "      <th>financing_source</th>\n",
       "      <th>ratings</th>\n",
       "      <th>genres</th>\n",
       "    </tr>\n",
       "  </thead>\n",
       "  <tbody>\n",
       "    <tr>\n",
       "      <th>0</th>\n",
       "      <td>Открытый простор</td>\n",
       "      <td>221048915</td>\n",
       "      <td>2015-11-27T12:00:00.000Z</td>\n",
       "      <td>Художественный</td>\n",
       "      <td>Тачстоун Пикчерз, Кобальт Пикчерз, Бикон Пикче...</td>\n",
       "      <td>США</td>\n",
       "      <td>Кевин Костнер</td>\n",
       "      <td>Дэвид Валдес, Кевин Костнер, Джейк Эбертс</td>\n",
       "      <td>«18+» - запрещено для детей</td>\n",
       "      <td>NaN</td>\n",
       "      <td>NaN</td>\n",
       "      <td>NaN</td>\n",
       "      <td>NaN</td>\n",
       "      <td>7.2</td>\n",
       "      <td>боевик,драма,мелодрама</td>\n",
       "    </tr>\n",
       "    <tr>\n",
       "      <th>1</th>\n",
       "      <td>Особо важное задание</td>\n",
       "      <td>111013716</td>\n",
       "      <td>2016-09-13T12:00:00.000Z</td>\n",
       "      <td>Художественный</td>\n",
       "      <td>Киностудия \"Мосфильм\"</td>\n",
       "      <td>СССР</td>\n",
       "      <td>Е.Матвеев</td>\n",
       "      <td>NaN</td>\n",
       "      <td>«6+» - для детей старше 6 лет</td>\n",
       "      <td>NaN</td>\n",
       "      <td>NaN</td>\n",
       "      <td>NaN</td>\n",
       "      <td>NaN</td>\n",
       "      <td>6.6</td>\n",
       "      <td>драма,военный</td>\n",
       "    </tr>\n",
       "    <tr>\n",
       "      <th>2</th>\n",
       "      <td>Особо опасен</td>\n",
       "      <td>221038416</td>\n",
       "      <td>2016-10-10T12:00:00.000Z</td>\n",
       "      <td>Художественный</td>\n",
       "      <td>Юниверсал Пикчерз, Кикстарт Продакшнз, Марк Пл...</td>\n",
       "      <td>США</td>\n",
       "      <td>Тимур Бекмамбетов</td>\n",
       "      <td>Джим Лемли, Джейсон Нетер, Марк Е.Платт, Яйн Смит</td>\n",
       "      <td>«18+» - запрещено для детей</td>\n",
       "      <td>NaN</td>\n",
       "      <td>NaN</td>\n",
       "      <td>NaN</td>\n",
       "      <td>NaN</td>\n",
       "      <td>6.8</td>\n",
       "      <td>фантастика,боевик,триллер</td>\n",
       "    </tr>\n",
       "    <tr>\n",
       "      <th>3</th>\n",
       "      <td>Особо опасен</td>\n",
       "      <td>221026916</td>\n",
       "      <td>2016-06-10T12:00:00.000Z</td>\n",
       "      <td>Художественный</td>\n",
       "      <td>Юниверсал Пикчерз, Кикстарт Продакшнз, Марк Пл...</td>\n",
       "      <td>США</td>\n",
       "      <td>Тимур Бекмамбетов</td>\n",
       "      <td>Джим Лемли, Джейсон Нетер, Марк Е.Платт, Яйн Смит</td>\n",
       "      <td>«18+» - запрещено для детей</td>\n",
       "      <td>NaN</td>\n",
       "      <td>NaN</td>\n",
       "      <td>NaN</td>\n",
       "      <td>NaN</td>\n",
       "      <td>6.8</td>\n",
       "      <td>фантастика,боевик,триллер</td>\n",
       "    </tr>\n",
       "    <tr>\n",
       "      <th>4</th>\n",
       "      <td>Особо опасен</td>\n",
       "      <td>221030815</td>\n",
       "      <td>2015-07-29T12:00:00.000Z</td>\n",
       "      <td>Художественный</td>\n",
       "      <td>Юниверсал Пикчерз, Кикстарт Продакшнз, Марк Пл...</td>\n",
       "      <td>США</td>\n",
       "      <td>Тимур Бекмамбетов</td>\n",
       "      <td>Джим Лемли, Джейсон Нетер, Марк Е.Платт, Яйн Смит</td>\n",
       "      <td>«18+» - запрещено для детей</td>\n",
       "      <td>NaN</td>\n",
       "      <td>NaN</td>\n",
       "      <td>NaN</td>\n",
       "      <td>NaN</td>\n",
       "      <td>6.8</td>\n",
       "      <td>фантастика,боевик,триллер</td>\n",
       "    </tr>\n",
       "    <tr>\n",
       "      <th>...</th>\n",
       "      <td>...</td>\n",
       "      <td>...</td>\n",
       "      <td>...</td>\n",
       "      <td>...</td>\n",
       "      <td>...</td>\n",
       "      <td>...</td>\n",
       "      <td>...</td>\n",
       "      <td>...</td>\n",
       "      <td>...</td>\n",
       "      <td>...</td>\n",
       "      <td>...</td>\n",
       "      <td>...</td>\n",
       "      <td>...</td>\n",
       "      <td>...</td>\n",
       "      <td>...</td>\n",
       "    </tr>\n",
       "    <tr>\n",
       "      <th>7481</th>\n",
       "      <td>Сад художника: Американский импрессионизм</td>\n",
       "      <td>126008019</td>\n",
       "      <td>2019-12-23T12:00:00.000Z</td>\n",
       "      <td>Прочие</td>\n",
       "      <td>Севен Артс Продакшнз</td>\n",
       "      <td>Великобритания</td>\n",
       "      <td>Фил Грабски</td>\n",
       "      <td>Фил Грабски</td>\n",
       "      <td>«12+» - для детей старше 12 лет</td>\n",
       "      <td>NaN</td>\n",
       "      <td>NaN</td>\n",
       "      <td>NaN</td>\n",
       "      <td>NaN</td>\n",
       "      <td>NaN</td>\n",
       "      <td>NaN</td>\n",
       "    </tr>\n",
       "    <tr>\n",
       "      <th>7482</th>\n",
       "      <td>Звериная ярость</td>\n",
       "      <td>121037819</td>\n",
       "      <td>2019-12-24T12:00:00.000Z</td>\n",
       "      <td>Художественный</td>\n",
       "      <td>Дэниел Гродник Продакшнз, Вандерфилм Медиа Кор...</td>\n",
       "      <td>США</td>\n",
       "      <td>Ник Пауэлл</td>\n",
       "      <td>Джефф Боулер, Дэниэл Гродник, Луильо Руис, Брэ...</td>\n",
       "      <td>«16+» - для детей старше 16 лет</td>\n",
       "      <td>NaN</td>\n",
       "      <td>NaN</td>\n",
       "      <td>NaN</td>\n",
       "      <td>NaN</td>\n",
       "      <td>5.4</td>\n",
       "      <td>боевик,триллер</td>\n",
       "    </tr>\n",
       "    <tr>\n",
       "      <th>7483</th>\n",
       "      <td>Щенячий патруль: Скорей спешим на помощь!</td>\n",
       "      <td>124010819</td>\n",
       "      <td>2019-12-28T12:00:00.000Z</td>\n",
       "      <td>Художественный</td>\n",
       "      <td>Никелодеон Анимейшн Студиос, Спин Мастер</td>\n",
       "      <td>США - Канада</td>\n",
       "      <td>Чарльз Е.Бастьен</td>\n",
       "      <td>Дженнифер Додж</td>\n",
       "      <td>«0+» - для любой зрительской аудитории</td>\n",
       "      <td>NaN</td>\n",
       "      <td>NaN</td>\n",
       "      <td>NaN</td>\n",
       "      <td>NaN</td>\n",
       "      <td>NaN</td>\n",
       "      <td>NaN</td>\n",
       "    </tr>\n",
       "    <tr>\n",
       "      <th>7484</th>\n",
       "      <td>Машины песенки. Серия \"Испанские мотивы\"</td>\n",
       "      <td>124010619</td>\n",
       "      <td>2019-12-30T12:00:00.000Z</td>\n",
       "      <td>Анимационный</td>\n",
       "      <td>Анимаккорд Лтд., ООО Студия \"АНИМАККОРД\"</td>\n",
       "      <td>Республика Кипр, Россия</td>\n",
       "      <td>А.Беляев</td>\n",
       "      <td>Д.Ловейко</td>\n",
       "      <td>«0+» - для любой зрительской аудитории</td>\n",
       "      <td>NaN</td>\n",
       "      <td>NaN</td>\n",
       "      <td>NaN</td>\n",
       "      <td>NaN</td>\n",
       "      <td>NaN</td>\n",
       "      <td>NaN</td>\n",
       "    </tr>\n",
       "    <tr>\n",
       "      <th>7485</th>\n",
       "      <td>Машины песенки. Серия \"Когда цветут кактусы\"</td>\n",
       "      <td>124010719</td>\n",
       "      <td>2019-12-30T12:00:00.000Z</td>\n",
       "      <td>Анимационный</td>\n",
       "      <td>Анимаккорд Лтд., ООО Студия \"АНИМАККОРД\"</td>\n",
       "      <td>Республика Кипр, Россия</td>\n",
       "      <td>И.Трусов</td>\n",
       "      <td>Д.Ловейко</td>\n",
       "      <td>«0+» - для любой зрительской аудитории</td>\n",
       "      <td>NaN</td>\n",
       "      <td>NaN</td>\n",
       "      <td>NaN</td>\n",
       "      <td>NaN</td>\n",
       "      <td>6.3</td>\n",
       "      <td>комедия,вестерн</td>\n",
       "    </tr>\n",
       "  </tbody>\n",
       "</table>\n",
       "<p>7486 rows × 15 columns</p>\n",
       "</div>"
      ],
      "text/plain": [
       "                                             title   puNumber  \\\n",
       "0                                 Открытый простор  221048915   \n",
       "1                             Особо важное задание  111013716   \n",
       "2                                     Особо опасен  221038416   \n",
       "3                                     Особо опасен  221026916   \n",
       "4                                     Особо опасен  221030815   \n",
       "...                                            ...        ...   \n",
       "7481     Сад художника: Американский импрессионизм  126008019   \n",
       "7482                               Звериная ярость  121037819   \n",
       "7483     Щенячий патруль: Скорей спешим на помощь!  124010819   \n",
       "7484      Машины песенки. Серия \"Испанские мотивы\"  124010619   \n",
       "7485  Машины песенки. Серия \"Когда цветут кактусы\"  124010719   \n",
       "\n",
       "               show_start_date             type  \\\n",
       "0     2015-11-27T12:00:00.000Z   Художественный   \n",
       "1     2016-09-13T12:00:00.000Z   Художественный   \n",
       "2     2016-10-10T12:00:00.000Z   Художественный   \n",
       "3     2016-06-10T12:00:00.000Z   Художественный   \n",
       "4     2015-07-29T12:00:00.000Z   Художественный   \n",
       "...                        ...              ...   \n",
       "7481  2019-12-23T12:00:00.000Z           Прочие   \n",
       "7482  2019-12-24T12:00:00.000Z   Художественный   \n",
       "7483  2019-12-28T12:00:00.000Z   Художественный   \n",
       "7484  2019-12-30T12:00:00.000Z     Анимационный   \n",
       "7485  2019-12-30T12:00:00.000Z     Анимационный   \n",
       "\n",
       "                                            film_studio  \\\n",
       "0     Тачстоун Пикчерз, Кобальт Пикчерз, Бикон Пикче...   \n",
       "1                                 Киностудия \"Мосфильм\"   \n",
       "2     Юниверсал Пикчерз, Кикстарт Продакшнз, Марк Пл...   \n",
       "3     Юниверсал Пикчерз, Кикстарт Продакшнз, Марк Пл...   \n",
       "4     Юниверсал Пикчерз, Кикстарт Продакшнз, Марк Пл...   \n",
       "...                                                 ...   \n",
       "7481                               Севен Артс Продакшнз   \n",
       "7482  Дэниел Гродник Продакшнз, Вандерфилм Медиа Кор...   \n",
       "7483           Никелодеон Анимейшн Студиос, Спин Мастер   \n",
       "7484           Анимаккорд Лтд., ООО Студия \"АНИМАККОРД\"   \n",
       "7485           Анимаккорд Лтд., ООО Студия \"АНИМАККОРД\"   \n",
       "\n",
       "           production_country           director  \\\n",
       "0                         США      Кевин Костнер   \n",
       "1                        СССР          Е.Матвеев   \n",
       "2                         США  Тимур Бекмамбетов   \n",
       "3                         США  Тимур Бекмамбетов   \n",
       "4                         США  Тимур Бекмамбетов   \n",
       "...                       ...                ...   \n",
       "7481           Великобритания        Фил Грабски   \n",
       "7482                      США         Ник Пауэлл   \n",
       "7483             США - Канада   Чарльз Е.Бастьен   \n",
       "7484  Республика Кипр, Россия           А.Беляев   \n",
       "7485  Республика Кипр, Россия           И.Трусов   \n",
       "\n",
       "                                               producer  \\\n",
       "0             Дэвид Валдес, Кевин Костнер, Джейк Эбертс   \n",
       "1                                                   NaN   \n",
       "2     Джим Лемли, Джейсон Нетер, Марк Е.Платт, Яйн Смит   \n",
       "3     Джим Лемли, Джейсон Нетер, Марк Е.Платт, Яйн Смит   \n",
       "4     Джим Лемли, Джейсон Нетер, Марк Е.Платт, Яйн Смит   \n",
       "...                                                 ...   \n",
       "7481                                        Фил Грабски   \n",
       "7482  Джефф Боулер, Дэниэл Гродник, Луильо Руис, Брэ...   \n",
       "7483                                     Дженнифер Додж   \n",
       "7484                                          Д.Ловейко   \n",
       "7485                                          Д.Ловейко   \n",
       "\n",
       "                             age_restriction  refundable_support  \\\n",
       "0                «18+» - запрещено для детей                 NaN   \n",
       "1              «6+» - для детей старше 6 лет                 NaN   \n",
       "2                «18+» - запрещено для детей                 NaN   \n",
       "3                «18+» - запрещено для детей                 NaN   \n",
       "4                «18+» - запрещено для детей                 NaN   \n",
       "...                                      ...                 ...   \n",
       "7481         «12+» - для детей старше 12 лет                 NaN   \n",
       "7482         «16+» - для детей старше 16 лет                 NaN   \n",
       "7483  «0+» - для любой зрительской аудитории                 NaN   \n",
       "7484  «0+» - для любой зрительской аудитории                 NaN   \n",
       "7485  «0+» - для любой зрительской аудитории                 NaN   \n",
       "\n",
       "      nonrefundable_support  budget financing_source ratings  \\\n",
       "0                       NaN     NaN              NaN     7.2   \n",
       "1                       NaN     NaN              NaN     6.6   \n",
       "2                       NaN     NaN              NaN     6.8   \n",
       "3                       NaN     NaN              NaN     6.8   \n",
       "4                       NaN     NaN              NaN     6.8   \n",
       "...                     ...     ...              ...     ...   \n",
       "7481                    NaN     NaN              NaN     NaN   \n",
       "7482                    NaN     NaN              NaN     5.4   \n",
       "7483                    NaN     NaN              NaN     NaN   \n",
       "7484                    NaN     NaN              NaN     NaN   \n",
       "7485                    NaN     NaN              NaN     6.3   \n",
       "\n",
       "                         genres  \n",
       "0        боевик,драма,мелодрама  \n",
       "1                 драма,военный  \n",
       "2     фантастика,боевик,триллер  \n",
       "3     фантастика,боевик,триллер  \n",
       "4     фантастика,боевик,триллер  \n",
       "...                         ...  \n",
       "7481                        NaN  \n",
       "7482             боевик,триллер  \n",
       "7483                        NaN  \n",
       "7484                        NaN  \n",
       "7485            комедия,вестерн  \n",
       "\n",
       "[7486 rows x 15 columns]"
      ]
     },
     "execution_count": 4,
     "metadata": {},
     "output_type": "execute_result"
    }
   ],
   "source": [
    "data_movies.head(pd.set_option('display.max_columns', None))"
   ]
  },
  {
   "cell_type": "code",
   "execution_count": 5,
   "metadata": {},
   "outputs": [
    {
     "name": "stdout",
     "output_type": "stream",
     "text": [
      "<class 'pandas.core.frame.DataFrame'>\n",
      "RangeIndex: 7486 entries, 0 to 7485\n",
      "Data columns (total 15 columns):\n",
      " #   Column                 Non-Null Count  Dtype  \n",
      "---  ------                 --------------  -----  \n",
      " 0   title                  7486 non-null   object \n",
      " 1   puNumber               7486 non-null   object \n",
      " 2   show_start_date        7486 non-null   object \n",
      " 3   type                   7486 non-null   object \n",
      " 4   film_studio            7468 non-null   object \n",
      " 5   production_country     7484 non-null   object \n",
      " 6   director               7477 non-null   object \n",
      " 7   producer               6918 non-null   object \n",
      " 8   age_restriction        7486 non-null   object \n",
      " 9   refundable_support     332 non-null    float64\n",
      " 10  nonrefundable_support  332 non-null    float64\n",
      " 11  budget                 332 non-null    float64\n",
      " 12  financing_source       332 non-null    object \n",
      " 13  ratings                6519 non-null   object \n",
      " 14  genres                 6510 non-null   object \n",
      "dtypes: float64(3), object(12)\n",
      "memory usage: 877.4+ KB\n"
     ]
    }
   ],
   "source": [
    "data_movies.info()"
   ]
  },
  {
   "cell_type": "code",
   "execution_count": 6,
   "metadata": {},
   "outputs": [
    {
     "data": {
      "text/html": [
       "<div>\n",
       "<style scoped>\n",
       "    .dataframe tbody tr th:only-of-type {\n",
       "        vertical-align: middle;\n",
       "    }\n",
       "\n",
       "    .dataframe tbody tr th {\n",
       "        vertical-align: top;\n",
       "    }\n",
       "\n",
       "    .dataframe thead th {\n",
       "        text-align: right;\n",
       "    }\n",
       "</style>\n",
       "<table border=\"1\" class=\"dataframe\">\n",
       "  <thead>\n",
       "    <tr style=\"text-align: right;\">\n",
       "      <th></th>\n",
       "      <th>puNumber</th>\n",
       "      <th>box_office</th>\n",
       "    </tr>\n",
       "  </thead>\n",
       "  <tbody>\n",
       "    <tr>\n",
       "      <th>0</th>\n",
       "      <td>111000113</td>\n",
       "      <td>2,450.0</td>\n",
       "    </tr>\n",
       "    <tr>\n",
       "      <th>1</th>\n",
       "      <td>111000115</td>\n",
       "      <td>61,040.0</td>\n",
       "    </tr>\n",
       "    <tr>\n",
       "      <th>2</th>\n",
       "      <td>111000116</td>\n",
       "      <td>153,030,013.4</td>\n",
       "    </tr>\n",
       "    <tr>\n",
       "      <th>3</th>\n",
       "      <td>111000117</td>\n",
       "      <td>12,260,956.0</td>\n",
       "    </tr>\n",
       "    <tr>\n",
       "      <th>4</th>\n",
       "      <td>111000118</td>\n",
       "      <td>163,684,057.8</td>\n",
       "    </tr>\n",
       "    <tr>\n",
       "      <th>...</th>\n",
       "      <td>...</td>\n",
       "      <td>...</td>\n",
       "    </tr>\n",
       "    <tr>\n",
       "      <th>3153</th>\n",
       "      <td>224014814</td>\n",
       "      <td>1,530.0</td>\n",
       "    </tr>\n",
       "    <tr>\n",
       "      <th>3154</th>\n",
       "      <td>224021411</td>\n",
       "      <td>9,270.0</td>\n",
       "    </tr>\n",
       "    <tr>\n",
       "      <th>3155</th>\n",
       "      <td>224022410</td>\n",
       "      <td>400.0</td>\n",
       "    </tr>\n",
       "    <tr>\n",
       "      <th>3156</th>\n",
       "      <td>224023210</td>\n",
       "      <td>360.0</td>\n",
       "    </tr>\n",
       "    <tr>\n",
       "      <th>3157</th>\n",
       "      <td>224026410</td>\n",
       "      <td>400.0</td>\n",
       "    </tr>\n",
       "  </tbody>\n",
       "</table>\n",
       "<p>3158 rows × 2 columns</p>\n",
       "</div>"
      ],
      "text/plain": [
       "       puNumber    box_office\n",
       "0     111000113       2,450.0\n",
       "1     111000115      61,040.0\n",
       "2     111000116 153,030,013.4\n",
       "3     111000117  12,260,956.0\n",
       "4     111000118 163,684,057.8\n",
       "...         ...           ...\n",
       "3153  224014814       1,530.0\n",
       "3154  224021411       9,270.0\n",
       "3155  224022410         400.0\n",
       "3156  224023210         360.0\n",
       "3157  224026410         400.0\n",
       "\n",
       "[3158 rows x 2 columns]"
      ]
     },
     "execution_count": 6,
     "metadata": {},
     "output_type": "execute_result"
    }
   ],
   "source": [
    "data_shows.head(pd.set_option('display.max_columns', None))"
   ]
  },
  {
   "cell_type": "code",
   "execution_count": 7,
   "metadata": {},
   "outputs": [
    {
     "name": "stdout",
     "output_type": "stream",
     "text": [
      "<class 'pandas.core.frame.DataFrame'>\n",
      "RangeIndex: 3158 entries, 0 to 3157\n",
      "Data columns (total 2 columns):\n",
      " #   Column      Non-Null Count  Dtype  \n",
      "---  ------      --------------  -----  \n",
      " 0   puNumber    3158 non-null   int64  \n",
      " 1   box_office  3158 non-null   float64\n",
      "dtypes: float64(1), int64(1)\n",
      "memory usage: 49.5 KB\n"
     ]
    }
   ],
   "source": [
    "data_shows.info()"
   ]
  },
  {
   "cell_type": "markdown",
   "metadata": {},
   "source": [
    "#### Шаг 1.2 Объединение данных в один датафрейм\n"
   ]
  },
  {
   "cell_type": "code",
   "execution_count": 8,
   "metadata": {},
   "outputs": [
    {
     "data": {
      "text/html": [
       "<div>\n",
       "<style scoped>\n",
       "    .dataframe tbody tr th:only-of-type {\n",
       "        vertical-align: middle;\n",
       "    }\n",
       "\n",
       "    .dataframe tbody tr th {\n",
       "        vertical-align: top;\n",
       "    }\n",
       "\n",
       "    .dataframe thead th {\n",
       "        text-align: right;\n",
       "    }\n",
       "</style>\n",
       "<table border=\"1\" class=\"dataframe\">\n",
       "  <thead>\n",
       "    <tr style=\"text-align: right;\">\n",
       "      <th></th>\n",
       "      <th>title</th>\n",
       "      <th>puNumber</th>\n",
       "      <th>show_start_date</th>\n",
       "      <th>type</th>\n",
       "      <th>film_studio</th>\n",
       "      <th>production_country</th>\n",
       "      <th>director</th>\n",
       "      <th>producer</th>\n",
       "      <th>age_restriction</th>\n",
       "      <th>refundable_support</th>\n",
       "      <th>nonrefundable_support</th>\n",
       "      <th>budget</th>\n",
       "      <th>financing_source</th>\n",
       "      <th>ratings</th>\n",
       "      <th>genres</th>\n",
       "    </tr>\n",
       "  </thead>\n",
       "  <tbody>\n",
       "    <tr>\n",
       "      <th>804</th>\n",
       "      <td>Паранормальный Якутск</td>\n",
       "      <td>111004112</td>\n",
       "      <td>2012-08-24T12:00:00.000Z</td>\n",
       "      <td>Художественный</td>\n",
       "      <td>ИП Тимофеев К.П.</td>\n",
       "      <td>Россия</td>\n",
       "      <td>К.Тимофеев</td>\n",
       "      <td>NaN</td>\n",
       "      <td>«16+» - для детей старше 16 лет</td>\n",
       "      <td>NaN</td>\n",
       "      <td>NaN</td>\n",
       "      <td>NaN</td>\n",
       "      <td>NaN</td>\n",
       "      <td>NaN</td>\n",
       "      <td>NaN</td>\n",
       "    </tr>\n",
       "    <tr>\n",
       "      <th>1797</th>\n",
       "      <td>Курбан-роман. (История с жертвой)</td>\n",
       "      <td>нет</td>\n",
       "      <td>2014-05-15T12:00:00.000Z</td>\n",
       "      <td>Художественный</td>\n",
       "      <td>ФОНД \"ИННОВАЦИЯ\"</td>\n",
       "      <td>Россия</td>\n",
       "      <td>С.Юзеев</td>\n",
       "      <td>М.Галицкая</td>\n",
       "      <td>«12+» - для детей старше 12 лет</td>\n",
       "      <td>NaN</td>\n",
       "      <td>NaN</td>\n",
       "      <td>NaN</td>\n",
       "      <td>NaN</td>\n",
       "      <td>NaN</td>\n",
       "      <td>NaN</td>\n",
       "    </tr>\n",
       "  </tbody>\n",
       "</table>\n",
       "</div>"
      ],
      "text/plain": [
       "                                  title    puNumber           show_start_date  \\\n",
       "804               Паранормальный Якутск   111004112  2012-08-24T12:00:00.000Z   \n",
       "1797  Курбан-роман. (История с жертвой)         нет  2014-05-15T12:00:00.000Z   \n",
       "\n",
       "                type       film_studio production_country    director  \\\n",
       "804   Художественный  ИП Тимофеев К.П.             Россия  К.Тимофеев   \n",
       "1797  Художественный  ФОНД \"ИННОВАЦИЯ\"             Россия     С.Юзеев   \n",
       "\n",
       "        producer                  age_restriction  refundable_support  \\\n",
       "804          NaN  «16+» - для детей старше 16 лет                 NaN   \n",
       "1797  М.Галицкая  «12+» - для детей старше 12 лет                 NaN   \n",
       "\n",
       "      nonrefundable_support  budget financing_source ratings genres  \n",
       "804                     NaN     NaN              NaN     NaN    NaN  \n",
       "1797                    NaN     NaN              NaN     NaN    NaN  "
      ]
     },
     "execution_count": 8,
     "metadata": {},
     "output_type": "execute_result"
    }
   ],
   "source": [
    "data_movies[data_movies['puNumber'].str.isdigit() == False] #поиск нечисловых значений"
   ]
  },
  {
   "cell_type": "code",
   "execution_count": 9,
   "metadata": {},
   "outputs": [],
   "source": [
    "data_movies.loc[804, 'puNumber'] = data_movies.loc[804, 'puNumber'].strip() #удаление пробелов  "
   ]
  },
  {
   "cell_type": "code",
   "execution_count": 10,
   "metadata": {},
   "outputs": [],
   "source": [
    "data_movies.loc[1797, 'puNumber'] = '0' #замена значения на 0"
   ]
  },
  {
   "cell_type": "code",
   "execution_count": 11,
   "metadata": {},
   "outputs": [],
   "source": [
    "data_movies['puNumber'] = pd.to_numeric(data_movies['puNumber'])"
   ]
  },
  {
   "cell_type": "code",
   "execution_count": 12,
   "metadata": {
    "scrolled": false
   },
   "outputs": [
    {
     "data": {
      "text/html": [
       "<div>\n",
       "<style scoped>\n",
       "    .dataframe tbody tr th:only-of-type {\n",
       "        vertical-align: middle;\n",
       "    }\n",
       "\n",
       "    .dataframe tbody tr th {\n",
       "        vertical-align: top;\n",
       "    }\n",
       "\n",
       "    .dataframe thead th {\n",
       "        text-align: right;\n",
       "    }\n",
       "</style>\n",
       "<table border=\"1\" class=\"dataframe\">\n",
       "  <thead>\n",
       "    <tr style=\"text-align: right;\">\n",
       "      <th></th>\n",
       "      <th>title</th>\n",
       "      <th>puNumber</th>\n",
       "      <th>show_start_date</th>\n",
       "      <th>type</th>\n",
       "      <th>film_studio</th>\n",
       "      <th>production_country</th>\n",
       "      <th>director</th>\n",
       "      <th>producer</th>\n",
       "      <th>age_restriction</th>\n",
       "      <th>refundable_support</th>\n",
       "      <th>nonrefundable_support</th>\n",
       "      <th>budget</th>\n",
       "      <th>financing_source</th>\n",
       "      <th>ratings</th>\n",
       "      <th>genres</th>\n",
       "      <th>box_office</th>\n",
       "    </tr>\n",
       "  </thead>\n",
       "  <tbody>\n",
       "    <tr>\n",
       "      <th>0</th>\n",
       "      <td>Открытый простор</td>\n",
       "      <td>221048915</td>\n",
       "      <td>2015-11-27T12:00:00.000Z</td>\n",
       "      <td>Художественный</td>\n",
       "      <td>Тачстоун Пикчерз, Кобальт Пикчерз, Бикон Пикче...</td>\n",
       "      <td>США</td>\n",
       "      <td>Кевин Костнер</td>\n",
       "      <td>Дэвид Валдес, Кевин Костнер, Джейк Эбертс</td>\n",
       "      <td>«18+» - запрещено для детей</td>\n",
       "      <td>NaN</td>\n",
       "      <td>NaN</td>\n",
       "      <td>NaN</td>\n",
       "      <td>NaN</td>\n",
       "      <td>7.2</td>\n",
       "      <td>боевик,драма,мелодрама</td>\n",
       "      <td>NaN</td>\n",
       "    </tr>\n",
       "    <tr>\n",
       "      <th>1</th>\n",
       "      <td>Особо важное задание</td>\n",
       "      <td>111013716</td>\n",
       "      <td>2016-09-13T12:00:00.000Z</td>\n",
       "      <td>Художественный</td>\n",
       "      <td>Киностудия \"Мосфильм\"</td>\n",
       "      <td>СССР</td>\n",
       "      <td>Е.Матвеев</td>\n",
       "      <td>NaN</td>\n",
       "      <td>«6+» - для детей старше 6 лет</td>\n",
       "      <td>NaN</td>\n",
       "      <td>NaN</td>\n",
       "      <td>NaN</td>\n",
       "      <td>NaN</td>\n",
       "      <td>6.6</td>\n",
       "      <td>драма,военный</td>\n",
       "      <td>NaN</td>\n",
       "    </tr>\n",
       "    <tr>\n",
       "      <th>2</th>\n",
       "      <td>Особо опасен</td>\n",
       "      <td>221038416</td>\n",
       "      <td>2016-10-10T12:00:00.000Z</td>\n",
       "      <td>Художественный</td>\n",
       "      <td>Юниверсал Пикчерз, Кикстарт Продакшнз, Марк Пл...</td>\n",
       "      <td>США</td>\n",
       "      <td>Тимур Бекмамбетов</td>\n",
       "      <td>Джим Лемли, Джейсон Нетер, Марк Е.Платт, Яйн Смит</td>\n",
       "      <td>«18+» - запрещено для детей</td>\n",
       "      <td>NaN</td>\n",
       "      <td>NaN</td>\n",
       "      <td>NaN</td>\n",
       "      <td>NaN</td>\n",
       "      <td>6.8</td>\n",
       "      <td>фантастика,боевик,триллер</td>\n",
       "      <td>NaN</td>\n",
       "    </tr>\n",
       "    <tr>\n",
       "      <th>3</th>\n",
       "      <td>Особо опасен</td>\n",
       "      <td>221026916</td>\n",
       "      <td>2016-06-10T12:00:00.000Z</td>\n",
       "      <td>Художественный</td>\n",
       "      <td>Юниверсал Пикчерз, Кикстарт Продакшнз, Марк Пл...</td>\n",
       "      <td>США</td>\n",
       "      <td>Тимур Бекмамбетов</td>\n",
       "      <td>Джим Лемли, Джейсон Нетер, Марк Е.Платт, Яйн Смит</td>\n",
       "      <td>«18+» - запрещено для детей</td>\n",
       "      <td>NaN</td>\n",
       "      <td>NaN</td>\n",
       "      <td>NaN</td>\n",
       "      <td>NaN</td>\n",
       "      <td>6.8</td>\n",
       "      <td>фантастика,боевик,триллер</td>\n",
       "      <td>NaN</td>\n",
       "    </tr>\n",
       "    <tr>\n",
       "      <th>4</th>\n",
       "      <td>Особо опасен</td>\n",
       "      <td>221030815</td>\n",
       "      <td>2015-07-29T12:00:00.000Z</td>\n",
       "      <td>Художественный</td>\n",
       "      <td>Юниверсал Пикчерз, Кикстарт Продакшнз, Марк Пл...</td>\n",
       "      <td>США</td>\n",
       "      <td>Тимур Бекмамбетов</td>\n",
       "      <td>Джим Лемли, Джейсон Нетер, Марк Е.Платт, Яйн Смит</td>\n",
       "      <td>«18+» - запрещено для детей</td>\n",
       "      <td>NaN</td>\n",
       "      <td>NaN</td>\n",
       "      <td>NaN</td>\n",
       "      <td>NaN</td>\n",
       "      <td>6.8</td>\n",
       "      <td>фантастика,боевик,триллер</td>\n",
       "      <td>NaN</td>\n",
       "    </tr>\n",
       "    <tr>\n",
       "      <th>5</th>\n",
       "      <td>Остановился поезд</td>\n",
       "      <td>111013816</td>\n",
       "      <td>2016-09-13T12:00:00.000Z</td>\n",
       "      <td>Художественный</td>\n",
       "      <td>Киностудия \"Мосфильм\"</td>\n",
       "      <td>СССР</td>\n",
       "      <td>В.Абдрашитов</td>\n",
       "      <td>NaN</td>\n",
       "      <td>«6+» - для детей старше 6 лет</td>\n",
       "      <td>NaN</td>\n",
       "      <td>NaN</td>\n",
       "      <td>NaN</td>\n",
       "      <td>NaN</td>\n",
       "      <td>7.7</td>\n",
       "      <td>драма</td>\n",
       "      <td>NaN</td>\n",
       "    </tr>\n",
       "    <tr>\n",
       "      <th>6</th>\n",
       "      <td>Любовь и голуби</td>\n",
       "      <td>111007013</td>\n",
       "      <td>2013-10-18T12:00:00.000Z</td>\n",
       "      <td>Художественный</td>\n",
       "      <td>Киностудия \"Мосфильм\"</td>\n",
       "      <td>СССР</td>\n",
       "      <td>В.Меньшов</td>\n",
       "      <td>NaN</td>\n",
       "      <td>«12+» - для детей старше 12 лет</td>\n",
       "      <td>NaN</td>\n",
       "      <td>NaN</td>\n",
       "      <td>NaN</td>\n",
       "      <td>NaN</td>\n",
       "      <td>8.3</td>\n",
       "      <td>мелодрама,комедия</td>\n",
       "      <td>2,700.0</td>\n",
       "    </tr>\n",
       "    <tr>\n",
       "      <th>7</th>\n",
       "      <td>Любовь и сигареты</td>\n",
       "      <td>221074614</td>\n",
       "      <td>2014-12-29T12:00:00.000Z</td>\n",
       "      <td>Художественный</td>\n",
       "      <td>Юнайтед Артистс, Грин Стрит Филмз, Айкон Интер...</td>\n",
       "      <td>США</td>\n",
       "      <td>Джон Туртурро</td>\n",
       "      <td>Джон Пенотти, Джон Туртурро</td>\n",
       "      <td>«18+» - запрещено для детей</td>\n",
       "      <td>NaN</td>\n",
       "      <td>NaN</td>\n",
       "      <td>NaN</td>\n",
       "      <td>NaN</td>\n",
       "      <td>6.6</td>\n",
       "      <td>мюзикл,мелодрама,комедия</td>\n",
       "      <td>NaN</td>\n",
       "    </tr>\n",
       "    <tr>\n",
       "      <th>8</th>\n",
       "      <td>Отпетые мошенники.</td>\n",
       "      <td>121011416</td>\n",
       "      <td>2016-05-05T12:00:00.000Z</td>\n",
       "      <td>Художественный</td>\n",
       "      <td>Пульсар Продюксьон, ТФ1 Фильм</td>\n",
       "      <td>Франция</td>\n",
       "      <td>Эрик Беснард</td>\n",
       "      <td>Патрис Леду</td>\n",
       "      <td>«18+» - запрещено для детей</td>\n",
       "      <td>NaN</td>\n",
       "      <td>NaN</td>\n",
       "      <td>NaN</td>\n",
       "      <td>NaN</td>\n",
       "      <td>8.0</td>\n",
       "      <td>комедия,криминал</td>\n",
       "      <td>NaN</td>\n",
       "    </tr>\n",
       "    <tr>\n",
       "      <th>9</th>\n",
       "      <td>Отпуск за свой счет</td>\n",
       "      <td>111019114</td>\n",
       "      <td>2014-12-01T12:00:00.000Z</td>\n",
       "      <td>Художественный</td>\n",
       "      <td>Киностудия \"Мосфильм\", Телевидение ВНР</td>\n",
       "      <td>СССР, Венгрия</td>\n",
       "      <td>В.Титов</td>\n",
       "      <td>NaN</td>\n",
       "      <td>«12+» - для детей старше 12 лет</td>\n",
       "      <td>NaN</td>\n",
       "      <td>NaN</td>\n",
       "      <td>NaN</td>\n",
       "      <td>NaN</td>\n",
       "      <td>7.8</td>\n",
       "      <td>мелодрама,комедия</td>\n",
       "      <td>NaN</td>\n",
       "    </tr>\n",
       "  </tbody>\n",
       "</table>\n",
       "</div>"
      ],
      "text/plain": [
       "                  title   puNumber           show_start_date            type  \\\n",
       "0      Открытый простор  221048915  2015-11-27T12:00:00.000Z  Художественный   \n",
       "1  Особо важное задание  111013716  2016-09-13T12:00:00.000Z  Художественный   \n",
       "2          Особо опасен  221038416  2016-10-10T12:00:00.000Z  Художественный   \n",
       "3          Особо опасен  221026916  2016-06-10T12:00:00.000Z  Художественный   \n",
       "4          Особо опасен  221030815  2015-07-29T12:00:00.000Z  Художественный   \n",
       "5     Остановился поезд  111013816  2016-09-13T12:00:00.000Z  Художественный   \n",
       "6       Любовь и голуби  111007013  2013-10-18T12:00:00.000Z  Художественный   \n",
       "7     Любовь и сигареты  221074614  2014-12-29T12:00:00.000Z  Художественный   \n",
       "8    Отпетые мошенники.  121011416  2016-05-05T12:00:00.000Z  Художественный   \n",
       "9   Отпуск за свой счет  111019114  2014-12-01T12:00:00.000Z  Художественный   \n",
       "\n",
       "                                         film_studio production_country  \\\n",
       "0  Тачстоун Пикчерз, Кобальт Пикчерз, Бикон Пикче...                США   \n",
       "1                              Киностудия \"Мосфильм\"               СССР   \n",
       "2  Юниверсал Пикчерз, Кикстарт Продакшнз, Марк Пл...                США   \n",
       "3  Юниверсал Пикчерз, Кикстарт Продакшнз, Марк Пл...                США   \n",
       "4  Юниверсал Пикчерз, Кикстарт Продакшнз, Марк Пл...                США   \n",
       "5                              Киностудия \"Мосфильм\"               СССР   \n",
       "6                              Киностудия \"Мосфильм\"               СССР   \n",
       "7  Юнайтед Артистс, Грин Стрит Филмз, Айкон Интер...                США   \n",
       "8                     Пульсар Продюксьон, ТФ1 Фильм             Франция   \n",
       "9             Киностудия \"Мосфильм\", Телевидение ВНР      СССР, Венгрия   \n",
       "\n",
       "            director                                           producer  \\\n",
       "0      Кевин Костнер          Дэвид Валдес, Кевин Костнер, Джейк Эбертс   \n",
       "1          Е.Матвеев                                                NaN   \n",
       "2  Тимур Бекмамбетов  Джим Лемли, Джейсон Нетер, Марк Е.Платт, Яйн Смит   \n",
       "3  Тимур Бекмамбетов  Джим Лемли, Джейсон Нетер, Марк Е.Платт, Яйн Смит   \n",
       "4  Тимур Бекмамбетов  Джим Лемли, Джейсон Нетер, Марк Е.Платт, Яйн Смит   \n",
       "5       В.Абдрашитов                                                NaN   \n",
       "6          В.Меньшов                                                NaN   \n",
       "7      Джон Туртурро                        Джон Пенотти, Джон Туртурро   \n",
       "8       Эрик Беснард                                        Патрис Леду   \n",
       "9            В.Титов                                                NaN   \n",
       "\n",
       "                   age_restriction  refundable_support  nonrefundable_support  \\\n",
       "0      «18+» - запрещено для детей                 NaN                    NaN   \n",
       "1    «6+» - для детей старше 6 лет                 NaN                    NaN   \n",
       "2      «18+» - запрещено для детей                 NaN                    NaN   \n",
       "3      «18+» - запрещено для детей                 NaN                    NaN   \n",
       "4      «18+» - запрещено для детей                 NaN                    NaN   \n",
       "5    «6+» - для детей старше 6 лет                 NaN                    NaN   \n",
       "6  «12+» - для детей старше 12 лет                 NaN                    NaN   \n",
       "7      «18+» - запрещено для детей                 NaN                    NaN   \n",
       "8      «18+» - запрещено для детей                 NaN                    NaN   \n",
       "9  «12+» - для детей старше 12 лет                 NaN                    NaN   \n",
       "\n",
       "   budget financing_source ratings                     genres  box_office  \n",
       "0     NaN              NaN     7.2     боевик,драма,мелодрама         NaN  \n",
       "1     NaN              NaN     6.6              драма,военный         NaN  \n",
       "2     NaN              NaN     6.8  фантастика,боевик,триллер         NaN  \n",
       "3     NaN              NaN     6.8  фантастика,боевик,триллер         NaN  \n",
       "4     NaN              NaN     6.8  фантастика,боевик,триллер         NaN  \n",
       "5     NaN              NaN     7.7                      драма         NaN  \n",
       "6     NaN              NaN     8.3          мелодрама,комедия     2,700.0  \n",
       "7     NaN              NaN     6.6   мюзикл,мелодрама,комедия         NaN  \n",
       "8     NaN              NaN     8.0           комедия,криминал         NaN  \n",
       "9     NaN              NaN     7.8          мелодрама,комедия         NaN  "
      ]
     },
     "execution_count": 12,
     "metadata": {},
     "output_type": "execute_result"
    }
   ],
   "source": [
    "data = data_movies.merge(data_shows, on='puNumber', how='left') #обьединение таблиц\n",
    "data.head(10)"
   ]
  },
  {
   "cell_type": "code",
   "execution_count": 13,
   "metadata": {},
   "outputs": [
    {
     "data": {
      "text/html": [
       "<div>\n",
       "<style scoped>\n",
       "    .dataframe tbody tr th:only-of-type {\n",
       "        vertical-align: middle;\n",
       "    }\n",
       "\n",
       "    .dataframe tbody tr th {\n",
       "        vertical-align: top;\n",
       "    }\n",
       "\n",
       "    .dataframe thead th {\n",
       "        text-align: right;\n",
       "    }\n",
       "</style>\n",
       "<table border=\"1\" class=\"dataframe\">\n",
       "  <thead>\n",
       "    <tr style=\"text-align: right;\">\n",
       "      <th></th>\n",
       "      <th>puNumber</th>\n",
       "      <th>refundable_support</th>\n",
       "      <th>nonrefundable_support</th>\n",
       "      <th>budget</th>\n",
       "      <th>box_office</th>\n",
       "    </tr>\n",
       "  </thead>\n",
       "  <tbody>\n",
       "    <tr>\n",
       "      <th>count</th>\n",
       "      <td>7,486.0</td>\n",
       "      <td>332.0</td>\n",
       "      <td>332.0</td>\n",
       "      <td>332.0</td>\n",
       "      <td>3,158.0</td>\n",
       "    </tr>\n",
       "    <tr>\n",
       "      <th>mean</th>\n",
       "      <td>135,178,527.6</td>\n",
       "      <td>11,864,457.8</td>\n",
       "      <td>48,980,988.9</td>\n",
       "      <td>127,229,716.7</td>\n",
       "      <td>76,478,696.2</td>\n",
       "    </tr>\n",
       "    <tr>\n",
       "      <th>std</th>\n",
       "      <td>38,382,177.4</td>\n",
       "      <td>24,916,555.3</td>\n",
       "      <td>59,980,117.9</td>\n",
       "      <td>188,588,333.1</td>\n",
       "      <td>240,353,122.8</td>\n",
       "    </tr>\n",
       "    <tr>\n",
       "      <th>min</th>\n",
       "      <td>0.0</td>\n",
       "      <td>0.0</td>\n",
       "      <td>0.0</td>\n",
       "      <td>0.0</td>\n",
       "      <td>0.0</td>\n",
       "    </tr>\n",
       "    <tr>\n",
       "      <th>25%</th>\n",
       "      <td>112,025,043.0</td>\n",
       "      <td>0.0</td>\n",
       "      <td>25,000,000.0</td>\n",
       "      <td>42,000,000.0</td>\n",
       "      <td>86,239.0</td>\n",
       "    </tr>\n",
       "    <tr>\n",
       "      <th>50%</th>\n",
       "      <td>121,015,464.5</td>\n",
       "      <td>0.0</td>\n",
       "      <td>30,000,000.0</td>\n",
       "      <td>68,649,916.0</td>\n",
       "      <td>2,327,987.5</td>\n",
       "    </tr>\n",
       "    <tr>\n",
       "      <th>75%</th>\n",
       "      <td>124,003,313.8</td>\n",
       "      <td>15,000,000.0</td>\n",
       "      <td>40,375,000.0</td>\n",
       "      <td>141,985,319.5</td>\n",
       "      <td>23,979,671.0</td>\n",
       "    </tr>\n",
       "    <tr>\n",
       "      <th>max</th>\n",
       "      <td>231,001,111.0</td>\n",
       "      <td>180,000,000.0</td>\n",
       "      <td>400,000,000.0</td>\n",
       "      <td>2,305,074,303.0</td>\n",
       "      <td>3,073,568,690.8</td>\n",
       "    </tr>\n",
       "  </tbody>\n",
       "</table>\n",
       "</div>"
      ],
      "text/plain": [
       "           puNumber  refundable_support  nonrefundable_support  \\\n",
       "count       7,486.0               332.0                  332.0   \n",
       "mean  135,178,527.6        11,864,457.8           48,980,988.9   \n",
       "std    38,382,177.4        24,916,555.3           59,980,117.9   \n",
       "min             0.0                 0.0                    0.0   \n",
       "25%   112,025,043.0                 0.0           25,000,000.0   \n",
       "50%   121,015,464.5                 0.0           30,000,000.0   \n",
       "75%   124,003,313.8        15,000,000.0           40,375,000.0   \n",
       "max   231,001,111.0       180,000,000.0          400,000,000.0   \n",
       "\n",
       "               budget      box_office  \n",
       "count           332.0         3,158.0  \n",
       "mean    127,229,716.7    76,478,696.2  \n",
       "std     188,588,333.1   240,353,122.8  \n",
       "min               0.0             0.0  \n",
       "25%      42,000,000.0        86,239.0  \n",
       "50%      68,649,916.0     2,327,987.5  \n",
       "75%     141,985,319.5    23,979,671.0  \n",
       "max   2,305,074,303.0 3,073,568,690.8  "
      ]
     },
     "execution_count": 13,
     "metadata": {},
     "output_type": "execute_result"
    }
   ],
   "source": [
    "data.describe()"
   ]
  },
  {
   "cell_type": "markdown",
   "metadata": {},
   "source": [
    "Перед этапом предобработки данных была изучена общая информация о данных датасетов.\n",
    "Были выявлены и обработаны нечисловые значения в столбце `puNumber`, обьединены таблицы по днныму полю и проведена проверка данных."
   ]
  },
  {
   "cell_type": "markdown",
   "metadata": {
    "id": "KLDGpPG0gFyM"
   },
   "source": [
    "### Шаг 2. Предобработка данных"
   ]
  },
  {
   "cell_type": "markdown",
   "metadata": {
    "id": "ssWwKXsxgFyO"
   },
   "source": [
    "#### Шаг 2.1. Проверка типов данных\n",
    "\n",
    "- Проверьте типы данных в датафрейме и преобразуйте их там, где это необходимо."
   ]
  },
  {
   "cell_type": "code",
   "execution_count": 14,
   "metadata": {},
   "outputs": [],
   "source": [
    "data['show_start_date'] = pd.to_datetime(data['show_start_date'], format='%Y-%m-%dT%H:%M:%S')"
   ]
  },
  {
   "cell_type": "code",
   "execution_count": 15,
   "metadata": {},
   "outputs": [
    {
     "data": {
      "text/plain": [
       "array(['7.2', '6.6', '6.8', '7.7', '8.3', '8.0', '7.8', '8.1', '7.1',\n",
       "       '6.0', '7.4', '5.8', '8.7', '6.3', '6.9', '5.0', '4.3', '7.3',\n",
       "       '7.0', '6.4', nan, '8.2', '7.5', '6.7', '7.9', '5.9', '6.2', '5.6',\n",
       "       '6.5', '2.4', '7.6', '6.1', '8.6', '8.5', '8.8', '5.5', '5.1',\n",
       "       '5.7', '5.4', '99%', '4.4', '4.5', '5.3', '4.1', '8.4', '2.6',\n",
       "       '3.8', '4.6', '4.8', '4.0', '3.0', '1.6', '4.2', '5.2', '4.7',\n",
       "       '4.9', '3.9', '2.7', '3.3', '2.9', '28%', '3.7', '1.4', '3.1',\n",
       "       '97%', '3.5', '3.2', '2.8', '1.5', '2.1', '2.5', '9.2', '3.4',\n",
       "       '1.1', '3.6', '83%', '64%', '91%', '94%', '62%', '79%', '90%',\n",
       "       '19%', '88%', '1.0', '89%', '1.3', '1.9', '1.8', '1.2', '1.7',\n",
       "       '9.0', '98%', '8.9', '9.1'], dtype=object)"
      ]
     },
     "execution_count": 15,
     "metadata": {},
     "output_type": "execute_result"
    }
   ],
   "source": [
    "data['ratings'].unique()"
   ]
  },
  {
   "cell_type": "code",
   "execution_count": 16,
   "metadata": {},
   "outputs": [],
   "source": [
    "data['ratings'] = data['ratings'].replace('\\%', '', regex = True)"
   ]
  },
  {
   "cell_type": "code",
   "execution_count": 17,
   "metadata": {},
   "outputs": [],
   "source": [
    "data['ratings']= data['ratings'].astype('float64') "
   ]
  },
  {
   "cell_type": "code",
   "execution_count": 18,
   "metadata": {},
   "outputs": [],
   "source": [
    "data.loc[data['ratings'] > 10, 'ratings'] = data['ratings']/10"
   ]
  },
  {
   "cell_type": "code",
   "execution_count": 19,
   "metadata": {},
   "outputs": [
    {
     "data": {
      "text/plain": [
       "array([7.2, 6.6, 6.8, 7.7, 8.3, 8. , 7.8, 8.1, 7.1, 6. , 7.4, 5.8, 8.7,\n",
       "       6.3, 6.9, 5. , 4.3, 7.3, 7. , 6.4, nan, 8.2, 7.5, 6.7, 7.9, 5.9,\n",
       "       6.2, 5.6, 6.5, 2.4, 7.6, 6.1, 8.6, 8.5, 8.8, 5.5, 5.1, 5.7, 5.4,\n",
       "       9.9, 4.4, 4.5, 5.3, 4.1, 8.4, 2.6, 3.8, 4.6, 4.8, 4. , 3. , 1.6,\n",
       "       4.2, 5.2, 4.7, 4.9, 3.9, 2.7, 3.3, 2.9, 2.8, 3.7, 1.4, 3.1, 9.7,\n",
       "       3.5, 3.2, 1.5, 2.1, 2.5, 9.2, 3.4, 1.1, 3.6, 9.1, 9.4, 9. , 1.9,\n",
       "       1. , 8.9, 1.3, 1.8, 1.2, 1.7, 9.8])"
      ]
     },
     "execution_count": 19,
     "metadata": {},
     "output_type": "execute_result"
    }
   ],
   "source": [
    "data['ratings'].unique()"
   ]
  },
  {
   "cell_type": "code",
   "execution_count": 20,
   "metadata": {},
   "outputs": [
    {
     "name": "stdout",
     "output_type": "stream",
     "text": [
      "<class 'pandas.core.frame.DataFrame'>\n",
      "Int64Index: 7486 entries, 0 to 7485\n",
      "Data columns (total 16 columns):\n",
      " #   Column                 Non-Null Count  Dtype              \n",
      "---  ------                 --------------  -----              \n",
      " 0   title                  7486 non-null   object             \n",
      " 1   puNumber               7486 non-null   int64              \n",
      " 2   show_start_date        7486 non-null   datetime64[ns, UTC]\n",
      " 3   type                   7486 non-null   object             \n",
      " 4   film_studio            7468 non-null   object             \n",
      " 5   production_country     7484 non-null   object             \n",
      " 6   director               7477 non-null   object             \n",
      " 7   producer               6918 non-null   object             \n",
      " 8   age_restriction        7486 non-null   object             \n",
      " 9   refundable_support     332 non-null    float64            \n",
      " 10  nonrefundable_support  332 non-null    float64            \n",
      " 11  budget                 332 non-null    float64            \n",
      " 12  financing_source       332 non-null    object             \n",
      " 13  ratings                6519 non-null   float64            \n",
      " 14  genres                 6510 non-null   object             \n",
      " 15  box_office             3158 non-null   float64            \n",
      "dtypes: datetime64[ns, UTC](1), float64(5), int64(1), object(9)\n",
      "memory usage: 1.2+ MB\n"
     ]
    }
   ],
   "source": [
    "data.info()"
   ]
  },
  {
   "cell_type": "markdown",
   "metadata": {},
   "source": [
    "Изменены типы данных в колонках:\n",
    "- show_start_date — приведены к Datetime \n",
    "- ratings — переведены проценты в float"
   ]
  },
  {
   "cell_type": "markdown",
   "metadata": {
    "id": "i0MOLbF-gFyP"
   },
   "source": [
    "#### Шаг 2.2. Изучение пропусков в датафрейме"
   ]
  },
  {
   "cell_type": "code",
   "execution_count": 21,
   "metadata": {
    "id": "8MJD_lkngFyP"
   },
   "outputs": [
    {
     "data": {
      "text/plain": [
       "title                       0\n",
       "puNumber                    0\n",
       "show_start_date             0\n",
       "type                        0\n",
       "film_studio                18\n",
       "production_country          2\n",
       "director                    9\n",
       "producer                  568\n",
       "age_restriction             0\n",
       "refundable_support       7154\n",
       "nonrefundable_support    7154\n",
       "budget                   7154\n",
       "financing_source         7154\n",
       "ratings                   967\n",
       "genres                    976\n",
       "box_office               4328\n",
       "dtype: int64"
      ]
     },
     "execution_count": 21,
     "metadata": {},
     "output_type": "execute_result"
    }
   ],
   "source": [
    "data.isna().sum()"
   ]
  },
  {
   "cell_type": "markdown",
   "metadata": {},
   "source": [
    "Необходимо заполнить пропуски в данных, чтобы анализ был более корректный:\n",
    "\n",
    "- film_studio - пропущенные данные нельзя определить, оставляем как есть;\n",
    "- production_country - замена на данные из открытых источников;\n",
    "- director, producer, genres - данные не критичны для анализа, оставляем пропуски;\n",
    "- refundable_support, nonrefundable_support, budget - пропуски почти во всей таблице, данные фильмы не были профинансированы государством, заменяем пропуски на 0 (нет финансирования) для удобства расчета;\n",
    "- ratings - не все фильмы имеют оценки, оставляем пропуски;\n",
    "- box_office - столбец из другого датасета, перенесены все данные, оставляем пропуски, заменяем NaN на 0."
   ]
  },
  {
   "cell_type": "code",
   "execution_count": 22,
   "metadata": {},
   "outputs": [
    {
     "data": {
      "text/html": [
       "<div>\n",
       "<style scoped>\n",
       "    .dataframe tbody tr th:only-of-type {\n",
       "        vertical-align: middle;\n",
       "    }\n",
       "\n",
       "    .dataframe tbody tr th {\n",
       "        vertical-align: top;\n",
       "    }\n",
       "\n",
       "    .dataframe thead th {\n",
       "        text-align: right;\n",
       "    }\n",
       "</style>\n",
       "<table border=\"1\" class=\"dataframe\">\n",
       "  <thead>\n",
       "    <tr style=\"text-align: right;\">\n",
       "      <th></th>\n",
       "      <th>title</th>\n",
       "      <th>puNumber</th>\n",
       "      <th>show_start_date</th>\n",
       "      <th>type</th>\n",
       "      <th>film_studio</th>\n",
       "      <th>production_country</th>\n",
       "      <th>director</th>\n",
       "      <th>producer</th>\n",
       "      <th>age_restriction</th>\n",
       "      <th>refundable_support</th>\n",
       "      <th>nonrefundable_support</th>\n",
       "      <th>budget</th>\n",
       "      <th>financing_source</th>\n",
       "      <th>ratings</th>\n",
       "      <th>genres</th>\n",
       "      <th>box_office</th>\n",
       "    </tr>\n",
       "  </thead>\n",
       "  <tbody>\n",
       "    <tr>\n",
       "      <th>1293</th>\n",
       "      <td>Stars in Shorts</td>\n",
       "      <td>121011114</td>\n",
       "      <td>2014-06-03 12:00:00+00:00</td>\n",
       "      <td>Художественный</td>\n",
       "      <td>NaN</td>\n",
       "      <td>США, Великобритания</td>\n",
       "      <td>Роберт Фестингер, Руперт Френд, Джей Камен, Ни...</td>\n",
       "      <td>Татьяна Келли, Роберта Мунро, Руперт Френд, До...</td>\n",
       "      <td>«16+» - для детей старше 16 лет</td>\n",
       "      <td>NaN</td>\n",
       "      <td>NaN</td>\n",
       "      <td>NaN</td>\n",
       "      <td>NaN</td>\n",
       "      <td>7.3</td>\n",
       "      <td>комедия</td>\n",
       "      <td>NaN</td>\n",
       "    </tr>\n",
       "    <tr>\n",
       "      <th>4441</th>\n",
       "      <td>Мульт личности. Выпуск 5</td>\n",
       "      <td>214000410</td>\n",
       "      <td>2010-01-25 12:00:00+00:00</td>\n",
       "      <td>Художественный</td>\n",
       "      <td>NaN</td>\n",
       "      <td>NaN</td>\n",
       "      <td>NaN</td>\n",
       "      <td>NaN</td>\n",
       "      <td>«0+» - для любой зрительской аудитории</td>\n",
       "      <td>NaN</td>\n",
       "      <td>NaN</td>\n",
       "      <td>NaN</td>\n",
       "      <td>NaN</td>\n",
       "      <td>4.0</td>\n",
       "      <td>мультфильм,комедия</td>\n",
       "      <td>NaN</td>\n",
       "    </tr>\n",
       "    <tr>\n",
       "      <th>6105</th>\n",
       "      <td>Значит любит</td>\n",
       "      <td>111013818</td>\n",
       "      <td>2018-08-10 12:00:00+00:00</td>\n",
       "      <td>Художественный</td>\n",
       "      <td>NaN</td>\n",
       "      <td>Россия</td>\n",
       "      <td>А.Краевский</td>\n",
       "      <td>Е.Щербакова</td>\n",
       "      <td>«18+» - запрещено для детей</td>\n",
       "      <td>NaN</td>\n",
       "      <td>NaN</td>\n",
       "      <td>NaN</td>\n",
       "      <td>NaN</td>\n",
       "      <td>NaN</td>\n",
       "      <td>NaN</td>\n",
       "      <td>NaN</td>\n",
       "    </tr>\n",
       "    <tr>\n",
       "      <th>6181</th>\n",
       "      <td>Несейка. Младшая дочь</td>\n",
       "      <td>112007018</td>\n",
       "      <td>2018-09-01 12:00:00+00:00</td>\n",
       "      <td>Документальный</td>\n",
       "      <td>NaN</td>\n",
       "      <td>Россия</td>\n",
       "      <td>В.Марин</td>\n",
       "      <td>Д.Якунин, Ф.Абрютин, О.Филонова</td>\n",
       "      <td>«6+» - для детей старше 6 лет</td>\n",
       "      <td>NaN</td>\n",
       "      <td>NaN</td>\n",
       "      <td>NaN</td>\n",
       "      <td>NaN</td>\n",
       "      <td>NaN</td>\n",
       "      <td>NaN</td>\n",
       "      <td>NaN</td>\n",
       "    </tr>\n",
       "    <tr>\n",
       "      <th>6379</th>\n",
       "      <td>Ян Антонышев</td>\n",
       "      <td>112011818</td>\n",
       "      <td>2018-11-15 12:00:00+00:00</td>\n",
       "      <td>Документальный</td>\n",
       "      <td>NaN</td>\n",
       "      <td>Россия</td>\n",
       "      <td>Е.Окопная</td>\n",
       "      <td>Е.Герасимов</td>\n",
       "      <td>«12+» - для детей старше 12 лет</td>\n",
       "      <td>NaN</td>\n",
       "      <td>NaN</td>\n",
       "      <td>NaN</td>\n",
       "      <td>NaN</td>\n",
       "      <td>NaN</td>\n",
       "      <td>NaN</td>\n",
       "      <td>NaN</td>\n",
       "    </tr>\n",
       "    <tr>\n",
       "      <th>6380</th>\n",
       "      <td>Ян Антонышев</td>\n",
       "      <td>112011918</td>\n",
       "      <td>2018-11-15 12:00:00+00:00</td>\n",
       "      <td>Документальный</td>\n",
       "      <td>NaN</td>\n",
       "      <td>Россия</td>\n",
       "      <td>Е.Окопная</td>\n",
       "      <td>Е.Герасимов</td>\n",
       "      <td>«12+» - для детей старше 12 лет</td>\n",
       "      <td>NaN</td>\n",
       "      <td>NaN</td>\n",
       "      <td>NaN</td>\n",
       "      <td>NaN</td>\n",
       "      <td>NaN</td>\n",
       "      <td>NaN</td>\n",
       "      <td>NaN</td>\n",
       "    </tr>\n",
       "    <tr>\n",
       "      <th>6399</th>\n",
       "      <td>Доживем до каникул?..</td>\n",
       "      <td>111021918</td>\n",
       "      <td>2018-11-15 12:00:00+00:00</td>\n",
       "      <td>Художественный</td>\n",
       "      <td>NaN</td>\n",
       "      <td>Россия</td>\n",
       "      <td>Я.Хальпукова (псевдоним Яна Мартынец)</td>\n",
       "      <td>Я.Хальпукова (псевдоним Яна Мартынец)</td>\n",
       "      <td>«12+» - для детей старше 12 лет</td>\n",
       "      <td>NaN</td>\n",
       "      <td>NaN</td>\n",
       "      <td>NaN</td>\n",
       "      <td>NaN</td>\n",
       "      <td>NaN</td>\n",
       "      <td>NaN</td>\n",
       "      <td>41,225.0</td>\n",
       "    </tr>\n",
       "    <tr>\n",
       "      <th>6485</th>\n",
       "      <td>До и После</td>\n",
       "      <td>112014418</td>\n",
       "      <td>2018-12-05 12:00:00+00:00</td>\n",
       "      <td>Документальный</td>\n",
       "      <td>NaN</td>\n",
       "      <td>Россия</td>\n",
       "      <td>А.Новокреповская</td>\n",
       "      <td>А.Новокреповская</td>\n",
       "      <td>«6+» - для детей старше 6 лет</td>\n",
       "      <td>NaN</td>\n",
       "      <td>NaN</td>\n",
       "      <td>NaN</td>\n",
       "      <td>NaN</td>\n",
       "      <td>6.9</td>\n",
       "      <td>драма,криминал,детектив</td>\n",
       "      <td>NaN</td>\n",
       "    </tr>\n",
       "    <tr>\n",
       "      <th>6494</th>\n",
       "      <td>Калмыцкий геше Нгаванг Вангьял</td>\n",
       "      <td>113002018</td>\n",
       "      <td>2018-12-05 12:00:00+00:00</td>\n",
       "      <td>Научно-популярный</td>\n",
       "      <td>NaN</td>\n",
       "      <td>Россия</td>\n",
       "      <td>И.Долгина</td>\n",
       "      <td>И.Долгина</td>\n",
       "      <td>«12+» - для детей старше 12 лет</td>\n",
       "      <td>NaN</td>\n",
       "      <td>NaN</td>\n",
       "      <td>NaN</td>\n",
       "      <td>NaN</td>\n",
       "      <td>NaN</td>\n",
       "      <td>NaN</td>\n",
       "      <td>NaN</td>\n",
       "    </tr>\n",
       "    <tr>\n",
       "      <th>6497</th>\n",
       "      <td>Мой папа Чингисхан</td>\n",
       "      <td>112014918</td>\n",
       "      <td>2018-12-06 12:00:00+00:00</td>\n",
       "      <td>Документальный</td>\n",
       "      <td>NaN</td>\n",
       "      <td>Россия</td>\n",
       "      <td>А.Сайфуллина</td>\n",
       "      <td>А.Сайфуллина</td>\n",
       "      <td>«12+» - для детей старше 12 лет</td>\n",
       "      <td>NaN</td>\n",
       "      <td>NaN</td>\n",
       "      <td>NaN</td>\n",
       "      <td>NaN</td>\n",
       "      <td>NaN</td>\n",
       "      <td>NaN</td>\n",
       "      <td>NaN</td>\n",
       "    </tr>\n",
       "    <tr>\n",
       "      <th>6498</th>\n",
       "      <td>В плену города грёз</td>\n",
       "      <td>112014818</td>\n",
       "      <td>2018-12-06 12:00:00+00:00</td>\n",
       "      <td>Документальный</td>\n",
       "      <td>NaN</td>\n",
       "      <td>Россия</td>\n",
       "      <td>В.Витовцев</td>\n",
       "      <td>О.Мичи</td>\n",
       "      <td>«18+» - запрещено для детей</td>\n",
       "      <td>NaN</td>\n",
       "      <td>NaN</td>\n",
       "      <td>NaN</td>\n",
       "      <td>NaN</td>\n",
       "      <td>7.9</td>\n",
       "      <td>фантастика,боевик,триллер</td>\n",
       "      <td>NaN</td>\n",
       "    </tr>\n",
       "    <tr>\n",
       "      <th>6499</th>\n",
       "      <td>Последнее фото</td>\n",
       "      <td>112014518</td>\n",
       "      <td>2018-12-06 12:00:00+00:00</td>\n",
       "      <td>Документальный</td>\n",
       "      <td>NaN</td>\n",
       "      <td>Россия</td>\n",
       "      <td>Е.Севастьянов</td>\n",
       "      <td>Е.Севастьянов</td>\n",
       "      <td>«18+» - запрещено для детей</td>\n",
       "      <td>NaN</td>\n",
       "      <td>NaN</td>\n",
       "      <td>NaN</td>\n",
       "      <td>NaN</td>\n",
       "      <td>NaN</td>\n",
       "      <td>NaN</td>\n",
       "      <td>NaN</td>\n",
       "    </tr>\n",
       "    <tr>\n",
       "      <th>6507</th>\n",
       "      <td>Мой селфхарм</td>\n",
       "      <td>113001918</td>\n",
       "      <td>2018-12-06 12:00:00+00:00</td>\n",
       "      <td>Научно-популярный</td>\n",
       "      <td>NaN</td>\n",
       "      <td>Россия</td>\n",
       "      <td>Я.Лаптев (псевдоним Яков Раскалов)</td>\n",
       "      <td>Я.Лаптев (псевдоним Яков Раскалов)</td>\n",
       "      <td>«18+» - запрещено для детей</td>\n",
       "      <td>NaN</td>\n",
       "      <td>NaN</td>\n",
       "      <td>NaN</td>\n",
       "      <td>NaN</td>\n",
       "      <td>NaN</td>\n",
       "      <td>NaN</td>\n",
       "      <td>NaN</td>\n",
       "    </tr>\n",
       "    <tr>\n",
       "      <th>6511</th>\n",
       "      <td>Обстоятельства места и времени</td>\n",
       "      <td>112015018</td>\n",
       "      <td>2018-12-12 12:00:00+00:00</td>\n",
       "      <td>Документальный</td>\n",
       "      <td>NaN</td>\n",
       "      <td>Россия</td>\n",
       "      <td>Д.Кабаков</td>\n",
       "      <td>Д.Кабаков</td>\n",
       "      <td>«12+» - для детей старше 12 лет</td>\n",
       "      <td>NaN</td>\n",
       "      <td>NaN</td>\n",
       "      <td>NaN</td>\n",
       "      <td>NaN</td>\n",
       "      <td>NaN</td>\n",
       "      <td>NaN</td>\n",
       "      <td>NaN</td>\n",
       "    </tr>\n",
       "    <tr>\n",
       "      <th>6638</th>\n",
       "      <td>Эрик Булатов. Моя Третьяковка, серии 1-2</td>\n",
       "      <td>113000319</td>\n",
       "      <td>2019-01-28 12:00:00+00:00</td>\n",
       "      <td>Научно-популярный</td>\n",
       "      <td>NaN</td>\n",
       "      <td>Россия</td>\n",
       "      <td>С.Гарькавый</td>\n",
       "      <td>Т.Пинская</td>\n",
       "      <td>«6+» - для детей старше 6 лет</td>\n",
       "      <td>NaN</td>\n",
       "      <td>NaN</td>\n",
       "      <td>NaN</td>\n",
       "      <td>NaN</td>\n",
       "      <td>NaN</td>\n",
       "      <td>NaN</td>\n",
       "      <td>NaN</td>\n",
       "    </tr>\n",
       "    <tr>\n",
       "      <th>6639</th>\n",
       "      <td>Брови</td>\n",
       "      <td>111000719</td>\n",
       "      <td>2019-03-01 12:00:00+00:00</td>\n",
       "      <td>Художественный</td>\n",
       "      <td>NaN</td>\n",
       "      <td>Россия</td>\n",
       "      <td>О.Штром</td>\n",
       "      <td>В.Максимов, В.Степанов, Г.Киракосян, О.Штром</td>\n",
       "      <td>«16+» - для детей старше 16 лет</td>\n",
       "      <td>NaN</td>\n",
       "      <td>NaN</td>\n",
       "      <td>NaN</td>\n",
       "      <td>NaN</td>\n",
       "      <td>NaN</td>\n",
       "      <td>NaN</td>\n",
       "      <td>NaN</td>\n",
       "    </tr>\n",
       "    <tr>\n",
       "      <th>6662</th>\n",
       "      <td>Топливо</td>\n",
       "      <td>111001419</td>\n",
       "      <td>2019-02-12 12:00:00+00:00</td>\n",
       "      <td>Художественный</td>\n",
       "      <td>NaN</td>\n",
       "      <td>Россия</td>\n",
       "      <td>М.Архипов</td>\n",
       "      <td>М.Архипов</td>\n",
       "      <td>«12+» - для детей старше 12 лет</td>\n",
       "      <td>NaN</td>\n",
       "      <td>NaN</td>\n",
       "      <td>NaN</td>\n",
       "      <td>NaN</td>\n",
       "      <td>6.1</td>\n",
       "      <td>короткометражка,фантастика</td>\n",
       "      <td>NaN</td>\n",
       "    </tr>\n",
       "    <tr>\n",
       "      <th>6722</th>\n",
       "      <td>Путешествие в Париж</td>\n",
       "      <td>111002919</td>\n",
       "      <td>2019-03-01 12:00:00+00:00</td>\n",
       "      <td>Художественный</td>\n",
       "      <td>NaN</td>\n",
       "      <td>Россия</td>\n",
       "      <td>М.Олейник (псевдоним - Мария Полякова)</td>\n",
       "      <td>Н.Савко</td>\n",
       "      <td>«16+» - для детей старше 16 лет</td>\n",
       "      <td>NaN</td>\n",
       "      <td>NaN</td>\n",
       "      <td>NaN</td>\n",
       "      <td>NaN</td>\n",
       "      <td>NaN</td>\n",
       "      <td>NaN</td>\n",
       "      <td>NaN</td>\n",
       "    </tr>\n",
       "  </tbody>\n",
       "</table>\n",
       "</div>"
      ],
      "text/plain": [
       "                                         title   puNumber  \\\n",
       "1293                           Stars in Shorts  121011114   \n",
       "4441                  Мульт личности. Выпуск 5  214000410   \n",
       "6105                              Значит любит  111013818   \n",
       "6181                     Несейка. Младшая дочь  112007018   \n",
       "6379                              Ян Антонышев  112011818   \n",
       "6380                              Ян Антонышев  112011918   \n",
       "6399                     Доживем до каникул?..  111021918   \n",
       "6485                                До и После  112014418   \n",
       "6494            Калмыцкий геше Нгаванг Вангьял  113002018   \n",
       "6497                        Мой папа Чингисхан  112014918   \n",
       "6498                       В плену города грёз  112014818   \n",
       "6499                            Последнее фото  112014518   \n",
       "6507                              Мой селфхарм  113001918   \n",
       "6511            Обстоятельства места и времени  112015018   \n",
       "6638  Эрик Булатов. Моя Третьяковка, серии 1-2  113000319   \n",
       "6639                                     Брови  111000719   \n",
       "6662                                   Топливо  111001419   \n",
       "6722                       Путешествие в Париж  111002919   \n",
       "\n",
       "               show_start_date               type film_studio  \\\n",
       "1293 2014-06-03 12:00:00+00:00     Художественный         NaN   \n",
       "4441 2010-01-25 12:00:00+00:00     Художественный         NaN   \n",
       "6105 2018-08-10 12:00:00+00:00     Художественный         NaN   \n",
       "6181 2018-09-01 12:00:00+00:00     Документальный         NaN   \n",
       "6379 2018-11-15 12:00:00+00:00     Документальный         NaN   \n",
       "6380 2018-11-15 12:00:00+00:00     Документальный         NaN   \n",
       "6399 2018-11-15 12:00:00+00:00     Художественный         NaN   \n",
       "6485 2018-12-05 12:00:00+00:00     Документальный         NaN   \n",
       "6494 2018-12-05 12:00:00+00:00  Научно-популярный         NaN   \n",
       "6497 2018-12-06 12:00:00+00:00     Документальный         NaN   \n",
       "6498 2018-12-06 12:00:00+00:00     Документальный         NaN   \n",
       "6499 2018-12-06 12:00:00+00:00     Документальный         NaN   \n",
       "6507 2018-12-06 12:00:00+00:00  Научно-популярный         NaN   \n",
       "6511 2018-12-12 12:00:00+00:00     Документальный         NaN   \n",
       "6638 2019-01-28 12:00:00+00:00  Научно-популярный         NaN   \n",
       "6639 2019-03-01 12:00:00+00:00     Художественный         NaN   \n",
       "6662 2019-02-12 12:00:00+00:00     Художественный         NaN   \n",
       "6722 2019-03-01 12:00:00+00:00     Художественный         NaN   \n",
       "\n",
       "       production_country                                           director  \\\n",
       "1293  США, Великобритания  Роберт Фестингер, Руперт Френд, Джей Камен, Ни...   \n",
       "4441                  NaN                                                NaN   \n",
       "6105               Россия                                        А.Краевский   \n",
       "6181               Россия                                            В.Марин   \n",
       "6379               Россия                                          Е.Окопная   \n",
       "6380               Россия                                          Е.Окопная   \n",
       "6399               Россия              Я.Хальпукова (псевдоним Яна Мартынец)   \n",
       "6485               Россия                                   А.Новокреповская   \n",
       "6494               Россия                                          И.Долгина   \n",
       "6497               Россия                                       А.Сайфуллина   \n",
       "6498               Россия                                         В.Витовцев   \n",
       "6499               Россия                                      Е.Севастьянов   \n",
       "6507               Россия                 Я.Лаптев (псевдоним Яков Раскалов)   \n",
       "6511               Россия                                          Д.Кабаков   \n",
       "6638               Россия                                        С.Гарькавый   \n",
       "6639               Россия                                            О.Штром   \n",
       "6662               Россия                                          М.Архипов   \n",
       "6722               Россия             М.Олейник (псевдоним - Мария Полякова)   \n",
       "\n",
       "                                               producer  \\\n",
       "1293  Татьяна Келли, Роберта Мунро, Руперт Френд, До...   \n",
       "4441                                                NaN   \n",
       "6105                                        Е.Щербакова   \n",
       "6181                    Д.Якунин, Ф.Абрютин, О.Филонова   \n",
       "6379                                        Е.Герасимов   \n",
       "6380                                        Е.Герасимов   \n",
       "6399              Я.Хальпукова (псевдоним Яна Мартынец)   \n",
       "6485                                   А.Новокреповская   \n",
       "6494                                          И.Долгина   \n",
       "6497                                       А.Сайфуллина   \n",
       "6498                                             О.Мичи   \n",
       "6499                                      Е.Севастьянов   \n",
       "6507                 Я.Лаптев (псевдоним Яков Раскалов)   \n",
       "6511                                          Д.Кабаков   \n",
       "6638                                          Т.Пинская   \n",
       "6639       В.Максимов, В.Степанов, Г.Киракосян, О.Штром   \n",
       "6662                                          М.Архипов   \n",
       "6722                                            Н.Савко   \n",
       "\n",
       "                             age_restriction  refundable_support  \\\n",
       "1293         «16+» - для детей старше 16 лет                 NaN   \n",
       "4441  «0+» - для любой зрительской аудитории                 NaN   \n",
       "6105             «18+» - запрещено для детей                 NaN   \n",
       "6181           «6+» - для детей старше 6 лет                 NaN   \n",
       "6379         «12+» - для детей старше 12 лет                 NaN   \n",
       "6380         «12+» - для детей старше 12 лет                 NaN   \n",
       "6399         «12+» - для детей старше 12 лет                 NaN   \n",
       "6485           «6+» - для детей старше 6 лет                 NaN   \n",
       "6494         «12+» - для детей старше 12 лет                 NaN   \n",
       "6497         «12+» - для детей старше 12 лет                 NaN   \n",
       "6498             «18+» - запрещено для детей                 NaN   \n",
       "6499             «18+» - запрещено для детей                 NaN   \n",
       "6507             «18+» - запрещено для детей                 NaN   \n",
       "6511         «12+» - для детей старше 12 лет                 NaN   \n",
       "6638           «6+» - для детей старше 6 лет                 NaN   \n",
       "6639         «16+» - для детей старше 16 лет                 NaN   \n",
       "6662         «12+» - для детей старше 12 лет                 NaN   \n",
       "6722         «16+» - для детей старше 16 лет                 NaN   \n",
       "\n",
       "      nonrefundable_support  budget financing_source  ratings  \\\n",
       "1293                    NaN     NaN              NaN      7.3   \n",
       "4441                    NaN     NaN              NaN      4.0   \n",
       "6105                    NaN     NaN              NaN      NaN   \n",
       "6181                    NaN     NaN              NaN      NaN   \n",
       "6379                    NaN     NaN              NaN      NaN   \n",
       "6380                    NaN     NaN              NaN      NaN   \n",
       "6399                    NaN     NaN              NaN      NaN   \n",
       "6485                    NaN     NaN              NaN      6.9   \n",
       "6494                    NaN     NaN              NaN      NaN   \n",
       "6497                    NaN     NaN              NaN      NaN   \n",
       "6498                    NaN     NaN              NaN      7.9   \n",
       "6499                    NaN     NaN              NaN      NaN   \n",
       "6507                    NaN     NaN              NaN      NaN   \n",
       "6511                    NaN     NaN              NaN      NaN   \n",
       "6638                    NaN     NaN              NaN      NaN   \n",
       "6639                    NaN     NaN              NaN      NaN   \n",
       "6662                    NaN     NaN              NaN      6.1   \n",
       "6722                    NaN     NaN              NaN      NaN   \n",
       "\n",
       "                          genres  box_office  \n",
       "1293                     комедия         NaN  \n",
       "4441          мультфильм,комедия         NaN  \n",
       "6105                         NaN         NaN  \n",
       "6181                         NaN         NaN  \n",
       "6379                         NaN         NaN  \n",
       "6380                         NaN         NaN  \n",
       "6399                         NaN    41,225.0  \n",
       "6485     драма,криминал,детектив         NaN  \n",
       "6494                         NaN         NaN  \n",
       "6497                         NaN         NaN  \n",
       "6498   фантастика,боевик,триллер         NaN  \n",
       "6499                         NaN         NaN  \n",
       "6507                         NaN         NaN  \n",
       "6511                         NaN         NaN  \n",
       "6638                         NaN         NaN  \n",
       "6639                         NaN         NaN  \n",
       "6662  короткометражка,фантастика         NaN  \n",
       "6722                         NaN         NaN  "
      ]
     },
     "execution_count": 22,
     "metadata": {},
     "output_type": "execute_result"
    }
   ],
   "source": [
    "data.loc[data['film_studio'].isna() == True]"
   ]
  },
  {
   "cell_type": "code",
   "execution_count": 23,
   "metadata": {},
   "outputs": [
    {
     "data": {
      "text/html": [
       "<div>\n",
       "<style scoped>\n",
       "    .dataframe tbody tr th:only-of-type {\n",
       "        vertical-align: middle;\n",
       "    }\n",
       "\n",
       "    .dataframe tbody tr th {\n",
       "        vertical-align: top;\n",
       "    }\n",
       "\n",
       "    .dataframe thead th {\n",
       "        text-align: right;\n",
       "    }\n",
       "</style>\n",
       "<table border=\"1\" class=\"dataframe\">\n",
       "  <thead>\n",
       "    <tr style=\"text-align: right;\">\n",
       "      <th></th>\n",
       "      <th>title</th>\n",
       "      <th>puNumber</th>\n",
       "      <th>show_start_date</th>\n",
       "      <th>type</th>\n",
       "      <th>film_studio</th>\n",
       "      <th>production_country</th>\n",
       "      <th>director</th>\n",
       "      <th>producer</th>\n",
       "      <th>age_restriction</th>\n",
       "      <th>refundable_support</th>\n",
       "      <th>nonrefundable_support</th>\n",
       "      <th>budget</th>\n",
       "      <th>financing_source</th>\n",
       "      <th>ratings</th>\n",
       "      <th>genres</th>\n",
       "      <th>box_office</th>\n",
       "    </tr>\n",
       "  </thead>\n",
       "  <tbody>\n",
       "    <tr>\n",
       "      <th>3186</th>\n",
       "      <td>Детский юмористический киножурнал \"Ералаш. Ну ...</td>\n",
       "      <td>111001216</td>\n",
       "      <td>2016-02-09 12:00:00+00:00</td>\n",
       "      <td>Художественный</td>\n",
       "      <td>ООО \"Продюсерский центр ЕРАЛАШ\"</td>\n",
       "      <td>NaN</td>\n",
       "      <td>Р.Светлов, И.Магитон, А.Арутюнян, Л.Мирский, А...</td>\n",
       "      <td>ООО \"Продюсерский центр ЕРАЛАШ\"</td>\n",
       "      <td>«0+» - для любой зрительской аудитории</td>\n",
       "      <td>NaN</td>\n",
       "      <td>NaN</td>\n",
       "      <td>NaN</td>\n",
       "      <td>NaN</td>\n",
       "      <td>7.2</td>\n",
       "      <td>детский,комедия</td>\n",
       "      <td>194,527.0</td>\n",
       "    </tr>\n",
       "    <tr>\n",
       "      <th>4441</th>\n",
       "      <td>Мульт личности. Выпуск 5</td>\n",
       "      <td>214000410</td>\n",
       "      <td>2010-01-25 12:00:00+00:00</td>\n",
       "      <td>Художественный</td>\n",
       "      <td>NaN</td>\n",
       "      <td>NaN</td>\n",
       "      <td>NaN</td>\n",
       "      <td>NaN</td>\n",
       "      <td>«0+» - для любой зрительской аудитории</td>\n",
       "      <td>NaN</td>\n",
       "      <td>NaN</td>\n",
       "      <td>NaN</td>\n",
       "      <td>NaN</td>\n",
       "      <td>4.0</td>\n",
       "      <td>мультфильм,комедия</td>\n",
       "      <td>NaN</td>\n",
       "    </tr>\n",
       "  </tbody>\n",
       "</table>\n",
       "</div>"
      ],
      "text/plain": [
       "                                                  title   puNumber  \\\n",
       "3186  Детский юмористический киножурнал \"Ералаш. Ну ...  111001216   \n",
       "4441                           Мульт личности. Выпуск 5  214000410   \n",
       "\n",
       "               show_start_date            type  \\\n",
       "3186 2016-02-09 12:00:00+00:00  Художественный   \n",
       "4441 2010-01-25 12:00:00+00:00  Художественный   \n",
       "\n",
       "                          film_studio production_country  \\\n",
       "3186  ООО \"Продюсерский центр ЕРАЛАШ\"                NaN   \n",
       "4441                              NaN                NaN   \n",
       "\n",
       "                                               director  \\\n",
       "3186  Р.Светлов, И.Магитон, А.Арутюнян, Л.Мирский, А...   \n",
       "4441                                                NaN   \n",
       "\n",
       "                             producer                         age_restriction  \\\n",
       "3186  ООО \"Продюсерский центр ЕРАЛАШ\"  «0+» - для любой зрительской аудитории   \n",
       "4441                              NaN  «0+» - для любой зрительской аудитории   \n",
       "\n",
       "      refundable_support  nonrefundable_support  budget financing_source  \\\n",
       "3186                 NaN                    NaN     NaN              NaN   \n",
       "4441                 NaN                    NaN     NaN              NaN   \n",
       "\n",
       "      ratings              genres  box_office  \n",
       "3186      7.2     детский,комедия   194,527.0  \n",
       "4441      4.0  мультфильм,комедия         NaN  "
      ]
     },
     "execution_count": 23,
     "metadata": {},
     "output_type": "execute_result"
    }
   ],
   "source": [
    "data.loc[data['production_country'].isna() == True]"
   ]
  },
  {
   "cell_type": "code",
   "execution_count": 24,
   "metadata": {},
   "outputs": [],
   "source": [
    "data.loc[3185, 'production_country'] = 'Россия'\n",
    "data.loc[4440, 'production_country'] = 'Россия'"
   ]
  },
  {
   "cell_type": "code",
   "execution_count": 25,
   "metadata": {},
   "outputs": [],
   "source": [
    "data['box_office'] = data['box_office'].fillna(value=0)"
   ]
  },
  {
   "cell_type": "code",
   "execution_count": 26,
   "metadata": {},
   "outputs": [],
   "source": [
    "data['budget'] = data['budget'].fillna(value=0)"
   ]
  },
  {
   "cell_type": "code",
   "execution_count": 27,
   "metadata": {},
   "outputs": [],
   "source": [
    "data['nonrefundable_support'] = data['nonrefundable_support'].fillna(value=0)"
   ]
  },
  {
   "cell_type": "code",
   "execution_count": 28,
   "metadata": {},
   "outputs": [],
   "source": [
    "data['refundable_support'] = data['refundable_support'].fillna(value=0)"
   ]
  },
  {
   "cell_type": "code",
   "execution_count": 29,
   "metadata": {},
   "outputs": [
    {
     "data": {
      "text/plain": [
       "title                       0\n",
       "puNumber                    0\n",
       "show_start_date             0\n",
       "type                        0\n",
       "film_studio                18\n",
       "production_country          2\n",
       "director                    9\n",
       "producer                  568\n",
       "age_restriction             0\n",
       "refundable_support          0\n",
       "nonrefundable_support       0\n",
       "budget                      0\n",
       "financing_source         7154\n",
       "ratings                   967\n",
       "genres                    976\n",
       "box_office                  0\n",
       "dtype: int64"
      ]
     },
     "execution_count": 29,
     "metadata": {},
     "output_type": "execute_result"
    }
   ],
   "source": [
    "data.isna().sum()"
   ]
  },
  {
   "cell_type": "markdown",
   "metadata": {
    "id": "4c6k1t9ygFyQ"
   },
   "source": [
    "#### Шаг 2.3. Изучение дубликатов в датафрейме"
   ]
  },
  {
   "cell_type": "code",
   "execution_count": 30,
   "metadata": {
    "id": "aKck8RIdgFyQ"
   },
   "outputs": [
    {
     "data": {
      "text/plain": [
       "0"
      ]
     },
     "execution_count": 30,
     "metadata": {},
     "output_type": "execute_result"
    }
   ],
   "source": [
    "data.duplicated().sum()"
   ]
  },
  {
   "cell_type": "code",
   "execution_count": 31,
   "metadata": {
    "scrolled": true
   },
   "outputs": [
    {
     "data": {
      "text/html": [
       "<div>\n",
       "<style scoped>\n",
       "    .dataframe tbody tr th:only-of-type {\n",
       "        vertical-align: middle;\n",
       "    }\n",
       "\n",
       "    .dataframe tbody tr th {\n",
       "        vertical-align: top;\n",
       "    }\n",
       "\n",
       "    .dataframe thead th {\n",
       "        text-align: right;\n",
       "    }\n",
       "</style>\n",
       "<table border=\"1\" class=\"dataframe\">\n",
       "  <thead>\n",
       "    <tr style=\"text-align: right;\">\n",
       "      <th></th>\n",
       "      <th>title</th>\n",
       "      <th>puNumber</th>\n",
       "      <th>show_start_date</th>\n",
       "      <th>type</th>\n",
       "      <th>film_studio</th>\n",
       "      <th>production_country</th>\n",
       "      <th>director</th>\n",
       "      <th>producer</th>\n",
       "      <th>age_restriction</th>\n",
       "      <th>refundable_support</th>\n",
       "      <th>nonrefundable_support</th>\n",
       "      <th>budget</th>\n",
       "      <th>financing_source</th>\n",
       "      <th>ratings</th>\n",
       "      <th>genres</th>\n",
       "      <th>box_office</th>\n",
       "    </tr>\n",
       "  </thead>\n",
       "  <tbody>\n",
       "    <tr>\n",
       "      <th>455</th>\n",
       "      <td>100 миллионов евро</td>\n",
       "      <td>121013712</td>\n",
       "      <td>2012-06-06 12:00:00+00:00</td>\n",
       "      <td>Художественный</td>\n",
       "      <td>Патэ, Эсквуд, Серенити Фильм, ТФ1 Фильм Продюк...</td>\n",
       "      <td>Франция</td>\n",
       "      <td>Оливер Барру</td>\n",
       "      <td>Ричард Грандпьерр</td>\n",
       "      <td>«16+» - для детей старше 16 лет</td>\n",
       "      <td>0.0</td>\n",
       "      <td>0.0</td>\n",
       "      <td>0.0</td>\n",
       "      <td>NaN</td>\n",
       "      <td>6.1</td>\n",
       "      <td>комедия</td>\n",
       "      <td>0.0</td>\n",
       "    </tr>\n",
       "    <tr>\n",
       "      <th>454</th>\n",
       "      <td>100 миллионов евро</td>\n",
       "      <td>221024616</td>\n",
       "      <td>2016-05-25 12:00:00+00:00</td>\n",
       "      <td>Художественный</td>\n",
       "      <td>Патэ, Эсквуд, Серенити Фильм, ТФ1 Фильм Продюк...</td>\n",
       "      <td>Франция</td>\n",
       "      <td>Оливер Барру</td>\n",
       "      <td>Ричард Грандпьерр</td>\n",
       "      <td>«16+» - для детей старше 16 лет</td>\n",
       "      <td>0.0</td>\n",
       "      <td>0.0</td>\n",
       "      <td>0.0</td>\n",
       "      <td>NaN</td>\n",
       "      <td>6.1</td>\n",
       "      <td>комедия</td>\n",
       "      <td>0.0</td>\n",
       "    </tr>\n",
       "    <tr>\n",
       "      <th>4852</th>\n",
       "      <td>127 часов</td>\n",
       "      <td>121000811</td>\n",
       "      <td>2011-01-27 12:00:00+00:00</td>\n",
       "      <td>Художественный</td>\n",
       "      <td>Фокс Серчлайт Пикчерз, Клод Эйт Филмз, Филм Фо...</td>\n",
       "      <td>США - Великобритания</td>\n",
       "      <td>Дэнни Бойл</td>\n",
       "      <td>Бернард Беллью, Тесса Росс, Гаррет Смит</td>\n",
       "      <td>«16+» - для детей старше 16 лет</td>\n",
       "      <td>0.0</td>\n",
       "      <td>0.0</td>\n",
       "      <td>0.0</td>\n",
       "      <td>NaN</td>\n",
       "      <td>7.7</td>\n",
       "      <td>триллер,биография,драма</td>\n",
       "      <td>0.0</td>\n",
       "    </tr>\n",
       "    <tr>\n",
       "      <th>5058</th>\n",
       "      <td>127 часов</td>\n",
       "      <td>221069011</td>\n",
       "      <td>2011-05-18 12:00:00+00:00</td>\n",
       "      <td>Художественный</td>\n",
       "      <td>Фокс Серчлайт Пикчерз, Клод Эйт Филмз, Филм Фо...</td>\n",
       "      <td>США - Великобритания</td>\n",
       "      <td>Дэнни Бойл</td>\n",
       "      <td>Бернард Беллью, Тесса Росс, Гаррет Смит</td>\n",
       "      <td>«16+» - для детей старше 16 лет</td>\n",
       "      <td>0.0</td>\n",
       "      <td>0.0</td>\n",
       "      <td>0.0</td>\n",
       "      <td>NaN</td>\n",
       "      <td>7.7</td>\n",
       "      <td>триллер,биография,драма</td>\n",
       "      <td>0.0</td>\n",
       "    </tr>\n",
       "    <tr>\n",
       "      <th>3129</th>\n",
       "      <td>13 часов: Тайные солдаты Бенгази</td>\n",
       "      <td>221019616</td>\n",
       "      <td>2016-04-19 12:00:00+00:00</td>\n",
       "      <td>Художественный</td>\n",
       "      <td>Парамаунт, Дан Филмз, Латина Пикчарз,3 Арт Инт...</td>\n",
       "      <td>США</td>\n",
       "      <td>Майкл Бэй</td>\n",
       "      <td>Майкл Бэй, Эрвин Стофф</td>\n",
       "      <td>«18+» - запрещено для детей</td>\n",
       "      <td>0.0</td>\n",
       "      <td>0.0</td>\n",
       "      <td>0.0</td>\n",
       "      <td>NaN</td>\n",
       "      <td>6.7</td>\n",
       "      <td>боевик,триллер,драма</td>\n",
       "      <td>0.0</td>\n",
       "    </tr>\n",
       "    <tr>\n",
       "      <th>...</th>\n",
       "      <td>...</td>\n",
       "      <td>...</td>\n",
       "      <td>...</td>\n",
       "      <td>...</td>\n",
       "      <td>...</td>\n",
       "      <td>...</td>\n",
       "      <td>...</td>\n",
       "      <td>...</td>\n",
       "      <td>...</td>\n",
       "      <td>...</td>\n",
       "      <td>...</td>\n",
       "      <td>...</td>\n",
       "      <td>...</td>\n",
       "      <td>...</td>\n",
       "      <td>...</td>\n",
       "      <td>...</td>\n",
       "    </tr>\n",
       "    <tr>\n",
       "      <th>4505</th>\n",
       "      <td>Я ненавижу день святого Валентина</td>\n",
       "      <td>221139210</td>\n",
       "      <td>2010-12-03 12:00:00+00:00</td>\n",
       "      <td>Художественный</td>\n",
       "      <td>Блю Стар Пикчерз, Ай Хэйт Вдэй Продакшнз, Ай С...</td>\n",
       "      <td>США</td>\n",
       "      <td>Ниа Вардалос</td>\n",
       "      <td>Доминик Йанно, Мэдлейн Шерак, Уильям Шерак</td>\n",
       "      <td>«16+» - для детей старше 16 лет</td>\n",
       "      <td>0.0</td>\n",
       "      <td>0.0</td>\n",
       "      <td>0.0</td>\n",
       "      <td>NaN</td>\n",
       "      <td>5.0</td>\n",
       "      <td>мелодрама,комедия</td>\n",
       "      <td>0.0</td>\n",
       "    </tr>\n",
       "    <tr>\n",
       "      <th>1704</th>\n",
       "      <td>Я, снова я и мама</td>\n",
       "      <td>121030213</td>\n",
       "      <td>2013-11-21 12:00:00+00:00</td>\n",
       "      <td>Художественный</td>\n",
       "      <td>Гомон, Эль Джи Эм Продакшнз, Ректанль Продюксь...</td>\n",
       "      <td>Франция - Бельгия</td>\n",
       "      <td>Гийом Гальенн</td>\n",
       "      <td>Жан-Батист Дюпон, Алис Жирар, Сирил Кольбо-Жюстен</td>\n",
       "      <td>«16+» - для детей старше 16 лет</td>\n",
       "      <td>0.0</td>\n",
       "      <td>0.0</td>\n",
       "      <td>0.0</td>\n",
       "      <td>NaN</td>\n",
       "      <td>6.3</td>\n",
       "      <td>комедия,мелодрама,драма</td>\n",
       "      <td>0.0</td>\n",
       "    </tr>\n",
       "    <tr>\n",
       "      <th>1703</th>\n",
       "      <td>Я, снова я и мама</td>\n",
       "      <td>121013116</td>\n",
       "      <td>2016-05-23 12:00:00+00:00</td>\n",
       "      <td>Художественный</td>\n",
       "      <td>Гомон, Эль Джи Эм Продакшнз, Ректанль Продюксь...</td>\n",
       "      <td>Франция - Бельгия</td>\n",
       "      <td>Гийом Гальенн</td>\n",
       "      <td>Жан-Батист Дюпон, Алис Жирар, Сирил Кольбо-Жюстен</td>\n",
       "      <td>«16+» - для детей старше 16 лет</td>\n",
       "      <td>0.0</td>\n",
       "      <td>0.0</td>\n",
       "      <td>0.0</td>\n",
       "      <td>NaN</td>\n",
       "      <td>6.3</td>\n",
       "      <td>комедия,мелодрама,драма</td>\n",
       "      <td>0.0</td>\n",
       "    </tr>\n",
       "    <tr>\n",
       "      <th>6379</th>\n",
       "      <td>Ян Антонышев</td>\n",
       "      <td>112011818</td>\n",
       "      <td>2018-11-15 12:00:00+00:00</td>\n",
       "      <td>Документальный</td>\n",
       "      <td>NaN</td>\n",
       "      <td>Россия</td>\n",
       "      <td>Е.Окопная</td>\n",
       "      <td>Е.Герасимов</td>\n",
       "      <td>«12+» - для детей старше 12 лет</td>\n",
       "      <td>0.0</td>\n",
       "      <td>0.0</td>\n",
       "      <td>0.0</td>\n",
       "      <td>NaN</td>\n",
       "      <td>NaN</td>\n",
       "      <td>NaN</td>\n",
       "      <td>0.0</td>\n",
       "    </tr>\n",
       "    <tr>\n",
       "      <th>6380</th>\n",
       "      <td>Ян Антонышев</td>\n",
       "      <td>112011918</td>\n",
       "      <td>2018-11-15 12:00:00+00:00</td>\n",
       "      <td>Документальный</td>\n",
       "      <td>NaN</td>\n",
       "      <td>Россия</td>\n",
       "      <td>Е.Окопная</td>\n",
       "      <td>Е.Герасимов</td>\n",
       "      <td>«12+» - для детей старше 12 лет</td>\n",
       "      <td>0.0</td>\n",
       "      <td>0.0</td>\n",
       "      <td>0.0</td>\n",
       "      <td>NaN</td>\n",
       "      <td>NaN</td>\n",
       "      <td>NaN</td>\n",
       "      <td>0.0</td>\n",
       "    </tr>\n",
       "  </tbody>\n",
       "</table>\n",
       "<p>1272 rows × 16 columns</p>\n",
       "</div>"
      ],
      "text/plain": [
       "                                  title   puNumber           show_start_date  \\\n",
       "455                  100 миллионов евро  121013712 2012-06-06 12:00:00+00:00   \n",
       "454                  100 миллионов евро  221024616 2016-05-25 12:00:00+00:00   \n",
       "4852                          127 часов  121000811 2011-01-27 12:00:00+00:00   \n",
       "5058                          127 часов  221069011 2011-05-18 12:00:00+00:00   \n",
       "3129   13 часов: Тайные солдаты Бенгази  221019616 2016-04-19 12:00:00+00:00   \n",
       "...                                 ...        ...                       ...   \n",
       "4505  Я ненавижу день святого Валентина  221139210 2010-12-03 12:00:00+00:00   \n",
       "1704                  Я, снова я и мама  121030213 2013-11-21 12:00:00+00:00   \n",
       "1703                  Я, снова я и мама  121013116 2016-05-23 12:00:00+00:00   \n",
       "6379                       Ян Антонышев  112011818 2018-11-15 12:00:00+00:00   \n",
       "6380                       Ян Антонышев  112011918 2018-11-15 12:00:00+00:00   \n",
       "\n",
       "                type                                        film_studio  \\\n",
       "455   Художественный  Патэ, Эсквуд, Серенити Фильм, ТФ1 Фильм Продюк...   \n",
       "454   Художественный  Патэ, Эсквуд, Серенити Фильм, ТФ1 Фильм Продюк...   \n",
       "4852  Художественный  Фокс Серчлайт Пикчерз, Клод Эйт Филмз, Филм Фо...   \n",
       "5058  Художественный  Фокс Серчлайт Пикчерз, Клод Эйт Филмз, Филм Фо...   \n",
       "3129  Художественный  Парамаунт, Дан Филмз, Латина Пикчарз,3 Арт Инт...   \n",
       "...              ...                                                ...   \n",
       "4505  Художественный  Блю Стар Пикчерз, Ай Хэйт Вдэй Продакшнз, Ай С...   \n",
       "1704  Художественный  Гомон, Эль Джи Эм Продакшнз, Ректанль Продюксь...   \n",
       "1703  Художественный  Гомон, Эль Джи Эм Продакшнз, Ректанль Продюксь...   \n",
       "6379  Документальный                                                NaN   \n",
       "6380  Документальный                                                NaN   \n",
       "\n",
       "        production_country       director  \\\n",
       "455                Франция   Оливер Барру   \n",
       "454                Франция   Оливер Барру   \n",
       "4852  США - Великобритания     Дэнни Бойл   \n",
       "5058  США - Великобритания     Дэнни Бойл   \n",
       "3129                   США      Майкл Бэй   \n",
       "...                    ...            ...   \n",
       "4505                   США   Ниа Вардалос   \n",
       "1704     Франция - Бельгия  Гийом Гальенн   \n",
       "1703     Франция - Бельгия  Гийом Гальенн   \n",
       "6379                Россия      Е.Окопная   \n",
       "6380                Россия      Е.Окопная   \n",
       "\n",
       "                                               producer  \\\n",
       "455                                   Ричард Грандпьерр   \n",
       "454                                   Ричард Грандпьерр   \n",
       "4852            Бернард Беллью, Тесса Росс, Гаррет Смит   \n",
       "5058            Бернард Беллью, Тесса Росс, Гаррет Смит   \n",
       "3129                             Майкл Бэй, Эрвин Стофф   \n",
       "...                                                 ...   \n",
       "4505         Доминик Йанно, Мэдлейн Шерак, Уильям Шерак   \n",
       "1704  Жан-Батист Дюпон, Алис Жирар, Сирил Кольбо-Жюстен   \n",
       "1703  Жан-Батист Дюпон, Алис Жирар, Сирил Кольбо-Жюстен   \n",
       "6379                                        Е.Герасимов   \n",
       "6380                                        Е.Герасимов   \n",
       "\n",
       "                      age_restriction  refundable_support  \\\n",
       "455   «16+» - для детей старше 16 лет                 0.0   \n",
       "454   «16+» - для детей старше 16 лет                 0.0   \n",
       "4852  «16+» - для детей старше 16 лет                 0.0   \n",
       "5058  «16+» - для детей старше 16 лет                 0.0   \n",
       "3129      «18+» - запрещено для детей                 0.0   \n",
       "...                               ...                 ...   \n",
       "4505  «16+» - для детей старше 16 лет                 0.0   \n",
       "1704  «16+» - для детей старше 16 лет                 0.0   \n",
       "1703  «16+» - для детей старше 16 лет                 0.0   \n",
       "6379  «12+» - для детей старше 12 лет                 0.0   \n",
       "6380  «12+» - для детей старше 12 лет                 0.0   \n",
       "\n",
       "      nonrefundable_support  budget financing_source  ratings  \\\n",
       "455                     0.0     0.0              NaN      6.1   \n",
       "454                     0.0     0.0              NaN      6.1   \n",
       "4852                    0.0     0.0              NaN      7.7   \n",
       "5058                    0.0     0.0              NaN      7.7   \n",
       "3129                    0.0     0.0              NaN      6.7   \n",
       "...                     ...     ...              ...      ...   \n",
       "4505                    0.0     0.0              NaN      5.0   \n",
       "1704                    0.0     0.0              NaN      6.3   \n",
       "1703                    0.0     0.0              NaN      6.3   \n",
       "6379                    0.0     0.0              NaN      NaN   \n",
       "6380                    0.0     0.0              NaN      NaN   \n",
       "\n",
       "                       genres  box_office  \n",
       "455                   комедия         0.0  \n",
       "454                   комедия         0.0  \n",
       "4852  триллер,биография,драма         0.0  \n",
       "5058  триллер,биография,драма         0.0  \n",
       "3129     боевик,триллер,драма         0.0  \n",
       "...                       ...         ...  \n",
       "4505        мелодрама,комедия         0.0  \n",
       "1704  комедия,мелодрама,драма         0.0  \n",
       "1703  комедия,мелодрама,драма         0.0  \n",
       "6379                      NaN         0.0  \n",
       "6380                      NaN         0.0  \n",
       "\n",
       "[1272 rows x 16 columns]"
      ]
     },
     "execution_count": 31,
     "metadata": {},
     "output_type": "execute_result"
    }
   ],
   "source": [
    "data.loc[data['title'].duplicated(keep=False)].sort_values(by='title')"
   ]
  },
  {
   "cell_type": "code",
   "execution_count": 32,
   "metadata": {
    "scrolled": true
   },
   "outputs": [
    {
     "data": {
      "text/html": [
       "<div>\n",
       "<style scoped>\n",
       "    .dataframe tbody tr th:only-of-type {\n",
       "        vertical-align: middle;\n",
       "    }\n",
       "\n",
       "    .dataframe tbody tr th {\n",
       "        vertical-align: top;\n",
       "    }\n",
       "\n",
       "    .dataframe thead th {\n",
       "        text-align: right;\n",
       "    }\n",
       "</style>\n",
       "<table border=\"1\" class=\"dataframe\">\n",
       "  <thead>\n",
       "    <tr style=\"text-align: right;\">\n",
       "      <th></th>\n",
       "      <th>title</th>\n",
       "      <th>puNumber</th>\n",
       "      <th>show_start_date</th>\n",
       "      <th>type</th>\n",
       "      <th>film_studio</th>\n",
       "      <th>production_country</th>\n",
       "      <th>director</th>\n",
       "      <th>producer</th>\n",
       "      <th>age_restriction</th>\n",
       "      <th>refundable_support</th>\n",
       "      <th>nonrefundable_support</th>\n",
       "      <th>budget</th>\n",
       "      <th>financing_source</th>\n",
       "      <th>ratings</th>\n",
       "      <th>genres</th>\n",
       "      <th>box_office</th>\n",
       "    </tr>\n",
       "  </thead>\n",
       "  <tbody>\n",
       "    <tr>\n",
       "      <th>4638</th>\n",
       "      <td>Как жениться и остаться холостым</td>\n",
       "      <td>221154310</td>\n",
       "      <td>2010-12-17 12:00:00+00:00</td>\n",
       "      <td>Художественный</td>\n",
       "      <td>Ше Вам, Скрипт Ассосье, Тэ Фэ 1 Фильм Продюксь...</td>\n",
       "      <td>Франция</td>\n",
       "      <td>Эрик Лартиго</td>\n",
       "      <td>Амандин Било, Алан Шаба</td>\n",
       "      <td>«16+» - для детей старше 16 лет</td>\n",
       "      <td>0.0</td>\n",
       "      <td>0.0</td>\n",
       "      <td>0.0</td>\n",
       "      <td>NaN</td>\n",
       "      <td>7.0</td>\n",
       "      <td>мелодрама,комедия</td>\n",
       "      <td>0.0</td>\n",
       "    </tr>\n",
       "    <tr>\n",
       "      <th>4639</th>\n",
       "      <td>Иоанна - женщина на папском престоле /По роман...</td>\n",
       "      <td>221154310</td>\n",
       "      <td>2010-12-17 12:00:00+00:00</td>\n",
       "      <td>Художественный</td>\n",
       "      <td>Константин Фильм, А Эр Ди Дегето Фильм, Дюне ...</td>\n",
       "      <td>Германия - Великобритания - Италия - Испания</td>\n",
       "      <td>Зенке Вортманн</td>\n",
       "      <td>Оливер Бербен, Дорис Д.Хайнце, Фарук Элтан</td>\n",
       "      <td>«16+» - для детей старше 16 лет</td>\n",
       "      <td>0.0</td>\n",
       "      <td>0.0</td>\n",
       "      <td>0.0</td>\n",
       "      <td>NaN</td>\n",
       "      <td>7.6</td>\n",
       "      <td>драма,мелодрама,история</td>\n",
       "      <td>0.0</td>\n",
       "    </tr>\n",
       "    <tr>\n",
       "      <th>5067</th>\n",
       "      <td>Анализируй это!</td>\n",
       "      <td>221054410</td>\n",
       "      <td>2010-05-25 12:00:00+00:00</td>\n",
       "      <td>Художественный</td>\n",
       "      <td>Уорнер Бразерс, Вилладж Роудшоу Филмз ЛТД</td>\n",
       "      <td>США-Австралия</td>\n",
       "      <td>ХЭрольд Рэмис</td>\n",
       "      <td>Джейн Розенталь, Пола Уейнстейн</td>\n",
       "      <td>«16+» - для детей старше 16 лет</td>\n",
       "      <td>0.0</td>\n",
       "      <td>0.0</td>\n",
       "      <td>0.0</td>\n",
       "      <td>NaN</td>\n",
       "      <td>7.4</td>\n",
       "      <td>комедия,криминал</td>\n",
       "      <td>0.0</td>\n",
       "    </tr>\n",
       "    <tr>\n",
       "      <th>5068</th>\n",
       "      <td>Анализируй то!</td>\n",
       "      <td>221054410</td>\n",
       "      <td>2010-05-25 12:00:00+00:00</td>\n",
       "      <td>Художественный</td>\n",
       "      <td>Уорнер Бразерс, Виллидж Роадшоу Пикчерз, Эн-Пи...</td>\n",
       "      <td>США</td>\n",
       "      <td>Гарольд Реймис</td>\n",
       "      <td>Джейн Розенталь, Паул Уэйнстейн</td>\n",
       "      <td>«12+» - для детей старше 12 лет</td>\n",
       "      <td>0.0</td>\n",
       "      <td>0.0</td>\n",
       "      <td>0.0</td>\n",
       "      <td>NaN</td>\n",
       "      <td>6.8</td>\n",
       "      <td>комедия,криминал</td>\n",
       "      <td>0.0</td>\n",
       "    </tr>\n",
       "  </tbody>\n",
       "</table>\n",
       "</div>"
      ],
      "text/plain": [
       "                                                  title   puNumber  \\\n",
       "4638                   Как жениться и остаться холостым  221154310   \n",
       "4639  Иоанна - женщина на папском престоле /По роман...  221154310   \n",
       "5067                                    Анализируй это!  221054410   \n",
       "5068                                     Анализируй то!  221054410   \n",
       "\n",
       "               show_start_date            type  \\\n",
       "4638 2010-12-17 12:00:00+00:00  Художественный   \n",
       "4639 2010-12-17 12:00:00+00:00  Художественный   \n",
       "5067 2010-05-25 12:00:00+00:00  Художественный   \n",
       "5068 2010-05-25 12:00:00+00:00  Художественный   \n",
       "\n",
       "                                            film_studio  \\\n",
       "4638  Ше Вам, Скрипт Ассосье, Тэ Фэ 1 Фильм Продюксь...   \n",
       "4639   Константин Фильм, А Эр Ди Дегето Фильм, Дюне ...   \n",
       "5067          Уорнер Бразерс, Вилладж Роудшоу Филмз ЛТД   \n",
       "5068  Уорнер Бразерс, Виллидж Роадшоу Пикчерз, Эн-Пи...   \n",
       "\n",
       "                                production_country        director  \\\n",
       "4638                                       Франция    Эрик Лартиго   \n",
       "4639  Германия - Великобритания - Италия - Испания  Зенке Вортманн   \n",
       "5067                                 США-Австралия   ХЭрольд Рэмис   \n",
       "5068                                           США  Гарольд Реймис   \n",
       "\n",
       "                                        producer  \\\n",
       "4638                     Амандин Било, Алан Шаба   \n",
       "4639  Оливер Бербен, Дорис Д.Хайнце, Фарук Элтан   \n",
       "5067             Джейн Розенталь, Пола Уейнстейн   \n",
       "5068             Джейн Розенталь, Паул Уэйнстейн   \n",
       "\n",
       "                      age_restriction  refundable_support  \\\n",
       "4638  «16+» - для детей старше 16 лет                 0.0   \n",
       "4639  «16+» - для детей старше 16 лет                 0.0   \n",
       "5067  «16+» - для детей старше 16 лет                 0.0   \n",
       "5068  «12+» - для детей старше 12 лет                 0.0   \n",
       "\n",
       "      nonrefundable_support  budget financing_source  ratings  \\\n",
       "4638                    0.0     0.0              NaN      7.0   \n",
       "4639                    0.0     0.0              NaN      7.6   \n",
       "5067                    0.0     0.0              NaN      7.4   \n",
       "5068                    0.0     0.0              NaN      6.8   \n",
       "\n",
       "                       genres  box_office  \n",
       "4638        мелодрама,комедия         0.0  \n",
       "4639  драма,мелодрама,история         0.0  \n",
       "5067         комедия,криминал         0.0  \n",
       "5068         комедия,криминал         0.0  "
      ]
     },
     "execution_count": 32,
     "metadata": {},
     "output_type": "execute_result"
    }
   ],
   "source": [
    "data[data.duplicated(subset=['puNumber'], keep = False)]"
   ]
  },
  {
   "cell_type": "markdown",
   "metadata": {},
   "source": [
    "- Повторы в title связаны с тем, что фильмы вышли в разное время с разным номером прокатного удостоверения - не изменяем;\n",
    "- Есть две строчки с одинаковым номером прокатного удостоверения, но разными фильмами - возможно это случайная ошибка (человеческий фактор) - не изменяем"
   ]
  },
  {
   "cell_type": "code",
   "execution_count": 33,
   "metadata": {},
   "outputs": [
    {
     "data": {
      "text/plain": [
       "array(['США', 'СССР', 'Франция', 'СССР, Венгрия',\n",
       "       'Германия-Великобритания', 'Великобритания - Италия',\n",
       "       'Чехословакия', 'США - Франция - Турция', 'Новая Зеландия',\n",
       "       'Канада - Франция - Испания', 'США-Германия',\n",
       "       'США - Великобритания', 'Великобритания', 'США - Германия',\n",
       "       'Франция - Мексика - США', 'Россия, Казахстан, США',\n",
       "       'СССР, Швеция', 'СССР, Франция, Англия, Куба, ГДР', 'Германия',\n",
       "       'Великобритания-США-Германия-КНР',\n",
       "       'СССР, ЧССР, Западный Берлин, ПНР', 'СССР, Италия', 'Гонконг, КНР',\n",
       "       'США - Франция', 'США - Япония - Франция - Великобритания',\n",
       "       'Гонконг - Сингапур - Таиланд - Великобритания', 'США-Канада',\n",
       "       'Франция - Италия - Великобритания - США', 'Франция - США',\n",
       "       'Ирландия-Великобритания-Германия', 'Чехия', 'США-Австралия',\n",
       "       'СССР, Финляндия', 'США-Франция-Великобритания-Австрия',\n",
       "       'США - Бельгия', 'США - Ирландия - Великобритания',\n",
       "       'Великобритания - США',\n",
       "       'Люксембург - Нидерланды - Испания - Великобритания - США - Италия',\n",
       "       'Великобритания - Франция - США', 'Новая Зеландия - США',\n",
       "       'США - Великобритания - Чехия',\n",
       "       'Канада - Франция - Великобритания', 'Ирландия',\n",
       "       'Великобритания - Германия - США',\n",
       "       'США - Франция - Великобритания', 'Япония', 'СССР, Польша',\n",
       "       'Франция - Испания', 'Канада-Франция', 'Германия - Италия - США',\n",
       "       'Аргентина - Бразилия', 'Дания - Швейцария - Бельгия - Франция',\n",
       "       'США - Испания', 'Германия - США',\n",
       "       'Франция - Австрия - Германия - Италия - США', 'Австрия',\n",
       "       'США - Канада - Германия', 'США - Канада',\n",
       "       'СССР - Швейцария - Франция', 'Россия - Казахстан', 'Гонконг',\n",
       "       'Италия', 'США - ОАЭ', 'Россия',\n",
       "       'США - Франция - Испания - Великобритания',\n",
       "       'Великобритания - Франция', 'США-Италия-Испания-Аргентина',\n",
       "       'Франция-Великобритания', 'КНР - Гонконг',\n",
       "       'Франция - Италия - Швейцария', 'США - Новая Зеландия',\n",
       "       'Франция - Бельгия', 'КНР', 'Германия - Великобритания - Австрия',\n",
       "       'Великобритания - Израиль - Франция - Япония - США', 'Швеция',\n",
       "       'Испания', 'Дания', 'Франция - Бельгия - Люксембург',\n",
       "       'США - Индия - ОАЭ',\n",
       "       'Германия-Канада-Великобритания-Швейцария-Франция',\n",
       "       'Мексика - Чили', 'Аргентина', 'Бразилия', 'Чили', 'Австралия',\n",
       "       'Португалия - Франция', 'США - ЮАР', 'Исландия-Ирландия-Германия',\n",
       "       'США-Индонезия', 'Южная Корея', 'Мексика - Испания - Дания - США',\n",
       "       'Великобритания-США', 'Франция - Италия', 'США-Франция',\n",
       "       'США - Венгрия - Великобритания', 'Бельгия-Франция-Италия',\n",
       "       'Чехия - Германия', 'Германия - Франция', 'США-Нидерланды',\n",
       "       'Украина', 'Великобритания - Германия', 'Франция-Бельгия',\n",
       "       'США-Франция-Испания', 'Италия - Франция', 'Канада',\n",
       "       'Швеция-Франция-Дания', 'Германия-Франция-Польша',\n",
       "       'Франция-Великобритания - Германия',\n",
       "       'США - Бразилия - Франция - Австралия - Великобритания - Германия',\n",
       "       'Германия-Австрия', 'Германия-Италия- Шри-Ланка',\n",
       "       'Великобритания - Испания',\n",
       "       'США - Великобритания - Канада - Швеция',\n",
       "       'Босния и Герцеговина - Франция - Великобритания - Германия - Словения - Бельгия - Сербия',\n",
       "       'Великобритания - Франция - Италия - США', 'США-ОАЭ',\n",
       "       'Испания - Франция', 'США-Великобритания', 'США-ЮАР',\n",
       "       'Великобритания-Австралия - США',\n",
       "       'Норвегия - Швеция - Дания - Германия', 'Норвегия', 'Швейцария',\n",
       "       'Греция - Германия - Франция', 'Норвения', 'Южная Корея - США',\n",
       "       'Чили - Франция - США', 'Австрия - Германия - Франция',\n",
       "       'Швеция - Дания', 'Великобритания - Франция - Бельгия - Италия',\n",
       "       'Франция - Германия', 'Грузия - Франция - Люксембург',\n",
       "       'США - Франция - Великобритания - Бразилия ', 'США - КНР',\n",
       "       'Мексика - Франция', 'США - Германия - Гонконг - Сингапур',\n",
       "       'Финляндия - Австрия - Россия', 'Испания - Куба',\n",
       "       'Великобритания - ЮАР', 'Великобритания - Ирландия', 'Израиль',\n",
       "       'Бразилия - Германия - Порртугалия - Франция ',\n",
       "       'Франция - Канада - Бельгия', 'Франция-Испания',\n",
       "       'Испания - Канада - Япония', 'Иран', 'Швеция-Куба',\n",
       "       'США-Великобритания-Ирландия', 'Гонконг - КНР', 'Нидерланды',\n",
       "       'Испания - Канада', 'Япония-Великобритания',\n",
       "       'Великобритания - Норвегия - Дания - Германия',\n",
       "       'Финляндия - Франция - Германия',\n",
       "       'Мексика - Франция - Нидерланды - Германия', 'США - Индия',\n",
       "       'США-Великобритания-Индия', 'США-Канада-Бельгия',\n",
       "       'Республика Узбекистан', 'Италия ', 'Турция',\n",
       "       'Сербия - Словения - Хорватия - Черногория - Македония',\n",
       "       'Киргизия', 'Германия - Нидерланды - Беларусь - Россия - Латвия',\n",
       "       'Индия', 'Нидерланды - Россия - Германия',\n",
       "       'Великобритания - Нидерланды - Франция - Хорватия',\n",
       "       'Канада - Южная Корея',\n",
       "       'Великобритания - Польша - КНР - Индия - Норвегия',\n",
       "       'Япония - Франция - США - Южная Корея - Турция',\n",
       "       'Мексика - Аргентина - Великобритания', 'Израиль - Франция',\n",
       "       'Польша - Португалия - Франция - Великобритания',\n",
       "       'Австралия - США', 'США - Великобритания ',\n",
       "       'Франция - Люксембург - Бельгия', 'Армения',\n",
       "       'Бельгия - Люксембург - Франция - Швейцария',\n",
       "       'США - Великобритания - Канада', 'Норвегия - Швеция',\n",
       "       'Канада - Франция', 'КНР - Гонконг - США',\n",
       "       'США - Сингапур - Малайзия - Индонезия', 'Германия - Россия',\n",
       "       'Япония - Канада', 'Финляндия - Дания - Германия - Ирландия',\n",
       "       'Франция - Люксембург - Германия - Бельгия - Швейцария - Великобритания ',\n",
       "       'Канада - США', 'США-Италия-Испания', 'США-Испания',\n",
       "       'США - Швейцария - Франция', 'Испания - США - Колумбия',\n",
       "       'Канада-ЮАР', 'Франция - Россия',\n",
       "       'Германия - Финляндия - Австралия', 'Дания - Швеция', 'Бельгия',\n",
       "       'Германия - Франция - Австрия', 'Франция-Индия', 'ЮАР',\n",
       "       'Франция-Перу', 'Франция - Канада', 'Республика Беларусь',\n",
       "       'Великобритания - Австрия - Франция - США',\n",
       "       'Австрия-Германия-Франция', 'США-Россия', 'Германия-США',\n",
       "       'США - Южная Корея', 'Канада - КНР',\n",
       "       'Дания - Швеция - Италия - Франция - Германия',\n",
       "       'Франция-Италия-Испания-Венгрия', 'Франция - Германия - Бельгия',\n",
       "       'Франция-Великобритания-Чехия', 'Румыния - Франция - Бельгия',\n",
       "       'Болгария - Франция - Изриль',\n",
       "       'Израиль - Германия - Польша - Бельгия - Франция - Люксембург',\n",
       "       'Россия, Германия, Франция, Бельгия', 'Индонезия',\n",
       "       'Франция - Португалия', 'Великобритания - Пуэрто-Рико',\n",
       "       'СССР, ФРГ, Западный Берлин', 'Россия, Республика Беларусь',\n",
       "       'США, Великобритания', 'Франция - Австрия', 'Бельгия-Нидерланды',\n",
       "       'Великобритания - США - Индия', 'США - Великобритания - Австралия',\n",
       "       'Канада - Франция - США - ОАЭ - Великобритания',\n",
       "       'США - Австралия - Франция',\n",
       "       'Дания-Франция-Бельгия-Германия-Великобритания',\n",
       "       'Испания - Аргентина', 'Исландия - Финляндия',\n",
       "       'Россия-Польша-Голландия-Словакия', 'Дания - Германия - Швеция',\n",
       "       'Южная Корея - США - Канада', 'Таиланд', 'США-Мальта',\n",
       "       'США -Германия',\n",
       "       'Великобритания - Германия - Франция - Кипр - США', 'Мексика',\n",
       "       'США - Великобритания - Ирландия', 'США - Украина',\n",
       "       'США - Финляндия - Испания - Великобритания - Франция',\n",
       "       'Австралия-Великобритания',\n",
       "       'США - Канада - Афганистан - Бельгия - Франция',\n",
       "       'США - Великобритания - Германия - Новая Зеландия - Бельгия - Франция',\n",
       "       'Франция-Канада',\n",
       "       'Ирландия - Финляндия - Бельгия - Великобритания - США - Швейцария',\n",
       "       'Малайзия - США', 'Германия - Италия',\n",
       "       'США - Франция - Бельгия - Италия', 'Франция - Ирландия - Швеция',\n",
       "       'Азербайджан-Россия', 'Великобритания - Италия - Швейцария',\n",
       "       'США - Германия - Великобритания',\n",
       "       'Германия - Бельгия - США -Франция', 'США-Китай', 'Чили - Испания',\n",
       "       'Франция - Швейцария', 'Канада - Испания',\n",
       "       'США - Румыния - Великобритания', 'США - Япония',\n",
       "       'США - Россия - Франция', 'Франция-США', 'Парагвай',\n",
       "       'Германия - Канада', 'США - Канада - Великобритания',\n",
       "       'Финляндия - Канада', 'Уругвай-Мексика-Германия ', 'США - Чили',\n",
       "       'Германия - Аргентина - Нидерланды - Чили',\n",
       "       'США - Канада - Индонезия', 'Армения - Казахстан', 'Финляндия',\n",
       "       'Испания - Италия - Франция',\n",
       "       'Бельгия - Испания - Канада - Нидерланды',\n",
       "       'Великобритания - Франция - Швеция - Бельгия',\n",
       "       'Мексика - Эквадор - Канада - США - Франция - Малайзия - Италия - Аргентина - Германия - Индия  ',\n",
       "       'Франция - Бенльгия', 'Индия - Великобритания',\n",
       "       'Япония - Великобритания - Франция',\n",
       "       'Испания - Уругвай - Аргентина',\n",
       "       'Франция - Италия - Бельгия - Люксембург',\n",
       "       'Франция - Украина - Грузия - Армения',\n",
       "       'Сербия - Германия - Венгрия', 'Франция-Польша', 'Франция ',\n",
       "       'Румыния-США', 'Россия-Азербайджан',\n",
       "       'США - Нидерланды - Бельгия - Венгрия - Греция - Канада',\n",
       "       'Германия - Франция - Люксембург', 'США - Россия',\n",
       "       'Великобритания - США - Франция', 'США - Австралия - Дания',\n",
       "       'Бельгия-Франция', 'США-Мексика',\n",
       "       'Норвегия - Азербайджан - Россия - Колумбия - Великобритания - Венгрия - Румыния - Франция - Грузия',\n",
       "       'СЩА', 'Бразилия - Испания', 'Россия, Франция, Латвия',\n",
       "       'Нидерланды - США - Германия - Канада - Франция - Ирландия - Великобритания',\n",
       "       'Уругвай - Колумбия', 'США - Испания - Болгария',\n",
       "       'Армения - Германия', 'США - Великобритания- Франция - Швеция',\n",
       "       'США - Мексика', 'Австралия-Турция-США', 'Швеция - Германия',\n",
       "       'Польша - Италия - Россия', 'Франция - Бразилия',\n",
       "       'США - Канада - КНР', 'СССР, Венгрия, ЧССР, ГДР',\n",
       "       'Бельгия - Германия - Люксембург', 'СССР  ', 'СССР ', ' СССР ',\n",
       "       'США - Австралия', 'Бразилия - США',\n",
       "       'США - Великобритания - Канада - КНР', 'Франция - Чили',\n",
       "       'Франция - США - Великобритания - Колумбия - Бельгия - Россия',\n",
       "       'Дания - Великобритания - ЮАР', 'СССР   ',\n",
       "       'Россия-США-Канада-Люксембург', 'Россия - Республика Кипр',\n",
       "       'Германия - США - Швеция - Франция',\n",
       "       'Великобритания-Германия-Канада-ЮАР', ' СССР   ', 'СССР     ',\n",
       "       'Ирландия, Канада',\n",
       "       'Япония - Великобритания - Швейцария - Ирландия - Дания - Франция - Польша - Австралия - Канада  ',\n",
       "       'Великобритания, Канада', 'Бельгия - США',\n",
       "       'Великобритания - США - Россия', 'Россия-Украина',\n",
       "       'Германия - США - Великобритания - Израиль', 'Канада - Германия',\n",
       "       'США- Ю.Корея', 'Индия - Мексика',\n",
       "       'Великобритания - Франция - Республика Кипр - Швейцария - США - Сербия',\n",
       "       'Испания - Аргентина - Индия - США',\n",
       "       'Норвегия - Исландия - США - Великобритания ',\n",
       "       'Турция - Германя - Франция', 'Германия - Великобритания',\n",
       "       'Австралия - Германия', 'Мексика - Испания',\n",
       "       'Великобритания - США - Германия - Бельгия',\n",
       "       'США - Чехия - Франция', 'Россия - Италия', 'Франция-Россия',\n",
       "       'Норвегия - Дания - Швеция', 'Франция - Швейцария - Германия',\n",
       "       'Грузия - Украина', 'Россия - Эстония - Финляндия - Беларусь',\n",
       "       'США - Франция - ЮАР', 'Великобритания - США - Швейцария',\n",
       "       'Канада-США', 'Мексика - Нидерланды - Германия - Франция',\n",
       "       'США - Испания - Франция', 'США - Великобритания - КНР',\n",
       "       'США-Франция-Канада',\n",
       "       'Япония, Великобритания, Австрия, Германия, Ю.Корея',\n",
       "       'Великобритания - Ирландия - США', 'Бельгия - Италия - Франция ',\n",
       "       'Швейцария-Германия-ЮАР', 'Великобритания - США - Германия',\n",
       "       'Германия - Исландия', 'Испания - США', 'СССР    ', 'Хорватия',\n",
       "       'Финляндия - Исландия - Швеция',\n",
       "       'Канада - США - Германия - Франция',\n",
       "       'США - Великобритания - Испания', 'Ирландия-Великобритания',\n",
       "       'Аргентина - Испания', 'Австрия - Германия', ' СССР',\n",
       "       'Германия - Швейцария - Франция - Южная Корея - США',\n",
       "       'Украина - Нидерланды', 'Венгрия - Германия - Швеция',\n",
       "       'Германия - Франция -  Польша - Турция - Канада - Италия - Россия ',\n",
       "       'СССР, Афганистан', 'СССР, Монголия', 'Россия-Кипр',\n",
       "       'Россия, Грузия, Испания',\n",
       "       'Великобритания - Нидерланды - Германия - Франция - Бельгия - Австрия ',\n",
       "       'Испания - Великобритания - Франция',\n",
       "       'Дания - Норвегия - Великобритания',\n",
       "       'Бельгия - Франция - Люксембург',\n",
       "       'Италия - Франция - Швейцария - Великобритания',\n",
       "       'Франция - Бельгия - Великобритания - Испания - Германия - США',\n",
       "       'Швейцария - Израиль - Франция - Великобритания',\n",
       "       'Великобритания - США - Канада - Нидерланды - Франция',\n",
       "       'Россия, Италия', 'СССР, Албания',\n",
       "       'Россия, Украина, Республика Беларусь, Литва',\n",
       "       'Финляндия - Великобритания - Германия', 'Россия, Украина, Польша',\n",
       "       'Франция - Италия - Бельгия - КНР',\n",
       "       'Германия - Бельгия - Люксембург - Ирландия', 'КНР - Сингапур',\n",
       "       'Франция - Бельгия - Великобритания - США - Нидерланды - Канада',\n",
       "       'США - Россия - Польша - Германия - Пуэрто Рико',\n",
       "       'Франция - Бельгия - Канада', 'США ', 'Мексика - США',\n",
       "       'США - Гонконг - КНР ', 'Греция - Россия',\n",
       "       'Ирландия - Дания - Бельгия - Люксембург - Франция',\n",
       "       'Эстония - Россия',\n",
       "       'Великобритания - Исландия - Испания - Швейцария - США',\n",
       "       'Австралия - Великобритания - Бельгия - Индия',\n",
       "       'Швеция - Германия - Франция - Норвегия',\n",
       "       'Нидерланды - Бельгия - Германия - Ирландия',\n",
       "       'Нидерланды - Великобритания - Бельгия',\n",
       "       'США - Колумбия - Испания', 'Франция-Испания-Бельгия-Панама',\n",
       "       'США-Великобритания-Чехия-Румыния',\n",
       "       'Аргентина - Уругвай - Россия - Германия - Франция - Нидерланды',\n",
       "       'Швеция - Франция - Норвегия - Дания',\n",
       "       'Италия-Франция-Великобритания', 'Великобритания, Франция',\n",
       "       'Австралия, США', 'Венесуэла',\n",
       "       'Великобритания - США - Австралия - Ирландия - Германия - Куба - Канада',\n",
       "       'Южная Корея - КНР',\n",
       "       'Аргентина - Мексика - Бразилия - Франция - США', 'Швеция - США',\n",
       "       'Франция - Германия - Турция - Катар', 'Франция-Китай',\n",
       "       'Россия, Германия, Великобритания',\n",
       "       'Великобритания - Италия - Испания', 'Италия - Россия',\n",
       "       'Япония - КНР - Южная Корея', 'Россия, Германия',\n",
       "       'Россия-Ирландия', 'Македония - Франция - Великобритания',\n",
       "       'Франция - Бразилия - Италия', 'Россия-США', 'Армения-Россия',\n",
       "       'Россия, Румыния', 'Франция -  Бельгия', 'Грузия-Франция',\n",
       "       'ЮАР - США', 'Великобритания-США-Франция',\n",
       "       'Великобритания - США - Германия - Канада - Австралия',\n",
       "       'США-Ирландия', 'Россия, Республика Кипр',\n",
       "       'Германия - Люксембург - Франция', 'Россия-Франция',\n",
       "       'США - Нидерланды - Финляндия - Великобритания - Италия',\n",
       "       'Республика Кипр', 'Венгрия', 'Франция - США - Норвегия - Дания',\n",
       "       'Германия - Австрия - Ирландия', 'США - Финляндия',\n",
       "       'Италия-Великобритания', 'Россия, Испания',\n",
       "       'США - Великобритания - Болгария', 'Великобритания - Люксембург',\n",
       "       'Индия - США', 'США - Канада - Россия - Франция - Чили - Ирландия',\n",
       "       'Грузия-Россия',\n",
       "       'Дания - Австрия - Ирландия - Финляндия - Норвегия - Швеция - Нидерланды',\n",
       "       'США-КНР', 'Грузия', 'Австралия - Ирландия',\n",
       "       'Великобритания - Канада', 'Италия - Аргентина - Словения ',\n",
       "       'Испания - Франция - Нидерланды - Германия - Бельгия - Великобритания - Канада',\n",
       "       'Франция - Чехия - Бельгия',\n",
       "       'Великобритания - Франция - Германия - США',\n",
       "       'Ирландия - Великобритания - Франция - США - Германия - Нидерланды',\n",
       "       'США - Канада - Япония - КНР', 'Италия-Франция',\n",
       "       'США - Великобритания - Исландия', 'Великобритания-Франция',\n",
       "       'Франция - Германия - Нидерланды', 'Иран ',\n",
       "       'Франция - Германия - Швеция - США - Чехия - Словакия - Великобритания - Нидерланды',\n",
       "       'Франция - Канада - Н.Зеландия - США - Нидерланды - Германия - Швеция - Россия',\n",
       "       'Турция - США',\n",
       "       'Великобритания - США - Канада - Бельгия - Нидерланды - Австрия - Германия',\n",
       "       'Израиль - Франция - Германия - Палестина - США - Австрия - Великобритания',\n",
       "       'Аргентина - Франция - Испания', 'СССР, Россия',\n",
       "       'Великобритания - Франция - Италия - Индия - Дания - КНР - Бангладеш - Камбоджа - Гаити - Уганда',\n",
       "       'Италия - Франция - Швейцария',\n",
       "       'Ирландия - Великобритания - Канада', 'Перу', 'США - Норвегия',\n",
       "       'Испания-Канада', 'Китай-Гонконг', 'США - Германия - КНР',\n",
       "       'Великобритания - Новая Зеландия',\n",
       "       'Франция - Дания - Швеция - КНР',\n",
       "       'США - Великобритания - Германия - Бельгия - Дания', nan,\n",
       "       'СССР, Румыния, Франция', 'СССР, ГДР', 'Австралия-Ирландия',\n",
       "       'США - Китай', 'Великобритания - Франция - Австрия - Швеция',\n",
       "       'Россия, Таджикистан', 'Нидерланды - Бельгия - Болгария',\n",
       "       'Великобритания - Канада - США', 'Франция - Бельгия - Испания',\n",
       "       'Китай-Гонконг-США', 'Франция - Великобритания', 'США - Вьетнам',\n",
       "       'США - Германия - Франция', 'Германия - Франция - Бельгия',\n",
       "       'США - Италия',\n",
       "       'Германия - Дания - Испания - Швеция - Канада - Эстония - Франция',\n",
       "       'Княжество Андорра - Украина', 'Германия - Люксембург - Бельгия',\n",
       "       'Великобритания - Россия - Украина - США',\n",
       "       'Германия - Бельгия - Люксембург - Норвегия',\n",
       "       'США - Австралия - Новая Зеландия - Великобритания',\n",
       "       'США - Франция - Канада - Великобритания', 'Испания-Колумбия',\n",
       "       'Великобритания - Чехия - Франция', 'Россия, Украина', 'Исландия',\n",
       "       'Великобритания - Франция - Венгрия',\n",
       "       'Россия, Франция, Германия, Бельгия', 'Франция - Македония',\n",
       "       'Нидерланды - Франция - Германия - Бельгия - Швеция - Великобритания',\n",
       "       'Испания - США - Великобритания - Канада', 'Германия - Австрия',\n",
       "       'Республика Казахстан',\n",
       "       'Франция - Испания - Дания - Венгрия - Швейцария', 'Франция-КНР',\n",
       "       'США - Пуэрто-Рико - Франция ', 'Мексика - Тайвань - США',\n",
       "       'Великобритания - Испания - Непал - Индия - Венгрия - Гонконг - Германия - Дания - Бахрейн',\n",
       "       'Великобритания - Аргентина - США - Франция - Россия - Испания',\n",
       "       'КНР - США', 'Италия - США', 'Финляндия - Швеция - Германия',\n",
       "       'Канада- Испания', 'Франция - Бельгия - Чехия',\n",
       "       'Франция-Бельгия-Канада', 'Франция - Германия - США',\n",
       "       'США - Дания', 'Индия - КНР', 'Чехия-Великобритания-США',\n",
       "       'США-ФРГ-Россия', 'Ирландия-Нидерланды-Франция-США-Великобритания',\n",
       "       'Россия, Грузия, Хорватия, Испания',\n",
       "       'Финляндия - Швеция - Норвегия', 'Сербия - Великобритания - США',\n",
       "       'США - Великобритания - Франция - Гонконг', 'Швейцария - Франция',\n",
       "       'Швейцария - Великобритания', 'ОАЭ - США',\n",
       "       'США - Франция - Германия - Канада - Австралия ',\n",
       "       'Германия - Австралия', 'Иран, Франция',\n",
       "       'США - Великобритания - Новая Зеландия', 'США-Колумбия',\n",
       "       'США-Франция-Ирландия', 'Великобритания - Франция - Бельгия',\n",
       "       'США - Великобритания - Япония', 'США - Франция - Германия',\n",
       "       'Польша - Ирландия', 'Ирландия - Великобритания - Франция - США',\n",
       "       'США - Бельгия - Великобритания', 'СССР, ВНР',\n",
       "       'Испания - Франция - США - Великобритания - Бельгия',\n",
       "       'Франция - Дания - США', 'США - Гонконг', 'Бразилия - К;анада',\n",
       "       'Франция-Германия', 'США - Колумбия',\n",
       "       'США - Ирландия - Великобритания - Франция',\n",
       "       'Великобритания - США - Канада', 'Польша - Франция',\n",
       "       'Канада - США - Нидерланды - Великобритания - Аргентина',\n",
       "       'Великобритания - Дания', 'Франция - Бельгия - Япония',\n",
       "       'Россия,  Испания', 'Франция -Бельгия',\n",
       "       'США - Канада - Германия - Франция', 'США-Канада-Франция',\n",
       "       'Россия - Германия', 'Россия-Италия', 'Китай - Гонконг',\n",
       "       'Германия-Австрия-Франция-Италия', 'США-Япония',\n",
       "       'США - Германия - Канада', 'Испания-Мексика',\n",
       "       'США - Япония - Канада - Великобритания - Германия - Франция',\n",
       "       'США -Великобритания - Австралия', 'Россия-Украина-Германия',\n",
       "       'Израиль - Франция - Великобритания - Германия', 'Корея',\n",
       "       'Россия - Болгария', 'США-Индия',\n",
       "       'Германия-Канада-Франция-Бельгия', 'Германия-Кения',\n",
       "       'Франция - Монако', 'Франция-Испания-Швейцария',\n",
       "       'Австрия-Франция-Германия', 'Румыния',\n",
       "       'США-Великобритания-Франция', 'Канада-Великобритания',\n",
       "       'Канада-Бразилия-Япония', 'Германия - Дания - Норвегия',\n",
       "       'Дания - Германия', 'СССР - Италия',\n",
       "       'СССР - ГДР - Польша - Италия',\n",
       "       'США - Испания - Франция - Великобритания', 'Китай',\n",
       "       'Мексика-Аргентина',\n",
       "       'Германия - Великобритания - Италия - Испания',\n",
       "       'Франция-Германия-Великобритания', 'Россия - Германия - Швейцария',\n",
       "       'Франция-Австралия', 'Голландия', 'Швейцария-Франция',\n",
       "       'Россия-Белоруссия', 'Франция - Испания - Тайвань',\n",
       "       'США-Южная Корея-Новая Зеландия', 'Великобритания-Венгрия',\n",
       "       'Россия-Германия', 'Великобритания-Франция-Германия',\n",
       "       'Франция-Германия-Италия', 'Швеция-Финляндия-Франция-Норвегия',\n",
       "       'Франция-Италия', 'Германия-Израиль',\n",
       "       'Швеция - Германия - Дания - Норвегия', 'США-Бельгия',\n",
       "       'Франция-Гонконг-Ирландия', 'Эстония', 'Литва-Россия-Украина',\n",
       "       'Германия - Италия - Франция',\n",
       "       'Великобритания - Австрия - Германия', 'Бельгия - Франция',\n",
       "       'Россия-Казахстан', 'Испания - Мальта',\n",
       "       'Франция-Россия-Румыния-Италия-Бельгия', 'Россия - Польша',\n",
       "       'Испания - Мексика', 'США-Аргентина', 'Великобритания ',\n",
       "       'Израиль-США-Франция', 'США - Новая Зеландия - Япония',\n",
       "       'Франция - Чехия - Великобритания', 'Россия-Польша',\n",
       "       'Германия-Франция-Великобритания', 'США-Германия-Канада',\n",
       "       'США-Гонконг-Китай', 'США - Великобритания - Германия',\n",
       "       'США-Канада-Австралия', 'Япония-США-Франция',\n",
       "       'Франция-Испания-Германия', 'США - Хорватия - Босния-Герцеговина',\n",
       "       'Великобритания - Чехия - Франция - Италия',\n",
       "       'США - Германия - Нидерланды', 'Германия - Франция - Канада',\n",
       "       'Франция-Грузия-Германия-Россия-Украина-Бельгия',\n",
       "       'Великобритания - Франция - Италия', 'Россия - США',\n",
       "       'Франция - Италия - Иран', 'Россия - Азербайджан', 'Греция',\n",
       "       'Дания - США', 'США-Великобритания-Новая Зеландия',\n",
       "       'США-Германия-Австралия', 'США-Канада-Италия',\n",
       "       'США - Япония - Германия', 'Австралия-США',\n",
       "       'Франция - Великобритания - Багамские острова - США',\n",
       "       'Швейцария - Люксембург', 'Швейцария - Австрия',\n",
       "       'Германия - Швейцария', 'Дания-Швеция-Франция-Германия', 'Польша',\n",
       "       'Швейцария-Австрия', 'Бразилия - Канада - США',\n",
       "       'Нидерланды - Россия', 'Португалия', 'Франция-Аргентина',\n",
       "       'Швеция-Франция', 'Франция-Украина', 'Германия-Украина-Нидерланды',\n",
       "       'Италия-Швейцария', 'США-Германия-Великобритания',\n",
       "       'Латвия - Россия', 'Германия-Франция-Великобритания-США',\n",
       "       'Канада - Италия', 'США - Объединенные Арабские Эмираты',\n",
       "       'США-Венгрия', 'Малайзия', 'Россия - Германия - Украина',\n",
       "       'США - Австралия - Мексика', 'Литва - Венгрия', 'Германия - Китай',\n",
       "       'Казахстан', 'Республика Корея',\n",
       "       'США - Германия - Франция - Великобритания - Канада ',\n",
       "       'Бельгия - Германия - Люксембург - Франция', 'Франция - Греция',\n",
       "       'Италия - Канада', 'США - Великобритания - Франция',\n",
       "       'США-Италия-Греция', 'Германия - США - Великобритания - Ирландия',\n",
       "       'Великобритания - Франция - Германия',\n",
       "       'Германия - Нидерланды - ЮАР',\n",
       "       'США-Япония-Германия-Великобритания-Нидерланды',\n",
       "       'США-Япония-Германия-Великобритания',\n",
       "       'Германия - Франция - Польша',\n",
       "       'Таиланд-Великобритания-Франция-Германия-Испания-Нидерланды',\n",
       "       'Германия-Италия-Швейцария',\n",
       "       'Дания - Швеция - Великобритания - Франция - Германия - Нидерланды - Норвегия - Финляндия',\n",
       "       'Франция - Великобритания - Нидерланды - Люксембург',\n",
       "       'Нидерланды-Великобритания-Франция-Италия-Япония',\n",
       "       'Финляндия-Дания-Германия-Ирландия', 'Испания-Аргентина',\n",
       "       'Великобритания - Нидерланды - Франция - США', 'Канада - Мексика',\n",
       "       'США, Франция', 'Канада-Южная Корея-США',\n",
       "       'Великобритания - Франция - Бельгия - США', 'КНР - Канада - США',\n",
       "       'Италия - Франция - Германия',\n",
       "       'Швеция - Германия - Франция - Дания', 'Франция - США - Бельгия',\n",
       "       'Украина - Германия - Латвия - Эстония', 'Австрия - Люксембург',\n",
       "       'Великобритания - КНР', 'Монголия', 'Франция - Дания',\n",
       "       'Швеция - Дания - Финляндия',\n",
       "       'Сингапур - Великобритания - Индонезия - Канада - США',\n",
       "       'США - Германия - Япония', 'Таиланд - США', 'Франция - Нидерланды',\n",
       "       'Великобритания - Румыния', 'США - Мальта',\n",
       "       'Великобритания - Германия - Нидерланды - Дания',\n",
       "       'Франция - Германия - Литва - Нидерланды - Россия',\n",
       "       'США - ЮАР - Гонконг', 'Австралия - Колумбия',\n",
       "       'Великобритания - Польша', 'США - Великобритания - Швеция',\n",
       "       'Франция - Швеция - Дания - Норвегия', 'Болгария - США',\n",
       "       'СССР, ФРГ', 'Бельгия - Нидерланды - Франция',\n",
       "       'Финляндия - Германия', 'Болгария',\n",
       "       'Грузия - Россия - Украина - Хорватия - Германия',\n",
       "       'Франция - Люксембург', 'Франция - Германия - Австрия',\n",
       "       'Норвегия - США', 'Германия-Швеция', 'Франция - Германия - Италия',\n",
       "       'Франция-Германия-Австрия', 'КНР-США',\n",
       "       'Великобритания - Ирландия - США ',\n",
       "       'Дания - Латвия - Россия - США', 'Финляндия - Польша',\n",
       "       'Германия - Бельгия', 'Германия - США - Франция - Испания',\n",
       "       'Бельгия-Германия-Канада-Франция-США-Великобритания',\n",
       "       'Нидерланды - Бельгия - Люксембург', 'Канада-Германия',\n",
       "       'Люксембург - Бельгия - Франция', 'США-Великобритания-Австралия',\n",
       "       'Великобритания, Новая Зеландия', 'Бельгия, Великобритания, США',\n",
       "       'Великобритания, Австралия', 'Исландия, Бельгия',\n",
       "       'Испания - Швейцария - Великобритания - Германия - Новая Зеландия - Нидерланды - Канада',\n",
       "       'Франция, Бельгия', 'Великобритания, США', 'Киргизия-Россия',\n",
       "       'Германия, США', 'Великобритания, США, Испания',\n",
       "       'Италия - Швейцария - Германия', 'Россия, Армения',\n",
       "       'Франция, Германия', 'Китай, Канада, США', 'Германия, Австралия',\n",
       "       'КНР, США', 'США, Великобритания, Люксембург',\n",
       "       'Испания, Ирландия, Бельгия, Франция',\n",
       "       'Великобритания - Гонконг - Венгрия - США - Ирландия',\n",
       "       'США - Пуэрто Рико', 'Аргентина - Испания - Уругвай',\n",
       "       'Израиль - Германия - Франция - Швейцария',\n",
       "       'Великобритания - Мексика - США', 'Испания - Болгария - США',\n",
       "       'Россия-Словакия-Чехия',\n",
       "       'Швейцария - КНР - США - Россия - Республика Корея - Великобритания',\n",
       "       'Россия, Нидерланды, Финляндия',\n",
       "       'Испания - Бельгия - Франция - Португалия - Великобритания',\n",
       "       'Бразилия - Португалия - Франция', 'Швеция - Норвегия',\n",
       "       'Франция - Польша - Бельгия', 'CША', 'Китай, США',\n",
       "       'Италия, Франция, Германия', 'Германия - Австрия - Франция',\n",
       "       'Чехия - Словакия - Хорватия', 'Россия, Польша, Финляндия',\n",
       "       'Россия, Латвия, Чешская Республика',\n",
       "       'Франция - Великобритания - Камбоджа - США - КНР',\n",
       "       'Чехия - Испания - США', 'Германия - Люксембург - Дания',\n",
       "       'Великобритания - Испания - Германия', 'Дания - Исландия',\n",
       "       'Германия, Франция, Великобритания',\n",
       "       'Великобритания - Испания - Италия - Латвия - Франция - Эстония',\n",
       "       'Дания, Швеция, Великобритания, Франция, Германия, Норвегия, Финляндия, Нидерланды, Италия',\n",
       "       'Польша - Франция - Великобритания',\n",
       "       'Дания, Норвегия, Венгрия, Чехия',\n",
       "       'Дания - Франция - Германия - Швеция',\n",
       "       'Великобритания, Швеция, США',\n",
       "       'Канада, Франция, Италия, Швейцария, США', 'США, Индия',\n",
       "       'США - Великобритания - Германия - - Швеция - Канада',\n",
       "       'Италия, Франция', 'Республика Беларусь, Германия, США, Россия',\n",
       "       'Италия-Швейцария-Франция-Германия ',\n",
       "       'Россия - Франция - Великобритания - Латвия', 'Россия-Беларусь',\n",
       "       'Франция - Испания - Румыния - США - Бельгия', 'Италия-США',\n",
       "       'Россия, Австрия', 'Ирландия - Великобритания - США',\n",
       "       'Швейцария, Великобритания, Франция, США, Ирландия',\n",
       "       'Мексика, Франция, Германия, Дания, Швеция', 'Нидерланды, Бельгия',\n",
       "       'Швеция, Норвегия, Финляндия, Франция', 'Испания, Франция, Италия',\n",
       "       'Испания-Франция-Греция-Индия-США-Россия-Великобритания',\n",
       "       'Великобритания - Япония - США',\n",
       "       'Дания, Канада, Норвегия, Австралия, США', 'Аргентина, Испания',\n",
       "       'Россия, Германия, Казахстан, Польша, Китай',\n",
       "       'Португалия, Франция, Польша, США', 'США - Канада - Аргентина',\n",
       "       'Ливан-США', 'Япония - США', 'США, Гонконг ',\n",
       "       'Франция - Россия - Швейцария - Румыния - Венгрия',\n",
       "       'Аргентина-Испания', 'Россия, Сербия', 'США - Болгария - Мексика',\n",
       "       'США - Великобритания - Швейцария - Франция',\n",
       "       'Таиланд - КНР - США',\n",
       "       'Великобритания, Нидерланды, Польша, Швейцария, Франция',\n",
       "       'Ирландия - США',\n",
       "       'Германия - Франция - Великобритания - Польша - США',\n",
       "       'Великобритания-Франция-Италия', 'США - Австралия - Индия',\n",
       "       'Франция - КНР', 'Великобритания - Израиль',\n",
       "       'Великобритания - Норвегия - Кения - Хорватия',\n",
       "       'США - Бразилия - Великобритания - Канада', 'Германия, Бельгия',\n",
       "       'Австралия, Канада', 'США, Великобритания, Франция',\n",
       "       'Кения, Германия', 'Нидерланды, Бельгия, Люксембург', 'Колумбия',\n",
       "       'Латвия - Франция', 'Ирландия, Великобритания',\n",
       "       'Франция - Израиль - Германия', 'Швеция, Франция, Великобритания',\n",
       "       'Бельгия - Люксембург', 'Германия - Бельгия - Великобритания',\n",
       "       'Испания, Франция, Великобритания, Дания, Бельгия, Германия',\n",
       "       'Румыния, ЮАР, Иран, Франция, Канада, Великобритания',\n",
       "       'Германия, Франция', 'США, Япония',\n",
       "       'США, Великобритания, Ирландия, Люксембург', 'Республика Армения',\n",
       "       'США, Франция, Япония', 'Япония, США', 'Канада, США',\n",
       "       'Республика Кипр - Россия',\n",
       "       'Дания - Франция - Италия - Бельгия - Нидерланды',\n",
       "       'Россия - Грузия', 'Италия, Германия', 'Норвегия, Швеция, Дания',\n",
       "       'Республика Кипр, Россия', 'КНР, Индия, Гонконг, США',\n",
       "       'Израиль, Украина', 'США, Россия', 'США - КНР - Индия - Ю.Корея',\n",
       "       'США - Швеция', 'Франция, Канада', 'Россия-Китай',\n",
       "       'Канада, Великобритания', 'США, Германия',\n",
       "       'Канада, США, Каймановы острова',\n",
       "       'Бразилия, Уругвай, Дания, Норвегия, Чили, Швеция',\n",
       "       'Пуэрто-Рико, Великобритания, США',\n",
       "       'Уругвай - Аргентина - Испания',\n",
       "       'США - Великобритания - Италия - Израиль - Сербия - Индия',\n",
       "       'США - Канада - Франция - Индия', 'Великобритания - Россия - КНР',\n",
       "       'Франция, Новая Зеландия', 'Франция, Люксембург, Бельгия',\n",
       "       'Канада, США, Норвегия', 'Италия, Испания',\n",
       "       'Испания - Германия - Нидерланды', 'Бразилия - США - КНР ',\n",
       "       'Великобритания, Германия, Дания, США', '2019',\n",
       "       'Италия - Фрация - Бразилия - Германия',\n",
       "       'Норвегия - Швеция - Россия', 'Великобритания, Япония, США',\n",
       "       'Сша, Канада', 'Бельгия, Канада',\n",
       "       'Великобритания - Австралия - США', 'США, Канада', 'КНР - США ',\n",
       "       'Франция - Финляндия', 'Колумбия - США',\n",
       "       'Великобритания, Франция, Бельгия', 'Норвегия - Нидерланды',\n",
       "       'Великобритания, Канада, США', 'Япония, Великобритания',\n",
       "       'Италия - Бельгия - Франция', 'Россия, Бельгия, Финляндия',\n",
       "       'США, Украина', 'Франция, Норвегия',\n",
       "       'Великобритания, Южная Корея, Канада, США, Индия, Китай, Япония',\n",
       "       'Канада - Норвегия', 'Республика Кипр-Россия', 'Германия, Россия',\n",
       "       'Польша - Франция - Испания - Бразилия - Швеция',\n",
       "       'Австрия, Великобритания, Германия', 'Франция - Сенегал - Бельгия',\n",
       "       'Франция, Бельгия, Люксембург', 'Финляндия, Латвия', 'Пакистан',\n",
       "       'Германия, Франция, США', 'Германия - Великобритания - США',\n",
       "       'КНР - Франция', 'Дания, Норвегия, Швеция, Исландия',\n",
       "       'Республика Кипр, США, Россия', 'Новая Зеландия - КНР',\n",
       "       'Дания - Канада - Швеция - Франция - Германия - Великобритания - США'],\n",
       "      dtype=object)"
      ]
     },
     "execution_count": 33,
     "metadata": {},
     "output_type": "execute_result"
    }
   ],
   "source": [
    "data['production_country'].unique()"
   ]
  },
  {
   "cell_type": "code",
   "execution_count": 34,
   "metadata": {},
   "outputs": [],
   "source": [
    "data['production_country'] = (data['production_country'].replace([' - '], '-', regex=True))"
   ]
  },
  {
   "cell_type": "code",
   "execution_count": 35,
   "metadata": {},
   "outputs": [
    {
     "data": {
      "text/plain": [
       "array(['США', 'СССР', 'Франция', 'СССР, Венгрия',\n",
       "       'Германия-Великобритания', 'Великобритания-Италия', 'Чехословакия',\n",
       "       'США-Франция-Турция', 'Новая Зеландия', 'Канада-Франция-Испания',\n",
       "       'США-Германия', 'США-Великобритания', 'Великобритания',\n",
       "       'Франция-Мексика-США', 'Россия, Казахстан, США', 'СССР, Швеция',\n",
       "       'СССР, Франция, Англия, Куба, ГДР', 'Германия',\n",
       "       'Великобритания-США-Германия-КНР',\n",
       "       'СССР, ЧССР, Западный Берлин, ПНР', 'СССР, Италия', 'Гонконг, КНР',\n",
       "       'США-Франция', 'США-Япония-Франция-Великобритания',\n",
       "       'Гонконг-Сингапур-Таиланд-Великобритания', 'США-Канада',\n",
       "       'Франция-Италия-Великобритания-США', 'Франция-США',\n",
       "       'Ирландия-Великобритания-Германия', 'Чехия', 'США-Австралия',\n",
       "       'СССР, Финляндия', 'США-Франция-Великобритания-Австрия',\n",
       "       'США-Бельгия', 'США-Ирландия-Великобритания', 'Великобритания-США',\n",
       "       'Люксембург-Нидерланды-Испания-Великобритания-США-Италия',\n",
       "       'Великобритания-Франция-США', 'Новая Зеландия-США',\n",
       "       'США-Великобритания-Чехия', 'Канада-Франция-Великобритания',\n",
       "       'Ирландия', 'Великобритания-Германия-США',\n",
       "       'США-Франция-Великобритания', 'Япония', 'СССР, Польша',\n",
       "       'Франция-Испания', 'Канада-Франция', 'Германия-Италия-США',\n",
       "       'Аргентина-Бразилия', 'Дания-Швейцария-Бельгия-Франция',\n",
       "       'США-Испания', 'Германия-США',\n",
       "       'Франция-Австрия-Германия-Италия-США', 'Австрия',\n",
       "       'США-Канада-Германия', 'СССР-Швейцария-Франция',\n",
       "       'Россия-Казахстан', 'Гонконг', 'Италия', 'США-ОАЭ', 'Россия',\n",
       "       'США-Франция-Испания-Великобритания', 'Великобритания-Франция',\n",
       "       'США-Италия-Испания-Аргентина', 'Франция-Великобритания',\n",
       "       'КНР-Гонконг', 'Франция-Италия-Швейцария', 'США-Новая Зеландия',\n",
       "       'Франция-Бельгия', 'КНР', 'Германия-Великобритания-Австрия',\n",
       "       'Великобритания-Израиль-Франция-Япония-США', 'Швеция', 'Испания',\n",
       "       'Дания', 'Франция-Бельгия-Люксембург', 'США-Индия-ОАЭ',\n",
       "       'Германия-Канада-Великобритания-Швейцария-Франция', 'Мексика-Чили',\n",
       "       'Аргентина', 'Бразилия', 'Чили', 'Австралия', 'Португалия-Франция',\n",
       "       'США-ЮАР', 'Исландия-Ирландия-Германия', 'США-Индонезия',\n",
       "       'Южная Корея', 'Мексика-Испания-Дания-США', 'Франция-Италия',\n",
       "       'США-Венгрия-Великобритания', 'Бельгия-Франция-Италия',\n",
       "       'Чехия-Германия', 'Германия-Франция', 'США-Нидерланды', 'Украина',\n",
       "       'Великобритания-Германия', 'США-Франция-Испания', 'Италия-Франция',\n",
       "       'Канада', 'Швеция-Франция-Дания', 'Германия-Франция-Польша',\n",
       "       'Франция-Великобритания-Германия',\n",
       "       'США-Бразилия-Франция-Австралия-Великобритания-Германия',\n",
       "       'Германия-Австрия', 'Германия-Италия- Шри-Ланка',\n",
       "       'Великобритания-Испания', 'США-Великобритания-Канада-Швеция',\n",
       "       'Босния и Герцеговина-Франция-Великобритания-Германия-Словения-Бельгия-Сербия',\n",
       "       'Великобритания-Франция-Италия-США', 'Испания-Франция',\n",
       "       'Великобритания-Австралия-США', 'Норвегия-Швеция-Дания-Германия',\n",
       "       'Норвегия', 'Швейцария', 'Греция-Германия-Франция', 'Норвения',\n",
       "       'Южная Корея-США', 'Чили-Франция-США', 'Австрия-Германия-Франция',\n",
       "       'Швеция-Дания', 'Великобритания-Франция-Бельгия-Италия',\n",
       "       'Франция-Германия', 'Грузия-Франция-Люксембург',\n",
       "       'США-Франция-Великобритания-Бразилия ', 'США-КНР',\n",
       "       'Мексика-Франция', 'США-Германия-Гонконг-Сингапур',\n",
       "       'Финляндия-Австрия-Россия', 'Испания-Куба', 'Великобритания-ЮАР',\n",
       "       'Великобритания-Ирландия', 'Израиль',\n",
       "       'Бразилия-Германия-Порртугалия-Франция ', 'Франция-Канада-Бельгия',\n",
       "       'Испания-Канада-Япония', 'Иран', 'Швеция-Куба',\n",
       "       'США-Великобритания-Ирландия', 'Гонконг-КНР', 'Нидерланды',\n",
       "       'Испания-Канада', 'Япония-Великобритания',\n",
       "       'Великобритания-Норвегия-Дания-Германия',\n",
       "       'Финляндия-Франция-Германия',\n",
       "       'Мексика-Франция-Нидерланды-Германия', 'США-Индия',\n",
       "       'США-Великобритания-Индия', 'США-Канада-Бельгия',\n",
       "       'Республика Узбекистан', 'Италия ', 'Турция',\n",
       "       'Сербия-Словения-Хорватия-Черногория-Македония', 'Киргизия',\n",
       "       'Германия-Нидерланды-Беларусь-Россия-Латвия', 'Индия',\n",
       "       'Нидерланды-Россия-Германия',\n",
       "       'Великобритания-Нидерланды-Франция-Хорватия', 'Канада-Южная Корея',\n",
       "       'Великобритания-Польша-КНР-Индия-Норвегия',\n",
       "       'Япония-Франция-США-Южная Корея-Турция',\n",
       "       'Мексика-Аргентина-Великобритания', 'Израиль-Франция',\n",
       "       'Польша-Португалия-Франция-Великобритания', 'Австралия-США',\n",
       "       'США-Великобритания ', 'Франция-Люксембург-Бельгия', 'Армения',\n",
       "       'Бельгия-Люксембург-Франция-Швейцария',\n",
       "       'США-Великобритания-Канада', 'Норвегия-Швеция', 'КНР-Гонконг-США',\n",
       "       'США-Сингапур-Малайзия-Индонезия', 'Германия-Россия',\n",
       "       'Япония-Канада', 'Финляндия-Дания-Германия-Ирландия',\n",
       "       'Франция-Люксембург-Германия-Бельгия-Швейцария-Великобритания ',\n",
       "       'Канада-США', 'США-Италия-Испания', 'США-Швейцария-Франция',\n",
       "       'Испания-США-Колумбия', 'Канада-ЮАР', 'Франция-Россия',\n",
       "       'Германия-Финляндия-Австралия', 'Дания-Швеция', 'Бельгия',\n",
       "       'Германия-Франция-Австрия', 'Франция-Индия', 'ЮАР', 'Франция-Перу',\n",
       "       'Франция-Канада', 'Республика Беларусь',\n",
       "       'Великобритания-Австрия-Франция-США', 'США-Россия',\n",
       "       'США-Южная Корея', 'Канада-КНР',\n",
       "       'Дания-Швеция-Италия-Франция-Германия',\n",
       "       'Франция-Италия-Испания-Венгрия', 'Франция-Германия-Бельгия',\n",
       "       'Франция-Великобритания-Чехия', 'Румыния-Франция-Бельгия',\n",
       "       'Болгария-Франция-Изриль',\n",
       "       'Израиль-Германия-Польша-Бельгия-Франция-Люксембург',\n",
       "       'Россия, Германия, Франция, Бельгия', 'Индонезия',\n",
       "       'Франция-Португалия', 'Великобритания-Пуэрто-Рико',\n",
       "       'СССР, ФРГ, Западный Берлин', 'Россия, Республика Беларусь',\n",
       "       'США, Великобритания', 'Франция-Австрия', 'Бельгия-Нидерланды',\n",
       "       'Великобритания-США-Индия', 'США-Великобритания-Австралия',\n",
       "       'Канада-Франция-США-ОАЭ-Великобритания', 'США-Австралия-Франция',\n",
       "       'Дания-Франция-Бельгия-Германия-Великобритания',\n",
       "       'Испания-Аргентина', 'Исландия-Финляндия',\n",
       "       'Россия-Польша-Голландия-Словакия', 'Дания-Германия-Швеция',\n",
       "       'Южная Корея-США-Канада', 'Таиланд', 'США-Мальта', 'США -Германия',\n",
       "       'Великобритания-Германия-Франция-Кипр-США', 'Мексика',\n",
       "       'США-Украина', 'США-Финляндия-Испания-Великобритания-Франция',\n",
       "       'Австралия-Великобритания',\n",
       "       'США-Канада-Афганистан-Бельгия-Франция',\n",
       "       'США-Великобритания-Германия-Новая Зеландия-Бельгия-Франция',\n",
       "       'Ирландия-Финляндия-Бельгия-Великобритания-США-Швейцария',\n",
       "       'Малайзия-США', 'Германия-Италия', 'США-Франция-Бельгия-Италия',\n",
       "       'Франция-Ирландия-Швеция', 'Азербайджан-Россия',\n",
       "       'Великобритания-Италия-Швейцария', 'США-Германия-Великобритания',\n",
       "       'Германия-Бельгия-США -Франция', 'США-Китай', 'Чили-Испания',\n",
       "       'Франция-Швейцария', 'Канада-Испания',\n",
       "       'США-Румыния-Великобритания', 'США-Япония', 'США-Россия-Франция',\n",
       "       'Парагвай', 'Германия-Канада', 'США-Канада-Великобритания',\n",
       "       'Финляндия-Канада', 'Уругвай-Мексика-Германия ', 'США-Чили',\n",
       "       'Германия-Аргентина-Нидерланды-Чили', 'США-Канада-Индонезия',\n",
       "       'Армения-Казахстан', 'Финляндия', 'Испания-Италия-Франция',\n",
       "       'Бельгия-Испания-Канада-Нидерланды',\n",
       "       'Великобритания-Франция-Швеция-Бельгия',\n",
       "       'Мексика-Эквадор-Канада-США-Франция-Малайзия-Италия-Аргентина-Германия-Индия  ',\n",
       "       'Франция-Бенльгия', 'Индия-Великобритания',\n",
       "       'Япония-Великобритания-Франция', 'Испания-Уругвай-Аргентина',\n",
       "       'Франция-Италия-Бельгия-Люксембург',\n",
       "       'Франция-Украина-Грузия-Армения', 'Сербия-Германия-Венгрия',\n",
       "       'Франция-Польша', 'Франция ', 'Румыния-США', 'Россия-Азербайджан',\n",
       "       'США-Нидерланды-Бельгия-Венгрия-Греция-Канада',\n",
       "       'Германия-Франция-Люксембург', 'Великобритания-США-Франция',\n",
       "       'США-Австралия-Дания', 'Бельгия-Франция', 'США-Мексика',\n",
       "       'Норвегия-Азербайджан-Россия-Колумбия-Великобритания-Венгрия-Румыния-Франция-Грузия',\n",
       "       'СЩА', 'Бразилия-Испания', 'Россия, Франция, Латвия',\n",
       "       'Нидерланды-США-Германия-Канада-Франция-Ирландия-Великобритания',\n",
       "       'Уругвай-Колумбия', 'США-Испания-Болгария', 'Армения-Германия',\n",
       "       'США-Великобритания- Франция-Швеция', 'Австралия-Турция-США',\n",
       "       'Швеция-Германия', 'Польша-Италия-Россия', 'Франция-Бразилия',\n",
       "       'США-Канада-КНР', 'СССР, Венгрия, ЧССР, ГДР',\n",
       "       'Бельгия-Германия-Люксембург', 'СССР  ', 'СССР ', ' СССР ',\n",
       "       'Бразилия-США', 'США-Великобритания-Канада-КНР', 'Франция-Чили',\n",
       "       'Франция-США-Великобритания-Колумбия-Бельгия-Россия',\n",
       "       'Дания-Великобритания-ЮАР', 'СССР   ',\n",
       "       'Россия-США-Канада-Люксембург', 'Россия-Республика Кипр',\n",
       "       'Германия-США-Швеция-Франция',\n",
       "       'Великобритания-Германия-Канада-ЮАР', ' СССР   ', 'СССР     ',\n",
       "       'Ирландия, Канада',\n",
       "       'Япония-Великобритания-Швейцария-Ирландия-Дания-Франция-Польша-Австралия-Канада  ',\n",
       "       'Великобритания, Канада', 'Бельгия-США',\n",
       "       'Великобритания-США-Россия', 'Россия-Украина',\n",
       "       'Германия-США-Великобритания-Израиль', 'Канада-Германия',\n",
       "       'США- Ю.Корея', 'Индия-Мексика',\n",
       "       'Великобритания-Франция-Республика Кипр-Швейцария-США-Сербия',\n",
       "       'Испания-Аргентина-Индия-США',\n",
       "       'Норвегия-Исландия-США-Великобритания ', 'Турция-Германя-Франция',\n",
       "       'Австралия-Германия', 'Мексика-Испания',\n",
       "       'Великобритания-США-Германия-Бельгия', 'США-Чехия-Франция',\n",
       "       'Россия-Италия', 'Норвегия-Дания-Швеция',\n",
       "       'Франция-Швейцария-Германия', 'Грузия-Украина',\n",
       "       'Россия-Эстония-Финляндия-Беларусь', 'США-Франция-ЮАР',\n",
       "       'Великобритания-США-Швейцария',\n",
       "       'Мексика-Нидерланды-Германия-Франция', 'США-Испания-Франция',\n",
       "       'США-Великобритания-КНР', 'США-Франция-Канада',\n",
       "       'Япония, Великобритания, Австрия, Германия, Ю.Корея',\n",
       "       'Великобритания-Ирландия-США', 'Бельгия-Италия-Франция ',\n",
       "       'Швейцария-Германия-ЮАР', 'Великобритания-США-Германия',\n",
       "       'Германия-Исландия', 'Испания-США', 'СССР    ', 'Хорватия',\n",
       "       'Финляндия-Исландия-Швеция', 'Канада-США-Германия-Франция',\n",
       "       'США-Великобритания-Испания', 'Ирландия-Великобритания',\n",
       "       'Аргентина-Испания', 'Австрия-Германия', ' СССР',\n",
       "       'Германия-Швейцария-Франция-Южная Корея-США', 'Украина-Нидерланды',\n",
       "       'Венгрия-Германия-Швеция',\n",
       "       'Германия-Франция- Польша-Турция-Канада-Италия-Россия ',\n",
       "       'СССР, Афганистан', 'СССР, Монголия', 'Россия-Кипр',\n",
       "       'Россия, Грузия, Испания',\n",
       "       'Великобритания-Нидерланды-Германия-Франция-Бельгия-Австрия ',\n",
       "       'Испания-Великобритания-Франция', 'Дания-Норвегия-Великобритания',\n",
       "       'Бельгия-Франция-Люксембург',\n",
       "       'Италия-Франция-Швейцария-Великобритания',\n",
       "       'Франция-Бельгия-Великобритания-Испания-Германия-США',\n",
       "       'Швейцария-Израиль-Франция-Великобритания',\n",
       "       'Великобритания-США-Канада-Нидерланды-Франция', 'Россия, Италия',\n",
       "       'СССР, Албания', 'Россия, Украина, Республика Беларусь, Литва',\n",
       "       'Финляндия-Великобритания-Германия', 'Россия, Украина, Польша',\n",
       "       'Франция-Италия-Бельгия-КНР',\n",
       "       'Германия-Бельгия-Люксембург-Ирландия', 'КНР-Сингапур',\n",
       "       'Франция-Бельгия-Великобритания-США-Нидерланды-Канада',\n",
       "       'США-Россия-Польша-Германия-Пуэрто Рико', 'Франция-Бельгия-Канада',\n",
       "       'США ', 'Мексика-США', 'США-Гонконг-КНР ', 'Греция-Россия',\n",
       "       'Ирландия-Дания-Бельгия-Люксембург-Франция', 'Эстония-Россия',\n",
       "       'Великобритания-Исландия-Испания-Швейцария-США',\n",
       "       'Австралия-Великобритания-Бельгия-Индия',\n",
       "       'Швеция-Германия-Франция-Норвегия',\n",
       "       'Нидерланды-Бельгия-Германия-Ирландия',\n",
       "       'Нидерланды-Великобритания-Бельгия', 'США-Колумбия-Испания',\n",
       "       'Франция-Испания-Бельгия-Панама',\n",
       "       'США-Великобритания-Чехия-Румыния',\n",
       "       'Аргентина-Уругвай-Россия-Германия-Франция-Нидерланды',\n",
       "       'Швеция-Франция-Норвегия-Дания', 'Италия-Франция-Великобритания',\n",
       "       'Великобритания, Франция', 'Австралия, США', 'Венесуэла',\n",
       "       'Великобритания-США-Австралия-Ирландия-Германия-Куба-Канада',\n",
       "       'Южная Корея-КНР', 'Аргентина-Мексика-Бразилия-Франция-США',\n",
       "       'Швеция-США', 'Франция-Германия-Турция-Катар', 'Франция-Китай',\n",
       "       'Россия, Германия, Великобритания',\n",
       "       'Великобритания-Италия-Испания', 'Италия-Россия',\n",
       "       'Япония-КНР-Южная Корея', 'Россия, Германия', 'Россия-Ирландия',\n",
       "       'Македония-Франция-Великобритания', 'Франция-Бразилия-Италия',\n",
       "       'Россия-США', 'Армения-Россия', 'Россия, Румыния',\n",
       "       'Франция- Бельгия', 'Грузия-Франция', 'ЮАР-США',\n",
       "       'Великобритания-США-Германия-Канада-Австралия', 'США-Ирландия',\n",
       "       'Россия, Республика Кипр', 'Германия-Люксембург-Франция',\n",
       "       'Россия-Франция', 'США-Нидерланды-Финляндия-Великобритания-Италия',\n",
       "       'Республика Кипр', 'Венгрия', 'Франция-США-Норвегия-Дания',\n",
       "       'Германия-Австрия-Ирландия', 'США-Финляндия',\n",
       "       'Италия-Великобритания', 'Россия, Испания',\n",
       "       'США-Великобритания-Болгария', 'Великобритания-Люксембург',\n",
       "       'Индия-США', 'США-Канада-Россия-Франция-Чили-Ирландия',\n",
       "       'Грузия-Россия',\n",
       "       'Дания-Австрия-Ирландия-Финляндия-Норвегия-Швеция-Нидерланды',\n",
       "       'Грузия', 'Австралия-Ирландия', 'Великобритания-Канада',\n",
       "       'Италия-Аргентина-Словения ',\n",
       "       'Испания-Франция-Нидерланды-Германия-Бельгия-Великобритания-Канада',\n",
       "       'Франция-Чехия-Бельгия', 'Великобритания-Франция-Германия-США',\n",
       "       'Ирландия-Великобритания-Франция-США-Германия-Нидерланды',\n",
       "       'США-Канада-Япония-КНР', 'США-Великобритания-Исландия',\n",
       "       'Франция-Германия-Нидерланды', 'Иран ',\n",
       "       'Франция-Германия-Швеция-США-Чехия-Словакия-Великобритания-Нидерланды',\n",
       "       'Франция-Канада-Н.Зеландия-США-Нидерланды-Германия-Швеция-Россия',\n",
       "       'Турция-США',\n",
       "       'Великобритания-США-Канада-Бельгия-Нидерланды-Австрия-Германия',\n",
       "       'Израиль-Франция-Германия-Палестина-США-Австрия-Великобритания',\n",
       "       'Аргентина-Франция-Испания', 'СССР, Россия',\n",
       "       'Великобритания-Франция-Италия-Индия-Дания-КНР-Бангладеш-Камбоджа-Гаити-Уганда',\n",
       "       'Италия-Франция-Швейцария', 'Ирландия-Великобритания-Канада',\n",
       "       'Перу', 'США-Норвегия', 'Китай-Гонконг', 'США-Германия-КНР',\n",
       "       'Великобритания-Новая Зеландия', 'Франция-Дания-Швеция-КНР',\n",
       "       'США-Великобритания-Германия-Бельгия-Дания', nan,\n",
       "       'СССР, Румыния, Франция', 'СССР, ГДР',\n",
       "       'Великобритания-Франция-Австрия-Швеция', 'Россия, Таджикистан',\n",
       "       'Нидерланды-Бельгия-Болгария', 'Великобритания-Канада-США',\n",
       "       'Франция-Бельгия-Испания', 'Китай-Гонконг-США', 'США-Вьетнам',\n",
       "       'США-Германия-Франция', 'Германия-Франция-Бельгия', 'США-Италия',\n",
       "       'Германия-Дания-Испания-Швеция-Канада-Эстония-Франция',\n",
       "       'Княжество Андорра-Украина', 'Германия-Люксембург-Бельгия',\n",
       "       'Великобритания-Россия-Украина-США',\n",
       "       'Германия-Бельгия-Люксембург-Норвегия',\n",
       "       'США-Австралия-Новая Зеландия-Великобритания',\n",
       "       'США-Франция-Канада-Великобритания', 'Испания-Колумбия',\n",
       "       'Великобритания-Чехия-Франция', 'Россия, Украина', 'Исландия',\n",
       "       'Великобритания-Франция-Венгрия',\n",
       "       'Россия, Франция, Германия, Бельгия', 'Франция-Македония',\n",
       "       'Нидерланды-Франция-Германия-Бельгия-Швеция-Великобритания',\n",
       "       'Испания-США-Великобритания-Канада', 'Республика Казахстан',\n",
       "       'Франция-Испания-Дания-Венгрия-Швейцария', 'Франция-КНР',\n",
       "       'США-Пуэрто-Рико-Франция ', 'Мексика-Тайвань-США',\n",
       "       'Великобритания-Испания-Непал-Индия-Венгрия-Гонконг-Германия-Дания-Бахрейн',\n",
       "       'Великобритания-Аргентина-США-Франция-Россия-Испания', 'КНР-США',\n",
       "       'Италия-США', 'Финляндия-Швеция-Германия', 'Канада- Испания',\n",
       "       'Франция-Бельгия-Чехия', 'Франция-Германия-США', 'США-Дания',\n",
       "       'Индия-КНР', 'Чехия-Великобритания-США', 'США-ФРГ-Россия',\n",
       "       'Ирландия-Нидерланды-Франция-США-Великобритания',\n",
       "       'Россия, Грузия, Хорватия, Испания', 'Финляндия-Швеция-Норвегия',\n",
       "       'Сербия-Великобритания-США', 'США-Великобритания-Франция-Гонконг',\n",
       "       'Швейцария-Франция', 'Швейцария-Великобритания', 'ОАЭ-США',\n",
       "       'США-Франция-Германия-Канада-Австралия ', 'Германия-Австралия',\n",
       "       'Иран, Франция', 'США-Великобритания-Новая Зеландия',\n",
       "       'США-Колумбия', 'США-Франция-Ирландия',\n",
       "       'Великобритания-Франция-Бельгия', 'США-Великобритания-Япония',\n",
       "       'США-Франция-Германия', 'Польша-Ирландия',\n",
       "       'Ирландия-Великобритания-Франция-США',\n",
       "       'США-Бельгия-Великобритания', 'СССР, ВНР',\n",
       "       'Испания-Франция-США-Великобритания-Бельгия', 'Франция-Дания-США',\n",
       "       'США-Гонконг', 'Бразилия-К;анада',\n",
       "       'США-Ирландия-Великобритания-Франция', 'Великобритания-США-Канада',\n",
       "       'Польша-Франция', 'Канада-США-Нидерланды-Великобритания-Аргентина',\n",
       "       'Великобритания-Дания', 'Франция-Бельгия-Япония',\n",
       "       'Россия,  Испания', 'Франция -Бельгия',\n",
       "       'США-Канада-Германия-Франция', 'США-Канада-Франция',\n",
       "       'Россия-Германия', 'Германия-Австрия-Франция-Италия',\n",
       "       'США-Германия-Канада', 'Испания-Мексика',\n",
       "       'США-Япония-Канада-Великобритания-Германия-Франция',\n",
       "       'США -Великобритания-Австралия', 'Россия-Украина-Германия',\n",
       "       'Израиль-Франция-Великобритания-Германия', 'Корея',\n",
       "       'Россия-Болгария', 'Германия-Канада-Франция-Бельгия',\n",
       "       'Германия-Кения', 'Франция-Монако', 'Франция-Испания-Швейцария',\n",
       "       'Австрия-Франция-Германия', 'Румыния',\n",
       "       'США-Великобритания-Франция', 'Канада-Великобритания',\n",
       "       'Канада-Бразилия-Япония', 'Германия-Дания-Норвегия',\n",
       "       'Дания-Германия', 'СССР-Италия', 'СССР-ГДР-Польша-Италия',\n",
       "       'США-Испания-Франция-Великобритания', 'Китай', 'Мексика-Аргентина',\n",
       "       'Германия-Великобритания-Италия-Испания',\n",
       "       'Франция-Германия-Великобритания', 'Россия-Германия-Швейцария',\n",
       "       'Франция-Австралия', 'Голландия', 'Россия-Белоруссия',\n",
       "       'Франция-Испания-Тайвань', 'США-Южная Корея-Новая Зеландия',\n",
       "       'Великобритания-Венгрия', 'Великобритания-Франция-Германия',\n",
       "       'Франция-Германия-Италия', 'Швеция-Финляндия-Франция-Норвегия',\n",
       "       'Германия-Израиль', 'Швеция-Германия-Дания-Норвегия',\n",
       "       'Франция-Гонконг-Ирландия', 'Эстония', 'Литва-Россия-Украина',\n",
       "       'Германия-Италия-Франция', 'Великобритания-Австрия-Германия',\n",
       "       'Испания-Мальта', 'Франция-Россия-Румыния-Италия-Бельгия',\n",
       "       'Россия-Польша', 'США-Аргентина', 'Великобритания ',\n",
       "       'Израиль-США-Франция', 'США-Новая Зеландия-Япония',\n",
       "       'Франция-Чехия-Великобритания', 'Германия-Франция-Великобритания',\n",
       "       'США-Гонконг-Китай', 'США-Великобритания-Германия',\n",
       "       'США-Канада-Австралия', 'Япония-США-Франция',\n",
       "       'Франция-Испания-Германия', 'США-Хорватия-Босния-Герцеговина',\n",
       "       'Великобритания-Чехия-Франция-Италия', 'США-Германия-Нидерланды',\n",
       "       'Германия-Франция-Канада',\n",
       "       'Франция-Грузия-Германия-Россия-Украина-Бельгия',\n",
       "       'Великобритания-Франция-Италия', 'Франция-Италия-Иран', 'Греция',\n",
       "       'Дания-США', 'США-Германия-Австралия', 'США-Канада-Италия',\n",
       "       'США-Япония-Германия',\n",
       "       'Франция-Великобритания-Багамские острова-США',\n",
       "       'Швейцария-Люксембург', 'Швейцария-Австрия', 'Германия-Швейцария',\n",
       "       'Дания-Швеция-Франция-Германия', 'Польша', 'Бразилия-Канада-США',\n",
       "       'Нидерланды-Россия', 'Португалия', 'Франция-Аргентина',\n",
       "       'Швеция-Франция', 'Франция-Украина', 'Германия-Украина-Нидерланды',\n",
       "       'Италия-Швейцария', 'Латвия-Россия',\n",
       "       'Германия-Франция-Великобритания-США', 'Канада-Италия',\n",
       "       'США-Объединенные Арабские Эмираты', 'США-Венгрия', 'Малайзия',\n",
       "       'Россия-Германия-Украина', 'США-Австралия-Мексика',\n",
       "       'Литва-Венгрия', 'Германия-Китай', 'Казахстан', 'Республика Корея',\n",
       "       'США-Германия-Франция-Великобритания-Канада ',\n",
       "       'Бельгия-Германия-Люксембург-Франция', 'Франция-Греция',\n",
       "       'Италия-Канада', 'США-Италия-Греция',\n",
       "       'Германия-США-Великобритания-Ирландия', 'Германия-Нидерланды-ЮАР',\n",
       "       'США-Япония-Германия-Великобритания-Нидерланды',\n",
       "       'США-Япония-Германия-Великобритания',\n",
       "       'Таиланд-Великобритания-Франция-Германия-Испания-Нидерланды',\n",
       "       'Германия-Италия-Швейцария',\n",
       "       'Дания-Швеция-Великобритания-Франция-Германия-Нидерланды-Норвегия-Финляндия',\n",
       "       'Франция-Великобритания-Нидерланды-Люксембург',\n",
       "       'Нидерланды-Великобритания-Франция-Италия-Япония',\n",
       "       'Великобритания-Нидерланды-Франция-США', 'Канада-Мексика',\n",
       "       'США, Франция', 'Канада-Южная Корея-США',\n",
       "       'Великобритания-Франция-Бельгия-США', 'КНР-Канада-США',\n",
       "       'Италия-Франция-Германия', 'Швеция-Германия-Франция-Дания',\n",
       "       'Франция-США-Бельгия', 'Украина-Германия-Латвия-Эстония',\n",
       "       'Австрия-Люксембург', 'Великобритания-КНР', 'Монголия',\n",
       "       'Франция-Дания', 'Швеция-Дания-Финляндия',\n",
       "       'Сингапур-Великобритания-Индонезия-Канада-США',\n",
       "       'США-Германия-Япония', 'Таиланд-США', 'Франция-Нидерланды',\n",
       "       'Великобритания-Румыния',\n",
       "       'Великобритания-Германия-Нидерланды-Дания',\n",
       "       'Франция-Германия-Литва-Нидерланды-Россия', 'США-ЮАР-Гонконг',\n",
       "       'Австралия-Колумбия', 'Великобритания-Польша',\n",
       "       'США-Великобритания-Швеция', 'Франция-Швеция-Дания-Норвегия',\n",
       "       'Болгария-США', 'СССР, ФРГ', 'Бельгия-Нидерланды-Франция',\n",
       "       'Финляндия-Германия', 'Болгария',\n",
       "       'Грузия-Россия-Украина-Хорватия-Германия', 'Франция-Люксембург',\n",
       "       'Франция-Германия-Австрия', 'Норвегия-США', 'Германия-Швеция',\n",
       "       'Великобритания-Ирландия-США ', 'Дания-Латвия-Россия-США',\n",
       "       'Финляндия-Польша', 'Германия-Бельгия',\n",
       "       'Германия-США-Франция-Испания',\n",
       "       'Бельгия-Германия-Канада-Франция-США-Великобритания',\n",
       "       'Нидерланды-Бельгия-Люксембург', 'Люксембург-Бельгия-Франция',\n",
       "       'Великобритания, Новая Зеландия', 'Бельгия, Великобритания, США',\n",
       "       'Великобритания, Австралия', 'Исландия, Бельгия',\n",
       "       'Испания-Швейцария-Великобритания-Германия-Новая Зеландия-Нидерланды-Канада',\n",
       "       'Франция, Бельгия', 'Великобритания, США', 'Киргизия-Россия',\n",
       "       'Германия, США', 'Великобритания, США, Испания',\n",
       "       'Италия-Швейцария-Германия', 'Россия, Армения',\n",
       "       'Франция, Германия', 'Китай, Канада, США', 'Германия, Австралия',\n",
       "       'КНР, США', 'США, Великобритания, Люксембург',\n",
       "       'Испания, Ирландия, Бельгия, Франция',\n",
       "       'Великобритания-Гонконг-Венгрия-США-Ирландия', 'США-Пуэрто Рико',\n",
       "       'Аргентина-Испания-Уругвай', 'Израиль-Германия-Франция-Швейцария',\n",
       "       'Великобритания-Мексика-США', 'Испания-Болгария-США',\n",
       "       'Россия-Словакия-Чехия',\n",
       "       'Швейцария-КНР-США-Россия-Республика Корея-Великобритания',\n",
       "       'Россия, Нидерланды, Финляндия',\n",
       "       'Испания-Бельгия-Франция-Португалия-Великобритания',\n",
       "       'Бразилия-Португалия-Франция', 'Швеция-Норвегия',\n",
       "       'Франция-Польша-Бельгия', 'CША', 'Китай, США',\n",
       "       'Италия, Франция, Германия', 'Германия-Австрия-Франция',\n",
       "       'Чехия-Словакия-Хорватия', 'Россия, Польша, Финляндия',\n",
       "       'Россия, Латвия, Чешская Республика',\n",
       "       'Франция-Великобритания-Камбоджа-США-КНР', 'Чехия-Испания-США',\n",
       "       'Германия-Люксембург-Дания', 'Великобритания-Испания-Германия',\n",
       "       'Дания-Исландия', 'Германия, Франция, Великобритания',\n",
       "       'Великобритания-Испания-Италия-Латвия-Франция-Эстония',\n",
       "       'Дания, Швеция, Великобритания, Франция, Германия, Норвегия, Финляндия, Нидерланды, Италия',\n",
       "       'Польша-Франция-Великобритания', 'Дания, Норвегия, Венгрия, Чехия',\n",
       "       'Дания-Франция-Германия-Швеция', 'Великобритания, Швеция, США',\n",
       "       'Канада, Франция, Италия, Швейцария, США', 'США, Индия',\n",
       "       'США-Великобритания-Германия-- Швеция-Канада', 'Италия, Франция',\n",
       "       'Республика Беларусь, Германия, США, Россия',\n",
       "       'Италия-Швейцария-Франция-Германия ',\n",
       "       'Россия-Франция-Великобритания-Латвия', 'Россия-Беларусь',\n",
       "       'Франция-Испания-Румыния-США-Бельгия', 'Россия, Австрия',\n",
       "       'Ирландия-Великобритания-США',\n",
       "       'Швейцария, Великобритания, Франция, США, Ирландия',\n",
       "       'Мексика, Франция, Германия, Дания, Швеция', 'Нидерланды, Бельгия',\n",
       "       'Швеция, Норвегия, Финляндия, Франция', 'Испания, Франция, Италия',\n",
       "       'Испания-Франция-Греция-Индия-США-Россия-Великобритания',\n",
       "       'Великобритания-Япония-США',\n",
       "       'Дания, Канада, Норвегия, Австралия, США', 'Аргентина, Испания',\n",
       "       'Россия, Германия, Казахстан, Польша, Китай',\n",
       "       'Португалия, Франция, Польша, США', 'США-Канада-Аргентина',\n",
       "       'Ливан-США', 'Япония-США', 'США, Гонконг ',\n",
       "       'Франция-Россия-Швейцария-Румыния-Венгрия', 'Россия, Сербия',\n",
       "       'США-Болгария-Мексика', 'США-Великобритания-Швейцария-Франция',\n",
       "       'Таиланд-КНР-США',\n",
       "       'Великобритания, Нидерланды, Польша, Швейцария, Франция',\n",
       "       'Ирландия-США', 'Германия-Франция-Великобритания-Польша-США',\n",
       "       'США-Австралия-Индия', 'Великобритания-Израиль',\n",
       "       'Великобритания-Норвегия-Кения-Хорватия',\n",
       "       'США-Бразилия-Великобритания-Канада', 'Германия, Бельгия',\n",
       "       'Австралия, Канада', 'США, Великобритания, Франция',\n",
       "       'Кения, Германия', 'Нидерланды, Бельгия, Люксембург', 'Колумбия',\n",
       "       'Латвия-Франция', 'Ирландия, Великобритания',\n",
       "       'Франция-Израиль-Германия', 'Швеция, Франция, Великобритания',\n",
       "       'Бельгия-Люксембург', 'Германия-Бельгия-Великобритания',\n",
       "       'Испания, Франция, Великобритания, Дания, Бельгия, Германия',\n",
       "       'Румыния, ЮАР, Иран, Франция, Канада, Великобритания',\n",
       "       'Германия, Франция', 'США, Япония',\n",
       "       'США, Великобритания, Ирландия, Люксембург', 'Республика Армения',\n",
       "       'США, Франция, Япония', 'Япония, США', 'Канада, США',\n",
       "       'Республика Кипр-Россия',\n",
       "       'Дания-Франция-Италия-Бельгия-Нидерланды', 'Россия-Грузия',\n",
       "       'Италия, Германия', 'Норвегия, Швеция, Дания',\n",
       "       'Республика Кипр, Россия', 'КНР, Индия, Гонконг, США',\n",
       "       'Израиль, Украина', 'США, Россия', 'США-КНР-Индия-Ю.Корея',\n",
       "       'США-Швеция', 'Франция, Канада', 'Россия-Китай',\n",
       "       'Канада, Великобритания', 'США, Германия',\n",
       "       'Канада, США, Каймановы острова',\n",
       "       'Бразилия, Уругвай, Дания, Норвегия, Чили, Швеция',\n",
       "       'Пуэрто-Рико, Великобритания, США', 'Уругвай-Аргентина-Испания',\n",
       "       'США-Великобритания-Италия-Израиль-Сербия-Индия',\n",
       "       'США-Канада-Франция-Индия', 'Великобритания-Россия-КНР',\n",
       "       'Франция, Новая Зеландия', 'Франция, Люксембург, Бельгия',\n",
       "       'Канада, США, Норвегия', 'Италия, Испания',\n",
       "       'Испания-Германия-Нидерланды', 'Бразилия-США-КНР ',\n",
       "       'Великобритания, Германия, Дания, США', '2019',\n",
       "       'Италия-Фрация-Бразилия-Германия', 'Норвегия-Швеция-Россия',\n",
       "       'Великобритания, Япония, США', 'Сша, Канада', 'Бельгия, Канада',\n",
       "       'США, Канада', 'КНР-США ', 'Франция-Финляндия', 'Колумбия-США',\n",
       "       'Великобритания, Франция, Бельгия', 'Норвегия-Нидерланды',\n",
       "       'Великобритания, Канада, США', 'Япония, Великобритания',\n",
       "       'Италия-Бельгия-Франция', 'Россия, Бельгия, Финляндия',\n",
       "       'США, Украина', 'Франция, Норвегия',\n",
       "       'Великобритания, Южная Корея, Канада, США, Индия, Китай, Япония',\n",
       "       'Канада-Норвегия', 'Германия, Россия',\n",
       "       'Польша-Франция-Испания-Бразилия-Швеция',\n",
       "       'Австрия, Великобритания, Германия', 'Франция-Сенегал-Бельгия',\n",
       "       'Франция, Бельгия, Люксембург', 'Финляндия, Латвия', 'Пакистан',\n",
       "       'Германия, Франция, США', 'Германия-Великобритания-США',\n",
       "       'КНР-Франция', 'Дания, Норвегия, Швеция, Исландия',\n",
       "       'Республика Кипр, США, Россия', 'Новая Зеландия-КНР',\n",
       "       'Дания-Канада-Швеция-Франция-Германия-Великобритания-США'],\n",
       "      dtype=object)"
      ]
     },
     "execution_count": 35,
     "metadata": {},
     "output_type": "execute_result"
    }
   ],
   "source": [
    "data['production_country'].unique()"
   ]
  },
  {
   "cell_type": "code",
   "execution_count": 36,
   "metadata": {},
   "outputs": [
    {
     "data": {
      "text/plain": [
       "array(['боевик,драма,мелодрама', 'драма,военный',\n",
       "       'фантастика,боевик,триллер', 'драма', 'мелодрама,комедия',\n",
       "       'мюзикл,мелодрама,комедия', 'комедия,криминал',\n",
       "       'боевик,триллер,детектив', 'боевик,драма,приключения',\n",
       "       'драма,спорт', 'триллер,драма,мелодрама', 'комедия,мелодрама',\n",
       "       'драма,мелодрама,комедия', 'драма,мелодрама', 'драма,история',\n",
       "       'драма,мелодрама,семейный', 'комедия,мелодрама,криминал',\n",
       "       'комедия', 'боевик,драма,криминал', 'драма,комедия',\n",
       "       'ужасы,фантастика,комедия', 'мультфильм,короткометражка,мелодрама',\n",
       "       'драма,криминал', 'мультфильм,фантастика,фэнтези',\n",
       "       'триллер,драма,криминал', 'драма,мелодрама,биография',\n",
       "       'драма,комедия,военный', 'фантастика,драма,детектив',\n",
       "       'мюзикл,семейный', nan, 'военный,приключения,драма',\n",
       "       'документальный,драма', 'драма,биография,история',\n",
       "       'боевик,триллер,драма', 'фэнтези,боевик',\n",
       "       'боевик,комедия,криминал', 'мюзикл,комедия,детский',\n",
       "       'комедия,мелодрама,драма', 'мультфильм,фэнтези,комедия',\n",
       "       'комедия,история', 'мелодрама', 'драма,биография,музыка',\n",
       "       'фэнтези,драма,мелодрама', 'триллер,военный',\n",
       "       'драма,мелодрама,военный', 'мюзикл,драма,мелодрама',\n",
       "       'мюзикл,комедия', 'мультфильм,приключения,семейный',\n",
       "       'ужасы,триллер', 'боевик,драма,военный', 'драма,боевик',\n",
       "       'мультфильм,драма,комедия', 'триллер,криминал',\n",
       "       'военный,биография,драма', 'комедия,семейный', 'военный',\n",
       "       'драма,семейный,биография', 'фэнтези,приключения,семейный',\n",
       "       'драма,криминал,биография', 'ужасы,триллер,детектив',\n",
       "       'боевик,история,драма', 'ужасы,триллер,драма',\n",
       "       'драма,криминал,спорт', 'документальный,короткометражка',\n",
       "       'триллер,драма', 'криминал,детектив,приключения',\n",
       "       'драма,комедия,криминал', 'драма,комедия,вестерн',\n",
       "       'драма,мелодрама,детектив', 'мелодрама,биография',\n",
       "       'фэнтези,мелодрама,драма', 'драма,мелодрама,история',\n",
       "       'комедия,приключения,история', 'приключения', 'драма,семейный',\n",
       "       'криминал,детектив', 'мультфильм,короткометражка,ужасы',\n",
       "       'фантастика,триллер,драма', 'фэнтези,мелодрама,комедия',\n",
       "       'драма,биография', 'комедия,криминал,история',\n",
       "       'триллер,драма,детектив', 'фантастика,комедия,приключения',\n",
       "       'фэнтези,семейный', 'ужасы,фантастика,боевик',\n",
       "       'мелодрама,криминал', 'комедия,приключения,мелодрама',\n",
       "       'боевик,триллер,приключения', 'боевик,приключения',\n",
       "       'боевик,триллер,криминал', 'документальный,военный,история',\n",
       "       'драма,музыка', 'боевик,драма', 'приключения,боевик',\n",
       "       'драма,военный,биография', 'триллер,драма,приключения',\n",
       "       'аниме,мультфильм,фэнтези', 'триллер,детектив,драма',\n",
       "       'боевик,триллер,мелодрама', 'боевик,история',\n",
       "       'приключения,история', 'драма,комедия,приключения',\n",
       "       'фэнтези,комедия,приключения', 'драма,вестерн',\n",
       "       'документальный,музыка', 'мелодрама,драма',\n",
       "       'триллер,криминал,детектив', 'ужасы', 'боевик,комедия,приключения',\n",
       "       'мультфильм,фэнтези,боевик', 'боевик,фэнтези,драма',\n",
       "       'фэнтези,драма', 'фэнтези,боевик,комедия',\n",
       "       'приключения,детский,комедия', 'документальный',\n",
       "       'боевик,триллер,комедия', 'мелодрама,комедия,криминал',\n",
       "       'драма,детектив', 'мюзикл,ужасы,триллер', 'детектив,триллер,ужасы',\n",
       "       'ужасы,фэнтези', 'ужасы,фэнтези,триллер', 'мультфильм,драма',\n",
       "       'ужасы,боевик,фантастика', 'боевик', 'фантастика,боевик',\n",
       "       'мелодрама,комедия,приключения', 'триллер,детектив',\n",
       "       'мюзикл,мелодрама,фэнтези', 'криминал', 'триллер,комедия,криминал',\n",
       "       'боевик,приключения,триллер', 'триллер,драма,военный',\n",
       "       'комедия,семейный,музыка', 'комедия,фантастика,мелодрама',\n",
       "       'фантастика,триллер,криминал', 'комедия,драма', 'боевик,военный',\n",
       "       'ужасы,фантастика,триллер', 'фантастика,драма,мелодрама',\n",
       "       'фэнтези,драма,детектив', 'боевик,триллер', 'боевик,драма,история',\n",
       "       'мультфильм,мюзикл,фэнтези', 'для взрослых,драма,мелодрама',\n",
       "       'мультфильм,боевик,детектив', 'фантастика,мелодрама,боевик',\n",
       "       'ужасы,фантастика,детектив', 'фантастика,боевик,приключения',\n",
       "       'мелодрама,комедия,спорт', 'комедия,боевик,приключения',\n",
       "       'документальный,приключения', 'мультфильм,короткометражка,детский',\n",
       "       'комедия,приключения', 'ужасы,драма', 'ужасы,фэнтези,боевик',\n",
       "       'мультфильм,фэнтези,детский', 'мюзикл,боевик,драма',\n",
       "       'семейный,комедия,драма', 'концерт,музыка', 'фэнтези,боевик,драма',\n",
       "       'драма,комедия,музыка', 'фантастика,фэнтези,боевик',\n",
       "       'фэнтези,комедия,семейный', 'фэнтези,драма,комедия',\n",
       "       'мультфильм,мюзикл,драма', 'триллер', 'боевик,криминал,триллер',\n",
       "       'мультфильм,приключения,драма', 'мелодрама,музыка',\n",
       "       'документальный,музыка,концерт', 'мультфильм,семейный',\n",
       "       'мультфильм,комедия,приключения', 'мультфильм,комедия,семейный',\n",
       "       'фантастика,драма', 'фэнтези,боевик,приключения',\n",
       "       'мультфильм,приключения', 'драма,военный,история', 'история',\n",
       "       'драма,приключения,военный',\n",
       "       'документальный,короткометражка,семейный',\n",
       "       'мелодрама,история,триллер', 'ужасы,детектив',\n",
       "       'мюзикл,комедия,приключения', 'драма,спорт,биография',\n",
       "       'фантастика,боевик,комедия', 'фантастика,приключения,детектив',\n",
       "       'короткометражка,драма,военный', 'драма,мультфильм',\n",
       "       'приключения,семейный', 'детектив', 'триллер,приключения',\n",
       "       'аниме,мультфильм,боевик', 'драма,комедия,биография',\n",
       "       'драма,комедия,спорт', 'боевик,мелодрама,комедия',\n",
       "       'семейный,комедия', 'фэнтези,боевик,триллер',\n",
       "       'документальный,фэнтези,семейный', 'фантастика,фэнтези,драма',\n",
       "       'ужасы,комедия,фэнтези', 'документальный,биография,музыка',\n",
       "       'фантастика,боевик,фэнтези', 'ужасы,боевик,триллер',\n",
       "       'комедия,криминал,семейный', 'приключения,драма',\n",
       "       'криминал,драма,триллер', 'драма,детектив,криминал',\n",
       "       'фэнтези,приключения,комедия', 'комедия,спорт',\n",
       "       'мюзикл,фэнтези,мелодрама', 'мультфильм,фэнтези,приключения',\n",
       "       'фантастика,фэнтези,приключения', 'фэнтези',\n",
       "       'фэнтези,приключения,боевик', 'фантастика,боевик,драма',\n",
       "       'криминал,драма', 'криминал,триллер,драма',\n",
       "       'драма,мелодрама,приключения', 'детский,комедия',\n",
       "       'фантастика,драма,боевик', 'мультфильм,семейный,фэнтези',\n",
       "       'концерт,музыка,документальный', 'ужасы,комедия,приключения',\n",
       "       'драма,мелодрама,криминал', 'ужасы,фантастика,фэнтези',\n",
       "       'боевик,комедия', 'мультфильм,фантастика,комедия', 'триллер,ужасы',\n",
       "       'мультфильм,мюзикл,комедия', 'мелодрама,фэнтези,триллер',\n",
       "       'детский,приключения,комедия', 'комедия,детектив',\n",
       "       'аниме,мультфильм,мелодрама', 'документальный,драма,семейный',\n",
       "       'документальный,биография,история', 'военный,боевик,драма',\n",
       "       'ужасы,комедия', 'комедия,приключения,семейный',\n",
       "       'приключения,биография,история', 'детский,приключения,семейный',\n",
       "       'спорт,драма,биография', 'аниме,мультфильм,ужасы',\n",
       "       'фантастика,боевик,криминал', 'мюзикл,драма',\n",
       "       'драма,криминал,детектив', 'аниме,мультфильм,драма',\n",
       "       'драма,триллер,приключения', 'триллер,криминал,драма',\n",
       "       'фэнтези,комедия,драма', 'мультфильм,комедия',\n",
       "       'драма,комедия,история', 'комедия,биография,история',\n",
       "       'мультфильм,фантастика,приключения', 'аниме,мультфильм,фантастика',\n",
       "       'мультфильм,фэнтези,семейный', 'мультфильм,боевик,комедия',\n",
       "       'комедия,криминал,спорт', 'документальный,мюзикл',\n",
       "       'мелодрама,комедия,музыка', 'биография',\n",
       "       'триллер,криминал,комедия', 'фантастика,драма,комедия',\n",
       "       'комедия,драма,мелодрама', 'фантастика,приключения,боевик',\n",
       "       'мультфильм,фэнтези,драма', 'триллер,комедия',\n",
       "       'драма,приключения,биография', 'фантастика,комедия',\n",
       "       'мелодрама,драма,комедия', 'боевик,криминал',\n",
       "       'драма,криминал,боевик', 'мультфильм,мюзикл,детский',\n",
       "       'драма,фэнтези', 'документальный,семейный',\n",
       "       'фэнтези,драма,приключения', 'ужасы,комедия,фантастика',\n",
       "       'драма,мелодрама,музыка', 'фэнтези,драма,семейный',\n",
       "       'триллер,мелодрама,драма', 'вестерн,боевик,драма',\n",
       "       'мультфильм,короткометражка,комедия', 'триллер,драма,история',\n",
       "       'ужасы,фантастика', 'ужасы,мелодрама,комедия',\n",
       "       'фэнтези,приключения', 'фантастика,триллер',\n",
       "       'ужасы,боевик,фэнтези', 'мультфильм,комедия,детский',\n",
       "       'триллер,драма,биография', 'мультфильм,ужасы,фэнтези',\n",
       "       'мультфильм,ужасы,фантастика', 'ужасы,боевик,комедия',\n",
       "       'драма,биография,спорт', 'мультфильм', 'мелодрама,комедия,драма',\n",
       "       'приключения,фантастика,семейный', 'комедия,криминал,детектив',\n",
       "       'ужасы,триллер,комедия', 'криминал,комедия,триллер',\n",
       "       'семейный,приключения,комедия', 'мультфильм,драма,приключения',\n",
       "       'ужасы,драма,детектив', 'драма,приключения,фэнтези',\n",
       "       'фантастика,мультфильм,драма', 'драма,триллер,детектив',\n",
       "       'драма,история,музыка', 'детский', 'триллер,боевик,криминал',\n",
       "       'драма,фантастика', 'комедия,драма,семейный',\n",
       "       'боевик,драма,комедия', 'комедия,ужасы',\n",
       "       'драма,фантастика,триллер', 'фантастика,драма,триллер',\n",
       "       'история,спорт,драма', 'документальный,биография',\n",
       "       'биография,история', 'спорт,драма', 'боевик,фэнтези',\n",
       "       'мультфильм,фэнтези', 'документальный,комедия,история',\n",
       "       'криминал,комедия,боевик', 'фэнтези,приключения,драма',\n",
       "       'музыка,концерт', 'триллер,драма,боевик',\n",
       "       'комедия,криминал,боевик', 'комедия,фантастика,боевик',\n",
       "       'вестерн,приключения,боевик', 'аниме,мультфильм,комедия',\n",
       "       'детектив,криминал,триллер', 'мультфильм,комедия,криминал',\n",
       "       'комедия,приключения,детектив', 'мелодрама,фантастика,драма',\n",
       "       'драма,комедия,семейный', 'приключения,фантастика',\n",
       "       'триллер,детектив,ужасы', 'комедия,приключения,фэнтези',\n",
       "       'фэнтези,триллер,драма', 'мелодрама,приключения,боевик',\n",
       "       'детектив,триллер,криминал', 'фэнтези,семейный,мелодрама',\n",
       "       'военный,драма', 'документальный,приключения,семейный',\n",
       "       'криминал,комедия,драма', 'комедия,фантастика',\n",
       "       'история,биография,драма', 'мелодрама,драма,музыка',\n",
       "       'боевик,мелодрама', 'комедия,криминал,триллер',\n",
       "       'детектив,триллер,боевик', 'комедия,боевик,криминал',\n",
       "       'комедия,вестерн', 'детский,мелодрама,семейный',\n",
       "       'короткометражка,мультфильм', 'комедия,фэнтези',\n",
       "       'фантастика,драма,ужасы', 'триллер,драма,ужасы',\n",
       "       'драма,фэнтези,история', 'комедия,драма,короткометражка',\n",
       "       'фэнтези,триллер,приключения', 'семейный',\n",
       "       'комедия,криминал,драма', 'комедия,фэнтези,ужасы',\n",
       "       'короткометражка,комедия,криминал', 'фантастика',\n",
       "       'триллер,ужасы,драма', 'мелодрама,драма,фэнтези',\n",
       "       'фантастика,приключения,драма', 'боевик,детектив',\n",
       "       'военный,драма,боевик', 'комедия,мелодрама,фэнтези',\n",
       "       'вестерн,криминал,триллер', 'драма,история,триллер',\n",
       "       'мультфильм,фантастика,боевик', 'детектив,драма,криминал',\n",
       "       'приключения,история,драма', 'мультфильм,семейный,детский',\n",
       "       'биография,драма,история', 'триллер,криминал,боевик',\n",
       "       'история,мелодрама', 'приключения,детский',\n",
       "       'музыка,приключения,концерт', 'военный,драма,комедия',\n",
       "       'фэнтези,боевик,военный', 'фантастика,детектив,боевик',\n",
       "       'мультфильм,фэнтези,история', 'биография,мелодрама,драма',\n",
       "       'документальный,биография,спорт', 'фантастика,комедия,детектив',\n",
       "       'музыка,концерт,документальный', 'триллер,боевик,приключения',\n",
       "       'триллер,драма,комедия', 'детектив,криминал',\n",
       "       'мультфильм,приключения,фэнтези', 'мелодрама,приключения',\n",
       "       'комедия,музыка', 'мелодрама,комедия,ужасы',\n",
       "       'драма,криминал,приключения', 'приключения,детектив,мелодрама',\n",
       "       'драма,криминал,фантастика', 'фэнтези,драма,биография',\n",
       "       'детектив,фантастика,криминал', 'триллер,драма,фантастика',\n",
       "       'ужасы,комедия,боевик', 'мелодрама,история', 'триллер,боевик',\n",
       "       'фильм-нуар,триллер,детектив', 'комедия,криминал,приключения',\n",
       "       'ужасы,триллер,мелодрама', 'военный,драма,история',\n",
       "       'драма,спорт,история', 'документальный,драма,история',\n",
       "       'триллер,мелодрама,детектив', 'детский,семейный',\n",
       "       'мюзикл,семейный,драма', 'биография,военный,драма',\n",
       "       'мультфильм,детский', 'боевик,криминал,драма',\n",
       "       'детектив,фэнтези,триллер', 'драма,боевик,приключения',\n",
       "       'драма,мелодрама,фэнтези', 'детектив,история,драма',\n",
       "       'фэнтези,боевик,ужасы', 'ужасы,фэнтези,мелодрама',\n",
       "       'ужасы,приключения', 'боевик,фантастика',\n",
       "       'ужасы,мелодрама,детектив', 'фантастика,триллер,приключения',\n",
       "       'боевик,приключения,история', 'приключения,боевик,триллер',\n",
       "       'детектив,ужасы,криминал', 'семейный,фэнтези', 'мюзикл,мелодрама',\n",
       "       'драма,военный,приключения', 'фантастика,драма,приключения',\n",
       "       'приключения,семейный,драма', 'история,драма,боевик',\n",
       "       'мультфильм,приключения,комедия', 'криминал,драма,комедия',\n",
       "       'ужасы,комедия,драма', 'комедия,семейный,приключения',\n",
       "       'мюзикл,фэнтези,драма', 'драма,вестерн,боевик',\n",
       "       'фантастика,триллер,детектив', 'драма,история,детектив',\n",
       "       'короткометражка,биография', 'мультфильм,приключения,фантастика',\n",
       "       'комедия,триллер', 'мультфильм,приключения,детектив',\n",
       "       'драма,триллер', 'ужасы,триллер,криминал',\n",
       "       'документальный,криминал,военный', 'ужасы,фэнтези,драма',\n",
       "       'фэнтези,комедия', 'ужасы,фэнтези,комедия', 'комедия,музыка,драма',\n",
       "       'мультфильм,приключения,военный', 'мюзикл,фэнтези,комедия',\n",
       "       'боевик,фантастика,приключения', 'триллер,ужасы,криминал',\n",
       "       'ужасы,фантастика,драма', 'фантастика,приключения,семейный',\n",
       "       'короткометражка,музыка', 'мелодрама,детектив,комедия',\n",
       "       'документальный,триллер,биография', 'боевик,фантастика,триллер',\n",
       "       'спорт,драма,комедия', 'фэнтези,мелодрама,приключения',\n",
       "       'триллер,детектив,криминал', 'короткометражка,мелодрама',\n",
       "       'мультфильм,семейный,спорт', 'комедия,фэнтези,мелодрама',\n",
       "       'драма,спорт,комедия', 'история,драма,мелодрама',\n",
       "       'драма,боевик,криминал', 'драма,комедия,триллер',\n",
       "       'аниме,мультфильм', 'документальный,ужасы',\n",
       "       'мультфильм,короткометражка', 'драма,история,военный',\n",
       "       'мультфильм,короткометражка,фэнтези', 'комедия,военный,музыка',\n",
       "       'биография,история,драма', 'ужасы,драма,мелодрама',\n",
       "       'драма,комедия,детектив', 'комедия,семейный,фантастика',\n",
       "       'мультфильм,семейный,комедия', 'история,детектив',\n",
       "       'приключения,мелодрама,детектив', 'мюзикл,комедия,мелодрама',\n",
       "       'драма,фантастика,ужасы', 'мультфильм,ужасы,комедия',\n",
       "       'для взрослых,драма,комедия', 'ужасы,комедия,музыка',\n",
       "       'комедия,история,драма', 'семейный,детектив,детский',\n",
       "       'короткометражка,драма', 'документальный,новости,драма',\n",
       "       'триллер,мелодрама', 'ужасы,драма,вестерн',\n",
       "       'мюзикл,фэнтези,семейный', 'вестерн,драма,триллер',\n",
       "       'приключения,вестерн,боевик', 'семейный,комедия,музыка',\n",
       "       'боевик,драма,вестерн', 'ужасы,драма,триллер',\n",
       "       'фантастика,мелодрама', 'комедия,криминал,биография',\n",
       "       'семейный,мультфильм,комедия', 'комедия,драма,криминал',\n",
       "       'фантастика,боевик,военный', 'приключения,биография,драма',\n",
       "       'приключения,триллер,биография', 'криминал,боевик,триллер',\n",
       "       'боевик,вестерн,приключения', 'история,драма',\n",
       "       'фантастика,фэнтези,комедия', 'мультфильм,детский,комедия',\n",
       "       'мелодрама,комедия,триллер', 'документальный,боевик,приключения',\n",
       "       'драма,приключения', 'мелодрама,военный,драма', 'триллер,фэнтези',\n",
       "       'драма,триллер,биография', 'фэнтези,боевик,семейный',\n",
       "       'фантастика,триллер,комедия', 'документальный,фэнтези',\n",
       "       'комедия,мультфильм,фантастика', 'криминал,биография,комедия',\n",
       "       'биография,спорт,драма', 'приключения,военный',\n",
       "       'мультфильм,семейный,драма', 'документальный,фэнтези,драма',\n",
       "       'комедия,боевик,фантастика', 'семейный,приключения,военный',\n",
       "       'триллер,ужасы,детектив', 'короткометражка',\n",
       "       'мелодрама,триллер,история', 'документальный,история',\n",
       "       'мультфильм,приключения,детский', 'драма,комедия,мультфильм',\n",
       "       'военный,детектив', 'семейный,приключения,документальный',\n",
       "       'детский,фэнтези', 'документальный,комедия', 'комедия,биография',\n",
       "       'криминал,комедия', 'спорт,мелодрама,криминал',\n",
       "       'фантастика,комедия,боевик', 'боевик,приключения,детектив',\n",
       "       'детектив,триллер,драма', 'документальный,фантастика',\n",
       "       'мелодрама,комедия,семейный', 'мультфильм,мелодрама,комедия',\n",
       "       'драма,спорт,семейный', 'фантастика,мелодрама,фэнтези',\n",
       "       'мюзикл,комедия,музыка', 'фантастика,триллер,мелодрама',\n",
       "       'приключения,комедия,фэнтези', 'фэнтези,боевик,детектив',\n",
       "       'фэнтези,боевик,мелодрама', 'комедия,военный',\n",
       "       'драма,спорт,боевик', 'мультфильм,боевик,триллер',\n",
       "       'мелодрама,семейный', 'фантастика,боевик,детектив',\n",
       "       'драма,приключения,история', 'документальный,драма,музыка',\n",
       "       'фантастика,триллер,боевик', 'фэнтези,боевик,вестерн',\n",
       "       'драма,комедия,мелодрама', 'ужасы,фэнтези,приключения',\n",
       "       'триллер,фэнтези,драма', 'мультфильм,мюзикл,мелодрама',\n",
       "       'ужасы,триллер,фантастика', 'триллер,мелодрама,комедия',\n",
       "       'ужасы,комедия,семейный', 'комедия,приключения,музыка',\n",
       "       'документальный,комедия,криминал', 'мелодрама,детектив',\n",
       "       'детский,приключения,фантастика', 'короткометражка,боевик,драма',\n",
       "       'боевик,комедия,семейный', 'фантастика,боевик,мелодрама',\n",
       "       'фэнтези,триллер,мелодрама', 'драма,детектив,история',\n",
       "       'боевик,криминал,детектив', 'мультфильм,фэнтези,мелодрама',\n",
       "       'мелодрама,драма,боевик', 'драма,вестерн,приключения',\n",
       "       'драма,приключения,мелодрама', 'фэнтези,боевик,криминал',\n",
       "       'фантастика,комедия,семейный', 'детский,фэнтези,приключения',\n",
       "       'ужасы,боевик', 'фантастика,мелодрама,комедия',\n",
       "       'семейный,спорт,боевик', 'триллер,биография,драма',\n",
       "       'ужасы,драма,комедия', 'мультфильм,фэнтези,триллер', 'мюзикл',\n",
       "       'боевик,спорт,драма', 'комедия,приключения,вестерн',\n",
       "       'документальный,ужасы,боевик', 'фантастика,боевик,семейный',\n",
       "       'военный,история', 'ужасы,боевик,криминал', 'детектив,триллер',\n",
       "       'драма,семейный,комедия', 'драма,детектив,приключения',\n",
       "       'драма,криминал,история', 'приключения,триллер',\n",
       "       'боевик,драма,биография', 'драма,приключения,триллер',\n",
       "       'комедия,фэнтези,приключения', 'фантастика,боевик,ужасы',\n",
       "       'драма,комедия,фантастика', 'детектив,криминал,драма',\n",
       "       'боевик,триллер,фэнтези', 'приключения,детектив,семейный',\n",
       "       'ужасы,комедия,криминал', 'мультфильм,биография,драма',\n",
       "       'история,боевик,фэнтези', 'детектив,криминал,боевик',\n",
       "       'приключения,фэнтези', 'комедия,приключения,спорт',\n",
       "       'драма,биография,мюзикл', 'комедия,семейный,фэнтези',\n",
       "       'детектив,драма,триллер', 'боевик,приключения,семейный',\n",
       "       'биография,спорт,комедия', 'фантастика,приключения,военный',\n",
       "       'документальный,драма,биография', 'детектив,приключения,драма',\n",
       "       'аниме,мультфильм,приключения', 'семейный,приключения',\n",
       "       'ужасы,фэнтези,детектив', 'семейный,документальный',\n",
       "       'драма,приключения,семейный', 'приключения,история,военный',\n",
       "       'фэнтези,мелодрама', 'фэнтези,триллер,детектив',\n",
       "       'документальный,спорт,биография', 'комедия,триллер,драма',\n",
       "       'драма,ужасы', 'биография,музыка,драма', 'фэнтези,ужасы',\n",
       "       'детектив,мелодрама,фэнтези', 'боевик,военный,история',\n",
       "       'биография,драма,криминал', 'триллер,мелодрама,криминал',\n",
       "       'семейный,мелодрама', 'биография,драма', 'военный,история,драма',\n",
       "       'фантастика,детектив,фэнтези', 'детектив,приключения,триллер',\n",
       "       'фантастика,приключения', 'мультфильм,короткометражка,мюзикл',\n",
       "       'мультфильм,детский,семейный', 'документальный,драма,комедия',\n",
       "       'комедия,приключения,криминал', 'документальный,семейный,музыка',\n",
       "       'мелодрама,музыка,драма', 'детектив,фантастика,триллер',\n",
       "       'драма,мелодрама,триллер', 'биография,драма,военный',\n",
       "       'приключения,фантастика,драма', 'детектив,фильм-нуар,комедия',\n",
       "       'документальный,спорт', 'триллер,фантастика,драма',\n",
       "       'биография,документальный', 'ужасы,фантастика,мелодрама',\n",
       "       'детектив,комедия', 'история,биография,военный',\n",
       "       'криминал,мелодрама', 'драма,криминал,вестерн',\n",
       "       'мелодрама,семейный,приключения', 'триллер,ужасы,мелодрама',\n",
       "       'фэнтези,драма,фильм-нуар', 'детектив,мелодрама',\n",
       "       'комедия,драма,биография', 'драма,военный,боевик',\n",
       "       'драма,комедия,ужасы', 'фантастика,драма,криминал',\n",
       "       'документальный,музыка,биография', 'мультфильм,боевик,приключения',\n",
       "       'короткометражка,фантастика', 'мультфильм,мелодрама,драма',\n",
       "       'боевик,военный,драма', 'фэнтези,семейный,приключения',\n",
       "       'детский,мультфильм,приключения', 'семейный,фэнтези,комедия',\n",
       "       'фэнтези,ужасы,триллер', 'ужасы,триллер,приключения',\n",
       "       'драма,боевик,история', 'фэнтези,комедия,детектив',\n",
       "       'история,приключения', 'аниме,мультфильм,короткометражка',\n",
       "       'драма,военный,триллер', 'биография,криминал,триллер',\n",
       "       'фантастика,фэнтези,детектив', 'вестерн,биография,драма',\n",
       "       'биография,музыка,мюзикл', 'драма,история,биография',\n",
       "       'приключения,драма,фантастика', 'комедия,фэнтези,криминал',\n",
       "       'биография,спорт,история', 'драма,криминал,семейный',\n",
       "       'детектив,боевик,история', 'ужасы,комедия,детектив',\n",
       "       'триллер,приключения,драма', 'фэнтези,комедия,криминал',\n",
       "       'триллер,криминал,приключения', 'комедия,детектив,приключения',\n",
       "       'фэнтези,драма,ужасы', 'ужасы,драма,военный', 'реальное ТВ',\n",
       "       'аниме,мультфильм,детектив', 'приключения,фэнтези,семейный',\n",
       "       'драма,биография,комедия', 'триллер,комедия,ужасы',\n",
       "       'музыка,мелодрама,фэнтези', 'мультфильм,история',\n",
       "       'мультфильм,комедия,фантастика', 'биография,криминал,драма',\n",
       "       'комедия,мелодрама,фантастика', 'криминал,боевик,комедия',\n",
       "       'история,криминал', 'детектив,комедия,драма',\n",
       "       'триллер,фантастика,боевик', 'криминал,боевик',\n",
       "       'комедия,драма,военный', 'драма,триллер,криминал',\n",
       "       'мультфильм,мелодрама,приключения', 'фантастика,фэнтези,триллер',\n",
       "       'короткометражка,драма,триллер', 'военный,боевик,история',\n",
       "       'боевик,драма,триллер', 'документальный,военный,драма',\n",
       "       'драма,криминал,фильм-нуар', 'мультфильм,детский,приключения',\n",
       "       'мелодрама,история,драма'], dtype=object)"
      ]
     },
     "execution_count": 36,
     "metadata": {},
     "output_type": "execute_result"
    }
   ],
   "source": [
    "data['genres'].unique()"
   ]
  },
  {
   "cell_type": "code",
   "execution_count": 37,
   "metadata": {},
   "outputs": [],
   "source": [
    "data['genres'] = (data['genres'].replace([' '], '', regex=True))"
   ]
  },
  {
   "cell_type": "code",
   "execution_count": 38,
   "metadata": {},
   "outputs": [
    {
     "data": {
      "text/plain": [
       "array(['боевик,драма,мелодрама', 'драма,военный',\n",
       "       'фантастика,боевик,триллер', 'драма', 'мелодрама,комедия',\n",
       "       'мюзикл,мелодрама,комедия', 'комедия,криминал',\n",
       "       'боевик,триллер,детектив', 'боевик,драма,приключения',\n",
       "       'драма,спорт', 'триллер,драма,мелодрама', 'комедия,мелодрама',\n",
       "       'драма,мелодрама,комедия', 'драма,мелодрама', 'драма,история',\n",
       "       'драма,мелодрама,семейный', 'комедия,мелодрама,криминал',\n",
       "       'комедия', 'боевик,драма,криминал', 'драма,комедия',\n",
       "       'ужасы,фантастика,комедия', 'мультфильм,короткометражка,мелодрама',\n",
       "       'драма,криминал', 'мультфильм,фантастика,фэнтези',\n",
       "       'триллер,драма,криминал', 'драма,мелодрама,биография',\n",
       "       'драма,комедия,военный', 'фантастика,драма,детектив',\n",
       "       'мюзикл,семейный', nan, 'военный,приключения,драма',\n",
       "       'документальный,драма', 'драма,биография,история',\n",
       "       'боевик,триллер,драма', 'фэнтези,боевик',\n",
       "       'боевик,комедия,криминал', 'мюзикл,комедия,детский',\n",
       "       'комедия,мелодрама,драма', 'мультфильм,фэнтези,комедия',\n",
       "       'комедия,история', 'мелодрама', 'драма,биография,музыка',\n",
       "       'фэнтези,драма,мелодрама', 'триллер,военный',\n",
       "       'драма,мелодрама,военный', 'мюзикл,драма,мелодрама',\n",
       "       'мюзикл,комедия', 'мультфильм,приключения,семейный',\n",
       "       'ужасы,триллер', 'боевик,драма,военный', 'драма,боевик',\n",
       "       'мультфильм,драма,комедия', 'триллер,криминал',\n",
       "       'военный,биография,драма', 'комедия,семейный', 'военный',\n",
       "       'драма,семейный,биография', 'фэнтези,приключения,семейный',\n",
       "       'драма,криминал,биография', 'ужасы,триллер,детектив',\n",
       "       'боевик,история,драма', 'ужасы,триллер,драма',\n",
       "       'драма,криминал,спорт', 'документальный,короткометражка',\n",
       "       'триллер,драма', 'криминал,детектив,приключения',\n",
       "       'драма,комедия,криминал', 'драма,комедия,вестерн',\n",
       "       'драма,мелодрама,детектив', 'мелодрама,биография',\n",
       "       'фэнтези,мелодрама,драма', 'драма,мелодрама,история',\n",
       "       'комедия,приключения,история', 'приключения', 'драма,семейный',\n",
       "       'криминал,детектив', 'мультфильм,короткометражка,ужасы',\n",
       "       'фантастика,триллер,драма', 'фэнтези,мелодрама,комедия',\n",
       "       'драма,биография', 'комедия,криминал,история',\n",
       "       'триллер,драма,детектив', 'фантастика,комедия,приключения',\n",
       "       'фэнтези,семейный', 'ужасы,фантастика,боевик',\n",
       "       'мелодрама,криминал', 'комедия,приключения,мелодрама',\n",
       "       'боевик,триллер,приключения', 'боевик,приключения',\n",
       "       'боевик,триллер,криминал', 'документальный,военный,история',\n",
       "       'драма,музыка', 'боевик,драма', 'приключения,боевик',\n",
       "       'драма,военный,биография', 'триллер,драма,приключения',\n",
       "       'аниме,мультфильм,фэнтези', 'триллер,детектив,драма',\n",
       "       'боевик,триллер,мелодрама', 'боевик,история',\n",
       "       'приключения,история', 'драма,комедия,приключения',\n",
       "       'фэнтези,комедия,приключения', 'драма,вестерн',\n",
       "       'документальный,музыка', 'мелодрама,драма',\n",
       "       'триллер,криминал,детектив', 'ужасы', 'боевик,комедия,приключения',\n",
       "       'мультфильм,фэнтези,боевик', 'боевик,фэнтези,драма',\n",
       "       'фэнтези,драма', 'фэнтези,боевик,комедия',\n",
       "       'приключения,детский,комедия', 'документальный',\n",
       "       'боевик,триллер,комедия', 'мелодрама,комедия,криминал',\n",
       "       'драма,детектив', 'мюзикл,ужасы,триллер', 'детектив,триллер,ужасы',\n",
       "       'ужасы,фэнтези', 'ужасы,фэнтези,триллер', 'мультфильм,драма',\n",
       "       'ужасы,боевик,фантастика', 'боевик', 'фантастика,боевик',\n",
       "       'мелодрама,комедия,приключения', 'триллер,детектив',\n",
       "       'мюзикл,мелодрама,фэнтези', 'криминал', 'триллер,комедия,криминал',\n",
       "       'боевик,приключения,триллер', 'триллер,драма,военный',\n",
       "       'комедия,семейный,музыка', 'комедия,фантастика,мелодрама',\n",
       "       'фантастика,триллер,криминал', 'комедия,драма', 'боевик,военный',\n",
       "       'ужасы,фантастика,триллер', 'фантастика,драма,мелодрама',\n",
       "       'фэнтези,драма,детектив', 'боевик,триллер', 'боевик,драма,история',\n",
       "       'мультфильм,мюзикл,фэнтези', 'длявзрослых,драма,мелодрама',\n",
       "       'мультфильм,боевик,детектив', 'фантастика,мелодрама,боевик',\n",
       "       'ужасы,фантастика,детектив', 'фантастика,боевик,приключения',\n",
       "       'мелодрама,комедия,спорт', 'комедия,боевик,приключения',\n",
       "       'документальный,приключения', 'мультфильм,короткометражка,детский',\n",
       "       'комедия,приключения', 'ужасы,драма', 'ужасы,фэнтези,боевик',\n",
       "       'мультфильм,фэнтези,детский', 'мюзикл,боевик,драма',\n",
       "       'семейный,комедия,драма', 'концерт,музыка', 'фэнтези,боевик,драма',\n",
       "       'драма,комедия,музыка', 'фантастика,фэнтези,боевик',\n",
       "       'фэнтези,комедия,семейный', 'фэнтези,драма,комедия',\n",
       "       'мультфильм,мюзикл,драма', 'триллер', 'боевик,криминал,триллер',\n",
       "       'мультфильм,приключения,драма', 'мелодрама,музыка',\n",
       "       'документальный,музыка,концерт', 'мультфильм,семейный',\n",
       "       'мультфильм,комедия,приключения', 'мультфильм,комедия,семейный',\n",
       "       'фантастика,драма', 'фэнтези,боевик,приключения',\n",
       "       'мультфильм,приключения', 'драма,военный,история', 'история',\n",
       "       'драма,приключения,военный',\n",
       "       'документальный,короткометражка,семейный',\n",
       "       'мелодрама,история,триллер', 'ужасы,детектив',\n",
       "       'мюзикл,комедия,приключения', 'драма,спорт,биография',\n",
       "       'фантастика,боевик,комедия', 'фантастика,приключения,детектив',\n",
       "       'короткометражка,драма,военный', 'драма,мультфильм',\n",
       "       'приключения,семейный', 'детектив', 'триллер,приключения',\n",
       "       'аниме,мультфильм,боевик', 'драма,комедия,биография',\n",
       "       'драма,комедия,спорт', 'боевик,мелодрама,комедия',\n",
       "       'семейный,комедия', 'фэнтези,боевик,триллер',\n",
       "       'документальный,фэнтези,семейный', 'фантастика,фэнтези,драма',\n",
       "       'ужасы,комедия,фэнтези', 'документальный,биография,музыка',\n",
       "       'фантастика,боевик,фэнтези', 'ужасы,боевик,триллер',\n",
       "       'комедия,криминал,семейный', 'приключения,драма',\n",
       "       'криминал,драма,триллер', 'драма,детектив,криминал',\n",
       "       'фэнтези,приключения,комедия', 'комедия,спорт',\n",
       "       'мюзикл,фэнтези,мелодрама', 'мультфильм,фэнтези,приключения',\n",
       "       'фантастика,фэнтези,приключения', 'фэнтези',\n",
       "       'фэнтези,приключения,боевик', 'фантастика,боевик,драма',\n",
       "       'криминал,драма', 'криминал,триллер,драма',\n",
       "       'драма,мелодрама,приключения', 'детский,комедия',\n",
       "       'фантастика,драма,боевик', 'мультфильм,семейный,фэнтези',\n",
       "       'концерт,музыка,документальный', 'ужасы,комедия,приключения',\n",
       "       'драма,мелодрама,криминал', 'ужасы,фантастика,фэнтези',\n",
       "       'боевик,комедия', 'мультфильм,фантастика,комедия', 'триллер,ужасы',\n",
       "       'мультфильм,мюзикл,комедия', 'мелодрама,фэнтези,триллер',\n",
       "       'детский,приключения,комедия', 'комедия,детектив',\n",
       "       'аниме,мультфильм,мелодрама', 'документальный,драма,семейный',\n",
       "       'документальный,биография,история', 'военный,боевик,драма',\n",
       "       'ужасы,комедия', 'комедия,приключения,семейный',\n",
       "       'приключения,биография,история', 'детский,приключения,семейный',\n",
       "       'спорт,драма,биография', 'аниме,мультфильм,ужасы',\n",
       "       'фантастика,боевик,криминал', 'мюзикл,драма',\n",
       "       'драма,криминал,детектив', 'аниме,мультфильм,драма',\n",
       "       'драма,триллер,приключения', 'триллер,криминал,драма',\n",
       "       'фэнтези,комедия,драма', 'мультфильм,комедия',\n",
       "       'драма,комедия,история', 'комедия,биография,история',\n",
       "       'мультфильм,фантастика,приключения', 'аниме,мультфильм,фантастика',\n",
       "       'мультфильм,фэнтези,семейный', 'мультфильм,боевик,комедия',\n",
       "       'комедия,криминал,спорт', 'документальный,мюзикл',\n",
       "       'мелодрама,комедия,музыка', 'биография',\n",
       "       'триллер,криминал,комедия', 'фантастика,драма,комедия',\n",
       "       'комедия,драма,мелодрама', 'фантастика,приключения,боевик',\n",
       "       'мультфильм,фэнтези,драма', 'триллер,комедия',\n",
       "       'драма,приключения,биография', 'фантастика,комедия',\n",
       "       'мелодрама,драма,комедия', 'боевик,криминал',\n",
       "       'драма,криминал,боевик', 'мультфильм,мюзикл,детский',\n",
       "       'драма,фэнтези', 'документальный,семейный',\n",
       "       'фэнтези,драма,приключения', 'ужасы,комедия,фантастика',\n",
       "       'драма,мелодрама,музыка', 'фэнтези,драма,семейный',\n",
       "       'триллер,мелодрама,драма', 'вестерн,боевик,драма',\n",
       "       'мультфильм,короткометражка,комедия', 'триллер,драма,история',\n",
       "       'ужасы,фантастика', 'ужасы,мелодрама,комедия',\n",
       "       'фэнтези,приключения', 'фантастика,триллер',\n",
       "       'ужасы,боевик,фэнтези', 'мультфильм,комедия,детский',\n",
       "       'триллер,драма,биография', 'мультфильм,ужасы,фэнтези',\n",
       "       'мультфильм,ужасы,фантастика', 'ужасы,боевик,комедия',\n",
       "       'драма,биография,спорт', 'мультфильм', 'мелодрама,комедия,драма',\n",
       "       'приключения,фантастика,семейный', 'комедия,криминал,детектив',\n",
       "       'ужасы,триллер,комедия', 'криминал,комедия,триллер',\n",
       "       'семейный,приключения,комедия', 'мультфильм,драма,приключения',\n",
       "       'ужасы,драма,детектив', 'драма,приключения,фэнтези',\n",
       "       'фантастика,мультфильм,драма', 'драма,триллер,детектив',\n",
       "       'драма,история,музыка', 'детский', 'триллер,боевик,криминал',\n",
       "       'драма,фантастика', 'комедия,драма,семейный',\n",
       "       'боевик,драма,комедия', 'комедия,ужасы',\n",
       "       'драма,фантастика,триллер', 'фантастика,драма,триллер',\n",
       "       'история,спорт,драма', 'документальный,биография',\n",
       "       'биография,история', 'спорт,драма', 'боевик,фэнтези',\n",
       "       'мультфильм,фэнтези', 'документальный,комедия,история',\n",
       "       'криминал,комедия,боевик', 'фэнтези,приключения,драма',\n",
       "       'музыка,концерт', 'триллер,драма,боевик',\n",
       "       'комедия,криминал,боевик', 'комедия,фантастика,боевик',\n",
       "       'вестерн,приключения,боевик', 'аниме,мультфильм,комедия',\n",
       "       'детектив,криминал,триллер', 'мультфильм,комедия,криминал',\n",
       "       'комедия,приключения,детектив', 'мелодрама,фантастика,драма',\n",
       "       'драма,комедия,семейный', 'приключения,фантастика',\n",
       "       'триллер,детектив,ужасы', 'комедия,приключения,фэнтези',\n",
       "       'фэнтези,триллер,драма', 'мелодрама,приключения,боевик',\n",
       "       'детектив,триллер,криминал', 'фэнтези,семейный,мелодрама',\n",
       "       'военный,драма', 'документальный,приключения,семейный',\n",
       "       'криминал,комедия,драма', 'комедия,фантастика',\n",
       "       'история,биография,драма', 'мелодрама,драма,музыка',\n",
       "       'боевик,мелодрама', 'комедия,криминал,триллер',\n",
       "       'детектив,триллер,боевик', 'комедия,боевик,криминал',\n",
       "       'комедия,вестерн', 'детский,мелодрама,семейный',\n",
       "       'короткометражка,мультфильм', 'комедия,фэнтези',\n",
       "       'фантастика,драма,ужасы', 'триллер,драма,ужасы',\n",
       "       'драма,фэнтези,история', 'комедия,драма,короткометражка',\n",
       "       'фэнтези,триллер,приключения', 'семейный',\n",
       "       'комедия,криминал,драма', 'комедия,фэнтези,ужасы',\n",
       "       'короткометражка,комедия,криминал', 'фантастика',\n",
       "       'триллер,ужасы,драма', 'мелодрама,драма,фэнтези',\n",
       "       'фантастика,приключения,драма', 'боевик,детектив',\n",
       "       'военный,драма,боевик', 'комедия,мелодрама,фэнтези',\n",
       "       'вестерн,криминал,триллер', 'драма,история,триллер',\n",
       "       'мультфильм,фантастика,боевик', 'детектив,драма,криминал',\n",
       "       'приключения,история,драма', 'мультфильм,семейный,детский',\n",
       "       'биография,драма,история', 'триллер,криминал,боевик',\n",
       "       'история,мелодрама', 'приключения,детский',\n",
       "       'музыка,приключения,концерт', 'военный,драма,комедия',\n",
       "       'фэнтези,боевик,военный', 'фантастика,детектив,боевик',\n",
       "       'мультфильм,фэнтези,история', 'биография,мелодрама,драма',\n",
       "       'документальный,биография,спорт', 'фантастика,комедия,детектив',\n",
       "       'музыка,концерт,документальный', 'триллер,боевик,приключения',\n",
       "       'триллер,драма,комедия', 'детектив,криминал',\n",
       "       'мультфильм,приключения,фэнтези', 'мелодрама,приключения',\n",
       "       'комедия,музыка', 'мелодрама,комедия,ужасы',\n",
       "       'драма,криминал,приключения', 'приключения,детектив,мелодрама',\n",
       "       'драма,криминал,фантастика', 'фэнтези,драма,биография',\n",
       "       'детектив,фантастика,криминал', 'триллер,драма,фантастика',\n",
       "       'ужасы,комедия,боевик', 'мелодрама,история', 'триллер,боевик',\n",
       "       'фильм-нуар,триллер,детектив', 'комедия,криминал,приключения',\n",
       "       'ужасы,триллер,мелодрама', 'военный,драма,история',\n",
       "       'драма,спорт,история', 'документальный,драма,история',\n",
       "       'триллер,мелодрама,детектив', 'детский,семейный',\n",
       "       'мюзикл,семейный,драма', 'биография,военный,драма',\n",
       "       'мультфильм,детский', 'боевик,криминал,драма',\n",
       "       'детектив,фэнтези,триллер', 'драма,боевик,приключения',\n",
       "       'драма,мелодрама,фэнтези', 'детектив,история,драма',\n",
       "       'фэнтези,боевик,ужасы', 'ужасы,фэнтези,мелодрама',\n",
       "       'ужасы,приключения', 'боевик,фантастика',\n",
       "       'ужасы,мелодрама,детектив', 'фантастика,триллер,приключения',\n",
       "       'боевик,приключения,история', 'приключения,боевик,триллер',\n",
       "       'детектив,ужасы,криминал', 'семейный,фэнтези', 'мюзикл,мелодрама',\n",
       "       'драма,военный,приключения', 'фантастика,драма,приключения',\n",
       "       'приключения,семейный,драма', 'история,драма,боевик',\n",
       "       'мультфильм,приключения,комедия', 'криминал,драма,комедия',\n",
       "       'ужасы,комедия,драма', 'комедия,семейный,приключения',\n",
       "       'мюзикл,фэнтези,драма', 'драма,вестерн,боевик',\n",
       "       'фантастика,триллер,детектив', 'драма,история,детектив',\n",
       "       'короткометражка,биография', 'мультфильм,приключения,фантастика',\n",
       "       'комедия,триллер', 'мультфильм,приключения,детектив',\n",
       "       'драма,триллер', 'ужасы,триллер,криминал',\n",
       "       'документальный,криминал,военный', 'ужасы,фэнтези,драма',\n",
       "       'фэнтези,комедия', 'ужасы,фэнтези,комедия', 'комедия,музыка,драма',\n",
       "       'мультфильм,приключения,военный', 'мюзикл,фэнтези,комедия',\n",
       "       'боевик,фантастика,приключения', 'триллер,ужасы,криминал',\n",
       "       'ужасы,фантастика,драма', 'фантастика,приключения,семейный',\n",
       "       'короткометражка,музыка', 'мелодрама,детектив,комедия',\n",
       "       'документальный,триллер,биография', 'боевик,фантастика,триллер',\n",
       "       'спорт,драма,комедия', 'фэнтези,мелодрама,приключения',\n",
       "       'триллер,детектив,криминал', 'короткометражка,мелодрама',\n",
       "       'мультфильм,семейный,спорт', 'комедия,фэнтези,мелодрама',\n",
       "       'драма,спорт,комедия', 'история,драма,мелодрама',\n",
       "       'драма,боевик,криминал', 'драма,комедия,триллер',\n",
       "       'аниме,мультфильм', 'документальный,ужасы',\n",
       "       'мультфильм,короткометражка', 'драма,история,военный',\n",
       "       'мультфильм,короткометражка,фэнтези', 'комедия,военный,музыка',\n",
       "       'биография,история,драма', 'ужасы,драма,мелодрама',\n",
       "       'драма,комедия,детектив', 'комедия,семейный,фантастика',\n",
       "       'мультфильм,семейный,комедия', 'история,детектив',\n",
       "       'приключения,мелодрама,детектив', 'мюзикл,комедия,мелодрама',\n",
       "       'драма,фантастика,ужасы', 'мультфильм,ужасы,комедия',\n",
       "       'длявзрослых,драма,комедия', 'ужасы,комедия,музыка',\n",
       "       'комедия,история,драма', 'семейный,детектив,детский',\n",
       "       'короткометражка,драма', 'документальный,новости,драма',\n",
       "       'триллер,мелодрама', 'ужасы,драма,вестерн',\n",
       "       'мюзикл,фэнтези,семейный', 'вестерн,драма,триллер',\n",
       "       'приключения,вестерн,боевик', 'семейный,комедия,музыка',\n",
       "       'боевик,драма,вестерн', 'ужасы,драма,триллер',\n",
       "       'фантастика,мелодрама', 'комедия,криминал,биография',\n",
       "       'семейный,мультфильм,комедия', 'комедия,драма,криминал',\n",
       "       'фантастика,боевик,военный', 'приключения,биография,драма',\n",
       "       'приключения,триллер,биография', 'криминал,боевик,триллер',\n",
       "       'боевик,вестерн,приключения', 'история,драма',\n",
       "       'фантастика,фэнтези,комедия', 'мультфильм,детский,комедия',\n",
       "       'мелодрама,комедия,триллер', 'документальный,боевик,приключения',\n",
       "       'драма,приключения', 'мелодрама,военный,драма', 'триллер,фэнтези',\n",
       "       'драма,триллер,биография', 'фэнтези,боевик,семейный',\n",
       "       'фантастика,триллер,комедия', 'документальный,фэнтези',\n",
       "       'комедия,мультфильм,фантастика', 'криминал,биография,комедия',\n",
       "       'биография,спорт,драма', 'приключения,военный',\n",
       "       'мультфильм,семейный,драма', 'документальный,фэнтези,драма',\n",
       "       'комедия,боевик,фантастика', 'семейный,приключения,военный',\n",
       "       'триллер,ужасы,детектив', 'короткометражка',\n",
       "       'мелодрама,триллер,история', 'документальный,история',\n",
       "       'мультфильм,приключения,детский', 'драма,комедия,мультфильм',\n",
       "       'военный,детектив', 'семейный,приключения,документальный',\n",
       "       'детский,фэнтези', 'документальный,комедия', 'комедия,биография',\n",
       "       'криминал,комедия', 'спорт,мелодрама,криминал',\n",
       "       'фантастика,комедия,боевик', 'боевик,приключения,детектив',\n",
       "       'детектив,триллер,драма', 'документальный,фантастика',\n",
       "       'мелодрама,комедия,семейный', 'мультфильм,мелодрама,комедия',\n",
       "       'драма,спорт,семейный', 'фантастика,мелодрама,фэнтези',\n",
       "       'мюзикл,комедия,музыка', 'фантастика,триллер,мелодрама',\n",
       "       'приключения,комедия,фэнтези', 'фэнтези,боевик,детектив',\n",
       "       'фэнтези,боевик,мелодрама', 'комедия,военный',\n",
       "       'драма,спорт,боевик', 'мультфильм,боевик,триллер',\n",
       "       'мелодрама,семейный', 'фантастика,боевик,детектив',\n",
       "       'драма,приключения,история', 'документальный,драма,музыка',\n",
       "       'фантастика,триллер,боевик', 'фэнтези,боевик,вестерн',\n",
       "       'драма,комедия,мелодрама', 'ужасы,фэнтези,приключения',\n",
       "       'триллер,фэнтези,драма', 'мультфильм,мюзикл,мелодрама',\n",
       "       'ужасы,триллер,фантастика', 'триллер,мелодрама,комедия',\n",
       "       'ужасы,комедия,семейный', 'комедия,приключения,музыка',\n",
       "       'документальный,комедия,криминал', 'мелодрама,детектив',\n",
       "       'детский,приключения,фантастика', 'короткометражка,боевик,драма',\n",
       "       'боевик,комедия,семейный', 'фантастика,боевик,мелодрама',\n",
       "       'фэнтези,триллер,мелодрама', 'драма,детектив,история',\n",
       "       'боевик,криминал,детектив', 'мультфильм,фэнтези,мелодрама',\n",
       "       'мелодрама,драма,боевик', 'драма,вестерн,приключения',\n",
       "       'драма,приключения,мелодрама', 'фэнтези,боевик,криминал',\n",
       "       'фантастика,комедия,семейный', 'детский,фэнтези,приключения',\n",
       "       'ужасы,боевик', 'фантастика,мелодрама,комедия',\n",
       "       'семейный,спорт,боевик', 'триллер,биография,драма',\n",
       "       'ужасы,драма,комедия', 'мультфильм,фэнтези,триллер', 'мюзикл',\n",
       "       'боевик,спорт,драма', 'комедия,приключения,вестерн',\n",
       "       'документальный,ужасы,боевик', 'фантастика,боевик,семейный',\n",
       "       'военный,история', 'ужасы,боевик,криминал', 'детектив,триллер',\n",
       "       'драма,семейный,комедия', 'драма,детектив,приключения',\n",
       "       'драма,криминал,история', 'приключения,триллер',\n",
       "       'боевик,драма,биография', 'драма,приключения,триллер',\n",
       "       'комедия,фэнтези,приключения', 'фантастика,боевик,ужасы',\n",
       "       'драма,комедия,фантастика', 'детектив,криминал,драма',\n",
       "       'боевик,триллер,фэнтези', 'приключения,детектив,семейный',\n",
       "       'ужасы,комедия,криминал', 'мультфильм,биография,драма',\n",
       "       'история,боевик,фэнтези', 'детектив,криминал,боевик',\n",
       "       'приключения,фэнтези', 'комедия,приключения,спорт',\n",
       "       'драма,биография,мюзикл', 'комедия,семейный,фэнтези',\n",
       "       'детектив,драма,триллер', 'боевик,приключения,семейный',\n",
       "       'биография,спорт,комедия', 'фантастика,приключения,военный',\n",
       "       'документальный,драма,биография', 'детектив,приключения,драма',\n",
       "       'аниме,мультфильм,приключения', 'семейный,приключения',\n",
       "       'ужасы,фэнтези,детектив', 'семейный,документальный',\n",
       "       'драма,приключения,семейный', 'приключения,история,военный',\n",
       "       'фэнтези,мелодрама', 'фэнтези,триллер,детектив',\n",
       "       'документальный,спорт,биография', 'комедия,триллер,драма',\n",
       "       'драма,ужасы', 'биография,музыка,драма', 'фэнтези,ужасы',\n",
       "       'детектив,мелодрама,фэнтези', 'боевик,военный,история',\n",
       "       'биография,драма,криминал', 'триллер,мелодрама,криминал',\n",
       "       'семейный,мелодрама', 'биография,драма', 'военный,история,драма',\n",
       "       'фантастика,детектив,фэнтези', 'детектив,приключения,триллер',\n",
       "       'фантастика,приключения', 'мультфильм,короткометражка,мюзикл',\n",
       "       'мультфильм,детский,семейный', 'документальный,драма,комедия',\n",
       "       'комедия,приключения,криминал', 'документальный,семейный,музыка',\n",
       "       'мелодрама,музыка,драма', 'детектив,фантастика,триллер',\n",
       "       'драма,мелодрама,триллер', 'биография,драма,военный',\n",
       "       'приключения,фантастика,драма', 'детектив,фильм-нуар,комедия',\n",
       "       'документальный,спорт', 'триллер,фантастика,драма',\n",
       "       'биография,документальный', 'ужасы,фантастика,мелодрама',\n",
       "       'детектив,комедия', 'история,биография,военный',\n",
       "       'криминал,мелодрама', 'драма,криминал,вестерн',\n",
       "       'мелодрама,семейный,приключения', 'триллер,ужасы,мелодрама',\n",
       "       'фэнтези,драма,фильм-нуар', 'детектив,мелодрама',\n",
       "       'комедия,драма,биография', 'драма,военный,боевик',\n",
       "       'драма,комедия,ужасы', 'фантастика,драма,криминал',\n",
       "       'документальный,музыка,биография', 'мультфильм,боевик,приключения',\n",
       "       'короткометражка,фантастика', 'мультфильм,мелодрама,драма',\n",
       "       'боевик,военный,драма', 'фэнтези,семейный,приключения',\n",
       "       'детский,мультфильм,приключения', 'семейный,фэнтези,комедия',\n",
       "       'фэнтези,ужасы,триллер', 'ужасы,триллер,приключения',\n",
       "       'драма,боевик,история', 'фэнтези,комедия,детектив',\n",
       "       'история,приключения', 'аниме,мультфильм,короткометражка',\n",
       "       'драма,военный,триллер', 'биография,криминал,триллер',\n",
       "       'фантастика,фэнтези,детектив', 'вестерн,биография,драма',\n",
       "       'биография,музыка,мюзикл', 'драма,история,биография',\n",
       "       'приключения,драма,фантастика', 'комедия,фэнтези,криминал',\n",
       "       'биография,спорт,история', 'драма,криминал,семейный',\n",
       "       'детектив,боевик,история', 'ужасы,комедия,детектив',\n",
       "       'триллер,приключения,драма', 'фэнтези,комедия,криминал',\n",
       "       'триллер,криминал,приключения', 'комедия,детектив,приключения',\n",
       "       'фэнтези,драма,ужасы', 'ужасы,драма,военный', 'реальноеТВ',\n",
       "       'аниме,мультфильм,детектив', 'приключения,фэнтези,семейный',\n",
       "       'драма,биография,комедия', 'триллер,комедия,ужасы',\n",
       "       'музыка,мелодрама,фэнтези', 'мультфильм,история',\n",
       "       'мультфильм,комедия,фантастика', 'биография,криминал,драма',\n",
       "       'комедия,мелодрама,фантастика', 'криминал,боевик,комедия',\n",
       "       'история,криминал', 'детектив,комедия,драма',\n",
       "       'триллер,фантастика,боевик', 'криминал,боевик',\n",
       "       'комедия,драма,военный', 'драма,триллер,криминал',\n",
       "       'мультфильм,мелодрама,приключения', 'фантастика,фэнтези,триллер',\n",
       "       'короткометражка,драма,триллер', 'военный,боевик,история',\n",
       "       'боевик,драма,триллер', 'документальный,военный,драма',\n",
       "       'драма,криминал,фильм-нуар', 'мультфильм,детский,приключения',\n",
       "       'мелодрама,история,драма'], dtype=object)"
      ]
     },
     "execution_count": 38,
     "metadata": {},
     "output_type": "execute_result"
    }
   ],
   "source": [
    "data['genres'].unique()"
   ]
  },
  {
   "cell_type": "markdown",
   "metadata": {},
   "source": [
    "Чтобы убрать неявные дубликаты убраны пробелы в ячейках 'genres' и 'production_country'"
   ]
  },
  {
   "cell_type": "markdown",
   "metadata": {
    "id": "52fOPrEBgFyQ"
   },
   "source": [
    "#### Шаг 2.4. Изучение категориальных значений\n",
    "\n",
    "- Посмотрите, какая общая проблема встречается почти во всех категориальных столбцах;\n",
    "- Исправьте проблемные значения в поле `type`.\n",
    "\n",
    "<div id=\"accordion\">\n",
    "    <div class=\"card\">\n",
    "        <div class=\"card-header\" id=\"headingThree\">\n",
    "            <button class=\"btn btn-link collapsed\" data-toggle=\"collapse\" data-target=\"#collapseHint_1\" aria-expanded=\"false\" aria-controls=\"collapseHint_1\">Подсказка</button>\n",
    "        </div>\n",
    "        <div id=\"collapseHint_1\" class=\"collapse\" aria-labelledby=\"headingThree\" data-parent=\"#accordion\">\n",
    "            <div class=\"card-body\">\n",
    "В поле <code>type</code> есть несколько значений, у которых появился пробел в начале строки. Самый простой способ их «починить» -- использовать метод <a href=\"https://pandas.pydata.org/docs/reference/api/pandas.Series.str.strip.html#pandas.Series.str.strip\">.str.strip</a>. Этот метод удаляет все пробелы, которые встречаются в начале и в конце строки. Применяют его таким образом:<br>\n",
    "<code>df['type'].str.strip()</code>\n",
    "            </div>\n",
    "        </div>\n",
    "    </div>\n",
    "</div>"
   ]
  },
  {
   "cell_type": "code",
   "execution_count": 39,
   "metadata": {},
   "outputs": [
    {
     "data": {
      "text/plain": [
       "array(['Художественный', 'Анимационный', 'Прочие', 'Документальный',\n",
       "       'Научно-популярный', ' Художественный', ' Анимационный',\n",
       "       'Музыкально-развлекательный'], dtype=object)"
      ]
     },
     "execution_count": 39,
     "metadata": {},
     "output_type": "execute_result"
    }
   ],
   "source": [
    "data['type'].unique()"
   ]
  },
  {
   "cell_type": "code",
   "execution_count": 40,
   "metadata": {},
   "outputs": [],
   "source": [
    "data['type'] = data['type'].str.strip()"
   ]
  },
  {
   "cell_type": "code",
   "execution_count": 41,
   "metadata": {},
   "outputs": [
    {
     "data": {
      "text/plain": [
       "array(['Художественный', 'Анимационный', 'Прочие', 'Документальный',\n",
       "       'Научно-популярный', 'Музыкально-развлекательный'], dtype=object)"
      ]
     },
     "execution_count": 41,
     "metadata": {},
     "output_type": "execute_result"
    }
   ],
   "source": [
    "data['type'].unique()"
   ]
  },
  {
   "cell_type": "code",
   "execution_count": 42,
   "metadata": {},
   "outputs": [
    {
     "data": {
      "text/plain": [
       "array(['«18+» - запрещено для детей', '«6+» - для детей старше 6 лет',\n",
       "       '«12+» - для детей старше 12 лет',\n",
       "       '«16+» - для детей старше 16 лет',\n",
       "       '«0+» - для любой зрительской аудитории'], dtype=object)"
      ]
     },
     "execution_count": 42,
     "metadata": {},
     "output_type": "execute_result"
    }
   ],
   "source": [
    "data['age_restriction'].unique()"
   ]
  },
  {
   "cell_type": "code",
   "execution_count": 43,
   "metadata": {},
   "outputs": [
    {
     "data": {
      "text/plain": [
       "array([nan, 'Министерство культуры', 'Фонд кино',\n",
       "       'Министерство культуры, Фонд кино'], dtype=object)"
      ]
     },
     "execution_count": 43,
     "metadata": {},
     "output_type": "execute_result"
    }
   ],
   "source": [
    "data['financing_source'].unique()"
   ]
  },
  {
   "cell_type": "markdown",
   "metadata": {},
   "source": [
    "В столбце type убраны одинаковые значения\n",
    "\n",
    "В столбцах age_restriction и financing_source данные уникальны"
   ]
  },
  {
   "cell_type": "markdown",
   "metadata": {},
   "source": [
    "В категориальных столбцах встречаются пробелы, которые влияют на распространение неявных дубликатов - это общая проблема для многих столбцов."
   ]
  },
  {
   "cell_type": "markdown",
   "metadata": {
    "id": "XFSN5lrEgFyR"
   },
   "source": [
    "#### Шаг 2.5. Проверка количественных значений\n",
    "\n",
    "- Проверьте, обнаружились ли в таких столбцах подозрительные данные. Как с такими данными лучше поступить?\n",
    "\n",
    "<div id=\"accordion\">\n",
    "    <div class=\"card\">\n",
    "        <div class=\"card-header\" id=\"headingThree\">\n",
    "            <button class=\"btn btn-link collapsed\" data-toggle=\"collapse\" data-target=\"#collapseHint_budget\" aria-expanded=\"false\" aria-controls=\"collapseHint_budget\">Подсказка</button>\n",
    "        </div>\n",
    "        <div id=\"collapseHint_budget\" class=\"collapse\" aria-labelledby=\"headingThree\" data-parent=\"#accordion\">\n",
    "            <div class=\"card-body\">\n",
    "Обратите внимание на описание столбца <code>budget</code>. Как этот столбец соотносится с двумя другими: <code>refundable_support</code> и <code>nonrefundable_support</code>?\n",
    "            </div>\n",
    "        </div>\n",
    "    </div>\n",
    "</div>"
   ]
  },
  {
   "cell_type": "code",
   "execution_count": 44,
   "metadata": {
    "scrolled": true
   },
   "outputs": [
    {
     "data": {
      "text/html": [
       "<div>\n",
       "<style scoped>\n",
       "    .dataframe tbody tr th:only-of-type {\n",
       "        vertical-align: middle;\n",
       "    }\n",
       "\n",
       "    .dataframe tbody tr th {\n",
       "        vertical-align: top;\n",
       "    }\n",
       "\n",
       "    .dataframe thead th {\n",
       "        text-align: right;\n",
       "    }\n",
       "</style>\n",
       "<table border=\"1\" class=\"dataframe\">\n",
       "  <thead>\n",
       "    <tr style=\"text-align: right;\">\n",
       "      <th></th>\n",
       "      <th>title</th>\n",
       "      <th>puNumber</th>\n",
       "      <th>show_start_date</th>\n",
       "      <th>type</th>\n",
       "      <th>film_studio</th>\n",
       "      <th>production_country</th>\n",
       "      <th>director</th>\n",
       "      <th>producer</th>\n",
       "      <th>age_restriction</th>\n",
       "      <th>refundable_support</th>\n",
       "      <th>nonrefundable_support</th>\n",
       "      <th>budget</th>\n",
       "      <th>financing_source</th>\n",
       "      <th>ratings</th>\n",
       "      <th>genres</th>\n",
       "      <th>box_office</th>\n",
       "    </tr>\n",
       "  </thead>\n",
       "  <tbody>\n",
       "    <tr>\n",
       "      <th>2053</th>\n",
       "      <td>14+</td>\n",
       "      <td>111023614</td>\n",
       "      <td>2014-12-19 12:00:00+00:00</td>\n",
       "      <td>Художественный</td>\n",
       "      <td>ООО Киностудия  \"Сентябрь\"</td>\n",
       "      <td>Россия</td>\n",
       "      <td>А.Зайцев</td>\n",
       "      <td>О.Гранина, А.Зайцев</td>\n",
       "      <td>«16+» - для детей старше 16 лет</td>\n",
       "      <td>0.0</td>\n",
       "      <td>23,000,000.0</td>\n",
       "      <td>0.0</td>\n",
       "      <td>Министерство культуры, Фонд кино</td>\n",
       "      <td>6.6</td>\n",
       "      <td>мелодрама</td>\n",
       "      <td>10,234,016.1</td>\n",
       "    </tr>\n",
       "    <tr>\n",
       "      <th>2058</th>\n",
       "      <td>Дуxless 2</td>\n",
       "      <td>111000415</td>\n",
       "      <td>2015-01-26 12:00:00+00:00</td>\n",
       "      <td>Художественный</td>\n",
       "      <td>ООО \"Киностудия \"Слово\", ООО \"Арт Пикчерс Студия\"</td>\n",
       "      <td>Россия</td>\n",
       "      <td>Р.Прыгунов</td>\n",
       "      <td>П.Ануров, Ф.Бондарчук, Д.Рудовский</td>\n",
       "      <td>«16+» - для детей старше 16 лет</td>\n",
       "      <td>0.0</td>\n",
       "      <td>75,000,000.0</td>\n",
       "      <td>0.0</td>\n",
       "      <td>Фонд кино</td>\n",
       "      <td>6.6</td>\n",
       "      <td>драма</td>\n",
       "      <td>446,163,511.0</td>\n",
       "    </tr>\n",
       "    <tr>\n",
       "      <th>2472</th>\n",
       "      <td>Воин (2015)</td>\n",
       "      <td>111017315</td>\n",
       "      <td>2015-09-28 12:00:00+00:00</td>\n",
       "      <td>Художественный</td>\n",
       "      <td>ООО \"Форпост Продакшн\", ООО \"Арт Пикчерс Студия\"</td>\n",
       "      <td>Россия</td>\n",
       "      <td>А.Андрианов</td>\n",
       "      <td>ООО \"Арт Пикчерс Студия\"</td>\n",
       "      <td>«12+» - для детей старше 12 лет</td>\n",
       "      <td>10,000,000.0</td>\n",
       "      <td>70,000,000.0</td>\n",
       "      <td>0.0</td>\n",
       "      <td>Фонд кино</td>\n",
       "      <td>7.8</td>\n",
       "      <td>боевик,драма,криминал</td>\n",
       "      <td>196,572,438.4</td>\n",
       "    </tr>\n",
       "    <tr>\n",
       "      <th>2532</th>\n",
       "      <td>Бармен.</td>\n",
       "      <td>111009615</td>\n",
       "      <td>2015-05-26 12:00:00+00:00</td>\n",
       "      <td>Художественный</td>\n",
       "      <td>АО \"ВайТ Медиа\", ООО \"Арт Пикчерс Студия\"</td>\n",
       "      <td>Россия</td>\n",
       "      <td>Д.Штурманова</td>\n",
       "      <td>Т.Вайнштейн</td>\n",
       "      <td>«16+» - для детей старше 16 лет</td>\n",
       "      <td>20,000,000.0</td>\n",
       "      <td>0.0</td>\n",
       "      <td>0.0</td>\n",
       "      <td>Фонд кино</td>\n",
       "      <td>6.2</td>\n",
       "      <td>комедия,фэнтези</td>\n",
       "      <td>67,418,974.8</td>\n",
       "    </tr>\n",
       "    <tr>\n",
       "      <th>2615</th>\n",
       "      <td>Савва. Сердце воина</td>\n",
       "      <td>114001715</td>\n",
       "      <td>2015-07-21 12:00:00+00:00</td>\n",
       "      <td>Анимационный</td>\n",
       "      <td>ООО \"Глюкоза Продакшн\", ООО \"Арт Пикчерс Студия\"</td>\n",
       "      <td>Россия</td>\n",
       "      <td>М.Фадеев</td>\n",
       "      <td>А.Чистяков</td>\n",
       "      <td>«6+» - для детей старше 6 лет</td>\n",
       "      <td>60,000,000.0</td>\n",
       "      <td>100,000,000.0</td>\n",
       "      <td>0.0</td>\n",
       "      <td>Фонд кино</td>\n",
       "      <td>4.6</td>\n",
       "      <td>мультфильм,приключения,фэнтези</td>\n",
       "      <td>184,487,551.4</td>\n",
       "    </tr>\n",
       "    <tr>\n",
       "      <th>2684</th>\n",
       "      <td>Тряпичный союз</td>\n",
       "      <td>111010215</td>\n",
       "      <td>2015-06-08 12:00:00+00:00</td>\n",
       "      <td>Художественный</td>\n",
       "      <td>ООО \"Кинокомпания \"КОКТЕБЕЛЬ\"</td>\n",
       "      <td>Россия</td>\n",
       "      <td>М.Местецкий</td>\n",
       "      <td>Р.Борисевич, А.Кушаев</td>\n",
       "      <td>«18+» - запрещено для детей</td>\n",
       "      <td>0.0</td>\n",
       "      <td>59,000,000.0</td>\n",
       "      <td>0.0</td>\n",
       "      <td>Фонд кино</td>\n",
       "      <td>6.3</td>\n",
       "      <td>комедия,драма</td>\n",
       "      <td>1,957,738.5</td>\n",
       "    </tr>\n",
       "    <tr>\n",
       "      <th>2788</th>\n",
       "      <td>Срочно выйду замуж</td>\n",
       "      <td>111017115</td>\n",
       "      <td>2015-09-30 12:00:00+00:00</td>\n",
       "      <td>Художественный</td>\n",
       "      <td>АО \"ВайТ Медиа\", ООО \"Арт Пикчерс Студия\"</td>\n",
       "      <td>Россия</td>\n",
       "      <td>С Чекалов</td>\n",
       "      <td>Ф.Бондарчук, Т.Вайнштейн, Д.Рудовский</td>\n",
       "      <td>«16+» - для детей старше 16 лет</td>\n",
       "      <td>0.0</td>\n",
       "      <td>35,000,000.0</td>\n",
       "      <td>0.0</td>\n",
       "      <td>Фонд кино</td>\n",
       "      <td>5.1</td>\n",
       "      <td>комедия,мелодрама</td>\n",
       "      <td>72,937,783.2</td>\n",
       "    </tr>\n",
       "    <tr>\n",
       "      <th>2874</th>\n",
       "      <td>Помню - не помню!</td>\n",
       "      <td>111004916</td>\n",
       "      <td>2016-03-01 12:00:00+00:00</td>\n",
       "      <td>Художественный</td>\n",
       "      <td>ООО \"КиноФирма\"</td>\n",
       "      <td>Россия</td>\n",
       "      <td>В.Ровенский</td>\n",
       "      <td>ООО \"КиноФирма\"</td>\n",
       "      <td>«12+» - для детей старше 12 лет</td>\n",
       "      <td>0.0</td>\n",
       "      <td>6,000,000.0</td>\n",
       "      <td>0.0</td>\n",
       "      <td>Министерство культуры</td>\n",
       "      <td>4.3</td>\n",
       "      <td>комедия</td>\n",
       "      <td>15,362,931.4</td>\n",
       "    </tr>\n",
       "    <tr>\n",
       "      <th>3047</th>\n",
       "      <td>Любовь с ограничениями</td>\n",
       "      <td>111008216</td>\n",
       "      <td>2016-04-29 12:00:00+00:00</td>\n",
       "      <td>Художественный</td>\n",
       "      <td>АО \"ВайТ Медиа\", ООО \"Арт Пикчерс Студия\"</td>\n",
       "      <td>Россия</td>\n",
       "      <td>Д.Тюрин</td>\n",
       "      <td>Ф.Бондарчук, Т.Вайнштейн, Д.Рудовский</td>\n",
       "      <td>«16+» - для детей старше 16 лет</td>\n",
       "      <td>19,000,000.0</td>\n",
       "      <td>51,000,000.0</td>\n",
       "      <td>0.0</td>\n",
       "      <td>Фонд кино</td>\n",
       "      <td>6.3</td>\n",
       "      <td>комедия,мелодрама</td>\n",
       "      <td>70,299,052.0</td>\n",
       "    </tr>\n",
       "    <tr>\n",
       "      <th>3565</th>\n",
       "      <td>Притяжение (2016)</td>\n",
       "      <td>111018116</td>\n",
       "      <td>2016-12-16 12:00:00+00:00</td>\n",
       "      <td>Художественный</td>\n",
       "      <td>ООО \"Водород 2011\",  ООО \"Арт Пикчерс Студия\"</td>\n",
       "      <td>Россия</td>\n",
       "      <td>Ф.Бондарчук</td>\n",
       "      <td>ООО \"Арт Пикчерс Студия\"</td>\n",
       "      <td>«12+» - для детей старше 12 лет</td>\n",
       "      <td>0.0</td>\n",
       "      <td>250,000,000.0</td>\n",
       "      <td>0.0</td>\n",
       "      <td>Фонд кино</td>\n",
       "      <td>5.6</td>\n",
       "      <td>фантастика</td>\n",
       "      <td>1,038,321,489.0</td>\n",
       "    </tr>\n",
       "    <tr>\n",
       "      <th>3675</th>\n",
       "      <td>Чудо-юдо</td>\n",
       "      <td>114001817</td>\n",
       "      <td>2017-06-27 12:00:00+00:00</td>\n",
       "      <td>Анимационный</td>\n",
       "      <td>ООО \"КиноФирма\"</td>\n",
       "      <td>Россия</td>\n",
       "      <td>А.Лукичев</td>\n",
       "      <td>ООО \"КиноФирма\"</td>\n",
       "      <td>«6+» - для детей старше 6 лет</td>\n",
       "      <td>20,000,000.0</td>\n",
       "      <td>20,000,000.0</td>\n",
       "      <td>0.0</td>\n",
       "      <td>Фонд кино</td>\n",
       "      <td>5.2</td>\n",
       "      <td>мультфильм,фэнтези,семейный</td>\n",
       "      <td>55,108,014.8</td>\n",
       "    </tr>\n",
       "    <tr>\n",
       "      <th>3739</th>\n",
       "      <td>Мифы</td>\n",
       "      <td>111004317</td>\n",
       "      <td>2017-06-07 12:00:00+00:00</td>\n",
       "      <td>Художественный</td>\n",
       "      <td>ООО \"ХАЙПФИЛМ\", ООО \"Арт Пикчерс Студия\"</td>\n",
       "      <td>Россия</td>\n",
       "      <td>А.Молочников</td>\n",
       "      <td>Ф.Бондарчук, Д.Рудовский, И.Стюарт, М.Османн, ...</td>\n",
       "      <td>«16+» - для детей старше 16 лет</td>\n",
       "      <td>25,000,000.0</td>\n",
       "      <td>20,000,000.0</td>\n",
       "      <td>0.0</td>\n",
       "      <td>Фонд кино</td>\n",
       "      <td>4.8</td>\n",
       "      <td>комедия</td>\n",
       "      <td>50,451,949.0</td>\n",
       "    </tr>\n",
       "    <tr>\n",
       "      <th>5673</th>\n",
       "      <td>Селфи</td>\n",
       "      <td>111012117</td>\n",
       "      <td>2018-02-01 12:00:00+00:00</td>\n",
       "      <td>Художественный</td>\n",
       "      <td>ООО \"Киностудия \"Слово\", ООО \"Арт Пикчерс Студия\"</td>\n",
       "      <td>Россия</td>\n",
       "      <td>Н.Хомерики</td>\n",
       "      <td>П.Ануров, Ф.Бондарчук, Д.Рудовский</td>\n",
       "      <td>«16+» - для детей старше 16 лет</td>\n",
       "      <td>20,000,000.0</td>\n",
       "      <td>40,000,000.0</td>\n",
       "      <td>0.0</td>\n",
       "      <td>Фонд кино</td>\n",
       "      <td>5.8</td>\n",
       "      <td>триллер,драма</td>\n",
       "      <td>225,196,400.0</td>\n",
       "    </tr>\n",
       "    <tr>\n",
       "      <th>5806</th>\n",
       "      <td>Два хвоста</td>\n",
       "      <td>114001018</td>\n",
       "      <td>2018-05-31 12:00:00+00:00</td>\n",
       "      <td>Анимационный</td>\n",
       "      <td>ООО \"ЛИЦЕНЗИОННЫЕ БРЕНДЫ\"</td>\n",
       "      <td>Россия</td>\n",
       "      <td>В.Ровенский, Н.Лопато, В.Азеев</td>\n",
       "      <td>ООО \"ЛИЦЕНЗИОННЫЕ БРЕНДЫ\"</td>\n",
       "      <td>«6+» - для детей старше 6 лет</td>\n",
       "      <td>10,000,000.0</td>\n",
       "      <td>60,000,000.0</td>\n",
       "      <td>0.0</td>\n",
       "      <td>Фонд кино</td>\n",
       "      <td>5.0</td>\n",
       "      <td>мультфильм,детский</td>\n",
       "      <td>106,514,301.0</td>\n",
       "    </tr>\n",
       "    <tr>\n",
       "      <th>6008</th>\n",
       "      <td>Принцесса и дракон</td>\n",
       "      <td>114003018</td>\n",
       "      <td>2018-08-23 12:00:00+00:00</td>\n",
       "      <td>Анимационный</td>\n",
       "      <td>ООО \"ЛИЦЕНЗИОННЫЕ БРЕНДЫ\"</td>\n",
       "      <td>Россия</td>\n",
       "      <td>М.Нефедова</td>\n",
       "      <td>ООО \"ЛИЦЕНЗИОННЫЕ БРЕНДЫ\"</td>\n",
       "      <td>«6+» - для детей старше 6 лет</td>\n",
       "      <td>40,000,000.0</td>\n",
       "      <td>40,000,000.0</td>\n",
       "      <td>0.0</td>\n",
       "      <td>Фонд кино</td>\n",
       "      <td>5.2</td>\n",
       "      <td>мультфильм,фэнтези,детский</td>\n",
       "      <td>83,366,328.7</td>\n",
       "    </tr>\n",
       "    <tr>\n",
       "      <th>6323</th>\n",
       "      <td>Баба Яга</td>\n",
       "      <td>114006518</td>\n",
       "      <td>2018-11-08 12:00:00+00:00</td>\n",
       "      <td>Анимационный</td>\n",
       "      <td>ООО \"Арт Пикчерс Студия\"</td>\n",
       "      <td>Россия</td>\n",
       "      <td>В.Саков</td>\n",
       "      <td>ООО \"Арт Пикчерс Студия\", ООО \"КРИЭЙТИВ АНИМЭЙ...</td>\n",
       "      <td>«6+» - для детей старше 6 лет</td>\n",
       "      <td>0.0</td>\n",
       "      <td>138,969,465.0</td>\n",
       "      <td>0.0</td>\n",
       "      <td>Фонд кино</td>\n",
       "      <td>NaN</td>\n",
       "      <td>NaN</td>\n",
       "      <td>1,334,699.4</td>\n",
       "    </tr>\n",
       "    <tr>\n",
       "      <th>6823</th>\n",
       "      <td>Большое путешествие</td>\n",
       "      <td>114002419</td>\n",
       "      <td>2019-04-20 12:00:00+00:00</td>\n",
       "      <td>Анимационный</td>\n",
       "      <td>ООО \"ЛИЦЕНЗИОННЫЕ БРЕНДЫ\"</td>\n",
       "      <td>Россия</td>\n",
       "      <td>Н.Лопато, В.Ровенский</td>\n",
       "      <td>ООО \"ЛИЦЕНЗИОННЫЕ БРЕНДЫ\"</td>\n",
       "      <td>«6+» - для детей старше 6 лет</td>\n",
       "      <td>60,000,000.0</td>\n",
       "      <td>120,000,000.0</td>\n",
       "      <td>0.0</td>\n",
       "      <td>Фонд кино</td>\n",
       "      <td>6.2</td>\n",
       "      <td>мультфильм,комедия,приключения</td>\n",
       "      <td>147,606,826.5</td>\n",
       "    </tr>\n",
       "  </tbody>\n",
       "</table>\n",
       "</div>"
      ],
      "text/plain": [
       "                       title   puNumber           show_start_date  \\\n",
       "2053                     14+  111023614 2014-12-19 12:00:00+00:00   \n",
       "2058               Дуxless 2  111000415 2015-01-26 12:00:00+00:00   \n",
       "2472             Воин (2015)  111017315 2015-09-28 12:00:00+00:00   \n",
       "2532                 Бармен.  111009615 2015-05-26 12:00:00+00:00   \n",
       "2615     Савва. Сердце воина  114001715 2015-07-21 12:00:00+00:00   \n",
       "2684          Тряпичный союз  111010215 2015-06-08 12:00:00+00:00   \n",
       "2788      Срочно выйду замуж  111017115 2015-09-30 12:00:00+00:00   \n",
       "2874       Помню - не помню!  111004916 2016-03-01 12:00:00+00:00   \n",
       "3047  Любовь с ограничениями  111008216 2016-04-29 12:00:00+00:00   \n",
       "3565       Притяжение (2016)  111018116 2016-12-16 12:00:00+00:00   \n",
       "3675                Чудо-юдо  114001817 2017-06-27 12:00:00+00:00   \n",
       "3739                    Мифы  111004317 2017-06-07 12:00:00+00:00   \n",
       "5673                   Селфи  111012117 2018-02-01 12:00:00+00:00   \n",
       "5806              Два хвоста  114001018 2018-05-31 12:00:00+00:00   \n",
       "6008      Принцесса и дракон  114003018 2018-08-23 12:00:00+00:00   \n",
       "6323                Баба Яга  114006518 2018-11-08 12:00:00+00:00   \n",
       "6823     Большое путешествие  114002419 2019-04-20 12:00:00+00:00   \n",
       "\n",
       "                type                                        film_studio  \\\n",
       "2053  Художественный                         ООО Киностудия  \"Сентябрь\"   \n",
       "2058  Художественный  ООО \"Киностудия \"Слово\", ООО \"Арт Пикчерс Студия\"   \n",
       "2472  Художественный   ООО \"Форпост Продакшн\", ООО \"Арт Пикчерс Студия\"   \n",
       "2532  Художественный          АО \"ВайТ Медиа\", ООО \"Арт Пикчерс Студия\"   \n",
       "2615    Анимационный   ООО \"Глюкоза Продакшн\", ООО \"Арт Пикчерс Студия\"   \n",
       "2684  Художественный                      ООО \"Кинокомпания \"КОКТЕБЕЛЬ\"   \n",
       "2788  Художественный          АО \"ВайТ Медиа\", ООО \"Арт Пикчерс Студия\"   \n",
       "2874  Художественный                                    ООО \"КиноФирма\"   \n",
       "3047  Художественный          АО \"ВайТ Медиа\", ООО \"Арт Пикчерс Студия\"   \n",
       "3565  Художественный      ООО \"Водород 2011\",  ООО \"Арт Пикчерс Студия\"   \n",
       "3675    Анимационный                                    ООО \"КиноФирма\"   \n",
       "3739  Художественный           ООО \"ХАЙПФИЛМ\", ООО \"Арт Пикчерс Студия\"   \n",
       "5673  Художественный  ООО \"Киностудия \"Слово\", ООО \"Арт Пикчерс Студия\"   \n",
       "5806    Анимационный                          ООО \"ЛИЦЕНЗИОННЫЕ БРЕНДЫ\"   \n",
       "6008    Анимационный                          ООО \"ЛИЦЕНЗИОННЫЕ БРЕНДЫ\"   \n",
       "6323    Анимационный                           ООО \"Арт Пикчерс Студия\"   \n",
       "6823    Анимационный                          ООО \"ЛИЦЕНЗИОННЫЕ БРЕНДЫ\"   \n",
       "\n",
       "     production_country                        director  \\\n",
       "2053             Россия                        А.Зайцев   \n",
       "2058             Россия                      Р.Прыгунов   \n",
       "2472             Россия                     А.Андрианов   \n",
       "2532             Россия                    Д.Штурманова   \n",
       "2615             Россия                        М.Фадеев   \n",
       "2684             Россия                     М.Местецкий   \n",
       "2788             Россия                       С Чекалов   \n",
       "2874             Россия                     В.Ровенский   \n",
       "3047             Россия                         Д.Тюрин   \n",
       "3565             Россия                     Ф.Бондарчук   \n",
       "3675             Россия                       А.Лукичев   \n",
       "3739             Россия                    А.Молочников   \n",
       "5673             Россия                      Н.Хомерики   \n",
       "5806             Россия  В.Ровенский, Н.Лопато, В.Азеев   \n",
       "6008             Россия                      М.Нефедова   \n",
       "6323             Россия                         В.Саков   \n",
       "6823             Россия           Н.Лопато, В.Ровенский   \n",
       "\n",
       "                                               producer  \\\n",
       "2053                                О.Гранина, А.Зайцев   \n",
       "2058                 П.Ануров, Ф.Бондарчук, Д.Рудовский   \n",
       "2472                           ООО \"Арт Пикчерс Студия\"   \n",
       "2532                                        Т.Вайнштейн   \n",
       "2615                                         А.Чистяков   \n",
       "2684                              Р.Борисевич, А.Кушаев   \n",
       "2788              Ф.Бондарчук, Т.Вайнштейн, Д.Рудовский   \n",
       "2874                                    ООО \"КиноФирма\"   \n",
       "3047              Ф.Бондарчук, Т.Вайнштейн, Д.Рудовский   \n",
       "3565                           ООО \"Арт Пикчерс Студия\"   \n",
       "3675                                    ООО \"КиноФирма\"   \n",
       "3739  Ф.Бондарчук, Д.Рудовский, И.Стюарт, М.Османн, ...   \n",
       "5673                 П.Ануров, Ф.Бондарчук, Д.Рудовский   \n",
       "5806                          ООО \"ЛИЦЕНЗИОННЫЕ БРЕНДЫ\"   \n",
       "6008                          ООО \"ЛИЦЕНЗИОННЫЕ БРЕНДЫ\"   \n",
       "6323  ООО \"Арт Пикчерс Студия\", ООО \"КРИЭЙТИВ АНИМЭЙ...   \n",
       "6823                          ООО \"ЛИЦЕНЗИОННЫЕ БРЕНДЫ\"   \n",
       "\n",
       "                      age_restriction  refundable_support  \\\n",
       "2053  «16+» - для детей старше 16 лет                 0.0   \n",
       "2058  «16+» - для детей старше 16 лет                 0.0   \n",
       "2472  «12+» - для детей старше 12 лет        10,000,000.0   \n",
       "2532  «16+» - для детей старше 16 лет        20,000,000.0   \n",
       "2615    «6+» - для детей старше 6 лет        60,000,000.0   \n",
       "2684      «18+» - запрещено для детей                 0.0   \n",
       "2788  «16+» - для детей старше 16 лет                 0.0   \n",
       "2874  «12+» - для детей старше 12 лет                 0.0   \n",
       "3047  «16+» - для детей старше 16 лет        19,000,000.0   \n",
       "3565  «12+» - для детей старше 12 лет                 0.0   \n",
       "3675    «6+» - для детей старше 6 лет        20,000,000.0   \n",
       "3739  «16+» - для детей старше 16 лет        25,000,000.0   \n",
       "5673  «16+» - для детей старше 16 лет        20,000,000.0   \n",
       "5806    «6+» - для детей старше 6 лет        10,000,000.0   \n",
       "6008    «6+» - для детей старше 6 лет        40,000,000.0   \n",
       "6323    «6+» - для детей старше 6 лет                 0.0   \n",
       "6823    «6+» - для детей старше 6 лет        60,000,000.0   \n",
       "\n",
       "      nonrefundable_support  budget                  financing_source  \\\n",
       "2053           23,000,000.0     0.0  Министерство культуры, Фонд кино   \n",
       "2058           75,000,000.0     0.0                         Фонд кино   \n",
       "2472           70,000,000.0     0.0                         Фонд кино   \n",
       "2532                    0.0     0.0                         Фонд кино   \n",
       "2615          100,000,000.0     0.0                         Фонд кино   \n",
       "2684           59,000,000.0     0.0                         Фонд кино   \n",
       "2788           35,000,000.0     0.0                         Фонд кино   \n",
       "2874            6,000,000.0     0.0             Министерство культуры   \n",
       "3047           51,000,000.0     0.0                         Фонд кино   \n",
       "3565          250,000,000.0     0.0                         Фонд кино   \n",
       "3675           20,000,000.0     0.0                         Фонд кино   \n",
       "3739           20,000,000.0     0.0                         Фонд кино   \n",
       "5673           40,000,000.0     0.0                         Фонд кино   \n",
       "5806           60,000,000.0     0.0                         Фонд кино   \n",
       "6008           40,000,000.0     0.0                         Фонд кино   \n",
       "6323          138,969,465.0     0.0                         Фонд кино   \n",
       "6823          120,000,000.0     0.0                         Фонд кино   \n",
       "\n",
       "      ratings                          genres      box_office  \n",
       "2053      6.6                       мелодрама    10,234,016.1  \n",
       "2058      6.6                           драма   446,163,511.0  \n",
       "2472      7.8           боевик,драма,криминал   196,572,438.4  \n",
       "2532      6.2                 комедия,фэнтези    67,418,974.8  \n",
       "2615      4.6  мультфильм,приключения,фэнтези   184,487,551.4  \n",
       "2684      6.3                   комедия,драма     1,957,738.5  \n",
       "2788      5.1               комедия,мелодрама    72,937,783.2  \n",
       "2874      4.3                         комедия    15,362,931.4  \n",
       "3047      6.3               комедия,мелодрама    70,299,052.0  \n",
       "3565      5.6                      фантастика 1,038,321,489.0  \n",
       "3675      5.2     мультфильм,фэнтези,семейный    55,108,014.8  \n",
       "3739      4.8                         комедия    50,451,949.0  \n",
       "5673      5.8                   триллер,драма   225,196,400.0  \n",
       "5806      5.0              мультфильм,детский   106,514,301.0  \n",
       "6008      5.2      мультфильм,фэнтези,детский    83,366,328.7  \n",
       "6323      NaN                             NaN     1,334,699.4  \n",
       "6823      6.2  мультфильм,комедия,приключения   147,606,826.5  "
      ]
     },
     "execution_count": 44,
     "metadata": {},
     "output_type": "execute_result"
    }
   ],
   "source": [
    "budget_not = data[data['budget'] < (data['refundable_support'] + data['nonrefundable_support'])]\n",
    "budget_not"
   ]
  },
  {
   "cell_type": "markdown",
   "metadata": {},
   "source": [
    "В данных есть фильмы, которые получали невозвратные и возвратные средства государственной поддержки, но их бюджет равен 0. Заменим нули на сумму средств гос. поддержки."
   ]
  },
  {
   "cell_type": "code",
   "execution_count": 45,
   "metadata": {},
   "outputs": [
    {
     "data": {
      "text/plain": [
       "61.0"
      ]
     },
     "execution_count": 45,
     "metadata": {},
     "output_type": "execute_result"
    }
   ],
   "source": [
    "budget_median  = round(data.eval('(refundable_support + nonrefundable_support) / budget').median(), 2)\n",
    "budget_median * 100"
   ]
  },
  {
   "cell_type": "markdown",
   "metadata": {},
   "source": [
    "Процент гос. поддерки примерно составлял 61%. \n",
    "Заполним недостающие данные в колонке бюджет"
   ]
  },
  {
   "cell_type": "code",
   "execution_count": 46,
   "metadata": {},
   "outputs": [
    {
     "data": {
      "text/html": [
       "<div>\n",
       "<style scoped>\n",
       "    .dataframe tbody tr th:only-of-type {\n",
       "        vertical-align: middle;\n",
       "    }\n",
       "\n",
       "    .dataframe tbody tr th {\n",
       "        vertical-align: top;\n",
       "    }\n",
       "\n",
       "    .dataframe thead th {\n",
       "        text-align: right;\n",
       "    }\n",
       "</style>\n",
       "<table border=\"1\" class=\"dataframe\">\n",
       "  <thead>\n",
       "    <tr style=\"text-align: right;\">\n",
       "      <th></th>\n",
       "      <th>title</th>\n",
       "      <th>puNumber</th>\n",
       "      <th>show_start_date</th>\n",
       "      <th>type</th>\n",
       "      <th>film_studio</th>\n",
       "      <th>production_country</th>\n",
       "      <th>director</th>\n",
       "      <th>producer</th>\n",
       "      <th>age_restriction</th>\n",
       "      <th>refundable_support</th>\n",
       "      <th>nonrefundable_support</th>\n",
       "      <th>budget</th>\n",
       "      <th>financing_source</th>\n",
       "      <th>ratings</th>\n",
       "      <th>genres</th>\n",
       "      <th>box_office</th>\n",
       "    </tr>\n",
       "  </thead>\n",
       "  <tbody>\n",
       "    <tr>\n",
       "      <th>2053</th>\n",
       "      <td>14+</td>\n",
       "      <td>111023614</td>\n",
       "      <td>2014-12-19 12:00:00+00:00</td>\n",
       "      <td>Художественный</td>\n",
       "      <td>ООО Киностудия  \"Сентябрь\"</td>\n",
       "      <td>Россия</td>\n",
       "      <td>А.Зайцев</td>\n",
       "      <td>О.Гранина, А.Зайцев</td>\n",
       "      <td>«16+» - для детей старше 16 лет</td>\n",
       "      <td>0.0</td>\n",
       "      <td>23,000,000.0</td>\n",
       "      <td>37,704,918.0</td>\n",
       "      <td>Министерство культуры, Фонд кино</td>\n",
       "      <td>6.6</td>\n",
       "      <td>мелодрама</td>\n",
       "      <td>10,234,016.1</td>\n",
       "    </tr>\n",
       "    <tr>\n",
       "      <th>2058</th>\n",
       "      <td>Дуxless 2</td>\n",
       "      <td>111000415</td>\n",
       "      <td>2015-01-26 12:00:00+00:00</td>\n",
       "      <td>Художественный</td>\n",
       "      <td>ООО \"Киностудия \"Слово\", ООО \"Арт Пикчерс Студия\"</td>\n",
       "      <td>Россия</td>\n",
       "      <td>Р.Прыгунов</td>\n",
       "      <td>П.Ануров, Ф.Бондарчук, Д.Рудовский</td>\n",
       "      <td>«16+» - для детей старше 16 лет</td>\n",
       "      <td>0.0</td>\n",
       "      <td>75,000,000.0</td>\n",
       "      <td>122,950,819.7</td>\n",
       "      <td>Фонд кино</td>\n",
       "      <td>6.6</td>\n",
       "      <td>драма</td>\n",
       "      <td>446,163,511.0</td>\n",
       "    </tr>\n",
       "    <tr>\n",
       "      <th>2472</th>\n",
       "      <td>Воин (2015)</td>\n",
       "      <td>111017315</td>\n",
       "      <td>2015-09-28 12:00:00+00:00</td>\n",
       "      <td>Художественный</td>\n",
       "      <td>ООО \"Форпост Продакшн\", ООО \"Арт Пикчерс Студия\"</td>\n",
       "      <td>Россия</td>\n",
       "      <td>А.Андрианов</td>\n",
       "      <td>ООО \"Арт Пикчерс Студия\"</td>\n",
       "      <td>«12+» - для детей старше 12 лет</td>\n",
       "      <td>10,000,000.0</td>\n",
       "      <td>70,000,000.0</td>\n",
       "      <td>131,147,541.0</td>\n",
       "      <td>Фонд кино</td>\n",
       "      <td>7.8</td>\n",
       "      <td>боевик,драма,криминал</td>\n",
       "      <td>196,572,438.4</td>\n",
       "    </tr>\n",
       "    <tr>\n",
       "      <th>2532</th>\n",
       "      <td>Бармен.</td>\n",
       "      <td>111009615</td>\n",
       "      <td>2015-05-26 12:00:00+00:00</td>\n",
       "      <td>Художественный</td>\n",
       "      <td>АО \"ВайТ Медиа\", ООО \"Арт Пикчерс Студия\"</td>\n",
       "      <td>Россия</td>\n",
       "      <td>Д.Штурманова</td>\n",
       "      <td>Т.Вайнштейн</td>\n",
       "      <td>«16+» - для детей старше 16 лет</td>\n",
       "      <td>20,000,000.0</td>\n",
       "      <td>0.0</td>\n",
       "      <td>32,786,885.2</td>\n",
       "      <td>Фонд кино</td>\n",
       "      <td>6.2</td>\n",
       "      <td>комедия,фэнтези</td>\n",
       "      <td>67,418,974.8</td>\n",
       "    </tr>\n",
       "    <tr>\n",
       "      <th>2615</th>\n",
       "      <td>Савва. Сердце воина</td>\n",
       "      <td>114001715</td>\n",
       "      <td>2015-07-21 12:00:00+00:00</td>\n",
       "      <td>Анимационный</td>\n",
       "      <td>ООО \"Глюкоза Продакшн\", ООО \"Арт Пикчерс Студия\"</td>\n",
       "      <td>Россия</td>\n",
       "      <td>М.Фадеев</td>\n",
       "      <td>А.Чистяков</td>\n",
       "      <td>«6+» - для детей старше 6 лет</td>\n",
       "      <td>60,000,000.0</td>\n",
       "      <td>100,000,000.0</td>\n",
       "      <td>262,295,082.0</td>\n",
       "      <td>Фонд кино</td>\n",
       "      <td>4.6</td>\n",
       "      <td>мультфильм,приключения,фэнтези</td>\n",
       "      <td>184,487,551.4</td>\n",
       "    </tr>\n",
       "    <tr>\n",
       "      <th>2684</th>\n",
       "      <td>Тряпичный союз</td>\n",
       "      <td>111010215</td>\n",
       "      <td>2015-06-08 12:00:00+00:00</td>\n",
       "      <td>Художественный</td>\n",
       "      <td>ООО \"Кинокомпания \"КОКТЕБЕЛЬ\"</td>\n",
       "      <td>Россия</td>\n",
       "      <td>М.Местецкий</td>\n",
       "      <td>Р.Борисевич, А.Кушаев</td>\n",
       "      <td>«18+» - запрещено для детей</td>\n",
       "      <td>0.0</td>\n",
       "      <td>59,000,000.0</td>\n",
       "      <td>96,721,311.5</td>\n",
       "      <td>Фонд кино</td>\n",
       "      <td>6.3</td>\n",
       "      <td>комедия,драма</td>\n",
       "      <td>1,957,738.5</td>\n",
       "    </tr>\n",
       "    <tr>\n",
       "      <th>2788</th>\n",
       "      <td>Срочно выйду замуж</td>\n",
       "      <td>111017115</td>\n",
       "      <td>2015-09-30 12:00:00+00:00</td>\n",
       "      <td>Художественный</td>\n",
       "      <td>АО \"ВайТ Медиа\", ООО \"Арт Пикчерс Студия\"</td>\n",
       "      <td>Россия</td>\n",
       "      <td>С Чекалов</td>\n",
       "      <td>Ф.Бондарчук, Т.Вайнштейн, Д.Рудовский</td>\n",
       "      <td>«16+» - для детей старше 16 лет</td>\n",
       "      <td>0.0</td>\n",
       "      <td>35,000,000.0</td>\n",
       "      <td>57,377,049.2</td>\n",
       "      <td>Фонд кино</td>\n",
       "      <td>5.1</td>\n",
       "      <td>комедия,мелодрама</td>\n",
       "      <td>72,937,783.2</td>\n",
       "    </tr>\n",
       "    <tr>\n",
       "      <th>2874</th>\n",
       "      <td>Помню - не помню!</td>\n",
       "      <td>111004916</td>\n",
       "      <td>2016-03-01 12:00:00+00:00</td>\n",
       "      <td>Художественный</td>\n",
       "      <td>ООО \"КиноФирма\"</td>\n",
       "      <td>Россия</td>\n",
       "      <td>В.Ровенский</td>\n",
       "      <td>ООО \"КиноФирма\"</td>\n",
       "      <td>«12+» - для детей старше 12 лет</td>\n",
       "      <td>0.0</td>\n",
       "      <td>6,000,000.0</td>\n",
       "      <td>9,836,065.6</td>\n",
       "      <td>Министерство культуры</td>\n",
       "      <td>4.3</td>\n",
       "      <td>комедия</td>\n",
       "      <td>15,362,931.4</td>\n",
       "    </tr>\n",
       "    <tr>\n",
       "      <th>3047</th>\n",
       "      <td>Любовь с ограничениями</td>\n",
       "      <td>111008216</td>\n",
       "      <td>2016-04-29 12:00:00+00:00</td>\n",
       "      <td>Художественный</td>\n",
       "      <td>АО \"ВайТ Медиа\", ООО \"Арт Пикчерс Студия\"</td>\n",
       "      <td>Россия</td>\n",
       "      <td>Д.Тюрин</td>\n",
       "      <td>Ф.Бондарчук, Т.Вайнштейн, Д.Рудовский</td>\n",
       "      <td>«16+» - для детей старше 16 лет</td>\n",
       "      <td>19,000,000.0</td>\n",
       "      <td>51,000,000.0</td>\n",
       "      <td>114,754,098.4</td>\n",
       "      <td>Фонд кино</td>\n",
       "      <td>6.3</td>\n",
       "      <td>комедия,мелодрама</td>\n",
       "      <td>70,299,052.0</td>\n",
       "    </tr>\n",
       "    <tr>\n",
       "      <th>3565</th>\n",
       "      <td>Притяжение (2016)</td>\n",
       "      <td>111018116</td>\n",
       "      <td>2016-12-16 12:00:00+00:00</td>\n",
       "      <td>Художественный</td>\n",
       "      <td>ООО \"Водород 2011\",  ООО \"Арт Пикчерс Студия\"</td>\n",
       "      <td>Россия</td>\n",
       "      <td>Ф.Бондарчук</td>\n",
       "      <td>ООО \"Арт Пикчерс Студия\"</td>\n",
       "      <td>«12+» - для детей старше 12 лет</td>\n",
       "      <td>0.0</td>\n",
       "      <td>250,000,000.0</td>\n",
       "      <td>409,836,065.6</td>\n",
       "      <td>Фонд кино</td>\n",
       "      <td>5.6</td>\n",
       "      <td>фантастика</td>\n",
       "      <td>1,038,321,489.0</td>\n",
       "    </tr>\n",
       "    <tr>\n",
       "      <th>3675</th>\n",
       "      <td>Чудо-юдо</td>\n",
       "      <td>114001817</td>\n",
       "      <td>2017-06-27 12:00:00+00:00</td>\n",
       "      <td>Анимационный</td>\n",
       "      <td>ООО \"КиноФирма\"</td>\n",
       "      <td>Россия</td>\n",
       "      <td>А.Лукичев</td>\n",
       "      <td>ООО \"КиноФирма\"</td>\n",
       "      <td>«6+» - для детей старше 6 лет</td>\n",
       "      <td>20,000,000.0</td>\n",
       "      <td>20,000,000.0</td>\n",
       "      <td>65,573,770.5</td>\n",
       "      <td>Фонд кино</td>\n",
       "      <td>5.2</td>\n",
       "      <td>мультфильм,фэнтези,семейный</td>\n",
       "      <td>55,108,014.8</td>\n",
       "    </tr>\n",
       "    <tr>\n",
       "      <th>3739</th>\n",
       "      <td>Мифы</td>\n",
       "      <td>111004317</td>\n",
       "      <td>2017-06-07 12:00:00+00:00</td>\n",
       "      <td>Художественный</td>\n",
       "      <td>ООО \"ХАЙПФИЛМ\", ООО \"Арт Пикчерс Студия\"</td>\n",
       "      <td>Россия</td>\n",
       "      <td>А.Молочников</td>\n",
       "      <td>Ф.Бондарчук, Д.Рудовский, И.Стюарт, М.Османн, ...</td>\n",
       "      <td>«16+» - для детей старше 16 лет</td>\n",
       "      <td>25,000,000.0</td>\n",
       "      <td>20,000,000.0</td>\n",
       "      <td>73,770,491.8</td>\n",
       "      <td>Фонд кино</td>\n",
       "      <td>4.8</td>\n",
       "      <td>комедия</td>\n",
       "      <td>50,451,949.0</td>\n",
       "    </tr>\n",
       "    <tr>\n",
       "      <th>5673</th>\n",
       "      <td>Селфи</td>\n",
       "      <td>111012117</td>\n",
       "      <td>2018-02-01 12:00:00+00:00</td>\n",
       "      <td>Художественный</td>\n",
       "      <td>ООО \"Киностудия \"Слово\", ООО \"Арт Пикчерс Студия\"</td>\n",
       "      <td>Россия</td>\n",
       "      <td>Н.Хомерики</td>\n",
       "      <td>П.Ануров, Ф.Бондарчук, Д.Рудовский</td>\n",
       "      <td>«16+» - для детей старше 16 лет</td>\n",
       "      <td>20,000,000.0</td>\n",
       "      <td>40,000,000.0</td>\n",
       "      <td>98,360,655.7</td>\n",
       "      <td>Фонд кино</td>\n",
       "      <td>5.8</td>\n",
       "      <td>триллер,драма</td>\n",
       "      <td>225,196,400.0</td>\n",
       "    </tr>\n",
       "    <tr>\n",
       "      <th>5806</th>\n",
       "      <td>Два хвоста</td>\n",
       "      <td>114001018</td>\n",
       "      <td>2018-05-31 12:00:00+00:00</td>\n",
       "      <td>Анимационный</td>\n",
       "      <td>ООО \"ЛИЦЕНЗИОННЫЕ БРЕНДЫ\"</td>\n",
       "      <td>Россия</td>\n",
       "      <td>В.Ровенский, Н.Лопато, В.Азеев</td>\n",
       "      <td>ООО \"ЛИЦЕНЗИОННЫЕ БРЕНДЫ\"</td>\n",
       "      <td>«6+» - для детей старше 6 лет</td>\n",
       "      <td>10,000,000.0</td>\n",
       "      <td>60,000,000.0</td>\n",
       "      <td>114,754,098.4</td>\n",
       "      <td>Фонд кино</td>\n",
       "      <td>5.0</td>\n",
       "      <td>мультфильм,детский</td>\n",
       "      <td>106,514,301.0</td>\n",
       "    </tr>\n",
       "    <tr>\n",
       "      <th>6008</th>\n",
       "      <td>Принцесса и дракон</td>\n",
       "      <td>114003018</td>\n",
       "      <td>2018-08-23 12:00:00+00:00</td>\n",
       "      <td>Анимационный</td>\n",
       "      <td>ООО \"ЛИЦЕНЗИОННЫЕ БРЕНДЫ\"</td>\n",
       "      <td>Россия</td>\n",
       "      <td>М.Нефедова</td>\n",
       "      <td>ООО \"ЛИЦЕНЗИОННЫЕ БРЕНДЫ\"</td>\n",
       "      <td>«6+» - для детей старше 6 лет</td>\n",
       "      <td>40,000,000.0</td>\n",
       "      <td>40,000,000.0</td>\n",
       "      <td>131,147,541.0</td>\n",
       "      <td>Фонд кино</td>\n",
       "      <td>5.2</td>\n",
       "      <td>мультфильм,фэнтези,детский</td>\n",
       "      <td>83,366,328.7</td>\n",
       "    </tr>\n",
       "    <tr>\n",
       "      <th>6323</th>\n",
       "      <td>Баба Яга</td>\n",
       "      <td>114006518</td>\n",
       "      <td>2018-11-08 12:00:00+00:00</td>\n",
       "      <td>Анимационный</td>\n",
       "      <td>ООО \"Арт Пикчерс Студия\"</td>\n",
       "      <td>Россия</td>\n",
       "      <td>В.Саков</td>\n",
       "      <td>ООО \"Арт Пикчерс Студия\", ООО \"КРИЭЙТИВ АНИМЭЙ...</td>\n",
       "      <td>«6+» - для детей старше 6 лет</td>\n",
       "      <td>0.0</td>\n",
       "      <td>138,969,465.0</td>\n",
       "      <td>227,818,795.1</td>\n",
       "      <td>Фонд кино</td>\n",
       "      <td>NaN</td>\n",
       "      <td>NaN</td>\n",
       "      <td>1,334,699.4</td>\n",
       "    </tr>\n",
       "    <tr>\n",
       "      <th>6823</th>\n",
       "      <td>Большое путешествие</td>\n",
       "      <td>114002419</td>\n",
       "      <td>2019-04-20 12:00:00+00:00</td>\n",
       "      <td>Анимационный</td>\n",
       "      <td>ООО \"ЛИЦЕНЗИОННЫЕ БРЕНДЫ\"</td>\n",
       "      <td>Россия</td>\n",
       "      <td>Н.Лопато, В.Ровенский</td>\n",
       "      <td>ООО \"ЛИЦЕНЗИОННЫЕ БРЕНДЫ\"</td>\n",
       "      <td>«6+» - для детей старше 6 лет</td>\n",
       "      <td>60,000,000.0</td>\n",
       "      <td>120,000,000.0</td>\n",
       "      <td>295,081,967.2</td>\n",
       "      <td>Фонд кино</td>\n",
       "      <td>6.2</td>\n",
       "      <td>мультфильм,комедия,приключения</td>\n",
       "      <td>147,606,826.5</td>\n",
       "    </tr>\n",
       "  </tbody>\n",
       "</table>\n",
       "</div>"
      ],
      "text/plain": [
       "                       title   puNumber           show_start_date  \\\n",
       "2053                     14+  111023614 2014-12-19 12:00:00+00:00   \n",
       "2058               Дуxless 2  111000415 2015-01-26 12:00:00+00:00   \n",
       "2472             Воин (2015)  111017315 2015-09-28 12:00:00+00:00   \n",
       "2532                 Бармен.  111009615 2015-05-26 12:00:00+00:00   \n",
       "2615     Савва. Сердце воина  114001715 2015-07-21 12:00:00+00:00   \n",
       "2684          Тряпичный союз  111010215 2015-06-08 12:00:00+00:00   \n",
       "2788      Срочно выйду замуж  111017115 2015-09-30 12:00:00+00:00   \n",
       "2874       Помню - не помню!  111004916 2016-03-01 12:00:00+00:00   \n",
       "3047  Любовь с ограничениями  111008216 2016-04-29 12:00:00+00:00   \n",
       "3565       Притяжение (2016)  111018116 2016-12-16 12:00:00+00:00   \n",
       "3675                Чудо-юдо  114001817 2017-06-27 12:00:00+00:00   \n",
       "3739                    Мифы  111004317 2017-06-07 12:00:00+00:00   \n",
       "5673                   Селфи  111012117 2018-02-01 12:00:00+00:00   \n",
       "5806              Два хвоста  114001018 2018-05-31 12:00:00+00:00   \n",
       "6008      Принцесса и дракон  114003018 2018-08-23 12:00:00+00:00   \n",
       "6323                Баба Яга  114006518 2018-11-08 12:00:00+00:00   \n",
       "6823     Большое путешествие  114002419 2019-04-20 12:00:00+00:00   \n",
       "\n",
       "                type                                        film_studio  \\\n",
       "2053  Художественный                         ООО Киностудия  \"Сентябрь\"   \n",
       "2058  Художественный  ООО \"Киностудия \"Слово\", ООО \"Арт Пикчерс Студия\"   \n",
       "2472  Художественный   ООО \"Форпост Продакшн\", ООО \"Арт Пикчерс Студия\"   \n",
       "2532  Художественный          АО \"ВайТ Медиа\", ООО \"Арт Пикчерс Студия\"   \n",
       "2615    Анимационный   ООО \"Глюкоза Продакшн\", ООО \"Арт Пикчерс Студия\"   \n",
       "2684  Художественный                      ООО \"Кинокомпания \"КОКТЕБЕЛЬ\"   \n",
       "2788  Художественный          АО \"ВайТ Медиа\", ООО \"Арт Пикчерс Студия\"   \n",
       "2874  Художественный                                    ООО \"КиноФирма\"   \n",
       "3047  Художественный          АО \"ВайТ Медиа\", ООО \"Арт Пикчерс Студия\"   \n",
       "3565  Художественный      ООО \"Водород 2011\",  ООО \"Арт Пикчерс Студия\"   \n",
       "3675    Анимационный                                    ООО \"КиноФирма\"   \n",
       "3739  Художественный           ООО \"ХАЙПФИЛМ\", ООО \"Арт Пикчерс Студия\"   \n",
       "5673  Художественный  ООО \"Киностудия \"Слово\", ООО \"Арт Пикчерс Студия\"   \n",
       "5806    Анимационный                          ООО \"ЛИЦЕНЗИОННЫЕ БРЕНДЫ\"   \n",
       "6008    Анимационный                          ООО \"ЛИЦЕНЗИОННЫЕ БРЕНДЫ\"   \n",
       "6323    Анимационный                           ООО \"Арт Пикчерс Студия\"   \n",
       "6823    Анимационный                          ООО \"ЛИЦЕНЗИОННЫЕ БРЕНДЫ\"   \n",
       "\n",
       "     production_country                        director  \\\n",
       "2053             Россия                        А.Зайцев   \n",
       "2058             Россия                      Р.Прыгунов   \n",
       "2472             Россия                     А.Андрианов   \n",
       "2532             Россия                    Д.Штурманова   \n",
       "2615             Россия                        М.Фадеев   \n",
       "2684             Россия                     М.Местецкий   \n",
       "2788             Россия                       С Чекалов   \n",
       "2874             Россия                     В.Ровенский   \n",
       "3047             Россия                         Д.Тюрин   \n",
       "3565             Россия                     Ф.Бондарчук   \n",
       "3675             Россия                       А.Лукичев   \n",
       "3739             Россия                    А.Молочников   \n",
       "5673             Россия                      Н.Хомерики   \n",
       "5806             Россия  В.Ровенский, Н.Лопато, В.Азеев   \n",
       "6008             Россия                      М.Нефедова   \n",
       "6323             Россия                         В.Саков   \n",
       "6823             Россия           Н.Лопато, В.Ровенский   \n",
       "\n",
       "                                               producer  \\\n",
       "2053                                О.Гранина, А.Зайцев   \n",
       "2058                 П.Ануров, Ф.Бондарчук, Д.Рудовский   \n",
       "2472                           ООО \"Арт Пикчерс Студия\"   \n",
       "2532                                        Т.Вайнштейн   \n",
       "2615                                         А.Чистяков   \n",
       "2684                              Р.Борисевич, А.Кушаев   \n",
       "2788              Ф.Бондарчук, Т.Вайнштейн, Д.Рудовский   \n",
       "2874                                    ООО \"КиноФирма\"   \n",
       "3047              Ф.Бондарчук, Т.Вайнштейн, Д.Рудовский   \n",
       "3565                           ООО \"Арт Пикчерс Студия\"   \n",
       "3675                                    ООО \"КиноФирма\"   \n",
       "3739  Ф.Бондарчук, Д.Рудовский, И.Стюарт, М.Османн, ...   \n",
       "5673                 П.Ануров, Ф.Бондарчук, Д.Рудовский   \n",
       "5806                          ООО \"ЛИЦЕНЗИОННЫЕ БРЕНДЫ\"   \n",
       "6008                          ООО \"ЛИЦЕНЗИОННЫЕ БРЕНДЫ\"   \n",
       "6323  ООО \"Арт Пикчерс Студия\", ООО \"КРИЭЙТИВ АНИМЭЙ...   \n",
       "6823                          ООО \"ЛИЦЕНЗИОННЫЕ БРЕНДЫ\"   \n",
       "\n",
       "                      age_restriction  refundable_support  \\\n",
       "2053  «16+» - для детей старше 16 лет                 0.0   \n",
       "2058  «16+» - для детей старше 16 лет                 0.0   \n",
       "2472  «12+» - для детей старше 12 лет        10,000,000.0   \n",
       "2532  «16+» - для детей старше 16 лет        20,000,000.0   \n",
       "2615    «6+» - для детей старше 6 лет        60,000,000.0   \n",
       "2684      «18+» - запрещено для детей                 0.0   \n",
       "2788  «16+» - для детей старше 16 лет                 0.0   \n",
       "2874  «12+» - для детей старше 12 лет                 0.0   \n",
       "3047  «16+» - для детей старше 16 лет        19,000,000.0   \n",
       "3565  «12+» - для детей старше 12 лет                 0.0   \n",
       "3675    «6+» - для детей старше 6 лет        20,000,000.0   \n",
       "3739  «16+» - для детей старше 16 лет        25,000,000.0   \n",
       "5673  «16+» - для детей старше 16 лет        20,000,000.0   \n",
       "5806    «6+» - для детей старше 6 лет        10,000,000.0   \n",
       "6008    «6+» - для детей старше 6 лет        40,000,000.0   \n",
       "6323    «6+» - для детей старше 6 лет                 0.0   \n",
       "6823    «6+» - для детей старше 6 лет        60,000,000.0   \n",
       "\n",
       "      nonrefundable_support        budget                  financing_source  \\\n",
       "2053           23,000,000.0  37,704,918.0  Министерство культуры, Фонд кино   \n",
       "2058           75,000,000.0 122,950,819.7                         Фонд кино   \n",
       "2472           70,000,000.0 131,147,541.0                         Фонд кино   \n",
       "2532                    0.0  32,786,885.2                         Фонд кино   \n",
       "2615          100,000,000.0 262,295,082.0                         Фонд кино   \n",
       "2684           59,000,000.0  96,721,311.5                         Фонд кино   \n",
       "2788           35,000,000.0  57,377,049.2                         Фонд кино   \n",
       "2874            6,000,000.0   9,836,065.6             Министерство культуры   \n",
       "3047           51,000,000.0 114,754,098.4                         Фонд кино   \n",
       "3565          250,000,000.0 409,836,065.6                         Фонд кино   \n",
       "3675           20,000,000.0  65,573,770.5                         Фонд кино   \n",
       "3739           20,000,000.0  73,770,491.8                         Фонд кино   \n",
       "5673           40,000,000.0  98,360,655.7                         Фонд кино   \n",
       "5806           60,000,000.0 114,754,098.4                         Фонд кино   \n",
       "6008           40,000,000.0 131,147,541.0                         Фонд кино   \n",
       "6323          138,969,465.0 227,818,795.1                         Фонд кино   \n",
       "6823          120,000,000.0 295,081,967.2                         Фонд кино   \n",
       "\n",
       "      ratings                          genres      box_office  \n",
       "2053      6.6                       мелодрама    10,234,016.1  \n",
       "2058      6.6                           драма   446,163,511.0  \n",
       "2472      7.8           боевик,драма,криминал   196,572,438.4  \n",
       "2532      6.2                 комедия,фэнтези    67,418,974.8  \n",
       "2615      4.6  мультфильм,приключения,фэнтези   184,487,551.4  \n",
       "2684      6.3                   комедия,драма     1,957,738.5  \n",
       "2788      5.1               комедия,мелодрама    72,937,783.2  \n",
       "2874      4.3                         комедия    15,362,931.4  \n",
       "3047      6.3               комедия,мелодрама    70,299,052.0  \n",
       "3565      5.6                      фантастика 1,038,321,489.0  \n",
       "3675      5.2     мультфильм,фэнтези,семейный    55,108,014.8  \n",
       "3739      4.8                         комедия    50,451,949.0  \n",
       "5673      5.8                   триллер,драма   225,196,400.0  \n",
       "5806      5.0              мультфильм,детский   106,514,301.0  \n",
       "6008      5.2      мультфильм,фэнтези,детский    83,366,328.7  \n",
       "6323      NaN                             NaN     1,334,699.4  \n",
       "6823      6.2  мультфильм,комедия,приключения   147,606,826.5  "
      ]
     },
     "execution_count": 46,
     "metadata": {},
     "output_type": "execute_result"
    }
   ],
   "source": [
    "data.loc[budget_not.index, 'budget'] = (data.loc[budget_not.index, 'refundable_support'] + data.loc[budget_not.index, 'nonrefundable_support']) / budget_median\n",
    "data.loc[budget_not.index]"
   ]
  },
  {
   "cell_type": "markdown",
   "metadata": {},
   "source": [
    "В ходе исследования количественных значений обнаружено, что есть фильмы, которые получали средства государственной поддержки, но их бюджет равен 0. Данные значения были замены на сумму средств гос. поддерки с учетом медианной доли от общего бюджета."
   ]
  },
  {
   "cell_type": "markdown",
   "metadata": {
    "id": "Eu6oWp2CgFyS"
   },
   "source": [
    "#### Шаг 2.6. Добавление новых столбцов\n",
    "\n",
    "\n"
   ]
  },
  {
   "cell_type": "markdown",
   "metadata": {
    "id": "7GgW-UpAgFyS"
   },
   "source": [
    "- Создайте столбец с информацией о годе проката. Выделите год из даты премьеры фильма."
   ]
  },
  {
   "cell_type": "code",
   "execution_count": 47,
   "metadata": {
    "id": "I-yd1DkWgFyT"
   },
   "outputs": [],
   "source": [
    "data['year'] = data['show_start_date'].dt.year"
   ]
  },
  {
   "cell_type": "markdown",
   "metadata": {
    "id": "nFTDLDYOgFyT"
   },
   "source": [
    "- Создайте два столбца: с именем и фамилией главного режиссёра и основным жанром фильма. В столбцы войдут первые значения из списка режиссёров и жанров соответственно.\n",
    "\n",
    "<div id=\"accordion\">\n",
    "    <div class=\"card\">\n",
    "        <div class=\"card-header\" id=\"headingThree\">\n",
    "            <button class=\"btn btn-link collapsed\" data-toggle=\"collapse\" data-target=\"#collapseHint_2\" aria-expanded=\"false\" aria-controls=\"collapseHint_2\">Подсказка</button>\n",
    "        </div>\n",
    "        <div id=\"collapseHint_2\" class=\"collapse\" aria-labelledby=\"headingThree\" data-parent=\"#accordion\">\n",
    "            <div class=\"card-body\">\n",
    "Чтобы создать такие столбцы, лучше всего использовать собственную функцию. Эту функцию можно применить к двум столбцам сразу. \n",
    "            </div>\n",
    "        </div>\n",
    "    </div>\n",
    "</div>"
   ]
  },
  {
   "cell_type": "code",
   "execution_count": 48,
   "metadata": {
    "id": "LSbRZKbMgFyU"
   },
   "outputs": [],
   "source": [
    "data['main_director'] = data['director'].str.split(\",\").str[0]"
   ]
  },
  {
   "cell_type": "code",
   "execution_count": 49,
   "metadata": {},
   "outputs": [],
   "source": [
    "data['main_director'] = data['main_director'].str.strip()"
   ]
  },
  {
   "cell_type": "code",
   "execution_count": 50,
   "metadata": {},
   "outputs": [],
   "source": [
    "data['main_genre'] = data['genres'].str.split(\",\").str[0]"
   ]
  },
  {
   "cell_type": "code",
   "execution_count": 51,
   "metadata": {},
   "outputs": [],
   "source": [
    "data['main_genre'] = data['main_genre'].str.strip()"
   ]
  },
  {
   "cell_type": "markdown",
   "metadata": {
    "id": "1FsCXHwdgFyU"
   },
   "source": [
    "- Посчитайте, какую долю от общего бюджета фильма составляет государственная поддержка."
   ]
  },
  {
   "cell_type": "code",
   "execution_count": 52,
   "metadata": {},
   "outputs": [],
   "source": [
    "data['support'] = (data['refundable_support'] + data['nonrefundable_support']) / data['budget']"
   ]
  },
  {
   "cell_type": "code",
   "execution_count": 53,
   "metadata": {},
   "outputs": [
    {
     "data": {
      "text/html": [
       "<div>\n",
       "<style scoped>\n",
       "    .dataframe tbody tr th:only-of-type {\n",
       "        vertical-align: middle;\n",
       "    }\n",
       "\n",
       "    .dataframe tbody tr th {\n",
       "        vertical-align: top;\n",
       "    }\n",
       "\n",
       "    .dataframe thead th {\n",
       "        text-align: right;\n",
       "    }\n",
       "</style>\n",
       "<table border=\"1\" class=\"dataframe\">\n",
       "  <thead>\n",
       "    <tr style=\"text-align: right;\">\n",
       "      <th></th>\n",
       "      <th>title</th>\n",
       "      <th>puNumber</th>\n",
       "      <th>show_start_date</th>\n",
       "      <th>type</th>\n",
       "      <th>film_studio</th>\n",
       "      <th>production_country</th>\n",
       "      <th>director</th>\n",
       "      <th>producer</th>\n",
       "      <th>age_restriction</th>\n",
       "      <th>refundable_support</th>\n",
       "      <th>nonrefundable_support</th>\n",
       "      <th>budget</th>\n",
       "      <th>financing_source</th>\n",
       "      <th>ratings</th>\n",
       "      <th>genres</th>\n",
       "      <th>box_office</th>\n",
       "      <th>year</th>\n",
       "      <th>main_director</th>\n",
       "      <th>main_genre</th>\n",
       "      <th>support</th>\n",
       "    </tr>\n",
       "  </thead>\n",
       "  <tbody>\n",
       "    <tr>\n",
       "      <th>1281</th>\n",
       "      <td>Пока еще жива</td>\n",
       "      <td>111005313</td>\n",
       "      <td>2013-10-11 12:00:00+00:00</td>\n",
       "      <td>Художественный</td>\n",
       "      <td>АНО содействия развитию кинематографии \"Ангел-...</td>\n",
       "      <td>Россия</td>\n",
       "      <td>А.Атанесян</td>\n",
       "      <td>А.Атанесян, М.Бабаханов, Р.Бутко</td>\n",
       "      <td>«16+» - для детей старше 16 лет</td>\n",
       "      <td>0.0</td>\n",
       "      <td>26,500,000.0</td>\n",
       "      <td>79,411,900.0</td>\n",
       "      <td>Министерство культуры</td>\n",
       "      <td>8.1</td>\n",
       "      <td>драма,мелодрама</td>\n",
       "      <td>365,353.6</td>\n",
       "      <td>2013</td>\n",
       "      <td>А.Атанесян</td>\n",
       "      <td>драма</td>\n",
       "      <td>0.3</td>\n",
       "    </tr>\n",
       "    <tr>\n",
       "      <th>1448</th>\n",
       "      <td>Бесславные придурки</td>\n",
       "      <td>111003314</td>\n",
       "      <td>2014-03-28 12:00:00+00:00</td>\n",
       "      <td>Художественный</td>\n",
       "      <td>ООО \"Компания \"АТК-Студио\"</td>\n",
       "      <td>Россия</td>\n",
       "      <td>А.Якимчук</td>\n",
       "      <td>А.Тютрюмов</td>\n",
       "      <td>«12+» - для детей старше 12 лет</td>\n",
       "      <td>0.0</td>\n",
       "      <td>26,000,000.0</td>\n",
       "      <td>37,142,857.0</td>\n",
       "      <td>Министерство культуры</td>\n",
       "      <td>NaN</td>\n",
       "      <td>NaN</td>\n",
       "      <td>28,140.0</td>\n",
       "      <td>2014</td>\n",
       "      <td>А.Якимчук</td>\n",
       "      <td>NaN</td>\n",
       "      <td>0.7</td>\n",
       "    </tr>\n",
       "    <tr>\n",
       "      <th>1498</th>\n",
       "      <td>Невидимки</td>\n",
       "      <td>111004213</td>\n",
       "      <td>2013-09-10 12:00:00+00:00</td>\n",
       "      <td>Художественный</td>\n",
       "      <td>ООО \"Компания \"РЕАЛ-ДАКОТА\"</td>\n",
       "      <td>Россия</td>\n",
       "      <td>Р.Давлетьяров, С.Комаров</td>\n",
       "      <td>Р.Давлетьяров, А.Котелевский, А.Олейников</td>\n",
       "      <td>«12+» - для детей старше 12 лет</td>\n",
       "      <td>0.0</td>\n",
       "      <td>107,847,945.0</td>\n",
       "      <td>176,023,490.0</td>\n",
       "      <td>Фонд кино</td>\n",
       "      <td>5.3</td>\n",
       "      <td>комедия,фантастика</td>\n",
       "      <td>19,957,031.5</td>\n",
       "      <td>2013</td>\n",
       "      <td>Р.Давлетьяров</td>\n",
       "      <td>комедия</td>\n",
       "      <td>0.6</td>\n",
       "    </tr>\n",
       "    <tr>\n",
       "      <th>1524</th>\n",
       "      <td>БЕРЦЫ</td>\n",
       "      <td>111004314</td>\n",
       "      <td>2014-05-05 12:00:00+00:00</td>\n",
       "      <td>Художественный</td>\n",
       "      <td>ООО \"Студия \"Пассажир\"</td>\n",
       "      <td>Россия</td>\n",
       "      <td>Е.Миндадзе (псевдоним Катя Шагалова)</td>\n",
       "      <td>Л.Антонова</td>\n",
       "      <td>«16+» - для детей старше 16 лет</td>\n",
       "      <td>0.0</td>\n",
       "      <td>28,000,000.0</td>\n",
       "      <td>40,574,140.0</td>\n",
       "      <td>Министерство культуры</td>\n",
       "      <td>4.2</td>\n",
       "      <td>драма</td>\n",
       "      <td>55,917.5</td>\n",
       "      <td>2014</td>\n",
       "      <td>Е.Миндадзе (псевдоним Катя Шагалова)</td>\n",
       "      <td>драма</td>\n",
       "      <td>0.7</td>\n",
       "    </tr>\n",
       "    <tr>\n",
       "      <th>1792</th>\n",
       "      <td>Братья Ч</td>\n",
       "      <td>111004414</td>\n",
       "      <td>2014-04-23 12:00:00+00:00</td>\n",
       "      <td>Художественный</td>\n",
       "      <td>ООО \"Студия \"Пассажир\"</td>\n",
       "      <td>Россия</td>\n",
       "      <td>М.Угаров</td>\n",
       "      <td>А.Миндадзе, Л.Антонова</td>\n",
       "      <td>«16+» - для детей старше 16 лет</td>\n",
       "      <td>0.0</td>\n",
       "      <td>25,000,000.0</td>\n",
       "      <td>40,015,122.0</td>\n",
       "      <td>Министерство культуры</td>\n",
       "      <td>6.4</td>\n",
       "      <td>драма</td>\n",
       "      <td>232,100.0</td>\n",
       "      <td>2014</td>\n",
       "      <td>М.Угаров</td>\n",
       "      <td>драма</td>\n",
       "      <td>0.6</td>\n",
       "    </tr>\n",
       "    <tr>\n",
       "      <th>1854</th>\n",
       "      <td>Тайна Сухаревой башни. Чародей равновесия</td>\n",
       "      <td>114000115</td>\n",
       "      <td>2015-02-18 12:00:00+00:00</td>\n",
       "      <td>Анимационный</td>\n",
       "      <td>ООО \"Студия \"Мастер-Фильм\"</td>\n",
       "      <td>Россия</td>\n",
       "      <td>С.Серегин</td>\n",
       "      <td>А.Герасимов</td>\n",
       "      <td>«6+» - для детей старше 6 лет</td>\n",
       "      <td>0.0</td>\n",
       "      <td>25,000,000.0</td>\n",
       "      <td>51,850,000.0</td>\n",
       "      <td>Министерство культуры</td>\n",
       "      <td>6.1</td>\n",
       "      <td>мультфильм,фэнтези,история</td>\n",
       "      <td>15,078,858.6</td>\n",
       "      <td>2015</td>\n",
       "      <td>С.Серегин</td>\n",
       "      <td>мультфильм</td>\n",
       "      <td>0.5</td>\n",
       "    </tr>\n",
       "    <tr>\n",
       "      <th>1870</th>\n",
       "      <td>А зори здесь тихие..._</td>\n",
       "      <td>111002915</td>\n",
       "      <td>2015-03-16 12:00:00+00:00</td>\n",
       "      <td>Художественный</td>\n",
       "      <td>ООО \"Компания \"Реал-Дакота\"</td>\n",
       "      <td>Россия</td>\n",
       "      <td>Р.Давлетьяров</td>\n",
       "      <td>NaN</td>\n",
       "      <td>«12+» - для детей старше 12 лет</td>\n",
       "      <td>50,000,000.0</td>\n",
       "      <td>100,000,000.0</td>\n",
       "      <td>220,588,394.0</td>\n",
       "      <td>Фонд кино</td>\n",
       "      <td>8.5</td>\n",
       "      <td>драма,военный,история</td>\n",
       "      <td>249,166,767.7</td>\n",
       "      <td>2015</td>\n",
       "      <td>Р.Давлетьяров</td>\n",
       "      <td>драма</td>\n",
       "      <td>0.7</td>\n",
       "    </tr>\n",
       "    <tr>\n",
       "      <th>1871</th>\n",
       "      <td>Две женщины</td>\n",
       "      <td>111013714</td>\n",
       "      <td>2014-10-02 12:00:00+00:00</td>\n",
       "      <td>Художественный</td>\n",
       "      <td>ООО \"Продюсерский Центр \"Хорошо Продакшн\", Rez...</td>\n",
       "      <td>Россия, Франция, Латвия</td>\n",
       "      <td>В.Глаголева</td>\n",
       "      <td>Н.Иванова</td>\n",
       "      <td>«12+» - для детей старше 12 лет</td>\n",
       "      <td>0.0</td>\n",
       "      <td>46,502,299.0</td>\n",
       "      <td>86,210,067.0</td>\n",
       "      <td>Министерство культуры, Фонд кино</td>\n",
       "      <td>6.7</td>\n",
       "      <td>драма</td>\n",
       "      <td>4,731,239.5</td>\n",
       "      <td>2014</td>\n",
       "      <td>В.Глаголева</td>\n",
       "      <td>драма</td>\n",
       "      <td>0.5</td>\n",
       "    </tr>\n",
       "    <tr>\n",
       "      <th>1903</th>\n",
       "      <td>Призрак_.</td>\n",
       "      <td>111001815</td>\n",
       "      <td>2015-03-02 12:00:00+00:00</td>\n",
       "      <td>Художественный</td>\n",
       "      <td>ООО \"Водород 2011\"</td>\n",
       "      <td>Россия</td>\n",
       "      <td>А.Войтинский</td>\n",
       "      <td>С.Сельянов</td>\n",
       "      <td>«6+» - для детей старше 6 лет</td>\n",
       "      <td>0.0</td>\n",
       "      <td>75,000,000.0</td>\n",
       "      <td>139,551,503.0</td>\n",
       "      <td>Фонд кино</td>\n",
       "      <td>7.0</td>\n",
       "      <td>триллер,боевик,приключения</td>\n",
       "      <td>352,804,320.4</td>\n",
       "      <td>2015</td>\n",
       "      <td>А.Войтинский</td>\n",
       "      <td>триллер</td>\n",
       "      <td>0.5</td>\n",
       "    </tr>\n",
       "    <tr>\n",
       "      <th>1912</th>\n",
       "      <td>Ведьма .</td>\n",
       "      <td>111002215</td>\n",
       "      <td>2015-03-05 12:00:00+00:00</td>\n",
       "      <td>Художественный</td>\n",
       "      <td>ООО \"Кинокомпания \"Ракурс\"</td>\n",
       "      <td>Россия</td>\n",
       "      <td>Д.Федоров</td>\n",
       "      <td>В.Сидоренко</td>\n",
       "      <td>«16+» - для детей старше 16 лет</td>\n",
       "      <td>0.0</td>\n",
       "      <td>34,000,000.0</td>\n",
       "      <td>48,571,430.0</td>\n",
       "      <td>Министерство культуры</td>\n",
       "      <td>7.4</td>\n",
       "      <td>фэнтези,приключения,драма</td>\n",
       "      <td>51,907.5</td>\n",
       "      <td>2015</td>\n",
       "      <td>Д.Федоров</td>\n",
       "      <td>фэнтези</td>\n",
       "      <td>0.7</td>\n",
       "    </tr>\n",
       "  </tbody>\n",
       "</table>\n",
       "</div>"
      ],
      "text/plain": [
       "                                          title   puNumber  \\\n",
       "1281                              Пока еще жива  111005313   \n",
       "1448                        Бесславные придурки  111003314   \n",
       "1498                                  Невидимки  111004213   \n",
       "1524                                      БЕРЦЫ  111004314   \n",
       "1792                                   Братья Ч  111004414   \n",
       "1854  Тайна Сухаревой башни. Чародей равновесия  114000115   \n",
       "1870                     А зори здесь тихие..._  111002915   \n",
       "1871                                Две женщины  111013714   \n",
       "1903                                  Призрак_.  111001815   \n",
       "1912                                   Ведьма .  111002215   \n",
       "\n",
       "               show_start_date            type  \\\n",
       "1281 2013-10-11 12:00:00+00:00  Художественный   \n",
       "1448 2014-03-28 12:00:00+00:00  Художественный   \n",
       "1498 2013-09-10 12:00:00+00:00  Художественный   \n",
       "1524 2014-05-05 12:00:00+00:00  Художественный   \n",
       "1792 2014-04-23 12:00:00+00:00  Художественный   \n",
       "1854 2015-02-18 12:00:00+00:00    Анимационный   \n",
       "1870 2015-03-16 12:00:00+00:00  Художественный   \n",
       "1871 2014-10-02 12:00:00+00:00  Художественный   \n",
       "1903 2015-03-02 12:00:00+00:00  Художественный   \n",
       "1912 2015-03-05 12:00:00+00:00  Художественный   \n",
       "\n",
       "                                            film_studio  \\\n",
       "1281  АНО содействия развитию кинематографии \"Ангел-...   \n",
       "1448                         ООО \"Компания \"АТК-Студио\"   \n",
       "1498                        ООО \"Компания \"РЕАЛ-ДАКОТА\"   \n",
       "1524                             ООО \"Студия \"Пассажир\"   \n",
       "1792                             ООО \"Студия \"Пассажир\"   \n",
       "1854                        ООО \"Студия \"Мастер-Фильм\"    \n",
       "1870                        ООО \"Компания \"Реал-Дакота\"   \n",
       "1871  ООО \"Продюсерский Центр \"Хорошо Продакшн\", Rez...   \n",
       "1903                                 ООО \"Водород 2011\"   \n",
       "1912                         ООО \"Кинокомпания \"Ракурс\"   \n",
       "\n",
       "           production_country                              director  \\\n",
       "1281                   Россия                            А.Атанесян   \n",
       "1448                   Россия                             А.Якимчук   \n",
       "1498                   Россия              Р.Давлетьяров, С.Комаров   \n",
       "1524                   Россия  Е.Миндадзе (псевдоним Катя Шагалова)   \n",
       "1792                   Россия                              М.Угаров   \n",
       "1854                   Россия                             С.Серегин   \n",
       "1870                   Россия                         Р.Давлетьяров   \n",
       "1871  Россия, Франция, Латвия                           В.Глаголева   \n",
       "1903                   Россия                          А.Войтинский   \n",
       "1912                   Россия                             Д.Федоров   \n",
       "\n",
       "                                       producer  \\\n",
       "1281           А.Атанесян, М.Бабаханов, Р.Бутко   \n",
       "1448                                 А.Тютрюмов   \n",
       "1498  Р.Давлетьяров, А.Котелевский, А.Олейников   \n",
       "1524                                 Л.Антонова   \n",
       "1792                     А.Миндадзе, Л.Антонова   \n",
       "1854                                А.Герасимов   \n",
       "1870                                        NaN   \n",
       "1871                                  Н.Иванова   \n",
       "1903                                 С.Сельянов   \n",
       "1912                                В.Сидоренко   \n",
       "\n",
       "                      age_restriction  refundable_support  \\\n",
       "1281  «16+» - для детей старше 16 лет                 0.0   \n",
       "1448  «12+» - для детей старше 12 лет                 0.0   \n",
       "1498  «12+» - для детей старше 12 лет                 0.0   \n",
       "1524  «16+» - для детей старше 16 лет                 0.0   \n",
       "1792  «16+» - для детей старше 16 лет                 0.0   \n",
       "1854    «6+» - для детей старше 6 лет                 0.0   \n",
       "1870  «12+» - для детей старше 12 лет        50,000,000.0   \n",
       "1871  «12+» - для детей старше 12 лет                 0.0   \n",
       "1903    «6+» - для детей старше 6 лет                 0.0   \n",
       "1912  «16+» - для детей старше 16 лет                 0.0   \n",
       "\n",
       "      nonrefundable_support        budget                  financing_source  \\\n",
       "1281           26,500,000.0  79,411,900.0             Министерство культуры   \n",
       "1448           26,000,000.0  37,142,857.0             Министерство культуры   \n",
       "1498          107,847,945.0 176,023,490.0                         Фонд кино   \n",
       "1524           28,000,000.0  40,574,140.0             Министерство культуры   \n",
       "1792           25,000,000.0  40,015,122.0             Министерство культуры   \n",
       "1854           25,000,000.0  51,850,000.0             Министерство культуры   \n",
       "1870          100,000,000.0 220,588,394.0                         Фонд кино   \n",
       "1871           46,502,299.0  86,210,067.0  Министерство культуры, Фонд кино   \n",
       "1903           75,000,000.0 139,551,503.0                         Фонд кино   \n",
       "1912           34,000,000.0  48,571,430.0             Министерство культуры   \n",
       "\n",
       "      ratings                      genres    box_office  year  \\\n",
       "1281      8.1             драма,мелодрама     365,353.6  2013   \n",
       "1448      NaN                         NaN      28,140.0  2014   \n",
       "1498      5.3          комедия,фантастика  19,957,031.5  2013   \n",
       "1524      4.2                       драма      55,917.5  2014   \n",
       "1792      6.4                       драма     232,100.0  2014   \n",
       "1854      6.1  мультфильм,фэнтези,история  15,078,858.6  2015   \n",
       "1870      8.5       драма,военный,история 249,166,767.7  2015   \n",
       "1871      6.7                       драма   4,731,239.5  2014   \n",
       "1903      7.0  триллер,боевик,приключения 352,804,320.4  2015   \n",
       "1912      7.4   фэнтези,приключения,драма      51,907.5  2015   \n",
       "\n",
       "                             main_director  main_genre  support  \n",
       "1281                            А.Атанесян       драма      0.3  \n",
       "1448                             А.Якимчук         NaN      0.7  \n",
       "1498                         Р.Давлетьяров     комедия      0.6  \n",
       "1524  Е.Миндадзе (псевдоним Катя Шагалова)       драма      0.7  \n",
       "1792                              М.Угаров       драма      0.6  \n",
       "1854                             С.Серегин  мультфильм      0.5  \n",
       "1870                         Р.Давлетьяров       драма      0.7  \n",
       "1871                           В.Глаголева       драма      0.5  \n",
       "1903                          А.Войтинский     триллер      0.5  \n",
       "1912                             Д.Федоров     фэнтези      0.7  "
      ]
     },
     "execution_count": 53,
     "metadata": {},
     "output_type": "execute_result"
    }
   ],
   "source": [
    "data.query('budget > 0').head(10)"
   ]
  },
  {
   "cell_type": "markdown",
   "metadata": {
    "id": "6t4EukPLgFyV"
   },
   "source": [
    "### Шаг 3. Проведение исследовательского анализа данных\n"
   ]
  },
  {
   "cell_type": "markdown",
   "metadata": {
    "id": "vAH8WCzugFyV"
   },
   "source": [
    "- Посмотрите, сколько фильмов выходило в прокат каждый год. Обратите внимание, что данные о прокате в кинотеатрах известны не для всех фильмов. Посчитайте, какую долю составляют фильмы с указанной информацией о прокате в кинотеатрах. Проанализируйте, как эта доля менялась по годам. Сделайте вывод о том, какой период полнее всего представлен в данных."
   ]
  },
  {
   "cell_type": "code",
   "execution_count": 54,
   "metadata": {},
   "outputs": [
    {
     "data": {
      "text/html": [
       "<div>\n",
       "<style scoped>\n",
       "    .dataframe tbody tr th:only-of-type {\n",
       "        vertical-align: middle;\n",
       "    }\n",
       "\n",
       "    .dataframe tbody tr th {\n",
       "        vertical-align: top;\n",
       "    }\n",
       "\n",
       "    .dataframe thead th {\n",
       "        text-align: right;\n",
       "    }\n",
       "</style>\n",
       "<table border=\"1\" class=\"dataframe\">\n",
       "  <thead>\n",
       "    <tr style=\"text-align: right;\">\n",
       "      <th></th>\n",
       "      <th>Вышло в прокат</th>\n",
       "      <th>Фильмов за год</th>\n",
       "      <th>Процент проката</th>\n",
       "    </tr>\n",
       "    <tr>\n",
       "      <th>year</th>\n",
       "      <th></th>\n",
       "      <th></th>\n",
       "      <th></th>\n",
       "    </tr>\n",
       "  </thead>\n",
       "  <tbody>\n",
       "    <tr>\n",
       "      <th>2010</th>\n",
       "      <td>101</td>\n",
       "      <td>985</td>\n",
       "      <td>10.3</td>\n",
       "    </tr>\n",
       "    <tr>\n",
       "      <th>2011</th>\n",
       "      <td>109</td>\n",
       "      <td>622</td>\n",
       "      <td>17.5</td>\n",
       "    </tr>\n",
       "    <tr>\n",
       "      <th>2012</th>\n",
       "      <td>123</td>\n",
       "      <td>593</td>\n",
       "      <td>20.7</td>\n",
       "    </tr>\n",
       "    <tr>\n",
       "      <th>2013</th>\n",
       "      <td>179</td>\n",
       "      <td>630</td>\n",
       "      <td>28.4</td>\n",
       "    </tr>\n",
       "    <tr>\n",
       "      <th>2014</th>\n",
       "      <td>273</td>\n",
       "      <td>807</td>\n",
       "      <td>33.8</td>\n",
       "    </tr>\n",
       "    <tr>\n",
       "      <th>2015</th>\n",
       "      <td>462</td>\n",
       "      <td>705</td>\n",
       "      <td>65.5</td>\n",
       "    </tr>\n",
       "    <tr>\n",
       "      <th>2016</th>\n",
       "      <td>525</td>\n",
       "      <td>818</td>\n",
       "      <td>64.2</td>\n",
       "    </tr>\n",
       "    <tr>\n",
       "      <th>2017</th>\n",
       "      <td>357</td>\n",
       "      <td>505</td>\n",
       "      <td>70.7</td>\n",
       "    </tr>\n",
       "    <tr>\n",
       "      <th>2018</th>\n",
       "      <td>475</td>\n",
       "      <td>891</td>\n",
       "      <td>53.3</td>\n",
       "    </tr>\n",
       "    <tr>\n",
       "      <th>2019</th>\n",
       "      <td>530</td>\n",
       "      <td>930</td>\n",
       "      <td>57.0</td>\n",
       "    </tr>\n",
       "  </tbody>\n",
       "</table>\n",
       "</div>"
      ],
      "text/plain": [
       "      Вышло в прокат  Фильмов за год  Процент проката\n",
       "year                                                 \n",
       "2010             101             985             10.3\n",
       "2011             109             622             17.5\n",
       "2012             123             593             20.7\n",
       "2013             179             630             28.4\n",
       "2014             273             807             33.8\n",
       "2015             462             705             65.5\n",
       "2016             525             818             64.2\n",
       "2017             357             505             70.7\n",
       "2018             475             891             53.3\n",
       "2019             530             930             57.0"
      ]
     },
     "execution_count": 54,
     "metadata": {},
     "output_type": "execute_result"
    }
   ],
   "source": [
    "data_pivot = data.query('box_office > 0').pivot_table(index='year', values='box_office', aggfunc='count')\n",
    "data_pivot = data_pivot.set_axis(['Вышло в прокат'], axis='columns')\n",
    "data_pivot['Фильмов за год'] = data.pivot_table(index='year', values='box_office', aggfunc='count')['box_office']\n",
    "data_pivot['Процент проката'] = data_pivot['Вышло в прокат'] / data_pivot['Фильмов за год']  * 100\n",
    "data_pivot"
   ]
  },
  {
   "cell_type": "code",
   "execution_count": 55,
   "metadata": {},
   "outputs": [
    {
     "data": {
      "image/png": "[encoded data removed]",
      "text/plain": [
       "<Figure size 720x360 with 1 Axes>"
      ]
     },
     "metadata": {
      "needs_background": "light"
     },
     "output_type": "display_data"
    }
   ],
   "source": [
    "data_pivot.plot(kind='bar', y='Вышло в прокат', figsize=(10, 5), grid=True, legend=False);\n",
    "plt.title('Количество фильмов, вышедших в прокат по годам');\n",
    "plt.xlabel('Год');\n",
    "plt.ylabel('Количество фильмов, шт');"
   ]
  },
  {
   "cell_type": "markdown",
   "metadata": {},
   "source": [
    "Кол-во фильмов в прокате росло каждый год. В 2010 году в прокат вышел 101 фильм, каждый год кол-во фильмов увеличивалось, несмотря на спад в 2017 году, в 2019 достигло 530 шт. С 2010 по 2019 год процент вышедших в прокат фильмов увеличился с 10% до 56%"
   ]
  },
  {
   "cell_type": "markdown",
   "metadata": {
    "id": "BEOdcIrIgFyW"
   },
   "source": [
    "- Изучите, как менялась динамика проката по годам. В каком году сумма сборов была минимальной? А максимальной?"
   ]
  },
  {
   "cell_type": "code",
   "execution_count": 56,
   "metadata": {
    "id": "tfEhofYvgFyX"
   },
   "outputs": [
    {
     "data": {
      "image/png": "[encoded data removed]",
      "text/plain": [
       "<Figure size 720x360 with 1 Axes>"
      ]
     },
     "metadata": {
      "needs_background": "light"
     },
     "output_type": "display_data"
    }
   ],
   "source": [
    "(\n",
    "    data.query('box_office > 0').pivot_table(index='year', values='box_office', aggfunc='sum')\n",
    "    .plot(kind='line', figsize=(10, 5), legend=False, grid=True)\n",
    ")\n",
    "plt.title('Сумма кассовых сборов по годам');\n",
    "plt.xlabel('Год');\n",
    "plt.ylabel('Кассовые сборы, руб.');"
   ]
  },
  {
   "cell_type": "markdown",
   "metadata": {},
   "source": [
    "Сумма сборов была минимальной с 2010 по 2013 гг., а максимальной в 2018 году (сумма сборов почти равна 50 млрд руб.), с ростом кол-ва фильмов стали расти и кассовые сборы."
   ]
  },
  {
   "cell_type": "markdown",
   "metadata": {
    "id": "G-7qS-N-gFyY"
   },
   "source": [
    "- С помощью сводной таблицы посчитайте среднюю и медианную сумму сборов для каждого года."
   ]
  },
  {
   "cell_type": "code",
   "execution_count": 57,
   "metadata": {},
   "outputs": [
    {
     "data": {
      "text/html": [
       "<div>\n",
       "<style scoped>\n",
       "    .dataframe tbody tr th:only-of-type {\n",
       "        vertical-align: middle;\n",
       "    }\n",
       "\n",
       "    .dataframe tbody tr th {\n",
       "        vertical-align: top;\n",
       "    }\n",
       "\n",
       "    .dataframe thead th {\n",
       "        text-align: right;\n",
       "    }\n",
       "</style>\n",
       "<table border=\"1\" class=\"dataframe\">\n",
       "  <thead>\n",
       "    <tr style=\"text-align: right;\">\n",
       "      <th></th>\n",
       "      <th>median</th>\n",
       "      <th>mean</th>\n",
       "    </tr>\n",
       "    <tr>\n",
       "      <th>year</th>\n",
       "      <th></th>\n",
       "      <th></th>\n",
       "    </tr>\n",
       "  </thead>\n",
       "  <tbody>\n",
       "    <tr>\n",
       "      <th>2010</th>\n",
       "      <td>0.0</td>\n",
       "      <td>2,465.6</td>\n",
       "    </tr>\n",
       "    <tr>\n",
       "      <th>2011</th>\n",
       "      <td>0.0</td>\n",
       "      <td>22,673.3</td>\n",
       "    </tr>\n",
       "    <tr>\n",
       "      <th>2012</th>\n",
       "      <td>0.0</td>\n",
       "      <td>11,729.2</td>\n",
       "    </tr>\n",
       "    <tr>\n",
       "      <th>2013</th>\n",
       "      <td>0.0</td>\n",
       "      <td>47,301.1</td>\n",
       "    </tr>\n",
       "    <tr>\n",
       "      <th>2014</th>\n",
       "      <td>0.0</td>\n",
       "      <td>9,225,467.0</td>\n",
       "    </tr>\n",
       "    <tr>\n",
       "      <th>2015</th>\n",
       "      <td>739,938.0</td>\n",
       "      <td>56,024,631.5</td>\n",
       "    </tr>\n",
       "    <tr>\n",
       "      <th>2016</th>\n",
       "      <td>479,832.5</td>\n",
       "      <td>58,516,258.9</td>\n",
       "    </tr>\n",
       "    <tr>\n",
       "      <th>2017</th>\n",
       "      <td>2,522,174.0</td>\n",
       "      <td>96,165,756.9</td>\n",
       "    </tr>\n",
       "    <tr>\n",
       "      <th>2018</th>\n",
       "      <td>289,040.0</td>\n",
       "      <td>55,744,560.2</td>\n",
       "    </tr>\n",
       "    <tr>\n",
       "      <th>2019</th>\n",
       "      <td>597,710.0</td>\n",
       "      <td>52,070,654.6</td>\n",
       "    </tr>\n",
       "  </tbody>\n",
       "</table>\n",
       "</div>"
      ],
      "text/plain": [
       "          median         mean\n",
       "year                         \n",
       "2010         0.0      2,465.6\n",
       "2011         0.0     22,673.3\n",
       "2012         0.0     11,729.2\n",
       "2013         0.0     47,301.1\n",
       "2014         0.0  9,225,467.0\n",
       "2015   739,938.0 56,024,631.5\n",
       "2016   479,832.5 58,516,258.9\n",
       "2017 2,522,174.0 96,165,756.9\n",
       "2018   289,040.0 55,744,560.2\n",
       "2019   597,710.0 52,070,654.6"
      ]
     },
     "execution_count": 57,
     "metadata": {},
     "output_type": "execute_result"
    }
   ],
   "source": [
    "data.groupby('year')['box_office'].agg(['median','mean'])"
   ]
  },
  {
   "cell_type": "code",
   "execution_count": 58,
   "metadata": {},
   "outputs": [
    {
     "data": {
      "image/png": "[encoded data removed]",
      "text/plain": [
       "<Figure size 720x360 with 1 Axes>"
      ]
     },
     "metadata": {
      "needs_background": "light"
     },
     "output_type": "display_data"
    }
   ],
   "source": [
    "(\n",
    "    data.query('box_office > 0').pivot_table(index='year', values='box_office', aggfunc=['median', 'mean'])\n",
    "    .plot(kind='line', y=['median', 'mean'], figsize=(10, 5), legend=True, grid=True)\n",
    ")\n",
    "plt.title('Медианная и средняя сумма кассовых сборов по годам');\n",
    "plt.xlabel('Год');\n",
    "plt.ylabel('Кассовые сборы, руб.');"
   ]
  },
  {
   "cell_type": "markdown",
   "metadata": {},
   "source": [
    "Медиана и среднее значение оставались одинаковыми до 2013 года, далее при резком росте кол-ва фильма проката среднее стало расти, а медиана осталась невысокой, что связано с тем, что фильмы имею разные кассовые сборы. \n",
    "В 2017 году среднее значение сборов было максималым."
   ]
  },
  {
   "cell_type": "markdown",
   "metadata": {
    "id": "Ok89WFwJgFyZ"
   },
   "source": [
    "- Определите, влияет ли возрастное ограничение аудитории («6+», «12+», «16+», «18+» и т. д.) на сборы фильма в прокате в период с 2015 по 2019 год? Фильмы с каким возрастным ограничением собрали больше всего денег в прокате? Меняется ли картина в зависимости от года? Если да, предположите, с чем это может быть связано."
   ]
  },
  {
   "cell_type": "code",
   "execution_count": 59,
   "metadata": {
    "id": "jsSbEqfjgFya"
   },
   "outputs": [
    {
     "data": {
      "image/png": "[encoded data removed]",
      "text/plain": [
       "<Figure size 720x360 with 1 Axes>"
      ]
     },
     "metadata": {
      "needs_background": "light"
     },
     "output_type": "display_data"
    }
   ],
   "source": [
    "(\n",
    "    data.query('box_office > 0')\n",
    "    .pivot_table(index='year', columns='age_restriction', values='box_office', aggfunc='sum')\n",
    "    .plot(kind='line', xlim=[2015, 2019], figsize=(10, 5), legend=True, grid=True)\n",
    ")\n",
    "plt.title('Сумма кассовых сборов с разбивной по возрастным ограничениям по годам');\n",
    "plt.xlabel('Год');\n",
    "plt.ylabel('Кассовые сборы, руб.');"
   ]
  },
  {
   "cell_type": "code",
   "execution_count": 60,
   "metadata": {},
   "outputs": [
    {
     "data": {
      "text/plain": [
       "age_restriction\n",
       "«0+» - для любой зрительской аудитории      809,077,426.0\n",
       "«12+» - для детей старше 12 лет          60,619,446,628.3\n",
       "«16+» - для детей старше 16 лет          76,034,733,643.6\n",
       "«18+» - запрещено для детей              40,759,615,572.1\n",
       "«6+» - для детей старше 6 лет            55,798,610,799.7\n",
       "Name: box_office, dtype: float64"
      ]
     },
     "execution_count": 60,
     "metadata": {},
     "output_type": "execute_result"
    }
   ],
   "source": [
    "data.query('year >= 2015').groupby('age_restriction')['box_office'].sum()"
   ]
  },
  {
   "cell_type": "markdown",
   "metadata": {},
   "source": [
    "Лидером сборов является категория 16+, несмотря на спад с 2017 года, который может быть связан с присвоением большинства фильмов категории 12+. Категории 6+, 12+, 16+ наиболее популярны, так как расчитаны на широкую аудитории, чпем фильмы категории 0+ и 18+.\n"
   ]
  },
  {
   "cell_type": "markdown",
   "metadata": {
    "id": "l_Kg6Ku4gFya"
   },
   "source": [
    "### Шаг 4. Исследование фильмов, которые получили государственную поддержку\n",
    "\n",
    "На этом этапе нет конкретных инструкций и заданий — поищите интересные закономерности в данных. Посмотрите, сколько выделяют средств на поддержку кино. Проверьте, хорошо ли окупаются такие фильмы, какой у них рейтинг."
   ]
  },
  {
   "cell_type": "code",
   "execution_count": 61,
   "metadata": {},
   "outputs": [],
   "source": [
    "source = ['Министерство культуры', 'Фонд кино', 'Министерство культуры, Фонд кино'] "
   ]
  },
  {
   "cell_type": "code",
   "execution_count": 62,
   "metadata": {},
   "outputs": [
    {
     "data": {
      "text/plain": [
       "14"
      ]
     },
     "execution_count": 62,
     "metadata": {},
     "output_type": "execute_result"
    }
   ],
   "source": [
    "#фильмы сняты с гос. поддержкой без сборов\n",
    "data.query('budget != 0 and box_office == 0 and financing_source in @source' )['title'].count()"
   ]
  },
  {
   "cell_type": "code",
   "execution_count": 63,
   "metadata": {},
   "outputs": [
    {
     "data": {
      "text/plain": [
       "318"
      ]
     },
     "execution_count": 63,
     "metadata": {},
     "output_type": "execute_result"
    }
   ],
   "source": [
    "#фильмы сняты с гос. поддержкой со сборами\n",
    "data.query('budget != 0 and box_office != 0 and financing_source in @source' )['title'].count()"
   ]
  },
  {
   "cell_type": "markdown",
   "metadata": {},
   "source": [
    "Проекты сняты при поддержке Министерства культуры или Фонда кино без информации о сборах = 14\n",
    "\n",
    "Проекты сняты при поддержке Министерства культуры или Фонда кино с информацией о сборах = 318"
   ]
  },
  {
   "cell_type": "code",
   "execution_count": 64,
   "metadata": {},
   "outputs": [
    {
     "data": {
      "image/png": "[encoded data removed]",
      "text/plain": [
       "<Figure size 1440x360 with 1 Axes>"
      ]
     },
     "metadata": {
      "needs_background": "light"
     },
     "output_type": "display_data"
    }
   ],
   "source": [
    "data.query('financing_source in @source')['main_genre'].value_counts().plot(kind='bar', grid=True, figsize=(20, 5));\n",
    "plt.title('Количествоо фильмов с гос. поддержкой по жанрам');\n",
    "plt.xlabel('Жанр');\n",
    "plt.ylabel('Кол=во фильмов, шт.');"
   ]
  },
  {
   "cell_type": "markdown",
   "metadata": {},
   "source": [
    "Большинство поддерживаемых фильмов относиться к жанрам драма и комедия"
   ]
  },
  {
   "cell_type": "code",
   "execution_count": 65,
   "metadata": {},
   "outputs": [
    {
     "data": {
      "image/png": "[encoded data removed]",
      "text/plain": [
       "<Figure size 1440x360 with 1 Axes>"
      ]
     },
     "metadata": {
      "needs_background": "light"
     },
     "output_type": "display_data"
    }
   ],
   "source": [
    "(\n",
    "    data.query('financing_source in @source')[['main_genre', 'ratings']]\n",
    "    .groupby('main_genre').agg('mean').sort_values(by='ratings', ascending=False)\n",
    "    .plot(kind='bar', grid=True, figsize=(20, 5))\n",
    ")\n",
    "plt.title('Средний рейтинг фильмов с гос. поддержкой по жанрам');\n",
    "plt.xlabel('Жанр');\n",
    "plt.ylabel('Рейтинг');"
   ]
  },
  {
   "cell_type": "markdown",
   "metadata": {},
   "source": [
    "У фильмов в жанре криминал и деткий рейтинг выше 7, а у жанра ужасы самая низкая оценка"
   ]
  },
  {
   "cell_type": "code",
   "execution_count": 66,
   "metadata": {},
   "outputs": [
    {
     "data": {
      "text/plain": [
       "«16+» - для детей старше 16 лет           125\n",
       "«12+» - для детей старше 12 лет           106\n",
       "«6+» - для детей старше 6 лет              65\n",
       "«18+» - запрещено для детей                28\n",
       "«0+» - для любой зрительской аудитории      8\n",
       "Name: age_restriction, dtype: int64"
      ]
     },
     "execution_count": 66,
     "metadata": {},
     "output_type": "execute_result"
    }
   ],
   "source": [
    "#кол-во фильмов с гос. поддержкой по возрастному ограничению\n",
    "data.query('financing_source in @source')['age_restriction'].value_counts()"
   ]
  },
  {
   "cell_type": "markdown",
   "metadata": {},
   "source": [
    "Большинство фильмом снятых с гос. поддержкой имеют возрастное ограничение 16+, таких фильмов было выпущено больше всего. "
   ]
  },
  {
   "cell_type": "code",
   "execution_count": 67,
   "metadata": {},
   "outputs": [
    {
     "data": {
      "text/plain": [
       "Художественный    300\n",
       "Анимационный       31\n",
       "Документальный      1\n",
       "Name: type, dtype: int64"
      ]
     },
     "execution_count": 67,
     "metadata": {},
     "output_type": "execute_result"
    }
   ],
   "source": [
    "#кол-во фильмов с гос. поддержкой по типу\n",
    "data.query('financing_source in @source')['type'].value_counts()"
   ]
  },
  {
   "cell_type": "markdown",
   "metadata": {},
   "source": [
    "Большинство фильмов относится к художественным"
   ]
  },
  {
   "cell_type": "code",
   "execution_count": 68,
   "metadata": {},
   "outputs": [],
   "source": [
    "#общая сумма гос. поддержки\n",
    "data['support_sum'] = (data['refundable_support'] + data['nonrefundable_support'])"
   ]
  },
  {
   "cell_type": "code",
   "execution_count": 69,
   "metadata": {},
   "outputs": [
    {
     "data": {
      "image/png": "[encoded data removed]",
      "text/plain": [
       "<Figure size 720x360 with 1 Axes>"
      ]
     },
     "metadata": {
      "needs_background": "light"
     },
     "output_type": "display_data"
    }
   ],
   "source": [
    "(\n",
    "    data.query('financing_source in @source')\n",
    "    .groupby('year')['support_sum']\n",
    "    .count().plot(kind='bar', grid=True, figsize=(10, 5))\n",
    ")\n",
    "plt.title('Кол-во фильмов с гос. поддержкой по годам');\n",
    "plt.xlabel('Год');\n",
    "plt.ylabel('Кол-во фильмов, шт.');"
   ]
  },
  {
   "cell_type": "markdown",
   "metadata": {},
   "source": [
    "- В 2013 и 2014 году кол-во профинансированых фильмов было меньше 18\n",
    "- Самое большое кол-во фильмов было профинансировано в 2015 году (86 фильмов)\n",
    "- В последующие годы кол-во фильмов с поддержкой варьировалось от 61 до 70"
   ]
  },
  {
   "cell_type": "code",
   "execution_count": 70,
   "metadata": {},
   "outputs": [
    {
     "data": {
      "image/png": "[encoded data removed]",
      "text/plain": [
       "<Figure size 1440x360 with 1 Axes>"
      ]
     },
     "metadata": {
      "needs_background": "light"
     },
     "output_type": "display_data"
    }
   ],
   "source": [
    "(\n",
    "    data.query('financing_source in @source')\n",
    "    .pivot_table(index= 'main_genre', values = ['support_sum'])\n",
    "    .sort_values(by='support_sum',ascending=False).plot(kind='bar', figsize=(20, 5))\n",
    ")\n",
    "plt.title('Суммы гос. поддержки по жанрам');\n",
    "plt.xlabel('Жанр');\n",
    "plt.ylabel('Сумма гос. поддержки, руб.');"
   ]
  },
  {
   "cell_type": "markdown",
   "metadata": {},
   "source": [
    "Больше всего средств выделяется на жанры история, спорт и фантастика , меньше всего на мелодрамы и детские фильмы"
   ]
  },
  {
   "cell_type": "code",
   "execution_count": 71,
   "metadata": {},
   "outputs": [
    {
     "data": {
      "image/png": "[encoded data removed]",
      "text/plain": [
       "<Figure size 720x360 with 1 Axes>"
      ]
     },
     "metadata": {
      "needs_background": "light"
     },
     "output_type": "display_data"
    }
   ],
   "source": [
    "(\n",
    "    data.query('financing_source in @source')\n",
    "    .groupby('year')['support_sum'].agg(['sum'])\n",
    "    .plot(kind='bar', grid=True, legend=False, figsize=(10, 5))\n",
    ")\n",
    "plt.title('Суммы гос. поддержки по годам');\n",
    "plt.xlabel('Год');\n",
    "plt.ylabel('Сумма гос. поддержки, руб.');"
   ]
  },
  {
   "cell_type": "markdown",
   "metadata": {},
   "source": [
    "В 2013 и 2014 выделялось меньше всего средст на финансирование фильмов, затем суммы гос. поддержки резко увеличились и в 2019 году достигли максимального значения"
   ]
  },
  {
   "cell_type": "code",
   "execution_count": 72,
   "metadata": {},
   "outputs": [],
   "source": [
    "#окупаемость\n",
    "data['profit'] = data['box_office'] - data['budget']"
   ]
  },
  {
   "cell_type": "code",
   "execution_count": 73,
   "metadata": {},
   "outputs": [
    {
     "data": {
      "text/html": [
       "<div>\n",
       "<style scoped>\n",
       "    .dataframe tbody tr th:only-of-type {\n",
       "        vertical-align: middle;\n",
       "    }\n",
       "\n",
       "    .dataframe tbody tr th {\n",
       "        vertical-align: top;\n",
       "    }\n",
       "\n",
       "    .dataframe thead th {\n",
       "        text-align: right;\n",
       "    }\n",
       "</style>\n",
       "<table border=\"1\" class=\"dataframe\">\n",
       "  <thead>\n",
       "    <tr style=\"text-align: right;\">\n",
       "      <th></th>\n",
       "      <th>title</th>\n",
       "      <th>puNumber</th>\n",
       "      <th>show_start_date</th>\n",
       "      <th>type</th>\n",
       "      <th>film_studio</th>\n",
       "      <th>production_country</th>\n",
       "      <th>director</th>\n",
       "      <th>producer</th>\n",
       "      <th>age_restriction</th>\n",
       "      <th>refundable_support</th>\n",
       "      <th>nonrefundable_support</th>\n",
       "      <th>budget</th>\n",
       "      <th>financing_source</th>\n",
       "      <th>ratings</th>\n",
       "      <th>genres</th>\n",
       "      <th>box_office</th>\n",
       "      <th>year</th>\n",
       "      <th>main_director</th>\n",
       "      <th>main_genre</th>\n",
       "      <th>support</th>\n",
       "      <th>support_sum</th>\n",
       "      <th>profit</th>\n",
       "    </tr>\n",
       "  </thead>\n",
       "  <tbody>\n",
       "    <tr>\n",
       "      <th>1281</th>\n",
       "      <td>Пока еще жива</td>\n",
       "      <td>111005313</td>\n",
       "      <td>2013-10-11 12:00:00+00:00</td>\n",
       "      <td>Художественный</td>\n",
       "      <td>АНО содействия развитию кинематографии \"Ангел-...</td>\n",
       "      <td>Россия</td>\n",
       "      <td>А.Атанесян</td>\n",
       "      <td>А.Атанесян, М.Бабаханов, Р.Бутко</td>\n",
       "      <td>«16+» - для детей старше 16 лет</td>\n",
       "      <td>0.0</td>\n",
       "      <td>26,500,000.0</td>\n",
       "      <td>79,411,900.0</td>\n",
       "      <td>Министерство культуры</td>\n",
       "      <td>8.1</td>\n",
       "      <td>драма,мелодрама</td>\n",
       "      <td>365,353.6</td>\n",
       "      <td>2013</td>\n",
       "      <td>А.Атанесян</td>\n",
       "      <td>драма</td>\n",
       "      <td>0.3</td>\n",
       "      <td>26,500,000.0</td>\n",
       "      <td>-79,046,546.4</td>\n",
       "    </tr>\n",
       "    <tr>\n",
       "      <th>1448</th>\n",
       "      <td>Бесславные придурки</td>\n",
       "      <td>111003314</td>\n",
       "      <td>2014-03-28 12:00:00+00:00</td>\n",
       "      <td>Художественный</td>\n",
       "      <td>ООО \"Компания \"АТК-Студио\"</td>\n",
       "      <td>Россия</td>\n",
       "      <td>А.Якимчук</td>\n",
       "      <td>А.Тютрюмов</td>\n",
       "      <td>«12+» - для детей старше 12 лет</td>\n",
       "      <td>0.0</td>\n",
       "      <td>26,000,000.0</td>\n",
       "      <td>37,142,857.0</td>\n",
       "      <td>Министерство культуры</td>\n",
       "      <td>NaN</td>\n",
       "      <td>NaN</td>\n",
       "      <td>28,140.0</td>\n",
       "      <td>2014</td>\n",
       "      <td>А.Якимчук</td>\n",
       "      <td>NaN</td>\n",
       "      <td>0.7</td>\n",
       "      <td>26,000,000.0</td>\n",
       "      <td>-37,114,717.0</td>\n",
       "    </tr>\n",
       "    <tr>\n",
       "      <th>1498</th>\n",
       "      <td>Невидимки</td>\n",
       "      <td>111004213</td>\n",
       "      <td>2013-09-10 12:00:00+00:00</td>\n",
       "      <td>Художественный</td>\n",
       "      <td>ООО \"Компания \"РЕАЛ-ДАКОТА\"</td>\n",
       "      <td>Россия</td>\n",
       "      <td>Р.Давлетьяров, С.Комаров</td>\n",
       "      <td>Р.Давлетьяров, А.Котелевский, А.Олейников</td>\n",
       "      <td>«12+» - для детей старше 12 лет</td>\n",
       "      <td>0.0</td>\n",
       "      <td>107,847,945.0</td>\n",
       "      <td>176,023,490.0</td>\n",
       "      <td>Фонд кино</td>\n",
       "      <td>5.3</td>\n",
       "      <td>комедия,фантастика</td>\n",
       "      <td>19,957,031.5</td>\n",
       "      <td>2013</td>\n",
       "      <td>Р.Давлетьяров</td>\n",
       "      <td>комедия</td>\n",
       "      <td>0.6</td>\n",
       "      <td>107,847,945.0</td>\n",
       "      <td>-156,066,458.5</td>\n",
       "    </tr>\n",
       "    <tr>\n",
       "      <th>1524</th>\n",
       "      <td>БЕРЦЫ</td>\n",
       "      <td>111004314</td>\n",
       "      <td>2014-05-05 12:00:00+00:00</td>\n",
       "      <td>Художественный</td>\n",
       "      <td>ООО \"Студия \"Пассажир\"</td>\n",
       "      <td>Россия</td>\n",
       "      <td>Е.Миндадзе (псевдоним Катя Шагалова)</td>\n",
       "      <td>Л.Антонова</td>\n",
       "      <td>«16+» - для детей старше 16 лет</td>\n",
       "      <td>0.0</td>\n",
       "      <td>28,000,000.0</td>\n",
       "      <td>40,574,140.0</td>\n",
       "      <td>Министерство культуры</td>\n",
       "      <td>4.2</td>\n",
       "      <td>драма</td>\n",
       "      <td>55,917.5</td>\n",
       "      <td>2014</td>\n",
       "      <td>Е.Миндадзе (псевдоним Катя Шагалова)</td>\n",
       "      <td>драма</td>\n",
       "      <td>0.7</td>\n",
       "      <td>28,000,000.0</td>\n",
       "      <td>-40,518,222.5</td>\n",
       "    </tr>\n",
       "    <tr>\n",
       "      <th>1792</th>\n",
       "      <td>Братья Ч</td>\n",
       "      <td>111004414</td>\n",
       "      <td>2014-04-23 12:00:00+00:00</td>\n",
       "      <td>Художественный</td>\n",
       "      <td>ООО \"Студия \"Пассажир\"</td>\n",
       "      <td>Россия</td>\n",
       "      <td>М.Угаров</td>\n",
       "      <td>А.Миндадзе, Л.Антонова</td>\n",
       "      <td>«16+» - для детей старше 16 лет</td>\n",
       "      <td>0.0</td>\n",
       "      <td>25,000,000.0</td>\n",
       "      <td>40,015,122.0</td>\n",
       "      <td>Министерство культуры</td>\n",
       "      <td>6.4</td>\n",
       "      <td>драма</td>\n",
       "      <td>232,100.0</td>\n",
       "      <td>2014</td>\n",
       "      <td>М.Угаров</td>\n",
       "      <td>драма</td>\n",
       "      <td>0.6</td>\n",
       "      <td>25,000,000.0</td>\n",
       "      <td>-39,783,022.0</td>\n",
       "    </tr>\n",
       "    <tr>\n",
       "      <th>...</th>\n",
       "      <td>...</td>\n",
       "      <td>...</td>\n",
       "      <td>...</td>\n",
       "      <td>...</td>\n",
       "      <td>...</td>\n",
       "      <td>...</td>\n",
       "      <td>...</td>\n",
       "      <td>...</td>\n",
       "      <td>...</td>\n",
       "      <td>...</td>\n",
       "      <td>...</td>\n",
       "      <td>...</td>\n",
       "      <td>...</td>\n",
       "      <td>...</td>\n",
       "      <td>...</td>\n",
       "      <td>...</td>\n",
       "      <td>...</td>\n",
       "      <td>...</td>\n",
       "      <td>...</td>\n",
       "      <td>...</td>\n",
       "      <td>...</td>\n",
       "      <td>...</td>\n",
       "    </tr>\n",
       "    <tr>\n",
       "      <th>7464</th>\n",
       "      <td>Союз спасения</td>\n",
       "      <td>111022019</td>\n",
       "      <td>2019-12-26 12:00:00+00:00</td>\n",
       "      <td>Художественный</td>\n",
       "      <td>ЗАО \"Дирекция кино\"</td>\n",
       "      <td>Россия</td>\n",
       "      <td>А.Кравчук</td>\n",
       "      <td>А.Максимов, К.Эрнст</td>\n",
       "      <td>«12+» - для детей старше 12 лет</td>\n",
       "      <td>100,000,000.0</td>\n",
       "      <td>400,000,000.0</td>\n",
       "      <td>980,000,000.0</td>\n",
       "      <td>Фонд кино</td>\n",
       "      <td>6.0</td>\n",
       "      <td>история,биография,драма</td>\n",
       "      <td>717,703,185.5</td>\n",
       "      <td>2019</td>\n",
       "      <td>А.Кравчук</td>\n",
       "      <td>история</td>\n",
       "      <td>0.5</td>\n",
       "      <td>500,000,000.0</td>\n",
       "      <td>-262,296,814.5</td>\n",
       "    </tr>\n",
       "    <tr>\n",
       "      <th>7466</th>\n",
       "      <td>Иван Царевич и Серый Волк 4</td>\n",
       "      <td>114005019</td>\n",
       "      <td>2019-12-20 12:00:00+00:00</td>\n",
       "      <td>Анимационный</td>\n",
       "      <td>ООО \"Студия анимационного кино \"Мельница\"</td>\n",
       "      <td>Россия</td>\n",
       "      <td>Д.Шмидт, К.Феоктистов</td>\n",
       "      <td>С.Сельянов, А.Боярский</td>\n",
       "      <td>«6+» - для детей старше 6 лет</td>\n",
       "      <td>100,000,000.0</td>\n",
       "      <td>0.0</td>\n",
       "      <td>190,000,000.0</td>\n",
       "      <td>Фонд кино</td>\n",
       "      <td>6.7</td>\n",
       "      <td>мультфильм,приключения,семейный</td>\n",
       "      <td>501,069,235.0</td>\n",
       "      <td>2019</td>\n",
       "      <td>Д.Шмидт</td>\n",
       "      <td>мультфильм</td>\n",
       "      <td>0.5</td>\n",
       "      <td>100,000,000.0</td>\n",
       "      <td>311,069,235.0</td>\n",
       "    </tr>\n",
       "    <tr>\n",
       "      <th>7474</th>\n",
       "      <td>Вторжение</td>\n",
       "      <td>111022519</td>\n",
       "      <td>2019-12-23 12:00:00+00:00</td>\n",
       "      <td>Художественный</td>\n",
       "      <td>ООО \"Арт Пикчерс Студия\", ООО \"Водород 2011\"</td>\n",
       "      <td>Россия</td>\n",
       "      <td>Ф.Бондарчук</td>\n",
       "      <td>Ф.Бондарчук, М.Врубель, А.Андрющенко, Д.Рудовский</td>\n",
       "      <td>«12+» - для детей старше 12 лет</td>\n",
       "      <td>100,000,000.0</td>\n",
       "      <td>400,000,000.0</td>\n",
       "      <td>944,000,000.0</td>\n",
       "      <td>Фонд кино</td>\n",
       "      <td>5.7</td>\n",
       "      <td>фантастика,боевик</td>\n",
       "      <td>0.0</td>\n",
       "      <td>2019</td>\n",
       "      <td>Ф.Бондарчук</td>\n",
       "      <td>фантастика</td>\n",
       "      <td>0.5</td>\n",
       "      <td>500,000,000.0</td>\n",
       "      <td>-944,000,000.0</td>\n",
       "    </tr>\n",
       "    <tr>\n",
       "      <th>7476</th>\n",
       "      <td>Я свободен</td>\n",
       "      <td>111023019</td>\n",
       "      <td>2019-12-26 12:00:00+00:00</td>\n",
       "      <td>Художественный</td>\n",
       "      <td>АО \"ТПО \"Киностудия им. М.Горького\"</td>\n",
       "      <td>Россия</td>\n",
       "      <td>И.Северов</td>\n",
       "      <td>С.Зернов</td>\n",
       "      <td>«12+» - для детей старше 12 лет</td>\n",
       "      <td>0.0</td>\n",
       "      <td>30,000,000.0</td>\n",
       "      <td>46,154,000.0</td>\n",
       "      <td>Министерство культуры</td>\n",
       "      <td>5.9</td>\n",
       "      <td>драма</td>\n",
       "      <td>0.0</td>\n",
       "      <td>2019</td>\n",
       "      <td>И.Северов</td>\n",
       "      <td>драма</td>\n",
       "      <td>0.6</td>\n",
       "      <td>30,000,000.0</td>\n",
       "      <td>-46,154,000.0</td>\n",
       "    </tr>\n",
       "    <tr>\n",
       "      <th>7478</th>\n",
       "      <td>(Не)идеальный мужчина</td>\n",
       "      <td>111023119</td>\n",
       "      <td>2019-12-24 12:00:00+00:00</td>\n",
       "      <td>Художественный</td>\n",
       "      <td>ООО \"Нон-Стоп Продакшн\"</td>\n",
       "      <td>Россия</td>\n",
       "      <td>М.Бальчюнас (псевдоним М.Вайсберг)</td>\n",
       "      <td>С.Мелькумов, А.Роднянский, М.Вайсберг, Р.Минас...</td>\n",
       "      <td>«12+» - для детей старше 12 лет</td>\n",
       "      <td>40,000,000.0</td>\n",
       "      <td>60,000,000.0</td>\n",
       "      <td>150,147,502.0</td>\n",
       "      <td>Фонд кино</td>\n",
       "      <td>4.5</td>\n",
       "      <td>комедия,фантастика,мелодрама</td>\n",
       "      <td>0.0</td>\n",
       "      <td>2019</td>\n",
       "      <td>М.Бальчюнас (псевдоним М.Вайсберг)</td>\n",
       "      <td>комедия</td>\n",
       "      <td>0.7</td>\n",
       "      <td>100,000,000.0</td>\n",
       "      <td>-150,147,502.0</td>\n",
       "    </tr>\n",
       "  </tbody>\n",
       "</table>\n",
       "<p>332 rows × 22 columns</p>\n",
       "</div>"
      ],
      "text/plain": [
       "                            title   puNumber           show_start_date  \\\n",
       "1281                Пока еще жива  111005313 2013-10-11 12:00:00+00:00   \n",
       "1448          Бесславные придурки  111003314 2014-03-28 12:00:00+00:00   \n",
       "1498                    Невидимки  111004213 2013-09-10 12:00:00+00:00   \n",
       "1524                        БЕРЦЫ  111004314 2014-05-05 12:00:00+00:00   \n",
       "1792                     Братья Ч  111004414 2014-04-23 12:00:00+00:00   \n",
       "...                           ...        ...                       ...   \n",
       "7464                Союз спасения  111022019 2019-12-26 12:00:00+00:00   \n",
       "7466  Иван Царевич и Серый Волк 4  114005019 2019-12-20 12:00:00+00:00   \n",
       "7474                    Вторжение  111022519 2019-12-23 12:00:00+00:00   \n",
       "7476                   Я свободен  111023019 2019-12-26 12:00:00+00:00   \n",
       "7478        (Не)идеальный мужчина  111023119 2019-12-24 12:00:00+00:00   \n",
       "\n",
       "                type                                        film_studio  \\\n",
       "1281  Художественный  АНО содействия развитию кинематографии \"Ангел-...   \n",
       "1448  Художественный                         ООО \"Компания \"АТК-Студио\"   \n",
       "1498  Художественный                        ООО \"Компания \"РЕАЛ-ДАКОТА\"   \n",
       "1524  Художественный                             ООО \"Студия \"Пассажир\"   \n",
       "1792  Художественный                             ООО \"Студия \"Пассажир\"   \n",
       "...              ...                                                ...   \n",
       "7464  Художественный                                ЗАО \"Дирекция кино\"   \n",
       "7466    Анимационный          ООО \"Студия анимационного кино \"Мельница\"   \n",
       "7474  Художественный       ООО \"Арт Пикчерс Студия\", ООО \"Водород 2011\"   \n",
       "7476  Художественный                АО \"ТПО \"Киностудия им. М.Горького\"   \n",
       "7478  Художественный                           ООО \"Нон-Стоп Продакшн\"    \n",
       "\n",
       "     production_country                              director  \\\n",
       "1281             Россия                            А.Атанесян   \n",
       "1448             Россия                             А.Якимчук   \n",
       "1498             Россия              Р.Давлетьяров, С.Комаров   \n",
       "1524             Россия  Е.Миндадзе (псевдоним Катя Шагалова)   \n",
       "1792             Россия                              М.Угаров   \n",
       "...                 ...                                   ...   \n",
       "7464             Россия                             А.Кравчук   \n",
       "7466             Россия                 Д.Шмидт, К.Феоктистов   \n",
       "7474             Россия                           Ф.Бондарчук   \n",
       "7476             Россия                             И.Северов   \n",
       "7478             Россия    М.Бальчюнас (псевдоним М.Вайсберг)   \n",
       "\n",
       "                                               producer  \\\n",
       "1281                   А.Атанесян, М.Бабаханов, Р.Бутко   \n",
       "1448                                         А.Тютрюмов   \n",
       "1498          Р.Давлетьяров, А.Котелевский, А.Олейников   \n",
       "1524                                         Л.Антонова   \n",
       "1792                             А.Миндадзе, Л.Антонова   \n",
       "...                                                 ...   \n",
       "7464                                А.Максимов, К.Эрнст   \n",
       "7466                             С.Сельянов, А.Боярский   \n",
       "7474  Ф.Бондарчук, М.Врубель, А.Андрющенко, Д.Рудовский   \n",
       "7476                                           С.Зернов   \n",
       "7478  С.Мелькумов, А.Роднянский, М.Вайсберг, Р.Минас...   \n",
       "\n",
       "                      age_restriction  refundable_support  \\\n",
       "1281  «16+» - для детей старше 16 лет                 0.0   \n",
       "1448  «12+» - для детей старше 12 лет                 0.0   \n",
       "1498  «12+» - для детей старше 12 лет                 0.0   \n",
       "1524  «16+» - для детей старше 16 лет                 0.0   \n",
       "1792  «16+» - для детей старше 16 лет                 0.0   \n",
       "...                               ...                 ...   \n",
       "7464  «12+» - для детей старше 12 лет       100,000,000.0   \n",
       "7466    «6+» - для детей старше 6 лет       100,000,000.0   \n",
       "7474  «12+» - для детей старше 12 лет       100,000,000.0   \n",
       "7476  «12+» - для детей старше 12 лет                 0.0   \n",
       "7478  «12+» - для детей старше 12 лет        40,000,000.0   \n",
       "\n",
       "      nonrefundable_support        budget       financing_source  ratings  \\\n",
       "1281           26,500,000.0  79,411,900.0  Министерство культуры      8.1   \n",
       "1448           26,000,000.0  37,142,857.0  Министерство культуры      NaN   \n",
       "1498          107,847,945.0 176,023,490.0              Фонд кино      5.3   \n",
       "1524           28,000,000.0  40,574,140.0  Министерство культуры      4.2   \n",
       "1792           25,000,000.0  40,015,122.0  Министерство культуры      6.4   \n",
       "...                     ...           ...                    ...      ...   \n",
       "7464          400,000,000.0 980,000,000.0              Фонд кино      6.0   \n",
       "7466                    0.0 190,000,000.0              Фонд кино      6.7   \n",
       "7474          400,000,000.0 944,000,000.0              Фонд кино      5.7   \n",
       "7476           30,000,000.0  46,154,000.0  Министерство культуры      5.9   \n",
       "7478           60,000,000.0 150,147,502.0              Фонд кино      4.5   \n",
       "\n",
       "                               genres    box_office  year  \\\n",
       "1281                  драма,мелодрама     365,353.6  2013   \n",
       "1448                              NaN      28,140.0  2014   \n",
       "1498               комедия,фантастика  19,957,031.5  2013   \n",
       "1524                            драма      55,917.5  2014   \n",
       "1792                            драма     232,100.0  2014   \n",
       "...                               ...           ...   ...   \n",
       "7464          история,биография,драма 717,703,185.5  2019   \n",
       "7466  мультфильм,приключения,семейный 501,069,235.0  2019   \n",
       "7474                фантастика,боевик           0.0  2019   \n",
       "7476                            драма           0.0  2019   \n",
       "7478     комедия,фантастика,мелодрама           0.0  2019   \n",
       "\n",
       "                             main_director  main_genre  support   support_sum  \\\n",
       "1281                            А.Атанесян       драма      0.3  26,500,000.0   \n",
       "1448                             А.Якимчук         NaN      0.7  26,000,000.0   \n",
       "1498                         Р.Давлетьяров     комедия      0.6 107,847,945.0   \n",
       "1524  Е.Миндадзе (псевдоним Катя Шагалова)       драма      0.7  28,000,000.0   \n",
       "1792                              М.Угаров       драма      0.6  25,000,000.0   \n",
       "...                                    ...         ...      ...           ...   \n",
       "7464                             А.Кравчук     история      0.5 500,000,000.0   \n",
       "7466                               Д.Шмидт  мультфильм      0.5 100,000,000.0   \n",
       "7474                           Ф.Бондарчук  фантастика      0.5 500,000,000.0   \n",
       "7476                             И.Северов       драма      0.6  30,000,000.0   \n",
       "7478    М.Бальчюнас (псевдоним М.Вайсберг)     комедия      0.7 100,000,000.0   \n",
       "\n",
       "             profit  \n",
       "1281  -79,046,546.4  \n",
       "1448  -37,114,717.0  \n",
       "1498 -156,066,458.5  \n",
       "1524  -40,518,222.5  \n",
       "1792  -39,783,022.0  \n",
       "...             ...  \n",
       "7464 -262,296,814.5  \n",
       "7466  311,069,235.0  \n",
       "7474 -944,000,000.0  \n",
       "7476  -46,154,000.0  \n",
       "7478 -150,147,502.0  \n",
       "\n",
       "[332 rows x 22 columns]"
      ]
     },
     "execution_count": 73,
     "metadata": {},
     "output_type": "execute_result"
    }
   ],
   "source": [
    "data.query('financing_source in @source')"
   ]
  },
  {
   "cell_type": "code",
   "execution_count": 74,
   "metadata": {},
   "outputs": [
    {
     "data": {
      "image/png": "[encoded data removed]",
      "text/plain": [
       "<Figure size 720x360 with 1 Axes>"
      ]
     },
     "metadata": {
      "needs_background": "light"
     },
     "output_type": "display_data"
    }
   ],
   "source": [
    "data.query('financing_source in @source').groupby('year')['profit'].sum().plot(kind='bar', grid=True, figsize=(10, 5));\n",
    "plt.title('Окупаемость фильмов с гос. поддержкой по годам');\n",
    "plt.xlabel('Год');\n",
    "plt.ylabel('Доход, руб.');"
   ]
  },
  {
   "cell_type": "markdown",
   "metadata": {},
   "source": [
    "Фильмы с поддержкой окупились только в 2017 и 2018 годах."
   ]
  },
  {
   "cell_type": "markdown",
   "metadata": {
    "id": "V2gYwMcPgFyd"
   },
   "source": [
    "### Шаг 5. Напишите общий вывод"
   ]
  },
  {
   "cell_type": "markdown",
   "metadata": {
    "id": "AYRg3dzXgFye"
   },
   "source": [
    "В ходе исследования рынка российского кинопроката была выполнена следующая предобработка данных:\n",
    "- обьединены два датасета;\n",
    "- изучена общая информация о данных;\n",
    "- найдены и обработаны пропущенные значения (пропуски могли возникнуть из-за человеческого фактора (данные были удалены случайно или намерено, сотрудник не внес данные) или в результате сбоя в базе данных при выгрузке);\n",
    "- изменены некорректные типы данных в столбцах (в столбцах show_start_date — приведен к Datetime, а ratings — переведены проценты в float);\n",
    "- изучены уникальные значения и устранены неявные дубликаты;\n",
    "- изучены категориальные и количественные значения: убраны неявные дубликаты и скорректированы значения;\n",
    "- добавлены столбцы с параметрами: год проката, имя и фамилия главного режиссёра и основной жанр фильма;\n",
    "- проведен расчет доли гос. поддержки от общего бюджета фильма.\n",
    "\n",
    "В ходе исследовательского анализа данных были изучены и описаны параметры объектов и сделаны следующие выводы:\n",
    "\n",
    "- Кол-во фильмов в прокате росло каждый год. В 2010 году в прокат вышел 101 фильм, каждый год кол-во фильмов увеличивалось, несмотря на спад в 2017 году, в 2019 достигло 530 шт. С 2010 по 2019 год процент вышедших в прокат фильмов увеличился с 10% до 56%;\n",
    "- Сумма сборов была минимальной с 2010 по 2013 гг., а максимальной в 2018 году (сумма сборов почти равна 50 млрд. руб.), с ростом кол-ва фильмов стали расти и кассовые сборы;\n",
    "- Медиана и среднее значение оставались одинаковыми до 2013 года, далее при резком росте кол-ва фильма проката среднее стало расти, а медиана осталась невысокой, что связано с тем, что фильмы имею разные кассовые сборы. В 2017 году получен максимальный показатель;\n",
    "- Лидером сборов является категория 16+, несмотря на спад с 2017 года, который мог быть связан с присвоением большинства фильмов категории 12+. Категории 6+, 12+, 16+ наиболее популярны, так как расчитаны на широкую аудитории, чем фильмы категории 0+ и 18+.\n",
    "\n",
    "Исследование фильмов, которые получили государственную поддержку показало:\n",
    "\n",
    "- Количество фильмов, снятых с гос. поддержкой составляет 4,4% от всех фильмов, выпущенных в прокат за весь период;\n",
    "- Большинство поддерживаемых фильмов относиться к жанрам драма и комедии;\n",
    "- У фильмов в жанре криминал и деткий рейтинг выше 7, а у жанра ужасы самая низкая оценка;\n",
    "- Большинство фильмом снятых с гос. поддержкой имеют возрастное ограничение 16+, таких фильмов было выпущено больше всего;\n",
    "- Большинство фильмов относится к художественным;\n",
    "- В 2015 году было профинансировано 86 фильмов, в последующие годы кол-во фильмов с поддержкой варьировалось от 61 до 70;\n",
    "- Больше всего средств выделяется на жанры история, спорт и фантастика , меньше всего на мелодрамы и детские фильм;\n",
    "- В 2013 и 2014 выделялось меньше всего средств на финансирование фильмов, затем суммы гос. поддержки резко увеличились и в 2019 году достигли максимального значения;\n",
    "- Фильмы с гос. поддержкой окупились только в 2017 и 2018 годах.\n"
   ]
  },
  {
   "cell_type": "code",
   "execution_count": null,
   "metadata": {},
   "outputs": [],
   "source": []
  }
 ],
 "metadata": {
  "ExecuteTimeLog": [
   {
    "duration": 537,
    "start_time": "2021-07-07T10:12:08.634Z"
   },
   {
    "duration": 206,
    "start_time": "2021-07-07T10:12:30.191Z"
   },
   {
    "duration": 227,
    "start_time": "2021-07-07T10:12:33.078Z"
   },
   {
    "duration": 153,
    "start_time": "2021-07-07T10:13:42.146Z"
   },
   {
    "duration": 233,
    "start_time": "2021-07-07T10:30:09.252Z"
   },
   {
    "duration": 19,
    "start_time": "2021-07-07T10:30:15.577Z"
   },
   {
    "duration": 18,
    "start_time": "2021-07-07T10:30:57.348Z"
   },
   {
    "duration": 19,
    "start_time": "2021-07-07T10:31:17.452Z"
   },
   {
    "duration": 21,
    "start_time": "2021-07-07T10:31:32.227Z"
   },
   {
    "duration": 27,
    "start_time": "2021-07-07T10:32:06.588Z"
   },
   {
    "duration": 23,
    "start_time": "2021-07-07T10:32:43.645Z"
   },
   {
    "duration": 24,
    "start_time": "2021-07-07T10:33:06.948Z"
   },
   {
    "duration": 7,
    "start_time": "2021-07-07T10:33:28.558Z"
   },
   {
    "duration": 23,
    "start_time": "2021-07-07T10:33:43.761Z"
   },
   {
    "duration": 28,
    "start_time": "2021-07-07T10:34:13.466Z"
   },
   {
    "duration": 23,
    "start_time": "2021-07-07T10:35:56.187Z"
   },
   {
    "duration": 6,
    "start_time": "2021-07-07T10:36:48.182Z"
   },
   {
    "duration": 14,
    "start_time": "2021-07-07T10:37:49.641Z"
   },
   {
    "duration": 6,
    "start_time": "2021-07-07T10:38:06.694Z"
   },
   {
    "duration": 6,
    "start_time": "2021-07-07T10:38:13.493Z"
   },
   {
    "duration": 19,
    "start_time": "2021-07-07T10:38:44.056Z"
   },
   {
    "duration": 186,
    "start_time": "2021-07-07T10:48:35.618Z"
   },
   {
    "duration": 24,
    "start_time": "2021-07-07T10:48:51.498Z"
   },
   {
    "duration": 20,
    "start_time": "2021-07-07T10:48:59.415Z"
   },
   {
    "duration": 20,
    "start_time": "2021-07-07T10:53:02.195Z"
   },
   {
    "duration": 188,
    "start_time": "2021-07-07T10:54:40.486Z"
   },
   {
    "duration": 115,
    "start_time": "2021-07-07T10:54:52.552Z"
   },
   {
    "duration": 214,
    "start_time": "2021-07-07T10:54:56.354Z"
   },
   {
    "duration": 47,
    "start_time": "2021-07-07T10:54:58.282Z"
   },
   {
    "duration": 217,
    "start_time": "2021-07-07T10:59:16.075Z"
   },
   {
    "duration": 51,
    "start_time": "2021-07-07T10:59:16.243Z"
   },
   {
    "duration": 578,
    "start_time": "2021-07-07T10:59:18.774Z"
   },
   {
    "duration": 161,
    "start_time": "2021-07-07T10:59:21.238Z"
   },
   {
    "duration": 59,
    "start_time": "2021-07-07T10:59:21.453Z"
   },
   {
    "duration": 3,
    "start_time": "2021-07-07T11:02:10.786Z"
   },
   {
    "duration": 13,
    "start_time": "2021-07-07T11:07:07.722Z"
   },
   {
    "duration": 26,
    "start_time": "2021-07-07T11:07:17.958Z"
   },
   {
    "duration": 22,
    "start_time": "2021-07-07T11:08:17.939Z"
   },
   {
    "duration": 212,
    "start_time": "2021-07-07T11:08:19.665Z"
   },
   {
    "duration": 21,
    "start_time": "2021-07-07T11:08:29.945Z"
   },
   {
    "duration": 31,
    "start_time": "2021-07-07T11:08:38.899Z"
   },
   {
    "duration": 23,
    "start_time": "2021-07-07T11:08:54.527Z"
   },
   {
    "duration": 8,
    "start_time": "2021-07-07T11:18:55.974Z"
   },
   {
    "duration": 7,
    "start_time": "2021-07-07T11:19:03.639Z"
   },
   {
    "duration": 7,
    "start_time": "2021-07-07T11:19:06.444Z"
   },
   {
    "duration": 578,
    "start_time": "2021-07-07T12:09:59.576Z"
   },
   {
    "duration": 195,
    "start_time": "2021-07-07T12:10:00.156Z"
   },
   {
    "duration": 115,
    "start_time": "2021-07-07T12:10:00.353Z"
   },
   {
    "duration": 3,
    "start_time": "2021-07-07T12:10:00.470Z"
   },
   {
    "duration": 32,
    "start_time": "2021-07-07T12:10:00.474Z"
   },
   {
    "duration": 23,
    "start_time": "2021-07-07T12:10:00.508Z"
   },
   {
    "duration": 19,
    "start_time": "2021-07-07T12:10:00.533Z"
   },
   {
    "duration": 44,
    "start_time": "2021-07-07T12:10:00.553Z"
   },
   {
    "duration": 7,
    "start_time": "2021-07-07T12:10:00.600Z"
   },
   {
    "duration": 7,
    "start_time": "2021-07-07T12:19:45.761Z"
   },
   {
    "duration": 21,
    "start_time": "2021-07-07T12:21:35.482Z"
   },
   {
    "duration": 21,
    "start_time": "2021-07-07T12:29:23.569Z"
   },
   {
    "duration": 525,
    "start_time": "2021-07-07T12:29:44.542Z"
   },
   {
    "duration": 214,
    "start_time": "2021-07-07T12:29:45.069Z"
   },
   {
    "duration": 92,
    "start_time": "2021-07-07T12:29:45.285Z"
   },
   {
    "duration": 3,
    "start_time": "2021-07-07T12:29:45.379Z"
   },
   {
    "duration": 28,
    "start_time": "2021-07-07T12:29:45.384Z"
   },
   {
    "duration": 23,
    "start_time": "2021-07-07T12:29:45.413Z"
   },
   {
    "duration": 21,
    "start_time": "2021-07-07T12:29:45.437Z"
   },
   {
    "duration": 41,
    "start_time": "2021-07-07T12:29:45.460Z"
   },
   {
    "duration": 7,
    "start_time": "2021-07-07T12:29:45.502Z"
   },
   {
    "duration": 20,
    "start_time": "2021-07-07T12:29:45.511Z"
   },
   {
    "duration": 12,
    "start_time": "2021-07-07T12:34:02.800Z"
   },
   {
    "duration": 7,
    "start_time": "2021-07-07T12:35:10.479Z"
   },
   {
    "duration": 8,
    "start_time": "2021-07-07T12:35:22.440Z"
   },
   {
    "duration": 6,
    "start_time": "2021-07-07T12:35:35.649Z"
   },
   {
    "duration": 6,
    "start_time": "2021-07-07T12:35:43.107Z"
   },
   {
    "duration": 22,
    "start_time": "2021-07-07T12:38:03.029Z"
   },
   {
    "duration": 10,
    "start_time": "2021-07-07T12:38:06.592Z"
   },
   {
    "duration": 563,
    "start_time": "2021-07-07T12:38:46.493Z"
   },
   {
    "duration": 265,
    "start_time": "2021-07-07T12:38:47.058Z"
   },
   {
    "duration": 94,
    "start_time": "2021-07-07T12:38:47.325Z"
   },
   {
    "duration": 3,
    "start_time": "2021-07-07T12:38:47.422Z"
   },
   {
    "duration": 30,
    "start_time": "2021-07-07T12:38:47.427Z"
   },
   {
    "duration": 16,
    "start_time": "2021-07-07T12:38:53.305Z"
   },
   {
    "duration": 10,
    "start_time": "2021-07-07T12:38:53.499Z"
   },
   {
    "duration": 8,
    "start_time": "2021-07-07T12:39:48.161Z"
   },
   {
    "duration": 27,
    "start_time": "2021-07-07T12:41:17.629Z"
   },
   {
    "duration": 17,
    "start_time": "2021-07-07T12:41:17.867Z"
   },
   {
    "duration": 21,
    "start_time": "2021-07-07T12:41:19.310Z"
   },
   {
    "duration": 7,
    "start_time": "2021-07-07T12:41:19.544Z"
   },
   {
    "duration": 20,
    "start_time": "2021-07-07T12:41:20.504Z"
   },
   {
    "duration": 554,
    "start_time": "2021-07-07T12:56:23.696Z"
   },
   {
    "duration": 200,
    "start_time": "2021-07-07T12:56:25.234Z"
   },
   {
    "duration": 119,
    "start_time": "2021-07-07T12:56:25.480Z"
   },
   {
    "duration": 4,
    "start_time": "2021-07-07T12:56:25.762Z"
   },
   {
    "duration": 26,
    "start_time": "2021-07-07T12:56:27.172Z"
   },
   {
    "duration": 12,
    "start_time": "2021-07-07T12:56:29.051Z"
   },
   {
    "duration": 10,
    "start_time": "2021-07-07T12:56:29.291Z"
   },
   {
    "duration": 8,
    "start_time": "2021-07-07T12:56:29.623Z"
   },
   {
    "duration": 28,
    "start_time": "2021-07-07T12:56:32.137Z"
   },
   {
    "duration": 19,
    "start_time": "2021-07-07T12:56:39.785Z"
   },
   {
    "duration": 20,
    "start_time": "2021-07-07T12:56:44.297Z"
   },
   {
    "duration": 7,
    "start_time": "2021-07-07T12:56:45.392Z"
   },
   {
    "duration": 23,
    "start_time": "2021-07-07T12:56:46.615Z"
   },
   {
    "duration": 4,
    "start_time": "2021-07-07T12:57:06.625Z"
   },
   {
    "duration": 32,
    "start_time": "2021-07-07T12:57:36.690Z"
   },
   {
    "duration": 18,
    "start_time": "2021-07-07T12:58:00.149Z"
   },
   {
    "duration": 15,
    "start_time": "2021-07-07T12:59:16.793Z"
   },
   {
    "duration": 7,
    "start_time": "2021-07-07T13:19:22.624Z"
   },
   {
    "duration": 6,
    "start_time": "2021-07-07T14:17:33.527Z"
   },
   {
    "duration": 9,
    "start_time": "2021-07-07T14:17:48.409Z"
   },
   {
    "duration": 8,
    "start_time": "2021-07-07T14:20:13.060Z"
   },
   {
    "duration": 8,
    "start_time": "2021-07-07T14:20:37.957Z"
   },
   {
    "duration": 8,
    "start_time": "2021-07-07T14:20:47.470Z"
   },
   {
    "duration": 9,
    "start_time": "2021-07-07T14:20:54.503Z"
   },
   {
    "duration": 10,
    "start_time": "2021-07-07T14:28:57.763Z"
   },
   {
    "duration": 3,
    "start_time": "2021-07-07T14:30:23.377Z"
   },
   {
    "duration": 3,
    "start_time": "2021-07-07T14:30:36.489Z"
   },
   {
    "duration": 103,
    "start_time": "2021-07-07T14:30:52.351Z"
   },
   {
    "duration": 8,
    "start_time": "2021-07-07T14:30:54.763Z"
   },
   {
    "duration": 8,
    "start_time": "2021-07-07T14:31:29.301Z"
   },
   {
    "duration": 13,
    "start_time": "2021-07-07T14:31:44.516Z"
   },
   {
    "duration": 7,
    "start_time": "2021-07-07T14:33:10.972Z"
   },
   {
    "duration": 11,
    "start_time": "2021-07-07T14:33:27.780Z"
   },
   {
    "duration": 8,
    "start_time": "2021-07-07T14:34:44.588Z"
   },
   {
    "duration": 57,
    "start_time": "2021-07-07T14:35:59.042Z"
   },
   {
    "duration": 3,
    "start_time": "2021-07-07T14:36:28.168Z"
   },
   {
    "duration": 5,
    "start_time": "2021-07-07T14:36:46.254Z"
   },
   {
    "duration": 4,
    "start_time": "2021-07-07T14:36:52.714Z"
   },
   {
    "duration": 3,
    "start_time": "2021-07-07T14:36:56.612Z"
   },
   {
    "duration": 4,
    "start_time": "2021-07-07T14:36:57.049Z"
   },
   {
    "duration": 3,
    "start_time": "2021-07-07T14:39:21.214Z"
   },
   {
    "duration": 7,
    "start_time": "2021-07-07T14:39:52.406Z"
   },
   {
    "duration": 11,
    "start_time": "2021-07-07T14:39:58.576Z"
   },
   {
    "duration": 9,
    "start_time": "2021-07-07T14:40:26.301Z"
   },
   {
    "duration": 10,
    "start_time": "2021-07-07T14:40:31.704Z"
   },
   {
    "duration": 11,
    "start_time": "2021-07-07T14:40:36.249Z"
   },
   {
    "duration": 10,
    "start_time": "2021-07-07T14:40:39.783Z"
   },
   {
    "duration": 9,
    "start_time": "2021-07-07T14:40:48.558Z"
   },
   {
    "duration": 10,
    "start_time": "2021-07-07T14:40:57.143Z"
   },
   {
    "duration": 9,
    "start_time": "2021-07-07T14:41:06.074Z"
   },
   {
    "duration": 4324,
    "start_time": "2021-07-07T14:41:22.004Z"
   },
   {
    "duration": 11,
    "start_time": "2021-07-07T14:41:33.392Z"
   },
   {
    "duration": 9,
    "start_time": "2021-07-07T14:41:39.288Z"
   },
   {
    "duration": 569,
    "start_time": "2021-07-07T14:42:14.387Z"
   },
   {
    "duration": 197,
    "start_time": "2021-07-07T14:42:14.959Z"
   },
   {
    "duration": 84,
    "start_time": "2021-07-07T14:42:16.052Z"
   },
   {
    "duration": 4,
    "start_time": "2021-07-07T14:42:16.900Z"
   },
   {
    "duration": 27,
    "start_time": "2021-07-07T14:42:19.898Z"
   },
   {
    "duration": 12,
    "start_time": "2021-07-07T14:42:21.577Z"
   },
   {
    "duration": 9,
    "start_time": "2021-07-07T14:42:21.813Z"
   },
   {
    "duration": 9,
    "start_time": "2021-07-07T14:42:22.569Z"
   },
   {
    "duration": 29,
    "start_time": "2021-07-07T14:42:25.837Z"
   },
   {
    "duration": 20,
    "start_time": "2021-07-07T14:42:27.003Z"
   },
   {
    "duration": 21,
    "start_time": "2021-07-07T14:42:28.767Z"
   },
   {
    "duration": 7,
    "start_time": "2021-07-07T14:42:29.838Z"
   },
   {
    "duration": 4,
    "start_time": "2021-07-07T14:43:25.493Z"
   },
   {
    "duration": 7,
    "start_time": "2021-07-07T14:43:26.573Z"
   },
   {
    "duration": 10,
    "start_time": "2021-07-07T14:43:31.639Z"
   },
   {
    "duration": 9,
    "start_time": "2021-07-07T14:43:32.046Z"
   },
   {
    "duration": 10,
    "start_time": "2021-07-07T14:43:33.301Z"
   },
   {
    "duration": 12,
    "start_time": "2021-07-07T14:43:33.658Z"
   },
   {
    "duration": 8,
    "start_time": "2021-07-07T14:43:34.552Z"
   },
   {
    "duration": 9,
    "start_time": "2021-07-07T14:43:35.058Z"
   },
   {
    "duration": 12,
    "start_time": "2021-07-07T14:43:35.914Z"
   },
   {
    "duration": 17,
    "start_time": "2021-07-07T14:45:34.368Z"
   },
   {
    "duration": 512,
    "start_time": "2021-07-07T14:51:58.236Z"
   },
   {
    "duration": 223,
    "start_time": "2021-07-07T14:51:58.750Z"
   },
   {
    "duration": 93,
    "start_time": "2021-07-07T14:51:58.977Z"
   },
   {
    "duration": 4,
    "start_time": "2021-07-07T14:51:59.071Z"
   },
   {
    "duration": 37,
    "start_time": "2021-07-07T14:51:59.077Z"
   },
   {
    "duration": 18,
    "start_time": "2021-07-07T14:51:59.116Z"
   },
   {
    "duration": 10,
    "start_time": "2021-07-07T14:51:59.137Z"
   },
   {
    "duration": 8,
    "start_time": "2021-07-07T14:51:59.149Z"
   },
   {
    "duration": 54,
    "start_time": "2021-07-07T14:51:59.158Z"
   },
   {
    "duration": 18,
    "start_time": "2021-07-07T14:51:59.213Z"
   },
   {
    "duration": 22,
    "start_time": "2021-07-07T14:51:59.232Z"
   },
   {
    "duration": 36,
    "start_time": "2021-07-07T14:51:59.255Z"
   },
   {
    "duration": 7,
    "start_time": "2021-07-07T14:51:59.293Z"
   },
   {
    "duration": 10,
    "start_time": "2021-07-07T14:51:59.302Z"
   },
   {
    "duration": 9,
    "start_time": "2021-07-07T14:51:59.313Z"
   },
   {
    "duration": 11,
    "start_time": "2021-07-07T14:51:59.324Z"
   },
   {
    "duration": 8,
    "start_time": "2021-07-07T14:51:59.337Z"
   },
   {
    "duration": 46,
    "start_time": "2021-07-07T14:51:59.347Z"
   },
   {
    "duration": 22,
    "start_time": "2021-07-07T14:51:59.395Z"
   },
   {
    "duration": 24,
    "start_time": "2021-07-07T14:57:32.911Z"
   },
   {
    "duration": 7,
    "start_time": "2021-07-07T14:58:22.070Z"
   },
   {
    "duration": 4,
    "start_time": "2021-07-07T14:59:11.239Z"
   },
   {
    "duration": 25,
    "start_time": "2021-07-07T15:07:22.208Z"
   },
   {
    "duration": 16,
    "start_time": "2021-07-07T15:08:25.560Z"
   },
   {
    "duration": 15,
    "start_time": "2021-07-07T15:08:40.647Z"
   },
   {
    "duration": 14,
    "start_time": "2021-07-07T15:08:46.669Z"
   },
   {
    "duration": 533,
    "start_time": "2021-07-07T15:18:07.440Z"
   },
   {
    "duration": 173,
    "start_time": "2021-07-07T15:18:07.974Z"
   },
   {
    "duration": 84,
    "start_time": "2021-07-07T15:18:08.149Z"
   },
   {
    "duration": 3,
    "start_time": "2021-07-07T15:18:08.235Z"
   },
   {
    "duration": 30,
    "start_time": "2021-07-07T15:18:08.240Z"
   },
   {
    "duration": 22,
    "start_time": "2021-07-07T15:18:08.272Z"
   },
   {
    "duration": 11,
    "start_time": "2021-07-07T15:18:08.295Z"
   },
   {
    "duration": 11,
    "start_time": "2021-07-07T15:18:08.309Z"
   },
   {
    "duration": 40,
    "start_time": "2021-07-07T15:18:08.322Z"
   },
   {
    "duration": 42,
    "start_time": "2021-07-07T15:18:08.364Z"
   },
   {
    "duration": 22,
    "start_time": "2021-07-07T15:18:08.408Z"
   },
   {
    "duration": 5,
    "start_time": "2021-07-07T15:18:08.432Z"
   },
   {
    "duration": 13,
    "start_time": "2021-07-07T15:18:08.439Z"
   },
   {
    "duration": 9,
    "start_time": "2021-07-07T15:18:08.454Z"
   },
   {
    "duration": 32,
    "start_time": "2021-07-07T15:18:08.465Z"
   },
   {
    "duration": 10,
    "start_time": "2021-07-07T15:18:08.501Z"
   },
   {
    "duration": 7,
    "start_time": "2021-07-07T15:18:08.513Z"
   },
   {
    "duration": 11,
    "start_time": "2021-07-07T15:18:08.521Z"
   },
   {
    "duration": 17,
    "start_time": "2021-07-07T15:18:08.534Z"
   },
   {
    "duration": 44,
    "start_time": "2021-07-07T15:18:08.553Z"
   },
   {
    "duration": 22,
    "start_time": "2021-07-07T15:18:08.599Z"
   },
   {
    "duration": 61,
    "start_time": "2021-07-07T15:18:08.622Z"
   },
   {
    "duration": 7,
    "start_time": "2021-07-07T15:18:39.457Z"
   },
   {
    "duration": 5,
    "start_time": "2021-07-07T16:05:17.020Z"
   },
   {
    "duration": 5,
    "start_time": "2021-07-07T16:51:28.794Z"
   },
   {
    "duration": 546,
    "start_time": "2021-07-07T16:52:26.306Z"
   },
   {
    "duration": 203,
    "start_time": "2021-07-07T16:52:27.523Z"
   },
   {
    "duration": 85,
    "start_time": "2021-07-07T16:52:27.736Z"
   },
   {
    "duration": 4,
    "start_time": "2021-07-07T16:52:27.899Z"
   },
   {
    "duration": 25,
    "start_time": "2021-07-07T16:52:28.674Z"
   },
   {
    "duration": 8,
    "start_time": "2021-07-07T16:52:32.956Z"
   },
   {
    "duration": 18,
    "start_time": "2021-07-07T16:52:35.616Z"
   },
   {
    "duration": 6,
    "start_time": "2021-07-07T16:52:36.913Z"
   },
   {
    "duration": 11,
    "start_time": "2021-07-07T16:52:40.258Z"
   },
   {
    "duration": 10,
    "start_time": "2021-07-07T16:52:46.251Z"
   },
   {
    "duration": 8,
    "start_time": "2021-07-07T16:52:47.182Z"
   },
   {
    "duration": 27,
    "start_time": "2021-07-07T16:53:20.391Z"
   },
   {
    "duration": 20,
    "start_time": "2021-07-07T16:53:22.022Z"
   },
   {
    "duration": 23,
    "start_time": "2021-07-07T16:53:23.690Z"
   },
   {
    "duration": 8,
    "start_time": "2021-07-07T16:53:24.261Z"
   },
   {
    "duration": 4,
    "start_time": "2021-07-07T16:53:38.733Z"
   },
   {
    "duration": 7,
    "start_time": "2021-07-07T16:53:40.445Z"
   },
   {
    "duration": 11,
    "start_time": "2021-07-07T16:53:41.348Z"
   },
   {
    "duration": 13,
    "start_time": "2021-07-07T16:53:45.250Z"
   },
   {
    "duration": 12,
    "start_time": "2021-07-07T16:53:45.467Z"
   },
   {
    "duration": 4,
    "start_time": "2021-07-07T16:55:32.704Z"
   },
   {
    "duration": 12,
    "start_time": "2021-07-07T16:55:49.012Z"
   },
   {
    "duration": 18,
    "start_time": "2021-07-07T16:55:49.547Z"
   },
   {
    "duration": 611,
    "start_time": "2021-07-07T16:58:35.156Z"
   },
   {
    "duration": 200,
    "start_time": "2021-07-07T16:58:35.770Z"
   },
   {
    "duration": 86,
    "start_time": "2021-07-07T16:58:35.972Z"
   },
   {
    "duration": 3,
    "start_time": "2021-07-07T16:58:36.060Z"
   },
   {
    "duration": 27,
    "start_time": "2021-07-07T16:58:36.065Z"
   },
   {
    "duration": 8,
    "start_time": "2021-07-07T16:58:36.094Z"
   },
   {
    "duration": 17,
    "start_time": "2021-07-07T16:58:36.103Z"
   },
   {
    "duration": 5,
    "start_time": "2021-07-07T16:58:36.123Z"
   },
   {
    "duration": 11,
    "start_time": "2021-07-07T16:58:36.130Z"
   },
   {
    "duration": 7,
    "start_time": "2021-07-07T16:58:36.143Z"
   },
   {
    "duration": 37,
    "start_time": "2021-07-07T16:58:36.152Z"
   },
   {
    "duration": 27,
    "start_time": "2021-07-07T16:58:36.191Z"
   },
   {
    "duration": 19,
    "start_time": "2021-07-07T16:58:36.219Z"
   },
   {
    "duration": 49,
    "start_time": "2021-07-07T16:58:36.240Z"
   },
   {
    "duration": 6,
    "start_time": "2021-07-07T16:58:36.291Z"
   },
   {
    "duration": 3,
    "start_time": "2021-07-07T16:58:36.299Z"
   },
   {
    "duration": 13,
    "start_time": "2021-07-07T16:58:36.304Z"
   },
   {
    "duration": 10,
    "start_time": "2021-07-07T16:58:36.319Z"
   },
   {
    "duration": 10,
    "start_time": "2021-07-07T16:58:36.331Z"
   },
   {
    "duration": 44,
    "start_time": "2021-07-07T16:58:36.343Z"
   },
   {
    "duration": 4,
    "start_time": "2021-07-07T16:58:36.388Z"
   },
   {
    "duration": 13,
    "start_time": "2021-07-07T16:58:36.394Z"
   },
   {
    "duration": 16,
    "start_time": "2021-07-07T16:58:36.410Z"
   },
   {
    "duration": 8,
    "start_time": "2021-07-07T17:02:31.629Z"
   },
   {
    "duration": 8,
    "start_time": "2021-07-07T17:02:34.308Z"
   },
   {
    "duration": 6,
    "start_time": "2021-07-07T17:05:13.483Z"
   },
   {
    "duration": 17,
    "start_time": "2021-07-07T17:05:20.606Z"
   },
   {
    "duration": 7,
    "start_time": "2021-07-07T17:05:34.638Z"
   },
   {
    "duration": 3,
    "start_time": "2021-07-07T17:06:31.883Z"
   },
   {
    "duration": 570,
    "start_time": "2021-07-07T17:06:37.165Z"
   },
   {
    "duration": 174,
    "start_time": "2021-07-07T17:06:37.737Z"
   },
   {
    "duration": 47,
    "start_time": "2021-07-07T17:06:37.913Z"
   },
   {
    "duration": 3,
    "start_time": "2021-07-07T17:06:37.962Z"
   },
   {
    "duration": 27,
    "start_time": "2021-07-07T17:06:37.967Z"
   },
   {
    "duration": 7,
    "start_time": "2021-07-07T17:06:37.996Z"
   },
   {
    "duration": 16,
    "start_time": "2021-07-07T17:06:38.005Z"
   },
   {
    "duration": 6,
    "start_time": "2021-07-07T17:06:38.024Z"
   },
   {
    "duration": 12,
    "start_time": "2021-07-07T17:06:38.031Z"
   },
   {
    "duration": 41,
    "start_time": "2021-07-07T17:06:38.045Z"
   },
   {
    "duration": 8,
    "start_time": "2021-07-07T17:06:38.088Z"
   },
   {
    "duration": 26,
    "start_time": "2021-07-07T17:06:38.098Z"
   },
   {
    "duration": 17,
    "start_time": "2021-07-07T17:06:38.126Z"
   },
   {
    "duration": 43,
    "start_time": "2021-07-07T17:06:38.144Z"
   },
   {
    "duration": 6,
    "start_time": "2021-07-07T17:06:38.188Z"
   },
   {
    "duration": 5,
    "start_time": "2021-07-07T17:06:38.195Z"
   },
   {
    "duration": 9,
    "start_time": "2021-07-07T17:06:38.201Z"
   },
   {
    "duration": 12,
    "start_time": "2021-07-07T17:06:38.212Z"
   },
   {
    "duration": 11,
    "start_time": "2021-07-07T17:06:38.226Z"
   },
   {
    "duration": 47,
    "start_time": "2021-07-07T17:06:38.239Z"
   },
   {
    "duration": 4,
    "start_time": "2021-07-07T17:06:38.288Z"
   },
   {
    "duration": 13,
    "start_time": "2021-07-07T17:06:38.293Z"
   },
   {
    "duration": 5,
    "start_time": "2021-07-07T17:06:38.309Z"
   },
   {
    "duration": 18,
    "start_time": "2021-07-07T17:06:38.325Z"
   },
   {
    "duration": 20,
    "start_time": "2021-07-07T17:07:02.805Z"
   },
   {
    "duration": 19,
    "start_time": "2021-07-07T17:07:08.527Z"
   },
   {
    "duration": 19,
    "start_time": "2021-07-07T17:07:12.758Z"
   },
   {
    "duration": 22,
    "start_time": "2021-07-07T17:07:17.497Z"
   },
   {
    "duration": 19,
    "start_time": "2021-07-07T17:07:19.645Z"
   },
   {
    "duration": 10,
    "start_time": "2021-07-07T17:07:34.239Z"
   },
   {
    "duration": 17,
    "start_time": "2021-07-07T17:07:54.144Z"
   },
   {
    "duration": 14,
    "start_time": "2021-07-07T17:08:14.357Z"
   },
   {
    "duration": 616,
    "start_time": "2021-07-07T17:08:45.254Z"
   },
   {
    "duration": 178,
    "start_time": "2021-07-07T17:08:45.872Z"
   },
   {
    "duration": 60,
    "start_time": "2021-07-07T17:08:46.054Z"
   },
   {
    "duration": 3,
    "start_time": "2021-07-07T17:08:46.116Z"
   },
   {
    "duration": 26,
    "start_time": "2021-07-07T17:08:46.121Z"
   },
   {
    "duration": 7,
    "start_time": "2021-07-07T17:08:46.149Z"
   },
   {
    "duration": 17,
    "start_time": "2021-07-07T17:08:46.158Z"
   },
   {
    "duration": 14,
    "start_time": "2021-07-07T17:08:46.176Z"
   },
   {
    "duration": 17,
    "start_time": "2021-07-07T17:08:46.193Z"
   },
   {
    "duration": 9,
    "start_time": "2021-07-07T17:08:46.211Z"
   },
   {
    "duration": 21,
    "start_time": "2021-07-07T17:08:46.221Z"
   },
   {
    "duration": 49,
    "start_time": "2021-07-07T17:08:46.244Z"
   },
   {
    "duration": 24,
    "start_time": "2021-07-07T17:08:46.295Z"
   },
   {
    "duration": 22,
    "start_time": "2021-07-07T17:08:46.321Z"
   },
   {
    "duration": 6,
    "start_time": "2021-07-07T17:08:46.345Z"
   },
   {
    "duration": 5,
    "start_time": "2021-07-07T17:08:46.353Z"
   },
   {
    "duration": 13,
    "start_time": "2021-07-07T17:08:46.386Z"
   },
   {
    "duration": 12,
    "start_time": "2021-07-07T17:08:46.402Z"
   },
   {
    "duration": 10,
    "start_time": "2021-07-07T17:08:46.415Z"
   },
   {
    "duration": 7,
    "start_time": "2021-07-07T17:08:46.427Z"
   },
   {
    "duration": 8,
    "start_time": "2021-07-07T17:08:46.435Z"
   },
   {
    "duration": 68,
    "start_time": "2021-07-07T17:08:46.446Z"
   },
   {
    "duration": 13,
    "start_time": "2021-07-07T17:08:46.516Z"
   },
   {
    "duration": 78,
    "start_time": "2021-07-07T17:08:46.530Z"
   },
   {
    "duration": 40,
    "start_time": "2021-07-07T17:09:08.185Z"
   },
   {
    "duration": 16,
    "start_time": "2021-07-07T17:09:19.324Z"
   },
   {
    "duration": 21,
    "start_time": "2021-07-07T17:09:23.290Z"
   },
   {
    "duration": 13,
    "start_time": "2021-07-07T17:09:54.812Z"
   },
   {
    "duration": 13,
    "start_time": "2021-07-07T17:10:02.039Z"
   },
   {
    "duration": 10,
    "start_time": "2021-07-07T17:10:29.632Z"
   },
   {
    "duration": 13,
    "start_time": "2021-07-07T17:10:52.372Z"
   },
   {
    "duration": 13,
    "start_time": "2021-07-07T17:11:17.270Z"
   },
   {
    "duration": 13,
    "start_time": "2021-07-07T17:14:59.284Z"
   },
   {
    "duration": 547,
    "start_time": "2021-07-07T17:18:52.403Z"
   },
   {
    "duration": 163,
    "start_time": "2021-07-07T17:18:52.952Z"
   },
   {
    "duration": 44,
    "start_time": "2021-07-07T17:18:53.117Z"
   },
   {
    "duration": 3,
    "start_time": "2021-07-07T17:18:53.162Z"
   },
   {
    "duration": 26,
    "start_time": "2021-07-07T17:18:53.167Z"
   },
   {
    "duration": 6,
    "start_time": "2021-07-07T17:18:53.195Z"
   },
   {
    "duration": 15,
    "start_time": "2021-07-07T17:18:53.203Z"
   },
   {
    "duration": 5,
    "start_time": "2021-07-07T17:18:53.220Z"
   },
   {
    "duration": 11,
    "start_time": "2021-07-07T17:18:53.228Z"
   },
   {
    "duration": 9,
    "start_time": "2021-07-07T17:18:53.241Z"
   },
   {
    "duration": 41,
    "start_time": "2021-07-07T17:18:53.252Z"
   },
   {
    "duration": 33,
    "start_time": "2021-07-07T17:18:53.295Z"
   },
   {
    "duration": 19,
    "start_time": "2021-07-07T17:18:53.330Z"
   },
   {
    "duration": 49,
    "start_time": "2021-07-07T17:18:53.350Z"
   },
   {
    "duration": 5,
    "start_time": "2021-07-07T17:18:53.401Z"
   },
   {
    "duration": 5,
    "start_time": "2021-07-07T17:18:53.408Z"
   },
   {
    "duration": 11,
    "start_time": "2021-07-07T17:18:53.414Z"
   },
   {
    "duration": 9,
    "start_time": "2021-07-07T17:18:53.427Z"
   },
   {
    "duration": 10,
    "start_time": "2021-07-07T17:18:53.437Z"
   },
   {
    "duration": 39,
    "start_time": "2021-07-07T17:18:53.448Z"
   },
   {
    "duration": 26,
    "start_time": "2021-07-07T17:18:55.799Z"
   },
   {
    "duration": 598,
    "start_time": "2021-07-07T17:20:17.862Z"
   },
   {
    "duration": 161,
    "start_time": "2021-07-07T17:20:18.462Z"
   },
   {
    "duration": 45,
    "start_time": "2021-07-07T17:20:18.626Z"
   },
   {
    "duration": 4,
    "start_time": "2021-07-07T17:20:18.673Z"
   },
   {
    "duration": 38,
    "start_time": "2021-07-07T17:20:26.877Z"
   },
   {
    "duration": 7,
    "start_time": "2021-07-07T17:20:37.405Z"
   },
   {
    "duration": 19,
    "start_time": "2021-07-07T17:20:51.534Z"
   },
   {
    "duration": 5,
    "start_time": "2021-07-07T17:20:57.228Z"
   },
   {
    "duration": 7,
    "start_time": "2021-07-07T17:21:08.235Z"
   },
   {
    "duration": 19,
    "start_time": "2021-07-07T17:21:42.158Z"
   },
   {
    "duration": 14,
    "start_time": "2021-07-07T17:21:50.225Z"
   },
   {
    "duration": 22,
    "start_time": "2021-07-07T17:22:54.104Z"
   },
   {
    "duration": 5,
    "start_time": "2021-07-07T17:22:56.371Z"
   },
   {
    "duration": 14,
    "start_time": "2021-07-07T17:22:58.316Z"
   },
   {
    "duration": 5,
    "start_time": "2021-07-07T17:22:58.493Z"
   },
   {
    "duration": 35,
    "start_time": "2021-07-07T17:22:59.666Z"
   },
   {
    "duration": 6,
    "start_time": "2021-07-07T17:23:02.410Z"
   },
   {
    "duration": 611,
    "start_time": "2021-07-07T17:24:59.664Z"
   },
   {
    "duration": 178,
    "start_time": "2021-07-07T17:25:01.945Z"
   },
   {
    "duration": 47,
    "start_time": "2021-07-07T17:25:02.125Z"
   },
   {
    "duration": 2,
    "start_time": "2021-07-07T17:25:07.903Z"
   },
   {
    "duration": 254,
    "start_time": "2021-07-07T17:25:08.232Z"
   },
   {
    "duration": 182,
    "start_time": "2021-07-07T17:25:08.671Z"
   },
   {
    "duration": 6,
    "start_time": "2021-07-07T17:25:13.104Z"
   },
   {
    "duration": 36,
    "start_time": "2021-07-07T17:25:13.662Z"
   },
   {
    "duration": 7,
    "start_time": "2021-07-07T17:25:14.528Z"
   },
   {
    "duration": 24,
    "start_time": "2021-07-07T17:25:27.982Z"
   },
   {
    "duration": 3,
    "start_time": "2021-07-07T17:25:48.982Z"
   },
   {
    "duration": 165,
    "start_time": "2021-07-07T17:25:48.987Z"
   },
   {
    "duration": 50,
    "start_time": "2021-07-07T17:25:49.154Z"
   },
   {
    "duration": 4,
    "start_time": "2021-07-07T17:25:49.206Z"
   },
   {
    "duration": 26,
    "start_time": "2021-07-07T17:25:49.212Z"
   },
   {
    "duration": 7,
    "start_time": "2021-07-07T17:25:49.240Z"
   },
   {
    "duration": 16,
    "start_time": "2021-07-07T17:25:49.249Z"
   },
   {
    "duration": 22,
    "start_time": "2021-07-07T17:25:49.266Z"
   },
   {
    "duration": 16,
    "start_time": "2021-07-07T17:25:49.291Z"
   },
   {
    "duration": 9,
    "start_time": "2021-07-07T17:25:49.309Z"
   },
   {
    "duration": 7,
    "start_time": "2021-07-07T17:25:49.319Z"
   },
   {
    "duration": 28,
    "start_time": "2021-07-07T17:25:49.328Z"
   },
   {
    "duration": 44,
    "start_time": "2021-07-07T17:25:49.357Z"
   },
   {
    "duration": 22,
    "start_time": "2021-07-07T17:25:49.403Z"
   },
   {
    "duration": 7,
    "start_time": "2021-07-07T17:25:49.427Z"
   },
   {
    "duration": 3,
    "start_time": "2021-07-07T17:25:49.436Z"
   },
   {
    "duration": 44,
    "start_time": "2021-07-07T17:25:49.441Z"
   },
   {
    "duration": 12,
    "start_time": "2021-07-07T17:25:49.488Z"
   },
   {
    "duration": 13,
    "start_time": "2021-07-07T17:25:49.502Z"
   },
   {
    "duration": 10,
    "start_time": "2021-07-07T17:25:49.516Z"
   },
   {
    "duration": 62,
    "start_time": "2021-07-07T17:25:49.527Z"
   },
   {
    "duration": 26,
    "start_time": "2021-07-07T17:26:51.809Z"
   },
   {
    "duration": 26,
    "start_time": "2021-07-07T17:26:55.759Z"
   },
   {
    "duration": 26,
    "start_time": "2021-07-07T17:27:04.501Z"
   },
   {
    "duration": 25,
    "start_time": "2021-07-07T17:28:24.859Z"
   },
   {
    "duration": 21,
    "start_time": "2021-07-07T17:28:55.250Z"
   },
   {
    "duration": 21,
    "start_time": "2021-07-07T17:28:58.885Z"
   },
   {
    "duration": 7,
    "start_time": "2021-07-07T17:45:40.972Z"
   },
   {
    "duration": 13,
    "start_time": "2021-07-07T17:45:42.529Z"
   },
   {
    "duration": 27,
    "start_time": "2021-07-07T17:45:51.026Z"
   },
   {
    "duration": 518,
    "start_time": "2021-07-07T17:46:15.532Z"
   },
   {
    "duration": 235,
    "start_time": "2021-07-07T17:46:16.053Z"
   },
   {
    "duration": 80,
    "start_time": "2021-07-07T17:46:16.292Z"
   },
   {
    "duration": 5,
    "start_time": "2021-07-07T17:46:16.373Z"
   },
   {
    "duration": 26,
    "start_time": "2021-07-07T17:46:16.380Z"
   },
   {
    "duration": 7,
    "start_time": "2021-07-07T17:46:16.408Z"
   },
   {
    "duration": 16,
    "start_time": "2021-07-07T17:46:16.418Z"
   },
   {
    "duration": 5,
    "start_time": "2021-07-07T17:46:16.436Z"
   },
   {
    "duration": 13,
    "start_time": "2021-07-07T17:46:16.442Z"
   },
   {
    "duration": 35,
    "start_time": "2021-07-07T17:46:16.456Z"
   },
   {
    "duration": 8,
    "start_time": "2021-07-07T17:46:16.493Z"
   },
   {
    "duration": 28,
    "start_time": "2021-07-07T17:46:16.502Z"
   },
   {
    "duration": 17,
    "start_time": "2021-07-07T17:46:16.532Z"
   },
   {
    "duration": 44,
    "start_time": "2021-07-07T17:46:16.551Z"
   },
   {
    "duration": 6,
    "start_time": "2021-07-07T17:46:16.597Z"
   },
   {
    "duration": 4,
    "start_time": "2021-07-07T17:46:16.605Z"
   },
   {
    "duration": 9,
    "start_time": "2021-07-07T17:46:16.610Z"
   },
   {
    "duration": 9,
    "start_time": "2021-07-07T17:46:16.621Z"
   },
   {
    "duration": 10,
    "start_time": "2021-07-07T17:46:16.632Z"
   },
   {
    "duration": 43,
    "start_time": "2021-07-07T17:46:16.644Z"
   },
   {
    "duration": 26,
    "start_time": "2021-07-07T17:46:16.689Z"
   },
   {
    "duration": 19,
    "start_time": "2021-07-07T17:46:16.718Z"
   },
   {
    "duration": 8,
    "start_time": "2021-07-07T17:46:16.738Z"
   },
   {
    "duration": 43,
    "start_time": "2021-07-07T17:46:16.747Z"
   },
   {
    "duration": 19,
    "start_time": "2021-07-07T17:46:16.791Z"
   },
   {
    "duration": 9,
    "start_time": "2021-07-07T17:46:16.812Z"
   },
   {
    "duration": 60,
    "start_time": "2021-07-07T17:46:16.822Z"
   },
   {
    "duration": -8,
    "start_time": "2021-07-07T17:46:16.892Z"
   },
   {
    "duration": 12,
    "start_time": "2021-07-07T17:48:47.707Z"
   },
   {
    "duration": 553,
    "start_time": "2021-07-07T18:10:09.350Z"
   },
   {
    "duration": 230,
    "start_time": "2021-07-07T18:10:09.905Z"
   },
   {
    "duration": 97,
    "start_time": "2021-07-07T18:10:10.137Z"
   },
   {
    "duration": 5,
    "start_time": "2021-07-07T18:10:10.236Z"
   },
   {
    "duration": 29,
    "start_time": "2021-07-07T18:10:10.242Z"
   },
   {
    "duration": 7,
    "start_time": "2021-07-07T18:10:10.272Z"
   },
   {
    "duration": 15,
    "start_time": "2021-07-07T18:10:10.281Z"
   },
   {
    "duration": 4,
    "start_time": "2021-07-07T18:10:10.299Z"
   },
   {
    "duration": 14,
    "start_time": "2021-07-07T18:10:10.305Z"
   },
   {
    "duration": 8,
    "start_time": "2021-07-07T18:10:10.321Z"
   },
   {
    "duration": 8,
    "start_time": "2021-07-07T18:10:10.331Z"
   },
   {
    "duration": 56,
    "start_time": "2021-07-07T18:10:10.341Z"
   },
   {
    "duration": 19,
    "start_time": "2021-07-07T18:10:10.399Z"
   },
   {
    "duration": 23,
    "start_time": "2021-07-07T18:10:10.419Z"
   },
   {
    "duration": 6,
    "start_time": "2021-07-07T18:10:10.444Z"
   },
   {
    "duration": 9,
    "start_time": "2021-07-07T18:10:10.451Z"
   },
   {
    "duration": 30,
    "start_time": "2021-07-07T18:10:10.462Z"
   },
   {
    "duration": 9,
    "start_time": "2021-07-07T18:10:10.494Z"
   },
   {
    "duration": 14,
    "start_time": "2021-07-07T18:10:10.505Z"
   },
   {
    "duration": 7,
    "start_time": "2021-07-07T18:10:10.521Z"
   },
   {
    "duration": 26,
    "start_time": "2021-07-07T18:10:10.530Z"
   },
   {
    "duration": 44,
    "start_time": "2021-07-07T18:10:10.558Z"
   },
   {
    "duration": 7,
    "start_time": "2021-07-07T18:10:10.605Z"
   },
   {
    "duration": 11,
    "start_time": "2021-07-07T18:10:10.614Z"
   },
   {
    "duration": 19,
    "start_time": "2021-07-07T18:10:10.626Z"
   },
   {
    "duration": 44,
    "start_time": "2021-07-07T18:10:10.646Z"
   },
   {
    "duration": 516,
    "start_time": "2021-07-07T18:14:00.826Z"
   },
   {
    "duration": 230,
    "start_time": "2021-07-07T18:14:01.344Z"
   },
   {
    "duration": 105,
    "start_time": "2021-07-07T18:14:01.576Z"
   },
   {
    "duration": 5,
    "start_time": "2021-07-07T18:14:01.683Z"
   },
   {
    "duration": 46,
    "start_time": "2021-07-07T18:14:01.690Z"
   },
   {
    "duration": 7,
    "start_time": "2021-07-07T18:14:01.738Z"
   },
   {
    "duration": 20,
    "start_time": "2021-07-07T18:14:01.747Z"
   },
   {
    "duration": 16,
    "start_time": "2021-07-07T18:14:01.769Z"
   },
   {
    "duration": 14,
    "start_time": "2021-07-07T18:14:01.787Z"
   },
   {
    "duration": 15,
    "start_time": "2021-07-07T18:14:01.803Z"
   },
   {
    "duration": 12,
    "start_time": "2021-07-07T18:14:01.820Z"
   },
   {
    "duration": 35,
    "start_time": "2021-07-07T18:14:01.833Z"
   },
   {
    "duration": 31,
    "start_time": "2021-07-07T18:14:01.869Z"
   },
   {
    "duration": 37,
    "start_time": "2021-07-07T18:14:01.902Z"
   },
   {
    "duration": 8,
    "start_time": "2021-07-07T18:14:01.942Z"
   },
   {
    "duration": 16,
    "start_time": "2021-07-07T18:14:01.952Z"
   },
   {
    "duration": 13,
    "start_time": "2021-07-07T18:14:01.970Z"
   },
   {
    "duration": 32,
    "start_time": "2021-07-07T18:14:01.985Z"
   },
   {
    "duration": 11,
    "start_time": "2021-07-07T18:14:02.019Z"
   },
   {
    "duration": 22,
    "start_time": "2021-07-07T18:14:02.031Z"
   },
   {
    "duration": 27,
    "start_time": "2021-07-07T18:14:02.055Z"
   },
   {
    "duration": 18,
    "start_time": "2021-07-07T18:14:02.084Z"
   },
   {
    "duration": 18,
    "start_time": "2021-07-07T18:14:02.106Z"
   },
   {
    "duration": 11,
    "start_time": "2021-07-07T18:14:02.126Z"
   },
   {
    "duration": 21,
    "start_time": "2021-07-07T18:14:02.138Z"
   },
   {
    "duration": 32,
    "start_time": "2021-07-07T18:14:02.161Z"
   },
   {
    "duration": 28,
    "start_time": "2021-07-07T18:14:44.295Z"
   },
   {
    "duration": 6,
    "start_time": "2021-07-07T18:15:05.834Z"
   },
   {
    "duration": 511,
    "start_time": "2021-07-07T18:15:41.541Z"
   },
   {
    "duration": 183,
    "start_time": "2021-07-07T18:15:42.054Z"
   },
   {
    "duration": 50,
    "start_time": "2021-07-07T18:15:42.239Z"
   },
   {
    "duration": 5,
    "start_time": "2021-07-07T18:15:42.291Z"
   },
   {
    "duration": 48,
    "start_time": "2021-07-07T18:15:42.297Z"
   },
   {
    "duration": 8,
    "start_time": "2021-07-07T18:15:42.346Z"
   },
   {
    "duration": 17,
    "start_time": "2021-07-07T18:15:42.356Z"
   },
   {
    "duration": 15,
    "start_time": "2021-07-07T18:15:42.375Z"
   },
   {
    "duration": 12,
    "start_time": "2021-07-07T18:15:42.392Z"
   },
   {
    "duration": 7,
    "start_time": "2021-07-07T18:15:42.406Z"
   },
   {
    "duration": 7,
    "start_time": "2021-07-07T18:15:42.415Z"
   },
   {
    "duration": 29,
    "start_time": "2021-07-07T18:15:42.423Z"
   },
   {
    "duration": 43,
    "start_time": "2021-07-07T18:15:42.453Z"
   },
   {
    "duration": 18,
    "start_time": "2021-07-07T18:15:42.497Z"
   },
   {
    "duration": 6,
    "start_time": "2021-07-07T18:15:42.516Z"
   },
   {
    "duration": 3,
    "start_time": "2021-07-07T18:15:42.523Z"
   },
   {
    "duration": 18,
    "start_time": "2021-07-07T18:15:42.528Z"
   },
   {
    "duration": 10,
    "start_time": "2021-07-07T18:15:42.547Z"
   },
   {
    "duration": 36,
    "start_time": "2021-07-07T18:15:42.559Z"
   },
   {
    "duration": 8,
    "start_time": "2021-07-07T18:15:42.597Z"
   },
   {
    "duration": 28,
    "start_time": "2021-07-07T18:15:42.606Z"
   },
   {
    "duration": 52,
    "start_time": "2021-07-07T18:15:42.635Z"
   },
   {
    "duration": 7,
    "start_time": "2021-07-07T18:15:42.690Z"
   },
   {
    "duration": 10,
    "start_time": "2021-07-07T18:15:42.699Z"
   },
   {
    "duration": 19,
    "start_time": "2021-07-07T18:15:42.711Z"
   },
   {
    "duration": 9,
    "start_time": "2021-07-07T18:15:42.732Z"
   },
   {
    "duration": 5,
    "start_time": "2021-07-07T18:15:42.743Z"
   },
   {
    "duration": 1450,
    "start_time": "2021-07-07T18:15:51.984Z"
   },
   {
    "duration": 161,
    "start_time": "2021-07-07T18:15:53.435Z"
   },
   {
    "duration": 124,
    "start_time": "2021-07-07T18:15:53.598Z"
   },
   {
    "duration": 5,
    "start_time": "2021-07-07T18:15:53.724Z"
   },
   {
    "duration": 34,
    "start_time": "2021-07-07T18:15:53.730Z"
   },
   {
    "duration": 7,
    "start_time": "2021-07-07T18:15:53.765Z"
   },
   {
    "duration": 15,
    "start_time": "2021-07-07T18:15:53.773Z"
   },
   {
    "duration": 5,
    "start_time": "2021-07-07T18:15:53.791Z"
   },
   {
    "duration": 19,
    "start_time": "2021-07-07T18:15:53.798Z"
   },
   {
    "duration": 9,
    "start_time": "2021-07-07T18:15:53.818Z"
   },
   {
    "duration": 19,
    "start_time": "2021-07-07T18:15:53.828Z"
   },
   {
    "duration": 27,
    "start_time": "2021-07-07T18:15:53.848Z"
   },
   {
    "duration": 16,
    "start_time": "2021-07-07T18:15:53.884Z"
   },
   {
    "duration": 29,
    "start_time": "2021-07-07T18:15:53.901Z"
   },
   {
    "duration": 5,
    "start_time": "2021-07-07T18:15:53.932Z"
   },
   {
    "duration": 15,
    "start_time": "2021-07-07T18:15:53.939Z"
   },
   {
    "duration": 13,
    "start_time": "2021-07-07T18:15:53.956Z"
   },
   {
    "duration": 20,
    "start_time": "2021-07-07T18:15:53.971Z"
   },
   {
    "duration": 14,
    "start_time": "2021-07-07T18:15:53.992Z"
   },
   {
    "duration": 9,
    "start_time": "2021-07-07T18:15:54.009Z"
   },
   {
    "duration": 28,
    "start_time": "2021-07-07T18:15:54.020Z"
   },
   {
    "duration": 50,
    "start_time": "2021-07-07T18:15:54.051Z"
   },
   {
    "duration": 8,
    "start_time": "2021-07-07T18:15:54.105Z"
   },
   {
    "duration": 11,
    "start_time": "2021-07-07T18:15:54.115Z"
   },
   {
    "duration": 20,
    "start_time": "2021-07-07T18:15:54.128Z"
   },
   {
    "duration": 13,
    "start_time": "2021-07-07T18:15:54.184Z"
   },
   {
    "duration": 7,
    "start_time": "2021-07-07T18:15:54.199Z"
   },
   {
    "duration": 7,
    "start_time": "2021-07-07T18:17:08.042Z"
   },
   {
    "duration": 8,
    "start_time": "2021-07-07T18:17:21.008Z"
   },
   {
    "duration": 7,
    "start_time": "2021-07-07T18:17:29.003Z"
   },
   {
    "duration": 8,
    "start_time": "2021-07-07T18:17:32.492Z"
   },
   {
    "duration": 9,
    "start_time": "2021-07-07T18:17:41.758Z"
   },
   {
    "duration": 255,
    "start_time": "2021-07-07T18:20:20.897Z"
   },
   {
    "duration": 173,
    "start_time": "2021-07-07T18:20:26.636Z"
   },
   {
    "duration": 7,
    "start_time": "2021-07-07T18:21:47.164Z"
   },
   {
    "duration": 254,
    "start_time": "2021-07-07T18:23:08.703Z"
   },
   {
    "duration": 21,
    "start_time": "2021-07-07T18:23:22.506Z"
   },
   {
    "duration": 315,
    "start_time": "2021-07-07T18:25:54.801Z"
   },
   {
    "duration": 34,
    "start_time": "2021-07-07T18:26:51.817Z"
   },
   {
    "duration": 327,
    "start_time": "2021-07-07T18:26:56.147Z"
   },
   {
    "duration": 342,
    "start_time": "2021-07-07T18:27:15.887Z"
   },
   {
    "duration": 302,
    "start_time": "2021-07-07T18:28:18.569Z"
   },
   {
    "duration": 226,
    "start_time": "2021-07-07T18:29:20.879Z"
   },
   {
    "duration": 207,
    "start_time": "2021-07-07T18:29:58.114Z"
   },
   {
    "duration": 140,
    "start_time": "2021-07-07T18:32:04.372Z"
   },
   {
    "duration": 158,
    "start_time": "2021-07-07T18:32:32.508Z"
   },
   {
    "duration": 145,
    "start_time": "2021-07-07T18:32:41.365Z"
   },
   {
    "duration": 132,
    "start_time": "2021-07-07T18:32:45.199Z"
   },
   {
    "duration": 11,
    "start_time": "2021-07-07T18:35:24.679Z"
   },
   {
    "duration": 268,
    "start_time": "2021-07-07T18:36:16.145Z"
   },
   {
    "duration": 227,
    "start_time": "2021-07-07T18:37:04.918Z"
   },
   {
    "duration": 3,
    "start_time": "2021-07-07T18:37:33.012Z"
   },
   {
    "duration": 671,
    "start_time": "2021-07-07T18:37:38.295Z"
   },
   {
    "duration": 54,
    "start_time": "2021-07-07T18:37:53.406Z"
   },
   {
    "duration": 631,
    "start_time": "2021-07-07T18:37:56.463Z"
   },
   {
    "duration": 19,
    "start_time": "2021-07-07T18:39:40.535Z"
   },
   {
    "duration": 20,
    "start_time": "2021-07-07T18:40:12.236Z"
   },
   {
    "duration": 633,
    "start_time": "2021-07-07T18:42:00.398Z"
   },
   {
    "duration": 218,
    "start_time": "2021-07-07T18:42:01.033Z"
   },
   {
    "duration": 49,
    "start_time": "2021-07-07T18:42:01.253Z"
   },
   {
    "duration": 5,
    "start_time": "2021-07-07T18:42:01.303Z"
   },
   {
    "duration": 27,
    "start_time": "2021-07-07T18:42:01.310Z"
   },
   {
    "duration": 8,
    "start_time": "2021-07-07T18:42:01.339Z"
   },
   {
    "duration": 20,
    "start_time": "2021-07-07T18:42:01.348Z"
   },
   {
    "duration": 6,
    "start_time": "2021-07-07T18:42:01.386Z"
   },
   {
    "duration": 16,
    "start_time": "2021-07-07T18:42:01.394Z"
   },
   {
    "duration": 9,
    "start_time": "2021-07-07T18:42:01.411Z"
   },
   {
    "duration": 11,
    "start_time": "2021-07-07T18:42:01.421Z"
   },
   {
    "duration": 31,
    "start_time": "2021-07-07T18:42:01.434Z"
   },
   {
    "duration": 18,
    "start_time": "2021-07-07T18:42:01.485Z"
   },
   {
    "duration": 23,
    "start_time": "2021-07-07T18:42:01.505Z"
   },
   {
    "duration": 6,
    "start_time": "2021-07-07T18:42:01.530Z"
   },
   {
    "duration": 10,
    "start_time": "2021-07-07T18:42:01.538Z"
   },
   {
    "duration": 13,
    "start_time": "2021-07-07T18:42:01.550Z"
   },
   {
    "duration": 24,
    "start_time": "2021-07-07T18:42:01.564Z"
   },
   {
    "duration": 20,
    "start_time": "2021-07-07T18:42:01.590Z"
   },
   {
    "duration": 8,
    "start_time": "2021-07-07T18:42:01.611Z"
   },
   {
    "duration": 31,
    "start_time": "2021-07-07T18:42:01.620Z"
   },
   {
    "duration": 39,
    "start_time": "2021-07-07T18:42:01.653Z"
   },
   {
    "duration": 8,
    "start_time": "2021-07-07T18:42:01.696Z"
   },
   {
    "duration": 13,
    "start_time": "2021-07-07T18:42:01.705Z"
   },
   {
    "duration": 20,
    "start_time": "2021-07-07T18:42:01.720Z"
   },
   {
    "duration": 12,
    "start_time": "2021-07-07T18:42:01.741Z"
   },
   {
    "duration": 35,
    "start_time": "2021-07-07T18:42:01.755Z"
   },
   {
    "duration": 14,
    "start_time": "2021-07-07T18:42:01.792Z"
   },
   {
    "duration": 188,
    "start_time": "2021-07-07T18:42:01.808Z"
   },
   {
    "duration": 19,
    "start_time": "2021-07-07T18:42:01.998Z"
   },
   {
    "duration": 175,
    "start_time": "2021-07-07T18:42:02.019Z"
   },
   {
    "duration": 134,
    "start_time": "2021-07-07T18:42:02.196Z"
   },
   {
    "duration": 10,
    "start_time": "2021-07-07T18:42:02.331Z"
   },
   {
    "duration": 19,
    "start_time": "2021-07-07T18:42:02.343Z"
   },
   {
    "duration": 628,
    "start_time": "2021-07-07T18:46:30.701Z"
   },
   {
    "duration": 183,
    "start_time": "2021-07-07T18:46:31.331Z"
   },
   {
    "duration": 48,
    "start_time": "2021-07-07T18:46:31.516Z"
   },
   {
    "duration": 5,
    "start_time": "2021-07-07T18:46:31.566Z"
   },
   {
    "duration": 28,
    "start_time": "2021-07-07T18:46:31.572Z"
   },
   {
    "duration": 8,
    "start_time": "2021-07-07T18:46:31.602Z"
   },
   {
    "duration": 19,
    "start_time": "2021-07-07T18:46:31.611Z"
   },
   {
    "duration": 6,
    "start_time": "2021-07-07T18:46:31.633Z"
   },
   {
    "duration": 17,
    "start_time": "2021-07-07T18:46:31.642Z"
   },
   {
    "duration": 10,
    "start_time": "2021-07-07T18:46:31.684Z"
   },
   {
    "duration": 9,
    "start_time": "2021-07-07T18:46:31.695Z"
   },
   {
    "duration": 28,
    "start_time": "2021-07-07T18:46:31.705Z"
   },
   {
    "duration": 18,
    "start_time": "2021-07-07T18:46:31.735Z"
   },
   {
    "duration": 48,
    "start_time": "2021-07-07T18:46:31.755Z"
   },
   {
    "duration": 6,
    "start_time": "2021-07-07T18:46:31.804Z"
   },
   {
    "duration": 4,
    "start_time": "2021-07-07T18:46:31.812Z"
   },
   {
    "duration": 9,
    "start_time": "2021-07-07T18:46:31.817Z"
   },
   {
    "duration": 10,
    "start_time": "2021-07-07T18:46:31.827Z"
   },
   {
    "duration": 12,
    "start_time": "2021-07-07T18:46:31.838Z"
   },
   {
    "duration": 39,
    "start_time": "2021-07-07T18:46:31.851Z"
   },
   {
    "duration": 24,
    "start_time": "2021-07-07T18:46:31.892Z"
   },
   {
    "duration": 15,
    "start_time": "2021-07-07T18:46:31.918Z"
   },
   {
    "duration": 7,
    "start_time": "2021-07-07T18:46:31.936Z"
   },
   {
    "duration": 8,
    "start_time": "2021-07-07T18:46:31.944Z"
   },
   {
    "duration": 19,
    "start_time": "2021-07-07T18:46:31.984Z"
   },
   {
    "duration": 10,
    "start_time": "2021-07-07T18:46:32.004Z"
   },
   {
    "duration": 5,
    "start_time": "2021-07-07T18:46:32.016Z"
   },
   {
    "duration": 9,
    "start_time": "2021-07-07T18:46:32.023Z"
   },
   {
    "duration": 199,
    "start_time": "2021-07-07T18:46:32.033Z"
   },
   {
    "duration": 19,
    "start_time": "2021-07-07T18:46:32.234Z"
   },
   {
    "duration": 159,
    "start_time": "2021-07-07T18:46:32.255Z"
   },
   {
    "duration": 134,
    "start_time": "2021-07-07T18:46:32.416Z"
   },
   {
    "duration": 10,
    "start_time": "2021-07-07T18:46:32.552Z"
   },
   {
    "duration": 34,
    "start_time": "2021-07-07T18:46:32.563Z"
   },
   {
    "duration": 1039,
    "start_time": "2021-07-08T08:41:09.419Z"
   },
   {
    "duration": 333,
    "start_time": "2021-07-08T08:41:10.459Z"
   },
   {
    "duration": 173,
    "start_time": "2021-07-08T08:41:10.794Z"
   },
   {
    "duration": 5,
    "start_time": "2021-07-08T08:41:10.968Z"
   },
   {
    "duration": 25,
    "start_time": "2021-07-08T08:41:10.975Z"
   },
   {
    "duration": 9,
    "start_time": "2021-07-08T08:41:11.002Z"
   },
   {
    "duration": 18,
    "start_time": "2021-07-08T08:41:11.013Z"
   },
   {
    "duration": 6,
    "start_time": "2021-07-08T08:41:11.033Z"
   },
   {
    "duration": 44,
    "start_time": "2021-07-08T08:41:11.042Z"
   },
   {
    "duration": 10,
    "start_time": "2021-07-08T08:41:11.088Z"
   },
   {
    "duration": 9,
    "start_time": "2021-07-08T08:41:11.100Z"
   },
   {
    "duration": 27,
    "start_time": "2021-07-08T08:41:11.111Z"
   },
   {
    "duration": 46,
    "start_time": "2021-07-08T08:41:11.140Z"
   },
   {
    "duration": 17,
    "start_time": "2021-07-08T08:41:11.187Z"
   },
   {
    "duration": 6,
    "start_time": "2021-07-08T08:41:11.206Z"
   },
   {
    "duration": 5,
    "start_time": "2021-07-08T08:41:11.213Z"
   },
   {
    "duration": 10,
    "start_time": "2021-07-08T08:41:11.219Z"
   },
   {
    "duration": 9,
    "start_time": "2021-07-08T08:41:11.230Z"
   },
   {
    "duration": 45,
    "start_time": "2021-07-08T08:41:11.241Z"
   },
   {
    "duration": 7,
    "start_time": "2021-07-08T08:41:11.287Z"
   },
   {
    "duration": 24,
    "start_time": "2021-07-08T08:41:11.296Z"
   },
   {
    "duration": 16,
    "start_time": "2021-07-08T08:41:11.322Z"
   },
   {
    "duration": 7,
    "start_time": "2021-07-08T08:41:11.341Z"
   },
   {
    "duration": 41,
    "start_time": "2021-07-08T08:41:11.349Z"
   },
   {
    "duration": 17,
    "start_time": "2021-07-08T08:41:11.391Z"
   },
   {
    "duration": 9,
    "start_time": "2021-07-08T08:41:11.410Z"
   },
   {
    "duration": 5,
    "start_time": "2021-07-08T08:41:11.421Z"
   },
   {
    "duration": 6,
    "start_time": "2021-07-08T08:41:11.428Z"
   },
   {
    "duration": 198,
    "start_time": "2021-07-08T08:41:11.435Z"
   },
   {
    "duration": 18,
    "start_time": "2021-07-08T08:41:11.635Z"
   },
   {
    "duration": 155,
    "start_time": "2021-07-08T08:41:11.655Z"
   },
   {
    "duration": 138,
    "start_time": "2021-07-08T08:41:11.811Z"
   },
   {
    "duration": 10,
    "start_time": "2021-07-08T08:41:11.950Z"
   },
   {
    "duration": 29,
    "start_time": "2021-07-08T08:41:11.961Z"
   },
   {
    "duration": 171,
    "start_time": "2021-07-08T08:47:44.522Z"
   },
   {
    "duration": 124,
    "start_time": "2021-07-08T08:47:46.872Z"
   },
   {
    "duration": 191,
    "start_time": "2021-07-08T08:47:58.148Z"
   },
   {
    "duration": 191,
    "start_time": "2021-07-08T08:48:07.412Z"
   },
   {
    "duration": 261,
    "start_time": "2021-07-08T08:48:10.385Z"
   },
   {
    "duration": 255,
    "start_time": "2021-07-08T08:48:14.494Z"
   },
   {
    "duration": 219,
    "start_time": "2021-07-08T08:48:22.752Z"
   },
   {
    "duration": 173,
    "start_time": "2021-07-08T08:49:06.395Z"
   },
   {
    "duration": 180,
    "start_time": "2021-07-08T08:49:21.011Z"
   },
   {
    "duration": 6,
    "start_time": "2021-07-08T08:50:31.697Z"
   },
   {
    "duration": 10,
    "start_time": "2021-07-08T08:50:47.394Z"
   },
   {
    "duration": 11,
    "start_time": "2021-07-08T08:53:49.332Z"
   },
   {
    "duration": 171,
    "start_time": "2021-07-08T08:54:28.408Z"
   },
   {
    "duration": 636,
    "start_time": "2021-07-08T09:02:48.385Z"
   },
   {
    "duration": 227,
    "start_time": "2021-07-08T09:02:49.023Z"
   },
   {
    "duration": 104,
    "start_time": "2021-07-08T09:02:49.252Z"
   },
   {
    "duration": 5,
    "start_time": "2021-07-08T09:02:49.358Z"
   },
   {
    "duration": 27,
    "start_time": "2021-07-08T09:02:49.365Z"
   },
   {
    "duration": 8,
    "start_time": "2021-07-08T09:02:49.394Z"
   },
   {
    "duration": 18,
    "start_time": "2021-07-08T09:02:49.404Z"
   },
   {
    "duration": 6,
    "start_time": "2021-07-08T09:02:49.424Z"
   },
   {
    "duration": 11,
    "start_time": "2021-07-08T09:02:49.433Z"
   },
   {
    "duration": 13,
    "start_time": "2021-07-08T09:02:49.485Z"
   },
   {
    "duration": 9,
    "start_time": "2021-07-08T09:02:49.500Z"
   },
   {
    "duration": 38,
    "start_time": "2021-07-08T09:02:49.511Z"
   },
   {
    "duration": 42,
    "start_time": "2021-07-08T09:02:49.551Z"
   },
   {
    "duration": 21,
    "start_time": "2021-07-08T09:02:49.594Z"
   },
   {
    "duration": 6,
    "start_time": "2021-07-08T09:02:49.616Z"
   },
   {
    "duration": 3,
    "start_time": "2021-07-08T09:02:49.623Z"
   },
   {
    "duration": 9,
    "start_time": "2021-07-08T09:02:49.628Z"
   },
   {
    "duration": 52,
    "start_time": "2021-07-08T09:02:49.638Z"
   },
   {
    "duration": 11,
    "start_time": "2021-07-08T09:02:49.692Z"
   },
   {
    "duration": 8,
    "start_time": "2021-07-08T09:02:49.704Z"
   },
   {
    "duration": 27,
    "start_time": "2021-07-08T09:02:49.713Z"
   },
   {
    "duration": 59,
    "start_time": "2021-07-08T09:02:49.741Z"
   },
   {
    "duration": 8,
    "start_time": "2021-07-08T09:02:49.803Z"
   },
   {
    "duration": 14,
    "start_time": "2021-07-08T09:02:49.813Z"
   },
   {
    "duration": 20,
    "start_time": "2021-07-08T09:02:49.829Z"
   },
   {
    "duration": 44,
    "start_time": "2021-07-08T09:02:49.851Z"
   },
   {
    "duration": 14,
    "start_time": "2021-07-08T09:02:49.896Z"
   },
   {
    "duration": 221,
    "start_time": "2021-07-08T09:02:49.912Z"
   },
   {
    "duration": 6,
    "start_time": "2021-07-08T09:02:50.134Z"
   },
   {
    "duration": 206,
    "start_time": "2021-07-08T09:02:50.142Z"
   },
   {
    "duration": 19,
    "start_time": "2021-07-08T09:02:50.350Z"
   },
   {
    "duration": 21,
    "start_time": "2021-07-08T09:02:50.370Z"
   },
   {
    "duration": 20,
    "start_time": "2021-07-08T09:02:50.393Z"
   },
   {
    "duration": 5,
    "start_time": "2021-07-08T09:02:50.414Z"
   },
   {
    "duration": 5,
    "start_time": "2021-07-08T09:03:34.173Z"
   },
   {
    "duration": 6,
    "start_time": "2021-07-08T09:04:49.062Z"
   },
   {
    "duration": 9,
    "start_time": "2021-07-08T09:04:50.118Z"
   },
   {
    "duration": 14,
    "start_time": "2021-07-08T09:04:58.512Z"
   },
   {
    "duration": 9,
    "start_time": "2021-07-08T09:05:10.988Z"
   },
   {
    "duration": 11,
    "start_time": "2021-07-08T09:05:11.743Z"
   },
   {
    "duration": 7,
    "start_time": "2021-07-08T09:05:25.677Z"
   },
   {
    "duration": 13,
    "start_time": "2021-07-08T09:05:47.189Z"
   },
   {
    "duration": 13,
    "start_time": "2021-07-08T09:05:54.755Z"
   },
   {
    "duration": 4,
    "start_time": "2021-07-08T09:06:29.189Z"
   },
   {
    "duration": 244,
    "start_time": "2021-07-08T09:06:29.195Z"
   },
   {
    "duration": 91,
    "start_time": "2021-07-08T09:06:29.441Z"
   },
   {
    "duration": 4,
    "start_time": "2021-07-08T09:06:29.534Z"
   },
   {
    "duration": 28,
    "start_time": "2021-07-08T09:06:29.540Z"
   },
   {
    "duration": 6,
    "start_time": "2021-07-08T09:06:29.570Z"
   },
   {
    "duration": 18,
    "start_time": "2021-07-08T09:06:29.578Z"
   },
   {
    "duration": 5,
    "start_time": "2021-07-08T09:06:29.597Z"
   },
   {
    "duration": 13,
    "start_time": "2021-07-08T09:06:29.605Z"
   },
   {
    "duration": 8,
    "start_time": "2021-07-08T09:06:29.620Z"
   },
   {
    "duration": 7,
    "start_time": "2021-07-08T09:06:29.630Z"
   },
   {
    "duration": 63,
    "start_time": "2021-07-08T09:06:29.639Z"
   },
   {
    "duration": 17,
    "start_time": "2021-07-08T09:06:29.704Z"
   },
   {
    "duration": 20,
    "start_time": "2021-07-08T09:06:29.723Z"
   },
   {
    "duration": 6,
    "start_time": "2021-07-08T09:06:29.745Z"
   },
   {
    "duration": 3,
    "start_time": "2021-07-08T09:06:29.752Z"
   },
   {
    "duration": 7,
    "start_time": "2021-07-08T09:06:29.785Z"
   },
   {
    "duration": 11,
    "start_time": "2021-07-08T09:06:29.794Z"
   },
   {
    "duration": 15,
    "start_time": "2021-07-08T09:06:29.807Z"
   },
   {
    "duration": 8,
    "start_time": "2021-07-08T09:06:29.823Z"
   },
   {
    "duration": 70,
    "start_time": "2021-07-08T09:06:29.832Z"
   },
   {
    "duration": 17,
    "start_time": "2021-07-08T09:06:29.903Z"
   },
   {
    "duration": 9,
    "start_time": "2021-07-08T09:06:29.921Z"
   },
   {
    "duration": 9,
    "start_time": "2021-07-08T09:06:29.932Z"
   },
   {
    "duration": 57,
    "start_time": "2021-07-08T09:06:29.942Z"
   },
   {
    "duration": 11,
    "start_time": "2021-07-08T09:06:30.001Z"
   },
   {
    "duration": 19,
    "start_time": "2021-07-08T09:06:30.016Z"
   },
   {
    "duration": 217,
    "start_time": "2021-07-08T09:06:30.037Z"
   },
   {
    "duration": 6,
    "start_time": "2021-07-08T09:06:30.255Z"
   },
   {
    "duration": 205,
    "start_time": "2021-07-08T09:06:30.263Z"
   },
   {
    "duration": 27,
    "start_time": "2021-07-08T09:06:30.470Z"
   },
   {
    "duration": 11,
    "start_time": "2021-07-08T09:06:30.500Z"
   },
   {
    "duration": 31,
    "start_time": "2021-07-08T09:06:30.513Z"
   },
   {
    "duration": 18,
    "start_time": "2021-07-08T09:06:30.546Z"
   },
   {
    "duration": 11,
    "start_time": "2021-07-08T09:06:30.566Z"
   },
   {
    "duration": 19,
    "start_time": "2021-07-08T09:06:30.579Z"
   },
   {
    "duration": 20,
    "start_time": "2021-07-08T09:06:49.466Z"
   },
   {
    "duration": 9,
    "start_time": "2021-07-08T09:06:51.994Z"
   },
   {
    "duration": 20,
    "start_time": "2021-07-08T09:06:52.273Z"
   },
   {
    "duration": 246,
    "start_time": "2021-07-08T09:10:21.272Z"
   },
   {
    "duration": 84,
    "start_time": "2021-07-08T09:10:21.436Z"
   },
   {
    "duration": 7,
    "start_time": "2021-07-08T09:10:37.608Z"
   },
   {
    "duration": 189,
    "start_time": "2021-07-08T09:10:38.573Z"
   },
   {
    "duration": 185,
    "start_time": "2021-07-08T09:10:53.181Z"
   },
   {
    "duration": 11,
    "start_time": "2021-07-08T09:10:59.549Z"
   },
   {
    "duration": 42,
    "start_time": "2021-07-08T09:10:59.709Z"
   },
   {
    "duration": 12,
    "start_time": "2021-07-08T09:11:02.857Z"
   },
   {
    "duration": 28,
    "start_time": "2021-07-08T09:11:10.062Z"
   },
   {
    "duration": 249,
    "start_time": "2021-07-08T09:11:37.388Z"
   },
   {
    "duration": 232,
    "start_time": "2021-07-08T09:11:49.485Z"
   },
   {
    "duration": 453,
    "start_time": "2021-07-08T09:12:01.546Z"
   },
   {
    "duration": 440,
    "start_time": "2021-07-08T09:12:12.347Z"
   },
   {
    "duration": 213,
    "start_time": "2021-07-08T09:13:32.196Z"
   },
   {
    "duration": 172,
    "start_time": "2021-07-08T09:14:07.400Z"
   },
   {
    "duration": 185,
    "start_time": "2021-07-08T09:14:14.905Z"
   },
   {
    "duration": 209,
    "start_time": "2021-07-08T09:14:40.109Z"
   },
   {
    "duration": 201,
    "start_time": "2021-07-08T09:14:54.506Z"
   },
   {
    "duration": 622,
    "start_time": "2021-07-08T09:18:14.497Z"
   },
   {
    "duration": 220,
    "start_time": "2021-07-08T09:18:15.121Z"
   },
   {
    "duration": 79,
    "start_time": "2021-07-08T09:18:15.343Z"
   },
   {
    "duration": 4,
    "start_time": "2021-07-08T09:18:15.425Z"
   },
   {
    "duration": 24,
    "start_time": "2021-07-08T09:18:15.431Z"
   },
   {
    "duration": 8,
    "start_time": "2021-07-08T09:18:15.457Z"
   },
   {
    "duration": 16,
    "start_time": "2021-07-08T09:18:15.466Z"
   },
   {
    "duration": 5,
    "start_time": "2021-07-08T09:18:15.484Z"
   },
   {
    "duration": 10,
    "start_time": "2021-07-08T09:18:15.493Z"
   },
   {
    "duration": 8,
    "start_time": "2021-07-08T09:18:15.504Z"
   },
   {
    "duration": 7,
    "start_time": "2021-07-08T09:18:15.513Z"
   },
   {
    "duration": 26,
    "start_time": "2021-07-08T09:18:15.522Z"
   },
   {
    "duration": 49,
    "start_time": "2021-07-08T09:18:15.550Z"
   },
   {
    "duration": 21,
    "start_time": "2021-07-08T09:18:15.601Z"
   },
   {
    "duration": 8,
    "start_time": "2021-07-08T09:18:15.624Z"
   },
   {
    "duration": 3,
    "start_time": "2021-07-08T09:18:15.634Z"
   },
   {
    "duration": 8,
    "start_time": "2021-07-08T09:18:15.639Z"
   },
   {
    "duration": 45,
    "start_time": "2021-07-08T09:18:15.649Z"
   },
   {
    "duration": 13,
    "start_time": "2021-07-08T09:18:15.696Z"
   },
   {
    "duration": 10,
    "start_time": "2021-07-08T09:18:15.711Z"
   },
   {
    "duration": 64,
    "start_time": "2021-07-08T09:18:15.722Z"
   },
   {
    "duration": 19,
    "start_time": "2021-07-08T09:18:15.788Z"
   },
   {
    "duration": 9,
    "start_time": "2021-07-08T09:18:15.809Z"
   },
   {
    "duration": 9,
    "start_time": "2021-07-08T09:18:15.820Z"
   },
   {
    "duration": 18,
    "start_time": "2021-07-08T09:18:15.831Z"
   },
   {
    "duration": 43,
    "start_time": "2021-07-08T09:18:15.851Z"
   },
   {
    "duration": 12,
    "start_time": "2021-07-08T09:18:15.897Z"
   },
   {
    "duration": 219,
    "start_time": "2021-07-08T09:18:15.911Z"
   },
   {
    "duration": 8,
    "start_time": "2021-07-08T09:18:16.132Z"
   },
   {
    "duration": 199,
    "start_time": "2021-07-08T09:18:16.141Z"
   },
   {
    "duration": 18,
    "start_time": "2021-07-08T09:18:16.341Z"
   },
   {
    "duration": 24,
    "start_time": "2021-07-08T09:18:16.361Z"
   },
   {
    "duration": 24,
    "start_time": "2021-07-08T09:18:16.387Z"
   },
   {
    "duration": 211,
    "start_time": "2021-07-08T09:18:16.413Z"
   },
   {
    "duration": 18,
    "start_time": "2021-07-08T09:18:16.626Z"
   },
   {
    "duration": 596,
    "start_time": "2021-07-08T10:06:33.623Z"
   },
   {
    "duration": 181,
    "start_time": "2021-07-08T10:06:34.221Z"
   },
   {
    "duration": 176,
    "start_time": "2021-07-08T10:06:34.635Z"
   },
   {
    "duration": 239,
    "start_time": "2021-07-08T10:06:55.572Z"
   },
   {
    "duration": 6,
    "start_time": "2021-07-08T10:06:57.687Z"
   },
   {
    "duration": 4,
    "start_time": "2021-07-08T10:07:03.956Z"
   },
   {
    "duration": 4,
    "start_time": "2021-07-08T10:07:10.376Z"
   },
   {
    "duration": 4,
    "start_time": "2021-07-08T10:17:19.889Z"
   },
   {
    "duration": 3,
    "start_time": "2021-07-08T10:19:19.407Z"
   },
   {
    "duration": 197,
    "start_time": "2021-07-08T10:19:19.412Z"
   },
   {
    "duration": 127,
    "start_time": "2021-07-08T10:19:19.611Z"
   },
   {
    "duration": 4,
    "start_time": "2021-07-08T10:19:19.740Z"
   },
   {
    "duration": 27,
    "start_time": "2021-07-08T10:19:19.746Z"
   },
   {
    "duration": 7,
    "start_time": "2021-07-08T10:19:19.775Z"
   },
   {
    "duration": 30,
    "start_time": "2021-07-08T10:19:19.784Z"
   },
   {
    "duration": 7,
    "start_time": "2021-07-08T10:19:19.817Z"
   },
   {
    "duration": 26,
    "start_time": "2021-07-08T10:19:19.826Z"
   },
   {
    "duration": 18,
    "start_time": "2021-07-08T10:19:19.854Z"
   },
   {
    "duration": 14,
    "start_time": "2021-07-08T10:19:19.874Z"
   },
   {
    "duration": 48,
    "start_time": "2021-07-08T10:19:19.890Z"
   },
   {
    "duration": 17,
    "start_time": "2021-07-08T10:19:19.940Z"
   },
   {
    "duration": 38,
    "start_time": "2021-07-08T10:19:19.959Z"
   },
   {
    "duration": 8,
    "start_time": "2021-07-08T10:19:19.999Z"
   },
   {
    "duration": 15,
    "start_time": "2021-07-08T10:19:20.009Z"
   },
   {
    "duration": 22,
    "start_time": "2021-07-08T10:19:20.026Z"
   },
   {
    "duration": 10,
    "start_time": "2021-07-08T10:19:20.050Z"
   },
   {
    "duration": 10,
    "start_time": "2021-07-08T10:19:20.062Z"
   },
   {
    "duration": 20,
    "start_time": "2021-07-08T10:19:20.073Z"
   },
   {
    "duration": 29,
    "start_time": "2021-07-08T10:19:20.095Z"
   },
   {
    "duration": 17,
    "start_time": "2021-07-08T10:19:20.126Z"
   },
   {
    "duration": 40,
    "start_time": "2021-07-08T10:19:20.146Z"
   },
   {
    "duration": 15,
    "start_time": "2021-07-08T10:19:20.189Z"
   },
   {
    "duration": 19,
    "start_time": "2021-07-08T10:19:20.206Z"
   },
   {
    "duration": 10,
    "start_time": "2021-07-08T10:19:20.226Z"
   },
   {
    "duration": 11,
    "start_time": "2021-07-08T10:19:20.238Z"
   },
   {
    "duration": 297,
    "start_time": "2021-07-08T10:19:20.250Z"
   },
   {
    "duration": 6,
    "start_time": "2021-07-08T10:19:20.549Z"
   },
   {
    "duration": 191,
    "start_time": "2021-07-08T10:19:20.557Z"
   },
   {
    "duration": 19,
    "start_time": "2021-07-08T10:19:20.750Z"
   },
   {
    "duration": 20,
    "start_time": "2021-07-08T10:19:20.771Z"
   },
   {
    "duration": 15,
    "start_time": "2021-07-08T10:19:20.793Z"
   },
   {
    "duration": 222,
    "start_time": "2021-07-08T10:19:20.809Z"
   },
   {
    "duration": 20,
    "start_time": "2021-07-08T10:19:21.033Z"
   },
   {
    "duration": 27,
    "start_time": "2021-07-08T10:45:04.055Z"
   },
   {
    "duration": 8,
    "start_time": "2021-07-08T10:45:08.478Z"
   },
   {
    "duration": 8,
    "start_time": "2021-07-08T10:45:31.982Z"
   },
   {
    "duration": 10,
    "start_time": "2021-07-08T10:46:01.221Z"
   },
   {
    "duration": 17,
    "start_time": "2021-07-08T10:46:40.011Z"
   },
   {
    "duration": 193,
    "start_time": "2021-07-08T10:48:19.471Z"
   },
   {
    "duration": 225,
    "start_time": "2021-07-08T10:49:26.480Z"
   },
   {
    "duration": 204,
    "start_time": "2021-07-08T10:49:59.992Z"
   },
   {
    "duration": 435,
    "start_time": "2021-07-08T10:50:06.779Z"
   },
   {
    "duration": 199,
    "start_time": "2021-07-08T10:50:14.891Z"
   },
   {
    "duration": 204,
    "start_time": "2021-07-08T10:50:18.501Z"
   },
   {
    "duration": 244,
    "start_time": "2021-07-08T10:50:23.359Z"
   },
   {
    "duration": 192,
    "start_time": "2021-07-08T10:50:29.135Z"
   },
   {
    "duration": 218,
    "start_time": "2021-07-08T10:50:33.092Z"
   },
   {
    "duration": 207,
    "start_time": "2021-07-08T10:52:45.381Z"
   },
   {
    "duration": 5,
    "start_time": "2021-07-08T10:53:34.641Z"
   },
   {
    "duration": 196,
    "start_time": "2021-07-08T10:53:41.478Z"
   },
   {
    "duration": 43,
    "start_time": "2021-07-08T10:53:50.335Z"
   },
   {
    "duration": 32,
    "start_time": "2021-07-08T10:53:55.294Z"
   },
   {
    "duration": 55,
    "start_time": "2021-07-08T10:54:09.675Z"
   },
   {
    "duration": 16,
    "start_time": "2021-07-08T10:54:12.260Z"
   },
   {
    "duration": 15,
    "start_time": "2021-07-08T10:54:49.150Z"
   },
   {
    "duration": 20,
    "start_time": "2021-07-08T10:56:07.596Z"
   },
   {
    "duration": 16,
    "start_time": "2021-07-08T10:58:26.276Z"
   },
   {
    "duration": 22,
    "start_time": "2021-07-08T10:59:00.486Z"
   },
   {
    "duration": 18,
    "start_time": "2021-07-08T11:02:09.653Z"
   },
   {
    "duration": 10,
    "start_time": "2021-07-08T11:03:44.331Z"
   },
   {
    "duration": 10,
    "start_time": "2021-07-08T11:03:54.055Z"
   },
   {
    "duration": 12,
    "start_time": "2021-07-08T11:04:41.967Z"
   },
   {
    "duration": 24,
    "start_time": "2021-07-08T11:07:30.732Z"
   },
   {
    "duration": 6,
    "start_time": "2021-07-08T11:07:37.364Z"
   },
   {
    "duration": 16,
    "start_time": "2021-07-08T11:08:01.819Z"
   },
   {
    "duration": 17,
    "start_time": "2021-07-08T11:09:47.488Z"
   },
   {
    "duration": 246,
    "start_time": "2021-07-08T11:10:00.830Z"
   },
   {
    "duration": 18,
    "start_time": "2021-07-08T11:13:55.195Z"
   },
   {
    "duration": 204,
    "start_time": "2021-07-08T11:14:04.951Z"
   },
   {
    "duration": 19,
    "start_time": "2021-07-08T11:15:10.613Z"
   },
   {
    "duration": 680,
    "start_time": "2021-07-08T11:16:25.793Z"
   },
   {
    "duration": 451,
    "start_time": "2021-07-08T11:16:40.313Z"
   },
   {
    "duration": 469,
    "start_time": "2021-07-08T11:17:21.286Z"
   },
   {
    "duration": 20,
    "start_time": "2021-07-08T11:19:12.554Z"
   },
   {
    "duration": 35,
    "start_time": "2021-07-08T11:20:05.484Z"
   },
   {
    "duration": 53,
    "start_time": "2021-07-08T11:21:40.050Z"
   },
   {
    "duration": 13,
    "start_time": "2021-07-08T11:22:26.059Z"
   },
   {
    "duration": 19,
    "start_time": "2021-07-08T11:22:47.419Z"
   },
   {
    "duration": 25,
    "start_time": "2021-07-08T11:23:19.958Z"
   },
   {
    "duration": 29,
    "start_time": "2021-07-08T11:23:25.415Z"
   },
   {
    "duration": 10,
    "start_time": "2021-07-08T11:24:45.138Z"
   },
   {
    "duration": 19,
    "start_time": "2021-07-08T11:24:54.498Z"
   },
   {
    "duration": 12,
    "start_time": "2021-07-08T11:25:32.225Z"
   },
   {
    "duration": 19,
    "start_time": "2021-07-08T11:25:37.092Z"
   },
   {
    "duration": 17,
    "start_time": "2021-07-08T11:25:58.116Z"
   },
   {
    "duration": 15,
    "start_time": "2021-07-08T11:26:02.258Z"
   },
   {
    "duration": 8,
    "start_time": "2021-07-08T11:26:59.682Z"
   },
   {
    "duration": 184,
    "start_time": "2021-07-08T11:27:21.894Z"
   },
   {
    "duration": 8,
    "start_time": "2021-07-08T11:27:23.824Z"
   },
   {
    "duration": 202,
    "start_time": "2021-07-08T11:27:23.962Z"
   },
   {
    "duration": 360,
    "start_time": "2021-07-08T11:28:33.215Z"
   },
   {
    "duration": 231,
    "start_time": "2021-07-08T11:32:05.542Z"
   },
   {
    "duration": 607,
    "start_time": "2021-07-08T11:36:27.854Z"
   },
   {
    "duration": 241,
    "start_time": "2021-07-08T11:36:28.463Z"
   },
   {
    "duration": 67,
    "start_time": "2021-07-08T11:36:28.709Z"
   },
   {
    "duration": 5,
    "start_time": "2021-07-08T11:36:28.778Z"
   },
   {
    "duration": 32,
    "start_time": "2021-07-08T11:36:28.784Z"
   },
   {
    "duration": 11,
    "start_time": "2021-07-08T11:36:28.819Z"
   },
   {
    "duration": 20,
    "start_time": "2021-07-08T11:36:28.834Z"
   },
   {
    "duration": 36,
    "start_time": "2021-07-08T11:36:28.857Z"
   },
   {
    "duration": 16,
    "start_time": "2021-07-08T11:36:28.895Z"
   },
   {
    "duration": 14,
    "start_time": "2021-07-08T11:36:28.913Z"
   },
   {
    "duration": 9,
    "start_time": "2021-07-08T11:36:28.930Z"
   },
   {
    "duration": 55,
    "start_time": "2021-07-08T11:36:28.941Z"
   },
   {
    "duration": 27,
    "start_time": "2021-07-08T11:36:28.999Z"
   },
   {
    "duration": 30,
    "start_time": "2021-07-08T11:36:29.028Z"
   },
   {
    "duration": 31,
    "start_time": "2021-07-08T11:36:29.060Z"
   },
   {
    "duration": 3,
    "start_time": "2021-07-08T11:36:29.093Z"
   },
   {
    "duration": 12,
    "start_time": "2021-07-08T11:36:29.099Z"
   },
   {
    "duration": 11,
    "start_time": "2021-07-08T11:36:29.112Z"
   },
   {
    "duration": 12,
    "start_time": "2021-07-08T11:36:29.125Z"
   },
   {
    "duration": 9,
    "start_time": "2021-07-08T11:36:29.139Z"
   },
   {
    "duration": 31,
    "start_time": "2021-07-08T11:36:29.191Z"
   },
   {
    "duration": 17,
    "start_time": "2021-07-08T11:36:29.226Z"
   },
   {
    "duration": 7,
    "start_time": "2021-07-08T11:36:29.245Z"
   },
   {
    "duration": 10,
    "start_time": "2021-07-08T11:36:29.254Z"
   },
   {
    "duration": 30,
    "start_time": "2021-07-08T11:36:29.292Z"
   },
   {
    "duration": 11,
    "start_time": "2021-07-08T11:36:29.324Z"
   },
   {
    "duration": 11,
    "start_time": "2021-07-08T11:36:29.337Z"
   },
   {
    "duration": 230,
    "start_time": "2021-07-08T11:36:29.349Z"
   },
   {
    "duration": 13,
    "start_time": "2021-07-08T11:36:29.588Z"
   },
   {
    "duration": 205,
    "start_time": "2021-07-08T11:36:29.603Z"
   },
   {
    "duration": 20,
    "start_time": "2021-07-08T11:36:29.810Z"
   },
   {
    "duration": 9,
    "start_time": "2021-07-08T11:36:29.832Z"
   },
   {
    "duration": 16,
    "start_time": "2021-07-08T11:36:29.843Z"
   },
   {
    "duration": 283,
    "start_time": "2021-07-08T11:36:29.861Z"
   },
   {
    "duration": 50,
    "start_time": "2021-07-08T11:36:30.146Z"
   },
   {
    "duration": 14,
    "start_time": "2021-07-08T11:36:30.198Z"
   },
   {
    "duration": 11,
    "start_time": "2021-07-08T11:36:30.214Z"
   },
   {
    "duration": 245,
    "start_time": "2021-07-08T11:36:30.227Z"
   },
   {
    "duration": 439,
    "start_time": "2021-07-08T11:36:30.474Z"
   },
   {
    "duration": 210,
    "start_time": "2021-07-08T11:36:30.915Z"
   },
   {
    "duration": 15,
    "start_time": "2021-07-08T11:36:31.127Z"
   },
   {
    "duration": 17,
    "start_time": "2021-07-08T11:38:20.451Z"
   },
   {
    "duration": 642,
    "start_time": "2021-07-08T11:46:17.881Z"
   },
   {
    "duration": 210,
    "start_time": "2021-07-08T11:46:18.525Z"
   },
   {
    "duration": 104,
    "start_time": "2021-07-08T11:46:18.741Z"
   },
   {
    "duration": 8,
    "start_time": "2021-07-08T11:46:18.847Z"
   },
   {
    "duration": 25,
    "start_time": "2021-07-08T11:46:18.857Z"
   },
   {
    "duration": 14,
    "start_time": "2021-07-08T11:46:18.884Z"
   },
   {
    "duration": 22,
    "start_time": "2021-07-08T11:46:18.900Z"
   },
   {
    "duration": 5,
    "start_time": "2021-07-08T11:46:18.924Z"
   },
   {
    "duration": 13,
    "start_time": "2021-07-08T11:46:18.931Z"
   },
   {
    "duration": 45,
    "start_time": "2021-07-08T11:46:18.946Z"
   },
   {
    "duration": 12,
    "start_time": "2021-07-08T11:46:18.993Z"
   },
   {
    "duration": 38,
    "start_time": "2021-07-08T11:46:19.006Z"
   },
   {
    "duration": 50,
    "start_time": "2021-07-08T11:46:19.046Z"
   },
   {
    "duration": 29,
    "start_time": "2021-07-08T11:46:19.099Z"
   },
   {
    "duration": 7,
    "start_time": "2021-07-08T11:46:19.130Z"
   },
   {
    "duration": 3,
    "start_time": "2021-07-08T11:46:19.139Z"
   },
   {
    "duration": 11,
    "start_time": "2021-07-08T11:46:19.144Z"
   },
   {
    "duration": 40,
    "start_time": "2021-07-08T11:46:19.157Z"
   },
   {
    "duration": 15,
    "start_time": "2021-07-08T11:46:19.199Z"
   },
   {
    "duration": 10,
    "start_time": "2021-07-08T11:46:19.217Z"
   },
   {
    "duration": 68,
    "start_time": "2021-07-08T11:46:19.230Z"
   },
   {
    "duration": 17,
    "start_time": "2021-07-08T11:46:19.301Z"
   },
   {
    "duration": 7,
    "start_time": "2021-07-08T11:46:19.321Z"
   },
   {
    "duration": 11,
    "start_time": "2021-07-08T11:46:19.330Z"
   },
   {
    "duration": 59,
    "start_time": "2021-07-08T11:46:19.343Z"
   },
   {
    "duration": 17,
    "start_time": "2021-07-08T11:46:19.405Z"
   },
   {
    "duration": 16,
    "start_time": "2021-07-08T11:46:19.424Z"
   },
   {
    "duration": 252,
    "start_time": "2021-07-08T11:46:19.443Z"
   },
   {
    "duration": 9,
    "start_time": "2021-07-08T11:46:19.697Z"
   },
   {
    "duration": 224,
    "start_time": "2021-07-08T11:46:19.708Z"
   },
   {
    "duration": 21,
    "start_time": "2021-07-08T11:46:19.934Z"
   },
   {
    "duration": 9,
    "start_time": "2021-07-08T11:46:19.956Z"
   },
   {
    "duration": 32,
    "start_time": "2021-07-08T11:46:19.967Z"
   },
   {
    "duration": 288,
    "start_time": "2021-07-08T11:46:20.004Z"
   },
   {
    "duration": 23,
    "start_time": "2021-07-08T11:46:20.300Z"
   },
   {
    "duration": 11,
    "start_time": "2021-07-08T11:46:20.325Z"
   },
   {
    "duration": 11,
    "start_time": "2021-07-08T11:46:20.339Z"
   },
   {
    "duration": 259,
    "start_time": "2021-07-08T11:46:20.352Z"
   },
   {
    "duration": 438,
    "start_time": "2021-07-08T11:46:20.613Z"
   },
   {
    "duration": 207,
    "start_time": "2021-07-08T11:46:21.054Z"
   },
   {
    "duration": 27,
    "start_time": "2021-07-08T11:46:21.262Z"
   },
   {
    "duration": 19,
    "start_time": "2021-07-08T11:46:21.291Z"
   },
   {
    "duration": 820,
    "start_time": "2021-07-08T11:49:01.655Z"
   },
   {
    "duration": 372,
    "start_time": "2021-07-08T11:49:02.478Z"
   },
   {
    "duration": 98,
    "start_time": "2021-07-08T11:49:02.853Z"
   },
   {
    "duration": 6,
    "start_time": "2021-07-08T11:49:02.953Z"
   },
   {
    "duration": 39,
    "start_time": "2021-07-08T11:49:02.960Z"
   },
   {
    "duration": 9,
    "start_time": "2021-07-08T11:49:03.003Z"
   },
   {
    "duration": 23,
    "start_time": "2021-07-08T11:49:03.014Z"
   },
   {
    "duration": 6,
    "start_time": "2021-07-08T11:49:03.041Z"
   },
   {
    "duration": 20,
    "start_time": "2021-07-08T11:49:03.049Z"
   },
   {
    "duration": 18,
    "start_time": "2021-07-08T11:49:03.084Z"
   },
   {
    "duration": 14,
    "start_time": "2021-07-08T11:49:03.104Z"
   },
   {
    "duration": 39,
    "start_time": "2021-07-08T11:49:03.119Z"
   },
   {
    "duration": 38,
    "start_time": "2021-07-08T11:49:03.160Z"
   },
   {
    "duration": 26,
    "start_time": "2021-07-08T11:49:03.200Z"
   },
   {
    "duration": 7,
    "start_time": "2021-07-08T11:49:03.227Z"
   },
   {
    "duration": 4,
    "start_time": "2021-07-08T11:49:03.236Z"
   },
   {
    "duration": 15,
    "start_time": "2021-07-08T11:49:03.243Z"
   },
   {
    "duration": 21,
    "start_time": "2021-07-08T11:49:03.285Z"
   },
   {
    "duration": 17,
    "start_time": "2021-07-08T11:49:03.309Z"
   },
   {
    "duration": 10,
    "start_time": "2021-07-08T11:49:03.328Z"
   },
   {
    "duration": 65,
    "start_time": "2021-07-08T11:49:03.340Z"
   },
   {
    "duration": 18,
    "start_time": "2021-07-08T11:49:03.407Z"
   },
   {
    "duration": 8,
    "start_time": "2021-07-08T11:49:03.428Z"
   },
   {
    "duration": 15,
    "start_time": "2021-07-08T11:49:03.438Z"
   },
   {
    "duration": 40,
    "start_time": "2021-07-08T11:49:03.455Z"
   },
   {
    "duration": 12,
    "start_time": "2021-07-08T11:49:03.497Z"
   },
   {
    "duration": 29,
    "start_time": "2021-07-08T11:49:03.511Z"
   },
   {
    "duration": 285,
    "start_time": "2021-07-08T11:49:03.542Z"
   },
   {
    "duration": 8,
    "start_time": "2021-07-08T11:49:03.829Z"
   },
   {
    "duration": 227,
    "start_time": "2021-07-08T11:49:03.838Z"
   },
   {
    "duration": 40,
    "start_time": "2021-07-08T11:49:04.066Z"
   },
   {
    "duration": 10,
    "start_time": "2021-07-08T11:49:04.108Z"
   },
   {
    "duration": 26,
    "start_time": "2021-07-08T11:49:04.121Z"
   },
   {
    "duration": 290,
    "start_time": "2021-07-08T11:49:04.149Z"
   },
   {
    "duration": 26,
    "start_time": "2021-07-08T11:49:04.441Z"
   },
   {
    "duration": 31,
    "start_time": "2021-07-08T11:49:04.470Z"
   },
   {
    "duration": 14,
    "start_time": "2021-07-08T11:49:04.503Z"
   },
   {
    "duration": 259,
    "start_time": "2021-07-08T11:49:04.521Z"
   },
   {
    "duration": 480,
    "start_time": "2021-07-08T11:49:04.782Z"
   },
   {
    "duration": 225,
    "start_time": "2021-07-08T11:49:05.264Z"
   },
   {
    "duration": 22,
    "start_time": "2021-07-08T11:49:05.491Z"
   },
   {
    "duration": 24,
    "start_time": "2021-07-08T11:49:05.515Z"
   },
   {
    "duration": 634,
    "start_time": "2021-07-08T11:52:24.960Z"
   },
   {
    "duration": 199,
    "start_time": "2021-07-08T11:52:25.599Z"
   },
   {
    "duration": 106,
    "start_time": "2021-07-08T11:52:25.803Z"
   },
   {
    "duration": 7,
    "start_time": "2021-07-08T11:52:25.911Z"
   },
   {
    "duration": 29,
    "start_time": "2021-07-08T11:52:25.920Z"
   },
   {
    "duration": 7,
    "start_time": "2021-07-08T11:52:25.951Z"
   },
   {
    "duration": 26,
    "start_time": "2021-07-08T11:52:25.961Z"
   },
   {
    "duration": 11,
    "start_time": "2021-07-08T11:52:25.990Z"
   },
   {
    "duration": 29,
    "start_time": "2021-07-08T11:52:26.005Z"
   },
   {
    "duration": 9,
    "start_time": "2021-07-08T11:52:26.036Z"
   },
   {
    "duration": 8,
    "start_time": "2021-07-08T11:52:26.047Z"
   },
   {
    "duration": 63,
    "start_time": "2021-07-08T11:52:26.057Z"
   },
   {
    "duration": 17,
    "start_time": "2021-07-08T11:52:26.122Z"
   },
   {
    "duration": 43,
    "start_time": "2021-07-08T11:52:26.142Z"
   },
   {
    "duration": 17,
    "start_time": "2021-07-08T11:52:26.187Z"
   },
   {
    "duration": 5,
    "start_time": "2021-07-08T11:52:26.206Z"
   },
   {
    "duration": 12,
    "start_time": "2021-07-08T11:52:26.212Z"
   },
   {
    "duration": 11,
    "start_time": "2021-07-08T11:52:26.226Z"
   },
   {
    "duration": 12,
    "start_time": "2021-07-08T11:52:26.238Z"
   },
   {
    "duration": 38,
    "start_time": "2021-07-08T11:52:26.252Z"
   },
   {
    "duration": 40,
    "start_time": "2021-07-08T11:52:26.292Z"
   },
   {
    "duration": 17,
    "start_time": "2021-07-08T11:52:26.336Z"
   },
   {
    "duration": 39,
    "start_time": "2021-07-08T11:52:26.355Z"
   },
   {
    "duration": 11,
    "start_time": "2021-07-08T11:52:26.395Z"
   },
   {
    "duration": 23,
    "start_time": "2021-07-08T11:52:26.408Z"
   },
   {
    "duration": 12,
    "start_time": "2021-07-08T11:52:26.432Z"
   },
   {
    "duration": 41,
    "start_time": "2021-07-08T11:52:26.446Z"
   },
   {
    "duration": 215,
    "start_time": "2021-07-08T11:52:26.493Z"
   },
   {
    "duration": 8,
    "start_time": "2021-07-08T11:52:26.710Z"
   },
   {
    "duration": 228,
    "start_time": "2021-07-08T11:52:26.720Z"
   },
   {
    "duration": 18,
    "start_time": "2021-07-08T11:52:26.950Z"
   },
   {
    "duration": 35,
    "start_time": "2021-07-08T11:52:26.969Z"
   },
   {
    "duration": 23,
    "start_time": "2021-07-08T11:52:27.006Z"
   },
   {
    "duration": 258,
    "start_time": "2021-07-08T11:52:27.030Z"
   },
   {
    "duration": 24,
    "start_time": "2021-07-08T11:52:27.290Z"
   },
   {
    "duration": 12,
    "start_time": "2021-07-08T11:52:27.316Z"
   },
   {
    "duration": 10,
    "start_time": "2021-07-08T11:52:27.329Z"
   },
   {
    "duration": 298,
    "start_time": "2021-07-08T11:52:27.341Z"
   },
   {
    "duration": 436,
    "start_time": "2021-07-08T11:52:27.641Z"
   },
   {
    "duration": 216,
    "start_time": "2021-07-08T11:52:28.079Z"
   },
   {
    "duration": 20,
    "start_time": "2021-07-08T11:52:28.297Z"
   },
   {
    "duration": 17,
    "start_time": "2021-07-08T11:52:28.319Z"
   },
   {
    "duration": 46,
    "start_time": "2024-06-06T15:21:54.834Z"
   },
   {
    "duration": 7,
    "start_time": "2024-06-06T15:21:54.940Z"
   },
   {
    "duration": 5,
    "start_time": "2024-06-06T15:22:32.633Z"
   },
   {
    "duration": 5,
    "start_time": "2024-06-06T15:22:33.252Z"
   },
   {
    "duration": 360,
    "start_time": "2024-06-06T15:23:31.976Z"
   },
   {
    "duration": 281,
    "start_time": "2024-06-06T15:23:32.459Z"
   },
   {
    "duration": 79,
    "start_time": "2024-06-06T15:23:32.807Z"
   },
   {
    "duration": 15,
    "start_time": "2024-06-06T15:24:09.113Z"
   },
   {
    "duration": 5,
    "start_time": "2024-06-06T15:24:23.291Z"
   },
   {
    "duration": 8,
    "start_time": "2024-06-06T15:24:26.616Z"
   },
   {
    "duration": 7,
    "start_time": "2024-06-06T15:24:41.349Z"
   },
   {
    "duration": 28,
    "start_time": "2024-06-06T15:27:40.128Z"
   },
   {
    "duration": 7,
    "start_time": "2024-06-06T15:27:47.275Z"
   },
   {
    "duration": 78,
    "start_time": "2024-06-06T15:27:53.234Z"
   },
   {
    "duration": 35,
    "start_time": "2024-06-06T15:27:53.649Z"
   },
   {
    "duration": 6,
    "start_time": "2024-06-06T15:27:53.984Z"
   },
   {
    "duration": 7,
    "start_time": "2024-06-06T15:27:54.685Z"
   },
   {
    "duration": 7,
    "start_time": "2024-06-06T15:28:05.148Z"
   },
   {
    "duration": 82,
    "start_time": "2024-06-06T15:30:19.014Z"
   },
   {
    "duration": 35,
    "start_time": "2024-06-06T15:30:19.663Z"
   },
   {
    "duration": 18,
    "start_time": "2024-06-06T15:30:19.828Z"
   },
   {
    "duration": 84,
    "start_time": "2024-06-06T15:30:37.910Z"
   },
   {
    "duration": 36,
    "start_time": "2024-06-06T15:30:38.093Z"
   },
   {
    "duration": 17,
    "start_time": "2024-06-06T15:30:39.553Z"
   },
   {
    "duration": 9,
    "start_time": "2024-06-06T15:30:40.931Z"
   },
   {
    "duration": 10,
    "start_time": "2024-06-06T15:32:08.918Z"
   },
   {
    "duration": 13,
    "start_time": "2024-06-06T15:32:25.492Z"
   },
   {
    "duration": 2,
    "start_time": "2024-06-06T15:36:22.310Z"
   },
   {
    "duration": 44,
    "start_time": "2024-06-07T06:55:24.548Z"
   },
   {
    "duration": 4,
    "start_time": "2024-06-07T06:56:40.322Z"
   },
   {
    "duration": 437,
    "start_time": "2024-06-07T06:57:03.988Z"
   },
   {
    "duration": 279,
    "start_time": "2024-06-07T06:57:04.427Z"
   },
   {
    "duration": 77,
    "start_time": "2024-06-07T06:57:04.708Z"
   },
   {
    "duration": 22,
    "start_time": "2024-06-07T06:57:04.786Z"
   },
   {
    "duration": 12,
    "start_time": "2024-06-07T06:57:04.811Z"
   },
   {
    "duration": 8,
    "start_time": "2024-06-07T06:57:04.824Z"
   },
   {
    "duration": 16,
    "start_time": "2024-06-07T06:57:04.834Z"
   },
   {
    "duration": 14,
    "start_time": "2024-06-07T06:57:04.852Z"
   },
   {
    "duration": 9,
    "start_time": "2024-06-07T06:57:04.867Z"
   },
   {
    "duration": 46,
    "start_time": "2024-06-07T06:57:04.878Z"
   },
   {
    "duration": 65,
    "start_time": "2024-06-07T06:58:26.872Z"
   },
   {
    "duration": 9,
    "start_time": "2024-06-07T06:58:35.838Z"
   },
   {
    "duration": 8,
    "start_time": "2024-06-07T06:58:42.654Z"
   },
   {
    "duration": 8,
    "start_time": "2024-06-07T08:38:53.406Z"
   },
   {
    "duration": 10,
    "start_time": "2024-06-07T08:40:08.988Z"
   },
   {
    "duration": 379,
    "start_time": "2024-06-07T08:40:12.838Z"
   },
   {
    "duration": 83,
    "start_time": "2024-06-07T08:40:13.219Z"
   },
   {
    "duration": 35,
    "start_time": "2024-06-07T08:40:13.304Z"
   },
   {
    "duration": 24,
    "start_time": "2024-06-07T08:40:13.341Z"
   },
   {
    "duration": 19,
    "start_time": "2024-06-07T08:40:13.367Z"
   },
   {
    "duration": 21,
    "start_time": "2024-06-07T08:40:13.387Z"
   },
   {
    "duration": 37,
    "start_time": "2024-06-07T08:40:13.409Z"
   },
   {
    "duration": 20,
    "start_time": "2024-06-07T08:40:13.448Z"
   },
   {
    "duration": 26,
    "start_time": "2024-06-07T08:40:13.469Z"
   },
   {
    "duration": 40,
    "start_time": "2024-06-07T08:40:13.497Z"
   },
   {
    "duration": 4,
    "start_time": "2024-06-07T08:43:20.993Z"
   },
   {
    "duration": 12,
    "start_time": "2024-06-07T08:43:36.851Z"
   },
   {
    "duration": 26,
    "start_time": "2024-06-07T08:50:26.007Z"
   },
   {
    "duration": 82,
    "start_time": "2024-06-07T08:55:27.385Z"
   },
   {
    "duration": 3,
    "start_time": "2024-06-07T08:55:42.319Z"
   },
   {
    "duration": 3,
    "start_time": "2024-06-07T08:55:58.871Z"
   },
   {
    "duration": 10,
    "start_time": "2024-06-07T08:56:18.691Z"
   },
   {
    "duration": 10,
    "start_time": "2024-06-07T08:56:20.641Z"
   },
   {
    "duration": 10,
    "start_time": "2024-06-07T08:56:23.011Z"
   },
   {
    "duration": 22,
    "start_time": "2024-06-07T08:56:37.443Z"
   },
   {
    "duration": 4,
    "start_time": "2024-06-07T08:56:49.126Z"
   },
   {
    "duration": 3,
    "start_time": "2024-06-07T08:57:09.968Z"
   },
   {
    "duration": 3,
    "start_time": "2024-06-07T08:57:20.489Z"
   },
   {
    "duration": 2,
    "start_time": "2024-06-07T08:57:31.153Z"
   },
   {
    "duration": 3,
    "start_time": "2024-06-07T08:57:36.802Z"
   },
   {
    "duration": 12,
    "start_time": "2024-06-07T09:02:39.369Z"
   },
   {
    "duration": 8,
    "start_time": "2024-06-07T09:03:22.323Z"
   },
   {
    "duration": 11,
    "start_time": "2024-06-07T09:03:36.124Z"
   },
   {
    "duration": 56,
    "start_time": "2024-06-11T12:27:11.830Z"
   },
   {
    "duration": 7,
    "start_time": "2024-06-11T12:27:28.448Z"
   },
   {
    "duration": 400,
    "start_time": "2024-06-11T12:27:44.502Z"
   },
   {
    "duration": 322,
    "start_time": "2024-06-11T12:27:44.905Z"
   },
   {
    "duration": 88,
    "start_time": "2024-06-11T12:27:45.229Z"
   },
   {
    "duration": 32,
    "start_time": "2024-06-11T12:27:45.318Z"
   },
   {
    "duration": 64,
    "start_time": "2024-06-11T12:27:45.353Z"
   },
   {
    "duration": 68,
    "start_time": "2024-06-11T12:27:45.419Z"
   },
   {
    "duration": 17,
    "start_time": "2024-06-11T12:27:45.490Z"
   },
   {
    "duration": 103,
    "start_time": "2024-06-11T12:27:45.509Z"
   },
   {
    "duration": 0,
    "start_time": "2024-06-11T12:27:45.613Z"
   },
   {
    "duration": 0,
    "start_time": "2024-06-11T12:27:45.616Z"
   },
   {
    "duration": 0,
    "start_time": "2024-06-11T12:27:45.617Z"
   },
   {
    "duration": 0,
    "start_time": "2024-06-11T12:27:45.618Z"
   },
   {
    "duration": 0,
    "start_time": "2024-06-11T12:27:45.619Z"
   },
   {
    "duration": 0,
    "start_time": "2024-06-11T12:27:45.621Z"
   },
   {
    "duration": 8,
    "start_time": "2024-06-11T12:29:04.375Z"
   },
   {
    "duration": 21,
    "start_time": "2024-06-11T12:29:28.544Z"
   },
   {
    "duration": 10,
    "start_time": "2024-06-11T12:32:12.289Z"
   },
   {
    "duration": 16,
    "start_time": "2024-06-11T12:32:19.377Z"
   },
   {
    "duration": 9,
    "start_time": "2024-06-11T12:32:32.509Z"
   },
   {
    "duration": 9,
    "start_time": "2024-06-11T12:38:47.828Z"
   },
   {
    "duration": 4,
    "start_time": "2024-06-11T12:38:50.460Z"
   },
   {
    "duration": 6,
    "start_time": "2024-06-11T12:38:50.869Z"
   },
   {
    "duration": 4,
    "start_time": "2024-06-11T12:38:51.254Z"
   },
   {
    "duration": 2,
    "start_time": "2024-06-11T12:38:52.204Z"
   },
   {
    "duration": 27,
    "start_time": "2024-06-11T12:38:58.501Z"
   },
   {
    "duration": 18,
    "start_time": "2024-06-11T12:40:32.063Z"
   },
   {
    "duration": 11,
    "start_time": "2024-06-11T12:41:12.667Z"
   },
   {
    "duration": 51,
    "start_time": "2024-06-11T12:43:06.170Z"
   },
   {
    "duration": 12,
    "start_time": "2024-06-11T12:43:09.156Z"
   },
   {
    "duration": 18,
    "start_time": "2024-06-11T12:46:27.998Z"
   },
   {
    "duration": 9,
    "start_time": "2024-06-11T12:46:36.950Z"
   },
   {
    "duration": 9,
    "start_time": "2024-06-11T12:46:38.260Z"
   },
   {
    "duration": 16,
    "start_time": "2024-06-11T12:46:38.897Z"
   },
   {
    "duration": 12,
    "start_time": "2024-06-11T12:56:39.320Z"
   },
   {
    "duration": 17,
    "start_time": "2024-06-11T12:57:12.038Z"
   },
   {
    "duration": 5,
    "start_time": "2024-06-11T12:57:27.807Z"
   },
   {
    "duration": 16,
    "start_time": "2024-06-11T12:57:33.362Z"
   },
   {
    "duration": 6,
    "start_time": "2024-06-11T12:58:35.341Z"
   },
   {
    "duration": 4,
    "start_time": "2024-06-11T12:58:45.805Z"
   },
   {
    "duration": 5,
    "start_time": "2024-06-11T12:58:46.883Z"
   },
   {
    "duration": 5,
    "start_time": "2024-06-11T12:59:43.051Z"
   },
   {
    "duration": 399,
    "start_time": "2024-06-11T12:59:50.517Z"
   },
   {
    "duration": 99,
    "start_time": "2024-06-11T12:59:50.918Z"
   },
   {
    "duration": 39,
    "start_time": "2024-06-11T12:59:51.018Z"
   },
   {
    "duration": 30,
    "start_time": "2024-06-11T12:59:51.060Z"
   },
   {
    "duration": 17,
    "start_time": "2024-06-11T12:59:51.092Z"
   },
   {
    "duration": 32,
    "start_time": "2024-06-11T12:59:51.111Z"
   },
   {
    "duration": 12,
    "start_time": "2024-06-11T12:59:51.145Z"
   },
   {
    "duration": 17,
    "start_time": "2024-06-11T12:59:51.159Z"
   },
   {
    "duration": 8,
    "start_time": "2024-06-11T12:59:51.178Z"
   },
   {
    "duration": 17,
    "start_time": "2024-06-11T12:59:51.188Z"
   },
   {
    "duration": 30,
    "start_time": "2024-06-11T12:59:51.207Z"
   },
   {
    "duration": 42,
    "start_time": "2024-06-11T12:59:51.239Z"
   },
   {
    "duration": 15,
    "start_time": "2024-06-11T12:59:51.283Z"
   },
   {
    "duration": 15,
    "start_time": "2024-06-11T12:59:51.300Z"
   },
   {
    "duration": 13,
    "start_time": "2024-06-11T12:59:51.317Z"
   },
   {
    "duration": 29,
    "start_time": "2024-06-11T12:59:51.331Z"
   },
   {
    "duration": 6,
    "start_time": "2024-06-11T12:59:51.362Z"
   },
   {
    "duration": 17,
    "start_time": "2024-06-11T12:59:51.369Z"
   },
   {
    "duration": 2,
    "start_time": "2024-06-11T13:00:03.195Z"
   },
   {
    "duration": 98,
    "start_time": "2024-06-11T13:00:03.374Z"
   },
   {
    "duration": 39,
    "start_time": "2024-06-11T13:00:03.532Z"
   },
   {
    "duration": 21,
    "start_time": "2024-06-11T13:00:03.699Z"
   },
   {
    "duration": 16,
    "start_time": "2024-06-11T13:00:03.889Z"
   },
   {
    "duration": 11,
    "start_time": "2024-06-11T13:00:04.039Z"
   },
   {
    "duration": 12,
    "start_time": "2024-06-11T13:00:04.194Z"
   },
   {
    "duration": 21,
    "start_time": "2024-06-11T13:00:04.529Z"
   },
   {
    "duration": 5,
    "start_time": "2024-06-11T13:00:04.684Z"
   },
   {
    "duration": 4,
    "start_time": "2024-06-11T13:00:04.873Z"
   },
   {
    "duration": 8,
    "start_time": "2024-06-11T13:00:05.045Z"
   },
   {
    "duration": 27,
    "start_time": "2024-06-11T13:00:05.227Z"
   },
   {
    "duration": 22,
    "start_time": "2024-06-11T13:00:06.788Z"
   },
   {
    "duration": 8,
    "start_time": "2024-06-11T13:00:07.615Z"
   },
   {
    "duration": 5,
    "start_time": "2024-06-11T13:00:10.042Z"
   },
   {
    "duration": 78,
    "start_time": "2024-06-11T13:01:08.507Z"
   },
   {
    "duration": 11,
    "start_time": "2024-06-11T13:01:34.114Z"
   },
   {
    "duration": 6,
    "start_time": "2024-06-11T13:01:44.602Z"
   },
   {
    "duration": 4,
    "start_time": "2024-06-11T13:03:03.572Z"
   },
   {
    "duration": 5,
    "start_time": "2024-06-11T13:03:06.438Z"
   },
   {
    "duration": 6,
    "start_time": "2024-06-11T13:03:10.404Z"
   },
   {
    "duration": 5,
    "start_time": "2024-06-11T13:03:35.738Z"
   },
   {
    "duration": 16,
    "start_time": "2024-06-11T13:03:36.388Z"
   },
   {
    "duration": 11,
    "start_time": "2024-06-11T13:05:19.454Z"
   },
   {
    "duration": 27,
    "start_time": "2024-06-11T13:07:34.463Z"
   },
   {
    "duration": 17,
    "start_time": "2024-06-11T13:12:30.778Z"
   },
   {
    "duration": 8,
    "start_time": "2024-06-11T13:12:48.617Z"
   },
   {
    "duration": 17,
    "start_time": "2024-06-11T13:12:54.851Z"
   },
   {
    "duration": 5,
    "start_time": "2024-06-11T13:13:18.692Z"
   },
   {
    "duration": 13,
    "start_time": "2024-06-11T13:14:16.651Z"
   },
   {
    "duration": 4,
    "start_time": "2024-06-11T13:18:47.750Z"
   },
   {
    "duration": 11,
    "start_time": "2024-06-11T13:18:47.908Z"
   },
   {
    "duration": 6,
    "start_time": "2024-06-11T13:18:48.076Z"
   },
   {
    "duration": 434,
    "start_time": "2024-06-11T13:20:38.153Z"
   },
   {
    "duration": 100,
    "start_time": "2024-06-11T13:20:38.589Z"
   },
   {
    "duration": 39,
    "start_time": "2024-06-11T13:20:38.691Z"
   },
   {
    "duration": 39,
    "start_time": "2024-06-11T13:20:38.732Z"
   },
   {
    "duration": 22,
    "start_time": "2024-06-11T13:20:38.775Z"
   },
   {
    "duration": 11,
    "start_time": "2024-06-11T13:20:38.799Z"
   },
   {
    "duration": 14,
    "start_time": "2024-06-11T13:20:38.811Z"
   },
   {
    "duration": 34,
    "start_time": "2024-06-11T13:20:38.827Z"
   },
   {
    "duration": 6,
    "start_time": "2024-06-11T13:20:38.863Z"
   },
   {
    "duration": 18,
    "start_time": "2024-06-11T13:20:38.870Z"
   },
   {
    "duration": 22,
    "start_time": "2024-06-11T13:20:38.889Z"
   },
   {
    "duration": 51,
    "start_time": "2024-06-11T13:20:38.913Z"
   },
   {
    "duration": 20,
    "start_time": "2024-06-11T13:20:38.966Z"
   },
   {
    "duration": 27,
    "start_time": "2024-06-11T13:20:38.989Z"
   },
   {
    "duration": 5,
    "start_time": "2024-06-11T13:20:39.018Z"
   },
   {
    "duration": 12,
    "start_time": "2024-06-11T13:20:39.025Z"
   },
   {
    "duration": 14,
    "start_time": "2024-06-11T13:20:39.039Z"
   },
   {
    "duration": 42,
    "start_time": "2024-06-11T13:20:39.055Z"
   },
   {
    "duration": 10,
    "start_time": "2024-06-11T13:20:39.099Z"
   },
   {
    "duration": 11,
    "start_time": "2024-06-11T13:20:39.110Z"
   },
   {
    "duration": 27,
    "start_time": "2024-06-11T13:20:39.123Z"
   },
   {
    "duration": 14,
    "start_time": "2024-06-11T13:20:39.152Z"
   },
   {
    "duration": 32,
    "start_time": "2024-06-11T13:20:39.168Z"
   },
   {
    "duration": 5,
    "start_time": "2024-06-11T13:20:39.202Z"
   },
   {
    "duration": 44,
    "start_time": "2024-06-11T13:20:39.208Z"
   },
   {
    "duration": 8,
    "start_time": "2024-06-11T13:20:39.253Z"
   },
   {
    "duration": 11,
    "start_time": "2024-06-11T13:24:40.256Z"
   },
   {
    "duration": 12,
    "start_time": "2024-06-11T13:39:43.993Z"
   },
   {
    "duration": 23,
    "start_time": "2024-06-11T13:40:18.500Z"
   },
   {
    "duration": 4,
    "start_time": "2024-06-11T13:40:52.892Z"
   },
   {
    "duration": 6,
    "start_time": "2024-06-11T13:43:22.290Z"
   },
   {
    "duration": 10,
    "start_time": "2024-06-11T13:44:09.394Z"
   },
   {
    "duration": 5,
    "start_time": "2024-06-11T13:44:39.617Z"
   },
   {
    "duration": 5,
    "start_time": "2024-06-11T13:46:36.698Z"
   },
   {
    "duration": 5,
    "start_time": "2024-06-11T13:46:37.807Z"
   },
   {
    "duration": 8,
    "start_time": "2024-06-11T13:46:38.465Z"
   },
   {
    "duration": 5,
    "start_time": "2024-06-11T13:47:42.797Z"
   },
   {
    "duration": 14,
    "start_time": "2024-06-11T13:56:42.819Z"
   },
   {
    "duration": 6,
    "start_time": "2024-06-11T13:56:51.138Z"
   },
   {
    "duration": 20,
    "start_time": "2024-06-11T14:13:05.026Z"
   },
   {
    "duration": 11,
    "start_time": "2024-06-11T14:15:09.173Z"
   },
   {
    "duration": 54,
    "start_time": "2024-06-11T16:08:20.026Z"
   },
   {
    "duration": 7,
    "start_time": "2024-06-11T16:08:27.923Z"
   },
   {
    "duration": 408,
    "start_time": "2024-06-11T16:08:36.189Z"
   },
   {
    "duration": 310,
    "start_time": "2024-06-11T16:08:36.599Z"
   },
   {
    "duration": 87,
    "start_time": "2024-06-11T16:08:36.911Z"
   },
   {
    "duration": 27,
    "start_time": "2024-06-11T16:08:37.000Z"
   },
   {
    "duration": 16,
    "start_time": "2024-06-11T16:08:37.029Z"
   },
   {
    "duration": 34,
    "start_time": "2024-06-11T16:08:37.047Z"
   },
   {
    "duration": 26,
    "start_time": "2024-06-11T16:08:37.083Z"
   },
   {
    "duration": 31,
    "start_time": "2024-06-11T16:08:37.111Z"
   },
   {
    "duration": 15,
    "start_time": "2024-06-11T16:08:37.143Z"
   },
   {
    "duration": 14,
    "start_time": "2024-06-11T16:08:37.161Z"
   },
   {
    "duration": 25,
    "start_time": "2024-06-11T16:08:37.177Z"
   },
   {
    "duration": 33,
    "start_time": "2024-06-11T16:08:37.204Z"
   },
   {
    "duration": 17,
    "start_time": "2024-06-11T16:08:37.239Z"
   },
   {
    "duration": 9,
    "start_time": "2024-06-11T16:08:37.258Z"
   },
   {
    "duration": 5,
    "start_time": "2024-06-11T16:08:37.269Z"
   },
   {
    "duration": 11,
    "start_time": "2024-06-11T16:08:37.275Z"
   },
   {
    "duration": 5,
    "start_time": "2024-06-11T16:08:37.288Z"
   },
   {
    "duration": 23,
    "start_time": "2024-06-11T16:08:37.295Z"
   },
   {
    "duration": 9,
    "start_time": "2024-06-11T16:08:37.320Z"
   },
   {
    "duration": 25,
    "start_time": "2024-06-11T16:08:37.331Z"
   },
   {
    "duration": 28,
    "start_time": "2024-06-11T16:08:37.357Z"
   },
   {
    "duration": 15,
    "start_time": "2024-06-11T16:08:37.386Z"
   },
   {
    "duration": 28,
    "start_time": "2024-06-11T16:08:37.402Z"
   },
   {
    "duration": 5,
    "start_time": "2024-06-11T16:08:37.432Z"
   },
   {
    "duration": 11,
    "start_time": "2024-06-11T16:08:37.455Z"
   },
   {
    "duration": 24,
    "start_time": "2024-06-11T16:08:37.468Z"
   },
   {
    "duration": 5,
    "start_time": "2024-06-11T16:08:37.494Z"
   },
   {
    "duration": 39,
    "start_time": "2024-06-11T16:08:37.502Z"
   },
   {
    "duration": 29,
    "start_time": "2024-06-11T16:08:37.543Z"
   },
   {
    "duration": 26,
    "start_time": "2024-06-11T16:08:37.574Z"
   },
   {
    "duration": 21,
    "start_time": "2024-06-11T16:08:37.602Z"
   },
   {
    "duration": 6,
    "start_time": "2024-06-11T16:08:37.625Z"
   },
   {
    "duration": 6,
    "start_time": "2024-06-11T16:08:37.633Z"
   },
   {
    "duration": 14,
    "start_time": "2024-06-11T16:08:37.641Z"
   },
   {
    "duration": 5,
    "start_time": "2024-06-11T16:08:37.657Z"
   },
   {
    "duration": 26,
    "start_time": "2024-06-11T16:08:37.664Z"
   },
   {
    "duration": 29,
    "start_time": "2024-06-11T16:08:37.691Z"
   },
   {
    "duration": 69,
    "start_time": "2024-06-11T16:08:37.721Z"
   },
   {
    "duration": 12,
    "start_time": "2024-06-11T16:08:49.172Z"
   },
   {
    "duration": 18,
    "start_time": "2024-06-11T16:08:54.420Z"
   },
   {
    "duration": 8,
    "start_time": "2024-06-11T16:10:53.164Z"
   },
   {
    "duration": 21,
    "start_time": "2024-06-11T16:10:59.973Z"
   },
   {
    "duration": 27,
    "start_time": "2024-06-11T16:11:24.570Z"
   },
   {
    "duration": 32,
    "start_time": "2024-06-11T16:11:37.408Z"
   },
   {
    "duration": 48,
    "start_time": "2024-06-11T16:11:54.524Z"
   },
   {
    "duration": 28,
    "start_time": "2024-06-11T16:12:02.224Z"
   },
   {
    "duration": 44,
    "start_time": "2024-06-11T16:12:53.910Z"
   },
   {
    "duration": 28,
    "start_time": "2024-06-11T16:13:05.563Z"
   },
   {
    "duration": 12,
    "start_time": "2024-06-11T16:16:35.675Z"
   },
   {
    "duration": 3,
    "start_time": "2024-06-11T16:18:44.324Z"
   },
   {
    "duration": 27,
    "start_time": "2024-06-11T16:18:44.826Z"
   },
   {
    "duration": 30,
    "start_time": "2024-06-11T16:19:02.410Z"
   },
   {
    "duration": 5,
    "start_time": "2024-06-11T16:19:18.959Z"
   },
   {
    "duration": 27,
    "start_time": "2024-06-11T16:20:28.433Z"
   },
   {
    "duration": 8,
    "start_time": "2024-06-11T16:21:39.834Z"
   },
   {
    "duration": 9,
    "start_time": "2024-06-11T16:21:46.975Z"
   },
   {
    "duration": 4,
    "start_time": "2024-06-11T16:22:04.858Z"
   },
   {
    "duration": 3,
    "start_time": "2024-06-11T16:26:51.896Z"
   },
   {
    "duration": 18,
    "start_time": "2024-06-11T16:27:12.708Z"
   },
   {
    "duration": 451,
    "start_time": "2024-06-11T16:27:25.842Z"
   },
   {
    "duration": 95,
    "start_time": "2024-06-11T16:27:26.295Z"
   },
   {
    "duration": 38,
    "start_time": "2024-06-11T16:27:26.392Z"
   },
   {
    "duration": 27,
    "start_time": "2024-06-11T16:27:26.431Z"
   },
   {
    "duration": 16,
    "start_time": "2024-06-11T16:27:26.460Z"
   },
   {
    "duration": 13,
    "start_time": "2024-06-11T16:27:26.478Z"
   },
   {
    "duration": 12,
    "start_time": "2024-06-11T16:27:26.493Z"
   },
   {
    "duration": 21,
    "start_time": "2024-06-11T16:27:26.507Z"
   },
   {
    "duration": 29,
    "start_time": "2024-06-11T16:27:26.529Z"
   },
   {
    "duration": 3,
    "start_time": "2024-06-11T16:27:26.560Z"
   },
   {
    "duration": 9,
    "start_time": "2024-06-11T16:27:26.565Z"
   },
   {
    "duration": 26,
    "start_time": "2024-06-11T16:27:26.575Z"
   },
   {
    "duration": 23,
    "start_time": "2024-06-11T16:27:26.603Z"
   },
   {
    "duration": 10,
    "start_time": "2024-06-11T16:27:26.655Z"
   },
   {
    "duration": 6,
    "start_time": "2024-06-11T16:27:26.667Z"
   },
   {
    "duration": 14,
    "start_time": "2024-06-11T16:27:26.675Z"
   },
   {
    "duration": 6,
    "start_time": "2024-06-11T16:27:26.690Z"
   },
   {
    "duration": 6,
    "start_time": "2024-06-11T16:27:26.697Z"
   },
   {
    "duration": 6,
    "start_time": "2024-06-11T16:27:26.704Z"
   },
   {
    "duration": 49,
    "start_time": "2024-06-11T16:27:26.711Z"
   },
   {
    "duration": 27,
    "start_time": "2024-06-11T16:27:26.761Z"
   },
   {
    "duration": 16,
    "start_time": "2024-06-11T16:27:26.789Z"
   },
   {
    "duration": 23,
    "start_time": "2024-06-11T16:27:26.807Z"
   },
   {
    "duration": 26,
    "start_time": "2024-06-11T16:27:26.833Z"
   },
   {
    "duration": 15,
    "start_time": "2024-06-11T16:27:26.860Z"
   },
   {
    "duration": 21,
    "start_time": "2024-06-11T16:27:26.876Z"
   },
   {
    "duration": 29,
    "start_time": "2024-06-11T16:27:26.898Z"
   },
   {
    "duration": 29,
    "start_time": "2024-06-11T16:27:26.929Z"
   },
   {
    "duration": 19,
    "start_time": "2024-06-11T16:27:26.960Z"
   },
   {
    "duration": 21,
    "start_time": "2024-06-11T16:27:26.981Z"
   },
   {
    "duration": 15,
    "start_time": "2024-06-11T16:27:27.003Z"
   },
   {
    "duration": 7,
    "start_time": "2024-06-11T16:27:27.020Z"
   },
   {
    "duration": 29,
    "start_time": "2024-06-11T16:27:27.028Z"
   },
   {
    "duration": 6,
    "start_time": "2024-06-11T16:27:27.058Z"
   },
   {
    "duration": 41,
    "start_time": "2024-06-11T16:27:27.066Z"
   },
   {
    "duration": 90,
    "start_time": "2024-06-11T16:27:27.109Z"
   },
   {
    "duration": 0,
    "start_time": "2024-06-11T16:27:27.200Z"
   },
   {
    "duration": 8,
    "start_time": "2024-06-11T16:39:04.580Z"
   },
   {
    "duration": 7,
    "start_time": "2024-06-11T16:39:09.588Z"
   },
   {
    "duration": 8,
    "start_time": "2024-06-11T16:39:09.753Z"
   },
   {
    "duration": 7,
    "start_time": "2024-06-11T16:39:09.927Z"
   },
   {
    "duration": 7,
    "start_time": "2024-06-11T16:39:10.095Z"
   },
   {
    "duration": 7,
    "start_time": "2024-06-11T16:39:10.311Z"
   },
   {
    "duration": 402,
    "start_time": "2024-06-11T16:39:33.716Z"
   },
   {
    "duration": 107,
    "start_time": "2024-06-11T16:39:34.120Z"
   },
   {
    "duration": 39,
    "start_time": "2024-06-11T16:39:34.229Z"
   },
   {
    "duration": 28,
    "start_time": "2024-06-11T16:39:34.270Z"
   },
   {
    "duration": 16,
    "start_time": "2024-06-11T16:39:34.300Z"
   },
   {
    "duration": 10,
    "start_time": "2024-06-11T16:39:34.318Z"
   },
   {
    "duration": 27,
    "start_time": "2024-06-11T16:39:34.330Z"
   },
   {
    "duration": 18,
    "start_time": "2024-06-11T16:39:34.358Z"
   },
   {
    "duration": 4,
    "start_time": "2024-06-11T16:39:34.378Z"
   },
   {
    "duration": 6,
    "start_time": "2024-06-11T16:39:34.385Z"
   },
   {
    "duration": 9,
    "start_time": "2024-06-11T16:39:34.393Z"
   },
   {
    "duration": 52,
    "start_time": "2024-06-11T16:39:34.403Z"
   },
   {
    "duration": 17,
    "start_time": "2024-06-11T16:39:34.457Z"
   },
   {
    "duration": 7,
    "start_time": "2024-06-11T16:39:34.476Z"
   },
   {
    "duration": 6,
    "start_time": "2024-06-11T16:39:34.485Z"
   },
   {
    "duration": 11,
    "start_time": "2024-06-11T16:39:34.492Z"
   },
   {
    "duration": 6,
    "start_time": "2024-06-11T16:39:34.505Z"
   },
   {
    "duration": 43,
    "start_time": "2024-06-11T16:39:34.513Z"
   },
   {
    "duration": 6,
    "start_time": "2024-06-11T16:39:34.558Z"
   },
   {
    "duration": 16,
    "start_time": "2024-06-11T16:39:34.566Z"
   },
   {
    "duration": 27,
    "start_time": "2024-06-11T16:39:34.584Z"
   },
   {
    "duration": 44,
    "start_time": "2024-06-11T16:39:34.614Z"
   },
   {
    "duration": 19,
    "start_time": "2024-06-11T16:39:34.660Z"
   },
   {
    "duration": 13,
    "start_time": "2024-06-11T16:39:34.680Z"
   },
   {
    "duration": 11,
    "start_time": "2024-06-11T16:39:34.695Z"
   },
   {
    "duration": 20,
    "start_time": "2024-06-11T16:39:34.708Z"
   },
   {
    "duration": 51,
    "start_time": "2024-06-11T16:39:34.730Z"
   },
   {
    "duration": 17,
    "start_time": "2024-06-11T16:39:34.784Z"
   },
   {
    "duration": 9,
    "start_time": "2024-06-11T16:39:34.803Z"
   },
   {
    "duration": 7,
    "start_time": "2024-06-11T16:39:34.813Z"
   },
   {
    "duration": 36,
    "start_time": "2024-06-11T16:39:34.821Z"
   },
   {
    "duration": 11,
    "start_time": "2024-06-11T16:39:34.858Z"
   },
   {
    "duration": 7,
    "start_time": "2024-06-11T16:39:34.871Z"
   },
   {
    "duration": 46,
    "start_time": "2024-06-11T16:39:34.879Z"
   },
   {
    "duration": 65,
    "start_time": "2024-06-11T16:39:34.927Z"
   },
   {
    "duration": 0,
    "start_time": "2024-06-11T16:39:34.993Z"
   },
   {
    "duration": 7,
    "start_time": "2024-06-11T16:39:40.694Z"
   },
   {
    "duration": 3,
    "start_time": "2024-06-11T16:39:49.161Z"
   },
   {
    "duration": 92,
    "start_time": "2024-06-11T16:39:49.596Z"
   },
   {
    "duration": 37,
    "start_time": "2024-06-11T16:39:49.964Z"
   },
   {
    "duration": 21,
    "start_time": "2024-06-11T16:39:50.298Z"
   },
   {
    "duration": 19,
    "start_time": "2024-06-11T16:39:51.157Z"
   },
   {
    "duration": 10,
    "start_time": "2024-06-11T16:39:52.165Z"
   },
   {
    "duration": 10,
    "start_time": "2024-06-11T16:39:52.711Z"
   },
   {
    "duration": 17,
    "start_time": "2024-06-11T16:40:17.105Z"
   },
   {
    "duration": 4,
    "start_time": "2024-06-11T16:40:19.265Z"
   },
   {
    "duration": 5,
    "start_time": "2024-06-11T16:40:19.904Z"
   },
   {
    "duration": 8,
    "start_time": "2024-06-11T16:40:20.772Z"
   },
   {
    "duration": 27,
    "start_time": "2024-06-11T16:40:21.564Z"
   },
   {
    "duration": 17,
    "start_time": "2024-06-11T16:40:24.112Z"
   },
   {
    "duration": 7,
    "start_time": "2024-06-11T16:40:24.788Z"
   },
   {
    "duration": 6,
    "start_time": "2024-06-11T16:40:25.113Z"
   },
   {
    "duration": 17,
    "start_time": "2024-06-11T16:40:25.381Z"
   },
   {
    "duration": 4,
    "start_time": "2024-06-11T16:40:25.647Z"
   },
   {
    "duration": 5,
    "start_time": "2024-06-11T16:40:25.898Z"
   },
   {
    "duration": 6,
    "start_time": "2024-06-11T16:40:26.129Z"
   },
   {
    "duration": 11,
    "start_time": "2024-06-11T16:40:27.536Z"
   },
   {
    "duration": 38,
    "start_time": "2024-06-11T16:40:29.816Z"
   },
   {
    "duration": 14,
    "start_time": "2024-06-11T16:40:30.688Z"
   },
   {
    "duration": 18,
    "start_time": "2024-06-11T16:40:31.846Z"
   },
   {
    "duration": 5,
    "start_time": "2024-06-11T16:40:33.143Z"
   },
   {
    "duration": 10,
    "start_time": "2024-06-11T16:40:34.065Z"
   },
   {
    "duration": 22,
    "start_time": "2024-06-11T16:40:35.097Z"
   },
   {
    "duration": 30,
    "start_time": "2024-06-11T16:40:36.532Z"
   },
   {
    "duration": 16,
    "start_time": "2024-06-11T16:40:41.641Z"
   },
   {
    "duration": 10,
    "start_time": "2024-06-11T16:41:22.346Z"
   },
   {
    "duration": 5,
    "start_time": "2024-06-11T16:41:22.698Z"
   },
   {
    "duration": 4,
    "start_time": "2024-06-11T16:41:23.167Z"
   },
   {
    "duration": 8,
    "start_time": "2024-06-11T16:41:23.559Z"
   },
   {
    "duration": 3,
    "start_time": "2024-06-11T16:41:23.959Z"
   },
   {
    "duration": 35,
    "start_time": "2024-06-11T16:41:24.543Z"
   },
   {
    "duration": 7,
    "start_time": "2024-06-11T16:41:39.881Z"
   },
   {
    "duration": 7,
    "start_time": "2024-06-11T16:41:50.831Z"
   },
   {
    "duration": 6,
    "start_time": "2024-06-11T16:41:51.331Z"
   },
   {
    "duration": 8,
    "start_time": "2024-06-11T16:42:30.920Z"
   },
   {
    "duration": 7,
    "start_time": "2024-06-11T16:42:36.879Z"
   },
   {
    "duration": 3,
    "start_time": "2024-06-11T16:42:55.504Z"
   },
   {
    "duration": 11,
    "start_time": "2024-06-11T16:42:55.864Z"
   },
   {
    "duration": 3,
    "start_time": "2024-06-11T16:43:04.512Z"
   },
   {
    "duration": 93,
    "start_time": "2024-06-11T16:43:04.861Z"
   },
   {
    "duration": 39,
    "start_time": "2024-06-11T16:43:05.012Z"
   },
   {
    "duration": 21,
    "start_time": "2024-06-11T16:43:05.145Z"
   },
   {
    "duration": 16,
    "start_time": "2024-06-11T16:43:05.293Z"
   },
   {
    "duration": 10,
    "start_time": "2024-06-11T16:43:05.444Z"
   },
   {
    "duration": 11,
    "start_time": "2024-06-11T16:43:05.579Z"
   },
   {
    "duration": 17,
    "start_time": "2024-06-11T16:43:05.867Z"
   },
   {
    "duration": 4,
    "start_time": "2024-06-11T16:43:06.012Z"
   },
   {
    "duration": 4,
    "start_time": "2024-06-11T16:43:06.148Z"
   },
   {
    "duration": 9,
    "start_time": "2024-06-11T16:43:06.528Z"
   },
   {
    "duration": 27,
    "start_time": "2024-06-11T16:43:06.697Z"
   },
   {
    "duration": 25,
    "start_time": "2024-06-11T16:43:07.145Z"
   },
   {
    "duration": 7,
    "start_time": "2024-06-11T16:43:07.311Z"
   },
   {
    "duration": 5,
    "start_time": "2024-06-11T16:43:07.467Z"
   },
   {
    "duration": 11,
    "start_time": "2024-06-11T16:43:07.614Z"
   },
   {
    "duration": 4,
    "start_time": "2024-06-11T16:43:07.780Z"
   },
   {
    "duration": 5,
    "start_time": "2024-06-11T16:43:07.952Z"
   },
   {
    "duration": 5,
    "start_time": "2024-06-11T16:43:08.112Z"
   },
   {
    "duration": 12,
    "start_time": "2024-06-11T16:43:08.427Z"
   },
   {
    "duration": 27,
    "start_time": "2024-06-11T16:43:08.578Z"
   },
   {
    "duration": 21,
    "start_time": "2024-06-11T16:43:08.728Z"
   },
   {
    "duration": 25,
    "start_time": "2024-06-11T16:43:08.880Z"
   },
   {
    "duration": 4,
    "start_time": "2024-06-11T16:43:09.030Z"
   },
   {
    "duration": 10,
    "start_time": "2024-06-11T16:43:09.211Z"
   },
   {
    "duration": 21,
    "start_time": "2024-06-11T16:43:09.527Z"
   },
   {
    "duration": 29,
    "start_time": "2024-06-11T16:43:09.695Z"
   },
   {
    "duration": 18,
    "start_time": "2024-06-11T16:43:09.860Z"
   },
   {
    "duration": 9,
    "start_time": "2024-06-11T16:43:10.028Z"
   },
   {
    "duration": 6,
    "start_time": "2024-06-11T16:43:10.177Z"
   },
   {
    "duration": 5,
    "start_time": "2024-06-11T16:43:10.329Z"
   },
   {
    "duration": 8,
    "start_time": "2024-06-11T16:43:10.494Z"
   },
   {
    "duration": 3,
    "start_time": "2024-06-11T16:43:10.644Z"
   },
   {
    "duration": 33,
    "start_time": "2024-06-11T16:43:10.795Z"
   },
   {
    "duration": 8,
    "start_time": "2024-06-11T16:43:12.596Z"
   },
   {
    "duration": 8,
    "start_time": "2024-06-11T16:43:13.418Z"
   },
   {
    "duration": 9,
    "start_time": "2024-06-11T16:43:17.100Z"
   },
   {
    "duration": 3,
    "start_time": "2024-06-11T16:43:18.621Z"
   },
   {
    "duration": 10,
    "start_time": "2024-06-11T16:43:18.981Z"
   },
   {
    "duration": 452,
    "start_time": "2024-06-11T16:44:59.228Z"
   },
   {
    "duration": 97,
    "start_time": "2024-06-11T16:44:59.682Z"
   },
   {
    "duration": 38,
    "start_time": "2024-06-11T16:44:59.782Z"
   },
   {
    "duration": 28,
    "start_time": "2024-06-11T16:44:59.821Z"
   },
   {
    "duration": 45,
    "start_time": "2024-06-11T16:44:59.851Z"
   },
   {
    "duration": 11,
    "start_time": "2024-06-11T16:44:59.897Z"
   },
   {
    "duration": 14,
    "start_time": "2024-06-11T16:44:59.909Z"
   },
   {
    "duration": 24,
    "start_time": "2024-06-11T16:44:59.925Z"
   },
   {
    "duration": 5,
    "start_time": "2024-06-11T16:44:59.951Z"
   },
   {
    "duration": 4,
    "start_time": "2024-06-11T16:44:59.958Z"
   },
   {
    "duration": 11,
    "start_time": "2024-06-11T16:44:59.963Z"
   },
   {
    "duration": 29,
    "start_time": "2024-06-11T16:44:59.976Z"
   },
   {
    "duration": 17,
    "start_time": "2024-06-11T16:45:00.006Z"
   },
   {
    "duration": 34,
    "start_time": "2024-06-11T16:45:00.026Z"
   },
   {
    "duration": 65,
    "start_time": "2024-06-11T16:45:00.062Z"
   },
   {
    "duration": 73,
    "start_time": "2024-06-11T16:45:00.128Z"
   },
   {
    "duration": 32,
    "start_time": "2024-06-11T16:45:00.203Z"
   },
   {
    "duration": 28,
    "start_time": "2024-06-11T16:45:00.237Z"
   },
   {
    "duration": 31,
    "start_time": "2024-06-11T16:45:00.267Z"
   },
   {
    "duration": 28,
    "start_time": "2024-06-11T16:45:00.299Z"
   },
   {
    "duration": 68,
    "start_time": "2024-06-11T16:45:00.329Z"
   },
   {
    "duration": 15,
    "start_time": "2024-06-11T16:45:00.398Z"
   },
   {
    "duration": 45,
    "start_time": "2024-06-11T16:45:00.414Z"
   },
   {
    "duration": 32,
    "start_time": "2024-06-11T16:45:00.460Z"
   },
   {
    "duration": 59,
    "start_time": "2024-06-11T16:45:00.494Z"
   },
   {
    "duration": 64,
    "start_time": "2024-06-11T16:45:00.555Z"
   },
   {
    "duration": 59,
    "start_time": "2024-06-11T16:45:00.622Z"
   },
   {
    "duration": 32,
    "start_time": "2024-06-11T16:45:00.683Z"
   },
   {
    "duration": 32,
    "start_time": "2024-06-11T16:45:00.718Z"
   },
   {
    "duration": 22,
    "start_time": "2024-06-11T16:45:00.752Z"
   },
   {
    "duration": 24,
    "start_time": "2024-06-11T16:45:00.775Z"
   },
   {
    "duration": 31,
    "start_time": "2024-06-11T16:45:00.801Z"
   },
   {
    "duration": 23,
    "start_time": "2024-06-11T16:45:00.834Z"
   },
   {
    "duration": 62,
    "start_time": "2024-06-11T16:45:00.859Z"
   },
   {
    "duration": 95,
    "start_time": "2024-06-11T16:45:00.923Z"
   },
   {
    "duration": 0,
    "start_time": "2024-06-11T16:45:01.021Z"
   },
   {
    "duration": 7,
    "start_time": "2024-06-11T16:46:00.384Z"
   },
   {
    "duration": 3,
    "start_time": "2024-06-11T16:46:02.813Z"
   },
   {
    "duration": 10,
    "start_time": "2024-06-11T16:46:03.331Z"
   },
   {
    "duration": 11,
    "start_time": "2024-06-11T16:46:12.094Z"
   },
   {
    "duration": 3,
    "start_time": "2024-06-11T16:46:18.847Z"
   },
   {
    "duration": 10,
    "start_time": "2024-06-11T16:46:24.196Z"
   },
   {
    "duration": 3,
    "start_time": "2024-06-11T16:46:35.443Z"
   },
   {
    "duration": 10,
    "start_time": "2024-06-11T16:46:35.774Z"
   },
   {
    "duration": 8,
    "start_time": "2024-06-11T16:47:06.149Z"
   },
   {
    "duration": 7,
    "start_time": "2024-06-11T16:47:06.830Z"
   },
   {
    "duration": 7,
    "start_time": "2024-06-11T16:47:12.587Z"
   },
   {
    "duration": 3,
    "start_time": "2024-06-11T16:47:17.407Z"
   },
   {
    "duration": 101,
    "start_time": "2024-06-11T16:47:17.861Z"
   },
   {
    "duration": 38,
    "start_time": "2024-06-11T16:47:18.159Z"
   },
   {
    "duration": 21,
    "start_time": "2024-06-11T16:47:18.361Z"
   },
   {
    "duration": 15,
    "start_time": "2024-06-11T16:47:18.542Z"
   },
   {
    "duration": 10,
    "start_time": "2024-06-11T16:47:18.709Z"
   },
   {
    "duration": 11,
    "start_time": "2024-06-11T16:47:18.857Z"
   },
   {
    "duration": 18,
    "start_time": "2024-06-11T16:47:19.182Z"
   },
   {
    "duration": 4,
    "start_time": "2024-06-11T16:47:19.325Z"
   },
   {
    "duration": 4,
    "start_time": "2024-06-11T16:47:19.495Z"
   },
   {
    "duration": 8,
    "start_time": "2024-06-11T16:47:19.843Z"
   },
   {
    "duration": 30,
    "start_time": "2024-06-11T16:47:20.061Z"
   },
   {
    "duration": 16,
    "start_time": "2024-06-11T16:47:20.716Z"
   },
   {
    "duration": 7,
    "start_time": "2024-06-11T16:47:20.894Z"
   },
   {
    "duration": 5,
    "start_time": "2024-06-11T16:47:21.093Z"
   },
   {
    "duration": 10,
    "start_time": "2024-06-11T16:47:21.259Z"
   },
   {
    "duration": 4,
    "start_time": "2024-06-11T16:47:21.426Z"
   },
   {
    "duration": 5,
    "start_time": "2024-06-11T16:47:21.579Z"
   },
   {
    "duration": 5,
    "start_time": "2024-06-11T16:47:21.731Z"
   },
   {
    "duration": 11,
    "start_time": "2024-06-11T16:47:22.047Z"
   },
   {
    "duration": 26,
    "start_time": "2024-06-11T16:47:22.212Z"
   },
   {
    "duration": 15,
    "start_time": "2024-06-11T16:47:22.376Z"
   },
   {
    "duration": 16,
    "start_time": "2024-06-11T16:47:22.529Z"
   },
   {
    "duration": 4,
    "start_time": "2024-06-11T16:47:22.815Z"
   },
   {
    "duration": 11,
    "start_time": "2024-06-11T16:47:23.014Z"
   },
   {
    "duration": 21,
    "start_time": "2024-06-11T16:47:23.327Z"
   },
   {
    "duration": 27,
    "start_time": "2024-06-11T16:47:23.508Z"
   },
   {
    "duration": 17,
    "start_time": "2024-06-11T16:47:23.673Z"
   },
   {
    "duration": 7,
    "start_time": "2024-06-11T16:47:23.890Z"
   },
   {
    "duration": 9,
    "start_time": "2024-06-11T16:47:24.123Z"
   },
   {
    "duration": 9,
    "start_time": "2024-06-11T16:47:24.465Z"
   },
   {
    "duration": 5,
    "start_time": "2024-06-11T16:47:25.018Z"
   },
   {
    "duration": 4,
    "start_time": "2024-06-11T16:47:25.194Z"
   },
   {
    "duration": 8,
    "start_time": "2024-06-11T16:47:25.358Z"
   },
   {
    "duration": 3,
    "start_time": "2024-06-11T16:47:25.507Z"
   },
   {
    "duration": 53,
    "start_time": "2024-06-11T16:47:25.673Z"
   },
   {
    "duration": 8,
    "start_time": "2024-06-11T16:47:26.626Z"
   },
   {
    "duration": 8,
    "start_time": "2024-06-11T16:47:26.812Z"
   },
   {
    "duration": 3,
    "start_time": "2024-06-11T16:47:36.884Z"
   },
   {
    "duration": 10,
    "start_time": "2024-06-11T16:47:37.396Z"
   },
   {
    "duration": 7,
    "start_time": "2024-06-11T16:48:08.853Z"
   },
   {
    "duration": 7,
    "start_time": "2024-06-11T16:48:13.352Z"
   },
   {
    "duration": 388,
    "start_time": "2024-06-11T16:48:22.885Z"
   },
   {
    "duration": 99,
    "start_time": "2024-06-11T16:48:23.274Z"
   },
   {
    "duration": 39,
    "start_time": "2024-06-11T16:48:23.376Z"
   },
   {
    "duration": 37,
    "start_time": "2024-06-11T16:48:23.418Z"
   },
   {
    "duration": 16,
    "start_time": "2024-06-11T16:48:23.457Z"
   },
   {
    "duration": 10,
    "start_time": "2024-06-11T16:48:23.474Z"
   },
   {
    "duration": 13,
    "start_time": "2024-06-11T16:48:23.486Z"
   },
   {
    "duration": 24,
    "start_time": "2024-06-11T16:48:23.500Z"
   },
   {
    "duration": 4,
    "start_time": "2024-06-11T16:48:23.526Z"
   },
   {
    "duration": 24,
    "start_time": "2024-06-11T16:48:23.533Z"
   },
   {
    "duration": 9,
    "start_time": "2024-06-11T16:48:23.559Z"
   },
   {
    "duration": 32,
    "start_time": "2024-06-11T16:48:23.570Z"
   },
   {
    "duration": 16,
    "start_time": "2024-06-11T16:48:23.604Z"
   },
   {
    "duration": 7,
    "start_time": "2024-06-11T16:48:23.622Z"
   },
   {
    "duration": 5,
    "start_time": "2024-06-11T16:48:23.656Z"
   },
   {
    "duration": 15,
    "start_time": "2024-06-11T16:48:23.662Z"
   },
   {
    "duration": 10,
    "start_time": "2024-06-11T16:48:23.678Z"
   },
   {
    "duration": 11,
    "start_time": "2024-06-11T16:48:23.690Z"
   },
   {
    "duration": 5,
    "start_time": "2024-06-11T16:48:23.703Z"
   },
   {
    "duration": 12,
    "start_time": "2024-06-11T16:48:23.709Z"
   },
   {
    "duration": 42,
    "start_time": "2024-06-11T16:48:23.722Z"
   },
   {
    "duration": 15,
    "start_time": "2024-06-11T16:48:23.766Z"
   },
   {
    "duration": 25,
    "start_time": "2024-06-11T16:48:23.782Z"
   },
   {
    "duration": 8,
    "start_time": "2024-06-11T16:48:23.808Z"
   },
   {
    "duration": 12,
    "start_time": "2024-06-11T16:48:23.818Z"
   },
   {
    "duration": 41,
    "start_time": "2024-06-11T16:48:23.832Z"
   },
   {
    "duration": 34,
    "start_time": "2024-06-11T16:48:23.875Z"
   },
   {
    "duration": 18,
    "start_time": "2024-06-11T16:48:23.912Z"
   },
   {
    "duration": 25,
    "start_time": "2024-06-11T16:48:23.932Z"
   },
   {
    "duration": 16,
    "start_time": "2024-06-11T16:48:23.959Z"
   },
   {
    "duration": 43,
    "start_time": "2024-06-11T16:48:23.977Z"
   },
   {
    "duration": 62,
    "start_time": "2024-06-11T16:48:24.022Z"
   },
   {
    "duration": 21,
    "start_time": "2024-06-11T16:48:24.085Z"
   },
   {
    "duration": 4,
    "start_time": "2024-06-11T16:48:24.108Z"
   },
   {
    "duration": 10,
    "start_time": "2024-06-11T16:48:24.114Z"
   },
   {
    "duration": 3,
    "start_time": "2024-06-11T16:48:24.126Z"
   },
   {
    "duration": 35,
    "start_time": "2024-06-11T16:48:24.130Z"
   },
   {
    "duration": 65,
    "start_time": "2024-06-11T16:50:32.660Z"
   },
   {
    "duration": 55,
    "start_time": "2024-06-11T16:50:35.650Z"
   },
   {
    "duration": 6,
    "start_time": "2024-06-11T16:50:56.444Z"
   },
   {
    "duration": 7,
    "start_time": "2024-06-11T16:51:39.428Z"
   },
   {
    "duration": 425,
    "start_time": "2024-06-11T16:51:44.255Z"
   },
   {
    "duration": 95,
    "start_time": "2024-06-11T16:51:44.683Z"
   },
   {
    "duration": 38,
    "start_time": "2024-06-11T16:51:44.779Z"
   },
   {
    "duration": 28,
    "start_time": "2024-06-11T16:51:44.818Z"
   },
   {
    "duration": 17,
    "start_time": "2024-06-11T16:51:44.849Z"
   },
   {
    "duration": 16,
    "start_time": "2024-06-11T16:51:44.868Z"
   },
   {
    "duration": 28,
    "start_time": "2024-06-11T16:51:44.886Z"
   },
   {
    "duration": 32,
    "start_time": "2024-06-11T16:51:44.916Z"
   },
   {
    "duration": 5,
    "start_time": "2024-06-11T16:51:44.950Z"
   },
   {
    "duration": 29,
    "start_time": "2024-06-11T16:51:44.956Z"
   },
   {
    "duration": 11,
    "start_time": "2024-06-11T16:51:44.986Z"
   },
   {
    "duration": 45,
    "start_time": "2024-06-11T16:51:44.999Z"
   },
   {
    "duration": 31,
    "start_time": "2024-06-11T16:51:45.045Z"
   },
   {
    "duration": 41,
    "start_time": "2024-06-11T16:51:45.080Z"
   },
   {
    "duration": 25,
    "start_time": "2024-06-11T16:51:45.123Z"
   },
   {
    "duration": 27,
    "start_time": "2024-06-11T16:51:45.149Z"
   },
   {
    "duration": 30,
    "start_time": "2024-06-11T16:51:45.178Z"
   },
   {
    "duration": 35,
    "start_time": "2024-06-11T16:51:45.209Z"
   },
   {
    "duration": 43,
    "start_time": "2024-06-11T16:51:45.245Z"
   },
   {
    "duration": 18,
    "start_time": "2024-06-11T16:51:45.290Z"
   },
   {
    "duration": 40,
    "start_time": "2024-06-11T16:51:45.310Z"
   },
   {
    "duration": 16,
    "start_time": "2024-06-11T16:51:45.351Z"
   },
   {
    "duration": 27,
    "start_time": "2024-06-11T16:51:45.368Z"
   },
   {
    "duration": 4,
    "start_time": "2024-06-11T16:51:45.397Z"
   },
   {
    "duration": 11,
    "start_time": "2024-06-11T16:51:45.403Z"
   },
   {
    "duration": 20,
    "start_time": "2024-06-11T16:51:45.415Z"
   },
   {
    "duration": 46,
    "start_time": "2024-06-11T16:51:45.436Z"
   },
   {
    "duration": 18,
    "start_time": "2024-06-11T16:51:45.484Z"
   },
   {
    "duration": 4,
    "start_time": "2024-06-11T16:51:45.503Z"
   },
   {
    "duration": 16,
    "start_time": "2024-06-11T16:51:45.509Z"
   },
   {
    "duration": 11,
    "start_time": "2024-06-11T16:51:45.527Z"
   },
   {
    "duration": 22,
    "start_time": "2024-06-11T16:51:45.540Z"
   },
   {
    "duration": 60,
    "start_time": "2024-06-11T16:51:45.563Z"
   },
   {
    "duration": 0,
    "start_time": "2024-06-11T16:51:45.624Z"
   },
   {
    "duration": 0,
    "start_time": "2024-06-11T16:51:45.626Z"
   },
   {
    "duration": 0,
    "start_time": "2024-06-11T16:51:45.627Z"
   },
   {
    "duration": 0,
    "start_time": "2024-06-11T16:51:45.628Z"
   },
   {
    "duration": 2,
    "start_time": "2024-06-11T16:51:50.106Z"
   },
   {
    "duration": 93,
    "start_time": "2024-06-11T16:51:50.856Z"
   },
   {
    "duration": 14,
    "start_time": "2024-06-11T16:52:12.524Z"
   },
   {
    "duration": 10,
    "start_time": "2024-06-11T16:52:13.704Z"
   },
   {
    "duration": 4,
    "start_time": "2024-06-11T16:52:50.825Z"
   },
   {
    "duration": 5,
    "start_time": "2024-06-11T16:52:51.426Z"
   },
   {
    "duration": 12,
    "start_time": "2024-06-11T16:52:52.595Z"
   },
   {
    "duration": 11,
    "start_time": "2024-06-11T16:53:59.791Z"
   },
   {
    "duration": 7,
    "start_time": "2024-06-11T16:54:00.359Z"
   },
   {
    "duration": 38,
    "start_time": "2024-06-13T10:01:47.900Z"
   },
   {
    "duration": 5,
    "start_time": "2024-06-13T10:01:59.844Z"
   },
   {
    "duration": 349,
    "start_time": "2024-06-13T10:15:53.602Z"
   },
   {
    "duration": 296,
    "start_time": "2024-06-13T10:15:53.953Z"
   },
   {
    "duration": 85,
    "start_time": "2024-06-13T10:15:54.250Z"
   },
   {
    "duration": 20,
    "start_time": "2024-06-13T10:15:54.336Z"
   },
   {
    "duration": 25,
    "start_time": "2024-06-13T10:15:54.358Z"
   },
   {
    "duration": 12,
    "start_time": "2024-06-13T10:15:54.384Z"
   },
   {
    "duration": 18,
    "start_time": "2024-06-13T10:15:54.397Z"
   },
   {
    "duration": 20,
    "start_time": "2024-06-13T10:15:54.416Z"
   },
   {
    "duration": 4,
    "start_time": "2024-06-13T10:15:54.437Z"
   },
   {
    "duration": 12,
    "start_time": "2024-06-13T10:15:54.443Z"
   },
   {
    "duration": 17,
    "start_time": "2024-06-13T10:15:54.461Z"
   },
   {
    "duration": 25,
    "start_time": "2024-06-13T10:15:54.479Z"
   },
   {
    "duration": 11,
    "start_time": "2024-06-13T10:15:54.506Z"
   },
   {
    "duration": 7,
    "start_time": "2024-06-13T10:15:54.519Z"
   },
   {
    "duration": 11,
    "start_time": "2024-06-13T10:15:54.527Z"
   },
   {
    "duration": 20,
    "start_time": "2024-06-13T10:15:54.539Z"
   },
   {
    "duration": 7,
    "start_time": "2024-06-13T10:15:54.560Z"
   },
   {
    "duration": 7,
    "start_time": "2024-06-13T10:15:54.568Z"
   },
   {
    "duration": 4,
    "start_time": "2024-06-13T10:15:54.576Z"
   },
   {
    "duration": 25,
    "start_time": "2024-06-13T10:15:54.581Z"
   },
   {
    "duration": 31,
    "start_time": "2024-06-13T10:15:54.607Z"
   },
   {
    "duration": 11,
    "start_time": "2024-06-13T10:15:54.640Z"
   },
   {
    "duration": 30,
    "start_time": "2024-06-13T10:15:54.653Z"
   },
   {
    "duration": 3,
    "start_time": "2024-06-13T10:15:54.684Z"
   },
   {
    "duration": 54,
    "start_time": "2024-06-13T10:15:54.688Z"
   },
   {
    "duration": 21,
    "start_time": "2024-06-13T10:15:54.743Z"
   },
   {
    "duration": 45,
    "start_time": "2024-06-13T10:15:54.765Z"
   },
   {
    "duration": 11,
    "start_time": "2024-06-13T10:15:54.812Z"
   },
   {
    "duration": 14,
    "start_time": "2024-06-13T10:15:54.825Z"
   },
   {
    "duration": 4,
    "start_time": "2024-06-13T10:15:54.840Z"
   },
   {
    "duration": 5,
    "start_time": "2024-06-13T10:15:54.845Z"
   },
   {
    "duration": 9,
    "start_time": "2024-06-13T10:15:54.851Z"
   },
   {
    "duration": 11,
    "start_time": "2024-06-13T10:15:54.861Z"
   },
   {
    "duration": 7,
    "start_time": "2024-06-13T10:15:54.873Z"
   },
   {
    "duration": 6,
    "start_time": "2024-06-13T10:15:54.881Z"
   },
   {
    "duration": 8,
    "start_time": "2024-06-13T10:15:54.887Z"
   },
   {
    "duration": 12,
    "start_time": "2024-06-13T10:15:54.896Z"
   },
   {
    "duration": 7,
    "start_time": "2024-06-13T10:15:54.910Z"
   },
   {
    "duration": 21,
    "start_time": "2024-06-13T10:15:54.918Z"
   },
   {
    "duration": 19,
    "start_time": "2024-06-13T10:15:54.940Z"
   },
   {
    "duration": 19,
    "start_time": "2024-06-13T10:15:54.961Z"
   },
   {
    "duration": 9,
    "start_time": "2024-06-13T10:16:04.924Z"
   },
   {
    "duration": 10,
    "start_time": "2024-06-13T10:16:05.606Z"
   },
   {
    "duration": 53,
    "start_time": "2024-06-13T10:18:16.758Z"
   },
   {
    "duration": 3,
    "start_time": "2024-06-13T10:18:39.089Z"
   },
   {
    "duration": 18,
    "start_time": "2024-06-13T10:18:43.689Z"
   },
   {
    "duration": 15,
    "start_time": "2024-06-13T10:20:28.859Z"
   },
   {
    "duration": 8,
    "start_time": "2024-06-13T10:24:05.482Z"
   },
   {
    "duration": 20,
    "start_time": "2024-06-13T10:24:16.072Z"
   },
   {
    "duration": 22,
    "start_time": "2024-06-13T10:30:36.789Z"
   },
   {
    "duration": 3,
    "start_time": "2024-06-13T10:33:06.873Z"
   },
   {
    "duration": 19,
    "start_time": "2024-06-13T10:36:33.155Z"
   },
   {
    "duration": 3,
    "start_time": "2024-06-13T10:37:51.008Z"
   },
   {
    "duration": 6,
    "start_time": "2024-06-13T10:37:51.401Z"
   },
   {
    "duration": 147,
    "start_time": "2024-06-13T10:38:04.320Z"
   },
   {
    "duration": 109,
    "start_time": "2024-06-13T10:39:30.629Z"
   },
   {
    "duration": 8,
    "start_time": "2024-06-13T10:39:45.142Z"
   },
   {
    "duration": 47,
    "start_time": "2024-06-13T10:39:57.084Z"
   },
   {
    "duration": 5,
    "start_time": "2024-06-13T10:42:28.860Z"
   },
   {
    "duration": 27,
    "start_time": "2024-06-13T10:42:38.415Z"
   },
   {
    "duration": 3,
    "start_time": "2024-06-13T10:44:36.973Z"
   },
   {
    "duration": 9,
    "start_time": "2024-06-13T10:47:40.367Z"
   },
   {
    "duration": 16,
    "start_time": "2024-06-13T10:48:14.089Z"
   },
   {
    "duration": 5,
    "start_time": "2024-06-13T10:48:14.339Z"
   },
   {
    "duration": 9,
    "start_time": "2024-06-13T10:48:14.523Z"
   },
   {
    "duration": 5,
    "start_time": "2024-06-13T10:48:14.739Z"
   },
   {
    "duration": 16,
    "start_time": "2024-06-13T10:48:15.057Z"
   },
   {
    "duration": 365,
    "start_time": "2024-06-13T10:48:47.374Z"
   },
   {
    "duration": 84,
    "start_time": "2024-06-13T10:48:47.740Z"
   },
   {
    "duration": 36,
    "start_time": "2024-06-13T10:48:47.825Z"
   },
   {
    "duration": 20,
    "start_time": "2024-06-13T10:48:47.863Z"
   },
   {
    "duration": 20,
    "start_time": "2024-06-13T10:48:47.884Z"
   },
   {
    "duration": 10,
    "start_time": "2024-06-13T10:48:47.905Z"
   },
   {
    "duration": 10,
    "start_time": "2024-06-13T10:48:47.916Z"
   },
   {
    "duration": 11,
    "start_time": "2024-06-13T10:48:47.927Z"
   },
   {
    "duration": 4,
    "start_time": "2024-06-13T10:48:47.939Z"
   },
   {
    "duration": 5,
    "start_time": "2024-06-13T10:48:47.945Z"
   },
   {
    "duration": 8,
    "start_time": "2024-06-13T10:48:47.951Z"
   },
   {
    "duration": 19,
    "start_time": "2024-06-13T10:48:47.960Z"
   },
   {
    "duration": 18,
    "start_time": "2024-06-13T10:48:47.989Z"
   },
   {
    "duration": 19,
    "start_time": "2024-06-13T10:48:48.008Z"
   },
   {
    "duration": 6,
    "start_time": "2024-06-13T10:48:48.028Z"
   },
   {
    "duration": 6,
    "start_time": "2024-06-13T10:48:48.035Z"
   },
   {
    "duration": 13,
    "start_time": "2024-06-13T10:48:48.042Z"
   },
   {
    "duration": 6,
    "start_time": "2024-06-13T10:48:48.056Z"
   },
   {
    "duration": 10,
    "start_time": "2024-06-13T10:48:48.062Z"
   },
   {
    "duration": 4,
    "start_time": "2024-06-13T10:48:48.073Z"
   },
   {
    "duration": 20,
    "start_time": "2024-06-13T10:48:48.078Z"
   },
   {
    "duration": 17,
    "start_time": "2024-06-13T10:48:48.100Z"
   },
   {
    "duration": 9,
    "start_time": "2024-06-13T10:48:48.118Z"
   },
   {
    "duration": 20,
    "start_time": "2024-06-13T10:48:48.128Z"
   },
   {
    "duration": 3,
    "start_time": "2024-06-13T10:48:48.149Z"
   },
   {
    "duration": 9,
    "start_time": "2024-06-13T10:48:48.153Z"
   },
   {
    "duration": 13,
    "start_time": "2024-06-13T10:48:48.163Z"
   },
   {
    "duration": 22,
    "start_time": "2024-06-13T10:48:48.189Z"
   },
   {
    "duration": 13,
    "start_time": "2024-06-13T10:48:48.212Z"
   },
   {
    "duration": 3,
    "start_time": "2024-06-13T10:48:48.226Z"
   },
   {
    "duration": 10,
    "start_time": "2024-06-13T10:48:48.230Z"
   },
   {
    "duration": 19,
    "start_time": "2024-06-13T10:48:48.241Z"
   },
   {
    "duration": 12,
    "start_time": "2024-06-13T10:48:48.261Z"
   },
   {
    "duration": 12,
    "start_time": "2024-06-13T10:48:48.274Z"
   },
   {
    "duration": 15,
    "start_time": "2024-06-13T10:48:48.287Z"
   },
   {
    "duration": 18,
    "start_time": "2024-06-13T10:48:48.303Z"
   },
   {
    "duration": 6,
    "start_time": "2024-06-13T10:48:48.322Z"
   },
   {
    "duration": 7,
    "start_time": "2024-06-13T10:48:48.329Z"
   },
   {
    "duration": 12,
    "start_time": "2024-06-13T10:48:48.337Z"
   },
   {
    "duration": 15,
    "start_time": "2024-06-13T10:48:48.350Z"
   },
   {
    "duration": 43,
    "start_time": "2024-06-13T10:48:48.366Z"
   },
   {
    "duration": 21,
    "start_time": "2024-06-13T10:48:48.411Z"
   },
   {
    "duration": 6,
    "start_time": "2024-06-13T10:48:48.434Z"
   },
   {
    "duration": 165,
    "start_time": "2024-06-13T10:48:48.442Z"
   },
   {
    "duration": 3,
    "start_time": "2024-06-13T10:48:48.608Z"
   },
   {
    "duration": 11,
    "start_time": "2024-06-13T10:48:48.613Z"
   },
   {
    "duration": 10,
    "start_time": "2024-06-13T10:48:48.625Z"
   },
   {
    "duration": 15,
    "start_time": "2024-06-13T10:48:48.636Z"
   },
   {
    "duration": 5,
    "start_time": "2024-06-13T10:48:48.652Z"
   },
   {
    "duration": 27,
    "start_time": "2024-06-13T10:48:48.658Z"
   },
   {
    "duration": 9,
    "start_time": "2024-06-13T10:50:57.706Z"
   },
   {
    "duration": 6,
    "start_time": "2024-06-13T10:50:58.000Z"
   },
   {
    "duration": 11,
    "start_time": "2024-06-13T10:50:58.223Z"
   },
   {
    "duration": 5,
    "start_time": "2024-06-13T10:50:58.457Z"
   },
   {
    "duration": 18,
    "start_time": "2024-06-13T10:50:59.125Z"
   },
   {
    "duration": 8,
    "start_time": "2024-06-13T10:57:12.174Z"
   },
   {
    "duration": 10,
    "start_time": "2024-06-13T10:59:01.436Z"
   },
   {
    "duration": 4,
    "start_time": "2024-06-13T11:01:05.106Z"
   },
   {
    "duration": 6,
    "start_time": "2024-06-13T11:01:12.510Z"
   },
   {
    "duration": 68,
    "start_time": "2024-06-13T11:01:31.620Z"
   },
   {
    "duration": 15,
    "start_time": "2024-06-13T11:01:59.549Z"
   },
   {
    "duration": 20,
    "start_time": "2024-06-13T11:02:30.004Z"
   },
   {
    "duration": 28,
    "start_time": "2024-06-13T11:02:40.560Z"
   },
   {
    "duration": 20,
    "start_time": "2024-06-13T11:03:21.012Z"
   },
   {
    "duration": 28,
    "start_time": "2024-06-13T11:03:44.276Z"
   },
   {
    "duration": 28,
    "start_time": "2024-06-13T11:03:59.423Z"
   },
   {
    "duration": 6,
    "start_time": "2024-06-13T11:04:25.464Z"
   },
   {
    "duration": 5,
    "start_time": "2024-06-13T11:04:59.773Z"
   },
   {
    "duration": 49,
    "start_time": "2024-06-13T11:05:00.162Z"
   },
   {
    "duration": 117,
    "start_time": "2024-06-13T11:05:09.917Z"
   },
   {
    "duration": 9,
    "start_time": "2024-06-13T11:05:19.339Z"
   },
   {
    "duration": 61,
    "start_time": "2024-06-13T11:05:24.970Z"
   },
   {
    "duration": 30,
    "start_time": "2024-06-13T11:05:28.463Z"
   },
   {
    "duration": 8,
    "start_time": "2024-06-13T11:38:08.178Z"
   },
   {
    "duration": 13,
    "start_time": "2024-06-13T11:38:18.700Z"
   },
   {
    "duration": 16,
    "start_time": "2024-06-13T11:38:28.888Z"
   },
   {
    "duration": 9,
    "start_time": "2024-06-13T11:38:35.247Z"
   },
   {
    "duration": 6,
    "start_time": "2024-06-13T11:38:40.502Z"
   },
   {
    "duration": 10,
    "start_time": "2024-06-13T11:38:46.540Z"
   },
   {
    "duration": 13,
    "start_time": "2024-06-13T11:39:41.694Z"
   },
   {
    "duration": 10,
    "start_time": "2024-06-13T11:39:50.054Z"
   },
   {
    "duration": 5,
    "start_time": "2024-06-13T11:39:59.558Z"
   },
   {
    "duration": 4,
    "start_time": "2024-06-13T11:40:02.866Z"
   },
   {
    "duration": 7,
    "start_time": "2024-06-13T11:41:00.799Z"
   },
   {
    "duration": 5,
    "start_time": "2024-06-13T11:44:41.148Z"
   },
   {
    "duration": 6,
    "start_time": "2024-06-13T11:44:52.128Z"
   },
   {
    "duration": 3,
    "start_time": "2024-06-13T11:47:19.760Z"
   },
   {
    "duration": 4,
    "start_time": "2024-06-13T11:47:25.305Z"
   },
   {
    "duration": 6,
    "start_time": "2024-06-13T11:47:29.630Z"
   },
   {
    "duration": 10,
    "start_time": "2024-06-13T11:47:41.544Z"
   },
   {
    "duration": 5,
    "start_time": "2024-06-13T11:47:47.883Z"
   },
   {
    "duration": 1187,
    "start_time": "2024-06-13T11:50:10.965Z"
   },
   {
    "duration": 10,
    "start_time": "2024-06-13T11:50:36.567Z"
   },
   {
    "duration": 6,
    "start_time": "2024-06-13T11:50:46.346Z"
   },
   {
    "duration": 7,
    "start_time": "2024-06-13T11:51:54.514Z"
   },
   {
    "duration": 52,
    "start_time": "2024-06-13T11:52:12.633Z"
   },
   {
    "duration": 892,
    "start_time": "2024-06-13T11:53:12.903Z"
   },
   {
    "duration": 374,
    "start_time": "2024-06-13T11:53:21.180Z"
   },
   {
    "duration": 18,
    "start_time": "2024-06-13T11:55:39.813Z"
   },
   {
    "duration": 34,
    "start_time": "2024-06-13T11:56:56.048Z"
   },
   {
    "duration": 279,
    "start_time": "2024-06-13T11:57:03.627Z"
   },
   {
    "duration": 883,
    "start_time": "2024-06-13T11:57:22.172Z"
   },
   {
    "duration": 919,
    "start_time": "2024-06-13T11:57:36.570Z"
   },
   {
    "duration": 19,
    "start_time": "2024-06-13T11:58:08.250Z"
   },
   {
    "duration": 238,
    "start_time": "2024-06-13T11:58:12.904Z"
   },
   {
    "duration": 30,
    "start_time": "2024-06-13T11:58:32.070Z"
   },
   {
    "duration": 34,
    "start_time": "2024-06-13T11:59:24.957Z"
   },
   {
    "duration": 154,
    "start_time": "2024-06-13T11:59:29.201Z"
   },
   {
    "duration": 4,
    "start_time": "2024-06-13T12:02:36.555Z"
   },
   {
    "duration": 15,
    "start_time": "2024-06-13T12:02:37.124Z"
   },
   {
    "duration": 413,
    "start_time": "2024-06-13T12:02:44.390Z"
   },
   {
    "duration": 88,
    "start_time": "2024-06-13T12:02:44.805Z"
   },
   {
    "duration": 37,
    "start_time": "2024-06-13T12:02:44.895Z"
   },
   {
    "duration": 25,
    "start_time": "2024-06-13T12:02:44.934Z"
   },
   {
    "duration": 13,
    "start_time": "2024-06-13T12:02:44.961Z"
   },
   {
    "duration": 12,
    "start_time": "2024-06-13T12:02:44.975Z"
   },
   {
    "duration": 10,
    "start_time": "2024-06-13T12:02:44.988Z"
   },
   {
    "duration": 15,
    "start_time": "2024-06-13T12:02:44.999Z"
   },
   {
    "duration": 38,
    "start_time": "2024-06-13T12:02:45.015Z"
   },
   {
    "duration": 14,
    "start_time": "2024-06-13T12:02:45.056Z"
   },
   {
    "duration": 23,
    "start_time": "2024-06-13T12:02:45.072Z"
   },
   {
    "duration": 38,
    "start_time": "2024-06-13T12:02:45.097Z"
   },
   {
    "duration": 14,
    "start_time": "2024-06-13T12:02:45.136Z"
   },
   {
    "duration": 31,
    "start_time": "2024-06-13T12:02:45.151Z"
   },
   {
    "duration": 11,
    "start_time": "2024-06-13T12:02:45.183Z"
   },
   {
    "duration": 26,
    "start_time": "2024-06-13T12:02:45.195Z"
   },
   {
    "duration": 48,
    "start_time": "2024-06-13T12:02:45.223Z"
   },
   {
    "duration": 34,
    "start_time": "2024-06-13T12:02:45.273Z"
   },
   {
    "duration": 15,
    "start_time": "2024-06-13T12:02:45.309Z"
   },
   {
    "duration": 14,
    "start_time": "2024-06-13T12:02:45.326Z"
   },
   {
    "duration": 27,
    "start_time": "2024-06-13T12:02:45.341Z"
   },
   {
    "duration": 56,
    "start_time": "2024-06-13T12:02:45.370Z"
   },
   {
    "duration": 13,
    "start_time": "2024-06-13T12:02:45.427Z"
   },
   {
    "duration": 29,
    "start_time": "2024-06-13T12:02:45.441Z"
   },
   {
    "duration": 10,
    "start_time": "2024-06-13T12:02:45.471Z"
   },
   {
    "duration": 34,
    "start_time": "2024-06-13T12:02:45.483Z"
   },
   {
    "duration": 32,
    "start_time": "2024-06-13T12:02:45.518Z"
   },
   {
    "duration": 30,
    "start_time": "2024-06-13T12:02:45.553Z"
   },
   {
    "duration": 26,
    "start_time": "2024-06-13T12:02:45.585Z"
   },
   {
    "duration": 18,
    "start_time": "2024-06-13T12:02:45.612Z"
   },
   {
    "duration": 4,
    "start_time": "2024-06-13T12:02:45.632Z"
   },
   {
    "duration": 6,
    "start_time": "2024-06-13T12:02:45.638Z"
   },
   {
    "duration": 6,
    "start_time": "2024-06-13T12:02:45.646Z"
   },
   {
    "duration": 38,
    "start_time": "2024-06-13T12:02:45.653Z"
   },
   {
    "duration": 13,
    "start_time": "2024-06-13T12:02:45.692Z"
   },
   {
    "duration": 16,
    "start_time": "2024-06-13T12:02:45.707Z"
   },
   {
    "duration": 5,
    "start_time": "2024-06-13T12:02:45.725Z"
   },
   {
    "duration": 12,
    "start_time": "2024-06-13T12:02:45.731Z"
   },
   {
    "duration": 15,
    "start_time": "2024-06-13T12:02:45.744Z"
   },
   {
    "duration": 38,
    "start_time": "2024-06-13T12:02:45.760Z"
   },
   {
    "duration": 125,
    "start_time": "2024-06-13T12:02:45.800Z"
   },
   {
    "duration": 48,
    "start_time": "2024-06-13T12:02:45.926Z"
   },
   {
    "duration": 26,
    "start_time": "2024-06-13T12:02:45.975Z"
   },
   {
    "duration": 3,
    "start_time": "2024-06-13T12:02:46.002Z"
   },
   {
    "duration": 163,
    "start_time": "2024-06-13T12:02:46.007Z"
   },
   {
    "duration": 3,
    "start_time": "2024-06-13T12:02:46.172Z"
   },
   {
    "duration": 19,
    "start_time": "2024-06-13T12:02:46.177Z"
   },
   {
    "duration": 6,
    "start_time": "2024-06-13T12:02:46.198Z"
   },
   {
    "duration": 24,
    "start_time": "2024-06-13T12:02:46.205Z"
   },
   {
    "duration": 19,
    "start_time": "2024-06-13T12:02:46.230Z"
   },
   {
    "duration": 21,
    "start_time": "2024-06-13T12:02:46.251Z"
   },
   {
    "duration": 6,
    "start_time": "2024-06-13T12:02:46.274Z"
   },
   {
    "duration": 11,
    "start_time": "2024-06-13T12:02:46.282Z"
   },
   {
    "duration": 45,
    "start_time": "2024-06-13T12:02:46.294Z"
   },
   {
    "duration": 339,
    "start_time": "2024-06-13T12:02:46.341Z"
   },
   {
    "duration": 11,
    "start_time": "2024-06-13T12:02:46.682Z"
   },
   {
    "duration": 7,
    "start_time": "2024-06-13T12:02:46.694Z"
   },
   {
    "duration": 24,
    "start_time": "2024-06-13T12:03:23.115Z"
   },
   {
    "duration": 24,
    "start_time": "2024-06-13T12:03:38.769Z"
   },
   {
    "duration": 23,
    "start_time": "2024-06-13T12:03:44.692Z"
   },
   {
    "duration": 149,
    "start_time": "2024-06-13T12:03:48.081Z"
   },
   {
    "duration": 165,
    "start_time": "2024-06-13T12:03:56.986Z"
   },
   {
    "duration": 135,
    "start_time": "2024-06-13T12:04:02.556Z"
   },
   {
    "duration": 123,
    "start_time": "2024-06-13T12:04:07.885Z"
   },
   {
    "duration": 11,
    "start_time": "2024-06-13T12:07:32.077Z"
   },
   {
    "duration": 12,
    "start_time": "2024-06-13T12:07:35.938Z"
   },
   {
    "duration": 15,
    "start_time": "2024-06-13T12:07:38.321Z"
   },
   {
    "duration": 26,
    "start_time": "2024-06-13T12:07:42.375Z"
   },
   {
    "duration": 23,
    "start_time": "2024-06-13T12:07:45.647Z"
   },
   {
    "duration": 18,
    "start_time": "2024-06-13T12:07:49.368Z"
   },
   {
    "duration": 24,
    "start_time": "2024-06-13T12:08:02.083Z"
   },
   {
    "duration": 8,
    "start_time": "2024-06-13T12:08:12.652Z"
   },
   {
    "duration": 21,
    "start_time": "2024-06-13T12:08:22.531Z"
   },
   {
    "duration": 148,
    "start_time": "2024-06-13T12:08:22.770Z"
   },
   {
    "duration": 10,
    "start_time": "2024-06-13T12:09:29.975Z"
   },
   {
    "duration": 138,
    "start_time": "2024-06-13T12:10:37.429Z"
   },
   {
    "duration": 137,
    "start_time": "2024-06-13T12:10:41.709Z"
   },
   {
    "duration": 987,
    "start_time": "2024-06-13T12:12:11.201Z"
   },
   {
    "duration": 883,
    "start_time": "2024-06-13T12:12:47.002Z"
   },
   {
    "duration": 918,
    "start_time": "2024-06-13T12:13:09.766Z"
   },
   {
    "duration": 13,
    "start_time": "2024-06-13T12:13:43.265Z"
   },
   {
    "duration": 136,
    "start_time": "2024-06-13T12:16:00.474Z"
   },
   {
    "duration": 22,
    "start_time": "2024-06-13T12:16:57.907Z"
   },
   {
    "duration": 118,
    "start_time": "2024-06-13T12:17:12.504Z"
   },
   {
    "duration": 123,
    "start_time": "2024-06-13T12:17:34.823Z"
   },
   {
    "duration": 10,
    "start_time": "2024-06-13T12:17:54.302Z"
   },
   {
    "duration": 14,
    "start_time": "2024-06-13T12:18:09.546Z"
   },
   {
    "duration": 73,
    "start_time": "2024-06-13T12:20:00.462Z"
   },
   {
    "duration": 143,
    "start_time": "2024-06-13T12:20:04.601Z"
   },
   {
    "duration": 142,
    "start_time": "2024-06-13T12:20:17.010Z"
   },
   {
    "duration": 193,
    "start_time": "2024-06-13T12:20:21.435Z"
   },
   {
    "duration": 159,
    "start_time": "2024-06-13T12:20:25.396Z"
   },
   {
    "duration": 140,
    "start_time": "2024-06-13T12:20:55.025Z"
   },
   {
    "duration": 122,
    "start_time": "2024-06-13T12:21:06.267Z"
   },
   {
    "duration": 121,
    "start_time": "2024-06-13T12:21:33.161Z"
   },
   {
    "duration": 5,
    "start_time": "2024-06-13T12:23:04.819Z"
   },
   {
    "duration": 4,
    "start_time": "2024-06-13T12:23:12.502Z"
   },
   {
    "duration": 132,
    "start_time": "2024-06-13T12:26:01.397Z"
   },
   {
    "duration": 7,
    "start_time": "2024-06-13T12:26:43.070Z"
   },
   {
    "duration": 10,
    "start_time": "2024-06-13T12:26:47.137Z"
   },
   {
    "duration": 123,
    "start_time": "2024-06-13T12:27:21.223Z"
   },
   {
    "duration": 127,
    "start_time": "2024-06-13T12:31:09.388Z"
   },
   {
    "duration": 120,
    "start_time": "2024-06-13T12:31:15.026Z"
   },
   {
    "duration": 10,
    "start_time": "2024-06-13T12:31:22.599Z"
   },
   {
    "duration": 201,
    "start_time": "2024-06-13T12:44:43.550Z"
   },
   {
    "duration": 217,
    "start_time": "2024-06-13T12:44:51.263Z"
   },
   {
    "duration": 16,
    "start_time": "2024-06-13T12:50:11.716Z"
   },
   {
    "duration": 340,
    "start_time": "2024-06-13T12:50:17.821Z"
   },
   {
    "duration": 308,
    "start_time": "2024-06-13T12:50:24.729Z"
   },
   {
    "duration": 237,
    "start_time": "2024-06-13T12:52:18.922Z"
   },
   {
    "duration": 13,
    "start_time": "2024-06-13T12:54:05.965Z"
   },
   {
    "duration": 224,
    "start_time": "2024-06-13T12:54:19.291Z"
   },
   {
    "duration": 293,
    "start_time": "2024-06-13T12:55:08.265Z"
   },
   {
    "duration": 298,
    "start_time": "2024-06-13T12:55:09.501Z"
   },
   {
    "duration": 11,
    "start_time": "2024-06-13T12:55:30.250Z"
   },
   {
    "duration": 10,
    "start_time": "2024-06-13T12:55:40.331Z"
   },
   {
    "duration": 36,
    "start_time": "2024-06-13T13:05:43.100Z"
   },
   {
    "duration": 237,
    "start_time": "2024-06-13T13:06:38.193Z"
   },
   {
    "duration": 260,
    "start_time": "2024-06-13T13:07:13.397Z"
   },
   {
    "duration": 304,
    "start_time": "2024-06-13T13:07:47.372Z"
   },
   {
    "duration": 376,
    "start_time": "2024-06-13T13:07:54.336Z"
   },
   {
    "duration": 287,
    "start_time": "2024-06-13T13:08:14.086Z"
   },
   {
    "duration": 286,
    "start_time": "2024-06-13T13:08:49.165Z"
   },
   {
    "duration": 279,
    "start_time": "2024-06-13T13:08:56.754Z"
   },
   {
    "duration": 289,
    "start_time": "2024-06-13T13:09:06.750Z"
   },
   {
    "duration": 1835,
    "start_time": "2024-06-13T13:09:32.372Z"
   },
   {
    "duration": 380,
    "start_time": "2024-06-13T13:09:47.454Z"
   },
   {
    "duration": 18,
    "start_time": "2024-06-13T13:27:03.720Z"
   },
   {
    "duration": 4,
    "start_time": "2024-06-13T13:27:38.490Z"
   },
   {
    "duration": 28,
    "start_time": "2024-06-13T13:27:41.351Z"
   },
   {
    "duration": 8,
    "start_time": "2024-06-13T13:27:57.775Z"
   },
   {
    "duration": 4,
    "start_time": "2024-06-13T13:28:35.874Z"
   },
   {
    "duration": 49,
    "start_time": "2024-06-13T13:29:03.198Z"
   },
   {
    "duration": 4,
    "start_time": "2024-06-13T13:29:24.271Z"
   },
   {
    "duration": 18914,
    "start_time": "2024-06-13T13:42:11.500Z"
   },
   {
    "duration": 216,
    "start_time": "2024-06-13T13:44:48.745Z"
   },
   {
    "duration": 10,
    "start_time": "2024-06-13T13:45:03.009Z"
   },
   {
    "duration": 213,
    "start_time": "2024-06-13T13:45:23.497Z"
   },
   {
    "duration": 251,
    "start_time": "2024-06-13T13:45:34.377Z"
   },
   {
    "duration": 9,
    "start_time": "2024-06-13T13:45:42.958Z"
   },
   {
    "duration": 14,
    "start_time": "2024-06-13T14:04:33.923Z"
   },
   {
    "duration": 60,
    "start_time": "2024-06-13T14:07:03.738Z"
   },
   {
    "duration": 59,
    "start_time": "2024-06-13T14:07:13.934Z"
   },
   {
    "duration": 58,
    "start_time": "2024-06-13T14:07:29.821Z"
   },
   {
    "duration": 51,
    "start_time": "2024-06-13T14:07:42.361Z"
   },
   {
    "duration": 50,
    "start_time": "2024-06-13T14:08:23.120Z"
   },
   {
    "duration": 11,
    "start_time": "2024-06-13T14:09:00.848Z"
   },
   {
    "duration": 9,
    "start_time": "2024-06-13T14:09:16.108Z"
   },
   {
    "duration": 8,
    "start_time": "2024-06-13T14:09:53.128Z"
   },
   {
    "duration": 10,
    "start_time": "2024-06-13T14:09:54.003Z"
   },
   {
    "duration": 13,
    "start_time": "2024-06-13T15:08:39.677Z"
   },
   {
    "duration": 9,
    "start_time": "2024-06-13T15:08:49.871Z"
   },
   {
    "duration": 10,
    "start_time": "2024-06-13T15:09:24.481Z"
   },
   {
    "duration": 2,
    "start_time": "2024-06-13T15:09:25.468Z"
   },
   {
    "duration": 11,
    "start_time": "2024-06-13T15:09:26.150Z"
   },
   {
    "duration": 10,
    "start_time": "2024-06-13T15:09:54.024Z"
   },
   {
    "duration": 373,
    "start_time": "2024-06-13T15:10:04.432Z"
   },
   {
    "duration": 91,
    "start_time": "2024-06-13T15:10:04.808Z"
   },
   {
    "duration": 38,
    "start_time": "2024-06-13T15:10:04.900Z"
   },
   {
    "duration": 26,
    "start_time": "2024-06-13T15:10:04.941Z"
   },
   {
    "duration": 27,
    "start_time": "2024-06-13T15:10:04.969Z"
   },
   {
    "duration": 9,
    "start_time": "2024-06-13T15:10:04.998Z"
   },
   {
    "duration": 13,
    "start_time": "2024-06-13T15:10:05.009Z"
   },
   {
    "duration": 19,
    "start_time": "2024-06-13T15:10:05.024Z"
   },
   {
    "duration": 10,
    "start_time": "2024-06-13T15:10:05.044Z"
   },
   {
    "duration": 14,
    "start_time": "2024-06-13T15:10:05.058Z"
   },
   {
    "duration": 28,
    "start_time": "2024-06-13T15:10:05.073Z"
   },
   {
    "duration": 41,
    "start_time": "2024-06-13T15:10:05.103Z"
   },
   {
    "duration": 17,
    "start_time": "2024-06-13T15:10:05.146Z"
   },
   {
    "duration": 23,
    "start_time": "2024-06-13T15:10:05.165Z"
   },
   {
    "duration": 7,
    "start_time": "2024-06-13T15:10:05.190Z"
   },
   {
    "duration": 6,
    "start_time": "2024-06-13T15:10:05.198Z"
   },
   {
    "duration": 22,
    "start_time": "2024-06-13T15:10:05.206Z"
   },
   {
    "duration": 21,
    "start_time": "2024-06-13T15:10:05.229Z"
   },
   {
    "duration": 10,
    "start_time": "2024-06-13T15:10:05.251Z"
   },
   {
    "duration": 8,
    "start_time": "2024-06-13T15:10:05.262Z"
   },
   {
    "duration": 14,
    "start_time": "2024-06-13T15:10:05.271Z"
   },
   {
    "duration": 26,
    "start_time": "2024-06-13T15:10:05.286Z"
   },
   {
    "duration": 12,
    "start_time": "2024-06-13T15:10:05.313Z"
   },
   {
    "duration": 16,
    "start_time": "2024-06-13T15:10:05.327Z"
   },
   {
    "duration": 20,
    "start_time": "2024-06-13T15:10:05.344Z"
   },
   {
    "duration": 6,
    "start_time": "2024-06-13T15:10:05.365Z"
   },
   {
    "duration": 11,
    "start_time": "2024-06-13T15:10:05.372Z"
   },
   {
    "duration": 23,
    "start_time": "2024-06-13T15:10:05.389Z"
   },
   {
    "duration": 26,
    "start_time": "2024-06-13T15:10:05.414Z"
   },
   {
    "duration": 18,
    "start_time": "2024-06-13T15:10:05.441Z"
   },
   {
    "duration": 5,
    "start_time": "2024-06-13T15:10:05.460Z"
   },
   {
    "duration": 6,
    "start_time": "2024-06-13T15:10:05.492Z"
   },
   {
    "duration": 15,
    "start_time": "2024-06-13T15:10:05.499Z"
   },
   {
    "duration": 10,
    "start_time": "2024-06-13T15:10:05.515Z"
   },
   {
    "duration": 23,
    "start_time": "2024-06-13T15:10:05.526Z"
   },
   {
    "duration": 19,
    "start_time": "2024-06-13T15:10:05.551Z"
   },
   {
    "duration": 21,
    "start_time": "2024-06-13T15:10:05.572Z"
   },
   {
    "duration": 5,
    "start_time": "2024-06-13T15:10:05.595Z"
   },
   {
    "duration": 22,
    "start_time": "2024-06-13T15:10:05.602Z"
   },
   {
    "duration": 21,
    "start_time": "2024-06-13T15:10:05.626Z"
   },
   {
    "duration": 19,
    "start_time": "2024-06-13T15:10:05.649Z"
   },
   {
    "duration": 45,
    "start_time": "2024-06-13T15:10:05.670Z"
   },
   {
    "duration": 38,
    "start_time": "2024-06-13T15:10:05.716Z"
   },
   {
    "duration": 19,
    "start_time": "2024-06-13T15:10:05.756Z"
   },
   {
    "duration": 170,
    "start_time": "2024-06-13T15:10:05.777Z"
   },
   {
    "duration": 4,
    "start_time": "2024-06-13T15:10:05.948Z"
   },
   {
    "duration": 23,
    "start_time": "2024-06-13T15:10:05.954Z"
   },
   {
    "duration": 11,
    "start_time": "2024-06-13T15:10:05.979Z"
   },
   {
    "duration": 17,
    "start_time": "2024-06-13T15:10:05.992Z"
   },
   {
    "duration": 15,
    "start_time": "2024-06-13T15:10:06.011Z"
   },
   {
    "duration": 32,
    "start_time": "2024-06-13T15:10:06.028Z"
   },
   {
    "duration": 21,
    "start_time": "2024-06-13T15:10:06.061Z"
   },
   {
    "duration": 50,
    "start_time": "2024-06-13T15:10:06.084Z"
   },
   {
    "duration": 346,
    "start_time": "2024-06-13T15:10:06.136Z"
   },
   {
    "duration": 135,
    "start_time": "2024-06-13T15:10:06.484Z"
   },
   {
    "duration": 10,
    "start_time": "2024-06-13T15:10:06.620Z"
   },
   {
    "duration": 230,
    "start_time": "2024-06-13T15:10:06.631Z"
   },
   {
    "duration": 246,
    "start_time": "2024-06-13T15:10:06.862Z"
   },
   {
    "duration": 9,
    "start_time": "2024-06-13T15:10:07.109Z"
   },
   {
    "duration": 225,
    "start_time": "2024-06-13T15:10:07.120Z"
   },
   {
    "duration": 7,
    "start_time": "2024-06-13T15:10:07.347Z"
   },
   {
    "duration": 17,
    "start_time": "2024-06-13T15:10:07.356Z"
   },
   {
    "duration": 18,
    "start_time": "2024-06-13T15:10:07.374Z"
   },
   {
    "duration": 3,
    "start_time": "2024-06-13T15:10:12.431Z"
   },
   {
    "duration": 101,
    "start_time": "2024-06-13T15:10:12.666Z"
   },
   {
    "duration": 37,
    "start_time": "2024-06-13T15:10:12.847Z"
   },
   {
    "duration": 20,
    "start_time": "2024-06-13T15:10:13.065Z"
   },
   {
    "duration": 14,
    "start_time": "2024-06-13T15:10:13.616Z"
   },
   {
    "duration": 9,
    "start_time": "2024-06-13T15:10:13.951Z"
   },
   {
    "duration": 10,
    "start_time": "2024-06-13T15:10:14.258Z"
   },
   {
    "duration": 16,
    "start_time": "2024-06-13T15:10:15.150Z"
   },
   {
    "duration": 21,
    "start_time": "2024-06-13T15:10:33.666Z"
   },
   {
    "duration": 15,
    "start_time": "2024-06-13T15:10:47.447Z"
   },
   {
    "duration": 31,
    "start_time": "2024-06-13T15:30:52.914Z"
   },
   {
    "duration": 412,
    "start_time": "2024-06-13T15:31:25.888Z"
   },
   {
    "duration": 92,
    "start_time": "2024-06-13T15:31:26.301Z"
   },
   {
    "duration": 37,
    "start_time": "2024-06-13T15:31:26.395Z"
   },
   {
    "duration": 28,
    "start_time": "2024-06-13T15:31:26.435Z"
   },
   {
    "duration": 16,
    "start_time": "2024-06-13T15:31:26.464Z"
   },
   {
    "duration": 10,
    "start_time": "2024-06-13T15:31:26.481Z"
   },
   {
    "duration": 17,
    "start_time": "2024-06-13T15:31:26.493Z"
   },
   {
    "duration": 21,
    "start_time": "2024-06-13T15:31:26.512Z"
   },
   {
    "duration": 3,
    "start_time": "2024-06-13T15:31:26.535Z"
   },
   {
    "duration": 5,
    "start_time": "2024-06-13T15:31:26.541Z"
   },
   {
    "duration": 9,
    "start_time": "2024-06-13T15:31:26.548Z"
   },
   {
    "duration": 42,
    "start_time": "2024-06-13T15:31:26.558Z"
   },
   {
    "duration": 23,
    "start_time": "2024-06-13T15:31:26.602Z"
   },
   {
    "duration": 13,
    "start_time": "2024-06-13T15:31:26.627Z"
   },
   {
    "duration": 21,
    "start_time": "2024-06-13T15:31:26.641Z"
   },
   {
    "duration": 27,
    "start_time": "2024-06-13T15:31:26.664Z"
   },
   {
    "duration": 56,
    "start_time": "2024-06-13T15:31:26.692Z"
   },
   {
    "duration": 10,
    "start_time": "2024-06-13T15:31:26.750Z"
   },
   {
    "duration": 20,
    "start_time": "2024-06-13T15:31:26.762Z"
   },
   {
    "duration": 6,
    "start_time": "2024-06-13T15:31:26.784Z"
   },
   {
    "duration": 6,
    "start_time": "2024-06-13T15:31:26.791Z"
   },
   {
    "duration": 11,
    "start_time": "2024-06-13T15:31:26.798Z"
   },
   {
    "duration": 31,
    "start_time": "2024-06-13T15:31:26.810Z"
   },
   {
    "duration": 14,
    "start_time": "2024-06-13T15:31:26.842Z"
   },
   {
    "duration": 20,
    "start_time": "2024-06-13T15:31:26.858Z"
   },
   {
    "duration": 13,
    "start_time": "2024-06-13T15:31:26.880Z"
   },
   {
    "duration": 4,
    "start_time": "2024-06-13T15:31:26.895Z"
   },
   {
    "duration": 9,
    "start_time": "2024-06-13T15:31:26.904Z"
   },
   {
    "duration": 23,
    "start_time": "2024-06-13T15:31:26.915Z"
   },
   {
    "duration": 56,
    "start_time": "2024-06-13T15:31:26.939Z"
   },
   {
    "duration": 15,
    "start_time": "2024-06-13T15:31:26.997Z"
   },
   {
    "duration": 10,
    "start_time": "2024-06-13T15:31:27.013Z"
   },
   {
    "duration": 6,
    "start_time": "2024-06-13T15:31:27.024Z"
   },
   {
    "duration": 9,
    "start_time": "2024-06-13T15:31:27.031Z"
   },
   {
    "duration": 9,
    "start_time": "2024-06-13T15:31:27.041Z"
   },
   {
    "duration": 42,
    "start_time": "2024-06-13T15:31:27.051Z"
   },
   {
    "duration": 9,
    "start_time": "2024-06-13T15:31:27.095Z"
   },
   {
    "duration": 5,
    "start_time": "2024-06-13T15:31:27.106Z"
   },
   {
    "duration": 5,
    "start_time": "2024-06-13T15:31:27.112Z"
   },
   {
    "duration": 19,
    "start_time": "2024-06-13T15:31:27.118Z"
   },
   {
    "duration": 10,
    "start_time": "2024-06-13T15:31:27.139Z"
   },
   {
    "duration": 17,
    "start_time": "2024-06-13T15:31:27.150Z"
   },
   {
    "duration": 41,
    "start_time": "2024-06-13T15:31:27.169Z"
   },
   {
    "duration": 31,
    "start_time": "2024-06-13T15:31:27.212Z"
   },
   {
    "duration": 5,
    "start_time": "2024-06-13T15:31:27.245Z"
   },
   {
    "duration": 186,
    "start_time": "2024-06-13T15:31:27.252Z"
   },
   {
    "duration": 4,
    "start_time": "2024-06-13T15:31:27.439Z"
   },
   {
    "duration": 21,
    "start_time": "2024-06-13T15:31:27.444Z"
   },
   {
    "duration": 17,
    "start_time": "2024-06-13T15:31:27.467Z"
   },
   {
    "duration": 30,
    "start_time": "2024-06-13T15:31:27.485Z"
   },
   {
    "duration": 12,
    "start_time": "2024-06-13T15:31:27.516Z"
   },
   {
    "duration": 28,
    "start_time": "2024-06-13T15:31:27.529Z"
   },
   {
    "duration": 7,
    "start_time": "2024-06-13T15:31:27.558Z"
   },
   {
    "duration": 24,
    "start_time": "2024-06-13T15:31:27.566Z"
   },
   {
    "duration": 324,
    "start_time": "2024-06-13T15:31:27.592Z"
   },
   {
    "duration": 128,
    "start_time": "2024-06-13T15:31:27.917Z"
   },
   {
    "duration": 10,
    "start_time": "2024-06-13T15:31:28.046Z"
   },
   {
    "duration": 222,
    "start_time": "2024-06-13T15:31:28.057Z"
   },
   {
    "duration": 255,
    "start_time": "2024-06-13T15:31:28.280Z"
   },
   {
    "duration": 11,
    "start_time": "2024-06-13T15:31:28.537Z"
   },
   {
    "duration": 225,
    "start_time": "2024-06-13T15:31:28.550Z"
   },
   {
    "duration": 16,
    "start_time": "2024-06-13T15:31:28.777Z"
   },
   {
    "duration": 10,
    "start_time": "2024-06-13T15:31:28.795Z"
   },
   {
    "duration": 24,
    "start_time": "2024-06-13T15:31:28.806Z"
   },
   {
    "duration": 4,
    "start_time": "2024-06-13T15:37:01.067Z"
   },
   {
    "duration": 5,
    "start_time": "2024-06-13T15:37:01.648Z"
   },
   {
    "duration": 5,
    "start_time": "2024-06-13T15:37:28.520Z"
   },
   {
    "duration": 4,
    "start_time": "2024-06-13T15:37:31.852Z"
   },
   {
    "duration": 5,
    "start_time": "2024-06-13T15:37:32.255Z"
   },
   {
    "duration": 432,
    "start_time": "2024-06-13T15:37:39.263Z"
   },
   {
    "duration": 95,
    "start_time": "2024-06-13T15:37:39.697Z"
   },
   {
    "duration": 38,
    "start_time": "2024-06-13T15:37:39.794Z"
   },
   {
    "duration": 29,
    "start_time": "2024-06-13T15:37:39.834Z"
   },
   {
    "duration": 17,
    "start_time": "2024-06-13T15:37:39.865Z"
   },
   {
    "duration": 10,
    "start_time": "2024-06-13T15:37:39.883Z"
   },
   {
    "duration": 9,
    "start_time": "2024-06-13T15:37:39.895Z"
   },
   {
    "duration": 19,
    "start_time": "2024-06-13T15:37:39.906Z"
   },
   {
    "duration": 3,
    "start_time": "2024-06-13T15:37:39.927Z"
   },
   {
    "duration": 5,
    "start_time": "2024-06-13T15:37:39.932Z"
   },
   {
    "duration": 7,
    "start_time": "2024-06-13T15:37:39.938Z"
   },
   {
    "duration": 55,
    "start_time": "2024-06-13T15:37:39.947Z"
   },
   {
    "duration": 23,
    "start_time": "2024-06-13T15:37:40.004Z"
   },
   {
    "duration": 13,
    "start_time": "2024-06-13T15:37:40.030Z"
   },
   {
    "duration": 36,
    "start_time": "2024-06-13T15:37:40.045Z"
   },
   {
    "duration": 32,
    "start_time": "2024-06-13T15:37:40.082Z"
   },
   {
    "duration": 44,
    "start_time": "2024-06-13T15:37:40.116Z"
   },
   {
    "duration": 6,
    "start_time": "2024-06-13T15:37:40.161Z"
   },
   {
    "duration": 7,
    "start_time": "2024-06-13T15:37:40.168Z"
   },
   {
    "duration": 5,
    "start_time": "2024-06-13T15:37:40.176Z"
   },
   {
    "duration": 12,
    "start_time": "2024-06-13T15:37:40.182Z"
   },
   {
    "duration": 23,
    "start_time": "2024-06-13T15:37:40.196Z"
   },
   {
    "duration": 12,
    "start_time": "2024-06-13T15:37:40.220Z"
   },
   {
    "duration": 15,
    "start_time": "2024-06-13T15:37:40.234Z"
   },
   {
    "duration": 3,
    "start_time": "2024-06-13T15:37:40.251Z"
   },
   {
    "duration": 11,
    "start_time": "2024-06-13T15:37:40.256Z"
   },
   {
    "duration": 25,
    "start_time": "2024-06-13T15:37:40.268Z"
   },
   {
    "duration": 18,
    "start_time": "2024-06-13T15:37:40.294Z"
   },
   {
    "duration": 25,
    "start_time": "2024-06-13T15:37:40.313Z"
   },
   {
    "duration": 15,
    "start_time": "2024-06-13T15:37:40.339Z"
   },
   {
    "duration": 34,
    "start_time": "2024-06-13T15:37:40.356Z"
   },
   {
    "duration": 6,
    "start_time": "2024-06-13T15:37:40.392Z"
   },
   {
    "duration": 5,
    "start_time": "2024-06-13T15:37:40.399Z"
   },
   {
    "duration": 11,
    "start_time": "2024-06-13T15:37:40.406Z"
   },
   {
    "duration": 15,
    "start_time": "2024-06-13T15:37:40.418Z"
   },
   {
    "duration": 14,
    "start_time": "2024-06-13T15:37:40.434Z"
   },
   {
    "duration": 6,
    "start_time": "2024-06-13T15:37:40.450Z"
   },
   {
    "duration": 36,
    "start_time": "2024-06-13T15:37:40.457Z"
   },
   {
    "duration": 8,
    "start_time": "2024-06-13T15:37:40.495Z"
   },
   {
    "duration": 13,
    "start_time": "2024-06-13T15:37:40.504Z"
   },
   {
    "duration": 8,
    "start_time": "2024-06-13T15:37:40.522Z"
   },
   {
    "duration": 29,
    "start_time": "2024-06-13T15:37:40.531Z"
   },
   {
    "duration": 24,
    "start_time": "2024-06-13T15:37:40.589Z"
   },
   {
    "duration": 23,
    "start_time": "2024-06-13T15:37:40.614Z"
   },
   {
    "duration": 155,
    "start_time": "2024-06-13T15:37:40.639Z"
   },
   {
    "duration": 4,
    "start_time": "2024-06-13T15:37:40.795Z"
   },
   {
    "duration": 16,
    "start_time": "2024-06-13T15:37:40.800Z"
   },
   {
    "duration": 6,
    "start_time": "2024-06-13T15:37:40.818Z"
   },
   {
    "duration": 14,
    "start_time": "2024-06-13T15:37:40.826Z"
   },
   {
    "duration": 16,
    "start_time": "2024-06-13T15:37:40.841Z"
   },
   {
    "duration": 43,
    "start_time": "2024-06-13T15:37:40.859Z"
   },
   {
    "duration": 9,
    "start_time": "2024-06-13T15:37:40.903Z"
   },
   {
    "duration": 30,
    "start_time": "2024-06-13T15:37:40.914Z"
   },
   {
    "duration": 330,
    "start_time": "2024-06-13T15:37:40.945Z"
   },
   {
    "duration": 137,
    "start_time": "2024-06-13T15:37:41.277Z"
   },
   {
    "duration": 10,
    "start_time": "2024-06-13T15:37:41.416Z"
   },
   {
    "duration": 218,
    "start_time": "2024-06-13T15:37:41.427Z"
   },
   {
    "duration": 236,
    "start_time": "2024-06-13T15:37:41.646Z"
   },
   {
    "duration": 14,
    "start_time": "2024-06-13T15:37:41.884Z"
   },
   {
    "duration": 245,
    "start_time": "2024-06-13T15:37:41.899Z"
   },
   {
    "duration": 9,
    "start_time": "2024-06-13T15:37:42.146Z"
   },
   {
    "duration": 10,
    "start_time": "2024-06-13T15:37:42.157Z"
   },
   {
    "duration": 26,
    "start_time": "2024-06-13T15:37:42.168Z"
   },
   {
    "duration": 13,
    "start_time": "2024-06-13T15:38:46.740Z"
   },
   {
    "duration": 8,
    "start_time": "2024-06-13T15:56:50.727Z"
   },
   {
    "duration": 5,
    "start_time": "2024-06-13T16:03:49.139Z"
   },
   {
    "duration": 439,
    "start_time": "2024-06-13T16:07:19.576Z"
   },
   {
    "duration": 91,
    "start_time": "2024-06-13T16:07:20.017Z"
   },
   {
    "duration": 38,
    "start_time": "2024-06-13T16:07:20.109Z"
   },
   {
    "duration": 26,
    "start_time": "2024-06-13T16:07:20.150Z"
   },
   {
    "duration": 24,
    "start_time": "2024-06-13T16:07:20.177Z"
   },
   {
    "duration": 28,
    "start_time": "2024-06-13T16:07:20.203Z"
   },
   {
    "duration": 28,
    "start_time": "2024-06-13T16:07:20.233Z"
   },
   {
    "duration": 34,
    "start_time": "2024-06-13T16:07:20.263Z"
   },
   {
    "duration": 4,
    "start_time": "2024-06-13T16:07:20.298Z"
   },
   {
    "duration": 23,
    "start_time": "2024-06-13T16:07:20.306Z"
   },
   {
    "duration": 25,
    "start_time": "2024-06-13T16:07:20.331Z"
   },
   {
    "duration": 28,
    "start_time": "2024-06-13T16:07:20.358Z"
   },
   {
    "duration": 34,
    "start_time": "2024-06-13T16:07:20.388Z"
   },
   {
    "duration": 10,
    "start_time": "2024-06-13T16:07:20.424Z"
   },
   {
    "duration": 9,
    "start_time": "2024-06-13T16:07:20.436Z"
   },
   {
    "duration": 39,
    "start_time": "2024-06-13T16:07:20.447Z"
   },
   {
    "duration": 18,
    "start_time": "2024-06-13T16:07:20.487Z"
   },
   {
    "duration": 24,
    "start_time": "2024-06-13T16:07:20.507Z"
   },
   {
    "duration": 18,
    "start_time": "2024-06-13T16:07:20.533Z"
   },
   {
    "duration": 42,
    "start_time": "2024-06-13T16:07:20.553Z"
   },
   {
    "duration": 22,
    "start_time": "2024-06-13T16:07:20.597Z"
   },
   {
    "duration": 33,
    "start_time": "2024-06-13T16:07:20.620Z"
   },
   {
    "duration": 61,
    "start_time": "2024-06-13T16:07:20.654Z"
   },
   {
    "duration": 36,
    "start_time": "2024-06-13T16:07:20.717Z"
   },
   {
    "duration": 24,
    "start_time": "2024-06-13T16:07:20.754Z"
   },
   {
    "duration": 26,
    "start_time": "2024-06-13T16:07:20.779Z"
   },
   {
    "duration": 35,
    "start_time": "2024-06-13T16:07:20.806Z"
   },
   {
    "duration": 46,
    "start_time": "2024-06-13T16:07:20.844Z"
   },
   {
    "duration": 26,
    "start_time": "2024-06-13T16:07:20.891Z"
   },
   {
    "duration": 9,
    "start_time": "2024-06-13T16:07:20.918Z"
   },
   {
    "duration": 38,
    "start_time": "2024-06-13T16:07:20.928Z"
   },
   {
    "duration": 18,
    "start_time": "2024-06-13T16:07:20.968Z"
   },
   {
    "duration": 50,
    "start_time": "2024-06-13T16:07:20.988Z"
   },
   {
    "duration": 20,
    "start_time": "2024-06-13T16:07:21.040Z"
   },
   {
    "duration": 17,
    "start_time": "2024-06-13T16:07:21.061Z"
   },
   {
    "duration": 21,
    "start_time": "2024-06-13T16:07:21.080Z"
   },
   {
    "duration": 30,
    "start_time": "2024-06-13T16:07:21.103Z"
   },
   {
    "duration": 22,
    "start_time": "2024-06-13T16:07:21.135Z"
   },
   {
    "duration": 18,
    "start_time": "2024-06-13T16:07:21.159Z"
   },
   {
    "duration": 27,
    "start_time": "2024-06-13T16:07:21.178Z"
   },
   {
    "duration": 38,
    "start_time": "2024-06-13T16:07:21.206Z"
   },
   {
    "duration": 23,
    "start_time": "2024-06-13T16:07:21.246Z"
   },
   {
    "duration": 33,
    "start_time": "2024-06-13T16:07:21.270Z"
   },
   {
    "duration": 199,
    "start_time": "2024-06-13T16:07:21.304Z"
   },
   {
    "duration": 4,
    "start_time": "2024-06-13T16:07:21.504Z"
   },
   {
    "duration": 32,
    "start_time": "2024-06-13T16:07:21.509Z"
   },
   {
    "duration": 24,
    "start_time": "2024-06-13T16:07:21.542Z"
   },
   {
    "duration": 35,
    "start_time": "2024-06-13T16:07:21.568Z"
   },
   {
    "duration": 27,
    "start_time": "2024-06-13T16:07:21.605Z"
   },
   {
    "duration": 34,
    "start_time": "2024-06-13T16:07:21.634Z"
   },
   {
    "duration": 26,
    "start_time": "2024-06-13T16:07:21.669Z"
   },
   {
    "duration": 41,
    "start_time": "2024-06-13T16:07:21.696Z"
   },
   {
    "duration": 352,
    "start_time": "2024-06-13T16:07:21.739Z"
   },
   {
    "duration": 145,
    "start_time": "2024-06-13T16:07:22.093Z"
   },
   {
    "duration": 10,
    "start_time": "2024-06-13T16:07:22.240Z"
   },
   {
    "duration": 227,
    "start_time": "2024-06-13T16:07:22.252Z"
   },
   {
    "duration": 252,
    "start_time": "2024-06-13T16:07:22.480Z"
   },
   {
    "duration": 10,
    "start_time": "2024-06-13T16:07:22.734Z"
   },
   {
    "duration": 260,
    "start_time": "2024-06-13T16:07:22.745Z"
   },
   {
    "duration": 10,
    "start_time": "2024-06-13T16:07:23.007Z"
   },
   {
    "duration": 41,
    "start_time": "2024-06-13T16:07:23.018Z"
   },
   {
    "duration": 38,
    "start_time": "2024-06-13T16:07:23.060Z"
   },
   {
    "duration": 61,
    "start_time": "2024-06-14T07:27:54.520Z"
   },
   {
    "duration": 9,
    "start_time": "2024-06-14T07:28:13.587Z"
   },
   {
    "duration": 474,
    "start_time": "2024-06-14T07:28:21.272Z"
   },
   {
    "duration": 175,
    "start_time": "2024-06-14T07:28:21.748Z"
   },
   {
    "duration": 79,
    "start_time": "2024-06-14T07:28:21.926Z"
   },
   {
    "duration": 29,
    "start_time": "2024-06-14T07:28:22.007Z"
   },
   {
    "duration": 27,
    "start_time": "2024-06-14T07:28:22.038Z"
   },
   {
    "duration": 18,
    "start_time": "2024-06-14T07:28:22.069Z"
   },
   {
    "duration": 31,
    "start_time": "2024-06-14T07:28:22.089Z"
   },
   {
    "duration": 31,
    "start_time": "2024-06-14T07:28:22.123Z"
   },
   {
    "duration": 4,
    "start_time": "2024-06-14T07:28:22.156Z"
   },
   {
    "duration": 19,
    "start_time": "2024-06-14T07:28:22.162Z"
   },
   {
    "duration": 13,
    "start_time": "2024-06-14T07:28:22.184Z"
   },
   {
    "duration": 34,
    "start_time": "2024-06-14T07:28:22.199Z"
   },
   {
    "duration": 58,
    "start_time": "2024-06-14T07:28:22.235Z"
   },
   {
    "duration": 8,
    "start_time": "2024-06-14T07:28:22.295Z"
   },
   {
    "duration": 9,
    "start_time": "2024-06-14T07:28:22.304Z"
   },
   {
    "duration": 13,
    "start_time": "2024-06-14T07:28:22.314Z"
   },
   {
    "duration": 9,
    "start_time": "2024-06-14T07:28:22.329Z"
   },
   {
    "duration": 36,
    "start_time": "2024-06-14T07:28:22.340Z"
   },
   {
    "duration": 8,
    "start_time": "2024-06-14T07:28:22.378Z"
   },
   {
    "duration": 21,
    "start_time": "2024-06-14T07:28:22.388Z"
   },
   {
    "duration": 12,
    "start_time": "2024-06-14T07:28:22.411Z"
   },
   {
    "duration": 65,
    "start_time": "2024-06-14T07:28:22.425Z"
   },
   {
    "duration": 18,
    "start_time": "2024-06-14T07:28:22.492Z"
   },
   {
    "duration": 5,
    "start_time": "2024-06-14T07:28:22.512Z"
   },
   {
    "duration": 4,
    "start_time": "2024-06-14T07:28:22.519Z"
   },
   {
    "duration": 11,
    "start_time": "2024-06-14T07:28:22.525Z"
   },
   {
    "duration": 55,
    "start_time": "2024-06-14T07:28:22.538Z"
   },
   {
    "duration": 31,
    "start_time": "2024-06-14T07:28:22.598Z"
   },
   {
    "duration": 52,
    "start_time": "2024-06-14T07:28:22.632Z"
   },
   {
    "duration": 17,
    "start_time": "2024-06-14T07:28:22.687Z"
   },
   {
    "duration": 63,
    "start_time": "2024-06-14T07:28:22.706Z"
   },
   {
    "duration": 18,
    "start_time": "2024-06-14T07:28:22.771Z"
   },
   {
    "duration": 8,
    "start_time": "2024-06-14T07:28:22.791Z"
   },
   {
    "duration": 17,
    "start_time": "2024-06-14T07:28:22.802Z"
   },
   {
    "duration": 44,
    "start_time": "2024-06-14T07:28:22.821Z"
   },
   {
    "duration": 8,
    "start_time": "2024-06-14T07:28:22.867Z"
   },
   {
    "duration": 13,
    "start_time": "2024-06-14T07:28:22.877Z"
   },
   {
    "duration": 7,
    "start_time": "2024-06-14T07:28:22.892Z"
   },
   {
    "duration": 8,
    "start_time": "2024-06-14T07:28:22.901Z"
   },
   {
    "duration": 6,
    "start_time": "2024-06-14T07:28:22.911Z"
   },
   {
    "duration": 74,
    "start_time": "2024-06-14T07:28:22.919Z"
   },
   {
    "duration": 4,
    "start_time": "2024-06-14T07:28:22.995Z"
   },
   {
    "duration": 226,
    "start_time": "2024-06-14T07:28:23.001Z"
   },
   {
    "duration": 9,
    "start_time": "2024-06-14T07:28:23.229Z"
   },
   {
    "duration": 22,
    "start_time": "2024-06-14T07:28:23.240Z"
   },
   {
    "duration": 17,
    "start_time": "2024-06-14T07:28:23.269Z"
   },
   {
    "duration": 7,
    "start_time": "2024-06-14T07:28:23.287Z"
   },
   {
    "duration": 13,
    "start_time": "2024-06-14T07:28:23.296Z"
   },
   {
    "duration": 15,
    "start_time": "2024-06-14T07:28:23.311Z"
   },
   {
    "duration": 24,
    "start_time": "2024-06-14T07:28:23.328Z"
   },
   {
    "duration": 10,
    "start_time": "2024-06-14T07:28:23.365Z"
   },
   {
    "duration": 29,
    "start_time": "2024-06-14T07:28:23.379Z"
   },
   {
    "duration": 578,
    "start_time": "2024-06-14T07:28:23.410Z"
   },
   {
    "duration": 299,
    "start_time": "2024-06-14T07:28:23.990Z"
   },
   {
    "duration": 13,
    "start_time": "2024-06-14T07:28:24.291Z"
   },
   {
    "duration": 228,
    "start_time": "2024-06-14T07:28:24.306Z"
   },
   {
    "duration": 346,
    "start_time": "2024-06-14T07:28:24.536Z"
   },
   {
    "duration": 18,
    "start_time": "2024-06-14T07:28:24.884Z"
   },
   {
    "duration": 332,
    "start_time": "2024-06-14T07:28:24.903Z"
   },
   {
    "duration": 9,
    "start_time": "2024-06-14T07:28:25.237Z"
   },
   {
    "duration": 15,
    "start_time": "2024-06-14T07:28:25.266Z"
   },
   {
    "duration": 14,
    "start_time": "2024-06-14T07:28:25.283Z"
   },
   {
    "duration": 8,
    "start_time": "2024-06-14T07:28:30.002Z"
   },
   {
    "duration": 10,
    "start_time": "2024-06-14T07:28:34.669Z"
   },
   {
    "duration": 11,
    "start_time": "2024-06-14T07:32:20.866Z"
   },
   {
    "duration": 9,
    "start_time": "2024-06-14T07:32:28.793Z"
   },
   {
    "duration": 83,
    "start_time": "2024-06-14T07:33:22.224Z"
   },
   {
    "duration": 14,
    "start_time": "2024-06-14T07:33:28.467Z"
   },
   {
    "duration": 7,
    "start_time": "2024-06-14T07:33:32.692Z"
   },
   {
    "duration": 11,
    "start_time": "2024-06-14T07:33:34.558Z"
   },
   {
    "duration": 8,
    "start_time": "2024-06-14T07:33:38.190Z"
   },
   {
    "duration": 7,
    "start_time": "2024-06-14T07:33:47.103Z"
   },
   {
    "duration": 6,
    "start_time": "2024-06-14T07:33:48.896Z"
   },
   {
    "duration": 9,
    "start_time": "2024-06-14T07:33:53.490Z"
   },
   {
    "duration": 10,
    "start_time": "2024-06-14T07:34:12.874Z"
   },
   {
    "duration": 14,
    "start_time": "2024-06-14T07:34:38.370Z"
   },
   {
    "duration": 9,
    "start_time": "2024-06-14T07:34:43.009Z"
   },
   {
    "duration": 14,
    "start_time": "2024-06-14T07:47:36.216Z"
   },
   {
    "duration": 40,
    "start_time": "2024-06-14T07:48:21.684Z"
   },
   {
    "duration": 23,
    "start_time": "2024-06-14T07:48:32.909Z"
   },
   {
    "duration": 35,
    "start_time": "2024-06-14T07:48:38.854Z"
   },
   {
    "duration": 21,
    "start_time": "2024-06-14T07:48:42.819Z"
   },
   {
    "duration": 12,
    "start_time": "2024-06-14T07:50:07.225Z"
   },
   {
    "duration": 33,
    "start_time": "2024-06-14T07:50:08.857Z"
   },
   {
    "duration": 13,
    "start_time": "2024-06-14T07:50:20.024Z"
   },
   {
    "duration": 14,
    "start_time": "2024-06-14T07:50:49.775Z"
   },
   {
    "duration": 16,
    "start_time": "2024-06-14T07:51:42.163Z"
   },
   {
    "duration": 18,
    "start_time": "2024-06-14T07:51:52.317Z"
   },
   {
    "duration": 469,
    "start_time": "2024-06-14T07:51:58.842Z"
   },
   {
    "duration": 111,
    "start_time": "2024-06-14T07:51:59.313Z"
   },
   {
    "duration": 38,
    "start_time": "2024-06-14T07:51:59.426Z"
   },
   {
    "duration": 36,
    "start_time": "2024-06-14T07:51:59.468Z"
   },
   {
    "duration": 16,
    "start_time": "2024-06-14T07:51:59.506Z"
   },
   {
    "duration": 30,
    "start_time": "2024-06-14T07:51:59.524Z"
   },
   {
    "duration": 33,
    "start_time": "2024-06-14T07:51:59.561Z"
   },
   {
    "duration": 30,
    "start_time": "2024-06-14T07:51:59.596Z"
   },
   {
    "duration": 6,
    "start_time": "2024-06-14T07:51:59.627Z"
   },
   {
    "duration": 13,
    "start_time": "2024-06-14T07:51:59.635Z"
   },
   {
    "duration": 16,
    "start_time": "2024-06-14T07:51:59.649Z"
   },
   {
    "duration": 35,
    "start_time": "2024-06-14T07:51:59.668Z"
   },
   {
    "duration": 36,
    "start_time": "2024-06-14T07:51:59.704Z"
   },
   {
    "duration": 42,
    "start_time": "2024-06-14T07:51:59.742Z"
   },
   {
    "duration": 5,
    "start_time": "2024-06-14T07:51:59.792Z"
   },
   {
    "duration": 36,
    "start_time": "2024-06-14T07:51:59.799Z"
   },
   {
    "duration": 26,
    "start_time": "2024-06-14T07:51:59.837Z"
   },
   {
    "duration": 9,
    "start_time": "2024-06-14T07:51:59.866Z"
   },
   {
    "duration": 7,
    "start_time": "2024-06-14T07:51:59.880Z"
   },
   {
    "duration": 54,
    "start_time": "2024-06-14T07:51:59.890Z"
   },
   {
    "duration": 10,
    "start_time": "2024-06-14T07:51:59.946Z"
   },
   {
    "duration": 59,
    "start_time": "2024-06-14T07:51:59.958Z"
   },
   {
    "duration": 23,
    "start_time": "2024-06-14T07:52:00.019Z"
   },
   {
    "duration": 26,
    "start_time": "2024-06-14T07:52:00.045Z"
   },
   {
    "duration": 42,
    "start_time": "2024-06-14T07:52:00.073Z"
   },
   {
    "duration": 78,
    "start_time": "2024-06-14T07:52:00.117Z"
   },
   {
    "duration": 69,
    "start_time": "2024-06-14T07:52:00.197Z"
   },
   {
    "duration": 82,
    "start_time": "2024-06-14T07:52:00.273Z"
   },
   {
    "duration": 61,
    "start_time": "2024-06-14T07:52:00.358Z"
   },
   {
    "duration": 80,
    "start_time": "2024-06-14T07:52:00.421Z"
   },
   {
    "duration": 96,
    "start_time": "2024-06-14T07:52:00.503Z"
   },
   {
    "duration": 75,
    "start_time": "2024-06-14T07:52:00.601Z"
   },
   {
    "duration": 59,
    "start_time": "2024-06-14T07:52:00.678Z"
   },
   {
    "duration": 54,
    "start_time": "2024-06-14T07:52:00.739Z"
   },
   {
    "duration": 88,
    "start_time": "2024-06-14T07:52:00.795Z"
   },
   {
    "duration": 61,
    "start_time": "2024-06-14T07:52:00.886Z"
   },
   {
    "duration": 50,
    "start_time": "2024-06-14T07:52:00.949Z"
   },
   {
    "duration": 38,
    "start_time": "2024-06-14T07:52:01.001Z"
   },
   {
    "duration": 51,
    "start_time": "2024-06-14T07:52:01.041Z"
   },
   {
    "duration": 107,
    "start_time": "2024-06-14T07:52:01.095Z"
   },
   {
    "duration": 85,
    "start_time": "2024-06-14T07:52:01.204Z"
   },
   {
    "duration": 62,
    "start_time": "2024-06-14T07:52:01.298Z"
   },
   {
    "duration": 74,
    "start_time": "2024-06-14T07:52:01.361Z"
   },
   {
    "duration": 67,
    "start_time": "2024-06-14T07:52:01.437Z"
   },
   {
    "duration": 47,
    "start_time": "2024-06-14T07:52:01.506Z"
   },
   {
    "duration": 144,
    "start_time": "2024-06-14T07:52:01.555Z"
   },
   {
    "duration": 45,
    "start_time": "2024-06-14T07:52:01.701Z"
   },
   {
    "duration": 201,
    "start_time": "2024-06-14T07:52:01.747Z"
   },
   {
    "duration": 49,
    "start_time": "2024-06-14T07:52:01.950Z"
   },
   {
    "duration": 91,
    "start_time": "2024-06-14T07:52:02.001Z"
   },
   {
    "duration": 113,
    "start_time": "2024-06-14T07:52:02.094Z"
   },
   {
    "duration": 90,
    "start_time": "2024-06-14T07:52:02.209Z"
   },
   {
    "duration": 483,
    "start_time": "2024-06-14T07:52:02.301Z"
   },
   {
    "duration": 151,
    "start_time": "2024-06-14T07:52:02.786Z"
   },
   {
    "duration": 12,
    "start_time": "2024-06-14T07:52:02.938Z"
   },
   {
    "duration": 208,
    "start_time": "2024-06-14T07:52:02.969Z"
   },
   {
    "duration": 343,
    "start_time": "2024-06-14T07:52:03.181Z"
   },
   {
    "duration": 12,
    "start_time": "2024-06-14T07:52:03.526Z"
   },
   {
    "duration": 310,
    "start_time": "2024-06-14T07:52:03.539Z"
   },
   {
    "duration": 22,
    "start_time": "2024-06-14T07:52:03.851Z"
   },
   {
    "duration": 23,
    "start_time": "2024-06-14T07:52:03.878Z"
   },
   {
    "duration": 20,
    "start_time": "2024-06-14T07:52:03.904Z"
   },
   {
    "duration": 22,
    "start_time": "2024-06-14T07:52:15.006Z"
   },
   {
    "duration": 21,
    "start_time": "2024-06-14T07:52:15.575Z"
   },
   {
    "duration": 459,
    "start_time": "2024-06-14T07:52:27.050Z"
   },
   {
    "duration": 109,
    "start_time": "2024-06-14T07:52:27.511Z"
   },
   {
    "duration": 36,
    "start_time": "2024-06-14T07:52:27.622Z"
   },
   {
    "duration": 41,
    "start_time": "2024-06-14T07:52:27.665Z"
   },
   {
    "duration": 18,
    "start_time": "2024-06-14T07:52:27.708Z"
   },
   {
    "duration": 21,
    "start_time": "2024-06-14T07:52:27.727Z"
   },
   {
    "duration": 15,
    "start_time": "2024-06-14T07:52:27.765Z"
   },
   {
    "duration": 31,
    "start_time": "2024-06-14T07:52:27.783Z"
   },
   {
    "duration": 4,
    "start_time": "2024-06-14T07:52:27.816Z"
   },
   {
    "duration": 14,
    "start_time": "2024-06-14T07:52:27.824Z"
   },
   {
    "duration": 41,
    "start_time": "2024-06-14T07:52:27.840Z"
   },
   {
    "duration": 36,
    "start_time": "2024-06-14T07:52:27.883Z"
   },
   {
    "duration": 27,
    "start_time": "2024-06-14T07:52:27.920Z"
   },
   {
    "duration": 22,
    "start_time": "2024-06-14T07:52:27.949Z"
   },
   {
    "duration": 8,
    "start_time": "2024-06-14T07:52:27.973Z"
   },
   {
    "duration": 22,
    "start_time": "2024-06-14T07:52:27.983Z"
   },
   {
    "duration": 7,
    "start_time": "2024-06-14T07:52:28.007Z"
   },
   {
    "duration": 10,
    "start_time": "2024-06-14T07:52:28.015Z"
   },
   {
    "duration": 8,
    "start_time": "2024-06-14T07:52:28.027Z"
   },
   {
    "duration": 30,
    "start_time": "2024-06-14T07:52:28.062Z"
   },
   {
    "duration": 15,
    "start_time": "2024-06-14T07:52:28.094Z"
   },
   {
    "duration": 42,
    "start_time": "2024-06-14T07:52:28.111Z"
   },
   {
    "duration": 35,
    "start_time": "2024-06-14T07:52:28.161Z"
   },
   {
    "duration": 14,
    "start_time": "2024-06-14T07:52:28.198Z"
   },
   {
    "duration": 6,
    "start_time": "2024-06-14T07:52:28.214Z"
   },
   {
    "duration": 12,
    "start_time": "2024-06-14T07:52:28.222Z"
   },
   {
    "duration": 29,
    "start_time": "2024-06-14T07:52:28.236Z"
   },
   {
    "duration": 56,
    "start_time": "2024-06-14T07:52:28.271Z"
   },
   {
    "duration": 24,
    "start_time": "2024-06-14T07:52:28.329Z"
   },
   {
    "duration": 19,
    "start_time": "2024-06-14T07:52:28.362Z"
   },
   {
    "duration": 22,
    "start_time": "2024-06-14T07:52:28.384Z"
   },
   {
    "duration": 9,
    "start_time": "2024-06-14T07:52:28.408Z"
   },
   {
    "duration": 9,
    "start_time": "2024-06-14T07:52:28.419Z"
   },
   {
    "duration": 20,
    "start_time": "2024-06-14T07:52:28.473Z"
   },
   {
    "duration": 8,
    "start_time": "2024-06-14T07:52:28.495Z"
   },
   {
    "duration": 7,
    "start_time": "2024-06-14T07:52:28.505Z"
   },
   {
    "duration": 10,
    "start_time": "2024-06-14T07:52:28.514Z"
   },
   {
    "duration": 7,
    "start_time": "2024-06-14T07:52:28.526Z"
   },
   {
    "duration": 32,
    "start_time": "2024-06-14T07:52:28.535Z"
   },
   {
    "duration": 7,
    "start_time": "2024-06-14T07:52:28.571Z"
   },
   {
    "duration": 28,
    "start_time": "2024-06-14T07:52:28.579Z"
   },
   {
    "duration": 27,
    "start_time": "2024-06-14T07:52:28.608Z"
   },
   {
    "duration": 42,
    "start_time": "2024-06-14T07:52:28.636Z"
   },
   {
    "duration": 34,
    "start_time": "2024-06-14T07:52:28.680Z"
   },
   {
    "duration": 16,
    "start_time": "2024-06-14T07:52:28.716Z"
   },
   {
    "duration": 99,
    "start_time": "2024-06-14T07:52:28.734Z"
   },
   {
    "duration": 13,
    "start_time": "2024-06-14T07:52:28.835Z"
   },
   {
    "duration": 26,
    "start_time": "2024-06-14T07:52:28.850Z"
   },
   {
    "duration": 19,
    "start_time": "2024-06-14T07:52:28.879Z"
   },
   {
    "duration": 27,
    "start_time": "2024-06-14T07:52:28.899Z"
   },
   {
    "duration": 8,
    "start_time": "2024-06-14T07:52:28.928Z"
   },
   {
    "duration": 46,
    "start_time": "2024-06-14T07:52:28.937Z"
   },
   {
    "duration": 426,
    "start_time": "2024-06-14T07:52:28.987Z"
   },
   {
    "duration": 194,
    "start_time": "2024-06-14T07:52:29.415Z"
   },
   {
    "duration": 12,
    "start_time": "2024-06-14T07:52:29.611Z"
   },
   {
    "duration": 257,
    "start_time": "2024-06-14T07:52:29.624Z"
   },
   {
    "duration": 413,
    "start_time": "2024-06-14T07:52:29.884Z"
   },
   {
    "duration": 14,
    "start_time": "2024-06-14T07:52:30.299Z"
   },
   {
    "duration": 400,
    "start_time": "2024-06-14T07:52:30.315Z"
   },
   {
    "duration": 9,
    "start_time": "2024-06-14T07:52:30.716Z"
   },
   {
    "duration": 71,
    "start_time": "2024-06-14T07:52:30.727Z"
   },
   {
    "duration": 95,
    "start_time": "2024-06-14T07:52:30.800Z"
   },
   {
    "duration": 11,
    "start_time": "2024-06-14T07:53:21.727Z"
   },
   {
    "duration": 450,
    "start_time": "2024-06-14T07:53:27.149Z"
   },
   {
    "duration": 106,
    "start_time": "2024-06-14T07:53:27.601Z"
   },
   {
    "duration": 35,
    "start_time": "2024-06-14T07:53:27.709Z"
   },
   {
    "duration": 34,
    "start_time": "2024-06-14T07:53:27.746Z"
   },
   {
    "duration": 38,
    "start_time": "2024-06-14T07:53:27.786Z"
   },
   {
    "duration": 11,
    "start_time": "2024-06-14T07:53:27.826Z"
   },
   {
    "duration": 34,
    "start_time": "2024-06-14T07:53:27.840Z"
   },
   {
    "duration": 41,
    "start_time": "2024-06-14T07:53:27.875Z"
   },
   {
    "duration": 4,
    "start_time": "2024-06-14T07:53:27.918Z"
   },
   {
    "duration": 10,
    "start_time": "2024-06-14T07:53:27.924Z"
   },
   {
    "duration": 16,
    "start_time": "2024-06-14T07:53:27.936Z"
   },
   {
    "duration": 55,
    "start_time": "2024-06-14T07:53:27.954Z"
   },
   {
    "duration": 30,
    "start_time": "2024-06-14T07:53:28.011Z"
   },
   {
    "duration": 29,
    "start_time": "2024-06-14T07:53:28.045Z"
   },
   {
    "duration": 27,
    "start_time": "2024-06-14T07:53:28.076Z"
   },
   {
    "duration": 21,
    "start_time": "2024-06-14T07:53:28.105Z"
   },
   {
    "duration": 14,
    "start_time": "2024-06-14T07:53:28.128Z"
   },
   {
    "duration": 7,
    "start_time": "2024-06-14T07:53:28.144Z"
   },
   {
    "duration": 27,
    "start_time": "2024-06-14T07:53:28.153Z"
   },
   {
    "duration": 23,
    "start_time": "2024-06-14T07:53:28.187Z"
   },
   {
    "duration": 11,
    "start_time": "2024-06-14T07:53:28.211Z"
   },
   {
    "duration": 25,
    "start_time": "2024-06-14T07:53:28.224Z"
   },
   {
    "duration": 30,
    "start_time": "2024-06-14T07:53:28.270Z"
   },
   {
    "duration": 12,
    "start_time": "2024-06-14T07:53:28.302Z"
   },
   {
    "duration": 4,
    "start_time": "2024-06-14T07:53:28.316Z"
   },
   {
    "duration": 25,
    "start_time": "2024-06-14T07:53:28.322Z"
   },
   {
    "duration": 36,
    "start_time": "2024-06-14T07:53:28.348Z"
   },
   {
    "duration": 33,
    "start_time": "2024-06-14T07:53:28.386Z"
   },
   {
    "duration": 21,
    "start_time": "2024-06-14T07:53:28.421Z"
   },
   {
    "duration": 39,
    "start_time": "2024-06-14T07:53:28.443Z"
   },
   {
    "duration": 21,
    "start_time": "2024-06-14T07:53:28.483Z"
   },
   {
    "duration": 8,
    "start_time": "2024-06-14T07:53:28.506Z"
   },
   {
    "duration": 8,
    "start_time": "2024-06-14T07:53:28.516Z"
   },
   {
    "duration": 38,
    "start_time": "2024-06-14T07:53:28.526Z"
   },
   {
    "duration": 12,
    "start_time": "2024-06-14T07:53:28.571Z"
   },
   {
    "duration": 7,
    "start_time": "2024-06-14T07:53:28.585Z"
   },
   {
    "duration": 14,
    "start_time": "2024-06-14T07:53:28.594Z"
   },
   {
    "duration": 8,
    "start_time": "2024-06-14T07:53:28.609Z"
   },
   {
    "duration": 5,
    "start_time": "2024-06-14T07:53:28.619Z"
   },
   {
    "duration": 6,
    "start_time": "2024-06-14T07:53:28.626Z"
   },
   {
    "duration": 74,
    "start_time": "2024-06-14T07:53:28.636Z"
   },
   {
    "duration": 10,
    "start_time": "2024-06-14T07:53:28.712Z"
   },
   {
    "duration": 56,
    "start_time": "2024-06-14T07:53:28.724Z"
   },
   {
    "duration": 11,
    "start_time": "2024-06-14T07:53:28.788Z"
   },
   {
    "duration": 133,
    "start_time": "2024-06-14T07:53:28.800Z"
   },
   {
    "duration": 6,
    "start_time": "2024-06-14T07:53:28.935Z"
   },
   {
    "duration": 16,
    "start_time": "2024-06-14T07:53:28.942Z"
   },
   {
    "duration": 23,
    "start_time": "2024-06-14T07:53:28.959Z"
   },
   {
    "duration": 26,
    "start_time": "2024-06-14T07:53:28.986Z"
   },
   {
    "duration": 13,
    "start_time": "2024-06-14T07:53:29.014Z"
   },
   {
    "duration": 30,
    "start_time": "2024-06-14T07:53:29.028Z"
   },
   {
    "duration": 430,
    "start_time": "2024-06-14T07:53:29.060Z"
   },
   {
    "duration": 163,
    "start_time": "2024-06-14T07:53:29.492Z"
   },
   {
    "duration": 18,
    "start_time": "2024-06-14T07:53:29.656Z"
   },
   {
    "duration": 238,
    "start_time": "2024-06-14T07:53:29.676Z"
   },
   {
    "duration": 411,
    "start_time": "2024-06-14T07:53:29.916Z"
   },
   {
    "duration": 14,
    "start_time": "2024-06-14T07:53:30.328Z"
   },
   {
    "duration": 367,
    "start_time": "2024-06-14T07:53:30.344Z"
   },
   {
    "duration": 10,
    "start_time": "2024-06-14T07:53:30.715Z"
   },
   {
    "duration": 97,
    "start_time": "2024-06-14T07:53:30.727Z"
   },
   {
    "duration": 88,
    "start_time": "2024-06-14T07:53:30.826Z"
   },
   {
    "duration": 7,
    "start_time": "2024-06-14T07:53:53.929Z"
   },
   {
    "duration": 5,
    "start_time": "2024-06-14T07:56:23.077Z"
   },
   {
    "duration": 4,
    "start_time": "2024-06-14T07:56:26.507Z"
   },
   {
    "duration": 8,
    "start_time": "2024-06-14T07:56:33.237Z"
   },
   {
    "duration": 28,
    "start_time": "2024-06-14T07:57:56.674Z"
   },
   {
    "duration": 501,
    "start_time": "2024-06-14T07:59:43.857Z"
   },
   {
    "duration": 146,
    "start_time": "2024-06-14T07:59:44.361Z"
   },
   {
    "duration": 35,
    "start_time": "2024-06-14T07:59:44.509Z"
   },
   {
    "duration": 34,
    "start_time": "2024-06-14T07:59:44.546Z"
   },
   {
    "duration": 23,
    "start_time": "2024-06-14T07:59:44.585Z"
   },
   {
    "duration": 28,
    "start_time": "2024-06-14T07:59:44.610Z"
   },
   {
    "duration": 30,
    "start_time": "2024-06-14T07:59:44.640Z"
   },
   {
    "duration": 30,
    "start_time": "2024-06-14T07:59:44.672Z"
   },
   {
    "duration": 4,
    "start_time": "2024-06-14T07:59:44.704Z"
   },
   {
    "duration": 16,
    "start_time": "2024-06-14T07:59:44.709Z"
   },
   {
    "duration": 9,
    "start_time": "2024-06-14T07:59:44.727Z"
   },
   {
    "duration": 56,
    "start_time": "2024-06-14T07:59:44.738Z"
   },
   {
    "duration": 30,
    "start_time": "2024-06-14T07:59:44.795Z"
   },
   {
    "duration": 7,
    "start_time": "2024-06-14T07:59:44.828Z"
   },
   {
    "duration": 67,
    "start_time": "2024-06-14T07:59:44.837Z"
   },
   {
    "duration": 11,
    "start_time": "2024-06-14T07:59:44.905Z"
   },
   {
    "duration": 7,
    "start_time": "2024-06-14T07:59:44.917Z"
   },
   {
    "duration": 8,
    "start_time": "2024-06-14T07:59:44.926Z"
   },
   {
    "duration": 6,
    "start_time": "2024-06-14T07:59:44.935Z"
   },
   {
    "duration": 29,
    "start_time": "2024-06-14T07:59:44.943Z"
   },
   {
    "duration": 16,
    "start_time": "2024-06-14T07:59:44.982Z"
   },
   {
    "duration": 30,
    "start_time": "2024-06-14T07:59:45.000Z"
   },
   {
    "duration": 16,
    "start_time": "2024-06-14T07:59:45.032Z"
   },
   {
    "duration": 27,
    "start_time": "2024-06-14T07:59:45.060Z"
   },
   {
    "duration": 39,
    "start_time": "2024-06-14T07:59:45.088Z"
   },
   {
    "duration": 114,
    "start_time": "2024-06-14T07:59:45.128Z"
   },
   {
    "duration": 56,
    "start_time": "2024-06-14T07:59:45.243Z"
   },
   {
    "duration": 29,
    "start_time": "2024-06-14T07:59:45.301Z"
   },
   {
    "duration": 20,
    "start_time": "2024-06-14T07:59:45.333Z"
   },
   {
    "duration": 32,
    "start_time": "2024-06-14T07:59:45.355Z"
   },
   {
    "duration": 23,
    "start_time": "2024-06-14T07:59:45.389Z"
   },
   {
    "duration": 21,
    "start_time": "2024-06-14T07:59:45.414Z"
   },
   {
    "duration": 11,
    "start_time": "2024-06-14T07:59:45.438Z"
   },
   {
    "duration": 38,
    "start_time": "2024-06-14T07:59:45.451Z"
   },
   {
    "duration": 41,
    "start_time": "2024-06-14T07:59:45.491Z"
   },
   {
    "duration": 45,
    "start_time": "2024-06-14T07:59:45.533Z"
   },
   {
    "duration": 22,
    "start_time": "2024-06-14T07:59:45.580Z"
   },
   {
    "duration": 18,
    "start_time": "2024-06-14T07:59:45.604Z"
   },
   {
    "duration": 31,
    "start_time": "2024-06-14T07:59:45.623Z"
   },
   {
    "duration": 19,
    "start_time": "2024-06-14T07:59:45.656Z"
   },
   {
    "duration": 28,
    "start_time": "2024-06-14T07:59:45.681Z"
   },
   {
    "duration": 12,
    "start_time": "2024-06-14T07:59:45.711Z"
   },
   {
    "duration": 28,
    "start_time": "2024-06-14T07:59:45.724Z"
   },
   {
    "duration": 16,
    "start_time": "2024-06-14T07:59:45.754Z"
   },
   {
    "duration": 57,
    "start_time": "2024-06-14T07:59:45.780Z"
   },
   {
    "duration": 7,
    "start_time": "2024-06-14T07:59:45.839Z"
   },
   {
    "duration": 29,
    "start_time": "2024-06-14T07:59:45.847Z"
   },
   {
    "duration": 15,
    "start_time": "2024-06-14T07:59:45.877Z"
   },
   {
    "duration": 16,
    "start_time": "2024-06-14T07:59:45.895Z"
   },
   {
    "duration": 44,
    "start_time": "2024-06-14T07:59:45.913Z"
   },
   {
    "duration": 43,
    "start_time": "2024-06-14T07:59:45.959Z"
   },
   {
    "duration": 405,
    "start_time": "2024-06-14T07:59:46.004Z"
   },
   {
    "duration": 184,
    "start_time": "2024-06-14T07:59:46.411Z"
   },
   {
    "duration": 16,
    "start_time": "2024-06-14T07:59:46.597Z"
   },
   {
    "duration": 226,
    "start_time": "2024-06-14T07:59:46.615Z"
   },
   {
    "duration": 381,
    "start_time": "2024-06-14T07:59:46.842Z"
   },
   {
    "duration": 11,
    "start_time": "2024-06-14T07:59:47.225Z"
   },
   {
    "duration": 295,
    "start_time": "2024-06-14T07:59:47.237Z"
   },
   {
    "duration": 9,
    "start_time": "2024-06-14T07:59:47.533Z"
   },
   {
    "duration": 29,
    "start_time": "2024-06-14T07:59:47.544Z"
   },
   {
    "duration": 12,
    "start_time": "2024-06-14T07:59:47.579Z"
   },
   {
    "duration": 13,
    "start_time": "2024-06-14T08:07:50.287Z"
   },
   {
    "duration": 5,
    "start_time": "2024-06-14T08:07:55.833Z"
   },
   {
    "duration": 14,
    "start_time": "2024-06-14T08:07:56.288Z"
   },
   {
    "duration": 398,
    "start_time": "2024-06-14T08:12:50.090Z"
   },
   {
    "duration": 95,
    "start_time": "2024-06-14T08:12:50.490Z"
   },
   {
    "duration": 36,
    "start_time": "2024-06-14T08:12:50.587Z"
   },
   {
    "duration": 28,
    "start_time": "2024-06-14T08:12:50.625Z"
   },
   {
    "duration": 17,
    "start_time": "2024-06-14T08:12:50.654Z"
   },
   {
    "duration": 10,
    "start_time": "2024-06-14T08:12:50.673Z"
   },
   {
    "duration": 12,
    "start_time": "2024-06-14T08:12:50.685Z"
   },
   {
    "duration": 29,
    "start_time": "2024-06-14T08:12:50.699Z"
   },
   {
    "duration": 4,
    "start_time": "2024-06-14T08:12:50.730Z"
   },
   {
    "duration": 26,
    "start_time": "2024-06-14T08:12:50.736Z"
   },
   {
    "duration": 17,
    "start_time": "2024-06-14T08:12:50.763Z"
   },
   {
    "duration": 57,
    "start_time": "2024-06-14T08:12:50.782Z"
   },
   {
    "duration": 33,
    "start_time": "2024-06-14T08:12:50.841Z"
   },
   {
    "duration": 8,
    "start_time": "2024-06-14T08:12:50.876Z"
   },
   {
    "duration": 32,
    "start_time": "2024-06-14T08:12:50.886Z"
   },
   {
    "duration": 23,
    "start_time": "2024-06-14T08:12:50.919Z"
   },
   {
    "duration": 20,
    "start_time": "2024-06-14T08:12:50.944Z"
   },
   {
    "duration": 22,
    "start_time": "2024-06-14T08:12:50.966Z"
   },
   {
    "duration": 13,
    "start_time": "2024-06-14T08:12:50.991Z"
   },
   {
    "duration": 27,
    "start_time": "2024-06-14T08:12:51.006Z"
   },
   {
    "duration": 14,
    "start_time": "2024-06-14T08:12:51.035Z"
   },
   {
    "duration": 39,
    "start_time": "2024-06-14T08:12:51.051Z"
   },
   {
    "duration": 18,
    "start_time": "2024-06-14T08:12:51.092Z"
   },
   {
    "duration": 27,
    "start_time": "2024-06-14T08:12:51.112Z"
   },
   {
    "duration": 5,
    "start_time": "2024-06-14T08:12:51.141Z"
   },
   {
    "duration": 4,
    "start_time": "2024-06-14T08:12:51.148Z"
   },
   {
    "duration": 6,
    "start_time": "2024-06-14T08:12:51.154Z"
   },
   {
    "duration": 68,
    "start_time": "2024-06-14T08:12:51.167Z"
   },
   {
    "duration": 52,
    "start_time": "2024-06-14T08:12:51.237Z"
   },
   {
    "duration": 33,
    "start_time": "2024-06-14T08:12:51.292Z"
   },
   {
    "duration": 36,
    "start_time": "2024-06-14T08:12:51.326Z"
   },
   {
    "duration": 26,
    "start_time": "2024-06-14T08:12:51.364Z"
   },
   {
    "duration": 10,
    "start_time": "2024-06-14T08:12:51.392Z"
   },
   {
    "duration": 20,
    "start_time": "2024-06-14T08:12:51.404Z"
   },
   {
    "duration": 37,
    "start_time": "2024-06-14T08:12:51.425Z"
   },
   {
    "duration": 19,
    "start_time": "2024-06-14T08:12:51.464Z"
   },
   {
    "duration": 35,
    "start_time": "2024-06-14T08:12:51.485Z"
   },
   {
    "duration": 8,
    "start_time": "2024-06-14T08:12:51.522Z"
   },
   {
    "duration": 6,
    "start_time": "2024-06-14T08:12:51.531Z"
   },
   {
    "duration": 14,
    "start_time": "2024-06-14T08:12:51.539Z"
   },
   {
    "duration": 23,
    "start_time": "2024-06-14T08:12:51.555Z"
   },
   {
    "duration": 28,
    "start_time": "2024-06-14T08:12:51.580Z"
   },
   {
    "duration": 11,
    "start_time": "2024-06-14T08:12:51.610Z"
   },
   {
    "duration": 33,
    "start_time": "2024-06-14T08:12:51.622Z"
   },
   {
    "duration": 14,
    "start_time": "2024-06-14T08:12:51.657Z"
   },
   {
    "duration": 34,
    "start_time": "2024-06-14T08:12:51.673Z"
   },
   {
    "duration": 4,
    "start_time": "2024-06-14T08:12:51.709Z"
   },
   {
    "duration": 77,
    "start_time": "2024-06-14T08:12:51.715Z"
   },
   {
    "duration": 16,
    "start_time": "2024-06-14T08:12:51.794Z"
   },
   {
    "duration": 21,
    "start_time": "2024-06-14T08:12:51.811Z"
   },
   {
    "duration": 17,
    "start_time": "2024-06-14T08:12:51.833Z"
   },
   {
    "duration": 8,
    "start_time": "2024-06-14T08:12:51.851Z"
   },
   {
    "duration": 25,
    "start_time": "2024-06-14T08:12:51.860Z"
   },
   {
    "duration": 49,
    "start_time": "2024-06-14T08:12:51.887Z"
   },
   {
    "duration": 398,
    "start_time": "2024-06-14T08:12:51.937Z"
   },
   {
    "duration": 149,
    "start_time": "2024-06-14T08:12:52.336Z"
   },
   {
    "duration": 13,
    "start_time": "2024-06-14T08:12:52.487Z"
   },
   {
    "duration": 215,
    "start_time": "2024-06-14T08:12:52.501Z"
   },
   {
    "duration": 325,
    "start_time": "2024-06-14T08:12:52.719Z"
   },
   {
    "duration": 24,
    "start_time": "2024-06-14T08:12:53.047Z"
   },
   {
    "duration": 277,
    "start_time": "2024-06-14T08:12:53.073Z"
   },
   {
    "duration": 12,
    "start_time": "2024-06-14T08:12:53.352Z"
   },
   {
    "duration": 9,
    "start_time": "2024-06-14T08:12:53.366Z"
   },
   {
    "duration": 13,
    "start_time": "2024-06-14T08:12:53.376Z"
   },
   {
    "duration": 21,
    "start_time": "2024-06-14T08:13:29.163Z"
   },
   {
    "duration": 22,
    "start_time": "2024-06-14T08:13:58.185Z"
   },
   {
    "duration": 23,
    "start_time": "2024-06-14T08:14:09.324Z"
   },
   {
    "duration": 21,
    "start_time": "2024-06-14T08:14:27.726Z"
   },
   {
    "duration": 29,
    "start_time": "2024-06-14T08:19:03.093Z"
   },
   {
    "duration": 472,
    "start_time": "2024-06-14T08:35:07.441Z"
   },
   {
    "duration": 98,
    "start_time": "2024-06-14T08:35:07.916Z"
   },
   {
    "duration": 36,
    "start_time": "2024-06-14T08:35:08.016Z"
   },
   {
    "duration": 28,
    "start_time": "2024-06-14T08:35:08.053Z"
   },
   {
    "duration": 28,
    "start_time": "2024-06-14T08:35:08.083Z"
   },
   {
    "duration": 11,
    "start_time": "2024-06-14T08:35:08.113Z"
   },
   {
    "duration": 16,
    "start_time": "2024-06-14T08:35:08.125Z"
   },
   {
    "duration": 36,
    "start_time": "2024-06-14T08:35:08.142Z"
   },
   {
    "duration": 4,
    "start_time": "2024-06-14T08:35:08.180Z"
   },
   {
    "duration": 12,
    "start_time": "2024-06-14T08:35:08.186Z"
   },
   {
    "duration": 13,
    "start_time": "2024-06-14T08:35:08.200Z"
   },
   {
    "duration": 46,
    "start_time": "2024-06-14T08:35:08.215Z"
   },
   {
    "duration": 28,
    "start_time": "2024-06-14T08:35:08.263Z"
   },
   {
    "duration": 7,
    "start_time": "2024-06-14T08:35:08.294Z"
   },
   {
    "duration": 11,
    "start_time": "2024-06-14T08:35:08.303Z"
   },
   {
    "duration": 27,
    "start_time": "2024-06-14T08:35:08.315Z"
   },
   {
    "duration": 23,
    "start_time": "2024-06-14T08:35:08.344Z"
   },
   {
    "duration": 21,
    "start_time": "2024-06-14T08:35:08.369Z"
   },
   {
    "duration": 51,
    "start_time": "2024-06-14T08:35:08.392Z"
   },
   {
    "duration": 50,
    "start_time": "2024-06-14T08:35:08.445Z"
   },
   {
    "duration": 16,
    "start_time": "2024-06-14T08:35:08.497Z"
   },
   {
    "duration": 44,
    "start_time": "2024-06-14T08:35:08.514Z"
   },
   {
    "duration": 19,
    "start_time": "2024-06-14T08:35:08.559Z"
   },
   {
    "duration": 21,
    "start_time": "2024-06-14T08:35:08.579Z"
   },
   {
    "duration": 12,
    "start_time": "2024-06-14T08:35:08.601Z"
   },
   {
    "duration": 13,
    "start_time": "2024-06-14T08:35:08.615Z"
   },
   {
    "duration": 11,
    "start_time": "2024-06-14T08:35:08.630Z"
   },
   {
    "duration": 19,
    "start_time": "2024-06-14T08:35:08.642Z"
   },
   {
    "duration": 13,
    "start_time": "2024-06-14T08:35:08.662Z"
   },
   {
    "duration": 23,
    "start_time": "2024-06-14T08:35:08.676Z"
   },
   {
    "duration": 30,
    "start_time": "2024-06-14T08:35:08.701Z"
   },
   {
    "duration": 38,
    "start_time": "2024-06-14T08:35:08.732Z"
   },
   {
    "duration": 8,
    "start_time": "2024-06-14T08:35:08.772Z"
   },
   {
    "duration": 20,
    "start_time": "2024-06-14T08:35:08.782Z"
   },
   {
    "duration": 17,
    "start_time": "2024-06-14T08:35:08.804Z"
   },
   {
    "duration": 22,
    "start_time": "2024-06-14T08:35:08.822Z"
   },
   {
    "duration": 16,
    "start_time": "2024-06-14T08:35:08.845Z"
   },
   {
    "duration": 11,
    "start_time": "2024-06-14T08:35:08.863Z"
   },
   {
    "duration": 12,
    "start_time": "2024-06-14T08:35:08.876Z"
   },
   {
    "duration": 9,
    "start_time": "2024-06-14T08:35:08.890Z"
   },
   {
    "duration": 5,
    "start_time": "2024-06-14T08:35:08.903Z"
   },
   {
    "duration": 12,
    "start_time": "2024-06-14T08:35:08.910Z"
   },
   {
    "duration": 19,
    "start_time": "2024-06-14T08:35:08.923Z"
   },
   {
    "duration": 118,
    "start_time": "2024-06-14T08:35:08.943Z"
   },
   {
    "duration": 18,
    "start_time": "2024-06-14T08:35:09.062Z"
   },
   {
    "duration": 28,
    "start_time": "2024-06-14T08:35:09.082Z"
   },
   {
    "duration": 12,
    "start_time": "2024-06-14T08:35:09.111Z"
   },
   {
    "duration": 68,
    "start_time": "2024-06-14T08:35:09.125Z"
   },
   {
    "duration": 39,
    "start_time": "2024-06-14T08:35:09.194Z"
   },
   {
    "duration": 13,
    "start_time": "2024-06-14T08:35:09.235Z"
   },
   {
    "duration": 8,
    "start_time": "2024-06-14T08:35:09.250Z"
   },
   {
    "duration": 13,
    "start_time": "2024-06-14T08:35:09.259Z"
   },
   {
    "duration": 103,
    "start_time": "2024-06-14T08:35:09.274Z"
   },
   {
    "duration": 25,
    "start_time": "2024-06-14T08:35:09.379Z"
   },
   {
    "duration": 409,
    "start_time": "2024-06-14T08:35:09.406Z"
   },
   {
    "duration": 149,
    "start_time": "2024-06-14T08:35:09.817Z"
   },
   {
    "duration": 12,
    "start_time": "2024-06-14T08:35:09.967Z"
   },
   {
    "duration": 260,
    "start_time": "2024-06-14T08:35:09.981Z"
   },
   {
    "duration": 255,
    "start_time": "2024-06-14T08:35:10.243Z"
   },
   {
    "duration": 11,
    "start_time": "2024-06-14T08:35:10.501Z"
   },
   {
    "duration": 285,
    "start_time": "2024-06-14T08:35:10.514Z"
   },
   {
    "duration": 10,
    "start_time": "2024-06-14T08:35:10.801Z"
   },
   {
    "duration": 9,
    "start_time": "2024-06-14T08:35:10.812Z"
   },
   {
    "duration": 12,
    "start_time": "2024-06-14T08:35:10.823Z"
   },
   {
    "duration": 73,
    "start_time": "2024-06-14T08:36:50.799Z"
   },
   {
    "duration": 19,
    "start_time": "2024-06-14T08:37:08.007Z"
   },
   {
    "duration": 250,
    "start_time": "2024-06-14T08:38:38.821Z"
   },
   {
    "duration": 7,
    "start_time": "2024-06-14T08:39:12.090Z"
   },
   {
    "duration": 6,
    "start_time": "2024-06-14T08:40:12.423Z"
   },
   {
    "duration": 41,
    "start_time": "2024-06-14T08:42:17.009Z"
   },
   {
    "duration": 271,
    "start_time": "2024-06-14T08:42:41.422Z"
   },
   {
    "duration": 9,
    "start_time": "2024-06-14T08:47:52.903Z"
   },
   {
    "duration": 192,
    "start_time": "2024-06-14T08:48:45.897Z"
   },
   {
    "duration": 267,
    "start_time": "2024-06-14T08:48:50.297Z"
   },
   {
    "duration": 334,
    "start_time": "2024-06-14T08:49:28.692Z"
   },
   {
    "duration": 246,
    "start_time": "2024-06-14T08:49:32.487Z"
   },
   {
    "duration": 251,
    "start_time": "2024-06-14T08:49:35.243Z"
   },
   {
    "duration": 281,
    "start_time": "2024-06-14T08:52:00.614Z"
   },
   {
    "duration": 9,
    "start_time": "2024-06-14T08:53:43.696Z"
   },
   {
    "duration": 9,
    "start_time": "2024-06-14T08:53:56.868Z"
   },
   {
    "duration": 9,
    "start_time": "2024-06-14T08:55:43.520Z"
   },
   {
    "duration": 3,
    "start_time": "2024-06-14T08:56:18.654Z"
   },
   {
    "duration": 37,
    "start_time": "2024-06-14T08:57:02.450Z"
   },
   {
    "duration": 34,
    "start_time": "2024-06-14T08:57:17.100Z"
   },
   {
    "duration": 11,
    "start_time": "2024-06-14T08:57:26.080Z"
   },
   {
    "duration": 314,
    "start_time": "2024-06-14T09:02:36.265Z"
   },
   {
    "duration": 288,
    "start_time": "2024-06-14T09:02:41.454Z"
   },
   {
    "duration": 65,
    "start_time": "2024-06-14T09:03:19.449Z"
   },
   {
    "duration": 68,
    "start_time": "2024-06-14T09:06:52.041Z"
   },
   {
    "duration": 449,
    "start_time": "2024-06-14T09:07:03.951Z"
   },
   {
    "duration": 325,
    "start_time": "2024-06-14T09:07:10.768Z"
   },
   {
    "duration": 345,
    "start_time": "2024-06-14T09:07:20.847Z"
   },
   {
    "duration": 287,
    "start_time": "2024-06-14T09:09:05.066Z"
   },
   {
    "duration": 226,
    "start_time": "2024-06-14T09:12:03.500Z"
   },
   {
    "duration": 249,
    "start_time": "2024-06-14T09:12:41.494Z"
   },
   {
    "duration": 25,
    "start_time": "2024-06-14T09:14:07.436Z"
   },
   {
    "duration": 16,
    "start_time": "2024-06-14T09:14:18.717Z"
   },
   {
    "duration": 65,
    "start_time": "2024-06-14T09:18:56.734Z"
   },
   {
    "duration": 93,
    "start_time": "2024-06-14T09:19:30.374Z"
   },
   {
    "duration": 292,
    "start_time": "2024-06-14T09:19:42.188Z"
   },
   {
    "duration": 4,
    "start_time": "2024-06-14T09:19:49.420Z"
   },
   {
    "duration": 151,
    "start_time": "2024-06-14T09:19:49.967Z"
   },
   {
    "duration": 457,
    "start_time": "2024-06-14T09:20:03.590Z"
   },
   {
    "duration": 94,
    "start_time": "2024-06-14T09:20:04.049Z"
   },
   {
    "duration": 36,
    "start_time": "2024-06-14T09:20:04.145Z"
   },
   {
    "duration": 28,
    "start_time": "2024-06-14T09:20:04.183Z"
   },
   {
    "duration": 27,
    "start_time": "2024-06-14T09:20:04.213Z"
   },
   {
    "duration": 16,
    "start_time": "2024-06-14T09:20:04.242Z"
   },
   {
    "duration": 19,
    "start_time": "2024-06-14T09:20:04.259Z"
   },
   {
    "duration": 23,
    "start_time": "2024-06-14T09:20:04.280Z"
   },
   {
    "duration": 4,
    "start_time": "2024-06-14T09:20:04.305Z"
   },
   {
    "duration": 8,
    "start_time": "2024-06-14T09:20:04.311Z"
   },
   {
    "duration": 10,
    "start_time": "2024-06-14T09:20:04.321Z"
   },
   {
    "duration": 39,
    "start_time": "2024-06-14T09:20:04.333Z"
   },
   {
    "duration": 26,
    "start_time": "2024-06-14T09:20:04.374Z"
   },
   {
    "duration": 7,
    "start_time": "2024-06-14T09:20:04.402Z"
   },
   {
    "duration": 14,
    "start_time": "2024-06-14T09:20:04.411Z"
   },
   {
    "duration": 13,
    "start_time": "2024-06-14T09:20:04.427Z"
   },
   {
    "duration": 21,
    "start_time": "2024-06-14T09:20:04.441Z"
   },
   {
    "duration": 5,
    "start_time": "2024-06-14T09:20:04.464Z"
   },
   {
    "duration": 12,
    "start_time": "2024-06-14T09:20:04.470Z"
   },
   {
    "duration": 19,
    "start_time": "2024-06-14T09:20:04.484Z"
   },
   {
    "duration": 10,
    "start_time": "2024-06-14T09:20:04.505Z"
   },
   {
    "duration": 47,
    "start_time": "2024-06-14T09:20:04.516Z"
   },
   {
    "duration": 17,
    "start_time": "2024-06-14T09:20:04.565Z"
   },
   {
    "duration": 6,
    "start_time": "2024-06-14T09:20:04.584Z"
   },
   {
    "duration": 4,
    "start_time": "2024-06-14T09:20:04.592Z"
   },
   {
    "duration": 12,
    "start_time": "2024-06-14T09:20:04.598Z"
   },
   {
    "duration": 5,
    "start_time": "2024-06-14T09:20:04.611Z"
   },
   {
    "duration": 28,
    "start_time": "2024-06-14T09:20:04.621Z"
   },
   {
    "duration": 15,
    "start_time": "2024-06-14T09:20:04.650Z"
   },
   {
    "duration": 21,
    "start_time": "2024-06-14T09:20:04.666Z"
   },
   {
    "duration": 29,
    "start_time": "2024-06-14T09:20:04.689Z"
   },
   {
    "duration": 43,
    "start_time": "2024-06-14T09:20:04.721Z"
   },
   {
    "duration": 9,
    "start_time": "2024-06-14T09:20:04.765Z"
   },
   {
    "duration": 14,
    "start_time": "2024-06-14T09:20:04.776Z"
   },
   {
    "duration": 10,
    "start_time": "2024-06-14T09:20:04.791Z"
   },
   {
    "duration": 24,
    "start_time": "2024-06-14T09:20:04.802Z"
   },
   {
    "duration": 11,
    "start_time": "2024-06-14T09:20:04.828Z"
   },
   {
    "duration": 25,
    "start_time": "2024-06-14T09:20:04.841Z"
   },
   {
    "duration": 5,
    "start_time": "2024-06-14T09:20:04.867Z"
   },
   {
    "duration": 8,
    "start_time": "2024-06-14T09:20:04.873Z"
   },
   {
    "duration": 6,
    "start_time": "2024-06-14T09:20:04.882Z"
   },
   {
    "duration": 5,
    "start_time": "2024-06-14T09:20:04.889Z"
   },
   {
    "duration": 5,
    "start_time": "2024-06-14T09:20:04.896Z"
   },
   {
    "duration": 62,
    "start_time": "2024-06-14T09:20:04.903Z"
   },
   {
    "duration": 9,
    "start_time": "2024-06-14T09:20:04.967Z"
   },
   {
    "duration": 27,
    "start_time": "2024-06-14T09:20:04.978Z"
   },
   {
    "duration": 10,
    "start_time": "2024-06-14T09:20:05.007Z"
   },
   {
    "duration": 76,
    "start_time": "2024-06-14T09:20:05.019Z"
   },
   {
    "duration": 70,
    "start_time": "2024-06-14T09:20:05.097Z"
   },
   {
    "duration": 33,
    "start_time": "2024-06-14T09:20:05.169Z"
   },
   {
    "duration": 8,
    "start_time": "2024-06-14T09:20:05.204Z"
   },
   {
    "duration": 23,
    "start_time": "2024-06-14T09:20:05.213Z"
   },
   {
    "duration": 32,
    "start_time": "2024-06-14T09:20:05.238Z"
   },
   {
    "duration": 27,
    "start_time": "2024-06-14T09:20:05.272Z"
   },
   {
    "duration": 370,
    "start_time": "2024-06-14T09:20:05.301Z"
   },
   {
    "duration": 158,
    "start_time": "2024-06-14T09:20:05.673Z"
   },
   {
    "duration": 12,
    "start_time": "2024-06-14T09:20:05.833Z"
   },
   {
    "duration": 262,
    "start_time": "2024-06-14T09:20:05.846Z"
   },
   {
    "duration": 260,
    "start_time": "2024-06-14T09:20:06.110Z"
   },
   {
    "duration": 12,
    "start_time": "2024-06-14T09:20:06.372Z"
   },
   {
    "duration": 291,
    "start_time": "2024-06-14T09:20:06.386Z"
   },
   {
    "duration": 10,
    "start_time": "2024-06-14T09:20:06.679Z"
   },
   {
    "duration": 16,
    "start_time": "2024-06-14T09:20:06.691Z"
   },
   {
    "duration": 13,
    "start_time": "2024-06-14T09:20:06.712Z"
   },
   {
    "duration": 287,
    "start_time": "2024-06-14T09:20:06.727Z"
   },
   {
    "duration": 366,
    "start_time": "2024-06-14T09:20:07.016Z"
   },
   {
    "duration": 9,
    "start_time": "2024-06-14T09:20:07.384Z"
   },
   {
    "duration": 88,
    "start_time": "2024-06-14T09:20:07.395Z"
   },
   {
    "duration": 85,
    "start_time": "2024-06-14T09:21:32.983Z"
   },
   {
    "duration": 16,
    "start_time": "2024-06-14T09:21:40.423Z"
   },
   {
    "duration": 275,
    "start_time": "2024-06-14T09:21:55.025Z"
   },
   {
    "duration": 313,
    "start_time": "2024-06-14T09:22:04.326Z"
   },
   {
    "duration": 314,
    "start_time": "2024-06-14T09:22:22.187Z"
   },
   {
    "duration": 16,
    "start_time": "2024-06-14T09:22:46.266Z"
   },
   {
    "duration": 17,
    "start_time": "2024-06-14T09:22:51.845Z"
   },
   {
    "duration": 15,
    "start_time": "2024-06-14T09:22:56.734Z"
   },
   {
    "duration": 291,
    "start_time": "2024-06-14T09:22:59.517Z"
   },
   {
    "duration": 367,
    "start_time": "2024-06-14T09:23:08.419Z"
   },
   {
    "duration": 281,
    "start_time": "2024-06-14T09:23:24.513Z"
   },
   {
    "duration": 271,
    "start_time": "2024-06-14T09:23:54.209Z"
   },
   {
    "duration": 312,
    "start_time": "2024-06-14T09:25:49.277Z"
   },
   {
    "duration": 74,
    "start_time": "2024-06-14T09:44:18.113Z"
   },
   {
    "duration": 12,
    "start_time": "2024-06-14T09:44:23.764Z"
   },
   {
    "duration": 200,
    "start_time": "2024-06-14T09:44:54.443Z"
   },
   {
    "duration": 161,
    "start_time": "2024-06-14T09:45:05.503Z"
   },
   {
    "duration": 148,
    "start_time": "2024-06-14T09:46:51.892Z"
   },
   {
    "duration": 11,
    "start_time": "2024-06-14T09:47:04.100Z"
   },
   {
    "duration": 14,
    "start_time": "2024-06-14T09:47:49.866Z"
   },
   {
    "duration": 159,
    "start_time": "2024-06-14T09:47:59.701Z"
   },
   {
    "duration": 235,
    "start_time": "2024-06-14T09:48:07.331Z"
   },
   {
    "duration": 152,
    "start_time": "2024-06-14T09:48:37.134Z"
   },
   {
    "duration": 138,
    "start_time": "2024-06-14T09:49:04.575Z"
   },
   {
    "duration": 179,
    "start_time": "2024-06-14T09:50:53.446Z"
   },
   {
    "duration": 16,
    "start_time": "2024-06-14T09:51:49.470Z"
   },
   {
    "duration": 171,
    "start_time": "2024-06-14T09:51:55.478Z"
   },
   {
    "duration": 148,
    "start_time": "2024-06-14T09:52:58.278Z"
   },
   {
    "duration": 4384,
    "start_time": "2024-06-14T09:54:01.360Z"
   },
   {
    "duration": 150,
    "start_time": "2024-06-14T09:54:08.516Z"
   },
   {
    "duration": 17,
    "start_time": "2024-06-14T09:54:53.248Z"
   },
   {
    "duration": 14,
    "start_time": "2024-06-14T09:55:00.659Z"
   },
   {
    "duration": 15,
    "start_time": "2024-06-14T09:55:13.268Z"
   },
   {
    "duration": 141,
    "start_time": "2024-06-14T09:55:24.609Z"
   },
   {
    "duration": 146,
    "start_time": "2024-06-14T09:56:57.904Z"
   },
   {
    "duration": 151,
    "start_time": "2024-06-14T09:57:04.609Z"
   },
   {
    "duration": 5,
    "start_time": "2024-06-14T10:00:40.303Z"
   },
   {
    "duration": 4,
    "start_time": "2024-06-14T10:00:44.059Z"
   },
   {
    "duration": 22,
    "start_time": "2024-06-14T10:00:57.077Z"
   },
   {
    "duration": 17,
    "start_time": "2024-06-14T10:01:01.422Z"
   },
   {
    "duration": 18,
    "start_time": "2024-06-14T10:01:04.991Z"
   },
   {
    "duration": 20,
    "start_time": "2024-06-14T10:01:14.551Z"
   },
   {
    "duration": 40,
    "start_time": "2024-06-14T10:01:29.866Z"
   },
   {
    "duration": 84,
    "start_time": "2024-06-14T10:03:20.430Z"
   },
   {
    "duration": 22,
    "start_time": "2024-06-14T10:03:36.577Z"
   },
   {
    "duration": 12,
    "start_time": "2024-06-14T10:04:09.978Z"
   },
   {
    "duration": 275,
    "start_time": "2024-06-14T10:06:23.888Z"
   },
   {
    "duration": 229,
    "start_time": "2024-06-14T10:07:00.011Z"
   },
   {
    "duration": 263,
    "start_time": "2024-06-14T10:09:41.447Z"
   },
   {
    "duration": 258,
    "start_time": "2024-06-14T10:09:47.351Z"
   },
   {
    "duration": 261,
    "start_time": "2024-06-14T10:10:31.004Z"
   },
   {
    "duration": 10,
    "start_time": "2024-06-14T10:11:44.963Z"
   },
   {
    "duration": 280,
    "start_time": "2024-06-14T10:12:38.450Z"
   },
   {
    "duration": 184,
    "start_time": "2024-06-14T10:13:33.744Z"
   },
   {
    "duration": 140,
    "start_time": "2024-06-14T10:13:42.327Z"
   },
   {
    "duration": 20,
    "start_time": "2024-06-14T10:15:04.058Z"
   },
   {
    "duration": 221,
    "start_time": "2024-06-14T10:15:30.219Z"
   },
   {
    "duration": 218,
    "start_time": "2024-06-14T10:15:50.397Z"
   },
   {
    "duration": 224,
    "start_time": "2024-06-14T10:16:05.059Z"
   },
   {
    "duration": 59,
    "start_time": "2024-06-14T10:18:17.076Z"
   },
   {
    "duration": 146,
    "start_time": "2024-06-14T10:23:25.501Z"
   },
   {
    "duration": 168,
    "start_time": "2024-06-14T10:24:45.768Z"
   },
   {
    "duration": 132,
    "start_time": "2024-06-14T10:25:03.920Z"
   },
   {
    "duration": 154,
    "start_time": "2024-06-14T10:28:04.431Z"
   },
   {
    "duration": 19,
    "start_time": "2024-06-14T10:41:36.270Z"
   },
   {
    "duration": 18,
    "start_time": "2024-06-14T10:42:24.915Z"
   },
   {
    "duration": 27,
    "start_time": "2024-06-14T10:45:39.462Z"
   },
   {
    "duration": 414,
    "start_time": "2024-06-14T10:45:45.174Z"
   },
   {
    "duration": 92,
    "start_time": "2024-06-14T10:45:45.590Z"
   },
   {
    "duration": 35,
    "start_time": "2024-06-14T10:45:45.684Z"
   },
   {
    "duration": 26,
    "start_time": "2024-06-14T10:45:45.722Z"
   },
   {
    "duration": 79,
    "start_time": "2024-06-14T10:45:45.750Z"
   },
   {
    "duration": 42,
    "start_time": "2024-06-14T10:45:45.831Z"
   },
   {
    "duration": 25,
    "start_time": "2024-06-14T10:45:45.874Z"
   },
   {
    "duration": 59,
    "start_time": "2024-06-14T10:45:45.901Z"
   },
   {
    "duration": 20,
    "start_time": "2024-06-14T10:45:45.962Z"
   },
   {
    "duration": 24,
    "start_time": "2024-06-14T10:45:45.985Z"
   },
   {
    "duration": 39,
    "start_time": "2024-06-14T10:45:46.011Z"
   },
   {
    "duration": 53,
    "start_time": "2024-06-14T10:45:46.052Z"
   },
   {
    "duration": 30,
    "start_time": "2024-06-14T10:45:46.107Z"
   },
   {
    "duration": 9,
    "start_time": "2024-06-14T10:45:46.139Z"
   },
   {
    "duration": 6,
    "start_time": "2024-06-14T10:45:46.160Z"
   },
   {
    "duration": 33,
    "start_time": "2024-06-14T10:45:46.168Z"
   },
   {
    "duration": 23,
    "start_time": "2024-06-14T10:45:46.203Z"
   },
   {
    "duration": 15,
    "start_time": "2024-06-14T10:45:46.227Z"
   },
   {
    "duration": 38,
    "start_time": "2024-06-14T10:45:46.243Z"
   },
   {
    "duration": 35,
    "start_time": "2024-06-14T10:45:46.283Z"
   },
   {
    "duration": 13,
    "start_time": "2024-06-14T10:45:46.319Z"
   },
   {
    "duration": 42,
    "start_time": "2024-06-14T10:45:46.333Z"
   },
   {
    "duration": 22,
    "start_time": "2024-06-14T10:45:46.376Z"
   },
   {
    "duration": 17,
    "start_time": "2024-06-14T10:45:46.399Z"
   },
   {
    "duration": 26,
    "start_time": "2024-06-14T10:45:46.417Z"
   },
   {
    "duration": 14,
    "start_time": "2024-06-14T10:45:46.445Z"
   },
   {
    "duration": 23,
    "start_time": "2024-06-14T10:45:46.460Z"
   },
   {
    "duration": 33,
    "start_time": "2024-06-14T10:45:46.487Z"
   },
   {
    "duration": 24,
    "start_time": "2024-06-14T10:45:46.521Z"
   },
   {
    "duration": 43,
    "start_time": "2024-06-14T10:45:46.547Z"
   },
   {
    "duration": 29,
    "start_time": "2024-06-14T10:45:46.592Z"
   },
   {
    "duration": 25,
    "start_time": "2024-06-14T10:45:46.622Z"
   },
   {
    "duration": 11,
    "start_time": "2024-06-14T10:45:46.648Z"
   },
   {
    "duration": 82,
    "start_time": "2024-06-14T10:45:46.661Z"
   },
   {
    "duration": 54,
    "start_time": "2024-06-14T10:45:46.744Z"
   },
   {
    "duration": 14,
    "start_time": "2024-06-14T10:45:46.800Z"
   },
   {
    "duration": 26,
    "start_time": "2024-06-14T10:45:46.815Z"
   },
   {
    "duration": 32,
    "start_time": "2024-06-14T10:45:46.843Z"
   },
   {
    "duration": 25,
    "start_time": "2024-06-14T10:45:46.877Z"
   },
   {
    "duration": 27,
    "start_time": "2024-06-14T10:45:46.904Z"
   },
   {
    "duration": 18,
    "start_time": "2024-06-14T10:45:46.932Z"
   },
   {
    "duration": 32,
    "start_time": "2024-06-14T10:45:46.951Z"
   },
   {
    "duration": 30,
    "start_time": "2024-06-14T10:45:46.985Z"
   },
   {
    "duration": 103,
    "start_time": "2024-06-14T10:45:47.018Z"
   },
   {
    "duration": 24,
    "start_time": "2024-06-14T10:45:47.124Z"
   },
   {
    "duration": 53,
    "start_time": "2024-06-14T10:45:47.149Z"
   },
   {
    "duration": 30,
    "start_time": "2024-06-14T10:45:47.204Z"
   },
   {
    "duration": 66,
    "start_time": "2024-06-14T10:45:47.236Z"
   },
   {
    "duration": 32,
    "start_time": "2024-06-14T10:45:47.304Z"
   },
   {
    "duration": 39,
    "start_time": "2024-06-14T10:45:47.338Z"
   },
   {
    "duration": 20,
    "start_time": "2024-06-14T10:45:47.378Z"
   },
   {
    "duration": 36,
    "start_time": "2024-06-14T10:45:47.399Z"
   },
   {
    "duration": 41,
    "start_time": "2024-06-14T10:45:47.437Z"
   },
   {
    "duration": 24,
    "start_time": "2024-06-14T10:45:47.480Z"
   },
   {
    "duration": 413,
    "start_time": "2024-06-14T10:45:47.506Z"
   },
   {
    "duration": 167,
    "start_time": "2024-06-14T10:45:47.920Z"
   },
   {
    "duration": 12,
    "start_time": "2024-06-14T10:45:48.088Z"
   },
   {
    "duration": 206,
    "start_time": "2024-06-14T10:45:48.102Z"
   },
   {
    "duration": 310,
    "start_time": "2024-06-14T10:45:48.310Z"
   },
   {
    "duration": 10,
    "start_time": "2024-06-14T10:45:48.622Z"
   },
   {
    "duration": 275,
    "start_time": "2024-06-14T10:45:48.633Z"
   },
   {
    "duration": 23,
    "start_time": "2024-06-14T10:45:48.910Z"
   },
   {
    "duration": 10,
    "start_time": "2024-06-14T10:45:48.935Z"
   },
   {
    "duration": 8,
    "start_time": "2024-06-14T10:45:48.961Z"
   },
   {
    "duration": 12,
    "start_time": "2024-06-14T10:45:48.971Z"
   },
   {
    "duration": 264,
    "start_time": "2024-06-14T10:45:48.985Z"
   },
   {
    "duration": 317,
    "start_time": "2024-06-14T10:45:49.250Z"
   },
   {
    "duration": 4,
    "start_time": "2024-06-14T10:45:49.569Z"
   },
   {
    "duration": 364,
    "start_time": "2024-06-14T10:45:49.574Z"
   },
   {
    "duration": 25,
    "start_time": "2024-06-14T10:45:49.939Z"
   },
   {
    "duration": 174,
    "start_time": "2024-06-14T10:45:49.966Z"
   },
   {
    "duration": 20,
    "start_time": "2024-06-14T10:45:50.142Z"
   },
   {
    "duration": 159,
    "start_time": "2024-06-14T10:45:50.163Z"
   },
   {
    "duration": 152,
    "start_time": "2024-06-14T10:45:50.324Z"
   },
   {
    "duration": 4,
    "start_time": "2024-06-14T10:45:50.478Z"
   },
   {
    "duration": 42,
    "start_time": "2024-06-14T10:45:50.483Z"
   },
   {
    "duration": 166,
    "start_time": "2024-06-14T10:45:50.527Z"
   },
   {
    "duration": 296,
    "start_time": "2024-06-14T10:45:50.694Z"
   },
   {
    "duration": 11,
    "start_time": "2024-06-14T10:49:40.008Z"
   },
   {
    "duration": 3,
    "start_time": "2024-06-14T10:49:51.771Z"
   },
   {
    "duration": 9,
    "start_time": "2024-06-14T10:49:52.069Z"
   },
   {
    "duration": 13,
    "start_time": "2024-06-14T10:49:52.369Z"
   },
   {
    "duration": 253,
    "start_time": "2024-06-14T10:51:13.753Z"
   },
   {
    "duration": 5,
    "start_time": "2024-06-14T12:20:52.463Z"
   },
   {
    "duration": 8,
    "start_time": "2024-06-14T12:27:10.749Z"
   },
   {
    "duration": 1137,
    "start_time": "2024-06-14T12:27:10.945Z"
   },
   {
    "duration": 0,
    "start_time": "2024-06-14T12:27:12.084Z"
   },
   {
    "duration": 5,
    "start_time": "2024-06-14T12:27:12.221Z"
   },
   {
    "duration": 31,
    "start_time": "2024-06-14T12:27:13.287Z"
   },
   {
    "duration": 14,
    "start_time": "2024-06-14T12:27:29.522Z"
   },
   {
    "duration": 10,
    "start_time": "2024-06-14T12:27:30.361Z"
   },
   {
    "duration": 5,
    "start_time": "2024-06-14T12:27:30.961Z"
   },
   {
    "duration": 33,
    "start_time": "2024-06-14T12:27:31.312Z"
   },
   {
    "duration": 428,
    "start_time": "2024-06-14T12:27:49.073Z"
   },
   {
    "duration": 101,
    "start_time": "2024-06-14T12:27:49.503Z"
   },
   {
    "duration": 37,
    "start_time": "2024-06-14T12:27:49.606Z"
   },
   {
    "duration": 31,
    "start_time": "2024-06-14T12:27:49.645Z"
   },
   {
    "duration": 18,
    "start_time": "2024-06-14T12:27:49.680Z"
   },
   {
    "duration": 12,
    "start_time": "2024-06-14T12:27:49.700Z"
   },
   {
    "duration": 12,
    "start_time": "2024-06-14T12:27:49.713Z"
   },
   {
    "duration": 69,
    "start_time": "2024-06-14T12:27:49.727Z"
   },
   {
    "duration": 4,
    "start_time": "2024-06-14T12:27:49.798Z"
   },
   {
    "duration": 9,
    "start_time": "2024-06-14T12:27:49.803Z"
   },
   {
    "duration": 17,
    "start_time": "2024-06-14T12:27:49.813Z"
   },
   {
    "duration": 37,
    "start_time": "2024-06-14T12:27:49.832Z"
   },
   {
    "duration": 30,
    "start_time": "2024-06-14T12:27:49.871Z"
   },
   {
    "duration": 10,
    "start_time": "2024-06-14T12:27:49.904Z"
   },
   {
    "duration": 17,
    "start_time": "2024-06-14T12:27:49.915Z"
   },
   {
    "duration": 36,
    "start_time": "2024-06-14T12:27:49.934Z"
   },
   {
    "duration": 40,
    "start_time": "2024-06-14T12:27:49.973Z"
   },
   {
    "duration": 96,
    "start_time": "2024-06-14T12:27:50.016Z"
   },
   {
    "duration": 11,
    "start_time": "2024-06-14T12:27:50.113Z"
   },
   {
    "duration": 39,
    "start_time": "2024-06-14T12:27:50.125Z"
   },
   {
    "duration": 30,
    "start_time": "2024-06-14T12:27:50.166Z"
   },
   {
    "duration": 94,
    "start_time": "2024-06-14T12:27:50.198Z"
   },
   {
    "duration": 18,
    "start_time": "2024-06-14T12:27:50.294Z"
   },
   {
    "duration": 5,
    "start_time": "2024-06-14T12:27:50.314Z"
   },
   {
    "duration": 8,
    "start_time": "2024-06-14T12:27:50.321Z"
   },
   {
    "duration": 7,
    "start_time": "2024-06-14T12:27:50.330Z"
   },
   {
    "duration": 23,
    "start_time": "2024-06-14T12:27:50.338Z"
   },
   {
    "duration": 4,
    "start_time": "2024-06-14T12:27:50.363Z"
   },
   {
    "duration": 14,
    "start_time": "2024-06-14T12:27:50.368Z"
   },
   {
    "duration": 23,
    "start_time": "2024-06-14T12:27:50.384Z"
   },
   {
    "duration": 62,
    "start_time": "2024-06-14T12:27:50.409Z"
   },
   {
    "duration": 19,
    "start_time": "2024-06-14T12:27:50.472Z"
   },
   {
    "duration": 11,
    "start_time": "2024-06-14T12:27:50.492Z"
   },
   {
    "duration": 18,
    "start_time": "2024-06-14T12:27:50.504Z"
   },
   {
    "duration": 34,
    "start_time": "2024-06-14T12:27:50.524Z"
   },
   {
    "duration": 37,
    "start_time": "2024-06-14T12:27:50.561Z"
   },
   {
    "duration": 19,
    "start_time": "2024-06-14T12:27:50.600Z"
   },
   {
    "duration": 15,
    "start_time": "2024-06-14T12:27:50.621Z"
   },
   {
    "duration": 23,
    "start_time": "2024-06-14T12:27:50.638Z"
   },
   {
    "duration": 11,
    "start_time": "2024-06-14T12:27:50.663Z"
   },
   {
    "duration": 6,
    "start_time": "2024-06-14T12:27:50.680Z"
   },
   {
    "duration": 7,
    "start_time": "2024-06-14T12:27:50.688Z"
   },
   {
    "duration": 20,
    "start_time": "2024-06-14T12:27:50.697Z"
   },
   {
    "duration": 42,
    "start_time": "2024-06-14T12:27:50.719Z"
   },
   {
    "duration": 14,
    "start_time": "2024-06-14T12:27:50.763Z"
   },
   {
    "duration": 28,
    "start_time": "2024-06-14T12:27:50.779Z"
   },
   {
    "duration": 15,
    "start_time": "2024-06-14T12:27:50.808Z"
   },
   {
    "duration": 66,
    "start_time": "2024-06-14T12:27:50.824Z"
   },
   {
    "duration": 7,
    "start_time": "2024-06-14T12:27:50.892Z"
   },
   {
    "duration": 22,
    "start_time": "2024-06-14T12:27:50.900Z"
   },
   {
    "duration": 21,
    "start_time": "2024-06-14T12:27:50.924Z"
   },
   {
    "duration": 16,
    "start_time": "2024-06-14T12:27:50.947Z"
   },
   {
    "duration": 13,
    "start_time": "2024-06-14T12:27:50.964Z"
   },
   {
    "duration": 10,
    "start_time": "2024-06-14T12:27:50.979Z"
   },
   {
    "duration": 34,
    "start_time": "2024-06-14T12:27:50.991Z"
   },
   {
    "duration": 35,
    "start_time": "2024-06-14T12:27:51.027Z"
   },
   {
    "duration": 367,
    "start_time": "2024-06-14T12:27:51.064Z"
   },
   {
    "duration": 149,
    "start_time": "2024-06-14T12:27:51.433Z"
   },
   {
    "duration": 11,
    "start_time": "2024-06-14T12:27:51.584Z"
   },
   {
    "duration": 258,
    "start_time": "2024-06-14T12:27:51.597Z"
   },
   {
    "duration": 337,
    "start_time": "2024-06-14T12:27:51.857Z"
   },
   {
    "duration": 12,
    "start_time": "2024-06-14T12:27:52.195Z"
   },
   {
    "duration": 29,
    "start_time": "2024-06-14T12:27:52.208Z"
   },
   {
    "duration": 36,
    "start_time": "2024-06-14T12:27:52.239Z"
   },
   {
    "duration": 12,
    "start_time": "2024-06-14T12:27:52.276Z"
   },
   {
    "duration": 255,
    "start_time": "2024-06-14T12:27:52.290Z"
   },
   {
    "duration": 105,
    "start_time": "2024-06-14T12:27:52.547Z"
   },
   {
    "duration": 0,
    "start_time": "2024-06-14T12:27:52.661Z"
   },
   {
    "duration": 0,
    "start_time": "2024-06-14T12:27:52.662Z"
   },
   {
    "duration": 0,
    "start_time": "2024-06-14T12:27:52.664Z"
   },
   {
    "duration": 0,
    "start_time": "2024-06-14T12:27:52.665Z"
   },
   {
    "duration": 0,
    "start_time": "2024-06-14T12:27:52.666Z"
   },
   {
    "duration": 0,
    "start_time": "2024-06-14T12:27:52.667Z"
   },
   {
    "duration": 0,
    "start_time": "2024-06-14T12:27:52.668Z"
   },
   {
    "duration": 0,
    "start_time": "2024-06-14T12:27:52.669Z"
   },
   {
    "duration": 0,
    "start_time": "2024-06-14T12:27:52.670Z"
   },
   {
    "duration": 0,
    "start_time": "2024-06-14T12:27:52.671Z"
   },
   {
    "duration": 0,
    "start_time": "2024-06-14T12:27:52.672Z"
   },
   {
    "duration": 0,
    "start_time": "2024-06-14T12:27:52.674Z"
   },
   {
    "duration": 36,
    "start_time": "2024-06-14T12:28:27.105Z"
   },
   {
    "duration": 255,
    "start_time": "2024-06-14T12:28:32.705Z"
   },
   {
    "duration": 30,
    "start_time": "2024-06-14T12:28:34.848Z"
   },
   {
    "duration": 32,
    "start_time": "2024-06-14T12:28:46.051Z"
   },
   {
    "duration": 432,
    "start_time": "2024-06-14T12:29:09.273Z"
   },
   {
    "duration": 98,
    "start_time": "2024-06-14T12:29:09.707Z"
   },
   {
    "duration": 36,
    "start_time": "2024-06-14T12:29:09.807Z"
   },
   {
    "duration": 30,
    "start_time": "2024-06-14T12:29:09.846Z"
   },
   {
    "duration": 17,
    "start_time": "2024-06-14T12:29:09.878Z"
   },
   {
    "duration": 14,
    "start_time": "2024-06-14T12:29:09.897Z"
   },
   {
    "duration": 21,
    "start_time": "2024-06-14T12:29:09.913Z"
   },
   {
    "duration": 43,
    "start_time": "2024-06-14T12:29:09.936Z"
   },
   {
    "duration": 7,
    "start_time": "2024-06-14T12:29:09.981Z"
   },
   {
    "duration": 6,
    "start_time": "2024-06-14T12:29:09.992Z"
   },
   {
    "duration": 73,
    "start_time": "2024-06-14T12:29:10.000Z"
   },
   {
    "duration": 60,
    "start_time": "2024-06-14T12:29:10.075Z"
   },
   {
    "duration": 29,
    "start_time": "2024-06-14T12:29:10.136Z"
   },
   {
    "duration": 8,
    "start_time": "2024-06-14T12:29:10.167Z"
   },
   {
    "duration": 5,
    "start_time": "2024-06-14T12:29:10.177Z"
   },
   {
    "duration": 20,
    "start_time": "2024-06-14T12:29:10.184Z"
   },
   {
    "duration": 12,
    "start_time": "2024-06-14T12:29:10.206Z"
   },
   {
    "duration": 7,
    "start_time": "2024-06-14T12:29:10.220Z"
   },
   {
    "duration": 6,
    "start_time": "2024-06-14T12:29:10.228Z"
   },
   {
    "duration": 34,
    "start_time": "2024-06-14T12:29:10.236Z"
   },
   {
    "duration": 11,
    "start_time": "2024-06-14T12:29:10.272Z"
   },
   {
    "duration": 60,
    "start_time": "2024-06-14T12:29:10.285Z"
   },
   {
    "duration": 18,
    "start_time": "2024-06-14T12:29:10.346Z"
   },
   {
    "duration": 4,
    "start_time": "2024-06-14T12:29:10.366Z"
   },
   {
    "duration": 15,
    "start_time": "2024-06-14T12:29:10.372Z"
   },
   {
    "duration": 8,
    "start_time": "2024-06-14T12:29:10.388Z"
   },
   {
    "duration": 7,
    "start_time": "2024-06-14T12:29:10.401Z"
   },
   {
    "duration": 4,
    "start_time": "2024-06-14T12:29:10.415Z"
   },
   {
    "duration": 40,
    "start_time": "2024-06-14T12:29:10.422Z"
   },
   {
    "duration": 21,
    "start_time": "2024-06-14T12:29:10.463Z"
   },
   {
    "duration": 31,
    "start_time": "2024-06-14T12:29:10.485Z"
   },
   {
    "duration": 44,
    "start_time": "2024-06-14T12:29:10.518Z"
   },
   {
    "duration": 10,
    "start_time": "2024-06-14T12:29:10.563Z"
   },
   {
    "duration": 13,
    "start_time": "2024-06-14T12:29:10.575Z"
   },
   {
    "duration": 12,
    "start_time": "2024-06-14T12:29:10.590Z"
   },
   {
    "duration": 17,
    "start_time": "2024-06-14T12:29:10.603Z"
   },
   {
    "duration": 10,
    "start_time": "2024-06-14T12:29:10.622Z"
   },
   {
    "duration": 36,
    "start_time": "2024-06-14T12:29:10.634Z"
   },
   {
    "duration": 8,
    "start_time": "2024-06-14T12:29:10.672Z"
   },
   {
    "duration": 10,
    "start_time": "2024-06-14T12:29:10.682Z"
   },
   {
    "duration": 8,
    "start_time": "2024-06-14T12:29:10.694Z"
   },
   {
    "duration": 7,
    "start_time": "2024-06-14T12:29:10.703Z"
   },
   {
    "duration": 17,
    "start_time": "2024-06-14T12:29:10.712Z"
   },
   {
    "duration": 46,
    "start_time": "2024-06-14T12:29:10.731Z"
   },
   {
    "duration": 9,
    "start_time": "2024-06-14T12:29:10.780Z"
   },
   {
    "duration": 28,
    "start_time": "2024-06-14T12:29:10.791Z"
   },
   {
    "duration": 6,
    "start_time": "2024-06-14T12:29:10.821Z"
   },
   {
    "duration": 85,
    "start_time": "2024-06-14T12:29:10.828Z"
   },
   {
    "duration": 17,
    "start_time": "2024-06-14T12:29:10.914Z"
   },
   {
    "duration": 30,
    "start_time": "2024-06-14T12:29:10.932Z"
   },
   {
    "duration": 30,
    "start_time": "2024-06-14T12:29:10.963Z"
   },
   {
    "duration": 24,
    "start_time": "2024-06-14T12:29:10.995Z"
   },
   {
    "duration": 7,
    "start_time": "2024-06-14T12:29:11.021Z"
   },
   {
    "duration": 16,
    "start_time": "2024-06-14T12:29:11.030Z"
   },
   {
    "duration": 35,
    "start_time": "2024-06-14T12:29:11.048Z"
   },
   {
    "duration": 25,
    "start_time": "2024-06-14T12:29:11.085Z"
   },
   {
    "duration": 402,
    "start_time": "2024-06-14T12:29:11.112Z"
   },
   {
    "duration": 160,
    "start_time": "2024-06-14T12:29:11.515Z"
   },
   {
    "duration": 12,
    "start_time": "2024-06-14T12:29:11.677Z"
   },
   {
    "duration": 272,
    "start_time": "2024-06-14T12:29:11.691Z"
   },
   {
    "duration": 286,
    "start_time": "2024-06-14T12:29:11.964Z"
   },
   {
    "duration": 15,
    "start_time": "2024-06-14T12:29:12.252Z"
   },
   {
    "duration": 3,
    "start_time": "2024-06-14T12:29:12.269Z"
   },
   {
    "duration": 12,
    "start_time": "2024-06-14T12:29:12.273Z"
   },
   {
    "duration": 11,
    "start_time": "2024-06-14T12:29:12.287Z"
   },
   {
    "duration": 307,
    "start_time": "2024-06-14T12:29:12.300Z"
   },
   {
    "duration": 107,
    "start_time": "2024-06-14T12:29:12.609Z"
   },
   {
    "duration": 0,
    "start_time": "2024-06-14T12:29:12.717Z"
   },
   {
    "duration": 0,
    "start_time": "2024-06-14T12:29:12.719Z"
   },
   {
    "duration": 0,
    "start_time": "2024-06-14T12:29:12.720Z"
   },
   {
    "duration": 0,
    "start_time": "2024-06-14T12:29:12.721Z"
   },
   {
    "duration": 0,
    "start_time": "2024-06-14T12:29:12.722Z"
   },
   {
    "duration": 0,
    "start_time": "2024-06-14T12:29:12.723Z"
   },
   {
    "duration": 0,
    "start_time": "2024-06-14T12:29:12.724Z"
   },
   {
    "duration": 0,
    "start_time": "2024-06-14T12:29:12.726Z"
   },
   {
    "duration": 0,
    "start_time": "2024-06-14T12:29:12.727Z"
   },
   {
    "duration": 0,
    "start_time": "2024-06-14T12:29:12.728Z"
   },
   {
    "duration": 0,
    "start_time": "2024-06-14T12:29:12.729Z"
   },
   {
    "duration": 0,
    "start_time": "2024-06-14T12:29:12.730Z"
   },
   {
    "duration": 287,
    "start_time": "2024-06-14T12:29:28.900Z"
   },
   {
    "duration": 301,
    "start_time": "2024-06-14T12:30:22.191Z"
   },
   {
    "duration": 33,
    "start_time": "2024-06-14T12:30:30.537Z"
   },
   {
    "duration": 300,
    "start_time": "2024-06-14T12:30:38.448Z"
   },
   {
    "duration": 201,
    "start_time": "2024-06-14T12:32:53.088Z"
   },
   {
    "duration": 425,
    "start_time": "2024-06-14T12:33:16.079Z"
   },
   {
    "duration": 96,
    "start_time": "2024-06-14T12:33:16.506Z"
   },
   {
    "duration": 35,
    "start_time": "2024-06-14T12:33:16.603Z"
   },
   {
    "duration": 30,
    "start_time": "2024-06-14T12:33:16.640Z"
   },
   {
    "duration": 23,
    "start_time": "2024-06-14T12:33:16.671Z"
   },
   {
    "duration": 22,
    "start_time": "2024-06-14T12:33:16.695Z"
   },
   {
    "duration": 42,
    "start_time": "2024-06-14T12:33:16.719Z"
   },
   {
    "duration": 27,
    "start_time": "2024-06-14T12:33:16.762Z"
   },
   {
    "duration": 10,
    "start_time": "2024-06-14T12:33:16.790Z"
   },
   {
    "duration": 31,
    "start_time": "2024-06-14T12:33:16.803Z"
   },
   {
    "duration": 58,
    "start_time": "2024-06-14T12:33:16.836Z"
   },
   {
    "duration": 43,
    "start_time": "2024-06-14T12:33:16.895Z"
   },
   {
    "duration": 30,
    "start_time": "2024-06-14T12:33:16.939Z"
   },
   {
    "duration": 23,
    "start_time": "2024-06-14T12:33:16.970Z"
   },
   {
    "duration": 16,
    "start_time": "2024-06-14T12:33:16.994Z"
   },
   {
    "duration": 12,
    "start_time": "2024-06-14T12:33:17.013Z"
   },
   {
    "duration": 18,
    "start_time": "2024-06-14T12:33:17.027Z"
   },
   {
    "duration": 20,
    "start_time": "2024-06-14T12:33:17.046Z"
   },
   {
    "duration": 6,
    "start_time": "2024-06-14T12:33:17.068Z"
   },
   {
    "duration": 20,
    "start_time": "2024-06-14T12:33:17.077Z"
   },
   {
    "duration": 13,
    "start_time": "2024-06-14T12:33:17.099Z"
   },
   {
    "duration": 58,
    "start_time": "2024-06-14T12:33:17.113Z"
   },
   {
    "duration": 20,
    "start_time": "2024-06-14T12:33:17.173Z"
   },
   {
    "duration": 14,
    "start_time": "2024-06-14T12:33:17.195Z"
   },
   {
    "duration": 4,
    "start_time": "2024-06-14T12:33:17.210Z"
   },
   {
    "duration": 4,
    "start_time": "2024-06-14T12:33:17.216Z"
   },
   {
    "duration": 4,
    "start_time": "2024-06-14T12:33:17.222Z"
   },
   {
    "duration": 5,
    "start_time": "2024-06-14T12:33:17.231Z"
   },
   {
    "duration": 30,
    "start_time": "2024-06-14T12:33:17.237Z"
   },
   {
    "duration": 27,
    "start_time": "2024-06-14T12:33:17.269Z"
   },
   {
    "duration": 32,
    "start_time": "2024-06-14T12:33:17.298Z"
   },
   {
    "duration": 45,
    "start_time": "2024-06-14T12:33:17.331Z"
   },
   {
    "duration": 10,
    "start_time": "2024-06-14T12:33:17.377Z"
   },
   {
    "duration": 14,
    "start_time": "2024-06-14T12:33:17.388Z"
   },
   {
    "duration": 32,
    "start_time": "2024-06-14T12:33:17.403Z"
   },
   {
    "duration": 14,
    "start_time": "2024-06-14T12:33:17.437Z"
   },
   {
    "duration": 22,
    "start_time": "2024-06-14T12:33:17.453Z"
   },
   {
    "duration": 14,
    "start_time": "2024-06-14T12:33:17.478Z"
   },
   {
    "duration": 6,
    "start_time": "2024-06-14T12:33:17.494Z"
   },
   {
    "duration": 10,
    "start_time": "2024-06-14T12:33:17.502Z"
   },
   {
    "duration": 7,
    "start_time": "2024-06-14T12:33:17.514Z"
   },
   {
    "duration": 7,
    "start_time": "2024-06-14T12:33:17.522Z"
   },
   {
    "duration": 6,
    "start_time": "2024-06-14T12:33:17.561Z"
   },
   {
    "duration": 37,
    "start_time": "2024-06-14T12:33:17.568Z"
   },
   {
    "duration": 9,
    "start_time": "2024-06-14T12:33:17.607Z"
   },
   {
    "duration": 55,
    "start_time": "2024-06-14T12:33:17.617Z"
   },
   {
    "duration": 14,
    "start_time": "2024-06-14T12:33:17.674Z"
   },
   {
    "duration": 69,
    "start_time": "2024-06-14T12:33:17.690Z"
   },
   {
    "duration": 6,
    "start_time": "2024-06-14T12:33:17.761Z"
   },
   {
    "duration": 28,
    "start_time": "2024-06-14T12:33:17.769Z"
   },
   {
    "duration": 13,
    "start_time": "2024-06-14T12:33:17.799Z"
   },
   {
    "duration": 11,
    "start_time": "2024-06-14T12:33:17.814Z"
   },
   {
    "duration": 43,
    "start_time": "2024-06-14T12:33:17.826Z"
   },
   {
    "duration": 34,
    "start_time": "2024-06-14T12:33:17.872Z"
   },
   {
    "duration": 397,
    "start_time": "2024-06-14T12:33:17.907Z"
   },
   {
    "duration": 150,
    "start_time": "2024-06-14T12:33:18.306Z"
   },
   {
    "duration": 12,
    "start_time": "2024-06-14T12:33:18.461Z"
   },
   {
    "duration": 201,
    "start_time": "2024-06-14T12:33:18.475Z"
   },
   {
    "duration": 342,
    "start_time": "2024-06-14T12:33:18.679Z"
   },
   {
    "duration": 11,
    "start_time": "2024-06-14T12:33:19.024Z"
   },
   {
    "duration": 4,
    "start_time": "2024-06-14T12:33:19.037Z"
   },
   {
    "duration": 14,
    "start_time": "2024-06-14T12:33:19.060Z"
   },
   {
    "duration": 9,
    "start_time": "2024-06-14T12:33:19.077Z"
   },
   {
    "duration": 276,
    "start_time": "2024-06-14T12:33:19.088Z"
   },
   {
    "duration": 320,
    "start_time": "2024-06-14T12:33:19.366Z"
   },
   {
    "duration": 4,
    "start_time": "2024-06-14T12:33:19.688Z"
   },
   {
    "duration": 335,
    "start_time": "2024-06-14T12:33:19.694Z"
   },
   {
    "duration": 30,
    "start_time": "2024-06-14T12:33:20.031Z"
   },
   {
    "duration": 202,
    "start_time": "2024-06-14T12:33:20.062Z"
   },
   {
    "duration": 12,
    "start_time": "2024-06-14T12:33:20.266Z"
   },
   {
    "duration": 156,
    "start_time": "2024-06-14T12:33:20.279Z"
   },
   {
    "duration": 148,
    "start_time": "2024-06-14T12:33:20.437Z"
   },
   {
    "duration": 4,
    "start_time": "2024-06-14T12:33:20.587Z"
   },
   {
    "duration": 53,
    "start_time": "2024-06-14T12:33:20.593Z"
   },
   {
    "duration": 155,
    "start_time": "2024-06-14T12:33:20.648Z"
   },
   {
    "duration": 241,
    "start_time": "2024-06-14T12:33:20.805Z"
   },
   {
    "duration": 333,
    "start_time": "2024-06-14T12:33:44.439Z"
   },
   {
    "duration": 77,
    "start_time": "2024-06-14T12:34:06.602Z"
   },
   {
    "duration": 436,
    "start_time": "2024-06-14T12:34:15.110Z"
   },
   {
    "duration": 171,
    "start_time": "2024-06-14T12:35:14.665Z"
   },
   {
    "duration": 73,
    "start_time": "2024-06-14T12:36:09.427Z"
   },
   {
    "duration": 10,
    "start_time": "2024-06-14T12:36:43.034Z"
   },
   {
    "duration": 89,
    "start_time": "2024-06-14T12:37:05.559Z"
   },
   {
    "duration": 134,
    "start_time": "2024-06-14T12:37:32.075Z"
   },
   {
    "duration": 121,
    "start_time": "2024-06-14T12:37:39.795Z"
   },
   {
    "duration": 153,
    "start_time": "2024-06-14T12:37:46.045Z"
   },
   {
    "duration": 123,
    "start_time": "2024-06-14T12:37:52.133Z"
   },
   {
    "duration": 13,
    "start_time": "2024-06-14T12:40:06.040Z"
   },
   {
    "duration": 128,
    "start_time": "2024-06-14T12:41:32.946Z"
   },
   {
    "duration": 9,
    "start_time": "2024-06-14T12:43:38.019Z"
   },
   {
    "duration": 123,
    "start_time": "2024-06-14T12:43:44.085Z"
   },
   {
    "duration": 4,
    "start_time": "2024-06-14T12:44:25.037Z"
   },
   {
    "duration": 4,
    "start_time": "2024-06-14T12:44:40.877Z"
   },
   {
    "duration": 4,
    "start_time": "2024-06-14T12:45:22.281Z"
   },
   {
    "duration": 4,
    "start_time": "2024-06-14T12:45:23.890Z"
   },
   {
    "duration": 318,
    "start_time": "2024-06-14T12:45:27.240Z"
   },
   {
    "duration": 136,
    "start_time": "2024-06-14T12:46:27.416Z"
   },
   {
    "duration": 237,
    "start_time": "2024-06-14T12:49:13.337Z"
   },
   {
    "duration": 151,
    "start_time": "2024-06-14T12:49:16.736Z"
   },
   {
    "duration": 79,
    "start_time": "2024-06-14T12:49:41.210Z"
   },
   {
    "duration": 130,
    "start_time": "2024-06-14T12:49:46.010Z"
   },
   {
    "duration": 121,
    "start_time": "2024-06-14T12:50:12.496Z"
   },
   {
    "duration": 71,
    "start_time": "2024-06-14T12:51:32.583Z"
   },
   {
    "duration": 126,
    "start_time": "2024-06-14T12:52:28.173Z"
   },
   {
    "duration": 126,
    "start_time": "2024-06-14T12:52:58.710Z"
   },
   {
    "duration": 311,
    "start_time": "2024-06-14T12:52:59.104Z"
   },
   {
    "duration": 242,
    "start_time": "2024-06-14T12:59:02.903Z"
   },
   {
    "duration": 26,
    "start_time": "2024-06-14T13:03:17.136Z"
   },
   {
    "duration": 17,
    "start_time": "2024-06-14T13:06:24.062Z"
   },
   {
    "duration": 247,
    "start_time": "2024-06-14T13:06:31.801Z"
   },
   {
    "duration": 10,
    "start_time": "2024-06-14T13:07:36.687Z"
   },
   {
    "duration": 6,
    "start_time": "2024-06-14T13:07:56.311Z"
   },
   {
    "duration": 9,
    "start_time": "2024-06-14T13:08:29.862Z"
   },
   {
    "duration": 286,
    "start_time": "2024-06-14T13:09:18.751Z"
   },
   {
    "duration": 723,
    "start_time": "2024-06-14T13:11:56.065Z"
   },
   {
    "duration": 665,
    "start_time": "2024-06-14T13:12:14.575Z"
   },
   {
    "duration": 3,
    "start_time": "2024-06-14T13:12:32.044Z"
   },
   {
    "duration": 296,
    "start_time": "2024-06-14T13:12:36.531Z"
   },
   {
    "duration": 1165,
    "start_time": "2024-06-14T13:13:10.373Z"
   },
   {
    "duration": 35,
    "start_time": "2024-06-14T13:13:42.218Z"
   },
   {
    "duration": 191,
    "start_time": "2024-06-14T13:15:00.848Z"
   },
   {
    "duration": 152,
    "start_time": "2024-06-14T13:16:08.198Z"
   },
   {
    "duration": 155,
    "start_time": "2024-06-14T13:16:14.537Z"
   },
   {
    "duration": 157,
    "start_time": "2024-06-14T13:16:29.796Z"
   },
   {
    "duration": 149,
    "start_time": "2024-06-14T13:16:44.170Z"
   },
   {
    "duration": 181,
    "start_time": "2024-06-14T13:17:43.499Z"
   },
   {
    "duration": 180,
    "start_time": "2024-06-14T13:17:56.289Z"
   },
   {
    "duration": 157,
    "start_time": "2024-06-14T13:18:31.736Z"
   },
   {
    "duration": 281,
    "start_time": "2024-06-14T13:18:58.071Z"
   },
   {
    "duration": 17,
    "start_time": "2024-06-14T13:19:22.013Z"
   },
   {
    "duration": 252,
    "start_time": "2024-06-14T13:20:07.471Z"
   },
   {
    "duration": 4,
    "start_time": "2024-06-14T13:22:07.632Z"
   },
   {
    "duration": 4,
    "start_time": "2024-06-14T13:23:21.292Z"
   },
   {
    "duration": 422,
    "start_time": "2024-06-14T13:23:22.781Z"
   },
   {
    "duration": 152,
    "start_time": "2024-06-14T13:23:27.819Z"
   },
   {
    "duration": 4,
    "start_time": "2024-06-14T13:23:31.597Z"
   },
   {
    "duration": 166,
    "start_time": "2024-06-14T13:23:35.315Z"
   },
   {
    "duration": 264,
    "start_time": "2024-06-14T13:24:01.934Z"
   },
   {
    "duration": 265,
    "start_time": "2024-06-14T13:25:05.399Z"
   },
   {
    "duration": 274,
    "start_time": "2024-06-14T13:25:11.156Z"
   },
   {
    "duration": 19,
    "start_time": "2024-06-14T13:26:18.642Z"
   },
   {
    "duration": 261,
    "start_time": "2024-06-14T13:27:08.763Z"
   },
   {
    "duration": 146,
    "start_time": "2024-06-14T13:27:22.998Z"
   },
   {
    "duration": 156,
    "start_time": "2024-06-14T13:28:40.746Z"
   },
   {
    "duration": 14,
    "start_time": "2024-06-14T13:31:03.832Z"
   },
   {
    "duration": 748,
    "start_time": "2024-06-14T13:31:22.537Z"
   },
   {
    "duration": 125,
    "start_time": "2024-06-14T13:31:34.548Z"
   },
   {
    "duration": 152,
    "start_time": "2024-06-14T13:31:44.834Z"
   },
   {
    "duration": 15,
    "start_time": "2024-06-14T13:32:59.809Z"
   },
   {
    "duration": 137,
    "start_time": "2024-06-14T13:33:22.147Z"
   },
   {
    "duration": 130,
    "start_time": "2024-06-14T13:33:46.353Z"
   },
   {
    "duration": 129,
    "start_time": "2024-06-14T13:33:51.532Z"
   },
   {
    "duration": 466,
    "start_time": "2024-06-14T13:35:28.636Z"
   },
   {
    "duration": 102,
    "start_time": "2024-06-14T13:35:29.105Z"
   },
   {
    "duration": 35,
    "start_time": "2024-06-14T13:35:29.209Z"
   },
   {
    "duration": 30,
    "start_time": "2024-06-14T13:35:29.246Z"
   },
   {
    "duration": 17,
    "start_time": "2024-06-14T13:35:29.278Z"
   },
   {
    "duration": 10,
    "start_time": "2024-06-14T13:35:29.297Z"
   },
   {
    "duration": 12,
    "start_time": "2024-06-14T13:35:29.309Z"
   },
   {
    "duration": 45,
    "start_time": "2024-06-14T13:35:29.322Z"
   },
   {
    "duration": 4,
    "start_time": "2024-06-14T13:35:29.368Z"
   },
   {
    "duration": 8,
    "start_time": "2024-06-14T13:35:29.375Z"
   },
   {
    "duration": 12,
    "start_time": "2024-06-14T13:35:29.385Z"
   },
   {
    "duration": 35,
    "start_time": "2024-06-14T13:35:29.399Z"
   },
   {
    "duration": 44,
    "start_time": "2024-06-14T13:35:29.436Z"
   },
   {
    "duration": 8,
    "start_time": "2024-06-14T13:35:29.482Z"
   },
   {
    "duration": 18,
    "start_time": "2024-06-14T13:35:29.492Z"
   },
   {
    "duration": 11,
    "start_time": "2024-06-14T13:35:29.511Z"
   },
   {
    "duration": 12,
    "start_time": "2024-06-14T13:35:29.524Z"
   },
   {
    "duration": 4,
    "start_time": "2024-06-14T13:35:29.538Z"
   },
   {
    "duration": 18,
    "start_time": "2024-06-14T13:35:29.544Z"
   },
   {
    "duration": 36,
    "start_time": "2024-06-14T13:35:29.564Z"
   },
   {
    "duration": 27,
    "start_time": "2024-06-14T13:35:29.602Z"
   },
   {
    "duration": 34,
    "start_time": "2024-06-14T13:35:29.631Z"
   },
   {
    "duration": 29,
    "start_time": "2024-06-14T13:35:29.667Z"
   },
   {
    "duration": 14,
    "start_time": "2024-06-14T13:35:29.698Z"
   },
   {
    "duration": 20,
    "start_time": "2024-06-14T13:35:29.714Z"
   },
   {
    "duration": 16,
    "start_time": "2024-06-14T13:35:29.736Z"
   },
   {
    "duration": 10,
    "start_time": "2024-06-14T13:35:29.754Z"
   },
   {
    "duration": 6,
    "start_time": "2024-06-14T13:35:29.769Z"
   },
   {
    "duration": 15,
    "start_time": "2024-06-14T13:35:29.777Z"
   },
   {
    "duration": 37,
    "start_time": "2024-06-14T13:35:29.793Z"
   },
   {
    "duration": 30,
    "start_time": "2024-06-14T13:35:29.832Z"
   },
   {
    "duration": 20,
    "start_time": "2024-06-14T13:35:29.863Z"
   },
   {
    "duration": 12,
    "start_time": "2024-06-14T13:35:29.885Z"
   },
   {
    "duration": 22,
    "start_time": "2024-06-14T13:35:29.899Z"
   },
   {
    "duration": 10,
    "start_time": "2024-06-14T13:35:29.923Z"
   },
   {
    "duration": 8,
    "start_time": "2024-06-14T13:35:29.961Z"
   },
   {
    "duration": 67,
    "start_time": "2024-06-14T13:35:29.971Z"
   },
   {
    "duration": 46,
    "start_time": "2024-06-14T13:35:30.039Z"
   },
   {
    "duration": 29,
    "start_time": "2024-06-14T13:35:30.086Z"
   },
   {
    "duration": 65,
    "start_time": "2024-06-14T13:35:30.117Z"
   },
   {
    "duration": 117,
    "start_time": "2024-06-14T13:35:30.184Z"
   },
   {
    "duration": 80,
    "start_time": "2024-06-14T13:35:30.303Z"
   },
   {
    "duration": 78,
    "start_time": "2024-06-14T13:35:30.385Z"
   },
   {
    "duration": 67,
    "start_time": "2024-06-14T13:35:30.464Z"
   },
   {
    "duration": 44,
    "start_time": "2024-06-14T13:35:30.532Z"
   },
   {
    "duration": 93,
    "start_time": "2024-06-14T13:35:30.579Z"
   },
   {
    "duration": 20,
    "start_time": "2024-06-14T13:35:30.674Z"
   },
   {
    "duration": 100,
    "start_time": "2024-06-14T13:35:30.696Z"
   },
   {
    "duration": 47,
    "start_time": "2024-06-14T13:35:30.797Z"
   },
   {
    "duration": 35,
    "start_time": "2024-06-14T13:35:30.846Z"
   },
   {
    "duration": 59,
    "start_time": "2024-06-14T13:35:30.883Z"
   },
   {
    "duration": 52,
    "start_time": "2024-06-14T13:35:30.944Z"
   },
   {
    "duration": 87,
    "start_time": "2024-06-14T13:35:30.998Z"
   },
   {
    "duration": 68,
    "start_time": "2024-06-14T13:35:31.087Z"
   },
   {
    "duration": 403,
    "start_time": "2024-06-14T13:35:31.157Z"
   },
   {
    "duration": 143,
    "start_time": "2024-06-14T13:35:31.562Z"
   },
   {
    "duration": 12,
    "start_time": "2024-06-14T13:35:31.707Z"
   },
   {
    "duration": 205,
    "start_time": "2024-06-14T13:35:31.721Z"
   },
   {
    "duration": 322,
    "start_time": "2024-06-14T13:35:31.928Z"
   },
   {
    "duration": 16,
    "start_time": "2024-06-14T13:35:32.252Z"
   },
   {
    "duration": 65,
    "start_time": "2024-06-14T13:35:32.270Z"
   },
   {
    "duration": 18,
    "start_time": "2024-06-14T13:35:32.337Z"
   },
   {
    "duration": 10,
    "start_time": "2024-06-14T13:35:32.357Z"
   },
   {
    "duration": 277,
    "start_time": "2024-06-14T13:35:32.369Z"
   },
   {
    "duration": 293,
    "start_time": "2024-06-14T13:35:32.648Z"
   },
   {
    "duration": 9,
    "start_time": "2024-06-14T13:35:32.942Z"
   },
   {
    "duration": 16,
    "start_time": "2024-06-14T13:35:32.952Z"
   },
   {
    "duration": 91,
    "start_time": "2024-06-14T13:35:32.970Z"
   },
   {
    "duration": 0,
    "start_time": "2024-06-14T13:35:33.062Z"
   },
   {
    "duration": 0,
    "start_time": "2024-06-14T13:35:33.063Z"
   },
   {
    "duration": 0,
    "start_time": "2024-06-14T13:35:33.064Z"
   },
   {
    "duration": 0,
    "start_time": "2024-06-14T13:35:33.065Z"
   },
   {
    "duration": 0,
    "start_time": "2024-06-14T13:35:33.066Z"
   },
   {
    "duration": 0,
    "start_time": "2024-06-14T13:35:33.067Z"
   },
   {
    "duration": 4,
    "start_time": "2024-06-14T13:36:33.441Z"
   },
   {
    "duration": 143,
    "start_time": "2024-06-14T13:36:33.997Z"
   },
   {
    "duration": 263,
    "start_time": "2024-06-14T13:36:39.499Z"
   },
   {
    "duration": 155,
    "start_time": "2024-06-14T13:36:40.125Z"
   },
   {
    "duration": 5,
    "start_time": "2024-06-14T13:36:41.096Z"
   },
   {
    "duration": 129,
    "start_time": "2024-06-14T13:36:41.498Z"
   },
   {
    "duration": 259,
    "start_time": "2024-06-14T13:36:44.072Z"
   },
   {
    "duration": 137,
    "start_time": "2024-06-14T13:38:15.762Z"
   },
   {
    "duration": 264,
    "start_time": "2024-06-14T13:39:44.990Z"
   },
   {
    "duration": 421,
    "start_time": "2024-06-14T13:40:07.253Z"
   },
   {
    "duration": 92,
    "start_time": "2024-06-14T13:40:07.675Z"
   },
   {
    "duration": 36,
    "start_time": "2024-06-14T13:40:07.768Z"
   },
   {
    "duration": 28,
    "start_time": "2024-06-14T13:40:07.806Z"
   },
   {
    "duration": 23,
    "start_time": "2024-06-14T13:40:07.837Z"
   },
   {
    "duration": 13,
    "start_time": "2024-06-14T13:40:07.862Z"
   },
   {
    "duration": 11,
    "start_time": "2024-06-14T13:40:07.877Z"
   },
   {
    "duration": 23,
    "start_time": "2024-06-14T13:40:07.889Z"
   },
   {
    "duration": 27,
    "start_time": "2024-06-14T13:40:07.914Z"
   },
   {
    "duration": 11,
    "start_time": "2024-06-14T13:40:07.943Z"
   },
   {
    "duration": 10,
    "start_time": "2024-06-14T13:40:07.955Z"
   },
   {
    "duration": 37,
    "start_time": "2024-06-14T13:40:07.967Z"
   },
   {
    "duration": 56,
    "start_time": "2024-06-14T13:40:08.006Z"
   },
   {
    "duration": 8,
    "start_time": "2024-06-14T13:40:08.065Z"
   },
   {
    "duration": 16,
    "start_time": "2024-06-14T13:40:08.075Z"
   },
   {
    "duration": 13,
    "start_time": "2024-06-14T13:40:08.093Z"
   },
   {
    "duration": 13,
    "start_time": "2024-06-14T13:40:08.107Z"
   },
   {
    "duration": 9,
    "start_time": "2024-06-14T13:40:08.122Z"
   },
   {
    "duration": 14,
    "start_time": "2024-06-14T13:40:08.132Z"
   },
   {
    "duration": 21,
    "start_time": "2024-06-14T13:40:08.148Z"
   },
   {
    "duration": 11,
    "start_time": "2024-06-14T13:40:08.171Z"
   },
   {
    "duration": 25,
    "start_time": "2024-06-14T13:40:08.184Z"
   },
   {
    "duration": 51,
    "start_time": "2024-06-14T13:40:08.211Z"
   },
   {
    "duration": 93,
    "start_time": "2024-06-14T13:40:08.264Z"
   },
   {
    "duration": 8,
    "start_time": "2024-06-14T13:40:08.359Z"
   },
   {
    "duration": 5,
    "start_time": "2024-06-14T13:40:08.369Z"
   },
   {
    "duration": 6,
    "start_time": "2024-06-14T13:40:08.376Z"
   },
   {
    "duration": 5,
    "start_time": "2024-06-14T13:40:08.384Z"
   },
   {
    "duration": 18,
    "start_time": "2024-06-14T13:40:08.391Z"
   },
   {
    "duration": 26,
    "start_time": "2024-06-14T13:40:08.411Z"
   },
   {
    "duration": 39,
    "start_time": "2024-06-14T13:40:08.439Z"
   },
   {
    "duration": 17,
    "start_time": "2024-06-14T13:40:08.480Z"
   },
   {
    "duration": 9,
    "start_time": "2024-06-14T13:40:08.499Z"
   },
   {
    "duration": 46,
    "start_time": "2024-06-14T13:40:08.510Z"
   },
   {
    "duration": 32,
    "start_time": "2024-06-14T13:40:08.558Z"
   },
   {
    "duration": 15,
    "start_time": "2024-06-14T13:40:08.592Z"
   },
   {
    "duration": 12,
    "start_time": "2024-06-14T13:40:08.609Z"
   },
   {
    "duration": 15,
    "start_time": "2024-06-14T13:40:08.623Z"
   },
   {
    "duration": 24,
    "start_time": "2024-06-14T13:40:08.640Z"
   },
   {
    "duration": 9,
    "start_time": "2024-06-14T13:40:08.666Z"
   },
   {
    "duration": 19,
    "start_time": "2024-06-14T13:40:08.679Z"
   },
   {
    "duration": 7,
    "start_time": "2024-06-14T13:40:08.700Z"
   },
   {
    "duration": 5,
    "start_time": "2024-06-14T13:40:08.709Z"
   },
   {
    "duration": 27,
    "start_time": "2024-06-14T13:40:08.715Z"
   },
   {
    "duration": 20,
    "start_time": "2024-06-14T13:40:08.744Z"
   },
   {
    "duration": 32,
    "start_time": "2024-06-14T13:40:08.766Z"
   },
   {
    "duration": 6,
    "start_time": "2024-06-14T13:40:08.800Z"
   },
   {
    "duration": 72,
    "start_time": "2024-06-14T13:40:08.807Z"
   },
   {
    "duration": 12,
    "start_time": "2024-06-14T13:40:08.881Z"
   },
   {
    "duration": 32,
    "start_time": "2024-06-14T13:40:08.895Z"
   },
   {
    "duration": 16,
    "start_time": "2024-06-14T13:40:08.929Z"
   },
   {
    "duration": 12,
    "start_time": "2024-06-14T13:40:08.946Z"
   },
   {
    "duration": 34,
    "start_time": "2024-06-14T13:40:08.959Z"
   },
   {
    "duration": 26,
    "start_time": "2024-06-14T13:40:08.995Z"
   },
   {
    "duration": 398,
    "start_time": "2024-06-14T13:40:09.023Z"
   },
   {
    "duration": 147,
    "start_time": "2024-06-14T13:40:09.423Z"
   },
   {
    "duration": 10,
    "start_time": "2024-06-14T13:40:09.572Z"
   },
   {
    "duration": 200,
    "start_time": "2024-06-14T13:40:09.584Z"
   },
   {
    "duration": 323,
    "start_time": "2024-06-14T13:40:09.786Z"
   },
   {
    "duration": 11,
    "start_time": "2024-06-14T13:40:10.110Z"
   },
   {
    "duration": 8,
    "start_time": "2024-06-14T13:40:10.123Z"
   },
   {
    "duration": 20,
    "start_time": "2024-06-14T13:40:10.132Z"
   },
   {
    "duration": 15,
    "start_time": "2024-06-14T13:40:10.154Z"
   },
   {
    "duration": 251,
    "start_time": "2024-06-14T13:40:10.170Z"
   },
   {
    "duration": 282,
    "start_time": "2024-06-14T13:40:10.423Z"
   },
   {
    "duration": 9,
    "start_time": "2024-06-14T13:40:10.707Z"
   },
   {
    "duration": 14,
    "start_time": "2024-06-14T13:40:10.717Z"
   },
   {
    "duration": 4,
    "start_time": "2024-06-14T13:40:10.733Z"
   },
   {
    "duration": 154,
    "start_time": "2024-06-14T13:40:10.739Z"
   },
   {
    "duration": 299,
    "start_time": "2024-06-14T13:40:10.894Z"
   },
   {
    "duration": 170,
    "start_time": "2024-06-14T13:40:11.195Z"
   },
   {
    "duration": 4,
    "start_time": "2024-06-14T13:40:11.367Z"
   },
   {
    "duration": 151,
    "start_time": "2024-06-14T13:40:11.373Z"
   },
   {
    "duration": 254,
    "start_time": "2024-06-14T13:40:11.526Z"
   },
   {
    "duration": 51,
    "start_time": "2024-06-17T07:03:08.030Z"
   },
   {
    "duration": 428,
    "start_time": "2024-06-17T07:03:18.263Z"
   },
   {
    "duration": 157,
    "start_time": "2024-06-17T07:03:18.693Z"
   },
   {
    "duration": 79,
    "start_time": "2024-06-17T07:03:18.852Z"
   },
   {
    "duration": 31,
    "start_time": "2024-06-17T07:03:18.933Z"
   },
   {
    "duration": 16,
    "start_time": "2024-06-17T07:03:18.965Z"
   },
   {
    "duration": 10,
    "start_time": "2024-06-17T07:03:18.983Z"
   },
   {
    "duration": 16,
    "start_time": "2024-06-17T07:03:18.995Z"
   },
   {
    "duration": 25,
    "start_time": "2024-06-17T07:03:19.013Z"
   },
   {
    "duration": 78,
    "start_time": "2024-06-17T07:03:19.039Z"
   },
   {
    "duration": 82,
    "start_time": "2024-06-17T07:03:19.120Z"
   },
   {
    "duration": 22,
    "start_time": "2024-06-17T07:03:19.203Z"
   },
   {
    "duration": 30,
    "start_time": "2024-06-17T07:03:19.227Z"
   },
   {
    "duration": 35,
    "start_time": "2024-06-17T07:03:19.259Z"
   },
   {
    "duration": 9,
    "start_time": "2024-06-17T07:03:19.295Z"
   },
   {
    "duration": 15,
    "start_time": "2024-06-17T07:03:19.306Z"
   },
   {
    "duration": 19,
    "start_time": "2024-06-17T07:03:19.323Z"
   },
   {
    "duration": 21,
    "start_time": "2024-06-17T07:03:19.344Z"
   },
   {
    "duration": 98,
    "start_time": "2024-06-17T07:03:19.367Z"
   },
   {
    "duration": 19,
    "start_time": "2024-06-17T07:03:19.466Z"
   },
   {
    "duration": 16,
    "start_time": "2024-06-17T07:03:19.487Z"
   },
   {
    "duration": 12,
    "start_time": "2024-06-17T07:03:19.505Z"
   },
   {
    "duration": 31,
    "start_time": "2024-06-17T07:03:19.519Z"
   },
   {
    "duration": 46,
    "start_time": "2024-06-17T07:03:19.552Z"
   },
   {
    "duration": 82,
    "start_time": "2024-06-17T07:03:19.600Z"
   },
   {
    "duration": 6,
    "start_time": "2024-06-17T07:03:19.684Z"
   },
   {
    "duration": 12,
    "start_time": "2024-06-17T07:03:19.692Z"
   },
   {
    "duration": 6,
    "start_time": "2024-06-17T07:03:19.705Z"
   },
   {
    "duration": 4,
    "start_time": "2024-06-17T07:03:19.716Z"
   },
   {
    "duration": 14,
    "start_time": "2024-06-17T07:03:19.721Z"
   },
   {
    "duration": 24,
    "start_time": "2024-06-17T07:03:19.736Z"
   },
   {
    "duration": 31,
    "start_time": "2024-06-17T07:03:19.761Z"
   },
   {
    "duration": 18,
    "start_time": "2024-06-17T07:03:19.794Z"
   },
   {
    "duration": 10,
    "start_time": "2024-06-17T07:03:19.814Z"
   },
   {
    "duration": 45,
    "start_time": "2024-06-17T07:03:19.825Z"
   },
   {
    "duration": 22,
    "start_time": "2024-06-17T07:03:19.872Z"
   },
   {
    "duration": 13,
    "start_time": "2024-06-17T07:03:19.896Z"
   },
   {
    "duration": 15,
    "start_time": "2024-06-17T07:03:19.911Z"
   },
   {
    "duration": 17,
    "start_time": "2024-06-17T07:03:19.928Z"
   },
   {
    "duration": 17,
    "start_time": "2024-06-17T07:03:19.947Z"
   },
   {
    "duration": 22,
    "start_time": "2024-06-17T07:03:19.966Z"
   },
   {
    "duration": 53,
    "start_time": "2024-06-17T07:03:19.989Z"
   },
   {
    "duration": 56,
    "start_time": "2024-06-17T07:03:20.044Z"
   },
   {
    "duration": 33,
    "start_time": "2024-06-17T07:03:20.101Z"
   },
   {
    "duration": 27,
    "start_time": "2024-06-17T07:03:20.136Z"
   },
   {
    "duration": 8,
    "start_time": "2024-06-17T07:03:20.165Z"
   },
   {
    "duration": 46,
    "start_time": "2024-06-17T07:03:20.175Z"
   },
   {
    "duration": 6,
    "start_time": "2024-06-17T07:03:20.223Z"
   },
   {
    "duration": 58,
    "start_time": "2024-06-17T07:03:20.230Z"
   },
   {
    "duration": 8,
    "start_time": "2024-06-17T07:03:20.290Z"
   },
   {
    "duration": 19,
    "start_time": "2024-06-17T07:03:20.300Z"
   },
   {
    "duration": 6,
    "start_time": "2024-06-17T07:03:20.321Z"
   },
   {
    "duration": 16,
    "start_time": "2024-06-17T07:03:20.329Z"
   },
   {
    "duration": 39,
    "start_time": "2024-06-17T07:03:20.346Z"
   },
   {
    "duration": 24,
    "start_time": "2024-06-17T07:03:20.387Z"
   },
   {
    "duration": 556,
    "start_time": "2024-06-17T07:03:20.412Z"
   },
   {
    "duration": 166,
    "start_time": "2024-06-17T07:03:20.970Z"
   },
   {
    "duration": 12,
    "start_time": "2024-06-17T07:03:21.138Z"
   },
   {
    "duration": 260,
    "start_time": "2024-06-17T07:03:21.161Z"
   },
   {
    "duration": 265,
    "start_time": "2024-06-17T07:03:21.423Z"
   },
   {
    "duration": 12,
    "start_time": "2024-06-17T07:03:21.690Z"
   },
   {
    "duration": 3,
    "start_time": "2024-06-17T07:03:21.704Z"
   },
   {
    "duration": 11,
    "start_time": "2024-06-17T07:03:21.709Z"
   },
   {
    "duration": 11,
    "start_time": "2024-06-17T07:03:21.722Z"
   },
   {
    "duration": 279,
    "start_time": "2024-06-17T07:03:21.760Z"
   },
   {
    "duration": 307,
    "start_time": "2024-06-17T07:03:22.040Z"
   },
   {
    "duration": 15,
    "start_time": "2024-06-17T07:03:22.349Z"
   },
   {
    "duration": 18,
    "start_time": "2024-06-17T07:03:22.366Z"
   },
   {
    "duration": 12,
    "start_time": "2024-06-17T07:03:22.386Z"
   },
   {
    "duration": 128,
    "start_time": "2024-06-17T07:03:22.400Z"
   },
   {
    "duration": 294,
    "start_time": "2024-06-17T07:03:22.530Z"
   },
   {
    "duration": 156,
    "start_time": "2024-06-17T07:03:22.826Z"
   },
   {
    "duration": 4,
    "start_time": "2024-06-17T07:03:22.984Z"
   },
   {
    "duration": 139,
    "start_time": "2024-06-17T07:03:22.989Z"
   },
   {
    "duration": 249,
    "start_time": "2024-06-17T07:03:23.130Z"
   },
   {
    "duration": 149,
    "start_time": "2024-06-17T07:06:46.349Z"
   },
   {
    "duration": 40,
    "start_time": "2024-06-17T07:07:14.574Z"
   },
   {
    "duration": 39,
    "start_time": "2024-06-17T07:08:26.244Z"
   },
   {
    "duration": 148,
    "start_time": "2024-06-17T11:52:22.506Z"
   },
   {
    "duration": 420,
    "start_time": "2024-06-17T12:15:26.005Z"
   },
   {
    "duration": 96,
    "start_time": "2024-06-17T12:15:26.427Z"
   },
   {
    "duration": 36,
    "start_time": "2024-06-17T12:15:26.525Z"
   },
   {
    "duration": 28,
    "start_time": "2024-06-17T12:15:26.563Z"
   },
   {
    "duration": 16,
    "start_time": "2024-06-17T12:15:26.593Z"
   },
   {
    "duration": 47,
    "start_time": "2024-06-17T12:15:26.610Z"
   },
   {
    "duration": 42,
    "start_time": "2024-06-17T12:15:26.659Z"
   },
   {
    "duration": 19,
    "start_time": "2024-06-17T12:15:26.702Z"
   },
   {
    "duration": 4,
    "start_time": "2024-06-17T12:15:26.723Z"
   },
   {
    "duration": 7,
    "start_time": "2024-06-17T12:15:26.730Z"
   },
   {
    "duration": 10,
    "start_time": "2024-06-17T12:15:26.738Z"
   },
   {
    "duration": 33,
    "start_time": "2024-06-17T12:15:26.749Z"
   },
   {
    "duration": 28,
    "start_time": "2024-06-17T12:15:26.784Z"
   },
   {
    "duration": 9,
    "start_time": "2024-06-17T12:15:26.813Z"
   },
   {
    "duration": 23,
    "start_time": "2024-06-17T12:15:26.823Z"
   },
   {
    "duration": 20,
    "start_time": "2024-06-17T12:15:26.848Z"
   },
   {
    "duration": 6,
    "start_time": "2024-06-17T12:15:26.870Z"
   },
   {
    "duration": 8,
    "start_time": "2024-06-17T12:15:26.878Z"
   },
   {
    "duration": 13,
    "start_time": "2024-06-17T12:15:26.888Z"
   },
   {
    "duration": 25,
    "start_time": "2024-06-17T12:15:26.903Z"
   },
   {
    "duration": 10,
    "start_time": "2024-06-17T12:15:26.930Z"
   },
   {
    "duration": 40,
    "start_time": "2024-06-17T12:15:26.941Z"
   },
   {
    "duration": 17,
    "start_time": "2024-06-17T12:15:26.983Z"
   },
   {
    "duration": 8,
    "start_time": "2024-06-17T12:15:27.001Z"
   },
   {
    "duration": 9,
    "start_time": "2024-06-17T12:15:27.011Z"
   },
   {
    "duration": 15,
    "start_time": "2024-06-17T12:15:27.022Z"
   },
   {
    "duration": 23,
    "start_time": "2024-06-17T12:15:27.039Z"
   },
   {
    "duration": 11,
    "start_time": "2024-06-17T12:15:27.068Z"
   },
   {
    "duration": 27,
    "start_time": "2024-06-17T12:15:27.084Z"
   },
   {
    "duration": 30,
    "start_time": "2024-06-17T12:15:27.113Z"
   },
   {
    "duration": 41,
    "start_time": "2024-06-17T12:15:27.146Z"
   },
   {
    "duration": 19,
    "start_time": "2024-06-17T12:15:27.189Z"
   },
   {
    "duration": 9,
    "start_time": "2024-06-17T12:15:27.210Z"
   },
   {
    "duration": 41,
    "start_time": "2024-06-17T12:15:27.220Z"
   },
   {
    "duration": 13,
    "start_time": "2024-06-17T12:15:27.263Z"
   },
   {
    "duration": 11,
    "start_time": "2024-06-17T12:15:27.278Z"
   },
   {
    "duration": 15,
    "start_time": "2024-06-17T12:15:27.290Z"
   },
   {
    "duration": 11,
    "start_time": "2024-06-17T12:15:27.307Z"
   },
   {
    "duration": 8,
    "start_time": "2024-06-17T12:15:27.320Z"
   },
   {
    "duration": 7,
    "start_time": "2024-06-17T12:15:27.330Z"
   },
   {
    "duration": 23,
    "start_time": "2024-06-17T12:15:27.339Z"
   },
   {
    "duration": 17,
    "start_time": "2024-06-17T12:15:27.363Z"
   },
   {
    "duration": 4,
    "start_time": "2024-06-17T12:15:27.382Z"
   },
   {
    "duration": 35,
    "start_time": "2024-06-17T12:15:27.387Z"
   },
   {
    "duration": 10,
    "start_time": "2024-06-17T12:15:27.423Z"
   },
   {
    "duration": 42,
    "start_time": "2024-06-17T12:15:27.435Z"
   },
   {
    "duration": 6,
    "start_time": "2024-06-17T12:15:27.479Z"
   },
   {
    "duration": 67,
    "start_time": "2024-06-17T12:15:27.487Z"
   },
   {
    "duration": 10,
    "start_time": "2024-06-17T12:15:27.555Z"
   },
   {
    "duration": 21,
    "start_time": "2024-06-17T12:15:27.566Z"
   },
   {
    "duration": 10,
    "start_time": "2024-06-17T12:15:27.589Z"
   },
   {
    "duration": 5,
    "start_time": "2024-06-17T12:15:27.601Z"
   },
   {
    "duration": 32,
    "start_time": "2024-06-17T12:15:27.608Z"
   },
   {
    "duration": 32,
    "start_time": "2024-06-17T12:15:27.642Z"
   },
   {
    "duration": 378,
    "start_time": "2024-06-17T12:15:27.676Z"
   },
   {
    "duration": 142,
    "start_time": "2024-06-17T12:15:28.060Z"
   },
   {
    "duration": 10,
    "start_time": "2024-06-17T12:15:28.204Z"
   },
   {
    "duration": 187,
    "start_time": "2024-06-17T12:15:28.216Z"
   },
   {
    "duration": 303,
    "start_time": "2024-06-17T12:15:28.405Z"
   },
   {
    "duration": 10,
    "start_time": "2024-06-17T12:15:28.710Z"
   },
   {
    "duration": 3,
    "start_time": "2024-06-17T12:15:28.722Z"
   },
   {
    "duration": 11,
    "start_time": "2024-06-17T12:15:28.726Z"
   },
   {
    "duration": 31,
    "start_time": "2024-06-17T12:15:28.738Z"
   },
   {
    "duration": 257,
    "start_time": "2024-06-17T12:15:28.771Z"
   },
   {
    "duration": 342,
    "start_time": "2024-06-17T12:15:29.030Z"
   },
   {
    "duration": 9,
    "start_time": "2024-06-17T12:15:29.374Z"
   },
   {
    "duration": 31,
    "start_time": "2024-06-17T12:15:29.385Z"
   },
   {
    "duration": 5,
    "start_time": "2024-06-17T12:15:29.418Z"
   },
   {
    "duration": 142,
    "start_time": "2024-06-17T12:15:29.425Z"
   },
   {
    "duration": 301,
    "start_time": "2024-06-17T12:15:29.569Z"
   },
   {
    "duration": 161,
    "start_time": "2024-06-17T12:15:29.872Z"
   },
   {
    "duration": 4,
    "start_time": "2024-06-17T12:15:30.035Z"
   },
   {
    "duration": 65,
    "start_time": "2024-06-17T12:15:30.041Z"
   },
   {
    "duration": 158,
    "start_time": "2024-06-17T12:15:30.107Z"
   },
   {
    "duration": 113,
    "start_time": "2024-06-17T12:29:15.189Z"
   },
   {
    "duration": 115,
    "start_time": "2024-06-17T12:29:19.357Z"
   },
   {
    "duration": 154,
    "start_time": "2024-06-17T12:29:21.048Z"
   },
   {
    "duration": 113,
    "start_time": "2024-06-17T12:29:30.771Z"
   },
   {
    "duration": 227,
    "start_time": "2024-06-17T12:29:35.594Z"
   },
   {
    "duration": 409,
    "start_time": "2024-06-17T12:31:12.886Z"
   },
   {
    "duration": 106,
    "start_time": "2024-06-17T12:31:13.298Z"
   },
   {
    "duration": 36,
    "start_time": "2024-06-17T12:31:13.406Z"
   },
   {
    "duration": 30,
    "start_time": "2024-06-17T12:31:13.444Z"
   },
   {
    "duration": 18,
    "start_time": "2024-06-17T12:31:13.476Z"
   },
   {
    "duration": 11,
    "start_time": "2024-06-17T12:31:13.496Z"
   },
   {
    "duration": 13,
    "start_time": "2024-06-17T12:31:13.509Z"
   },
   {
    "duration": 45,
    "start_time": "2024-06-17T12:31:13.524Z"
   },
   {
    "duration": 5,
    "start_time": "2024-06-17T12:31:13.571Z"
   },
   {
    "duration": 8,
    "start_time": "2024-06-17T12:31:13.577Z"
   },
   {
    "duration": 11,
    "start_time": "2024-06-17T12:31:13.587Z"
   },
   {
    "duration": 37,
    "start_time": "2024-06-17T12:31:13.599Z"
   },
   {
    "duration": 50,
    "start_time": "2024-06-17T12:31:13.637Z"
   },
   {
    "duration": 8,
    "start_time": "2024-06-17T12:31:13.690Z"
   },
   {
    "duration": 6,
    "start_time": "2024-06-17T12:31:13.699Z"
   },
   {
    "duration": 11,
    "start_time": "2024-06-17T12:31:13.707Z"
   },
   {
    "duration": 11,
    "start_time": "2024-06-17T12:31:13.720Z"
   },
   {
    "duration": 13,
    "start_time": "2024-06-17T12:31:13.761Z"
   },
   {
    "duration": 6,
    "start_time": "2024-06-17T12:31:13.776Z"
   },
   {
    "duration": 18,
    "start_time": "2024-06-17T12:31:13.783Z"
   },
   {
    "duration": 10,
    "start_time": "2024-06-17T12:31:13.803Z"
   },
   {
    "duration": 28,
    "start_time": "2024-06-17T12:31:13.815Z"
   },
   {
    "duration": 18,
    "start_time": "2024-06-17T12:31:13.860Z"
   },
   {
    "duration": 11,
    "start_time": "2024-06-17T12:31:13.880Z"
   },
   {
    "duration": 7,
    "start_time": "2024-06-17T12:31:13.892Z"
   },
   {
    "duration": 15,
    "start_time": "2024-06-17T12:31:13.901Z"
   },
   {
    "duration": 14,
    "start_time": "2024-06-17T12:31:13.918Z"
   },
   {
    "duration": 5,
    "start_time": "2024-06-17T12:31:13.934Z"
   },
   {
    "duration": 19,
    "start_time": "2024-06-17T12:31:13.940Z"
   },
   {
    "duration": 28,
    "start_time": "2024-06-17T12:31:13.961Z"
   },
   {
    "duration": 29,
    "start_time": "2024-06-17T12:31:13.991Z"
   },
   {
    "duration": 18,
    "start_time": "2024-06-17T12:31:14.022Z"
   },
   {
    "duration": 32,
    "start_time": "2024-06-17T12:31:14.042Z"
   },
   {
    "duration": 26,
    "start_time": "2024-06-17T12:31:14.075Z"
   },
   {
    "duration": 16,
    "start_time": "2024-06-17T12:31:14.103Z"
   },
   {
    "duration": 12,
    "start_time": "2024-06-17T12:31:14.120Z"
   },
   {
    "duration": 14,
    "start_time": "2024-06-17T12:31:14.133Z"
   },
   {
    "duration": 23,
    "start_time": "2024-06-17T12:31:14.148Z"
   },
   {
    "duration": 6,
    "start_time": "2024-06-17T12:31:14.172Z"
   },
   {
    "duration": 9,
    "start_time": "2024-06-17T12:31:14.179Z"
   },
   {
    "duration": 6,
    "start_time": "2024-06-17T12:31:14.192Z"
   },
   {
    "duration": 6,
    "start_time": "2024-06-17T12:31:14.199Z"
   },
   {
    "duration": 5,
    "start_time": "2024-06-17T12:31:14.206Z"
   },
   {
    "duration": 24,
    "start_time": "2024-06-17T12:31:14.213Z"
   },
   {
    "duration": 26,
    "start_time": "2024-06-17T12:31:14.239Z"
   },
   {
    "duration": 27,
    "start_time": "2024-06-17T12:31:14.267Z"
   },
   {
    "duration": 4,
    "start_time": "2024-06-17T12:31:14.296Z"
   },
   {
    "duration": 92,
    "start_time": "2024-06-17T12:31:14.301Z"
   },
   {
    "duration": 17,
    "start_time": "2024-06-17T12:31:14.395Z"
   },
   {
    "duration": 22,
    "start_time": "2024-06-17T12:31:14.413Z"
   },
   {
    "duration": 11,
    "start_time": "2024-06-17T12:31:14.437Z"
   },
   {
    "duration": 51,
    "start_time": "2024-06-17T12:31:14.450Z"
   },
   {
    "duration": 69,
    "start_time": "2024-06-17T12:31:14.503Z"
   },
   {
    "duration": 23,
    "start_time": "2024-06-17T12:31:14.574Z"
   },
   {
    "duration": 370,
    "start_time": "2024-06-17T12:31:14.598Z"
   },
   {
    "duration": 148,
    "start_time": "2024-06-17T12:31:14.969Z"
   },
   {
    "duration": 11,
    "start_time": "2024-06-17T12:31:15.119Z"
   },
   {
    "duration": 197,
    "start_time": "2024-06-17T12:31:15.131Z"
   },
   {
    "duration": 340,
    "start_time": "2024-06-17T12:31:15.331Z"
   },
   {
    "duration": 11,
    "start_time": "2024-06-17T12:31:15.672Z"
   },
   {
    "duration": 5,
    "start_time": "2024-06-17T12:31:15.685Z"
   },
   {
    "duration": 15,
    "start_time": "2024-06-17T12:31:15.691Z"
   },
   {
    "duration": 22,
    "start_time": "2024-06-17T12:31:15.708Z"
   },
   {
    "duration": 270,
    "start_time": "2024-06-17T12:31:15.731Z"
   },
   {
    "duration": 309,
    "start_time": "2024-06-17T12:31:16.003Z"
   },
   {
    "duration": 9,
    "start_time": "2024-06-17T12:31:16.313Z"
   },
   {
    "duration": 124,
    "start_time": "2024-06-17T12:31:16.324Z"
   },
   {
    "duration": 6,
    "start_time": "2024-06-17T12:31:16.450Z"
   },
   {
    "duration": 200,
    "start_time": "2024-06-17T12:31:16.457Z"
   },
   {
    "duration": 287,
    "start_time": "2024-06-17T12:31:16.661Z"
   },
   {
    "duration": 177,
    "start_time": "2024-06-17T12:31:16.950Z"
   },
   {
    "duration": 7,
    "start_time": "2024-06-17T12:31:17.129Z"
   },
   {
    "duration": 62,
    "start_time": "2024-06-17T12:31:17.138Z"
   },
   {
    "duration": 141,
    "start_time": "2024-06-17T12:31:17.201Z"
   },
   {
    "duration": 388,
    "start_time": "2024-06-18T06:42:26.010Z"
   },
   {
    "duration": 321,
    "start_time": "2024-06-18T06:42:27.112Z"
   },
   {
    "duration": 88,
    "start_time": "2024-06-18T06:42:27.435Z"
   },
   {
    "duration": 31,
    "start_time": "2024-06-18T06:42:27.542Z"
   },
   {
    "duration": 16,
    "start_time": "2024-06-18T06:42:27.754Z"
   },
   {
    "duration": 10,
    "start_time": "2024-06-18T06:42:27.921Z"
   },
   {
    "duration": 11,
    "start_time": "2024-06-18T06:42:42.243Z"
   },
   {
    "duration": 18,
    "start_time": "2024-06-18T06:42:47.177Z"
   },
   {
    "duration": 4,
    "start_time": "2024-06-18T06:42:54.635Z"
   },
   {
    "duration": 3,
    "start_time": "2024-06-18T06:42:55.264Z"
   },
   {
    "duration": 7,
    "start_time": "2024-06-18T06:42:55.715Z"
   },
   {
    "duration": 24,
    "start_time": "2024-06-18T06:42:56.126Z"
   },
   {
    "duration": 10,
    "start_time": "2024-06-18T06:43:12.512Z"
   },
   {
    "duration": 10,
    "start_time": "2024-06-18T06:43:13.193Z"
   },
   {
    "duration": 71,
    "start_time": "2024-06-18T06:43:13.611Z"
   },
   {
    "duration": 7,
    "start_time": "2024-06-18T06:43:14.202Z"
   },
   {
    "duration": 400,
    "start_time": "2024-06-18T06:43:22.998Z"
   },
   {
    "duration": 95,
    "start_time": "2024-06-18T06:43:23.400Z"
   },
   {
    "duration": 40,
    "start_time": "2024-06-18T06:43:23.497Z"
   },
   {
    "duration": 33,
    "start_time": "2024-06-18T06:43:23.540Z"
   },
   {
    "duration": 17,
    "start_time": "2024-06-18T06:43:23.574Z"
   },
   {
    "duration": 9,
    "start_time": "2024-06-18T06:43:23.592Z"
   },
   {
    "duration": 19,
    "start_time": "2024-06-18T06:43:23.603Z"
   },
   {
    "duration": 38,
    "start_time": "2024-06-18T06:43:23.624Z"
   },
   {
    "duration": 5,
    "start_time": "2024-06-18T06:43:23.664Z"
   },
   {
    "duration": 8,
    "start_time": "2024-06-18T06:43:23.672Z"
   },
   {
    "duration": 12,
    "start_time": "2024-06-18T06:43:23.681Z"
   },
   {
    "duration": 30,
    "start_time": "2024-06-18T06:43:23.695Z"
   },
   {
    "duration": 42,
    "start_time": "2024-06-18T06:43:23.727Z"
   },
   {
    "duration": 8,
    "start_time": "2024-06-18T06:43:23.770Z"
   },
   {
    "duration": 8,
    "start_time": "2024-06-18T06:43:23.779Z"
   },
   {
    "duration": 12,
    "start_time": "2024-06-18T06:43:23.789Z"
   },
   {
    "duration": 12,
    "start_time": "2024-06-18T06:43:23.802Z"
   },
   {
    "duration": 6,
    "start_time": "2024-06-18T06:43:23.815Z"
   },
   {
    "duration": 6,
    "start_time": "2024-06-18T06:43:23.823Z"
   },
   {
    "duration": 40,
    "start_time": "2024-06-18T06:43:23.830Z"
   },
   {
    "duration": 10,
    "start_time": "2024-06-18T06:43:23.872Z"
   },
   {
    "duration": 21,
    "start_time": "2024-06-18T06:43:23.883Z"
   },
   {
    "duration": 14,
    "start_time": "2024-06-18T06:43:23.906Z"
   },
   {
    "duration": 35,
    "start_time": "2024-06-18T06:43:23.922Z"
   },
   {
    "duration": 3,
    "start_time": "2024-06-18T06:43:23.960Z"
   },
   {
    "duration": 4,
    "start_time": "2024-06-18T06:43:23.964Z"
   },
   {
    "duration": 6,
    "start_time": "2024-06-18T06:43:23.969Z"
   },
   {
    "duration": 3,
    "start_time": "2024-06-18T06:43:23.981Z"
   },
   {
    "duration": 18,
    "start_time": "2024-06-18T06:43:23.986Z"
   },
   {
    "duration": 55,
    "start_time": "2024-06-18T06:43:24.006Z"
   },
   {
    "duration": 26,
    "start_time": "2024-06-18T06:43:24.062Z"
   },
   {
    "duration": 16,
    "start_time": "2024-06-18T06:43:24.090Z"
   },
   {
    "duration": 10,
    "start_time": "2024-06-18T06:43:24.107Z"
   },
   {
    "duration": 42,
    "start_time": "2024-06-18T06:43:24.119Z"
   },
   {
    "duration": 12,
    "start_time": "2024-06-18T06:43:24.163Z"
   },
   {
    "duration": 9,
    "start_time": "2024-06-18T06:43:24.177Z"
   },
   {
    "duration": 12,
    "start_time": "2024-06-18T06:43:24.187Z"
   },
   {
    "duration": 10,
    "start_time": "2024-06-18T06:43:24.201Z"
   },
   {
    "duration": 6,
    "start_time": "2024-06-18T06:43:24.213Z"
   },
   {
    "duration": 13,
    "start_time": "2024-06-18T06:43:24.221Z"
   },
   {
    "duration": 5,
    "start_time": "2024-06-18T06:43:24.255Z"
   },
   {
    "duration": 16,
    "start_time": "2024-06-18T06:43:24.261Z"
   },
   {
    "duration": 4,
    "start_time": "2024-06-18T06:43:24.279Z"
   },
   {
    "duration": 25,
    "start_time": "2024-06-18T06:43:24.285Z"
   },
   {
    "duration": 8,
    "start_time": "2024-06-18T06:43:24.311Z"
   },
   {
    "duration": 39,
    "start_time": "2024-06-18T06:43:24.320Z"
   },
   {
    "duration": 7,
    "start_time": "2024-06-18T06:43:24.360Z"
   },
   {
    "duration": 54,
    "start_time": "2024-06-18T06:43:24.368Z"
   },
   {
    "duration": 8,
    "start_time": "2024-06-18T06:43:24.424Z"
   },
   {
    "duration": 31,
    "start_time": "2024-06-18T06:43:24.434Z"
   },
   {
    "duration": 11,
    "start_time": "2024-06-18T06:43:24.467Z"
   },
   {
    "duration": 20,
    "start_time": "2024-06-18T06:43:24.480Z"
   },
   {
    "duration": 27,
    "start_time": "2024-06-18T06:43:24.502Z"
   },
   {
    "duration": 25,
    "start_time": "2024-06-18T06:43:24.531Z"
   },
   {
    "duration": 543,
    "start_time": "2024-06-18T06:43:24.558Z"
   },
   {
    "duration": 152,
    "start_time": "2024-06-18T06:43:25.103Z"
   },
   {
    "duration": 10,
    "start_time": "2024-06-18T06:43:25.257Z"
   },
   {
    "duration": 271,
    "start_time": "2024-06-18T06:43:25.269Z"
   },
   {
    "duration": 261,
    "start_time": "2024-06-18T06:43:25.542Z"
   },
   {
    "duration": 11,
    "start_time": "2024-06-18T06:43:25.805Z"
   },
   {
    "duration": 14,
    "start_time": "2024-06-18T06:43:25.817Z"
   },
   {
    "duration": 10,
    "start_time": "2024-06-18T06:43:25.833Z"
   },
   {
    "duration": 15,
    "start_time": "2024-06-18T06:43:25.844Z"
   },
   {
    "duration": 256,
    "start_time": "2024-06-18T06:43:25.860Z"
   },
   {
    "duration": 309,
    "start_time": "2024-06-18T06:43:26.117Z"
   },
   {
    "duration": 8,
    "start_time": "2024-06-18T06:43:26.428Z"
   },
   {
    "duration": 51,
    "start_time": "2024-06-18T06:43:26.437Z"
   },
   {
    "duration": 25,
    "start_time": "2024-06-18T06:43:26.490Z"
   },
   {
    "duration": 156,
    "start_time": "2024-06-18T06:43:26.516Z"
   },
   {
    "duration": 281,
    "start_time": "2024-06-18T06:43:26.674Z"
   },
   {
    "duration": 171,
    "start_time": "2024-06-18T06:43:26.957Z"
   },
   {
    "duration": 4,
    "start_time": "2024-06-18T06:43:27.130Z"
   },
   {
    "duration": 45,
    "start_time": "2024-06-18T06:43:27.136Z"
   },
   {
    "duration": 139,
    "start_time": "2024-06-18T06:43:27.183Z"
   },
   {
    "duration": 159,
    "start_time": "2024-06-18T07:15:36.274Z"
   },
   {
    "duration": 53,
    "start_time": "2024-06-18T07:25:26.923Z"
   },
   {
    "duration": 197,
    "start_time": "2024-06-18T07:25:32.905Z"
   },
   {
    "duration": 158,
    "start_time": "2024-06-18T07:25:40.109Z"
   },
   {
    "duration": 3,
    "start_time": "2024-06-18T07:29:15.044Z"
   },
   {
    "duration": 661,
    "start_time": "2024-06-18T07:29:20.677Z"
   },
   {
    "duration": 95,
    "start_time": "2024-06-18T07:29:21.340Z"
   },
   {
    "duration": 38,
    "start_time": "2024-06-18T07:29:21.437Z"
   },
   {
    "duration": 24,
    "start_time": "2024-06-18T07:29:21.478Z"
   },
   {
    "duration": 17,
    "start_time": "2024-06-18T07:29:21.504Z"
   },
   {
    "duration": 18,
    "start_time": "2024-06-18T07:29:21.523Z"
   },
   {
    "duration": 14,
    "start_time": "2024-06-18T07:29:21.543Z"
   },
   {
    "duration": 18,
    "start_time": "2024-06-18T07:29:21.559Z"
   },
   {
    "duration": 5,
    "start_time": "2024-06-18T07:29:21.578Z"
   },
   {
    "duration": 7,
    "start_time": "2024-06-18T07:29:21.585Z"
   },
   {
    "duration": 13,
    "start_time": "2024-06-18T07:29:21.593Z"
   },
   {
    "duration": 49,
    "start_time": "2024-06-18T07:29:21.608Z"
   },
   {
    "duration": 25,
    "start_time": "2024-06-18T07:29:21.658Z"
   },
   {
    "duration": 7,
    "start_time": "2024-06-18T07:29:21.684Z"
   },
   {
    "duration": 6,
    "start_time": "2024-06-18T07:29:21.693Z"
   },
   {
    "duration": 17,
    "start_time": "2024-06-18T07:29:21.701Z"
   },
   {
    "duration": 7,
    "start_time": "2024-06-18T07:29:21.719Z"
   },
   {
    "duration": 28,
    "start_time": "2024-06-18T07:29:21.727Z"
   },
   {
    "duration": 6,
    "start_time": "2024-06-18T07:29:21.757Z"
   },
   {
    "duration": 19,
    "start_time": "2024-06-18T07:29:21.765Z"
   },
   {
    "duration": 18,
    "start_time": "2024-06-18T07:29:21.785Z"
   },
   {
    "duration": 50,
    "start_time": "2024-06-18T07:29:21.805Z"
   },
   {
    "duration": 15,
    "start_time": "2024-06-18T07:29:21.857Z"
   },
   {
    "duration": 4,
    "start_time": "2024-06-18T07:29:21.873Z"
   },
   {
    "duration": 5,
    "start_time": "2024-06-18T07:29:21.879Z"
   },
   {
    "duration": 8,
    "start_time": "2024-06-18T07:29:21.886Z"
   },
   {
    "duration": 5,
    "start_time": "2024-06-18T07:29:21.895Z"
   },
   {
    "duration": 4,
    "start_time": "2024-06-18T07:29:21.904Z"
   },
   {
    "duration": 10,
    "start_time": "2024-06-18T07:29:21.909Z"
   },
   {
    "duration": 50,
    "start_time": "2024-06-18T07:29:21.920Z"
   },
   {
    "duration": 26,
    "start_time": "2024-06-18T07:29:21.971Z"
   },
   {
    "duration": 16,
    "start_time": "2024-06-18T07:29:21.998Z"
   },
   {
    "duration": 10,
    "start_time": "2024-06-18T07:29:22.015Z"
   },
   {
    "duration": 13,
    "start_time": "2024-06-18T07:29:22.055Z"
   },
   {
    "duration": 9,
    "start_time": "2024-06-18T07:29:22.069Z"
   },
   {
    "duration": 8,
    "start_time": "2024-06-18T07:29:22.079Z"
   },
   {
    "duration": 15,
    "start_time": "2024-06-18T07:29:22.088Z"
   },
   {
    "duration": 15,
    "start_time": "2024-06-18T07:29:22.105Z"
   },
   {
    "duration": 6,
    "start_time": "2024-06-18T07:29:22.122Z"
   },
   {
    "duration": 27,
    "start_time": "2024-06-18T07:29:22.129Z"
   },
   {
    "duration": 7,
    "start_time": "2024-06-18T07:29:22.158Z"
   },
   {
    "duration": 4,
    "start_time": "2024-06-18T07:29:22.167Z"
   },
   {
    "duration": 5,
    "start_time": "2024-06-18T07:29:22.173Z"
   },
   {
    "duration": 21,
    "start_time": "2024-06-18T07:29:22.179Z"
   },
   {
    "duration": 19,
    "start_time": "2024-06-18T07:29:22.201Z"
   },
   {
    "duration": 48,
    "start_time": "2024-06-18T07:29:22.221Z"
   },
   {
    "duration": 12,
    "start_time": "2024-06-18T07:29:22.271Z"
   },
   {
    "duration": 13,
    "start_time": "2024-06-18T07:29:22.285Z"
   },
   {
    "duration": 8,
    "start_time": "2024-06-18T07:29:22.300Z"
   },
   {
    "duration": 21,
    "start_time": "2024-06-18T07:29:22.310Z"
   },
   {
    "duration": 6,
    "start_time": "2024-06-18T07:29:22.356Z"
   },
   {
    "duration": 4,
    "start_time": "2024-06-18T07:29:22.364Z"
   },
   {
    "duration": 33,
    "start_time": "2024-06-18T07:29:22.370Z"
   },
   {
    "duration": 24,
    "start_time": "2024-06-18T07:29:22.404Z"
   },
   {
    "duration": 287,
    "start_time": "2024-06-18T07:29:22.430Z"
   },
   {
    "duration": 0,
    "start_time": "2024-06-18T07:29:22.719Z"
   },
   {
    "duration": 0,
    "start_time": "2024-06-18T07:29:22.720Z"
   },
   {
    "duration": 0,
    "start_time": "2024-06-18T07:29:22.721Z"
   },
   {
    "duration": 0,
    "start_time": "2024-06-18T07:29:22.722Z"
   },
   {
    "duration": 0,
    "start_time": "2024-06-18T07:29:22.723Z"
   },
   {
    "duration": 0,
    "start_time": "2024-06-18T07:29:22.724Z"
   },
   {
    "duration": 0,
    "start_time": "2024-06-18T07:29:22.726Z"
   },
   {
    "duration": 0,
    "start_time": "2024-06-18T07:29:22.727Z"
   },
   {
    "duration": 0,
    "start_time": "2024-06-18T07:29:22.728Z"
   },
   {
    "duration": 0,
    "start_time": "2024-06-18T07:29:22.729Z"
   },
   {
    "duration": 1,
    "start_time": "2024-06-18T07:29:22.754Z"
   },
   {
    "duration": 0,
    "start_time": "2024-06-18T07:29:22.756Z"
   },
   {
    "duration": 0,
    "start_time": "2024-06-18T07:29:22.757Z"
   },
   {
    "duration": 0,
    "start_time": "2024-06-18T07:29:22.758Z"
   },
   {
    "duration": 0,
    "start_time": "2024-06-18T07:29:22.759Z"
   },
   {
    "duration": 0,
    "start_time": "2024-06-18T07:29:22.760Z"
   },
   {
    "duration": 0,
    "start_time": "2024-06-18T07:29:22.761Z"
   },
   {
    "duration": 0,
    "start_time": "2024-06-18T07:29:22.762Z"
   },
   {
    "duration": 0,
    "start_time": "2024-06-18T07:29:22.763Z"
   },
   {
    "duration": 184,
    "start_time": "2024-06-18T07:35:15.865Z"
   },
   {
    "duration": 205,
    "start_time": "2024-06-18T07:35:43.021Z"
   },
   {
    "duration": 175,
    "start_time": "2024-06-18T07:35:53.998Z"
   },
   {
    "duration": 184,
    "start_time": "2024-06-18T07:37:15.878Z"
   },
   {
    "duration": 677,
    "start_time": "2024-06-18T07:37:38.458Z"
   },
   {
    "duration": 96,
    "start_time": "2024-06-18T07:37:39.137Z"
   },
   {
    "duration": 38,
    "start_time": "2024-06-18T07:37:39.234Z"
   },
   {
    "duration": 24,
    "start_time": "2024-06-18T07:37:39.274Z"
   },
   {
    "duration": 16,
    "start_time": "2024-06-18T07:37:39.300Z"
   },
   {
    "duration": 13,
    "start_time": "2024-06-18T07:37:39.317Z"
   },
   {
    "duration": 22,
    "start_time": "2024-06-18T07:37:39.332Z"
   },
   {
    "duration": 29,
    "start_time": "2024-06-18T07:37:39.355Z"
   },
   {
    "duration": 25,
    "start_time": "2024-06-18T07:37:39.386Z"
   },
   {
    "duration": 27,
    "start_time": "2024-06-18T07:37:39.414Z"
   },
   {
    "duration": 10,
    "start_time": "2024-06-18T07:37:39.443Z"
   },
   {
    "duration": 38,
    "start_time": "2024-06-18T07:37:39.455Z"
   },
   {
    "duration": 26,
    "start_time": "2024-06-18T07:37:39.495Z"
   },
   {
    "duration": 8,
    "start_time": "2024-06-18T07:37:39.522Z"
   },
   {
    "duration": 6,
    "start_time": "2024-06-18T07:37:39.532Z"
   },
   {
    "duration": 26,
    "start_time": "2024-06-18T07:37:39.540Z"
   },
   {
    "duration": 9,
    "start_time": "2024-06-18T07:37:39.568Z"
   },
   {
    "duration": 4,
    "start_time": "2024-06-18T07:37:39.579Z"
   },
   {
    "duration": 6,
    "start_time": "2024-06-18T07:37:39.585Z"
   },
   {
    "duration": 19,
    "start_time": "2024-06-18T07:37:39.593Z"
   },
   {
    "duration": 11,
    "start_time": "2024-06-18T07:37:39.614Z"
   },
   {
    "duration": 47,
    "start_time": "2024-06-18T07:37:39.627Z"
   },
   {
    "duration": 24,
    "start_time": "2024-06-18T07:37:39.676Z"
   },
   {
    "duration": 9,
    "start_time": "2024-06-18T07:37:39.702Z"
   },
   {
    "duration": 4,
    "start_time": "2024-06-18T07:37:39.713Z"
   },
   {
    "duration": 17,
    "start_time": "2024-06-18T07:37:39.719Z"
   },
   {
    "duration": 14,
    "start_time": "2024-06-18T07:37:39.737Z"
   },
   {
    "duration": 28,
    "start_time": "2024-06-18T07:37:39.756Z"
   },
   {
    "duration": 22,
    "start_time": "2024-06-18T07:37:39.785Z"
   },
   {
    "duration": 20,
    "start_time": "2024-06-18T07:37:39.809Z"
   },
   {
    "duration": 26,
    "start_time": "2024-06-18T07:37:39.831Z"
   },
   {
    "duration": 17,
    "start_time": "2024-06-18T07:37:39.858Z"
   },
   {
    "duration": 9,
    "start_time": "2024-06-18T07:37:39.876Z"
   },
   {
    "duration": 25,
    "start_time": "2024-06-18T07:37:39.886Z"
   },
   {
    "duration": 10,
    "start_time": "2024-06-18T07:37:39.912Z"
   },
   {
    "duration": 8,
    "start_time": "2024-06-18T07:37:39.923Z"
   },
   {
    "duration": 27,
    "start_time": "2024-06-18T07:37:39.933Z"
   },
   {
    "duration": 19,
    "start_time": "2024-06-18T07:37:39.962Z"
   },
   {
    "duration": 8,
    "start_time": "2024-06-18T07:37:39.983Z"
   },
   {
    "duration": 7,
    "start_time": "2024-06-18T07:37:39.993Z"
   },
   {
    "duration": 20,
    "start_time": "2024-06-18T07:37:40.002Z"
   },
   {
    "duration": 29,
    "start_time": "2024-06-18T07:37:40.023Z"
   },
   {
    "duration": 14,
    "start_time": "2024-06-18T07:37:40.054Z"
   },
   {
    "duration": 37,
    "start_time": "2024-06-18T07:37:40.069Z"
   },
   {
    "duration": 8,
    "start_time": "2024-06-18T07:37:40.107Z"
   },
   {
    "duration": 45,
    "start_time": "2024-06-18T07:37:40.116Z"
   },
   {
    "duration": 10,
    "start_time": "2024-06-18T07:37:40.163Z"
   },
   {
    "duration": 26,
    "start_time": "2024-06-18T07:37:40.174Z"
   },
   {
    "duration": 20,
    "start_time": "2024-06-18T07:37:40.202Z"
   },
   {
    "duration": 23,
    "start_time": "2024-06-18T07:37:40.224Z"
   },
   {
    "duration": 9,
    "start_time": "2024-06-18T07:37:40.249Z"
   },
   {
    "duration": 18,
    "start_time": "2024-06-18T07:37:40.259Z"
   },
   {
    "duration": 67,
    "start_time": "2024-06-18T07:37:40.278Z"
   },
   {
    "duration": 25,
    "start_time": "2024-06-18T07:37:40.347Z"
   },
   {
    "duration": 193,
    "start_time": "2024-06-18T07:37:40.373Z"
   },
   {
    "duration": 159,
    "start_time": "2024-06-18T07:37:40.567Z"
   },
   {
    "duration": 10,
    "start_time": "2024-06-18T07:37:40.727Z"
   },
   {
    "duration": 249,
    "start_time": "2024-06-18T07:37:40.739Z"
   },
   {
    "duration": 279,
    "start_time": "2024-06-18T07:37:40.989Z"
   },
   {
    "duration": 10,
    "start_time": "2024-06-18T07:37:41.270Z"
   },
   {
    "duration": 21,
    "start_time": "2024-06-18T07:37:41.282Z"
   },
   {
    "duration": 18,
    "start_time": "2024-06-18T07:37:41.305Z"
   },
   {
    "duration": 32,
    "start_time": "2024-06-18T07:37:41.325Z"
   },
   {
    "duration": 256,
    "start_time": "2024-06-18T07:37:41.359Z"
   },
   {
    "duration": 291,
    "start_time": "2024-06-18T07:37:41.617Z"
   },
   {
    "duration": 9,
    "start_time": "2024-06-18T07:37:41.909Z"
   },
   {
    "duration": 14,
    "start_time": "2024-06-18T07:37:41.919Z"
   },
   {
    "duration": 3,
    "start_time": "2024-06-18T07:37:41.935Z"
   },
   {
    "duration": 139,
    "start_time": "2024-06-18T07:37:41.939Z"
   },
   {
    "duration": 285,
    "start_time": "2024-06-18T07:37:42.079Z"
   },
   {
    "duration": 155,
    "start_time": "2024-06-18T07:37:42.365Z"
   },
   {
    "duration": 4,
    "start_time": "2024-06-18T07:37:42.522Z"
   },
   {
    "duration": 51,
    "start_time": "2024-06-18T07:37:42.527Z"
   },
   {
    "duration": 149,
    "start_time": "2024-06-18T07:37:42.580Z"
   },
   {
    "duration": 147,
    "start_time": "2024-06-18T07:38:10.489Z"
   },
   {
    "duration": 156,
    "start_time": "2024-06-18T07:38:34.794Z"
   },
   {
    "duration": 155,
    "start_time": "2024-06-18T07:40:03.294Z"
   },
   {
    "duration": 274,
    "start_time": "2024-06-18T07:41:58.285Z"
   },
   {
    "duration": 199,
    "start_time": "2024-06-18T07:42:54.103Z"
   },
   {
    "duration": 217,
    "start_time": "2024-06-18T07:43:00.082Z"
   },
   {
    "duration": 182,
    "start_time": "2024-06-18T07:43:16.143Z"
   },
   {
    "duration": 192,
    "start_time": "2024-06-18T07:43:24.202Z"
   },
   {
    "duration": 54,
    "start_time": "2024-06-18T07:43:52.813Z"
   },
   {
    "duration": 57,
    "start_time": "2024-06-18T07:44:00.258Z"
   },
   {
    "duration": 65,
    "start_time": "2024-06-18T07:44:13.895Z"
   },
   {
    "duration": 201,
    "start_time": "2024-06-18T07:44:28.107Z"
   },
   {
    "duration": 176,
    "start_time": "2024-06-18T07:45:22.184Z"
   },
   {
    "duration": 276,
    "start_time": "2024-06-18T07:46:14.737Z"
   },
   {
    "duration": 295,
    "start_time": "2024-06-18T07:47:40.595Z"
   },
   {
    "duration": 280,
    "start_time": "2024-06-18T07:48:55.111Z"
   },
   {
    "duration": 303,
    "start_time": "2024-06-18T07:49:43.702Z"
   },
   {
    "duration": 367,
    "start_time": "2024-06-18T07:49:50.643Z"
   },
   {
    "duration": 139,
    "start_time": "2024-06-18T07:51:05.724Z"
   },
   {
    "duration": 62,
    "start_time": "2024-06-18T07:52:16.274Z"
   },
   {
    "duration": 147,
    "start_time": "2024-06-18T07:52:16.432Z"
   },
   {
    "duration": 279,
    "start_time": "2024-06-18T07:52:21.938Z"
   },
   {
    "duration": 164,
    "start_time": "2024-06-18T07:53:06.443Z"
   },
   {
    "duration": 168,
    "start_time": "2024-06-18T07:53:35.922Z"
   },
   {
    "duration": 150,
    "start_time": "2024-06-18T07:53:45.460Z"
   },
   {
    "duration": 138,
    "start_time": "2024-06-18T07:54:42.312Z"
   },
   {
    "duration": 149,
    "start_time": "2024-06-18T07:55:20.775Z"
   },
   {
    "duration": 158,
    "start_time": "2024-06-18T07:55:25.257Z"
   },
   {
    "duration": 156,
    "start_time": "2024-06-18T07:55:37.748Z"
   },
   {
    "duration": 240,
    "start_time": "2024-06-18T07:55:43.777Z"
   },
   {
    "duration": 164,
    "start_time": "2024-06-18T07:55:58.331Z"
   },
   {
    "duration": 678,
    "start_time": "2024-06-18T07:57:06.170Z"
   },
   {
    "duration": 100,
    "start_time": "2024-06-18T07:57:06.850Z"
   },
   {
    "duration": 38,
    "start_time": "2024-06-18T07:57:06.952Z"
   },
   {
    "duration": 23,
    "start_time": "2024-06-18T07:57:06.992Z"
   },
   {
    "duration": 17,
    "start_time": "2024-06-18T07:57:07.017Z"
   },
   {
    "duration": 10,
    "start_time": "2024-06-18T07:57:07.036Z"
   },
   {
    "duration": 12,
    "start_time": "2024-06-18T07:57:07.047Z"
   },
   {
    "duration": 34,
    "start_time": "2024-06-18T07:57:07.061Z"
   },
   {
    "duration": 4,
    "start_time": "2024-06-18T07:57:07.097Z"
   },
   {
    "duration": 8,
    "start_time": "2024-06-18T07:57:07.103Z"
   },
   {
    "duration": 13,
    "start_time": "2024-06-18T07:57:07.113Z"
   },
   {
    "duration": 29,
    "start_time": "2024-06-18T07:57:07.127Z"
   },
   {
    "duration": 26,
    "start_time": "2024-06-18T07:57:07.158Z"
   },
   {
    "duration": 9,
    "start_time": "2024-06-18T07:57:07.186Z"
   },
   {
    "duration": 7,
    "start_time": "2024-06-18T07:57:07.196Z"
   },
   {
    "duration": 23,
    "start_time": "2024-06-18T07:57:07.205Z"
   },
   {
    "duration": 29,
    "start_time": "2024-06-18T07:57:07.230Z"
   },
   {
    "duration": 14,
    "start_time": "2024-06-18T07:57:07.261Z"
   },
   {
    "duration": 6,
    "start_time": "2024-06-18T07:57:07.277Z"
   },
   {
    "duration": 20,
    "start_time": "2024-06-18T07:57:07.285Z"
   },
   {
    "duration": 16,
    "start_time": "2024-06-18T07:57:07.307Z"
   },
   {
    "duration": 32,
    "start_time": "2024-06-18T07:57:07.325Z"
   },
   {
    "duration": 15,
    "start_time": "2024-06-18T07:57:07.359Z"
   },
   {
    "duration": 16,
    "start_time": "2024-06-18T07:57:07.376Z"
   },
   {
    "duration": 11,
    "start_time": "2024-06-18T07:57:07.394Z"
   },
   {
    "duration": 8,
    "start_time": "2024-06-18T07:57:07.407Z"
   },
   {
    "duration": 7,
    "start_time": "2024-06-18T07:57:07.416Z"
   },
   {
    "duration": 14,
    "start_time": "2024-06-18T07:57:07.427Z"
   },
   {
    "duration": 40,
    "start_time": "2024-06-18T07:57:07.443Z"
   },
   {
    "duration": 45,
    "start_time": "2024-06-18T07:57:07.485Z"
   },
   {
    "duration": 35,
    "start_time": "2024-06-18T07:57:07.532Z"
   },
   {
    "duration": 16,
    "start_time": "2024-06-18T07:57:07.569Z"
   },
   {
    "duration": 10,
    "start_time": "2024-06-18T07:57:07.587Z"
   },
   {
    "duration": 25,
    "start_time": "2024-06-18T07:57:07.599Z"
   },
   {
    "duration": 10,
    "start_time": "2024-06-18T07:57:07.626Z"
   },
   {
    "duration": 34,
    "start_time": "2024-06-18T07:57:07.637Z"
   },
   {
    "duration": 11,
    "start_time": "2024-06-18T07:57:07.673Z"
   },
   {
    "duration": 8,
    "start_time": "2024-06-18T07:57:07.686Z"
   },
   {
    "duration": 4,
    "start_time": "2024-06-18T07:57:07.696Z"
   },
   {
    "duration": 6,
    "start_time": "2024-06-18T07:57:07.702Z"
   },
   {
    "duration": 4,
    "start_time": "2024-06-18T07:57:07.710Z"
   },
   {
    "duration": 4,
    "start_time": "2024-06-18T07:57:07.716Z"
   },
   {
    "duration": 5,
    "start_time": "2024-06-18T07:57:07.722Z"
   },
   {
    "duration": 22,
    "start_time": "2024-06-18T07:57:07.756Z"
   },
   {
    "duration": 8,
    "start_time": "2024-06-18T07:57:07.780Z"
   },
   {
    "duration": 24,
    "start_time": "2024-06-18T07:57:07.790Z"
   },
   {
    "duration": 11,
    "start_time": "2024-06-18T07:57:07.816Z"
   },
   {
    "duration": 37,
    "start_time": "2024-06-18T07:57:07.828Z"
   },
   {
    "duration": 7,
    "start_time": "2024-06-18T07:57:07.866Z"
   },
   {
    "duration": 14,
    "start_time": "2024-06-18T07:57:07.874Z"
   },
   {
    "duration": 6,
    "start_time": "2024-06-18T07:57:07.889Z"
   },
   {
    "duration": 5,
    "start_time": "2024-06-18T07:57:07.896Z"
   },
   {
    "duration": 34,
    "start_time": "2024-06-18T07:57:07.902Z"
   },
   {
    "duration": 23,
    "start_time": "2024-06-18T07:57:07.956Z"
   },
   {
    "duration": 191,
    "start_time": "2024-06-18T07:57:07.981Z"
   },
   {
    "duration": 152,
    "start_time": "2024-06-18T07:57:08.173Z"
   },
   {
    "duration": 10,
    "start_time": "2024-06-18T07:57:08.326Z"
   },
   {
    "duration": 272,
    "start_time": "2024-06-18T07:57:08.338Z"
   },
   {
    "duration": 290,
    "start_time": "2024-06-18T07:57:08.612Z"
   },
   {
    "duration": 10,
    "start_time": "2024-06-18T07:57:08.903Z"
   },
   {
    "duration": 3,
    "start_time": "2024-06-18T07:57:08.915Z"
   },
   {
    "duration": 13,
    "start_time": "2024-06-18T07:57:08.920Z"
   },
   {
    "duration": 25,
    "start_time": "2024-06-18T07:57:08.935Z"
   },
   {
    "duration": 286,
    "start_time": "2024-06-18T07:57:08.961Z"
   },
   {
    "duration": 310,
    "start_time": "2024-06-18T07:57:09.249Z"
   },
   {
    "duration": 8,
    "start_time": "2024-06-18T07:57:09.561Z"
   },
   {
    "duration": 9,
    "start_time": "2024-06-18T07:57:09.572Z"
   },
   {
    "duration": 5,
    "start_time": "2024-06-18T07:57:09.583Z"
   },
   {
    "duration": 183,
    "start_time": "2024-06-18T07:57:09.589Z"
   },
   {
    "duration": 309,
    "start_time": "2024-06-18T07:57:09.774Z"
   },
   {
    "duration": 173,
    "start_time": "2024-06-18T07:57:10.084Z"
   },
   {
    "duration": 3,
    "start_time": "2024-06-18T07:57:10.259Z"
   },
   {
    "duration": 37,
    "start_time": "2024-06-18T07:57:10.263Z"
   },
   {
    "duration": 182,
    "start_time": "2024-06-18T07:57:10.302Z"
   },
   {
    "duration": 92,
    "start_time": "2024-06-18T07:58:41.611Z"
   },
   {
    "duration": 720,
    "start_time": "2024-06-18T08:08:10.826Z"
   },
   {
    "duration": 96,
    "start_time": "2024-06-18T08:08:11.548Z"
   },
   {
    "duration": 38,
    "start_time": "2024-06-18T08:08:11.646Z"
   },
   {
    "duration": 24,
    "start_time": "2024-06-18T08:08:11.685Z"
   },
   {
    "duration": 17,
    "start_time": "2024-06-18T08:08:11.711Z"
   },
   {
    "duration": 30,
    "start_time": "2024-06-18T08:08:11.730Z"
   },
   {
    "duration": 18,
    "start_time": "2024-06-18T08:08:11.761Z"
   },
   {
    "duration": 33,
    "start_time": "2024-06-18T08:08:11.781Z"
   },
   {
    "duration": 4,
    "start_time": "2024-06-18T08:08:11.816Z"
   },
   {
    "duration": 5,
    "start_time": "2024-06-18T08:08:11.821Z"
   },
   {
    "duration": 8,
    "start_time": "2024-06-18T08:08:11.828Z"
   },
   {
    "duration": 34,
    "start_time": "2024-06-18T08:08:11.838Z"
   },
   {
    "duration": 27,
    "start_time": "2024-06-18T08:08:11.874Z"
   },
   {
    "duration": 11,
    "start_time": "2024-06-18T08:08:11.905Z"
   },
   {
    "duration": 7,
    "start_time": "2024-06-18T08:08:11.918Z"
   },
   {
    "duration": 38,
    "start_time": "2024-06-18T08:08:11.926Z"
   },
   {
    "duration": 9,
    "start_time": "2024-06-18T08:08:11.966Z"
   },
   {
    "duration": 5,
    "start_time": "2024-06-18T08:08:11.977Z"
   },
   {
    "duration": 5,
    "start_time": "2024-06-18T08:08:11.984Z"
   },
   {
    "duration": 17,
    "start_time": "2024-06-18T08:08:11.991Z"
   },
   {
    "duration": 10,
    "start_time": "2024-06-18T08:08:12.010Z"
   },
   {
    "duration": 48,
    "start_time": "2024-06-18T08:08:12.021Z"
   },
   {
    "duration": 15,
    "start_time": "2024-06-18T08:08:12.071Z"
   },
   {
    "duration": 6,
    "start_time": "2024-06-18T08:08:12.087Z"
   },
   {
    "duration": 5,
    "start_time": "2024-06-18T08:08:12.094Z"
   },
   {
    "duration": 5,
    "start_time": "2024-06-18T08:08:12.100Z"
   },
   {
    "duration": 3,
    "start_time": "2024-06-18T08:08:12.106Z"
   },
   {
    "duration": 5,
    "start_time": "2024-06-18T08:08:12.110Z"
   },
   {
    "duration": 10,
    "start_time": "2024-06-18T08:08:12.116Z"
   },
   {
    "duration": 47,
    "start_time": "2024-06-18T08:08:12.127Z"
   },
   {
    "duration": 27,
    "start_time": "2024-06-18T08:08:12.176Z"
   },
   {
    "duration": 15,
    "start_time": "2024-06-18T08:08:12.204Z"
   },
   {
    "duration": 9,
    "start_time": "2024-06-18T08:08:12.221Z"
   },
   {
    "duration": 13,
    "start_time": "2024-06-18T08:08:12.256Z"
   },
   {
    "duration": 11,
    "start_time": "2024-06-18T08:08:12.270Z"
   },
   {
    "duration": 30,
    "start_time": "2024-06-18T08:08:12.282Z"
   },
   {
    "duration": 16,
    "start_time": "2024-06-18T08:08:12.314Z"
   },
   {
    "duration": 15,
    "start_time": "2024-06-18T08:08:12.332Z"
   },
   {
    "duration": 5,
    "start_time": "2024-06-18T08:08:12.348Z"
   },
   {
    "duration": 14,
    "start_time": "2024-06-18T08:08:12.355Z"
   },
   {
    "duration": 4,
    "start_time": "2024-06-18T08:08:12.374Z"
   },
   {
    "duration": 13,
    "start_time": "2024-06-18T08:08:12.380Z"
   },
   {
    "duration": 6,
    "start_time": "2024-06-18T08:08:12.394Z"
   },
   {
    "duration": 21,
    "start_time": "2024-06-18T08:08:12.401Z"
   },
   {
    "duration": 9,
    "start_time": "2024-06-18T08:08:12.424Z"
   },
   {
    "duration": 40,
    "start_time": "2024-06-18T08:08:12.434Z"
   },
   {
    "duration": 6,
    "start_time": "2024-06-18T08:08:12.476Z"
   },
   {
    "duration": 30,
    "start_time": "2024-06-18T08:08:12.484Z"
   },
   {
    "duration": 15,
    "start_time": "2024-06-18T08:08:12.516Z"
   },
   {
    "duration": 15,
    "start_time": "2024-06-18T08:08:12.532Z"
   },
   {
    "duration": 7,
    "start_time": "2024-06-18T08:08:12.548Z"
   },
   {
    "duration": 16,
    "start_time": "2024-06-18T08:08:12.556Z"
   },
   {
    "duration": 50,
    "start_time": "2024-06-18T08:08:12.574Z"
   },
   {
    "duration": 35,
    "start_time": "2024-06-18T08:08:12.625Z"
   },
   {
    "duration": 185,
    "start_time": "2024-06-18T08:08:12.662Z"
   },
   {
    "duration": 158,
    "start_time": "2024-06-18T08:08:12.848Z"
   },
   {
    "duration": 11,
    "start_time": "2024-06-18T08:08:13.008Z"
   },
   {
    "duration": 275,
    "start_time": "2024-06-18T08:08:13.020Z"
   },
   {
    "duration": 288,
    "start_time": "2024-06-18T08:08:13.296Z"
   },
   {
    "duration": 11,
    "start_time": "2024-06-18T08:08:13.585Z"
   },
   {
    "duration": 3,
    "start_time": "2024-06-18T08:08:13.597Z"
   },
   {
    "duration": 12,
    "start_time": "2024-06-18T08:08:13.602Z"
   },
   {
    "duration": 9,
    "start_time": "2024-06-18T08:08:13.616Z"
   },
   {
    "duration": 305,
    "start_time": "2024-06-18T08:08:13.627Z"
   },
   {
    "duration": 321,
    "start_time": "2024-06-18T08:08:13.934Z"
   },
   {
    "duration": 10,
    "start_time": "2024-06-18T08:08:14.257Z"
   },
   {
    "duration": 20,
    "start_time": "2024-06-18T08:08:14.269Z"
   },
   {
    "duration": 7,
    "start_time": "2024-06-18T08:08:14.291Z"
   },
   {
    "duration": 159,
    "start_time": "2024-06-18T08:08:14.300Z"
   },
   {
    "duration": 298,
    "start_time": "2024-06-18T08:08:14.461Z"
   },
   {
    "duration": 180,
    "start_time": "2024-06-18T08:08:14.761Z"
   },
   {
    "duration": 5,
    "start_time": "2024-06-18T08:08:14.942Z"
   },
   {
    "duration": 94,
    "start_time": "2024-06-18T08:08:14.954Z"
   },
   {
    "duration": 225,
    "start_time": "2024-06-18T08:08:15.049Z"
   },
   {
    "duration": 525,
    "start_time": "2024-06-18T11:51:11.913Z"
   },
   {
    "duration": 78,
    "start_time": "2024-06-18T11:51:12.439Z"
   },
   {
    "duration": 34,
    "start_time": "2024-06-18T11:51:12.518Z"
   },
   {
    "duration": 19,
    "start_time": "2024-06-18T11:51:12.554Z"
   },
   {
    "duration": 13,
    "start_time": "2024-06-18T11:51:12.574Z"
   },
   {
    "duration": 8,
    "start_time": "2024-06-18T11:51:12.588Z"
   },
   {
    "duration": 9,
    "start_time": "2024-06-18T11:51:12.597Z"
   },
   {
    "duration": 13,
    "start_time": "2024-06-18T11:51:12.608Z"
   },
   {
    "duration": 3,
    "start_time": "2024-06-18T11:51:12.622Z"
   },
   {
    "duration": 12,
    "start_time": "2024-06-18T11:51:12.627Z"
   },
   {
    "duration": 6,
    "start_time": "2024-06-18T11:51:12.641Z"
   },
   {
    "duration": 37,
    "start_time": "2024-06-18T11:51:12.649Z"
   },
   {
    "duration": 25,
    "start_time": "2024-06-18T11:51:12.687Z"
   },
   {
    "duration": 9,
    "start_time": "2024-06-18T11:51:12.714Z"
   },
   {
    "duration": 5,
    "start_time": "2024-06-18T11:51:12.725Z"
   },
   {
    "duration": 16,
    "start_time": "2024-06-18T11:51:12.732Z"
   },
   {
    "duration": 41,
    "start_time": "2024-06-18T11:51:12.750Z"
   },
   {
    "duration": 8,
    "start_time": "2024-06-18T11:51:12.792Z"
   },
   {
    "duration": 6,
    "start_time": "2024-06-18T11:51:12.801Z"
   },
   {
    "duration": 12,
    "start_time": "2024-06-18T11:51:12.808Z"
   },
   {
    "duration": 7,
    "start_time": "2024-06-18T11:51:12.821Z"
   },
   {
    "duration": 30,
    "start_time": "2024-06-18T11:51:12.829Z"
   },
   {
    "duration": 25,
    "start_time": "2024-06-18T11:51:12.860Z"
   },
   {
    "duration": 4,
    "start_time": "2024-06-18T11:51:12.886Z"
   },
   {
    "duration": 11,
    "start_time": "2024-06-18T11:51:12.891Z"
   },
   {
    "duration": 10,
    "start_time": "2024-06-18T11:51:12.904Z"
   },
   {
    "duration": 4,
    "start_time": "2024-06-18T11:51:12.915Z"
   },
   {
    "duration": 5,
    "start_time": "2024-06-18T11:51:12.923Z"
   },
   {
    "duration": 7,
    "start_time": "2024-06-18T11:51:12.929Z"
   },
   {
    "duration": 15,
    "start_time": "2024-06-18T11:51:12.938Z"
   },
   {
    "duration": 35,
    "start_time": "2024-06-18T11:51:12.954Z"
   },
   {
    "duration": 12,
    "start_time": "2024-06-18T11:51:12.990Z"
   },
   {
    "duration": 7,
    "start_time": "2024-06-18T11:51:13.004Z"
   },
   {
    "duration": 12,
    "start_time": "2024-06-18T11:51:13.013Z"
   },
   {
    "duration": 8,
    "start_time": "2024-06-18T11:51:13.026Z"
   },
   {
    "duration": 7,
    "start_time": "2024-06-18T11:51:13.035Z"
   },
   {
    "duration": 42,
    "start_time": "2024-06-18T11:51:13.044Z"
   },
   {
    "duration": 7,
    "start_time": "2024-06-18T11:51:13.087Z"
   },
   {
    "duration": 5,
    "start_time": "2024-06-18T11:51:13.095Z"
   },
   {
    "duration": 4,
    "start_time": "2024-06-18T11:51:13.101Z"
   },
   {
    "duration": 6,
    "start_time": "2024-06-18T11:51:13.106Z"
   },
   {
    "duration": 3,
    "start_time": "2024-06-18T11:51:13.113Z"
   },
   {
    "duration": 13,
    "start_time": "2024-06-18T11:51:13.117Z"
   },
   {
    "duration": 26,
    "start_time": "2024-06-18T11:51:13.131Z"
   },
   {
    "duration": 8,
    "start_time": "2024-06-18T11:51:13.158Z"
   },
   {
    "duration": 16,
    "start_time": "2024-06-18T11:51:13.183Z"
   },
   {
    "duration": 4,
    "start_time": "2024-06-18T11:51:13.200Z"
   },
   {
    "duration": 18,
    "start_time": "2024-06-18T11:51:13.205Z"
   },
   {
    "duration": 4,
    "start_time": "2024-06-18T11:51:13.224Z"
   },
   {
    "duration": 9,
    "start_time": "2024-06-18T11:51:13.229Z"
   },
   {
    "duration": 6,
    "start_time": "2024-06-18T11:51:13.240Z"
   },
   {
    "duration": 7,
    "start_time": "2024-06-18T11:51:13.247Z"
   },
   {
    "duration": 30,
    "start_time": "2024-06-18T11:51:13.255Z"
   },
   {
    "duration": 16,
    "start_time": "2024-06-18T11:51:13.287Z"
   },
   {
    "duration": 148,
    "start_time": "2024-06-18T11:51:13.304Z"
   },
   {
    "duration": 118,
    "start_time": "2024-06-18T11:51:13.453Z"
   },
   {
    "duration": 15,
    "start_time": "2024-06-18T11:51:13.572Z"
   },
   {
    "duration": 208,
    "start_time": "2024-06-18T11:51:13.589Z"
   },
   {
    "duration": 212,
    "start_time": "2024-06-18T11:51:13.799Z"
   },
   {
    "duration": 9,
    "start_time": "2024-06-18T11:51:14.013Z"
   },
   {
    "duration": 8,
    "start_time": "2024-06-18T11:51:14.023Z"
   },
   {
    "duration": 9,
    "start_time": "2024-06-18T11:51:14.032Z"
   },
   {
    "duration": 9,
    "start_time": "2024-06-18T11:51:14.042Z"
   },
   {
    "duration": 225,
    "start_time": "2024-06-18T11:51:14.052Z"
   },
   {
    "duration": 230,
    "start_time": "2024-06-18T11:51:14.279Z"
   },
   {
    "duration": 7,
    "start_time": "2024-06-18T11:51:14.510Z"
   },
   {
    "duration": 24,
    "start_time": "2024-06-18T11:51:14.519Z"
   },
   {
    "duration": 4,
    "start_time": "2024-06-18T11:51:14.545Z"
   },
   {
    "duration": 140,
    "start_time": "2024-06-18T11:51:14.551Z"
   },
   {
    "duration": 228,
    "start_time": "2024-06-18T11:51:14.692Z"
   },
   {
    "duration": 124,
    "start_time": "2024-06-18T11:51:14.921Z"
   },
   {
    "duration": 3,
    "start_time": "2024-06-18T11:51:15.047Z"
   },
   {
    "duration": 58,
    "start_time": "2024-06-18T11:51:15.052Z"
   },
   {
    "duration": 128,
    "start_time": "2024-06-18T11:51:15.112Z"
   }
  ],
  "colab": {
   "name": "DA+. Сборный проект 1. Шаблон (1).ipynb",
   "provenance": []
  },
  "kernelspec": {
   "display_name": "Python 3 (ipykernel)",
   "language": "python",
   "name": "python3"
  },
  "language_info": {
   "codemirror_mode": {
    "name": "ipython",
    "version": 3
   },
   "file_extension": ".py",
   "mimetype": "text/x-python",
   "name": "python",
   "nbconvert_exporter": "python",
   "pygments_lexer": "ipython3",
   "version": "3.9.5"
  },
  "toc": {
   "base_numbering": 1,
   "nav_menu": {},
   "number_sections": true,
   "sideBar": true,
   "skip_h1_title": true,
   "title_cell": "Table of Contents",
   "title_sidebar": "Contents",
   "toc_cell": false,
   "toc_position": {
    "height": "calc(100% - 180px)",
    "left": "10px",
    "top": "150px",
    "width": "165px"
   },
   "toc_section_display": true,
   "toc_window_display": true
  }
 },
 "nbformat": 4,
 "nbformat_minor": 1
}
