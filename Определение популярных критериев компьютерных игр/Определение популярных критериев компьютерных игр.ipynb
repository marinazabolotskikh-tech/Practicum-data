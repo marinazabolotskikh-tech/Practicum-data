{
 "cells": [
  {
   "cell_type": "markdown",
   "metadata": {},
   "source": [
    "# Определение популярных критериев компьютерных игр"
   ]
  },
  {
   "cell_type": "markdown",
   "metadata": {},
   "source": [
    "**Описание проекта**\n",
    "\n",
    "Интернет-магазин «Стримчик» продаёт компьютерные игры по всему миру. Из открытых источников доступны исторические данные о продажах игр, оценки пользователей и экспертов, жанры и платформы (например, Xbox или PlayStation). Нужно выявить определяющие успешность игры закономерности. Это позволит сделать ставку на потенциально популярный продукт и спланировать рекламные кампании.\n",
    "\n",
    "Перед вами данные до 2016 года (данные могут быть неполными). Представим, что сейчас декабрь 2016 г., и вы планируете кампанию на 2017-й. Нужно отработать принцип работы с данными. Неважно, прогнозируете ли вы продажи на 2017 год по данным 2016-го или же 2027-й — по данным 2026 года.\n",
    "\n",
    "В наборе данных попадается аббревиатура ESRB (Entertainment Software Rating Board) — это ассоциация, определяющая возрастной рейтинг компьютерных игр. ESRB оценивает игровой контент и присваивает ему подходящую возрастную категорию, например, «Для взрослых», «Для детей младшего возраста» или «Для подростков»."
   ]
  },
  {
   "cell_type": "markdown",
   "metadata": {},
   "source": [
    "**Описание данных**\n",
    "\n",
    "- `Name` — название игры\n",
    "- `Platform` — платформа\n",
    "- `Year_of_Release` — год выпуска\n",
    "- `Genre` — жанр игры\n",
    "- `NA_sales` — продажи в Северной Америке (миллионы проданных копий)\n",
    "- `EU_sales` — продажи в Европе (миллионы проданных копий)\n",
    "- `JP_sales` — продажи в Японии (миллионы проданных копий)\n",
    "- `Other_sales` — продажи в других странах (миллионы проданных копий)\n",
    "- `Critic_Score` — оценка критиков (максимум 100)\n",
    "- `User_Score` — оценка пользователей (максимум 10)\n",
    "- `Rating` — рейтинг от организации ESRB (англ. Entertainment Software Rating Board). Эта ассоциация определяет рейтинг компьютерных игр и присваивает им подходящую возрастную категорию."
   ]
  },
  {
   "cell_type": "markdown",
   "metadata": {},
   "source": [
    "## Изучение данных"
   ]
  },
  {
   "cell_type": "markdown",
   "metadata": {},
   "source": [
    "### Загрузка данных"
   ]
  },
  {
   "cell_type": "code",
   "execution_count": 1,
   "metadata": {},
   "outputs": [],
   "source": [
    "import pandas as pd\n",
    "import matplotlib.pyplot as plt\n",
    "import datetime as dt\n",
    "import seaborn as sns\n",
    "import numpy as np\n",
    "import scipy.stats as st\n",
    "\n",
    "pd.set_option('display.max_colwidth', None)"
   ]
  },
  {
   "cell_type": "code",
   "execution_count": 2,
   "metadata": {},
   "outputs": [],
   "source": [
    "df = pd.read_csv ('/datasets/games.csv')"
   ]
  },
  {
   "cell_type": "markdown",
   "metadata": {},
   "source": [
    "### Информация о датафрейме"
   ]
  },
  {
   "cell_type": "code",
   "execution_count": 3,
   "metadata": {},
   "outputs": [
    {
     "data": {
      "text/html": [
       "<div>\n",
       "<style scoped>\n",
       "    .dataframe tbody tr th:only-of-type {\n",
       "        vertical-align: middle;\n",
       "    }\n",
       "\n",
       "    .dataframe tbody tr th {\n",
       "        vertical-align: top;\n",
       "    }\n",
       "\n",
       "    .dataframe thead th {\n",
       "        text-align: right;\n",
       "    }\n",
       "</style>\n",
       "<table border=\"1\" class=\"dataframe\">\n",
       "  <thead>\n",
       "    <tr style=\"text-align: right;\">\n",
       "      <th></th>\n",
       "      <th>Name</th>\n",
       "      <th>Platform</th>\n",
       "      <th>Year_of_Release</th>\n",
       "      <th>Genre</th>\n",
       "      <th>NA_sales</th>\n",
       "      <th>EU_sales</th>\n",
       "      <th>JP_sales</th>\n",
       "      <th>Other_sales</th>\n",
       "      <th>Critic_Score</th>\n",
       "      <th>User_Score</th>\n",
       "      <th>Rating</th>\n",
       "    </tr>\n",
       "  </thead>\n",
       "  <tbody>\n",
       "    <tr>\n",
       "      <th>0</th>\n",
       "      <td>Wii Sports</td>\n",
       "      <td>Wii</td>\n",
       "      <td>2006.0</td>\n",
       "      <td>Sports</td>\n",
       "      <td>41.36</td>\n",
       "      <td>28.96</td>\n",
       "      <td>3.77</td>\n",
       "      <td>8.45</td>\n",
       "      <td>76.0</td>\n",
       "      <td>8</td>\n",
       "      <td>E</td>\n",
       "    </tr>\n",
       "    <tr>\n",
       "      <th>1</th>\n",
       "      <td>Super Mario Bros.</td>\n",
       "      <td>NES</td>\n",
       "      <td>1985.0</td>\n",
       "      <td>Platform</td>\n",
       "      <td>29.08</td>\n",
       "      <td>3.58</td>\n",
       "      <td>6.81</td>\n",
       "      <td>0.77</td>\n",
       "      <td>NaN</td>\n",
       "      <td>NaN</td>\n",
       "      <td>NaN</td>\n",
       "    </tr>\n",
       "    <tr>\n",
       "      <th>2</th>\n",
       "      <td>Mario Kart Wii</td>\n",
       "      <td>Wii</td>\n",
       "      <td>2008.0</td>\n",
       "      <td>Racing</td>\n",
       "      <td>15.68</td>\n",
       "      <td>12.76</td>\n",
       "      <td>3.79</td>\n",
       "      <td>3.29</td>\n",
       "      <td>82.0</td>\n",
       "      <td>8.3</td>\n",
       "      <td>E</td>\n",
       "    </tr>\n",
       "    <tr>\n",
       "      <th>3</th>\n",
       "      <td>Wii Sports Resort</td>\n",
       "      <td>Wii</td>\n",
       "      <td>2009.0</td>\n",
       "      <td>Sports</td>\n",
       "      <td>15.61</td>\n",
       "      <td>10.93</td>\n",
       "      <td>3.28</td>\n",
       "      <td>2.95</td>\n",
       "      <td>80.0</td>\n",
       "      <td>8</td>\n",
       "      <td>E</td>\n",
       "    </tr>\n",
       "    <tr>\n",
       "      <th>4</th>\n",
       "      <td>Pokemon Red/Pokemon Blue</td>\n",
       "      <td>GB</td>\n",
       "      <td>1996.0</td>\n",
       "      <td>Role-Playing</td>\n",
       "      <td>11.27</td>\n",
       "      <td>8.89</td>\n",
       "      <td>10.22</td>\n",
       "      <td>1.00</td>\n",
       "      <td>NaN</td>\n",
       "      <td>NaN</td>\n",
       "      <td>NaN</td>\n",
       "    </tr>\n",
       "  </tbody>\n",
       "</table>\n",
       "</div>"
      ],
      "text/plain": [
       "                       Name Platform  Year_of_Release         Genre  NA_sales  \\\n",
       "0                Wii Sports      Wii           2006.0        Sports     41.36   \n",
       "1         Super Mario Bros.      NES           1985.0      Platform     29.08   \n",
       "2            Mario Kart Wii      Wii           2008.0        Racing     15.68   \n",
       "3         Wii Sports Resort      Wii           2009.0        Sports     15.61   \n",
       "4  Pokemon Red/Pokemon Blue       GB           1996.0  Role-Playing     11.27   \n",
       "\n",
       "   EU_sales  JP_sales  Other_sales  Critic_Score User_Score Rating  \n",
       "0     28.96      3.77         8.45          76.0          8      E  \n",
       "1      3.58      6.81         0.77           NaN        NaN    NaN  \n",
       "2     12.76      3.79         3.29          82.0        8.3      E  \n",
       "3     10.93      3.28         2.95          80.0          8      E  \n",
       "4      8.89     10.22         1.00           NaN        NaN    NaN  "
      ]
     },
     "execution_count": 3,
     "metadata": {},
     "output_type": "execute_result"
    }
   ],
   "source": [
    "df.head()"
   ]
  },
  {
   "cell_type": "code",
   "execution_count": 4,
   "metadata": {},
   "outputs": [
    {
     "name": "stdout",
     "output_type": "stream",
     "text": [
      "<class 'pandas.core.frame.DataFrame'>\n",
      "RangeIndex: 16715 entries, 0 to 16714\n",
      "Data columns (total 11 columns):\n",
      " #   Column           Non-Null Count  Dtype  \n",
      "---  ------           --------------  -----  \n",
      " 0   Name             16713 non-null  object \n",
      " 1   Platform         16715 non-null  object \n",
      " 2   Year_of_Release  16446 non-null  float64\n",
      " 3   Genre            16713 non-null  object \n",
      " 4   NA_sales         16715 non-null  float64\n",
      " 5   EU_sales         16715 non-null  float64\n",
      " 6   JP_sales         16715 non-null  float64\n",
      " 7   Other_sales      16715 non-null  float64\n",
      " 8   Critic_Score     8137 non-null   float64\n",
      " 9   User_Score       10014 non-null  object \n",
      " 10  Rating           9949 non-null   object \n",
      "dtypes: float64(6), object(5)\n",
      "memory usage: 1.4+ MB\n"
     ]
    }
   ],
   "source": [
    "df.info()"
   ]
  },
  {
   "cell_type": "markdown",
   "metadata": {},
   "source": [
    "В ходе изучения информации о датафрейме выявлена необходимость приведения названий столбцов к нижнему регистру, устранения пропусков и приведения данных к нужным типам."
   ]
  },
  {
   "cell_type": "markdown",
   "metadata": {},
   "source": [
    "## Подготовка данных"
   ]
  },
  {
   "cell_type": "markdown",
   "metadata": {},
   "source": [
    "### Приведение названий столбцов к нижнему регистру"
   ]
  },
  {
   "cell_type": "code",
   "execution_count": 5,
   "metadata": {},
   "outputs": [
    {
     "data": {
      "text/plain": [
       "Index(['name', 'platform', 'year_of_release', 'genre', 'na_sales', 'eu_sales',\n",
       "       'jp_sales', 'other_sales', 'critic_score', 'user_score', 'rating'],\n",
       "      dtype='object')"
      ]
     },
     "execution_count": 5,
     "metadata": {},
     "output_type": "execute_result"
    }
   ],
   "source": [
    "df.columns = df.columns.str.lower()\n",
    "df.columns"
   ]
  },
  {
   "cell_type": "markdown",
   "metadata": {},
   "source": [
    "### Обработка пропусков"
   ]
  },
  {
   "cell_type": "markdown",
   "metadata": {},
   "source": [
    "В столбцах `name`, `year_of_release`, `genre`, `critic_score`, `user_score`, `rating` имеются пропущенные данные. \n",
    "В столбцах `year_of_release`, `critic_score` и `user_score` пропущенные значения обозначим как -1, в `rating` заменим на unknown, а строки с пропусками в столбцах `name` и `genre` удалим."
   ]
  },
  {
   "cell_type": "code",
   "execution_count": 6,
   "metadata": {},
   "outputs": [],
   "source": [
    "#заполнение пропусков на unknown в rating\n",
    "df['rating'] = df['rating'].fillna('unknown')"
   ]
  },
  {
   "cell_type": "code",
   "execution_count": 7,
   "metadata": {},
   "outputs": [],
   "source": [
    "#удаление строк с пропусками в name и genre\n",
    "df.dropna(subset=['name', 'genre'], inplace=True)"
   ]
  },
  {
   "cell_type": "code",
   "execution_count": 8,
   "metadata": {},
   "outputs": [
    {
     "data": {
      "text/plain": [
       "array(['8', nan, '8.3', '8.5', '6.6', '8.4', '8.6', '7.7', '6.3', '7.4',\n",
       "       '8.2', '9', '7.9', '8.1', '8.7', '7.1', '3.4', '5.3', '4.8', '3.2',\n",
       "       '8.9', '6.4', '7.8', '7.5', '2.6', '7.2', '9.2', '7', '7.3', '4.3',\n",
       "       '7.6', '5.7', '5', '9.1', '6.5', 'tbd', '8.8', '6.9', '9.4', '6.8',\n",
       "       '6.1', '6.7', '5.4', '4', '4.9', '4.5', '9.3', '6.2', '4.2', '6',\n",
       "       '3.7', '4.1', '5.8', '5.6', '5.5', '4.4', '4.6', '5.9', '3.9',\n",
       "       '3.1', '2.9', '5.2', '3.3', '4.7', '5.1', '3.5', '2.5', '1.9', '3',\n",
       "       '2.7', '2.2', '2', '9.5', '2.1', '3.6', '2.8', '1.8', '3.8', '0',\n",
       "       '1.6', '9.6', '2.4', '1.7', '1.1', '0.3', '1.5', '0.7', '1.2',\n",
       "       '2.3', '0.5', '1.3', '0.2', '0.6', '1.4', '0.9', '1', '9.7'],\n",
       "      dtype=object)"
      ]
     },
     "execution_count": 8,
     "metadata": {},
     "output_type": "execute_result"
    }
   ],
   "source": [
    "df.user_score.unique()"
   ]
  },
  {
   "cell_type": "markdown",
   "metadata": {},
   "source": [
    "TBD (to be determined) означает, что оценка еще не проставлена и появится позже. Заменим эти значения на Nan."
   ]
  },
  {
   "cell_type": "code",
   "execution_count": 9,
   "metadata": {},
   "outputs": [],
   "source": [
    "df['year_of_release'] = df['year_of_release'].fillna(-1)\n",
    "df['critic_score'] = df['critic_score'].fillna(-1)\n",
    "df['user_score'] = df['user_score'].fillna(-1)"
   ]
  },
  {
   "cell_type": "code",
   "execution_count": 10,
   "metadata": {},
   "outputs": [],
   "source": [
    "df['user_score'] = df['user_score'].replace('tbd', np.nan)"
   ]
  },
  {
   "cell_type": "markdown",
   "metadata": {},
   "source": [
    "В столбце `rating` пропущено много значений. Для того чтобы не потерять данные, пропускам присвоено значение unknown.\n",
    "\n",
    "В столбцах `name` и `genre`пропуски только в двух строчках, поэтому строки с пропусками удалены.\n",
    "\n",
    "В столбце `user_score` обнаружено значение TBD - его заменили на Nan.\n",
    "В столбцах `year_of_release`, `critic_score` и `user_score` пропущенные значения обозначили как -1, чтобы не потерять важную информацию. \n",
    "\n",
    "Пропуски могли появиться из-за сбора данных из различных источников."
   ]
  },
  {
   "cell_type": "markdown",
   "metadata": {},
   "source": [
    "### Преобразование данных в нужные типы"
   ]
  },
  {
   "cell_type": "code",
   "execution_count": 11,
   "metadata": {},
   "outputs": [],
   "source": [
    "df['year_of_release'] = df['year_of_release'].astype('int')"
   ]
  },
  {
   "cell_type": "code",
   "execution_count": 12,
   "metadata": {},
   "outputs": [
    {
     "data": {
      "text/plain": [
       "array([76., -1., 82., 80., 89., 58., 87., 91., 61., 97., 95., 77., 88.,\n",
       "       83., 94., 93., 85., 86., 98., 96., 90., 84., 73., 74., 78., 92.,\n",
       "       71., 72., 68., 62., 49., 67., 81., 66., 56., 79., 70., 59., 64.,\n",
       "       75., 60., 63., 69., 50., 25., 42., 44., 55., 48., 57., 29., 47.,\n",
       "       65., 54., 20., 53., 37., 38., 33., 52., 30., 32., 43., 45., 51.,\n",
       "       40., 46., 39., 34., 35., 41., 36., 28., 31., 27., 26., 19., 23.,\n",
       "       24., 21., 17., 22., 13.])"
      ]
     },
     "execution_count": 12,
     "metadata": {},
     "output_type": "execute_result"
    }
   ],
   "source": [
    "df.critic_score.unique()"
   ]
  },
  {
   "cell_type": "code",
   "execution_count": 13,
   "metadata": {},
   "outputs": [],
   "source": [
    "df['critic_score'] = df['critic_score'].astype('int32')"
   ]
  },
  {
   "cell_type": "code",
   "execution_count": 14,
   "metadata": {},
   "outputs": [],
   "source": [
    "df['user_score'] = pd.to_numeric(df['user_score'])"
   ]
  },
  {
   "cell_type": "markdown",
   "metadata": {},
   "source": [
    "Выполнена замена типов данных в столбцах `year_of_release` и `critic_score` на целочисленный, в `user_score` на float."
   ]
  },
  {
   "cell_type": "markdown",
   "metadata": {},
   "source": [
    "### Cуммарные продажи во всех регионах"
   ]
  },
  {
   "cell_type": "code",
   "execution_count": 15,
   "metadata": {},
   "outputs": [],
   "source": [
    "#df['sales_total'] = df['na_sales'] + df['eu_sales'] + df['jp_sales'] + df['other_sales']\n",
    "df['sales_total'] = df[['na_sales', 'eu_sales', 'jp_sales', 'other_sales']].sum(axis=1)"
   ]
  },
  {
   "cell_type": "markdown",
   "metadata": {},
   "source": [
    "В результате подготовки данных:\n",
    "- все названия столбцов приведены к нижнему регистру\n",
    "- обработаны пропуски в столбцах `rating` (обозначены как unknown - чтобы не потерять данные), `name` и `genre` (пропуски удалены - всего 2 пропуска, которые не повлияют на расчеты), `year_of_release`, `critic_score` и `user_score`  (обозначены как -1 - чтобы не потерять данные)\n",
    "- преобразованы типы данных в столбцах `year_of_release` и `critic_score` на целочисленный, в `user_score` на float\n",
    "- расчитаны суммарные продажи во всех регионах."
   ]
  },
  {
   "cell_type": "markdown",
   "metadata": {},
   "source": [
    "## 3 Исследовательский анализ данных"
   ]
  },
  {
   "cell_type": "markdown",
   "metadata": {},
   "source": [
    "### Исследование кол-ва игр"
   ]
  },
  {
   "cell_type": "code",
   "execution_count": 16,
   "metadata": {},
   "outputs": [
    {
     "data": {
      "image/png": "[encoded data removed]",
      "text/plain": [
       "<Figure size 1080x360 with 1 Axes>"
      ]
     },
     "metadata": {
      "needs_background": "light"
     },
     "output_type": "display_data"
    }
   ],
   "source": [
    "game_sales = df.query('year_of_release != -1').pivot_table(index='year_of_release', values='name', aggfunc='count')\n",
    "\n",
    "plt.figure(figsize=(15, 5))\n",
    "\n",
    "sns.barplot(data=game_sales, x=game_sales.index, y='name', color='blue')\n",
    "\n",
    "plt.title('Количество игр, вышедших по годам')\n",
    "plt.xlabel('Год')\n",
    "plt.ylabel('Количество игр, шт')\n",
    "\n",
    "plt.xticks(rotation=45)\n",
    "plt.show()"
   ]
  },
  {
   "cell_type": "markdown",
   "metadata": {},
   "source": [
    "Игры стали выпускать в 1980 году. с 2001 года начался активный рост количества выпускаемых игр. Больше всего игр было выпущено в 2008 году. После пика количество игр стало снижаться и в 2012 осталось на уровне 600 шт. "
   ]
  },
  {
   "cell_type": "markdown",
   "metadata": {},
   "source": [
    "### Исследование продаж по платформам"
   ]
  },
  {
   "cell_type": "code",
   "execution_count": 17,
   "metadata": {},
   "outputs": [
    {
     "data": {
      "image/png": "[encoded data removed]",
      "text/plain": [
       "<Figure size 1080x360 with 1 Axes>"
      ]
     },
     "metadata": {
      "needs_background": "light"
     },
     "output_type": "display_data"
    }
   ],
   "source": [
    "platform_sales = (df.pivot_table(index='platform', values='sales_total', aggfunc='sum').\n",
    "sort_values('sales_total', ascending=False))\n",
    "\n",
    "plt.figure(figsize=(15, 5))\n",
    "\n",
    "sns.barplot(data=platform_sales, x=platform_sales.index, y='sales_total', color='blue')\n",
    "\n",
    "plt.title('Продажи по платформам')\n",
    "plt.xlabel('Платформы')\n",
    "plt.ylabel('Общие продажи')\n",
    "plt.show()"
   ]
  },
  {
   "cell_type": "markdown",
   "metadata": {},
   "source": [
    "Наибольшие продажи у платформ: PS2, X360, PS3, Wii, DS и PS. Исследуем их подробнее."
   ]
  },
  {
   "cell_type": "markdown",
   "metadata": {},
   "source": [
    "#### Исследование продаж по платформам с наибольшими суммарными продажами за весь период"
   ]
  },
  {
   "cell_type": "code",
   "execution_count": 18,
   "metadata": {},
   "outputs": [
    {
     "name": "stdout",
     "output_type": "stream",
     "text": [
      "PS2\n"
     ]
    },
    {
     "data": {
      "image/png": "[encoded data removed]",
      "text/plain": [
       "<Figure size 432x288 with 1 Axes>"
      ]
     },
     "metadata": {
      "needs_background": "light"
     },
     "output_type": "display_data"
    },
    {
     "name": "stdout",
     "output_type": "stream",
     "text": [
      "X360\n"
     ]
    },
    {
     "data": {
      "image/png": "[encoded data removed]",
      "text/plain": [
       "<Figure size 432x288 with 1 Axes>"
      ]
     },
     "metadata": {
      "needs_background": "light"
     },
     "output_type": "display_data"
    },
    {
     "name": "stdout",
     "output_type": "stream",
     "text": [
      "PS3\n"
     ]
    },
    {
     "data": {
      "image/png": "[encoded data removed]",
      "text/plain": [
       "<Figure size 432x288 with 1 Axes>"
      ]
     },
     "metadata": {
      "needs_background": "light"
     },
     "output_type": "display_data"
    },
    {
     "name": "stdout",
     "output_type": "stream",
     "text": [
      "Wii\n"
     ]
    },
    {
     "data": {
      "image/png": "[encoded data removed]",
      "text/plain": [
       "<Figure size 432x288 with 1 Axes>"
      ]
     },
     "metadata": {
      "needs_background": "light"
     },
     "output_type": "display_data"
    },
    {
     "name": "stdout",
     "output_type": "stream",
     "text": [
      "DS\n"
     ]
    },
    {
     "data": {
      "image/png": "[encoded data removed]",
      "text/plain": [
       "<Figure size 432x288 with 1 Axes>"
      ]
     },
     "metadata": {
      "needs_background": "light"
     },
     "output_type": "display_data"
    },
    {
     "name": "stdout",
     "output_type": "stream",
     "text": [
      "PS\n"
     ]
    },
    {
     "data": {
      "image/png": "[encoded data removed]",
      "text/plain": [
       "<Figure size 432x288 with 1 Axes>"
      ]
     },
     "metadata": {
      "needs_background": "light"
     },
     "output_type": "display_data"
    }
   ],
   "source": [
    "for platform in platform_sales.index[:6]:\n",
    "    print(platform)\n",
    "    (df\n",
    "     .query('platform == @platform')\n",
    "     .pivot_table(index='year_of_release', values='sales_total', aggfunc='sum')\n",
    "     .plot(kind='bar')\n",
    "    )\n",
    "    plt.show()"
   ]
  },
  {
   "cell_type": "markdown",
   "metadata": {},
   "source": [
    "Популярные платформы в среднем живут 10 лет, они достигают пика за 5 лет, а затем их продажи снижаются и достигают минимума."
   ]
  },
  {
   "cell_type": "markdown",
   "metadata": {},
   "source": [
    "### Выбор актуального периода"
   ]
  },
  {
   "cell_type": "markdown",
   "metadata": {},
   "source": [
    "Сфера видеоигр быстро меняется, поэтому актуальный период для анализа - последние 2 года (с 2015).\n",
    "Будем проводить дальнейшие исследования с учетом данного ограничения периода."
   ]
  },
  {
   "cell_type": "code",
   "execution_count": 19,
   "metadata": {},
   "outputs": [],
   "source": [
    "df_actual = df[df['year_of_release'] > 2014]"
   ]
  },
  {
   "cell_type": "markdown",
   "metadata": {},
   "source": [
    "### Платформы - лидиры по продажам с 2015 года"
   ]
  },
  {
   "cell_type": "code",
   "execution_count": 20,
   "metadata": {},
   "outputs": [
    {
     "data": {
      "image/png": "[encoded data removed]",
      "text/plain": [
       "<Figure size 1080x360 with 1 Axes>"
      ]
     },
     "metadata": {
      "needs_background": "light"
     },
     "output_type": "display_data"
    }
   ],
   "source": [
    "actual_platform_sales = (df_actual.pivot_table(index='platform', values='sales_total', aggfunc='sum').\n",
    "sort_values('sales_total', ascending=False)\n",
    ")\n",
    "plt.figure(figsize=(15, 5))\n",
    "\n",
    "sns.barplot(data = actual_platform_sales, x = actual_platform_sales.index, y = 'sales_total', color = 'blue')\n",
    "\n",
    "plt.title('Продажи по платформам с 2015 года')\n",
    "plt.xlabel('Платформы')\n",
    "plt.ylabel('Общие продажи')\n",
    "plt.show()"
   ]
  },
  {
   "cell_type": "markdown",
   "metadata": {},
   "source": [
    "После выбора актуального периода список популярных платформ изменился. Наибольшие продажи с 2015 года у платформ: PS4, Xone и 3DS."
   ]
  },
  {
   "cell_type": "markdown",
   "metadata": {},
   "source": [
    "#### Исследование продаж по платформам с наибольшими суммарными продажами c 2015 года"
   ]
  },
  {
   "cell_type": "code",
   "execution_count": 21,
   "metadata": {
    "scrolled": true
   },
   "outputs": [
    {
     "name": "stdout",
     "output_type": "stream",
     "text": [
      "PS4\n"
     ]
    },
    {
     "data": {
      "image/png": "[encoded data removed]",
      "text/plain": [
       "<Figure size 432x288 with 1 Axes>"
      ]
     },
     "metadata": {
      "needs_background": "light"
     },
     "output_type": "display_data"
    },
    {
     "name": "stdout",
     "output_type": "stream",
     "text": [
      "XOne\n"
     ]
    },
    {
     "data": {
      "image/png": "[encoded data removed]",
      "text/plain": [
       "<Figure size 432x288 with 1 Axes>"
      ]
     },
     "metadata": {
      "needs_background": "light"
     },
     "output_type": "display_data"
    },
    {
     "name": "stdout",
     "output_type": "stream",
     "text": [
      "3DS\n"
     ]
    },
    {
     "data": {
      "image/png": "[encoded data removed]",
      "text/plain": [
       "<Figure size 432x288 with 1 Axes>"
      ]
     },
     "metadata": {
      "needs_background": "light"
     },
     "output_type": "display_data"
    },
    {
     "name": "stdout",
     "output_type": "stream",
     "text": [
      "WiiU\n"
     ]
    },
    {
     "data": {
      "image/png": "[encoded data removed]",
      "text/plain": [
       "<Figure size 432x288 with 1 Axes>"
      ]
     },
     "metadata": {
      "needs_background": "light"
     },
     "output_type": "display_data"
    },
    {
     "name": "stdout",
     "output_type": "stream",
     "text": [
      "PS3\n"
     ]
    },
    {
     "data": {
      "image/png": "[encoded data removed]",
      "text/plain": [
       "<Figure size 432x288 with 1 Axes>"
      ]
     },
     "metadata": {
      "needs_background": "light"
     },
     "output_type": "display_data"
    },
    {
     "name": "stdout",
     "output_type": "stream",
     "text": [
      "PC\n"
     ]
    },
    {
     "data": {
      "image/png": "[encoded data removed]",
      "text/plain": [
       "<Figure size 432x288 with 1 Axes>"
      ]
     },
     "metadata": {
      "needs_background": "light"
     },
     "output_type": "display_data"
    }
   ],
   "source": [
    "for platform in actual_platform_sales.index[:6]:\n",
    "    print(platform)\n",
    "    (df\n",
    "     .query('platform == @platform')\n",
    "     .pivot_table(index='year_of_release', values='sales_total', aggfunc='sum')\n",
    "     .plot(kind='bar')\n",
    "    )\n",
    "    plt.show()"
   ]
  },
  {
   "cell_type": "markdown",
   "metadata": {},
   "source": [
    "Все платформы показывают снижение продаж к 2016 году. Потенциально прибыльными из них могут быть PS4, XOne и WiiU."
   ]
  },
  {
   "cell_type": "markdown",
   "metadata": {},
   "source": [
    "### График «ящик с усами» по глобальным продажам игр в разбивке по перспективным платформам"
   ]
  },
  {
   "cell_type": "code",
   "execution_count": 22,
   "metadata": {},
   "outputs": [
    {
     "data": {
      "image/png": "[encoded data removed]",
      "text/plain": [
       "<Figure size 1080x360 with 1 Axes>"
      ]
     },
     "metadata": {
      "needs_background": "light"
     },
     "output_type": "display_data"
    }
   ],
   "source": [
    "filtered_data = df_actual[df_actual['platform'].isin(['PS4', 'XOne', 'WiiU'])]\n",
    "\n",
    "plt.figure(figsize=(15, 5))\n",
    "sns.boxplot(data=filtered_data, x='platform', y='sales_total')\n",
    "\n",
    "plt.title('Распределение продаж для перспективных платформ PS4 и XOne и WiiU')\n",
    "plt.xlabel('Платформы')\n",
    "plt.ylabel('Общие продажи')\n",
    "plt.ylim(0, 3)\n",
    "plt.show()"
   ]
  },
  {
   "cell_type": "markdown",
   "metadata": {},
   "source": [
    "Построила график \"ящик с усами\" для перспективных платформ - PS4 и XOne и WiiU. \n",
    "Медиана продаж у всех примерно одинакова (0,15), но  WiiU продается немного лучше. Большая часть значений продаж у всех плафторм выше медианы.\n"
   ]
  },
  {
   "cell_type": "markdown",
   "metadata": {},
   "source": [
    "### Влияние на продажи внутри отзывов пользователей и критиков внутри перспективных платформ PS4 и XOne и WiiU"
   ]
  },
  {
   "cell_type": "code",
   "execution_count": 23,
   "metadata": {},
   "outputs": [
    {
     "name": "stdout",
     "output_type": "stream",
     "text": [
      "              critic_score  sales_total  user_score\n",
      "critic_score      1.000000     0.180980    0.904883\n",
      "sales_total       0.180980     1.000000    0.068805\n",
      "user_score        0.904883     0.068805    1.000000\n"
     ]
    },
    {
     "data": {
      "image/png": "[encoded data removed]",
      "text/plain": [
       "<Figure size 648x648 with 9 Axes>"
      ]
     },
     "metadata": {
      "needs_background": "light"
     },
     "output_type": "display_data"
    }
   ],
   "source": [
    "data_ps4 = df_actual[df_actual.platform == \"PS4\"]\n",
    "data_ps4_matrix = pd.pivot_table(data_ps4, index='name', values=['sales_total', 'critic_score', 'user_score'])\n",
    "pd.plotting.scatter_matrix(data_ps4_matrix, figsize=(9, 9), alpha=0.8, diagonal='kde')\n",
    "\n",
    "correlation_matrix = data_ps4_matrix.corr()\n",
    "print(correlation_matrix)\n",
    "plt.show()"
   ]
  },
  {
   "cell_type": "code",
   "execution_count": 24,
   "metadata": {},
   "outputs": [
    {
     "name": "stdout",
     "output_type": "stream",
     "text": [
      "              critic_score  sales_total  user_score\n",
      "critic_score      1.000000     0.226812    0.765440\n",
      "sales_total       0.226812     1.000000    0.018937\n",
      "user_score        0.765440     0.018937    1.000000\n"
     ]
    },
    {
     "data": {
      "image/png": "[encoded data removed]",
      "text/plain": [
       "<Figure size 648x648 with 9 Axes>"
      ]
     },
     "metadata": {
      "needs_background": "light"
     },
     "output_type": "display_data"
    }
   ],
   "source": [
    "data_ps3 = df_actual[df_actual.platform == \"XOne\"]\n",
    "data_ps3_matrix = pd.pivot_table(data_ps3, index='name', values=['sales_total', 'critic_score', 'user_score'])\n",
    "pd.plotting.scatter_matrix(data_ps3_matrix, figsize=(9, 9), alpha=0.8, diagonal='kde')\n",
    "\n",
    "correlation_matrix = data_ps3_matrix.corr()\n",
    "print(correlation_matrix)\n",
    "plt.show()"
   ]
  },
  {
   "cell_type": "code",
   "execution_count": 25,
   "metadata": {},
   "outputs": [
    {
     "name": "stdout",
     "output_type": "stream",
     "text": [
      "              critic_score  sales_total  user_score\n",
      "critic_score      1.000000     0.366825    0.904242\n",
      "sales_total       0.366825     1.000000    0.318253\n",
      "user_score        0.904242     0.318253    1.000000\n"
     ]
    },
    {
     "data": {
      "image/png": "[encoded data removed]",
      "text/plain": [
       "<Figure size 648x648 with 9 Axes>"
      ]
     },
     "metadata": {
      "needs_background": "light"
     },
     "output_type": "display_data"
    }
   ],
   "source": [
    "data_x360 = df_actual[df_actual.platform == \"WiiU\"]\n",
    "data_x360_matrix = pd.pivot_table(data_x360, index='name', values=['sales_total', 'critic_score', 'user_score'])\n",
    "pd.plotting.scatter_matrix(data_x360_matrix, figsize=(9, 9), alpha=0.8, diagonal='kde')\n",
    "\n",
    "correlation_matrix = data_x360_matrix.corr()\n",
    "print(correlation_matrix)\n",
    "plt.show()"
   ]
  },
  {
   "cell_type": "markdown",
   "metadata": {},
   "source": [
    "Значительной зависимости продаж от отзывов нет, но оценки критиков учитывают немного выше, чем от пользователей."
   ]
  },
  {
   "cell_type": "markdown",
   "metadata": {},
   "source": [
    " ### Общее распределение игр по жанрам"
   ]
  },
  {
   "cell_type": "code",
   "execution_count": 26,
   "metadata": {},
   "outputs": [
    {
     "data": {
      "image/png": "[encoded data removed]",
      "text/plain": [
       "<Figure size 1080x360 with 1 Axes>"
      ]
     },
     "metadata": {
      "needs_background": "light"
     },
     "output_type": "display_data"
    }
   ],
   "source": [
    "genre_sales = (df_actual.pivot_table(index='genre', values='sales_total', aggfunc='sum')\n",
    "               .sort_values('sales_total', ascending=False))\n",
    "plt.figure(figsize=(15, 5))\n",
    "\n",
    "sns.barplot(data = genre_sales, x = genre_sales.index, y = 'sales_total', color = 'blue')\n",
    "\n",
    "plt.title('Продажи по жанрам с 2015 года')\n",
    "plt.xlabel('Жанр')\n",
    "plt.ylabel('Общие продажи')\n",
    "plt.show()"
   ]
  },
  {
   "cell_type": "code",
   "execution_count": 27,
   "metadata": {},
   "outputs": [
    {
     "data": {
      "image/png": "[encoded data removed]",
      "text/plain": [
       "<Figure size 1080x360 with 1 Axes>"
      ]
     },
     "metadata": {
      "needs_background": "light"
     },
     "output_type": "display_data"
    }
   ],
   "source": [
    "plt.figure(figsize=(15, 5))\n",
    "sns.boxplot(data=df_actual, x='genre', y='sales_total')\n",
    "\n",
    "plt.title('Продажи по жанрам с 2015 года')\n",
    "plt.xlabel('Платформы')\n",
    "plt.ylabel('Общие продажи')\n",
    "plt.ylim(0, 4)\n",
    "plt.show()"
   ]
  },
  {
   "cell_type": "markdown",
   "metadata": {},
   "source": [
    "Больше всего продано игр в жанре Action, остальные жанры значительно отстают, но при этом сумма продаж наибольшая у игр в жанрах Shooter, Action и Sports.  \n",
    "    \n",
    "Если посмотреть на медианные продажи, то наибольшая медиана продаж у игр в жанре Shooter, т. е. этот жанр самый привлекательный для продаж.\n",
    " "
   ]
  },
  {
   "cell_type": "markdown",
   "metadata": {},
   "source": [
    "В ходе исследовательского анализа сделаны следующие выводы:\n",
    "\n",
    "- Игры стали выпускать в 1980 году, с 2001 года начался активный рост количества выпускаемых игр. Больше всего игр было выпущено в 2008 году. После пика количество игр стало снижаться и в 2012 осталось на уровне 600 шт. \n",
    "- Наибольшие продажи игр на платформах: PS2, X360, PS3, Wii, DS и PS за весь период.\n",
    "- Популярные платформы в среднем живут 10 лет, они достигают пика за 5 лет, а затем их продажи снижаются и достигают минимума.\n",
    "- Наибольшие продажи с 2015 года у платформ: PS4, Xone и 3DS. Все платформы показывают снижение продаж к 2016 году. Потенциально прибыльными из них могут быть PS4, XOne и WiiU.\n",
    "- Значительной зависимости продаж от отзывов нет, но оценки критиков учитывают немного выше, чем от пользователей.\n",
    "- Наибольшая медиана продаж у игр в жанре Shooter, т. е. этот жанр самый привлекательный для продаж."
   ]
  },
  {
   "cell_type": "markdown",
   "metadata": {},
   "source": [
    "## Портрет пользователя каждого региона"
   ]
  },
  {
   "cell_type": "markdown",
   "metadata": {},
   "source": [
    "### Самые популярные платформы (топ-5)"
   ]
  },
  {
   "cell_type": "code",
   "execution_count": 28,
   "metadata": {},
   "outputs": [],
   "source": [
    "na_platform = df_actual.groupby('platform')['na_sales'].agg(na='sum').nlargest(5, 'na').reset_index()\n",
    "eu_platform = df_actual.groupby('platform')['eu_sales'].agg(eu='sum').nlargest(5, 'eu').reset_index()\n",
    "jp_platform = df_actual.groupby('platform')['jp_sales'].agg(jp='sum').nlargest(5, 'jp').reset_index()"
   ]
  },
  {
   "cell_type": "code",
   "execution_count": 29,
   "metadata": {},
   "outputs": [
    {
     "data": {
      "image/png": "[encoded data removed]",
      "text/plain": [
       "<Figure size 1080x360 with 3 Axes>"
      ]
     },
     "metadata": {
      "needs_background": "light"
     },
     "output_type": "display_data"
    }
   ],
   "source": [
    "fig, ax = plt.subplots(1, 3, figsize=(15, 5))\n",
    "fig.suptitle('Продажи по платформам в разрезе рынков')\n",
    "\n",
    "sns.barplot(y='na', x='platform', data=na_platform, ax=ax[0])\n",
    "ax[0].set_title('Северная Америка')\n",
    "ax[0].set_ylabel('Продажи, млн.шт.')\n",
    "ax[0].set_xlabel('Платформа')\n",
    "\n",
    "sns.barplot(y='eu', x='platform', data=eu_platform, ax=ax[1])\n",
    "ax[1].set_title('Европа')\n",
    "ax[1].set_ylabel('Продажи, млн.шт.')\n",
    "ax[1].set_xlabel('Платформа')\n",
    "\n",
    "sns.barplot(y='jp', x='platform', data=jp_platform, ax=ax[2])\n",
    "ax[2].set_title('Япония')\n",
    "ax[2].set_ylabel('Продажи, млн.шт.')\n",
    "ax[2].set_xlabel('Платформа')\n",
    "plt.show()"
   ]
  },
  {
   "cell_type": "markdown",
   "metadata": {},
   "source": [
    "В Северной Америке и Европе лидер PS4. В Японии значительно лидирует 3DS, на втором месте находится PS4. "
   ]
  },
  {
   "cell_type": "markdown",
   "metadata": {},
   "source": [
    "### Самые популярные жанры (топ-5)"
   ]
  },
  {
   "cell_type": "code",
   "execution_count": 30,
   "metadata": {},
   "outputs": [],
   "source": [
    "# Группировка данных ТОП5 жанров по продажам в разрезе рынков\n",
    "na_genres = df_actual.groupby('genre')['na_sales'].agg(na='sum').nlargest(5, 'na').reset_index()\n",
    "eu_genres = df_actual.groupby('genre')['eu_sales'].agg(eu='sum').nlargest(5, 'eu').reset_index()\n",
    "jp_genres = df_actual.groupby('genre')['jp_sales'].agg(jp='sum').nlargest(5, 'jp').reset_index()"
   ]
  },
  {
   "cell_type": "code",
   "execution_count": 31,
   "metadata": {},
   "outputs": [
    {
     "data": {
      "image/png": "[encoded data removed]",
      "text/plain": [
       "<Figure size 1440x360 with 3 Axes>"
      ]
     },
     "metadata": {
      "needs_background": "light"
     },
     "output_type": "display_data"
    }
   ],
   "source": [
    "fig, ax = plt.subplots(1, 3, figsize=(20, 5))\n",
    "fig.suptitle('Продажи по жанрам в разрезе рынков')\n",
    "\n",
    "sns.barplot(y='na', x='genre', data=na_genres, ax=ax[0])\n",
    "ax[0].set_title('Северная Америка')\n",
    "ax[0].set_ylabel('Продажи, млн.шт.')\n",
    "ax[0].set_xlabel('Жанр')\n",
    "\n",
    "sns.barplot(y='eu', x='genre', data=eu_genres, ax=ax[1])\n",
    "ax[1].set_title('Европа')\n",
    "ax[1].set_ylabel('Продажи, млн.шт.')\n",
    "ax[1].set_xlabel('Жанр')\n",
    "\n",
    "sns.barplot(y='jp', x='genre', data=jp_genres, ax=ax[2])\n",
    "ax[2].set_title('Япония')\n",
    "ax[2].set_ylabel('Продажи, млн.шт.')\n",
    "ax[2].set_xlabel('Жанр')\n",
    "plt.show()"
   ]
  },
  {
   "cell_type": "markdown",
   "metadata": {},
   "source": [
    "Самым популярным жанром в Северной Америке и Европе является Shooter, а в Японии - Action и Role-Playing."
   ]
  },
  {
   "cell_type": "markdown",
   "metadata": {},
   "source": [
    "### Влияние рейтинга ESRB на продажи в отдельном регионе"
   ]
  },
  {
   "cell_type": "code",
   "execution_count": 32,
   "metadata": {},
   "outputs": [],
   "source": [
    "na_rating = df_actual.groupby('rating')['na_sales'].agg(na_sales='sum').reset_index()\n",
    "eu_rating = df_actual.groupby('rating')['eu_sales'].agg(eu_sales='sum').reset_index()\n",
    "jp_rating = df_actual.groupby('rating')['jp_sales'].agg(jp_sales='sum').reset_index()"
   ]
  },
  {
   "cell_type": "code",
   "execution_count": 33,
   "metadata": {},
   "outputs": [
    {
     "data": {
      "image/png": "[encoded data removed]",
      "text/plain": [
       "<Figure size 1440x432 with 3 Axes>"
      ]
     },
     "metadata": {},
     "output_type": "display_data"
    }
   ],
   "source": [
    "fig, ax = plt.subplots(1, 3, figsize=(20, 6))\n",
    "fig.suptitle('Продажи по рейтингам ESRB в разрезе рынков')\n",
    "\n",
    "data1, categories1 = na_rating['na_sales'], na_rating['rating']\n",
    "data2, categories2 = eu_rating['eu_sales'], eu_rating['rating']\n",
    "data3, categories3 = jp_rating['jp_sales'], jp_rating['rating']\n",
    "\n",
    "def func(pct, allvals):\n",
    "    absolute = int(pct / 100. * np.sum(allvals))\n",
    "    return \"{:.1f}% ({:d} млн )\".format(pct, absolute)\n",
    "\n",
    "# Северная Америка\n",
    "wedges, texts, autotexts = ax[0].pie(data1, autopct=lambda pct: func(pct, data1))\n",
    "ax[0].set_title(\"Северная Америка\")\n",
    "plt.setp(autotexts, size=8)\n",
    "\n",
    "# Европа\n",
    "wedges, texts, autotexts = ax[1].pie(data2, autopct=lambda pct: func(pct, data2))\n",
    "ax[1].set_title(\"Европа\")\n",
    "plt.setp(autotexts, size=8)\n",
    "\n",
    "# Япония\n",
    "wedges, texts, autotexts = ax[2].pie(data3, autopct=lambda pct: func(pct, data3), startangle=65)\n",
    "ax[2].set_title(\"Япония\")\n",
    "ax[2].legend(wedges, categories3, title=\"Рейтинг\", loc=\"upper left\", bbox_to_anchor=(1, 1))\n",
    "plt.setp(autotexts, size=8)\n",
    "\n",
    "plt.show()"
   ]
  },
  {
   "cell_type": "markdown",
   "metadata": {},
   "source": [
    "Расшифровка буквенных обозначений рейтинга:\n",
    "- «EC» («Early childhood») — «Для детей младшего возраста»\n",
    "- «E» («Everyone») — «Для всех» \n",
    "- «E10+»(«Everyone 10 and older») — «Для всех от 10 лет и старше»\n",
    "- «T» («Teen») — «Подросткам»\n",
    "- «M»(«Mature») — «Для взрослых»\n",
    "- «AO» («Adults Only 18+») — «Только для взрослых»\n",
    "- «RP» («Rating Pending») — «Рейтинг ожидается»\n",
    "- «Unknown» — «Неопределенно»"
   ]
  },
  {
   "cell_type": "markdown",
   "metadata": {},
   "source": [
    "В Северной Америке и Европе у большинства проданых игр рейтинг - М (для взрослых). В Японии более чем у половины игр отсутствует рейтинг, далее идет значительная доля игр с рейтингом - Т (подросткам)."
   ]
  },
  {
   "cell_type": "markdown",
   "metadata": {},
   "source": [
    "Исследование портрета пользователя каждого региона показало:\n",
    "\n",
    "- Большинство пользователей в Северной Америке и Европе использует PS4 и Xone, они предпочитают жанр Shooter. Большинство игр с рейтингом M.\n",
    "- Пользователи в Японии заметно отличаются от Северной Америки и Европы. Значительное большинство пользователей в Японии использует 3DS и PS4, они предпочитают жанр Action и Role-Playing. Большинство игр с рейтингом Т."
   ]
  },
  {
   "cell_type": "markdown",
   "metadata": {},
   "source": [
    "## Проверка гипотезы"
   ]
  },
  {
   "cell_type": "markdown",
   "metadata": {},
   "source": [
    "**Гипотеза № 1:** Средние пользовательские рейтинги платформ Xbox One и PC одинаковые\n",
    "\n",
    "- Нулевая: средние пользовательские рейтинги платформ Xbox One и PC одинаковые.\n",
    "\n",
    "- Альтернативная: средние пользовательские рейтинги платформ Xbox One и PC отличаются.\n",
    "\n",
    "Применим t-критерий Стьюдентат, потому что в обоих случаях выборки независимы между собой. Пороговое значение p-value = 0.05."
   ]
  },
  {
   "cell_type": "code",
   "execution_count": 34,
   "metadata": {},
   "outputs": [
    {
     "name": "stdout",
     "output_type": "stream",
     "text": [
      "Средний пользовательский рейтинг XOne 6.54\n",
      "Средний пользовательский рейтинг PC 6.3\n",
      "\n",
      "p-значение: 0.2946308864003345\n",
      "Не получилось отвергнуть нулевую гипотезу\n"
     ]
    }
   ],
   "source": [
    "score = df_actual[df_actual['user_score'] > 0]\n",
    "\n",
    "print('Средний пользовательский рейтинг XOne', round(score.query('platform == \"XOne\"')['user_score'].mean(),2))\n",
    "print('Средний пользовательский рейтинг PC', round(score.query('platform == \"PC\"')['user_score'].mean(),2))\n",
    "print()\n",
    "\n",
    "results = st.ttest_ind(\n",
    "    score.query('platform == \"XOne\"')['user_score'], \n",
    "    score.query('platform == \"PC\"')['user_score'], \n",
    "    equal_var=False)\n",
    "\n",
    "alpha = 0.05\n",
    "print('p-значение:', results.pvalue)\n",
    "\n",
    "if results.pvalue < alpha:\n",
    "    print(\"Отвергаем нулевую гипотезу\")\n",
    "else:\n",
    "    print(\"Не получилось отвергнуть нулевую гипотезу\")"
   ]
  },
  {
   "cell_type": "markdown",
   "metadata": {},
   "source": [
    "**Гипотеза № 2:** Средние пользовательские рейтинги жанров Action (англ. «действие», экшен-игры) и Sports (англ. «спортивные соревнования») разные\n",
    "\n",
    "- Нулевая: средние пользовательские рейтинги жанров Action (англ. «действие», экшен-игры) и Sports (англ. «спортивные соревнования») разные.\n",
    "\n",
    "- Альтернативная: средние пользовательские рейтинги жанров Action (англ. «действие», экшен-игры) и Sports (англ. «спортивные соревнования») одинаковые.\n",
    "\n",
    "Применим t-критерий Стьюдента. Пороговое значение p-value = 0.05."
   ]
  },
  {
   "cell_type": "code",
   "execution_count": 35,
   "metadata": {},
   "outputs": [
    {
     "name": "stdout",
     "output_type": "stream",
     "text": [
      "Средний пользовательский рейтинг жанра Action 6.81\n",
      "Средний пользовательский рейтинг жанра Sports 5.2\n",
      "\n",
      "p-значение: 5.97163549920592e-10\n",
      "Отвергаем нулевую гипотезу\n"
     ]
    }
   ],
   "source": [
    "print('Средний пользовательский рейтинг жанра Action', round(score.query('genre == \"Action\"')['user_score'].mean(),2))\n",
    "print('Средний пользовательский рейтинг жанра Sports', round(score.query('genre == \"Sports\"')['user_score'].mean(),2))\n",
    "print()\n",
    "\n",
    "results = st.ttest_ind(\n",
    "    score.query('genre == \"Action\"')['user_score'], \n",
    "    score.query('genre == \"Sports\"')['user_score'], \n",
    "    equal_var=False)\n",
    "\n",
    "alpha = 0.05\n",
    "print('p-значение:', results.pvalue)\n",
    "\n",
    "if results.pvalue < alpha:\n",
    "    print(\"Отвергаем нулевую гипотезу\")\n",
    "else:\n",
    "    print(\"Не получилось отвергнуть нулевую гипотезу\")"
   ]
  },
  {
   "cell_type": "markdown",
   "metadata": {},
   "source": [
    "В ходе проверки гипотез:\n",
    "\n",
    "- Не отвергаем гипотезу №1: средние пользовательские рейтинги платформ Xbox One и PC одинаковые.\n",
    "- Принимамем альтернативную гипотезу №2: средние пользовательские рейтинги жанров Action (англ. «действие», экшен-игры) и Sports (англ. «спортивные соревнования») одинаковые."
   ]
  },
  {
   "cell_type": "markdown",
   "metadata": {},
   "source": [
    "## Вывод"
   ]
  },
  {
   "cell_type": "markdown",
   "metadata": {},
   "source": [
    "В ходе исследования продаж компьютерных игр была выполнена следующая предобработка данных:\n",
    "- все названия столбцов приведены к нижнему регистру\n",
    "- обработаны пропуски в столбцах `rating` (обозначены как unknown - чтобы не потерять данные), `name` и `genre` (пропуски удалены - всего 2 пропуска, которые не повлияют на расчеты), `year_of_release`, `critic_score` и `user_score`  (обозначены как -1 - чтобы не потерять данные). Пропуски могли появиться из-за сбора данных из различных источников.\n",
    "- преобразованы типы данных в столбцах `year_of_release` и `critic_score` на целочисленный, в `user_score` на float\n",
    "- расчитаны суммарные продажи во всех регионах.\n",
    "\n",
    "В ходе исследовательского анализа данных были изучены и описаны параметры объектов и сделаны следующие выводы:\n",
    "- Игры выпускают с 1980 года, с 2001 года начался активный рост количества выпускаемых игр. Больше всего игр было выпущено в 2008 году. После пика количество игр стало снижаться и в 2012 осталось на уровне 600 шт. \n",
    "- Наибольшие продажи игр на платформах: PS2, X360, PS3, Wii, DS и PS за весь период.\n",
    "- Популярные платформы в среднем живут 10 лет, они достигают пика за 5 лет, а затем их продажи снижаются и достигают минимума.\n",
    "- Наибольшие продажи с 2015 года у платформ: PS4, Xone и 3DS. Все платформы показывают снижение продаж к 2016 году. Потенциально прибыльными из них могут быть PS4, XOne и WiiU.\n",
    "- Значительной зависимости продаж от отзывов нет, но оценки критиков учитывают немного выше, чем от пользователей.\n",
    "- Наибольшая медиана продаж у игр в жанре Shooter, т. е. этот жанр самый привлекательный для продаж.\n",
    "\n",
    "Исследование портрета пользователя каждого региона (NA, EU, JP) показало:\n",
    "- Большинство пользователей в Северной Америке и Европе использует PS4 и Xone, они предпочитают жанр Shooter. Большинство игр с рейтингом M.\n",
    "- Пользователи в Японии заметно отличаются от Северной Америки и Европы. Значительное большинство пользователей в Японии использует 3DS и PS4, они предпочитают жанр Action и Role-Playing. Большинство игр с рейтингом Т.\n",
    "\n",
    "В результате проверки гипотез:\n",
    "- Не отвергаем гипотезу №1: средние пользовательские рейтинги платформ Xbox One и PC одинаковые.\n",
    "- Принимамем альтернативную гипотезу №2: средние пользовательские рейтинги жанров Action (англ. «действие», экшен-игры) и Sports (англ. «спортивные соревнования») одинаковые."
   ]
  }
 ],
 "metadata": {
  "ExecuteTimeLog": [
   {
    "duration": 3,
    "start_time": "2025-02-10T09:51:00.964Z"
   },
   {
    "duration": 3,
    "start_time": "2025-02-10T09:52:49.785Z"
   },
   {
    "duration": 1265,
    "start_time": "2025-02-10T09:56:12.762Z"
   },
   {
    "duration": 43,
    "start_time": "2025-02-10T09:56:14.029Z"
   },
   {
    "duration": 91,
    "start_time": "2025-02-10T09:56:15.604Z"
   },
   {
    "duration": 8,
    "start_time": "2025-02-10T09:56:24.120Z"
   },
   {
    "duration": 15,
    "start_time": "2025-02-10T09:56:27.766Z"
   },
   {
    "duration": 15,
    "start_time": "2025-02-10T09:56:28.010Z"
   },
   {
    "duration": 3,
    "start_time": "2025-02-10T09:57:46.176Z"
   },
   {
    "duration": 43,
    "start_time": "2025-02-10T09:57:46.474Z"
   },
   {
    "duration": 5,
    "start_time": "2025-02-10T09:57:46.861Z"
   },
   {
    "duration": 13,
    "start_time": "2025-02-10T09:57:51.886Z"
   },
   {
    "duration": 14,
    "start_time": "2025-02-10T09:57:53.869Z"
   },
   {
    "duration": 5,
    "start_time": "2025-02-10T10:11:16.454Z"
   },
   {
    "duration": 3,
    "start_time": "2025-02-10T10:12:01.950Z"
   },
   {
    "duration": 15,
    "start_time": "2025-02-10T10:13:21.381Z"
   },
   {
    "duration": 14,
    "start_time": "2025-02-10T10:16:19.403Z"
   },
   {
    "duration": 1167,
    "start_time": "2025-02-10T10:16:36.341Z"
   },
   {
    "duration": 44,
    "start_time": "2025-02-10T10:16:37.510Z"
   },
   {
    "duration": 19,
    "start_time": "2025-02-10T10:16:37.556Z"
   },
   {
    "duration": 30,
    "start_time": "2025-02-10T10:16:37.577Z"
   },
   {
    "duration": 54,
    "start_time": "2025-02-10T10:16:37.608Z"
   },
   {
    "duration": 110,
    "start_time": "2025-02-10T10:16:37.664Z"
   },
   {
    "duration": 9,
    "start_time": "2025-02-10T10:18:30.711Z"
   },
   {
    "duration": 3,
    "start_time": "2025-02-10T10:18:54.614Z"
   },
   {
    "duration": 27,
    "start_time": "2025-02-10T10:21:47.650Z"
   },
   {
    "duration": 15,
    "start_time": "2025-02-10T10:22:07.481Z"
   },
   {
    "duration": 19,
    "start_time": "2025-02-10T10:23:08.733Z"
   },
   {
    "duration": 15,
    "start_time": "2025-02-10T10:25:55.845Z"
   },
   {
    "duration": 26,
    "start_time": "2025-02-10T10:26:10.678Z"
   },
   {
    "duration": 27,
    "start_time": "2025-02-10T10:26:32.635Z"
   },
   {
    "duration": 78,
    "start_time": "2025-02-10T10:30:48.630Z"
   },
   {
    "duration": 28,
    "start_time": "2025-02-10T10:31:03.325Z"
   },
   {
    "duration": 12,
    "start_time": "2025-02-10T10:31:31.761Z"
   },
   {
    "duration": 14,
    "start_time": "2025-02-10T10:31:51.039Z"
   },
   {
    "duration": 1238,
    "start_time": "2025-02-11T09:33:54.146Z"
   },
   {
    "duration": 58,
    "start_time": "2025-02-11T09:33:55.386Z"
   },
   {
    "duration": 19,
    "start_time": "2025-02-11T09:33:55.446Z"
   },
   {
    "duration": 28,
    "start_time": "2025-02-11T09:33:55.467Z"
   },
   {
    "duration": 24,
    "start_time": "2025-02-11T09:33:55.496Z"
   },
   {
    "duration": 26,
    "start_time": "2025-02-11T09:33:55.522Z"
   },
   {
    "duration": 28,
    "start_time": "2025-02-11T09:44:04.433Z"
   },
   {
    "duration": 38,
    "start_time": "2025-02-11T09:44:11.728Z"
   },
   {
    "duration": 5,
    "start_time": "2025-02-11T09:58:34.864Z"
   },
   {
    "duration": 18,
    "start_time": "2025-02-11T10:04:20.328Z"
   },
   {
    "duration": 7,
    "start_time": "2025-02-11T10:04:42.905Z"
   },
   {
    "duration": 74,
    "start_time": "2025-02-11T10:05:09.760Z"
   },
   {
    "duration": 6,
    "start_time": "2025-02-11T10:06:32.700Z"
   },
   {
    "duration": 4,
    "start_time": "2025-02-11T10:06:33.526Z"
   },
   {
    "duration": 3,
    "start_time": "2025-02-11T10:06:33.948Z"
   },
   {
    "duration": 3,
    "start_time": "2025-02-11T10:09:19.203Z"
   },
   {
    "duration": 7,
    "start_time": "2025-02-11T10:10:27.109Z"
   },
   {
    "duration": 4,
    "start_time": "2025-02-11T10:10:27.844Z"
   },
   {
    "duration": 5,
    "start_time": "2025-02-11T10:10:29.762Z"
   },
   {
    "duration": 6,
    "start_time": "2025-02-11T10:11:38.354Z"
   },
   {
    "duration": 1153,
    "start_time": "2025-02-11T10:11:50.425Z"
   },
   {
    "duration": 51,
    "start_time": "2025-02-11T10:11:51.580Z"
   },
   {
    "duration": 20,
    "start_time": "2025-02-11T10:11:51.632Z"
   },
   {
    "duration": 26,
    "start_time": "2025-02-11T10:11:51.654Z"
   },
   {
    "duration": 6,
    "start_time": "2025-02-11T10:11:51.682Z"
   },
   {
    "duration": 33,
    "start_time": "2025-02-11T10:11:51.689Z"
   },
   {
    "duration": 54,
    "start_time": "2025-02-11T10:11:51.726Z"
   },
   {
    "duration": 6,
    "start_time": "2025-02-11T10:11:51.782Z"
   },
   {
    "duration": 6,
    "start_time": "2025-02-11T10:12:03.187Z"
   },
   {
    "duration": 118,
    "start_time": "2025-02-11T10:14:41.974Z"
   },
   {
    "duration": 6,
    "start_time": "2025-02-11T10:14:47.445Z"
   },
   {
    "duration": 4,
    "start_time": "2025-02-11T10:15:01.993Z"
   },
   {
    "duration": 6,
    "start_time": "2025-02-11T10:15:02.595Z"
   },
   {
    "duration": 20,
    "start_time": "2025-02-11T10:15:37.135Z"
   },
   {
    "duration": 4,
    "start_time": "2025-02-11T10:15:59.158Z"
   },
   {
    "duration": 9,
    "start_time": "2025-02-11T10:16:00.419Z"
   },
   {
    "duration": 4,
    "start_time": "2025-02-11T10:16:00.771Z"
   },
   {
    "duration": 4,
    "start_time": "2025-02-11T10:16:01.379Z"
   },
   {
    "duration": 4,
    "start_time": "2025-02-11T10:16:01.567Z"
   },
   {
    "duration": 3,
    "start_time": "2025-02-11T10:16:44.149Z"
   },
   {
    "duration": 7,
    "start_time": "2025-02-11T10:17:05.418Z"
   },
   {
    "duration": 16,
    "start_time": "2025-02-11T10:17:27.130Z"
   },
   {
    "duration": 6,
    "start_time": "2025-02-11T10:17:55.295Z"
   },
   {
    "duration": 5,
    "start_time": "2025-02-11T10:18:35.627Z"
   },
   {
    "duration": 6,
    "start_time": "2025-02-11T10:18:49.554Z"
   },
   {
    "duration": 12,
    "start_time": "2025-02-11T10:19:14.787Z"
   },
   {
    "duration": 5,
    "start_time": "2025-02-11T10:22:53.144Z"
   },
   {
    "duration": 6,
    "start_time": "2025-02-11T10:22:53.483Z"
   },
   {
    "duration": 4,
    "start_time": "2025-02-11T10:22:53.857Z"
   },
   {
    "duration": 3,
    "start_time": "2025-02-11T10:22:54.536Z"
   },
   {
    "duration": 5,
    "start_time": "2025-02-11T10:22:54.724Z"
   },
   {
    "duration": 3,
    "start_time": "2025-02-11T10:22:55.567Z"
   },
   {
    "duration": 4,
    "start_time": "2025-02-11T10:23:11.059Z"
   },
   {
    "duration": 4,
    "start_time": "2025-02-11T10:23:18.341Z"
   },
   {
    "duration": 85,
    "start_time": "2025-02-11T10:23:49.157Z"
   },
   {
    "duration": 4,
    "start_time": "2025-02-11T10:23:57.474Z"
   },
   {
    "duration": 5,
    "start_time": "2025-02-11T10:24:00.153Z"
   },
   {
    "duration": 5,
    "start_time": "2025-02-11T10:24:01.535Z"
   },
   {
    "duration": 5,
    "start_time": "2025-02-11T10:25:52.441Z"
   },
   {
    "duration": 4,
    "start_time": "2025-02-11T10:26:06.743Z"
   },
   {
    "duration": 15,
    "start_time": "2025-02-11T10:30:07.540Z"
   },
   {
    "duration": 5,
    "start_time": "2025-02-11T10:33:58.593Z"
   },
   {
    "duration": 9,
    "start_time": "2025-02-11T10:34:03.238Z"
   },
   {
    "duration": 19,
    "start_time": "2025-02-11T10:34:13.505Z"
   },
   {
    "duration": 6,
    "start_time": "2025-02-11T11:29:15.428Z"
   },
   {
    "duration": 11,
    "start_time": "2025-02-11T11:32:02.064Z"
   },
   {
    "duration": 2,
    "start_time": "2025-02-11T14:00:10.354Z"
   },
   {
    "duration": 9,
    "start_time": "2025-02-11T14:03:28.850Z"
   },
   {
    "duration": 1212,
    "start_time": "2025-02-11T14:03:35.652Z"
   },
   {
    "duration": 46,
    "start_time": "2025-02-11T14:03:36.866Z"
   },
   {
    "duration": 30,
    "start_time": "2025-02-11T14:03:36.916Z"
   },
   {
    "duration": 18,
    "start_time": "2025-02-11T14:03:36.949Z"
   },
   {
    "duration": 5,
    "start_time": "2025-02-11T14:03:36.969Z"
   },
   {
    "duration": 34,
    "start_time": "2025-02-11T14:03:36.976Z"
   },
   {
    "duration": 6,
    "start_time": "2025-02-11T14:03:37.012Z"
   },
   {
    "duration": 41,
    "start_time": "2025-02-11T14:03:37.020Z"
   },
   {
    "duration": 8,
    "start_time": "2025-02-11T14:03:37.063Z"
   },
   {
    "duration": 22,
    "start_time": "2025-02-11T14:03:37.073Z"
   },
   {
    "duration": 11,
    "start_time": "2025-02-11T14:03:37.097Z"
   },
   {
    "duration": 15,
    "start_time": "2025-02-11T14:03:37.110Z"
   },
   {
    "duration": 11,
    "start_time": "2025-02-11T14:03:37.127Z"
   },
   {
    "duration": 758,
    "start_time": "2025-02-11T14:03:37.139Z"
   },
   {
    "duration": 0,
    "start_time": "2025-02-11T14:03:37.898Z"
   },
   {
    "duration": 5,
    "start_time": "2025-02-11T14:03:59.887Z"
   },
   {
    "duration": 5,
    "start_time": "2025-02-11T14:04:04.495Z"
   },
   {
    "duration": 1231,
    "start_time": "2025-02-11T14:04:11.609Z"
   },
   {
    "duration": 45,
    "start_time": "2025-02-11T14:04:12.842Z"
   },
   {
    "duration": 19,
    "start_time": "2025-02-11T14:04:12.888Z"
   },
   {
    "duration": 19,
    "start_time": "2025-02-11T14:04:12.909Z"
   },
   {
    "duration": 5,
    "start_time": "2025-02-11T14:04:12.930Z"
   },
   {
    "duration": 14,
    "start_time": "2025-02-11T14:04:12.937Z"
   },
   {
    "duration": 27,
    "start_time": "2025-02-11T14:04:12.954Z"
   },
   {
    "duration": 20,
    "start_time": "2025-02-11T14:04:12.983Z"
   },
   {
    "duration": 7,
    "start_time": "2025-02-11T14:04:13.005Z"
   },
   {
    "duration": 32,
    "start_time": "2025-02-11T14:04:13.014Z"
   },
   {
    "duration": 5,
    "start_time": "2025-02-11T14:04:13.048Z"
   },
   {
    "duration": 9,
    "start_time": "2025-02-11T14:04:13.055Z"
   },
   {
    "duration": 4,
    "start_time": "2025-02-11T14:04:13.066Z"
   },
   {
    "duration": 735,
    "start_time": "2025-02-11T14:04:13.073Z"
   },
   {
    "duration": 0,
    "start_time": "2025-02-11T14:04:13.810Z"
   },
   {
    "duration": 1105,
    "start_time": "2025-02-11T14:04:55.373Z"
   },
   {
    "duration": 49,
    "start_time": "2025-02-11T14:04:56.480Z"
   },
   {
    "duration": 19,
    "start_time": "2025-02-11T14:04:56.530Z"
   },
   {
    "duration": 15,
    "start_time": "2025-02-11T14:04:56.550Z"
   },
   {
    "duration": 5,
    "start_time": "2025-02-11T14:04:56.567Z"
   },
   {
    "duration": 5,
    "start_time": "2025-02-11T14:04:56.573Z"
   },
   {
    "duration": 35,
    "start_time": "2025-02-11T14:04:56.580Z"
   },
   {
    "duration": 11,
    "start_time": "2025-02-11T14:04:56.616Z"
   },
   {
    "duration": 28,
    "start_time": "2025-02-11T14:04:56.630Z"
   },
   {
    "duration": 7,
    "start_time": "2025-02-11T14:04:56.660Z"
   },
   {
    "duration": 4,
    "start_time": "2025-02-11T14:04:56.669Z"
   },
   {
    "duration": 6,
    "start_time": "2025-02-11T14:04:56.675Z"
   },
   {
    "duration": 5,
    "start_time": "2025-02-11T14:04:56.711Z"
   },
   {
    "duration": 780,
    "start_time": "2025-02-11T14:04:56.718Z"
   },
   {
    "duration": 0,
    "start_time": "2025-02-11T14:04:57.499Z"
   },
   {
    "duration": 4,
    "start_time": "2025-02-11T14:11:05.201Z"
   },
   {
    "duration": 6,
    "start_time": "2025-02-11T14:11:06.806Z"
   },
   {
    "duration": 4,
    "start_time": "2025-02-11T14:11:07.368Z"
   },
   {
    "duration": 580,
    "start_time": "2025-02-11T14:11:07.797Z"
   },
   {
    "duration": 1231,
    "start_time": "2025-02-11T14:11:31.995Z"
   },
   {
    "duration": 50,
    "start_time": "2025-02-11T14:11:33.229Z"
   },
   {
    "duration": 18,
    "start_time": "2025-02-11T14:11:33.280Z"
   },
   {
    "duration": 42,
    "start_time": "2025-02-11T14:11:33.300Z"
   },
   {
    "duration": 5,
    "start_time": "2025-02-11T14:11:33.344Z"
   },
   {
    "duration": 9,
    "start_time": "2025-02-11T14:11:33.350Z"
   },
   {
    "duration": 10,
    "start_time": "2025-02-11T14:11:33.360Z"
   },
   {
    "duration": 13,
    "start_time": "2025-02-11T14:11:33.371Z"
   },
   {
    "duration": 18,
    "start_time": "2025-02-11T14:11:33.385Z"
   },
   {
    "duration": 26,
    "start_time": "2025-02-11T14:11:33.404Z"
   },
   {
    "duration": 5,
    "start_time": "2025-02-11T14:11:33.438Z"
   },
   {
    "duration": 13,
    "start_time": "2025-02-11T14:11:33.445Z"
   },
   {
    "duration": 4,
    "start_time": "2025-02-11T14:11:33.460Z"
   },
   {
    "duration": 751,
    "start_time": "2025-02-11T14:11:33.467Z"
   },
   {
    "duration": 0,
    "start_time": "2025-02-11T14:11:34.220Z"
   },
   {
    "duration": 5,
    "start_time": "2025-02-11T14:12:03.450Z"
   },
   {
    "duration": 16,
    "start_time": "2025-02-11T14:12:10.390Z"
   },
   {
    "duration": 6,
    "start_time": "2025-02-11T14:12:12.522Z"
   },
   {
    "duration": 1194,
    "start_time": "2025-02-11T14:12:17.831Z"
   },
   {
    "duration": 46,
    "start_time": "2025-02-11T14:12:19.030Z"
   },
   {
    "duration": 18,
    "start_time": "2025-02-11T14:12:19.077Z"
   },
   {
    "duration": 17,
    "start_time": "2025-02-11T14:12:19.096Z"
   },
   {
    "duration": 13,
    "start_time": "2025-02-11T14:12:19.116Z"
   },
   {
    "duration": 8,
    "start_time": "2025-02-11T14:12:19.132Z"
   },
   {
    "duration": 19,
    "start_time": "2025-02-11T14:12:19.141Z"
   },
   {
    "duration": 11,
    "start_time": "2025-02-11T14:12:19.162Z"
   },
   {
    "duration": 26,
    "start_time": "2025-02-11T14:12:19.174Z"
   },
   {
    "duration": 7,
    "start_time": "2025-02-11T14:12:19.202Z"
   },
   {
    "duration": 22,
    "start_time": "2025-02-11T14:12:19.211Z"
   },
   {
    "duration": 6,
    "start_time": "2025-02-11T14:12:19.235Z"
   },
   {
    "duration": 14,
    "start_time": "2025-02-11T14:12:19.243Z"
   },
   {
    "duration": 702,
    "start_time": "2025-02-11T14:12:19.259Z"
   },
   {
    "duration": 0,
    "start_time": "2025-02-11T14:12:19.962Z"
   },
   {
    "duration": 1135,
    "start_time": "2025-02-11T14:12:27.652Z"
   },
   {
    "duration": 64,
    "start_time": "2025-02-11T14:12:28.789Z"
   },
   {
    "duration": 28,
    "start_time": "2025-02-11T14:12:28.856Z"
   },
   {
    "duration": 31,
    "start_time": "2025-02-11T14:12:28.886Z"
   },
   {
    "duration": 5,
    "start_time": "2025-02-11T14:12:28.926Z"
   },
   {
    "duration": 6,
    "start_time": "2025-02-11T14:12:28.934Z"
   },
   {
    "duration": 12,
    "start_time": "2025-02-11T14:12:28.942Z"
   },
   {
    "duration": 6,
    "start_time": "2025-02-11T14:12:28.955Z"
   },
   {
    "duration": 56,
    "start_time": "2025-02-11T14:12:28.963Z"
   },
   {
    "duration": 9,
    "start_time": "2025-02-11T14:12:29.021Z"
   },
   {
    "duration": 5,
    "start_time": "2025-02-11T14:12:29.032Z"
   },
   {
    "duration": 6,
    "start_time": "2025-02-11T14:12:29.038Z"
   },
   {
    "duration": 3,
    "start_time": "2025-02-11T14:12:29.046Z"
   },
   {
    "duration": 696,
    "start_time": "2025-02-11T14:12:29.051Z"
   },
   {
    "duration": 0,
    "start_time": "2025-02-11T14:12:29.749Z"
   },
   {
    "duration": 5,
    "start_time": "2025-02-11T14:12:38.928Z"
   },
   {
    "duration": 4,
    "start_time": "2025-02-11T14:42:26.828Z"
   },
   {
    "duration": 4,
    "start_time": "2025-02-11T14:42:32.460Z"
   },
   {
    "duration": 555,
    "start_time": "2025-02-11T14:42:36.567Z"
   },
   {
    "duration": 1109,
    "start_time": "2025-02-11T14:42:45.555Z"
   },
   {
    "duration": 44,
    "start_time": "2025-02-11T14:42:46.666Z"
   },
   {
    "duration": 19,
    "start_time": "2025-02-11T14:42:46.712Z"
   },
   {
    "duration": 16,
    "start_time": "2025-02-11T14:42:46.733Z"
   },
   {
    "duration": 8,
    "start_time": "2025-02-11T14:42:46.750Z"
   },
   {
    "duration": 6,
    "start_time": "2025-02-11T14:42:46.759Z"
   },
   {
    "duration": 17,
    "start_time": "2025-02-11T14:42:46.767Z"
   },
   {
    "duration": 24,
    "start_time": "2025-02-11T14:42:46.785Z"
   },
   {
    "duration": 6,
    "start_time": "2025-02-11T14:42:46.811Z"
   },
   {
    "duration": 5,
    "start_time": "2025-02-11T14:42:46.819Z"
   },
   {
    "duration": 5,
    "start_time": "2025-02-11T14:42:46.825Z"
   },
   {
    "duration": 6,
    "start_time": "2025-02-11T14:42:46.831Z"
   },
   {
    "duration": 14,
    "start_time": "2025-02-11T14:42:46.839Z"
   },
   {
    "duration": 11,
    "start_time": "2025-02-11T14:42:46.854Z"
   },
   {
    "duration": 4,
    "start_time": "2025-02-11T14:42:46.867Z"
   },
   {
    "duration": 8,
    "start_time": "2025-02-11T14:43:00.002Z"
   },
   {
    "duration": 6,
    "start_time": "2025-02-11T14:43:11.892Z"
   },
   {
    "duration": 4,
    "start_time": "2025-02-11T14:43:13.858Z"
   },
   {
    "duration": 5,
    "start_time": "2025-02-11T14:43:14.408Z"
   },
   {
    "duration": 1411,
    "start_time": "2025-02-14T09:47:52.394Z"
   },
   {
    "duration": 59,
    "start_time": "2025-02-14T09:47:53.807Z"
   },
   {
    "duration": 21,
    "start_time": "2025-02-14T09:47:53.868Z"
   },
   {
    "duration": 21,
    "start_time": "2025-02-14T09:47:53.891Z"
   },
   {
    "duration": 5,
    "start_time": "2025-02-14T09:47:53.915Z"
   },
   {
    "duration": 5,
    "start_time": "2025-02-14T09:47:53.922Z"
   },
   {
    "duration": 13,
    "start_time": "2025-02-14T09:47:53.929Z"
   },
   {
    "duration": 6,
    "start_time": "2025-02-14T09:47:53.944Z"
   },
   {
    "duration": 10,
    "start_time": "2025-02-14T09:47:53.952Z"
   },
   {
    "duration": 9,
    "start_time": "2025-02-14T09:47:54.000Z"
   },
   {
    "duration": 7,
    "start_time": "2025-02-14T09:47:54.014Z"
   },
   {
    "duration": 8,
    "start_time": "2025-02-14T09:47:54.023Z"
   },
   {
    "duration": 26,
    "start_time": "2025-02-14T09:47:54.033Z"
   },
   {
    "duration": 10,
    "start_time": "2025-02-14T09:47:54.062Z"
   },
   {
    "duration": 24,
    "start_time": "2025-02-14T09:47:54.075Z"
   },
   {
    "duration": 15,
    "start_time": "2025-02-14T10:03:51.407Z"
   },
   {
    "duration": 16,
    "start_time": "2025-02-14T10:04:14.785Z"
   },
   {
    "duration": 1326,
    "start_time": "2025-02-14T10:05:06.539Z"
   },
   {
    "duration": 11,
    "start_time": "2025-02-14T10:05:12.140Z"
   },
   {
    "duration": 1356,
    "start_time": "2025-02-14T10:05:14.501Z"
   },
   {
    "duration": 411,
    "start_time": "2025-02-14T10:05:40.348Z"
   },
   {
    "duration": 330,
    "start_time": "2025-02-14T10:05:48.643Z"
   },
   {
    "duration": 358,
    "start_time": "2025-02-14T10:05:52.659Z"
   },
   {
    "duration": 359,
    "start_time": "2025-02-14T10:05:58.610Z"
   },
   {
    "duration": 509,
    "start_time": "2025-02-14T13:22:59.261Z"
   },
   {
    "duration": 15,
    "start_time": "2025-02-14T13:29:03.004Z"
   },
   {
    "duration": 12,
    "start_time": "2025-02-14T13:29:14.331Z"
   },
   {
    "duration": 1164,
    "start_time": "2025-02-14T13:29:16.063Z"
   },
   {
    "duration": 1159,
    "start_time": "2025-02-14T13:29:26.335Z"
   },
   {
    "duration": 313,
    "start_time": "2025-02-14T13:29:35.968Z"
   },
   {
    "duration": 54,
    "start_time": "2025-02-18T08:21:27.457Z"
   },
   {
    "duration": 1365,
    "start_time": "2025-02-18T08:21:34.820Z"
   },
   {
    "duration": 48,
    "start_time": "2025-02-18T08:21:36.188Z"
   },
   {
    "duration": 21,
    "start_time": "2025-02-18T08:21:36.237Z"
   },
   {
    "duration": 48,
    "start_time": "2025-02-18T08:21:36.261Z"
   },
   {
    "duration": 85,
    "start_time": "2025-02-18T08:21:36.311Z"
   },
   {
    "duration": 28,
    "start_time": "2025-02-18T08:21:36.397Z"
   },
   {
    "duration": 15,
    "start_time": "2025-02-18T08:21:36.426Z"
   },
   {
    "duration": 5,
    "start_time": "2025-02-18T08:21:36.443Z"
   },
   {
    "duration": 16,
    "start_time": "2025-02-18T08:21:36.450Z"
   },
   {
    "duration": 16,
    "start_time": "2025-02-18T08:21:36.469Z"
   },
   {
    "duration": 8,
    "start_time": "2025-02-18T08:21:36.487Z"
   },
   {
    "duration": 13,
    "start_time": "2025-02-18T08:21:36.496Z"
   },
   {
    "duration": 22,
    "start_time": "2025-02-18T08:21:36.511Z"
   },
   {
    "duration": 34,
    "start_time": "2025-02-18T08:21:36.535Z"
   },
   {
    "duration": 46,
    "start_time": "2025-02-18T08:21:36.571Z"
   },
   {
    "duration": 37,
    "start_time": "2025-02-18T08:21:36.618Z"
   },
   {
    "duration": 387,
    "start_time": "2025-02-18T08:21:36.657Z"
   },
   {
    "duration": 10,
    "start_time": "2025-02-18T08:21:37.046Z"
   },
   {
    "duration": 318,
    "start_time": "2025-02-18T08:21:37.058Z"
   },
   {
    "duration": 123,
    "start_time": "2025-02-18T08:26:01.496Z"
   },
   {
    "duration": 318,
    "start_time": "2025-02-18T08:26:02.139Z"
   },
   {
    "duration": 11,
    "start_time": "2025-02-18T08:26:33.795Z"
   },
   {
    "duration": 329,
    "start_time": "2025-02-18T08:26:33.808Z"
   },
   {
    "duration": 3,
    "start_time": "2025-02-18T08:29:42.688Z"
   },
   {
    "duration": 4,
    "start_time": "2025-02-18T08:32:45.587Z"
   },
   {
    "duration": 14,
    "start_time": "2025-02-18T08:32:52.233Z"
   },
   {
    "duration": 19,
    "start_time": "2025-02-18T08:33:02.396Z"
   },
   {
    "duration": 12,
    "start_time": "2025-02-18T08:33:16.887Z"
   },
   {
    "duration": 11,
    "start_time": "2025-02-18T08:33:40.737Z"
   },
   {
    "duration": 4,
    "start_time": "2025-02-18T08:34:05.689Z"
   },
   {
    "duration": 11,
    "start_time": "2025-02-18T08:34:05.940Z"
   },
   {
    "duration": 166,
    "start_time": "2025-02-18T08:34:12.567Z"
   },
   {
    "duration": 188,
    "start_time": "2025-02-18T08:34:51.240Z"
   },
   {
    "duration": 1292,
    "start_time": "2025-02-18T08:34:59.064Z"
   },
   {
    "duration": 56,
    "start_time": "2025-02-18T08:35:00.358Z"
   },
   {
    "duration": 19,
    "start_time": "2025-02-18T08:35:00.416Z"
   },
   {
    "duration": 28,
    "start_time": "2025-02-18T08:35:00.437Z"
   },
   {
    "duration": 33,
    "start_time": "2025-02-18T08:35:00.466Z"
   },
   {
    "duration": 18,
    "start_time": "2025-02-18T08:35:00.501Z"
   },
   {
    "duration": 26,
    "start_time": "2025-02-18T08:35:00.520Z"
   },
   {
    "duration": 14,
    "start_time": "2025-02-18T08:35:00.548Z"
   },
   {
    "duration": 23,
    "start_time": "2025-02-18T08:35:00.563Z"
   },
   {
    "duration": 16,
    "start_time": "2025-02-18T08:35:00.590Z"
   },
   {
    "duration": 27,
    "start_time": "2025-02-18T08:35:00.608Z"
   },
   {
    "duration": 48,
    "start_time": "2025-02-18T08:35:00.637Z"
   },
   {
    "duration": 5,
    "start_time": "2025-02-18T08:35:00.687Z"
   },
   {
    "duration": 11,
    "start_time": "2025-02-18T08:35:00.694Z"
   },
   {
    "duration": 26,
    "start_time": "2025-02-18T08:35:00.707Z"
   },
   {
    "duration": 24,
    "start_time": "2025-02-18T08:35:00.735Z"
   },
   {
    "duration": 408,
    "start_time": "2025-02-18T08:35:00.761Z"
   },
   {
    "duration": 21,
    "start_time": "2025-02-18T08:35:01.170Z"
   },
   {
    "duration": 362,
    "start_time": "2025-02-18T08:35:01.192Z"
   },
   {
    "duration": 3,
    "start_time": "2025-02-18T08:35:01.556Z"
   },
   {
    "duration": 66,
    "start_time": "2025-02-18T08:35:01.560Z"
   },
   {
    "duration": 287,
    "start_time": "2025-02-18T08:35:01.628Z"
   },
   {
    "duration": 185,
    "start_time": "2025-02-18T08:35:22.023Z"
   },
   {
    "duration": 4,
    "start_time": "2025-02-18T08:35:39.188Z"
   },
   {
    "duration": 14,
    "start_time": "2025-02-18T08:35:40.762Z"
   },
   {
    "duration": 394,
    "start_time": "2025-02-18T08:35:40.938Z"
   },
   {
    "duration": 15,
    "start_time": "2025-02-18T08:37:01.895Z"
   },
   {
    "duration": 11,
    "start_time": "2025-02-18T08:37:51.948Z"
   },
   {
    "duration": 459,
    "start_time": "2025-02-18T08:37:53.470Z"
   },
   {
    "duration": 10,
    "start_time": "2025-02-18T08:38:16.207Z"
   },
   {
    "duration": 315,
    "start_time": "2025-02-18T08:38:16.828Z"
   },
   {
    "duration": 11,
    "start_time": "2025-02-18T08:38:24.222Z"
   },
   {
    "duration": 315,
    "start_time": "2025-02-18T08:38:24.449Z"
   },
   {
    "duration": 18,
    "start_time": "2025-02-18T08:39:51.115Z"
   },
   {
    "duration": 20,
    "start_time": "2025-02-18T08:39:59.332Z"
   },
   {
    "duration": 2633,
    "start_time": "2025-02-18T08:40:06.743Z"
   },
   {
    "duration": 4,
    "start_time": "2025-02-18T08:40:30.334Z"
   },
   {
    "duration": 17,
    "start_time": "2025-02-18T08:40:31.147Z"
   },
   {
    "duration": 2352,
    "start_time": "2025-02-18T08:40:32.383Z"
   },
   {
    "duration": 16,
    "start_time": "2025-02-18T08:41:38.791Z"
   },
   {
    "duration": 1241,
    "start_time": "2025-02-18T08:43:02.678Z"
   },
   {
    "duration": 49,
    "start_time": "2025-02-18T08:43:03.921Z"
   },
   {
    "duration": 18,
    "start_time": "2025-02-18T08:43:03.972Z"
   },
   {
    "duration": 44,
    "start_time": "2025-02-18T08:43:03.992Z"
   },
   {
    "duration": 26,
    "start_time": "2025-02-18T08:43:04.038Z"
   },
   {
    "duration": 16,
    "start_time": "2025-02-18T08:43:04.066Z"
   },
   {
    "duration": 21,
    "start_time": "2025-02-18T08:43:04.083Z"
   },
   {
    "duration": 10,
    "start_time": "2025-02-18T08:43:04.105Z"
   },
   {
    "duration": 20,
    "start_time": "2025-02-18T08:43:04.116Z"
   },
   {
    "duration": 25,
    "start_time": "2025-02-18T08:43:04.139Z"
   },
   {
    "duration": 12,
    "start_time": "2025-02-18T08:43:04.166Z"
   },
   {
    "duration": 12,
    "start_time": "2025-02-18T08:43:04.180Z"
   },
   {
    "duration": 6,
    "start_time": "2025-02-18T08:43:04.194Z"
   },
   {
    "duration": 22,
    "start_time": "2025-02-18T08:43:04.201Z"
   },
   {
    "duration": 7,
    "start_time": "2025-02-18T08:43:04.225Z"
   },
   {
    "duration": 15,
    "start_time": "2025-02-18T08:43:04.234Z"
   },
   {
    "duration": 373,
    "start_time": "2025-02-18T08:43:04.251Z"
   },
   {
    "duration": 15,
    "start_time": "2025-02-18T08:43:04.626Z"
   },
   {
    "duration": 323,
    "start_time": "2025-02-18T08:43:04.644Z"
   },
   {
    "duration": 4,
    "start_time": "2025-02-18T08:43:04.974Z"
   },
   {
    "duration": 22,
    "start_time": "2025-02-18T08:43:04.979Z"
   },
   {
    "duration": 1693,
    "start_time": "2025-02-18T08:43:05.003Z"
   },
   {
    "duration": 1639,
    "start_time": "2025-02-18T09:12:54.455Z"
   },
   {
    "duration": 71,
    "start_time": "2025-02-18T09:14:00.798Z"
   },
   {
    "duration": 22,
    "start_time": "2025-02-18T09:14:15.948Z"
   },
   {
    "duration": 14,
    "start_time": "2025-02-18T09:14:33.487Z"
   },
   {
    "duration": 453,
    "start_time": "2025-02-18T09:14:35.817Z"
   },
   {
    "duration": 7,
    "start_time": "2025-02-18T09:15:07.174Z"
   },
   {
    "duration": 12,
    "start_time": "2025-02-18T09:15:07.495Z"
   },
   {
    "duration": 428,
    "start_time": "2025-02-18T09:15:07.970Z"
   },
   {
    "duration": 18,
    "start_time": "2025-02-18T09:16:07.314Z"
   },
   {
    "duration": 12,
    "start_time": "2025-02-18T09:19:28.690Z"
   },
   {
    "duration": 2216,
    "start_time": "2025-02-18T09:19:29.887Z"
   },
   {
    "duration": 12,
    "start_time": "2025-02-18T09:20:07.287Z"
   },
   {
    "duration": 1884,
    "start_time": "2025-02-18T09:20:07.634Z"
   },
   {
    "duration": 11,
    "start_time": "2025-02-18T09:20:19.330Z"
   },
   {
    "duration": 372,
    "start_time": "2025-02-18T09:20:21.281Z"
   },
   {
    "duration": 3,
    "start_time": "2025-02-18T09:42:19.837Z"
   },
   {
    "duration": 14,
    "start_time": "2025-02-18T09:42:20.340Z"
   },
   {
    "duration": 352,
    "start_time": "2025-02-18T09:42:20.735Z"
   },
   {
    "duration": 1416,
    "start_time": "2025-02-18T11:43:06.590Z"
   },
   {
    "duration": 0,
    "start_time": "2025-02-18T11:43:08.009Z"
   },
   {
    "duration": 19,
    "start_time": "2025-02-18T11:43:21.640Z"
   },
   {
    "duration": 9,
    "start_time": "2025-02-18T11:46:59.176Z"
   },
   {
    "duration": 10,
    "start_time": "2025-02-18T11:47:03.609Z"
   },
   {
    "duration": 9,
    "start_time": "2025-02-18T11:47:14.903Z"
   },
   {
    "duration": 15,
    "start_time": "2025-02-18T11:48:05.067Z"
   },
   {
    "duration": 12,
    "start_time": "2025-02-18T11:48:12.325Z"
   },
   {
    "duration": 7,
    "start_time": "2025-02-18T11:50:17.992Z"
   },
   {
    "duration": 5,
    "start_time": "2025-02-18T11:50:41.934Z"
   },
   {
    "duration": 2004,
    "start_time": "2025-02-18T11:52:12.293Z"
   },
   {
    "duration": 1198,
    "start_time": "2025-02-18T11:53:43.583Z"
   },
   {
    "duration": 0,
    "start_time": "2025-02-18T11:53:44.783Z"
   },
   {
    "duration": 25,
    "start_time": "2025-02-18T11:53:54.738Z"
   },
   {
    "duration": 5,
    "start_time": "2025-02-18T11:54:00.413Z"
   },
   {
    "duration": 8,
    "start_time": "2025-02-18T11:54:11.302Z"
   },
   {
    "duration": 19,
    "start_time": "2025-02-18T11:54:15.284Z"
   },
   {
    "duration": 21,
    "start_time": "2025-02-18T11:54:18.897Z"
   },
   {
    "duration": 20,
    "start_time": "2025-02-18T11:54:22.830Z"
   },
   {
    "duration": 20,
    "start_time": "2025-02-18T12:08:11.043Z"
   },
   {
    "duration": 12,
    "start_time": "2025-02-18T12:11:09.269Z"
   },
   {
    "duration": 4,
    "start_time": "2025-02-18T12:11:13.134Z"
   },
   {
    "duration": 5,
    "start_time": "2025-02-18T12:12:34.315Z"
   },
   {
    "duration": 17,
    "start_time": "2025-02-18T12:12:34.731Z"
   },
   {
    "duration": 5,
    "start_time": "2025-02-18T12:12:52.326Z"
   },
   {
    "duration": 13,
    "start_time": "2025-02-18T12:12:52.880Z"
   },
   {
    "duration": 6,
    "start_time": "2025-02-18T12:14:53.241Z"
   },
   {
    "duration": 18,
    "start_time": "2025-02-18T12:15:06.452Z"
   },
   {
    "duration": 18,
    "start_time": "2025-02-18T12:16:16.679Z"
   },
   {
    "duration": 11,
    "start_time": "2025-02-18T12:16:17.355Z"
   },
   {
    "duration": 13,
    "start_time": "2025-02-18T12:16:28.754Z"
   },
   {
    "duration": 15,
    "start_time": "2025-02-18T12:17:17.602Z"
   },
   {
    "duration": 390,
    "start_time": "2025-02-18T12:18:05.159Z"
   },
   {
    "duration": 18,
    "start_time": "2025-02-18T12:18:52.263Z"
   },
   {
    "duration": 259,
    "start_time": "2025-02-18T12:19:14.361Z"
   },
   {
    "duration": 249,
    "start_time": "2025-02-18T12:19:24.281Z"
   },
   {
    "duration": 5,
    "start_time": "2025-02-18T12:20:08.954Z"
   },
   {
    "duration": 17,
    "start_time": "2025-02-18T12:20:09.303Z"
   },
   {
    "duration": 13,
    "start_time": "2025-02-18T12:20:09.451Z"
   },
   {
    "duration": 246,
    "start_time": "2025-02-18T12:20:09.609Z"
   },
   {
    "duration": 5,
    "start_time": "2025-02-18T12:20:17.011Z"
   },
   {
    "duration": 20,
    "start_time": "2025-02-18T12:20:18.449Z"
   },
   {
    "duration": 13,
    "start_time": "2025-02-18T12:20:18.796Z"
   },
   {
    "duration": 266,
    "start_time": "2025-02-18T12:20:19.053Z"
   },
   {
    "duration": 379,
    "start_time": "2025-02-18T13:27:54.854Z"
   },
   {
    "duration": 4,
    "start_time": "2025-02-18T13:28:39.367Z"
   },
   {
    "duration": 12,
    "start_time": "2025-02-18T13:28:40.662Z"
   },
   {
    "duration": 4194,
    "start_time": "2025-02-18T13:28:41.090Z"
   },
   {
    "duration": 3,
    "start_time": "2025-02-18T13:29:00.763Z"
   },
   {
    "duration": 12,
    "start_time": "2025-02-18T13:29:01.046Z"
   },
   {
    "duration": 359,
    "start_time": "2025-02-18T13:29:01.141Z"
   },
   {
    "duration": 3,
    "start_time": "2025-02-18T13:29:12.063Z"
   },
   {
    "duration": 17,
    "start_time": "2025-02-18T13:29:12.068Z"
   },
   {
    "duration": 309,
    "start_time": "2025-02-18T13:29:12.087Z"
   },
   {
    "duration": 4,
    "start_time": "2025-02-18T13:29:23.034Z"
   },
   {
    "duration": 12,
    "start_time": "2025-02-18T13:29:23.316Z"
   },
   {
    "duration": 318,
    "start_time": "2025-02-18T13:29:23.403Z"
   },
   {
    "duration": 54,
    "start_time": "2025-02-18T17:27:01.069Z"
   },
   {
    "duration": 1416,
    "start_time": "2025-02-18T17:27:05.476Z"
   },
   {
    "duration": 66,
    "start_time": "2025-02-18T17:27:06.895Z"
   },
   {
    "duration": 18,
    "start_time": "2025-02-18T17:27:06.962Z"
   },
   {
    "duration": 43,
    "start_time": "2025-02-18T17:27:06.982Z"
   },
   {
    "duration": 17,
    "start_time": "2025-02-18T17:27:07.027Z"
   },
   {
    "duration": 36,
    "start_time": "2025-02-18T17:27:07.046Z"
   },
   {
    "duration": 34,
    "start_time": "2025-02-18T17:27:07.084Z"
   },
   {
    "duration": 36,
    "start_time": "2025-02-18T17:27:07.119Z"
   },
   {
    "duration": 32,
    "start_time": "2025-02-18T17:27:07.157Z"
   },
   {
    "duration": 36,
    "start_time": "2025-02-18T17:27:07.191Z"
   },
   {
    "duration": 25,
    "start_time": "2025-02-18T17:27:07.229Z"
   },
   {
    "duration": 37,
    "start_time": "2025-02-18T17:27:07.256Z"
   },
   {
    "duration": 25,
    "start_time": "2025-02-18T17:27:07.295Z"
   },
   {
    "duration": 23,
    "start_time": "2025-02-18T17:27:07.323Z"
   },
   {
    "duration": 23,
    "start_time": "2025-02-18T17:27:07.348Z"
   },
   {
    "duration": 37,
    "start_time": "2025-02-18T17:27:07.373Z"
   },
   {
    "duration": 431,
    "start_time": "2025-02-18T17:27:07.412Z"
   },
   {
    "duration": 11,
    "start_time": "2025-02-18T17:27:07.845Z"
   },
   {
    "duration": 316,
    "start_time": "2025-02-18T17:27:07.858Z"
   },
   {
    "duration": 3,
    "start_time": "2025-02-18T17:27:08.176Z"
   },
   {
    "duration": 40,
    "start_time": "2025-02-18T17:27:08.181Z"
   },
   {
    "duration": 354,
    "start_time": "2025-02-18T17:27:08.223Z"
   },
   {
    "duration": 5,
    "start_time": "2025-02-18T17:27:08.579Z"
   },
   {
    "duration": 45,
    "start_time": "2025-02-18T17:27:08.586Z"
   },
   {
    "duration": 45,
    "start_time": "2025-02-18T17:27:08.633Z"
   },
   {
    "duration": 294,
    "start_time": "2025-02-18T17:27:08.680Z"
   },
   {
    "duration": 114,
    "start_time": "2025-02-18T17:27:08.975Z"
   },
   {
    "duration": 1528,
    "start_time": "2025-02-18T17:30:59.192Z"
   },
   {
    "duration": 1692,
    "start_time": "2025-02-18T17:31:14.013Z"
   },
   {
    "duration": 1474,
    "start_time": "2025-02-18T17:31:20.605Z"
   },
   {
    "duration": 1441,
    "start_time": "2025-02-18T17:31:59.367Z"
   },
   {
    "duration": 1449,
    "start_time": "2025-02-18T17:32:23.989Z"
   },
   {
    "duration": 2020,
    "start_time": "2025-02-18T17:33:39.545Z"
   },
   {
    "duration": 3,
    "start_time": "2025-02-18T17:36:27.181Z"
   },
   {
    "duration": 17,
    "start_time": "2025-02-18T17:39:11.752Z"
   },
   {
    "duration": 1254,
    "start_time": "2025-02-18T17:39:43.420Z"
   },
   {
    "duration": 58,
    "start_time": "2025-02-18T17:39:44.676Z"
   },
   {
    "duration": 19,
    "start_time": "2025-02-18T17:39:44.736Z"
   },
   {
    "duration": 17,
    "start_time": "2025-02-18T17:39:44.756Z"
   },
   {
    "duration": 5,
    "start_time": "2025-02-18T17:39:44.776Z"
   },
   {
    "duration": 5,
    "start_time": "2025-02-18T17:39:44.782Z"
   },
   {
    "duration": 10,
    "start_time": "2025-02-18T17:39:44.788Z"
   },
   {
    "duration": 6,
    "start_time": "2025-02-18T17:39:44.833Z"
   },
   {
    "duration": 12,
    "start_time": "2025-02-18T17:39:44.841Z"
   },
   {
    "duration": 7,
    "start_time": "2025-02-18T17:39:44.855Z"
   },
   {
    "duration": 18,
    "start_time": "2025-02-18T17:39:44.864Z"
   },
   {
    "duration": 19,
    "start_time": "2025-02-18T17:39:44.884Z"
   },
   {
    "duration": 5,
    "start_time": "2025-02-18T17:39:44.905Z"
   },
   {
    "duration": 8,
    "start_time": "2025-02-18T17:39:44.912Z"
   },
   {
    "duration": 11,
    "start_time": "2025-02-18T17:39:44.922Z"
   },
   {
    "duration": 11,
    "start_time": "2025-02-18T17:39:44.934Z"
   },
   {
    "duration": 377,
    "start_time": "2025-02-18T17:39:44.947Z"
   },
   {
    "duration": 14,
    "start_time": "2025-02-18T17:39:45.326Z"
   },
   {
    "duration": 309,
    "start_time": "2025-02-18T17:39:45.342Z"
   },
   {
    "duration": 4,
    "start_time": "2025-02-18T17:39:45.652Z"
   },
   {
    "duration": 14,
    "start_time": "2025-02-18T17:39:45.657Z"
   },
   {
    "duration": 357,
    "start_time": "2025-02-18T17:39:45.672Z"
   },
   {
    "duration": 5,
    "start_time": "2025-02-18T17:39:46.031Z"
   },
   {
    "duration": 19,
    "start_time": "2025-02-18T17:39:46.037Z"
   },
   {
    "duration": 13,
    "start_time": "2025-02-18T17:39:46.058Z"
   },
   {
    "duration": 289,
    "start_time": "2025-02-18T17:39:46.073Z"
   },
   {
    "duration": 1486,
    "start_time": "2025-02-18T17:39:46.363Z"
   },
   {
    "duration": 1411,
    "start_time": "2025-02-18T17:39:47.851Z"
   },
   {
    "duration": 1444,
    "start_time": "2025-02-18T17:39:49.264Z"
   },
   {
    "duration": 124,
    "start_time": "2025-02-18T17:39:50.710Z"
   },
   {
    "duration": 9,
    "start_time": "2025-02-18T17:40:27.891Z"
   },
   {
    "duration": 16,
    "start_time": "2025-02-18T17:40:48.602Z"
   },
   {
    "duration": 6,
    "start_time": "2025-02-18T17:41:48.662Z"
   },
   {
    "duration": 15,
    "start_time": "2025-02-18T17:41:53.346Z"
   },
   {
    "duration": 4,
    "start_time": "2025-02-18T17:42:04.767Z"
   },
   {
    "duration": 16,
    "start_time": "2025-02-18T17:42:09.728Z"
   },
   {
    "duration": 17,
    "start_time": "2025-02-18T17:42:37.725Z"
   },
   {
    "duration": 505,
    "start_time": "2025-02-18T17:42:44.689Z"
   },
   {
    "duration": 28,
    "start_time": "2025-02-18T17:53:52.643Z"
   },
   {
    "duration": 11,
    "start_time": "2025-02-18T17:54:14.380Z"
   },
   {
    "duration": 4,
    "start_time": "2025-02-18T17:56:32.375Z"
   },
   {
    "duration": 22,
    "start_time": "2025-02-18T17:56:47.495Z"
   },
   {
    "duration": 14,
    "start_time": "2025-02-18T17:58:13.548Z"
   },
   {
    "duration": 19,
    "start_time": "2025-02-18T17:59:22.892Z"
   },
   {
    "duration": 2270,
    "start_time": "2025-02-18T17:59:34.277Z"
   },
   {
    "duration": 17,
    "start_time": "2025-02-18T17:59:42.758Z"
   },
   {
    "duration": 389,
    "start_time": "2025-02-18T18:00:14.179Z"
   },
   {
    "duration": 2,
    "start_time": "2025-02-18T18:03:16.354Z"
   },
   {
    "duration": 16,
    "start_time": "2025-02-18T18:03:47.330Z"
   },
   {
    "duration": 379,
    "start_time": "2025-02-18T18:03:47.728Z"
   },
   {
    "duration": 18,
    "start_time": "2025-02-18T18:04:10.133Z"
   },
   {
    "duration": 409,
    "start_time": "2025-02-18T18:04:34.123Z"
   },
   {
    "duration": 519,
    "start_time": "2025-02-18T18:04:40.240Z"
   },
   {
    "duration": 416,
    "start_time": "2025-02-18T18:04:48.617Z"
   },
   {
    "duration": 402,
    "start_time": "2025-02-18T18:04:54.484Z"
   },
   {
    "duration": 401,
    "start_time": "2025-02-18T18:05:00.805Z"
   },
   {
    "duration": 397,
    "start_time": "2025-02-18T18:05:04.770Z"
   },
   {
    "duration": 384,
    "start_time": "2025-02-18T18:05:09.549Z"
   },
   {
    "duration": 494,
    "start_time": "2025-02-18T18:05:37.475Z"
   },
   {
    "duration": 391,
    "start_time": "2025-02-18T18:05:53.310Z"
   },
   {
    "duration": 13,
    "start_time": "2025-02-18T18:08:17.698Z"
   },
   {
    "duration": 13,
    "start_time": "2025-02-18T18:08:29.262Z"
   },
   {
    "duration": 294,
    "start_time": "2025-02-18T18:13:08.433Z"
   },
   {
    "duration": 283,
    "start_time": "2025-02-18T18:14:10.017Z"
   },
   {
    "duration": 374,
    "start_time": "2025-02-18T18:14:13.047Z"
   },
   {
    "duration": 2305,
    "start_time": "2025-02-18T18:14:19.242Z"
   },
   {
    "duration": 16,
    "start_time": "2025-02-18T18:14:23.559Z"
   },
   {
    "duration": 492,
    "start_time": "2025-02-18T18:14:25.500Z"
   },
   {
    "duration": 14,
    "start_time": "2025-02-18T18:14:46.759Z"
   },
   {
    "duration": 1255,
    "start_time": "2025-02-18T18:17:20.745Z"
   },
   {
    "duration": 49,
    "start_time": "2025-02-18T18:17:22.002Z"
   },
   {
    "duration": 19,
    "start_time": "2025-02-18T18:17:22.053Z"
   },
   {
    "duration": 33,
    "start_time": "2025-02-18T18:17:22.073Z"
   },
   {
    "duration": 11,
    "start_time": "2025-02-18T18:17:22.108Z"
   },
   {
    "duration": 34,
    "start_time": "2025-02-18T18:17:22.120Z"
   },
   {
    "duration": 54,
    "start_time": "2025-02-18T18:17:22.157Z"
   },
   {
    "duration": 22,
    "start_time": "2025-02-18T18:17:22.214Z"
   },
   {
    "duration": 9,
    "start_time": "2025-02-18T18:17:22.238Z"
   },
   {
    "duration": 19,
    "start_time": "2025-02-18T18:17:22.249Z"
   },
   {
    "duration": 5,
    "start_time": "2025-02-18T18:17:22.270Z"
   },
   {
    "duration": 12,
    "start_time": "2025-02-18T18:17:22.277Z"
   },
   {
    "duration": 12,
    "start_time": "2025-02-18T18:17:22.290Z"
   },
   {
    "duration": 21,
    "start_time": "2025-02-18T18:17:22.306Z"
   },
   {
    "duration": 11,
    "start_time": "2025-02-18T18:17:22.329Z"
   },
   {
    "duration": 14,
    "start_time": "2025-02-18T18:17:22.342Z"
   },
   {
    "duration": 383,
    "start_time": "2025-02-18T18:17:22.358Z"
   },
   {
    "duration": 11,
    "start_time": "2025-02-18T18:17:22.743Z"
   },
   {
    "duration": 349,
    "start_time": "2025-02-18T18:17:22.756Z"
   },
   {
    "duration": 4,
    "start_time": "2025-02-18T18:17:23.107Z"
   },
   {
    "duration": 63,
    "start_time": "2025-02-18T18:17:23.113Z"
   },
   {
    "duration": 351,
    "start_time": "2025-02-18T18:17:23.178Z"
   },
   {
    "duration": 5,
    "start_time": "2025-02-18T18:17:23.531Z"
   },
   {
    "duration": 27,
    "start_time": "2025-02-18T18:17:23.538Z"
   },
   {
    "duration": 14,
    "start_time": "2025-02-18T18:17:23.566Z"
   },
   {
    "duration": 318,
    "start_time": "2025-02-18T18:17:23.582Z"
   },
   {
    "duration": 1557,
    "start_time": "2025-02-18T18:17:23.902Z"
   },
   {
    "duration": 1528,
    "start_time": "2025-02-18T18:17:25.461Z"
   },
   {
    "duration": 1567,
    "start_time": "2025-02-18T18:17:26.990Z"
   },
   {
    "duration": 15,
    "start_time": "2025-02-18T18:17:28.559Z"
   },
   {
    "duration": 576,
    "start_time": "2025-02-18T18:17:28.575Z"
   },
   {
    "duration": 21,
    "start_time": "2025-02-18T18:17:29.154Z"
   },
   {
    "duration": 369,
    "start_time": "2025-02-18T18:17:29.177Z"
   },
   {
    "duration": 19,
    "start_time": "2025-02-18T18:17:29.549Z"
   },
   {
    "duration": 413,
    "start_time": "2025-02-18T18:17:29.570Z"
   },
   {
    "duration": 15,
    "start_time": "2025-02-18T18:17:29.985Z"
   },
   {
    "duration": 425,
    "start_time": "2025-02-18T18:17:30.001Z"
   },
   {
    "duration": 462,
    "start_time": "2025-02-18T18:17:44.939Z"
   },
   {
    "duration": 402,
    "start_time": "2025-02-18T18:18:05.370Z"
   },
   {
    "duration": 156,
    "start_time": "2025-02-18T18:27:06.562Z"
   },
   {
    "duration": 11,
    "start_time": "2025-02-18T18:44:52.477Z"
   },
   {
    "duration": 1237,
    "start_time": "2025-02-18T18:45:47.535Z"
   },
   {
    "duration": 57,
    "start_time": "2025-02-18T18:45:48.774Z"
   },
   {
    "duration": 20,
    "start_time": "2025-02-18T18:45:48.832Z"
   },
   {
    "duration": 16,
    "start_time": "2025-02-18T18:45:48.854Z"
   },
   {
    "duration": 11,
    "start_time": "2025-02-18T18:45:48.872Z"
   },
   {
    "duration": 9,
    "start_time": "2025-02-18T18:45:48.885Z"
   },
   {
    "duration": 11,
    "start_time": "2025-02-18T18:45:48.895Z"
   },
   {
    "duration": 29,
    "start_time": "2025-02-18T18:45:48.908Z"
   },
   {
    "duration": 9,
    "start_time": "2025-02-18T18:45:48.939Z"
   },
   {
    "duration": 16,
    "start_time": "2025-02-18T18:45:48.950Z"
   },
   {
    "duration": 13,
    "start_time": "2025-02-18T18:45:48.968Z"
   },
   {
    "duration": 5,
    "start_time": "2025-02-18T18:45:48.983Z"
   },
   {
    "duration": 9,
    "start_time": "2025-02-18T18:45:48.990Z"
   },
   {
    "duration": 9,
    "start_time": "2025-02-18T18:45:49.002Z"
   },
   {
    "duration": 21,
    "start_time": "2025-02-18T18:45:49.013Z"
   },
   {
    "duration": 11,
    "start_time": "2025-02-18T18:45:49.035Z"
   },
   {
    "duration": 371,
    "start_time": "2025-02-18T18:45:49.048Z"
   },
   {
    "duration": 14,
    "start_time": "2025-02-18T18:45:49.421Z"
   },
   {
    "duration": 312,
    "start_time": "2025-02-18T18:45:49.437Z"
   },
   {
    "duration": 4,
    "start_time": "2025-02-18T18:45:49.751Z"
   },
   {
    "duration": 14,
    "start_time": "2025-02-18T18:45:49.756Z"
   },
   {
    "duration": 366,
    "start_time": "2025-02-18T18:45:49.771Z"
   },
   {
    "duration": 5,
    "start_time": "2025-02-18T18:45:50.139Z"
   },
   {
    "duration": 20,
    "start_time": "2025-02-18T18:45:50.146Z"
   },
   {
    "duration": 14,
    "start_time": "2025-02-18T18:45:50.168Z"
   },
   {
    "duration": 298,
    "start_time": "2025-02-18T18:45:50.183Z"
   },
   {
    "duration": 1495,
    "start_time": "2025-02-18T18:45:50.483Z"
   },
   {
    "duration": 1400,
    "start_time": "2025-02-18T18:45:51.980Z"
   },
   {
    "duration": 1447,
    "start_time": "2025-02-18T18:45:53.382Z"
   },
   {
    "duration": 19,
    "start_time": "2025-02-18T18:45:54.830Z"
   },
   {
    "duration": 474,
    "start_time": "2025-02-18T18:45:54.852Z"
   },
   {
    "duration": 16,
    "start_time": "2025-02-18T18:45:55.332Z"
   },
   {
    "duration": 371,
    "start_time": "2025-02-18T18:45:55.350Z"
   },
   {
    "duration": 25,
    "start_time": "2025-02-18T18:45:55.722Z"
   },
   {
    "duration": 414,
    "start_time": "2025-02-18T18:45:55.749Z"
   },
   {
    "duration": 14,
    "start_time": "2025-02-18T18:45:56.164Z"
   },
   {
    "duration": 436,
    "start_time": "2025-02-18T18:45:56.180Z"
   },
   {
    "duration": 117,
    "start_time": "2025-02-18T18:45:56.617Z"
   },
   {
    "duration": 0,
    "start_time": "2025-02-18T18:45:56.736Z"
   },
   {
    "duration": 10,
    "start_time": "2025-02-18T18:47:09.859Z"
   },
   {
    "duration": 10,
    "start_time": "2025-02-18T18:47:17.673Z"
   },
   {
    "duration": 11,
    "start_time": "2025-02-18T18:47:48.774Z"
   },
   {
    "duration": 11,
    "start_time": "2025-02-18T18:47:54.380Z"
   },
   {
    "duration": 13,
    "start_time": "2025-02-18T18:47:57.851Z"
   },
   {
    "duration": 12,
    "start_time": "2025-02-18T18:49:33.414Z"
   },
   {
    "duration": 5,
    "start_time": "2025-02-18T18:49:37.038Z"
   },
   {
    "duration": 5,
    "start_time": "2025-02-18T18:50:45.145Z"
   },
   {
    "duration": 11,
    "start_time": "2025-02-18T18:50:58.359Z"
   },
   {
    "duration": 10,
    "start_time": "2025-02-18T18:50:59.070Z"
   },
   {
    "duration": 11,
    "start_time": "2025-02-18T18:52:38.859Z"
   },
   {
    "duration": 11,
    "start_time": "2025-02-18T18:52:45.850Z"
   },
   {
    "duration": 11,
    "start_time": "2025-02-18T18:52:53.389Z"
   },
   {
    "duration": 11,
    "start_time": "2025-02-18T18:53:05.667Z"
   },
   {
    "duration": 11,
    "start_time": "2025-02-18T18:53:07.848Z"
   },
   {
    "duration": 1354,
    "start_time": "2025-02-20T08:21:47.320Z"
   },
   {
    "duration": 49,
    "start_time": "2025-02-20T08:21:48.675Z"
   },
   {
    "duration": 18,
    "start_time": "2025-02-20T08:21:48.727Z"
   },
   {
    "duration": 16,
    "start_time": "2025-02-20T08:21:48.747Z"
   },
   {
    "duration": 4,
    "start_time": "2025-02-20T08:21:48.764Z"
   },
   {
    "duration": 7,
    "start_time": "2025-02-20T08:21:48.770Z"
   },
   {
    "duration": 11,
    "start_time": "2025-02-20T08:21:48.778Z"
   },
   {
    "duration": 24,
    "start_time": "2025-02-20T08:21:48.791Z"
   },
   {
    "duration": 63,
    "start_time": "2025-02-20T08:21:48.825Z"
   },
   {
    "duration": 5,
    "start_time": "2025-02-20T08:21:48.891Z"
   },
   {
    "duration": 7,
    "start_time": "2025-02-20T08:21:48.898Z"
   },
   {
    "duration": 9,
    "start_time": "2025-02-20T08:21:48.907Z"
   },
   {
    "duration": 10,
    "start_time": "2025-02-20T08:21:48.918Z"
   },
   {
    "duration": 21,
    "start_time": "2025-02-20T08:21:48.930Z"
   },
   {
    "duration": 17,
    "start_time": "2025-02-20T08:21:48.953Z"
   },
   {
    "duration": 17,
    "start_time": "2025-02-20T08:21:48.972Z"
   },
   {
    "duration": 382,
    "start_time": "2025-02-20T08:21:48.990Z"
   },
   {
    "duration": 13,
    "start_time": "2025-02-20T08:21:49.374Z"
   },
   {
    "duration": 341,
    "start_time": "2025-02-20T08:21:49.388Z"
   },
   {
    "duration": 4,
    "start_time": "2025-02-20T08:21:49.731Z"
   },
   {
    "duration": 16,
    "start_time": "2025-02-20T08:21:49.737Z"
   },
   {
    "duration": 371,
    "start_time": "2025-02-20T08:21:49.755Z"
   },
   {
    "duration": 4,
    "start_time": "2025-02-20T08:21:50.128Z"
   },
   {
    "duration": 56,
    "start_time": "2025-02-20T08:21:50.133Z"
   },
   {
    "duration": 11,
    "start_time": "2025-02-20T08:21:50.191Z"
   },
   {
    "duration": 266,
    "start_time": "2025-02-20T08:21:50.203Z"
   },
   {
    "duration": 1463,
    "start_time": "2025-02-20T08:21:50.470Z"
   },
   {
    "duration": 1385,
    "start_time": "2025-02-20T08:21:51.937Z"
   },
   {
    "duration": 1323,
    "start_time": "2025-02-20T08:21:53.326Z"
   },
   {
    "duration": 13,
    "start_time": "2025-02-20T08:21:54.651Z"
   },
   {
    "duration": 522,
    "start_time": "2025-02-20T08:21:54.665Z"
   },
   {
    "duration": 28,
    "start_time": "2025-02-20T08:21:55.188Z"
   },
   {
    "duration": 336,
    "start_time": "2025-02-20T08:21:55.222Z"
   },
   {
    "duration": 17,
    "start_time": "2025-02-20T08:21:55.560Z"
   },
   {
    "duration": 384,
    "start_time": "2025-02-20T08:21:55.579Z"
   },
   {
    "duration": 14,
    "start_time": "2025-02-20T08:21:55.965Z"
   },
   {
    "duration": 410,
    "start_time": "2025-02-20T08:21:55.980Z"
   },
   {
    "duration": 25,
    "start_time": "2025-02-20T08:21:56.392Z"
   },
   {
    "duration": 18,
    "start_time": "2025-02-20T08:34:14.702Z"
   },
   {
    "duration": 106,
    "start_time": "2025-02-20T08:34:30.359Z"
   },
   {
    "duration": 14,
    "start_time": "2025-02-20T08:34:38.594Z"
   },
   {
    "duration": 10,
    "start_time": "2025-02-20T08:35:41.746Z"
   },
   {
    "duration": 14,
    "start_time": "2025-02-20T08:35:54.222Z"
   },
   {
    "duration": 10,
    "start_time": "2025-02-20T08:37:18.881Z"
   },
   {
    "duration": 3,
    "start_time": "2025-02-20T08:39:20.178Z"
   },
   {
    "duration": 1209,
    "start_time": "2025-02-20T08:39:25.002Z"
   },
   {
    "duration": 47,
    "start_time": "2025-02-20T08:39:26.222Z"
   },
   {
    "duration": 17,
    "start_time": "2025-02-20T08:39:26.270Z"
   },
   {
    "duration": 45,
    "start_time": "2025-02-20T08:39:26.288Z"
   },
   {
    "duration": 5,
    "start_time": "2025-02-20T08:39:26.335Z"
   },
   {
    "duration": 83,
    "start_time": "2025-02-20T08:39:26.341Z"
   },
   {
    "duration": 14,
    "start_time": "2025-02-20T08:39:26.425Z"
   },
   {
    "duration": 5,
    "start_time": "2025-02-20T08:39:26.440Z"
   },
   {
    "duration": 5,
    "start_time": "2025-02-20T08:39:26.447Z"
   },
   {
    "duration": 4,
    "start_time": "2025-02-20T08:39:26.454Z"
   },
   {
    "duration": 4,
    "start_time": "2025-02-20T08:39:26.459Z"
   },
   {
    "duration": 4,
    "start_time": "2025-02-20T08:39:26.465Z"
   },
   {
    "duration": 8,
    "start_time": "2025-02-20T08:39:26.471Z"
   },
   {
    "duration": 7,
    "start_time": "2025-02-20T08:39:26.482Z"
   },
   {
    "duration": 20,
    "start_time": "2025-02-20T08:39:26.490Z"
   },
   {
    "duration": 18,
    "start_time": "2025-02-20T08:39:26.511Z"
   },
   {
    "duration": 364,
    "start_time": "2025-02-20T08:39:26.531Z"
   },
   {
    "duration": 15,
    "start_time": "2025-02-20T08:39:26.896Z"
   },
   {
    "duration": 302,
    "start_time": "2025-02-20T08:39:26.912Z"
   },
   {
    "duration": 5,
    "start_time": "2025-02-20T08:39:27.216Z"
   },
   {
    "duration": 21,
    "start_time": "2025-02-20T08:39:27.223Z"
   },
   {
    "duration": 348,
    "start_time": "2025-02-20T08:39:27.246Z"
   },
   {
    "duration": 4,
    "start_time": "2025-02-20T08:39:27.596Z"
   },
   {
    "duration": 27,
    "start_time": "2025-02-20T08:39:27.602Z"
   },
   {
    "duration": 11,
    "start_time": "2025-02-20T08:39:27.631Z"
   },
   {
    "duration": 259,
    "start_time": "2025-02-20T08:39:27.644Z"
   },
   {
    "duration": 1441,
    "start_time": "2025-02-20T08:39:27.905Z"
   },
   {
    "duration": 1370,
    "start_time": "2025-02-20T08:39:29.347Z"
   },
   {
    "duration": 1343,
    "start_time": "2025-02-20T08:39:30.719Z"
   },
   {
    "duration": 14,
    "start_time": "2025-02-20T08:39:32.063Z"
   },
   {
    "duration": 494,
    "start_time": "2025-02-20T08:39:32.079Z"
   },
   {
    "duration": 15,
    "start_time": "2025-02-20T08:39:32.574Z"
   },
   {
    "duration": 364,
    "start_time": "2025-02-20T08:39:32.591Z"
   },
   {
    "duration": 14,
    "start_time": "2025-02-20T08:39:32.957Z"
   },
   {
    "duration": 382,
    "start_time": "2025-02-20T08:39:32.972Z"
   },
   {
    "duration": 13,
    "start_time": "2025-02-20T08:39:33.355Z"
   },
   {
    "duration": 395,
    "start_time": "2025-02-20T08:39:33.370Z"
   },
   {
    "duration": 10,
    "start_time": "2025-02-20T08:39:33.766Z"
   },
   {
    "duration": 13,
    "start_time": "2025-02-20T08:39:33.778Z"
   },
   {
    "duration": 47,
    "start_time": "2025-02-20T08:39:33.792Z"
   },
   {
    "duration": 18,
    "start_time": "2025-02-20T08:39:33.842Z"
   },
   {
    "duration": 28,
    "start_time": "2025-02-20T08:39:33.862Z"
   },
   {
    "duration": 3,
    "start_time": "2025-02-20T08:40:02.975Z"
   },
   {
    "duration": 1198,
    "start_time": "2025-02-20T08:40:08.118Z"
   },
   {
    "duration": 46,
    "start_time": "2025-02-20T08:40:09.319Z"
   },
   {
    "duration": 17,
    "start_time": "2025-02-20T08:40:09.367Z"
   },
   {
    "duration": 21,
    "start_time": "2025-02-20T08:40:09.385Z"
   },
   {
    "duration": 6,
    "start_time": "2025-02-20T08:40:09.408Z"
   },
   {
    "duration": 5,
    "start_time": "2025-02-20T08:40:09.415Z"
   },
   {
    "duration": 17,
    "start_time": "2025-02-20T08:40:09.423Z"
   },
   {
    "duration": 4,
    "start_time": "2025-02-20T08:40:09.442Z"
   },
   {
    "duration": 7,
    "start_time": "2025-02-20T08:40:09.448Z"
   },
   {
    "duration": 6,
    "start_time": "2025-02-20T08:40:09.457Z"
   },
   {
    "duration": 13,
    "start_time": "2025-02-20T08:40:09.464Z"
   },
   {
    "duration": 12,
    "start_time": "2025-02-20T08:40:09.478Z"
   },
   {
    "duration": 24,
    "start_time": "2025-02-20T08:40:09.492Z"
   },
   {
    "duration": 10,
    "start_time": "2025-02-20T08:40:09.523Z"
   },
   {
    "duration": 6,
    "start_time": "2025-02-20T08:40:09.534Z"
   },
   {
    "duration": 13,
    "start_time": "2025-02-20T08:40:09.541Z"
   },
   {
    "duration": 370,
    "start_time": "2025-02-20T08:40:09.556Z"
   },
   {
    "duration": 11,
    "start_time": "2025-02-20T08:40:09.927Z"
   },
   {
    "duration": 307,
    "start_time": "2025-02-20T08:40:09.939Z"
   },
   {
    "duration": 3,
    "start_time": "2025-02-20T08:40:10.247Z"
   },
   {
    "duration": 81,
    "start_time": "2025-02-20T08:40:10.252Z"
   },
   {
    "duration": 311,
    "start_time": "2025-02-20T08:40:10.335Z"
   },
   {
    "duration": 5,
    "start_time": "2025-02-20T08:40:10.648Z"
   },
   {
    "duration": 19,
    "start_time": "2025-02-20T08:40:10.655Z"
   },
   {
    "duration": 12,
    "start_time": "2025-02-20T08:40:10.676Z"
   },
   {
    "duration": 271,
    "start_time": "2025-02-20T08:40:10.690Z"
   },
   {
    "duration": 1416,
    "start_time": "2025-02-20T08:40:10.962Z"
   },
   {
    "duration": 1395,
    "start_time": "2025-02-20T08:40:12.380Z"
   },
   {
    "duration": 1574,
    "start_time": "2025-02-20T08:40:13.776Z"
   },
   {
    "duration": 15,
    "start_time": "2025-02-20T08:40:15.352Z"
   },
   {
    "duration": 613,
    "start_time": "2025-02-20T08:40:15.368Z"
   },
   {
    "duration": 27,
    "start_time": "2025-02-20T08:40:15.983Z"
   },
   {
    "duration": 356,
    "start_time": "2025-02-20T08:40:16.012Z"
   },
   {
    "duration": 21,
    "start_time": "2025-02-20T08:40:16.369Z"
   },
   {
    "duration": 495,
    "start_time": "2025-02-20T08:40:16.392Z"
   },
   {
    "duration": 22,
    "start_time": "2025-02-20T08:40:16.890Z"
   },
   {
    "duration": 482,
    "start_time": "2025-02-20T08:40:16.914Z"
   },
   {
    "duration": 19,
    "start_time": "2025-02-20T08:40:17.398Z"
   },
   {
    "duration": 16,
    "start_time": "2025-02-20T08:40:17.419Z"
   },
   {
    "duration": 21,
    "start_time": "2025-02-20T08:40:17.436Z"
   },
   {
    "duration": 19,
    "start_time": "2025-02-20T08:40:17.462Z"
   },
   {
    "duration": 29,
    "start_time": "2025-02-20T08:40:17.483Z"
   },
   {
    "duration": 105,
    "start_time": "2025-02-20T08:44:03.790Z"
   },
   {
    "duration": 9,
    "start_time": "2025-02-20T08:44:56.031Z"
   },
   {
    "duration": 12,
    "start_time": "2025-02-20T08:45:15.483Z"
   },
   {
    "duration": 61,
    "start_time": "2025-02-20T08:46:21.444Z"
   },
   {
    "duration": 9,
    "start_time": "2025-02-20T08:46:24.129Z"
   },
   {
    "duration": 3,
    "start_time": "2025-02-20T08:48:24.661Z"
   },
   {
    "duration": 73,
    "start_time": "2025-02-20T08:48:46.706Z"
   },
   {
    "duration": 10,
    "start_time": "2025-02-20T08:48:49.829Z"
   },
   {
    "duration": 10,
    "start_time": "2025-02-20T08:49:16.781Z"
   },
   {
    "duration": 15,
    "start_time": "2025-02-20T08:49:17.064Z"
   },
   {
    "duration": 9,
    "start_time": "2025-02-20T08:49:17.593Z"
   },
   {
    "duration": 25,
    "start_time": "2025-02-20T08:49:17.798Z"
   },
   {
    "duration": 12,
    "start_time": "2025-02-20T08:49:30.817Z"
   },
   {
    "duration": 15,
    "start_time": "2025-02-20T08:49:47.348Z"
   },
   {
    "duration": 19,
    "start_time": "2025-02-20T08:49:50.404Z"
   },
   {
    "duration": 15,
    "start_time": "2025-02-20T08:50:30.934Z"
   },
   {
    "duration": 10,
    "start_time": "2025-02-20T08:50:43.786Z"
   },
   {
    "duration": 10,
    "start_time": "2025-02-20T08:52:05.378Z"
   },
   {
    "duration": 11,
    "start_time": "2025-02-20T08:52:16.139Z"
   },
   {
    "duration": 13,
    "start_time": "2025-02-20T08:52:20.270Z"
   },
   {
    "duration": 10,
    "start_time": "2025-02-20T08:53:07.859Z"
   },
   {
    "duration": 1207,
    "start_time": "2025-02-20T08:57:27.786Z"
   },
   {
    "duration": 51,
    "start_time": "2025-02-20T08:57:28.994Z"
   },
   {
    "duration": 17,
    "start_time": "2025-02-20T08:57:29.046Z"
   },
   {
    "duration": 16,
    "start_time": "2025-02-20T08:57:29.064Z"
   },
   {
    "duration": 9,
    "start_time": "2025-02-20T08:57:29.082Z"
   },
   {
    "duration": 40,
    "start_time": "2025-02-20T08:57:29.092Z"
   },
   {
    "duration": 21,
    "start_time": "2025-02-20T08:57:29.134Z"
   },
   {
    "duration": 95,
    "start_time": "2025-02-20T08:57:29.157Z"
   },
   {
    "duration": 27,
    "start_time": "2025-02-20T08:57:29.254Z"
   },
   {
    "duration": 4,
    "start_time": "2025-02-20T08:57:29.282Z"
   },
   {
    "duration": 11,
    "start_time": "2025-02-20T08:57:29.288Z"
   },
   {
    "duration": 7,
    "start_time": "2025-02-20T08:57:29.301Z"
   },
   {
    "duration": 9,
    "start_time": "2025-02-20T08:57:29.310Z"
   },
   {
    "duration": 8,
    "start_time": "2025-02-20T08:57:29.323Z"
   },
   {
    "duration": 25,
    "start_time": "2025-02-20T08:57:29.333Z"
   },
   {
    "duration": 19,
    "start_time": "2025-02-20T08:57:29.359Z"
   },
   {
    "duration": 364,
    "start_time": "2025-02-20T08:57:29.379Z"
   },
   {
    "duration": 11,
    "start_time": "2025-02-20T08:57:29.745Z"
   },
   {
    "duration": 312,
    "start_time": "2025-02-20T08:57:29.757Z"
   },
   {
    "duration": 4,
    "start_time": "2025-02-20T08:57:30.070Z"
   },
   {
    "duration": 57,
    "start_time": "2025-02-20T08:57:30.075Z"
   },
   {
    "duration": 388,
    "start_time": "2025-02-20T08:57:30.134Z"
   },
   {
    "duration": 5,
    "start_time": "2025-02-20T08:57:30.524Z"
   },
   {
    "duration": 43,
    "start_time": "2025-02-20T08:57:30.530Z"
   },
   {
    "duration": 19,
    "start_time": "2025-02-20T08:57:30.575Z"
   },
   {
    "duration": 346,
    "start_time": "2025-02-20T08:57:30.596Z"
   },
   {
    "duration": 1446,
    "start_time": "2025-02-20T08:57:30.944Z"
   },
   {
    "duration": 1296,
    "start_time": "2025-02-20T08:57:32.392Z"
   },
   {
    "duration": 1428,
    "start_time": "2025-02-20T08:57:33.689Z"
   },
   {
    "duration": 20,
    "start_time": "2025-02-20T08:57:35.120Z"
   },
   {
    "duration": 510,
    "start_time": "2025-02-20T08:57:35.142Z"
   },
   {
    "duration": 18,
    "start_time": "2025-02-20T08:57:35.653Z"
   },
   {
    "duration": 378,
    "start_time": "2025-02-20T08:57:35.673Z"
   },
   {
    "duration": 16,
    "start_time": "2025-02-20T08:57:36.052Z"
   },
   {
    "duration": 391,
    "start_time": "2025-02-20T08:57:36.070Z"
   },
   {
    "duration": 12,
    "start_time": "2025-02-20T08:57:36.463Z"
   },
   {
    "duration": 467,
    "start_time": "2025-02-20T08:57:36.477Z"
   },
   {
    "duration": 115,
    "start_time": "2025-02-20T08:57:36.946Z"
   },
   {
    "duration": 0,
    "start_time": "2025-02-20T08:57:37.062Z"
   },
   {
    "duration": 0,
    "start_time": "2025-02-20T08:57:37.063Z"
   },
   {
    "duration": 1,
    "start_time": "2025-02-20T08:57:37.064Z"
   },
   {
    "duration": 0,
    "start_time": "2025-02-20T08:57:37.066Z"
   },
   {
    "duration": 9,
    "start_time": "2025-02-20T10:08:01.605Z"
   },
   {
    "duration": 2,
    "start_time": "2025-02-20T10:18:34.744Z"
   },
   {
    "duration": 5,
    "start_time": "2025-02-20T10:21:06.703Z"
   },
   {
    "duration": 415,
    "start_time": "2025-02-20T10:30:53.319Z"
   },
   {
    "duration": 322,
    "start_time": "2025-02-20T10:31:00.039Z"
   },
   {
    "duration": 321,
    "start_time": "2025-02-20T10:31:05.781Z"
   },
   {
    "duration": 20,
    "start_time": "2025-02-20T10:32:41.530Z"
   },
   {
    "duration": 19,
    "start_time": "2025-02-20T10:32:50.606Z"
   },
   {
    "duration": 376,
    "start_time": "2025-02-20T10:33:38.201Z"
   },
   {
    "duration": 23,
    "start_time": "2025-02-20T10:34:23.363Z"
   },
   {
    "duration": 22,
    "start_time": "2025-02-20T10:34:45.477Z"
   },
   {
    "duration": 22,
    "start_time": "2025-02-20T10:34:50.940Z"
   },
   {
    "duration": 94,
    "start_time": "2025-02-20T10:34:53.259Z"
   },
   {
    "duration": 75,
    "start_time": "2025-02-20T10:35:03.790Z"
   },
   {
    "duration": 24,
    "start_time": "2025-02-20T10:35:14.699Z"
   },
   {
    "duration": 454,
    "start_time": "2025-02-20T10:35:26.796Z"
   },
   {
    "duration": 364,
    "start_time": "2025-02-20T10:35:35.335Z"
   },
   {
    "duration": 352,
    "start_time": "2025-02-20T10:36:20.387Z"
   },
   {
    "duration": 357,
    "start_time": "2025-02-20T10:36:25.305Z"
   },
   {
    "duration": 366,
    "start_time": "2025-02-20T10:36:33.294Z"
   },
   {
    "duration": 153,
    "start_time": "2025-02-20T10:36:49.763Z"
   },
   {
    "duration": 151,
    "start_time": "2025-02-20T10:36:56.605Z"
   },
   {
    "duration": 497,
    "start_time": "2025-02-20T10:37:00.148Z"
   },
   {
    "duration": 376,
    "start_time": "2025-02-20T10:38:33.774Z"
   },
   {
    "duration": 387,
    "start_time": "2025-02-20T10:38:36.118Z"
   },
   {
    "duration": 368,
    "start_time": "2025-02-20T10:38:41.917Z"
   },
   {
    "duration": 359,
    "start_time": "2025-02-20T10:38:47.943Z"
   },
   {
    "duration": 465,
    "start_time": "2025-02-20T10:40:03.067Z"
   },
   {
    "duration": 28,
    "start_time": "2025-02-20T10:40:12.233Z"
   },
   {
    "duration": 311,
    "start_time": "2025-02-20T10:40:16.690Z"
   },
   {
    "duration": 11,
    "start_time": "2025-02-20T10:43:33.296Z"
   },
   {
    "duration": 10,
    "start_time": "2025-02-20T10:43:47.522Z"
   },
   {
    "duration": 10,
    "start_time": "2025-02-20T10:43:51.331Z"
   },
   {
    "duration": 1064,
    "start_time": "2025-02-20T10:43:58.238Z"
   },
   {
    "duration": 1152,
    "start_time": "2025-02-20T10:45:53.161Z"
   },
   {
    "duration": 62,
    "start_time": "2025-02-20T10:46:41.198Z"
   },
   {
    "duration": 1043,
    "start_time": "2025-02-20T10:46:47.537Z"
   },
   {
    "duration": 96,
    "start_time": "2025-02-20T10:47:04.695Z"
   },
   {
    "duration": 1148,
    "start_time": "2025-02-20T10:47:36.641Z"
   },
   {
    "duration": 3,
    "start_time": "2025-02-20T10:48:19.021Z"
   },
   {
    "duration": 3,
    "start_time": "2025-02-20T10:48:22.448Z"
   },
   {
    "duration": 13,
    "start_time": "2025-02-20T10:48:24.142Z"
   },
   {
    "duration": 288,
    "start_time": "2025-02-20T10:48:24.690Z"
   },
   {
    "duration": 4,
    "start_time": "2025-02-20T10:48:37.473Z"
   },
   {
    "duration": 10,
    "start_time": "2025-02-20T10:48:37.770Z"
   },
   {
    "duration": 290,
    "start_time": "2025-02-20T10:48:38.137Z"
   },
   {
    "duration": 4,
    "start_time": "2025-02-20T10:48:49.401Z"
   },
   {
    "duration": 11,
    "start_time": "2025-02-20T10:48:49.667Z"
   },
   {
    "duration": 306,
    "start_time": "2025-02-20T10:48:49.897Z"
   },
   {
    "duration": 4,
    "start_time": "2025-02-20T10:50:24.442Z"
   },
   {
    "duration": 12,
    "start_time": "2025-02-20T10:50:24.957Z"
   },
   {
    "duration": 298,
    "start_time": "2025-02-20T10:50:25.161Z"
   },
   {
    "duration": 3,
    "start_time": "2025-02-20T10:50:38.269Z"
   },
   {
    "duration": 12,
    "start_time": "2025-02-20T10:50:38.603Z"
   },
   {
    "duration": 429,
    "start_time": "2025-02-20T10:50:38.796Z"
   },
   {
    "duration": 3,
    "start_time": "2025-02-20T10:51:19.950Z"
   },
   {
    "duration": 12,
    "start_time": "2025-02-20T10:51:20.746Z"
   },
   {
    "duration": 144,
    "start_time": "2025-02-20T10:51:20.973Z"
   },
   {
    "duration": 130,
    "start_time": "2025-02-20T10:51:27.731Z"
   },
   {
    "duration": 3,
    "start_time": "2025-02-20T10:52:06.379Z"
   },
   {
    "duration": 13,
    "start_time": "2025-02-20T10:52:06.767Z"
   },
   {
    "duration": 295,
    "start_time": "2025-02-20T10:52:07.228Z"
   },
   {
    "duration": 13,
    "start_time": "2025-02-20T10:55:40.758Z"
   },
   {
    "duration": 18,
    "start_time": "2025-02-20T10:55:54.245Z"
   },
   {
    "duration": 296,
    "start_time": "2025-02-20T10:56:03.209Z"
   },
   {
    "duration": 285,
    "start_time": "2025-02-20T10:56:35.743Z"
   },
   {
    "duration": 22,
    "start_time": "2025-02-20T10:56:42.383Z"
   },
   {
    "duration": 10,
    "start_time": "2025-02-20T10:57:23.101Z"
   },
   {
    "duration": 676,
    "start_time": "2025-02-20T10:57:28.319Z"
   },
   {
    "duration": 1160,
    "start_time": "2025-02-20T10:57:35.235Z"
   },
   {
    "duration": 19,
    "start_time": "2025-02-20T10:58:06.607Z"
   },
   {
    "duration": 1098,
    "start_time": "2025-02-20T10:58:08.435Z"
   },
   {
    "duration": 65,
    "start_time": "2025-02-20T11:19:20.615Z"
   },
   {
    "duration": 5,
    "start_time": "2025-02-20T11:19:59.084Z"
   },
   {
    "duration": 5,
    "start_time": "2025-02-20T11:20:07.898Z"
   },
   {
    "duration": 5,
    "start_time": "2025-02-20T11:20:13.280Z"
   },
   {
    "duration": 5,
    "start_time": "2025-02-20T11:24:16.277Z"
   },
   {
    "duration": 5,
    "start_time": "2025-02-20T11:24:20.169Z"
   },
   {
    "duration": 17,
    "start_time": "2025-02-20T11:26:22.038Z"
   },
   {
    "duration": 326,
    "start_time": "2025-02-20T11:26:33.418Z"
   },
   {
    "duration": 5,
    "start_time": "2025-02-20T11:34:44.227Z"
   },
   {
    "duration": 203,
    "start_time": "2025-02-20T11:34:45.000Z"
   },
   {
    "duration": 208,
    "start_time": "2025-02-20T11:34:49.724Z"
   },
   {
    "duration": 1481,
    "start_time": "2025-02-20T11:40:22.153Z"
   },
   {
    "duration": 82,
    "start_time": "2025-02-20T11:41:22.032Z"
   },
   {
    "duration": 1057,
    "start_time": "2025-02-20T11:41:33.744Z"
   },
   {
    "duration": 934,
    "start_time": "2025-02-20T11:41:47.266Z"
   },
   {
    "duration": 1219,
    "start_time": "2025-02-20T11:42:00.016Z"
   },
   {
    "duration": 55,
    "start_time": "2025-02-20T11:42:01.236Z"
   },
   {
    "duration": 19,
    "start_time": "2025-02-20T11:42:01.293Z"
   },
   {
    "duration": 21,
    "start_time": "2025-02-20T11:42:01.314Z"
   },
   {
    "duration": 6,
    "start_time": "2025-02-20T11:42:01.337Z"
   },
   {
    "duration": 5,
    "start_time": "2025-02-20T11:42:01.344Z"
   },
   {
    "duration": 83,
    "start_time": "2025-02-20T11:42:01.351Z"
   },
   {
    "duration": 5,
    "start_time": "2025-02-20T11:42:01.436Z"
   },
   {
    "duration": 10,
    "start_time": "2025-02-20T11:42:01.443Z"
   },
   {
    "duration": 17,
    "start_time": "2025-02-20T11:42:01.455Z"
   },
   {
    "duration": 22,
    "start_time": "2025-02-20T11:42:01.473Z"
   },
   {
    "duration": 19,
    "start_time": "2025-02-20T11:42:01.497Z"
   },
   {
    "duration": 68,
    "start_time": "2025-02-20T11:42:01.518Z"
   },
   {
    "duration": 16,
    "start_time": "2025-02-20T11:42:01.589Z"
   },
   {
    "duration": 138,
    "start_time": "2025-02-20T11:42:01.607Z"
   },
   {
    "duration": 392,
    "start_time": "2025-02-20T11:42:01.747Z"
   },
   {
    "duration": 326,
    "start_time": "2025-02-20T11:42:02.141Z"
   },
   {
    "duration": 1131,
    "start_time": "2025-02-20T11:42:02.469Z"
   },
   {
    "duration": 10,
    "start_time": "2025-02-20T11:42:03.602Z"
   },
   {
    "duration": 288,
    "start_time": "2025-02-20T11:42:03.613Z"
   },
   {
    "duration": 873,
    "start_time": "2025-02-20T11:42:03.902Z"
   },
   {
    "duration": 17,
    "start_time": "2025-02-20T11:42:04.777Z"
   },
   {
    "duration": 93,
    "start_time": "2025-02-20T11:42:04.795Z"
   },
   {
    "duration": 251,
    "start_time": "2025-02-20T11:42:04.889Z"
   },
   {
    "duration": 1345,
    "start_time": "2025-02-20T11:42:05.141Z"
   },
   {
    "duration": 1266,
    "start_time": "2025-02-20T11:42:06.488Z"
   },
   {
    "duration": 1303,
    "start_time": "2025-02-20T11:42:07.756Z"
   },
   {
    "duration": 15,
    "start_time": "2025-02-20T11:42:09.061Z"
   },
   {
    "duration": 472,
    "start_time": "2025-02-20T11:42:09.077Z"
   },
   {
    "duration": 14,
    "start_time": "2025-02-20T11:42:09.551Z"
   },
   {
    "duration": 432,
    "start_time": "2025-02-20T11:42:09.566Z"
   },
   {
    "duration": 18,
    "start_time": "2025-02-20T11:42:10.000Z"
   },
   {
    "duration": 358,
    "start_time": "2025-02-20T11:42:10.019Z"
   },
   {
    "duration": 12,
    "start_time": "2025-02-20T11:42:10.379Z"
   },
   {
    "duration": 384,
    "start_time": "2025-02-20T11:42:10.392Z"
   },
   {
    "duration": 8,
    "start_time": "2025-02-20T11:42:10.778Z"
   },
   {
    "duration": 59,
    "start_time": "2025-02-20T11:42:10.787Z"
   },
   {
    "duration": 14,
    "start_time": "2025-02-20T11:42:10.847Z"
   },
   {
    "duration": 11,
    "start_time": "2025-02-20T11:42:10.863Z"
   },
   {
    "duration": 110,
    "start_time": "2025-02-20T11:42:10.875Z"
   },
   {
    "duration": 248,
    "start_time": "2025-02-20T11:49:11.894Z"
   },
   {
    "duration": 236,
    "start_time": "2025-02-20T11:49:24.695Z"
   },
   {
    "duration": 239,
    "start_time": "2025-02-20T11:49:36.475Z"
   },
   {
    "duration": 199,
    "start_time": "2025-02-20T11:50:23.191Z"
   },
   {
    "duration": 539,
    "start_time": "2025-02-20T11:51:02.186Z"
   },
   {
    "duration": 180,
    "start_time": "2025-02-20T11:51:21.275Z"
   },
   {
    "duration": 104,
    "start_time": "2025-02-20T11:51:48.449Z"
   },
   {
    "duration": 331,
    "start_time": "2025-02-20T11:51:51.431Z"
   },
   {
    "duration": 26,
    "start_time": "2025-02-20T12:03:16.868Z"
   },
   {
    "duration": 9,
    "start_time": "2025-02-20T12:03:17.181Z"
   },
   {
    "duration": 242,
    "start_time": "2025-02-20T12:03:18.281Z"
   },
   {
    "duration": 261,
    "start_time": "2025-02-20T12:03:31.115Z"
   },
   {
    "duration": 269,
    "start_time": "2025-02-20T12:03:36.966Z"
   },
   {
    "duration": 250,
    "start_time": "2025-02-20T12:03:39.635Z"
   },
   {
    "duration": 14,
    "start_time": "2025-02-20T12:03:55.519Z"
   },
   {
    "duration": 13,
    "start_time": "2025-02-20T12:04:00.169Z"
   },
   {
    "duration": 10,
    "start_time": "2025-02-20T12:04:08.943Z"
   },
   {
    "duration": 11,
    "start_time": "2025-02-20T12:06:04.681Z"
   },
   {
    "duration": 11,
    "start_time": "2025-02-20T12:06:15.102Z"
   },
   {
    "duration": 183,
    "start_time": "2025-02-20T12:07:11.251Z"
   },
   {
    "duration": 9,
    "start_time": "2025-02-20T12:14:46.128Z"
   },
   {
    "duration": 1454,
    "start_time": "2025-02-20T12:14:51.859Z"
   },
   {
    "duration": 1400,
    "start_time": "2025-02-20T12:18:24.112Z"
   },
   {
    "duration": 18,
    "start_time": "2025-02-20T12:23:02.500Z"
   },
   {
    "duration": 15,
    "start_time": "2025-02-20T12:23:10.488Z"
   },
   {
    "duration": 763,
    "start_time": "2025-02-20T12:23:28.712Z"
   },
   {
    "duration": 18,
    "start_time": "2025-02-20T12:25:05.628Z"
   },
   {
    "duration": 555,
    "start_time": "2025-02-20T12:25:19.905Z"
   },
   {
    "duration": 528,
    "start_time": "2025-02-20T12:27:24.074Z"
   },
   {
    "duration": 700,
    "start_time": "2025-02-20T12:35:08.519Z"
   },
   {
    "duration": 561,
    "start_time": "2025-02-20T12:35:49.812Z"
   },
   {
    "duration": 563,
    "start_time": "2025-02-20T12:39:37.849Z"
   },
   {
    "duration": 691,
    "start_time": "2025-02-20T12:40:34.890Z"
   },
   {
    "duration": 581,
    "start_time": "2025-02-20T12:40:35.584Z"
   },
   {
    "duration": 169,
    "start_time": "2025-02-20T12:44:22.742Z"
   },
   {
    "duration": 284,
    "start_time": "2025-02-20T12:44:26.355Z"
   },
   {
    "duration": 15,
    "start_time": "2025-02-20T12:46:29.345Z"
   },
   {
    "duration": 194,
    "start_time": "2025-02-20T12:46:54.412Z"
   },
   {
    "duration": 195,
    "start_time": "2025-02-20T12:47:35.781Z"
   },
   {
    "duration": 1189,
    "start_time": "2025-02-20T12:54:45.055Z"
   },
   {
    "duration": 46,
    "start_time": "2025-02-20T12:54:46.246Z"
   },
   {
    "duration": 27,
    "start_time": "2025-02-20T12:54:46.294Z"
   },
   {
    "duration": 16,
    "start_time": "2025-02-20T12:54:46.322Z"
   },
   {
    "duration": 5,
    "start_time": "2025-02-20T12:54:46.341Z"
   },
   {
    "duration": 18,
    "start_time": "2025-02-20T12:54:46.347Z"
   },
   {
    "duration": 33,
    "start_time": "2025-02-20T12:54:46.366Z"
   },
   {
    "duration": 15,
    "start_time": "2025-02-20T12:54:46.400Z"
   },
   {
    "duration": 7,
    "start_time": "2025-02-20T12:54:46.417Z"
   },
   {
    "duration": 5,
    "start_time": "2025-02-20T12:54:46.426Z"
   },
   {
    "duration": 22,
    "start_time": "2025-02-20T12:54:46.433Z"
   },
   {
    "duration": 12,
    "start_time": "2025-02-20T12:54:46.457Z"
   },
   {
    "duration": 4,
    "start_time": "2025-02-20T12:54:46.471Z"
   },
   {
    "duration": 7,
    "start_time": "2025-02-20T12:54:46.479Z"
   },
   {
    "duration": 21,
    "start_time": "2025-02-20T12:54:46.488Z"
   },
   {
    "duration": 393,
    "start_time": "2025-02-20T12:54:46.511Z"
   },
   {
    "duration": 331,
    "start_time": "2025-02-20T12:54:46.908Z"
   },
   {
    "duration": 1182,
    "start_time": "2025-02-20T12:54:47.241Z"
   },
   {
    "duration": 4,
    "start_time": "2025-02-20T12:54:48.425Z"
   },
   {
    "duration": 206,
    "start_time": "2025-02-20T12:54:48.431Z"
   },
   {
    "duration": 922,
    "start_time": "2025-02-20T12:54:48.638Z"
   },
   {
    "duration": 10,
    "start_time": "2025-02-20T12:54:49.562Z"
   },
   {
    "duration": 12,
    "start_time": "2025-02-20T12:54:49.573Z"
   },
   {
    "duration": 4,
    "start_time": "2025-02-20T12:54:49.609Z"
   },
   {
    "duration": 214,
    "start_time": "2025-02-20T12:54:49.614Z"
   },
   {
    "duration": 357,
    "start_time": "2025-02-20T12:54:49.830Z"
   },
   {
    "duration": 577,
    "start_time": "2025-02-20T12:54:50.189Z"
   },
   {
    "duration": 580,
    "start_time": "2025-02-20T12:54:50.769Z"
   },
   {
    "duration": 668,
    "start_time": "2025-02-20T12:54:51.351Z"
   },
   {
    "duration": 204,
    "start_time": "2025-02-20T12:54:52.020Z"
   },
   {
    "duration": 27,
    "start_time": "2025-02-20T12:54:52.225Z"
   },
   {
    "duration": 399,
    "start_time": "2025-02-20T12:54:52.254Z"
   },
   {
    "duration": 17,
    "start_time": "2025-02-20T12:54:52.655Z"
   },
   {
    "duration": 400,
    "start_time": "2025-02-20T12:54:52.674Z"
   },
   {
    "duration": 13,
    "start_time": "2025-02-20T12:54:53.075Z"
   },
   {
    "duration": 399,
    "start_time": "2025-02-20T12:54:53.089Z"
   },
   {
    "duration": 8,
    "start_time": "2025-02-20T12:54:53.490Z"
   },
   {
    "duration": 10,
    "start_time": "2025-02-20T12:54:53.509Z"
   },
   {
    "duration": 71,
    "start_time": "2025-02-20T12:54:53.520Z"
   },
   {
    "duration": 25,
    "start_time": "2025-02-20T12:54:53.593Z"
   },
   {
    "duration": 16,
    "start_time": "2025-02-20T12:54:53.622Z"
   },
   {
    "duration": 1114,
    "start_time": "2025-02-20T13:14:16.242Z"
   },
   {
    "duration": 46,
    "start_time": "2025-02-20T13:14:17.358Z"
   },
   {
    "duration": 17,
    "start_time": "2025-02-20T13:14:17.406Z"
   },
   {
    "duration": 14,
    "start_time": "2025-02-20T13:14:17.425Z"
   },
   {
    "duration": 4,
    "start_time": "2025-02-20T13:14:17.441Z"
   },
   {
    "duration": 16,
    "start_time": "2025-02-20T13:14:17.446Z"
   },
   {
    "duration": 9,
    "start_time": "2025-02-20T13:14:17.464Z"
   },
   {
    "duration": 7,
    "start_time": "2025-02-20T13:14:17.475Z"
   },
   {
    "duration": 28,
    "start_time": "2025-02-20T13:14:17.484Z"
   },
   {
    "duration": 6,
    "start_time": "2025-02-20T13:14:17.517Z"
   },
   {
    "duration": 21,
    "start_time": "2025-02-20T13:14:17.526Z"
   },
   {
    "duration": 6,
    "start_time": "2025-02-20T13:14:17.549Z"
   },
   {
    "duration": 4,
    "start_time": "2025-02-20T13:14:17.557Z"
   },
   {
    "duration": 8,
    "start_time": "2025-02-20T13:14:17.562Z"
   },
   {
    "duration": 11,
    "start_time": "2025-02-20T13:14:17.572Z"
   },
   {
    "duration": 395,
    "start_time": "2025-02-20T13:14:17.584Z"
   },
   {
    "duration": 333,
    "start_time": "2025-02-20T13:14:17.981Z"
   },
   {
    "duration": 1176,
    "start_time": "2025-02-20T13:14:18.316Z"
   },
   {
    "duration": 5,
    "start_time": "2025-02-20T13:14:19.494Z"
   },
   {
    "duration": 197,
    "start_time": "2025-02-20T13:14:19.509Z"
   },
   {
    "duration": 904,
    "start_time": "2025-02-20T13:14:19.707Z"
   },
   {
    "duration": 11,
    "start_time": "2025-02-20T13:14:20.612Z"
   },
   {
    "duration": 38,
    "start_time": "2025-02-20T13:14:20.624Z"
   },
   {
    "duration": 16,
    "start_time": "2025-02-20T13:14:20.664Z"
   },
   {
    "duration": 193,
    "start_time": "2025-02-20T13:14:20.682Z"
   },
   {
    "duration": 340,
    "start_time": "2025-02-20T13:14:20.877Z"
   },
   {
    "duration": 584,
    "start_time": "2025-02-20T13:14:21.218Z"
   },
   {
    "duration": 599,
    "start_time": "2025-02-20T13:14:21.805Z"
   },
   {
    "duration": 672,
    "start_time": "2025-02-20T13:14:22.409Z"
   },
   {
    "duration": 212,
    "start_time": "2025-02-20T13:14:23.083Z"
   },
   {
    "duration": 22,
    "start_time": "2025-02-20T13:14:23.296Z"
   },
   {
    "duration": 327,
    "start_time": "2025-02-20T13:14:23.319Z"
   },
   {
    "duration": 16,
    "start_time": "2025-02-20T13:14:23.648Z"
   },
   {
    "duration": 382,
    "start_time": "2025-02-20T13:14:23.666Z"
   },
   {
    "duration": 13,
    "start_time": "2025-02-20T13:14:24.050Z"
   },
   {
    "duration": 397,
    "start_time": "2025-02-20T13:14:24.064Z"
   },
   {
    "duration": 9,
    "start_time": "2025-02-20T13:14:24.463Z"
   },
   {
    "duration": 12,
    "start_time": "2025-02-20T13:14:24.473Z"
   },
   {
    "duration": 33,
    "start_time": "2025-02-20T13:14:24.487Z"
   },
   {
    "duration": 11,
    "start_time": "2025-02-20T13:14:24.522Z"
   },
   {
    "duration": 15,
    "start_time": "2025-02-20T13:14:24.534Z"
   },
   {
    "duration": 16,
    "start_time": "2025-02-20T13:15:41.873Z"
   },
   {
    "duration": 18,
    "start_time": "2025-02-20T13:17:40.677Z"
   },
   {
    "duration": 8,
    "start_time": "2025-02-20T13:17:48.647Z"
   },
   {
    "duration": 16,
    "start_time": "2025-02-20T13:19:56.301Z"
   },
   {
    "duration": 16,
    "start_time": "2025-02-20T13:20:30.039Z"
   },
   {
    "duration": 1095,
    "start_time": "2025-02-20T13:25:56.121Z"
   },
   {
    "duration": 45,
    "start_time": "2025-02-20T13:25:57.218Z"
   },
   {
    "duration": 17,
    "start_time": "2025-02-20T13:25:57.264Z"
   },
   {
    "duration": 14,
    "start_time": "2025-02-20T13:25:57.282Z"
   },
   {
    "duration": 13,
    "start_time": "2025-02-20T13:25:57.298Z"
   },
   {
    "duration": 10,
    "start_time": "2025-02-20T13:25:57.312Z"
   },
   {
    "duration": 8,
    "start_time": "2025-02-20T13:25:57.324Z"
   },
   {
    "duration": 5,
    "start_time": "2025-02-20T13:25:57.334Z"
   },
   {
    "duration": 5,
    "start_time": "2025-02-20T13:25:57.340Z"
   },
   {
    "duration": 4,
    "start_time": "2025-02-20T13:25:57.347Z"
   },
   {
    "duration": 4,
    "start_time": "2025-02-20T13:25:57.353Z"
   },
   {
    "duration": 4,
    "start_time": "2025-02-20T13:25:57.359Z"
   },
   {
    "duration": 3,
    "start_time": "2025-02-20T13:25:57.364Z"
   },
   {
    "duration": 41,
    "start_time": "2025-02-20T13:25:57.370Z"
   },
   {
    "duration": 5,
    "start_time": "2025-02-20T13:25:57.412Z"
   },
   {
    "duration": 386,
    "start_time": "2025-02-20T13:25:57.418Z"
   },
   {
    "duration": 311,
    "start_time": "2025-02-20T13:25:57.809Z"
   },
   {
    "duration": 1133,
    "start_time": "2025-02-20T13:25:58.121Z"
   },
   {
    "duration": 5,
    "start_time": "2025-02-20T13:25:59.255Z"
   },
   {
    "duration": 196,
    "start_time": "2025-02-20T13:25:59.261Z"
   },
   {
    "duration": 866,
    "start_time": "2025-02-20T13:25:59.459Z"
   },
   {
    "duration": 10,
    "start_time": "2025-02-20T13:26:00.327Z"
   },
   {
    "duration": 32,
    "start_time": "2025-02-20T13:26:00.338Z"
   },
   {
    "duration": 34,
    "start_time": "2025-02-20T13:26:00.372Z"
   },
   {
    "duration": 224,
    "start_time": "2025-02-20T13:26:00.408Z"
   },
   {
    "duration": 334,
    "start_time": "2025-02-20T13:26:00.633Z"
   },
   {
    "duration": 581,
    "start_time": "2025-02-20T13:26:00.969Z"
   },
   {
    "duration": 547,
    "start_time": "2025-02-20T13:26:01.552Z"
   },
   {
    "duration": 683,
    "start_time": "2025-02-20T13:26:02.101Z"
   },
   {
    "duration": 200,
    "start_time": "2025-02-20T13:26:02.786Z"
   },
   {
    "duration": 24,
    "start_time": "2025-02-20T13:26:02.988Z"
   },
   {
    "duration": 335,
    "start_time": "2025-02-20T13:26:03.014Z"
   },
   {
    "duration": 15,
    "start_time": "2025-02-20T13:26:03.350Z"
   },
   {
    "duration": 369,
    "start_time": "2025-02-20T13:26:03.366Z"
   },
   {
    "duration": 13,
    "start_time": "2025-02-20T13:26:03.737Z"
   },
   {
    "duration": 399,
    "start_time": "2025-02-20T13:26:03.752Z"
   },
   {
    "duration": 16,
    "start_time": "2025-02-20T13:26:04.152Z"
   },
   {
    "duration": 14,
    "start_time": "2025-02-20T13:26:04.170Z"
   },
   {
    "duration": 1069,
    "start_time": "2025-02-20T13:28:58.759Z"
   },
   {
    "duration": 45,
    "start_time": "2025-02-20T13:28:59.830Z"
   },
   {
    "duration": 17,
    "start_time": "2025-02-20T13:28:59.877Z"
   },
   {
    "duration": 14,
    "start_time": "2025-02-20T13:28:59.896Z"
   },
   {
    "duration": 10,
    "start_time": "2025-02-20T13:28:59.911Z"
   },
   {
    "duration": 5,
    "start_time": "2025-02-20T13:28:59.922Z"
   },
   {
    "duration": 9,
    "start_time": "2025-02-20T13:28:59.928Z"
   },
   {
    "duration": 5,
    "start_time": "2025-02-20T13:28:59.939Z"
   },
   {
    "duration": 8,
    "start_time": "2025-02-20T13:28:59.945Z"
   },
   {
    "duration": 4,
    "start_time": "2025-02-20T13:28:59.956Z"
   },
   {
    "duration": 5,
    "start_time": "2025-02-20T13:28:59.961Z"
   },
   {
    "duration": 6,
    "start_time": "2025-02-20T13:28:59.968Z"
   },
   {
    "duration": 33,
    "start_time": "2025-02-20T13:28:59.976Z"
   },
   {
    "duration": 174,
    "start_time": "2025-02-20T13:29:00.011Z"
   },
   {
    "duration": 27,
    "start_time": "2025-02-20T13:29:00.187Z"
   },
   {
    "duration": 402,
    "start_time": "2025-02-20T13:29:00.215Z"
   },
   {
    "duration": 322,
    "start_time": "2025-02-20T13:29:00.619Z"
   },
   {
    "duration": 1151,
    "start_time": "2025-02-20T13:29:00.943Z"
   },
   {
    "duration": 15,
    "start_time": "2025-02-20T13:29:02.096Z"
   },
   {
    "duration": 249,
    "start_time": "2025-02-20T13:29:02.112Z"
   },
   {
    "duration": 877,
    "start_time": "2025-02-20T13:29:02.363Z"
   },
   {
    "duration": 11,
    "start_time": "2025-02-20T13:29:03.242Z"
   },
   {
    "duration": 54,
    "start_time": "2025-02-20T13:29:03.254Z"
   },
   {
    "duration": 23,
    "start_time": "2025-02-20T13:29:03.309Z"
   },
   {
    "duration": 201,
    "start_time": "2025-02-20T13:29:03.334Z"
   },
   {
    "duration": 351,
    "start_time": "2025-02-20T13:29:03.537Z"
   },
   {
    "duration": 592,
    "start_time": "2025-02-20T13:29:03.890Z"
   },
   {
    "duration": 570,
    "start_time": "2025-02-20T13:29:04.485Z"
   },
   {
    "duration": 630,
    "start_time": "2025-02-20T13:29:05.056Z"
   },
   {
    "duration": 196,
    "start_time": "2025-02-20T13:29:05.687Z"
   },
   {
    "duration": 25,
    "start_time": "2025-02-20T13:29:05.884Z"
   },
   {
    "duration": 321,
    "start_time": "2025-02-20T13:29:05.911Z"
   },
   {
    "duration": 15,
    "start_time": "2025-02-20T13:29:06.234Z"
   },
   {
    "duration": 362,
    "start_time": "2025-02-20T13:29:06.250Z"
   },
   {
    "duration": 11,
    "start_time": "2025-02-20T13:29:06.614Z"
   },
   {
    "duration": 377,
    "start_time": "2025-02-20T13:29:06.627Z"
   },
   {
    "duration": 16,
    "start_time": "2025-02-20T13:29:07.009Z"
   },
   {
    "duration": 48,
    "start_time": "2025-02-20T13:29:07.026Z"
   },
   {
    "duration": 1311,
    "start_time": "2025-02-21T08:40:34.831Z"
   },
   {
    "duration": 54,
    "start_time": "2025-02-21T08:40:36.144Z"
   },
   {
    "duration": 24,
    "start_time": "2025-02-21T08:40:36.199Z"
   },
   {
    "duration": 21,
    "start_time": "2025-02-21T08:40:36.225Z"
   },
   {
    "duration": 17,
    "start_time": "2025-02-21T08:40:36.248Z"
   },
   {
    "duration": 24,
    "start_time": "2025-02-21T08:40:36.266Z"
   },
   {
    "duration": 136,
    "start_time": "2025-02-21T08:40:36.292Z"
   },
   {
    "duration": 13,
    "start_time": "2025-02-21T08:40:36.429Z"
   },
   {
    "duration": 11,
    "start_time": "2025-02-21T08:40:36.443Z"
   },
   {
    "duration": 8,
    "start_time": "2025-02-21T08:40:36.456Z"
   },
   {
    "duration": 21,
    "start_time": "2025-02-21T08:40:36.466Z"
   },
   {
    "duration": 5,
    "start_time": "2025-02-21T08:40:36.490Z"
   },
   {
    "duration": 33,
    "start_time": "2025-02-21T08:40:36.496Z"
   },
   {
    "duration": 28,
    "start_time": "2025-02-21T08:40:36.531Z"
   },
   {
    "duration": 6,
    "start_time": "2025-02-21T08:40:36.561Z"
   },
   {
    "duration": 428,
    "start_time": "2025-02-21T08:40:36.569Z"
   },
   {
    "duration": 349,
    "start_time": "2025-02-21T08:40:36.999Z"
   },
   {
    "duration": 1280,
    "start_time": "2025-02-21T08:40:37.350Z"
   },
   {
    "duration": 5,
    "start_time": "2025-02-21T08:40:38.631Z"
   },
   {
    "duration": 230,
    "start_time": "2025-02-21T08:40:38.637Z"
   },
   {
    "duration": 903,
    "start_time": "2025-02-21T08:40:38.869Z"
   },
   {
    "duration": 11,
    "start_time": "2025-02-21T08:40:39.774Z"
   },
   {
    "duration": 24,
    "start_time": "2025-02-21T08:40:39.786Z"
   },
   {
    "duration": 24,
    "start_time": "2025-02-21T08:40:39.812Z"
   },
   {
    "duration": 192,
    "start_time": "2025-02-21T08:40:39.837Z"
   },
   {
    "duration": 333,
    "start_time": "2025-02-21T08:40:40.030Z"
   },
   {
    "duration": 559,
    "start_time": "2025-02-21T08:40:40.365Z"
   },
   {
    "duration": 558,
    "start_time": "2025-02-21T08:40:40.927Z"
   },
   {
    "duration": 626,
    "start_time": "2025-02-21T08:40:41.487Z"
   },
   {
    "duration": 222,
    "start_time": "2025-02-21T08:40:42.114Z"
   },
   {
    "duration": 14,
    "start_time": "2025-02-21T08:40:42.338Z"
   },
   {
    "duration": 402,
    "start_time": "2025-02-21T08:40:42.354Z"
   },
   {
    "duration": 17,
    "start_time": "2025-02-21T08:40:42.758Z"
   },
   {
    "duration": 378,
    "start_time": "2025-02-21T08:40:42.777Z"
   },
   {
    "duration": 14,
    "start_time": "2025-02-21T08:40:43.157Z"
   },
   {
    "duration": 387,
    "start_time": "2025-02-21T08:40:43.172Z"
   },
   {
    "duration": 17,
    "start_time": "2025-02-21T08:40:43.560Z"
   },
   {
    "duration": 35,
    "start_time": "2025-02-21T08:40:43.578Z"
   },
   {
    "duration": 55,
    "start_time": "2025-02-24T10:51:50.599Z"
   },
   {
    "duration": 1574,
    "start_time": "2025-02-24T10:51:54.882Z"
   },
   {
    "duration": 57,
    "start_time": "2025-02-24T10:51:56.458Z"
   },
   {
    "duration": 20,
    "start_time": "2025-02-24T10:51:56.517Z"
   },
   {
    "duration": 18,
    "start_time": "2025-02-24T10:51:56.538Z"
   },
   {
    "duration": 26,
    "start_time": "2025-02-24T10:51:56.558Z"
   },
   {
    "duration": 9,
    "start_time": "2025-02-24T10:51:56.585Z"
   },
   {
    "duration": 18,
    "start_time": "2025-02-24T10:51:56.595Z"
   },
   {
    "duration": 8,
    "start_time": "2025-02-24T10:51:56.614Z"
   },
   {
    "duration": 10,
    "start_time": "2025-02-24T10:51:56.624Z"
   },
   {
    "duration": 10,
    "start_time": "2025-02-24T10:51:56.636Z"
   },
   {
    "duration": 27,
    "start_time": "2025-02-24T10:51:56.648Z"
   },
   {
    "duration": 21,
    "start_time": "2025-02-24T10:51:56.681Z"
   },
   {
    "duration": 15,
    "start_time": "2025-02-24T10:51:56.704Z"
   },
   {
    "duration": 16,
    "start_time": "2025-02-24T10:51:56.723Z"
   },
   {
    "duration": 7,
    "start_time": "2025-02-24T10:51:56.741Z"
   },
   {
    "duration": 492,
    "start_time": "2025-02-24T10:51:56.750Z"
   },
   {
    "duration": 404,
    "start_time": "2025-02-24T10:51:57.244Z"
   },
   {
    "duration": 1437,
    "start_time": "2025-02-24T10:51:57.650Z"
   },
   {
    "duration": 5,
    "start_time": "2025-02-24T10:51:59.088Z"
   },
   {
    "duration": 226,
    "start_time": "2025-02-24T10:51:59.095Z"
   },
   {
    "duration": 1071,
    "start_time": "2025-02-24T10:51:59.323Z"
   },
   {
    "duration": 16,
    "start_time": "2025-02-24T10:52:00.396Z"
   },
   {
    "duration": 37,
    "start_time": "2025-02-24T10:52:00.414Z"
   },
   {
    "duration": 40,
    "start_time": "2025-02-24T10:52:00.453Z"
   },
   {
    "duration": 251,
    "start_time": "2025-02-24T10:52:00.495Z"
   },
   {
    "duration": 419,
    "start_time": "2025-02-24T10:52:00.748Z"
   },
   {
    "duration": 714,
    "start_time": "2025-02-24T10:52:01.172Z"
   },
   {
    "duration": 666,
    "start_time": "2025-02-24T10:52:01.888Z"
   },
   {
    "duration": 801,
    "start_time": "2025-02-24T10:52:02.556Z"
   },
   {
    "duration": 245,
    "start_time": "2025-02-24T10:52:03.359Z"
   },
   {
    "duration": 18,
    "start_time": "2025-02-24T10:52:03.606Z"
   },
   {
    "duration": 400,
    "start_time": "2025-02-24T10:52:03.626Z"
   },
   {
    "duration": 17,
    "start_time": "2025-02-24T10:52:04.028Z"
   },
   {
    "duration": 443,
    "start_time": "2025-02-24T10:52:04.047Z"
   },
   {
    "duration": 15,
    "start_time": "2025-02-24T10:52:04.493Z"
   },
   {
    "duration": 469,
    "start_time": "2025-02-24T10:52:04.510Z"
   },
   {
    "duration": 23,
    "start_time": "2025-02-24T10:52:04.985Z"
   },
   {
    "duration": 19,
    "start_time": "2025-02-24T10:52:05.010Z"
   },
   {
    "duration": 7,
    "start_time": "2025-02-24T10:52:51.950Z"
   },
   {
    "duration": 479,
    "start_time": "2025-02-24T10:59:25.742Z"
   },
   {
    "duration": 5,
    "start_time": "2025-02-24T11:03:43.549Z"
   },
   {
    "duration": 231,
    "start_time": "2025-02-24T11:03:55.486Z"
   },
   {
    "duration": 98,
    "start_time": "2025-02-24T11:04:57.425Z"
   },
   {
    "duration": 1378,
    "start_time": "2025-02-24T11:05:14.783Z"
   },
   {
    "duration": 502,
    "start_time": "2025-02-24T11:06:05.559Z"
   },
   {
    "duration": 727,
    "start_time": "2025-02-24T11:06:11.494Z"
   },
   {
    "duration": 468,
    "start_time": "2025-02-24T11:06:17.004Z"
   },
   {
    "duration": 485,
    "start_time": "2025-02-24T11:06:39.052Z"
   },
   {
    "duration": 1252,
    "start_time": "2025-02-24T11:07:09.839Z"
   },
   {
    "duration": 1327,
    "start_time": "2025-02-24T11:07:39.220Z"
   },
   {
    "duration": 56,
    "start_time": "2025-02-24T11:07:40.550Z"
   },
   {
    "duration": 20,
    "start_time": "2025-02-24T11:07:40.608Z"
   },
   {
    "duration": 16,
    "start_time": "2025-02-24T11:07:40.630Z"
   },
   {
    "duration": 36,
    "start_time": "2025-02-24T11:07:40.649Z"
   },
   {
    "duration": 6,
    "start_time": "2025-02-24T11:07:40.690Z"
   },
   {
    "duration": 12,
    "start_time": "2025-02-24T11:07:40.698Z"
   },
   {
    "duration": 6,
    "start_time": "2025-02-24T11:07:40.712Z"
   },
   {
    "duration": 8,
    "start_time": "2025-02-24T11:07:40.721Z"
   },
   {
    "duration": 8,
    "start_time": "2025-02-24T11:07:40.733Z"
   },
   {
    "duration": 33,
    "start_time": "2025-02-24T11:07:40.743Z"
   },
   {
    "duration": 12,
    "start_time": "2025-02-24T11:07:40.778Z"
   },
   {
    "duration": 6,
    "start_time": "2025-02-24T11:07:40.792Z"
   },
   {
    "duration": 15,
    "start_time": "2025-02-24T11:07:40.800Z"
   },
   {
    "duration": 11,
    "start_time": "2025-02-24T11:07:40.817Z"
   },
   {
    "duration": 529,
    "start_time": "2025-02-24T11:07:40.830Z"
   },
   {
    "duration": 442,
    "start_time": "2025-02-24T11:07:41.360Z"
   },
   {
    "duration": 1473,
    "start_time": "2025-02-24T11:07:41.804Z"
   },
   {
    "duration": 10,
    "start_time": "2025-02-24T11:07:43.279Z"
   },
   {
    "duration": 254,
    "start_time": "2025-02-24T11:07:43.292Z"
   },
   {
    "duration": 1236,
    "start_time": "2025-02-24T11:07:43.548Z"
   },
   {
    "duration": 13,
    "start_time": "2025-02-24T11:07:44.786Z"
   },
   {
    "duration": 14,
    "start_time": "2025-02-24T11:07:44.801Z"
   },
   {
    "duration": 5,
    "start_time": "2025-02-24T11:07:44.817Z"
   },
   {
    "duration": 281,
    "start_time": "2025-02-24T11:07:44.824Z"
   },
   {
    "duration": 484,
    "start_time": "2025-02-24T11:07:45.107Z"
   },
   {
    "duration": 832,
    "start_time": "2025-02-24T11:07:45.596Z"
   },
   {
    "duration": 679,
    "start_time": "2025-02-24T11:07:46.432Z"
   },
   {
    "duration": 1107,
    "start_time": "2025-02-24T11:07:47.113Z"
   },
   {
    "duration": 0,
    "start_time": "2025-02-24T11:07:48.222Z"
   },
   {
    "duration": 0,
    "start_time": "2025-02-24T11:07:48.225Z"
   },
   {
    "duration": 1,
    "start_time": "2025-02-24T11:07:48.226Z"
   },
   {
    "duration": 0,
    "start_time": "2025-02-24T11:07:48.228Z"
   },
   {
    "duration": 0,
    "start_time": "2025-02-24T11:07:48.231Z"
   },
   {
    "duration": 0,
    "start_time": "2025-02-24T11:07:48.232Z"
   },
   {
    "duration": 0,
    "start_time": "2025-02-24T11:07:48.234Z"
   },
   {
    "duration": 0,
    "start_time": "2025-02-24T11:07:48.236Z"
   },
   {
    "duration": 0,
    "start_time": "2025-02-24T11:07:48.238Z"
   },
   {
    "duration": 277,
    "start_time": "2025-02-24T11:09:33.637Z"
   },
   {
    "duration": 2177,
    "start_time": "2025-02-24T11:12:27.389Z"
   },
   {
    "duration": 1263,
    "start_time": "2025-02-24T11:13:20.081Z"
   },
   {
    "duration": 3,
    "start_time": "2025-02-24T11:19:06.967Z"
   },
   {
    "duration": 72,
    "start_time": "2025-02-24T11:20:03.963Z"
   },
   {
    "duration": 67,
    "start_time": "2025-02-24T11:20:11.034Z"
   },
   {
    "duration": 2406,
    "start_time": "2025-02-24T11:34:45.461Z"
   },
   {
    "duration": 1096,
    "start_time": "2025-02-24T11:35:15.631Z"
   },
   {
    "duration": 166,
    "start_time": "2025-02-24T11:40:17.788Z"
   },
   {
    "duration": 165,
    "start_time": "2025-02-24T11:58:52.679Z"
   },
   {
    "duration": 18,
    "start_time": "2025-02-24T11:59:33.603Z"
   },
   {
    "duration": 181,
    "start_time": "2025-02-24T11:59:40.272Z"
   },
   {
    "duration": 18,
    "start_time": "2025-02-24T11:59:52.123Z"
   },
   {
    "duration": 196,
    "start_time": "2025-02-24T12:00:16.701Z"
   },
   {
    "duration": 14,
    "start_time": "2025-02-24T12:00:38.706Z"
   },
   {
    "duration": 20,
    "start_time": "2025-02-24T12:00:39.071Z"
   },
   {
    "duration": 5,
    "start_time": "2025-02-24T12:00:39.440Z"
   },
   {
    "duration": 248,
    "start_time": "2025-02-24T12:00:40.039Z"
   },
   {
    "duration": 292,
    "start_time": "2025-02-24T12:00:40.518Z"
   },
   {
    "duration": 213,
    "start_time": "2025-02-24T12:01:25.656Z"
   },
   {
    "duration": 287,
    "start_time": "2025-02-24T12:01:32.265Z"
   },
   {
    "duration": 340,
    "start_time": "2025-02-24T12:10:40.073Z"
   },
   {
    "duration": 1293,
    "start_time": "2025-02-24T12:10:53.503Z"
   },
   {
    "duration": 61,
    "start_time": "2025-02-24T12:10:54.798Z"
   },
   {
    "duration": 29,
    "start_time": "2025-02-24T12:10:54.860Z"
   },
   {
    "duration": 19,
    "start_time": "2025-02-24T12:10:54.893Z"
   },
   {
    "duration": 19,
    "start_time": "2025-02-24T12:10:54.914Z"
   },
   {
    "duration": 26,
    "start_time": "2025-02-24T12:10:54.935Z"
   },
   {
    "duration": 32,
    "start_time": "2025-02-24T12:10:54.963Z"
   },
   {
    "duration": 17,
    "start_time": "2025-02-24T12:10:54.996Z"
   },
   {
    "duration": 7,
    "start_time": "2025-02-24T12:10:55.016Z"
   },
   {
    "duration": 6,
    "start_time": "2025-02-24T12:10:55.027Z"
   },
   {
    "duration": 17,
    "start_time": "2025-02-24T12:10:55.034Z"
   },
   {
    "duration": 14,
    "start_time": "2025-02-24T12:10:55.053Z"
   },
   {
    "duration": 23,
    "start_time": "2025-02-24T12:10:55.069Z"
   },
   {
    "duration": 9,
    "start_time": "2025-02-24T12:10:55.094Z"
   },
   {
    "duration": 17,
    "start_time": "2025-02-24T12:10:55.104Z"
   },
   {
    "duration": 487,
    "start_time": "2025-02-24T12:10:55.123Z"
   },
   {
    "duration": 407,
    "start_time": "2025-02-24T12:10:55.611Z"
   },
   {
    "duration": 1471,
    "start_time": "2025-02-24T12:10:56.020Z"
   },
   {
    "duration": 6,
    "start_time": "2025-02-24T12:10:57.493Z"
   },
   {
    "duration": 240,
    "start_time": "2025-02-24T12:10:57.501Z"
   },
   {
    "duration": 1206,
    "start_time": "2025-02-24T12:10:57.744Z"
   },
   {
    "duration": 380,
    "start_time": "2025-02-24T12:10:58.952Z"
   },
   {
    "duration": 294,
    "start_time": "2025-02-24T12:10:59.335Z"
   },
   {
    "duration": 12,
    "start_time": "2025-02-24T12:10:59.631Z"
   },
   {
    "duration": 32,
    "start_time": "2025-02-24T12:10:59.645Z"
   },
   {
    "duration": 9,
    "start_time": "2025-02-24T12:10:59.681Z"
   },
   {
    "duration": 229,
    "start_time": "2025-02-24T12:10:59.692Z"
   },
   {
    "duration": 336,
    "start_time": "2025-02-24T12:10:59.925Z"
   },
   {
    "duration": 65,
    "start_time": "2025-02-24T12:11:00.263Z"
   },
   {
    "duration": 0,
    "start_time": "2025-02-24T12:11:00.330Z"
   },
   {
    "duration": 0,
    "start_time": "2025-02-24T12:11:00.331Z"
   },
   {
    "duration": 0,
    "start_time": "2025-02-24T12:11:00.333Z"
   },
   {
    "duration": 0,
    "start_time": "2025-02-24T12:11:00.334Z"
   },
   {
    "duration": 0,
    "start_time": "2025-02-24T12:11:00.335Z"
   },
   {
    "duration": 0,
    "start_time": "2025-02-24T12:11:00.337Z"
   },
   {
    "duration": 0,
    "start_time": "2025-02-24T12:11:00.338Z"
   },
   {
    "duration": 0,
    "start_time": "2025-02-24T12:11:00.340Z"
   },
   {
    "duration": 0,
    "start_time": "2025-02-24T12:11:00.342Z"
   },
   {
    "duration": 0,
    "start_time": "2025-02-24T12:11:00.343Z"
   },
   {
    "duration": 0,
    "start_time": "2025-02-24T12:11:00.344Z"
   },
   {
    "duration": 0,
    "start_time": "2025-02-24T12:11:00.346Z"
   },
   {
    "duration": 162,
    "start_time": "2025-02-24T12:28:29.231Z"
   },
   {
    "duration": 200,
    "start_time": "2025-02-24T12:31:20.203Z"
   },
   {
    "duration": 182,
    "start_time": "2025-02-24T12:31:27.621Z"
   },
   {
    "duration": 154,
    "start_time": "2025-02-24T12:31:31.697Z"
   },
   {
    "duration": 62,
    "start_time": "2025-02-24T12:32:23.234Z"
   },
   {
    "duration": 5,
    "start_time": "2025-02-24T12:32:26.927Z"
   },
   {
    "duration": 153,
    "start_time": "2025-02-24T12:32:29.112Z"
   },
   {
    "duration": 278,
    "start_time": "2025-02-24T12:32:56.713Z"
   },
   {
    "duration": 159,
    "start_time": "2025-02-24T12:32:59.807Z"
   },
   {
    "duration": 255,
    "start_time": "2025-02-24T12:33:27.265Z"
   },
   {
    "duration": 289,
    "start_time": "2025-02-24T12:33:39.935Z"
   },
   {
    "duration": 310,
    "start_time": "2025-02-24T12:33:44.588Z"
   },
   {
    "duration": 5,
    "start_time": "2025-02-24T12:34:32.061Z"
   },
   {
    "duration": 296,
    "start_time": "2025-02-24T12:34:36.572Z"
   },
   {
    "duration": 6,
    "start_time": "2025-02-24T12:34:43.063Z"
   },
   {
    "duration": 220,
    "start_time": "2025-02-24T12:34:45.015Z"
   },
   {
    "duration": 1248,
    "start_time": "2025-02-24T12:34:46.191Z"
   },
   {
    "duration": 293,
    "start_time": "2025-02-24T12:34:48.387Z"
   },
   {
    "duration": 296,
    "start_time": "2025-02-24T12:38:16.834Z"
   },
   {
    "duration": 182,
    "start_time": "2025-02-24T12:38:39.557Z"
   },
   {
    "duration": 183,
    "start_time": "2025-02-24T12:39:29.310Z"
   },
   {
    "duration": 211,
    "start_time": "2025-02-24T12:39:49.030Z"
   },
   {
    "duration": 218,
    "start_time": "2025-02-24T12:41:09.895Z"
   },
   {
    "duration": 312,
    "start_time": "2025-02-24T12:41:18.045Z"
   },
   {
    "duration": 173,
    "start_time": "2025-02-24T12:41:24.596Z"
   },
   {
    "duration": 188,
    "start_time": "2025-02-24T12:41:28.629Z"
   },
   {
    "duration": 287,
    "start_time": "2025-02-24T12:42:20.431Z"
   },
   {
    "duration": 308,
    "start_time": "2025-02-24T12:42:26.243Z"
   },
   {
    "duration": 193,
    "start_time": "2025-02-24T12:42:30.007Z"
   },
   {
    "duration": 189,
    "start_time": "2025-02-24T12:51:50.777Z"
   },
   {
    "duration": 234,
    "start_time": "2025-02-24T12:51:58.961Z"
   },
   {
    "duration": 232,
    "start_time": "2025-02-24T12:52:01.858Z"
   },
   {
    "duration": 347,
    "start_time": "2025-02-24T12:52:05.476Z"
   },
   {
    "duration": 213,
    "start_time": "2025-02-24T12:52:22.968Z"
   },
   {
    "duration": 197,
    "start_time": "2025-02-24T12:52:29.186Z"
   },
   {
    "duration": 187,
    "start_time": "2025-02-24T12:52:34.703Z"
   },
   {
    "duration": 182,
    "start_time": "2025-02-24T12:52:51.485Z"
   },
   {
    "duration": 254,
    "start_time": "2025-02-24T12:53:39.233Z"
   },
   {
    "duration": 1338,
    "start_time": "2025-02-24T12:53:44.940Z"
   },
   {
    "duration": 50,
    "start_time": "2025-02-24T12:53:46.281Z"
   },
   {
    "duration": 20,
    "start_time": "2025-02-24T12:53:46.332Z"
   },
   {
    "duration": 29,
    "start_time": "2025-02-24T12:53:46.354Z"
   },
   {
    "duration": 7,
    "start_time": "2025-02-24T12:53:46.387Z"
   },
   {
    "duration": 19,
    "start_time": "2025-02-24T12:53:46.396Z"
   },
   {
    "duration": 15,
    "start_time": "2025-02-24T12:53:46.417Z"
   },
   {
    "duration": 7,
    "start_time": "2025-02-24T12:53:46.434Z"
   },
   {
    "duration": 32,
    "start_time": "2025-02-24T12:53:46.443Z"
   },
   {
    "duration": 9,
    "start_time": "2025-02-24T12:53:46.478Z"
   },
   {
    "duration": 24,
    "start_time": "2025-02-24T12:53:46.489Z"
   },
   {
    "duration": 6,
    "start_time": "2025-02-24T12:53:46.515Z"
   },
   {
    "duration": 5,
    "start_time": "2025-02-24T12:53:46.524Z"
   },
   {
    "duration": 9,
    "start_time": "2025-02-24T12:53:46.532Z"
   },
   {
    "duration": 38,
    "start_time": "2025-02-24T12:53:46.543Z"
   },
   {
    "duration": 452,
    "start_time": "2025-02-24T12:53:46.588Z"
   },
   {
    "duration": 409,
    "start_time": "2025-02-24T12:53:47.042Z"
   },
   {
    "duration": 1444,
    "start_time": "2025-02-24T12:53:47.453Z"
   },
   {
    "duration": 5,
    "start_time": "2025-02-24T12:53:48.899Z"
   },
   {
    "duration": 281,
    "start_time": "2025-02-24T12:53:48.906Z"
   },
   {
    "duration": 1192,
    "start_time": "2025-02-24T12:53:49.192Z"
   },
   {
    "duration": 204,
    "start_time": "2025-02-24T12:53:50.390Z"
   },
   {
    "duration": 853,
    "start_time": "2025-02-24T12:53:50.596Z"
   },
   {
    "duration": 670,
    "start_time": "2025-02-24T12:53:51.451Z"
   },
   {
    "duration": 994,
    "start_time": "2025-02-24T12:53:52.123Z"
   },
   {
    "duration": 0,
    "start_time": "2025-02-24T12:53:53.120Z"
   },
   {
    "duration": 0,
    "start_time": "2025-02-24T12:53:53.121Z"
   },
   {
    "duration": 1,
    "start_time": "2025-02-24T12:53:53.122Z"
   },
   {
    "duration": 0,
    "start_time": "2025-02-24T12:53:53.124Z"
   },
   {
    "duration": 0,
    "start_time": "2025-02-24T12:53:53.126Z"
   },
   {
    "duration": 0,
    "start_time": "2025-02-24T12:53:53.127Z"
   },
   {
    "duration": 0,
    "start_time": "2025-02-24T12:53:53.129Z"
   },
   {
    "duration": 0,
    "start_time": "2025-02-24T12:53:53.130Z"
   },
   {
    "duration": 0,
    "start_time": "2025-02-24T12:53:53.132Z"
   },
   {
    "duration": 774,
    "start_time": "2025-02-24T12:57:59.439Z"
   },
   {
    "duration": 664,
    "start_time": "2025-02-24T12:58:06.719Z"
   },
   {
    "duration": 225,
    "start_time": "2025-02-24T12:58:51.998Z"
   },
   {
    "duration": 230,
    "start_time": "2025-02-24T12:59:06.090Z"
   },
   {
    "duration": 138,
    "start_time": "2025-02-24T12:59:21.284Z"
   },
   {
    "duration": 75,
    "start_time": "2025-02-24T12:59:32.884Z"
   },
   {
    "duration": 254,
    "start_time": "2025-02-24T13:00:34.263Z"
   },
   {
    "duration": 1326,
    "start_time": "2025-02-24T13:03:41.912Z"
   },
   {
    "duration": 66,
    "start_time": "2025-02-24T13:03:43.240Z"
   },
   {
    "duration": 20,
    "start_time": "2025-02-24T13:03:43.308Z"
   },
   {
    "duration": 17,
    "start_time": "2025-02-24T13:03:43.330Z"
   },
   {
    "duration": 30,
    "start_time": "2025-02-24T13:03:43.348Z"
   },
   {
    "duration": 11,
    "start_time": "2025-02-24T13:03:43.381Z"
   },
   {
    "duration": 13,
    "start_time": "2025-02-24T13:03:43.394Z"
   },
   {
    "duration": 13,
    "start_time": "2025-02-24T13:03:43.409Z"
   },
   {
    "duration": 6,
    "start_time": "2025-02-24T13:03:43.424Z"
   },
   {
    "duration": 5,
    "start_time": "2025-02-24T13:03:43.432Z"
   },
   {
    "duration": 39,
    "start_time": "2025-02-24T13:03:43.439Z"
   },
   {
    "duration": 19,
    "start_time": "2025-02-24T13:03:43.488Z"
   },
   {
    "duration": 28,
    "start_time": "2025-02-24T13:03:43.508Z"
   },
   {
    "duration": 10,
    "start_time": "2025-02-24T13:03:43.537Z"
   },
   {
    "duration": 13,
    "start_time": "2025-02-24T13:03:43.549Z"
   },
   {
    "duration": 472,
    "start_time": "2025-02-24T13:03:43.564Z"
   },
   {
    "duration": 395,
    "start_time": "2025-02-24T13:03:44.038Z"
   },
   {
    "duration": 1487,
    "start_time": "2025-02-24T13:03:44.437Z"
   },
   {
    "duration": 5,
    "start_time": "2025-02-24T13:03:45.926Z"
   },
   {
    "duration": 229,
    "start_time": "2025-02-24T13:03:45.932Z"
   },
   {
    "duration": 1155,
    "start_time": "2025-02-24T13:03:46.163Z"
   },
   {
    "duration": 201,
    "start_time": "2025-02-24T13:03:47.320Z"
   },
   {
    "duration": 822,
    "start_time": "2025-02-24T13:03:47.523Z"
   },
   {
    "duration": 636,
    "start_time": "2025-02-24T13:03:48.348Z"
   },
   {
    "duration": 676,
    "start_time": "2025-02-24T13:03:48.990Z"
   },
   {
    "duration": 360,
    "start_time": "2025-02-24T13:03:49.672Z"
   },
   {
    "duration": 19,
    "start_time": "2025-02-24T13:03:50.034Z"
   },
   {
    "duration": 434,
    "start_time": "2025-02-24T13:03:50.055Z"
   },
   {
    "duration": 18,
    "start_time": "2025-02-24T13:03:50.491Z"
   },
   {
    "duration": 419,
    "start_time": "2025-02-24T13:03:50.511Z"
   },
   {
    "duration": 15,
    "start_time": "2025-02-24T13:03:50.931Z"
   },
   {
    "duration": 497,
    "start_time": "2025-02-24T13:03:50.948Z"
   },
   {
    "duration": 31,
    "start_time": "2025-02-24T13:03:51.447Z"
   },
   {
    "duration": 19,
    "start_time": "2025-02-24T13:03:51.481Z"
   },
   {
    "duration": 238,
    "start_time": "2025-02-24T13:04:49.330Z"
   },
   {
    "duration": 234,
    "start_time": "2025-02-24T13:05:57.394Z"
   },
   {
    "duration": 755,
    "start_time": "2025-02-24T13:06:55.893Z"
   },
   {
    "duration": 661,
    "start_time": "2025-02-24T13:07:03.726Z"
   },
   {
    "duration": 260,
    "start_time": "2025-02-24T13:07:31.045Z"
   },
   {
    "duration": 243,
    "start_time": "2025-02-24T13:07:42.544Z"
   },
   {
    "duration": 231,
    "start_time": "2025-02-24T13:08:08.203Z"
   },
   {
    "duration": 228,
    "start_time": "2025-02-24T13:08:10.925Z"
   },
   {
    "duration": 316,
    "start_time": "2025-02-24T13:12:36.448Z"
   },
   {
    "duration": 457,
    "start_time": "2025-02-24T13:12:41.476Z"
   },
   {
    "duration": 310,
    "start_time": "2025-02-24T13:12:50.003Z"
   },
   {
    "duration": 341,
    "start_time": "2025-02-24T13:12:54.907Z"
   },
   {
    "duration": 233,
    "start_time": "2025-02-24T13:20:16.669Z"
   },
   {
    "duration": 129,
    "start_time": "2025-02-24T13:20:37.925Z"
   },
   {
    "duration": 232,
    "start_time": "2025-02-24T13:21:13.417Z"
   },
   {
    "duration": 238,
    "start_time": "2025-02-24T13:21:27.704Z"
   },
   {
    "duration": 243,
    "start_time": "2025-02-24T13:21:28.787Z"
   },
   {
    "duration": 808,
    "start_time": "2025-02-24T13:36:09.177Z"
   },
   {
    "duration": 660,
    "start_time": "2025-02-24T13:39:47.512Z"
   },
   {
    "duration": 625,
    "start_time": "2025-02-24T13:40:07.524Z"
   },
   {
    "duration": 603,
    "start_time": "2025-02-24T13:40:13.014Z"
   },
   {
    "duration": 651,
    "start_time": "2025-02-24T13:40:19.547Z"
   },
   {
    "duration": 688,
    "start_time": "2025-02-24T13:40:28.679Z"
   },
   {
    "duration": 871,
    "start_time": "2025-02-24T13:40:34.948Z"
   },
   {
    "duration": 459,
    "start_time": "2025-02-24T13:40:56.082Z"
   },
   {
    "duration": 650,
    "start_time": "2025-02-24T13:41:03.924Z"
   },
   {
    "duration": 449,
    "start_time": "2025-02-24T13:41:11.710Z"
   },
   {
    "duration": 7,
    "start_time": "2025-02-24T13:41:31.744Z"
   },
   {
    "duration": 416,
    "start_time": "2025-02-24T13:41:33.631Z"
   },
   {
    "duration": 521,
    "start_time": "2025-02-24T13:41:47.294Z"
   },
   {
    "duration": 398,
    "start_time": "2025-02-24T13:42:01.100Z"
   },
   {
    "duration": 1281,
    "start_time": "2025-02-24T13:45:49.792Z"
   },
   {
    "duration": 61,
    "start_time": "2025-02-24T13:45:51.075Z"
   },
   {
    "duration": 22,
    "start_time": "2025-02-24T13:45:51.138Z"
   },
   {
    "duration": 37,
    "start_time": "2025-02-24T13:45:51.163Z"
   },
   {
    "duration": 17,
    "start_time": "2025-02-24T13:45:51.203Z"
   },
   {
    "duration": 23,
    "start_time": "2025-02-24T13:45:51.223Z"
   },
   {
    "duration": 26,
    "start_time": "2025-02-24T13:45:51.249Z"
   },
   {
    "duration": 8,
    "start_time": "2025-02-24T13:45:51.277Z"
   },
   {
    "duration": 15,
    "start_time": "2025-02-24T13:45:51.287Z"
   },
   {
    "duration": 28,
    "start_time": "2025-02-24T13:45:51.304Z"
   },
   {
    "duration": 7,
    "start_time": "2025-02-24T13:45:51.334Z"
   },
   {
    "duration": 10,
    "start_time": "2025-02-24T13:45:51.343Z"
   },
   {
    "duration": 10,
    "start_time": "2025-02-24T13:45:51.356Z"
   },
   {
    "duration": 14,
    "start_time": "2025-02-24T13:45:51.369Z"
   },
   {
    "duration": 8,
    "start_time": "2025-02-24T13:45:51.385Z"
   },
   {
    "duration": 429,
    "start_time": "2025-02-24T13:45:51.395Z"
   },
   {
    "duration": 352,
    "start_time": "2025-02-24T13:45:51.826Z"
   },
   {
    "duration": 1287,
    "start_time": "2025-02-24T13:45:52.180Z"
   },
   {
    "duration": 5,
    "start_time": "2025-02-24T13:45:53.472Z"
   },
   {
    "duration": 217,
    "start_time": "2025-02-24T13:45:53.479Z"
   },
   {
    "duration": 1056,
    "start_time": "2025-02-24T13:45:53.698Z"
   },
   {
    "duration": 185,
    "start_time": "2025-02-24T13:45:54.755Z"
   },
   {
    "duration": 783,
    "start_time": "2025-02-24T13:45:54.942Z"
   },
   {
    "duration": 616,
    "start_time": "2025-02-24T13:45:55.727Z"
   },
   {
    "duration": 612,
    "start_time": "2025-02-24T13:45:56.345Z"
   },
   {
    "duration": 345,
    "start_time": "2025-02-24T13:45:56.959Z"
   },
   {
    "duration": 334,
    "start_time": "2025-02-24T13:45:57.305Z"
   },
   {
    "duration": 33,
    "start_time": "2025-02-24T13:45:57.641Z"
   },
   {
    "duration": 387,
    "start_time": "2025-02-24T13:45:57.676Z"
   },
   {
    "duration": 20,
    "start_time": "2025-02-24T13:45:58.072Z"
   },
   {
    "duration": 397,
    "start_time": "2025-02-24T13:45:58.094Z"
   },
   {
    "duration": 16,
    "start_time": "2025-02-24T13:45:58.493Z"
   },
   {
    "duration": 373,
    "start_time": "2025-02-24T13:45:58.511Z"
   },
   {
    "duration": 19,
    "start_time": "2025-02-24T13:45:58.886Z"
   },
   {
    "duration": 17,
    "start_time": "2025-02-24T13:45:58.907Z"
   },
   {
    "duration": 211,
    "start_time": "2025-02-24T13:52:18.326Z"
   },
   {
    "duration": 215,
    "start_time": "2025-02-24T13:53:02.324Z"
   },
   {
    "duration": 417,
    "start_time": "2025-02-24T13:53:06.309Z"
   },
   {
    "duration": 1224,
    "start_time": "2025-02-24T13:54:34.016Z"
   },
   {
    "duration": 50,
    "start_time": "2025-02-24T13:54:35.242Z"
   },
   {
    "duration": 19,
    "start_time": "2025-02-24T13:54:35.294Z"
   },
   {
    "duration": 17,
    "start_time": "2025-02-24T13:54:35.315Z"
   },
   {
    "duration": 6,
    "start_time": "2025-02-24T13:54:35.334Z"
   },
   {
    "duration": 30,
    "start_time": "2025-02-24T13:54:35.342Z"
   },
   {
    "duration": 10,
    "start_time": "2025-02-24T13:54:35.374Z"
   },
   {
    "duration": 6,
    "start_time": "2025-02-24T13:54:35.386Z"
   },
   {
    "duration": 14,
    "start_time": "2025-02-24T13:54:35.394Z"
   },
   {
    "duration": 7,
    "start_time": "2025-02-24T13:54:35.409Z"
   },
   {
    "duration": 9,
    "start_time": "2025-02-24T13:54:35.417Z"
   },
   {
    "duration": 6,
    "start_time": "2025-02-24T13:54:35.427Z"
   },
   {
    "duration": 10,
    "start_time": "2025-02-24T13:54:35.435Z"
   },
   {
    "duration": 10,
    "start_time": "2025-02-24T13:54:35.471Z"
   },
   {
    "duration": 23,
    "start_time": "2025-02-24T13:54:35.483Z"
   },
   {
    "duration": 455,
    "start_time": "2025-02-24T13:54:35.508Z"
   },
   {
    "duration": 362,
    "start_time": "2025-02-24T13:54:35.965Z"
   },
   {
    "duration": 1336,
    "start_time": "2025-02-24T13:54:36.329Z"
   },
   {
    "duration": 5,
    "start_time": "2025-02-24T13:54:37.672Z"
   },
   {
    "duration": 218,
    "start_time": "2025-02-24T13:54:37.679Z"
   },
   {
    "duration": 1081,
    "start_time": "2025-02-24T13:54:37.899Z"
   },
   {
    "duration": 209,
    "start_time": "2025-02-24T13:54:38.983Z"
   },
   {
    "duration": 780,
    "start_time": "2025-02-24T13:54:39.193Z"
   },
   {
    "duration": 621,
    "start_time": "2025-02-24T13:54:39.974Z"
   },
   {
    "duration": 612,
    "start_time": "2025-02-24T13:54:40.597Z"
   },
   {
    "duration": 357,
    "start_time": "2025-02-24T13:54:41.212Z"
   },
   {
    "duration": 334,
    "start_time": "2025-02-24T13:54:41.572Z"
   },
   {
    "duration": 19,
    "start_time": "2025-02-24T13:54:41.909Z"
   },
   {
    "duration": 415,
    "start_time": "2025-02-24T13:54:41.930Z"
   },
   {
    "duration": 33,
    "start_time": "2025-02-24T13:54:42.348Z"
   },
   {
    "duration": 403,
    "start_time": "2025-02-24T13:54:42.384Z"
   },
   {
    "duration": 15,
    "start_time": "2025-02-24T13:54:42.789Z"
   },
   {
    "duration": 369,
    "start_time": "2025-02-24T13:54:42.806Z"
   },
   {
    "duration": 20,
    "start_time": "2025-02-24T13:54:43.177Z"
   },
   {
    "duration": 18,
    "start_time": "2025-02-24T13:54:43.199Z"
   },
   {
    "duration": 1205,
    "start_time": "2025-02-24T14:04:14.328Z"
   },
   {
    "duration": 55,
    "start_time": "2025-02-24T14:04:15.535Z"
   },
   {
    "duration": 20,
    "start_time": "2025-02-24T14:04:15.592Z"
   },
   {
    "duration": 22,
    "start_time": "2025-02-24T14:04:15.615Z"
   },
   {
    "duration": 8,
    "start_time": "2025-02-24T14:04:15.638Z"
   },
   {
    "duration": 24,
    "start_time": "2025-02-24T14:04:15.648Z"
   },
   {
    "duration": 19,
    "start_time": "2025-02-24T14:04:15.674Z"
   },
   {
    "duration": 13,
    "start_time": "2025-02-24T14:04:15.695Z"
   },
   {
    "duration": 19,
    "start_time": "2025-02-24T14:04:15.710Z"
   },
   {
    "duration": 6,
    "start_time": "2025-02-24T14:04:15.732Z"
   },
   {
    "duration": 23,
    "start_time": "2025-02-24T14:04:15.739Z"
   },
   {
    "duration": 9,
    "start_time": "2025-02-24T14:04:15.764Z"
   },
   {
    "duration": 6,
    "start_time": "2025-02-24T14:04:15.775Z"
   },
   {
    "duration": 9,
    "start_time": "2025-02-24T14:04:15.782Z"
   },
   {
    "duration": 6,
    "start_time": "2025-02-24T14:04:15.793Z"
   },
   {
    "duration": 449,
    "start_time": "2025-02-24T14:04:15.801Z"
   },
   {
    "duration": 358,
    "start_time": "2025-02-24T14:04:16.251Z"
   },
   {
    "duration": 1303,
    "start_time": "2025-02-24T14:04:16.612Z"
   },
   {
    "duration": 6,
    "start_time": "2025-02-24T14:04:17.916Z"
   },
   {
    "duration": 225,
    "start_time": "2025-02-24T14:04:17.923Z"
   },
   {
    "duration": 1138,
    "start_time": "2025-02-24T14:04:18.150Z"
   },
   {
    "duration": 187,
    "start_time": "2025-02-24T14:04:19.289Z"
   },
   {
    "duration": 760,
    "start_time": "2025-02-24T14:04:19.477Z"
   },
   {
    "duration": 649,
    "start_time": "2025-02-24T14:04:20.239Z"
   },
   {
    "duration": 774,
    "start_time": "2025-02-24T14:04:20.890Z"
   },
   {
    "duration": 335,
    "start_time": "2025-02-24T14:04:21.666Z"
   },
   {
    "duration": 322,
    "start_time": "2025-02-24T14:04:22.003Z"
   },
   {
    "duration": 17,
    "start_time": "2025-02-24T14:04:22.329Z"
   },
   {
    "duration": 383,
    "start_time": "2025-02-24T14:04:22.348Z"
   },
   {
    "duration": 18,
    "start_time": "2025-02-24T14:04:22.732Z"
   },
   {
    "duration": 394,
    "start_time": "2025-02-24T14:04:22.751Z"
   },
   {
    "duration": 25,
    "start_time": "2025-02-24T14:04:23.147Z"
   },
   {
    "duration": 365,
    "start_time": "2025-02-24T14:04:23.174Z"
   },
   {
    "duration": 32,
    "start_time": "2025-02-24T14:04:23.541Z"
   },
   {
    "duration": 21,
    "start_time": "2025-02-24T14:04:23.575Z"
   },
   {
    "duration": 1098,
    "start_time": "2025-04-09T18:45:08.202Z"
   },
   {
    "duration": 46,
    "start_time": "2025-04-09T18:45:09.304Z"
   },
   {
    "duration": 19,
    "start_time": "2025-04-09T18:45:09.352Z"
   },
   {
    "duration": 15,
    "start_time": "2025-04-09T18:45:09.373Z"
   },
   {
    "duration": 15,
    "start_time": "2025-04-09T18:45:09.390Z"
   },
   {
    "duration": 14,
    "start_time": "2025-04-09T18:45:09.407Z"
   },
   {
    "duration": 17,
    "start_time": "2025-04-09T18:45:09.422Z"
   },
   {
    "duration": 18,
    "start_time": "2025-04-09T18:45:09.440Z"
   },
   {
    "duration": 8,
    "start_time": "2025-04-09T18:45:09.460Z"
   },
   {
    "duration": 7,
    "start_time": "2025-04-09T18:45:09.471Z"
   },
   {
    "duration": 13,
    "start_time": "2025-04-09T18:45:09.479Z"
   },
   {
    "duration": 25,
    "start_time": "2025-04-09T18:45:09.493Z"
   },
   {
    "duration": 13,
    "start_time": "2025-04-09T18:45:09.520Z"
   },
   {
    "duration": 17,
    "start_time": "2025-04-09T18:45:09.534Z"
   },
   {
    "duration": 16,
    "start_time": "2025-04-09T18:45:09.552Z"
   },
   {
    "duration": 378,
    "start_time": "2025-04-09T18:45:09.570Z"
   },
   {
    "duration": 316,
    "start_time": "2025-04-09T18:45:09.950Z"
   },
   {
    "duration": 1142,
    "start_time": "2025-04-09T18:45:10.277Z"
   },
   {
    "duration": 4,
    "start_time": "2025-04-09T18:45:11.420Z"
   },
   {
    "duration": 205,
    "start_time": "2025-04-09T18:45:11.425Z"
   },
   {
    "duration": 969,
    "start_time": "2025-04-09T18:45:11.632Z"
   },
   {
    "duration": 173,
    "start_time": "2025-04-09T18:45:12.603Z"
   },
   {
    "duration": 644,
    "start_time": "2025-04-09T18:45:12.778Z"
   },
   {
    "duration": 517,
    "start_time": "2025-04-09T18:45:13.423Z"
   },
   {
    "duration": 543,
    "start_time": "2025-04-09T18:45:13.942Z"
   },
   {
    "duration": 296,
    "start_time": "2025-04-09T18:45:14.486Z"
   },
   {
    "duration": 281,
    "start_time": "2025-04-09T18:45:14.784Z"
   },
   {
    "duration": 16,
    "start_time": "2025-04-09T18:45:15.076Z"
   },
   {
    "duration": 395,
    "start_time": "2025-04-09T18:45:15.094Z"
   },
   {
    "duration": 16,
    "start_time": "2025-04-09T18:45:15.491Z"
   },
   {
    "duration": 344,
    "start_time": "2025-04-09T18:45:15.509Z"
   },
   {
    "duration": 24,
    "start_time": "2025-04-09T18:45:15.855Z"
   },
   {
    "duration": 329,
    "start_time": "2025-04-09T18:45:15.881Z"
   },
   {
    "duration": 16,
    "start_time": "2025-04-09T18:45:16.212Z"
   },
   {
    "duration": 13,
    "start_time": "2025-04-09T18:45:16.230Z"
   }
  ],
  "kernelspec": {
   "display_name": "Python 3 (ipykernel)",
   "language": "python",
   "name": "python3"
  },
  "language_info": {
   "codemirror_mode": {
    "name": "ipython",
    "version": 3
   },
   "file_extension": ".py",
   "mimetype": "text/x-python",
   "name": "python",
   "nbconvert_exporter": "python",
   "pygments_lexer": "ipython3",
   "version": "3.9.5"
  },
  "toc": {
   "base_numbering": 1,
   "nav_menu": {},
   "number_sections": true,
   "sideBar": true,
   "skip_h1_title": true,
   "title_cell": "Table of Contents",
   "title_sidebar": "Contents",
   "toc_cell": false,
   "toc_position": {},
   "toc_section_display": true,
   "toc_window_display": false
  }
 },
 "nbformat": 4,
 "nbformat_minor": 2
}
