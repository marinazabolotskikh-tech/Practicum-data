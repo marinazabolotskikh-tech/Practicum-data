{
 "cells": [
  {
   "cell_type": "markdown",
   "metadata": {},
   "source": [
    "#  Анализ вероятности оттока клиентов сети фитнес-центра"
   ]
  },
  {
   "cell_type": "markdown",
   "metadata": {},
   "source": [
    "Сеть фитнес-центров «Культурист-датасаентист» разрабатывает стратегию взаимодействия с клиентами на основе аналитических данных.\n",
    "\n",
    "Распространённая проблема фитнес-клубов и других сервисов — отток клиентов. Как понять, что клиент больше не с вами? Можно записать в отток тех, кто попросил закрыть договор или удалил аккаунт. Однако клиенты не всегда уходят демонстративно: чаще перестают пользоваться сервисом тихо. \n",
    "\n",
    "Для фитнес-центра можно считать, что клиент попал в отток, если за последний месяц ни разу не посетил спортзал. Конечно, не исключено, что он уехал на Бали и по приезде обязательно продолжит ходить на фитнес. Однако чаще бывает наоборот. Если клиент начал новую жизнь с понедельника, немного походил в спортзал, а потом пропал — скорее всего, он не вернётся. \n",
    "\n",
    "Чтобы бороться с оттоком, отдел по работе с клиентами «Культуриста-датасаентиста» перевёл в электронный вид множество клиентских анкет. **Задача — провести анализ и подготовить план действий по удержанию клиентов**.  \n",
    "А именно: \n",
    "- научиться прогнозировать вероятность оттока (на уровне следующего месяца) для каждого клиента;\n",
    "- сформировать типичные портреты клиентов: выделить несколько наиболее ярких групп и охарактеризовать их основные свойства;\n",
    "- проанализировать основные признаки, наиболее сильно влияющие на отток;\n",
    "- сформулировать основные выводы и разработать рекомендации по повышению качества работы с клиентами:\n",
    "  - выделить целевые группы клиентов;\n",
    "  - предложить меры по снижению оттока;\n",
    "  - определить другие особенности взаимодействия с клиентами."
   ]
  },
  {
   "cell_type": "markdown",
   "metadata": {},
   "source": [
    "**Описание данных**\n",
    "\n",
    "«Культурист-датасаентист» предоставил сведения в csv-файле `/datasets/gym_churn.csv`. Заказчик подготовил данные, которые содержат данные на месяц до оттока и факт оттока на определённый месяц. Набор данных включает следующие поля:\n",
    "\n",
    "Данные клиента за предыдущий до проверки факта оттока месяц:\n",
    "- `gender` — пол;\n",
    "- `Near_Location` — проживание или работа в районе, где находится фитнес-центр;\n",
    "- `Partner` — сотрудник компании-партнёра клуба (сотрудничество с компаниями, чьи сотрудники могут получать скидки на абонемент — в таком случае фитнес-центр хранит информацию о работодателе клиента);\n",
    "- `Promo_friends` — факт первоначальной записи в рамках акции «приведи друга» (использовал промо-код от знакомого при оплате первого абонемента);\n",
    "- `Phone` — наличие контактного телефона;\n",
    "- `Age` — возраст;\n",
    "- `Lifetime` — время с момента первого обращения в фитнес-центр (в месяцах).\n",
    "\n",
    "Информация на основе журнала посещений, покупок и информация о текущем статусе абонемента клиента:\n",
    "\n",
    "- `Contract_period` — длительность текущего действующего абонемента (месяц, 6 месяцев, год);\n",
    "- `Month_to_end_contract` — срок до окончания текущего действующего абонемента (в месяцах);\n",
    "- `Group_visits` — факт посещения групповых занятий;\n",
    "- `Avg_class_frequency_total` — средняя частота посещений в неделю за все время с начала действия абонемента;\n",
    "- `Avg_class_frequency_current_month` — средняя частота посещений в неделю за предыдущий месяц;\n",
    "- `Avg_additional_charges_total` — суммарная выручка от других услуг фитнес-центра: кафе, спорттовары, косметический и массажный салон.\n",
    "- `Churn` — факт оттока в текущем месяце."
   ]
  },
  {
   "cell_type": "markdown",
   "metadata": {},
   "source": [
    "## Исследовательский анализ данных (EDA)"
   ]
  },
  {
   "cell_type": "markdown",
   "metadata": {},
   "source": [
    "### 1.1 Анализ качества признаков"
   ]
  },
  {
   "cell_type": "code",
   "execution_count": 1,
   "metadata": {},
   "outputs": [],
   "source": [
    "import pandas as pd\n",
    "import seaborn as sns\n",
    "import matplotlib.pyplot as plt\n",
    "import itertools\n",
    "\n",
    "from sklearn.model_selection import train_test_split\n",
    "from sklearn.linear_model import LogisticRegression\n",
    "#from sklearn.tree import DecisionTreeClassifier\n",
    "from sklearn.preprocessing import StandardScaler\n",
    "from sklearn.ensemble import RandomForestClassifier\n",
    "from sklearn.metrics import accuracy_score, precision_score, recall_score\n",
    "from scipy.cluster.hierarchy import dendrogram, linkage \n",
    "from sklearn.cluster import KMeans\n",
    "\n",
    "pd.set_option('display.max_colwidth', None)"
   ]
  },
  {
   "cell_type": "code",
   "execution_count": 2,
   "metadata": {},
   "outputs": [],
   "source": [
    "gymchurn = pd.read_csv ('/datasets/gym_churn.csv') # загрузка данных"
   ]
  },
  {
   "cell_type": "code",
   "execution_count": 3,
   "metadata": {},
   "outputs": [
    {
     "data": {
      "text/html": [
       "<div>\n",
       "<style scoped>\n",
       "    .dataframe tbody tr th:only-of-type {\n",
       "        vertical-align: middle;\n",
       "    }\n",
       "\n",
       "    .dataframe tbody tr th {\n",
       "        vertical-align: top;\n",
       "    }\n",
       "\n",
       "    .dataframe thead th {\n",
       "        text-align: right;\n",
       "    }\n",
       "</style>\n",
       "<table border=\"1\" class=\"dataframe\">\n",
       "  <thead>\n",
       "    <tr style=\"text-align: right;\">\n",
       "      <th></th>\n",
       "      <th>gender</th>\n",
       "      <th>Near_Location</th>\n",
       "      <th>Partner</th>\n",
       "      <th>Promo_friends</th>\n",
       "      <th>Phone</th>\n",
       "      <th>Contract_period</th>\n",
       "      <th>Group_visits</th>\n",
       "      <th>Age</th>\n",
       "      <th>Avg_additional_charges_total</th>\n",
       "      <th>Month_to_end_contract</th>\n",
       "      <th>Lifetime</th>\n",
       "      <th>Avg_class_frequency_total</th>\n",
       "      <th>Avg_class_frequency_current_month</th>\n",
       "      <th>Churn</th>\n",
       "    </tr>\n",
       "  </thead>\n",
       "  <tbody>\n",
       "    <tr>\n",
       "      <th>0</th>\n",
       "      <td>1</td>\n",
       "      <td>1</td>\n",
       "      <td>1</td>\n",
       "      <td>1</td>\n",
       "      <td>0</td>\n",
       "      <td>6</td>\n",
       "      <td>1</td>\n",
       "      <td>29</td>\n",
       "      <td>14.227470</td>\n",
       "      <td>5.0</td>\n",
       "      <td>3</td>\n",
       "      <td>0.020398</td>\n",
       "      <td>0.000000</td>\n",
       "      <td>0</td>\n",
       "    </tr>\n",
       "    <tr>\n",
       "      <th>1</th>\n",
       "      <td>0</td>\n",
       "      <td>1</td>\n",
       "      <td>0</td>\n",
       "      <td>0</td>\n",
       "      <td>1</td>\n",
       "      <td>12</td>\n",
       "      <td>1</td>\n",
       "      <td>31</td>\n",
       "      <td>113.202938</td>\n",
       "      <td>12.0</td>\n",
       "      <td>7</td>\n",
       "      <td>1.922936</td>\n",
       "      <td>1.910244</td>\n",
       "      <td>0</td>\n",
       "    </tr>\n",
       "    <tr>\n",
       "      <th>2</th>\n",
       "      <td>0</td>\n",
       "      <td>1</td>\n",
       "      <td>1</td>\n",
       "      <td>0</td>\n",
       "      <td>1</td>\n",
       "      <td>1</td>\n",
       "      <td>0</td>\n",
       "      <td>28</td>\n",
       "      <td>129.448479</td>\n",
       "      <td>1.0</td>\n",
       "      <td>2</td>\n",
       "      <td>1.859098</td>\n",
       "      <td>1.736502</td>\n",
       "      <td>0</td>\n",
       "    </tr>\n",
       "    <tr>\n",
       "      <th>3</th>\n",
       "      <td>0</td>\n",
       "      <td>1</td>\n",
       "      <td>1</td>\n",
       "      <td>1</td>\n",
       "      <td>1</td>\n",
       "      <td>12</td>\n",
       "      <td>1</td>\n",
       "      <td>33</td>\n",
       "      <td>62.669863</td>\n",
       "      <td>12.0</td>\n",
       "      <td>2</td>\n",
       "      <td>3.205633</td>\n",
       "      <td>3.357215</td>\n",
       "      <td>0</td>\n",
       "    </tr>\n",
       "    <tr>\n",
       "      <th>4</th>\n",
       "      <td>1</td>\n",
       "      <td>1</td>\n",
       "      <td>1</td>\n",
       "      <td>1</td>\n",
       "      <td>1</td>\n",
       "      <td>1</td>\n",
       "      <td>0</td>\n",
       "      <td>26</td>\n",
       "      <td>198.362265</td>\n",
       "      <td>1.0</td>\n",
       "      <td>3</td>\n",
       "      <td>1.113884</td>\n",
       "      <td>1.120078</td>\n",
       "      <td>0</td>\n",
       "    </tr>\n",
       "  </tbody>\n",
       "</table>\n",
       "</div>"
      ],
      "text/plain": [
       "   gender  Near_Location  Partner  Promo_friends  Phone  Contract_period  \\\n",
       "0       1              1        1              1      0                6   \n",
       "1       0              1        0              0      1               12   \n",
       "2       0              1        1              0      1                1   \n",
       "3       0              1        1              1      1               12   \n",
       "4       1              1        1              1      1                1   \n",
       "\n",
       "   Group_visits  Age  Avg_additional_charges_total  Month_to_end_contract  \\\n",
       "0             1   29                     14.227470                    5.0   \n",
       "1             1   31                    113.202938                   12.0   \n",
       "2             0   28                    129.448479                    1.0   \n",
       "3             1   33                     62.669863                   12.0   \n",
       "4             0   26                    198.362265                    1.0   \n",
       "\n",
       "   Lifetime  Avg_class_frequency_total  Avg_class_frequency_current_month  \\\n",
       "0         3                   0.020398                           0.000000   \n",
       "1         7                   1.922936                           1.910244   \n",
       "2         2                   1.859098                           1.736502   \n",
       "3         2                   3.205633                           3.357215   \n",
       "4         3                   1.113884                           1.120078   \n",
       "\n",
       "   Churn  \n",
       "0      0  \n",
       "1      0  \n",
       "2      0  \n",
       "3      0  \n",
       "4      0  "
      ]
     },
     "execution_count": 3,
     "metadata": {},
     "output_type": "execute_result"
    }
   ],
   "source": [
    "gymchurn.head()"
   ]
  },
  {
   "cell_type": "code",
   "execution_count": 4,
   "metadata": {},
   "outputs": [
    {
     "data": {
      "text/plain": [
       "Index(['gender', 'near_location', 'partner', 'promo_friends', 'phone',\n",
       "       'contract_period', 'group_visits', 'age',\n",
       "       'avg_additional_charges_total', 'month_to_end_contract', 'lifetime',\n",
       "       'avg_class_frequency_total', 'avg_class_frequency_current_month',\n",
       "       'churn'],\n",
       "      dtype='object')"
      ]
     },
     "execution_count": 4,
     "metadata": {},
     "output_type": "execute_result"
    }
   ],
   "source": [
    "# приведение названий столбцов к нижнему регистру\n",
    "gymchurn.columns = gymchurn.columns.str.lower()\n",
    "gymchurn.columns"
   ]
  },
  {
   "cell_type": "code",
   "execution_count": 5,
   "metadata": {},
   "outputs": [
    {
     "data": {
      "text/plain": [
       "(4000, 14)"
      ]
     },
     "execution_count": 5,
     "metadata": {},
     "output_type": "execute_result"
    }
   ],
   "source": [
    "# размер датасета\n",
    "gymchurn.shape"
   ]
  },
  {
   "cell_type": "code",
   "execution_count": 6,
   "metadata": {},
   "outputs": [
    {
     "name": "stdout",
     "output_type": "stream",
     "text": [
      "<class 'pandas.core.frame.DataFrame'>\n",
      "RangeIndex: 4000 entries, 0 to 3999\n",
      "Data columns (total 14 columns):\n",
      " #   Column                             Non-Null Count  Dtype  \n",
      "---  ------                             --------------  -----  \n",
      " 0   gender                             4000 non-null   int64  \n",
      " 1   near_location                      4000 non-null   int64  \n",
      " 2   partner                            4000 non-null   int64  \n",
      " 3   promo_friends                      4000 non-null   int64  \n",
      " 4   phone                              4000 non-null   int64  \n",
      " 5   contract_period                    4000 non-null   int64  \n",
      " 6   group_visits                       4000 non-null   int64  \n",
      " 7   age                                4000 non-null   int64  \n",
      " 8   avg_additional_charges_total       4000 non-null   float64\n",
      " 9   month_to_end_contract              4000 non-null   float64\n",
      " 10  lifetime                           4000 non-null   int64  \n",
      " 11  avg_class_frequency_total          4000 non-null   float64\n",
      " 12  avg_class_frequency_current_month  4000 non-null   float64\n",
      " 13  churn                              4000 non-null   int64  \n",
      "dtypes: float64(4), int64(10)\n",
      "memory usage: 437.6 KB\n"
     ]
    }
   ],
   "source": [
    "gymchurn.info()"
   ]
  },
  {
   "cell_type": "markdown",
   "metadata": {},
   "source": [
    "Все признаки численные. Пропуски отсутствуют."
   ]
  },
  {
   "cell_type": "code",
   "execution_count": 7,
   "metadata": {},
   "outputs": [
    {
     "data": {
      "text/html": [
       "<div>\n",
       "<style scoped>\n",
       "    .dataframe tbody tr th:only-of-type {\n",
       "        vertical-align: middle;\n",
       "    }\n",
       "\n",
       "    .dataframe tbody tr th {\n",
       "        vertical-align: top;\n",
       "    }\n",
       "\n",
       "    .dataframe thead th {\n",
       "        text-align: right;\n",
       "    }\n",
       "</style>\n",
       "<table border=\"1\" class=\"dataframe\">\n",
       "  <thead>\n",
       "    <tr style=\"text-align: right;\">\n",
       "      <th></th>\n",
       "      <th>count</th>\n",
       "      <th>mean</th>\n",
       "      <th>std</th>\n",
       "      <th>min</th>\n",
       "      <th>25%</th>\n",
       "      <th>50%</th>\n",
       "      <th>75%</th>\n",
       "      <th>max</th>\n",
       "    </tr>\n",
       "  </thead>\n",
       "  <tbody>\n",
       "    <tr>\n",
       "      <th>gender</th>\n",
       "      <td>4000.0</td>\n",
       "      <td>0.51</td>\n",
       "      <td>0.50</td>\n",
       "      <td>0.00</td>\n",
       "      <td>0.00</td>\n",
       "      <td>1.00</td>\n",
       "      <td>1.00</td>\n",
       "      <td>1.00</td>\n",
       "    </tr>\n",
       "    <tr>\n",
       "      <th>near_location</th>\n",
       "      <td>4000.0</td>\n",
       "      <td>0.85</td>\n",
       "      <td>0.36</td>\n",
       "      <td>0.00</td>\n",
       "      <td>1.00</td>\n",
       "      <td>1.00</td>\n",
       "      <td>1.00</td>\n",
       "      <td>1.00</td>\n",
       "    </tr>\n",
       "    <tr>\n",
       "      <th>partner</th>\n",
       "      <td>4000.0</td>\n",
       "      <td>0.49</td>\n",
       "      <td>0.50</td>\n",
       "      <td>0.00</td>\n",
       "      <td>0.00</td>\n",
       "      <td>0.00</td>\n",
       "      <td>1.00</td>\n",
       "      <td>1.00</td>\n",
       "    </tr>\n",
       "    <tr>\n",
       "      <th>promo_friends</th>\n",
       "      <td>4000.0</td>\n",
       "      <td>0.31</td>\n",
       "      <td>0.46</td>\n",
       "      <td>0.00</td>\n",
       "      <td>0.00</td>\n",
       "      <td>0.00</td>\n",
       "      <td>1.00</td>\n",
       "      <td>1.00</td>\n",
       "    </tr>\n",
       "    <tr>\n",
       "      <th>phone</th>\n",
       "      <td>4000.0</td>\n",
       "      <td>0.90</td>\n",
       "      <td>0.30</td>\n",
       "      <td>0.00</td>\n",
       "      <td>1.00</td>\n",
       "      <td>1.00</td>\n",
       "      <td>1.00</td>\n",
       "      <td>1.00</td>\n",
       "    </tr>\n",
       "    <tr>\n",
       "      <th>contract_period</th>\n",
       "      <td>4000.0</td>\n",
       "      <td>4.68</td>\n",
       "      <td>4.55</td>\n",
       "      <td>1.00</td>\n",
       "      <td>1.00</td>\n",
       "      <td>1.00</td>\n",
       "      <td>6.00</td>\n",
       "      <td>12.00</td>\n",
       "    </tr>\n",
       "    <tr>\n",
       "      <th>group_visits</th>\n",
       "      <td>4000.0</td>\n",
       "      <td>0.41</td>\n",
       "      <td>0.49</td>\n",
       "      <td>0.00</td>\n",
       "      <td>0.00</td>\n",
       "      <td>0.00</td>\n",
       "      <td>1.00</td>\n",
       "      <td>1.00</td>\n",
       "    </tr>\n",
       "    <tr>\n",
       "      <th>age</th>\n",
       "      <td>4000.0</td>\n",
       "      <td>29.18</td>\n",
       "      <td>3.26</td>\n",
       "      <td>18.00</td>\n",
       "      <td>27.00</td>\n",
       "      <td>29.00</td>\n",
       "      <td>31.00</td>\n",
       "      <td>41.00</td>\n",
       "    </tr>\n",
       "    <tr>\n",
       "      <th>avg_additional_charges_total</th>\n",
       "      <td>4000.0</td>\n",
       "      <td>146.94</td>\n",
       "      <td>96.36</td>\n",
       "      <td>0.15</td>\n",
       "      <td>68.87</td>\n",
       "      <td>136.22</td>\n",
       "      <td>210.95</td>\n",
       "      <td>552.59</td>\n",
       "    </tr>\n",
       "    <tr>\n",
       "      <th>month_to_end_contract</th>\n",
       "      <td>4000.0</td>\n",
       "      <td>4.32</td>\n",
       "      <td>4.19</td>\n",
       "      <td>1.00</td>\n",
       "      <td>1.00</td>\n",
       "      <td>1.00</td>\n",
       "      <td>6.00</td>\n",
       "      <td>12.00</td>\n",
       "    </tr>\n",
       "    <tr>\n",
       "      <th>lifetime</th>\n",
       "      <td>4000.0</td>\n",
       "      <td>3.72</td>\n",
       "      <td>3.75</td>\n",
       "      <td>0.00</td>\n",
       "      <td>1.00</td>\n",
       "      <td>3.00</td>\n",
       "      <td>5.00</td>\n",
       "      <td>31.00</td>\n",
       "    </tr>\n",
       "    <tr>\n",
       "      <th>avg_class_frequency_total</th>\n",
       "      <td>4000.0</td>\n",
       "      <td>1.88</td>\n",
       "      <td>0.97</td>\n",
       "      <td>0.00</td>\n",
       "      <td>1.18</td>\n",
       "      <td>1.83</td>\n",
       "      <td>2.54</td>\n",
       "      <td>6.02</td>\n",
       "    </tr>\n",
       "    <tr>\n",
       "      <th>avg_class_frequency_current_month</th>\n",
       "      <td>4000.0</td>\n",
       "      <td>1.77</td>\n",
       "      <td>1.05</td>\n",
       "      <td>0.00</td>\n",
       "      <td>0.96</td>\n",
       "      <td>1.72</td>\n",
       "      <td>2.51</td>\n",
       "      <td>6.15</td>\n",
       "    </tr>\n",
       "    <tr>\n",
       "      <th>churn</th>\n",
       "      <td>4000.0</td>\n",
       "      <td>0.27</td>\n",
       "      <td>0.44</td>\n",
       "      <td>0.00</td>\n",
       "      <td>0.00</td>\n",
       "      <td>0.00</td>\n",
       "      <td>1.00</td>\n",
       "      <td>1.00</td>\n",
       "    </tr>\n",
       "  </tbody>\n",
       "</table>\n",
       "</div>"
      ],
      "text/plain": [
       "                                    count    mean    std    min    25%  \\\n",
       "gender                             4000.0    0.51   0.50   0.00   0.00   \n",
       "near_location                      4000.0    0.85   0.36   0.00   1.00   \n",
       "partner                            4000.0    0.49   0.50   0.00   0.00   \n",
       "promo_friends                      4000.0    0.31   0.46   0.00   0.00   \n",
       "phone                              4000.0    0.90   0.30   0.00   1.00   \n",
       "contract_period                    4000.0    4.68   4.55   1.00   1.00   \n",
       "group_visits                       4000.0    0.41   0.49   0.00   0.00   \n",
       "age                                4000.0   29.18   3.26  18.00  27.00   \n",
       "avg_additional_charges_total       4000.0  146.94  96.36   0.15  68.87   \n",
       "month_to_end_contract              4000.0    4.32   4.19   1.00   1.00   \n",
       "lifetime                           4000.0    3.72   3.75   0.00   1.00   \n",
       "avg_class_frequency_total          4000.0    1.88   0.97   0.00   1.18   \n",
       "avg_class_frequency_current_month  4000.0    1.77   1.05   0.00   0.96   \n",
       "churn                              4000.0    0.27   0.44   0.00   0.00   \n",
       "\n",
       "                                      50%     75%     max  \n",
       "gender                               1.00    1.00    1.00  \n",
       "near_location                        1.00    1.00    1.00  \n",
       "partner                              0.00    1.00    1.00  \n",
       "promo_friends                        0.00    1.00    1.00  \n",
       "phone                                1.00    1.00    1.00  \n",
       "contract_period                      1.00    6.00   12.00  \n",
       "group_visits                         0.00    1.00    1.00  \n",
       "age                                 29.00   31.00   41.00  \n",
       "avg_additional_charges_total       136.22  210.95  552.59  \n",
       "month_to_end_contract                1.00    6.00   12.00  \n",
       "lifetime                             3.00    5.00   31.00  \n",
       "avg_class_frequency_total            1.83    2.54    6.02  \n",
       "avg_class_frequency_current_month    1.72    2.51    6.15  \n",
       "churn                                0.00    1.00    1.00  "
      ]
     },
     "execution_count": 7,
     "metadata": {},
     "output_type": "execute_result"
    }
   ],
   "source": [
    "round (gymchurn.describe().T, 2)"
   ]
  },
  {
   "cell_type": "markdown",
   "metadata": {},
   "source": [
    "Данные равномерные, стандартные отклонения не слишком далеко от средних. Выбросов не наблюдается."
   ]
  },
  {
   "cell_type": "markdown",
   "metadata": {},
   "source": [
    "### Анализ средних значений признаков в двух группах — тех, кто ушел в отток и тех, кто остался"
   ]
  },
  {
   "cell_type": "code",
   "execution_count": 8,
   "metadata": {},
   "outputs": [
    {
     "data": {
      "text/html": [
       "<div>\n",
       "<style scoped>\n",
       "    .dataframe tbody tr th:only-of-type {\n",
       "        vertical-align: middle;\n",
       "    }\n",
       "\n",
       "    .dataframe tbody tr th {\n",
       "        vertical-align: top;\n",
       "    }\n",
       "\n",
       "    .dataframe thead th {\n",
       "        text-align: right;\n",
       "    }\n",
       "</style>\n",
       "<table border=\"1\" class=\"dataframe\">\n",
       "  <thead>\n",
       "    <tr style=\"text-align: right;\">\n",
       "      <th></th>\n",
       "      <th>gender</th>\n",
       "      <th>near_location</th>\n",
       "      <th>partner</th>\n",
       "      <th>promo_friends</th>\n",
       "      <th>phone</th>\n",
       "      <th>contract_period</th>\n",
       "      <th>group_visits</th>\n",
       "      <th>age</th>\n",
       "      <th>avg_additional_charges_total</th>\n",
       "      <th>month_to_end_contract</th>\n",
       "      <th>lifetime</th>\n",
       "      <th>avg_class_frequency_total</th>\n",
       "      <th>avg_class_frequency_current_month</th>\n",
       "    </tr>\n",
       "    <tr>\n",
       "      <th>churn</th>\n",
       "      <th></th>\n",
       "      <th></th>\n",
       "      <th></th>\n",
       "      <th></th>\n",
       "      <th></th>\n",
       "      <th></th>\n",
       "      <th></th>\n",
       "      <th></th>\n",
       "      <th></th>\n",
       "      <th></th>\n",
       "      <th></th>\n",
       "      <th></th>\n",
       "      <th></th>\n",
       "    </tr>\n",
       "  </thead>\n",
       "  <tbody>\n",
       "    <tr>\n",
       "      <th>0</th>\n",
       "      <td>0.51</td>\n",
       "      <td>0.87</td>\n",
       "      <td>0.53</td>\n",
       "      <td>0.35</td>\n",
       "      <td>0.9</td>\n",
       "      <td>5.75</td>\n",
       "      <td>0.46</td>\n",
       "      <td>29.98</td>\n",
       "      <td>158.45</td>\n",
       "      <td>5.28</td>\n",
       "      <td>4.71</td>\n",
       "      <td>2.02</td>\n",
       "      <td>2.03</td>\n",
       "    </tr>\n",
       "    <tr>\n",
       "      <th>1</th>\n",
       "      <td>0.51</td>\n",
       "      <td>0.77</td>\n",
       "      <td>0.36</td>\n",
       "      <td>0.18</td>\n",
       "      <td>0.9</td>\n",
       "      <td>1.73</td>\n",
       "      <td>0.27</td>\n",
       "      <td>26.99</td>\n",
       "      <td>115.08</td>\n",
       "      <td>1.66</td>\n",
       "      <td>0.99</td>\n",
       "      <td>1.47</td>\n",
       "      <td>1.04</td>\n",
       "    </tr>\n",
       "  </tbody>\n",
       "</table>\n",
       "</div>"
      ],
      "text/plain": [
       "       gender  near_location  partner  promo_friends  phone  contract_period  \\\n",
       "churn                                                                          \n",
       "0        0.51           0.87     0.53           0.35    0.9             5.75   \n",
       "1        0.51           0.77     0.36           0.18    0.9             1.73   \n",
       "\n",
       "       group_visits    age  avg_additional_charges_total  \\\n",
       "churn                                                      \n",
       "0              0.46  29.98                        158.45   \n",
       "1              0.27  26.99                        115.08   \n",
       "\n",
       "       month_to_end_contract  lifetime  avg_class_frequency_total  \\\n",
       "churn                                                               \n",
       "0                       5.28      4.71                       2.02   \n",
       "1                       1.66      0.99                       1.47   \n",
       "\n",
       "       avg_class_frequency_current_month  \n",
       "churn                                     \n",
       "0                                   2.03  \n",
       "1                                   1.04  "
      ]
     },
     "execution_count": 8,
     "metadata": {},
     "output_type": "execute_result"
    }
   ],
   "source": [
    "round(gymchurn.groupby('churn').mean(),2)"
   ]
  },
  {
   "cell_type": "markdown",
   "metadata": {},
   "source": [
    "Клиенты, которые проживают или работают ближе к фитнес-центру оттекают немного меньше. \n",
    "\n",
    "Сотрудники компаний-партнёров клуба и те, кто пришел по акции \"приведи друга\" более лояльны и оттекают меньше.\n",
    "\n",
    "У действующих клиентов срок действия абонемента дольше, чем у ушедших. А также времени до окончания абонемента больше. Высокое влияние признака на отток.\n",
    "\n",
    "Действующие клиенты чаще посещают групповые занятия.\n",
    "\n",
    "Средний возраст действующих клиентов 30 лет, а средний возраст ушедших чуть меньше - 27 лет.\n",
    "\n",
    "Суммарная выручка от других услуг фитнес-центра (кафе, спорттовары, косметический и массажный салон) выше от действующих пользователей (158 едениц), чем у ушедших (115 едениц).\n",
    "\n",
    "Средняя частота посещений у действующих клиентов выше, они чаще посещают зал, чем ушедшие клиенты.\n",
    "\n",
    "Признак пола и телефона не влияет на отток."
   ]
  },
  {
   "cell_type": "markdown",
   "metadata": {},
   "source": [
    "### Cтолбчатые гистограммы и распределения признаков для тех, кто ушёл (отток) и тех, кто остался (не попали в отток)"
   ]
  },
  {
   "cell_type": "code",
   "execution_count": 9,
   "metadata": {},
   "outputs": [
    {
     "data": {
      "image/png": "[encoded data removed]",
      "text/plain": [
       "<Figure size 1080x1440 with 7 Axes>"
      ]
     },
     "metadata": {
      "needs_background": "light"
     },
     "output_type": "display_data"
    }
   ],
   "source": [
    "values = ['contract_period', 'age', 'avg_additional_charges_total', 'month_to_end_contract', \n",
    "          'lifetime', 'avg_class_frequency_total', 'avg_class_frequency_current_month']\n",
    "\n",
    "# Определяем количество строк и столбцов\n",
    "nrows = (len(values) + 1) // 2  # Округляем вверх\n",
    "ncols = 3\n",
    "\n",
    "fig, axes = plt.subplots(nrows=nrows, ncols=ncols, figsize=(15, 5 * nrows))\n",
    "axes_list = [item for sublist in axes for item in sublist]  # Преобразуем в одномерный список\n",
    "fig.tight_layout(pad=5.0)\n",
    "\n",
    "for feature in values:\n",
    "    ax = axes_list.pop(0)  \n",
    "\n",
    "    sns.histplot(gymchurn.query('churn == 0')[feature].astype(int), bins=15, ax=ax, color='b', label='Остались', kde=False)\n",
    "    sns.histplot(gymchurn.query('churn == 1')[feature].astype(int), bins=15, ax=ax, color='r', label='Ушли', kde=False)\n",
    "\n",
    "    ax.set_xlabel(feature)\n",
    "    ax.legend()\n",
    "    \n",
    "for remaining_ax in axes_list:\n",
    "    remaining_ax.remove()\n",
    "\n",
    "plt.show()"
   ]
  },
  {
   "cell_type": "code",
   "execution_count": 10,
   "metadata": {},
   "outputs": [
    {
     "data": {
      "image/png": "[encoded data removed]",
      "text/plain": [
       "<Figure size 1080x720 with 6 Axes>"
      ]
     },
     "metadata": {
      "needs_background": "light"
     },
     "output_type": "display_data"
    }
   ],
   "source": [
    "values = ['gender', 'near_location', 'partner', 'promo_friends', 'phone', 'group_visits']\n",
    "\n",
    "nrows = (len(values) + 2) // 3 \n",
    "fig, axes = plt.subplots(nrows=nrows, ncols=3, figsize=(15, 5 * nrows))\n",
    "axes_list = [item for sublist in axes for item in sublist]\n",
    "fig.tight_layout(pad=5.0)\n",
    "\n",
    "for feature in values:\n",
    "    ax = axes_list.pop(0)  \n",
    "\n",
    "    sns.countplot(data=gymchurn, x=feature, hue='churn', ax=ax, palette={0: 'b', 1: 'r'})\n",
    "    \n",
    "    ax.set_xlabel(feature)\n",
    "    \n",
    "plt.show()"
   ]
  },
  {
   "cell_type": "markdown",
   "metadata": {},
   "source": [
    "- Доли оттока у представителей разного пола примерно одинаковые.\n",
    "- Клиентов, проживающих или работающих ближе к залу больше, доля оттока среди них меньше. У проживающих дальше очень высокий отток.\n",
    "- Сотрудники компаний-партнёров клуба больше и доля оттока меньше.\n",
    "- Клиентов, пришедших по акции \"приведи друга\", меньше, но доля их оттока тоже ниже, чем у отстальных клиентов.\n",
    "- На групповые занятия ходит меньше действующих посетителей, но среди них низкий отток.\n",
    "- Большинство ушедших клиентов имеют абонемент на 1 мес. (чем больше срок, тем ниже отток).\n",
    "- В возрасте до 28 лет оттекает больше клиентов, чем старше клиенты, тем они более лояльны.\n",
    "- Клиенты, у которых осталось меньше 2-ух мес. до окончания абонемента имеют высокий отток, чем больше срок до окончания, тем меньше отток.\n",
    "- У клиентов с большим сроком с момента покупки абонемента отток ниже. Большинство оттекает в первые месяцы.\n",
    "- Чем чаще ходит клиент в зал, тем ниже отток."
   ]
  },
  {
   "cell_type": "markdown",
   "metadata": {},
   "source": [
    "### Матрица корреляций"
   ]
  },
  {
   "cell_type": "code",
   "execution_count": 11,
   "metadata": {},
   "outputs": [
    {
     "data": {
      "image/png": "[encoded data removed]",
      "text/plain": [
       "<Figure size 1080x504 with 2 Axes>"
      ]
     },
     "metadata": {
      "needs_background": "light"
     },
     "output_type": "display_data"
    }
   ],
   "source": [
    "cm = gymchurn.corr()  #вычисляем матрицу корреляций\n",
    "plt.figure(figsize=(15,7))\n",
    "sns.heatmap(cm, annot = True, square=False)\n",
    "plt.title('Матрица корреляций признаков')\n",
    "plt.xlabel('Признаки')\n",
    "plt.ylabel('Признаки')\n",
    "plt.show()"
   ]
  },
  {
   "cell_type": "markdown",
   "metadata": {},
   "source": [
    "Характеристики имеют слабую корелляцию. Значительную кореляцию имеют только признаки: \n",
    "- contract_period и month_to_end_contract (чем больше срок дейсвия абонемента, тем больше дней до его окончания); \n",
    "- avg_class_frequency_total и avg_class_frequency_current_month (кто чаще ходит в зал на неделе, тот чаще ходил за весь период действия абонемента)."
   ]
  },
  {
   "cell_type": "markdown",
   "metadata": {},
   "source": [
    "**Промежуточный вывод**\n",
    "\n",
    "В ходе EDA анализа установлено:\n",
    "- Размер датасета (4000, 14).\n",
    "- Все признаки численные. Пропуски отсутствуют.\n",
    "- Данные равномерные, стандартные отклонения не слишком далеко от средних. Выбросов не наблюдается.\n",
    "\n",
    "Изучение показателей оттока клиента:\n",
    "- Доли оттока у представителей разного пола примерно одинаковые.\n",
    "- Клиентов, проживающих или работающих ближе к залу больше, доля оттока среди них меньше. У проживающих дальше очень высокий отток.\n",
    "- Сотрудники компаний-партнёров клуба больше и доля оттока меньше.\n",
    "- Клиентов, пришедших по акции \"приведи друга\", меньше, но доля их оттока тоже ниже, чем у отстальных клиентов.\n",
    "- На групповые занятия ходит меньше действующих посетителей, но среди них низкий отток.\n",
    "- Большинство ушедших клиентов имеют абонемент на 1 мес. (чем больше срок, тем ниже отток).\n",
    "- В возрасте до 28 лет оттекает больше клиентов, чем старше клиенты, тем они более лояльны.\n",
    "- Клиенты, у которых осталось меньше 2-ух мес. до окончания абонемента имеют высокий отток, чем больше срок до окончания, тем меньше отток.\n",
    "- У клиентов с большим сроком с момента покупки абонемента отток ниже. Большинство оттекает в первые месяцы.\n",
    "- Чем чаще ходит клиент в зал, тем ниже отток.\n",
    "\n",
    "Признаки слабо коррелируют между собой, кроме двух логических пар признаков (contract_period и month_to_end_contract (чем больше срок дейсвия абонемента, тем больше дней до его окончания); avg_class_frequency_total и avg_class_frequency_current_month (кто чаще ходил каждый меньше, тот чаще ходил за весь период действия абонемента))."
   ]
  },
  {
   "cell_type": "markdown",
   "metadata": {},
   "source": [
    "## Модель прогнозирования оттока клиентов"
   ]
  },
  {
   "cell_type": "markdown",
   "metadata": {},
   "source": [
    "Построение модели бинарной классификации клиентов, где целевой признак — факт оттока клиента в следующем месяце."
   ]
  },
  {
   "cell_type": "markdown",
   "metadata": {},
   "source": [
    "### Выделение обучающей и валидационной выборок"
   ]
  },
  {
   "cell_type": "code",
   "execution_count": 12,
   "metadata": {},
   "outputs": [],
   "source": [
    "#разделение данных на признаки (матрица X) и целевую переменную (y)\n",
    "X = gymchurn.drop('churn', axis=1)\n",
    "y = gymchurn['churn']"
   ]
  },
  {
   "cell_type": "code",
   "execution_count": 13,
   "metadata": {},
   "outputs": [],
   "source": [
    "# разделение модели на обучающую и валидационную выборки\n",
    "X_train, X_test, y_train, y_test = train_test_split(X, y, test_size=0.2, random_state=0)"
   ]
  },
  {
   "cell_type": "markdown",
   "metadata": {},
   "source": [
    "### Стандартизация данных"
   ]
  },
  {
   "cell_type": "code",
   "execution_count": 14,
   "metadata": {},
   "outputs": [],
   "source": [
    "#создание объекта класса StandardScaler и применение к обучающей выборке\n",
    "scaler = StandardScaler()\n",
    "X_train_st =  scaler.fit_transform(X_train) #обучаем scaler и одновременно трансформируем матрицу для обучающей выборки\n",
    "\n",
    "#применяем стандартизацию к матрице признаков для тестовой выборки\n",
    "X_test_st = scaler.transform(X_test)"
   ]
  },
  {
   "cell_type": "markdown",
   "metadata": {},
   "source": [
    "### Обучение модели на train-выборке двумя способами: логистической регрессией, случайным лесом."
   ]
  },
  {
   "cell_type": "code",
   "execution_count": 15,
   "metadata": {},
   "outputs": [],
   "source": [
    "# алгоритм для модели логистической регрессии\n",
    "lr_model = LogisticRegression(random_state=0)\n",
    "# обучение модеи\n",
    "lr_model.fit(X_train_st, y_train)\n",
    "# воспользуемся уже обученной моделью, чтобы сделать прогнозы\n",
    "lr_predictions = lr_model.predict(X_test_st)\n",
    "lr_probabilities = lr_model.predict_proba(X_test_st)[:, 1]"
   ]
  },
  {
   "cell_type": "code",
   "execution_count": 16,
   "metadata": {},
   "outputs": [],
   "source": [
    "# алгоритм для новой модели на основе алгоритма случайного леса\n",
    "rf_model = RandomForestClassifier(random_state = 0) # Ваш код здесь\n",
    "# обучение модели случайного леса\n",
    "rf_model.fit(X_train_st, y_train)\n",
    "# воспользуемся уже обученной моделью, чтобы сделать прогнозы\n",
    "rf_predictions = rf_model.predict(X_test_st) \n",
    "rf_probabilities = rf_model.predict_proba(X_test_st)[:, 1] "
   ]
  },
  {
   "cell_type": "markdown",
   "metadata": {},
   "source": [
    "### Оценка метрик accuracy, precision и recall для обеих моделей на валидационной выборке. Сравнение по ним модели."
   ]
  },
  {
   "cell_type": "code",
   "execution_count": 17,
   "metadata": {},
   "outputs": [],
   "source": [
    "# определенние функции, которая будет выводить метрики\n",
    "def print_all_metrics(y_true, y_pred, y_proba, title='Метрики классификации'):\n",
    "    print(title)\n",
    "    print('\\tAccuracy: {:.2f}'.format(accuracy_score(y_true, y_pred)))\n",
    "    print('\\tPrecision: {:.2f}'.format(precision_score(y_true, y_pred)))\n",
    "    print('\\tRecall: {:.2f}'.format(recall_score(y_true, y_pred)))"
   ]
  },
  {
   "cell_type": "code",
   "execution_count": 18,
   "metadata": {},
   "outputs": [
    {
     "name": "stdout",
     "output_type": "stream",
     "text": [
      "Метрики для модели логистической регрессии:\n",
      "\tAccuracy: 0.92\n",
      "\tPrecision: 0.85\n",
      "\tRecall: 0.83\n"
     ]
    }
   ],
   "source": [
    "# код ревьюера\n",
    "# определенние функции, которая будет выводить метрики\n",
    "def print_all_metrics(y_true, y_pred, title='Метрики классификации'):\n",
    "    print(title)\n",
    "    print('\\tAccuracy: {:.2f}'.format(accuracy_score(y_true, y_pred)))\n",
    "    print('\\tPrecision: {:.2f}'.format(precision_score(y_true, y_pred)))\n",
    "    print('\\tRecall: {:.2f}'.format(recall_score(y_true, y_pred)))\n",
    "    \n",
    "    \n",
    "print_all_metrics(\n",
    "    y_test,\n",
    "    lr_predictions,\n",
    "    title='Метрики для модели логистической регрессии:'\n",
    ")    "
   ]
  },
  {
   "cell_type": "code",
   "execution_count": 19,
   "metadata": {},
   "outputs": [
    {
     "ename": "TypeError",
     "evalue": "print_all_metrics() got multiple values for argument 'title'",
     "output_type": "error",
     "traceback": [
      "\u001b[0;31m---------------------------------------------------------------------------\u001b[0m",
      "\u001b[0;31mTypeError\u001b[0m                                 Traceback (most recent call last)",
      "\u001b[0;32m/tmp/ipykernel_391/3587401624.py\u001b[0m in \u001b[0;36m<module>\u001b[0;34m\u001b[0m\n\u001b[1;32m      1\u001b[0m \u001b[0;31m# выведем все метрики логистической регрессии\u001b[0m\u001b[0;34m\u001b[0m\u001b[0;34m\u001b[0m\u001b[0;34m\u001b[0m\u001b[0m\n\u001b[0;32m----> 2\u001b[0;31m print_all_metrics(\n\u001b[0m\u001b[1;32m      3\u001b[0m     \u001b[0my_test\u001b[0m\u001b[0;34m,\u001b[0m\u001b[0;34m\u001b[0m\u001b[0;34m\u001b[0m\u001b[0m\n\u001b[1;32m      4\u001b[0m     \u001b[0mlr_predictions\u001b[0m\u001b[0;34m,\u001b[0m\u001b[0;34m\u001b[0m\u001b[0;34m\u001b[0m\u001b[0m\n\u001b[1;32m      5\u001b[0m     \u001b[0mlr_probabilities\u001b[0m\u001b[0;34m,\u001b[0m\u001b[0;34m\u001b[0m\u001b[0;34m\u001b[0m\u001b[0m\n",
      "\u001b[0;31mTypeError\u001b[0m: print_all_metrics() got multiple values for argument 'title'"
     ]
    }
   ],
   "source": [
    "# выведем все метрики логистической регрессии\n",
    "print_all_metrics(\n",
    "    y_test,\n",
    "    lr_predictions,\n",
    "    lr_probabilities,\n",
    "    title='Метрики для модели логистической регрессии:'\n",
    ")"
   ]
  },
  {
   "cell_type": "code",
   "execution_count": null,
   "metadata": {},
   "outputs": [],
   "source": [
    "# выведем все метрики для модели случайного леса\n",
    "print_all_metrics(\n",
    "    y_test,\n",
    "    rf_predictions,\n",
    "    rf_probabilities,\n",
    "    title='Метрики для модели случайного леса:'\n",
    ")"
   ]
  },
  {
   "cell_type": "markdown",
   "metadata": {},
   "source": [
    "Значения метрик в обоих моделях сопоставимы.\n",
    "\n",
    "Метрика Accuracy не отличается в обоих моделях, высокий показатель доли правильных ответов - 92%.\n",
    "\n",
    "Метрика Precision (точности) - доля правильных ответов только среди целевого класса 84-85%.\n",
    "\n",
    "Метрика Recall (полноты) - сколько реальных объектов \"1\" класса смогли обнаружить 81-83%."
   ]
  },
  {
   "cell_type": "markdown",
   "metadata": {},
   "source": [
    "## Кластеризация клиентов"
   ]
  },
  {
   "cell_type": "markdown",
   "metadata": {},
   "source": [
    "### Стандартизация данных"
   ]
  },
  {
   "cell_type": "code",
   "execution_count": null,
   "metadata": {},
   "outputs": [],
   "source": [
    "# откладываем в сторону столбец с оттоком \n",
    "X = gymchurn.drop('churn', axis=1)"
   ]
  },
  {
   "cell_type": "code",
   "execution_count": null,
   "metadata": {},
   "outputs": [],
   "source": [
    "# стандартизация данных\n",
    "sc = StandardScaler()\n",
    "X_sc = sc.fit_transform(X)"
   ]
  },
  {
   "cell_type": "markdown",
   "metadata": {},
   "source": [
    "### Матрица расстояний функцией linkage() и дендрограмма"
   ]
  },
  {
   "cell_type": "code",
   "execution_count": null,
   "metadata": {},
   "outputs": [],
   "source": [
    "# в переменной linked сохранена таблица «связок» между объектами, её можно визуализировать как дендрограмму\n",
    "linked = linkage(X_sc, method = 'ward')"
   ]
  },
  {
   "cell_type": "code",
   "execution_count": null,
   "metadata": {},
   "outputs": [],
   "source": [
    "# строим дендрограмму\n",
    "plt.figure(figsize=(15, 10))  \n",
    "dendrogram(linked, orientation='top')\n",
    "plt.title('Hierarchial clustering')\n",
    "plt.show()"
   ]
  },
  {
   "cell_type": "markdown",
   "metadata": {},
   "source": [
    "По дендрограмме можно выделить от 4 до 6 кластеров. В расчетах будем использовать значение равное 5."
   ]
  },
  {
   "cell_type": "markdown",
   "metadata": {},
   "source": [
    "###  Обучение модели кластеризации на основании алгоритма K-Means и прогнозирование кластеров клиентов"
   ]
  },
  {
   "cell_type": "code",
   "execution_count": null,
   "metadata": {},
   "outputs": [],
   "source": [
    "km = KMeans(n_clusters=5, random_state=0) # число кластеров = 5,фиксирование значения random_state для воспроизводимости результата\n",
    "labels = km.fit_predict(X_sc) # применение алгоритма к данным и формирование вектора кластеров "
   ]
  },
  {
   "cell_type": "code",
   "execution_count": null,
   "metadata": {},
   "outputs": [],
   "source": [
    "# сохранение меток кластера в поле датасета\n",
    "gymchurn['cluster_km'] = labels"
   ]
  },
  {
   "cell_type": "markdown",
   "metadata": {},
   "source": [
    "### Средние значения признаков для кластеров"
   ]
  },
  {
   "cell_type": "code",
   "execution_count": null,
   "metadata": {
    "scrolled": false
   },
   "outputs": [],
   "source": [
    "# вывод статистики по средним значениям признаков по кластерам\n",
    "cluster_features = gymchurn.groupby('cluster_km').mean().reset_index()\n",
    "numeric_columns = cluster_features.drop(columns=['cluster_km']).columns\n",
    "cluster_features.style.format({i: '{:.2f}' for i in numeric_columns}) \\\n",
    "    .highlight_max(color='yellowgreen', subset=numeric_columns) \\\n",
    "    .highlight_min(color='coral', subset=numeric_columns)"
   ]
  },
  {
   "cell_type": "code",
   "execution_count": null,
   "metadata": {},
   "outputs": [],
   "source": [
    "# кол-во клиентов в каждом кластере\n",
    "gymchurn.groupby(['cluster_km'])['gender'].count()"
   ]
  },
  {
   "cell_type": "markdown",
   "metadata": {},
   "source": [
    "**0-ой кластер:** попало 1 010 клиентов, из которых 96% проживают или работают рядом с фитнес-залом, 78% пришли по партнерской программе (больше, чем в других кластерах), 57% - пришли по акции \"приведи друга\" (больше, чем в других кластерах), 54% посещают групповые тренировки, имеют самую  большую длительность абонементов и lifetime, чаще других посещают зал.\n",
    "\n",
    "**1-ый кластер:** попало 385 клиентов, из которых 86% проживают или работают рядом с фитнес-залом, 47% пришли по партнерской программе, 31% - пришли по акции \"приведи друга\", 43% посещают групповые тренировки, период абонемента 5 мес.,  никто не оставил номер телефона.\n",
    "\n",
    "**2-ой кластер:** попало 505 клиентов, из которых все проживают или работают далеко от фитнес-зала, 46% пришли по партнерской программе,8% - пришли по акции \"приведи друга\" (самое низкое значени среди кластеров), 22% посещают групповые тренировки (самое низкое значени среди кластеров), период абонемента 2 мес..\n",
    "\n",
    "**3-ий кластер:** попало 1 262 клиента, из которых все проживают или работают рядом с фитнес-залом, 35% пришли по партнерской программе (самое низкое значени среди кластеров), 24% - пришли по акции \"приведи друга\", 34% посещают групповые тренировки, меньше всех потратили на доп.услуги, самая низкая длительность абонемента, самая низкая частота посещений в неделю (около 1)\n",
    "\n",
    "**4-ый кластер:** попало 838 клиентов, из которых 98% проживают или работают рядом с фитнес-залом, 36% пришли по партнерской программе, 23% - пришли по акции \"приведи друга\", 47% посещают групповые тренировки, больше всех потратили на доп.услуги, самый высокий средни возраст и наибольшая частота посещений.\n",
    "\n",
    "В 0-ой и 4-ый кластеры попали наиболее лояльные клиенты, у них отток ниже, чем в других кластерах. В основном это клиенты со средним возрастом 30 лет, проживающие или работающие рядом с фитнес-залом, больше всех тратят на доп.услуги, посещают зал около 2 раз в неделю."
   ]
  },
  {
   "cell_type": "markdown",
   "metadata": {},
   "source": [
    "### Распределение признаков для кластеров"
   ]
  },
  {
   "cell_type": "code",
   "execution_count": null,
   "metadata": {
    "scrolled": true
   },
   "outputs": [],
   "source": [
    "# Построим график для логических и дискретных величин\n",
    "values = ['gender', 'near_location', 'partner', 'promo_friends', 'phone', 'contract_period',\\\n",
    "'group_visits', 'churn']\n",
    "\n",
    "fig, ax = plt.subplots()\n",
    "\n",
    "for column in values:\n",
    "    \n",
    "    sns.countplot(data=gymchurn, x=column, hue='cluster_km')\n",
    "   \n",
    "    plt.title(column)\n",
    "    plt.xlabel('Распределение')\n",
    "    plt.ylabel('Количество клиентов')\n",
    "    plt.legend(bbox_to_anchor=(1, 1))\n",
    "    plt.show()"
   ]
  },
  {
   "cell_type": "markdown",
   "metadata": {},
   "source": [
    "Для всех кластеров распределение по признаку \"пол\" разделилось примерно одинаково. \n",
    "\n",
    "Клиенты из 0,1,3 и 4 кластеров живут или работают рядом с фитнес-центром, а в кластере 2 - те, кто живет далеко.\n",
    "\n",
    "Большинство клиентов из кластера 0 пришли по партнерской программе или акции \"приведи друга\". А из кластера 3 таких клиентов меньше.\n",
    "\n",
    "Клиенты, с длительностью текущего действующего абонемента 12 мес. в основном в 0-ом кластере."
   ]
  },
  {
   "cell_type": "code",
   "execution_count": null,
   "metadata": {
    "scrolled": true
   },
   "outputs": [],
   "source": [
    "values = ['age', 'lifetime', 'avg_class_frequency_total', 'avg_class_frequency_current_month', 'avg_additional_charges_total',\\\n",
    "         'month_to_end_contract']\n",
    "\n",
    "fig, ax = plt.subplots()\n",
    "\n",
    "for column in values:\n",
    "    \n",
    "    sns.boxplot(data=gymchurn, x='cluster_km', y=column)\n",
    "    \n",
    "    plt.title(column)\n",
    "    plt.xlabel('кластер')\n",
    "    plt.ylabel(column)\n",
    "    plt.show()"
   ]
  },
  {
   "cell_type": "markdown",
   "metadata": {},
   "source": [
    "Средний возраст клиентов 0-ого и 4-ого кластеров выше, чем у других.\n",
    "\n",
    "В 3-ем кластере клиенты с наименьшим lifetime, они реже посещают зал на неделе. Они же тратят меньше денег на доп. услуги.\n",
    "\n",
    "У клиентов в 0-ом кластере осталось больше времени до окончания абонемента."
   ]
  },
  {
   "cell_type": "markdown",
   "metadata": {},
   "source": [
    " ### Доля оттока для кластеров"
   ]
  },
  {
   "cell_type": "code",
   "execution_count": null,
   "metadata": {},
   "outputs": [],
   "source": [
    "part_churn = gymchurn.query('churn==1').groupby('cluster_km')['churn'].count() / gymchurn.query('churn==1')['churn'].count()*100\n",
    "part_churn"
   ]
  },
  {
   "cell_type": "markdown",
   "metadata": {},
   "source": [
    "Наибольший отток в 3-ем кластере (61,1%), а наименьший в 0-ом кластере (2,6%)."
   ]
  },
  {
   "cell_type": "markdown",
   "metadata": {},
   "source": [
    "**Промежуточный вывод**:\n",
    "\n",
    "Самые низкий отток в 0-ом (2,6%) и 4-ом (5,4%) кластерах. Для таких клиентов характерно:\n",
    "- проживание или работа рядом с фитнес-залом\n",
    "- участие в партнерской программе или акции \"приведи друга\"\n",
    "- выбор абонемента на более длительный срок\n",
    "- посещение груповых тренировок\n",
    "- средний возраст 30 лет\n",
    "- посещение зала 1-3 раза в неделю\n",
    "\n",
    "\n",
    "В 3-ем (61,1%) и 2-ом (21,2%) кластере клиенты с наибольшим оттоком, для них характерно:\n",
    "- посещение груповых тренировок\n",
    "- выбор абонемента на короткий срок\n",
    "- средний возраст 28 лет (меньше, чем у более лояльных клиентов)\n",
    "- посещение зала 1 раз в неделю\n",
    "- меньшие траты на доп. услуги"
   ]
  },
  {
   "cell_type": "markdown",
   "metadata": {},
   "source": [
    "## Выводы и рекомендации по работе с клиентами"
   ]
  },
  {
   "cell_type": "markdown",
   "metadata": {},
   "source": [
    "В ходе исследования была изучена общая информация о клиентах сети фитнес-центров «Культурист-датасаентист» и проведен анализ основных признаков, наиболее сильно влияющих на отток.\n",
    "\n",
    "В результате **обзора и подготовки данных** определено, что данные предствлены в полном обьеме, отсутсвуют пропущенные значения. Числовые данные равномерные, стандартные отклонения не слишком далеко от средних. Выбросов не наблюдается. Размер датасета достаточен для проведения исследовательского анализа.\n",
    "\n",
    "**Исследовательский анализ данных (EDA):**\n",
    "\n",
    "В результате исследования средних значений признаков в двух группах — тех, кто ушел в отток и тех, кто остался сделаны следующие выводы:\n",
    "\n",
    "- Доли оттока у представителей разного пола примерно одинаковые.\n",
    "- Клиентов, проживающих или работающих ближе к залу больше, доля оттока среди них меньше. У проживающих дальше очень высокая доля оттока.\n",
    "- Сотрудники компаний-партнёров клуба больше и доля оттока меньше.\n",
    "- Клиентов, пришедших по акции \"приведи друга\", меньше, но доля их оттока тоже ниже, чем у отстальных клиентов.\n",
    "- На групповые занятия ходит меньше действующих посетителей, но среди них низкий отток.\n",
    "- Большинство ушедших клиентов имеют абонемент на 1 мес. (чем больше срок, тем ниже отток).\n",
    "- В возрасте до 28 лет оттекает больше клиентов, чем старше клиенты, тем они более лояльны.\n",
    "- Клиенты, у которых осталось меньше 2-ух мес. до окончания абонемента имеют высокий отток, чем больше срок до окончания, тем меньше отток.\n",
    "- У клиентов с большим сроком с момента покупки абонемента отток ниже. Большинство оттекает в первые месяцы.\n",
    "- Чем чаще ходит клиент в зал, тем ниже отток.\n",
    "- Суммарная выручка от других услуг фитнес-центра (кафе, спорттовары, косметический и массажный салон) выше от действующих пользователей, чем у ушедших.\n",
    "\n",
    "Признаки слабо коррелируют между собой, кроме двух логических пар признаков (contract_period и month_to_end_contract (чем больше срок дейсвия абонемента, тем больше дней до его окончания); avg_class_frequency_total и avg_class_frequency_current_month (кто чаще ходил каждый меньше, тот чаще ходил за весь период действия абонемента)).\n",
    "\n",
    "**Модель прогнозирования оттока клиентов:**\n",
    "\n",
    "В результате оценки метрик для моделей обученных логистической регрессией и случайным лесом получили сопоставимые значения метрик.\n",
    "\n",
    "Метрика Accuracy не отличается в обоих моделях, высокий показатель доли правильных ответов - 92%.\n",
    "Метрика Precision (точности) - доля правильных ответов только среди целевого класса 84-85%.\n",
    "Метрика Recall (полноты) - сколько реальных объектов \"1\" класса смогли обнаружить 81-83%.\n",
    "\n",
    "**Кластеризация клиентов:**\n",
    "\n",
    "В результате кластеризации на основании алгоритма K-Means спрогнозировали 5 кластеров клиентов:\n",
    "\n",
    "**0-ой кластер:** попало 1 010 клиентов, из которых 96% проживают или работают рядом с фитнес-залом, 78% пришли по партнерской программе (больше, чем в других кластерах), 57% - пришли по акции \"приведи друга\" (больше, чем в других кластерах), 54% посещают групповые тренировки (больше, чем в других кластерах), имеют самую  большую длительность абонементов и lifetime, чаще других посещают зал, больше других тратят на доп. услуги.\n",
    "\n",
    "**1-ый кластер:** попало 385 клиентов, из которых 86% проживают или работают рядом с фитнес-залом, 43% посещают групповые тренировки, период абонемента 5 мес., никто не оставил номер телефона.\n",
    "\n",
    "**2-ой кластер:** попало 505 клиентов, из которых все проживают или работают далеко от фитнес-зала, 8% - пришли по акции \"приведи друга\" (самое низкое значени среди кластеров), 22% посещают групповые тренировки (самое низкое значени среди кластеров), период абонемента 2 мес.\n",
    "\n",
    "**3-ий кластер:** попало 1 262 клиента, из которых все проживают или работают рядом с фитнес-залом, 35% пришли по партнерской программе (самое низкое значени среди кластеров), меньше всех потратили на доп.услуги, самая низкая длительность абонемента, самая низкая частота посещений в неделю (около 1), самый низкий средний возраст.\n",
    "\n",
    "**4-ый кластер:** попало 838 клиентов, из которых 98% проживают или работают рядом с фитнес-залом, больше всех потратили на доп.услуги, самый высокий средний возраст и наибольшая частота посещений.\n",
    "\n",
    "\n",
    "В 0-ой и 4-ый кластеры попали наиболее лояльные клиенты, у них отток ниже, чем в других кластерах. В основном это клиенты со средним возрастом ближе к 30 лет, проживающие или работающие рядом с фитнес-залом, больше всех тратят на доп.услуги, посещают зал около 2 раз в неделю.\n",
    "\n",
    "Самые низкий отток в 0-ом (2,6%) и 4-ом (5,4%) кластерах. Для таких клиентов характерно:\n",
    "- проживание или работа рядом с фитнес-залом\n",
    "- участие в партнерской программе или акции \"приведи друга\"\n",
    "- выбор абонемента на более длительный срок\n",
    "- посещение груповых тренировок\n",
    "- средний возраст 30 лет\n",
    "- посещение зала 1-3 раза в неделю\n",
    "\n",
    "В 3-ем (61,1%) и 2-ом (21,2%) кластере клиенты с наибольшим оттоком, для них характерно:\n",
    "- посещение груповых тренировок\n",
    "- выбор абонемента на короткий срок\n",
    "- средний возраст 28 лет\n",
    "- посещение зала 1 раз в неделю\n",
    "- меньшие траты на доп. услуги\n",
    "\n",
    "**Рекомендации для стратегии взаимодействия с клиентами для их удержания:**\n",
    "\n",
    "- предлагать более выгодные условия по абонементам на 12 мес.\n",
    "- привлекать больше партнеров и развивать акцию \"приведи друга\"\n",
    "- добавить больше различных видов программ групповых тренировок"
   ]
  },
  {
   "cell_type": "code",
   "execution_count": null,
   "metadata": {},
   "outputs": [],
   "source": []
  }
 ],
 "metadata": {
  "ExecuteTimeLog": [
   {
    "duration": 5,
    "start_time": "2025-01-20T09:50:22.594Z"
   },
   {
    "duration": 1396,
    "start_time": "2025-01-20T09:50:31.143Z"
   },
   {
    "duration": 83,
    "start_time": "2025-01-20T09:51:26.736Z"
   },
   {
    "duration": 34,
    "start_time": "2025-01-20T09:51:35.056Z"
   },
   {
    "duration": 106,
    "start_time": "2025-01-20T09:52:04.070Z"
   },
   {
    "duration": 22,
    "start_time": "2025-01-20T09:52:57.663Z"
   },
   {
    "duration": 13,
    "start_time": "2025-01-20T09:53:03.420Z"
   },
   {
    "duration": 5,
    "start_time": "2025-01-20T09:54:59.416Z"
   },
   {
    "duration": 49,
    "start_time": "2025-01-20T09:58:09.785Z"
   },
   {
    "duration": 63,
    "start_time": "2025-01-20T10:00:19.075Z"
   },
   {
    "duration": 35,
    "start_time": "2025-01-20T10:00:19.464Z"
   },
   {
    "duration": 13,
    "start_time": "2025-01-20T10:00:20.282Z"
   },
   {
    "duration": 4,
    "start_time": "2025-01-20T10:00:20.607Z"
   },
   {
    "duration": 14,
    "start_time": "2025-01-20T10:00:20.800Z"
   },
   {
    "duration": 50,
    "start_time": "2025-01-20T10:00:21.002Z"
   },
   {
    "duration": 9,
    "start_time": "2025-01-20T10:14:18.456Z"
   },
   {
    "duration": 113,
    "start_time": "2025-01-20T10:17:42.960Z"
   },
   {
    "duration": 18,
    "start_time": "2025-01-20T10:17:51.489Z"
   },
   {
    "duration": 12,
    "start_time": "2025-01-20T10:23:46.098Z"
   },
   {
    "duration": 12,
    "start_time": "2025-01-20T10:23:53.536Z"
   },
   {
    "duration": 17,
    "start_time": "2025-01-20T10:23:57.820Z"
   },
   {
    "duration": 13,
    "start_time": "2025-01-20T10:24:01.164Z"
   },
   {
    "duration": 23,
    "start_time": "2025-01-20T10:24:13.537Z"
   },
   {
    "duration": 22,
    "start_time": "2025-01-20T10:45:26.249Z"
   },
   {
    "duration": 54,
    "start_time": "2025-01-20T10:45:57.709Z"
   },
   {
    "duration": 179,
    "start_time": "2025-01-20T10:46:59.671Z"
   },
   {
    "duration": 202,
    "start_time": "2025-01-20T10:47:07.720Z"
   },
   {
    "duration": 174,
    "start_time": "2025-01-20T10:47:25.831Z"
   },
   {
    "duration": 4856,
    "start_time": "2025-01-20T10:47:33.414Z"
   },
   {
    "duration": 4325,
    "start_time": "2025-01-20T11:20:17.989Z"
   },
   {
    "duration": 4495,
    "start_time": "2025-01-20T11:22:39.377Z"
   },
   {
    "duration": 4477,
    "start_time": "2025-01-20T11:22:44.599Z"
   },
   {
    "duration": 10,
    "start_time": "2025-01-20T11:27:59.513Z"
   },
   {
    "duration": 6,
    "start_time": "2025-01-20T11:28:10.100Z"
   },
   {
    "duration": 1689,
    "start_time": "2025-01-20T11:30:00.621Z"
   },
   {
    "duration": 1685,
    "start_time": "2025-01-20T11:30:54.023Z"
   },
   {
    "duration": 1625,
    "start_time": "2025-01-20T11:32:45.945Z"
   },
   {
    "duration": 1559,
    "start_time": "2025-01-20T11:32:57.644Z"
   },
   {
    "duration": 1600,
    "start_time": "2025-01-20T11:33:01.115Z"
   },
   {
    "duration": 1489,
    "start_time": "2025-01-20T11:33:05.760Z"
   },
   {
    "duration": 1997,
    "start_time": "2025-01-20T11:33:20.424Z"
   },
   {
    "duration": 1812,
    "start_time": "2025-01-20T11:33:31.404Z"
   },
   {
    "duration": 17,
    "start_time": "2025-01-20T11:34:17.878Z"
   },
   {
    "duration": 1632,
    "start_time": "2025-01-20T11:34:24.639Z"
   },
   {
    "duration": 1746,
    "start_time": "2025-01-20T11:34:34.330Z"
   },
   {
    "duration": 1642,
    "start_time": "2025-01-20T11:34:47.964Z"
   },
   {
    "duration": 6,
    "start_time": "2025-01-20T11:54:24.559Z"
   },
   {
    "duration": 1283,
    "start_time": "2025-01-20T11:54:50.682Z"
   },
   {
    "duration": 35,
    "start_time": "2025-01-20T11:54:51.967Z"
   },
   {
    "duration": 19,
    "start_time": "2025-01-20T11:54:52.003Z"
   },
   {
    "duration": 26,
    "start_time": "2025-01-20T11:54:52.024Z"
   },
   {
    "duration": 42,
    "start_time": "2025-01-20T11:54:52.055Z"
   },
   {
    "duration": 42,
    "start_time": "2025-01-20T11:54:52.099Z"
   },
   {
    "duration": 83,
    "start_time": "2025-01-20T11:54:52.142Z"
   },
   {
    "duration": 45,
    "start_time": "2025-01-20T11:54:52.227Z"
   },
   {
    "duration": 4584,
    "start_time": "2025-01-20T11:54:52.274Z"
   },
   {
    "duration": 1943,
    "start_time": "2025-01-20T11:54:56.860Z"
   },
   {
    "duration": 6,
    "start_time": "2025-01-20T11:55:25.977Z"
   },
   {
    "duration": 112,
    "start_time": "2025-01-20T12:49:47.974Z"
   },
   {
    "duration": 2936,
    "start_time": "2025-01-20T12:50:27.394Z"
   },
   {
    "duration": 4513,
    "start_time": "2025-01-20T12:51:07.770Z"
   },
   {
    "duration": 3222,
    "start_time": "2025-01-20T12:52:09.669Z"
   },
   {
    "duration": 8207,
    "start_time": "2025-01-20T12:52:36.050Z"
   },
   {
    "duration": 3215,
    "start_time": "2025-01-20T12:53:38.443Z"
   },
   {
    "duration": 3164,
    "start_time": "2025-01-20T12:54:10.844Z"
   },
   {
    "duration": 3128,
    "start_time": "2025-01-20T12:56:21.820Z"
   },
   {
    "duration": 3817,
    "start_time": "2025-01-20T12:56:54.285Z"
   },
   {
    "duration": 3946,
    "start_time": "2025-01-20T12:57:15.311Z"
   },
   {
    "duration": 205,
    "start_time": "2025-01-20T12:58:01.957Z"
   },
   {
    "duration": 4,
    "start_time": "2025-01-20T13:27:50.386Z"
   },
   {
    "duration": 12,
    "start_time": "2025-01-20T13:28:15.111Z"
   },
   {
    "duration": 4,
    "start_time": "2025-01-20T13:28:20.834Z"
   },
   {
    "duration": 9,
    "start_time": "2025-01-20T13:28:21.169Z"
   },
   {
    "duration": 284,
    "start_time": "2025-01-20T13:28:40.202Z"
   },
   {
    "duration": 1562,
    "start_time": "2025-01-20T13:28:44.236Z"
   },
   {
    "duration": 37,
    "start_time": "2025-01-20T13:28:45.800Z"
   },
   {
    "duration": 17,
    "start_time": "2025-01-20T13:28:45.839Z"
   },
   {
    "duration": 7,
    "start_time": "2025-01-20T13:28:45.858Z"
   },
   {
    "duration": 19,
    "start_time": "2025-01-20T13:28:45.869Z"
   },
   {
    "duration": 19,
    "start_time": "2025-01-20T13:28:45.891Z"
   },
   {
    "duration": 60,
    "start_time": "2025-01-20T13:28:45.912Z"
   },
   {
    "duration": 21,
    "start_time": "2025-01-20T13:28:45.974Z"
   },
   {
    "duration": 3775,
    "start_time": "2025-01-20T13:28:45.996Z"
   },
   {
    "duration": 1818,
    "start_time": "2025-01-20T13:28:49.773Z"
   },
   {
    "duration": 5,
    "start_time": "2025-01-20T13:28:51.592Z"
   },
   {
    "duration": 8,
    "start_time": "2025-01-20T13:28:51.598Z"
   },
   {
    "duration": 3,
    "start_time": "2025-01-20T13:29:11.487Z"
   },
   {
    "duration": 12,
    "start_time": "2025-01-20T13:30:10.499Z"
   },
   {
    "duration": 11,
    "start_time": "2025-01-20T13:30:28.152Z"
   },
   {
    "duration": 3,
    "start_time": "2025-01-20T13:30:41.226Z"
   },
   {
    "duration": 116,
    "start_time": "2025-01-20T13:33:32.127Z"
   },
   {
    "duration": 55,
    "start_time": "2025-01-20T13:34:00.678Z"
   },
   {
    "duration": 1623,
    "start_time": "2025-01-20T13:34:05.807Z"
   },
   {
    "duration": 35,
    "start_time": "2025-01-20T13:34:07.432Z"
   },
   {
    "duration": 18,
    "start_time": "2025-01-20T13:34:07.469Z"
   },
   {
    "duration": 6,
    "start_time": "2025-01-20T13:34:07.488Z"
   },
   {
    "duration": 5,
    "start_time": "2025-01-20T13:34:07.496Z"
   },
   {
    "duration": 16,
    "start_time": "2025-01-20T13:34:07.502Z"
   },
   {
    "duration": 50,
    "start_time": "2025-01-20T13:34:07.530Z"
   },
   {
    "duration": 22,
    "start_time": "2025-01-20T13:34:07.582Z"
   },
   {
    "duration": 3795,
    "start_time": "2025-01-20T13:34:07.606Z"
   },
   {
    "duration": 1800,
    "start_time": "2025-01-20T13:34:11.403Z"
   },
   {
    "duration": 4,
    "start_time": "2025-01-20T13:34:13.205Z"
   },
   {
    "duration": 24,
    "start_time": "2025-01-20T13:34:13.211Z"
   },
   {
    "duration": 11,
    "start_time": "2025-01-20T13:34:13.237Z"
   },
   {
    "duration": 130,
    "start_time": "2025-01-20T13:34:13.250Z"
   },
   {
    "duration": 11,
    "start_time": "2025-01-20T13:36:01.264Z"
   },
   {
    "duration": 5,
    "start_time": "2025-01-20T13:37:35.006Z"
   },
   {
    "duration": 1583,
    "start_time": "2025-01-20T13:37:39.521Z"
   },
   {
    "duration": 35,
    "start_time": "2025-01-20T13:37:41.106Z"
   },
   {
    "duration": 17,
    "start_time": "2025-01-20T13:37:41.142Z"
   },
   {
    "duration": 44,
    "start_time": "2025-01-20T13:37:41.161Z"
   },
   {
    "duration": 5,
    "start_time": "2025-01-20T13:37:41.207Z"
   },
   {
    "duration": 18,
    "start_time": "2025-01-20T13:37:41.213Z"
   },
   {
    "duration": 48,
    "start_time": "2025-01-20T13:37:41.232Z"
   },
   {
    "duration": 20,
    "start_time": "2025-01-20T13:37:41.282Z"
   },
   {
    "duration": 3753,
    "start_time": "2025-01-20T13:37:41.304Z"
   },
   {
    "duration": 1811,
    "start_time": "2025-01-20T13:37:45.059Z"
   },
   {
    "duration": 5,
    "start_time": "2025-01-20T13:37:46.872Z"
   },
   {
    "duration": 8,
    "start_time": "2025-01-20T13:37:46.880Z"
   },
   {
    "duration": 17,
    "start_time": "2025-01-20T13:37:46.891Z"
   },
   {
    "duration": 205,
    "start_time": "2025-01-20T13:37:47.131Z"
   },
   {
    "duration": 826,
    "start_time": "2025-01-20T13:40:33.319Z"
   },
   {
    "duration": 507,
    "start_time": "2025-01-20T13:40:34.236Z"
   },
   {
    "duration": 121,
    "start_time": "2025-01-20T13:41:54.075Z"
   },
   {
    "duration": 11,
    "start_time": "2025-01-20T13:42:10.699Z"
   },
   {
    "duration": 4,
    "start_time": "2025-01-20T13:43:01.527Z"
   },
   {
    "duration": 12,
    "start_time": "2025-01-20T13:43:03.561Z"
   },
   {
    "duration": 10,
    "start_time": "2025-01-20T13:43:04.562Z"
   },
   {
    "duration": 11,
    "start_time": "2025-01-20T13:43:21.211Z"
   },
   {
    "duration": 4,
    "start_time": "2025-01-20T13:43:24.870Z"
   },
   {
    "duration": 12,
    "start_time": "2025-01-20T13:43:25.113Z"
   },
   {
    "duration": 10,
    "start_time": "2025-01-20T13:43:25.314Z"
   },
   {
    "duration": 4,
    "start_time": "2025-01-20T13:43:55.943Z"
   },
   {
    "duration": 9,
    "start_time": "2025-01-20T13:43:56.443Z"
   },
   {
    "duration": 13,
    "start_time": "2025-01-20T13:43:57.014Z"
   },
   {
    "duration": 163,
    "start_time": "2025-01-20T13:44:10.769Z"
   },
   {
    "duration": 434,
    "start_time": "2025-01-20T13:44:11.131Z"
   },
   {
    "duration": 3,
    "start_time": "2025-01-20T13:44:11.567Z"
   },
   {
    "duration": 9,
    "start_time": "2025-01-20T13:44:11.697Z"
   },
   {
    "duration": 12,
    "start_time": "2025-01-20T13:44:11.855Z"
   },
   {
    "duration": 7,
    "start_time": "2025-01-20T13:46:20.937Z"
   },
   {
    "duration": 8,
    "start_time": "2025-01-20T13:46:21.128Z"
   },
   {
    "duration": 50,
    "start_time": "2025-01-21T07:50:26.759Z"
   },
   {
    "duration": 7,
    "start_time": "2025-01-21T07:50:26.946Z"
   },
   {
    "duration": 7,
    "start_time": "2025-01-21T07:50:47.054Z"
   },
   {
    "duration": 1804,
    "start_time": "2025-01-21T07:51:00.221Z"
   },
   {
    "duration": 84,
    "start_time": "2025-01-21T07:51:02.027Z"
   },
   {
    "duration": 17,
    "start_time": "2025-01-21T07:51:02.113Z"
   },
   {
    "duration": 18,
    "start_time": "2025-01-21T07:51:02.133Z"
   },
   {
    "duration": 22,
    "start_time": "2025-01-21T07:51:02.153Z"
   },
   {
    "duration": 43,
    "start_time": "2025-01-21T07:51:02.176Z"
   },
   {
    "duration": 84,
    "start_time": "2025-01-21T07:51:02.220Z"
   },
   {
    "duration": 19,
    "start_time": "2025-01-21T07:51:02.306Z"
   },
   {
    "duration": 3584,
    "start_time": "2025-01-21T07:51:02.326Z"
   },
   {
    "duration": 1748,
    "start_time": "2025-01-21T07:51:05.914Z"
   },
   {
    "duration": 5,
    "start_time": "2025-01-21T07:51:07.664Z"
   },
   {
    "duration": 17,
    "start_time": "2025-01-21T07:51:07.671Z"
   },
   {
    "duration": 10,
    "start_time": "2025-01-21T07:51:07.690Z"
   },
   {
    "duration": 138,
    "start_time": "2025-01-21T07:51:07.702Z"
   },
   {
    "duration": 606,
    "start_time": "2025-01-21T07:51:07.843Z"
   },
   {
    "duration": 4,
    "start_time": "2025-01-21T07:51:08.451Z"
   },
   {
    "duration": 25,
    "start_time": "2025-01-21T07:51:08.458Z"
   },
   {
    "duration": 9,
    "start_time": "2025-01-21T07:51:08.484Z"
   },
   {
    "duration": 14,
    "start_time": "2025-01-21T07:51:08.496Z"
   },
   {
    "duration": 27,
    "start_time": "2025-01-21T07:51:08.512Z"
   },
   {
    "duration": 136,
    "start_time": "2025-01-21T07:51:08.541Z"
   },
   {
    "duration": 70,
    "start_time": "2025-01-21T07:54:01.884Z"
   },
   {
    "duration": 9,
    "start_time": "2025-01-21T07:54:18.339Z"
   },
   {
    "duration": 1837,
    "start_time": "2025-01-21T07:55:04.949Z"
   },
   {
    "duration": 36,
    "start_time": "2025-01-21T07:55:06.788Z"
   },
   {
    "duration": 27,
    "start_time": "2025-01-21T07:55:06.826Z"
   },
   {
    "duration": 10,
    "start_time": "2025-01-21T07:55:06.860Z"
   },
   {
    "duration": 4,
    "start_time": "2025-01-21T07:55:06.872Z"
   },
   {
    "duration": 38,
    "start_time": "2025-01-21T07:55:06.877Z"
   },
   {
    "duration": 77,
    "start_time": "2025-01-21T07:55:06.918Z"
   },
   {
    "duration": 19,
    "start_time": "2025-01-21T07:55:06.996Z"
   },
   {
    "duration": 4100,
    "start_time": "2025-01-21T07:55:07.017Z"
   },
   {
    "duration": 1794,
    "start_time": "2025-01-21T07:55:11.120Z"
   },
   {
    "duration": 5,
    "start_time": "2025-01-21T07:55:12.915Z"
   },
   {
    "duration": 102,
    "start_time": "2025-01-21T07:55:12.922Z"
   },
   {
    "duration": 15,
    "start_time": "2025-01-21T07:55:13.027Z"
   },
   {
    "duration": 300,
    "start_time": "2025-01-21T07:55:13.045Z"
   },
   {
    "duration": 571,
    "start_time": "2025-01-21T07:55:13.348Z"
   },
   {
    "duration": 5,
    "start_time": "2025-01-21T07:55:13.920Z"
   },
   {
    "duration": 19,
    "start_time": "2025-01-21T07:55:13.927Z"
   },
   {
    "duration": 8,
    "start_time": "2025-01-21T07:55:13.948Z"
   },
   {
    "duration": 4,
    "start_time": "2025-01-21T07:55:13.958Z"
   },
   {
    "duration": 11,
    "start_time": "2025-01-21T07:55:13.964Z"
   },
   {
    "duration": 626,
    "start_time": "2025-01-21T07:55:13.978Z"
   },
   {
    "duration": 651,
    "start_time": "2025-01-21T07:57:24.438Z"
   },
   {
    "duration": 1784,
    "start_time": "2025-01-21T07:59:25.341Z"
   },
   {
    "duration": 35,
    "start_time": "2025-01-21T07:59:27.127Z"
   },
   {
    "duration": 20,
    "start_time": "2025-01-21T07:59:27.164Z"
   },
   {
    "duration": 6,
    "start_time": "2025-01-21T07:59:27.186Z"
   },
   {
    "duration": 4,
    "start_time": "2025-01-21T07:59:27.194Z"
   },
   {
    "duration": 23,
    "start_time": "2025-01-21T07:59:27.200Z"
   },
   {
    "duration": 55,
    "start_time": "2025-01-21T07:59:27.225Z"
   },
   {
    "duration": 21,
    "start_time": "2025-01-21T07:59:27.282Z"
   },
   {
    "duration": 3720,
    "start_time": "2025-01-21T07:59:27.305Z"
   },
   {
    "duration": 1890,
    "start_time": "2025-01-21T07:59:31.028Z"
   },
   {
    "duration": 4,
    "start_time": "2025-01-21T07:59:32.920Z"
   },
   {
    "duration": 52,
    "start_time": "2025-01-21T07:59:32.926Z"
   },
   {
    "duration": 16,
    "start_time": "2025-01-21T07:59:32.980Z"
   },
   {
    "duration": 59,
    "start_time": "2025-01-21T07:59:32.999Z"
   },
   {
    "duration": 577,
    "start_time": "2025-01-21T07:59:33.060Z"
   },
   {
    "duration": 6,
    "start_time": "2025-01-21T07:59:33.640Z"
   },
   {
    "duration": 32,
    "start_time": "2025-01-21T07:59:33.648Z"
   },
   {
    "duration": 25,
    "start_time": "2025-01-21T07:59:33.682Z"
   },
   {
    "duration": 10,
    "start_time": "2025-01-21T07:59:33.708Z"
   },
   {
    "duration": 25,
    "start_time": "2025-01-21T07:59:33.720Z"
   },
   {
    "duration": 672,
    "start_time": "2025-01-21T07:59:33.747Z"
   },
   {
    "duration": 128726,
    "start_time": "2025-01-21T07:59:34.421Z"
   },
   {
    "duration": 113,
    "start_time": "2025-01-21T08:02:57.733Z"
   },
   {
    "duration": 53,
    "start_time": "2025-01-21T08:03:39.534Z"
   },
   {
    "duration": 1852,
    "start_time": "2025-01-21T08:03:45.894Z"
   },
   {
    "duration": 5,
    "start_time": "2025-01-21T08:05:34.157Z"
   },
   {
    "duration": 13,
    "start_time": "2025-01-21T08:11:07.675Z"
   },
   {
    "duration": 12,
    "start_time": "2025-01-21T08:11:12.767Z"
   },
   {
    "duration": 29,
    "start_time": "2025-01-21T08:13:30.025Z"
   },
   {
    "duration": 13,
    "start_time": "2025-01-21T08:16:50.012Z"
   },
   {
    "duration": 7,
    "start_time": "2025-01-21T08:17:08.979Z"
   },
   {
    "duration": 13,
    "start_time": "2025-01-21T08:18:52.383Z"
   },
   {
    "duration": 5,
    "start_time": "2025-01-21T08:19:16.362Z"
   },
   {
    "duration": 5,
    "start_time": "2025-01-21T08:19:24.196Z"
   },
   {
    "duration": 11,
    "start_time": "2025-01-21T08:19:29.561Z"
   },
   {
    "duration": 4,
    "start_time": "2025-01-21T08:20:03.593Z"
   },
   {
    "duration": 4,
    "start_time": "2025-01-21T08:21:27.899Z"
   },
   {
    "duration": 41407,
    "start_time": "2025-01-21T08:21:27.905Z"
   },
   {
    "duration": 171,
    "start_time": "2025-01-21T08:27:09.473Z"
   },
   {
    "duration": 1703,
    "start_time": "2025-01-21T08:27:34.561Z"
   },
   {
    "duration": 15,
    "start_time": "2025-01-21T09:02:06.253Z"
   },
   {
    "duration": 21,
    "start_time": "2025-01-21T09:02:17.457Z"
   },
   {
    "duration": 1340,
    "start_time": "2025-01-21T09:02:35.489Z"
   },
   {
    "duration": 11,
    "start_time": "2025-01-21T09:03:00.209Z"
   },
   {
    "duration": 1505,
    "start_time": "2025-01-21T09:04:50.843Z"
   },
   {
    "duration": 1523,
    "start_time": "2025-01-21T09:04:59.659Z"
   },
   {
    "duration": 1541,
    "start_time": "2025-01-21T09:06:08.037Z"
   },
   {
    "duration": 5267,
    "start_time": "2025-01-21T09:15:07.542Z"
   },
   {
    "duration": 2887,
    "start_time": "2025-01-21T09:15:18.158Z"
   },
   {
    "duration": 146,
    "start_time": "2025-01-21T09:43:39.135Z"
   },
   {
    "duration": 1570,
    "start_time": "2025-01-21T09:43:52.452Z"
   },
   {
    "duration": 1769,
    "start_time": "2025-01-21T12:26:53.015Z"
   },
   {
    "duration": 36,
    "start_time": "2025-01-21T12:26:54.787Z"
   },
   {
    "duration": 29,
    "start_time": "2025-01-21T12:26:54.826Z"
   },
   {
    "duration": 8,
    "start_time": "2025-01-21T12:26:54.858Z"
   },
   {
    "duration": 15,
    "start_time": "2025-01-21T12:26:54.868Z"
   },
   {
    "duration": 46,
    "start_time": "2025-01-21T12:26:54.886Z"
   },
   {
    "duration": 89,
    "start_time": "2025-01-21T12:26:54.935Z"
   },
   {
    "duration": 32,
    "start_time": "2025-01-21T12:26:55.027Z"
   },
   {
    "duration": 4316,
    "start_time": "2025-01-21T12:26:55.061Z"
   },
   {
    "duration": 1970,
    "start_time": "2025-01-21T12:26:59.381Z"
   },
   {
    "duration": 7,
    "start_time": "2025-01-21T12:27:01.353Z"
   },
   {
    "duration": 18,
    "start_time": "2025-01-21T12:27:01.363Z"
   },
   {
    "duration": 30,
    "start_time": "2025-01-21T12:27:01.383Z"
   },
   {
    "duration": 653,
    "start_time": "2025-01-21T12:27:01.415Z"
   },
   {
    "duration": 591,
    "start_time": "2025-01-21T12:27:02.074Z"
   },
   {
    "duration": 5,
    "start_time": "2025-01-21T12:27:02.667Z"
   },
   {
    "duration": 75,
    "start_time": "2025-01-21T12:27:02.674Z"
   },
   {
    "duration": 41,
    "start_time": "2025-01-21T12:27:02.751Z"
   },
   {
    "duration": 6,
    "start_time": "2025-01-21T12:27:02.794Z"
   },
   {
    "duration": 28,
    "start_time": "2025-01-21T12:27:02.803Z"
   },
   {
    "duration": 779,
    "start_time": "2025-01-21T12:27:02.834Z"
   },
   {
    "duration": 142945,
    "start_time": "2025-01-21T12:27:03.616Z"
   },
   {
    "duration": 1386,
    "start_time": "2025-01-21T12:29:26.563Z"
   },
   {
    "duration": 8,
    "start_time": "2025-01-21T12:29:27.956Z"
   },
   {
    "duration": 27,
    "start_time": "2025-01-21T12:29:27.967Z"
   },
   {
    "duration": 7,
    "start_time": "2025-01-21T12:29:27.996Z"
   },
   {
    "duration": 1887,
    "start_time": "2025-01-21T12:29:28.005Z"
   },
   {
    "duration": 1434,
    "start_time": "2025-01-21T12:29:29.897Z"
   },
   {
    "duration": 1326,
    "start_time": "2025-01-21T12:32:05.891Z"
   },
   {
    "duration": 14,
    "start_time": "2025-01-21T12:39:11.577Z"
   },
   {
    "duration": 180,
    "start_time": "2025-01-21T12:39:12.593Z"
   },
   {
    "duration": 10,
    "start_time": "2025-01-21T12:39:50.408Z"
   },
   {
    "duration": 13,
    "start_time": "2025-01-21T12:39:57.106Z"
   },
   {
    "duration": 20,
    "start_time": "2025-01-21T12:40:15.363Z"
   },
   {
    "duration": 14,
    "start_time": "2025-01-21T12:40:58.553Z"
   },
   {
    "duration": 18,
    "start_time": "2025-01-21T12:41:13.752Z"
   },
   {
    "duration": 1817,
    "start_time": "2025-01-21T13:22:39.432Z"
   },
   {
    "duration": 37,
    "start_time": "2025-01-21T13:22:41.251Z"
   },
   {
    "duration": 25,
    "start_time": "2025-01-21T13:22:41.289Z"
   },
   {
    "duration": 6,
    "start_time": "2025-01-21T13:22:41.316Z"
   },
   {
    "duration": 5,
    "start_time": "2025-01-21T13:22:41.324Z"
   },
   {
    "duration": 22,
    "start_time": "2025-01-21T13:22:41.330Z"
   },
   {
    "duration": 55,
    "start_time": "2025-01-21T13:22:41.354Z"
   },
   {
    "duration": 54,
    "start_time": "2025-01-21T13:22:41.411Z"
   },
   {
    "duration": 4275,
    "start_time": "2025-01-21T13:22:41.468Z"
   },
   {
    "duration": 1944,
    "start_time": "2025-01-21T13:22:45.746Z"
   },
   {
    "duration": 5,
    "start_time": "2025-01-21T13:22:47.692Z"
   },
   {
    "duration": 12,
    "start_time": "2025-01-21T13:22:47.699Z"
   },
   {
    "duration": 10,
    "start_time": "2025-01-21T13:22:47.712Z"
   },
   {
    "duration": 311,
    "start_time": "2025-01-21T13:22:47.726Z"
   },
   {
    "duration": 551,
    "start_time": "2025-01-21T13:22:48.039Z"
   },
   {
    "duration": 6,
    "start_time": "2025-01-21T13:22:48.591Z"
   },
   {
    "duration": 36,
    "start_time": "2025-01-21T13:22:48.598Z"
   },
   {
    "duration": 10,
    "start_time": "2025-01-21T13:22:48.640Z"
   },
   {
    "duration": 4,
    "start_time": "2025-01-21T13:22:48.653Z"
   },
   {
    "duration": 21,
    "start_time": "2025-01-21T13:22:48.659Z"
   },
   {
    "duration": 742,
    "start_time": "2025-01-21T13:22:48.684Z"
   },
   {
    "duration": 136091,
    "start_time": "2025-01-21T13:22:49.428Z"
   },
   {
    "duration": 1332,
    "start_time": "2025-01-21T13:25:05.521Z"
   },
   {
    "duration": 77,
    "start_time": "2025-01-21T13:25:06.871Z"
   },
   {
    "duration": 33,
    "start_time": "2025-01-21T13:25:06.964Z"
   },
   {
    "duration": 17,
    "start_time": "2025-01-21T13:25:06.999Z"
   },
   {
    "duration": 1784,
    "start_time": "2025-01-21T13:25:07.018Z"
   },
   {
    "duration": 1264,
    "start_time": "2025-01-21T13:25:08.804Z"
   },
   {
    "duration": 16,
    "start_time": "2025-01-21T13:25:10.070Z"
   },
   {
    "duration": 4896,
    "start_time": "2025-01-21T14:58:20.509Z"
   },
   {
    "duration": 4253,
    "start_time": "2025-01-21T14:58:35.386Z"
   },
   {
    "duration": 5454,
    "start_time": "2025-01-21T15:02:22.750Z"
   },
   {
    "duration": 1564,
    "start_time": "2025-01-21T15:03:17.874Z"
   },
   {
    "duration": 35,
    "start_time": "2025-01-21T15:03:19.440Z"
   },
   {
    "duration": 18,
    "start_time": "2025-01-21T15:03:19.477Z"
   },
   {
    "duration": 5,
    "start_time": "2025-01-21T15:03:19.497Z"
   },
   {
    "duration": 6,
    "start_time": "2025-01-21T15:03:19.503Z"
   },
   {
    "duration": 13,
    "start_time": "2025-01-21T15:03:19.510Z"
   },
   {
    "duration": 75,
    "start_time": "2025-01-21T15:03:19.525Z"
   },
   {
    "duration": 38,
    "start_time": "2025-01-21T15:03:19.601Z"
   },
   {
    "duration": 3654,
    "start_time": "2025-01-21T15:03:19.640Z"
   },
   {
    "duration": 1929,
    "start_time": "2025-01-21T15:03:23.297Z"
   },
   {
    "duration": 5,
    "start_time": "2025-01-21T15:03:25.228Z"
   },
   {
    "duration": 29,
    "start_time": "2025-01-21T15:03:25.235Z"
   },
   {
    "duration": 16,
    "start_time": "2025-01-21T15:03:25.266Z"
   },
   {
    "duration": 665,
    "start_time": "2025-01-21T15:03:25.284Z"
   },
   {
    "duration": 575,
    "start_time": "2025-01-21T15:03:25.951Z"
   },
   {
    "duration": 11,
    "start_time": "2025-01-21T15:03:26.528Z"
   },
   {
    "duration": 17,
    "start_time": "2025-01-21T15:03:26.542Z"
   },
   {
    "duration": 8,
    "start_time": "2025-01-21T15:03:26.566Z"
   },
   {
    "duration": 10,
    "start_time": "2025-01-21T15:03:26.576Z"
   },
   {
    "duration": 10,
    "start_time": "2025-01-21T15:03:26.588Z"
   },
   {
    "duration": 723,
    "start_time": "2025-01-21T15:03:26.600Z"
   },
   {
    "duration": 1906,
    "start_time": "2025-01-22T11:18:48.926Z"
   },
   {
    "duration": 131,
    "start_time": "2025-01-22T11:18:50.834Z"
   },
   {
    "duration": 15,
    "start_time": "2025-01-22T11:18:50.966Z"
   },
   {
    "duration": 4,
    "start_time": "2025-01-22T11:18:50.982Z"
   },
   {
    "duration": 11,
    "start_time": "2025-01-22T11:18:50.988Z"
   },
   {
    "duration": 19,
    "start_time": "2025-01-22T11:18:51.001Z"
   },
   {
    "duration": 51,
    "start_time": "2025-01-22T11:18:51.021Z"
   },
   {
    "duration": 17,
    "start_time": "2025-01-22T11:18:51.074Z"
   },
   {
    "duration": 3022,
    "start_time": "2025-01-22T11:18:51.093Z"
   },
   {
    "duration": 1391,
    "start_time": "2025-01-22T11:18:54.116Z"
   },
   {
    "duration": 3,
    "start_time": "2025-01-22T11:18:55.509Z"
   },
   {
    "duration": 10,
    "start_time": "2025-01-22T11:18:55.514Z"
   },
   {
    "duration": 12,
    "start_time": "2025-01-22T11:18:55.526Z"
   },
   {
    "duration": 152,
    "start_time": "2025-01-22T11:18:55.542Z"
   },
   {
    "duration": 555,
    "start_time": "2025-01-22T11:18:55.696Z"
   },
   {
    "duration": 4,
    "start_time": "2025-01-22T11:18:56.252Z"
   },
   {
    "duration": 7,
    "start_time": "2025-01-22T11:18:56.258Z"
   },
   {
    "duration": 21,
    "start_time": "2025-01-22T11:18:56.267Z"
   },
   {
    "duration": 4,
    "start_time": "2025-01-22T11:18:56.289Z"
   },
   {
    "duration": 8,
    "start_time": "2025-01-22T11:18:56.295Z"
   },
   {
    "duration": 464,
    "start_time": "2025-01-22T11:18:56.304Z"
   },
   {
    "duration": 96457,
    "start_time": "2025-01-22T11:18:56.769Z"
   },
   {
    "duration": 1066,
    "start_time": "2025-01-22T11:20:33.227Z"
   },
   {
    "duration": 92,
    "start_time": "2025-01-22T11:20:34.295Z"
   },
   {
    "duration": 31,
    "start_time": "2025-01-22T11:20:34.388Z"
   },
   {
    "duration": 10,
    "start_time": "2025-01-22T11:20:34.420Z"
   },
   {
    "duration": 1268,
    "start_time": "2025-01-22T11:20:34.431Z"
   },
   {
    "duration": 925,
    "start_time": "2025-01-22T11:20:35.700Z"
   },
   {
    "duration": 11,
    "start_time": "2025-01-22T11:20:36.627Z"
   },
   {
    "duration": 591963,
    "start_time": "2025-01-22T11:24:35.362Z"
   },
   {
    "duration": 1651,
    "start_time": "2025-01-22T12:05:20.121Z"
   },
   {
    "duration": 31,
    "start_time": "2025-01-22T12:05:21.774Z"
   },
   {
    "duration": 15,
    "start_time": "2025-01-22T12:05:21.807Z"
   },
   {
    "duration": 4,
    "start_time": "2025-01-22T12:05:21.824Z"
   },
   {
    "duration": 3,
    "start_time": "2025-01-22T12:05:21.830Z"
   },
   {
    "duration": 11,
    "start_time": "2025-01-22T12:05:21.834Z"
   },
   {
    "duration": 56,
    "start_time": "2025-01-22T12:05:21.846Z"
   },
   {
    "duration": 16,
    "start_time": "2025-01-22T12:05:21.903Z"
   },
   {
    "duration": 3015,
    "start_time": "2025-01-22T12:05:21.921Z"
   },
   {
    "duration": 1481,
    "start_time": "2025-01-22T12:05:24.938Z"
   },
   {
    "duration": 4,
    "start_time": "2025-01-22T12:05:26.420Z"
   },
   {
    "duration": 14,
    "start_time": "2025-01-22T12:05:26.426Z"
   },
   {
    "duration": 10,
    "start_time": "2025-01-22T12:05:26.441Z"
   },
   {
    "duration": 41,
    "start_time": "2025-01-22T12:05:26.454Z"
   },
   {
    "duration": 470,
    "start_time": "2025-01-22T12:05:26.587Z"
   },
   {
    "duration": 3,
    "start_time": "2025-01-22T12:05:27.059Z"
   },
   {
    "duration": 20,
    "start_time": "2025-01-22T12:05:27.063Z"
   },
   {
    "duration": 8,
    "start_time": "2025-01-22T12:05:27.085Z"
   },
   {
    "duration": 10,
    "start_time": "2025-01-22T12:05:27.094Z"
   },
   {
    "duration": 9,
    "start_time": "2025-01-22T12:05:27.105Z"
   },
   {
    "duration": 482,
    "start_time": "2025-01-22T12:05:27.115Z"
   },
   {
    "duration": 97460,
    "start_time": "2025-01-22T12:05:27.599Z"
   },
   {
    "duration": 1027,
    "start_time": "2025-01-22T12:07:05.060Z"
   },
   {
    "duration": 4,
    "start_time": "2025-01-22T12:07:06.088Z"
   },
   {
    "duration": 116,
    "start_time": "2025-01-22T12:07:06.094Z"
   },
   {
    "duration": 14,
    "start_time": "2025-01-22T12:07:06.212Z"
   },
   {
    "duration": 1235,
    "start_time": "2025-01-22T12:07:06.227Z"
   },
   {
    "duration": 913,
    "start_time": "2025-01-22T12:07:07.464Z"
   },
   {
    "duration": 14,
    "start_time": "2025-01-22T12:07:08.379Z"
   },
   {
    "duration": 3874,
    "start_time": "2025-01-22T12:36:55.841Z"
   },
   {
    "duration": 83,
    "start_time": "2025-01-22T12:36:59.717Z"
   },
   {
    "duration": 17,
    "start_time": "2025-01-22T12:36:59.801Z"
   },
   {
    "duration": 18,
    "start_time": "2025-01-22T12:36:59.820Z"
   },
   {
    "duration": 40,
    "start_time": "2025-01-22T12:36:59.839Z"
   },
   {
    "duration": 28,
    "start_time": "2025-01-22T12:36:59.881Z"
   },
   {
    "duration": 52,
    "start_time": "2025-01-22T12:36:59.911Z"
   },
   {
    "duration": 20,
    "start_time": "2025-01-22T12:36:59.965Z"
   },
   {
    "duration": 3685,
    "start_time": "2025-01-22T12:36:59.987Z"
   },
   {
    "duration": 1856,
    "start_time": "2025-01-22T12:37:03.675Z"
   },
   {
    "duration": 5,
    "start_time": "2025-01-22T12:37:05.532Z"
   },
   {
    "duration": 50,
    "start_time": "2025-01-22T12:37:05.539Z"
   },
   {
    "duration": 21,
    "start_time": "2025-01-22T12:37:05.591Z"
   },
   {
    "duration": 421,
    "start_time": "2025-01-22T12:37:05.615Z"
   },
   {
    "duration": 597,
    "start_time": "2025-01-22T12:37:06.040Z"
   },
   {
    "duration": 4,
    "start_time": "2025-01-22T12:37:06.639Z"
   },
   {
    "duration": 43,
    "start_time": "2025-01-22T12:37:06.646Z"
   },
   {
    "duration": 8,
    "start_time": "2025-01-22T12:37:06.692Z"
   },
   {
    "duration": 8,
    "start_time": "2025-01-22T12:37:06.701Z"
   },
   {
    "duration": 21,
    "start_time": "2025-01-22T12:37:06.711Z"
   },
   {
    "duration": 596,
    "start_time": "2025-01-22T12:37:06.734Z"
   },
   {
    "duration": 123204,
    "start_time": "2025-01-22T12:37:07.331Z"
   },
   {
    "duration": 1594,
    "start_time": "2025-01-22T12:39:10.537Z"
   },
   {
    "duration": 4,
    "start_time": "2025-01-22T12:39:12.132Z"
   },
   {
    "duration": 30,
    "start_time": "2025-01-22T12:39:12.137Z"
   },
   {
    "duration": 6,
    "start_time": "2025-01-22T12:39:12.168Z"
   },
   {
    "duration": 1462,
    "start_time": "2025-01-22T12:39:12.176Z"
   },
   {
    "duration": 1082,
    "start_time": "2025-01-22T12:39:13.641Z"
   },
   {
    "duration": 18,
    "start_time": "2025-01-22T12:39:14.725Z"
   },
   {
    "duration": 57,
    "start_time": "2025-01-24T10:54:25.083Z"
   },
   {
    "duration": 1731,
    "start_time": "2025-01-24T10:54:31.142Z"
   },
   {
    "duration": 61,
    "start_time": "2025-01-24T10:54:32.875Z"
   },
   {
    "duration": 18,
    "start_time": "2025-01-24T10:54:32.938Z"
   },
   {
    "duration": 12,
    "start_time": "2025-01-24T10:54:32.958Z"
   },
   {
    "duration": 50,
    "start_time": "2025-01-24T10:54:32.972Z"
   },
   {
    "duration": 31,
    "start_time": "2025-01-24T10:54:33.024Z"
   },
   {
    "duration": 55,
    "start_time": "2025-01-24T10:54:33.056Z"
   },
   {
    "duration": 49,
    "start_time": "2025-01-24T10:54:33.112Z"
   },
   {
    "duration": 21,
    "start_time": "2025-01-24T10:54:33.163Z"
   },
   {
    "duration": 3602,
    "start_time": "2025-01-24T10:54:33.187Z"
   },
   {
    "duration": 1729,
    "start_time": "2025-01-24T10:54:36.791Z"
   },
   {
    "duration": 4,
    "start_time": "2025-01-24T10:54:38.522Z"
   },
   {
    "duration": 10,
    "start_time": "2025-01-24T10:54:38.528Z"
   },
   {
    "duration": 15,
    "start_time": "2025-01-24T10:54:38.540Z"
   },
   {
    "duration": 157,
    "start_time": "2025-01-24T10:54:38.556Z"
   },
   {
    "duration": 581,
    "start_time": "2025-01-24T10:54:38.716Z"
   },
   {
    "duration": 9,
    "start_time": "2025-01-24T10:54:39.299Z"
   },
   {
    "duration": 66,
    "start_time": "2025-01-24T10:54:39.310Z"
   },
   {
    "duration": 7,
    "start_time": "2025-01-24T10:54:39.378Z"
   },
   {
    "duration": 4,
    "start_time": "2025-01-24T10:54:39.386Z"
   },
   {
    "duration": 8,
    "start_time": "2025-01-24T10:54:39.392Z"
   },
   {
    "duration": 612,
    "start_time": "2025-01-24T10:54:39.402Z"
   },
   {
    "duration": 120091,
    "start_time": "2025-01-24T10:54:40.016Z"
   },
   {
    "duration": 1501,
    "start_time": "2025-01-24T10:56:40.109Z"
   },
   {
    "duration": 94,
    "start_time": "2025-01-24T10:56:41.613Z"
   },
   {
    "duration": 20,
    "start_time": "2025-01-24T10:56:41.709Z"
   },
   {
    "duration": 6,
    "start_time": "2025-01-24T10:56:41.731Z"
   },
   {
    "duration": 1467,
    "start_time": "2025-01-24T10:56:41.740Z"
   },
   {
    "duration": 1083,
    "start_time": "2025-01-24T10:56:43.209Z"
   },
   {
    "duration": 20,
    "start_time": "2025-01-24T10:56:44.293Z"
   },
   {
    "duration": 108,
    "start_time": "2025-01-24T10:56:44.314Z"
   },
   {
    "duration": 1624,
    "start_time": "2025-01-24T10:57:49.500Z"
   },
   {
    "duration": 29,
    "start_time": "2025-01-24T10:57:51.127Z"
   },
   {
    "duration": 17,
    "start_time": "2025-01-24T10:57:51.158Z"
   },
   {
    "duration": 10,
    "start_time": "2025-01-24T10:57:51.177Z"
   },
   {
    "duration": 8,
    "start_time": "2025-01-24T10:57:51.189Z"
   },
   {
    "duration": 12,
    "start_time": "2025-01-24T10:57:51.199Z"
   },
   {
    "duration": 55,
    "start_time": "2025-01-24T10:57:51.213Z"
   },
   {
    "duration": 41,
    "start_time": "2025-01-24T10:57:51.269Z"
   },
   {
    "duration": 3566,
    "start_time": "2025-01-24T10:57:51.312Z"
   },
   {
    "duration": 1695,
    "start_time": "2025-01-24T10:57:54.881Z"
   },
   {
    "duration": 4,
    "start_time": "2025-01-24T10:57:56.578Z"
   },
   {
    "duration": 35,
    "start_time": "2025-01-24T10:57:56.584Z"
   },
   {
    "duration": 17,
    "start_time": "2025-01-24T10:57:56.621Z"
   },
   {
    "duration": 171,
    "start_time": "2025-01-24T10:57:56.640Z"
   },
   {
    "duration": 579,
    "start_time": "2025-01-24T10:57:56.814Z"
   },
   {
    "duration": 4,
    "start_time": "2025-01-24T10:57:57.395Z"
   },
   {
    "duration": 23,
    "start_time": "2025-01-24T10:57:57.400Z"
   },
   {
    "duration": 7,
    "start_time": "2025-01-24T10:57:57.425Z"
   },
   {
    "duration": 4,
    "start_time": "2025-01-24T10:57:57.433Z"
   },
   {
    "duration": 9,
    "start_time": "2025-01-24T10:57:57.439Z"
   },
   {
    "duration": 626,
    "start_time": "2025-01-24T10:57:57.449Z"
   },
   {
    "duration": 118878,
    "start_time": "2025-01-24T10:57:58.076Z"
   },
   {
    "duration": 1552,
    "start_time": "2025-01-24T10:59:56.956Z"
   },
   {
    "duration": 4,
    "start_time": "2025-01-24T10:59:58.511Z"
   },
   {
    "duration": 41,
    "start_time": "2025-01-24T10:59:58.516Z"
   },
   {
    "duration": 7,
    "start_time": "2025-01-24T10:59:58.559Z"
   },
   {
    "duration": 1528,
    "start_time": "2025-01-24T10:59:58.567Z"
   },
   {
    "duration": 1125,
    "start_time": "2025-01-24T11:00:00.099Z"
   },
   {
    "duration": 12,
    "start_time": "2025-01-24T11:00:01.226Z"
   },
   {
    "duration": 129,
    "start_time": "2025-01-24T14:43:40.213Z"
   },
   {
    "duration": 18,
    "start_time": "2025-01-24T14:43:42.110Z"
   },
   {
    "duration": 1711,
    "start_time": "2025-01-24T14:43:46.345Z"
   },
   {
    "duration": 5,
    "start_time": "2025-01-24T14:45:54.305Z"
   },
   {
    "duration": 4,
    "start_time": "2025-01-24T14:48:17.780Z"
   },
   {
    "duration": 80,
    "start_time": "2025-01-24T14:48:22.882Z"
   },
   {
    "duration": 103,
    "start_time": "2025-01-24T14:49:04.635Z"
   },
   {
    "duration": 18,
    "start_time": "2025-01-24T14:50:39.964Z"
   },
   {
    "duration": 87,
    "start_time": "2025-01-24T14:50:50.220Z"
   },
   {
    "duration": 19,
    "start_time": "2025-01-24T14:50:55.297Z"
   },
   {
    "duration": 48,
    "start_time": "2025-01-24T14:50:58.950Z"
   },
   {
    "duration": 44,
    "start_time": "2025-01-24T14:51:12.317Z"
   },
   {
    "duration": 28,
    "start_time": "2025-01-24T14:51:29.734Z"
   },
   {
    "duration": 21,
    "start_time": "2025-01-24T14:51:33.549Z"
   },
   {
    "duration": 17,
    "start_time": "2025-01-24T14:51:58.390Z"
   },
   {
    "duration": 17,
    "start_time": "2025-01-24T14:52:02.393Z"
   },
   {
    "duration": 46,
    "start_time": "2025-01-24T14:52:06.957Z"
   },
   {
    "duration": 12,
    "start_time": "2025-01-24T14:58:23.322Z"
   },
   {
    "duration": 1283,
    "start_time": "2025-01-24T15:02:14.677Z"
   },
   {
    "duration": 1381,
    "start_time": "2025-01-24T15:04:14.710Z"
   },
   {
    "duration": 1337,
    "start_time": "2025-01-24T15:06:19.549Z"
   },
   {
    "duration": 1254,
    "start_time": "2025-01-24T15:06:46.066Z"
   },
   {
    "duration": 1683,
    "start_time": "2025-01-24T15:07:56.709Z"
   },
   {
    "duration": 1371,
    "start_time": "2025-01-24T15:08:41.395Z"
   },
   {
    "duration": 1466,
    "start_time": "2025-01-24T15:17:57.615Z"
   },
   {
    "duration": 25,
    "start_time": "2025-01-24T15:17:59.083Z"
   },
   {
    "duration": 17,
    "start_time": "2025-01-24T15:17:59.109Z"
   },
   {
    "duration": 5,
    "start_time": "2025-01-24T15:17:59.128Z"
   },
   {
    "duration": 3,
    "start_time": "2025-01-24T15:17:59.135Z"
   },
   {
    "duration": 15,
    "start_time": "2025-01-24T15:17:59.140Z"
   },
   {
    "duration": 73,
    "start_time": "2025-01-24T15:17:59.157Z"
   },
   {
    "duration": 20,
    "start_time": "2025-01-24T15:17:59.232Z"
   },
   {
    "duration": 2303,
    "start_time": "2025-01-24T15:17:59.254Z"
   },
   {
    "duration": 382,
    "start_time": "2025-01-24T15:18:01.559Z"
   },
   {
    "duration": 0,
    "start_time": "2025-01-24T15:18:01.943Z"
   },
   {
    "duration": 0,
    "start_time": "2025-01-24T15:18:01.944Z"
   },
   {
    "duration": 0,
    "start_time": "2025-01-24T15:18:01.945Z"
   },
   {
    "duration": 0,
    "start_time": "2025-01-24T15:18:01.946Z"
   },
   {
    "duration": 0,
    "start_time": "2025-01-24T15:18:01.948Z"
   },
   {
    "duration": 0,
    "start_time": "2025-01-24T15:18:01.949Z"
   },
   {
    "duration": 0,
    "start_time": "2025-01-24T15:18:01.950Z"
   },
   {
    "duration": 0,
    "start_time": "2025-01-24T15:18:01.951Z"
   },
   {
    "duration": 0,
    "start_time": "2025-01-24T15:18:01.952Z"
   },
   {
    "duration": 0,
    "start_time": "2025-01-24T15:18:01.953Z"
   },
   {
    "duration": 0,
    "start_time": "2025-01-24T15:18:01.954Z"
   },
   {
    "duration": 0,
    "start_time": "2025-01-24T15:18:01.955Z"
   },
   {
    "duration": 0,
    "start_time": "2025-01-24T15:18:01.957Z"
   },
   {
    "duration": 0,
    "start_time": "2025-01-24T15:18:01.958Z"
   },
   {
    "duration": 0,
    "start_time": "2025-01-24T15:18:01.959Z"
   },
   {
    "duration": 0,
    "start_time": "2025-01-24T15:18:01.960Z"
   },
   {
    "duration": 0,
    "start_time": "2025-01-24T15:18:01.961Z"
   },
   {
    "duration": 0,
    "start_time": "2025-01-24T15:18:01.962Z"
   },
   {
    "duration": 0,
    "start_time": "2025-01-24T15:18:01.963Z"
   },
   {
    "duration": 0,
    "start_time": "2025-01-24T15:18:01.964Z"
   },
   {
    "duration": 0,
    "start_time": "2025-01-24T15:18:01.965Z"
   },
   {
    "duration": 2087,
    "start_time": "2025-01-24T15:18:37.575Z"
   },
   {
    "duration": 2221,
    "start_time": "2025-01-24T15:19:03.874Z"
   },
   {
    "duration": 2471,
    "start_time": "2025-01-24T15:21:19.258Z"
   },
   {
    "duration": 2106,
    "start_time": "2025-01-24T15:21:51.152Z"
   },
   {
    "duration": 628,
    "start_time": "2025-01-24T15:22:53.083Z"
   },
   {
    "duration": 1025,
    "start_time": "2025-01-24T15:23:05.078Z"
   },
   {
    "duration": 485,
    "start_time": "2025-01-24T15:24:37.781Z"
   },
   {
    "duration": 646,
    "start_time": "2025-01-24T15:24:46.420Z"
   },
   {
    "duration": 917,
    "start_time": "2025-01-24T15:24:55.784Z"
   },
   {
    "duration": 1025,
    "start_time": "2025-01-24T15:25:31.092Z"
   },
   {
    "duration": 916,
    "start_time": "2025-01-24T15:25:39.482Z"
   },
   {
    "duration": 928,
    "start_time": "2025-01-24T15:26:06.106Z"
   },
   {
    "duration": 932,
    "start_time": "2025-01-24T15:26:12.931Z"
   },
   {
    "duration": 1032,
    "start_time": "2025-01-24T15:26:25.394Z"
   },
   {
    "duration": 929,
    "start_time": "2025-01-24T15:26:38.138Z"
   },
   {
    "duration": 1129,
    "start_time": "2025-01-24T15:27:01.713Z"
   },
   {
    "duration": 1111,
    "start_time": "2025-01-24T15:27:23.971Z"
   },
   {
    "duration": 734,
    "start_time": "2025-01-24T15:27:35.117Z"
   },
   {
    "duration": 921,
    "start_time": "2025-01-24T15:27:40.942Z"
   },
   {
    "duration": 931,
    "start_time": "2025-01-24T15:28:09.666Z"
   },
   {
    "duration": 1575,
    "start_time": "2025-01-24T15:28:55.993Z"
   },
   {
    "duration": 100,
    "start_time": "2025-01-24T15:29:21.030Z"
   },
   {
    "duration": 1623,
    "start_time": "2025-01-24T15:29:49.973Z"
   },
   {
    "duration": 1782,
    "start_time": "2025-01-24T15:30:21.641Z"
   },
   {
    "duration": 1663,
    "start_time": "2025-01-24T15:30:50.902Z"
   },
   {
    "duration": 1870,
    "start_time": "2025-01-24T15:31:04.718Z"
   },
   {
    "duration": 3564,
    "start_time": "2025-01-24T15:31:25.350Z"
   },
   {
    "duration": 3573,
    "start_time": "2025-01-24T15:31:32.656Z"
   },
   {
    "duration": 2283,
    "start_time": "2025-01-24T15:32:30.797Z"
   },
   {
    "duration": 2036,
    "start_time": "2025-01-24T15:33:07.600Z"
   },
   {
    "duration": 2187,
    "start_time": "2025-01-24T15:33:14.215Z"
   },
   {
    "duration": 1460,
    "start_time": "2025-01-24T15:33:25.938Z"
   },
   {
    "duration": 35,
    "start_time": "2025-01-24T15:33:27.400Z"
   },
   {
    "duration": 17,
    "start_time": "2025-01-24T15:33:27.436Z"
   },
   {
    "duration": 12,
    "start_time": "2025-01-24T15:33:27.454Z"
   },
   {
    "duration": 6,
    "start_time": "2025-01-24T15:33:27.468Z"
   },
   {
    "duration": 30,
    "start_time": "2025-01-24T15:33:27.475Z"
   },
   {
    "duration": 78,
    "start_time": "2025-01-24T15:33:27.507Z"
   },
   {
    "duration": 21,
    "start_time": "2025-01-24T15:33:27.586Z"
   },
   {
    "duration": 1759,
    "start_time": "2025-01-24T15:33:27.609Z"
   },
   {
    "duration": 2196,
    "start_time": "2025-01-24T15:33:29.370Z"
   },
   {
    "duration": 3578,
    "start_time": "2025-01-24T15:33:31.567Z"
   },
   {
    "duration": 1570,
    "start_time": "2025-01-24T15:33:35.146Z"
   },
   {
    "duration": 5,
    "start_time": "2025-01-24T15:33:36.719Z"
   },
   {
    "duration": 40,
    "start_time": "2025-01-24T15:33:36.728Z"
   },
   {
    "duration": 13,
    "start_time": "2025-01-24T15:33:36.770Z"
   },
   {
    "duration": 231,
    "start_time": "2025-01-24T15:33:36.785Z"
   },
   {
    "duration": 487,
    "start_time": "2025-01-24T15:33:37.109Z"
   },
   {
    "duration": 10,
    "start_time": "2025-01-24T15:33:37.597Z"
   },
   {
    "duration": 131,
    "start_time": "2025-01-24T15:33:37.609Z"
   },
   {
    "duration": 0,
    "start_time": "2025-01-24T15:33:37.742Z"
   },
   {
    "duration": 0,
    "start_time": "2025-01-24T15:33:37.744Z"
   },
   {
    "duration": 0,
    "start_time": "2025-01-24T15:33:37.745Z"
   },
   {
    "duration": 0,
    "start_time": "2025-01-24T15:33:37.746Z"
   },
   {
    "duration": 0,
    "start_time": "2025-01-24T15:33:37.747Z"
   },
   {
    "duration": 0,
    "start_time": "2025-01-24T15:33:37.748Z"
   },
   {
    "duration": 0,
    "start_time": "2025-01-24T15:33:37.749Z"
   },
   {
    "duration": 0,
    "start_time": "2025-01-24T15:33:37.750Z"
   },
   {
    "duration": 0,
    "start_time": "2025-01-24T15:33:37.751Z"
   },
   {
    "duration": 0,
    "start_time": "2025-01-24T15:33:37.752Z"
   },
   {
    "duration": 0,
    "start_time": "2025-01-24T15:33:37.753Z"
   },
   {
    "duration": 0,
    "start_time": "2025-01-24T15:33:37.754Z"
   },
   {
    "duration": 2096,
    "start_time": "2025-01-24T15:33:44.266Z"
   },
   {
    "duration": 2015,
    "start_time": "2025-01-24T15:33:55.207Z"
   },
   {
    "duration": 2145,
    "start_time": "2025-01-24T15:34:18.105Z"
   },
   {
    "duration": 1431,
    "start_time": "2025-01-24T15:34:25.061Z"
   },
   {
    "duration": 25,
    "start_time": "2025-01-24T15:34:26.493Z"
   },
   {
    "duration": 16,
    "start_time": "2025-01-24T15:34:26.520Z"
   },
   {
    "duration": 5,
    "start_time": "2025-01-24T15:34:26.538Z"
   },
   {
    "duration": 15,
    "start_time": "2025-01-24T15:34:26.545Z"
   },
   {
    "duration": 18,
    "start_time": "2025-01-24T15:34:26.562Z"
   },
   {
    "duration": 66,
    "start_time": "2025-01-24T15:34:26.581Z"
   },
   {
    "duration": 20,
    "start_time": "2025-01-24T15:34:26.649Z"
   },
   {
    "duration": 1764,
    "start_time": "2025-01-24T15:34:26.671Z"
   },
   {
    "duration": 2205,
    "start_time": "2025-01-24T15:34:28.438Z"
   },
   {
    "duration": 3634,
    "start_time": "2025-01-24T15:34:30.645Z"
   },
   {
    "duration": 1823,
    "start_time": "2025-01-24T15:34:34.281Z"
   },
   {
    "duration": 4,
    "start_time": "2025-01-24T15:34:36.106Z"
   },
   {
    "duration": 27,
    "start_time": "2025-01-24T15:34:36.112Z"
   },
   {
    "duration": 14,
    "start_time": "2025-01-24T15:34:36.141Z"
   },
   {
    "duration": 261,
    "start_time": "2025-01-24T15:34:36.156Z"
   },
   {
    "duration": 479,
    "start_time": "2025-01-24T15:34:36.510Z"
   },
   {
    "duration": 4,
    "start_time": "2025-01-24T15:34:36.991Z"
   },
   {
    "duration": 135,
    "start_time": "2025-01-24T15:34:36.996Z"
   },
   {
    "duration": 0,
    "start_time": "2025-01-24T15:34:37.133Z"
   },
   {
    "duration": 0,
    "start_time": "2025-01-24T15:34:37.134Z"
   },
   {
    "duration": 0,
    "start_time": "2025-01-24T15:34:37.135Z"
   },
   {
    "duration": 0,
    "start_time": "2025-01-24T15:34:37.136Z"
   },
   {
    "duration": 0,
    "start_time": "2025-01-24T15:34:37.138Z"
   },
   {
    "duration": 0,
    "start_time": "2025-01-24T15:34:37.139Z"
   },
   {
    "duration": 0,
    "start_time": "2025-01-24T15:34:37.140Z"
   },
   {
    "duration": 0,
    "start_time": "2025-01-24T15:34:37.141Z"
   },
   {
    "duration": 0,
    "start_time": "2025-01-24T15:34:37.142Z"
   },
   {
    "duration": 0,
    "start_time": "2025-01-24T15:34:37.143Z"
   },
   {
    "duration": 0,
    "start_time": "2025-01-24T15:34:37.144Z"
   },
   {
    "duration": 0,
    "start_time": "2025-01-24T15:34:37.145Z"
   },
   {
    "duration": 1382,
    "start_time": "2025-01-24T15:36:04.086Z"
   },
   {
    "duration": 2037,
    "start_time": "2025-01-24T15:38:53.502Z"
   },
   {
    "duration": 1505,
    "start_time": "2025-01-24T15:39:05.956Z"
   },
   {
    "duration": 24,
    "start_time": "2025-01-24T15:39:07.463Z"
   },
   {
    "duration": 16,
    "start_time": "2025-01-24T15:39:07.489Z"
   },
   {
    "duration": 21,
    "start_time": "2025-01-24T15:39:07.508Z"
   },
   {
    "duration": 9,
    "start_time": "2025-01-24T15:39:07.531Z"
   },
   {
    "duration": 19,
    "start_time": "2025-01-24T15:39:07.541Z"
   },
   {
    "duration": 58,
    "start_time": "2025-01-24T15:39:07.562Z"
   },
   {
    "duration": 21,
    "start_time": "2025-01-24T15:39:07.622Z"
   },
   {
    "duration": 1266,
    "start_time": "2025-01-24T15:39:07.644Z"
   },
   {
    "duration": 1773,
    "start_time": "2025-01-24T15:39:08.912Z"
   },
   {
    "duration": 2149,
    "start_time": "2025-01-24T15:39:10.687Z"
   },
   {
    "duration": 3588,
    "start_time": "2025-01-24T15:39:12.838Z"
   },
   {
    "duration": 1744,
    "start_time": "2025-01-24T15:39:16.428Z"
   },
   {
    "duration": 4,
    "start_time": "2025-01-24T15:39:18.174Z"
   },
   {
    "duration": 17,
    "start_time": "2025-01-24T15:39:18.180Z"
   },
   {
    "duration": 25,
    "start_time": "2025-01-24T15:39:18.199Z"
   },
   {
    "duration": 185,
    "start_time": "2025-01-24T15:39:18.226Z"
   },
   {
    "duration": 589,
    "start_time": "2025-01-24T15:39:18.413Z"
   },
   {
    "duration": 3,
    "start_time": "2025-01-24T15:39:19.004Z"
   },
   {
    "duration": 127,
    "start_time": "2025-01-24T15:39:19.009Z"
   },
   {
    "duration": 0,
    "start_time": "2025-01-24T15:39:19.137Z"
   },
   {
    "duration": 0,
    "start_time": "2025-01-24T15:39:19.138Z"
   },
   {
    "duration": 0,
    "start_time": "2025-01-24T15:39:19.140Z"
   },
   {
    "duration": 0,
    "start_time": "2025-01-24T15:39:19.141Z"
   },
   {
    "duration": 0,
    "start_time": "2025-01-24T15:39:19.142Z"
   },
   {
    "duration": 0,
    "start_time": "2025-01-24T15:39:19.143Z"
   },
   {
    "duration": 0,
    "start_time": "2025-01-24T15:39:19.144Z"
   },
   {
    "duration": 0,
    "start_time": "2025-01-24T15:39:19.145Z"
   },
   {
    "duration": 0,
    "start_time": "2025-01-24T15:39:19.146Z"
   },
   {
    "duration": 0,
    "start_time": "2025-01-24T15:39:19.148Z"
   },
   {
    "duration": 0,
    "start_time": "2025-01-24T15:39:19.149Z"
   },
   {
    "duration": 0,
    "start_time": "2025-01-24T15:39:19.150Z"
   },
   {
    "duration": 35,
    "start_time": "2025-01-24T15:44:20.742Z"
   },
   {
    "duration": 2401,
    "start_time": "2025-01-24T15:44:29.461Z"
   },
   {
    "duration": 2078,
    "start_time": "2025-01-24T15:44:45.985Z"
   },
   {
    "duration": 1595,
    "start_time": "2025-01-24T15:51:16.805Z"
   },
   {
    "duration": 25,
    "start_time": "2025-01-24T15:51:18.402Z"
   },
   {
    "duration": 17,
    "start_time": "2025-01-24T15:51:18.429Z"
   },
   {
    "duration": 6,
    "start_time": "2025-01-24T15:51:18.449Z"
   },
   {
    "duration": 4,
    "start_time": "2025-01-24T15:51:18.457Z"
   },
   {
    "duration": 13,
    "start_time": "2025-01-24T15:51:18.462Z"
   },
   {
    "duration": 73,
    "start_time": "2025-01-24T15:51:18.477Z"
   },
   {
    "duration": 22,
    "start_time": "2025-01-24T15:51:18.551Z"
   },
   {
    "duration": 1741,
    "start_time": "2025-01-24T15:51:18.575Z"
   },
   {
    "duration": 1167,
    "start_time": "2025-01-24T15:51:20.318Z"
   },
   {
    "duration": 1915,
    "start_time": "2025-01-24T15:51:21.487Z"
   },
   {
    "duration": 1613,
    "start_time": "2025-01-24T15:51:41.685Z"
   },
   {
    "duration": 25,
    "start_time": "2025-01-24T15:51:43.300Z"
   },
   {
    "duration": 17,
    "start_time": "2025-01-24T15:51:43.327Z"
   },
   {
    "duration": 9,
    "start_time": "2025-01-24T15:51:43.346Z"
   },
   {
    "duration": 10,
    "start_time": "2025-01-24T15:51:43.357Z"
   },
   {
    "duration": 32,
    "start_time": "2025-01-24T15:51:43.369Z"
   },
   {
    "duration": 124,
    "start_time": "2025-01-24T15:51:43.403Z"
   },
   {
    "duration": 22,
    "start_time": "2025-01-24T15:51:43.528Z"
   },
   {
    "duration": 1924,
    "start_time": "2025-01-24T15:51:43.552Z"
   },
   {
    "duration": 1234,
    "start_time": "2025-01-24T15:51:45.479Z"
   },
   {
    "duration": 2003,
    "start_time": "2025-01-24T15:51:46.715Z"
   },
   {
    "duration": 1596,
    "start_time": "2025-01-24T15:52:15.384Z"
   },
   {
    "duration": 24,
    "start_time": "2025-01-24T15:52:16.982Z"
   },
   {
    "duration": 17,
    "start_time": "2025-01-24T15:52:17.008Z"
   },
   {
    "duration": 5,
    "start_time": "2025-01-24T15:52:17.028Z"
   },
   {
    "duration": 15,
    "start_time": "2025-01-24T15:52:17.035Z"
   },
   {
    "duration": 16,
    "start_time": "2025-01-24T15:52:17.052Z"
   },
   {
    "duration": 69,
    "start_time": "2025-01-24T15:52:17.070Z"
   },
   {
    "duration": 19,
    "start_time": "2025-01-24T15:52:17.141Z"
   },
   {
    "duration": 2098,
    "start_time": "2025-01-24T15:52:17.162Z"
   },
   {
    "duration": 1097,
    "start_time": "2025-01-24T15:52:19.263Z"
   },
   {
    "duration": 1961,
    "start_time": "2025-01-24T15:52:20.361Z"
   },
   {
    "duration": 1559,
    "start_time": "2025-01-24T15:54:03.926Z"
   },
   {
    "duration": 24,
    "start_time": "2025-01-24T15:54:05.488Z"
   },
   {
    "duration": 16,
    "start_time": "2025-01-24T15:54:05.514Z"
   },
   {
    "duration": 9,
    "start_time": "2025-01-24T15:54:05.532Z"
   },
   {
    "duration": 23,
    "start_time": "2025-01-24T15:54:05.542Z"
   },
   {
    "duration": 25,
    "start_time": "2025-01-24T15:54:05.567Z"
   },
   {
    "duration": 50,
    "start_time": "2025-01-24T15:54:05.593Z"
   },
   {
    "duration": 21,
    "start_time": "2025-01-24T15:54:05.644Z"
   },
   {
    "duration": 1845,
    "start_time": "2025-01-24T15:54:05.667Z"
   },
   {
    "duration": 926,
    "start_time": "2025-01-24T15:54:07.514Z"
   },
   {
    "duration": 1558,
    "start_time": "2025-01-24T15:54:08.442Z"
   },
   {
    "duration": 4,
    "start_time": "2025-01-24T15:54:10.002Z"
   },
   {
    "duration": 69,
    "start_time": "2025-01-24T15:54:10.008Z"
   },
   {
    "duration": 23,
    "start_time": "2025-01-24T15:54:10.079Z"
   },
   {
    "duration": 205,
    "start_time": "2025-01-24T15:54:10.104Z"
   },
   {
    "duration": 610,
    "start_time": "2025-01-24T15:54:10.312Z"
   },
   {
    "duration": 3,
    "start_time": "2025-01-24T15:54:10.924Z"
   },
   {
    "duration": 203,
    "start_time": "2025-01-24T15:54:10.929Z"
   },
   {
    "duration": 0,
    "start_time": "2025-01-24T15:54:11.134Z"
   },
   {
    "duration": 0,
    "start_time": "2025-01-24T15:54:11.135Z"
   },
   {
    "duration": 0,
    "start_time": "2025-01-24T15:54:11.137Z"
   },
   {
    "duration": 0,
    "start_time": "2025-01-24T15:54:11.138Z"
   },
   {
    "duration": 0,
    "start_time": "2025-01-24T15:54:11.139Z"
   },
   {
    "duration": 0,
    "start_time": "2025-01-24T15:54:11.140Z"
   },
   {
    "duration": 0,
    "start_time": "2025-01-24T15:54:11.142Z"
   },
   {
    "duration": 0,
    "start_time": "2025-01-24T15:54:11.143Z"
   },
   {
    "duration": 0,
    "start_time": "2025-01-24T15:54:11.144Z"
   },
   {
    "duration": 0,
    "start_time": "2025-01-24T15:54:11.145Z"
   },
   {
    "duration": 0,
    "start_time": "2025-01-24T15:54:11.147Z"
   },
   {
    "duration": 0,
    "start_time": "2025-01-24T15:54:11.148Z"
   },
   {
    "duration": 1308,
    "start_time": "2025-01-24T15:55:04.077Z"
   },
   {
    "duration": 2044,
    "start_time": "2025-01-24T15:55:22.676Z"
   },
   {
    "duration": 1716,
    "start_time": "2025-01-24T15:55:33.140Z"
   },
   {
    "duration": 1417,
    "start_time": "2025-01-24T15:55:44.693Z"
   },
   {
    "duration": 1594,
    "start_time": "2025-01-24T15:55:58.717Z"
   },
   {
    "duration": 25,
    "start_time": "2025-01-24T15:56:00.313Z"
   },
   {
    "duration": 32,
    "start_time": "2025-01-24T15:56:00.340Z"
   },
   {
    "duration": 16,
    "start_time": "2025-01-24T15:56:00.375Z"
   },
   {
    "duration": 36,
    "start_time": "2025-01-24T15:56:00.393Z"
   },
   {
    "duration": 45,
    "start_time": "2025-01-24T15:56:00.431Z"
   },
   {
    "duration": 71,
    "start_time": "2025-01-24T15:56:00.478Z"
   },
   {
    "duration": 21,
    "start_time": "2025-01-24T15:56:00.551Z"
   },
   {
    "duration": 1708,
    "start_time": "2025-01-24T15:56:00.573Z"
   },
   {
    "duration": 0,
    "start_time": "2025-01-24T15:56:02.284Z"
   },
   {
    "duration": 0,
    "start_time": "2025-01-24T15:56:02.285Z"
   },
   {
    "duration": 0,
    "start_time": "2025-01-24T15:56:02.286Z"
   },
   {
    "duration": 0,
    "start_time": "2025-01-24T15:56:02.287Z"
   },
   {
    "duration": 0,
    "start_time": "2025-01-24T15:56:02.288Z"
   },
   {
    "duration": 0,
    "start_time": "2025-01-24T15:56:02.289Z"
   },
   {
    "duration": 0,
    "start_time": "2025-01-24T15:56:02.290Z"
   },
   {
    "duration": 0,
    "start_time": "2025-01-24T15:56:02.309Z"
   },
   {
    "duration": 0,
    "start_time": "2025-01-24T15:56:02.310Z"
   },
   {
    "duration": 0,
    "start_time": "2025-01-24T15:56:02.311Z"
   },
   {
    "duration": 0,
    "start_time": "2025-01-24T15:56:02.313Z"
   },
   {
    "duration": 0,
    "start_time": "2025-01-24T15:56:02.313Z"
   },
   {
    "duration": 0,
    "start_time": "2025-01-24T15:56:02.315Z"
   },
   {
    "duration": 0,
    "start_time": "2025-01-24T15:56:02.315Z"
   },
   {
    "duration": 0,
    "start_time": "2025-01-24T15:56:02.317Z"
   },
   {
    "duration": 0,
    "start_time": "2025-01-24T15:56:02.318Z"
   },
   {
    "duration": 0,
    "start_time": "2025-01-24T15:56:02.319Z"
   },
   {
    "duration": 0,
    "start_time": "2025-01-24T15:56:02.320Z"
   },
   {
    "duration": 0,
    "start_time": "2025-01-24T15:56:02.321Z"
   },
   {
    "duration": 0,
    "start_time": "2025-01-24T15:56:02.322Z"
   },
   {
    "duration": 0,
    "start_time": "2025-01-24T15:56:02.322Z"
   },
   {
    "duration": 952,
    "start_time": "2025-01-24T15:56:44.813Z"
   },
   {
    "duration": 1939,
    "start_time": "2025-01-24T15:57:26.725Z"
   },
   {
    "duration": 2368,
    "start_time": "2025-01-24T15:57:48.488Z"
   },
   {
    "duration": 126,
    "start_time": "2025-01-24T15:58:04.947Z"
   },
   {
    "duration": 2034,
    "start_time": "2025-01-24T15:58:12.247Z"
   },
   {
    "duration": 1603,
    "start_time": "2025-01-24T15:58:29.421Z"
   },
   {
    "duration": 24,
    "start_time": "2025-01-24T15:58:31.026Z"
   },
   {
    "duration": 20,
    "start_time": "2025-01-24T15:58:31.052Z"
   },
   {
    "duration": 5,
    "start_time": "2025-01-24T15:58:31.074Z"
   },
   {
    "duration": 20,
    "start_time": "2025-01-24T15:58:31.080Z"
   },
   {
    "duration": 33,
    "start_time": "2025-01-24T15:58:31.102Z"
   },
   {
    "duration": 72,
    "start_time": "2025-01-24T15:58:31.137Z"
   },
   {
    "duration": 21,
    "start_time": "2025-01-24T15:58:31.211Z"
   },
   {
    "duration": 1984,
    "start_time": "2025-01-24T15:58:31.234Z"
   },
   {
    "duration": 920,
    "start_time": "2025-01-24T15:58:33.221Z"
   },
   {
    "duration": 1558,
    "start_time": "2025-01-24T15:58:34.142Z"
   },
   {
    "duration": 4,
    "start_time": "2025-01-24T15:58:35.702Z"
   },
   {
    "duration": 25,
    "start_time": "2025-01-24T15:58:35.708Z"
   },
   {
    "duration": 19,
    "start_time": "2025-01-24T15:58:35.735Z"
   },
   {
    "duration": 154,
    "start_time": "2025-01-24T15:58:35.756Z"
   },
   {
    "duration": 580,
    "start_time": "2025-01-24T15:58:35.912Z"
   },
   {
    "duration": 5,
    "start_time": "2025-01-24T15:58:36.494Z"
   },
   {
    "duration": 129,
    "start_time": "2025-01-24T15:58:36.500Z"
   },
   {
    "duration": 0,
    "start_time": "2025-01-24T15:58:36.631Z"
   },
   {
    "duration": 0,
    "start_time": "2025-01-24T15:58:36.632Z"
   },
   {
    "duration": 0,
    "start_time": "2025-01-24T15:58:36.633Z"
   },
   {
    "duration": 0,
    "start_time": "2025-01-24T15:58:36.635Z"
   },
   {
    "duration": 0,
    "start_time": "2025-01-24T15:58:36.636Z"
   },
   {
    "duration": 0,
    "start_time": "2025-01-24T15:58:36.637Z"
   },
   {
    "duration": 0,
    "start_time": "2025-01-24T15:58:36.638Z"
   },
   {
    "duration": 0,
    "start_time": "2025-01-24T15:58:36.639Z"
   },
   {
    "duration": 0,
    "start_time": "2025-01-24T15:58:36.640Z"
   },
   {
    "duration": 0,
    "start_time": "2025-01-24T15:58:36.641Z"
   },
   {
    "duration": 0,
    "start_time": "2025-01-24T15:58:36.642Z"
   },
   {
    "duration": 0,
    "start_time": "2025-01-24T15:58:36.643Z"
   },
   {
    "duration": 1585,
    "start_time": "2025-01-25T16:12:58.876Z"
   },
   {
    "duration": 68,
    "start_time": "2025-01-25T16:13:00.463Z"
   },
   {
    "duration": 16,
    "start_time": "2025-01-25T16:13:00.532Z"
   },
   {
    "duration": 24,
    "start_time": "2025-01-25T16:13:00.550Z"
   },
   {
    "duration": 15,
    "start_time": "2025-01-25T16:13:00.575Z"
   },
   {
    "duration": 33,
    "start_time": "2025-01-25T16:13:00.591Z"
   },
   {
    "duration": 62,
    "start_time": "2025-01-25T16:13:00.625Z"
   },
   {
    "duration": 28,
    "start_time": "2025-01-25T16:13:00.688Z"
   },
   {
    "duration": 1847,
    "start_time": "2025-01-25T16:13:00.718Z"
   },
   {
    "duration": 857,
    "start_time": "2025-01-25T16:13:02.570Z"
   },
   {
    "duration": 1514,
    "start_time": "2025-01-25T16:13:03.429Z"
   },
   {
    "duration": 4,
    "start_time": "2025-01-25T16:13:04.945Z"
   },
   {
    "duration": 24,
    "start_time": "2025-01-25T16:13:04.950Z"
   },
   {
    "duration": 34,
    "start_time": "2025-01-25T16:13:04.975Z"
   },
   {
    "duration": 166,
    "start_time": "2025-01-25T16:13:05.010Z"
   },
   {
    "duration": 582,
    "start_time": "2025-01-25T16:13:05.178Z"
   },
   {
    "duration": 8,
    "start_time": "2025-01-25T16:13:05.763Z"
   },
   {
    "duration": 232,
    "start_time": "2025-01-25T16:13:05.774Z"
   },
   {
    "duration": 0,
    "start_time": "2025-01-25T16:13:06.009Z"
   },
   {
    "duration": 0,
    "start_time": "2025-01-25T16:13:06.010Z"
   },
   {
    "duration": 0,
    "start_time": "2025-01-25T16:13:06.011Z"
   },
   {
    "duration": 0,
    "start_time": "2025-01-25T16:13:06.013Z"
   },
   {
    "duration": 0,
    "start_time": "2025-01-25T16:13:06.015Z"
   },
   {
    "duration": 0,
    "start_time": "2025-01-25T16:13:06.016Z"
   },
   {
    "duration": 0,
    "start_time": "2025-01-25T16:13:06.018Z"
   },
   {
    "duration": 0,
    "start_time": "2025-01-25T16:13:06.019Z"
   },
   {
    "duration": 0,
    "start_time": "2025-01-25T16:13:06.021Z"
   },
   {
    "duration": 0,
    "start_time": "2025-01-25T16:13:06.022Z"
   },
   {
    "duration": 0,
    "start_time": "2025-01-25T16:13:06.024Z"
   },
   {
    "duration": 0,
    "start_time": "2025-01-25T16:13:06.025Z"
   },
   {
    "duration": 947,
    "start_time": "2025-01-25T16:16:50.456Z"
   },
   {
    "duration": 9,
    "start_time": "2025-01-25T16:20:00.355Z"
   },
   {
    "duration": 82,
    "start_time": "2025-01-25T16:20:03.642Z"
   },
   {
    "duration": 13,
    "start_time": "2025-01-25T16:20:08.420Z"
   },
   {
    "duration": 9,
    "start_time": "2025-01-25T16:20:13.423Z"
   },
   {
    "duration": 3,
    "start_time": "2025-01-25T16:20:41.501Z"
   },
   {
    "duration": 7,
    "start_time": "2025-01-25T16:20:43.237Z"
   },
   {
    "duration": 6,
    "start_time": "2025-01-25T16:20:43.744Z"
   },
   {
    "duration": 3,
    "start_time": "2025-01-25T16:54:50.794Z"
   },
   {
    "duration": 9,
    "start_time": "2025-01-25T16:54:52.195Z"
   },
   {
    "duration": 4,
    "start_time": "2025-01-25T16:54:56.982Z"
   },
   {
    "duration": 9,
    "start_time": "2025-01-25T16:54:58.165Z"
   },
   {
    "duration": 3,
    "start_time": "2025-01-25T16:59:36.233Z"
   },
   {
    "duration": 8,
    "start_time": "2025-01-25T16:59:36.995Z"
   },
   {
    "duration": 102,
    "start_time": "2025-01-25T16:59:58.193Z"
   },
   {
    "duration": 348,
    "start_time": "2025-01-25T17:14:15.723Z"
   },
   {
    "duration": 465,
    "start_time": "2025-01-25T17:14:16.075Z"
   },
   {
    "duration": 4,
    "start_time": "2025-01-25T17:14:17.008Z"
   },
   {
    "duration": 9,
    "start_time": "2025-01-25T17:14:18.246Z"
   },
   {
    "duration": 9,
    "start_time": "2025-01-25T17:14:18.826Z"
   },
   {
    "duration": 97,
    "start_time": "2025-01-25T17:14:45.506Z"
   },
   {
    "duration": 4,
    "start_time": "2025-01-25T17:14:50.946Z"
   },
   {
    "duration": 7,
    "start_time": "2025-01-25T17:14:52.037Z"
   },
   {
    "duration": 7,
    "start_time": "2025-01-25T17:14:52.442Z"
   },
   {
    "duration": 1539,
    "start_time": "2025-01-25T17:15:25.380Z"
   },
   {
    "duration": 23,
    "start_time": "2025-01-25T17:15:26.921Z"
   },
   {
    "duration": 15,
    "start_time": "2025-01-25T17:15:26.946Z"
   },
   {
    "duration": 5,
    "start_time": "2025-01-25T17:15:26.963Z"
   },
   {
    "duration": 3,
    "start_time": "2025-01-25T17:15:26.970Z"
   },
   {
    "duration": 18,
    "start_time": "2025-01-25T17:15:26.975Z"
   },
   {
    "duration": 47,
    "start_time": "2025-01-25T17:15:26.995Z"
   },
   {
    "duration": 41,
    "start_time": "2025-01-25T17:15:27.044Z"
   },
   {
    "duration": 1950,
    "start_time": "2025-01-25T17:15:27.087Z"
   },
   {
    "duration": 888,
    "start_time": "2025-01-25T17:15:29.040Z"
   },
   {
    "duration": 1553,
    "start_time": "2025-01-25T17:15:29.930Z"
   },
   {
    "duration": 4,
    "start_time": "2025-01-25T17:15:31.484Z"
   },
   {
    "duration": 41,
    "start_time": "2025-01-25T17:15:31.490Z"
   },
   {
    "duration": 23,
    "start_time": "2025-01-25T17:15:31.533Z"
   },
   {
    "duration": 118,
    "start_time": "2025-01-25T17:15:31.558Z"
   },
   {
    "duration": 559,
    "start_time": "2025-01-25T17:15:31.678Z"
   },
   {
    "duration": 3,
    "start_time": "2025-01-25T17:15:32.239Z"
   },
   {
    "duration": 24,
    "start_time": "2025-01-25T17:15:32.244Z"
   },
   {
    "duration": 33,
    "start_time": "2025-01-25T17:15:32.269Z"
   },
   {
    "duration": 39,
    "start_time": "2025-01-25T17:15:32.303Z"
   },
   {
    "duration": 105,
    "start_time": "2025-01-25T17:15:32.344Z"
   },
   {
    "duration": 609,
    "start_time": "2025-01-25T17:15:32.451Z"
   },
   {
    "duration": 113566,
    "start_time": "2025-01-25T17:15:33.062Z"
   },
   {
    "duration": 1441,
    "start_time": "2025-01-25T17:17:26.630Z"
   },
   {
    "duration": 89,
    "start_time": "2025-01-25T17:17:28.083Z"
   },
   {
    "duration": 108,
    "start_time": "2025-01-25T17:17:28.173Z"
   },
   {
    "duration": 5,
    "start_time": "2025-01-25T17:17:28.283Z"
   },
   {
    "duration": 1291,
    "start_time": "2025-01-25T17:17:28.291Z"
   },
   {
    "duration": 1193,
    "start_time": "2025-01-25T17:17:29.583Z"
   },
   {
    "duration": 13,
    "start_time": "2025-01-25T17:17:30.778Z"
   },
   {
    "duration": 1459,
    "start_time": "2025-01-25T17:19:24.152Z"
   },
   {
    "duration": 23,
    "start_time": "2025-01-25T17:19:25.612Z"
   },
   {
    "duration": 15,
    "start_time": "2025-01-25T17:19:25.636Z"
   },
   {
    "duration": 4,
    "start_time": "2025-01-25T17:19:25.653Z"
   },
   {
    "duration": 5,
    "start_time": "2025-01-25T17:19:25.659Z"
   },
   {
    "duration": 13,
    "start_time": "2025-01-25T17:19:25.666Z"
   },
   {
    "duration": 55,
    "start_time": "2025-01-25T17:19:25.680Z"
   },
   {
    "duration": 46,
    "start_time": "2025-01-25T17:19:25.738Z"
   },
   {
    "duration": 1846,
    "start_time": "2025-01-25T17:19:25.786Z"
   },
   {
    "duration": 813,
    "start_time": "2025-01-25T17:19:27.634Z"
   },
   {
    "duration": 1517,
    "start_time": "2025-01-25T17:19:28.450Z"
   },
   {
    "duration": 5,
    "start_time": "2025-01-25T17:19:29.968Z"
   },
   {
    "duration": 8,
    "start_time": "2025-01-25T17:19:29.974Z"
   },
   {
    "duration": 23,
    "start_time": "2025-01-25T17:19:29.984Z"
   },
   {
    "duration": 170,
    "start_time": "2025-01-25T17:19:30.008Z"
   },
   {
    "duration": 558,
    "start_time": "2025-01-25T17:19:30.180Z"
   },
   {
    "duration": 4,
    "start_time": "2025-01-25T17:19:30.740Z"
   },
   {
    "duration": 20,
    "start_time": "2025-01-25T17:19:30.745Z"
   },
   {
    "duration": 15,
    "start_time": "2025-01-25T17:19:30.767Z"
   },
   {
    "duration": 16,
    "start_time": "2025-01-25T17:19:30.784Z"
   },
   {
    "duration": 27,
    "start_time": "2025-01-25T17:19:30.802Z"
   },
   {
    "duration": 611,
    "start_time": "2025-01-25T17:19:30.831Z"
   },
   {
    "duration": 113117,
    "start_time": "2025-01-25T17:19:31.444Z"
   },
   {
    "duration": 1500,
    "start_time": "2025-01-25T17:21:24.570Z"
   },
   {
    "duration": 4,
    "start_time": "2025-01-25T17:21:26.072Z"
   },
   {
    "duration": 79,
    "start_time": "2025-01-25T17:21:26.077Z"
   },
   {
    "duration": 17,
    "start_time": "2025-01-25T17:21:26.157Z"
   },
   {
    "duration": 1308,
    "start_time": "2025-01-25T17:21:26.175Z"
   },
   {
    "duration": 1157,
    "start_time": "2025-01-25T17:21:27.485Z"
   },
   {
    "duration": 12,
    "start_time": "2025-01-25T17:21:28.644Z"
   },
   {
    "duration": 4056,
    "start_time": "2025-01-25T18:02:26.646Z"
   },
   {
    "duration": 68,
    "start_time": "2025-01-25T18:02:30.704Z"
   },
   {
    "duration": 19,
    "start_time": "2025-01-25T18:02:30.774Z"
   },
   {
    "duration": 5,
    "start_time": "2025-01-25T18:02:30.795Z"
   },
   {
    "duration": 5,
    "start_time": "2025-01-25T18:02:30.803Z"
   },
   {
    "duration": 20,
    "start_time": "2025-01-25T18:02:30.810Z"
   },
   {
    "duration": 80,
    "start_time": "2025-01-25T18:02:30.831Z"
   },
   {
    "duration": 23,
    "start_time": "2025-01-25T18:02:30.913Z"
   },
   {
    "duration": 2194,
    "start_time": "2025-01-25T18:02:30.938Z"
   },
   {
    "duration": 932,
    "start_time": "2025-01-25T18:02:33.135Z"
   },
   {
    "duration": 1689,
    "start_time": "2025-01-25T18:02:34.069Z"
   },
   {
    "duration": 5,
    "start_time": "2025-01-25T18:02:35.760Z"
   },
   {
    "duration": 31,
    "start_time": "2025-01-25T18:02:35.767Z"
   },
   {
    "duration": 26,
    "start_time": "2025-01-25T18:02:35.803Z"
   },
   {
    "duration": 278,
    "start_time": "2025-01-25T18:02:35.832Z"
   },
   {
    "duration": 545,
    "start_time": "2025-01-25T18:02:36.186Z"
   },
   {
    "duration": 3,
    "start_time": "2025-01-25T18:02:36.733Z"
   },
   {
    "duration": 12,
    "start_time": "2025-01-25T18:03:01.697Z"
   },
   {
    "duration": 1455,
    "start_time": "2025-04-09T18:36:23.061Z"
   },
   {
    "duration": 34,
    "start_time": "2025-04-09T18:36:24.517Z"
   },
   {
    "duration": 15,
    "start_time": "2025-04-09T18:36:24.552Z"
   },
   {
    "duration": 4,
    "start_time": "2025-04-09T18:36:24.568Z"
   },
   {
    "duration": 13,
    "start_time": "2025-04-09T18:36:24.574Z"
   },
   {
    "duration": 16,
    "start_time": "2025-04-09T18:36:24.588Z"
   },
   {
    "duration": 45,
    "start_time": "2025-04-09T18:36:24.605Z"
   },
   {
    "duration": 26,
    "start_time": "2025-04-09T18:36:24.651Z"
   },
   {
    "duration": 1800,
    "start_time": "2025-04-09T18:36:24.678Z"
   },
   {
    "duration": 790,
    "start_time": "2025-04-09T18:36:26.480Z"
   },
   {
    "duration": 1360,
    "start_time": "2025-04-09T18:36:27.276Z"
   },
   {
    "duration": 3,
    "start_time": "2025-04-09T18:36:28.638Z"
   },
   {
    "duration": 9,
    "start_time": "2025-04-09T18:36:28.643Z"
   },
   {
    "duration": 24,
    "start_time": "2025-04-09T18:36:28.655Z"
   },
   {
    "duration": 106,
    "start_time": "2025-04-09T18:36:28.680Z"
   },
   {
    "duration": 455,
    "start_time": "2025-04-09T18:36:28.878Z"
   },
   {
    "duration": 3,
    "start_time": "2025-04-09T18:36:29.335Z"
   },
   {
    "duration": 17,
    "start_time": "2025-04-09T18:36:29.340Z"
   },
   {
    "duration": 124,
    "start_time": "2025-04-09T18:36:29.359Z"
   },
   {
    "duration": 0,
    "start_time": "2025-04-09T18:36:29.484Z"
   },
   {
    "duration": 0,
    "start_time": "2025-04-09T18:36:29.485Z"
   },
   {
    "duration": 1,
    "start_time": "2025-04-09T18:36:29.486Z"
   },
   {
    "duration": 0,
    "start_time": "2025-04-09T18:36:29.487Z"
   },
   {
    "duration": 0,
    "start_time": "2025-04-09T18:36:29.489Z"
   },
   {
    "duration": 0,
    "start_time": "2025-04-09T18:36:29.490Z"
   },
   {
    "duration": 0,
    "start_time": "2025-04-09T18:36:29.491Z"
   },
   {
    "duration": 0,
    "start_time": "2025-04-09T18:36:29.492Z"
   },
   {
    "duration": 0,
    "start_time": "2025-04-09T18:36:29.493Z"
   },
   {
    "duration": 0,
    "start_time": "2025-04-09T18:36:29.494Z"
   },
   {
    "duration": 0,
    "start_time": "2025-04-09T18:36:29.495Z"
   },
   {
    "duration": 0,
    "start_time": "2025-04-09T18:36:29.496Z"
   }
  ],
  "kernelspec": {
   "display_name": "Python 3 (ipykernel)",
   "language": "python",
   "name": "python3"
  },
  "language_info": {
   "codemirror_mode": {
    "name": "ipython",
    "version": 3
   },
   "file_extension": ".py",
   "mimetype": "text/x-python",
   "name": "python",
   "nbconvert_exporter": "python",
   "pygments_lexer": "ipython3",
   "version": "3.9.5"
  },
  "toc": {
   "base_numbering": 1,
   "nav_menu": {},
   "number_sections": true,
   "sideBar": true,
   "skip_h1_title": true,
   "title_cell": "Table of Contents",
   "title_sidebar": "Contents",
   "toc_cell": false,
   "toc_position": {},
   "toc_section_display": true,
   "toc_window_display": false
  }
 },
 "nbformat": 4,
 "nbformat_minor": 2
}
