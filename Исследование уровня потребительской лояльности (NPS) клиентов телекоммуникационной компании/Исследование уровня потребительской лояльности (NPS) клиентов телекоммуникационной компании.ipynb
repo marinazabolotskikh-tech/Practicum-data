{
 "cells": [
  {
   "cell_type": "markdown",
   "id": "306f4362",
   "metadata": {},
   "source": [
    "# Исследование уровня потребительской лояльности (NPS) клиентов телекоммуникационной компании"
   ]
  },
  {
   "cell_type": "markdown",
   "id": "0f68ce50",
   "metadata": {},
   "source": [
    "Заказчик этого исследования — большая телекоммуникационная компания, которая оказывает услуги на территории всего СНГ. Перед компанией стоит задача определить текущий уровень потребительской лояльности, или NPS (от англ. Net Promoter Score), среди клиентов из России. \n",
    "\n",
    "Чтобы определить уровень лояльности, клиентам задавали классический вопрос: «Оцените по шкале от 1 до 10 вероятность того, что вы порекомендуете компанию друзьям и знакомым».\n",
    "\n",
    "Компания провела опрос и попросила подготовить дашборд с его итогами. Большую базу данных для такой задачи разворачивать не стали и выгрузили данные в SQLite. \n",
    "\n",
    "Чтобы оценить результаты опроса, оценки обычно делят на три группы:\n",
    "- 9-10 баллов — «cторонники» (англ. promoters);\n",
    "- 7-8 баллов — «нейтралы» (англ. passives);\n",
    "- 0-6 баллов — «критики» (англ. detractors).\n",
    "\n",
    "Итоговое значение NPS рассчитывается по формуле: % «сторонников» - % «критиков»."
   ]
  },
  {
   "cell_type": "code",
   "execution_count": 1,
   "id": "1a47d572",
   "metadata": {},
   "outputs": [],
   "source": [
    "import os\n",
    "import pandas as pd\n",
    "import numpy as np\n",
    "\n",
    "from sqlalchemy import create_engine"
   ]
  },
  {
   "cell_type": "code",
   "execution_count": 2,
   "id": "0017f8e7",
   "metadata": {},
   "outputs": [],
   "source": [
    "path_to_db_local = 'telecomm_csi.db'\n",
    "path_to_db_platform = '/datasets/telecomm_csi.db'\n",
    "path_to_db = None\n",
    "\n",
    "if os.path.exists(path_to_db_local):\n",
    "    path_to_db = path_to_db_local\n",
    "elif os.path.exists(path_to_db_platform):\n",
    "    path_to_db = path_to_db_platform\n",
    "else:\n",
    "    raise Exception('Файл с базой данных SQLite не найден!')\n",
    "\n",
    "if path_to_db:\n",
    "    engine = create_engine(f'sqlite:///{path_to_db}', echo=False)"
   ]
  },
  {
   "cell_type": "code",
   "execution_count": 3,
   "id": "8e389196",
   "metadata": {},
   "outputs": [],
   "source": [
    "#Формирование SQL-запроса для выгрузки данных\n",
    "query = \"\"\"\n",
    "SELECT u.user_id,\n",
    "       u.lt_day, \n",
    "       CASE WHEN u.lt_day <= 365 THEN 'новый'\n",
    "            WHEN u.lt_day > 365 THEN 'старый' END AS is_new,\n",
    "       u.age, \n",
    "       CASE WHEN u.gender_segment = 1 THEN 'женщина'\n",
    "            WHEN u.gender_segment = 0 THEN 'мужчина' ELSE 'неопределенный' END AS gender_segment,\n",
    "       u.os_name, \n",
    "       u.cpe_type_name, \n",
    "       l.country, \n",
    "       CASE WHEN l.city = 'НабережныеЧелны' THEN 'Набережные Челны'\n",
    "            WHEN l.city = 'СанктПетербург' THEN 'Санкт-Петербург'\n",
    "            WHEN l.city = 'СанктПетербург' THEN 'Санкт-Петербург'\n",
    "            WHEN l.city = 'НижнийНовгород' THEN 'Нижний Новгород'\n",
    "            WHEN l.city = 'РостовнаДону' THEN 'Ростов-на-Дону'\n",
    "            WHEN l.city = 'НижнийТагил' THEN 'Нижний Тагил'\n",
    "            WHEN l.city = 'УланУдэ' THEN 'Улан-Удэ'    ELSE l.city END AS city,\n",
    "       SUBSTRING(ast.title, 4) AS age_segment,\n",
    "       SUBSTRING(ts.title, 4) AS traffic_segment,\n",
    "       SUBSTRING(ls.title, 4) AS lifetime_segment,\n",
    "       u.nps_score, \n",
    "       CASE WHEN u.nps_score BETWEEN 9 AND 10 THEN 'сторонники'\n",
    "            WHEN u.nps_score BETWEEN 7 AND 8 THEN 'нейтралы'\n",
    "            WHEN u.nps_score BETWEEN 0 AND 6 THEN 'критики'\n",
    "            ELSE NULL END AS nps_group\n",
    "            \n",
    "FROM user             AS u\n",
    "JOIN location         AS l  ON l.location_id = u.location_id\n",
    "JOIN age_segment      AS ast ON ast.age_gr_id = u.age_gr_id\n",
    "JOIN traffic_segment  AS ts ON ts.tr_gr_id = u.tr_gr_id\n",
    "JOIN lifetime_segment AS ls ON ls.lt_gr_id = u.lt_gr_id\n",
    "\"\"\""
   ]
  },
  {
   "cell_type": "code",
   "execution_count": 4,
   "id": "3965faf2",
   "metadata": {
    "scrolled": true
   },
   "outputs": [
    {
     "data": {
      "text/html": [
       "<div>\n",
       "<style scoped>\n",
       "    .dataframe tbody tr th:only-of-type {\n",
       "        vertical-align: middle;\n",
       "    }\n",
       "\n",
       "    .dataframe tbody tr th {\n",
       "        vertical-align: top;\n",
       "    }\n",
       "\n",
       "    .dataframe thead th {\n",
       "        text-align: right;\n",
       "    }\n",
       "</style>\n",
       "<table border=\"1\" class=\"dataframe\">\n",
       "  <thead>\n",
       "    <tr style=\"text-align: right;\">\n",
       "      <th></th>\n",
       "      <th>user_id</th>\n",
       "      <th>lt_day</th>\n",
       "      <th>is_new</th>\n",
       "      <th>age</th>\n",
       "      <th>gender_segment</th>\n",
       "      <th>os_name</th>\n",
       "      <th>cpe_type_name</th>\n",
       "      <th>country</th>\n",
       "      <th>city</th>\n",
       "      <th>age_segment</th>\n",
       "      <th>traffic_segment</th>\n",
       "      <th>lifetime_segment</th>\n",
       "      <th>nps_score</th>\n",
       "      <th>nps_group</th>\n",
       "    </tr>\n",
       "  </thead>\n",
       "  <tbody>\n",
       "    <tr>\n",
       "      <th>0</th>\n",
       "      <td>A001A2</td>\n",
       "      <td>2320</td>\n",
       "      <td>старый</td>\n",
       "      <td>45.0</td>\n",
       "      <td>женщина</td>\n",
       "      <td>ANDROID</td>\n",
       "      <td>SMARTPHONE</td>\n",
       "      <td>Россия</td>\n",
       "      <td>Уфа</td>\n",
       "      <td>45-54</td>\n",
       "      <td>1-5</td>\n",
       "      <td>36+</td>\n",
       "      <td>10</td>\n",
       "      <td>сторонники</td>\n",
       "    </tr>\n",
       "    <tr>\n",
       "      <th>1</th>\n",
       "      <td>A001WF</td>\n",
       "      <td>2344</td>\n",
       "      <td>старый</td>\n",
       "      <td>53.0</td>\n",
       "      <td>мужчина</td>\n",
       "      <td>ANDROID</td>\n",
       "      <td>SMARTPHONE</td>\n",
       "      <td>Россия</td>\n",
       "      <td>Киров</td>\n",
       "      <td>45-54</td>\n",
       "      <td>1-5</td>\n",
       "      <td>36+</td>\n",
       "      <td>10</td>\n",
       "      <td>сторонники</td>\n",
       "    </tr>\n",
       "    <tr>\n",
       "      <th>2</th>\n",
       "      <td>A003Q7</td>\n",
       "      <td>467</td>\n",
       "      <td>старый</td>\n",
       "      <td>57.0</td>\n",
       "      <td>мужчина</td>\n",
       "      <td>ANDROID</td>\n",
       "      <td>SMARTPHONE</td>\n",
       "      <td>Россия</td>\n",
       "      <td>Москва</td>\n",
       "      <td>55-64</td>\n",
       "      <td>20-25</td>\n",
       "      <td>13-24</td>\n",
       "      <td>10</td>\n",
       "      <td>сторонники</td>\n",
       "    </tr>\n",
       "    <tr>\n",
       "      <th>3</th>\n",
       "      <td>A004TB</td>\n",
       "      <td>4190</td>\n",
       "      <td>старый</td>\n",
       "      <td>44.0</td>\n",
       "      <td>женщина</td>\n",
       "      <td>IOS</td>\n",
       "      <td>SMARTPHONE</td>\n",
       "      <td>Россия</td>\n",
       "      <td>Ростов-на-Дону</td>\n",
       "      <td>35-44</td>\n",
       "      <td>0.1-1</td>\n",
       "      <td>36+</td>\n",
       "      <td>10</td>\n",
       "      <td>сторонники</td>\n",
       "    </tr>\n",
       "    <tr>\n",
       "      <th>4</th>\n",
       "      <td>A004XT</td>\n",
       "      <td>1163</td>\n",
       "      <td>старый</td>\n",
       "      <td>24.0</td>\n",
       "      <td>мужчина</td>\n",
       "      <td>ANDROID</td>\n",
       "      <td>SMARTPHONE</td>\n",
       "      <td>Россия</td>\n",
       "      <td>Рязань</td>\n",
       "      <td>16-24</td>\n",
       "      <td>5-10</td>\n",
       "      <td>36+</td>\n",
       "      <td>10</td>\n",
       "      <td>сторонники</td>\n",
       "    </tr>\n",
       "  </tbody>\n",
       "</table>\n",
       "</div>"
      ],
      "text/plain": [
       "  user_id  lt_day  is_new   age gender_segment  os_name cpe_type_name country  \\\n",
       "0  A001A2    2320  старый  45.0        женщина  ANDROID    SMARTPHONE  Россия   \n",
       "1  A001WF    2344  старый  53.0        мужчина  ANDROID    SMARTPHONE  Россия   \n",
       "2  A003Q7     467  старый  57.0        мужчина  ANDROID    SMARTPHONE  Россия   \n",
       "3  A004TB    4190  старый  44.0        женщина      IOS    SMARTPHONE  Россия   \n",
       "4  A004XT    1163  старый  24.0        мужчина  ANDROID    SMARTPHONE  Россия   \n",
       "\n",
       "             city age_segment traffic_segment lifetime_segment  nps_score  \\\n",
       "0             Уфа       45-54             1-5              36+         10   \n",
       "1           Киров       45-54             1-5              36+         10   \n",
       "2          Москва       55-64           20-25            13-24         10   \n",
       "3  Ростов-на-Дону       35-44           0.1-1              36+         10   \n",
       "4          Рязань       16-24            5-10              36+         10   \n",
       "\n",
       "    nps_group  \n",
       "0  сторонники  \n",
       "1  сторонники  \n",
       "2  сторонники  \n",
       "3  сторонники  \n",
       "4  сторонники  "
      ]
     },
     "execution_count": 4,
     "metadata": {},
     "output_type": "execute_result"
    }
   ],
   "source": [
    "try:\n",
    "       df = pd.read_sql(query, engine)\n",
    "except Exception as e:\n",
    "       print(f\"Ошибка при выполнении SQL-запроса: {e}\")\n",
    "\n",
    "df.head(5)"
   ]
  },
  {
   "cell_type": "code",
   "execution_count": 5,
   "id": "058a1ce2",
   "metadata": {},
   "outputs": [
    {
     "data": {
      "text/plain": [
       "array([10,  6,  9,  2,  5,  8,  1,  4,  7,  3])"
      ]
     },
     "execution_count": 5,
     "metadata": {},
     "output_type": "execute_result"
    }
   ],
   "source": [
    "#Проверка, что значения в nps_score находятся в диапазоне от 1 до 10\n",
    "df['nps_score'].unique()"
   ]
  },
  {
   "cell_type": "code",
   "execution_count": 6,
   "id": "069a4a63",
   "metadata": {},
   "outputs": [
    {
     "data": {
      "text/plain": [
       "array(['Уфа', 'Киров', 'Москва', 'Ростов-на-Дону', 'Рязань', 'Омск',\n",
       "       'Санкт-Петербург', 'Волгоград', 'Тольятти', 'Казань', 'Самара',\n",
       "       'Красноярск', 'Екатеринбург', 'Калуга', 'Краснодар', 'Иркутск',\n",
       "       'Пермь', 'Владимир', 'Ижевск', 'Тюмень', 'Оренбург',\n",
       "       'Нижний Новгород', 'Брянск', 'Челябинск', 'Астрахань', 'Сургут',\n",
       "       'Тверь', 'Новосибирск', 'Набережные Челны', 'Махачкала', 'Воронеж',\n",
       "       'Курск', 'Владивосток', 'Балашиха', 'Пенза', 'Калининград', 'Тула',\n",
       "       'Саратов', 'Кемерово', 'Белгород', 'Барнаул', 'Чебоксары',\n",
       "       'Архангельск', 'Томск', 'Ярославль', 'Ульяновск', 'Хабаровск',\n",
       "       'Грозный', 'Ставрополь', 'Липецк', 'Новокузнецк', 'Якутск',\n",
       "       'Улан-Удэ', 'Сочи', 'Иваново', 'Нижний Тагил', 'Смоленск',\n",
       "       'Волжский', 'Магнитогорск', 'Чита', 'Череповец', 'Саранск'],\n",
       "      dtype=object)"
      ]
     },
     "execution_count": 6,
     "metadata": {},
     "output_type": "execute_result"
    }
   ],
   "source": [
    "#Проверка, что в поле city отсутствуют неявные дубликаты\n",
    "df['city'].unique()"
   ]
  },
  {
   "cell_type": "code",
   "execution_count": 7,
   "id": "bd9b6064",
   "metadata": {},
   "outputs": [
    {
     "data": {
      "text/plain": [
       "array(['45-54', '55-64', '35-44', '16-24', '25-34', '66 +', 'до 16',\n",
       "       'n/a'], dtype=object)"
      ]
     },
     "execution_count": 7,
     "metadata": {},
     "output_type": "execute_result"
    }
   ],
   "source": [
    "#Проверка, что в поле age_segment нет отрицательных значений\n",
    "df['age_segment'].unique()"
   ]
  },
  {
   "cell_type": "code",
   "execution_count": 8,
   "id": "deefd9ce",
   "metadata": {},
   "outputs": [
    {
     "data": {
      "text/plain": [
       "array([45., 53., 57., 44., 24., 42., 35., 36., 54., 39., 21., 27., 60.,\n",
       "       34., 47., 37., 43., 33., 31., 25., 51., 28., 41., 40., 46., 48.,\n",
       "       32., 30., 52., 59., 26., 50., 62., 29., 55., 22., 38., 56., 23.,\n",
       "       49., 66., 74., 75., 17., 65., 64., 69., 58., 20., 19., 80., 70.,\n",
       "       81., 63., 67., 68., 72., 15., 79., 18., 73., nan, 14., 71., 61.,\n",
       "       16., 77., 13., 76., 10., 78., 12., 82., 11., 83., 89., 84., 85.,\n",
       "       87., 86.])"
      ]
     },
     "execution_count": 8,
     "metadata": {},
     "output_type": "execute_result"
    }
   ],
   "source": [
    "#Проверка, что в поле age нет отрицательных значений\n",
    "df['age'].unique()"
   ]
  },
  {
   "cell_type": "code",
   "execution_count": 9,
   "id": "9db04858",
   "metadata": {},
   "outputs": [],
   "source": [
    "df.to_csv('telecomm_csi_tableau.csv', index=False)"
   ]
  },
  {
   "cell_type": "markdown",
   "id": "a438022d",
   "metadata": {},
   "source": [
    "# Ссылка на дашборд в Tableau: "
   ]
  },
  {
   "cell_type": "markdown",
   "id": "e1e36751",
   "metadata": {},
   "source": [
    "https://public.tableau.com/app/profile/marina.zabolotskikh/viz/NPS_17248507154540/NPS_7?publish=yes"
   ]
  }
 ],
 "metadata": {
  "ExecuteTimeLog": [
   {
    "duration": 527,
    "start_time": "2024-08-26T07:23:20.896Z"
   },
   {
    "duration": 72,
    "start_time": "2024-08-26T07:23:21.425Z"
   },
   {
    "duration": 4,
    "start_time": "2024-08-26T07:23:21.499Z"
   },
   {
    "duration": 515,
    "start_time": "2024-08-26T07:23:21.505Z"
   },
   {
    "duration": 0,
    "start_time": "2024-08-26T07:23:22.021Z"
   },
   {
    "duration": 603,
    "start_time": "2024-08-26T07:25:39.744Z"
   },
   {
    "duration": 78,
    "start_time": "2024-08-26T07:25:40.350Z"
   },
   {
    "duration": 3,
    "start_time": "2024-08-26T07:25:40.429Z"
   },
   {
    "duration": 434,
    "start_time": "2024-08-26T07:25:40.433Z"
   },
   {
    "duration": 0,
    "start_time": "2024-08-26T07:25:40.870Z"
   },
   {
    "duration": 548,
    "start_time": "2024-08-26T07:25:56.610Z"
   },
   {
    "duration": 65,
    "start_time": "2024-08-26T07:25:57.160Z"
   },
   {
    "duration": 3,
    "start_time": "2024-08-26T07:25:57.227Z"
   },
   {
    "duration": 2083,
    "start_time": "2024-08-26T07:25:57.231Z"
   },
   {
    "duration": 1043,
    "start_time": "2024-08-26T07:25:59.315Z"
   },
   {
    "duration": 4,
    "start_time": "2024-08-26T07:26:12.446Z"
   },
   {
    "duration": 455,
    "start_time": "2024-08-26T07:26:14.712Z"
   },
   {
    "duration": 3,
    "start_time": "2024-08-26T07:28:56.113Z"
   },
   {
    "duration": 366,
    "start_time": "2024-08-26T07:28:57.037Z"
   },
   {
    "duration": 4,
    "start_time": "2024-08-26T07:29:13.229Z"
   },
   {
    "duration": 302,
    "start_time": "2024-08-26T07:29:30.331Z"
   },
   {
    "duration": 561,
    "start_time": "2024-08-26T07:31:16.748Z"
   },
   {
    "duration": 235,
    "start_time": "2024-08-26T07:31:17.310Z"
   },
   {
    "duration": 4,
    "start_time": "2024-08-26T07:31:17.547Z"
   },
   {
    "duration": 346,
    "start_time": "2024-08-26T07:31:17.552Z"
   },
   {
    "duration": 0,
    "start_time": "2024-08-26T07:31:17.899Z"
   },
   {
    "duration": 4,
    "start_time": "2024-08-26T07:33:44.386Z"
   },
   {
    "duration": 298,
    "start_time": "2024-08-26T07:33:46.772Z"
   },
   {
    "duration": 3,
    "start_time": "2024-08-26T07:34:20.895Z"
   },
   {
    "duration": 565,
    "start_time": "2024-08-26T07:34:21.117Z"
   },
   {
    "duration": 4,
    "start_time": "2024-08-26T07:35:31.445Z"
   },
   {
    "duration": 301,
    "start_time": "2024-08-26T07:35:31.627Z"
   },
   {
    "duration": 573,
    "start_time": "2024-08-26T07:36:15.309Z"
   },
   {
    "duration": 304,
    "start_time": "2024-08-26T07:36:15.885Z"
   },
   {
    "duration": 4,
    "start_time": "2024-08-26T07:36:16.191Z"
   },
   {
    "duration": 384,
    "start_time": "2024-08-26T07:36:16.197Z"
   },
   {
    "duration": 0,
    "start_time": "2024-08-26T07:36:16.583Z"
   },
   {
    "duration": 3,
    "start_time": "2024-08-26T07:36:55.908Z"
   },
   {
    "duration": 301,
    "start_time": "2024-08-26T07:36:57.661Z"
   },
   {
    "duration": 4,
    "start_time": "2024-08-26T07:37:54.191Z"
   },
   {
    "duration": 6115,
    "start_time": "2024-08-26T07:37:54.601Z"
   },
   {
    "duration": 3,
    "start_time": "2024-08-26T07:40:30.733Z"
   },
   {
    "duration": 573,
    "start_time": "2024-08-26T07:40:31.290Z"
   },
   {
    "duration": 583,
    "start_time": "2024-08-26T07:41:07.023Z"
   },
   {
    "duration": 3,
    "start_time": "2024-08-26T07:47:45.805Z"
   },
   {
    "duration": 3691,
    "start_time": "2024-08-26T07:47:46.024Z"
   },
   {
    "duration": 2,
    "start_time": "2024-08-26T07:48:12.006Z"
   },
   {
    "duration": 571,
    "start_time": "2024-08-26T07:48:12.385Z"
   },
   {
    "duration": 3,
    "start_time": "2024-08-26T07:48:20.576Z"
   },
   {
    "duration": 569,
    "start_time": "2024-08-26T07:48:20.773Z"
   },
   {
    "duration": 570,
    "start_time": "2024-08-26T07:48:40.702Z"
   },
   {
    "duration": 576,
    "start_time": "2024-08-26T07:49:12.258Z"
   },
   {
    "duration": 576,
    "start_time": "2024-08-26T07:49:20.479Z"
   },
   {
    "duration": 569,
    "start_time": "2024-08-26T07:49:22.777Z"
   },
   {
    "duration": 572,
    "start_time": "2024-08-26T07:49:26.379Z"
   },
   {
    "duration": 572,
    "start_time": "2024-08-26T07:49:32.607Z"
   },
   {
    "duration": 578,
    "start_time": "2024-08-26T07:49:45.100Z"
   },
   {
    "duration": 3,
    "start_time": "2024-08-26T07:50:05.662Z"
   },
   {
    "duration": 569,
    "start_time": "2024-08-26T07:50:06.121Z"
   },
   {
    "duration": 572,
    "start_time": "2024-08-26T07:51:34.344Z"
   },
   {
    "duration": 574,
    "start_time": "2024-08-26T07:52:07.996Z"
   },
   {
    "duration": 3,
    "start_time": "2024-08-26T07:52:38.371Z"
   },
   {
    "duration": 572,
    "start_time": "2024-08-26T07:52:38.787Z"
   },
   {
    "duration": 3,
    "start_time": "2024-08-26T07:53:20.177Z"
   },
   {
    "duration": 5964,
    "start_time": "2024-08-26T07:53:25.213Z"
   },
   {
    "duration": 3,
    "start_time": "2024-08-26T08:01:43.529Z"
   },
   {
    "duration": 310,
    "start_time": "2024-08-26T08:01:44.459Z"
   },
   {
    "duration": 4,
    "start_time": "2024-08-26T08:02:00.523Z"
   },
   {
    "duration": 308,
    "start_time": "2024-08-26T08:02:02.116Z"
   },
   {
    "duration": 3,
    "start_time": "2024-08-26T08:02:39.570Z"
   },
   {
    "duration": 5797,
    "start_time": "2024-08-26T08:02:40.135Z"
   },
   {
    "duration": 4,
    "start_time": "2024-08-26T08:03:27.616Z"
   },
   {
    "duration": 5733,
    "start_time": "2024-08-26T08:03:28.083Z"
   },
   {
    "duration": 5243,
    "start_time": "2024-08-26T08:03:44.489Z"
   },
   {
    "duration": 534,
    "start_time": "2024-08-26T08:04:02.103Z"
   },
   {
    "duration": 170,
    "start_time": "2024-08-26T08:04:02.638Z"
   },
   {
    "duration": 3,
    "start_time": "2024-08-26T08:04:02.810Z"
   },
   {
    "duration": 5938,
    "start_time": "2024-08-26T08:04:02.814Z"
   },
   {
    "duration": 5355,
    "start_time": "2024-08-26T08:04:08.754Z"
   },
   {
    "duration": 3,
    "start_time": "2024-08-26T09:26:35.292Z"
   },
   {
    "duration": 576,
    "start_time": "2024-08-26T09:26:40.498Z"
   },
   {
    "duration": 3,
    "start_time": "2024-08-26T09:28:23.163Z"
   },
   {
    "duration": 565,
    "start_time": "2024-08-26T09:28:25.986Z"
   },
   {
    "duration": 570,
    "start_time": "2024-08-26T09:28:30.254Z"
   },
   {
    "duration": 3,
    "start_time": "2024-08-26T09:29:01.723Z"
   },
   {
    "duration": 5843,
    "start_time": "2024-08-26T09:29:02.544Z"
   },
   {
    "duration": 3,
    "start_time": "2024-08-26T10:04:21.494Z"
   },
   {
    "duration": 5744,
    "start_time": "2024-08-26T10:04:21.938Z"
   },
   {
    "duration": 5867,
    "start_time": "2024-08-26T10:04:34.443Z"
   },
   {
    "duration": 558,
    "start_time": "2024-08-26T10:04:49.431Z"
   },
   {
    "duration": 66,
    "start_time": "2024-08-26T10:04:49.991Z"
   },
   {
    "duration": 3,
    "start_time": "2024-08-26T10:04:50.059Z"
   },
   {
    "duration": 6070,
    "start_time": "2024-08-26T10:04:50.064Z"
   },
   {
    "duration": 4659,
    "start_time": "2024-08-26T10:04:56.137Z"
   },
   {
    "duration": 48,
    "start_time": "2024-08-28T12:53:33.365Z"
   },
   {
    "duration": 543,
    "start_time": "2024-08-28T12:53:39.772Z"
   },
   {
    "duration": 95,
    "start_time": "2024-08-28T12:53:40.317Z"
   },
   {
    "duration": 4,
    "start_time": "2024-08-28T12:53:40.414Z"
   },
   {
    "duration": 6331,
    "start_time": "2024-08-28T12:53:40.420Z"
   },
   {
    "duration": 4324,
    "start_time": "2024-08-28T12:53:46.753Z"
   },
   {
    "duration": 550,
    "start_time": "2024-08-28T13:25:44.428Z"
   },
   {
    "duration": 11,
    "start_time": "2024-08-28T13:25:44.980Z"
   },
   {
    "duration": 37,
    "start_time": "2024-08-28T13:25:44.993Z"
   },
   {
    "duration": 6658,
    "start_time": "2024-08-28T13:25:45.032Z"
   },
   {
    "duration": 4820,
    "start_time": "2024-08-28T13:25:51.692Z"
   },
   {
    "duration": 777,
    "start_time": "2024-08-28T14:31:55.842Z"
   },
   {
    "duration": 680,
    "start_time": "2024-08-28T14:43:44.989Z"
   },
   {
    "duration": 11,
    "start_time": "2024-08-28T14:43:45.671Z"
   },
   {
    "duration": 32,
    "start_time": "2024-08-28T14:43:45.684Z"
   },
   {
    "duration": 7614,
    "start_time": "2024-08-28T14:43:45.720Z"
   },
   {
    "duration": 6142,
    "start_time": "2024-08-28T14:43:53.338Z"
   },
   {
    "duration": 66,
    "start_time": "2024-08-29T08:03:30.789Z"
   },
   {
    "duration": 59,
    "start_time": "2024-08-29T08:03:34.089Z"
   },
   {
    "duration": 62,
    "start_time": "2024-08-29T08:03:37.541Z"
   },
   {
    "duration": 4,
    "start_time": "2024-08-29T08:04:17.209Z"
   },
   {
    "duration": 40,
    "start_time": "2024-08-29T08:05:17.697Z"
   },
   {
    "duration": 494,
    "start_time": "2024-08-29T08:05:24.589Z"
   },
   {
    "duration": 68,
    "start_time": "2024-08-29T08:05:25.084Z"
   },
   {
    "duration": 4,
    "start_time": "2024-08-29T08:05:25.153Z"
   },
   {
    "duration": 5899,
    "start_time": "2024-08-29T08:05:25.159Z"
   },
   {
    "duration": 9,
    "start_time": "2024-08-29T08:05:31.059Z"
   },
   {
    "duration": 4101,
    "start_time": "2024-08-29T08:05:31.069Z"
   },
   {
    "duration": 6,
    "start_time": "2024-08-29T08:05:57.793Z"
   },
   {
    "duration": 6,
    "start_time": "2024-08-29T08:06:47.833Z"
   },
   {
    "duration": 66,
    "start_time": "2024-08-29T08:06:51.376Z"
   },
   {
    "duration": 6,
    "start_time": "2024-08-29T08:06:53.007Z"
   },
   {
    "duration": 6,
    "start_time": "2024-08-29T08:06:57.220Z"
   },
   {
    "duration": 116,
    "start_time": "2024-08-29T08:08:02.596Z"
   },
   {
    "duration": 90,
    "start_time": "2024-08-29T08:08:05.676Z"
   },
   {
    "duration": 6,
    "start_time": "2024-08-29T08:08:08.796Z"
   },
   {
    "duration": 94,
    "start_time": "2024-08-29T08:08:09.312Z"
   },
   {
    "duration": 62,
    "start_time": "2024-08-29T08:08:43.437Z"
   },
   {
    "duration": 90,
    "start_time": "2024-08-29T08:08:51.765Z"
   },
   {
    "duration": 94,
    "start_time": "2024-08-29T08:09:01.497Z"
   },
   {
    "duration": 8,
    "start_time": "2024-08-29T08:09:07.010Z"
   },
   {
    "duration": 88,
    "start_time": "2024-08-29T08:09:16.098Z"
   },
   {
    "duration": 87,
    "start_time": "2024-08-29T08:09:21.497Z"
   },
   {
    "duration": 9,
    "start_time": "2024-08-29T08:09:45.385Z"
   },
   {
    "duration": 98,
    "start_time": "2024-08-29T08:10:12.374Z"
   },
   {
    "duration": 96,
    "start_time": "2024-08-29T08:10:19.410Z"
   },
   {
    "duration": 91,
    "start_time": "2024-08-29T08:10:39.463Z"
   },
   {
    "duration": 92,
    "start_time": "2024-08-29T08:10:39.888Z"
   },
   {
    "duration": 477,
    "start_time": "2024-08-29T08:13:25.246Z"
   },
   {
    "duration": 55,
    "start_time": "2024-08-29T08:13:25.725Z"
   },
   {
    "duration": 3,
    "start_time": "2024-08-29T08:13:25.784Z"
   },
   {
    "duration": 5584,
    "start_time": "2024-08-29T08:13:25.788Z"
   },
   {
    "duration": 18,
    "start_time": "2024-08-29T08:13:31.373Z"
   },
   {
    "duration": 116,
    "start_time": "2024-08-29T08:13:31.392Z"
   },
   {
    "duration": 95,
    "start_time": "2024-08-29T08:13:31.510Z"
   },
   {
    "duration": 8,
    "start_time": "2024-08-29T08:13:31.607Z"
   },
   {
    "duration": 4329,
    "start_time": "2024-08-29T08:13:31.617Z"
   },
   {
    "duration": 1100,
    "start_time": "2024-08-29T08:24:21.913Z"
   },
   {
    "duration": 117,
    "start_time": "2024-08-29T08:24:29.189Z"
   },
   {
    "duration": 7,
    "start_time": "2024-08-29T08:27:17.247Z"
   },
   {
    "duration": 61,
    "start_time": "2024-08-29T09:14:24.510Z"
   },
   {
    "duration": 542,
    "start_time": "2024-08-29T12:11:52.224Z"
   },
   {
    "duration": 12,
    "start_time": "2024-08-29T12:11:52.768Z"
   },
   {
    "duration": 7,
    "start_time": "2024-08-29T12:11:52.782Z"
   },
   {
    "duration": 7856,
    "start_time": "2024-08-29T12:11:52.791Z"
   },
   {
    "duration": 6,
    "start_time": "2024-08-29T12:12:00.649Z"
   },
   {
    "duration": 127,
    "start_time": "2024-08-29T12:12:00.657Z"
   },
   {
    "duration": 96,
    "start_time": "2024-08-29T12:12:00.786Z"
   },
   {
    "duration": 36,
    "start_time": "2024-08-29T12:12:00.883Z"
   },
   {
    "duration": 4564,
    "start_time": "2024-08-29T12:12:00.921Z"
   },
   {
    "duration": 546,
    "start_time": "2024-08-29T13:32:06.309Z"
   },
   {
    "duration": 11,
    "start_time": "2024-08-29T13:32:06.857Z"
   },
   {
    "duration": 18,
    "start_time": "2024-08-29T13:32:06.869Z"
   },
   {
    "duration": 5957,
    "start_time": "2024-08-29T13:32:06.889Z"
   },
   {
    "duration": 6,
    "start_time": "2024-08-29T13:32:12.848Z"
   },
   {
    "duration": 139,
    "start_time": "2024-08-29T13:32:12.856Z"
   },
   {
    "duration": 92,
    "start_time": "2024-08-29T13:32:12.997Z"
   },
   {
    "duration": 53,
    "start_time": "2024-08-29T13:32:13.091Z"
   },
   {
    "duration": 4348,
    "start_time": "2024-08-29T13:32:13.146Z"
   }
  ],
  "kernelspec": {
   "display_name": "Python 3 (ipykernel)",
   "language": "python",
   "name": "python3"
  },
  "language_info": {
   "codemirror_mode": {
    "name": "ipython",
    "version": 3
   },
   "file_extension": ".py",
   "mimetype": "text/x-python",
   "name": "python",
   "nbconvert_exporter": "python",
   "pygments_lexer": "ipython3",
   "version": "3.9.5"
  },
  "toc": {
   "base_numbering": 1,
   "nav_menu": {},
   "number_sections": true,
   "sideBar": true,
   "skip_h1_title": true,
   "title_cell": "Table of Contents",
   "title_sidebar": "Contents",
   "toc_cell": false,
   "toc_position": {},
   "toc_section_display": true,
   "toc_window_display": false
  }
 },
 "nbformat": 4,
 "nbformat_minor": 5
}
