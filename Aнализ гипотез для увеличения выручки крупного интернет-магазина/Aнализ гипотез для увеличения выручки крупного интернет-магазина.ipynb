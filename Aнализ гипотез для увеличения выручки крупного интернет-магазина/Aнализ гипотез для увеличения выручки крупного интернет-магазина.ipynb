{
 "cells": [
  {
   "cell_type": "markdown",
   "metadata": {},
   "source": [
    "# Aнализ гипотез для увеличения выручки крупного интернет-магазина"
   ]
  },
  {
   "cell_type": "markdown",
   "metadata": {},
   "source": [
    "Вместе с отделом маркетинга крупного интернет-магазина вы подготовили список гипотез для увеличения выручки.\n",
    "Приоритизируйте гипотезы, запустите A/B-тест и проанализируйте результаты. "
   ]
  },
  {
   "cell_type": "markdown",
   "metadata": {},
   "source": [
    "**Описание данных**\n",
    "\n",
    "В файле `/datasets/hypothesis.csv` 9 гипотез по увеличению выручки интернет-магазина с указанными параметрами Reach, Impact, Confidence, Effort.\n",
    "\n",
    "Файл `/datasets/hypothesis.csv`:\n",
    "- `Hypothesis` — краткое описание гипотезы;\n",
    "- `Reach` — охват пользователей по 10-балльной шкале;\n",
    "- `Impact` — влияние на пользователей по 10-балльной шкале;\n",
    "- `Confidence` — уверенность в гипотезе по 10-балльной шкале;\n",
    "- `Efforts` — затраты ресурсов на проверку гипотезы по 10-балльной шкале. Чем больше значение Efforts, тем дороже проверка гипотезы.\n",
    "\n",
    "В файлах `/datasets/orders.csv` и `/datasets/visitors.csv`результаты A/B-теста.\n",
    "\n",
    "Файл `/datasets/orders.csv`:\n",
    "- `transactionId` — идентификатор заказа;\n",
    "- `visitorId` — идентификатор пользователя, совершившего заказ;\n",
    "- `date` — дата, когда был совершён заказ;\n",
    "- `revenue` — выручка заказа;\n",
    "- `group` — группа A/B-теста, в которую попал заказ.\n",
    "\n",
    "Файл `/datasets/visitors.csv`:\n",
    "- `date` — дата;\n",
    "- `group` — группа A/B-теста;\n",
    "- `visitors` — количество пользователей в указанную дату в указанной группе A/B-теста"
   ]
  },
  {
   "cell_type": "markdown",
   "metadata": {},
   "source": [
    "## Изучение данных"
   ]
  },
  {
   "cell_type": "markdown",
   "metadata": {},
   "source": [
    "### 1.1 Загрузка данных"
   ]
  },
  {
   "cell_type": "code",
   "execution_count": 1,
   "metadata": {},
   "outputs": [],
   "source": [
    "import pandas as pd\n",
    "import matplotlib.pyplot as plt\n",
    "import datetime as dt\n",
    "import scipy.stats as stats\n",
    "import numpy as np\n",
    "\n",
    "pd.set_option('display.max_colwidth', None)"
   ]
  },
  {
   "cell_type": "code",
   "execution_count": 2,
   "metadata": {},
   "outputs": [],
   "source": [
    "hypothesis = pd.read_csv ('/datasets/hypothesis.csv')\n",
    "orders = pd.read_csv ('/datasets/orders.csv')\n",
    "visitors = pd.read_csv ('/datasets/visitors.csv')"
   ]
  },
  {
   "cell_type": "markdown",
   "metadata": {},
   "source": [
    "### 1.2 Информация о датафрейме hypothesis"
   ]
  },
  {
   "cell_type": "code",
   "execution_count": 3,
   "metadata": {
    "scrolled": true
   },
   "outputs": [
    {
     "data": {
      "text/html": [
       "<div>\n",
       "<style scoped>\n",
       "    .dataframe tbody tr th:only-of-type {\n",
       "        vertical-align: middle;\n",
       "    }\n",
       "\n",
       "    .dataframe tbody tr th {\n",
       "        vertical-align: top;\n",
       "    }\n",
       "\n",
       "    .dataframe thead th {\n",
       "        text-align: right;\n",
       "    }\n",
       "</style>\n",
       "<table border=\"1\" class=\"dataframe\">\n",
       "  <thead>\n",
       "    <tr style=\"text-align: right;\">\n",
       "      <th></th>\n",
       "      <th>Hypothesis</th>\n",
       "      <th>Reach</th>\n",
       "      <th>Impact</th>\n",
       "      <th>Confidence</th>\n",
       "      <th>Efforts</th>\n",
       "    </tr>\n",
       "  </thead>\n",
       "  <tbody>\n",
       "    <tr>\n",
       "      <th>0</th>\n",
       "      <td>Добавить два новых канала привлечения трафика, что позволит привлекать на 30% больше пользователей</td>\n",
       "      <td>3</td>\n",
       "      <td>10</td>\n",
       "      <td>8</td>\n",
       "      <td>6</td>\n",
       "    </tr>\n",
       "    <tr>\n",
       "      <th>1</th>\n",
       "      <td>Запустить собственную службу доставки, что сократит срок доставки заказов</td>\n",
       "      <td>2</td>\n",
       "      <td>5</td>\n",
       "      <td>4</td>\n",
       "      <td>10</td>\n",
       "    </tr>\n",
       "    <tr>\n",
       "      <th>2</th>\n",
       "      <td>Добавить блоки рекомендаций товаров на сайт интернет магазина, чтобы повысить конверсию и средний чек заказа</td>\n",
       "      <td>8</td>\n",
       "      <td>3</td>\n",
       "      <td>7</td>\n",
       "      <td>3</td>\n",
       "    </tr>\n",
       "    <tr>\n",
       "      <th>3</th>\n",
       "      <td>Изменить структура категорий, что увеличит конверсию, т.к. пользователи быстрее найдут нужный товар</td>\n",
       "      <td>8</td>\n",
       "      <td>3</td>\n",
       "      <td>3</td>\n",
       "      <td>8</td>\n",
       "    </tr>\n",
       "    <tr>\n",
       "      <th>4</th>\n",
       "      <td>Изменить цвет фона главной страницы, чтобы увеличить вовлеченность пользователей</td>\n",
       "      <td>3</td>\n",
       "      <td>1</td>\n",
       "      <td>1</td>\n",
       "      <td>1</td>\n",
       "    </tr>\n",
       "  </tbody>\n",
       "</table>\n",
       "</div>"
      ],
      "text/plain": [
       "                                                                                                     Hypothesis  \\\n",
       "0            Добавить два новых канала привлечения трафика, что позволит привлекать на 30% больше пользователей   \n",
       "1                                     Запустить собственную службу доставки, что сократит срок доставки заказов   \n",
       "2  Добавить блоки рекомендаций товаров на сайт интернет магазина, чтобы повысить конверсию и средний чек заказа   \n",
       "3           Изменить структура категорий, что увеличит конверсию, т.к. пользователи быстрее найдут нужный товар   \n",
       "4                              Изменить цвет фона главной страницы, чтобы увеличить вовлеченность пользователей   \n",
       "\n",
       "   Reach  Impact  Confidence  Efforts  \n",
       "0      3      10           8        6  \n",
       "1      2       5           4       10  \n",
       "2      8       3           7        3  \n",
       "3      8       3           3        8  \n",
       "4      3       1           1        1  "
      ]
     },
     "execution_count": 3,
     "metadata": {},
     "output_type": "execute_result"
    }
   ],
   "source": [
    "hypothesis.head()"
   ]
  },
  {
   "cell_type": "code",
   "execution_count": 4,
   "metadata": {},
   "outputs": [
    {
     "name": "stdout",
     "output_type": "stream",
     "text": [
      "<class 'pandas.core.frame.DataFrame'>\n",
      "RangeIndex: 9 entries, 0 to 8\n",
      "Data columns (total 5 columns):\n",
      " #   Column      Non-Null Count  Dtype \n",
      "---  ------      --------------  ----- \n",
      " 0   Hypothesis  9 non-null      object\n",
      " 1   Reach       9 non-null      int64 \n",
      " 2   Impact      9 non-null      int64 \n",
      " 3   Confidence  9 non-null      int64 \n",
      " 4   Efforts     9 non-null      int64 \n",
      "dtypes: int64(4), object(1)\n",
      "memory usage: 488.0+ bytes\n"
     ]
    }
   ],
   "source": [
    "hypothesis.info()"
   ]
  },
  {
   "cell_type": "markdown",
   "metadata": {},
   "source": [
    "Датафрейм hypothesis содержит 9 гипотез по увеличению выручки интернет-магазина с параметрами Reach, Impact, Confidence, Effort. Столбцы названы корректно, объем данных полный."
   ]
  },
  {
   "cell_type": "markdown",
   "metadata": {},
   "source": [
    "### 1.3 Информация о датафрейме orders"
   ]
  },
  {
   "cell_type": "code",
   "execution_count": 5,
   "metadata": {},
   "outputs": [
    {
     "data": {
      "text/html": [
       "<div>\n",
       "<style scoped>\n",
       "    .dataframe tbody tr th:only-of-type {\n",
       "        vertical-align: middle;\n",
       "    }\n",
       "\n",
       "    .dataframe tbody tr th {\n",
       "        vertical-align: top;\n",
       "    }\n",
       "\n",
       "    .dataframe thead th {\n",
       "        text-align: right;\n",
       "    }\n",
       "</style>\n",
       "<table border=\"1\" class=\"dataframe\">\n",
       "  <thead>\n",
       "    <tr style=\"text-align: right;\">\n",
       "      <th></th>\n",
       "      <th>transactionId</th>\n",
       "      <th>visitorId</th>\n",
       "      <th>date</th>\n",
       "      <th>revenue</th>\n",
       "      <th>group</th>\n",
       "    </tr>\n",
       "  </thead>\n",
       "  <tbody>\n",
       "    <tr>\n",
       "      <th>0</th>\n",
       "      <td>3667963787</td>\n",
       "      <td>3312258926</td>\n",
       "      <td>2019-08-15</td>\n",
       "      <td>1650</td>\n",
       "      <td>B</td>\n",
       "    </tr>\n",
       "    <tr>\n",
       "      <th>1</th>\n",
       "      <td>2804400009</td>\n",
       "      <td>3642806036</td>\n",
       "      <td>2019-08-15</td>\n",
       "      <td>730</td>\n",
       "      <td>B</td>\n",
       "    </tr>\n",
       "    <tr>\n",
       "      <th>2</th>\n",
       "      <td>2961555356</td>\n",
       "      <td>4069496402</td>\n",
       "      <td>2019-08-15</td>\n",
       "      <td>400</td>\n",
       "      <td>A</td>\n",
       "    </tr>\n",
       "    <tr>\n",
       "      <th>3</th>\n",
       "      <td>3797467345</td>\n",
       "      <td>1196621759</td>\n",
       "      <td>2019-08-15</td>\n",
       "      <td>9759</td>\n",
       "      <td>B</td>\n",
       "    </tr>\n",
       "    <tr>\n",
       "      <th>4</th>\n",
       "      <td>2282983706</td>\n",
       "      <td>2322279887</td>\n",
       "      <td>2019-08-15</td>\n",
       "      <td>2308</td>\n",
       "      <td>B</td>\n",
       "    </tr>\n",
       "  </tbody>\n",
       "</table>\n",
       "</div>"
      ],
      "text/plain": [
       "   transactionId   visitorId        date  revenue group\n",
       "0     3667963787  3312258926  2019-08-15     1650     B\n",
       "1     2804400009  3642806036  2019-08-15      730     B\n",
       "2     2961555356  4069496402  2019-08-15      400     A\n",
       "3     3797467345  1196621759  2019-08-15     9759     B\n",
       "4     2282983706  2322279887  2019-08-15     2308     B"
      ]
     },
     "execution_count": 5,
     "metadata": {},
     "output_type": "execute_result"
    }
   ],
   "source": [
    "orders.head()"
   ]
  },
  {
   "cell_type": "code",
   "execution_count": 6,
   "metadata": {},
   "outputs": [
    {
     "name": "stdout",
     "output_type": "stream",
     "text": [
      "<class 'pandas.core.frame.DataFrame'>\n",
      "RangeIndex: 1197 entries, 0 to 1196\n",
      "Data columns (total 5 columns):\n",
      " #   Column         Non-Null Count  Dtype \n",
      "---  ------         --------------  ----- \n",
      " 0   transactionId  1197 non-null   int64 \n",
      " 1   visitorId      1197 non-null   int64 \n",
      " 2   date           1197 non-null   object\n",
      " 3   revenue        1197 non-null   int64 \n",
      " 4   group          1197 non-null   object\n",
      "dtypes: int64(3), object(2)\n",
      "memory usage: 46.9+ KB\n"
     ]
    }
   ],
   "source": [
    "orders.info()"
   ]
  },
  {
   "cell_type": "code",
   "execution_count": 7,
   "metadata": {},
   "outputs": [
    {
     "data": {
      "text/plain": [
       "transactionId    1197\n",
       "visitorId        1031\n",
       "date               31\n",
       "revenue           713\n",
       "group               2\n",
       "dtype: int64"
      ]
     },
     "execution_count": 7,
     "metadata": {},
     "output_type": "execute_result"
    }
   ],
   "source": [
    "orders.nunique()"
   ]
  },
  {
   "cell_type": "markdown",
   "metadata": {},
   "source": [
    "Датафрейм orders содержит 1197 строк с даннными о индификаторах заказа, пользователя, датой совершения заказа, выручкой и группой A/B теста. Столбцы названы корректно, объем данных полный. Необходимо привести формат даты object к типу даты pandas."
   ]
  },
  {
   "cell_type": "code",
   "execution_count": 8,
   "metadata": {},
   "outputs": [],
   "source": [
    "# приведение столбца date к типу даты pandas\n",
    "orders['date'] = pd.to_datetime(orders['date'], format='%Y-%m-%d')"
   ]
  },
  {
   "cell_type": "code",
   "execution_count": 9,
   "metadata": {},
   "outputs": [
    {
     "data": {
      "text/plain": [
       "58"
      ]
     },
     "execution_count": 9,
     "metadata": {},
     "output_type": "execute_result"
    }
   ],
   "source": [
    "#проверка попадания пользователей одновременно в две группы\n",
    "group_counts = orders.groupby('visitorId')['group'].nunique()\n",
    "users_in_both_groups = group_counts[group_counts > 1].count()\n",
    "users_in_both_groups"
   ]
  },
  {
   "cell_type": "code",
   "execution_count": 10,
   "metadata": {},
   "outputs": [
    {
     "data": {
      "text/plain": [
       "5.625606207565471"
      ]
     },
     "execution_count": 10,
     "metadata": {},
     "output_type": "execute_result"
    }
   ],
   "source": [
    "count = 58/1031\n",
    "count*100"
   ]
  },
  {
   "cell_type": "markdown",
   "metadata": {},
   "source": [
    "58 пользователей одновременно оказались в двух группах. Эти пользователи составляют 5,6% от всех пользователей. Исключим их из дальнейшего анализа."
   ]
  },
  {
   "cell_type": "code",
   "execution_count": 11,
   "metadata": {},
   "outputs": [],
   "source": [
    "users_in_both_groups = orders.groupby('visitorId')['group'].nunique()\n",
    "users_in_both_groups = users_in_both_groups[users_in_both_groups > 1].index.tolist()"
   ]
  },
  {
   "cell_type": "code",
   "execution_count": 12,
   "metadata": {},
   "outputs": [],
   "source": [
    "#исключение пользователей, которые оказались в обоих группах\n",
    "orders = orders.query('visitorId not in @users_in_both_groups')"
   ]
  },
  {
   "cell_type": "code",
   "execution_count": 13,
   "metadata": {},
   "outputs": [
    {
     "data": {
      "text/plain": [
       "transactionId    1016\n",
       "visitorId         973\n",
       "date               31\n",
       "revenue           631\n",
       "group               2\n",
       "dtype: int64"
      ]
     },
     "execution_count": 13,
     "metadata": {},
     "output_type": "execute_result"
    }
   ],
   "source": [
    "orders.nunique()"
   ]
  },
  {
   "cell_type": "markdown",
   "metadata": {},
   "source": [
    "Осталось 973 пользователя в разных группах."
   ]
  },
  {
   "cell_type": "markdown",
   "metadata": {},
   "source": [
    "### 1.4 Информация о датафрейме visitors"
   ]
  },
  {
   "cell_type": "code",
   "execution_count": 14,
   "metadata": {},
   "outputs": [
    {
     "data": {
      "text/html": [
       "<div>\n",
       "<style scoped>\n",
       "    .dataframe tbody tr th:only-of-type {\n",
       "        vertical-align: middle;\n",
       "    }\n",
       "\n",
       "    .dataframe tbody tr th {\n",
       "        vertical-align: top;\n",
       "    }\n",
       "\n",
       "    .dataframe thead th {\n",
       "        text-align: right;\n",
       "    }\n",
       "</style>\n",
       "<table border=\"1\" class=\"dataframe\">\n",
       "  <thead>\n",
       "    <tr style=\"text-align: right;\">\n",
       "      <th></th>\n",
       "      <th>date</th>\n",
       "      <th>group</th>\n",
       "      <th>visitors</th>\n",
       "    </tr>\n",
       "  </thead>\n",
       "  <tbody>\n",
       "    <tr>\n",
       "      <th>0</th>\n",
       "      <td>2019-08-01</td>\n",
       "      <td>A</td>\n",
       "      <td>719</td>\n",
       "    </tr>\n",
       "    <tr>\n",
       "      <th>1</th>\n",
       "      <td>2019-08-02</td>\n",
       "      <td>A</td>\n",
       "      <td>619</td>\n",
       "    </tr>\n",
       "    <tr>\n",
       "      <th>2</th>\n",
       "      <td>2019-08-03</td>\n",
       "      <td>A</td>\n",
       "      <td>507</td>\n",
       "    </tr>\n",
       "    <tr>\n",
       "      <th>3</th>\n",
       "      <td>2019-08-04</td>\n",
       "      <td>A</td>\n",
       "      <td>717</td>\n",
       "    </tr>\n",
       "    <tr>\n",
       "      <th>4</th>\n",
       "      <td>2019-08-05</td>\n",
       "      <td>A</td>\n",
       "      <td>756</td>\n",
       "    </tr>\n",
       "  </tbody>\n",
       "</table>\n",
       "</div>"
      ],
      "text/plain": [
       "         date group  visitors\n",
       "0  2019-08-01     A       719\n",
       "1  2019-08-02     A       619\n",
       "2  2019-08-03     A       507\n",
       "3  2019-08-04     A       717\n",
       "4  2019-08-05     A       756"
      ]
     },
     "execution_count": 14,
     "metadata": {},
     "output_type": "execute_result"
    }
   ],
   "source": [
    "visitors.head()"
   ]
  },
  {
   "cell_type": "code",
   "execution_count": 15,
   "metadata": {},
   "outputs": [
    {
     "name": "stdout",
     "output_type": "stream",
     "text": [
      "<class 'pandas.core.frame.DataFrame'>\n",
      "RangeIndex: 62 entries, 0 to 61\n",
      "Data columns (total 3 columns):\n",
      " #   Column    Non-Null Count  Dtype \n",
      "---  ------    --------------  ----- \n",
      " 0   date      62 non-null     object\n",
      " 1   group     62 non-null     object\n",
      " 2   visitors  62 non-null     int64 \n",
      "dtypes: int64(1), object(2)\n",
      "memory usage: 1.6+ KB\n"
     ]
    }
   ],
   "source": [
    "visitors.info()"
   ]
  },
  {
   "cell_type": "markdown",
   "metadata": {},
   "source": [
    "Датафрейм visitors содержит 62 строки с датой, группой A/B теста и кол-вом пользователей. Столбцы названы корректно, объем данных полный. Необходимо привести формат даты object к типу даты pandas. "
   ]
  },
  {
   "cell_type": "code",
   "execution_count": 16,
   "metadata": {},
   "outputs": [],
   "source": [
    "# приведение столбца date к типу даты pandas\n",
    "visitors['date'] = pd.to_datetime(visitors['date'], format='%Y-%m-%d')"
   ]
  },
  {
   "cell_type": "markdown",
   "metadata": {},
   "source": [
    "## 2 Приоритизация гипотез"
   ]
  },
  {
   "cell_type": "markdown",
   "metadata": {},
   "source": [
    "### 2.1 Фреймворк ICE для приоритизации гипотез по убыванию приоритета"
   ]
  },
  {
   "cell_type": "code",
   "execution_count": 17,
   "metadata": {},
   "outputs": [
    {
     "data": {
      "text/html": [
       "<div>\n",
       "<style scoped>\n",
       "    .dataframe tbody tr th:only-of-type {\n",
       "        vertical-align: middle;\n",
       "    }\n",
       "\n",
       "    .dataframe tbody tr th {\n",
       "        vertical-align: top;\n",
       "    }\n",
       "\n",
       "    .dataframe thead th {\n",
       "        text-align: right;\n",
       "    }\n",
       "</style>\n",
       "<table border=\"1\" class=\"dataframe\">\n",
       "  <thead>\n",
       "    <tr style=\"text-align: right;\">\n",
       "      <th></th>\n",
       "      <th>Hypothesis</th>\n",
       "      <th>ICE</th>\n",
       "    </tr>\n",
       "  </thead>\n",
       "  <tbody>\n",
       "    <tr>\n",
       "      <th>8</th>\n",
       "      <td>Запустить акцию, дающую скидку на товар в день рождения</td>\n",
       "      <td>16.200</td>\n",
       "    </tr>\n",
       "    <tr>\n",
       "      <th>0</th>\n",
       "      <td>Добавить два новых канала привлечения трафика, что позволит привлекать на 30% больше пользователей</td>\n",
       "      <td>13.333</td>\n",
       "    </tr>\n",
       "    <tr>\n",
       "      <th>7</th>\n",
       "      <td>Добавить форму подписки на все основные страницы, чтобы собрать базу клиентов для email-рассылок</td>\n",
       "      <td>11.200</td>\n",
       "    </tr>\n",
       "    <tr>\n",
       "      <th>6</th>\n",
       "      <td>Показать на главной странице баннеры с актуальными акциями и распродажами, чтобы увеличить конверсию</td>\n",
       "      <td>8.000</td>\n",
       "    </tr>\n",
       "    <tr>\n",
       "      <th>2</th>\n",
       "      <td>Добавить блоки рекомендаций товаров на сайт интернет магазина, чтобы повысить конверсию и средний чек заказа</td>\n",
       "      <td>7.000</td>\n",
       "    </tr>\n",
       "    <tr>\n",
       "      <th>1</th>\n",
       "      <td>Запустить собственную службу доставки, что сократит срок доставки заказов</td>\n",
       "      <td>2.000</td>\n",
       "    </tr>\n",
       "    <tr>\n",
       "      <th>5</th>\n",
       "      <td>Добавить страницу отзывов клиентов о магазине, что позволит увеличить количество заказов</td>\n",
       "      <td>1.333</td>\n",
       "    </tr>\n",
       "    <tr>\n",
       "      <th>3</th>\n",
       "      <td>Изменить структура категорий, что увеличит конверсию, т.к. пользователи быстрее найдут нужный товар</td>\n",
       "      <td>1.125</td>\n",
       "    </tr>\n",
       "    <tr>\n",
       "      <th>4</th>\n",
       "      <td>Изменить цвет фона главной страницы, чтобы увеличить вовлеченность пользователей</td>\n",
       "      <td>1.000</td>\n",
       "    </tr>\n",
       "  </tbody>\n",
       "</table>\n",
       "</div>"
      ],
      "text/plain": [
       "                                                                                                     Hypothesis  \\\n",
       "8                                                       Запустить акцию, дающую скидку на товар в день рождения   \n",
       "0            Добавить два новых канала привлечения трафика, что позволит привлекать на 30% больше пользователей   \n",
       "7              Добавить форму подписки на все основные страницы, чтобы собрать базу клиентов для email-рассылок   \n",
       "6          Показать на главной странице баннеры с актуальными акциями и распродажами, чтобы увеличить конверсию   \n",
       "2  Добавить блоки рекомендаций товаров на сайт интернет магазина, чтобы повысить конверсию и средний чек заказа   \n",
       "1                                     Запустить собственную службу доставки, что сократит срок доставки заказов   \n",
       "5                      Добавить страницу отзывов клиентов о магазине, что позволит увеличить количество заказов   \n",
       "3           Изменить структура категорий, что увеличит конверсию, т.к. пользователи быстрее найдут нужный товар   \n",
       "4                              Изменить цвет фона главной страницы, чтобы увеличить вовлеченность пользователей   \n",
       "\n",
       "      ICE  \n",
       "8  16.200  \n",
       "0  13.333  \n",
       "7  11.200  \n",
       "6   8.000  \n",
       "2   7.000  \n",
       "1   2.000  \n",
       "5   1.333  \n",
       "3   1.125  \n",
       "4   1.000  "
      ]
     },
     "execution_count": 17,
     "metadata": {},
     "output_type": "execute_result"
    }
   ],
   "source": [
    "hypothesis['ICE'] = (hypothesis['Impact'] * hypothesis['Confidence'])/hypothesis['Efforts']\n",
    "hypothesis[['Hypothesis','ICE']].sort_values(by='ICE', ascending=False).round(3)"
   ]
  },
  {
   "cell_type": "markdown",
   "metadata": {},
   "source": [
    "К перспективным гипотезам по ICE относятся:\n",
    "\n",
    "1. Запустить акцию, дающую скидку на товар в день рождения.\n",
    "\n",
    "2. Добавить два новых канала привлечения трафика, что позволит привлекать на 30% больше пользователей.\n",
    "\n",
    "3. Добавить форму подписки на все основные страницы, чтобы собрать базу клиентов для email-рассылок."
   ]
  },
  {
   "cell_type": "markdown",
   "metadata": {},
   "source": [
    "### 2.2 Фреймворк RICE для приоритизации гипотез по убыванию приоритета"
   ]
  },
  {
   "cell_type": "code",
   "execution_count": 18,
   "metadata": {
    "scrolled": true
   },
   "outputs": [
    {
     "data": {
      "text/html": [
       "<div>\n",
       "<style scoped>\n",
       "    .dataframe tbody tr th:only-of-type {\n",
       "        vertical-align: middle;\n",
       "    }\n",
       "\n",
       "    .dataframe tbody tr th {\n",
       "        vertical-align: top;\n",
       "    }\n",
       "\n",
       "    .dataframe thead th {\n",
       "        text-align: right;\n",
       "    }\n",
       "</style>\n",
       "<table border=\"1\" class=\"dataframe\">\n",
       "  <thead>\n",
       "    <tr style=\"text-align: right;\">\n",
       "      <th></th>\n",
       "      <th>Hypothesis</th>\n",
       "      <th>RICE</th>\n",
       "    </tr>\n",
       "  </thead>\n",
       "  <tbody>\n",
       "    <tr>\n",
       "      <th>7</th>\n",
       "      <td>Добавить форму подписки на все основные страницы, чтобы собрать базу клиентов для email-рассылок</td>\n",
       "      <td>112.0</td>\n",
       "    </tr>\n",
       "    <tr>\n",
       "      <th>2</th>\n",
       "      <td>Добавить блоки рекомендаций товаров на сайт интернет магазина, чтобы повысить конверсию и средний чек заказа</td>\n",
       "      <td>56.0</td>\n",
       "    </tr>\n",
       "    <tr>\n",
       "      <th>0</th>\n",
       "      <td>Добавить два новых канала привлечения трафика, что позволит привлекать на 30% больше пользователей</td>\n",
       "      <td>40.0</td>\n",
       "    </tr>\n",
       "    <tr>\n",
       "      <th>6</th>\n",
       "      <td>Показать на главной странице баннеры с актуальными акциями и распродажами, чтобы увеличить конверсию</td>\n",
       "      <td>40.0</td>\n",
       "    </tr>\n",
       "    <tr>\n",
       "      <th>8</th>\n",
       "      <td>Запустить акцию, дающую скидку на товар в день рождения</td>\n",
       "      <td>16.2</td>\n",
       "    </tr>\n",
       "    <tr>\n",
       "      <th>3</th>\n",
       "      <td>Изменить структура категорий, что увеличит конверсию, т.к. пользователи быстрее найдут нужный товар</td>\n",
       "      <td>9.0</td>\n",
       "    </tr>\n",
       "    <tr>\n",
       "      <th>1</th>\n",
       "      <td>Запустить собственную службу доставки, что сократит срок доставки заказов</td>\n",
       "      <td>4.0</td>\n",
       "    </tr>\n",
       "    <tr>\n",
       "      <th>5</th>\n",
       "      <td>Добавить страницу отзывов клиентов о магазине, что позволит увеличить количество заказов</td>\n",
       "      <td>4.0</td>\n",
       "    </tr>\n",
       "    <tr>\n",
       "      <th>4</th>\n",
       "      <td>Изменить цвет фона главной страницы, чтобы увеличить вовлеченность пользователей</td>\n",
       "      <td>3.0</td>\n",
       "    </tr>\n",
       "  </tbody>\n",
       "</table>\n",
       "</div>"
      ],
      "text/plain": [
       "                                                                                                     Hypothesis  \\\n",
       "7              Добавить форму подписки на все основные страницы, чтобы собрать базу клиентов для email-рассылок   \n",
       "2  Добавить блоки рекомендаций товаров на сайт интернет магазина, чтобы повысить конверсию и средний чек заказа   \n",
       "0            Добавить два новых канала привлечения трафика, что позволит привлекать на 30% больше пользователей   \n",
       "6          Показать на главной странице баннеры с актуальными акциями и распродажами, чтобы увеличить конверсию   \n",
       "8                                                       Запустить акцию, дающую скидку на товар в день рождения   \n",
       "3           Изменить структура категорий, что увеличит конверсию, т.к. пользователи быстрее найдут нужный товар   \n",
       "1                                     Запустить собственную службу доставки, что сократит срок доставки заказов   \n",
       "5                      Добавить страницу отзывов клиентов о магазине, что позволит увеличить количество заказов   \n",
       "4                              Изменить цвет фона главной страницы, чтобы увеличить вовлеченность пользователей   \n",
       "\n",
       "    RICE  \n",
       "7  112.0  \n",
       "2   56.0  \n",
       "0   40.0  \n",
       "6   40.0  \n",
       "8   16.2  \n",
       "3    9.0  \n",
       "1    4.0  \n",
       "5    4.0  \n",
       "4    3.0  "
      ]
     },
     "execution_count": 18,
     "metadata": {},
     "output_type": "execute_result"
    }
   ],
   "source": [
    "hypothesis['RICE'] = (hypothesis['Reach'] * hypothesis['Impact'] * hypothesis['Confidence'])/hypothesis['Efforts']\n",
    "hypothesis[['Hypothesis','RICE']].sort_values(by='RICE', ascending=False)"
   ]
  },
  {
   "cell_type": "markdown",
   "metadata": {},
   "source": [
    "К перспективным гипотезам по RICE относятся:\n",
    "\n",
    "1. Добавить форму подписки на все основные страницы, чтобы собрать базу клиентов для email-рассылок.\n",
    "\n",
    "2. Добавить блоки рекомендаций товаров на сайт интернет магазина, чтобы повысить конверсию и средний чек заказа.\n",
    "\n",
    "3. Добавить два новых канала привлечения трафика, что позволит привлекать на 30% больше пользователей."
   ]
  },
  {
   "cell_type": "markdown",
   "metadata": {},
   "source": [
    "ICE и RICE распределили приоритетность гипотез в разных последовательностях за счет того, что в расчете ICE используются 3 компонента - влияние, уверенность, усилия. А в RICE добавляется 4-ый компонент - охват. "
   ]
  },
  {
   "cell_type": "markdown",
   "metadata": {},
   "source": [
    "## 3 Анализ A/B-теста"
   ]
  },
  {
   "cell_type": "markdown",
   "metadata": {},
   "source": [
    "### 3.1 Построение графика кумулятивной выручки по группам"
   ]
  },
  {
   "cell_type": "code",
   "execution_count": 19,
   "metadata": {},
   "outputs": [],
   "source": [
    "# создаем массив уникальных пар значений дат и групп теста\n",
    "datesGroups = orders[['date','group']].drop_duplicates()"
   ]
  },
  {
   "cell_type": "code",
   "execution_count": 20,
   "metadata": {},
   "outputs": [],
   "source": [
    "# получаем агрегированные кумулятивные по дням данные о заказах \n",
    "ordersAggregated = datesGroups.apply(\n",
    "    lambda x: orders[\n",
    "        np.logical_and(\n",
    "            orders['date'] <= x['date'], orders['group'] == x['group']\n",
    "        )\n",
    "    ].agg(\n",
    "        {\n",
    "            'date' : 'max', \n",
    "             'group' : 'max', \n",
    "             'transactionId' : 'nunique', \n",
    "             'visitorId' : 'nunique', \n",
    "             'revenue' : 'sum'\n",
    "        }\n",
    "    ),\n",
    "    axis=1\n",
    ").sort_values(by=['date','group'])"
   ]
  },
  {
   "cell_type": "code",
   "execution_count": 21,
   "metadata": {},
   "outputs": [],
   "source": [
    "# получаем агрегированные кумулятивные по дням данные о посетителях интернет-магазина\n",
    "visitorsAggregated = datesGroups.apply(\n",
    "    lambda x: visitors[\n",
    "        np.logical_and(\n",
    "            visitors['date'] <= x['date'], visitors['group'] == x['group'])\n",
    "    ].agg({'date' : 'max', 'group' : 'max', 'visitors' : 'sum'}), \n",
    "    axis=1).sort_values(by=['date','group'])"
   ]
  },
  {
   "cell_type": "code",
   "execution_count": 22,
   "metadata": {},
   "outputs": [
    {
     "data": {
      "text/html": [
       "<div>\n",
       "<style scoped>\n",
       "    .dataframe tbody tr th:only-of-type {\n",
       "        vertical-align: middle;\n",
       "    }\n",
       "\n",
       "    .dataframe tbody tr th {\n",
       "        vertical-align: top;\n",
       "    }\n",
       "\n",
       "    .dataframe thead th {\n",
       "        text-align: right;\n",
       "    }\n",
       "</style>\n",
       "<table border=\"1\" class=\"dataframe\">\n",
       "  <thead>\n",
       "    <tr style=\"text-align: right;\">\n",
       "      <th></th>\n",
       "      <th>date</th>\n",
       "      <th>group</th>\n",
       "      <th>transactionId</th>\n",
       "      <th>visitorId</th>\n",
       "      <th>revenue</th>\n",
       "    </tr>\n",
       "  </thead>\n",
       "  <tbody>\n",
       "    <tr>\n",
       "      <th>55</th>\n",
       "      <td>2019-08-01</td>\n",
       "      <td>A</td>\n",
       "      <td>23</td>\n",
       "      <td>19</td>\n",
       "      <td>142779</td>\n",
       "    </tr>\n",
       "    <tr>\n",
       "      <th>66</th>\n",
       "      <td>2019-08-01</td>\n",
       "      <td>B</td>\n",
       "      <td>17</td>\n",
       "      <td>17</td>\n",
       "      <td>59758</td>\n",
       "    </tr>\n",
       "    <tr>\n",
       "      <th>175</th>\n",
       "      <td>2019-08-02</td>\n",
       "      <td>A</td>\n",
       "      <td>42</td>\n",
       "      <td>36</td>\n",
       "      <td>234381</td>\n",
       "    </tr>\n",
       "    <tr>\n",
       "      <th>173</th>\n",
       "      <td>2019-08-02</td>\n",
       "      <td>B</td>\n",
       "      <td>40</td>\n",
       "      <td>39</td>\n",
       "      <td>221801</td>\n",
       "    </tr>\n",
       "    <tr>\n",
       "      <th>291</th>\n",
       "      <td>2019-08-03</td>\n",
       "      <td>A</td>\n",
       "      <td>66</td>\n",
       "      <td>60</td>\n",
       "      <td>346854</td>\n",
       "    </tr>\n",
       "  </tbody>\n",
       "</table>\n",
       "</div>"
      ],
      "text/plain": [
       "          date group  transactionId  visitorId  revenue\n",
       "55  2019-08-01     A             23         19   142779\n",
       "66  2019-08-01     B             17         17    59758\n",
       "175 2019-08-02     A             42         36   234381\n",
       "173 2019-08-02     B             40         39   221801\n",
       "291 2019-08-03     A             66         60   346854"
      ]
     },
     "execution_count": 22,
     "metadata": {},
     "output_type": "execute_result"
    }
   ],
   "source": [
    "ordersAggregated.head()"
   ]
  },
  {
   "cell_type": "code",
   "execution_count": 23,
   "metadata": {},
   "outputs": [
    {
     "data": {
      "text/html": [
       "<div>\n",
       "<style scoped>\n",
       "    .dataframe tbody tr th:only-of-type {\n",
       "        vertical-align: middle;\n",
       "    }\n",
       "\n",
       "    .dataframe tbody tr th {\n",
       "        vertical-align: top;\n",
       "    }\n",
       "\n",
       "    .dataframe thead th {\n",
       "        text-align: right;\n",
       "    }\n",
       "</style>\n",
       "<table border=\"1\" class=\"dataframe\">\n",
       "  <thead>\n",
       "    <tr style=\"text-align: right;\">\n",
       "      <th></th>\n",
       "      <th>date</th>\n",
       "      <th>group</th>\n",
       "      <th>visitors</th>\n",
       "    </tr>\n",
       "  </thead>\n",
       "  <tbody>\n",
       "    <tr>\n",
       "      <th>55</th>\n",
       "      <td>2019-08-01</td>\n",
       "      <td>A</td>\n",
       "      <td>719</td>\n",
       "    </tr>\n",
       "    <tr>\n",
       "      <th>66</th>\n",
       "      <td>2019-08-01</td>\n",
       "      <td>B</td>\n",
       "      <td>713</td>\n",
       "    </tr>\n",
       "    <tr>\n",
       "      <th>175</th>\n",
       "      <td>2019-08-02</td>\n",
       "      <td>A</td>\n",
       "      <td>1338</td>\n",
       "    </tr>\n",
       "    <tr>\n",
       "      <th>173</th>\n",
       "      <td>2019-08-02</td>\n",
       "      <td>B</td>\n",
       "      <td>1294</td>\n",
       "    </tr>\n",
       "    <tr>\n",
       "      <th>291</th>\n",
       "      <td>2019-08-03</td>\n",
       "      <td>A</td>\n",
       "      <td>1845</td>\n",
       "    </tr>\n",
       "  </tbody>\n",
       "</table>\n",
       "</div>"
      ],
      "text/plain": [
       "          date group  visitors\n",
       "55  2019-08-01     A       719\n",
       "66  2019-08-01     B       713\n",
       "175 2019-08-02     A      1338\n",
       "173 2019-08-02     B      1294\n",
       "291 2019-08-03     A      1845"
      ]
     },
     "execution_count": 23,
     "metadata": {},
     "output_type": "execute_result"
    }
   ],
   "source": [
    "visitorsAggregated.head()"
   ]
  },
  {
   "cell_type": "code",
   "execution_count": 24,
   "metadata": {},
   "outputs": [
    {
     "data": {
      "text/html": [
       "<div>\n",
       "<style scoped>\n",
       "    .dataframe tbody tr th:only-of-type {\n",
       "        vertical-align: middle;\n",
       "    }\n",
       "\n",
       "    .dataframe tbody tr th {\n",
       "        vertical-align: top;\n",
       "    }\n",
       "\n",
       "    .dataframe thead th {\n",
       "        text-align: right;\n",
       "    }\n",
       "</style>\n",
       "<table border=\"1\" class=\"dataframe\">\n",
       "  <thead>\n",
       "    <tr style=\"text-align: right;\">\n",
       "      <th></th>\n",
       "      <th>date</th>\n",
       "      <th>group</th>\n",
       "      <th>orders</th>\n",
       "      <th>buyers</th>\n",
       "      <th>revenue</th>\n",
       "      <th>visitors</th>\n",
       "    </tr>\n",
       "  </thead>\n",
       "  <tbody>\n",
       "    <tr>\n",
       "      <th>0</th>\n",
       "      <td>2019-08-01</td>\n",
       "      <td>A</td>\n",
       "      <td>23</td>\n",
       "      <td>19</td>\n",
       "      <td>142779</td>\n",
       "      <td>719</td>\n",
       "    </tr>\n",
       "    <tr>\n",
       "      <th>1</th>\n",
       "      <td>2019-08-01</td>\n",
       "      <td>B</td>\n",
       "      <td>17</td>\n",
       "      <td>17</td>\n",
       "      <td>59758</td>\n",
       "      <td>713</td>\n",
       "    </tr>\n",
       "    <tr>\n",
       "      <th>2</th>\n",
       "      <td>2019-08-02</td>\n",
       "      <td>A</td>\n",
       "      <td>42</td>\n",
       "      <td>36</td>\n",
       "      <td>234381</td>\n",
       "      <td>1338</td>\n",
       "    </tr>\n",
       "    <tr>\n",
       "      <th>3</th>\n",
       "      <td>2019-08-02</td>\n",
       "      <td>B</td>\n",
       "      <td>40</td>\n",
       "      <td>39</td>\n",
       "      <td>221801</td>\n",
       "      <td>1294</td>\n",
       "    </tr>\n",
       "    <tr>\n",
       "      <th>4</th>\n",
       "      <td>2019-08-03</td>\n",
       "      <td>A</td>\n",
       "      <td>66</td>\n",
       "      <td>60</td>\n",
       "      <td>346854</td>\n",
       "      <td>1845</td>\n",
       "    </tr>\n",
       "  </tbody>\n",
       "</table>\n",
       "</div>"
      ],
      "text/plain": [
       "        date group  orders  buyers  revenue  visitors\n",
       "0 2019-08-01     A      23      19   142779       719\n",
       "1 2019-08-01     B      17      17    59758       713\n",
       "2 2019-08-02     A      42      36   234381      1338\n",
       "3 2019-08-02     B      40      39   221801      1294\n",
       "4 2019-08-03     A      66      60   346854      1845"
      ]
     },
     "execution_count": 24,
     "metadata": {},
     "output_type": "execute_result"
    }
   ],
   "source": [
    "# объединяем кумулятивные данные в одной таблице\n",
    "cumulativeData = ordersAggregated.merge(\n",
    "    visitorsAggregated, left_on=['date', 'group'], right_on=['date', 'group']\n",
    ")\n",
    "cumulativeData.columns = [\n",
    "    'date',\n",
    "    'group',\n",
    "    'orders',\n",
    "    'buyers',\n",
    "    'revenue',\n",
    "    'visitors',\n",
    "]\n",
    "\n",
    "cumulativeData.head()"
   ]
  },
  {
   "cell_type": "code",
   "execution_count": 25,
   "metadata": {},
   "outputs": [
    {
     "data": {
      "image/png": "[encoded data removed]",
      "text/plain": [
       "<Figure size 1080x360 with 1 Axes>"
      ]
     },
     "metadata": {
      "needs_background": "light"
     },
     "output_type": "display_data"
    }
   ],
   "source": [
    "# датафрейм с кумулятивным количеством заказов и кумулятивной выручкой по дням в группе А\n",
    "cumulativeRevenueA = cumulativeData[cumulativeData['group']=='A'][['date','revenue', 'orders']]\n",
    "\n",
    "# датафрейм с кумулятивным количеством заказов и кумулятивной выручкой по дням в группе B\n",
    "cumulativeRevenueB = cumulativeData[cumulativeData['group']=='B'][['date','revenue', 'orders']]\n",
    "\n",
    "#зададим размеры графика \n",
    "plt.figure(figsize=(15,5))\n",
    "\n",
    "# Строим график выручки группы А\n",
    "plt.plot(cumulativeRevenueA['date'], cumulativeRevenueA['revenue'], label='A')\n",
    "\n",
    "# Строим график выручки группы B\n",
    "plt.plot(cumulativeRevenueB['date'], cumulativeRevenueB['revenue'], label='B')\n",
    "\n",
    "plt.legend()\n",
    "\n",
    "# зададим описание графика\n",
    "plt.legend(['Группа А', 'Группа B']) \n",
    "plt.xlabel('Дата')\n",
    "plt.ylabel('Выручка') \n",
    "plt.title('Кумулятивная выручка по дням и группам A/B-тестирования')\n",
    "plt.show() "
   ]
  },
  {
   "cell_type": "markdown",
   "metadata": {},
   "source": [
    "Кумулятивная выручка почти равномерно увеличивается в течение всего теста.\n",
    "Однако график выручки группы В в середине теста резко вырос. Это может сигнализировать о всплесках числа заказов, либо о появлении очень дорогих заказов в выборке. "
   ]
  },
  {
   "cell_type": "markdown",
   "metadata": {},
   "source": [
    " ### 3.2 Построение графика кумулятивного среднего чека по группам"
   ]
  },
  {
   "cell_type": "code",
   "execution_count": 26,
   "metadata": {},
   "outputs": [
    {
     "data": {
      "image/png": "[encoded data removed]",
      "text/plain": [
       "<Figure size 1080x360 with 1 Axes>"
      ]
     },
     "metadata": {
      "needs_background": "light"
     },
     "output_type": "display_data"
    }
   ],
   "source": [
    "#зададим размеры графика \n",
    "plt.figure(figsize=(15,5))\n",
    "\n",
    "plt.plot(cumulativeRevenueA['date'], cumulativeRevenueA['revenue']/cumulativeRevenueA['orders'], label='A')\n",
    "plt.plot(cumulativeRevenueB['date'], cumulativeRevenueB['revenue']/cumulativeRevenueB['orders'], label='B')\n",
    "plt.legend()\n",
    "\n",
    "# зададим описание графика\n",
    "plt.legend(['Группа А', 'Группа B']) \n",
    "plt.xlabel('Дата')\n",
    "plt.ylabel('Cредний чек') \n",
    "plt.title('Кумулятивный средний чек по дням и группам A/B-тестирования')\n",
    "plt.show() "
   ]
  },
  {
   "cell_type": "markdown",
   "metadata": {},
   "source": [
    "Кумулятивный средний чек группы А сначала снижается, но потом растет и становится стабильным.\n",
    "Средний чек группы В резко вырос в точке, как и выручка. Но затем он уменьшался."
   ]
  },
  {
   "cell_type": "markdown",
   "metadata": {},
   "source": [
    " ### 3.3 Построение графика относительного изменения кумулятивного среднего чека группы B к группе A"
   ]
  },
  {
   "cell_type": "code",
   "execution_count": 27,
   "metadata": {},
   "outputs": [
    {
     "data": {
      "image/png": "[encoded data removed]",
      "text/plain": [
       "<Figure size 1080x360 with 1 Axes>"
      ]
     },
     "metadata": {
      "needs_background": "light"
     },
     "output_type": "display_data"
    }
   ],
   "source": [
    "# собираем данные в одном датафрейме\n",
    "mergedCumulativeRevenue = cumulativeRevenueA.merge(cumulativeRevenueB, left_on='date', right_on='date', how='left', suffixes=['A', 'B'])\n",
    "\n",
    "#зададим размеры графика \n",
    "plt.figure(figsize=(15,5))\n",
    "\n",
    "# cтроим отношение средних чеков\n",
    "plt.plot(mergedCumulativeRevenue['date'], (mergedCumulativeRevenue['revenueB']/mergedCumulativeRevenue['ordersB'])/\n",
    "         (mergedCumulativeRevenue['revenueA']/mergedCumulativeRevenue['ordersA'])-1)\n",
    "\n",
    "# добавляем ось X\n",
    "plt.axhline(y=0, color='black', linestyle='--')\n",
    "\n",
    "# зададим описание графика\n",
    "plt.xlabel('Дата')\n",
    "plt.ylabel('Отношение') \n",
    "plt.title('График относительного изменения кумулятивного среднего чека группы B к группе A')\n",
    "plt.show() "
   ]
  },
  {
   "cell_type": "markdown",
   "metadata": {},
   "source": [
    "На графике относительного изменения кумулятивного среднего чека группы B к группе A есть резкие скачки, это может значит, что именно в пиковый день на графике, были сделаны крупные заказы."
   ]
  },
  {
   "cell_type": "markdown",
   "metadata": {},
   "source": [
    "### 3.4 Построение графика кумулятивного среднего количества заказов на посетителя по группам"
   ]
  },
  {
   "cell_type": "code",
   "execution_count": 28,
   "metadata": {},
   "outputs": [
    {
     "data": {
      "image/png": "[encoded data removed]",
      "text/plain": [
       "<Figure size 1080x360 with 1 Axes>"
      ]
     },
     "metadata": {
      "needs_background": "light"
     },
     "output_type": "display_data"
    }
   ],
   "source": [
    "# считаем среднее количество заказов на посетителя\n",
    "cumulativeData['conversion'] = cumulativeData['orders']/cumulativeData['visitors']\n",
    "\n",
    "# отделяем данные по группе A\n",
    "cumulativeDataA = cumulativeData[cumulativeData['group']=='A']\n",
    "\n",
    "# отделяем данные по группе B\n",
    "cumulativeDataB = cumulativeData[cumulativeData['group']=='B']\n",
    "\n",
    "#зададим размеры графика \n",
    "plt.figure(figsize=(15,5))\n",
    "\n",
    "# строим графики\n",
    "plt.plot(cumulativeDataA['date'], cumulativeDataA['conversion'], label='A')\n",
    "plt.plot(cumulativeDataB['date'], cumulativeDataB['conversion'], label='B')\n",
    "plt.legend()\n",
    "\n",
    "# зададим описание графика\n",
    "plt.legend(['Группа А', 'Группа B']) \n",
    "plt.xlabel('Дата')\n",
    "plt.ylabel('Cреднее количество заказов') \n",
    "plt.title('График кумулятивного среднего количества заказов на посетителя по группам')\n",
    "plt.show() "
   ]
  },
  {
   "cell_type": "markdown",
   "metadata": {},
   "source": [
    "Кумулятивное среднее количество заказов у группы В вначале было выше, чем у группы А, но затем опустилось вниз и продолжило колебалаться внизу. У группы А кол-во заказов вначале колебалось, затем стало больше, чем у группы В."
   ]
  },
  {
   "cell_type": "markdown",
   "metadata": {},
   "source": [
    "Вначале данные сильно колебались у обоих групп, но затем кол-во заказов группы B выросло и далее зафиксировалась, а конверсия группы A упала относительно первоначальных значений и тоже зафиксировалась. "
   ]
  },
  {
   "cell_type": "markdown",
   "metadata": {},
   "source": [
    "### 3.5 Построение графика относительного изменения кумулятивного среднего количества заказов на посетителя группы B к группе A "
   ]
  },
  {
   "cell_type": "code",
   "execution_count": 29,
   "metadata": {},
   "outputs": [
    {
     "data": {
      "image/png": "[encoded data removed]",
      "text/plain": [
       "<Figure size 1080x360 with 1 Axes>"
      ]
     },
     "metadata": {
      "needs_background": "light"
     },
     "output_type": "display_data"
    }
   ],
   "source": [
    "mergedCumulativeConversions = cumulativeDataA[['date','conversion']].merge(cumulativeDataB[['date','conversion']], left_on='date', right_on='date', how='left', suffixes=['A', 'B'])\n",
    "\n",
    "#зададим размеры графика \n",
    "plt.figure(figsize=(15,5))\n",
    "\n",
    "plt.plot(mergedCumulativeConversions['date'], mergedCumulativeConversions['conversionB']/\n",
    "         mergedCumulativeConversions['conversionA']-1)\n",
    "\n",
    "plt.axhline(y=0, color='black', linestyle='--')\n",
    "plt.axhline(y=-0.1, color='grey', linestyle='--')\n",
    "\n",
    "# зададим описание графика\n",
    "plt.xlabel('Дата')\n",
    "plt.ylabel('Cреднее количество заказов') \n",
    "plt.title('График относительного изменения кумулятивного среднего количества заказов на посетителя группы B к группе A')\n",
    "plt.show() "
   ]
  },
  {
   "cell_type": "markdown",
   "metadata": {},
   "source": [
    "Среднее количество заказов на посетителя для группы B сначало было меньше, чем у группы А, нозатем значительно обогнало ее."
   ]
  },
  {
   "cell_type": "markdown",
   "metadata": {},
   "source": [
    "### 3.6 Построение точечного графика количества заказов по пользователям"
   ]
  },
  {
   "cell_type": "code",
   "execution_count": 30,
   "metadata": {},
   "outputs": [
    {
     "data": {
      "text/html": [
       "<div>\n",
       "<style scoped>\n",
       "    .dataframe tbody tr th:only-of-type {\n",
       "        vertical-align: middle;\n",
       "    }\n",
       "\n",
       "    .dataframe tbody tr th {\n",
       "        vertical-align: top;\n",
       "    }\n",
       "\n",
       "    .dataframe thead th {\n",
       "        text-align: right;\n",
       "    }\n",
       "</style>\n",
       "<table border=\"1\" class=\"dataframe\">\n",
       "  <thead>\n",
       "    <tr style=\"text-align: right;\">\n",
       "      <th></th>\n",
       "      <th>visitorId</th>\n",
       "      <th>transactionId</th>\n",
       "    </tr>\n",
       "  </thead>\n",
       "  <tbody>\n",
       "    <tr>\n",
       "      <th>908</th>\n",
       "      <td>3967698036</td>\n",
       "      <td>3</td>\n",
       "    </tr>\n",
       "    <tr>\n",
       "      <th>55</th>\n",
       "      <td>249864742</td>\n",
       "      <td>3</td>\n",
       "    </tr>\n",
       "    <tr>\n",
       "      <th>478</th>\n",
       "      <td>2108163459</td>\n",
       "      <td>3</td>\n",
       "    </tr>\n",
       "    <tr>\n",
       "      <th>687</th>\n",
       "      <td>2988190573</td>\n",
       "      <td>3</td>\n",
       "    </tr>\n",
       "    <tr>\n",
       "      <th>890</th>\n",
       "      <td>3908431265</td>\n",
       "      <td>3</td>\n",
       "    </tr>\n",
       "    <tr>\n",
       "      <th>...</th>\n",
       "      <td>...</td>\n",
       "      <td>...</td>\n",
       "    </tr>\n",
       "    <tr>\n",
       "      <th>331</th>\n",
       "      <td>1438226485</td>\n",
       "      <td>1</td>\n",
       "    </tr>\n",
       "    <tr>\n",
       "      <th>332</th>\n",
       "      <td>1452540367</td>\n",
       "      <td>1</td>\n",
       "    </tr>\n",
       "    <tr>\n",
       "      <th>333</th>\n",
       "      <td>1455323168</td>\n",
       "      <td>1</td>\n",
       "    </tr>\n",
       "    <tr>\n",
       "      <th>334</th>\n",
       "      <td>1455861274</td>\n",
       "      <td>1</td>\n",
       "    </tr>\n",
       "    <tr>\n",
       "      <th>972</th>\n",
       "      <td>4283872382</td>\n",
       "      <td>1</td>\n",
       "    </tr>\n",
       "  </tbody>\n",
       "</table>\n",
       "<p>973 rows × 2 columns</p>\n",
       "</div>"
      ],
      "text/plain": [
       "      visitorId  transactionId\n",
       "908  3967698036              3\n",
       "55    249864742              3\n",
       "478  2108163459              3\n",
       "687  2988190573              3\n",
       "890  3908431265              3\n",
       "..          ...            ...\n",
       "331  1438226485              1\n",
       "332  1452540367              1\n",
       "333  1455323168              1\n",
       "334  1455861274              1\n",
       "972  4283872382              1\n",
       "\n",
       "[973 rows x 2 columns]"
      ]
     },
     "execution_count": 30,
     "metadata": {},
     "output_type": "execute_result"
    }
   ],
   "source": [
    "ordersByUsers = (orders.drop(['group', 'revenue', 'date'], axis=1).\n",
    "                 groupby('visitorId', as_index=False).\n",
    "                 agg({'transactionId' : pd.Series.nunique}))\n",
    "\n",
    "ordersByUsers.sort_values(by='transactionId',ascending=False)"
   ]
  },
  {
   "cell_type": "code",
   "execution_count": 31,
   "metadata": {},
   "outputs": [
    {
     "data": {
      "image/png": "[encoded data removed]",
      "text/plain": [
       "<Figure size 1080x360 with 1 Axes>"
      ]
     },
     "metadata": {
      "needs_background": "light"
     },
     "output_type": "display_data"
    }
   ],
   "source": [
    "x_values = pd.Series(range(0,len(ordersByUsers['transactionId'])))\n",
    "plt.figure(figsize=(15,5)) \n",
    "plt.scatter(x_values, ordersByUsers['transactionId']) \n",
    "# зададим описание графика \n",
    "plt.ylabel('Кол-во заказов') \n",
    "plt.xlabel('Кол-во пользователей') \n",
    "plt.title('Кол-во заказов по пользователям') \n",
    "plt.show() "
   ]
  },
  {
   "cell_type": "markdown",
   "metadata": {},
   "source": [
    "Большинство пользователей совершали только 1 заказ. Меньшее кол-во тех, кто совершил 2-3 заказа. "
   ]
  },
  {
   "cell_type": "markdown",
   "metadata": {},
   "source": [
    "### 3.7 Подсчёт 95-ого и 99-ого перцентилей количества заказов на пользователя. "
   ]
  },
  {
   "cell_type": "code",
   "execution_count": 32,
   "metadata": {},
   "outputs": [
    {
     "name": "stdout",
     "output_type": "stream",
     "text": [
      "[1. 2.]\n"
     ]
    }
   ],
   "source": [
    "print(np.percentile(ordersByUsers['transactionId'], [95, 99]))"
   ]
  },
  {
   "cell_type": "markdown",
   "metadata": {},
   "source": [
    "Не более 5% пользователей совершили больше 1 заказов, а не более 1% совершили больше 2 заказов. Более 2 заказов является аномальной границей."
   ]
  },
  {
   "cell_type": "markdown",
   "metadata": {},
   "source": [
    "### 3.8 Построение точечного графика стоимостей заказов"
   ]
  },
  {
   "cell_type": "code",
   "execution_count": 33,
   "metadata": {},
   "outputs": [
    {
     "data": {
      "text/html": [
       "<div>\n",
       "<style scoped>\n",
       "    .dataframe tbody tr th:only-of-type {\n",
       "        vertical-align: middle;\n",
       "    }\n",
       "\n",
       "    .dataframe tbody tr th {\n",
       "        vertical-align: top;\n",
       "    }\n",
       "\n",
       "    .dataframe thead th {\n",
       "        text-align: right;\n",
       "    }\n",
       "</style>\n",
       "<table border=\"1\" class=\"dataframe\">\n",
       "  <thead>\n",
       "    <tr style=\"text-align: right;\">\n",
       "      <th></th>\n",
       "      <th>visitorId</th>\n",
       "      <th>revenue</th>\n",
       "    </tr>\n",
       "  </thead>\n",
       "  <tbody>\n",
       "    <tr>\n",
       "      <th>425</th>\n",
       "      <td>1920142716</td>\n",
       "      <td>1294500</td>\n",
       "    </tr>\n",
       "    <tr>\n",
       "      <th>1196</th>\n",
       "      <td>2108080724</td>\n",
       "      <td>202740</td>\n",
       "    </tr>\n",
       "    <tr>\n",
       "      <th>1136</th>\n",
       "      <td>1307669133</td>\n",
       "      <td>92550</td>\n",
       "    </tr>\n",
       "    <tr>\n",
       "      <th>744</th>\n",
       "      <td>888512513</td>\n",
       "      <td>86620</td>\n",
       "    </tr>\n",
       "    <tr>\n",
       "      <th>743</th>\n",
       "      <td>4133034833</td>\n",
       "      <td>67990</td>\n",
       "    </tr>\n",
       "    <tr>\n",
       "      <th>...</th>\n",
       "      <td>...</td>\n",
       "      <td>...</td>\n",
       "    </tr>\n",
       "    <tr>\n",
       "      <th>404</th>\n",
       "      <td>1995481842</td>\n",
       "      <td>70</td>\n",
       "    </tr>\n",
       "    <tr>\n",
       "      <th>933</th>\n",
       "      <td>3577713868</td>\n",
       "      <td>60</td>\n",
       "    </tr>\n",
       "    <tr>\n",
       "      <th>584</th>\n",
       "      <td>2705308997</td>\n",
       "      <td>50</td>\n",
       "    </tr>\n",
       "    <tr>\n",
       "      <th>756</th>\n",
       "      <td>3423937755</td>\n",
       "      <td>50</td>\n",
       "    </tr>\n",
       "    <tr>\n",
       "      <th>459</th>\n",
       "      <td>2738601405</td>\n",
       "      <td>50</td>\n",
       "    </tr>\n",
       "  </tbody>\n",
       "</table>\n",
       "<p>1016 rows × 2 columns</p>\n",
       "</div>"
      ],
      "text/plain": [
       "       visitorId  revenue\n",
       "425   1920142716  1294500\n",
       "1196  2108080724   202740\n",
       "1136  1307669133    92550\n",
       "744    888512513    86620\n",
       "743   4133034833    67990\n",
       "...          ...      ...\n",
       "404   1995481842       70\n",
       "933   3577713868       60\n",
       "584   2705308997       50\n",
       "756   3423937755       50\n",
       "459   2738601405       50\n",
       "\n",
       "[1016 rows x 2 columns]"
      ]
     },
     "execution_count": 33,
     "metadata": {},
     "output_type": "execute_result"
    }
   ],
   "source": [
    "orders[['visitorId', 'revenue']].sort_values(by='revenue', ascending=False)"
   ]
  },
  {
   "cell_type": "code",
   "execution_count": 34,
   "metadata": {},
   "outputs": [
    {
     "data": {
      "image/png": "[encoded data removed]",
      "text/plain": [
       "<Figure size 1080x360 with 1 Axes>"
      ]
     },
     "metadata": {
      "needs_background": "light"
     },
     "output_type": "display_data"
    }
   ],
   "source": [
    "x_values = pd.Series(range(0,len(orders['revenue'])))\n",
    "plt.figure(figsize=(15,5)) \n",
    "plt.scatter(x_values, orders['revenue']) \n",
    "\n",
    "# зададим описание графика \n",
    "plt.ylabel('Стоимость заказов') \n",
    "plt.xlabel('Кол-во пользователей') \n",
    "plt.title('Стоимость заказов по пользователям') \n",
    "plt.show() "
   ]
  },
  {
   "cell_type": "markdown",
   "metadata": {},
   "source": [
    "Сумма заказов 1,29 млн намного больше, чем стоимость остальных заказов. Постоим график без данного значения."
   ]
  },
  {
   "cell_type": "code",
   "execution_count": 35,
   "metadata": {},
   "outputs": [
    {
     "data": {
      "image/png": "[encoded data removed]",
      "text/plain": [
       "<Figure size 1080x360 with 1 Axes>"
      ]
     },
     "metadata": {
      "needs_background": "light"
     },
     "output_type": "display_data"
    }
   ],
   "source": [
    "x_values = pd.Series(range(0,len(orders['revenue'])))\n",
    "plt.figure(figsize=(15,5)) \n",
    "plt.scatter(x_values, orders['revenue']) \n",
    "#срежем очевидно анамальные заказы \n",
    "plt.ylim(0, 100000)\n",
    "# зададим описание графика \n",
    "plt.ylabel('Стоимость заказов') \n",
    "plt.xlabel('Кол-во пользователей') \n",
    "plt.title('Стоимость заказов по пользователям') \n",
    "plt.show() "
   ]
  },
  {
   "cell_type": "markdown",
   "metadata": {},
   "source": [
    "Большинство заказов стоимостью до 20 тыс."
   ]
  },
  {
   "cell_type": "markdown",
   "metadata": {},
   "source": [
    "### 3.9 Подсчёт 95-ого и 99-ого перцентилей стоимости заказов"
   ]
  },
  {
   "cell_type": "code",
   "execution_count": 36,
   "metadata": {},
   "outputs": [
    {
     "name": "stdout",
     "output_type": "stream",
     "text": [
      "[26785. 53904.]\n"
     ]
    }
   ],
   "source": [
    "print(np.percentile(orders['revenue'], [95, 99]))"
   ]
  },
  {
   "cell_type": "markdown",
   "metadata": {},
   "source": [
    "Не более 5% пользователей совершили заказов на сумму 26,7 тыс., а не более 1% совершили больше заказов на сумму 53,9 тыс. Стоимость заказов более 30 тыс. является аномальной границей."
   ]
  },
  {
   "cell_type": "markdown",
   "metadata": {},
   "source": [
    "### 3.10 Подсчёт статистической значимости различий в среднем количестве заказов на посетителя между группами по «сырым» данным"
   ]
  },
  {
   "cell_type": "markdown",
   "metadata": {},
   "source": [
    "Сформулируем гипотезы:\n",
    "\n",
    "Нулевая: различий в среднем количестве заказов на посетителя между группами нет. \n",
    "\n",
    "Альтернативная: различия в среднем между группами есть."
   ]
  },
  {
   "cell_type": "markdown",
   "metadata": {},
   "source": [
    "Статистический критерий проверки гипотез Манна-Уитни.\n",
    "    \n",
    "Уровень статистической значимости α = 0.05\n",
    "  "
   ]
  },
  {
   "cell_type": "code",
   "execution_count": 37,
   "metadata": {
    "scrolled": true
   },
   "outputs": [
    {
     "data": {
      "text/html": [
       "<div>\n",
       "<style scoped>\n",
       "    .dataframe tbody tr th:only-of-type {\n",
       "        vertical-align: middle;\n",
       "    }\n",
       "\n",
       "    .dataframe tbody tr th {\n",
       "        vertical-align: top;\n",
       "    }\n",
       "\n",
       "    .dataframe thead th {\n",
       "        text-align: right;\n",
       "    }\n",
       "</style>\n",
       "<table border=\"1\" class=\"dataframe\">\n",
       "  <thead>\n",
       "    <tr style=\"text-align: right;\">\n",
       "      <th></th>\n",
       "      <th>date</th>\n",
       "      <th>ordersPerDateA</th>\n",
       "      <th>revenuePerDateA</th>\n",
       "      <th>ordersPerDateB</th>\n",
       "      <th>revenuePerDateB</th>\n",
       "      <th>ordersCummulativeA</th>\n",
       "      <th>revenueCummulativeA</th>\n",
       "      <th>ordersCummulativeB</th>\n",
       "      <th>revenueCummulativeB</th>\n",
       "      <th>visitorsPerDateA</th>\n",
       "      <th>visitorsPerDateB</th>\n",
       "      <th>visitorsCummulativeA</th>\n",
       "      <th>visitorsCummulativeB</th>\n",
       "    </tr>\n",
       "  </thead>\n",
       "  <tbody>\n",
       "    <tr>\n",
       "      <th>0</th>\n",
       "      <td>2019-08-01</td>\n",
       "      <td>23</td>\n",
       "      <td>142779</td>\n",
       "      <td>17</td>\n",
       "      <td>59758</td>\n",
       "      <td>23</td>\n",
       "      <td>142779</td>\n",
       "      <td>17</td>\n",
       "      <td>59758</td>\n",
       "      <td>719</td>\n",
       "      <td>713</td>\n",
       "      <td>719</td>\n",
       "      <td>713</td>\n",
       "    </tr>\n",
       "    <tr>\n",
       "      <th>1</th>\n",
       "      <td>2019-08-02</td>\n",
       "      <td>19</td>\n",
       "      <td>91602</td>\n",
       "      <td>23</td>\n",
       "      <td>162043</td>\n",
       "      <td>42</td>\n",
       "      <td>234381</td>\n",
       "      <td>40</td>\n",
       "      <td>221801</td>\n",
       "      <td>619</td>\n",
       "      <td>581</td>\n",
       "      <td>1338</td>\n",
       "      <td>1294</td>\n",
       "    </tr>\n",
       "    <tr>\n",
       "      <th>2</th>\n",
       "      <td>2019-08-03</td>\n",
       "      <td>24</td>\n",
       "      <td>112473</td>\n",
       "      <td>14</td>\n",
       "      <td>67049</td>\n",
       "      <td>66</td>\n",
       "      <td>346854</td>\n",
       "      <td>54</td>\n",
       "      <td>288850</td>\n",
       "      <td>507</td>\n",
       "      <td>509</td>\n",
       "      <td>1845</td>\n",
       "      <td>1803</td>\n",
       "    </tr>\n",
       "    <tr>\n",
       "      <th>3</th>\n",
       "      <td>2019-08-04</td>\n",
       "      <td>11</td>\n",
       "      <td>41176</td>\n",
       "      <td>14</td>\n",
       "      <td>96890</td>\n",
       "      <td>77</td>\n",
       "      <td>388030</td>\n",
       "      <td>68</td>\n",
       "      <td>385740</td>\n",
       "      <td>717</td>\n",
       "      <td>770</td>\n",
       "      <td>2562</td>\n",
       "      <td>2573</td>\n",
       "    </tr>\n",
       "    <tr>\n",
       "      <th>4</th>\n",
       "      <td>2019-08-05</td>\n",
       "      <td>22</td>\n",
       "      <td>86383</td>\n",
       "      <td>21</td>\n",
       "      <td>89908</td>\n",
       "      <td>99</td>\n",
       "      <td>474413</td>\n",
       "      <td>89</td>\n",
       "      <td>475648</td>\n",
       "      <td>756</td>\n",
       "      <td>707</td>\n",
       "      <td>3318</td>\n",
       "      <td>3280</td>\n",
       "    </tr>\n",
       "  </tbody>\n",
       "</table>\n",
       "</div>"
      ],
      "text/plain": [
       "        date  ordersPerDateA  revenuePerDateA  ordersPerDateB  \\\n",
       "0 2019-08-01              23           142779              17   \n",
       "1 2019-08-02              19            91602              23   \n",
       "2 2019-08-03              24           112473              14   \n",
       "3 2019-08-04              11            41176              14   \n",
       "4 2019-08-05              22            86383              21   \n",
       "\n",
       "   revenuePerDateB  ordersCummulativeA  revenueCummulativeA  \\\n",
       "0            59758                  23               142779   \n",
       "1           162043                  42               234381   \n",
       "2            67049                  66               346854   \n",
       "3            96890                  77               388030   \n",
       "4            89908                  99               474413   \n",
       "\n",
       "   ordersCummulativeB  revenueCummulativeB  visitorsPerDateA  \\\n",
       "0                  17                59758               719   \n",
       "1                  40               221801               619   \n",
       "2                  54               288850               507   \n",
       "3                  68               385740               717   \n",
       "4                  89               475648               756   \n",
       "\n",
       "   visitorsPerDateB  visitorsCummulativeA  visitorsCummulativeB  \n",
       "0               713                   719                   713  \n",
       "1               581                  1338                  1294  \n",
       "2               509                  1845                  1803  \n",
       "3               770                  2562                  2573  \n",
       "4               707                  3318                  3280  "
      ]
     },
     "execution_count": 37,
     "metadata": {},
     "output_type": "execute_result"
    }
   ],
   "source": [
    "# изучим код и устройство таблицы data:\n",
    "visitorsADaily = visitors[visitors['group'] == 'A'][['date', 'visitors']]\n",
    "visitorsADaily.columns = ['date', 'visitorsPerDateA']\n",
    "\n",
    "visitorsACummulative = visitorsADaily.apply(\n",
    "    lambda x: visitorsADaily[visitorsADaily['date'] <= x['date']].agg(\n",
    "        {'date': 'max', 'visitorsPerDateA': 'sum'}\n",
    "    ),\n",
    "    axis=1,\n",
    ")\n",
    "visitorsACummulative.columns = ['date', 'visitorsCummulativeA']\n",
    "\n",
    "visitorsBDaily = visitors[visitors['group'] == 'B'][['date', 'visitors']]\n",
    "visitorsBDaily.columns = ['date', 'visitorsPerDateB']\n",
    "\n",
    "visitorsBCummulative = visitorsBDaily.apply(\n",
    "    lambda x: visitorsBDaily[visitorsBDaily['date'] <= x['date']].agg(\n",
    "        {'date': 'max', 'visitorsPerDateB': 'sum'}\n",
    "    ),\n",
    "    axis=1,\n",
    ")\n",
    "visitorsBCummulative.columns = ['date', 'visitorsCummulativeB']\n",
    "\n",
    "ordersADaily = (\n",
    "    orders[orders['group'] == 'A'][['date', 'transactionId', 'visitorId', 'revenue']]\n",
    "    .groupby('date', as_index=False)\n",
    "    .agg({'transactionId': pd.Series.nunique, 'revenue': 'sum'})\n",
    ")\n",
    "ordersADaily.columns = ['date', 'ordersPerDateA', 'revenuePerDateA']\n",
    "\n",
    "ordersACummulative = ordersADaily.apply(\n",
    "    lambda x: ordersADaily[ordersADaily['date'] <= x['date']].agg(\n",
    "        {'date': 'max', 'ordersPerDateA': 'sum', 'revenuePerDateA': 'sum'}\n",
    "    ),\n",
    "    axis=1,\n",
    ").sort_values(by=['date'])\n",
    "ordersACummulative.columns = [\n",
    "    'date',\n",
    "    'ordersCummulativeA',\n",
    "    'revenueCummulativeA',\n",
    "]\n",
    "\n",
    "ordersBDaily = (\n",
    "    orders[orders['group'] == 'B'][['date', 'transactionId', 'visitorId', 'revenue']]\n",
    "    .groupby('date', as_index=False)\n",
    "    .agg({'transactionId': pd.Series.nunique, 'revenue': 'sum'})\n",
    ")\n",
    "ordersBDaily.columns = ['date', 'ordersPerDateB', 'revenuePerDateB']\n",
    "\n",
    "ordersBCummulative = ordersBDaily.apply(\n",
    "    lambda x: ordersBDaily[ordersBDaily['date'] <= x['date']].agg(\n",
    "        {'date': 'max', 'ordersPerDateB': 'sum', 'revenuePerDateB': 'sum'}\n",
    "    ),\n",
    "    axis=1,\n",
    ").sort_values(by=['date'])\n",
    "ordersBCummulative.columns = [\n",
    "    'date',\n",
    "    'ordersCummulativeB',\n",
    "    'revenueCummulativeB',\n",
    "]\n",
    "\n",
    "data = (\n",
    "    ordersADaily.merge(\n",
    "        ordersBDaily, left_on='date', right_on='date', how='left'\n",
    "    )\n",
    "    .merge(ordersACummulative, left_on='date', right_on='date', how='left')\n",
    "    .merge(ordersBCummulative, left_on='date', right_on='date', how='left')\n",
    "    .merge(visitorsADaily, left_on='date', right_on='date', how='left')\n",
    "    .merge(visitorsBDaily, left_on='date', right_on='date', how='left')\n",
    "    .merge(visitorsACummulative, left_on='date', right_on='date', how='left')\n",
    "    .merge(visitorsBCummulative, left_on='date', right_on='date', how='left')\n",
    ")\n",
    "\n",
    "data.head(5)"
   ]
  },
  {
   "cell_type": "markdown",
   "metadata": {},
   "source": [
    "Названия столбцов данных:\n",
    "\n",
    "- `date` — дата;\n",
    "- `ordersPerDateA` — количество заказов в выбранную дату в группе A;\n",
    "- `revenuePerDateA` — суммарная выручка в выбранную дату в группе A;\n",
    "- `ordersPerDateB` — количество заказов в выбранную дату в группе B;\n",
    "- `revenuePerDateB` — суммарная выручка в выбранную дату в группе B;\n",
    "- `ordersCummulativeA` — суммарное число заказов до выбранной даты включительно в группе A;\n",
    "- `revenueCummulativeA` — суммарная выручка до выбранной даты включительно в группе A;\n",
    "- `ordersCummulativeB` — суммарное количество заказов до выбранной даты включительно в группе B;\n",
    "- `revenueCummulativeB` — суммарная выручка до выбранной даты включительно в группе B;\n",
    "- `visitorsPerDateA` — количество пользователей в выбранную дату в группе A;\n",
    "- `visitorsPerDateB` — количество пользователей в выбранную дату в группе B;\n",
    "- `visitorsCummulativeA` — количество пользователей до выбранной даты включительно в группе A;\n",
    "- `visitorsCummulativeB` — количество пользователей до выбранной даты включительно в группе B."
   ]
  },
  {
   "cell_type": "code",
   "execution_count": 38,
   "metadata": {},
   "outputs": [],
   "source": [
    "ordersByUsersA = (\n",
    "    orders[orders['group'] == 'A']\n",
    "    .groupby('visitorId', as_index=False)\n",
    "    .agg({'transactionId': pd.Series.nunique})\n",
    ")\n",
    "ordersByUsersA.columns = ['visitorId', 'orders']\n",
    "\n",
    "ordersByUsersB = (\n",
    "    orders[orders['group'] == 'B']\n",
    "    .groupby('visitorId', as_index=False)\n",
    "    .agg({'transactionId': pd.Series.nunique})\n",
    ")\n",
    "ordersByUsersB.columns = ['visitorId', 'orders']"
   ]
  },
  {
   "cell_type": "code",
   "execution_count": 39,
   "metadata": {},
   "outputs": [],
   "source": [
    "sampleA = pd.concat([ordersByUsersA['orders'],\n",
    "                     pd.Series(0, index=np.arange(\n",
    "                         data['visitorsPerDateA'].sum() - len(ordersByUsersA['orders'])), name='orders')],axis=0)\n",
    "\n",
    "sampleB = pd.concat([ordersByUsersB['orders'],\n",
    "                     pd.Series(0, index=np.arange(\n",
    "                         data['visitorsPerDateB'].sum() - len(ordersByUsersB['orders'])), name='orders')],axis=0)"
   ]
  },
  {
   "cell_type": "code",
   "execution_count": 40,
   "metadata": {},
   "outputs": [
    {
     "name": "stdout",
     "output_type": "stream",
     "text": [
      "p-value = 0.011\n",
      "Относительное различие в среднем количестве заказов на посетителя между группами по «сырым» данным: 0.160\n"
     ]
    }
   ],
   "source": [
    "print('p-value =', '{0:.3f}'.format(stats.mannwhitneyu(sampleA, sampleB)[1]))\n",
    "\n",
    "print('Относительное различие в среднем количестве заказов на посетителя между группами по «сырым» данным:',\n",
    "      '{0:.3f}'.format(sampleB.mean() / sampleA.mean() - 1))\n"
   ]
  },
  {
   "cell_type": "markdown",
   "metadata": {},
   "source": [
    "P-value = 0.011 меньше 0.05. Значит, нулевую гипотезу о том, что статистически значимых различий в среднем количестве заказов на посетителя между группами по «сырым» данным нет, отвергаем.  \n",
    "\n",
    "Относительный выигрыш группы B равен 16%."
   ]
  },
  {
   "cell_type": "markdown",
   "metadata": {},
   "source": [
    "### 3.11 Подсчёт статистической значимости различий в среднем чеке  заказа между группами по «сырым» данным"
   ]
  },
  {
   "cell_type": "markdown",
   "metadata": {},
   "source": [
    "Сформулируем гипотезы:\n",
    "\n",
    "Нулевая: различий в среднем чеке заказа между группами нет.\n",
    "\n",
    "Альтернативная: различия в среднем между группами есть."
   ]
  },
  {
   "cell_type": "code",
   "execution_count": 41,
   "metadata": {},
   "outputs": [
    {
     "name": "stdout",
     "output_type": "stream",
     "text": [
      "p-value = 0.829\n",
      "Относительное различие в среднем чеке между группами по «сырым» данным: 0.287\n"
     ]
    }
   ],
   "source": [
    "print('p-value =', '{0:.3f}'.format(stats.mannwhitneyu(orders[orders['group']=='A']['revenue'], orders[orders['group']=='B']['revenue'])[1]))\n",
    "print('Относительное различие в среднем чеке между группами по «сырым» данным:',\n",
    "      '{0:.3f}'.format(orders[orders['group']=='B']['revenue'].mean()/orders[orders['group']=='A']['revenue'].mean()-1))"
   ]
  },
  {
   "cell_type": "markdown",
   "metadata": {},
   "source": [
    "P-value = 0.829, это больше 0.05. Значит, причин отвергать нулевую гипотезу и считать, что в среднем чеке заказа между группами по «сырым» данным есть различия, нет. \n",
    "\n",
    "Средний чек группы В сильно больше среднего чека группы А на 28,7%."
   ]
  },
  {
   "cell_type": "markdown",
   "metadata": {},
   "source": [
    "### 3.12 Подсчёт статистической значимости различий в среднем количестве заказов на посетителя между группами по «очищенным» данным"
   ]
  },
  {
   "cell_type": "code",
   "execution_count": 42,
   "metadata": {},
   "outputs": [
    {
     "name": "stdout",
     "output_type": "stream",
     "text": [
      "1099    148427295\n",
      "928     204675465\n",
      "33      249864742\n",
      "684     358944393\n",
      "648     382846391\n",
      "Name: visitorId, dtype: int64\n",
      "49\n"
     ]
    }
   ],
   "source": [
    "usersWithManyOrders = pd.concat(\n",
    "    [\n",
    "        ordersByUsersA[ordersByUsersA['orders'] > 2]['visitorId'],\n",
    "        ordersByUsersB[ordersByUsersB['orders'] > 2]['visitorId'],\n",
    "    ],\n",
    "    axis=0,\n",
    ")\n",
    "usersWithExpensiveOrders = orders[orders['revenue'] > 30000]['visitorId']\n",
    "abnormalUsers = (\n",
    "    pd.concat([usersWithManyOrders, usersWithExpensiveOrders], axis=0)\n",
    "    .drop_duplicates()\n",
    "    .sort_values()\n",
    ")\n",
    "print(abnormalUsers.head(5))\n",
    "print(abnormalUsers.shape[0]) "
   ]
  },
  {
   "cell_type": "markdown",
   "metadata": {},
   "source": [
    "Всего 57 аномальных пользователей. "
   ]
  },
  {
   "cell_type": "markdown",
   "metadata": {},
   "source": [
    "Сформулируем гипотезы:\n",
    "\n",
    "Нулевая: различий в среднем количестве заказов на посетителя между группами нет.\n",
    "\n",
    "Альтернативная: различия в среднем между группами есть."
   ]
  },
  {
   "cell_type": "code",
   "execution_count": 43,
   "metadata": {},
   "outputs": [
    {
     "name": "stdout",
     "output_type": "stream",
     "text": [
      "p-value = 0.010\n",
      "Относительное различие в в среднем количестве заказов на посетителя между группами по «очищенным» данным: 0.187\n"
     ]
    }
   ],
   "source": [
    "sampleAFiltered = pd.concat(\n",
    "    [\n",
    "        ordersByUsersA[\n",
    "            np.logical_not(ordersByUsersA['visitorId'].isin(abnormalUsers))\n",
    "        ]['orders'],\n",
    "        pd.Series(\n",
    "            0,\n",
    "            index=np.arange(\n",
    "                data['visitorsPerDateA'].sum() - len(ordersByUsersA['orders'])\n",
    "            ),\n",
    "            name='orders',\n",
    "        ),\n",
    "    ],\n",
    "    axis=0,\n",
    ")\n",
    "\n",
    "sampleBFiltered = pd.concat(\n",
    "    [\n",
    "        ordersByUsersB[\n",
    "            np.logical_not(ordersByUsersB['visitorId'].isin(abnormalUsers))\n",
    "        ]['orders'],\n",
    "        pd.Series(\n",
    "            0,\n",
    "            index=np.arange(\n",
    "                data['visitorsPerDateB'].sum() - len(ordersByUsersB['orders'])\n",
    "            ),\n",
    "            name='orders',\n",
    "        ),\n",
    "    ],\n",
    "    axis=0,\n",
    ")\n",
    "\n",
    "print('p-value =', '{0:.3f}'.format(stats.mannwhitneyu(sampleAFiltered, sampleBFiltered)[1]))\n",
    "print('Относительное различие в в среднем количестве заказов на посетителя между группами по «очищенным» данным:', '{0:.3f}'.format(sampleBFiltered.mean()/sampleAFiltered.mean()-1))"
   ]
  },
  {
   "cell_type": "markdown",
   "metadata": {},
   "source": [
    "Результаты по среднему количеству заказов практически не изменились."
   ]
  },
  {
   "cell_type": "markdown",
   "metadata": {},
   "source": [
    "### 3.13 Подсчёт статистической значимости различий в среднем чеке заказа между группами по «очищенным» данным"
   ]
  },
  {
   "cell_type": "markdown",
   "metadata": {},
   "source": [
    "Сформулируем гипотезы:\n",
    "\n",
    "Нулевая: различий в среднем чеке заказа между группами нет.\n",
    "\n",
    "Альтернативная: различия в среднем между группами есть."
   ]
  },
  {
   "cell_type": "code",
   "execution_count": 44,
   "metadata": {},
   "outputs": [
    {
     "name": "stdout",
     "output_type": "stream",
     "text": [
      "p-value = 0.741\n",
      "Относительное различие в среднем чеке между группами по «очищенным» данным: -0.027\n"
     ]
    }
   ],
   "source": [
    "print(\n",
    "    'p-value =',\n",
    "      '{0:.3f}'.format(\n",
    "        stats.mannwhitneyu(\n",
    "            orders[\n",
    "                np.logical_and(\n",
    "                    orders['group'] == 'A',\n",
    "                    np.logical_not(orders['visitorId'].isin(abnormalUsers)),\n",
    "                )\n",
    "            ]['revenue'],\n",
    "            orders[\n",
    "                np.logical_and(\n",
    "                    orders['group'] == 'B',\n",
    "                    np.logical_not(orders['visitorId'].isin(abnormalUsers)),\n",
    "                )\n",
    "            ]['revenue'],\n",
    "        )[1]\n",
    "    )\n",
    ")\n",
    "\n",
    "print(\n",
    "    'Относительное различие в среднем чеке между группами по «очищенным» данным:',\n",
    "      '{0:.3f}'.format(\n",
    "        orders[\n",
    "            np.logical_and(\n",
    "                orders['group'] == 'B',\n",
    "                np.logical_not(orders['visitorId'].isin(abnormalUsers)),\n",
    "            )\n",
    "        ]['revenue'].mean()\n",
    "        / orders[\n",
    "            np.logical_and(\n",
    "                orders['group'] == 'A',\n",
    "                np.logical_not(orders['visitorId'].isin(abnormalUsers)),\n",
    "            )\n",
    "        ]['revenue'].mean()\n",
    "        - 1\n",
    "    )\n",
    ")"
   ]
  },
  {
   "cell_type": "markdown",
   "metadata": {},
   "source": [
    "P-value больше 0,5. Причин отвергать нулевую гипотезу и считать, что в среднем чеке есть различия, нет. Однако по «очищенным» данным средний чек группы А больше среднего чека группы В. По «сырым» данным было наоборот."
   ]
  },
  {
   "cell_type": "markdown",
   "metadata": {},
   "source": [
    "## 4 Общий вывод"
   ]
  },
  {
   "cell_type": "markdown",
   "metadata": {},
   "source": [
    "В ходе исследования была изучена общая информация о данных и проанализированы гипотезы для увеличения выручки крупного интернет-магазина.\n",
    "\n",
    "По результатам обзора и подготовки данных определено, что данные предствлены в полном обьеме,отсутсвуют пропущенные значения и дубликаты, формат столбца date переведен с типа object на datetime.\n",
    "\n",
    "В ходе исследовательской работы была выполненена приоритезация гипотез с помощью фреймворков ICE и RICE. ICE и RICE распределили приоритетность гипотез в разных последовательностях за счет того, что в расчете ICE используются 3 компонента - влияние, уверенность, усилия. А в RICE добавляется 4-ый компонент - охват, который влияет на изменение ранжирования.\n",
    "\n",
    "К перспективным гипотезам по ICE относятся:\n",
    "- Запустить акцию, дающую скидку на товар в день рождения.\n",
    "- Добавить два новых канала привлечения трафика, что позволит привлекать на 30% больше пользователей.\n",
    "- Добавить форму подписки на все основные страницы, чтобы собрать базу клиентов для email-рассылок.\n",
    "\n",
    "К перспективным гипотезам по RICE относятся:\n",
    "- Добавить форму подписки на все основные страницы, чтобы собрать базу клиентов для email-рассылок.\n",
    "- Добавить блоки рекомендаций товаров на сайт интернет магазина, чтобы повысить конверсию и средний чек заказа.\n",
    "- Добавить два новых канала привлечения трафика, что позволит привлекать на 30% больше пользователей.\n",
    "\n",
    "Результаты анализа A/B-теста показали:\n",
    "- Кумулятивная выручка групп А и В увеличивается в течение всего теста. Однако график выручки группы В выше и в середине теста показал резкий скачок. Это может сигнализировать о всплесках числа заказов, либо о появлении очень дорогих заказов в выборке.\n",
    "- Кумулятивный средний чек группы А сначала снижается, но потом растет и становится более стабильным, оставаясь ниже, чем у группы В. Средний чек группы В резко вырос в середине теста, как и выручка, но затем уменьшался.\n",
    "- Кумулятивное среднее количество заказов у группы В вначале было выше, чем у группы А, но затем опустилось вниз и продолжило колебалаться внизу. У группы А кол-во заказов вначале колебалось ниже, затем стало выше, чем у группы В. \n",
    "- Не более 5% пользователей совершили больше 1 заказов, а не более 1% совершили больше 2 заказов. Более 2 заказов является аномальной границей.\n",
    "- Не более 5% пользователей совершили заказов на сумму 26,7 тыс., а не более 1% совершили больше заказов на сумму 53,9 тыс.Стоимость заказов более 30 тыс. является аномальной границей. В группе  был сдеалн один аномально большой заказ на сумму 128 млн руб.\n",
    "\n",
    "- Есть различия в среднем количестве заказов на посетителя между группами А и В по «сырым» и «очищенным» данным. По «сырым» данным относительный выигрыш группы B равен 16%, а по «очищенным» 18,7%.\n",
    "- Нет  статистически значимых различий в среднем чеке заказа между группами А и В по «сырым» и «очищенным» данным. По «сырым» данным средний чек группы В выше среднего чека группы А на 28,7%, а по «очищенным» - наоборот средний чек группы А больше среднего чека группы В.\n",
    "\n",
    "В результате, тест можно остановить и зафиксировать победу группы В. Несмотря на то, что средний чек группы В по «очищенным» данным ниже, кумулятивный средний чек группы В выше. Среднее количество заказов на посетителя также выше у группы В, но лишь на 2,7%. "
   ]
  }
 ],
 "metadata": {
  "ExecuteTimeLog": [
   {
    "duration": 1338,
    "start_time": "2024-12-23T09:24:19.725Z"
   },
   {
    "duration": 3,
    "start_time": "2024-12-23T09:42:07.186Z"
   },
   {
    "duration": 69,
    "start_time": "2024-12-23T09:44:33.510Z"
   },
   {
    "duration": 27,
    "start_time": "2024-12-23T09:44:43.704Z"
   },
   {
    "duration": 26,
    "start_time": "2024-12-23T09:45:28.529Z"
   },
   {
    "duration": 88,
    "start_time": "2024-12-23T09:45:28.860Z"
   },
   {
    "duration": 68,
    "start_time": "2024-12-23T09:45:29.157Z"
   },
   {
    "duration": 73,
    "start_time": "2024-12-23T09:53:43.130Z"
   },
   {
    "duration": 1147,
    "start_time": "2024-12-23T09:54:25.996Z"
   },
   {
    "duration": 74,
    "start_time": "2024-12-23T09:54:27.145Z"
   },
   {
    "duration": 103,
    "start_time": "2024-12-23T09:54:27.221Z"
   },
   {
    "duration": 3,
    "start_time": "2024-12-23T09:54:41.394Z"
   },
   {
    "duration": 3,
    "start_time": "2024-12-23T09:55:19.988Z"
   },
   {
    "duration": 72,
    "start_time": "2024-12-23T09:55:20.464Z"
   },
   {
    "duration": 12,
    "start_time": "2024-12-23T09:56:44.400Z"
   },
   {
    "duration": 12,
    "start_time": "2024-12-23T09:56:46.851Z"
   },
   {
    "duration": 8,
    "start_time": "2024-12-23T09:57:37.687Z"
   },
   {
    "duration": 11,
    "start_time": "2024-12-23T09:57:38.195Z"
   },
   {
    "duration": 8,
    "start_time": "2024-12-23T09:57:39.232Z"
   },
   {
    "duration": 11,
    "start_time": "2024-12-23T09:57:40.054Z"
   },
   {
    "duration": 9,
    "start_time": "2024-12-23T10:10:12.464Z"
   },
   {
    "duration": 6,
    "start_time": "2024-12-23T10:10:22.431Z"
   },
   {
    "duration": 4,
    "start_time": "2024-12-23T10:12:10.542Z"
   },
   {
    "duration": 5,
    "start_time": "2024-12-23T10:13:58.715Z"
   },
   {
    "duration": 4,
    "start_time": "2024-12-23T10:14:01.500Z"
   },
   {
    "duration": 6,
    "start_time": "2024-12-23T10:14:42.530Z"
   },
   {
    "duration": 9,
    "start_time": "2024-12-23T10:15:04.166Z"
   },
   {
    "duration": 6,
    "start_time": "2024-12-23T10:15:26.808Z"
   },
   {
    "duration": 6,
    "start_time": "2024-12-23T10:16:06.596Z"
   },
   {
    "duration": 7,
    "start_time": "2024-12-23T10:16:16.620Z"
   },
   {
    "duration": 5,
    "start_time": "2024-12-23T10:16:24.277Z"
   },
   {
    "duration": 1546,
    "start_time": "2024-12-23T10:27:06.671Z"
   },
   {
    "duration": 16,
    "start_time": "2024-12-23T10:27:27.695Z"
   },
   {
    "duration": 13,
    "start_time": "2024-12-23T10:28:34.556Z"
   },
   {
    "duration": 9,
    "start_time": "2024-12-23T10:30:10.996Z"
   },
   {
    "duration": 11,
    "start_time": "2024-12-23T10:30:31.884Z"
   },
   {
    "duration": 14,
    "start_time": "2024-12-23T10:56:46.028Z"
   },
   {
    "duration": 11,
    "start_time": "2024-12-23T10:56:54.975Z"
   },
   {
    "duration": 11,
    "start_time": "2024-12-23T11:07:35.908Z"
   },
   {
    "duration": 11,
    "start_time": "2024-12-23T11:07:39.658Z"
   },
   {
    "duration": 11,
    "start_time": "2024-12-23T11:07:46.933Z"
   },
   {
    "duration": 15,
    "start_time": "2024-12-23T11:09:48.150Z"
   },
   {
    "duration": 11,
    "start_time": "2024-12-23T11:09:53.882Z"
   },
   {
    "duration": 10,
    "start_time": "2024-12-23T11:09:59.945Z"
   },
   {
    "duration": 3,
    "start_time": "2024-12-23T11:10:44.581Z"
   },
   {
    "duration": 9,
    "start_time": "2024-12-23T11:10:56.089Z"
   },
   {
    "duration": 10,
    "start_time": "2024-12-23T11:11:04.883Z"
   },
   {
    "duration": 3,
    "start_time": "2024-12-23T11:11:08.343Z"
   },
   {
    "duration": 73,
    "start_time": "2024-12-23T11:11:08.901Z"
   },
   {
    "duration": 7,
    "start_time": "2024-12-23T11:11:09.681Z"
   },
   {
    "duration": 10,
    "start_time": "2024-12-23T11:11:10.944Z"
   },
   {
    "duration": 8,
    "start_time": "2024-12-23T11:11:11.661Z"
   },
   {
    "duration": 10,
    "start_time": "2024-12-23T11:11:11.872Z"
   },
   {
    "duration": 4,
    "start_time": "2024-12-23T11:11:12.311Z"
   },
   {
    "duration": 10,
    "start_time": "2024-12-23T11:11:12.692Z"
   },
   {
    "duration": 10,
    "start_time": "2024-12-23T11:11:12.908Z"
   },
   {
    "duration": 4,
    "start_time": "2024-12-23T11:11:13.348Z"
   },
   {
    "duration": 13,
    "start_time": "2024-12-23T11:11:14.092Z"
   },
   {
    "duration": 12,
    "start_time": "2024-12-23T11:11:15.192Z"
   },
   {
    "duration": 0,
    "start_time": "2024-12-23T11:23:15.633Z"
   },
   {
    "duration": 42,
    "start_time": "2024-12-23T11:23:37.824Z"
   },
   {
    "duration": 29,
    "start_time": "2024-12-23T11:24:02.244Z"
   },
   {
    "duration": 8,
    "start_time": "2024-12-23T11:25:16.697Z"
   },
   {
    "duration": 23,
    "start_time": "2024-12-23T11:26:50.200Z"
   },
   {
    "duration": 174,
    "start_time": "2024-12-23T11:28:28.117Z"
   },
   {
    "duration": 124,
    "start_time": "2024-12-23T11:29:52.583Z"
   },
   {
    "duration": 13,
    "start_time": "2024-12-23T11:31:55.831Z"
   },
   {
    "duration": 10,
    "start_time": "2024-12-23T11:33:19.962Z"
   },
   {
    "duration": 9,
    "start_time": "2024-12-23T11:33:20.860Z"
   },
   {
    "duration": 13,
    "start_time": "2024-12-23T11:34:06.119Z"
   },
   {
    "duration": 274,
    "start_time": "2024-12-23T11:35:00.957Z"
   },
   {
    "duration": 187,
    "start_time": "2024-12-23T11:35:05.357Z"
   },
   {
    "duration": 343,
    "start_time": "2024-12-23T11:35:30.676Z"
   },
   {
    "duration": 209,
    "start_time": "2024-12-23T11:35:37.464Z"
   },
   {
    "duration": 245,
    "start_time": "2024-12-23T11:35:40.557Z"
   },
   {
    "duration": 239,
    "start_time": "2024-12-23T11:36:16.005Z"
   },
   {
    "duration": 250,
    "start_time": "2024-12-23T11:36:33.986Z"
   },
   {
    "duration": 210,
    "start_time": "2024-12-23T11:37:18.543Z"
   },
   {
    "duration": 258,
    "start_time": "2024-12-23T11:43:55.402Z"
   },
   {
    "duration": 236,
    "start_time": "2024-12-23T11:44:16.456Z"
   },
   {
    "duration": 281,
    "start_time": "2024-12-23T11:52:15.802Z"
   },
   {
    "duration": 339,
    "start_time": "2024-12-23T11:52:43.441Z"
   },
   {
    "duration": 303,
    "start_time": "2024-12-23T11:53:50.999Z"
   },
   {
    "duration": 342,
    "start_time": "2024-12-23T11:54:27.070Z"
   },
   {
    "duration": 222,
    "start_time": "2024-12-23T12:13:10.448Z"
   },
   {
    "duration": 234,
    "start_time": "2024-12-23T12:13:47.121Z"
   },
   {
    "duration": 208,
    "start_time": "2024-12-23T12:14:29.848Z"
   },
   {
    "duration": 343,
    "start_time": "2024-12-23T12:14:52.938Z"
   },
   {
    "duration": 231,
    "start_time": "2024-12-23T12:15:51.325Z"
   },
   {
    "duration": 323,
    "start_time": "2024-12-23T12:21:10.828Z"
   },
   {
    "duration": 365,
    "start_time": "2024-12-23T12:26:13.250Z"
   },
   {
    "duration": 339,
    "start_time": "2024-12-23T12:38:43.243Z"
   },
   {
    "duration": 272,
    "start_time": "2024-12-23T12:47:44.616Z"
   },
   {
    "duration": 9,
    "start_time": "2024-12-23T12:48:35.987Z"
   },
   {
    "duration": 133,
    "start_time": "2024-12-23T12:49:01.852Z"
   },
   {
    "duration": 127,
    "start_time": "2024-12-23T12:49:06.013Z"
   },
   {
    "duration": 13,
    "start_time": "2024-12-23T12:50:04.601Z"
   },
   {
    "duration": 12,
    "start_time": "2024-12-23T12:50:22.683Z"
   },
   {
    "duration": 149,
    "start_time": "2024-12-23T12:50:41.130Z"
   },
   {
    "duration": 131,
    "start_time": "2024-12-23T12:51:23.690Z"
   },
   {
    "duration": 112,
    "start_time": "2024-12-23T12:52:21.149Z"
   },
   {
    "duration": 140,
    "start_time": "2024-12-23T12:53:26.148Z"
   },
   {
    "duration": 144,
    "start_time": "2024-12-23T12:53:44.925Z"
   },
   {
    "duration": 4,
    "start_time": "2024-12-23T12:55:18.684Z"
   },
   {
    "duration": 4,
    "start_time": "2024-12-23T12:55:52.584Z"
   },
   {
    "duration": 135,
    "start_time": "2024-12-23T13:05:08.210Z"
   },
   {
    "duration": 15,
    "start_time": "2024-12-23T13:05:41.028Z"
   },
   {
    "duration": 56,
    "start_time": "2024-12-23T13:05:44.290Z"
   },
   {
    "duration": 13,
    "start_time": "2024-12-23T13:06:23.651Z"
   },
   {
    "duration": 13,
    "start_time": "2024-12-23T13:06:31.058Z"
   },
   {
    "duration": 14,
    "start_time": "2024-12-23T13:06:35.780Z"
   },
   {
    "duration": 9,
    "start_time": "2024-12-23T13:06:48.590Z"
   },
   {
    "duration": 57,
    "start_time": "2024-12-23T13:08:12.260Z"
   },
   {
    "duration": 1299,
    "start_time": "2024-12-23T13:09:19.994Z"
   },
   {
    "duration": 165,
    "start_time": "2024-12-23T13:09:27.987Z"
   },
   {
    "duration": 177,
    "start_time": "2024-12-23T13:10:08.231Z"
   },
   {
    "duration": 162,
    "start_time": "2024-12-23T13:14:50.825Z"
   },
   {
    "duration": 5,
    "start_time": "2024-12-23T13:17:43.180Z"
   },
   {
    "duration": 1236,
    "start_time": "2024-12-23T13:19:06.051Z"
   },
   {
    "duration": 74,
    "start_time": "2024-12-23T13:19:07.288Z"
   },
   {
    "duration": 13,
    "start_time": "2024-12-23T13:19:07.363Z"
   },
   {
    "duration": 16,
    "start_time": "2024-12-23T13:19:07.378Z"
   },
   {
    "duration": 32,
    "start_time": "2024-12-23T13:19:07.395Z"
   },
   {
    "duration": 88,
    "start_time": "2024-12-23T13:19:07.428Z"
   },
   {
    "duration": 19,
    "start_time": "2024-12-23T13:19:07.517Z"
   },
   {
    "duration": 89,
    "start_time": "2024-12-23T13:19:07.537Z"
   },
   {
    "duration": 47,
    "start_time": "2024-12-23T13:19:07.627Z"
   },
   {
    "duration": 14,
    "start_time": "2024-12-23T13:19:07.676Z"
   },
   {
    "duration": 20,
    "start_time": "2024-12-23T13:19:07.691Z"
   },
   {
    "duration": 18,
    "start_time": "2024-12-23T13:19:07.712Z"
   },
   {
    "duration": 14,
    "start_time": "2024-12-23T13:19:07.731Z"
   },
   {
    "duration": 210,
    "start_time": "2024-12-23T13:19:07.747Z"
   },
   {
    "duration": 122,
    "start_time": "2024-12-23T13:19:07.958Z"
   },
   {
    "duration": 8,
    "start_time": "2024-12-23T13:19:08.082Z"
   },
   {
    "duration": 38,
    "start_time": "2024-12-23T13:19:08.091Z"
   },
   {
    "duration": 29,
    "start_time": "2024-12-23T13:19:08.131Z"
   },
   {
    "duration": 299,
    "start_time": "2024-12-23T13:19:08.162Z"
   },
   {
    "duration": 214,
    "start_time": "2024-12-23T13:19:08.463Z"
   },
   {
    "duration": 318,
    "start_time": "2024-12-23T13:19:08.678Z"
   },
   {
    "duration": 256,
    "start_time": "2024-12-23T13:19:08.997Z"
   },
   {
    "duration": 334,
    "start_time": "2024-12-23T13:19:09.255Z"
   },
   {
    "duration": 211,
    "start_time": "2024-12-23T13:19:09.590Z"
   },
   {
    "duration": 152,
    "start_time": "2024-12-23T13:19:09.803Z"
   },
   {
    "duration": 4,
    "start_time": "2024-12-23T13:19:09.956Z"
   },
   {
    "duration": 56,
    "start_time": "2024-12-23T13:19:09.971Z"
   },
   {
    "duration": 185,
    "start_time": "2024-12-23T13:19:10.030Z"
   },
   {
    "duration": 176,
    "start_time": "2024-12-23T13:19:10.217Z"
   },
   {
    "duration": 4,
    "start_time": "2024-12-23T13:19:10.394Z"
   },
   {
    "duration": 97,
    "start_time": "2024-12-23T13:19:10.400Z"
   },
   {
    "duration": 56,
    "start_time": "2024-12-23T13:20:17.225Z"
   },
   {
    "duration": 229,
    "start_time": "2024-12-23T13:20:17.599Z"
   },
   {
    "duration": 149,
    "start_time": "2024-12-23T13:20:17.934Z"
   },
   {
    "duration": 4,
    "start_time": "2024-12-23T13:20:19.867Z"
   },
   {
    "duration": 160,
    "start_time": "2024-12-23T13:20:23.877Z"
   },
   {
    "duration": 57,
    "start_time": "2024-12-23T13:24:50.609Z"
   },
   {
    "duration": 222,
    "start_time": "2024-12-23T13:25:05.451Z"
   },
   {
    "duration": 125,
    "start_time": "2024-12-23T13:25:22.198Z"
   },
   {
    "duration": 133,
    "start_time": "2024-12-23T13:25:26.919Z"
   },
   {
    "duration": 215,
    "start_time": "2024-12-23T13:25:45.710Z"
   },
   {
    "duration": 170,
    "start_time": "2024-12-23T13:25:50.017Z"
   },
   {
    "duration": 132,
    "start_time": "2024-12-23T13:25:56.040Z"
   },
   {
    "duration": 157,
    "start_time": "2024-12-23T13:26:03.358Z"
   },
   {
    "duration": 1403,
    "start_time": "2024-12-23T13:26:03.959Z"
   },
   {
    "duration": 140,
    "start_time": "2024-12-23T13:26:20.788Z"
   },
   {
    "duration": 1927,
    "start_time": "2024-12-23T13:26:24.335Z"
   },
   {
    "duration": 5,
    "start_time": "2024-12-23T13:26:32.075Z"
   },
   {
    "duration": 56,
    "start_time": "2024-12-23T13:26:34.276Z"
   },
   {
    "duration": 186,
    "start_time": "2024-12-23T13:26:35.646Z"
   },
   {
    "duration": 164,
    "start_time": "2024-12-23T13:26:37.256Z"
   },
   {
    "duration": 5,
    "start_time": "2024-12-23T13:26:39.415Z"
   },
   {
    "duration": 5,
    "start_time": "2024-12-23T13:27:44.143Z"
   },
   {
    "duration": 15,
    "start_time": "2024-12-23T13:27:52.682Z"
   },
   {
    "duration": 13,
    "start_time": "2024-12-23T13:28:29.265Z"
   },
   {
    "duration": 9,
    "start_time": "2024-12-23T13:28:35.962Z"
   },
   {
    "duration": 156,
    "start_time": "2024-12-23T13:28:39.613Z"
   },
   {
    "duration": 165,
    "start_time": "2024-12-23T13:28:56.837Z"
   },
   {
    "duration": 5,
    "start_time": "2024-12-23T13:29:00.985Z"
   },
   {
    "duration": 11,
    "start_time": "2024-12-23T13:29:42.440Z"
   },
   {
    "duration": 325,
    "start_time": "2024-12-23T13:29:47.460Z"
   },
   {
    "duration": 159,
    "start_time": "2024-12-23T13:30:32.540Z"
   },
   {
    "duration": 152,
    "start_time": "2024-12-23T13:31:18.159Z"
   },
   {
    "duration": 10,
    "start_time": "2024-12-23T13:32:08.628Z"
   },
   {
    "duration": 239,
    "start_time": "2024-12-23T13:33:58.467Z"
   },
   {
    "duration": 160,
    "start_time": "2024-12-23T13:34:40.808Z"
   },
   {
    "duration": 165,
    "start_time": "2024-12-23T13:34:53.446Z"
   },
   {
    "duration": 150,
    "start_time": "2024-12-23T13:34:59.075Z"
   },
   {
    "duration": 4,
    "start_time": "2024-12-23T13:35:14.014Z"
   },
   {
    "duration": 10,
    "start_time": "2024-12-23T13:36:08.313Z"
   },
   {
    "duration": 111,
    "start_time": "2024-12-23T13:48:32.193Z"
   },
   {
    "duration": 127,
    "start_time": "2024-12-23T13:49:21.644Z"
   },
   {
    "duration": 226,
    "start_time": "2024-12-23T13:49:59.304Z"
   },
   {
    "duration": 228,
    "start_time": "2024-12-23T13:50:25.122Z"
   },
   {
    "duration": 108,
    "start_time": "2024-12-23T13:53:05.228Z"
   },
   {
    "duration": 88,
    "start_time": "2024-12-23T13:53:53.580Z"
   },
   {
    "duration": 234,
    "start_time": "2024-12-23T13:54:12.748Z"
   },
   {
    "duration": 136,
    "start_time": "2024-12-23T13:56:12.447Z"
   },
   {
    "duration": 1276,
    "start_time": "2024-12-23T13:56:43.432Z"
   },
   {
    "duration": 7,
    "start_time": "2024-12-23T13:57:06.441Z"
   },
   {
    "duration": 1472,
    "start_time": "2024-12-23T14:00:48.576Z"
   },
   {
    "duration": 135,
    "start_time": "2024-12-23T14:01:04.487Z"
   },
   {
    "duration": 6,
    "start_time": "2024-12-23T14:01:07.329Z"
   },
   {
    "duration": 10,
    "start_time": "2024-12-23T14:02:20.875Z"
   },
   {
    "duration": 3,
    "start_time": "2024-12-23T14:03:04.674Z"
   },
   {
    "duration": 1218,
    "start_time": "2024-12-23T14:03:09.733Z"
   },
   {
    "duration": 74,
    "start_time": "2024-12-23T14:03:10.953Z"
   },
   {
    "duration": 14,
    "start_time": "2024-12-23T14:03:11.028Z"
   },
   {
    "duration": 19,
    "start_time": "2024-12-23T14:03:11.043Z"
   },
   {
    "duration": 9,
    "start_time": "2024-12-23T14:03:11.065Z"
   },
   {
    "duration": 11,
    "start_time": "2024-12-23T14:03:11.075Z"
   },
   {
    "duration": 12,
    "start_time": "2024-12-23T14:03:11.088Z"
   },
   {
    "duration": 14,
    "start_time": "2024-12-23T14:03:11.102Z"
   },
   {
    "duration": 21,
    "start_time": "2024-12-23T14:03:11.118Z"
   },
   {
    "duration": 8,
    "start_time": "2024-12-23T14:03:11.141Z"
   },
   {
    "duration": 85,
    "start_time": "2024-12-23T14:03:11.150Z"
   },
   {
    "duration": 11,
    "start_time": "2024-12-23T14:03:11.237Z"
   },
   {
    "duration": 9,
    "start_time": "2024-12-23T14:03:11.249Z"
   },
   {
    "duration": 172,
    "start_time": "2024-12-23T14:03:11.261Z"
   },
   {
    "duration": 123,
    "start_time": "2024-12-23T14:03:11.435Z"
   },
   {
    "duration": 12,
    "start_time": "2024-12-23T14:03:11.560Z"
   },
   {
    "duration": 9,
    "start_time": "2024-12-23T14:03:11.574Z"
   },
   {
    "duration": 12,
    "start_time": "2024-12-23T14:03:11.585Z"
   },
   {
    "duration": 324,
    "start_time": "2024-12-23T14:03:11.599Z"
   },
   {
    "duration": 224,
    "start_time": "2024-12-23T14:03:11.925Z"
   },
   {
    "duration": 328,
    "start_time": "2024-12-23T14:03:12.151Z"
   },
   {
    "duration": 246,
    "start_time": "2024-12-23T14:03:12.482Z"
   },
   {
    "duration": 347,
    "start_time": "2024-12-23T14:03:12.730Z"
   },
   {
    "duration": 148,
    "start_time": "2024-12-23T14:03:13.079Z"
   },
   {
    "duration": 146,
    "start_time": "2024-12-23T14:03:13.229Z"
   },
   {
    "duration": 5,
    "start_time": "2024-12-23T14:03:13.377Z"
   },
   {
    "duration": 11,
    "start_time": "2024-12-23T14:03:13.384Z"
   },
   {
    "duration": 200,
    "start_time": "2024-12-23T14:03:13.396Z"
   },
   {
    "duration": 162,
    "start_time": "2024-12-23T14:03:13.599Z"
   },
   {
    "duration": 105,
    "start_time": "2024-12-23T14:03:13.771Z"
   },
   {
    "duration": 0,
    "start_time": "2024-12-23T14:03:13.878Z"
   },
   {
    "duration": 0,
    "start_time": "2024-12-23T14:03:13.880Z"
   },
   {
    "duration": 0,
    "start_time": "2024-12-23T14:03:13.881Z"
   },
   {
    "duration": 0,
    "start_time": "2024-12-23T14:03:13.883Z"
   },
   {
    "duration": 9,
    "start_time": "2024-12-23T14:04:08.155Z"
   },
   {
    "duration": 4,
    "start_time": "2024-12-23T14:04:30.096Z"
   },
   {
    "duration": 314,
    "start_time": "2024-12-23T14:04:32.176Z"
   },
   {
    "duration": 133,
    "start_time": "2024-12-23T14:04:32.530Z"
   },
   {
    "duration": 7,
    "start_time": "2024-12-23T14:04:32.816Z"
   },
   {
    "duration": 26,
    "start_time": "2024-12-23T14:04:33.082Z"
   },
   {
    "duration": 28,
    "start_time": "2024-12-23T14:05:03.739Z"
   },
   {
    "duration": 27,
    "start_time": "2024-12-23T14:05:21.920Z"
   },
   {
    "duration": 27,
    "start_time": "2024-12-23T14:06:18.909Z"
   },
   {
    "duration": 11,
    "start_time": "2024-12-23T14:16:20.324Z"
   },
   {
    "duration": 12,
    "start_time": "2024-12-23T14:16:45.074Z"
   },
   {
    "duration": 0,
    "start_time": "2024-12-23T14:25:21.839Z"
   },
   {
    "duration": 1289,
    "start_time": "2024-12-23T14:25:24.232Z"
   },
   {
    "duration": 9,
    "start_time": "2024-12-23T14:25:37.940Z"
   },
   {
    "duration": 32,
    "start_time": "2024-12-23T14:27:09.796Z"
   },
   {
    "duration": 31,
    "start_time": "2024-12-23T14:27:48.178Z"
   },
   {
    "duration": 86,
    "start_time": "2024-12-23T14:28:40.483Z"
   },
   {
    "duration": 41,
    "start_time": "2024-12-23T14:32:10.140Z"
   },
   {
    "duration": 22,
    "start_time": "2024-12-23T14:34:55.769Z"
   },
   {
    "duration": 84,
    "start_time": "2024-12-23T14:39:21.550Z"
   },
   {
    "duration": 1382,
    "start_time": "2024-12-24T13:18:13.442Z"
   },
   {
    "duration": 222,
    "start_time": "2024-12-24T13:18:14.827Z"
   },
   {
    "duration": 19,
    "start_time": "2024-12-24T13:18:15.052Z"
   },
   {
    "duration": 33,
    "start_time": "2024-12-24T13:18:15.073Z"
   },
   {
    "duration": 46,
    "start_time": "2024-12-24T13:18:15.108Z"
   },
   {
    "duration": 30,
    "start_time": "2024-12-24T13:18:15.156Z"
   },
   {
    "duration": 91,
    "start_time": "2024-12-24T13:18:15.188Z"
   },
   {
    "duration": 30,
    "start_time": "2024-12-24T13:18:15.280Z"
   },
   {
    "duration": 45,
    "start_time": "2024-12-24T13:18:15.312Z"
   },
   {
    "duration": 37,
    "start_time": "2024-12-24T13:18:15.361Z"
   },
   {
    "duration": 29,
    "start_time": "2024-12-24T13:18:15.400Z"
   },
   {
    "duration": 26,
    "start_time": "2024-12-24T13:18:15.432Z"
   },
   {
    "duration": 20,
    "start_time": "2024-12-24T13:18:15.461Z"
   },
   {
    "duration": 206,
    "start_time": "2024-12-24T13:18:15.483Z"
   },
   {
    "duration": 120,
    "start_time": "2024-12-24T13:18:15.691Z"
   },
   {
    "duration": 8,
    "start_time": "2024-12-24T13:18:15.813Z"
   },
   {
    "duration": 20,
    "start_time": "2024-12-24T13:18:15.823Z"
   },
   {
    "duration": 22,
    "start_time": "2024-12-24T13:18:15.844Z"
   },
   {
    "duration": 309,
    "start_time": "2024-12-24T13:18:15.867Z"
   },
   {
    "duration": 212,
    "start_time": "2024-12-24T13:18:16.178Z"
   },
   {
    "duration": 335,
    "start_time": "2024-12-24T13:18:16.391Z"
   },
   {
    "duration": 258,
    "start_time": "2024-12-24T13:18:16.728Z"
   },
   {
    "duration": 388,
    "start_time": "2024-12-24T13:18:16.988Z"
   },
   {
    "duration": 154,
    "start_time": "2024-12-24T13:18:17.378Z"
   },
   {
    "duration": 153,
    "start_time": "2024-12-24T13:18:17.534Z"
   },
   {
    "duration": 5,
    "start_time": "2024-12-24T13:18:17.688Z"
   },
   {
    "duration": 28,
    "start_time": "2024-12-24T13:18:17.695Z"
   },
   {
    "duration": 153,
    "start_time": "2024-12-24T13:18:17.727Z"
   },
   {
    "duration": 170,
    "start_time": "2024-12-24T13:18:17.887Z"
   },
   {
    "duration": 5,
    "start_time": "2024-12-24T13:18:18.058Z"
   },
   {
    "duration": 330,
    "start_time": "2024-12-24T13:18:18.065Z"
   },
   {
    "duration": 164,
    "start_time": "2024-12-24T13:18:18.396Z"
   },
   {
    "duration": 7,
    "start_time": "2024-12-24T13:18:18.562Z"
   },
   {
    "duration": 59,
    "start_time": "2024-12-24T13:18:18.571Z"
   },
   {
    "duration": 15,
    "start_time": "2024-12-24T13:18:18.632Z"
   },
   {
    "duration": 14,
    "start_time": "2024-12-24T13:18:18.649Z"
   },
   {
    "duration": 64,
    "start_time": "2024-12-24T13:18:18.665Z"
   },
   {
    "duration": 78,
    "start_time": "2024-12-24T13:18:18.731Z"
   },
   {
    "duration": 0,
    "start_time": "2024-12-24T13:18:18.811Z"
   },
   {
    "duration": 991,
    "start_time": "2024-12-24T16:04:07.904Z"
   },
   {
    "duration": 206,
    "start_time": "2024-12-24T16:04:08.896Z"
   },
   {
    "duration": 12,
    "start_time": "2024-12-24T16:04:09.103Z"
   },
   {
    "duration": 9,
    "start_time": "2024-12-24T16:04:09.117Z"
   },
   {
    "duration": 8,
    "start_time": "2024-12-24T16:04:09.127Z"
   },
   {
    "duration": 9,
    "start_time": "2024-12-24T16:04:09.136Z"
   },
   {
    "duration": 22,
    "start_time": "2024-12-24T16:04:09.146Z"
   },
   {
    "duration": 16,
    "start_time": "2024-12-24T16:04:09.169Z"
   },
   {
    "duration": 12,
    "start_time": "2024-12-24T16:04:09.187Z"
   },
   {
    "duration": 7,
    "start_time": "2024-12-24T16:04:09.200Z"
   },
   {
    "duration": 11,
    "start_time": "2024-12-24T16:04:09.208Z"
   },
   {
    "duration": 9,
    "start_time": "2024-12-24T16:04:09.221Z"
   },
   {
    "duration": 6,
    "start_time": "2024-12-24T16:04:09.231Z"
   },
   {
    "duration": 157,
    "start_time": "2024-12-24T16:04:09.240Z"
   },
   {
    "duration": 111,
    "start_time": "2024-12-24T16:04:09.399Z"
   },
   {
    "duration": 8,
    "start_time": "2024-12-24T16:04:09.511Z"
   },
   {
    "duration": 7,
    "start_time": "2024-12-24T16:04:09.520Z"
   },
   {
    "duration": 65,
    "start_time": "2024-12-24T16:04:09.529Z"
   },
   {
    "duration": 273,
    "start_time": "2024-12-24T16:04:09.596Z"
   },
   {
    "duration": 204,
    "start_time": "2024-12-24T16:04:09.870Z"
   },
   {
    "duration": 284,
    "start_time": "2024-12-24T16:04:10.076Z"
   },
   {
    "duration": 209,
    "start_time": "2024-12-24T16:04:10.361Z"
   },
   {
    "duration": 312,
    "start_time": "2024-12-24T16:04:10.571Z"
   },
   {
    "duration": 144,
    "start_time": "2024-12-24T16:04:10.885Z"
   },
   {
    "duration": 139,
    "start_time": "2024-12-24T16:04:11.030Z"
   },
   {
    "duration": 5,
    "start_time": "2024-12-24T16:04:11.171Z"
   },
   {
    "duration": 12,
    "start_time": "2024-12-24T16:04:11.177Z"
   },
   {
    "duration": 168,
    "start_time": "2024-12-24T16:04:11.190Z"
   },
   {
    "duration": 143,
    "start_time": "2024-12-24T16:04:11.360Z"
   },
   {
    "duration": 4,
    "start_time": "2024-12-24T16:04:11.504Z"
   },
   {
    "duration": 284,
    "start_time": "2024-12-24T16:04:11.509Z"
   },
   {
    "duration": 139,
    "start_time": "2024-12-24T16:04:11.795Z"
   },
   {
    "duration": 6,
    "start_time": "2024-12-24T16:04:11.936Z"
   },
   {
    "duration": 29,
    "start_time": "2024-12-24T16:04:11.943Z"
   },
   {
    "duration": 16,
    "start_time": "2024-12-24T16:04:11.974Z"
   },
   {
    "duration": 8,
    "start_time": "2024-12-24T16:04:11.992Z"
   },
   {
    "duration": 26,
    "start_time": "2024-12-24T16:04:12.001Z"
   },
   {
    "duration": 70,
    "start_time": "2024-12-24T16:04:12.028Z"
   },
   {
    "duration": 0,
    "start_time": "2024-12-24T16:04:12.099Z"
   },
   {
    "duration": 13,
    "start_time": "2024-12-24T16:29:42.252Z"
   },
   {
    "duration": 1002,
    "start_time": "2024-12-24T16:31:17.689Z"
   },
   {
    "duration": 71,
    "start_time": "2024-12-24T16:31:18.692Z"
   },
   {
    "duration": 12,
    "start_time": "2024-12-24T16:31:18.764Z"
   },
   {
    "duration": 36,
    "start_time": "2024-12-24T16:31:18.777Z"
   },
   {
    "duration": 24,
    "start_time": "2024-12-24T16:31:18.815Z"
   },
   {
    "duration": 12,
    "start_time": "2024-12-24T16:31:18.841Z"
   },
   {
    "duration": 20,
    "start_time": "2024-12-24T16:31:18.854Z"
   },
   {
    "duration": 34,
    "start_time": "2024-12-24T16:31:18.875Z"
   },
   {
    "duration": 33,
    "start_time": "2024-12-24T16:31:18.911Z"
   },
   {
    "duration": 6,
    "start_time": "2024-12-24T16:31:18.945Z"
   },
   {
    "duration": 16,
    "start_time": "2024-12-24T16:31:18.952Z"
   },
   {
    "duration": 16,
    "start_time": "2024-12-24T16:31:18.969Z"
   },
   {
    "duration": 20,
    "start_time": "2024-12-24T16:31:18.987Z"
   },
   {
    "duration": 168,
    "start_time": "2024-12-24T16:31:19.010Z"
   },
   {
    "duration": 111,
    "start_time": "2024-12-24T16:31:19.180Z"
   },
   {
    "duration": 7,
    "start_time": "2024-12-24T16:31:19.292Z"
   },
   {
    "duration": 30,
    "start_time": "2024-12-24T16:31:19.301Z"
   },
   {
    "duration": 22,
    "start_time": "2024-12-24T16:31:19.333Z"
   },
   {
    "duration": 268,
    "start_time": "2024-12-24T16:31:19.357Z"
   },
   {
    "duration": 189,
    "start_time": "2024-12-24T16:31:19.627Z"
   },
   {
    "duration": 295,
    "start_time": "2024-12-24T16:31:19.817Z"
   },
   {
    "duration": 211,
    "start_time": "2024-12-24T16:31:20.113Z"
   },
   {
    "duration": 329,
    "start_time": "2024-12-24T16:31:20.325Z"
   },
   {
    "duration": 137,
    "start_time": "2024-12-24T16:31:20.656Z"
   },
   {
    "duration": 130,
    "start_time": "2024-12-24T16:31:20.794Z"
   },
   {
    "duration": 4,
    "start_time": "2024-12-24T16:31:20.925Z"
   },
   {
    "duration": 23,
    "start_time": "2024-12-24T16:31:20.930Z"
   },
   {
    "duration": 141,
    "start_time": "2024-12-24T16:31:20.954Z"
   },
   {
    "duration": 145,
    "start_time": "2024-12-24T16:31:21.096Z"
   },
   {
    "duration": 11,
    "start_time": "2024-12-24T16:31:21.242Z"
   },
   {
    "duration": 263,
    "start_time": "2024-12-24T16:31:21.255Z"
   },
   {
    "duration": 145,
    "start_time": "2024-12-24T16:31:21.520Z"
   },
   {
    "duration": 5,
    "start_time": "2024-12-24T16:31:21.667Z"
   },
   {
    "duration": 63,
    "start_time": "2024-12-24T16:31:21.673Z"
   },
   {
    "duration": 83,
    "start_time": "2024-12-24T16:31:21.738Z"
   },
   {
    "duration": 43,
    "start_time": "2024-12-24T16:31:21.823Z"
   },
   {
    "duration": 47,
    "start_time": "2024-12-24T16:31:21.868Z"
   },
   {
    "duration": 55,
    "start_time": "2024-12-24T16:31:21.916Z"
   },
   {
    "duration": 99,
    "start_time": "2024-12-25T07:29:22.515Z"
   },
   {
    "duration": 42,
    "start_time": "2024-12-25T11:29:04.726Z"
   },
   {
    "duration": 1238,
    "start_time": "2024-12-25T11:29:21.383Z"
   },
   {
    "duration": 245,
    "start_time": "2024-12-25T11:29:22.623Z"
   },
   {
    "duration": 12,
    "start_time": "2024-12-25T11:29:22.869Z"
   },
   {
    "duration": 11,
    "start_time": "2024-12-25T11:29:22.882Z"
   },
   {
    "duration": 12,
    "start_time": "2024-12-25T11:29:22.895Z"
   },
   {
    "duration": 11,
    "start_time": "2024-12-25T11:29:22.908Z"
   },
   {
    "duration": 6,
    "start_time": "2024-12-25T11:29:22.921Z"
   },
   {
    "duration": 10,
    "start_time": "2024-12-25T11:29:22.928Z"
   },
   {
    "duration": 16,
    "start_time": "2024-12-25T11:29:22.939Z"
   },
   {
    "duration": 14,
    "start_time": "2024-12-25T11:29:22.956Z"
   },
   {
    "duration": 19,
    "start_time": "2024-12-25T11:29:22.972Z"
   },
   {
    "duration": 18,
    "start_time": "2024-12-25T11:29:22.992Z"
   },
   {
    "duration": 9,
    "start_time": "2024-12-25T11:29:23.011Z"
   },
   {
    "duration": 7,
    "start_time": "2024-12-25T11:29:23.023Z"
   },
   {
    "duration": 160,
    "start_time": "2024-12-25T11:29:23.032Z"
   },
   {
    "duration": 120,
    "start_time": "2024-12-25T11:29:23.194Z"
   },
   {
    "duration": 7,
    "start_time": "2024-12-25T11:29:23.315Z"
   },
   {
    "duration": 7,
    "start_time": "2024-12-25T11:29:23.324Z"
   },
   {
    "duration": 28,
    "start_time": "2024-12-25T11:29:23.332Z"
   },
   {
    "duration": 274,
    "start_time": "2024-12-25T11:29:23.362Z"
   },
   {
    "duration": 193,
    "start_time": "2024-12-25T11:29:23.638Z"
   },
   {
    "duration": 361,
    "start_time": "2024-12-25T11:29:23.833Z"
   },
   {
    "duration": 233,
    "start_time": "2024-12-25T11:29:24.196Z"
   },
   {
    "duration": 327,
    "start_time": "2024-12-25T11:29:24.432Z"
   },
   {
    "duration": 131,
    "start_time": "2024-12-25T11:29:24.761Z"
   },
   {
    "duration": 135,
    "start_time": "2024-12-25T11:29:24.894Z"
   },
   {
    "duration": 4,
    "start_time": "2024-12-25T11:29:25.030Z"
   },
   {
    "duration": 19,
    "start_time": "2024-12-25T11:29:25.035Z"
   },
   {
    "duration": 144,
    "start_time": "2024-12-25T11:29:25.056Z"
   },
   {
    "duration": 139,
    "start_time": "2024-12-25T11:29:25.202Z"
   },
   {
    "duration": 5,
    "start_time": "2024-12-25T11:29:25.342Z"
   },
   {
    "duration": 293,
    "start_time": "2024-12-25T11:29:25.354Z"
   },
   {
    "duration": 138,
    "start_time": "2024-12-25T11:29:25.648Z"
   },
   {
    "duration": 6,
    "start_time": "2024-12-25T11:29:25.788Z"
   },
   {
    "duration": 47,
    "start_time": "2024-12-25T11:29:25.795Z"
   },
   {
    "duration": 10,
    "start_time": "2024-12-25T11:29:25.843Z"
   },
   {
    "duration": 9,
    "start_time": "2024-12-25T11:29:25.854Z"
   },
   {
    "duration": 26,
    "start_time": "2024-12-25T11:29:25.864Z"
   },
   {
    "duration": 13,
    "start_time": "2024-12-25T11:29:25.892Z"
   },
   {
    "duration": 5,
    "start_time": "2024-12-25T11:33:19.779Z"
   },
   {
    "duration": 5,
    "start_time": "2024-12-25T11:33:33.943Z"
   },
   {
    "duration": 6,
    "start_time": "2024-12-25T11:33:48.514Z"
   },
   {
    "duration": 5,
    "start_time": "2024-12-25T11:38:02.975Z"
   },
   {
    "duration": 7,
    "start_time": "2024-12-25T11:38:11.962Z"
   },
   {
    "duration": 5,
    "start_time": "2024-12-25T11:39:00.968Z"
   },
   {
    "duration": 7,
    "start_time": "2024-12-25T11:39:13.768Z"
   },
   {
    "duration": 8,
    "start_time": "2024-12-25T11:39:25.184Z"
   },
   {
    "duration": 6,
    "start_time": "2024-12-25T11:39:45.459Z"
   },
   {
    "duration": 7,
    "start_time": "2024-12-25T11:39:53.154Z"
   },
   {
    "duration": 12,
    "start_time": "2024-12-25T11:41:47.828Z"
   },
   {
    "duration": 12,
    "start_time": "2024-12-25T11:42:01.572Z"
   },
   {
    "duration": 11,
    "start_time": "2024-12-25T11:42:04.651Z"
   },
   {
    "duration": 81,
    "start_time": "2024-12-25T11:42:26.617Z"
   },
   {
    "duration": 206,
    "start_time": "2024-12-25T11:43:10.330Z"
   },
   {
    "duration": 224,
    "start_time": "2024-12-25T11:43:16.706Z"
   },
   {
    "duration": 191,
    "start_time": "2024-12-25T11:43:24.819Z"
   },
   {
    "duration": 293,
    "start_time": "2024-12-25T11:43:31.161Z"
   },
   {
    "duration": 220,
    "start_time": "2024-12-25T11:44:03.282Z"
   },
   {
    "duration": 289,
    "start_time": "2024-12-25T11:44:15.782Z"
   },
   {
    "duration": 129,
    "start_time": "2024-12-25T11:44:21.286Z"
   },
   {
    "duration": 149,
    "start_time": "2024-12-25T11:44:29.083Z"
   },
   {
    "duration": 144,
    "start_time": "2024-12-25T11:44:31.777Z"
   },
   {
    "duration": 4,
    "start_time": "2024-12-25T12:27:02.815Z"
   },
   {
    "duration": 82,
    "start_time": "2024-12-25T12:30:55.510Z"
   },
   {
    "duration": 5,
    "start_time": "2024-12-25T12:31:01.094Z"
   },
   {
    "duration": 3,
    "start_time": "2024-12-25T12:31:09.962Z"
   },
   {
    "duration": 10,
    "start_time": "2024-12-25T12:31:14.577Z"
   },
   {
    "duration": 10,
    "start_time": "2024-12-25T12:31:38.348Z"
   },
   {
    "duration": 9,
    "start_time": "2024-12-25T12:32:06.874Z"
   },
   {
    "duration": 13,
    "start_time": "2024-12-25T12:32:45.750Z"
   },
   {
    "duration": 5,
    "start_time": "2024-12-25T12:34:10.897Z"
   },
   {
    "duration": 4,
    "start_time": "2024-12-25T12:34:16.199Z"
   },
   {
    "duration": 92,
    "start_time": "2024-12-25T12:34:20.796Z"
   },
   {
    "duration": 4,
    "start_time": "2024-12-25T12:34:25.003Z"
   },
   {
    "duration": 10,
    "start_time": "2024-12-25T12:34:45.095Z"
   },
   {
    "duration": 7,
    "start_time": "2024-12-25T12:35:29.671Z"
   },
   {
    "duration": 8,
    "start_time": "2024-12-25T12:35:43.501Z"
   },
   {
    "duration": 4,
    "start_time": "2024-12-25T12:36:33.416Z"
   },
   {
    "duration": 9,
    "start_time": "2024-12-25T12:36:39.092Z"
   },
   {
    "duration": 8,
    "start_time": "2024-12-25T12:48:38.615Z"
   },
   {
    "duration": 7,
    "start_time": "2024-12-25T12:48:54.030Z"
   },
   {
    "duration": 7,
    "start_time": "2024-12-25T12:49:17.852Z"
   },
   {
    "duration": 307,
    "start_time": "2024-12-25T12:49:58.914Z"
   },
   {
    "duration": 10,
    "start_time": "2024-12-25T12:53:22.432Z"
   },
   {
    "duration": 10,
    "start_time": "2024-12-25T12:53:36.663Z"
   },
   {
    "duration": 85,
    "start_time": "2024-12-25T13:12:17.735Z"
   },
   {
    "duration": 8,
    "start_time": "2024-12-25T13:33:26.487Z"
   },
   {
    "duration": 13,
    "start_time": "2024-12-25T13:33:34.410Z"
   },
   {
    "duration": 6,
    "start_time": "2024-12-25T13:34:08.399Z"
   },
   {
    "duration": 7,
    "start_time": "2024-12-25T13:34:27.736Z"
   },
   {
    "duration": 6,
    "start_time": "2024-12-25T13:34:37.577Z"
   },
   {
    "duration": 6,
    "start_time": "2024-12-25T13:35:21.866Z"
   },
   {
    "duration": 7,
    "start_time": "2024-12-25T13:35:28.382Z"
   },
   {
    "duration": 2,
    "start_time": "2024-12-25T13:39:50.324Z"
   },
   {
    "duration": 4,
    "start_time": "2024-12-25T13:39:56.216Z"
   },
   {
    "duration": 7,
    "start_time": "2024-12-25T13:40:10.350Z"
   },
   {
    "duration": 10,
    "start_time": "2024-12-25T13:40:23.871Z"
   },
   {
    "duration": 6,
    "start_time": "2024-12-25T13:40:26.930Z"
   },
   {
    "duration": 4,
    "start_time": "2024-12-25T13:41:51.994Z"
   },
   {
    "duration": 3,
    "start_time": "2024-12-25T13:41:58.345Z"
   },
   {
    "duration": 4,
    "start_time": "2024-12-25T13:42:00.540Z"
   },
   {
    "duration": 1318,
    "start_time": "2024-12-25T13:44:34.577Z"
   },
   {
    "duration": 1355,
    "start_time": "2024-12-25T13:44:40.634Z"
   },
   {
    "duration": 14,
    "start_time": "2024-12-25T13:44:43.727Z"
   },
   {
    "duration": 6,
    "start_time": "2024-12-25T13:47:10.502Z"
   },
   {
    "duration": 11,
    "start_time": "2024-12-25T13:47:27.640Z"
   },
   {
    "duration": 1114,
    "start_time": "2024-12-25T13:47:49.782Z"
   },
   {
    "duration": 78,
    "start_time": "2024-12-25T13:47:50.898Z"
   },
   {
    "duration": 12,
    "start_time": "2024-12-25T13:47:50.977Z"
   },
   {
    "duration": 10,
    "start_time": "2024-12-25T13:47:50.991Z"
   },
   {
    "duration": 9,
    "start_time": "2024-12-25T13:47:51.002Z"
   },
   {
    "duration": 9,
    "start_time": "2024-12-25T13:47:51.012Z"
   },
   {
    "duration": 15,
    "start_time": "2024-12-25T13:47:51.022Z"
   },
   {
    "duration": 20,
    "start_time": "2024-12-25T13:47:51.038Z"
   },
   {
    "duration": 12,
    "start_time": "2024-12-25T13:47:51.060Z"
   },
   {
    "duration": 14,
    "start_time": "2024-12-25T13:47:51.074Z"
   },
   {
    "duration": 44,
    "start_time": "2024-12-25T13:47:51.089Z"
   },
   {
    "duration": 117,
    "start_time": "2024-12-25T13:47:51.134Z"
   },
   {
    "duration": 0,
    "start_time": "2024-12-25T13:47:51.253Z"
   },
   {
    "duration": 0,
    "start_time": "2024-12-25T13:47:51.255Z"
   },
   {
    "duration": 0,
    "start_time": "2024-12-25T13:47:51.256Z"
   },
   {
    "duration": 0,
    "start_time": "2024-12-25T13:47:51.256Z"
   },
   {
    "duration": 0,
    "start_time": "2024-12-25T13:47:51.258Z"
   },
   {
    "duration": 0,
    "start_time": "2024-12-25T13:47:51.258Z"
   },
   {
    "duration": 0,
    "start_time": "2024-12-25T13:47:51.260Z"
   },
   {
    "duration": 0,
    "start_time": "2024-12-25T13:47:51.261Z"
   },
   {
    "duration": 0,
    "start_time": "2024-12-25T13:47:51.261Z"
   },
   {
    "duration": 0,
    "start_time": "2024-12-25T13:47:51.262Z"
   },
   {
    "duration": 0,
    "start_time": "2024-12-25T13:47:51.263Z"
   },
   {
    "duration": 0,
    "start_time": "2024-12-25T13:47:51.264Z"
   },
   {
    "duration": 0,
    "start_time": "2024-12-25T13:47:51.265Z"
   },
   {
    "duration": 0,
    "start_time": "2024-12-25T13:47:51.266Z"
   },
   {
    "duration": 0,
    "start_time": "2024-12-25T13:47:51.267Z"
   },
   {
    "duration": 0,
    "start_time": "2024-12-25T13:47:51.268Z"
   },
   {
    "duration": 0,
    "start_time": "2024-12-25T13:47:51.269Z"
   },
   {
    "duration": 0,
    "start_time": "2024-12-25T13:47:51.270Z"
   },
   {
    "duration": 0,
    "start_time": "2024-12-25T13:47:51.271Z"
   },
   {
    "duration": 0,
    "start_time": "2024-12-25T13:47:51.272Z"
   },
   {
    "duration": 0,
    "start_time": "2024-12-25T13:47:51.273Z"
   },
   {
    "duration": 0,
    "start_time": "2024-12-25T13:47:51.274Z"
   },
   {
    "duration": 0,
    "start_time": "2024-12-25T13:47:51.275Z"
   },
   {
    "duration": 0,
    "start_time": "2024-12-25T13:47:51.276Z"
   },
   {
    "duration": 0,
    "start_time": "2024-12-25T13:47:51.277Z"
   },
   {
    "duration": 0,
    "start_time": "2024-12-25T13:47:51.278Z"
   },
   {
    "duration": 0,
    "start_time": "2024-12-25T13:47:51.279Z"
   },
   {
    "duration": 0,
    "start_time": "2024-12-25T13:47:51.280Z"
   },
   {
    "duration": 0,
    "start_time": "2024-12-25T13:47:51.281Z"
   },
   {
    "duration": 0,
    "start_time": "2024-12-25T13:47:51.282Z"
   },
   {
    "duration": 0,
    "start_time": "2024-12-25T13:47:51.282Z"
   },
   {
    "duration": 27,
    "start_time": "2024-12-25T13:49:15.747Z"
   },
   {
    "duration": 23,
    "start_time": "2024-12-25T13:49:17.215Z"
   },
   {
    "duration": 4,
    "start_time": "2024-12-25T13:49:19.812Z"
   },
   {
    "duration": 2,
    "start_time": "2024-12-25T13:49:20.755Z"
   },
   {
    "duration": 24,
    "start_time": "2024-12-25T13:49:21.068Z"
   },
   {
    "duration": 5,
    "start_time": "2024-12-25T13:49:49.631Z"
   },
   {
    "duration": 6,
    "start_time": "2024-12-25T13:49:55.951Z"
   },
   {
    "duration": 5,
    "start_time": "2024-12-25T13:50:01.161Z"
   },
   {
    "duration": 5,
    "start_time": "2024-12-25T13:50:03.471Z"
   },
   {
    "duration": 5,
    "start_time": "2024-12-25T13:50:20.424Z"
   },
   {
    "duration": 7,
    "start_time": "2024-12-25T13:50:21.174Z"
   },
   {
    "duration": 5,
    "start_time": "2024-12-25T13:50:22.055Z"
   },
   {
    "duration": 3,
    "start_time": "2024-12-25T13:50:23.268Z"
   },
   {
    "duration": 8,
    "start_time": "2024-12-25T13:50:49.202Z"
   },
   {
    "duration": 5,
    "start_time": "2024-12-25T13:50:56.095Z"
   },
   {
    "duration": 10,
    "start_time": "2024-12-25T13:51:06.651Z"
   },
   {
    "duration": 6,
    "start_time": "2024-12-25T13:51:13.865Z"
   },
   {
    "duration": 4,
    "start_time": "2024-12-25T13:51:14.563Z"
   },
   {
    "duration": 8,
    "start_time": "2024-12-25T13:51:18.405Z"
   },
   {
    "duration": 5,
    "start_time": "2024-12-25T13:51:21.379Z"
   },
   {
    "duration": 4,
    "start_time": "2024-12-25T13:51:22.971Z"
   },
   {
    "duration": 5,
    "start_time": "2024-12-25T13:51:23.638Z"
   },
   {
    "duration": 8,
    "start_time": "2024-12-25T13:51:33.783Z"
   },
   {
    "duration": 5,
    "start_time": "2024-12-25T13:51:40.239Z"
   },
   {
    "duration": 6,
    "start_time": "2024-12-25T13:51:40.657Z"
   },
   {
    "duration": 4,
    "start_time": "2024-12-25T13:52:27.703Z"
   },
   {
    "duration": 7,
    "start_time": "2024-12-25T13:52:33.168Z"
   },
   {
    "duration": 1095,
    "start_time": "2024-12-25T13:52:45.194Z"
   },
   {
    "duration": 79,
    "start_time": "2024-12-25T13:52:46.291Z"
   },
   {
    "duration": 13,
    "start_time": "2024-12-25T13:52:46.371Z"
   },
   {
    "duration": 10,
    "start_time": "2024-12-25T13:52:46.386Z"
   },
   {
    "duration": 8,
    "start_time": "2024-12-25T13:52:46.397Z"
   },
   {
    "duration": 10,
    "start_time": "2024-12-25T13:52:46.406Z"
   },
   {
    "duration": 7,
    "start_time": "2024-12-25T13:52:46.417Z"
   },
   {
    "duration": 4,
    "start_time": "2024-12-25T13:52:46.426Z"
   },
   {
    "duration": 27,
    "start_time": "2024-12-25T13:52:46.431Z"
   },
   {
    "duration": 4,
    "start_time": "2024-12-25T13:52:46.460Z"
   },
   {
    "duration": 8,
    "start_time": "2024-12-25T13:52:46.465Z"
   },
   {
    "duration": 12,
    "start_time": "2024-12-25T13:52:46.475Z"
   },
   {
    "duration": 25,
    "start_time": "2024-12-25T13:52:46.489Z"
   },
   {
    "duration": 6,
    "start_time": "2024-12-25T13:52:46.516Z"
   },
   {
    "duration": 8,
    "start_time": "2024-12-25T13:52:46.524Z"
   },
   {
    "duration": 7,
    "start_time": "2024-12-25T13:52:46.534Z"
   },
   {
    "duration": 15,
    "start_time": "2024-12-25T13:52:46.543Z"
   },
   {
    "duration": 11,
    "start_time": "2024-12-25T13:52:46.559Z"
   },
   {
    "duration": 6,
    "start_time": "2024-12-25T13:52:46.571Z"
   },
   {
    "duration": 171,
    "start_time": "2024-12-25T13:52:46.578Z"
   },
   {
    "duration": 132,
    "start_time": "2024-12-25T13:52:46.751Z"
   },
   {
    "duration": 10,
    "start_time": "2024-12-25T13:52:46.885Z"
   },
   {
    "duration": 16,
    "start_time": "2024-12-25T13:52:46.897Z"
   },
   {
    "duration": 14,
    "start_time": "2024-12-25T13:52:46.915Z"
   },
   {
    "duration": 297,
    "start_time": "2024-12-25T13:52:46.930Z"
   },
   {
    "duration": 209,
    "start_time": "2024-12-25T13:52:47.229Z"
   },
   {
    "duration": 300,
    "start_time": "2024-12-25T13:52:47.440Z"
   },
   {
    "duration": 229,
    "start_time": "2024-12-25T13:52:47.743Z"
   },
   {
    "duration": 310,
    "start_time": "2024-12-25T13:52:47.973Z"
   },
   {
    "duration": 118,
    "start_time": "2024-12-25T13:52:48.285Z"
   },
   {
    "duration": 162,
    "start_time": "2024-12-25T13:52:48.404Z"
   },
   {
    "duration": 4,
    "start_time": "2024-12-25T13:52:48.567Z"
   },
   {
    "duration": 18,
    "start_time": "2024-12-25T13:52:48.572Z"
   },
   {
    "duration": 159,
    "start_time": "2024-12-25T13:52:48.591Z"
   },
   {
    "duration": 157,
    "start_time": "2024-12-25T13:52:48.753Z"
   },
   {
    "duration": 4,
    "start_time": "2024-12-25T13:52:48.911Z"
   },
   {
    "duration": 322,
    "start_time": "2024-12-25T13:52:48.917Z"
   },
   {
    "duration": 114,
    "start_time": "2024-12-25T13:52:49.240Z"
   },
   {
    "duration": 6,
    "start_time": "2024-12-25T13:52:49.355Z"
   },
   {
    "duration": 28,
    "start_time": "2024-12-25T13:52:49.362Z"
   },
   {
    "duration": 10,
    "start_time": "2024-12-25T13:52:49.391Z"
   },
   {
    "duration": 13,
    "start_time": "2024-12-25T13:52:49.403Z"
   },
   {
    "duration": 47,
    "start_time": "2024-12-25T13:52:49.418Z"
   },
   {
    "duration": 13,
    "start_time": "2024-12-25T13:52:49.467Z"
   },
   {
    "duration": 6,
    "start_time": "2024-12-25T13:54:18.659Z"
   },
   {
    "duration": 1091,
    "start_time": "2024-12-25T13:54:24.040Z"
   },
   {
    "duration": 77,
    "start_time": "2024-12-25T13:54:25.133Z"
   },
   {
    "duration": 11,
    "start_time": "2024-12-25T13:54:25.212Z"
   },
   {
    "duration": 34,
    "start_time": "2024-12-25T13:54:25.225Z"
   },
   {
    "duration": 18,
    "start_time": "2024-12-25T13:54:25.261Z"
   },
   {
    "duration": 10,
    "start_time": "2024-12-25T13:54:25.280Z"
   },
   {
    "duration": 10,
    "start_time": "2024-12-25T13:54:25.292Z"
   },
   {
    "duration": 9,
    "start_time": "2024-12-25T13:54:25.303Z"
   },
   {
    "duration": 10,
    "start_time": "2024-12-25T13:54:25.313Z"
   },
   {
    "duration": 13,
    "start_time": "2024-12-25T13:54:25.325Z"
   },
   {
    "duration": 20,
    "start_time": "2024-12-25T13:54:25.339Z"
   },
   {
    "duration": 6,
    "start_time": "2024-12-25T13:54:25.360Z"
   },
   {
    "duration": 7,
    "start_time": "2024-12-25T13:54:25.368Z"
   },
   {
    "duration": 6,
    "start_time": "2024-12-25T13:54:25.376Z"
   },
   {
    "duration": 9,
    "start_time": "2024-12-25T13:54:25.384Z"
   },
   {
    "duration": 20,
    "start_time": "2024-12-25T13:54:25.394Z"
   },
   {
    "duration": 49,
    "start_time": "2024-12-25T13:54:25.415Z"
   },
   {
    "duration": 13,
    "start_time": "2024-12-25T13:54:25.465Z"
   },
   {
    "duration": 8,
    "start_time": "2024-12-25T13:54:25.480Z"
   },
   {
    "duration": 165,
    "start_time": "2024-12-25T13:54:25.490Z"
   },
   {
    "duration": 127,
    "start_time": "2024-12-25T13:54:25.657Z"
   },
   {
    "duration": 7,
    "start_time": "2024-12-25T13:54:25.786Z"
   },
   {
    "duration": 44,
    "start_time": "2024-12-25T13:54:25.795Z"
   },
   {
    "duration": 17,
    "start_time": "2024-12-25T13:54:25.840Z"
   },
   {
    "duration": 280,
    "start_time": "2024-12-25T13:54:25.859Z"
   },
   {
    "duration": 215,
    "start_time": "2024-12-25T13:54:26.141Z"
   },
   {
    "duration": 288,
    "start_time": "2024-12-25T13:54:26.358Z"
   },
   {
    "duration": 219,
    "start_time": "2024-12-25T13:54:26.655Z"
   },
   {
    "duration": 308,
    "start_time": "2024-12-25T13:54:26.877Z"
   },
   {
    "duration": 126,
    "start_time": "2024-12-25T13:54:27.186Z"
   },
   {
    "duration": 153,
    "start_time": "2024-12-25T13:54:27.313Z"
   },
   {
    "duration": 4,
    "start_time": "2024-12-25T13:54:27.467Z"
   },
   {
    "duration": 14,
    "start_time": "2024-12-25T13:54:27.473Z"
   },
   {
    "duration": 150,
    "start_time": "2024-12-25T13:54:27.488Z"
   },
   {
    "duration": 161,
    "start_time": "2024-12-25T13:54:27.639Z"
   },
   {
    "duration": 3,
    "start_time": "2024-12-25T13:54:27.802Z"
   },
   {
    "duration": 306,
    "start_time": "2024-12-25T13:54:27.807Z"
   },
   {
    "duration": 116,
    "start_time": "2024-12-25T13:54:28.115Z"
   },
   {
    "duration": 7,
    "start_time": "2024-12-25T13:54:28.233Z"
   },
   {
    "duration": 58,
    "start_time": "2024-12-25T13:54:28.241Z"
   },
   {
    "duration": 10,
    "start_time": "2024-12-25T13:54:28.300Z"
   },
   {
    "duration": 8,
    "start_time": "2024-12-25T13:54:28.311Z"
   },
   {
    "duration": 38,
    "start_time": "2024-12-25T13:54:28.321Z"
   },
   {
    "duration": 14,
    "start_time": "2024-12-25T13:54:28.361Z"
   },
   {
    "duration": 93,
    "start_time": "2024-12-25T13:54:47.686Z"
   },
   {
    "duration": 4,
    "start_time": "2024-12-25T13:54:51.684Z"
   },
   {
    "duration": 5,
    "start_time": "2024-12-25T13:55:26.074Z"
   },
   {
    "duration": 7,
    "start_time": "2024-12-25T13:55:28.093Z"
   },
   {
    "duration": 7,
    "start_time": "2024-12-25T13:56:23.700Z"
   },
   {
    "duration": 80,
    "start_time": "2024-12-25T13:57:15.476Z"
   },
   {
    "duration": 299,
    "start_time": "2024-12-25T13:57:17.559Z"
   },
   {
    "duration": 1113,
    "start_time": "2024-12-25T13:57:25.031Z"
   },
   {
    "duration": 77,
    "start_time": "2024-12-25T13:57:26.146Z"
   },
   {
    "duration": 12,
    "start_time": "2024-12-25T13:57:26.224Z"
   },
   {
    "duration": 10,
    "start_time": "2024-12-25T13:57:26.238Z"
   },
   {
    "duration": 7,
    "start_time": "2024-12-25T13:57:26.249Z"
   },
   {
    "duration": 14,
    "start_time": "2024-12-25T13:57:26.257Z"
   },
   {
    "duration": 7,
    "start_time": "2024-12-25T13:57:26.273Z"
   },
   {
    "duration": 8,
    "start_time": "2024-12-25T13:57:26.281Z"
   },
   {
    "duration": 9,
    "start_time": "2024-12-25T13:57:26.290Z"
   },
   {
    "duration": 3,
    "start_time": "2024-12-25T13:57:26.302Z"
   },
   {
    "duration": 7,
    "start_time": "2024-12-25T13:57:26.306Z"
   },
   {
    "duration": 10,
    "start_time": "2024-12-25T13:57:26.315Z"
   },
   {
    "duration": 10,
    "start_time": "2024-12-25T13:57:26.326Z"
   },
   {
    "duration": 17,
    "start_time": "2024-12-25T13:57:26.337Z"
   },
   {
    "duration": 9,
    "start_time": "2024-12-25T13:57:26.356Z"
   },
   {
    "duration": 4,
    "start_time": "2024-12-25T13:57:26.366Z"
   },
   {
    "duration": 11,
    "start_time": "2024-12-25T13:57:26.371Z"
   },
   {
    "duration": 9,
    "start_time": "2024-12-25T13:57:26.384Z"
   },
   {
    "duration": 8,
    "start_time": "2024-12-25T13:57:26.395Z"
   },
   {
    "duration": 182,
    "start_time": "2024-12-25T13:57:26.404Z"
   },
   {
    "duration": 117,
    "start_time": "2024-12-25T13:57:26.588Z"
   },
   {
    "duration": 8,
    "start_time": "2024-12-25T13:57:26.707Z"
   },
   {
    "duration": 16,
    "start_time": "2024-12-25T13:57:26.717Z"
   },
   {
    "duration": 20,
    "start_time": "2024-12-25T13:57:26.734Z"
   },
   {
    "duration": 299,
    "start_time": "2024-12-25T13:57:26.755Z"
   },
   {
    "duration": 208,
    "start_time": "2024-12-25T13:57:27.055Z"
   },
   {
    "duration": 294,
    "start_time": "2024-12-25T13:57:27.265Z"
   },
   {
    "duration": 229,
    "start_time": "2024-12-25T13:57:27.562Z"
   },
   {
    "duration": 330,
    "start_time": "2024-12-25T13:57:27.793Z"
   },
   {
    "duration": 123,
    "start_time": "2024-12-25T13:57:28.124Z"
   },
   {
    "duration": 163,
    "start_time": "2024-12-25T13:57:28.249Z"
   },
   {
    "duration": 4,
    "start_time": "2024-12-25T13:57:28.414Z"
   },
   {
    "duration": 25,
    "start_time": "2024-12-25T13:57:28.420Z"
   },
   {
    "duration": 158,
    "start_time": "2024-12-25T13:57:28.446Z"
   },
   {
    "duration": 159,
    "start_time": "2024-12-25T13:57:28.606Z"
   },
   {
    "duration": 5,
    "start_time": "2024-12-25T13:57:28.766Z"
   },
   {
    "duration": 313,
    "start_time": "2024-12-25T13:57:28.773Z"
   },
   {
    "duration": 122,
    "start_time": "2024-12-25T13:57:29.088Z"
   },
   {
    "duration": 6,
    "start_time": "2024-12-25T13:57:29.212Z"
   },
   {
    "duration": 39,
    "start_time": "2024-12-25T13:57:29.219Z"
   },
   {
    "duration": 13,
    "start_time": "2024-12-25T13:57:29.264Z"
   },
   {
    "duration": 8,
    "start_time": "2024-12-25T13:57:29.279Z"
   },
   {
    "duration": 30,
    "start_time": "2024-12-25T13:57:29.288Z"
   },
   {
    "duration": 40,
    "start_time": "2024-12-25T13:57:29.319Z"
   },
   {
    "duration": 132,
    "start_time": "2024-12-25T13:59:24.628Z"
   },
   {
    "duration": 148,
    "start_time": "2024-12-25T13:59:30.483Z"
   },
   {
    "duration": 7,
    "start_time": "2024-12-25T14:01:45.793Z"
   },
   {
    "duration": 1062,
    "start_time": "2024-12-25T14:02:03.246Z"
   },
   {
    "duration": 81,
    "start_time": "2024-12-25T14:02:04.310Z"
   },
   {
    "duration": 16,
    "start_time": "2024-12-25T14:02:04.395Z"
   },
   {
    "duration": 37,
    "start_time": "2024-12-25T14:02:04.414Z"
   },
   {
    "duration": 33,
    "start_time": "2024-12-25T14:02:04.452Z"
   },
   {
    "duration": 30,
    "start_time": "2024-12-25T14:02:04.486Z"
   },
   {
    "duration": 22,
    "start_time": "2024-12-25T14:02:04.518Z"
   },
   {
    "duration": 24,
    "start_time": "2024-12-25T14:02:04.542Z"
   },
   {
    "duration": 10,
    "start_time": "2024-12-25T14:02:04.567Z"
   },
   {
    "duration": 22,
    "start_time": "2024-12-25T14:02:04.579Z"
   },
   {
    "duration": 21,
    "start_time": "2024-12-25T14:02:04.602Z"
   },
   {
    "duration": 20,
    "start_time": "2024-12-25T14:02:04.624Z"
   },
   {
    "duration": 35,
    "start_time": "2024-12-25T14:02:04.645Z"
   },
   {
    "duration": 77,
    "start_time": "2024-12-25T14:02:04.682Z"
   },
   {
    "duration": 71,
    "start_time": "2024-12-25T14:02:04.760Z"
   },
   {
    "duration": 46,
    "start_time": "2024-12-25T14:02:04.832Z"
   },
   {
    "duration": 64,
    "start_time": "2024-12-25T14:02:04.880Z"
   },
   {
    "duration": 68,
    "start_time": "2024-12-25T14:02:04.945Z"
   },
   {
    "duration": 42,
    "start_time": "2024-12-25T14:02:05.014Z"
   },
   {
    "duration": 183,
    "start_time": "2024-12-25T14:02:05.057Z"
   },
   {
    "duration": 113,
    "start_time": "2024-12-25T14:02:05.241Z"
   },
   {
    "duration": 7,
    "start_time": "2024-12-25T14:02:05.356Z"
   },
   {
    "duration": 52,
    "start_time": "2024-12-25T14:02:05.364Z"
   },
   {
    "duration": 27,
    "start_time": "2024-12-25T14:02:05.418Z"
   },
   {
    "duration": 322,
    "start_time": "2024-12-25T14:02:05.446Z"
   },
   {
    "duration": 213,
    "start_time": "2024-12-25T14:02:05.770Z"
   },
   {
    "duration": 279,
    "start_time": "2024-12-25T14:02:05.984Z"
   },
   {
    "duration": 216,
    "start_time": "2024-12-25T14:02:06.267Z"
   },
   {
    "duration": 288,
    "start_time": "2024-12-25T14:02:06.485Z"
   },
   {
    "duration": 132,
    "start_time": "2024-12-25T14:02:06.774Z"
   },
   {
    "duration": 161,
    "start_time": "2024-12-25T14:02:06.908Z"
   },
   {
    "duration": 4,
    "start_time": "2024-12-25T14:02:07.071Z"
   },
   {
    "duration": 11,
    "start_time": "2024-12-25T14:02:07.077Z"
   },
   {
    "duration": 165,
    "start_time": "2024-12-25T14:02:07.089Z"
   },
   {
    "duration": 153,
    "start_time": "2024-12-25T14:02:07.255Z"
   },
   {
    "duration": 4,
    "start_time": "2024-12-25T14:02:07.410Z"
   },
   {
    "duration": 306,
    "start_time": "2024-12-25T14:02:07.416Z"
   },
   {
    "duration": 112,
    "start_time": "2024-12-25T14:02:07.724Z"
   },
   {
    "duration": 17,
    "start_time": "2024-12-25T14:02:07.837Z"
   },
   {
    "duration": 28,
    "start_time": "2024-12-25T14:02:07.855Z"
   },
   {
    "duration": 10,
    "start_time": "2024-12-25T14:02:07.885Z"
   },
   {
    "duration": 9,
    "start_time": "2024-12-25T14:02:07.896Z"
   },
   {
    "duration": 52,
    "start_time": "2024-12-25T14:02:07.906Z"
   },
   {
    "duration": 12,
    "start_time": "2024-12-25T14:02:07.960Z"
   },
   {
    "duration": 1075,
    "start_time": "2024-12-25T14:17:22.045Z"
   },
   {
    "duration": 77,
    "start_time": "2024-12-25T14:17:23.122Z"
   },
   {
    "duration": 12,
    "start_time": "2024-12-25T14:17:23.203Z"
   },
   {
    "duration": 24,
    "start_time": "2024-12-25T14:17:23.216Z"
   },
   {
    "duration": 40,
    "start_time": "2024-12-25T14:17:23.242Z"
   },
   {
    "duration": 34,
    "start_time": "2024-12-25T14:17:23.283Z"
   },
   {
    "duration": 31,
    "start_time": "2024-12-25T14:17:23.319Z"
   },
   {
    "duration": 19,
    "start_time": "2024-12-25T14:17:23.351Z"
   },
   {
    "duration": 27,
    "start_time": "2024-12-25T14:17:23.372Z"
   },
   {
    "duration": 33,
    "start_time": "2024-12-25T14:17:23.401Z"
   },
   {
    "duration": 25,
    "start_time": "2024-12-25T14:17:23.436Z"
   },
   {
    "duration": 30,
    "start_time": "2024-12-25T14:17:23.463Z"
   },
   {
    "duration": 8,
    "start_time": "2024-12-25T14:17:23.496Z"
   },
   {
    "duration": 7,
    "start_time": "2024-12-25T14:17:23.505Z"
   },
   {
    "duration": 10,
    "start_time": "2024-12-25T14:17:23.514Z"
   },
   {
    "duration": 7,
    "start_time": "2024-12-25T14:17:23.525Z"
   },
   {
    "duration": 33,
    "start_time": "2024-12-25T14:17:23.533Z"
   },
   {
    "duration": 34,
    "start_time": "2024-12-25T14:17:23.568Z"
   },
   {
    "duration": 17,
    "start_time": "2024-12-25T14:17:23.603Z"
   },
   {
    "duration": 168,
    "start_time": "2024-12-25T14:17:23.622Z"
   },
   {
    "duration": 115,
    "start_time": "2024-12-25T14:17:23.792Z"
   },
   {
    "duration": 8,
    "start_time": "2024-12-25T14:17:23.909Z"
   },
   {
    "duration": 44,
    "start_time": "2024-12-25T14:17:23.918Z"
   },
   {
    "duration": 34,
    "start_time": "2024-12-25T14:17:23.964Z"
   },
   {
    "duration": 281,
    "start_time": "2024-12-25T14:17:24.000Z"
   },
   {
    "duration": 236,
    "start_time": "2024-12-25T14:17:24.282Z"
   },
   {
    "duration": 320,
    "start_time": "2024-12-25T14:17:24.520Z"
   },
   {
    "duration": 203,
    "start_time": "2024-12-25T14:17:24.853Z"
   },
   {
    "duration": 299,
    "start_time": "2024-12-25T14:17:25.057Z"
   },
   {
    "duration": 117,
    "start_time": "2024-12-25T14:17:25.359Z"
   },
   {
    "duration": 170,
    "start_time": "2024-12-25T14:17:25.478Z"
   },
   {
    "duration": 7,
    "start_time": "2024-12-25T14:17:25.650Z"
   },
   {
    "duration": 9,
    "start_time": "2024-12-25T14:17:25.659Z"
   },
   {
    "duration": 169,
    "start_time": "2024-12-25T14:17:25.670Z"
   },
   {
    "duration": 155,
    "start_time": "2024-12-25T14:17:25.841Z"
   },
   {
    "duration": 5,
    "start_time": "2024-12-25T14:17:25.998Z"
   },
   {
    "duration": 316,
    "start_time": "2024-12-25T14:17:26.004Z"
   },
   {
    "duration": 113,
    "start_time": "2024-12-25T14:17:26.321Z"
   },
   {
    "duration": 5,
    "start_time": "2024-12-25T14:17:26.436Z"
   },
   {
    "duration": 24,
    "start_time": "2024-12-25T14:17:26.454Z"
   },
   {
    "duration": 11,
    "start_time": "2024-12-25T14:17:26.479Z"
   },
   {
    "duration": 9,
    "start_time": "2024-12-25T14:17:26.491Z"
   },
   {
    "duration": 53,
    "start_time": "2024-12-25T14:17:26.502Z"
   },
   {
    "duration": 14,
    "start_time": "2024-12-25T14:17:26.557Z"
   },
   {
    "duration": 1331,
    "start_time": "2024-12-26T11:18:09.965Z"
   },
   {
    "duration": 252,
    "start_time": "2024-12-26T11:18:11.298Z"
   },
   {
    "duration": 14,
    "start_time": "2024-12-26T11:18:11.551Z"
   },
   {
    "duration": 17,
    "start_time": "2024-12-26T11:18:11.566Z"
   },
   {
    "duration": 37,
    "start_time": "2024-12-26T11:18:11.585Z"
   },
   {
    "duration": 24,
    "start_time": "2024-12-26T11:18:11.624Z"
   },
   {
    "duration": 39,
    "start_time": "2024-12-26T11:18:11.650Z"
   },
   {
    "duration": 8,
    "start_time": "2024-12-26T11:18:11.691Z"
   },
   {
    "duration": 41,
    "start_time": "2024-12-26T11:18:11.701Z"
   },
   {
    "duration": 4,
    "start_time": "2024-12-26T11:18:11.745Z"
   },
   {
    "duration": 17,
    "start_time": "2024-12-26T11:18:11.750Z"
   },
   {
    "duration": 6,
    "start_time": "2024-12-26T11:18:11.770Z"
   },
   {
    "duration": 16,
    "start_time": "2024-12-26T11:18:11.778Z"
   },
   {
    "duration": 7,
    "start_time": "2024-12-26T11:18:11.795Z"
   },
   {
    "duration": 17,
    "start_time": "2024-12-26T11:18:11.804Z"
   },
   {
    "duration": 17,
    "start_time": "2024-12-26T11:18:11.822Z"
   },
   {
    "duration": 18,
    "start_time": "2024-12-26T11:18:11.841Z"
   },
   {
    "duration": 32,
    "start_time": "2024-12-26T11:18:11.861Z"
   },
   {
    "duration": 9,
    "start_time": "2024-12-26T11:18:11.895Z"
   },
   {
    "duration": 158,
    "start_time": "2024-12-26T11:18:11.906Z"
   },
   {
    "duration": 130,
    "start_time": "2024-12-26T11:18:12.066Z"
   },
   {
    "duration": 8,
    "start_time": "2024-12-26T11:18:12.197Z"
   },
   {
    "duration": 21,
    "start_time": "2024-12-26T11:18:12.207Z"
   },
   {
    "duration": 75,
    "start_time": "2024-12-26T11:18:12.237Z"
   },
   {
    "duration": 308,
    "start_time": "2024-12-26T11:18:12.314Z"
   },
   {
    "duration": 241,
    "start_time": "2024-12-26T11:18:12.624Z"
   },
   {
    "duration": 353,
    "start_time": "2024-12-26T11:18:12.867Z"
   },
   {
    "duration": 239,
    "start_time": "2024-12-26T11:18:13.223Z"
   },
   {
    "duration": 312,
    "start_time": "2024-12-26T11:18:13.464Z"
   },
   {
    "duration": 132,
    "start_time": "2024-12-26T11:18:13.778Z"
   },
   {
    "duration": 169,
    "start_time": "2024-12-26T11:18:13.912Z"
   },
   {
    "duration": 4,
    "start_time": "2024-12-26T11:18:14.083Z"
   },
   {
    "duration": 10,
    "start_time": "2024-12-26T11:18:14.089Z"
   },
   {
    "duration": 179,
    "start_time": "2024-12-26T11:18:14.101Z"
   },
   {
    "duration": 194,
    "start_time": "2024-12-26T11:18:14.282Z"
   },
   {
    "duration": 4,
    "start_time": "2024-12-26T11:18:14.478Z"
   },
   {
    "duration": 331,
    "start_time": "2024-12-26T11:18:14.484Z"
   },
   {
    "duration": 133,
    "start_time": "2024-12-26T11:18:14.817Z"
   },
   {
    "duration": 7,
    "start_time": "2024-12-26T11:18:14.952Z"
   },
   {
    "duration": 26,
    "start_time": "2024-12-26T11:18:14.960Z"
   },
   {
    "duration": 11,
    "start_time": "2024-12-26T11:18:14.988Z"
   },
   {
    "duration": 39,
    "start_time": "2024-12-26T11:18:15.000Z"
   },
   {
    "duration": 55,
    "start_time": "2024-12-26T11:18:15.041Z"
   },
   {
    "duration": 20,
    "start_time": "2024-12-26T11:18:15.098Z"
   },
   {
    "duration": 1181,
    "start_time": "2024-12-26T11:21:32.530Z"
   },
   {
    "duration": 79,
    "start_time": "2024-12-26T11:21:33.713Z"
   },
   {
    "duration": 13,
    "start_time": "2024-12-26T11:21:33.794Z"
   },
   {
    "duration": 24,
    "start_time": "2024-12-26T11:21:33.808Z"
   },
   {
    "duration": 14,
    "start_time": "2024-12-26T11:21:33.834Z"
   },
   {
    "duration": 23,
    "start_time": "2024-12-26T11:21:33.850Z"
   },
   {
    "duration": 24,
    "start_time": "2024-12-26T11:21:33.875Z"
   },
   {
    "duration": 16,
    "start_time": "2024-12-26T11:21:33.901Z"
   },
   {
    "duration": 16,
    "start_time": "2024-12-26T11:21:33.918Z"
   },
   {
    "duration": 5,
    "start_time": "2024-12-26T11:21:33.937Z"
   },
   {
    "duration": 24,
    "start_time": "2024-12-26T11:21:33.943Z"
   },
   {
    "duration": 11,
    "start_time": "2024-12-26T11:21:33.970Z"
   },
   {
    "duration": 8,
    "start_time": "2024-12-26T11:21:33.983Z"
   },
   {
    "duration": 39,
    "start_time": "2024-12-26T11:21:33.993Z"
   },
   {
    "duration": 26,
    "start_time": "2024-12-26T11:21:34.034Z"
   },
   {
    "duration": 41,
    "start_time": "2024-12-26T11:21:34.062Z"
   },
   {
    "duration": 41,
    "start_time": "2024-12-26T11:21:34.105Z"
   },
   {
    "duration": 40,
    "start_time": "2024-12-26T11:21:34.148Z"
   },
   {
    "duration": 47,
    "start_time": "2024-12-26T11:21:34.190Z"
   },
   {
    "duration": 198,
    "start_time": "2024-12-26T11:21:34.239Z"
   },
   {
    "duration": 141,
    "start_time": "2024-12-26T11:21:34.439Z"
   },
   {
    "duration": 9,
    "start_time": "2024-12-26T11:21:34.582Z"
   },
   {
    "duration": 36,
    "start_time": "2024-12-26T11:21:34.592Z"
   },
   {
    "duration": 44,
    "start_time": "2024-12-26T11:21:34.629Z"
   },
   {
    "duration": 344,
    "start_time": "2024-12-26T11:21:34.674Z"
   },
   {
    "duration": 238,
    "start_time": "2024-12-26T11:21:35.019Z"
   },
   {
    "duration": 316,
    "start_time": "2024-12-26T11:21:35.259Z"
   },
   {
    "duration": 258,
    "start_time": "2024-12-26T11:21:35.579Z"
   },
   {
    "duration": 325,
    "start_time": "2024-12-26T11:21:35.839Z"
   },
   {
    "duration": 134,
    "start_time": "2024-12-26T11:21:36.166Z"
   },
   {
    "duration": 181,
    "start_time": "2024-12-26T11:21:36.302Z"
   },
   {
    "duration": 5,
    "start_time": "2024-12-26T11:21:36.484Z"
   },
   {
    "duration": 34,
    "start_time": "2024-12-26T11:21:36.491Z"
   },
   {
    "duration": 168,
    "start_time": "2024-12-26T11:21:36.527Z"
   },
   {
    "duration": 194,
    "start_time": "2024-12-26T11:21:36.697Z"
   },
   {
    "duration": 6,
    "start_time": "2024-12-26T11:21:36.894Z"
   },
   {
    "duration": 344,
    "start_time": "2024-12-26T11:21:36.902Z"
   },
   {
    "duration": 125,
    "start_time": "2024-12-26T11:21:37.248Z"
   },
   {
    "duration": 6,
    "start_time": "2024-12-26T11:21:37.375Z"
   },
   {
    "duration": 76,
    "start_time": "2024-12-26T11:21:37.382Z"
   },
   {
    "duration": 11,
    "start_time": "2024-12-26T11:21:37.460Z"
   },
   {
    "duration": 25,
    "start_time": "2024-12-26T11:21:37.474Z"
   },
   {
    "duration": 42,
    "start_time": "2024-12-26T11:21:37.501Z"
   },
   {
    "duration": 15,
    "start_time": "2024-12-26T11:21:37.545Z"
   },
   {
    "duration": 1160,
    "start_time": "2024-12-26T11:31:04.943Z"
   },
   {
    "duration": 79,
    "start_time": "2024-12-26T11:31:06.105Z"
   },
   {
    "duration": 12,
    "start_time": "2024-12-26T11:31:06.186Z"
   },
   {
    "duration": 25,
    "start_time": "2024-12-26T11:31:06.200Z"
   },
   {
    "duration": 18,
    "start_time": "2024-12-26T11:31:06.226Z"
   },
   {
    "duration": 49,
    "start_time": "2024-12-26T11:31:06.246Z"
   },
   {
    "duration": 52,
    "start_time": "2024-12-26T11:31:06.296Z"
   },
   {
    "duration": 44,
    "start_time": "2024-12-26T11:31:06.349Z"
   },
   {
    "duration": 28,
    "start_time": "2024-12-26T11:31:06.394Z"
   },
   {
    "duration": 19,
    "start_time": "2024-12-26T11:31:06.425Z"
   },
   {
    "duration": 50,
    "start_time": "2024-12-26T11:31:06.445Z"
   },
   {
    "duration": 55,
    "start_time": "2024-12-26T11:31:06.497Z"
   },
   {
    "duration": 49,
    "start_time": "2024-12-26T11:31:06.554Z"
   },
   {
    "duration": 21,
    "start_time": "2024-12-26T11:31:06.605Z"
   },
   {
    "duration": 26,
    "start_time": "2024-12-26T11:31:06.627Z"
   },
   {
    "duration": 43,
    "start_time": "2024-12-26T11:31:06.655Z"
   },
   {
    "duration": 47,
    "start_time": "2024-12-26T11:31:06.700Z"
   },
   {
    "duration": 47,
    "start_time": "2024-12-26T11:31:06.748Z"
   },
   {
    "duration": 8,
    "start_time": "2024-12-26T11:31:06.797Z"
   },
   {
    "duration": 188,
    "start_time": "2024-12-26T11:31:06.807Z"
   },
   {
    "duration": 127,
    "start_time": "2024-12-26T11:31:06.996Z"
   },
   {
    "duration": 18,
    "start_time": "2024-12-26T11:31:07.125Z"
   },
   {
    "duration": 27,
    "start_time": "2024-12-26T11:31:07.144Z"
   },
   {
    "duration": 52,
    "start_time": "2024-12-26T11:31:07.172Z"
   },
   {
    "duration": 329,
    "start_time": "2024-12-26T11:31:07.226Z"
   },
   {
    "duration": 221,
    "start_time": "2024-12-26T11:31:07.557Z"
   },
   {
    "duration": 278,
    "start_time": "2024-12-26T11:31:07.780Z"
   },
   {
    "duration": 262,
    "start_time": "2024-12-26T11:31:08.062Z"
   },
   {
    "duration": 326,
    "start_time": "2024-12-26T11:31:08.325Z"
   },
   {
    "duration": 143,
    "start_time": "2024-12-26T11:31:08.653Z"
   },
   {
    "duration": 173,
    "start_time": "2024-12-26T11:31:08.798Z"
   },
   {
    "duration": 5,
    "start_time": "2024-12-26T11:31:08.974Z"
   },
   {
    "duration": 11,
    "start_time": "2024-12-26T11:31:08.981Z"
   },
   {
    "duration": 183,
    "start_time": "2024-12-26T11:31:08.994Z"
   },
   {
    "duration": 165,
    "start_time": "2024-12-26T11:31:09.179Z"
   },
   {
    "duration": 5,
    "start_time": "2024-12-26T11:31:09.346Z"
   },
   {
    "duration": 319,
    "start_time": "2024-12-26T11:31:09.353Z"
   },
   {
    "duration": 144,
    "start_time": "2024-12-26T11:31:09.674Z"
   },
   {
    "duration": 17,
    "start_time": "2024-12-26T11:31:09.820Z"
   },
   {
    "duration": 27,
    "start_time": "2024-12-26T11:31:09.839Z"
   },
   {
    "duration": 11,
    "start_time": "2024-12-26T11:31:09.868Z"
   },
   {
    "duration": 14,
    "start_time": "2024-12-26T11:31:09.881Z"
   },
   {
    "duration": 58,
    "start_time": "2024-12-26T11:31:09.897Z"
   },
   {
    "duration": 15,
    "start_time": "2024-12-26T11:31:09.957Z"
   },
   {
    "duration": 1141,
    "start_time": "2025-01-20T09:52:19.085Z"
   },
   {
    "duration": 233,
    "start_time": "2025-01-20T09:52:21.410Z"
   },
   {
    "duration": 1138,
    "start_time": "2025-04-09T18:30:18.886Z"
   },
   {
    "duration": 76,
    "start_time": "2025-04-09T18:30:20.026Z"
   },
   {
    "duration": 12,
    "start_time": "2025-04-09T18:30:20.103Z"
   },
   {
    "duration": 123,
    "start_time": "2025-04-09T18:30:20.117Z"
   },
   {
    "duration": 15,
    "start_time": "2025-04-09T18:30:20.241Z"
   },
   {
    "duration": 18,
    "start_time": "2025-04-09T18:30:20.258Z"
   },
   {
    "duration": 9,
    "start_time": "2025-04-09T18:30:20.278Z"
   },
   {
    "duration": 15,
    "start_time": "2025-04-09T18:30:20.289Z"
   },
   {
    "duration": 32,
    "start_time": "2025-04-09T18:30:20.306Z"
   },
   {
    "duration": 6,
    "start_time": "2025-04-09T18:30:20.342Z"
   },
   {
    "duration": 18,
    "start_time": "2025-04-09T18:30:20.350Z"
   },
   {
    "duration": 7,
    "start_time": "2025-04-09T18:30:20.369Z"
   },
   {
    "duration": 10,
    "start_time": "2025-04-09T18:30:20.378Z"
   },
   {
    "duration": 14,
    "start_time": "2025-04-09T18:30:20.390Z"
   },
   {
    "duration": 15,
    "start_time": "2025-04-09T18:30:20.405Z"
   },
   {
    "duration": 14,
    "start_time": "2025-04-09T18:30:20.422Z"
   },
   {
    "duration": 28,
    "start_time": "2025-04-09T18:30:20.438Z"
   },
   {
    "duration": 31,
    "start_time": "2025-04-09T18:30:20.468Z"
   },
   {
    "duration": 9,
    "start_time": "2025-04-09T18:30:20.500Z"
   },
   {
    "duration": 150,
    "start_time": "2025-04-09T18:30:20.510Z"
   },
   {
    "duration": 125,
    "start_time": "2025-04-09T18:30:20.662Z"
   },
   {
    "duration": 7,
    "start_time": "2025-04-09T18:30:20.789Z"
   },
   {
    "duration": 105,
    "start_time": "2025-04-09T18:30:20.797Z"
   },
   {
    "duration": 23,
    "start_time": "2025-04-09T18:30:20.904Z"
   },
   {
    "duration": 373,
    "start_time": "2025-04-09T18:30:20.929Z"
   },
   {
    "duration": 215,
    "start_time": "2025-04-09T18:30:21.304Z"
   },
   {
    "duration": 260,
    "start_time": "2025-04-09T18:30:21.521Z"
   },
   {
    "duration": 229,
    "start_time": "2025-04-09T18:30:21.786Z"
   },
   {
    "duration": 353,
    "start_time": "2025-04-09T18:30:22.018Z"
   },
   {
    "duration": 129,
    "start_time": "2025-04-09T18:30:22.375Z"
   },
   {
    "duration": 165,
    "start_time": "2025-04-09T18:30:22.506Z"
   },
   {
    "duration": 5,
    "start_time": "2025-04-09T18:30:22.673Z"
   },
   {
    "duration": 18,
    "start_time": "2025-04-09T18:30:22.680Z"
   },
   {
    "duration": 187,
    "start_time": "2025-04-09T18:30:22.700Z"
   },
   {
    "duration": 157,
    "start_time": "2025-04-09T18:30:22.888Z"
   },
   {
    "duration": 4,
    "start_time": "2025-04-09T18:30:23.047Z"
   },
   {
    "duration": 306,
    "start_time": "2025-04-09T18:30:23.053Z"
   },
   {
    "duration": 139,
    "start_time": "2025-04-09T18:30:23.361Z"
   },
   {
    "duration": 6,
    "start_time": "2025-04-09T18:30:23.501Z"
   },
   {
    "duration": 24,
    "start_time": "2025-04-09T18:30:23.508Z"
   },
   {
    "duration": 10,
    "start_time": "2025-04-09T18:30:23.533Z"
   },
   {
    "duration": 33,
    "start_time": "2025-04-09T18:30:23.544Z"
   },
   {
    "duration": 30,
    "start_time": "2025-04-09T18:30:23.578Z"
   },
   {
    "duration": 16,
    "start_time": "2025-04-09T18:30:23.609Z"
   }
  ],
  "kernelspec": {
   "display_name": "Python 3 (ipykernel)",
   "language": "python",
   "name": "python3"
  },
  "language_info": {
   "codemirror_mode": {
    "name": "ipython",
    "version": 3
   },
   "file_extension": ".py",
   "mimetype": "text/x-python",
   "name": "python",
   "nbconvert_exporter": "python",
   "pygments_lexer": "ipython3",
   "version": "3.9.5"
  },
  "toc": {
   "base_numbering": 1,
   "nav_menu": {},
   "number_sections": true,
   "sideBar": true,
   "skip_h1_title": true,
   "title_cell": "Table of Contents",
   "title_sidebar": "Contents",
   "toc_cell": false,
   "toc_position": {},
   "toc_section_display": true,
   "toc_window_display": false
  }
 },
 "nbformat": 4,
 "nbformat_minor": 2
}
